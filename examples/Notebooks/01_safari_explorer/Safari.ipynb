{
 "cells": [
  {
   "cell_type": "markdown",
   "metadata": {},
   "source": [
    "# Creating and exploring the OWL/RL + SWRL Ontologies using Cognitum PyOctopus.Tentacles"
   ]
  },
  {
   "cell_type": "markdown",
   "metadata": {},
   "source": [
    "## Setting up the environment\n",
    "Initialization of the Ontology editor in Jupyter Notebook"
   ]
  },
  {
   "cell_type": "code",
   "execution_count": 1,
   "metadata": {},
   "outputs": [
    {
     "data": {
      "application/javascript": [
       "/* jshint browser: true */\n",
       "\n",
       "(function () {\n",
       "\n",
       "// We'll copy the properties below into the mirror div.\n",
       "// Note that some browsers, such as Firefox, do not concatenate properties\n",
       "// into their shorthand (e.g. padding-top, padding-bottom etc. -> padding),\n",
       "// so we have to list every single property explicitly.\n",
       "var properties = [\n",
       "  'direction',  // RTL support\n",
       "  'boxSizing',\n",
       "  'width',  // on Chrome and IE, exclude the scrollbar, so the mirror div wraps exactly as the textarea does\n",
       "  'height',\n",
       "  'overflowX',\n",
       "  'overflowY',  // copy the scrollbar for IE\n",
       "\n",
       "  'borderTopWidth',\n",
       "  'borderRightWidth',\n",
       "  'borderBottomWidth',\n",
       "  'borderLeftWidth',\n",
       "  'borderStyle',\n",
       "\n",
       "  'paddingTop',\n",
       "  'paddingRight',\n",
       "  'paddingBottom',\n",
       "  'paddingLeft',\n",
       "\n",
       "  // https://developer.mozilla.org/en-US/docs/Web/CSS/font\n",
       "  'fontStyle',\n",
       "  'fontVariant',\n",
       "  'fontWeight',\n",
       "  'fontStretch',\n",
       "  'fontSize',\n",
       "  'fontSizeAdjust',\n",
       "  'lineHeight',\n",
       "  'fontFamily',\n",
       "\n",
       "  'textAlign',\n",
       "  'textTransform',\n",
       "  'textIndent',\n",
       "  'textDecoration',  // might not make a difference, but better be safe\n",
       "\n",
       "  'letterSpacing',\n",
       "  'wordSpacing',\n",
       "\n",
       "  'tabSize',\n",
       "  'MozTabSize'\n",
       "\n",
       "];\n",
       "\n",
       "var isBrowser = (typeof window !== 'undefined');\n",
       "var isFirefox = (isBrowser && window.mozInnerScreenX != null);\n",
       "\n",
       "function getCaretCoordinates(element, position, options) {\n",
       "  if (!isBrowser) {\n",
       "    throw new Error('textarea-caret-position#getCaretCoordinates should only be called in a browser');\n",
       "  }\n",
       "\n",
       "  var debug = options && options.debug || false;\n",
       "  if (debug) {\n",
       "    var el = document.querySelector('#input-textarea-caret-position-mirror-div');\n",
       "    if (el) el.parentNode.removeChild(el);\n",
       "  }\n",
       "\n",
       "  // The mirror div will replicate the textarea's style\n",
       "  var div = document.createElement('div');\n",
       "  div.id = 'input-textarea-caret-position-mirror-div';\n",
       "  document.body.appendChild(div);\n",
       "\n",
       "  var style = div.style;\n",
       "  var computed = window.getComputedStyle ? window.getComputedStyle(element) : element.currentStyle;  // currentStyle for IE < 9\n",
       "  var isInput = element.nodeName === 'INPUT';\n",
       "\n",
       "  // Default textarea styles\n",
       "  style.whiteSpace = 'pre-wrap';\n",
       "  if (!isInput)\n",
       "    style.wordWrap = 'break-word';  // only for textarea-s\n",
       "\n",
       "  // Position off-screen\n",
       "  style.position = 'absolute';  // required to return coordinates properly\n",
       "  if (!debug)\n",
       "    style.visibility = 'hidden';  // not 'display: none' because we want rendering\n",
       "\n",
       "  // Transfer the element's properties to the div\n",
       "  properties.forEach(function (prop) {\n",
       "    if (isInput && prop === 'lineHeight') {\n",
       "      // Special case for <input>s because text is rendered centered and line height may be != height\n",
       "      if (computed.boxSizing === \"border-box\") {\n",
       "        var height = parseInt(computed.height);\n",
       "        var outerHeight =\n",
       "          parseInt(computed.paddingTop) +\n",
       "          parseInt(computed.paddingBottom) +\n",
       "          parseInt(computed.borderTopWidth) +\n",
       "          parseInt(computed.borderBottomWidth);\n",
       "        var targetHeight = outerHeight + parseInt(computed.lineHeight);\n",
       "        if (height > targetHeight) {\n",
       "          style.lineHeight = height - outerHeight + \"px\";\n",
       "        } else if (height === targetHeight) {\n",
       "          style.lineHeight = computed.lineHeight;\n",
       "        } else {\n",
       "          style.lineHeight = 0;\n",
       "        }\n",
       "      } else {\n",
       "        style.lineHeight = computed.height;\n",
       "      }\n",
       "    } else {\n",
       "      style[prop] = computed[prop];\n",
       "    }\n",
       "  });\n",
       "\n",
       "  if (isFirefox) {\n",
       "    // Firefox lies about the overflow property for textareas: https://bugzilla.mozilla.org/show_bug.cgi?id=984275\n",
       "    if (element.scrollHeight > parseInt(computed.height))\n",
       "      style.overflowY = 'scroll';\n",
       "  } else {\n",
       "    style.overflow = 'hidden';  // for Chrome to not render a scrollbar; IE keeps overflowY = 'scroll'\n",
       "  }\n",
       "\n",
       "  div.textContent = element.value.substring(0, position);\n",
       "  // The second special handling for input type=\"text\" vs textarea:\n",
       "  // spaces need to be replaced with non-breaking spaces - http://stackoverflow.com/a/13402035/1269037\n",
       "  if (isInput)\n",
       "    div.textContent = div.textContent.replace(/\\s/g, '\\u00a0');\n",
       "\n",
       "  var span = document.createElement('span');\n",
       "  // Wrapping must be replicated *exactly*, including when a long word gets\n",
       "  // onto the next line, with whitespace at the end of the line before (#7).\n",
       "  // The  *only* reliable way to do that is to copy the *entire* rest of the\n",
       "  // textarea's content into the <span> created at the caret position.\n",
       "  // For inputs, just '.' would be enough, but no need to bother.\n",
       "  span.textContent = element.value.substring(position) || '.';  // || because a completely empty faux span doesn't render at all\n",
       "  div.appendChild(span);\n",
       "\n",
       "  var coordinates = {\n",
       "    top: span.offsetTop + parseInt(computed['borderTopWidth']),\n",
       "    left: span.offsetLeft + parseInt(computed['borderLeftWidth']),\n",
       "    height: parseInt(computed['lineHeight'])\n",
       "  };\n",
       "\n",
       "  if (debug) {\n",
       "    span.style.backgroundColor = '#aaa';\n",
       "  } else {\n",
       "    document.body.removeChild(div);\n",
       "  }\n",
       "\n",
       "  return coordinates;\n",
       "}\n",
       "\n",
       "if (typeof module != 'undefined' && typeof module.exports != 'undefined') {\n",
       "  module.exports = getCaretCoordinates;\n",
       "} else if(isBrowser) {\n",
       "  window.getCaretCoordinates = getCaretCoordinates;\n",
       "}\n",
       "\n",
       "}());\n",
       "\n",
       "require.undef('ontoedit');\n",
       "\n",
       "define('ontoedit', [\"@jupyter-widgets/base\"], function(widgets) {\n",
       "\n",
       "    var OntoeditModel = widgets.TextareaModel.extend({\n",
       "        \n",
       "        defaults: $.extend(widgets.TextareaModel.prototype.defaults(), {\n",
       "            _model_name: \"OntoeditModel\",\n",
       "            _view_name: \"OntoeditView\",\n",
       "            _model_module: \"ontoedit\",\n",
       "            _view_module: \"ontoedit\",\n",
       "            rows: null,\n",
       "            continuous_update: true,\n",
       "            cursor: 0,\n",
       "            hints:'',\n",
       "            hintsX:0,\n",
       "            hintT:''\n",
       "        })\n",
       "    }); \n",
       "    \n",
       "    var OntoeditView = widgets.TextareaView.extend({\n",
       "        \n",
       "        render: function() {\n",
       "            OntoeditView.__super__.render.apply(this, arguments);\n",
       "            this.model.on('change:hints', this.hints_changed, this);\n",
       "            this.model.on('change:hintsX', this.hintsX_changed, this);\n",
       "            \n",
       "            var model = this.model;\n",
       "            var that = this;\n",
       "            \n",
       "            var last_position = 0;\n",
       "        \n",
       "            function cursor_changed(element) {\n",
       "                var new_position = getCursorPosition(element);\n",
       "                if (new_position !== last_position) {\n",
       "                    last_position = new_position;\n",
       "                    return true;\n",
       "                }\n",
       "                return false;\n",
       "            }\n",
       "\n",
       "            function getCursorPosition(element) {\n",
       "                var el = $(element).get(0);\n",
       "                var pos = 0;\n",
       "                if ('selectionStart' in el) {\n",
       "                    pos = el.selectionStart;\n",
       "                } else if ('selection' in document) {\n",
       "                    el.focus();\n",
       "                    var Sel = document.selection.createRange();\n",
       "                    var SelLength = document.selection.createRange().text.length;\n",
       "                    Sel.moveStart('character', -el.value.length);\n",
       "                    pos = Sel.text.length - SelLength;\n",
       "                }\n",
       "                return pos;\n",
       "            }\n",
       "\n",
       "            var oldVal = \"\";\n",
       "\n",
       "            this.dd=$('<div style=\"-moz-appearance: textfield-multiline;-webkit-appearance: textarea;font: medium -moz-fixed; font: -webkit-small-control; position: absolute;z-index: 1; background-color:navy;color:white;box-shadow: 0px 8px 16px 0px rgba(0,0,0,0.4); \"/>')\n",
       "\n",
       "            $(this.el).bind(\"click keyup focus\",function(e){\n",
       "                that.dd.get(0).style.visibility=\"visible\";\n",
       "                var ele=$($(that.el).children(\"textarea\")[0])\n",
       "                \n",
       "                if(cursor_changed(ele)){\n",
       "                   var  cursor = getCursorPosition(ele);\n",
       "//                    console.log(cursor);\n",
       "//                    console.log('(top, left, height) = (%s, %s, %s)', caret.top, caret.left, caret.height);\n",
       "                    model.set('cursor',cursor);\n",
       "//                    console.log(cursor)\n",
       "                    that.touch();\n",
       "                }\n",
       "            });\n",
       "            \n",
       "            $($(this.el).children(\"textarea\")[0]).bind(\"blur\",function(e){\n",
       "//                console.log(\"blur\")\n",
       "                that.dd.get(0).style.visibility=\"hidden\";\n",
       "            });\n",
       "\n",
       "            $($(this.el).children(\"textarea\")[0]).bind(\"keydown\",function(e){\n",
       "                  if (e.keyCode==9)\n",
       "                  {\n",
       "//                      console.log(model.get('hintT'));\n",
       "                      var target=$($(that.el).children(\"textarea\")[0])\n",
       "                      var curpos = getCursorPosition(target)\n",
       "                      var off=curpos-model.get('hintsX')\n",
       "                      var data = model.get('hintT').slice(off)\n",
       "//                      console.log(off)\n",
       "                      \n",
       "                      if (target.setRangeText) {\n",
       "                         //if setRangeText function is supported by current browser\n",
       "                         target.setRangeText(data)\n",
       "                      } else {\n",
       "                        target.focus()\n",
       "                        document.execCommand('insertText', false /*no UI*/, data);\n",
       "                      }\n",
       "                      e.preventDefault();\n",
       "                      return;\n",
       "                  }\n",
       "            });\n",
       "            \n",
       "            // this.el represents the widget's DOM\n",
       "            $(this.el)\n",
       "            .append(this.dd)\n",
       "        },\n",
       "\n",
       "        hints_changed: function() {\n",
       "            var that = this;\n",
       "            var model = this.model;\n",
       "            that.dd.get(0).innerHTML=model.get('hints')\n",
       "//            console.log(model.get('hints'))\n",
       "        },\n",
       "        hintsX_changed: function() {\n",
       "            var that = this;\n",
       "            var model = this.model;\n",
       "            var ele=$($(that.el).children(\"textarea\")[0]);\n",
       "            element=ele.get(0);\n",
       "            var caret = getCaretCoordinates(ele.get(0), model.get('hintsX'));\n",
       "            that.dd.get(0).style.top = element.offsetTop - element.scrollTop + caret.top+ caret.height-5 + 'px';\n",
       "            that.dd.get(0).style.left = element.offsetLeft - element.scrollLeft + caret.left + 'px';\n",
       "//            that.dd.get(0).style.width = '20%';\n",
       "//            that.dd.get(0).style.height = '50%';\n",
       "            that.dd.get(0).style.fontFamily=element.style.fontFamily;\n",
       "            that.dd.get(0).style.fontSize=element.style.fontSize; \n",
       "//                        console.log(model.get('hintsX'))\n",
       "        },\n",
       "    });\n",
       "\n",
       "    return {\n",
       "        OntoeditModel : OntoeditModel,\n",
       "        OntoeditView : OntoeditView\n",
       "    };\n",
       "});"
      ],
      "text/plain": [
       "<IPython.core.display.Javascript object>"
      ]
     },
     "execution_count": 1,
     "metadata": {},
     "output_type": "execute_result"
    }
   ],
   "source": [
    "from cognipy.ontology import Ontology #the ontology processing class\n",
    "from cognipy.ontology import CQL #SPARQL format tailored for Contolled Natural Language\n",
    "from cognipy.edit import CnlEditBox #The pywidget based ontology editor (offspirng of the Fluent Editor)\n",
    "from cognipy.edit import CnlQueryForConcept #The pywidget based ontology quaty widget \n",
    "from cognipy.ontology import encode_string_for_graph_label #complex datatypes encoder for the graph labels in graph visualisation\n",
    "import textwrap\n",
    "from cognipy.edit import InitJS #the javascript side iitialization\n",
    "\n",
    "def graph_attribute_formatter(val):\n",
    "    if isinstance(val,list) or isinstance(val,set):\n",
    "        return \" | \".join(list(map(lambda i:encode_string_for_graph_label(graph_attribute_formatter(i)),val)))\n",
    "    elif isinstance(val,dict):\n",
    "        return \" | \".join(list(map(lambda i:i[0]+\" : \"+encode_string_for_graph_label(graph_attribute_formatter(i[1])),val.items())))\n",
    "    else:\n",
    "        return encode_string_for_graph_label(textwrap.fill(str(val),40))\n",
    "    \n",
    "InitJS() #This needs to be the last line of the initialisation"
   ]
  },
  {
   "cell_type": "markdown",
   "metadata": {},
   "source": [
    "# 'African Wildlife'.\n",
    "Loading the editor for the basic \"safari\" ontology. The Ontology is inspired by 'A Semantic Web Primer.' by 'Antoniou, G, van Harmelen, F.' 'MIT Press, 2003.' 'http://www.csd.uoc.gr/~hy566/SWbook.pdf', tuned to OWL/RL+SWRL profile."
   ]
  },
  {
   "cell_type": "markdown",
   "metadata": {},
   "source": [
    "### Part-1: 'simple hierarchy of beings'. "
   ]
  },
  {
   "cell_type": "markdown",
   "metadata": {},
   "source": [
    "We will have many editors here and we will store all of them in the dict"
   ]
  },
  {
   "cell_type": "code",
   "execution_count": 2,
   "metadata": {},
   "outputs": [],
   "source": [
    "parts_editors={}"
   ]
  },
  {
   "cell_type": "markdown",
   "metadata": {},
   "source": [
    "Lets setup the fist ontology editor for the general knowledge. The editor allows you to enter the knowledge in text format, and support you with the prdictive editor."
   ]
  },
  {
   "cell_type": "code",
   "execution_count": 3,
   "metadata": {},
   "outputs": [
    {
     "data": {
      "application/vnd.jupyter.widget-view+json": {
       "model_id": "774c8d3130174c979f79d0100d2b9fe8",
       "version_major": 2,
       "version_minor": 0
      },
      "text/plain": [
       "VBox(children=(OntoeditWidget(layout=Layout(height='100%', width='90%'), value=\"Namespace: 'http://cognitum.eu…"
      ]
     },
     "metadata": {},
     "output_type": "display_data"
    }
   ],
   "source": [
    "parts_editors['01']=CnlEditBox('part_01.encnl')\n",
    "parts_editors['01']"
   ]
  },
  {
   "cell_type": "markdown",
   "metadata": {},
   "source": [
    "Lets define the function that will build the ontology based on the dict of ontology editors and the optional additional editor for testing purposes. All it is doing it is concatenaiting the values of all the editors and puts them into the newly created ontology object."
   ]
  },
  {
   "cell_type": "code",
   "execution_count": 4,
   "metadata": {},
   "outputs": [],
   "source": [
    "def buildOntology(parts_editors,test_editor=None):\n",
    "    return Ontology(\"cnl/string\",\n",
    "                    \"\\n\\n\".join(k.getvalue() for k in parts_editors.values())+('' if test_editor is None else test_editor.getvalue()), \n",
    "                    evaluator = lambda e:eval(e,globals(),locals()), \n",
    "                    graph_attribute_formatter = graph_attribute_formatter)"
   ]
  },
  {
   "cell_type": "markdown",
   "metadata": {},
   "source": [
    "The ontology object alows you to draw the materialised graph using several layout algorythms. Lets draw our base ontology."
   ]
  },
  {
   "cell_type": "code",
   "execution_count": 5,
   "metadata": {},
   "outputs": [
    {
     "data": {
      "image/svg+xml": [
       "<svg height=\"191pt\" viewBox=\"0.00 0.00 1577.00 191.00\" width=\"1577pt\" xmlns=\"http://www.w3.org/2000/svg\" xmlns:xlink=\"http://www.w3.org/1999/xlink\">\n",
       "<g class=\"graph\" id=\"graph0\" transform=\"scale(1 1) rotate(0) translate(4 187)\">\n",
       "<title>G</title>\n",
       "<polygon fill=\"white\" points=\"-4,4 -4,-187 1573,-187 1573,4 -4,4\" stroke=\"none\"/>\n",
       "<!-- tasty&#45;plant -->\n",
       "<g class=\"node\" id=\"node1\"><title>tasty-plant</title>\n",
       "<path d=\"M12,-73.5C12,-73.5 58,-73.5 58,-73.5 64,-73.5 70,-79.5 70,-85.5 70,-85.5 70,-97.5 70,-97.5 70,-103.5 64,-109.5 58,-109.5 58,-109.5 12,-109.5 12,-109.5 6,-109.5 0,-103.5 0,-97.5 0,-97.5 0,-85.5 0,-85.5 0,-79.5 6,-73.5 12,-73.5\" fill=\"aliceblue\" stroke=\"black\" stroke-width=\"0.5\"/>\n",
       "<text font-family=\"Titillium Web\" font-size=\"11.00\" text-anchor=\"middle\" x=\"35\" y=\"-88.7\">tasty-plant</text>\n",
       "</g>\n",
       "<!-- plant -->\n",
       "<g class=\"node\" id=\"node2\"><title>plant</title>\n",
       "<path d=\"M225,-146.5C225,-146.5 255,-146.5 255,-146.5 261,-146.5 267,-152.5 267,-158.5 267,-158.5 267,-170.5 267,-170.5 267,-176.5 261,-182.5 255,-182.5 255,-182.5 225,-182.5 225,-182.5 219,-182.5 213,-176.5 213,-170.5 213,-170.5 213,-158.5 213,-158.5 213,-152.5 219,-146.5 225,-146.5\" fill=\"aliceblue\" stroke=\"black\" stroke-width=\"0.5\"/>\n",
       "<text font-family=\"Titillium Web\" font-size=\"11.00\" text-anchor=\"middle\" x=\"240\" y=\"-161.7\">plant</text>\n",
       "</g>\n",
       "<!-- plant&#45;&#45;tasty&#45;plant -->\n",
       "<g class=\"edge\" id=\"edge1\"><title>plant--tasty-plant</title>\n",
       "<path d=\"M203.154,-151.924C170.386,-141.471 121.256,-125.409 79,-110 76.2196,-108.986 73.351,-107.911 70.4741,-106.813\" fill=\"none\" stroke=\"black\" stroke-width=\"0.5\"/>\n",
       "<polygon fill=\"none\" points=\"202.182,-155.288 212.773,-154.981 204.303,-148.617 202.182,-155.288\" stroke=\"black\" stroke-width=\"0.5\"/>\n",
       "</g>\n",
       "<!-- carnivorous&#45;plant -->\n",
       "<g class=\"node\" id=\"node15\"><title>carnivorous-plant</title>\n",
       "<path d=\"M100.5,-73.5C100.5,-73.5 177.5,-73.5 177.5,-73.5 183.5,-73.5 189.5,-79.5 189.5,-85.5 189.5,-85.5 189.5,-97.5 189.5,-97.5 189.5,-103.5 183.5,-109.5 177.5,-109.5 177.5,-109.5 100.5,-109.5 100.5,-109.5 94.5,-109.5 88.5,-103.5 88.5,-97.5 88.5,-97.5 88.5,-85.5 88.5,-85.5 88.5,-79.5 94.5,-73.5 100.5,-73.5\" fill=\"aliceblue\" stroke=\"black\" stroke-width=\"0.5\"/>\n",
       "<text font-family=\"Titillium Web\" font-size=\"11.00\" text-anchor=\"middle\" x=\"139\" y=\"-88.7\">carnivorous-plant</text>\n",
       "</g>\n",
       "<!-- plant&#45;&#45;carnivorous&#45;plant -->\n",
       "<g class=\"edge\" id=\"edge12\"><title>plant--carnivorous-plant</title>\n",
       "<path d=\"M207.245,-140.474C192.965,-130.436 176.516,-118.872 163.345,-109.614\" fill=\"none\" stroke=\"black\" stroke-width=\"0.5\"/>\n",
       "<polygon fill=\"none\" points=\"205.614,-143.606 215.808,-146.494 209.64,-137.879 205.614,-143.606\" stroke=\"black\" stroke-width=\"0.5\"/>\n",
       "</g>\n",
       "<!-- palm&#45;tree -->\n",
       "<g class=\"node\" id=\"node20\"><title>palm-tree</title>\n",
       "<path d=\"M219.5,-73.5C219.5,-73.5 260.5,-73.5 260.5,-73.5 266.5,-73.5 272.5,-79.5 272.5,-85.5 272.5,-85.5 272.5,-97.5 272.5,-97.5 272.5,-103.5 266.5,-109.5 260.5,-109.5 260.5,-109.5 219.5,-109.5 219.5,-109.5 213.5,-109.5 207.5,-103.5 207.5,-97.5 207.5,-97.5 207.5,-85.5 207.5,-85.5 207.5,-79.5 213.5,-73.5 219.5,-73.5\" fill=\"aliceblue\" stroke=\"black\" stroke-width=\"0.5\"/>\n",
       "<text font-family=\"Titillium Web\" font-size=\"11.00\" text-anchor=\"middle\" x=\"240\" y=\"-88.7\">palm-tree</text>\n",
       "</g>\n",
       "<!-- plant&#45;&#45;palm&#45;tree -->\n",
       "<g class=\"edge\" id=\"edge17\"><title>plant--palm-tree</title>\n",
       "<path d=\"M240,-136.253C240,-127.265 240,-117.529 240,-109.529\" fill=\"none\" stroke=\"black\" stroke-width=\"0.5\"/>\n",
       "<polygon fill=\"none\" points=\"236.5,-136.313 240,-146.313 243.5,-136.313 236.5,-136.313\" stroke=\"black\" stroke-width=\"0.5\"/>\n",
       "</g>\n",
       "<!-- tree -->\n",
       "<g class=\"node\" id=\"node22\"><title>tree</title>\n",
       "<path d=\"M303,-73.5C303,-73.5 333,-73.5 333,-73.5 339,-73.5 345,-79.5 345,-85.5 345,-85.5 345,-97.5 345,-97.5 345,-103.5 339,-109.5 333,-109.5 333,-109.5 303,-109.5 303,-109.5 297,-109.5 291,-103.5 291,-97.5 291,-97.5 291,-85.5 291,-85.5 291,-79.5 297,-73.5 303,-73.5\" fill=\"aliceblue\" stroke=\"black\" stroke-width=\"0.5\"/>\n",
       "<text font-family=\"Titillium Web\" font-size=\"11.00\" text-anchor=\"middle\" x=\"318\" y=\"-88.7\">tree</text>\n",
       "</g>\n",
       "<!-- plant&#45;&#45;tree -->\n",
       "<g class=\"edge\" id=\"edge19\"><title>plant--tree</title>\n",
       "<path d=\"M266.431,-139.441C277.223,-129.618 289.452,-118.486 299.292,-109.529\" fill=\"none\" stroke=\"black\" stroke-width=\"0.5\"/>\n",
       "<polygon fill=\"none\" points=\"263.921,-136.993 258.882,-146.313 268.633,-142.17 263.921,-136.993\" stroke=\"black\" stroke-width=\"0.5\"/>\n",
       "</g>\n",
       "<!-- grass -->\n",
       "<g class=\"node\" id=\"node26\"><title>grass</title>\n",
       "<path d=\"M375,-73.5C375,-73.5 405,-73.5 405,-73.5 411,-73.5 417,-79.5 417,-85.5 417,-85.5 417,-97.5 417,-97.5 417,-103.5 411,-109.5 405,-109.5 405,-109.5 375,-109.5 375,-109.5 369,-109.5 363,-103.5 363,-97.5 363,-97.5 363,-85.5 363,-85.5 363,-79.5 369,-73.5 375,-73.5\" fill=\"aliceblue\" stroke=\"black\" stroke-width=\"0.5\"/>\n",
       "<text font-family=\"Titillium Web\" font-size=\"11.00\" text-anchor=\"middle\" x=\"390\" y=\"-88.7\">grass</text>\n",
       "</g>\n",
       "<!-- plant&#45;&#45;grass -->\n",
       "<g class=\"edge\" id=\"edge23\"><title>plant--grass</title>\n",
       "<path d=\"M276.384,-146.58C298.799,-136.117 328.107,-122.368 354,-110 356.884,-108.622 359.895,-107.174 362.892,-105.726\" fill=\"none\" stroke=\"black\" stroke-width=\"0.5\"/>\n",
       "<polygon fill=\"none\" points=\"274.813,-143.45 267.229,-150.849 277.771,-149.794 274.813,-143.45\" stroke=\"black\" stroke-width=\"0.5\"/>\n",
       "</g>\n",
       "<!-- apple -->\n",
       "<g class=\"node\" id=\"node3\"><title>apple</title>\n",
       "<path d=\"M424,-0.5C424,-0.5 454,-0.5 454,-0.5 460,-0.5 466,-6.5 466,-12.5 466,-12.5 466,-24.5 466,-24.5 466,-30.5 460,-36.5 454,-36.5 454,-36.5 424,-36.5 424,-36.5 418,-36.5 412,-30.5 412,-24.5 412,-24.5 412,-12.5 412,-12.5 412,-6.5 418,-0.5 424,-0.5\" fill=\"aliceblue\" stroke=\"black\" stroke-width=\"0.5\"/>\n",
       "<text font-family=\"Titillium Web\" font-size=\"11.00\" text-anchor=\"middle\" x=\"439\" y=\"-15.7\">apple</text>\n",
       "</g>\n",
       "<!-- fruiting&#45;body -->\n",
       "<g class=\"node\" id=\"node4\"><title>fruiting-body</title>\n",
       "<path d=\"M447.5,-73.5C447.5,-73.5 502.5,-73.5 502.5,-73.5 508.5,-73.5 514.5,-79.5 514.5,-85.5 514.5,-85.5 514.5,-97.5 514.5,-97.5 514.5,-103.5 508.5,-109.5 502.5,-109.5 502.5,-109.5 447.5,-109.5 447.5,-109.5 441.5,-109.5 435.5,-103.5 435.5,-97.5 435.5,-97.5 435.5,-85.5 435.5,-85.5 435.5,-79.5 441.5,-73.5 447.5,-73.5\" fill=\"aliceblue\" stroke=\"black\" stroke-width=\"0.5\"/>\n",
       "<text font-family=\"Titillium Web\" font-size=\"11.00\" text-anchor=\"middle\" x=\"475\" y=\"-88.7\">fruiting-body</text>\n",
       "</g>\n",
       "<!-- fruiting&#45;body&#45;&#45;apple -->\n",
       "<g class=\"edge\" id=\"edge2\"><title>fruiting-body--apple</title>\n",
       "<path d=\"M461.629,-64.1302C456.95,-54.9019 451.823,-44.7904 447.634,-36.5288\" fill=\"none\" stroke=\"black\" stroke-width=\"0.5\"/>\n",
       "<polygon fill=\"none\" points=\"458.641,-65.9767 466.285,-73.3129 464.885,-62.811 458.641,-65.9767\" stroke=\"black\" stroke-width=\"0.5\"/>\n",
       "</g>\n",
       "<!-- berry -->\n",
       "<g class=\"node\" id=\"node12\"><title>berry</title>\n",
       "<path d=\"M496,-0.5C496,-0.5 526,-0.5 526,-0.5 532,-0.5 538,-6.5 538,-12.5 538,-12.5 538,-24.5 538,-24.5 538,-30.5 532,-36.5 526,-36.5 526,-36.5 496,-36.5 496,-36.5 490,-36.5 484,-30.5 484,-24.5 484,-24.5 484,-12.5 484,-12.5 484,-6.5 490,-0.5 496,-0.5\" fill=\"aliceblue\" stroke=\"black\" stroke-width=\"0.5\"/>\n",
       "<text font-family=\"Titillium Web\" font-size=\"11.00\" text-anchor=\"middle\" x=\"511\" y=\"-15.7\">berry</text>\n",
       "</g>\n",
       "<!-- fruiting&#45;body&#45;&#45;berry -->\n",
       "<g class=\"edge\" id=\"edge9\"><title>fruiting-body--berry</title>\n",
       "<path d=\"M488.371,-64.1302C493.05,-54.9019 498.177,-44.7904 502.366,-36.5288\" fill=\"none\" stroke=\"black\" stroke-width=\"0.5\"/>\n",
       "<polygon fill=\"none\" points=\"485.115,-62.811 483.715,-73.3129 491.359,-65.9767 485.115,-62.811\" stroke=\"black\" stroke-width=\"0.5\"/>\n",
       "</g>\n",
       "<!-- rock&#45;dassie -->\n",
       "<g class=\"node\" id=\"node5\"><title>rock-dassie</title>\n",
       "<path d=\"M1049.5,-73.5C1049.5,-73.5 1098.5,-73.5 1098.5,-73.5 1104.5,-73.5 1110.5,-79.5 1110.5,-85.5 1110.5,-85.5 1110.5,-97.5 1110.5,-97.5 1110.5,-103.5 1104.5,-109.5 1098.5,-109.5 1098.5,-109.5 1049.5,-109.5 1049.5,-109.5 1043.5,-109.5 1037.5,-103.5 1037.5,-97.5 1037.5,-97.5 1037.5,-85.5 1037.5,-85.5 1037.5,-79.5 1043.5,-73.5 1049.5,-73.5\" fill=\"aliceblue\" stroke=\"black\" stroke-width=\"0.5\"/>\n",
       "<text font-family=\"Titillium Web\" font-size=\"11.00\" text-anchor=\"middle\" x=\"1074\" y=\"-88.7\">rock-dassie</text>\n",
       "</g>\n",
       "<!-- animal -->\n",
       "<g class=\"node\" id=\"node6\"><title>animal</title>\n",
       "<path d=\"M1299,-146.5C1299,-146.5 1329,-146.5 1329,-146.5 1335,-146.5 1341,-152.5 1341,-158.5 1341,-158.5 1341,-170.5 1341,-170.5 1341,-176.5 1335,-182.5 1329,-182.5 1329,-182.5 1299,-182.5 1299,-182.5 1293,-182.5 1287,-176.5 1287,-170.5 1287,-170.5 1287,-158.5 1287,-158.5 1287,-152.5 1293,-146.5 1299,-146.5\" fill=\"aliceblue\" stroke=\"black\" stroke-width=\"0.5\"/>\n",
       "<text font-family=\"Titillium Web\" font-size=\"11.00\" text-anchor=\"middle\" x=\"1314\" y=\"-161.7\">animal</text>\n",
       "</g>\n",
       "<!-- animal&#45;&#45;rock&#45;dassie -->\n",
       "<g class=\"edge\" id=\"edge3\"><title>animal--rock-dassie</title>\n",
       "<path d=\"M1276.85,-154.367C1237.57,-144.453 1173.95,-127.658 1120,-110 1116.91,-108.99 1113.73,-107.894 1110.55,-106.761\" fill=\"none\" stroke=\"black\" stroke-width=\"0.5\"/>\n",
       "<polygon fill=\"none\" points=\"1276.22,-157.818 1286.77,-156.856 1277.92,-151.028 1276.22,-157.818\" stroke=\"black\" stroke-width=\"0.5\"/>\n",
       "</g>\n",
       "<!-- warthog -->\n",
       "<g class=\"node\" id=\"node11\"><title>warthog</title>\n",
       "<path d=\"M1141,-73.5C1141,-73.5 1173,-73.5 1173,-73.5 1179,-73.5 1185,-79.5 1185,-85.5 1185,-85.5 1185,-97.5 1185,-97.5 1185,-103.5 1179,-109.5 1173,-109.5 1173,-109.5 1141,-109.5 1141,-109.5 1135,-109.5 1129,-103.5 1129,-97.5 1129,-97.5 1129,-85.5 1129,-85.5 1129,-79.5 1135,-73.5 1141,-73.5\" fill=\"aliceblue\" stroke=\"black\" stroke-width=\"0.5\"/>\n",
       "<text font-family=\"Titillium Web\" font-size=\"11.00\" text-anchor=\"middle\" x=\"1157\" y=\"-88.7\">warthog</text>\n",
       "</g>\n",
       "<!-- animal&#45;&#45;warthog -->\n",
       "<g class=\"edge\" id=\"edge7\"><title>animal--warthog</title>\n",
       "<path d=\"M1277.39,-147.433C1253.57,-136.918 1221.87,-122.803 1194,-110 1191.16,-108.695 1188.2,-107.322 1185.25,-105.942\" fill=\"none\" stroke=\"black\" stroke-width=\"0.5\"/>\n",
       "<polygon fill=\"none\" points=\"1276.19,-150.73 1286.76,-151.562 1279.02,-144.325 1276.19,-150.73\" stroke=\"black\" stroke-width=\"0.5\"/>\n",
       "</g>\n",
       "<!-- herbivore -->\n",
       "<g class=\"node\" id=\"node13\"><title>herbivore</title>\n",
       "<path d=\"M1215,-73.5C1215,-73.5 1253,-73.5 1253,-73.5 1259,-73.5 1265,-79.5 1265,-85.5 1265,-85.5 1265,-97.5 1265,-97.5 1265,-103.5 1259,-109.5 1253,-109.5 1253,-109.5 1215,-109.5 1215,-109.5 1209,-109.5 1203,-103.5 1203,-97.5 1203,-97.5 1203,-85.5 1203,-85.5 1203,-79.5 1209,-73.5 1215,-73.5\" fill=\"aliceblue\" stroke=\"black\" stroke-width=\"0.5\"/>\n",
       "<text font-family=\"Titillium Web\" font-size=\"11.00\" text-anchor=\"middle\" x=\"1234\" y=\"-88.7\">herbivore</text>\n",
       "</g>\n",
       "<!-- animal&#45;&#45;herbivore -->\n",
       "<g class=\"edge\" id=\"edge10\"><title>animal--herbivore</title>\n",
       "<path d=\"M1286.89,-139.441C1275.82,-129.618 1263.28,-118.486 1253.19,-109.529\" fill=\"none\" stroke=\"black\" stroke-width=\"0.5\"/>\n",
       "<polygon fill=\"none\" points=\"1284.83,-142.293 1294.63,-146.313 1289.48,-137.057 1284.83,-142.293\" stroke=\"black\" stroke-width=\"0.5\"/>\n",
       "</g>\n",
       "<!-- omnivore -->\n",
       "<g class=\"node\" id=\"node14\"><title>omnivore</title>\n",
       "<path d=\"M1295,-73.5C1295,-73.5 1333,-73.5 1333,-73.5 1339,-73.5 1345,-79.5 1345,-85.5 1345,-85.5 1345,-97.5 1345,-97.5 1345,-103.5 1339,-109.5 1333,-109.5 1333,-109.5 1295,-109.5 1295,-109.5 1289,-109.5 1283,-103.5 1283,-97.5 1283,-97.5 1283,-85.5 1283,-85.5 1283,-79.5 1289,-73.5 1295,-73.5\" fill=\"aliceblue\" stroke=\"black\" stroke-width=\"0.5\"/>\n",
       "<text font-family=\"Titillium Web\" font-size=\"11.00\" text-anchor=\"middle\" x=\"1314\" y=\"-88.7\">omnivore</text>\n",
       "</g>\n",
       "<!-- animal&#45;&#45;omnivore -->\n",
       "<g class=\"edge\" id=\"edge11\"><title>animal--omnivore</title>\n",
       "<path d=\"M1314,-136.253C1314,-127.265 1314,-117.529 1314,-109.529\" fill=\"none\" stroke=\"black\" stroke-width=\"0.5\"/>\n",
       "<polygon fill=\"none\" points=\"1310.5,-136.313 1314,-146.313 1317.5,-136.313 1310.5,-136.313\" stroke=\"black\" stroke-width=\"0.5\"/>\n",
       "</g>\n",
       "<!-- carnivore -->\n",
       "<g class=\"node\" id=\"node17\"><title>carnivore</title>\n",
       "<path d=\"M1375.5,-73.5C1375.5,-73.5 1412.5,-73.5 1412.5,-73.5 1418.5,-73.5 1424.5,-79.5 1424.5,-85.5 1424.5,-85.5 1424.5,-97.5 1424.5,-97.5 1424.5,-103.5 1418.5,-109.5 1412.5,-109.5 1412.5,-109.5 1375.5,-109.5 1375.5,-109.5 1369.5,-109.5 1363.5,-103.5 1363.5,-97.5 1363.5,-97.5 1363.5,-85.5 1363.5,-85.5 1363.5,-79.5 1369.5,-73.5 1375.5,-73.5\" fill=\"aliceblue\" stroke=\"black\" stroke-width=\"0.5\"/>\n",
       "<text font-family=\"Titillium Web\" font-size=\"11.00\" text-anchor=\"middle\" x=\"1394\" y=\"-88.7\">carnivore</text>\n",
       "</g>\n",
       "<!-- animal&#45;&#45;carnivore -->\n",
       "<g class=\"edge\" id=\"edge14\"><title>animal--carnivore</title>\n",
       "<path d=\"M1341.11,-139.441C1352.18,-129.618 1364.72,-118.486 1374.81,-109.529\" fill=\"none\" stroke=\"black\" stroke-width=\"0.5\"/>\n",
       "<polygon fill=\"none\" points=\"1338.52,-137.057 1333.37,-146.313 1343.17,-142.293 1338.52,-137.057\" stroke=\"black\" stroke-width=\"0.5\"/>\n",
       "</g>\n",
       "<!-- impala -->\n",
       "<g class=\"node\" id=\"node21\"><title>impala</title>\n",
       "<path d=\"M1455,-73.5C1455,-73.5 1485,-73.5 1485,-73.5 1491,-73.5 1497,-79.5 1497,-85.5 1497,-85.5 1497,-97.5 1497,-97.5 1497,-103.5 1491,-109.5 1485,-109.5 1485,-109.5 1455,-109.5 1455,-109.5 1449,-109.5 1443,-103.5 1443,-97.5 1443,-97.5 1443,-85.5 1443,-85.5 1443,-79.5 1449,-73.5 1455,-73.5\" fill=\"aliceblue\" stroke=\"black\" stroke-width=\"0.5\"/>\n",
       "<text font-family=\"Titillium Web\" font-size=\"11.00\" text-anchor=\"middle\" x=\"1470\" y=\"-88.7\">impala</text>\n",
       "</g>\n",
       "<!-- animal&#45;&#45;impala -->\n",
       "<g class=\"edge\" id=\"edge18\"><title>animal--impala</title>\n",
       "<path d=\"M1350.66,-147.534C1374.49,-137.059 1406.2,-122.952 1434,-110 1436.9,-108.65 1439.92,-107.22 1442.92,-105.783\" fill=\"none\" stroke=\"black\" stroke-width=\"0.5\"/>\n",
       "<polygon fill=\"none\" points=\"1349.03,-144.422 1341.28,-151.644 1351.85,-150.833 1349.03,-144.422\" stroke=\"black\" stroke-width=\"0.5\"/>\n",
       "</g>\n",
       "<!-- giraffe -->\n",
       "<g class=\"node\" id=\"node28\"><title>giraffe</title>\n",
       "<path d=\"M1527,-73.5C1527,-73.5 1557,-73.5 1557,-73.5 1563,-73.5 1569,-79.5 1569,-85.5 1569,-85.5 1569,-97.5 1569,-97.5 1569,-103.5 1563,-109.5 1557,-109.5 1557,-109.5 1527,-109.5 1527,-109.5 1521,-109.5 1515,-103.5 1515,-97.5 1515,-97.5 1515,-85.5 1515,-85.5 1515,-79.5 1521,-73.5 1527,-73.5\" fill=\"aliceblue\" stroke=\"black\" stroke-width=\"0.5\"/>\n",
       "<text font-family=\"Titillium Web\" font-size=\"11.00\" text-anchor=\"middle\" x=\"1542\" y=\"-88.7\">giraffe</text>\n",
       "</g>\n",
       "<!-- animal&#45;&#45;giraffe -->\n",
       "<g class=\"edge\" id=\"edge25\"><title>animal--giraffe</title>\n",
       "<path d=\"M1351.1,-155.271C1390.24,-146.103 1453.42,-129.917 1506,-110 1508.86,-108.917 1511.8,-107.689 1514.71,-106.398\" fill=\"none\" stroke=\"black\" stroke-width=\"0.5\"/>\n",
       "<polygon fill=\"none\" points=\"1350.16,-151.896 1341.2,-157.559 1351.74,-158.716 1350.16,-151.896\" stroke=\"black\" stroke-width=\"0.5\"/>\n",
       "</g>\n",
       "<!-- twig -->\n",
       "<g class=\"node\" id=\"node7\"><title>twig</title>\n",
       "<path d=\"M545,-73.5C545,-73.5 575,-73.5 575,-73.5 581,-73.5 587,-79.5 587,-85.5 587,-85.5 587,-97.5 587,-97.5 587,-103.5 581,-109.5 575,-109.5 575,-109.5 545,-109.5 545,-109.5 539,-109.5 533,-103.5 533,-97.5 533,-97.5 533,-85.5 533,-85.5 533,-79.5 539,-73.5 545,-73.5\" fill=\"aliceblue\" stroke=\"black\" stroke-width=\"0.5\"/>\n",
       "<text font-family=\"Titillium Web\" font-size=\"11.00\" text-anchor=\"middle\" x=\"560\" y=\"-88.7\">twig</text>\n",
       "</g>\n",
       "<!-- plant&#45;part -->\n",
       "<g class=\"node\" id=\"node8\"><title>plant-part</title>\n",
       "<path d=\"M719.5,-146.5C719.5,-146.5 760.5,-146.5 760.5,-146.5 766.5,-146.5 772.5,-152.5 772.5,-158.5 772.5,-158.5 772.5,-170.5 772.5,-170.5 772.5,-176.5 766.5,-182.5 760.5,-182.5 760.5,-182.5 719.5,-182.5 719.5,-182.5 713.5,-182.5 707.5,-176.5 707.5,-170.5 707.5,-170.5 707.5,-158.5 707.5,-158.5 707.5,-152.5 713.5,-146.5 719.5,-146.5\" fill=\"aliceblue\" stroke=\"black\" stroke-width=\"0.5\"/>\n",
       "<text font-family=\"Titillium Web\" font-size=\"11.00\" text-anchor=\"middle\" x=\"740\" y=\"-161.7\">plant-part</text>\n",
       "</g>\n",
       "<!-- plant&#45;part&#45;&#45;fruiting&#45;body -->\n",
       "<g class=\"edge\" id=\"edge8\"><title>plant-part--fruiting-body</title>\n",
       "<path d=\"M697.134,-154.216C653.302,-144.412 583.411,-127.917 524,-110 520.973,-109.087 517.858,-108.097 514.735,-107.067\" fill=\"none\" stroke=\"black\" stroke-width=\"0.5\"/>\n",
       "<polygon fill=\"none\" points=\"696.634,-157.69 707.155,-156.442 698.152,-150.857 696.634,-157.69\" stroke=\"black\" stroke-width=\"0.5\"/>\n",
       "</g>\n",
       "<!-- plant&#45;part&#45;&#45;twig -->\n",
       "<g class=\"edge\" id=\"edge4\"><title>plant-part--twig</title>\n",
       "<path d=\"M697.555,-148.949C668.649,-138.743 629.671,-124.399 596,-110 593.189,-108.798 590.28,-107.492 587.391,-106.153\" fill=\"none\" stroke=\"black\" stroke-width=\"0.5\"/>\n",
       "<polygon fill=\"none\" points=\"696.739,-152.372 707.334,-152.379 699.056,-145.766 696.739,-152.372\" stroke=\"black\" stroke-width=\"0.5\"/>\n",
       "</g>\n",
       "<!-- stem -->\n",
       "<g class=\"node\" id=\"node9\"><title>stem</title>\n",
       "<path d=\"M617,-73.5C617,-73.5 647,-73.5 647,-73.5 653,-73.5 659,-79.5 659,-85.5 659,-85.5 659,-97.5 659,-97.5 659,-103.5 653,-109.5 647,-109.5 647,-109.5 617,-109.5 617,-109.5 611,-109.5 605,-103.5 605,-97.5 605,-97.5 605,-85.5 605,-85.5 605,-79.5 611,-73.5 617,-73.5\" fill=\"aliceblue\" stroke=\"black\" stroke-width=\"0.5\"/>\n",
       "<text font-family=\"Titillium Web\" font-size=\"11.00\" text-anchor=\"middle\" x=\"632\" y=\"-88.7\">stem</text>\n",
       "</g>\n",
       "<!-- plant&#45;part&#45;&#45;stem -->\n",
       "<g class=\"edge\" id=\"edge5\"><title>plant-part--stem</title>\n",
       "<path d=\"M705.407,-140.758C690.037,-130.654 672.248,-118.96 658.032,-109.614\" fill=\"none\" stroke=\"black\" stroke-width=\"0.5\"/>\n",
       "<polygon fill=\"none\" points=\"703.853,-143.925 714.131,-146.494 707.698,-138.076 703.853,-143.925\" stroke=\"black\" stroke-width=\"0.5\"/>\n",
       "</g>\n",
       "<!-- leaf -->\n",
       "<g class=\"node\" id=\"node10\"><title>leaf</title>\n",
       "<path d=\"M689,-73.5C689,-73.5 719,-73.5 719,-73.5 725,-73.5 731,-79.5 731,-85.5 731,-85.5 731,-97.5 731,-97.5 731,-103.5 725,-109.5 719,-109.5 719,-109.5 689,-109.5 689,-109.5 683,-109.5 677,-103.5 677,-97.5 677,-97.5 677,-85.5 677,-85.5 677,-79.5 683,-73.5 689,-73.5\" fill=\"aliceblue\" stroke=\"black\" stroke-width=\"0.5\"/>\n",
       "<text font-family=\"Titillium Web\" font-size=\"11.00\" text-anchor=\"middle\" x=\"704\" y=\"-88.7\">leaf</text>\n",
       "</g>\n",
       "<!-- plant&#45;part&#45;&#45;leaf -->\n",
       "<g class=\"edge\" id=\"edge6\"><title>plant-part--leaf</title>\n",
       "<path d=\"M726.629,-137.13C721.95,-127.902 716.823,-117.79 712.634,-109.529\" fill=\"none\" stroke=\"black\" stroke-width=\"0.5\"/>\n",
       "<polygon fill=\"none\" points=\"723.641,-138.977 731.285,-146.313 729.885,-135.811 723.641,-138.977\" stroke=\"black\" stroke-width=\"0.5\"/>\n",
       "</g>\n",
       "<!-- phloem -->\n",
       "<g class=\"node\" id=\"node16\"><title>phloem</title>\n",
       "<path d=\"M761,-73.5C761,-73.5 791,-73.5 791,-73.5 797,-73.5 803,-79.5 803,-85.5 803,-85.5 803,-97.5 803,-97.5 803,-103.5 797,-109.5 791,-109.5 791,-109.5 761,-109.5 761,-109.5 755,-109.5 749,-103.5 749,-97.5 749,-97.5 749,-85.5 749,-85.5 749,-79.5 755,-73.5 761,-73.5\" fill=\"aliceblue\" stroke=\"black\" stroke-width=\"0.5\"/>\n",
       "<text font-family=\"Titillium Web\" font-size=\"11.00\" text-anchor=\"middle\" x=\"776\" y=\"-88.7\">phloem</text>\n",
       "</g>\n",
       "<!-- plant&#45;part&#45;&#45;phloem -->\n",
       "<g class=\"edge\" id=\"edge13\"><title>plant-part--phloem</title>\n",
       "<path d=\"M753.371,-137.13C758.05,-127.902 763.177,-117.79 767.366,-109.529\" fill=\"none\" stroke=\"black\" stroke-width=\"0.5\"/>\n",
       "<polygon fill=\"none\" points=\"750.115,-135.811 748.715,-146.313 756.359,-138.977 750.115,-135.811\" stroke=\"black\" stroke-width=\"0.5\"/>\n",
       "</g>\n",
       "<!-- branch -->\n",
       "<g class=\"node\" id=\"node18\"><title>branch</title>\n",
       "<path d=\"M833,-73.5C833,-73.5 863,-73.5 863,-73.5 869,-73.5 875,-79.5 875,-85.5 875,-85.5 875,-97.5 875,-97.5 875,-103.5 869,-109.5 863,-109.5 863,-109.5 833,-109.5 833,-109.5 827,-109.5 821,-103.5 821,-97.5 821,-97.5 821,-85.5 821,-85.5 821,-79.5 827,-73.5 833,-73.5\" fill=\"aliceblue\" stroke=\"black\" stroke-width=\"0.5\"/>\n",
       "<text font-family=\"Titillium Web\" font-size=\"11.00\" text-anchor=\"middle\" x=\"848\" y=\"-88.7\">branch</text>\n",
       "</g>\n",
       "<!-- plant&#45;part&#45;&#45;branch -->\n",
       "<g class=\"edge\" id=\"edge15\"><title>plant-part--branch</title>\n",
       "<path d=\"M774.593,-140.758C789.963,-130.654 807.752,-118.96 821.968,-109.614\" fill=\"none\" stroke=\"black\" stroke-width=\"0.5\"/>\n",
       "<polygon fill=\"none\" points=\"772.302,-138.076 765.869,-146.494 776.147,-143.925 772.302,-138.076\" stroke=\"black\" stroke-width=\"0.5\"/>\n",
       "</g>\n",
       "<!-- root -->\n",
       "<g class=\"node\" id=\"node24\"><title>root</title>\n",
       "<path d=\"M905,-73.5C905,-73.5 935,-73.5 935,-73.5 941,-73.5 947,-79.5 947,-85.5 947,-85.5 947,-97.5 947,-97.5 947,-103.5 941,-109.5 935,-109.5 935,-109.5 905,-109.5 905,-109.5 899,-109.5 893,-103.5 893,-97.5 893,-97.5 893,-85.5 893,-85.5 893,-79.5 899,-73.5 905,-73.5\" fill=\"aliceblue\" stroke=\"black\" stroke-width=\"0.5\"/>\n",
       "<text font-family=\"Titillium Web\" font-size=\"11.00\" text-anchor=\"middle\" x=\"920\" y=\"-88.7\">root</text>\n",
       "</g>\n",
       "<!-- plant&#45;part&#45;&#45;root -->\n",
       "<g class=\"edge\" id=\"edge21\"><title>plant-part--root</title>\n",
       "<path d=\"M782.445,-148.949C811.351,-138.743 850.329,-124.399 884,-110 886.811,-108.798 889.72,-107.492 892.609,-106.153\" fill=\"none\" stroke=\"black\" stroke-width=\"0.5\"/>\n",
       "<polygon fill=\"none\" points=\"780.944,-145.766 772.666,-152.379 783.261,-152.372 780.944,-145.766\" stroke=\"black\" stroke-width=\"0.5\"/>\n",
       "</g>\n",
       "<!-- xylem -->\n",
       "<g class=\"node\" id=\"node27\"><title>xylem</title>\n",
       "<path d=\"M977,-73.5C977,-73.5 1007,-73.5 1007,-73.5 1013,-73.5 1019,-79.5 1019,-85.5 1019,-85.5 1019,-97.5 1019,-97.5 1019,-103.5 1013,-109.5 1007,-109.5 1007,-109.5 977,-109.5 977,-109.5 971,-109.5 965,-103.5 965,-97.5 965,-97.5 965,-85.5 965,-85.5 965,-79.5 971,-73.5 977,-73.5\" fill=\"aliceblue\" stroke=\"black\" stroke-width=\"0.5\"/>\n",
       "<text font-family=\"Titillium Web\" font-size=\"11.00\" text-anchor=\"middle\" x=\"992\" y=\"-88.7\">xylem</text>\n",
       "</g>\n",
       "<!-- plant&#45;part&#45;&#45;xylem -->\n",
       "<g class=\"edge\" id=\"edge24\"><title>plant-part--xylem</title>\n",
       "<path d=\"M782.93,-155.634C827.09,-146.904 897.49,-131.201 956,-110 958.875,-108.958 961.825,-107.758 964.739,-106.484\" fill=\"none\" stroke=\"black\" stroke-width=\"0.5\"/>\n",
       "<polygon fill=\"none\" points=\"781.982,-152.252 772.834,-157.598 783.319,-159.124 781.982,-152.252\" stroke=\"black\" stroke-width=\"0.5\"/>\n",
       "</g>\n",
       "<!-- elephant -->\n",
       "<g class=\"node\" id=\"node25\"><title>elephant</title>\n",
       "<path d=\"M1216.5,-0.5C1216.5,-0.5 1251.5,-0.5 1251.5,-0.5 1257.5,-0.5 1263.5,-6.5 1263.5,-12.5 1263.5,-12.5 1263.5,-24.5 1263.5,-24.5 1263.5,-30.5 1257.5,-36.5 1251.5,-36.5 1251.5,-36.5 1216.5,-36.5 1216.5,-36.5 1210.5,-36.5 1204.5,-30.5 1204.5,-24.5 1204.5,-24.5 1204.5,-12.5 1204.5,-12.5 1204.5,-6.5 1210.5,-0.5 1216.5,-0.5\" fill=\"aliceblue\" stroke=\"black\" stroke-width=\"0.5\"/>\n",
       "<text font-family=\"Titillium Web\" font-size=\"11.00\" text-anchor=\"middle\" x=\"1234\" y=\"-15.7\">elephant</text>\n",
       "</g>\n",
       "<!-- herbivore&#45;&#45;elephant -->\n",
       "<g class=\"edge\" id=\"edge22\"><title>herbivore--elephant</title>\n",
       "<path d=\"M1234,-63.2534C1234,-54.2651 1234,-44.5295 1234,-36.5288\" fill=\"none\" stroke=\"black\" stroke-width=\"0.5\"/>\n",
       "<polygon fill=\"none\" points=\"1230.5,-63.3128 1234,-73.3129 1237.5,-63.3129 1230.5,-63.3128\" stroke=\"black\" stroke-width=\"0.5\"/>\n",
       "</g>\n",
       "<!-- lion -->\n",
       "<g class=\"node\" id=\"node19\"><title>lion</title>\n",
       "<path d=\"M1379,-0.5C1379,-0.5 1409,-0.5 1409,-0.5 1415,-0.5 1421,-6.5 1421,-12.5 1421,-12.5 1421,-24.5 1421,-24.5 1421,-30.5 1415,-36.5 1409,-36.5 1409,-36.5 1379,-36.5 1379,-36.5 1373,-36.5 1367,-30.5 1367,-24.5 1367,-24.5 1367,-12.5 1367,-12.5 1367,-6.5 1373,-0.5 1379,-0.5\" fill=\"aliceblue\" stroke=\"black\" stroke-width=\"0.5\"/>\n",
       "<text font-family=\"Titillium Web\" font-size=\"11.00\" text-anchor=\"middle\" x=\"1394\" y=\"-15.7\">lion</text>\n",
       "</g>\n",
       "<!-- carnivore&#45;&#45;lion -->\n",
       "<g class=\"edge\" id=\"edge16\"><title>carnivore--lion</title>\n",
       "<path d=\"M1394,-63.2534C1394,-54.2651 1394,-44.5295 1394,-36.5288\" fill=\"none\" stroke=\"black\" stroke-width=\"0.5\"/>\n",
       "<polygon fill=\"none\" points=\"1390.5,-63.3128 1394,-73.3129 1397.5,-63.3129 1390.5,-63.3128\" stroke=\"black\" stroke-width=\"0.5\"/>\n",
       "</g>\n",
       "<!-- parsnip -->\n",
       "<g class=\"node\" id=\"node23\"><title>parsnip</title>\n",
       "<path d=\"M905,-0.5C905,-0.5 935,-0.5 935,-0.5 941,-0.5 947,-6.5 947,-12.5 947,-12.5 947,-24.5 947,-24.5 947,-30.5 941,-36.5 935,-36.5 935,-36.5 905,-36.5 905,-36.5 899,-36.5 893,-30.5 893,-24.5 893,-24.5 893,-12.5 893,-12.5 893,-6.5 899,-0.5 905,-0.5\" fill=\"aliceblue\" stroke=\"black\" stroke-width=\"0.5\"/>\n",
       "<text font-family=\"Titillium Web\" font-size=\"11.00\" text-anchor=\"middle\" x=\"920\" y=\"-15.7\">parsnip</text>\n",
       "</g>\n",
       "<!-- root&#45;&#45;parsnip -->\n",
       "<g class=\"edge\" id=\"edge20\"><title>root--parsnip</title>\n",
       "<path d=\"M920,-63.2534C920,-54.2651 920,-44.5295 920,-36.5288\" fill=\"none\" stroke=\"black\" stroke-width=\"0.5\"/>\n",
       "<polygon fill=\"none\" points=\"916.5,-63.3128 920,-73.3129 923.5,-63.3129 916.5,-63.3128\" stroke=\"black\" stroke-width=\"0.5\"/>\n",
       "</g>\n",
       "</g>\n",
       "</svg>"
      ],
      "text/plain": [
       "<IPython.core.display.SVG object>"
      ]
     },
     "execution_count": 5,
     "metadata": {},
     "output_type": "execute_result"
    }
   ],
   "source": [
    "onto=buildOntology(parts_editors)\n",
    "onto.draw_graph(layout='hierarchical')"
   ]
  },
  {
   "cell_type": "markdown",
   "metadata": {},
   "source": [
    "It is fully compatible with OWL/RDF format (via OWLAPI). We can always export it as it is."
   ]
  },
  {
   "cell_type": "code",
   "execution_count": 6,
   "metadata": {},
   "outputs": [
    {
     "name": "stdout",
     "output_type": "stream",
     "text": [
      "<?xml version = '1.0' encoding = 'UTF-8'?>\r\n",
      "<rdf:RDF xmlns=\"http://cognitum.eu/african_wildlife#\" xml:base=\"http://cognitum.eu/african_wildlife\" xmlns:owl=\"http://www.w3.org/2002/07/owl#\" xmlns:rdfs=\"http://www.w3.org/2000/01/rdf-schema#\" xmlns:rdf=\"http://www.w3.org/1999/02/22-rdf-syntax-ns#\" xmlns:xsd=\"http://www.w3.org/2001/XMLSchema#\">\r\n",
      "  <owl:Ontology rdf:about=\"http://cognitum.eu/african_wildlife#\" />\r\n",
      "  <!-- \r\n",
      "    ///////////////////////////////////////////////////////////////////////////////////////\r\n",
      "    //\r\n",
      "    // Classes\r\n",
      "    //\r\n",
      "    ///////////////////////////////////////////////////////////////////////////////////////\r\n",
      "     -->\r\n",
      "  <!-- http://cognitum.eu/african_wildlife#animal -->\r\n",
      "  <owl:Class rdf:about=\"http://cognitum.eu/african_wildlife#animal\" />\r\n",
      "  <!-- http://cognitum.eu/african_wildlife#apple -->\r\n",
      "  <owl:Class rdf:about=\"http://cognitum.eu/african_wildlife#apple\">\r\n",
      "    <rdfs:subClassOf rdf:resource=\"http://cognitum.eu/african_wildlife#fruitingBody\" />\r\n",
      "  </owl:Class>\r\n",
      "  <!-- http://cognitum.eu/african_wildlife#berry -->\r\n",
      "  <owl:Class rdf:about=\"http://cognitum.eu/african_wildlife#berry\">\r\n",
      "    <rdfs:subClassOf rdf:resource=\"http://cognitum.eu/african_wildlife#fruitingBody\" />\r\n",
      "  </owl:Class>\r\n",
      "  <!-- http://cognitum.eu/african_wildlife#branch -->\r\n",
      "  <owl:Class rdf:about=\"http://cognitum.eu/african_wildlife#branch\">\r\n",
      "    <rdfs:subClassOf rdf:resource=\"http://cognitum.eu/african_wildlife#plantPart\" />\r\n",
      "  </owl:Class>\r\n",
      "  <!-- http://cognitum.eu/african_wildlife#carnivore -->\r\n",
      "  <owl:Class rdf:about=\"http://cognitum.eu/african_wildlife#carnivore\">\r\n",
      "    <rdfs:subClassOf rdf:resource=\"http://cognitum.eu/african_wildlife#animal\" />\r\n",
      "  </owl:Class>\r\n",
      "  <!-- http://cognitum.eu/african_wildlife#carnivorousPlant -->\r\n",
      "  <owl:Class rdf:about=\"http://cognitum.eu/african_wildlife#carnivorousPlant\">\r\n",
      "    <rdfs:subClassOf rdf:resource=\"http://cognitum.eu/african_wildlife#plant\" />\r\n",
      "  </owl:Class>\r\n",
      "  <!-- http://cognitum.eu/african_wildlife#elephant -->\r\n",
      "  <owl:Class rdf:about=\"http://cognitum.eu/african_wildlife#elephant\">\r\n",
      "    <rdfs:subClassOf rdf:resource=\"http://cognitum.eu/african_wildlife#herbivore\" />\r\n",
      "  </owl:Class>\r\n",
      "  <!-- http://cognitum.eu/african_wildlife#fruitingBody -->\r\n",
      "  <owl:Class rdf:about=\"http://cognitum.eu/african_wildlife#fruitingBody\">\r\n",
      "    <rdfs:subClassOf rdf:resource=\"http://cognitum.eu/african_wildlife#plantPart\" />\r\n",
      "  </owl:Class>\r\n",
      "  <!-- http://cognitum.eu/african_wildlife#giraffe -->\r\n",
      "  <owl:Class rdf:about=\"http://cognitum.eu/african_wildlife#giraffe\">\r\n",
      "    <rdfs:subClassOf rdf:resource=\"http://cognitum.eu/african_wildlife#animal\" />\r\n",
      "  </owl:Class>\r\n",
      "  <!-- http://cognitum.eu/african_wildlife#grass -->\r\n",
      "  <owl:Class rdf:about=\"http://cognitum.eu/african_wildlife#grass\">\r\n",
      "    <rdfs:subClassOf rdf:resource=\"http://cognitum.eu/african_wildlife#plant\" />\r\n",
      "  </owl:Class>\r\n",
      "  <!-- http://cognitum.eu/african_wildlife#herbivore -->\r\n",
      "  <owl:Class rdf:about=\"http://cognitum.eu/african_wildlife#herbivore\">\r\n",
      "    <rdfs:subClassOf rdf:resource=\"http://cognitum.eu/african_wildlife#animal\" />\r\n",
      "  </owl:Class>\r\n",
      "  <!-- http://cognitum.eu/african_wildlife#impala -->\r\n",
      "  <owl:Class rdf:about=\"http://cognitum.eu/african_wildlife#impala\">\r\n",
      "    <rdfs:subClassOf rdf:resource=\"http://cognitum.eu/african_wildlife#animal\" />\r\n",
      "  </owl:Class>\r\n",
      "  <!-- http://cognitum.eu/african_wildlife#leaf -->\r\n",
      "  <owl:Class rdf:about=\"http://cognitum.eu/african_wildlife#leaf\">\r\n",
      "    <rdfs:subClassOf rdf:resource=\"http://cognitum.eu/african_wildlife#plantPart\" />\r\n",
      "  </owl:Class>\r\n",
      "  <!-- http://cognitum.eu/african_wildlife#lion -->\r\n",
      "  <owl:Class rdf:about=\"http://cognitum.eu/african_wildlife#lion\">\r\n",
      "    <rdfs:subClassOf rdf:resource=\"http://cognitum.eu/african_wildlife#animal\" />\r\n",
      "    <rdfs:subClassOf rdf:resource=\"http://cognitum.eu/african_wildlife#carnivore\" />\r\n",
      "  </owl:Class>\r\n",
      "  <!-- http://cognitum.eu/african_wildlife#omnivore -->\r\n",
      "  <owl:Class rdf:about=\"http://cognitum.eu/african_wildlife#omnivore\">\r\n",
      "    <rdfs:subClassOf rdf:resource=\"http://cognitum.eu/african_wildlife#animal\" />\r\n",
      "  </owl:Class>\r\n",
      "  <!-- http://cognitum.eu/african_wildlife#palmTree -->\r\n",
      "  <owl:Class rdf:about=\"http://cognitum.eu/african_wildlife#palmTree\">\r\n",
      "    <rdfs:subClassOf rdf:resource=\"http://cognitum.eu/african_wildlife#plant\" />\r\n",
      "  </owl:Class>\r\n",
      "  <!-- http://cognitum.eu/african_wildlife#parsnip -->\r\n",
      "  <owl:Class rdf:about=\"http://cognitum.eu/african_wildlife#parsnip\">\r\n",
      "    <rdfs:subClassOf rdf:resource=\"http://cognitum.eu/african_wildlife#root\" />\r\n",
      "  </owl:Class>\r\n",
      "  <!-- http://cognitum.eu/african_wildlife#phloem -->\r\n",
      "  <owl:Class rdf:about=\"http://cognitum.eu/african_wildlife#phloem\">\r\n",
      "    <rdfs:subClassOf rdf:resource=\"http://cognitum.eu/african_wildlife#plantPart\" />\r\n",
      "  </owl:Class>\r\n",
      "  <!-- http://cognitum.eu/african_wildlife#plant -->\r\n",
      "  <owl:Class rdf:about=\"http://cognitum.eu/african_wildlife#plant\" />\r\n",
      "  <!-- http://cognitum.eu/african_wildlife#plantPart -->\r\n",
      "  <owl:Class rdf:about=\"http://cognitum.eu/african_wildlife#plantPart\" />\r\n",
      "  <!-- http://cognitum.eu/african_wildlife#rockDassie -->\r\n",
      "  <owl:Class rdf:about=\"http://cognitum.eu/african_wildlife#rockDassie\">\r\n",
      "    <rdfs:subClassOf rdf:resource=\"http://cognitum.eu/african_wildlife#animal\" />\r\n",
      "  </owl:Class>\r\n",
      "  <!-- http://cognitum.eu/african_wildlife#root -->\r\n",
      "  <owl:Class rdf:about=\"http://cognitum.eu/african_wildlife#root\">\r\n",
      "    <rdfs:subClassOf rdf:resource=\"http://cognitum.eu/african_wildlife#plantPart\" />\r\n",
      "  </owl:Class>\r\n",
      "  <!-- http://cognitum.eu/african_wildlife#stem -->\r\n",
      "  <owl:Class rdf:about=\"http://cognitum.eu/african_wildlife#stem\">\r\n",
      "    <rdfs:subClassOf rdf:resource=\"http://cognitum.eu/african_wildlife#plantPart\" />\r\n",
      "  </owl:Class>\r\n",
      "  <!-- http://cognitum.eu/african_wildlife#tastyPlant -->\r\n",
      "  <owl:Class rdf:about=\"http://cognitum.eu/african_wildlife#tastyPlant\">\r\n",
      "    <rdfs:subClassOf rdf:resource=\"http://cognitum.eu/african_wildlife#plant\" />\r\n",
      "  </owl:Class>\r\n",
      "  <!-- http://cognitum.eu/african_wildlife#tree -->\r\n",
      "  <owl:Class rdf:about=\"http://cognitum.eu/african_wildlife#tree\">\r\n",
      "    <rdfs:subClassOf rdf:resource=\"http://cognitum.eu/african_wildlife#plant\" />\r\n",
      "  </owl:Class>\r\n",
      "  <!-- http://cognitum.eu/african_wildlife#twig -->\r\n",
      "  <owl:Class rdf:about=\"http://cognitum.eu/african_wildlife#twig\">\r\n",
      "    <rdfs:subClassOf rdf:resource=\"http://cognitum.eu/african_wildlife#plantPart\" />\r\n",
      "  </owl:Class>\r\n",
      "  <!-- http://cognitum.eu/african_wildlife#warthog -->\r\n",
      "  <owl:Class rdf:about=\"http://cognitum.eu/african_wildlife#warthog\">\r\n",
      "    <rdfs:subClassOf rdf:resource=\"http://cognitum.eu/african_wildlife#animal\" />\r\n",
      "  </owl:Class>\r\n",
      "  <!-- http://cognitum.eu/african_wildlife#xylem -->\r\n",
      "  <owl:Class rdf:about=\"http://cognitum.eu/african_wildlife#xylem\">\r\n",
      "    <rdfs:subClassOf rdf:resource=\"http://cognitum.eu/african_wildlife#plantPart\" />\r\n",
      "  </owl:Class>\r\n",
      "</rdf:RDF>\r\n",
      "<!-- Generated by the OWL API (version 3.5.1.c) http://owlapi.sourceforge.net -->\n"
     ]
    }
   ],
   "source": [
    "print(onto.as_rdf())"
   ]
  },
  {
   "cell_type": "markdown",
   "metadata": {},
   "source": [
    "### Part-2: Disjointness\n",
    "In OWL/RL+SWRL profile we deal with Open World Assumption. It means that we need to explicitly specify all the objects that are different from each other. We cannot assume (like e.g. object oriented programming language do) that the different names mean the different things, therefore we need to specify explicitly if two things are different."
   ]
  },
  {
   "cell_type": "code",
   "execution_count": 7,
   "metadata": {
    "scrolled": true
   },
   "outputs": [
    {
     "data": {
      "application/vnd.jupyter.widget-view+json": {
       "model_id": "313f16027f9344daa10aeef90aa2c184",
       "version_major": 2,
       "version_minor": 0
      },
      "text/plain": [
       "VBox(children=(OntoeditWidget(layout=Layout(height='100%', width='90%'), value='Every-single-thing that is a p…"
      ]
     },
     "metadata": {},
     "output_type": "display_data"
    }
   ],
   "source": [
    "parts_editors['02']=CnlEditBox('part_02.encnl',onto)\n",
    "parts_editors['02']"
   ]
  },
  {
   "cell_type": "markdown",
   "metadata": {},
   "source": [
    "Lets test how it works on the example. The example will be defining several instances, that aim to break the consistency of the ontology in som not obvious way."
   ]
  },
  {
   "cell_type": "code",
   "execution_count": 8,
   "metadata": {},
   "outputs": [
    {
     "data": {
      "application/vnd.jupyter.widget-view+json": {
       "model_id": "a80ddfe0d898414bab4a95b86b9c0905",
       "version_major": 2,
       "version_minor": 0
      },
      "text/plain": [
       "VBox(children=(OntoeditWidget(layout=Layout(height='100%', width='90%'), value='Leo-01 is a lion.\\nLeo-01 eats…"
      ]
     },
     "metadata": {},
     "output_type": "display_data"
    }
   ],
   "source": [
    "test_01_edit = CnlEditBox('test_01.encnl',onto)\n",
    "test_01_edit"
   ]
  },
  {
   "cell_type": "markdown",
   "metadata": {},
   "source": [
    "Lets load all the parts ontology ontology togheter with the testing part into the newly created obeject. "
   ]
  },
  {
   "cell_type": "code",
   "execution_count": 9,
   "metadata": {},
   "outputs": [],
   "source": [
    "onto=buildOntology(parts_editors,test_01_edit)"
   ]
  },
  {
   "cell_type": "markdown",
   "metadata": {},
   "source": [
    "We will need also some way to describe what is wrong `printReasoningInfo` and why `printWhy`."
   ]
  },
  {
   "cell_type": "code",
   "execution_count": 10,
   "metadata": {},
   "outputs": [],
   "source": [
    "import json\n",
    "\n",
    "def printReasoningInfo(onto):\n",
    "    info=onto.reasoningInfo()\n",
    "    if info == \"\":\n",
    "        print('all good!')\n",
    "    else:\n",
    "        print(json.dumps(json.loads(info), indent=2, sort_keys=True))\n",
    "\n",
    "def printWhy(onto,fact):\n",
    "    info=json.loads(onto.why(fact))\n",
    "    print(json.dumps(info, indent=2, sort_keys=True))"
   ]
  },
  {
   "cell_type": "markdown",
   "metadata": {},
   "source": [
    "So what is wrong here?"
   ]
  },
  {
   "cell_type": "code",
   "execution_count": 11,
   "metadata": {},
   "outputs": [
    {
     "name": "stdout",
     "output_type": "stream",
     "text": [
      "{\n",
      "  \"errors\": [\n",
      "    {\n",
      "      \"content\": \"Complement classes\",\n",
      "      \"title\": \"inconsistency\",\n",
      "      \"vals\": {\n",
      "        \"concept\": \"animal\",\n",
      "        \"instance\": \"Mary-01\"\n",
      "      }\n",
      "    }\n",
      "  ]\n",
      "}\n"
     ]
    }
   ],
   "source": [
    "printReasoningInfo(onto)"
   ]
  },
  {
   "cell_type": "markdown",
   "metadata": {},
   "source": [
    "Lets draw it on a diagram, this time using force directed layout."
   ]
  },
  {
   "cell_type": "code",
   "execution_count": 12,
   "metadata": {},
   "outputs": [
    {
     "data": {
      "image/svg+xml": [
       "<svg height=\"758pt\" viewBox=\"0.00 0.00 1083.00 758.00\" width=\"1083pt\" xmlns=\"http://www.w3.org/2000/svg\" xmlns:xlink=\"http://www.w3.org/1999/xlink\">\n",
       "<g class=\"graph\" id=\"graph0\" transform=\"scale(1 1) rotate(0) translate(4 754)\">\n",
       "<title>G</title>\n",
       "<polygon fill=\"white\" points=\"-4,4 -4,-754 1079,-754 1079,4 -4,4\" stroke=\"none\"/>\n",
       "<!-- tasty&#45;plant -->\n",
       "<g class=\"node\" id=\"node1\"><title>tasty-plant</title>\n",
       "<path d=\"M158.369,-550.285C158.369,-550.285 204.369,-550.285 204.369,-550.285 210.369,-550.285 216.369,-556.285 216.369,-562.285 216.369,-562.285 216.369,-574.285 216.369,-574.285 216.369,-580.285 210.369,-586.285 204.369,-586.285 204.369,-586.285 158.369,-586.285 158.369,-586.285 152.369,-586.285 146.369,-580.285 146.369,-574.285 146.369,-574.285 146.369,-562.285 146.369,-562.285 146.369,-556.285 152.369,-550.285 158.369,-550.285\" fill=\"aliceblue\" stroke=\"black\" stroke-width=\"0.5\"/>\n",
       "<text font-family=\"Titillium Web\" font-size=\"11.00\" text-anchor=\"middle\" x=\"181.369\" y=\"-565.485\">tasty-plant</text>\n",
       "</g>\n",
       "<!-- plant -->\n",
       "<g class=\"node\" id=\"node2\"><title>plant</title>\n",
       "<path d=\"M295.176,-581.541C295.176,-581.541 325.176,-581.541 325.176,-581.541 331.176,-581.541 337.176,-587.541 337.176,-593.541 337.176,-593.541 337.176,-605.541 337.176,-605.541 337.176,-611.541 331.176,-617.541 325.176,-617.541 325.176,-617.541 295.176,-617.541 295.176,-617.541 289.176,-617.541 283.176,-611.541 283.176,-605.541 283.176,-605.541 283.176,-593.541 283.176,-593.541 283.176,-587.541 289.176,-581.541 295.176,-581.541\" fill=\"aliceblue\" stroke=\"black\" stroke-width=\"0.5\"/>\n",
       "<text font-family=\"Titillium Web\" font-size=\"11.00\" text-anchor=\"middle\" x=\"310.176\" y=\"-596.741\">plant</text>\n",
       "</g>\n",
       "<!-- plant&#45;&#45;tasty&#45;plant -->\n",
       "<g class=\"edge\" id=\"edge1\"><title>plant--tasty-plant</title>\n",
       "<path d=\"M273.159,-590.559C255.388,-586.246 234.198,-581.105 216.658,-576.848\" fill=\"none\" stroke=\"black\" stroke-width=\"0.5\"/>\n",
       "<polygon fill=\"none\" points=\"272.63,-594.032 283.173,-592.989 274.281,-587.229 272.63,-594.032\" stroke=\"black\" stroke-width=\"0.5\"/>\n",
       "</g>\n",
       "<!-- carnivorous&#45;plant -->\n",
       "<g class=\"node\" id=\"node15\"><title>carnivorous-plant</title>\n",
       "<path d=\"M181.159,-629.471C181.159,-629.471 258.159,-629.471 258.159,-629.471 264.159,-629.471 270.159,-635.471 270.159,-641.471 270.159,-641.471 270.159,-653.471 270.159,-653.471 270.159,-659.471 264.159,-665.471 258.159,-665.471 258.159,-665.471 181.159,-665.471 181.159,-665.471 175.159,-665.471 169.159,-659.471 169.159,-653.471 169.159,-653.471 169.159,-641.471 169.159,-641.471 169.159,-635.471 175.159,-629.471 181.159,-629.471\" fill=\"aliceblue\" stroke=\"black\" stroke-width=\"0.5\"/>\n",
       "<text font-family=\"Titillium Web\" font-size=\"11.00\" text-anchor=\"middle\" x=\"219.659\" y=\"-644.671\">carnivorous-plant</text>\n",
       "</g>\n",
       "<!-- plant&#45;&#45;carnivorous&#45;plant -->\n",
       "<g class=\"edge\" id=\"edge12\"><title>plant--carnivorous-plant</title>\n",
       "<path d=\"M274.136,-618.625C267.453,-622.164 260.49,-625.851 253.863,-629.36\" fill=\"none\" stroke=\"black\" stroke-width=\"0.5\"/>\n",
       "<polygon fill=\"none\" points=\"275.818,-621.695 283.018,-613.922 272.542,-615.508 275.818,-621.695\" stroke=\"black\" stroke-width=\"0.5\"/>\n",
       "</g>\n",
       "<!-- palm&#45;tree -->\n",
       "<g class=\"node\" id=\"node20\"><title>palm-tree</title>\n",
       "<path d=\"M414.952,-377.221C414.952,-377.221 455.952,-377.221 455.952,-377.221 461.952,-377.221 467.952,-383.221 467.952,-389.221 467.952,-389.221 467.952,-401.221 467.952,-401.221 467.952,-407.221 461.952,-413.221 455.952,-413.221 455.952,-413.221 414.952,-413.221 414.952,-413.221 408.952,-413.221 402.952,-407.221 402.952,-401.221 402.952,-401.221 402.952,-389.221 402.952,-389.221 402.952,-383.221 408.952,-377.221 414.952,-377.221\" fill=\"aliceblue\" stroke=\"black\" stroke-width=\"0.5\"/>\n",
       "<text font-family=\"Titillium Web\" font-size=\"11.00\" text-anchor=\"middle\" x=\"435.452\" y=\"-392.421\">palm-tree</text>\n",
       "</g>\n",
       "<!-- plant&#45;&#45;palm&#45;tree -->\n",
       "<g class=\"edge\" id=\"edge17\"><title>plant--palm-tree</title>\n",
       "<path d=\"M311.905,-571.444C315.391,-536.538 325.902,-476.8 357.59,-437.526 369.182,-423.158 387.015,-412.965 402.691,-406.189\" fill=\"none\" stroke=\"black\" stroke-width=\"0.5\"/>\n",
       "<polygon fill=\"none\" points=\"308.416,-571.163 311.033,-581.429 315.39,-571.772 308.416,-571.163\" stroke=\"black\" stroke-width=\"0.5\"/>\n",
       "</g>\n",
       "<!-- tree -->\n",
       "<g class=\"node\" id=\"node22\"><title>tree</title>\n",
       "<path d=\"M374.25,-644.286C374.25,-644.286 404.25,-644.286 404.25,-644.286 410.25,-644.286 416.25,-650.286 416.25,-656.286 416.25,-656.286 416.25,-668.286 416.25,-668.286 416.25,-674.286 410.25,-680.286 404.25,-680.286 404.25,-680.286 374.25,-680.286 374.25,-680.286 368.25,-680.286 362.25,-674.286 362.25,-668.286 362.25,-668.286 362.25,-656.286 362.25,-656.286 362.25,-650.286 368.25,-644.286 374.25,-644.286\" fill=\"aliceblue\" stroke=\"black\" stroke-width=\"0.5\"/>\n",
       "<text font-family=\"Titillium Web\" font-size=\"11.00\" text-anchor=\"middle\" x=\"389.25\" y=\"-659.486\">tree</text>\n",
       "</g>\n",
       "<!-- plant&#45;&#45;tree -->\n",
       "<g class=\"edge\" id=\"edge19\"><title>plant--tree</title>\n",
       "<path d=\"M340.952,-623.962C349.435,-630.693 358.485,-637.874 366.43,-644.178\" fill=\"none\" stroke=\"black\" stroke-width=\"0.5\"/>\n",
       "<polygon fill=\"none\" points=\"343.056,-621.164 333.047,-617.689 338.705,-626.647 343.056,-621.164\" stroke=\"black\" stroke-width=\"0.5\"/>\n",
       "</g>\n",
       "<!-- grass -->\n",
       "<g class=\"node\" id=\"node26\"><title>grass</title>\n",
       "<path d=\"M292.09,-713.685C292.09,-713.685 322.09,-713.685 322.09,-713.685 328.09,-713.685 334.09,-719.685 334.09,-725.685 334.09,-725.685 334.09,-737.685 334.09,-737.685 334.09,-743.685 328.09,-749.685 322.09,-749.685 322.09,-749.685 292.09,-749.685 292.09,-749.685 286.09,-749.685 280.09,-743.685 280.09,-737.685 280.09,-737.685 280.09,-725.685 280.09,-725.685 280.09,-719.685 286.09,-713.685 292.09,-713.685\" fill=\"aliceblue\" stroke=\"black\" stroke-width=\"0.5\"/>\n",
       "<text font-family=\"Titillium Web\" font-size=\"11.00\" text-anchor=\"middle\" x=\"307.09\" y=\"-728.885\">grass</text>\n",
       "</g>\n",
       "<!-- plant&#45;&#45;grass -->\n",
       "<g class=\"edge\" id=\"edge23\"><title>plant--grass</title>\n",
       "<path d=\"M309.512,-627.94C308.908,-653.816 308.033,-691.268 307.517,-713.382\" fill=\"none\" stroke=\"black\" stroke-width=\"0.5\"/>\n",
       "<polygon fill=\"none\" points=\"313.018,-627.717 309.753,-617.638 306.02,-627.554 313.018,-627.717\" stroke=\"black\" stroke-width=\"0.5\"/>\n",
       "</g>\n",
       "<!-- apple -->\n",
       "<g class=\"node\" id=\"node3\"><title>apple</title>\n",
       "<path d=\"M486.565,-559.133C486.565,-559.133 516.565,-559.133 516.565,-559.133 522.565,-559.133 528.565,-565.133 528.565,-571.133 528.565,-571.133 528.565,-583.133 528.565,-583.133 528.565,-589.133 522.565,-595.133 516.565,-595.133 516.565,-595.133 486.565,-595.133 486.565,-595.133 480.565,-595.133 474.565,-589.133 474.565,-583.133 474.565,-583.133 474.565,-571.133 474.565,-571.133 474.565,-565.133 480.565,-559.133 486.565,-559.133\" fill=\"aliceblue\" stroke=\"black\" stroke-width=\"0.5\"/>\n",
       "<text font-family=\"Titillium Web\" font-size=\"11.00\" text-anchor=\"middle\" x=\"501.565\" y=\"-574.333\">apple</text>\n",
       "</g>\n",
       "<!-- fruiting&#45;body -->\n",
       "<g class=\"node\" id=\"node4\"><title>fruiting-body</title>\n",
       "<path d=\"M372.79,-440.726C372.79,-440.726 427.79,-440.726 427.79,-440.726 433.79,-440.726 439.79,-446.726 439.79,-452.726 439.79,-452.726 439.79,-464.726 439.79,-464.726 439.79,-470.726 433.79,-476.726 427.79,-476.726 427.79,-476.726 372.79,-476.726 372.79,-476.726 366.79,-476.726 360.79,-470.726 360.79,-464.726 360.79,-464.726 360.79,-452.726 360.79,-452.726 360.79,-446.726 366.79,-440.726 372.79,-440.726\" fill=\"aliceblue\" stroke=\"black\" stroke-width=\"0.5\"/>\n",
       "<text font-family=\"Titillium Web\" font-size=\"11.00\" text-anchor=\"middle\" x=\"400.29\" y=\"-455.926\">fruiting-body</text>\n",
       "</g>\n",
       "<!-- fruiting&#45;body&#45;&#45;apple -->\n",
       "<g class=\"edge\" id=\"edge2\"><title>fruiting-body--apple</title>\n",
       "<path d=\"M422.588,-484.796C441.847,-507.313 469.172,-539.261 486.111,-559.065\" fill=\"none\" stroke=\"black\" stroke-width=\"0.5\"/>\n",
       "<polygon fill=\"none\" points=\"425.052,-482.292 415.892,-476.967 419.732,-486.842 425.052,-482.292\" stroke=\"black\" stroke-width=\"0.5\"/>\n",
       "</g>\n",
       "<!-- berry -->\n",
       "<g class=\"node\" id=\"node12\"><title>berry</title>\n",
       "<path d=\"M491.571,-467.752C491.571,-467.752 521.571,-467.752 521.571,-467.752 527.571,-467.752 533.571,-473.752 533.571,-479.752 533.571,-479.752 533.571,-491.752 533.571,-491.752 533.571,-497.752 527.571,-503.752 521.571,-503.752 521.571,-503.752 491.571,-503.752 491.571,-503.752 485.571,-503.752 479.571,-497.752 479.571,-491.752 479.571,-491.752 479.571,-479.752 479.571,-479.752 479.571,-473.752 485.571,-467.752 491.571,-467.752\" fill=\"aliceblue\" stroke=\"black\" stroke-width=\"0.5\"/>\n",
       "<text font-family=\"Titillium Web\" font-size=\"11.00\" text-anchor=\"middle\" x=\"506.571\" y=\"-482.952\">berry</text>\n",
       "</g>\n",
       "<!-- fruiting&#45;body&#45;&#45;berry -->\n",
       "<g class=\"edge\" id=\"edge9\"><title>fruiting-body--berry</title>\n",
       "<path d=\"M449.63,-471.273C459.93,-473.892 470.421,-476.56 479.545,-478.88\" fill=\"none\" stroke=\"black\" stroke-width=\"0.5\"/>\n",
       "<polygon fill=\"none\" points=\"450.419,-467.862 439.865,-468.789 448.694,-474.646 450.419,-467.862\" stroke=\"black\" stroke-width=\"0.5\"/>\n",
       "</g>\n",
       "<!-- rock&#45;dassie -->\n",
       "<g class=\"node\" id=\"node5\"><title>rock-dassie</title>\n",
       "<path d=\"M1014.3,-352.181C1014.3,-352.181 1063.3,-352.181 1063.3,-352.181 1069.3,-352.181 1075.3,-358.181 1075.3,-364.181 1075.3,-364.181 1075.3,-376.181 1075.3,-376.181 1075.3,-382.181 1069.3,-388.181 1063.3,-388.181 1063.3,-388.181 1014.3,-388.181 1014.3,-388.181 1008.3,-388.181 1002.3,-382.181 1002.3,-376.181 1002.3,-376.181 1002.3,-364.181 1002.3,-364.181 1002.3,-358.181 1008.3,-352.181 1014.3,-352.181\" fill=\"aliceblue\" stroke=\"black\" stroke-width=\"0.5\"/>\n",
       "<text font-family=\"Titillium Web\" font-size=\"11.00\" text-anchor=\"middle\" x=\"1038.8\" y=\"-367.381\">rock-dassie</text>\n",
       "</g>\n",
       "<!-- animal -->\n",
       "<g class=\"node\" id=\"node6\"><title>animal</title>\n",
       "<path d=\"M889.387,-300.284C889.387,-300.284 919.387,-300.284 919.387,-300.284 925.387,-300.284 931.387,-306.284 931.387,-312.284 931.387,-312.284 931.387,-324.284 931.387,-324.284 931.387,-330.284 925.387,-336.284 919.387,-336.284 919.387,-336.284 889.387,-336.284 889.387,-336.284 883.387,-336.284 877.387,-330.284 877.387,-324.284 877.387,-324.284 877.387,-312.284 877.387,-312.284 877.387,-306.284 883.387,-300.284 889.387,-300.284\" fill=\"aliceblue\" stroke=\"black\" stroke-width=\"0.5\"/>\n",
       "<text font-family=\"Titillium Web\" font-size=\"11.00\" text-anchor=\"middle\" x=\"904.387\" y=\"-315.484\">animal</text>\n",
       "</g>\n",
       "<!-- animal&#45;&#45;rock&#45;dassie -->\n",
       "<g class=\"edge\" id=\"edge3\"><title>animal--rock-dassie</title>\n",
       "<path d=\"M941.105,-332.46C960.105,-339.796 983.232,-348.725 1002.21,-356.054\" fill=\"none\" stroke=\"black\" stroke-width=\"0.5\"/>\n",
       "<polygon fill=\"none\" points=\"942.178,-329.123 931.588,-328.786 939.656,-335.653 942.178,-329.123\" stroke=\"black\" stroke-width=\"0.5\"/>\n",
       "</g>\n",
       "<!-- warthog -->\n",
       "<g class=\"node\" id=\"node11\"><title>warthog</title>\n",
       "<path d=\"M979.394,-450.9C979.394,-450.9 1011.39,-450.9 1011.39,-450.9 1017.39,-450.9 1023.39,-456.9 1023.39,-462.9 1023.39,-462.9 1023.39,-474.9 1023.39,-474.9 1023.39,-480.9 1017.39,-486.9 1011.39,-486.9 1011.39,-486.9 979.394,-486.9 979.394,-486.9 973.394,-486.9 967.394,-480.9 967.394,-474.9 967.394,-474.9 967.394,-462.9 967.394,-462.9 967.394,-456.9 973.394,-450.9 979.394,-450.9\" fill=\"aliceblue\" stroke=\"black\" stroke-width=\"0.5\"/>\n",
       "<text font-family=\"Titillium Web\" font-size=\"11.00\" text-anchor=\"middle\" x=\"995.394\" y=\"-466.1\">warthog</text>\n",
       "</g>\n",
       "<!-- animal&#45;&#45;warthog -->\n",
       "<g class=\"edge\" id=\"edge7\"><title>animal--warthog</title>\n",
       "<path d=\"M920.693,-345.269C939.088,-375.713 968.503,-424.396 984.377,-450.668\" fill=\"none\" stroke=\"black\" stroke-width=\"0.5\"/>\n",
       "<polygon fill=\"none\" points=\"923.532,-343.201 915.365,-336.452 917.541,-346.821 923.532,-343.201\" stroke=\"black\" stroke-width=\"0.5\"/>\n",
       "</g>\n",
       "<!-- herbivore -->\n",
       "<g class=\"node\" id=\"node13\"><title>herbivore</title>\n",
       "<path d=\"M722.867,-197.384C722.867,-197.384 760.867,-197.384 760.867,-197.384 766.867,-197.384 772.867,-203.384 772.867,-209.384 772.867,-209.384 772.867,-221.384 772.867,-221.384 772.867,-227.384 766.867,-233.384 760.867,-233.384 760.867,-233.384 722.867,-233.384 722.867,-233.384 716.867,-233.384 710.867,-227.384 710.867,-221.384 710.867,-221.384 710.867,-209.384 710.867,-209.384 710.867,-203.384 716.867,-197.384 722.867,-197.384\" fill=\"aliceblue\" stroke=\"black\" stroke-width=\"0.5\"/>\n",
       "<text font-family=\"Titillium Web\" font-size=\"11.00\" text-anchor=\"middle\" x=\"741.867\" y=\"-212.584\">herbivore</text>\n",
       "</g>\n",
       "<!-- animal&#45;&#45;herbivore -->\n",
       "<g class=\"edge\" id=\"edge10\"><title>animal--herbivore</title>\n",
       "<path d=\"M868.443,-295.526C838.972,-276.866 797.812,-250.806 770.527,-233.53\" fill=\"none\" stroke=\"black\" stroke-width=\"0.5\"/>\n",
       "<polygon fill=\"none\" points=\"866.864,-298.668 877.185,-301.061 870.608,-292.754 866.864,-298.668\" stroke=\"black\" stroke-width=\"0.5\"/>\n",
       "</g>\n",
       "<!-- omnivore -->\n",
       "<g class=\"node\" id=\"node14\"><title>omnivore</title>\n",
       "<path d=\"M831.295,-481.454C831.295,-481.454 869.295,-481.454 869.295,-481.454 875.295,-481.454 881.295,-487.454 881.295,-493.454 881.295,-493.454 881.295,-505.454 881.295,-505.454 881.295,-511.454 875.295,-517.454 869.295,-517.454 869.295,-517.454 831.295,-517.454 831.295,-517.454 825.295,-517.454 819.295,-511.454 819.295,-505.454 819.295,-505.454 819.295,-493.454 819.295,-493.454 819.295,-487.454 825.295,-481.454 831.295,-481.454\" fill=\"aliceblue\" stroke=\"black\" stroke-width=\"0.5\"/>\n",
       "<text font-family=\"Titillium Web\" font-size=\"11.00\" text-anchor=\"middle\" x=\"850.295\" y=\"-496.654\">omnivore</text>\n",
       "</g>\n",
       "<!-- animal&#45;&#45;omnivore -->\n",
       "<g class=\"edge\" id=\"edge11\"><title>animal--omnivore</title>\n",
       "<path d=\"M896.082,-346.101C884.878,-383.627 865.233,-449.423 855.738,-481.224\" fill=\"none\" stroke=\"black\" stroke-width=\"0.5\"/>\n",
       "<polygon fill=\"none\" points=\"899.496,-346.901 899.003,-336.318 892.788,-344.898 899.496,-346.901\" stroke=\"black\" stroke-width=\"0.5\"/>\n",
       "</g>\n",
       "<!-- carnivore -->\n",
       "<g class=\"node\" id=\"node17\"><title>carnivore</title>\n",
       "<path d=\"M886.905,-209.777C886.905,-209.777 923.905,-209.777 923.905,-209.777 929.905,-209.777 935.905,-215.777 935.905,-221.777 935.905,-221.777 935.905,-233.777 935.905,-233.777 935.905,-239.777 929.905,-245.777 923.905,-245.777 923.905,-245.777 886.905,-245.777 886.905,-245.777 880.905,-245.777 874.905,-239.777 874.905,-233.777 874.905,-233.777 874.905,-221.777 874.905,-221.777 874.905,-215.777 880.905,-209.777 886.905,-209.777\" fill=\"aliceblue\" stroke=\"black\" stroke-width=\"0.5\"/>\n",
       "<text font-family=\"Titillium Web\" font-size=\"11.00\" text-anchor=\"middle\" x=\"905.405\" y=\"-224.977\">carnivore</text>\n",
       "</g>\n",
       "<!-- animal&#45;&#45;carnivore -->\n",
       "<g class=\"edge\" id=\"edge14\"><title>animal--carnivore</title>\n",
       "<path d=\"M904.709,-289.672C904.869,-275.404 905.059,-258.572 905.199,-246.065\" fill=\"none\" stroke=\"black\" stroke-width=\"0.5\"/>\n",
       "<polygon fill=\"none\" points=\"901.206,-289.93 904.593,-299.969 908.206,-290.009 901.206,-289.93\" stroke=\"black\" stroke-width=\"0.5\"/>\n",
       "</g>\n",
       "<!-- impala -->\n",
       "<g class=\"node\" id=\"node21\"><title>impala</title>\n",
       "<path d=\"M989.806,-237.558C989.806,-237.558 1019.81,-237.558 1019.81,-237.558 1025.81,-237.558 1031.81,-243.558 1031.81,-249.558 1031.81,-249.558 1031.81,-261.558 1031.81,-261.558 1031.81,-267.558 1025.81,-273.558 1019.81,-273.558 1019.81,-273.558 989.806,-273.558 989.806,-273.558 983.806,-273.558 977.806,-267.558 977.806,-261.558 977.806,-261.558 977.806,-249.558 977.806,-249.558 977.806,-243.558 983.806,-237.558 989.806,-237.558\" fill=\"aliceblue\" stroke=\"black\" stroke-width=\"0.5\"/>\n",
       "<text font-family=\"Titillium Web\" font-size=\"11.00\" text-anchor=\"middle\" x=\"1004.81\" y=\"-252.758\">impala</text>\n",
       "</g>\n",
       "<!-- animal&#45;&#45;impala -->\n",
       "<g class=\"edge\" id=\"edge18\"><title>animal--impala</title>\n",
       "<path d=\"M940.251,-295.882C952.553,-288.198 966.109,-279.73 977.61,-272.546\" fill=\"none\" stroke=\"black\" stroke-width=\"0.5\"/>\n",
       "<polygon fill=\"none\" points=\"938.189,-293.043 931.562,-301.309 941.898,-298.98 938.189,-293.043\" stroke=\"black\" stroke-width=\"0.5\"/>\n",
       "</g>\n",
       "<!-- giraffe -->\n",
       "<g class=\"node\" id=\"node28\"><title>giraffe</title>\n",
       "<path d=\"M723.281,-360.886C723.281,-360.886 753.281,-360.886 753.281,-360.886 759.281,-360.886 765.281,-366.886 765.281,-372.886 765.281,-372.886 765.281,-384.886 765.281,-384.886 765.281,-390.886 759.281,-396.886 753.281,-396.886 753.281,-396.886 723.281,-396.886 723.281,-396.886 717.281,-396.886 711.281,-390.886 711.281,-384.886 711.281,-384.886 711.281,-372.886 711.281,-372.886 711.281,-366.886 717.281,-360.886 723.281,-360.886\" fill=\"aliceblue\" stroke=\"black\" stroke-width=\"0.5\"/>\n",
       "<text font-family=\"Titillium Web\" font-size=\"11.00\" text-anchor=\"middle\" x=\"738.281\" y=\"-376.086\">giraffe</text>\n",
       "</g>\n",
       "<!-- animal&#45;&#45;giraffe -->\n",
       "<g class=\"edge\" id=\"edge25\"><title>animal--giraffe</title>\n",
       "<path d=\"M867.763,-331.646C836.815,-342.937 793.195,-358.851 765.327,-369.019\" fill=\"none\" stroke=\"black\" stroke-width=\"0.5\"/>\n",
       "<polygon fill=\"none\" points=\"869.135,-334.871 877.33,-328.156 866.736,-328.295 869.135,-334.871\" stroke=\"black\" stroke-width=\"0.5\"/>\n",
       "</g>\n",
       "<!-- twig -->\n",
       "<g class=\"node\" id=\"node7\"><title>twig</title>\n",
       "<path d=\"M51.0791,-416.83C51.0791,-416.83 81.0791,-416.83 81.0791,-416.83 87.0791,-416.83 93.0791,-422.83 93.0791,-428.83 93.0791,-428.83 93.0791,-440.83 93.0791,-440.83 93.0791,-446.83 87.0791,-452.83 81.0791,-452.83 81.0791,-452.83 51.0791,-452.83 51.0791,-452.83 45.0791,-452.83 39.0791,-446.83 39.0791,-440.83 39.0791,-440.83 39.0791,-428.83 39.0791,-428.83 39.0791,-422.83 45.0791,-416.83 51.0791,-416.83\" fill=\"aliceblue\" stroke=\"black\" stroke-width=\"0.5\"/>\n",
       "<text font-family=\"Titillium Web\" font-size=\"11.00\" text-anchor=\"middle\" x=\"66.0791\" y=\"-432.03\">twig</text>\n",
       "</g>\n",
       "<!-- plant&#45;part -->\n",
       "<g class=\"node\" id=\"node8\"><title>plant-part</title>\n",
       "<path d=\"M172.471,-310.064C172.471,-310.064 213.471,-310.064 213.471,-310.064 219.471,-310.064 225.471,-316.064 225.471,-322.064 225.471,-322.064 225.471,-334.064 225.471,-334.064 225.471,-340.064 219.471,-346.064 213.471,-346.064 213.471,-346.064 172.471,-346.064 172.471,-346.064 166.471,-346.064 160.471,-340.064 160.471,-334.064 160.471,-334.064 160.471,-322.064 160.471,-322.064 160.471,-316.064 166.471,-310.064 172.471,-310.064\" fill=\"aliceblue\" stroke=\"black\" stroke-width=\"0.5\"/>\n",
       "<text font-family=\"Titillium Web\" font-size=\"11.00\" text-anchor=\"middle\" x=\"192.971\" y=\"-325.264\">plant-part</text>\n",
       "</g>\n",
       "<!-- plant&#45;part&#45;&#45;fruiting&#45;body -->\n",
       "<g class=\"edge\" id=\"edge8\"><title>plant-part--fruiting-body</title>\n",
       "<path d=\"M230.339,-351.615C270.943,-377.205 334.927,-417.531 371.708,-440.712\" fill=\"none\" stroke=\"black\" stroke-width=\"0.5\"/>\n",
       "<polygon fill=\"none\" points=\"232.124,-348.603 221.798,-346.232 228.392,-354.525 232.124,-348.603\" stroke=\"black\" stroke-width=\"0.5\"/>\n",
       "</g>\n",
       "<!-- plant&#45;part&#45;&#45;twig -->\n",
       "<g class=\"edge\" id=\"edge4\"><title>plant-part--twig</title>\n",
       "<path d=\"M179.737,-355.119C172.482,-367.873 162.531,-382.575 150.601,-393.164 133.961,-407.934 111.146,-418.77 93.4142,-425.684\" fill=\"none\" stroke=\"black\" stroke-width=\"0.5\"/>\n",
       "<polygon fill=\"none\" points=\"182.848,-356.723 184.532,-346.263 176.692,-353.39 182.848,-356.723\" stroke=\"black\" stroke-width=\"0.5\"/>\n",
       "</g>\n",
       "<!-- stem -->\n",
       "<g class=\"node\" id=\"node9\"><title>stem</title>\n",
       "<path d=\"M12.2428,-239.335C12.2428,-239.335 42.2428,-239.335 42.2428,-239.335 48.2428,-239.335 54.2428,-245.335 54.2428,-251.335 54.2428,-251.335 54.2428,-263.335 54.2428,-263.335 54.2428,-269.335 48.2428,-275.335 42.2428,-275.335 42.2428,-275.335 12.2428,-275.335 12.2428,-275.335 6.24283,-275.335 0.242831,-269.335 0.242831,-263.335 0.242831,-263.335 0.242831,-251.335 0.242831,-251.335 0.242831,-245.335 6.24283,-239.335 12.2428,-239.335\" fill=\"aliceblue\" stroke=\"black\" stroke-width=\"0.5\"/>\n",
       "<text font-family=\"Titillium Web\" font-size=\"11.00\" text-anchor=\"middle\" x=\"27.2428\" y=\"-254.535\">stem</text>\n",
       "</g>\n",
       "<!-- plant&#45;part&#45;&#45;stem -->\n",
       "<g class=\"edge\" id=\"edge5\"><title>plant-part--stem</title>\n",
       "<path d=\"M150.766,-310.052C120.489,-297.13 80.5826,-280.099 54.4355,-268.94\" fill=\"none\" stroke=\"black\" stroke-width=\"0.5\"/>\n",
       "<polygon fill=\"none\" points=\"149.658,-313.384 160.229,-314.09 152.405,-306.946 149.658,-313.384\" stroke=\"black\" stroke-width=\"0.5\"/>\n",
       "</g>\n",
       "<!-- leaf -->\n",
       "<g class=\"node\" id=\"node10\"><title>leaf</title>\n",
       "<path d=\"M215.35,-107.303C215.35,-107.303 245.35,-107.303 245.35,-107.303 251.35,-107.303 257.35,-113.303 257.35,-119.303 257.35,-119.303 257.35,-131.303 257.35,-131.303 257.35,-137.303 251.35,-143.303 245.35,-143.303 245.35,-143.303 215.35,-143.303 215.35,-143.303 209.35,-143.303 203.35,-137.303 203.35,-131.303 203.35,-131.303 203.35,-119.303 203.35,-119.303 203.35,-113.303 209.35,-107.303 215.35,-107.303\" fill=\"aliceblue\" stroke=\"black\" stroke-width=\"0.5\"/>\n",
       "<text font-family=\"Titillium Web\" font-size=\"11.00\" text-anchor=\"middle\" x=\"230.35\" y=\"-122.503\">leaf</text>\n",
       "</g>\n",
       "<!-- plant&#45;part&#45;&#45;leaf -->\n",
       "<g class=\"edge\" id=\"edge6\"><title>plant-part--leaf</title>\n",
       "<path d=\"M198.184,-299.787C205.983,-257.481 220.469,-178.903 227.002,-143.467\" fill=\"none\" stroke=\"black\" stroke-width=\"0.5\"/>\n",
       "<polygon fill=\"none\" points=\"194.725,-299.244 196.354,-309.713 201.61,-300.513 194.725,-299.244\" stroke=\"black\" stroke-width=\"0.5\"/>\n",
       "</g>\n",
       "<!-- phloem -->\n",
       "<g class=\"node\" id=\"node16\"><title>phloem</title>\n",
       "<path d=\"M310.183,-311.104C310.183,-311.104 340.183,-311.104 340.183,-311.104 346.183,-311.104 352.183,-317.104 352.183,-323.104 352.183,-323.104 352.183,-335.104 352.183,-335.104 352.183,-341.104 346.183,-347.104 340.183,-347.104 340.183,-347.104 310.183,-347.104 310.183,-347.104 304.183,-347.104 298.183,-341.104 298.183,-335.104 298.183,-335.104 298.183,-323.104 298.183,-323.104 298.183,-317.104 304.183,-311.104 310.183,-311.104\" fill=\"aliceblue\" stroke=\"black\" stroke-width=\"0.5\"/>\n",
       "<text font-family=\"Titillium Web\" font-size=\"11.00\" text-anchor=\"middle\" x=\"325.183\" y=\"-326.304\">phloem</text>\n",
       "</g>\n",
       "<!-- plant&#45;part&#45;&#45;phloem -->\n",
       "<g class=\"edge\" id=\"edge13\"><title>plant-part--phloem</title>\n",
       "<path d=\"M235.93,-328.402C256.257,-328.562 279.927,-328.748 297.781,-328.888\" fill=\"none\" stroke=\"black\" stroke-width=\"0.5\"/>\n",
       "<polygon fill=\"none\" points=\"235.68,-324.9 225.653,-328.321 235.625,-331.9 235.68,-324.9\" stroke=\"black\" stroke-width=\"0.5\"/>\n",
       "</g>\n",
       "<!-- branch -->\n",
       "<g class=\"node\" id=\"node18\"><title>branch</title>\n",
       "<path d=\"M105.401,-353.964C105.401,-353.964 135.401,-353.964 135.401,-353.964 141.401,-353.964 147.401,-359.964 147.401,-365.964 147.401,-365.964 147.401,-377.964 147.401,-377.964 147.401,-383.964 141.401,-389.964 135.401,-389.964 135.401,-389.964 105.401,-389.964 105.401,-389.964 99.4011,-389.964 93.4011,-383.964 93.4011,-377.964 93.4011,-377.964 93.4011,-365.964 93.4011,-365.964 93.4011,-359.964 99.4011,-353.964 105.401,-353.964\" fill=\"aliceblue\" stroke=\"black\" stroke-width=\"0.5\"/>\n",
       "<text font-family=\"Titillium Web\" font-size=\"11.00\" text-anchor=\"middle\" x=\"120.401\" y=\"-369.164\">branch</text>\n",
       "</g>\n",
       "<!-- plant&#45;part&#45;&#45;branch -->\n",
       "<g class=\"edge\" id=\"edge15\"><title>plant-part--branch</title>\n",
       "<path d=\"M154.248,-351.489C151.967,-352.869 149.698,-354.242 147.478,-355.584\" fill=\"none\" stroke=\"black\" stroke-width=\"0.5\"/>\n",
       "<polygon fill=\"none\" points=\"156.291,-354.344 163.035,-346.173 152.667,-348.355 156.291,-354.344\" stroke=\"black\" stroke-width=\"0.5\"/>\n",
       "</g>\n",
       "<!-- root -->\n",
       "<g class=\"node\" id=\"node24\"><title>root</title>\n",
       "<path d=\"M91.2725,-152.967C91.2725,-152.967 121.272,-152.967 121.272,-152.967 127.272,-152.967 133.272,-158.967 133.272,-164.967 133.272,-164.967 133.272,-176.967 133.272,-176.967 133.272,-182.967 127.272,-188.967 121.272,-188.967 121.272,-188.967 91.2725,-188.967 91.2725,-188.967 85.2725,-188.967 79.2725,-182.967 79.2725,-176.967 79.2725,-176.967 79.2725,-164.967 79.2725,-164.967 79.2725,-158.967 85.2725,-152.967 91.2725,-152.967\" fill=\"aliceblue\" stroke=\"black\" stroke-width=\"0.5\"/>\n",
       "<text font-family=\"Titillium Web\" font-size=\"11.00\" text-anchor=\"middle\" x=\"106.272\" y=\"-168.167\">root</text>\n",
       "</g>\n",
       "<!-- plant&#45;part&#45;&#45;root -->\n",
       "<g class=\"edge\" id=\"edge21\"><title>plant-part--root</title>\n",
       "<path d=\"M178.163,-301.232C160.543,-269.305 131.601,-216.861 116.369,-189.261\" fill=\"none\" stroke=\"black\" stroke-width=\"0.5\"/>\n",
       "<polygon fill=\"none\" points=\"175.13,-302.979 183.026,-310.043 181.258,-299.597 175.13,-302.979\" stroke=\"black\" stroke-width=\"0.5\"/>\n",
       "</g>\n",
       "<!-- xylem -->\n",
       "<g class=\"node\" id=\"node27\"><title>xylem</title>\n",
       "<path d=\"M342.141,-175.101C342.141,-175.101 372.141,-175.101 372.141,-175.101 378.141,-175.101 384.141,-181.101 384.141,-187.101 384.141,-187.101 384.141,-199.101 384.141,-199.101 384.141,-205.101 378.141,-211.101 372.141,-211.101 372.141,-211.101 342.141,-211.101 342.141,-211.101 336.141,-211.101 330.141,-205.101 330.141,-199.101 330.141,-199.101 330.141,-187.101 330.141,-187.101 330.141,-181.101 336.141,-175.101 342.141,-175.101\" fill=\"aliceblue\" stroke=\"black\" stroke-width=\"0.5\"/>\n",
       "<text font-family=\"Titillium Web\" font-size=\"11.00\" text-anchor=\"middle\" x=\"357.141\" y=\"-190.301\">xylem</text>\n",
       "</g>\n",
       "<!-- plant&#45;part&#45;&#45;xylem -->\n",
       "<g class=\"edge\" id=\"edge24\"><title>plant-part--xylem</title>\n",
       "<path d=\"M222.923,-303.441C255.31,-276.816 306.169,-235.005 335.089,-211.229\" fill=\"none\" stroke=\"black\" stroke-width=\"0.5\"/>\n",
       "<polygon fill=\"none\" points=\"220.614,-300.808 215.112,-309.862 225.059,-306.215 220.614,-300.808\" stroke=\"black\" stroke-width=\"0.5\"/>\n",
       "</g>\n",
       "<!-- elephant -->\n",
       "<g class=\"node\" id=\"node25\"><title>elephant</title>\n",
       "<path d=\"M678.337,-0.836429C678.337,-0.836429 713.337,-0.836429 713.337,-0.836429 719.337,-0.836429 725.337,-6.83643 725.337,-12.8364 725.337,-12.8364 725.337,-24.8364 725.337,-24.8364 725.337,-30.8364 719.337,-36.8364 713.337,-36.8364 713.337,-36.8364 678.337,-36.8364 678.337,-36.8364 672.337,-36.8364 666.337,-30.8364 666.337,-24.8364 666.337,-24.8364 666.337,-12.8364 666.337,-12.8364 666.337,-6.83643 672.337,-0.836429 678.337,-0.836429\" fill=\"aliceblue\" stroke=\"black\" stroke-width=\"0.5\"/>\n",
       "<text font-family=\"Titillium Web\" font-size=\"11.00\" text-anchor=\"middle\" x=\"695.837\" y=\"-16.0364\">elephant</text>\n",
       "</g>\n",
       "<!-- herbivore&#45;&#45;elephant -->\n",
       "<g class=\"edge\" id=\"edge22\"><title>herbivore--elephant</title>\n",
       "<path d=\"M735.308,-187.376C725.717,-146.423 708.133,-71.3413 700.075,-36.931\" fill=\"none\" stroke=\"black\" stroke-width=\"0.5\"/>\n",
       "<polygon fill=\"none\" points=\"731.931,-188.307 737.619,-197.246 738.746,-186.711 731.931,-188.307\" stroke=\"black\" stroke-width=\"0.5\"/>\n",
       "</g>\n",
       "<!-- Mary&#45;01 -->\n",
       "<g class=\"node\" id=\"node30\"><title>Mary-01</title>\n",
       "<path d=\"M553.665,-226.132C553.665,-226.132 588.665,-226.132 588.665,-226.132 594.665,-226.132 600.665,-232.132 600.665,-238.132 600.665,-238.132 600.665,-250.132 600.665,-250.132 600.665,-256.132 594.665,-262.132 588.665,-262.132 588.665,-262.132 553.665,-262.132 553.665,-262.132 547.665,-262.132 541.665,-256.132 541.665,-250.132 541.665,-250.132 541.665,-238.132 541.665,-238.132 541.665,-232.132 547.665,-226.132 553.665,-226.132\" fill=\"whitesmoke\" stroke=\"black\" stroke-width=\"0.5\"/>\n",
       "<text font-family=\"Titillium Web\" font-size=\"11.00\" text-anchor=\"middle\" x=\"571.165\" y=\"-241.332\">Mary-01</text>\n",
       "</g>\n",
       "<!-- herbivore&#45;&#45;Mary&#45;01 -->\n",
       "<g class=\"edge\" id=\"edge29\"><title>herbivore--Mary-01</title>\n",
       "<path d=\"M700.552,-222.342C669.756,-227.528 628.425,-234.489 600.847,-239.133\" fill=\"none\" stroke=\"black\" stroke-dasharray=\"5,2\" stroke-width=\"0.5\"/>\n",
       "<polygon fill=\"none\" points=\"701.278,-225.769 710.557,-220.657 700.115,-218.866 701.278,-225.769\" stroke=\"black\" stroke-width=\"0.5\"/>\n",
       "</g>\n",
       "<!-- Sophie&#45;01 -->\n",
       "<g class=\"node\" id=\"node31\"><title>Sophie-01</title>\n",
       "<path d=\"M672.576,-267.961C672.576,-267.961 714.576,-267.961 714.576,-267.961 720.576,-267.961 726.576,-273.961 726.576,-279.961 726.576,-279.961 726.576,-291.961 726.576,-291.961 726.576,-297.961 720.576,-303.961 714.576,-303.961 714.576,-303.961 672.576,-303.961 672.576,-303.961 666.576,-303.961 660.576,-297.961 660.576,-291.961 660.576,-291.961 660.576,-279.961 660.576,-279.961 660.576,-273.961 666.576,-267.961 672.576,-267.961\" fill=\"whitesmoke\" stroke=\"black\" stroke-width=\"0.5\"/>\n",
       "<text font-family=\"Titillium Web\" font-size=\"11.00\" text-anchor=\"middle\" x=\"693.576\" y=\"-283.161\">Sophie-01</text>\n",
       "</g>\n",
       "<!-- herbivore&#45;&#45;Sophie&#45;01 -->\n",
       "<g class=\"edge\" id=\"edge31\"><title>herbivore--Sophie-01</title>\n",
       "<path d=\"M723.782,-241.815C717.907,-250.402 711.519,-259.737 706.138,-267.602\" fill=\"none\" stroke=\"black\" stroke-dasharray=\"5,2\" stroke-width=\"0.5\"/>\n",
       "<polygon fill=\"none\" points=\"726.672,-243.789 729.431,-233.559 720.895,-239.836 726.672,-243.789\" stroke=\"black\" stroke-width=\"0.5\"/>\n",
       "</g>\n",
       "<!-- lion -->\n",
       "<g class=\"node\" id=\"node19\"><title>lion</title>\n",
       "<path d=\"M813.891,-56.6159C813.891,-56.6159 843.891,-56.6159 843.891,-56.6159 849.891,-56.6159 855.891,-62.6159 855.891,-68.6159 855.891,-68.6159 855.891,-80.6159 855.891,-80.6159 855.891,-86.6159 849.891,-92.6159 843.891,-92.6159 843.891,-92.6159 813.891,-92.6159 813.891,-92.6159 807.891,-92.6159 801.891,-86.6159 801.891,-80.6159 801.891,-80.6159 801.891,-68.6159 801.891,-68.6159 801.891,-62.6159 807.891,-56.6159 813.891,-56.6159\" fill=\"aliceblue\" stroke=\"black\" stroke-width=\"0.5\"/>\n",
       "<text font-family=\"Titillium Web\" font-size=\"11.00\" text-anchor=\"middle\" x=\"828.891\" y=\"-71.8159\">lion</text>\n",
       "</g>\n",
       "<!-- carnivore&#45;&#45;lion -->\n",
       "<g class=\"edge\" id=\"edge16\"><title>carnivore--lion</title>\n",
       "<path d=\"M891.834,-200.613C876.302,-169.522 851.295,-119.463 837.957,-92.7634\" fill=\"none\" stroke=\"black\" stroke-width=\"0.5\"/>\n",
       "<polygon fill=\"none\" points=\"888.727,-202.225 896.327,-209.606 894.989,-199.096 888.727,-202.225\" stroke=\"black\" stroke-width=\"0.5\"/>\n",
       "</g>\n",
       "<!-- Leo&#45;01 -->\n",
       "<g class=\"node\" id=\"node32\"><title>Leo-01</title>\n",
       "<path d=\"M630.3,-171.197C630.3,-171.197 660.3,-171.197 660.3,-171.197 666.3,-171.197 672.3,-177.197 672.3,-183.197 672.3,-183.197 672.3,-195.197 672.3,-195.197 672.3,-201.197 666.3,-207.197 660.3,-207.197 660.3,-207.197 630.3,-207.197 630.3,-207.197 624.3,-207.197 618.3,-201.197 618.3,-195.197 618.3,-195.197 618.3,-183.197 618.3,-183.197 618.3,-177.197 624.3,-171.197 630.3,-171.197\" fill=\"whitesmoke\" stroke=\"black\" stroke-width=\"0.5\"/>\n",
       "<text font-family=\"Titillium Web\" font-size=\"11.00\" text-anchor=\"middle\" x=\"645.3\" y=\"-186.397\">Leo-01</text>\n",
       "</g>\n",
       "<!-- lion&#45;&#45;Leo&#45;01 -->\n",
       "<g class=\"edge\" id=\"edge32\"><title>lion--Leo-01</title>\n",
       "<path d=\"M793.23,-96.8722C757.896,-118.925 704.549,-152.219 672.501,-172.221\" fill=\"none\" stroke=\"black\" stroke-dasharray=\"5,2\" stroke-width=\"0.5\"/>\n",
       "<polygon fill=\"none\" points=\"795.171,-99.7866 801.801,-91.5228 791.465,-93.8482 795.171,-99.7866\" stroke=\"black\" stroke-width=\"0.5\"/>\n",
       "</g>\n",
       "<!-- palm&#45;tree&#45;&#45;Mary&#45;01 -->\n",
       "<g class=\"edge\" id=\"edge28\"><title>palm-tree--Mary-01</title>\n",
       "<path d=\"M458.711,-369.326C486.061,-338.878 530.758,-289.116 554.736,-262.421\" fill=\"none\" stroke=\"black\" stroke-dasharray=\"5,2\" stroke-width=\"0.5\"/>\n",
       "<polygon fill=\"none\" points=\"455.901,-367.218 451.822,-376.996 461.108,-371.895 455.901,-367.218\" stroke=\"black\" stroke-width=\"0.5\"/>\n",
       "</g>\n",
       "<!-- parsnip -->\n",
       "<g class=\"node\" id=\"node23\"><title>parsnip</title>\n",
       "<path d=\"M45.0961,-60.7686C45.0961,-60.7686 75.0961,-60.7686 75.0961,-60.7686 81.0961,-60.7686 87.0961,-66.7686 87.0961,-72.7686 87.0961,-72.7686 87.0961,-84.7686 87.0961,-84.7686 87.0961,-90.7686 81.0961,-96.7686 75.0961,-96.7686 75.0961,-96.7686 45.0961,-96.7686 45.0961,-96.7686 39.0961,-96.7686 33.0961,-90.7686 33.0961,-84.7686 33.0961,-84.7686 33.0961,-72.7686 33.0961,-72.7686 33.0961,-66.7686 39.0961,-60.7686 45.0961,-60.7686\" fill=\"aliceblue\" stroke=\"black\" stroke-width=\"0.5\"/>\n",
       "<text font-family=\"Titillium Web\" font-size=\"11.00\" text-anchor=\"middle\" x=\"60.0961\" y=\"-75.9686\">parsnip</text>\n",
       "</g>\n",
       "<!-- root&#45;&#45;parsnip -->\n",
       "<g class=\"edge\" id=\"edge20\"><title>root--parsnip</title>\n",
       "<path d=\"M92.4728,-143.413C84.945,-128.383 75.8361,-110.196 69.2001,-96.9461\" fill=\"none\" stroke=\"black\" stroke-width=\"0.5\"/>\n",
       "<polygon fill=\"none\" points=\"89.5419,-145.377 97.1495,-152.751 95.8008,-142.243 89.5419,-145.377\" stroke=\"black\" stroke-width=\"0.5\"/>\n",
       "</g>\n",
       "<!-- giraffe&#45;&#45;Sophie&#45;01 -->\n",
       "<g class=\"edge\" id=\"edge30\"><title>giraffe--Sophie-01</title>\n",
       "<path d=\"M725.099,-351.486C717.72,-336.147 708.727,-317.454 702.238,-303.965\" fill=\"none\" stroke=\"black\" stroke-dasharray=\"5,2\" stroke-width=\"0.5\"/>\n",
       "<polygon fill=\"none\" points=\"721.96,-353.033 729.449,-360.527 728.268,-349.998 721.96,-353.033\" stroke=\"black\" stroke-width=\"0.5\"/>\n",
       "</g>\n",
       "<!-- herb -->\n",
       "<g class=\"node\" id=\"node29\"><title>herb</title>\n",
       "<path d=\"M220.629,-413.682C220.629,-413.682 250.629,-413.682 250.629,-413.682 256.629,-413.682 262.629,-419.682 262.629,-425.682 262.629,-425.682 262.629,-437.682 262.629,-437.682 262.629,-443.682 256.629,-449.682 250.629,-449.682 250.629,-449.682 220.629,-449.682 220.629,-449.682 214.629,-449.682 208.629,-443.682 208.629,-437.682 208.629,-437.682 208.629,-425.682 208.629,-425.682 208.629,-419.682 214.629,-413.682 220.629,-413.682\" fill=\"aliceblue\" stroke=\"black\" stroke-width=\"0.5\"/>\n",
       "<text font-family=\"Titillium Web\" font-size=\"11.00\" text-anchor=\"middle\" x=\"235.629\" y=\"-428.882\">herb</text>\n",
       "</g>\n",
       "<!-- herb&#45;&#45;plant -->\n",
       "<g class=\"edge\" id=\"edge26\"><title>herb--plant</title>\n",
       "<path d=\"M247.974,-459.48C263.349,-494.101 289.173,-552.25 302.179,-581.534\" fill=\"none\" stroke=\"black\" stroke-width=\"0.5\"/>\n",
       "<polygon fill=\"none\" points=\"251.006,-457.684 243.749,-449.965 244.609,-460.525 251.006,-457.684\" stroke=\"black\" stroke-width=\"0.5\"/>\n",
       "</g>\n",
       "<!-- herb&#45;&#45;plant&#45;part -->\n",
       "<g class=\"edge\" id=\"edge27\"><title>herb--plant-part</title>\n",
       "<path d=\"M224.369,-404.33C216.815,-385.981 207.074,-362.321 200.46,-346.254\" fill=\"none\" stroke=\"black\" stroke-width=\"0.5\"/>\n",
       "<polygon fill=\"none\" points=\"221.155,-405.719 228.199,-413.633 227.628,-403.054 221.155,-405.719\" stroke=\"black\" stroke-width=\"0.5\"/>\n",
       "</g>\n",
       "<!-- Leo&#45;01&#45;&#45;Mary&#45;01 -->\n",
       "<g class=\"edge\" id=\"edge33\"><title>Leo-01--Mary-01</title>\n",
       "<path d=\"M620.614,-207.49C615.18,-211.516 609.346,-215.839 603.657,-220.055\" fill=\"none\" stroke=\"black\" stroke-width=\"0.5\"/>\n",
       "<polygon fill=\"black\" points=\"595.491,-226.106 600.846,-216.537 599.508,-223.129 603.525,-220.152 603.525,-220.152 603.525,-220.152 599.508,-223.129 606.204,-223.768 595.491,-226.106 595.491,-226.106\" stroke=\"black\" stroke-width=\"0.5\"/>\n",
       "<text font-family=\"Titillium Web\" font-size=\"11.00\" text-anchor=\"middle\" x=\"597.211\" y=\"-207.88\">eats</text>\n",
       "</g>\n",
       "<!-- Leo&#45;01&#45;&#45;Sophie&#45;01 -->\n",
       "<g class=\"edge\" id=\"edge34\"><title>Leo-01--Sophie-01</title>\n",
       "<path d=\"M654.381,-207.398C661.596,-221.859 671.799,-242.311 679.987,-258.722\" fill=\"none\" stroke=\"black\" stroke-width=\"0.5\"/>\n",
       "<polygon fill=\"black\" points=\"684.537,-267.842 676.046,-260.903 682.305,-263.368 680.072,-258.894 680.072,-258.894 680.072,-258.894 682.305,-263.368 684.099,-256.885 684.537,-267.842 684.537,-267.842\" stroke=\"black\" stroke-width=\"0.5\"/>\n",
       "<text font-family=\"Titillium Web\" font-size=\"11.00\" text-anchor=\"middle\" x=\"658.556\" y=\"-241.016\">eats</text>\n",
       "</g>\n",
       "</g>\n",
       "</svg>"
      ],
      "text/plain": [
       "<IPython.core.display.SVG object>"
      ]
     },
     "execution_count": 12,
     "metadata": {},
     "output_type": "execute_result"
    }
   ],
   "source": [
    "onto.draw_graph(layout='force directed')"
   ]
  },
  {
   "cell_type": "code",
   "execution_count": 13,
   "metadata": {},
   "outputs": [
    {
     "name": "stdout",
     "output_type": "stream",
     "text": [
      "{\n",
      "  \"by\": [\n",
      "    {\n",
      "      \"expr\": \"Every carnivore eats nothing-but animals.\"\n",
      "    },\n",
      "    {\n",
      "      \"expr\": \"Every carnivore eats nothing-but animals.\"\n",
      "    },\n",
      "    {\n",
      "      \"expr\": \"Leo-01 eats Mary-01.\"\n",
      "    },\n",
      "    {\n",
      "      \"by\": [\n",
      "        {\n",
      "          \"by\": [\n",
      "            {\n",
      "              \"expr\": \"Every lion is a carnivore.\"\n",
      "            },\n",
      "            {\n",
      "              \"expr\": \"Every carnivore eats nothing-but animals.\"\n",
      "            }\n",
      "          ]\n",
      "        },\n",
      "        {\n",
      "          \"expr\": \"Leo-01 is a lion.\"\n",
      "        }\n",
      "      ]\n",
      "    }\n",
      "  ],\n",
      "  \"concluded\": \"Mary-01 is an animal.\"\n",
      "}\n"
     ]
    }
   ],
   "source": [
    "printWhy(onto,\"Mary-01 is a animal?\")"
   ]
  },
  {
   "cell_type": "markdown",
   "metadata": {},
   "source": [
    "### Part-3: Modal expressions and part-whole relationships."
   ]
  },
  {
   "cell_type": "code",
   "execution_count": 14,
   "metadata": {
    "scrolled": false
   },
   "outputs": [
    {
     "data": {
      "application/vnd.jupyter.widget-view+json": {
       "model_id": "e89ea396ff714933a43ad97a077c96c5",
       "version_major": 2,
       "version_minor": 0
      },
      "text/plain": [
       "VBox(children=(OntoeditWidget(layout=Layout(height='100%', width='90%'), value=\"Every carnivorous-plant must e…"
      ]
     },
     "metadata": {},
     "output_type": "display_data"
    }
   ],
   "source": [
    "parts_editors['03']=CnlEditBox('part_03.encnl',onto)\n",
    "parts_editors['03']"
   ]
  },
  {
   "cell_type": "code",
   "execution_count": 15,
   "metadata": {},
   "outputs": [
    {
     "data": {
      "application/vnd.jupyter.widget-view+json": {
       "model_id": "a16532c714644eb4bbc8804c5772e36d",
       "version_major": 2,
       "version_minor": 0
      },
      "text/plain": [
       "VBox(children=(OntoeditWidget(layout=Layout(height='100%', width='90%'), value='Leo-01 is a lion.\\nLeo-01 eats…"
      ]
     },
     "metadata": {},
     "output_type": "display_data"
    }
   ],
   "source": [
    "test_02_edit = CnlEditBox('test_02.encnl',onto)\n",
    "test_02_edit"
   ]
  },
  {
   "cell_type": "code",
   "execution_count": 16,
   "metadata": {},
   "outputs": [],
   "source": [
    "onto=buildOntology(parts_editors,test_02_edit)"
   ]
  },
  {
   "cell_type": "code",
   "execution_count": 17,
   "metadata": {},
   "outputs": [
    {
     "name": "stdout",
     "output_type": "stream",
     "text": [
      "{\n",
      "  \"modals\": {\n",
      "    \"Every branch must be-part-of a tree.\\r\\n\": [\n",
      "      {\n",
      "        \"?x0\": {\n",
      "          \"instance\": \"Branch-03\"\n",
      "        }\n",
      "      }\n",
      "    ],\n",
      "    \"Every plant-part must be-part-of a plant.\\r\\n\": [\n",
      "      {\n",
      "        \"?x0\": {\n",
      "          \"instance\": \"Branch-03\"\n",
      "        }\n",
      "      }\n",
      "    ]\n",
      "  }\n",
      "}\n"
     ]
    }
   ],
   "source": [
    "printReasoningInfo(onto)"
   ]
  },
  {
   "cell_type": "code",
   "execution_count": 18,
   "metadata": {},
   "outputs": [
    {
     "data": {
      "image/svg+xml": [
       "<svg height=\"1069pt\" viewBox=\"0.00 0.00 908.00 1069.00\" width=\"908pt\" xmlns=\"http://www.w3.org/2000/svg\" xmlns:xlink=\"http://www.w3.org/1999/xlink\">\n",
       "<g class=\"graph\" id=\"graph0\" transform=\"scale(1 1) rotate(0) translate(4 1065)\">\n",
       "<title>G</title>\n",
       "<polygon fill=\"white\" points=\"-4,4 -4,-1065 904,-1065 904,4 -4,4\" stroke=\"none\"/>\n",
       "<!-- tasty&#45;plant -->\n",
       "<g class=\"node\" id=\"node1\"><title>tasty-plant</title>\n",
       "<path d=\"M60.3048,-548.417C60.3048,-548.417 106.305,-548.417 106.305,-548.417 112.305,-548.417 118.305,-554.417 118.305,-560.417 118.305,-560.417 118.305,-572.417 118.305,-572.417 118.305,-578.417 112.305,-584.417 106.305,-584.417 106.305,-584.417 60.3048,-584.417 60.3048,-584.417 54.3048,-584.417 48.3048,-578.417 48.3048,-572.417 48.3048,-572.417 48.3048,-560.417 48.3048,-560.417 48.3048,-554.417 54.3048,-548.417 60.3048,-548.417\" fill=\"aliceblue\" stroke=\"black\" stroke-width=\"0.5\"/>\n",
       "<text font-family=\"Titillium Web\" font-size=\"11.00\" text-anchor=\"middle\" x=\"83.3048\" y=\"-563.617\">tasty-plant</text>\n",
       "</g>\n",
       "<!-- plant -->\n",
       "<g class=\"node\" id=\"node2\"><title>plant</title>\n",
       "<path d=\"M201.472,-683.913C201.472,-683.913 231.472,-683.913 231.472,-683.913 237.472,-683.913 243.472,-689.913 243.472,-695.913 243.472,-695.913 243.472,-707.913 243.472,-707.913 243.472,-713.913 237.472,-719.913 231.472,-719.913 231.472,-719.913 201.472,-719.913 201.472,-719.913 195.472,-719.913 189.472,-713.913 189.472,-707.913 189.472,-707.913 189.472,-695.913 189.472,-695.913 189.472,-689.913 195.472,-683.913 201.472,-683.913\" fill=\"aliceblue\" stroke=\"black\" stroke-width=\"0.5\"/>\n",
       "<text font-family=\"Titillium Web\" font-size=\"11.00\" text-anchor=\"middle\" x=\"216.472\" y=\"-699.113\">plant</text>\n",
       "</g>\n",
       "<!-- plant&#45;&#45;tasty&#45;plant -->\n",
       "<g class=\"edge\" id=\"edge1\"><title>plant--tasty-plant</title>\n",
       "<path d=\"M191.189,-676.188C164.963,-649.503 124.607,-608.442 101.405,-584.834\" fill=\"none\" stroke=\"black\" stroke-width=\"0.5\"/>\n",
       "<polygon fill=\"none\" points=\"189.007,-678.961 198.513,-683.639 193.999,-674.054 189.007,-678.961\" stroke=\"black\" stroke-width=\"0.5\"/>\n",
       "</g>\n",
       "<!-- carnivorous&#45;plant -->\n",
       "<g class=\"node\" id=\"node15\"><title>carnivorous-plant</title>\n",
       "<path d=\"M93.4666,-795.298C93.4666,-795.298 170.467,-795.298 170.467,-795.298 176.467,-795.298 182.467,-801.298 182.467,-807.298 182.467,-807.298 182.467,-819.298 182.467,-819.298 182.467,-825.298 176.467,-831.298 170.467,-831.298 170.467,-831.298 93.4666,-831.298 93.4666,-831.298 87.4666,-831.298 81.4666,-825.298 81.4666,-819.298 81.4666,-819.298 81.4666,-807.298 81.4666,-807.298 81.4666,-801.298 87.4666,-795.298 93.4666,-795.298\" fill=\"aliceblue\" stroke=\"black\" stroke-width=\"0.5\"/>\n",
       "<text font-family=\"Titillium Web\" font-size=\"11.00\" text-anchor=\"middle\" x=\"131.967\" y=\"-810.498\">carnivorous-plant</text>\n",
       "</g>\n",
       "<!-- plant&#45;&#45;carnivorous&#45;plant -->\n",
       "<g class=\"edge\" id=\"edge12\"><title>plant--carnivorous-plant</title>\n",
       "<path d=\"M196.403,-728.365C180.744,-749.005 159.411,-777.124 145.661,-795.247\" fill=\"none\" stroke=\"black\" stroke-width=\"0.5\"/>\n",
       "<polygon fill=\"none\" points=\"199.262,-730.388 202.518,-720.306 193.685,-726.157 199.262,-730.388\" stroke=\"black\" stroke-width=\"0.5\"/>\n",
       "</g>\n",
       "<!-- palm&#45;tree -->\n",
       "<g class=\"node\" id=\"node20\"><title>palm-tree</title>\n",
       "<path d=\"M224.731,-788.784C224.731,-788.784 265.731,-788.784 265.731,-788.784 271.731,-788.784 277.731,-794.784 277.731,-800.784 277.731,-800.784 277.731,-812.784 277.731,-812.784 277.731,-818.784 271.731,-824.784 265.731,-824.784 265.731,-824.784 224.731,-824.784 224.731,-824.784 218.731,-824.784 212.731,-818.784 212.731,-812.784 212.731,-812.784 212.731,-800.784 212.731,-800.784 212.731,-794.784 218.731,-788.784 224.731,-788.784\" fill=\"aliceblue\" stroke=\"black\" stroke-width=\"0.5\"/>\n",
       "<text font-family=\"Titillium Web\" font-size=\"11.00\" text-anchor=\"middle\" x=\"245.231\" y=\"-803.984\">palm-tree</text>\n",
       "</g>\n",
       "<!-- plant&#45;&#45;palm&#45;tree -->\n",
       "<g class=\"edge\" id=\"edge17\"><title>plant--palm-tree</title>\n",
       "<path d=\"M224.152,-729.916C229.269,-748.576 235.844,-772.552 240.279,-788.726\" fill=\"none\" stroke=\"black\" stroke-width=\"0.5\"/>\n",
       "<polygon fill=\"none\" points=\"227.502,-728.898 221.482,-720.18 220.751,-730.75 227.502,-728.898\" stroke=\"black\" stroke-width=\"0.5\"/>\n",
       "</g>\n",
       "<!-- tree -->\n",
       "<g class=\"node\" id=\"node22\"><title>tree</title>\n",
       "<path d=\"M304.093,-680.392C304.093,-680.392 334.093,-680.392 334.093,-680.392 340.093,-680.392 346.093,-686.392 346.093,-692.392 346.093,-692.392 346.093,-704.392 346.093,-704.392 346.093,-710.392 340.093,-716.392 334.093,-716.392 334.093,-716.392 304.093,-716.392 304.093,-716.392 298.093,-716.392 292.093,-710.392 292.093,-704.392 292.093,-704.392 292.093,-692.392 292.093,-692.392 292.093,-686.392 298.093,-680.392 304.093,-680.392\" fill=\"aliceblue\" stroke=\"black\" stroke-width=\"0.5\"/>\n",
       "<text font-family=\"Titillium Web\" font-size=\"11.00\" text-anchor=\"middle\" x=\"319.093\" y=\"-695.592\">tree</text>\n",
       "</g>\n",
       "<!-- plant&#45;&#45;tree -->\n",
       "<g class=\"edge\" id=\"edge19\"><title>plant--tree</title>\n",
       "<path d=\"M253.956,-700.627C266.588,-700.193 280.429,-699.719 292.091,-699.318\" fill=\"none\" stroke=\"black\" stroke-width=\"0.5\"/>\n",
       "<polygon fill=\"none\" points=\"253.577,-697.138 243.703,-700.979 253.817,-704.134 253.577,-697.138\" stroke=\"black\" stroke-width=\"0.5\"/>\n",
       "</g>\n",
       "<!-- grass -->\n",
       "<g class=\"node\" id=\"node26\"><title>grass</title>\n",
       "<path d=\"M12.4293,-701.412C12.4293,-701.412 42.4293,-701.412 42.4293,-701.412 48.4293,-701.412 54.4293,-707.412 54.4293,-713.412 54.4293,-713.412 54.4293,-725.412 54.4293,-725.412 54.4293,-731.412 48.4293,-737.412 42.4293,-737.412 42.4293,-737.412 12.4293,-737.412 12.4293,-737.412 6.4293,-737.412 0.429302,-731.412 0.429302,-725.412 0.429302,-725.412 0.429302,-713.412 0.429302,-713.412 0.429302,-707.412 6.4293,-701.412 12.4293,-701.412\" fill=\"aliceblue\" stroke=\"black\" stroke-width=\"0.5\"/>\n",
       "<text font-family=\"Titillium Web\" font-size=\"11.00\" text-anchor=\"middle\" x=\"27.4293\" y=\"-716.612\">grass</text>\n",
       "</g>\n",
       "<!-- plant&#45;&#45;grass -->\n",
       "<g class=\"edge\" id=\"edge23\"><title>plant--grass</title>\n",
       "<path d=\"M179.083,-705.374C142.336,-708.775 87.1496,-713.884 54.4643,-716.909\" fill=\"none\" stroke=\"black\" stroke-width=\"0.5\"/>\n",
       "<polygon fill=\"none\" points=\"179.752,-708.827 189.387,-704.42 179.107,-701.857 179.752,-708.827\" stroke=\"black\" stroke-width=\"0.5\"/>\n",
       "</g>\n",
       "<!-- apple -->\n",
       "<g class=\"node\" id=\"node3\"><title>apple</title>\n",
       "<path d=\"M114.447,-164.925C114.447,-164.925 144.447,-164.925 144.447,-164.925 150.447,-164.925 156.447,-170.925 156.447,-176.925 156.447,-176.925 156.447,-188.925 156.447,-188.925 156.447,-194.925 150.447,-200.925 144.447,-200.925 144.447,-200.925 114.447,-200.925 114.447,-200.925 108.447,-200.925 102.447,-194.925 102.447,-188.925 102.447,-188.925 102.447,-176.925 102.447,-176.925 102.447,-170.925 108.447,-164.925 114.447,-164.925\" fill=\"aliceblue\" stroke=\"black\" stroke-width=\"0.5\"/>\n",
       "<text font-family=\"Titillium Web\" font-size=\"11.00\" text-anchor=\"middle\" x=\"129.447\" y=\"-180.125\">apple</text>\n",
       "</g>\n",
       "<!-- fruiting&#45;body -->\n",
       "<g class=\"node\" id=\"node4\"><title>fruiting-body</title>\n",
       "<path d=\"M176.573,-252.97C176.573,-252.97 231.573,-252.97 231.573,-252.97 237.573,-252.97 243.573,-258.97 243.573,-264.97 243.573,-264.97 243.573,-276.97 243.573,-276.97 243.573,-282.97 237.573,-288.97 231.573,-288.97 231.573,-288.97 176.573,-288.97 176.573,-288.97 170.573,-288.97 164.573,-282.97 164.573,-276.97 164.573,-276.97 164.573,-264.97 164.573,-264.97 164.573,-258.97 170.573,-252.97 176.573,-252.97\" fill=\"aliceblue\" stroke=\"black\" stroke-width=\"0.5\"/>\n",
       "<text font-family=\"Titillium Web\" font-size=\"11.00\" text-anchor=\"middle\" x=\"204.073\" y=\"-268.17\">fruiting-body</text>\n",
       "</g>\n",
       "<!-- fruiting&#45;body&#45;&#45;apple -->\n",
       "<g class=\"edge\" id=\"edge2\"><title>fruiting-body--apple</title>\n",
       "<path d=\"M181.925,-244.84C170.003,-230.774 155.592,-213.771 144.89,-201.145\" fill=\"none\" stroke=\"black\" stroke-width=\"0.5\"/>\n",
       "<polygon fill=\"none\" points=\"179.475,-247.362 188.61,-252.727 184.814,-242.836 179.475,-247.362\" stroke=\"black\" stroke-width=\"0.5\"/>\n",
       "</g>\n",
       "<!-- berry -->\n",
       "<g class=\"node\" id=\"node12\"><title>berry</title>\n",
       "<path d=\"M18.4168,-309.021C18.4168,-309.021 48.4168,-309.021 48.4168,-309.021 54.4168,-309.021 60.4168,-315.021 60.4168,-321.021 60.4168,-321.021 60.4168,-333.021 60.4168,-333.021 60.4168,-339.021 54.4168,-345.021 48.4168,-345.021 48.4168,-345.021 18.4168,-345.021 18.4168,-345.021 12.4168,-345.021 6.4168,-339.021 6.4168,-333.021 6.4168,-333.021 6.4168,-321.021 6.4168,-321.021 6.4168,-315.021 12.4168,-309.021 18.4168,-309.021\" fill=\"aliceblue\" stroke=\"black\" stroke-width=\"0.5\"/>\n",
       "<text font-family=\"Titillium Web\" font-size=\"11.00\" text-anchor=\"middle\" x=\"33.4168\" y=\"-324.221\">berry</text>\n",
       "</g>\n",
       "<!-- fruiting&#45;body&#45;&#45;berry -->\n",
       "<g class=\"edge\" id=\"edge9\"><title>fruiting-body--berry</title>\n",
       "<path d=\"M154.825,-287.145C124.145,-297.222 85.8379,-309.803 60.552,-318.108\" fill=\"none\" stroke=\"black\" stroke-width=\"0.5\"/>\n",
       "<polygon fill=\"none\" points=\"156.083,-290.416 164.492,-283.97 153.899,-283.765 156.083,-290.416\" stroke=\"black\" stroke-width=\"0.5\"/>\n",
       "</g>\n",
       "<!-- rock&#45;dassie -->\n",
       "<g class=\"node\" id=\"node5\"><title>rock-dassie</title>\n",
       "<path d=\"M738.18,-1024.54C738.18,-1024.54 787.18,-1024.54 787.18,-1024.54 793.18,-1024.54 799.18,-1030.54 799.18,-1036.54 799.18,-1036.54 799.18,-1048.54 799.18,-1048.54 799.18,-1054.54 793.18,-1060.54 787.18,-1060.54 787.18,-1060.54 738.18,-1060.54 738.18,-1060.54 732.18,-1060.54 726.18,-1054.54 726.18,-1048.54 726.18,-1048.54 726.18,-1036.54 726.18,-1036.54 726.18,-1030.54 732.18,-1024.54 738.18,-1024.54\" fill=\"aliceblue\" stroke=\"black\" stroke-width=\"0.5\"/>\n",
       "<text font-family=\"Titillium Web\" font-size=\"11.00\" text-anchor=\"middle\" x=\"762.68\" y=\"-1039.74\">rock-dassie</text>\n",
       "</g>\n",
       "<!-- animal -->\n",
       "<g class=\"node\" id=\"node6\"><title>animal</title>\n",
       "<path d=\"M702.57,-858.883C702.57,-858.883 732.57,-858.883 732.57,-858.883 738.57,-858.883 744.57,-864.883 744.57,-870.883 744.57,-870.883 744.57,-882.883 744.57,-882.883 744.57,-888.883 738.57,-894.883 732.57,-894.883 732.57,-894.883 702.57,-894.883 702.57,-894.883 696.57,-894.883 690.57,-888.883 690.57,-882.883 690.57,-882.883 690.57,-870.883 690.57,-870.883 690.57,-864.883 696.57,-858.883 702.57,-858.883\" fill=\"aliceblue\" stroke=\"black\" stroke-width=\"0.5\"/>\n",
       "<text font-family=\"Titillium Web\" font-size=\"11.00\" text-anchor=\"middle\" x=\"717.57\" y=\"-874.083\">animal</text>\n",
       "</g>\n",
       "<!-- animal&#45;&#45;rock&#45;dassie -->\n",
       "<g class=\"edge\" id=\"edge3\"><title>animal--rock-dassie</title>\n",
       "<path d=\"M725.153,-904.729C734.443,-938.845 749.913,-995.655 757.772,-1024.52\" fill=\"none\" stroke=\"black\" stroke-width=\"0.5\"/>\n",
       "<polygon fill=\"none\" points=\"728.488,-903.655 722.483,-894.926 721.734,-905.495 728.488,-903.655\" stroke=\"black\" stroke-width=\"0.5\"/>\n",
       "</g>\n",
       "<!-- warthog -->\n",
       "<g class=\"node\" id=\"node11\"><title>warthog</title>\n",
       "<path d=\"M506.434,-925.686C506.434,-925.686 538.434,-925.686 538.434,-925.686 544.434,-925.686 550.434,-931.686 550.434,-937.686 550.434,-937.686 550.434,-949.686 550.434,-949.686 550.434,-955.686 544.434,-961.686 538.434,-961.686 538.434,-961.686 506.434,-961.686 506.434,-961.686 500.434,-961.686 494.434,-955.686 494.434,-949.686 494.434,-949.686 494.434,-937.686 494.434,-937.686 494.434,-931.686 500.434,-925.686 506.434,-925.686\" fill=\"aliceblue\" stroke=\"black\" stroke-width=\"0.5\"/>\n",
       "<text font-family=\"Titillium Web\" font-size=\"11.00\" text-anchor=\"middle\" x=\"522.434\" y=\"-940.886\">warthog</text>\n",
       "</g>\n",
       "<!-- animal&#45;&#45;warthog -->\n",
       "<g class=\"edge\" id=\"edge7\"><title>animal--warthog</title>\n",
       "<path d=\"M680.817,-889.465C643.005,-902.41 584.923,-922.293 550.6,-934.043\" fill=\"none\" stroke=\"black\" stroke-width=\"0.5\"/>\n",
       "<polygon fill=\"none\" points=\"682.11,-892.722 690.437,-886.171 679.842,-886.099 682.11,-892.722\" stroke=\"black\" stroke-width=\"0.5\"/>\n",
       "</g>\n",
       "<!-- herbivore -->\n",
       "<g class=\"node\" id=\"node13\"><title>herbivore</title>\n",
       "<path d=\"M579.462,-762.339C579.462,-762.339 617.462,-762.339 617.462,-762.339 623.462,-762.339 629.462,-768.339 629.462,-774.339 629.462,-774.339 629.462,-786.339 629.462,-786.339 629.462,-792.339 623.462,-798.339 617.462,-798.339 617.462,-798.339 579.462,-798.339 579.462,-798.339 573.462,-798.339 567.462,-792.339 567.462,-786.339 567.462,-786.339 567.462,-774.339 567.462,-774.339 567.462,-768.339 573.462,-762.339 579.462,-762.339\" fill=\"aliceblue\" stroke=\"black\" stroke-width=\"0.5\"/>\n",
       "<text font-family=\"Titillium Web\" font-size=\"11.00\" text-anchor=\"middle\" x=\"598.462\" y=\"-777.539\">herbivore</text>\n",
       "</g>\n",
       "<!-- animal&#45;&#45;herbivore -->\n",
       "<g class=\"edge\" id=\"edge10\"><title>animal--herbivore</title>\n",
       "<path d=\"M687.279,-852.331C666.553,-835.531 639.534,-813.631 620.765,-798.417\" fill=\"none\" stroke=\"black\" stroke-width=\"0.5\"/>\n",
       "<polygon fill=\"none\" points=\"685.194,-855.146 695.167,-858.724 689.602,-849.708 685.194,-855.146\" stroke=\"black\" stroke-width=\"0.5\"/>\n",
       "</g>\n",
       "<!-- omnivore -->\n",
       "<g class=\"node\" id=\"node14\"><title>omnivore</title>\n",
       "<path d=\"M627.218,-1021.05C627.218,-1021.05 665.218,-1021.05 665.218,-1021.05 671.218,-1021.05 677.218,-1027.05 677.218,-1033.05 677.218,-1033.05 677.218,-1045.05 677.218,-1045.05 677.218,-1051.05 671.218,-1057.05 665.218,-1057.05 665.218,-1057.05 627.218,-1057.05 627.218,-1057.05 621.218,-1057.05 615.218,-1051.05 615.218,-1045.05 615.218,-1045.05 615.218,-1033.05 615.218,-1033.05 615.218,-1027.05 621.218,-1021.05 627.218,-1021.05\" fill=\"aliceblue\" stroke=\"black\" stroke-width=\"0.5\"/>\n",
       "<text font-family=\"Titillium Web\" font-size=\"11.00\" text-anchor=\"middle\" x=\"646.218\" y=\"-1036.25\">omnivore</text>\n",
       "</g>\n",
       "<!-- animal&#45;&#45;omnivore -->\n",
       "<g class=\"edge\" id=\"edge11\"><title>animal--omnivore</title>\n",
       "<path d=\"M705.323,-904.718C690.745,-937.85 666.812,-992.245 654.344,-1020.58\" fill=\"none\" stroke=\"black\" stroke-width=\"0.5\"/>\n",
       "<polygon fill=\"none\" points=\"708.7,-905.733 709.524,-895.171 702.293,-902.914 708.7,-905.733\" stroke=\"black\" stroke-width=\"0.5\"/>\n",
       "</g>\n",
       "<!-- carnivore -->\n",
       "<g class=\"node\" id=\"node17\"><title>carnivore</title>\n",
       "<path d=\"M787.487,-828.064C787.487,-828.064 824.487,-828.064 824.487,-828.064 830.487,-828.064 836.487,-834.064 836.487,-840.064 836.487,-840.064 836.487,-852.064 836.487,-852.064 836.487,-858.064 830.487,-864.064 824.487,-864.064 824.487,-864.064 787.487,-864.064 787.487,-864.064 781.487,-864.064 775.487,-858.064 775.487,-852.064 775.487,-852.064 775.487,-840.064 775.487,-840.064 775.487,-834.064 781.487,-828.064 787.487,-828.064\" fill=\"aliceblue\" stroke=\"black\" stroke-width=\"0.5\"/>\n",
       "<text font-family=\"Titillium Web\" font-size=\"11.00\" text-anchor=\"middle\" x=\"805.987\" y=\"-843.264\">carnivore</text>\n",
       "</g>\n",
       "<!-- animal&#45;&#45;carnivore -->\n",
       "<g class=\"edge\" id=\"edge14\"><title>animal--carnivore</title>\n",
       "<path d=\"M754.035,-864.173C761.148,-861.693 768.537,-859.118 775.435,-856.713\" fill=\"none\" stroke=\"black\" stroke-width=\"0.5\"/>\n",
       "<polygon fill=\"none\" points=\"752.869,-860.872 744.578,-867.469 755.173,-867.482 752.869,-860.872\" stroke=\"black\" stroke-width=\"0.5\"/>\n",
       "</g>\n",
       "<!-- impala -->\n",
       "<g class=\"node\" id=\"node21\"><title>impala</title>\n",
       "<path d=\"M818.352,-923.999C818.352,-923.999 848.352,-923.999 848.352,-923.999 854.352,-923.999 860.352,-929.999 860.352,-935.999 860.352,-935.999 860.352,-947.999 860.352,-947.999 860.352,-953.999 854.352,-959.999 848.352,-959.999 848.352,-959.999 818.352,-959.999 818.352,-959.999 812.352,-959.999 806.352,-953.999 806.352,-947.999 806.352,-947.999 806.352,-935.999 806.352,-935.999 806.352,-929.999 812.352,-923.999 818.352,-923.999\" fill=\"aliceblue\" stroke=\"black\" stroke-width=\"0.5\"/>\n",
       "<text font-family=\"Titillium Web\" font-size=\"11.00\" text-anchor=\"middle\" x=\"833.352\" y=\"-939.199\">impala</text>\n",
       "</g>\n",
       "<!-- animal&#45;&#45;impala -->\n",
       "<g class=\"edge\" id=\"edge18\"><title>animal--impala</title>\n",
       "<path d=\"M753.748,-897.229C770.62,-906.718 790.369,-917.825 805.975,-926.602\" fill=\"none\" stroke=\"black\" stroke-width=\"0.5\"/>\n",
       "<polygon fill=\"none\" points=\"755.148,-894.001 744.716,-892.15 751.716,-900.102 755.148,-894.001\" stroke=\"black\" stroke-width=\"0.5\"/>\n",
       "</g>\n",
       "<!-- giraffe -->\n",
       "<g class=\"node\" id=\"node28\"><title>giraffe</title>\n",
       "<path d=\"M709.139,-741.144C709.139,-741.144 739.139,-741.144 739.139,-741.144 745.139,-741.144 751.139,-747.144 751.139,-753.144 751.139,-753.144 751.139,-765.144 751.139,-765.144 751.139,-771.144 745.139,-777.144 739.139,-777.144 739.139,-777.144 709.139,-777.144 709.139,-777.144 703.139,-777.144 697.139,-771.144 697.139,-765.144 697.139,-765.144 697.139,-753.144 697.139,-753.144 697.139,-747.144 703.139,-741.144 709.139,-741.144\" fill=\"aliceblue\" stroke=\"black\" stroke-width=\"0.5\"/>\n",
       "<text font-family=\"Titillium Web\" font-size=\"11.00\" text-anchor=\"middle\" x=\"724.139\" y=\"-756.344\">giraffe</text>\n",
       "</g>\n",
       "<!-- animal&#45;&#45;giraffe -->\n",
       "<g class=\"edge\" id=\"edge25\"><title>animal--giraffe</title>\n",
       "<path d=\"M719.146,-848.632C720.378,-826.563 722.053,-796.539 723.115,-777.497\" fill=\"none\" stroke=\"black\" stroke-width=\"0.5\"/>\n",
       "<polygon fill=\"none\" points=\"715.645,-848.565 718.582,-858.744 722.634,-848.955 715.645,-848.565\" stroke=\"black\" stroke-width=\"0.5\"/>\n",
       "</g>\n",
       "<!-- twig -->\n",
       "<g class=\"node\" id=\"node7\"><title>twig</title>\n",
       "<path d=\"M524.126,-148.82C524.126,-148.82 554.126,-148.82 554.126,-148.82 560.126,-148.82 566.126,-154.82 566.126,-160.82 566.126,-160.82 566.126,-172.82 566.126,-172.82 566.126,-178.82 560.126,-184.82 554.126,-184.82 554.126,-184.82 524.126,-184.82 524.126,-184.82 518.126,-184.82 512.126,-178.82 512.126,-172.82 512.126,-172.82 512.126,-160.82 512.126,-160.82 512.126,-154.82 518.126,-148.82 524.126,-148.82\" fill=\"aliceblue\" stroke=\"black\" stroke-width=\"0.5\"/>\n",
       "<text font-family=\"Titillium Web\" font-size=\"11.00\" text-anchor=\"middle\" x=\"539.126\" y=\"-164.02\">twig</text>\n",
       "</g>\n",
       "<!-- plant&#45;part -->\n",
       "<g class=\"node\" id=\"node8\"><title>plant-part</title>\n",
       "<path d=\"M348.645,-331.606C348.645,-331.606 389.645,-331.606 389.645,-331.606 395.645,-331.606 401.645,-337.606 401.645,-343.606 401.645,-343.606 401.645,-355.606 401.645,-355.606 401.645,-361.606 395.645,-367.606 389.645,-367.606 389.645,-367.606 348.645,-367.606 348.645,-367.606 342.645,-367.606 336.645,-361.606 336.645,-355.606 336.645,-355.606 336.645,-343.606 336.645,-343.606 336.645,-337.606 342.645,-331.606 348.645,-331.606\" fill=\"aliceblue\" stroke=\"black\" stroke-width=\"0.5\"/>\n",
       "<text font-family=\"Titillium Web\" font-size=\"11.00\" text-anchor=\"middle\" x=\"369.145\" y=\"-346.806\">plant-part</text>\n",
       "</g>\n",
       "<!-- plant&#45;part&#45;&#45;fruiting&#45;body -->\n",
       "<g class=\"edge\" id=\"edge8\"><title>plant-part--fruiting-body</title>\n",
       "<path d=\"M327.236,-329.642C301.033,-317.159 267.552,-301.21 242.114,-289.092\" fill=\"none\" stroke=\"black\" stroke-width=\"0.5\"/>\n",
       "<polygon fill=\"none\" points=\"325.999,-332.929 336.532,-334.07 329.009,-326.61 325.999,-332.929\" stroke=\"black\" stroke-width=\"0.5\"/>\n",
       "</g>\n",
       "<!-- plant&#45;part&#45;&#45;twig -->\n",
       "<g class=\"edge\" id=\"edge4\"><title>plant-part--twig</title>\n",
       "<path d=\"M393.043,-323.908C427.919,-286.404 491.907,-217.596 522.275,-184.941\" fill=\"none\" stroke=\"black\" stroke-width=\"0.5\"/>\n",
       "<polygon fill=\"none\" points=\"390.312,-321.705 386.065,-331.412 395.438,-326.472 390.312,-321.705\" stroke=\"black\" stroke-width=\"0.5\"/>\n",
       "</g>\n",
       "<!-- stem -->\n",
       "<g class=\"node\" id=\"node9\"><title>stem</title>\n",
       "<path d=\"M273.513,-233.06C273.513,-233.06 303.513,-233.06 303.513,-233.06 309.513,-233.06 315.513,-239.06 315.513,-245.06 315.513,-245.06 315.513,-257.06 315.513,-257.06 315.513,-263.06 309.513,-269.06 303.513,-269.06 303.513,-269.06 273.513,-269.06 273.513,-269.06 267.513,-269.06 261.513,-263.06 261.513,-257.06 261.513,-257.06 261.513,-245.06 261.513,-245.06 261.513,-239.06 267.513,-233.06 273.513,-233.06\" fill=\"aliceblue\" stroke=\"black\" stroke-width=\"0.5\"/>\n",
       "<text font-family=\"Titillium Web\" font-size=\"11.00\" text-anchor=\"middle\" x=\"288.513\" y=\"-248.26\">stem</text>\n",
       "</g>\n",
       "<!-- plant&#45;part&#45;&#45;stem -->\n",
       "<g class=\"edge\" id=\"edge5\"><title>plant-part--stem</title>\n",
       "<path d=\"M347.856,-323.588C333.885,-306.513 315.958,-284.603 303.481,-269.354\" fill=\"none\" stroke=\"black\" stroke-width=\"0.5\"/>\n",
       "<polygon fill=\"none\" points=\"345.314,-326.008 354.356,-331.531 350.732,-321.575 345.314,-326.008\" stroke=\"black\" stroke-width=\"0.5\"/>\n",
       "</g>\n",
       "<!-- leaf -->\n",
       "<g class=\"node\" id=\"node10\"><title>leaf</title>\n",
       "<path d=\"M528.028,-410.738C528.028,-410.738 558.028,-410.738 558.028,-410.738 564.028,-410.738 570.028,-416.738 570.028,-422.738 570.028,-422.738 570.028,-434.738 570.028,-434.738 570.028,-440.738 564.028,-446.738 558.028,-446.738 558.028,-446.738 528.028,-446.738 528.028,-446.738 522.028,-446.738 516.028,-440.738 516.028,-434.738 516.028,-434.738 516.028,-422.738 516.028,-422.738 516.028,-416.738 522.028,-410.738 528.028,-410.738\" fill=\"aliceblue\" stroke=\"black\" stroke-width=\"0.5\"/>\n",
       "<text font-family=\"Titillium Web\" font-size=\"11.00\" text-anchor=\"middle\" x=\"543.028\" y=\"-425.938\">leaf</text>\n",
       "</g>\n",
       "<!-- plant&#45;part&#45;&#45;leaf -->\n",
       "<g class=\"edge\" id=\"edge6\"><title>plant-part--leaf</title>\n",
       "<path d=\"M411.126,-368.711C443.683,-383.528 487.844,-403.625 515.893,-416.389\" fill=\"none\" stroke=\"black\" stroke-width=\"0.5\"/>\n",
       "<polygon fill=\"none\" points=\"412.402,-365.447 401.851,-364.49 409.503,-371.818 412.402,-365.447\" stroke=\"black\" stroke-width=\"0.5\"/>\n",
       "</g>\n",
       "<!-- phloem -->\n",
       "<g class=\"node\" id=\"node16\"><title>phloem</title>\n",
       "<path d=\"M418.5,-192.698C418.5,-192.698 448.5,-192.698 448.5,-192.698 454.5,-192.698 460.5,-198.698 460.5,-204.698 460.5,-204.698 460.5,-216.698 460.5,-216.698 460.5,-222.698 454.5,-228.698 448.5,-228.698 448.5,-228.698 418.5,-228.698 418.5,-228.698 412.5,-228.698 406.5,-222.698 406.5,-216.698 406.5,-216.698 406.5,-204.698 406.5,-204.698 406.5,-198.698 412.5,-192.698 418.5,-192.698\" fill=\"aliceblue\" stroke=\"black\" stroke-width=\"0.5\"/>\n",
       "<text font-family=\"Titillium Web\" font-size=\"11.00\" text-anchor=\"middle\" x=\"433.5\" y=\"-207.898\">phloem</text>\n",
       "</g>\n",
       "<!-- plant&#45;part&#45;&#45;phloem -->\n",
       "<g class=\"edge\" id=\"edge13\"><title>plant-part--phloem</title>\n",
       "<path d=\"M381.787,-322.318C394.596,-294.67 414.051,-252.678 425.085,-228.862\" fill=\"none\" stroke=\"black\" stroke-width=\"0.5\"/>\n",
       "<polygon fill=\"none\" points=\"378.586,-320.901 377.558,-331.446 384.938,-323.844 378.586,-320.901\" stroke=\"black\" stroke-width=\"0.5\"/>\n",
       "</g>\n",
       "<!-- branch -->\n",
       "<g class=\"node\" id=\"node18\"><title>branch</title>\n",
       "<path d=\"M331.684,-423.961C331.684,-423.961 361.684,-423.961 361.684,-423.961 367.684,-423.961 373.684,-429.961 373.684,-435.961 373.684,-435.961 373.684,-447.961 373.684,-447.961 373.684,-453.961 367.684,-459.961 361.684,-459.961 361.684,-459.961 331.684,-459.961 331.684,-459.961 325.684,-459.961 319.684,-453.961 319.684,-447.961 319.684,-447.961 319.684,-435.961 319.684,-435.961 319.684,-429.961 325.684,-423.961 331.684,-423.961\" fill=\"aliceblue\" stroke=\"black\" stroke-width=\"0.5\"/>\n",
       "<text font-family=\"Titillium Web\" font-size=\"11.00\" text-anchor=\"middle\" x=\"346.684\" y=\"-439.161\">branch</text>\n",
       "</g>\n",
       "<!-- plant&#45;part&#45;&#45;branch -->\n",
       "<g class=\"edge\" id=\"edge15\"><title>plant-part--branch</title>\n",
       "<path d=\"M362.328,-377.637C358.687,-392.608 354.31,-410.606 351.113,-423.752\" fill=\"none\" stroke=\"black\" stroke-width=\"0.5\"/>\n",
       "<polygon fill=\"none\" points=\"365.745,-378.396 364.707,-367.852 358.943,-376.742 365.745,-378.396\" stroke=\"black\" stroke-width=\"0.5\"/>\n",
       "</g>\n",
       "<!-- root -->\n",
       "<g class=\"node\" id=\"node24\"><title>root</title>\n",
       "<path d=\"M312.544,-98.866C312.544,-98.866 342.544,-98.866 342.544,-98.866 348.544,-98.866 354.544,-104.866 354.544,-110.866 354.544,-110.866 354.544,-122.866 354.544,-122.866 354.544,-128.866 348.544,-134.866 342.544,-134.866 342.544,-134.866 312.544,-134.866 312.544,-134.866 306.544,-134.866 300.544,-128.866 300.544,-122.866 300.544,-122.866 300.544,-110.866 300.544,-110.866 300.544,-104.866 306.544,-98.866 312.544,-98.866\" fill=\"aliceblue\" stroke=\"black\" stroke-width=\"0.5\"/>\n",
       "<text font-family=\"Titillium Web\" font-size=\"11.00\" text-anchor=\"middle\" x=\"327.544\" y=\"-114.066\">root</text>\n",
       "</g>\n",
       "<!-- plant&#45;part&#45;&#45;root -->\n",
       "<g class=\"edge\" id=\"edge21\"><title>plant-part--root</title>\n",
       "<path d=\"M364.074,-321.235C355.413,-272.782 338.009,-175.412 330.793,-135.044\" fill=\"none\" stroke=\"black\" stroke-width=\"0.5\"/>\n",
       "<polygon fill=\"none\" points=\"360.675,-322.115 365.88,-331.343 367.566,-320.884 360.675,-322.115\" stroke=\"black\" stroke-width=\"0.5\"/>\n",
       "</g>\n",
       "<!-- xylem -->\n",
       "<g class=\"node\" id=\"node27\"><title>xylem</title>\n",
       "<path d=\"M516.294,-298.167C516.294,-298.167 546.294,-298.167 546.294,-298.167 552.294,-298.167 558.294,-304.167 558.294,-310.167 558.294,-310.167 558.294,-322.167 558.294,-322.167 558.294,-328.167 552.294,-334.167 546.294,-334.167 546.294,-334.167 516.294,-334.167 516.294,-334.167 510.294,-334.167 504.294,-328.167 504.294,-322.167 504.294,-322.167 504.294,-310.167 504.294,-310.167 504.294,-304.167 510.294,-298.167 516.294,-298.167\" fill=\"aliceblue\" stroke=\"black\" stroke-width=\"0.5\"/>\n",
       "<text font-family=\"Titillium Web\" font-size=\"11.00\" text-anchor=\"middle\" x=\"531.294\" y=\"-313.367\">xylem</text>\n",
       "</g>\n",
       "<!-- plant&#45;part&#45;&#45;xylem -->\n",
       "<g class=\"edge\" id=\"edge24\"><title>plant-part--xylem</title>\n",
       "<path d=\"M411.904,-340.788C441.14,-334.759 479.008,-326.95 504.174,-321.76\" fill=\"none\" stroke=\"black\" stroke-width=\"0.5\"/>\n",
       "<polygon fill=\"none\" points=\"411.045,-337.392 401.958,-342.839 412.459,-344.247 411.045,-337.392\" stroke=\"black\" stroke-width=\"0.5\"/>\n",
       "</g>\n",
       "<!-- Leaf&#45;01 -->\n",
       "<g class=\"node\" id=\"node34\"><title>Leaf-01</title>\n",
       "<path d=\"M583.325,-495.75C583.325,-495.75 614.325,-495.75 614.325,-495.75 620.325,-495.75 626.325,-501.75 626.325,-507.75 626.325,-507.75 626.325,-519.75 626.325,-519.75 626.325,-525.75 620.325,-531.75 614.325,-531.75 614.325,-531.75 583.325,-531.75 583.325,-531.75 577.325,-531.75 571.325,-525.75 571.325,-519.75 571.325,-519.75 571.325,-507.75 571.325,-507.75 571.325,-501.75 577.325,-495.75 583.325,-495.75\" fill=\"whitesmoke\" stroke=\"black\" stroke-width=\"0.5\"/>\n",
       "<text font-family=\"Titillium Web\" font-size=\"11.00\" text-anchor=\"middle\" x=\"598.825\" y=\"-510.95\">Leaf-01</text>\n",
       "</g>\n",
       "<!-- leaf&#45;&#45;Leaf&#45;01 -->\n",
       "<g class=\"edge\" id=\"edge32\"><title>leaf--Leaf-01</title>\n",
       "<path d=\"M560.533,-455.409C569.153,-468.543 579.319,-484.031 587.009,-495.747\" fill=\"none\" stroke=\"black\" stroke-dasharray=\"5,2\" stroke-width=\"0.5\"/>\n",
       "<polygon fill=\"none\" points=\"563.274,-453.207 554.861,-446.767 557.422,-457.048 563.274,-453.207\" stroke=\"black\" stroke-width=\"0.5\"/>\n",
       "</g>\n",
       "<!-- elephant -->\n",
       "<g class=\"node\" id=\"node25\"><title>elephant</title>\n",
       "<path d=\"M490.557,-792.28C490.557,-792.28 525.557,-792.28 525.557,-792.28 531.557,-792.28 537.557,-798.28 537.557,-804.28 537.557,-804.28 537.557,-816.28 537.557,-816.28 537.557,-822.28 531.557,-828.28 525.557,-828.28 525.557,-828.28 490.557,-828.28 490.557,-828.28 484.557,-828.28 478.557,-822.28 478.557,-816.28 478.557,-816.28 478.557,-804.28 478.557,-804.28 478.557,-798.28 484.557,-792.28 490.557,-792.28\" fill=\"aliceblue\" stroke=\"black\" stroke-width=\"0.5\"/>\n",
       "<text font-family=\"Titillium Web\" font-size=\"11.00\" text-anchor=\"middle\" x=\"508.057\" y=\"-807.48\">elephant</text>\n",
       "</g>\n",
       "<!-- herbivore&#45;&#45;elephant -->\n",
       "<g class=\"edge\" id=\"edge22\"><title>herbivore--elephant</title>\n",
       "<path d=\"M557.663,-793.851C550.94,-796.078 544.085,-798.348 537.702,-800.462\" fill=\"none\" stroke=\"black\" stroke-width=\"0.5\"/>\n",
       "<polygon fill=\"none\" points=\"558.957,-797.11 567.35,-790.643 556.756,-790.465 558.957,-797.11\" stroke=\"black\" stroke-width=\"0.5\"/>\n",
       "</g>\n",
       "<!-- Sophie&#45;01 -->\n",
       "<g class=\"node\" id=\"node35\"><title>Sophie-01</title>\n",
       "<path d=\"M633.284,-577.226C633.284,-577.226 675.284,-577.226 675.284,-577.226 681.284,-577.226 687.284,-583.226 687.284,-589.226 687.284,-589.226 687.284,-601.226 687.284,-601.226 687.284,-607.226 681.284,-613.226 675.284,-613.226 675.284,-613.226 633.284,-613.226 633.284,-613.226 627.284,-613.226 621.284,-607.226 621.284,-601.226 621.284,-601.226 621.284,-589.226 621.284,-589.226 621.284,-583.226 627.284,-577.226 633.284,-577.226\" fill=\"whitesmoke\" stroke=\"black\" stroke-width=\"0.5\"/>\n",
       "<text font-family=\"Titillium Web\" font-size=\"11.00\" text-anchor=\"middle\" x=\"654.284\" y=\"-592.426\">Sophie-01</text>\n",
       "</g>\n",
       "<!-- herbivore&#45;&#45;Sophie&#45;01 -->\n",
       "<g class=\"edge\" id=\"edge34\"><title>herbivore--Sophie-01</title>\n",
       "<path d=\"M606.936,-752.238C618.537,-713.766 639.037,-645.788 648.808,-613.386\" fill=\"none\" stroke=\"black\" stroke-dasharray=\"5,2\" stroke-width=\"0.5\"/>\n",
       "<polygon fill=\"none\" points=\"603.452,-751.668 603.916,-762.253 610.154,-753.689 603.452,-751.668\" stroke=\"black\" stroke-width=\"0.5\"/>\n",
       "</g>\n",
       "<!-- lion -->\n",
       "<g class=\"node\" id=\"node19\"><title>lion</title>\n",
       "<path d=\"M857.535,-641.867C857.535,-641.867 887.535,-641.867 887.535,-641.867 893.535,-641.867 899.535,-647.867 899.535,-653.867 899.535,-653.867 899.535,-665.867 899.535,-665.867 899.535,-671.867 893.535,-677.867 887.535,-677.867 887.535,-677.867 857.535,-677.867 857.535,-677.867 851.535,-677.867 845.535,-671.867 845.535,-665.867 845.535,-665.867 845.535,-653.867 845.535,-653.867 845.535,-647.867 851.535,-641.867 857.535,-641.867\" fill=\"aliceblue\" stroke=\"black\" stroke-width=\"0.5\"/>\n",
       "<text font-family=\"Titillium Web\" font-size=\"11.00\" text-anchor=\"middle\" x=\"872.535\" y=\"-657.067\">lion</text>\n",
       "</g>\n",
       "<!-- carnivore&#45;&#45;lion -->\n",
       "<g class=\"edge\" id=\"edge16\"><title>carnivore--lion</title>\n",
       "<path d=\"M815.912,-818.293C829.711,-779.687 854.308,-710.864 866.007,-678.133\" fill=\"none\" stroke=\"black\" stroke-width=\"0.5\"/>\n",
       "<polygon fill=\"none\" points=\"812.559,-817.277 812.489,-827.872 819.15,-819.633 812.559,-817.277\" stroke=\"black\" stroke-width=\"0.5\"/>\n",
       "</g>\n",
       "<!-- Branch&#45;03 -->\n",
       "<g class=\"node\" id=\"node30\"><title>Branch-03</title>\n",
       "<path d=\"M198.749,-420.869C198.749,-420.869 242.749,-420.869 242.749,-420.869 248.749,-420.869 254.749,-426.869 254.749,-432.869 254.749,-432.869 254.749,-444.869 254.749,-444.869 254.749,-450.869 248.749,-456.869 242.749,-456.869 242.749,-456.869 198.749,-456.869 198.749,-456.869 192.749,-456.869 186.749,-450.869 186.749,-444.869 186.749,-444.869 186.749,-432.869 186.749,-432.869 186.749,-426.869 192.749,-420.869 198.749,-420.869\" fill=\"whitesmoke\" stroke=\"black\" stroke-width=\"0.5\"/>\n",
       "<text font-family=\"Titillium Web\" font-size=\"11.00\" text-anchor=\"middle\" x=\"220.749\" y=\"-436.069\">Branch-03</text>\n",
       "</g>\n",
       "<!-- branch&#45;&#45;Branch&#45;03 -->\n",
       "<g class=\"edge\" id=\"edge28\"><title>branch--Branch-03</title>\n",
       "<path d=\"M309.385,-441.045C292.132,-440.621 271.776,-440.121 254.926,-439.708\" fill=\"none\" stroke=\"black\" stroke-dasharray=\"5,2\" stroke-width=\"0.5\"/>\n",
       "<polygon fill=\"none\" points=\"309.585,-444.551 319.668,-441.297 309.757,-437.553 309.585,-444.551\" stroke=\"black\" stroke-width=\"0.5\"/>\n",
       "</g>\n",
       "<!-- Branch&#45;01 -->\n",
       "<g class=\"node\" id=\"node31\"><title>Branch-01</title>\n",
       "<path d=\"M524.702,-583.202C524.702,-583.202 568.702,-583.202 568.702,-583.202 574.702,-583.202 580.702,-589.202 580.702,-595.202 580.702,-595.202 580.702,-607.202 580.702,-607.202 580.702,-613.202 574.702,-619.202 568.702,-619.202 568.702,-619.202 524.702,-619.202 524.702,-619.202 518.702,-619.202 512.702,-613.202 512.702,-607.202 512.702,-607.202 512.702,-595.202 512.702,-595.202 512.702,-589.202 518.702,-583.202 524.702,-583.202\" fill=\"whitesmoke\" stroke=\"black\" stroke-width=\"0.5\"/>\n",
       "<text font-family=\"Titillium Web\" font-size=\"11.00\" text-anchor=\"middle\" x=\"546.702\" y=\"-598.402\">Branch-01</text>\n",
       "</g>\n",
       "<!-- branch&#45;&#45;Branch&#45;01 -->\n",
       "<g class=\"edge\" id=\"edge29\"><title>branch--Branch-01</title>\n",
       "<path d=\"M361.559,-469.066C371.236,-484.975 384.974,-504.697 400.771,-519.002 434.397,-549.449 481.231,-573.312 512.689,-587.31\" fill=\"none\" stroke=\"black\" stroke-dasharray=\"5,2\" stroke-width=\"0.5\"/>\n",
       "<polygon fill=\"none\" points=\"364.434,-467.052 356.345,-460.21 358.402,-470.603 364.434,-467.052\" stroke=\"black\" stroke-width=\"0.5\"/>\n",
       "</g>\n",
       "<!-- Branch&#45;02 -->\n",
       "<g class=\"node\" id=\"node32\"><title>Branch-02</title>\n",
       "<path d=\"M415.971,-479.802C415.971,-479.802 459.971,-479.802 459.971,-479.802 465.971,-479.802 471.971,-485.802 471.971,-491.802 471.971,-491.802 471.971,-503.802 471.971,-503.802 471.971,-509.802 465.971,-515.802 459.971,-515.802 459.971,-515.802 415.971,-515.802 415.971,-515.802 409.971,-515.802 403.971,-509.802 403.971,-503.802 403.971,-503.802 403.971,-491.802 403.971,-491.802 403.971,-485.802 409.971,-479.802 415.971,-479.802\" fill=\"whitesmoke\" stroke=\"black\" stroke-width=\"0.5\"/>\n",
       "<text font-family=\"Titillium Web\" font-size=\"11.00\" text-anchor=\"middle\" x=\"437.971\" y=\"-495.002\">Branch-02</text>\n",
       "</g>\n",
       "<!-- branch&#45;&#45;Branch&#45;02 -->\n",
       "<g class=\"edge\" id=\"edge30\"><title>branch--Branch-02</title>\n",
       "<path d=\"M382.715,-464.001C391.22,-469.203 400.192,-474.691 408.375,-479.697\" fill=\"none\" stroke=\"black\" stroke-dasharray=\"5,2\" stroke-width=\"0.5\"/>\n",
       "<polygon fill=\"none\" points=\"384.431,-460.947 374.074,-458.715 380.778,-466.919 384.431,-460.947\" stroke=\"black\" stroke-width=\"0.5\"/>\n",
       "</g>\n",
       "<!-- Leo&#45;01 -->\n",
       "<g class=\"node\" id=\"node36\"><title>Leo-01</title>\n",
       "<path d=\"M792.67,-557.935C792.67,-557.935 822.67,-557.935 822.67,-557.935 828.67,-557.935 834.67,-563.935 834.67,-569.935 834.67,-569.935 834.67,-581.935 834.67,-581.935 834.67,-587.935 828.67,-593.935 822.67,-593.935 822.67,-593.935 792.67,-593.935 792.67,-593.935 786.67,-593.935 780.67,-587.935 780.67,-581.935 780.67,-581.935 780.67,-569.935 780.67,-569.935 780.67,-563.935 786.67,-557.935 792.67,-557.935\" fill=\"whitesmoke\" stroke=\"black\" stroke-width=\"0.5\"/>\n",
       "<text font-family=\"Titillium Web\" font-size=\"11.00\" text-anchor=\"middle\" x=\"807.67\" y=\"-573.135\">Leo-01</text>\n",
       "</g>\n",
       "<!-- lion&#45;&#45;Leo&#45;01 -->\n",
       "<g class=\"edge\" id=\"edge35\"><title>lion--Leo-01</title>\n",
       "<path d=\"M852.245,-633.613C842.326,-620.778 830.637,-605.653 821.718,-594.111\" fill=\"none\" stroke=\"black\" stroke-dasharray=\"5,2\" stroke-width=\"0.5\"/>\n",
       "<polygon fill=\"none\" points=\"849.576,-635.883 858.46,-641.655 855.115,-631.602 849.576,-635.883\" stroke=\"black\" stroke-width=\"0.5\"/>\n",
       "</g>\n",
       "<!-- Mary&#45;01 -->\n",
       "<g class=\"node\" id=\"node33\"><title>Mary-01</title>\n",
       "<path d=\"M414.051,-644.438C414.051,-644.438 449.051,-644.438 449.051,-644.438 455.051,-644.438 461.051,-650.438 461.051,-656.438 461.051,-656.438 461.051,-668.438 461.051,-668.438 461.051,-674.438 455.051,-680.438 449.051,-680.438 449.051,-680.438 414.051,-680.438 414.051,-680.438 408.051,-680.438 402.051,-674.438 402.051,-668.438 402.051,-668.438 402.051,-656.438 402.051,-656.438 402.051,-650.438 408.051,-644.438 414.051,-644.438\" fill=\"whitesmoke\" stroke=\"black\" stroke-width=\"0.5\"/>\n",
       "<text font-family=\"Titillium Web\" font-size=\"11.00\" text-anchor=\"middle\" x=\"431.551\" y=\"-659.638\">Mary-01</text>\n",
       "</g>\n",
       "<!-- tree&#45;&#45;Mary&#45;01 -->\n",
       "<g class=\"edge\" id=\"edge31\"><title>tree--Mary-01</title>\n",
       "<path d=\"M356.19,-686.532C371.003,-681.796 387.827,-676.417 401.816,-671.945\" fill=\"none\" stroke=\"black\" stroke-dasharray=\"5,2\" stroke-width=\"0.5\"/>\n",
       "<polygon fill=\"none\" points=\"354.775,-683.309 346.316,-689.688 356.907,-689.977 354.775,-683.309\" stroke=\"black\" stroke-width=\"0.5\"/>\n",
       "</g>\n",
       "<!-- parsnip -->\n",
       "<g class=\"node\" id=\"node23\"><title>parsnip</title>\n",
       "<path d=\"M319.584,-0.344907C319.584,-0.344907 349.584,-0.344907 349.584,-0.344907 355.584,-0.344907 361.584,-6.34491 361.584,-12.3449 361.584,-12.3449 361.584,-24.3449 361.584,-24.3449 361.584,-30.3449 355.584,-36.3449 349.584,-36.3449 349.584,-36.3449 319.584,-36.3449 319.584,-36.3449 313.584,-36.3449 307.584,-30.3449 307.584,-24.3449 307.584,-24.3449 307.584,-12.3449 307.584,-12.3449 307.584,-6.34491 313.584,-0.344907 319.584,-0.344907\" fill=\"aliceblue\" stroke=\"black\" stroke-width=\"0.5\"/>\n",
       "<text font-family=\"Titillium Web\" font-size=\"11.00\" text-anchor=\"middle\" x=\"334.584\" y=\"-15.5449\">parsnip</text>\n",
       "</g>\n",
       "<!-- root&#45;&#45;parsnip -->\n",
       "<g class=\"edge\" id=\"edge20\"><title>root--parsnip</title>\n",
       "<path d=\"M329.571,-88.4975C330.764,-71.8061 332.238,-51.1866 333.277,-36.6343\" fill=\"none\" stroke=\"black\" stroke-width=\"0.5\"/>\n",
       "<polygon fill=\"none\" points=\"326.057,-88.5717 328.835,-98.7957 333.039,-89.0707 326.057,-88.5717\" stroke=\"black\" stroke-width=\"0.5\"/>\n",
       "</g>\n",
       "<!-- giraffe&#45;&#45;Sophie&#45;01 -->\n",
       "<g class=\"edge\" id=\"edge33\"><title>giraffe--Sophie-01</title>\n",
       "<path d=\"M712.458,-731.734C698.149,-698.156 674.305,-642.205 662.062,-613.476\" fill=\"none\" stroke=\"black\" stroke-dasharray=\"5,2\" stroke-width=\"0.5\"/>\n",
       "<polygon fill=\"none\" points=\"709.257,-733.148 716.397,-740.976 715.696,-730.404 709.257,-733.148\" stroke=\"black\" stroke-width=\"0.5\"/>\n",
       "</g>\n",
       "<!-- herb -->\n",
       "<g class=\"node\" id=\"node29\"><title>herb</title>\n",
       "<path d=\"M260.461,-494.346C260.461,-494.346 290.461,-494.346 290.461,-494.346 296.461,-494.346 302.461,-500.346 302.461,-506.346 302.461,-506.346 302.461,-518.346 302.461,-518.346 302.461,-524.346 296.461,-530.346 290.461,-530.346 290.461,-530.346 260.461,-530.346 260.461,-530.346 254.461,-530.346 248.461,-524.346 248.461,-518.346 248.461,-518.346 248.461,-506.346 248.461,-506.346 248.461,-500.346 254.461,-494.346 260.461,-494.346\" fill=\"aliceblue\" stroke=\"black\" stroke-width=\"0.5\"/>\n",
       "<text font-family=\"Titillium Web\" font-size=\"11.00\" text-anchor=\"middle\" x=\"275.461\" y=\"-509.546\">herb</text>\n",
       "</g>\n",
       "<!-- herb&#45;&#45;plant -->\n",
       "<g class=\"edge\" id=\"edge26\"><title>herb--plant</title>\n",
       "<path d=\"M266.765,-540.291C254.496,-579.72 232.449,-650.571 222.111,-683.792\" fill=\"none\" stroke=\"black\" stroke-width=\"0.5\"/>\n",
       "<polygon fill=\"none\" points=\"270.176,-541.111 269.805,-530.523 263.492,-539.031 270.176,-541.111\" stroke=\"black\" stroke-width=\"0.5\"/>\n",
       "</g>\n",
       "<!-- herb&#45;&#45;plant&#45;part -->\n",
       "<g class=\"edge\" id=\"edge27\"><title>herb--plant-part</title>\n",
       "<path d=\"M285.95,-484.862C293.483,-466.262 304.408,-441.414 316.484,-420.761 327.578,-401.789 342.709,-381.81 353.906,-367.869\" fill=\"none\" stroke=\"black\" stroke-width=\"0.5\"/>\n",
       "<polygon fill=\"none\" points=\"282.67,-483.639 282.23,-494.225 289.175,-486.224 282.67,-483.639\" stroke=\"black\" stroke-width=\"0.5\"/>\n",
       "</g>\n",
       "<!-- Branch&#45;01&#45;&#45;Branch&#45;02 -->\n",
       "<g class=\"edge\" id=\"edge36\"><title>Branch-01--Branch-02</title>\n",
       "<path d=\"M534.501,-582.836C519.687,-566.09 494.318,-541.383 473.266,-522.859\" fill=\"none\" stroke=\"black\" stroke-width=\"0.5\"/>\n",
       "<polygon fill=\"black\" points=\"465.44,-516.091 475.948,-519.228 469.222,-519.362 473.004,-522.632 473.004,-522.632 473.004,-522.632 469.222,-519.362 470.061,-526.036 465.44,-516.091 465.44,-516.091\" stroke=\"black\" stroke-width=\"0.5\"/>\n",
       "<text font-family=\"Titillium Web\" font-size=\"11.00\" text-anchor=\"middle\" x=\"479.598\" y=\"-539.742\">has-part</text>\n",
       "</g>\n",
       "<!-- Branch&#45;01&#45;&#45;Mary&#45;01 -->\n",
       "<g class=\"edge\" id=\"edge37\"><title>Branch-01--Mary-01</title>\n",
       "<path d=\"M512.689,-612.41C496.696,-619.944 477.788,-629.952 462.237,-639.097\" fill=\"none\" stroke=\"black\" stroke-width=\"0.5\"/>\n",
       "<polygon fill=\"black\" points=\"453.517,-644.356 459.756,-635.338 457.798,-641.774 462.08,-639.192 462.08,-639.192 462.08,-639.192 457.798,-641.774 464.404,-643.045 453.517,-644.356 453.517,-644.356\" stroke=\"black\" stroke-width=\"0.5\"/>\n",
       "<text font-family=\"Titillium Web\" font-size=\"11.00\" text-anchor=\"middle\" x=\"458.836\" y=\"-630.73\">is-part-of</text>\n",
       "</g>\n",
       "<!-- Branch&#45;01&#45;&#45;Leaf&#45;01 -->\n",
       "<g class=\"edge\" id=\"edge38\"><title>Branch-01--Leaf-01</title>\n",
       "<path d=\"M564.369,-583.042C572.887,-570.863 582.634,-554.656 589.714,-540.958\" fill=\"none\" stroke=\"black\" stroke-width=\"0.5\"/>\n",
       "<polygon fill=\"black\" points=\"594.142,-531.956 593.766,-542.915 591.935,-536.443 589.728,-540.929 589.728,-540.929 589.728,-540.929 591.935,-536.443 585.691,-538.943 594.142,-531.956 594.142,-531.956\" stroke=\"black\" stroke-width=\"0.5\"/>\n",
       "<text font-family=\"Titillium Web\" font-size=\"11.00\" text-anchor=\"middle\" x=\"558.727\" y=\"-561.313\">has-part</text>\n",
       "</g>\n",
       "<!-- Branch&#45;02&#45;&#45;Branch&#45;01 -->\n",
       "<g class=\"edge\" id=\"edge39\"><title>Branch-02--Branch-01</title>\n",
       "<path d=\"M450.173,-516.168C464.986,-532.914 490.356,-557.621 511.408,-576.145\" fill=\"none\" stroke=\"black\" stroke-width=\"0.5\"/>\n",
       "<polygon fill=\"black\" points=\"519.234,-582.912 508.726,-579.775 515.451,-579.642 511.669,-576.371 511.669,-576.371 511.669,-576.371 515.451,-579.642 514.613,-572.967 519.234,-582.912 519.234,-582.912\" stroke=\"black\" stroke-width=\"0.5\"/>\n",
       "<text font-family=\"Titillium Web\" font-size=\"11.00\" text-anchor=\"middle\" x=\"459.575\" y=\"-553.661\">is-part-of</text>\n",
       "</g>\n",
       "<!-- Branch&#45;02&#45;&#45;Mary&#45;01 -->\n",
       "<g class=\"edge\" id=\"edge40\"><title>Branch-02--Mary-01</title>\n",
       "<path d=\"M432.831,-515.877C428.913,-544.475 426.47,-600.377 427.426,-634.27\" fill=\"none\" stroke=\"black\" stroke-width=\"0.5\"/>\n",
       "<polygon fill=\"black\" points=\"427.859,-644.438 422.938,-634.638 427.646,-639.442 427.434,-634.447 427.434,-634.447 427.434,-634.447 427.646,-639.442 431.93,-634.255 427.859,-644.438 427.859,-644.438\" stroke=\"black\" stroke-width=\"0.5\"/>\n",
       "<text font-family=\"Titillium Web\" font-size=\"11.00\" text-anchor=\"middle\" x=\"404.001\" y=\"-583.452\">is-part-of</text>\n",
       "</g>\n",
       "<!-- Branch&#45;02&#45;&#45;Leaf&#45;01 -->\n",
       "<g class=\"edge\" id=\"edge41\"><title>Branch-02--Leaf-01</title>\n",
       "<path d=\"M472.314,-506.913C498.361,-510.89 534.141,-514.478 561.005,-515.827\" fill=\"none\" stroke=\"black\" stroke-width=\"0.5\"/>\n",
       "<polygon fill=\"black\" points=\"571.188,-516.241 561.013,-520.331 566.192,-516.038 561.196,-515.834 561.196,-515.834 561.196,-515.834 566.192,-516.038 561.379,-511.338 571.188,-516.241 571.188,-516.241\" stroke=\"black\" stroke-width=\"0.5\"/>\n",
       "<text font-family=\"Titillium Web\" font-size=\"11.00\" text-anchor=\"middle\" x=\"499.959\" y=\"-516.056\">has-part</text>\n",
       "</g>\n",
       "<!-- Mary&#45;01&#45;&#45;Branch&#45;01 -->\n",
       "<g class=\"edge\" id=\"edge42\"><title>Mary-01--Branch-01</title>\n",
       "<path d=\"M461.282,-653.22C477.946,-645.589 498.686,-634.711 515.569,-624.805\" fill=\"none\" stroke=\"black\" stroke-width=\"0.5\"/>\n",
       "<polygon fill=\"black\" points=\"524.502,-619.428 518.255,-628.441 520.218,-622.007 515.934,-624.585 515.934,-624.585 515.934,-624.585 520.218,-622.007 513.614,-620.73 524.502,-619.428 524.502,-619.428\" stroke=\"black\" stroke-width=\"0.5\"/>\n",
       "<text font-family=\"Titillium Web\" font-size=\"11.00\" text-anchor=\"middle\" x=\"514.676\" y=\"-640.511\">has-part</text>\n",
       "</g>\n",
       "<!-- Mary&#45;01&#45;&#45;Branch&#45;02 -->\n",
       "<g class=\"edge\" id=\"edge43\"><title>Mary-01--Branch-02</title>\n",
       "<path d=\"M436.692,-644.363C440.61,-615.765 443.052,-559.862 442.096,-525.97\" fill=\"none\" stroke=\"black\" stroke-width=\"0.5\"/>\n",
       "<polygon fill=\"black\" points=\"441.664,-515.802 446.585,-525.602 441.877,-520.798 442.089,-525.793 442.089,-525.793 442.089,-525.793 441.877,-520.798 437.593,-525.984 441.664,-515.802 441.664,-515.802\" stroke=\"black\" stroke-width=\"0.5\"/>\n",
       "<text font-family=\"Titillium Web\" font-size=\"11.00\" text-anchor=\"middle\" x=\"420.022\" y=\"-571.187\">has-part</text>\n",
       "</g>\n",
       "<!-- Mary&#45;01&#45;&#45;Leaf&#45;01 -->\n",
       "<g class=\"edge\" id=\"edge44\"><title>Mary-01--Leaf-01</title>\n",
       "<path d=\"M461.15,-652.304C465.082,-650.623 468.357,-648.944 470.1,-647.456 496.509,-624.917 486.553,-606.056 509.502,-580.002 529.1,-557.751 539.444,-554.738 563.847,-537.928\" fill=\"none\" stroke=\"black\" stroke-width=\"0.5\"/>\n",
       "<polygon fill=\"black\" points=\"572.294,-531.943 566.736,-541.396 568.214,-534.834 564.135,-537.724 564.135,-537.724 564.135,-537.724 568.214,-534.834 561.533,-534.053 572.294,-531.943 572.294,-531.943\" stroke=\"black\" stroke-width=\"0.5\"/>\n",
       "<text font-family=\"Titillium Web\" font-size=\"11.00\" text-anchor=\"middle\" x=\"488.031\" y=\"-583.169\">has-part</text>\n",
       "</g>\n",
       "<!-- Leaf&#45;01&#45;&#45;Branch&#45;01 -->\n",
       "<g class=\"edge\" id=\"edge45\"><title>Leaf-01--Branch-01</title>\n",
       "<path d=\"M581.158,-531.91C572.64,-544.089 562.893,-560.296 555.812,-573.994\" fill=\"none\" stroke=\"black\" stroke-width=\"0.5\"/>\n",
       "<polygon fill=\"black\" points=\"551.385,-582.996 551.76,-572.036 553.591,-578.509 555.798,-574.023 555.798,-574.023 555.798,-574.023 553.591,-578.509 559.836,-576.009 551.385,-582.996 551.385,-582.996\" stroke=\"black\" stroke-width=\"0.5\"/>\n",
       "<text font-family=\"Titillium Web\" font-size=\"11.00\" text-anchor=\"middle\" x=\"541.299\" y=\"-548.039\">is-part-of</text>\n",
       "</g>\n",
       "<!-- Leaf&#45;01&#45;&#45;Branch&#45;02 -->\n",
       "<g class=\"edge\" id=\"edge46\"><title>Leaf-01--Branch-02</title>\n",
       "<path d=\"M570.96,-505.67C546.541,-501.61 510.622,-497.784 482.267,-496.083\" fill=\"none\" stroke=\"black\" stroke-width=\"0.5\"/>\n",
       "<polygon fill=\"black\" points=\"472.198,-495.556 482.419,-491.585 477.191,-495.817 482.184,-496.079 482.184,-496.079 482.184,-496.079 477.191,-495.817 481.949,-500.573 472.198,-495.556 472.198,-495.556\" stroke=\"black\" stroke-width=\"0.5\"/>\n",
       "<text font-family=\"Titillium Web\" font-size=\"11.00\" text-anchor=\"middle\" x=\"497.496\" y=\"-502.503\">is-part-of</text>\n",
       "</g>\n",
       "<!-- Leaf&#45;01&#45;&#45;Mary&#45;01 -->\n",
       "<g class=\"edge\" id=\"edge47\"><title>Leaf-01--Mary-01</title>\n",
       "<path d=\"M571.28,-518.878C567.266,-520.063 563.255,-521.503 559.594,-523.245 528.935,-537.831 520.266,-543.194 498.796,-569.495 478.515,-594.34 485.832,-611.263 467.636,-636.392\" fill=\"none\" stroke=\"black\" stroke-width=\"0.5\"/>\n",
       "<polygon fill=\"black\" points=\"461.111,-644.473 463.892,-633.865 464.252,-640.582 467.393,-636.692 467.393,-636.692 467.393,-636.692 464.252,-640.582 470.894,-639.52 461.111,-644.473 461.111,-644.473\" stroke=\"black\" stroke-width=\"0.5\"/>\n",
       "<text font-family=\"Titillium Web\" font-size=\"11.00\" text-anchor=\"middle\" x=\"510.737\" y=\"-560.768\">is-part-of</text>\n",
       "</g>\n",
       "<!-- Leaf&#45;01&#45;&#45;Sophie&#45;01 -->\n",
       "<g class=\"edge\" id=\"edge48\"><title>Leaf-01--Sophie-01</title>\n",
       "<path d=\"M604.783,-532.12C610.727,-543.091 619.845,-557.144 628.694,-569.224\" fill=\"none\" stroke=\"black\" stroke-width=\"0.5\"/>\n",
       "<polygon fill=\"black\" points=\"634.735,-577.21 625.113,-571.95 631.718,-573.222 628.702,-569.235 628.702,-569.235 628.702,-569.235 631.718,-573.222 632.291,-566.52 634.735,-577.21 634.735,-577.21\" stroke=\"black\" stroke-width=\"0.5\"/>\n",
       "<text font-family=\"Titillium Web\" font-size=\"11.00\" text-anchor=\"middle\" x=\"648.008\" y=\"-558.57\">is-eaten-by</text>\n",
       "</g>\n",
       "<!-- Sophie&#45;01&#45;&#45;Leaf&#45;01 -->\n",
       "<g class=\"edge\" id=\"edge49\"><title>Sophie-01--Leaf-01</title>\n",
       "<path d=\"M648.326,-576.856C642.382,-565.885 633.264,-551.832 624.415,-539.752\" fill=\"none\" stroke=\"black\" stroke-width=\"0.5\"/>\n",
       "<polygon fill=\"black\" points=\"618.374,-531.766 627.996,-537.026 621.391,-535.754 624.407,-539.741 624.407,-539.741 624.407,-539.741 621.391,-535.754 620.818,-542.456 618.374,-531.766 618.374,-531.766\" stroke=\"black\" stroke-width=\"0.5\"/>\n",
       "<text font-family=\"Titillium Web\" font-size=\"11.00\" text-anchor=\"middle\" x=\"623.101\" y=\"-544.807\">eats</text>\n",
       "</g>\n",
       "<!-- Sophie&#45;01&#45;&#45;Leo&#45;01 -->\n",
       "<g class=\"edge\" id=\"edge50\"><title>Sophie-01--Leo-01</title>\n",
       "<path d=\"M687.517,-596.727C711.959,-595.049 745.191,-590.963 770.511,-586.57\" fill=\"none\" stroke=\"black\" stroke-width=\"0.5\"/>\n",
       "<polygon fill=\"black\" points=\"780.483,-584.742 771.458,-590.971 775.565,-585.643 770.647,-586.545 770.647,-586.545 770.647,-586.545 775.565,-585.643 769.835,-582.119 780.483,-584.742 780.483,-584.742\" stroke=\"black\" stroke-width=\"0.5\"/>\n",
       "<text font-family=\"Titillium Web\" font-size=\"11.00\" text-anchor=\"middle\" x=\"748.634\" y=\"-583.184\">is-eaten-by</text>\n",
       "</g>\n",
       "<!-- Leo&#45;01&#45;&#45;Sophie&#45;01 -->\n",
       "<g class=\"edge\" id=\"edge51\"><title>Leo-01--Sophie-01</title>\n",
       "<path d=\"M780.648,-574.05C757.583,-575.305 724.002,-579.219 697.253,-583.611\" fill=\"none\" stroke=\"black\" stroke-width=\"0.5\"/>\n",
       "<polygon fill=\"black\" points=\"687.372,-585.313 696.463,-579.18 692.3,-584.464 697.227,-583.615 697.227,-583.615 697.227,-583.615 692.3,-584.464 697.991,-588.05 687.372,-585.313 687.372,-585.313\" stroke=\"black\" stroke-width=\"0.5\"/>\n",
       "<text font-family=\"Titillium Web\" font-size=\"11.00\" text-anchor=\"middle\" x=\"723.142\" y=\"-569.587\">eats</text>\n",
       "</g>\n",
       "</g>\n",
       "</svg>"
      ],
      "text/plain": [
       "<IPython.core.display.SVG object>"
      ]
     },
     "execution_count": 18,
     "metadata": {},
     "output_type": "execute_result"
    }
   ],
   "source": [
    "onto.draw_graph(layout=\"force directed\")"
   ]
  },
  {
   "cell_type": "code",
   "execution_count": 19,
   "metadata": {},
   "outputs": [
    {
     "data": {
      "application/vnd.jupyter.widget-view+json": {
       "model_id": "710fd3768055417ab0a9473f1ca8a5ca",
       "version_major": 2,
       "version_minor": 0
      },
      "text/plain": [
       "VBox(children=(OntoeditWidget(layout=Layout(height='100%', width='90%'), value='eaten by Leo-01'), Output()), …"
      ]
     },
     "metadata": {},
     "output_type": "display_data"
    }
   ],
   "source": [
    "q1_edit = CnlQueryForConcept('query_01.encnl',onto=onto)\n",
    "q1_edit"
   ]
  },
  {
   "cell_type": "code",
   "execution_count": 20,
   "metadata": {},
   "outputs": [
    {
     "data": {
      "text/html": [
       "<div>\n",
       "<style scoped>\n",
       "    .dataframe tbody tr th:only-of-type {\n",
       "        vertical-align: middle;\n",
       "    }\n",
       "\n",
       "    .dataframe tbody tr th {\n",
       "        vertical-align: top;\n",
       "    }\n",
       "\n",
       "    .dataframe thead th {\n",
       "        text-align: right;\n",
       "    }\n",
       "</style>\n",
       "<table border=\"1\" class=\"dataframe\">\n",
       "  <thead>\n",
       "    <tr style=\"text-align: right;\">\n",
       "      <th></th>\n",
       "      <th>Instance</th>\n",
       "      <th>is-eaten-by</th>\n",
       "      <th>eats</th>\n",
       "    </tr>\n",
       "  </thead>\n",
       "  <tbody>\n",
       "    <tr>\n",
       "      <th>0</th>\n",
       "      <td>Sophie-01</td>\n",
       "      <td>Leo-01</td>\n",
       "      <td>Leaf-01</td>\n",
       "    </tr>\n",
       "  </tbody>\n",
       "</table>\n",
       "</div>"
      ],
      "text/plain": [
       "    Instance is-eaten-by     eats\n",
       "0  Sophie-01      Leo-01  Leaf-01"
      ]
     },
     "execution_count": 20,
     "metadata": {},
     "output_type": "execute_result"
    }
   ],
   "source": [
    "onto.select_instances_of(q1_edit.getvalue())"
   ]
  },
  {
   "cell_type": "code",
   "execution_count": 21,
   "metadata": {},
   "outputs": [
    {
     "name": "stdout",
     "output_type": "stream",
     "text": [
      "{\"concluded\":\"Leo-01 is an animal.\",\"by\":[\r\n",
      "    {\"expr\":\"Every lion is an animal.\"},\r\n",
      "    {\"expr\":\"Leo-01 is a lion.\"}]}\r\n",
      "\r\n",
      "\n"
     ]
    }
   ],
   "source": [
    "print(onto.why(\"Leo-01 is an animal?\"))"
   ]
  },
  {
   "cell_type": "code",
   "execution_count": 22,
   "metadata": {},
   "outputs": [
    {
     "data": {
      "text/html": [
       "<div>\n",
       "<style scoped>\n",
       "    .dataframe tbody tr th:only-of-type {\n",
       "        vertical-align: middle;\n",
       "    }\n",
       "\n",
       "    .dataframe tbody tr th {\n",
       "        vertical-align: top;\n",
       "    }\n",
       "\n",
       "    .dataframe thead th {\n",
       "        text-align: right;\n",
       "    }\n",
       "</style>\n",
       "<table border=\"1\" class=\"dataframe\">\n",
       "  <thead>\n",
       "    <tr style=\"text-align: right;\">\n",
       "      <th></th>\n",
       "      <th>a1</th>\n",
       "      <th>a2</th>\n",
       "    </tr>\n",
       "  </thead>\n",
       "  <tbody>\n",
       "    <tr>\n",
       "      <th>0</th>\n",
       "      <td>Leo-01</td>\n",
       "      <td>Sophie-01</td>\n",
       "    </tr>\n",
       "  </tbody>\n",
       "</table>\n",
       "</div>"
      ],
      "text/plain": [
       "       a1         a2\n",
       "0  Leo-01  Sophie-01"
      ]
     },
     "execution_count": 22,
     "metadata": {},
     "output_type": "execute_result"
    }
   ],
   "source": [
    "onto.sparql_query(CQL(\"\"\"select ?a1 ?a2 {\n",
    "                            ?a1 rdf:type <animal>. \n",
    "                            ?a2 rdf:type <animal>. \n",
    "                            ?a1 <eats> ?a2. \n",
    "                        }\"\"\",\"http://cognitum.eu/african_wildlife#\"))"
   ]
  },
  {
   "cell_type": "code",
   "execution_count": null,
   "metadata": {},
   "outputs": [],
   "source": []
  }
 ],
 "metadata": {
  "kernelspec": {
   "display_name": "Python 3",
   "language": "python",
   "name": "python3"
  },
  "language_info": {
   "codemirror_mode": {
    "name": "ipython",
    "version": 3
   },
   "file_extension": ".py",
   "mimetype": "text/x-python",
   "name": "python",
   "nbconvert_exporter": "python",
   "pygments_lexer": "ipython3",
   "version": "3.6.8"
  },
  "widgets": {
   "application/vnd.jupyter.widget-state+json": {
    "state": {
     "037f1754f4dd4ad58c88763c16de89de": {
      "model_module": "@jupyter-widgets/base",
      "model_module_version": "1.1.0",
      "model_name": "LayoutModel",
      "state": {
       "height": "100%",
       "width": "90%"
      }
     },
     "08826d1d1e2d4efa9364b5d2bafa3c93": {
      "model_module": "@jupyter-widgets/base",
      "model_module_version": "1.1.0",
      "model_name": "LayoutModel",
      "state": {
       "height": "300px"
      }
     },
     "08a658b923de47b7add2517b8353da1a": {
      "model_module": "@jupyter-widgets/base",
      "model_module_version": "1.1.0",
      "model_name": "LayoutModel",
      "state": {}
     },
     "08c30bf83c284e6ebe21cc3249cd99ba": {
      "model_module": "ontoedit",
      "model_module_version": "1.1.0",
      "model_name": "OntoeditModel",
      "state": {
       "_model_module_version": "1.1.0",
       "_view_module_version": "",
       "cursor": 191,
       "hints": "Every<br/>Every-single-thing<br/>If<br/>Leo-01<br/>Mary-01<br/>No<br/>Nothing<br/>Something<br/>Sophie-01<br/>The<br/>X",
       "hintsX": 191,
       "layout": "IPY_MODEL_951c1fa30fea488a8ae1578cede4b5fe",
       "value": "Every carnivorous-plant must eat an animal.\nEvery carnivor must eat an animal.\nEvery omnivore must eat a plant.\nEvery branch must be-part-of a tree.\nEvery plant-part must be-part-of a plant.\n\nComment: 'Role equivalence and inverted roles'.\nX has-part Y if-and-only-if Y is-part-of X.\nX eats Y if-and-only-if Y is-eaten-by X.\n\nComment: 'Role subsumptions'.\nIf X is-part-of Y then X is-part-of Y.\nIf X has-part something that has-part Y then X has-part Y.\n\nComment: 'Complex role subsumptions'.\nIf X is-part-of something that is-part-of Y then X is-part-of Y.\n"
      }
     },
     "0cfbf011af6241ebbcc675d701aac5be": {
      "model_module": "@jupyter-widgets/controls",
      "model_module_version": "1.4.0",
      "model_name": "VBoxModel",
      "state": {
       "children": [
        "IPY_MODEL_99075eefb8ad4a5087de5fbfbb2e2a8c",
        "IPY_MODEL_26cf7a97df4f42b6af33ce787196e2da"
       ],
       "layout": "IPY_MODEL_4aafc9319e7743f8985cdc669f22cab5"
      }
     },
     "0ee4e8ad62ab43f4b5b438a66a7f42b5": {
      "model_module": "@jupyter-widgets/base",
      "model_module_version": "1.1.0",
      "model_name": "LayoutModel",
      "state": {
       "height": "300px"
      }
     },
     "1786ad24fa9d463aa9ad86dcacd6b971": {
      "model_module": "@jupyter-widgets/base",
      "model_module_version": "1.1.0",
      "model_name": "LayoutModel",
      "state": {}
     },
     "194e683e49954beab66c82f87eec0560": {
      "model_module": "ontoedit",
      "model_module_version": "1.1.0",
      "model_name": "OntoeditModel",
      "state": {
       "_model_module_version": "1.1.0",
       "_view_module_version": "",
       "cursor": 15,
       "hints": "&lt;natural number&gt;",
       "hintsX": 9,
       "layout": "IPY_MODEL_54500e1db47043b29c2725eaf17f81f6",
       "value": "eaten by Leo-01"
      }
     },
     "197ff87aa0754c10a5bf9d6054ec2664": {
      "model_module": "@jupyter-widgets/controls",
      "model_module_version": "1.4.0",
      "model_name": "VBoxModel",
      "state": {
       "children": [
        "IPY_MODEL_416b7202da814b9095cb90fed53606c3",
        "IPY_MODEL_dd75b77ca52a43a9868c62b289a4e4e1"
       ],
       "layout": "IPY_MODEL_c7fe458b7f814978a92e90b0b53c295c"
      }
     },
     "1a817713ce83451c8259b7b8600da6fb": {
      "model_module": "@jupyter-widgets/base",
      "model_module_version": "1.1.0",
      "model_name": "LayoutModel",
      "state": {
       "height": "100%",
       "width": "90%"
      }
     },
     "1d27dea574734e228e02e981579f0e48": {
      "model_module": "ontoedit",
      "model_module_version": "1.1.0",
      "model_name": "OntoeditModel",
      "state": {
       "_model_module_version": "1.1.0",
       "_view_module_version": "",
       "layout": "IPY_MODEL_037f1754f4dd4ad58c88763c16de89de",
       "value": "Sophie loves Leo.\nLeo loves Sophie."
      }
     },
     "2401f4a10a284f68920b1eb13a0ef3f1": {
      "model_module": "@jupyter-widgets/output",
      "model_module_version": "1.0.0",
      "model_name": "OutputModel",
      "state": {
       "layout": "IPY_MODEL_d810833472c54ff1a38f821261445bdb"
      }
     },
     "26cf7a97df4f42b6af33ce787196e2da": {
      "model_module": "@jupyter-widgets/output",
      "model_module_version": "1.0.0",
      "model_name": "OutputModel",
      "state": {
       "layout": "IPY_MODEL_c370339aafb24857915cb2b2d2ab7980"
      }
     },
     "27cf37417f84476da68ac933a85143a5": {
      "model_module": "ontoedit",
      "model_module_version": "1.1.0",
      "model_name": "OntoeditModel",
      "state": {
       "_model_module_version": "1.1.0",
       "_view_module_version": "",
       "layout": "IPY_MODEL_6834615b88754ba992949979ad4896da",
       "value": "eaten by Leo-01"
      }
     },
     "2a57077dcfc6408f910fcdd1069fb533": {
      "model_module": "@jupyter-widgets/base",
      "model_module_version": "1.1.0",
      "model_name": "LayoutModel",
      "state": {
       "height": "100px"
      }
     },
     "2b1178c8982c4d7f8bd00f05c2a0ab9f": {
      "model_module": "@jupyter-widgets/base",
      "model_module_version": "1.1.0",
      "model_name": "LayoutModel",
      "state": {
       "height": "100%",
       "width": "90%"
      }
     },
     "34a127ddc9f3425d855562e734e8582e": {
      "model_module": "@jupyter-widgets/base",
      "model_module_version": "1.1.0",
      "model_name": "LayoutModel",
      "state": {
       "height": "100%",
       "width": "90%"
      }
     },
     "355b5ed96daf48f38e261d20f99eb26b": {
      "model_module": "@jupyter-widgets/controls",
      "model_module_version": "1.4.0",
      "model_name": "VBoxModel",
      "state": {
       "children": [
        "IPY_MODEL_8b7f1503cd5d4af7bedb96db2bc9826b",
        "IPY_MODEL_3d934eb24f9b4005b831504a0e4baa3e"
       ],
       "layout": "IPY_MODEL_0ee4e8ad62ab43f4b5b438a66a7f42b5"
      }
     },
     "379b403b772848b184590efb077753db": {
      "model_module": "@jupyter-widgets/base",
      "model_module_version": "1.1.0",
      "model_name": "LayoutModel",
      "state": {}
     },
     "38238e85b5bb4623a8ef8b3af0729a67": {
      "model_module": "@jupyter-widgets/base",
      "model_module_version": "1.1.0",
      "model_name": "LayoutModel",
      "state": {}
     },
     "3d934eb24f9b4005b831504a0e4baa3e": {
      "model_module": "@jupyter-widgets/output",
      "model_module_version": "1.0.0",
      "model_name": "OutputModel",
      "state": {
       "layout": "IPY_MODEL_f2dac51fb55347f2bf9f5f781b9e4558"
      }
     },
     "3e2147d0702741bbb1963715683ba2ff": {
      "model_module": "@jupyter-widgets/output",
      "model_module_version": "1.0.0",
      "model_name": "OutputModel",
      "state": {
       "layout": "IPY_MODEL_55f4f87242224575b52e41afa40e5e2d"
      }
     },
     "416b7202da814b9095cb90fed53606c3": {
      "model_module": "ontoedit",
      "model_module_version": "1.1.0",
      "model_name": "OntoeditModel",
      "state": {
       "_model_module_version": "1.1.0",
       "_view_module_version": "",
       "layout": "IPY_MODEL_bfdcdc39eeb04946a97cd9562372bc04",
       "value": "Sophie loves Leo.\nLeo loves Sophie."
      }
     },
     "42805aa70f7945db96a25007c189bac0": {
      "model_module": "ontoedit",
      "model_module_version": "1.1.0",
      "model_name": "OntoeditModel",
      "state": {
       "_model_module_version": "1.1.0",
       "_view_module_version": "",
       "layout": "IPY_MODEL_d8f23781ffc74fb797fe78016d7b58e4",
       "value": "Every-single-thing that is a plant and-or is a plant-part is a herb.\nNo herb is an animal.\n\nEvery carnivore eats nothing-but animals.\nEvery lion eats nothing-but herbivores.\n\nEvery herbivore eats nothing-but herb.\n\nAnything either is a carnivore, is a herbivore or is an omnivore or-something-else.\nAnything either is a branch, is a leaf or is a twig or-something-else.\n\nNo giraffe is a lion.\nEvery palm-tree is not a tree.\n"
      }
     },
     "43ef90ea44f7483cae76acd6a8bf06db": {
      "model_module": "@jupyter-widgets/base",
      "model_module_version": "1.1.0",
      "model_name": "LayoutModel",
      "state": {
       "height": "100px"
      }
     },
     "4636ed4b6a9b4aa29f2b8c9efe57f732": {
      "model_module": "ontoedit",
      "model_module_version": "1.1.0",
      "model_name": "OntoeditModel",
      "state": {
       "_model_module_version": "1.1.0",
       "_view_module_version": "",
       "cursor": 199,
       "hints": "Branch-01<br/>Every<br/>Every-single-thing<br/>If<br/>Leo-01<br/>Mary-01<br/>No<br/>Nothing<br/>Something<br/>Sophie-01<br/>The<br/>X",
       "hintsX": 199,
       "layout": "IPY_MODEL_6bc39517a9044c0d95ed9158711c5ff5",
       "value": "Leo-01 is a lion.\nLeo-01 eats Sophie-01.\nSophie-01 is a giraffe.\nSophie-01 eats Leaf-01.\nMary-01 is a tree.\nLeaf-01 is a leaf and is-part-of Branch-02.\nBranch-02 is a branch and is-part-of Branch-01.\nBranch-01 is a branch and is-part-of Mary-01.\nBranch-03 is a branch."
      }
     },
     "4974f63235624cb0950d09b959338aac": {
      "model_module": "@jupyter-widgets/controls",
      "model_module_version": "1.4.0",
      "model_name": "VBoxModel",
      "state": {
       "children": [
        "IPY_MODEL_4636ed4b6a9b4aa29f2b8c9efe57f732",
        "IPY_MODEL_8f2ee93c18ed4583894db21311e14ed9"
       ],
       "layout": "IPY_MODEL_df45bd0d614e4f8dbc1d38058dc993e7"
      }
     },
     "4a322469244d444ca5d1bcb372403f27": {
      "model_module": "@jupyter-widgets/base",
      "model_module_version": "1.1.0",
      "model_name": "LayoutModel",
      "state": {
       "height": "100%",
       "width": "90%"
      }
     },
     "4a569f7988e8471dafe05c22d22bd4ea": {
      "model_module": "ontoedit",
      "model_module_version": "1.1.0",
      "model_name": "OntoeditModel",
      "state": {
       "_model_module_version": "1.1.0",
       "_view_module_version": "",
       "cursor": 173,
       "hints": "&lt;Proper-Name&gt;<br/>Every<br/>Every-single-thing<br/>If<br/>No<br/>Nothing<br/>Something<br/>The<br/>X",
       "hintsX": 173,
       "layout": "IPY_MODEL_4a322469244d444ca5d1bcb372403f27",
       "value": "Every-single-thing that is a plant and-or is a plant-part is a herb.\nNo herb is an animal.\n\nEvery carnivore eats nothing-but animals.\nEvery lion eats nothing-but herbivores.\n\nEvery herbivore eats nothing-but herb.\n\nAnything either is a carnivore, is a herbivore or is an omnivore or-something-else.\nAnything either is a branch, is a leaf or is a twig or-something-else.\n\nNo giraffe is a lion.\nEvery palm-tree is not a tree.\n"
      }
     },
     "4aafc9319e7743f8985cdc669f22cab5": {
      "model_module": "@jupyter-widgets/base",
      "model_module_version": "1.1.0",
      "model_name": "LayoutModel",
      "state": {
       "height": "300px"
      }
     },
     "4d3213ec0b2c4ad69c1a66a3369ab474": {
      "model_module": "@jupyter-widgets/controls",
      "model_module_version": "1.4.0",
      "model_name": "VBoxModel",
      "state": {
       "children": [
        "IPY_MODEL_e736dda042e74aac96c321bed782241e",
        "IPY_MODEL_7cb5ce8716bf4a209b03b4910d97a0e2"
       ],
       "layout": "IPY_MODEL_6dfbc4a9245c453fb126ea93c284477f"
      }
     },
     "4f0a97990f8943818fc14ed4fd385830": {
      "model_module": "@jupyter-widgets/output",
      "model_module_version": "1.0.0",
      "model_name": "OutputModel",
      "state": {
       "layout": "IPY_MODEL_ea50e21fc54b4d97b922faa6337bdfe7"
      }
     },
     "50e4b95344d64a99b4f7543b017bf5a4": {
      "model_module": "@jupyter-widgets/base",
      "model_module_version": "1.1.0",
      "model_name": "LayoutModel",
      "state": {
       "height": "300px"
      }
     },
     "50f1befbf50548f9869037abe911c6c2": {
      "model_module": "@jupyter-widgets/output",
      "model_module_version": "1.0.0",
      "model_name": "OutputModel",
      "state": {
       "layout": "IPY_MODEL_d9c2b88b505b48a4b6c2c57cd93f7776"
      }
     },
     "54500e1db47043b29c2725eaf17f81f6": {
      "model_module": "@jupyter-widgets/base",
      "model_module_version": "1.1.0",
      "model_name": "LayoutModel",
      "state": {
       "height": "100%",
       "width": "90%"
      }
     },
     "54e213dd70db416783e9f4dd9eb8473a": {
      "model_module": "@jupyter-widgets/controls",
      "model_module_version": "1.4.0",
      "model_name": "VBoxModel",
      "state": {
       "children": [
        "IPY_MODEL_68ff3e69ff0948c7b1d6ea2e0727d6f1",
        "IPY_MODEL_cdb640c492eb40d986642b7b0cf89db1"
       ],
       "layout": "IPY_MODEL_43ef90ea44f7483cae76acd6a8bf06db"
      }
     },
     "55bb21d754f845a0b76771e91480da21": {
      "model_module": "@jupyter-widgets/controls",
      "model_module_version": "1.4.0",
      "model_name": "VBoxModel",
      "state": {
       "children": [
        "IPY_MODEL_08c30bf83c284e6ebe21cc3249cd99ba",
        "IPY_MODEL_8e63218be8c84392b59914249922d662"
       ],
       "layout": "IPY_MODEL_e278e56780d1428c826f7d861d407183"
      }
     },
     "55f4f87242224575b52e41afa40e5e2d": {
      "model_module": "@jupyter-widgets/base",
      "model_module_version": "1.1.0",
      "model_name": "LayoutModel",
      "state": {}
     },
     "56a2eb99cf15417e8568cc49848857f1": {
      "model_module": "ontoedit",
      "model_module_version": "1.1.0",
      "model_name": "OntoeditModel",
      "state": {
       "_model_module_version": "1.1.0",
       "_view_module_version": "",
       "layout": "IPY_MODEL_7e5fec00c2ad42f1b02a76e0e2b34c6d",
       "value": "Every carnivorous-plant must eat an animal.\nEvery carnivor must eat an animal.\nEvery omnivore must eat a plant.\nEvery branch must be-part-of a tree.\nEvery plant-part must be-part-of a plant.\n\nComment: 'Role equivalence and inverted roles'.\nX has-part Y if-and-only-if Y is-part-of X.\nX eats Y if-and-only-if Y is-eaten-by X.\n\nComment: 'Role subsumptions'.\nIf X is-part-of Y then X is-part-of Y.\nIf X has-part something that has-part Y then X has-part Y.\n\nComment: 'Complex role subsumptions'.\nIf X is-part-of something that is-part-of Y then X is-part-of Y.\n"
      }
     },
     "5aea4cc758c6473193e64e8a9da92f28": {
      "model_module": "@jupyter-widgets/base",
      "model_module_version": "1.1.0",
      "model_name": "LayoutModel",
      "state": {}
     },
     "5ca39e2e45c9445eb22413a85950317f": {
      "model_module": "@jupyter-widgets/base",
      "model_module_version": "1.1.0",
      "model_name": "LayoutModel",
      "state": {
       "height": "100%",
       "width": "90%"
      }
     },
     "5f92d7eda9e4489591fce827af8d659b": {
      "model_module": "@jupyter-widgets/base",
      "model_module_version": "1.1.0",
      "model_name": "LayoutModel",
      "state": {}
     },
     "6140f382320b46d8bf1bbe77cd6ff9d2": {
      "model_module": "@jupyter-widgets/controls",
      "model_module_version": "1.4.0",
      "model_name": "VBoxModel",
      "state": {
       "children": [
        "IPY_MODEL_63c4a550777447f1896522d0db7ab5f5",
        "IPY_MODEL_50f1befbf50548f9869037abe911c6c2"
       ],
       "layout": "IPY_MODEL_50e4b95344d64a99b4f7543b017bf5a4"
      }
     },
     "637bf119d26145cd9b1c74a314f17fb0": {
      "model_module": "@jupyter-widgets/base",
      "model_module_version": "1.1.0",
      "model_name": "LayoutModel",
      "state": {
       "height": "300px"
      }
     },
     "63c4a550777447f1896522d0db7ab5f5": {
      "model_module": "ontoedit",
      "model_module_version": "1.1.0",
      "model_name": "OntoeditModel",
      "state": {
       "_model_module_version": "1.1.0",
       "_view_module_version": "",
       "cursor": 1198,
       "hints": "Every<br/>Every-single-thing<br/>If<br/>Leo<br/>No<br/>Nothing<br/>Something<br/>Sophie<br/>The<br/>X",
       "hintsX": 1198,
       "layout": "IPY_MODEL_f4ea8cdd8b5c4157a727af4af9d67cb3",
       "value": "Title: 'African Wildlife'.\nAuthor: 'PaweĹ‚ KapĹ‚aĹ„ski'.\nBased-On: \n 'A Semantic Web Primer.'\n 'Antoniou, G, van Harmelen, F.'\n 'MIT Press, 2003.'\n 'http://www.csd.uoc.gr/~hy566/SWbook.pdf'\n.\n\nComment:\n////// Examples of Possible Questions  /////////////////////////////   \n//Who-Or-What:\n// * is a carnivore ?                                      \n// * is an herbivore ?                                         \n// * is an animal that eats grass ?                            \n// * is-part-of a tree ?  \n// * is eaten by lion?           \n////////////////////////////////////////////////////////////////////.\n\n\n\nPart-1: 'simple hierarchy of beings'.\n\nComment: 'Lets name our instances'.\nSophie is a giraffe.\nLeo is a lion.\n\nComment: 'Lets specify the hierarchy of beings'. \nComment: 'What is what?'.\nEvery lion is an animal.\nEvery giraffe is an animal.\n\nComment: 'Moreover'.\nEvery impala is an animal.\nEvery omnivore is an animal.\nEvery rock-dassie is an animal.\nEvery warthog is an animal.\nEvery carnivore is an animal.\nEvery herbivore is an animal.\nEvery elephant is a herbivore.\n\nComment: 'There are also plants there:'.\nEvery tree is a plant.\nEvery grass is a plant.\nEvery palm-tree is a plant.\n\nPart-2: adjectives and specifications.\n\nComment: 'We cannot use adjectives directly'.\nComment: 'To specify adjectives we need to transform them into sets that have form of buzzy-words'.\n\nEvery tasty-plant is a plant.\nEvery carnivorous-plant is a plant.\n\nComment: 'Similarly we can do to make something more and more specific'.\nEvery branch is a plant-part.\nEvery phloem is a plant-part.\nEvery root is a plant-part.\nEvery parsnip is a root.\nEvery stem is a plant-part.\nEvery twig is a plant-part.\nEvery xylem is a plant-part.\nEvery leaf is a plant-part.\nEvery fruiting-body is a plant-part.\nEvery berry is a fruiting-body.\nEvery apple is a fruiting-body.\n\nPart-3: Disjointness.\n\nComment: 'We deal with Open World Assumption, therefore we need to specify explicitly if two things are different'.\nComment: 'E.g.: We need to specify explicitly that animal is not a plant'.\nEvery animal is not a plant.\nEvery giraffe is not a lion.\nEvery palm-tree is not a tree.\n\nComment: 'Or we can use it - it means the same'.\nNo animal is a plant.\n\nPart-4: Simple relations.\n\nComment: To specify relation beetween beings.\nEvery lion eats an impala.\nEvery carnivorous-plant eats an animal.\n\nComment: 'I.e. be part of is a part-whole relation'.\nEvery branch is-part-of a tree.\nEvery plant-part is-proper-part-of a plant.\nEvery xylem is-proper-part-of a stem.\nEvery phloem is-proper-part-of a stem.\n\nComment:  'Specifying the range of relation. The difference? One is that lion eats impala. Second that it eats only herbivore' -> impala must be herbivore.\nEvery lion eats nothing-but herbivores.\n\nPart-5: 'Complex relations'.\n\nEvery palm-tree has-part that is not a branch.\nEvery warthog eats an animal and eats a fruiting-body and eats a grass and eats a root.\nEvery giraffe eats nothing-but things that are leaves and-or are twigs.\nEvery leaf is-part-of something that is a branch and-or is a twig.\nEvery tasty-plant is-eaten-by a carnivore and is-eaten-by a herbivore.\nEvery-single-thing eats nothing-but things that are animals and-or are plants and-or are-part-of animals and-or are-part-of plants.\n\nPart-6: 'Reflexion'.\n\nNothing is-proper-part-of itself.\n\nPart-7: Equivalence.\n\nComment: 'What it means to be a carnivore, omnivore or herbivore? We specify exact definitions here.'.\nEvery-single-thing that eats nothing-but animals and-or eats nothing-but things that are-part-of animals is a carnivore.\nSomething is an omnivore if-and-only-if-it eats an animal and eats a plant and eats something that is-part-of an animal and-or is-part-of a plant.\nSomething is a herbivore if-and-only-if-it eats nothing-but plants and-or eats nothing-but things that are-part-of plants.\n\nPart-8: 'Disjointness'.\n\nAnything either is a carnivore, is a herbivore or is an omnivore or-something-else.\nAnything either is a branch, is a leaf or is a twig or-something-else.\n\nPart-9: 'Relations between roles'.\n\nComment: 'Role equivalence and inverted roles'.\nX has-part Y if-and-only-if Y is-part-of X.\nX eats Y if-and-only-if Y is-eaten-by X.\n\nComment: 'Role subsumptions'.\nIf X is-proper-part-of Y then X is-part-of Y.\nIf X has-part something that has-part Y then X has-part Y.\n\nComment: 'Complex role subsumptions'.\nIf X is-part-of something that is-part-of Y then X is-part-of Y."
      }
     },
     "66578ffca1f043118425062dc0b6f067": {
      "model_module": "@jupyter-widgets/controls",
      "model_module_version": "1.4.0",
      "model_name": "VBoxModel",
      "state": {
       "children": [
        "IPY_MODEL_27cf37417f84476da68ac933a85143a5",
        "IPY_MODEL_f81355e7f2a34681bf8ca14e71dbf938"
       ],
       "layout": "IPY_MODEL_f79246661c1941fb8047812a618edbea"
      }
     },
     "66cefaa10ba1472a846b969c45384ec0": {
      "model_module": "@jupyter-widgets/controls",
      "model_module_version": "1.4.0",
      "model_name": "VBoxModel",
      "state": {
       "children": [
        "IPY_MODEL_6c33a33ec84a476ea62d3b987b12a532",
        "IPY_MODEL_85f2cc17df4e4e429f3682d5f1a9d2a5"
       ],
       "layout": "IPY_MODEL_637bf119d26145cd9b1c74a314f17fb0"
      }
     },
     "6834615b88754ba992949979ad4896da": {
      "model_module": "@jupyter-widgets/base",
      "model_module_version": "1.1.0",
      "model_name": "LayoutModel",
      "state": {
       "height": "100%",
       "width": "90%"
      }
     },
     "687f88667abb40929c0d1ac2acbc9281": {
      "model_module": "ontoedit",
      "model_module_version": "1.1.0",
      "model_name": "OntoeditModel",
      "state": {
       "_model_module_version": "1.1.0",
       "_view_module_version": "",
       "layout": "IPY_MODEL_df07f4cbd3574e08868b7543bb5cb15a",
       "value": "Leo-01 is a lion.\nLeo-01 eats Sophie-01.\nSophie-01 is a giraffe.\nLeo-01 eats Mary-01.\nMary-01 is a palm-tree.\n"
      }
     },
     "68ff3e69ff0948c7b1d6ea2e0727d6f1": {
      "model_module": "ontoedit",
      "model_module_version": "1.1.0",
      "model_name": "OntoeditModel",
      "state": {
       "_model_module_version": "1.1.0",
       "_view_module_version": "",
       "layout": "IPY_MODEL_2b1178c8982c4d7f8bd00f05c2a0ab9f",
       "value": "an animal that loves "
      }
     },
     "6bc39517a9044c0d95ed9158711c5ff5": {
      "model_module": "@jupyter-widgets/base",
      "model_module_version": "1.1.0",
      "model_name": "LayoutModel",
      "state": {
       "height": "100%",
       "width": "90%"
      }
     },
     "6c33a33ec84a476ea62d3b987b12a532": {
      "model_module": "ontoedit",
      "model_module_version": "1.1.0",
      "model_name": "OntoeditModel",
      "state": {
       "_model_module_version": "1.1.0",
       "_view_module_version": "",
       "layout": "IPY_MODEL_5ca39e2e45c9445eb22413a85950317f",
       "value": "Leo-01 is a lion.\nLeo-01 eats Sophie-01.\nSophie-01 is a giraffe.\nLeo-01 eats Mary-01.\nMary-01 is a palm-tree.\n"
      }
     },
     "6dfbc4a9245c453fb126ea93c284477f": {
      "model_module": "@jupyter-widgets/base",
      "model_module_version": "1.1.0",
      "model_name": "LayoutModel",
      "state": {
       "height": "300px"
      }
     },
     "6fa9e122a4ca4267832285e9f3983bba": {
      "model_module": "@jupyter-widgets/base",
      "model_module_version": "1.1.0",
      "model_name": "LayoutModel",
      "state": {}
     },
     "704fa12b89334f67b30097d1c39534c9": {
      "model_module": "@jupyter-widgets/base",
      "model_module_version": "1.1.0",
      "model_name": "LayoutModel",
      "state": {
       "height": "300px"
      }
     },
     "727588c8af22452182710e9c54750d83": {
      "model_module": "@jupyter-widgets/output",
      "model_module_version": "1.0.0",
      "model_name": "OutputModel",
      "state": {
       "layout": "IPY_MODEL_c4809ee837e84bbba2bd1dc44a5cdc69"
      }
     },
     "72b37b61f1ba4540bd4dafa460795b8e": {
      "model_module": "@jupyter-widgets/base",
      "model_module_version": "1.1.0",
      "model_name": "LayoutModel",
      "state": {}
     },
     "7358c3b0bfc140b7ad1d635020c852a5": {
      "model_module": "@jupyter-widgets/controls",
      "model_module_version": "1.4.0",
      "model_name": "VBoxModel",
      "state": {
       "children": [
        "IPY_MODEL_791a2bc1ba2c4ed98805765076095f71",
        "IPY_MODEL_a551c169f0f44b0d8ed33f34d5a4ea9d"
       ],
       "layout": "IPY_MODEL_2a57077dcfc6408f910fcdd1069fb533"
      }
     },
     "791a2bc1ba2c4ed98805765076095f71": {
      "model_module": "ontoedit",
      "model_module_version": "1.1.0",
      "model_name": "OntoeditModel",
      "state": {
       "_model_module_version": "1.1.0",
       "_view_module_version": "",
       "layout": "IPY_MODEL_99f9f6e0b26a4e73858dfbb6017ccbb8",
       "value": "an animal that loves "
      }
     },
     "7cb5ce8716bf4a209b03b4910d97a0e2": {
      "model_module": "@jupyter-widgets/output",
      "model_module_version": "1.0.0",
      "model_name": "OutputModel",
      "state": {
       "layout": "IPY_MODEL_72b37b61f1ba4540bd4dafa460795b8e"
      }
     },
     "7e5fec00c2ad42f1b02a76e0e2b34c6d": {
      "model_module": "@jupyter-widgets/base",
      "model_module_version": "1.1.0",
      "model_name": "LayoutModel",
      "state": {
       "height": "100%",
       "width": "90%"
      }
     },
     "85f2cc17df4e4e429f3682d5f1a9d2a5": {
      "model_module": "@jupyter-widgets/output",
      "model_module_version": "1.0.0",
      "model_name": "OutputModel",
      "state": {
       "layout": "IPY_MODEL_379b403b772848b184590efb077753db"
      }
     },
     "865ed95805f44073ac10f4b4757bd1a0": {
      "model_module": "@jupyter-widgets/base",
      "model_module_version": "1.1.0",
      "model_name": "LayoutModel",
      "state": {
       "height": "100%",
       "width": "90%"
      }
     },
     "88e3f3eb628649cbaa595601364bada4": {
      "model_module": "@jupyter-widgets/base",
      "model_module_version": "1.1.0",
      "model_name": "LayoutModel",
      "state": {
       "height": "300px"
      }
     },
     "89b1bde40ddb4abf9ac1d1cd90dd345a": {
      "model_module": "@jupyter-widgets/base",
      "model_module_version": "1.1.0",
      "model_name": "LayoutModel",
      "state": {
       "height": "100px"
      }
     },
     "8b344392a0d344158becbf95c37546c6": {
      "model_module": "@jupyter-widgets/controls",
      "model_module_version": "1.4.0",
      "model_name": "VBoxModel",
      "state": {
       "children": [
        "IPY_MODEL_56a2eb99cf15417e8568cc49848857f1",
        "IPY_MODEL_f81dc3d2747142f9ac59bd2ccb85dc67"
       ],
       "layout": "IPY_MODEL_f7e95e3d43544ddfb6c69338a006cace"
      }
     },
     "8b52933a93d84df1bc039f960cacf560": {
      "model_module": "@jupyter-widgets/output",
      "model_module_version": "1.0.0",
      "model_name": "OutputModel",
      "state": {
       "layout": "IPY_MODEL_b0bf749d3aa54cb5876f768752e013e2"
      }
     },
     "8b7f1503cd5d4af7bedb96db2bc9826b": {
      "model_module": "ontoedit",
      "model_module_version": "1.1.0",
      "model_name": "OntoeditModel",
      "state": {
       "_model_module_version": "1.1.0",
       "_view_module_version": "",
       "layout": "IPY_MODEL_b18557280c0d4e1b827179460da45136",
       "value": "Leo-01 is a lion.\nLeo-01 eats Sophie-01.\nSophie-01 is a giraffe.\nSophie-01 eats Leaf-01.\nMary-01 is a tree.\nLeaf-01 is a leaf and is-part-of Branch-02.\nBranch-02 is a branch and is-part-of Branch-01.\nBranch-01 is a branch and is-part-of Mary-01.\nBranch-03 is a branch."
      }
     },
     "8e63218be8c84392b59914249922d662": {
      "model_module": "@jupyter-widgets/output",
      "model_module_version": "1.0.0",
      "model_name": "OutputModel",
      "state": {
       "layout": "IPY_MODEL_5aea4cc758c6473193e64e8a9da92f28"
      }
     },
     "8f2ee93c18ed4583894db21311e14ed9": {
      "model_module": "@jupyter-widgets/output",
      "model_module_version": "1.0.0",
      "model_name": "OutputModel",
      "state": {
       "layout": "IPY_MODEL_38238e85b5bb4623a8ef8b3af0729a67"
      }
     },
     "91212d33087f4872ab96d1d2adac582a": {
      "model_module": "@jupyter-widgets/output",
      "model_module_version": "1.0.0",
      "model_name": "OutputModel",
      "state": {
       "layout": "IPY_MODEL_6fa9e122a4ca4267832285e9f3983bba"
      }
     },
     "951c1fa30fea488a8ae1578cede4b5fe": {
      "model_module": "@jupyter-widgets/base",
      "model_module_version": "1.1.0",
      "model_name": "LayoutModel",
      "state": {
       "height": "100%",
       "width": "90%"
      }
     },
     "9536c1856e8a487d8c68984e25b441ce": {
      "model_module": "@jupyter-widgets/base",
      "model_module_version": "1.1.0",
      "model_name": "LayoutModel",
      "state": {
       "height": "300px"
      }
     },
     "9767af0ad60a4f4f84f6fffb5b1addb8": {
      "model_module": "@jupyter-widgets/base",
      "model_module_version": "1.1.0",
      "model_name": "LayoutModel",
      "state": {}
     },
     "99075eefb8ad4a5087de5fbfbb2e2a8c": {
      "model_module": "ontoedit",
      "model_module_version": "1.1.0",
      "model_name": "OntoeditModel",
      "state": {
       "_model_module_version": "1.1.0",
       "_view_module_version": "",
       "layout": "IPY_MODEL_9febe76887f34e8e9ea439b3d6a469bc",
       "value": "Comment: 'Lets name our instances'.\nComment: 'Lets specify the hierarchy of beings'. \nComment: 'What is what?'.\n\nEvery lion is an animal.\nEvery giraffe is an animal.\n\nComment: 'Moreover'.\nEvery impala is an animal.\nEvery omnivore is an animal.\nEvery rock-dassie is an animal.\nEvery warthog is an animal.\nEvery carnivore is an animal.\nEvery herbivore is an animal.\nEvery elephant is a herbivore.\nEvery lion is carnivore.\n\nComment: 'There are also plants there:'.\nEvery tree is a plant.\nEvery grass is a plant.\nEvery palm-tree is a plant.\n\nEvery branch is a plant-part.\nEvery leaf is a plant-part.\nEvery twig is a plant-part.\n\nEvery phloem is a plant-part.\nEvery root is a plant-part.\nEvery parsnip is a root.\nEvery stem is a plant-part.\nEvery xylem is a plant-part.\nEvery fruiting-body is a plant-part.\nEvery berry is a fruiting-body.\nEvery apple is a fruiting-body.\n\nComment: 'We cannot use adjectives directly. To specify adjectives we need to transform them into sets that have form of buzzy-words'.\nEvery tasty-plant is a plant.\nEvery carnivorous-plant is a plant.\n"
      }
     },
     "99f9f6e0b26a4e73858dfbb6017ccbb8": {
      "model_module": "@jupyter-widgets/base",
      "model_module_version": "1.1.0",
      "model_name": "LayoutModel",
      "state": {
       "height": "100%",
       "width": "90%"
      }
     },
     "9d7f76b3359049b99071eba73b8dc427": {
      "model_module": "@jupyter-widgets/controls",
      "model_module_version": "1.4.0",
      "model_name": "VBoxModel",
      "state": {
       "children": [
        "IPY_MODEL_4a569f7988e8471dafe05c22d22bd4ea",
        "IPY_MODEL_727588c8af22452182710e9c54750d83"
       ],
       "layout": "IPY_MODEL_9536c1856e8a487d8c68984e25b441ce"
      }
     },
     "9febe76887f34e8e9ea439b3d6a469bc": {
      "model_module": "@jupyter-widgets/base",
      "model_module_version": "1.1.0",
      "model_name": "LayoutModel",
      "state": {
       "height": "100%",
       "width": "90%"
      }
     },
     "a1d343a6e9ab47b999491d584f4d747b": {
      "model_module": "@jupyter-widgets/controls",
      "model_module_version": "1.4.0",
      "model_name": "VBoxModel",
      "state": {
       "children": [
        "IPY_MODEL_42805aa70f7945db96a25007c189bac0",
        "IPY_MODEL_4f0a97990f8943818fc14ed4fd385830"
       ],
       "layout": "IPY_MODEL_c1e34aeacb524c99a1c32e8cc8c9413a"
      }
     },
     "a23f3db72e844fd38d5d05b950980e06": {
      "model_module": "@jupyter-widgets/base",
      "model_module_version": "1.1.0",
      "model_name": "LayoutModel",
      "state": {
       "height": "100%",
       "width": "90%"
      }
     },
     "a2c7154564514724af74f1f72cd039df": {
      "model_module": "@jupyter-widgets/controls",
      "model_module_version": "1.4.0",
      "model_name": "VBoxModel",
      "state": {
       "children": [
        "IPY_MODEL_194e683e49954beab66c82f87eec0560",
        "IPY_MODEL_e26922aed1324c3cb824535d8f1eba7a"
       ],
       "layout": "IPY_MODEL_89b1bde40ddb4abf9ac1d1cd90dd345a"
      }
     },
     "a551c169f0f44b0d8ed33f34d5a4ea9d": {
      "model_module": "@jupyter-widgets/output",
      "model_module_version": "1.0.0",
      "model_name": "OutputModel",
      "state": {
       "layout": "IPY_MODEL_9767af0ad60a4f4f84f6fffb5b1addb8"
      }
     },
     "acf1c5a99f7843fd8fe8da70d0aac47f": {
      "model_module": "ontoedit",
      "model_module_version": "1.1.0",
      "model_name": "OntoeditModel",
      "state": {
       "_model_module_version": "1.1.0",
       "_view_module_version": "",
       "cursor": 1198,
       "hints": "Every<br/>Every-single-thing<br/>If<br/>Leo<br/>No<br/>Nothing<br/>Something<br/>Sophie<br/>The<br/>X",
       "hintsX": 1198,
       "layout": "IPY_MODEL_1a817713ce83451c8259b7b8600da6fb",
       "value": "Title: 'African Wildlife'.\nAuthor: 'PaweĹ‚ KapĹ‚aĹ„ski'.\nBased-On: \n 'A Semantic Web Primer.'\n 'Antoniou, G, van Harmelen, F.'\n 'MIT Press, 2003.'\n 'http://www.csd.uoc.gr/~hy566/SWbook.pdf'\n.\n\nComment:\n////// Examples of Possible Questions  /////////////////////////////   \n//Who-Or-What:\n// * is a carnivore ?                                      \n// * is an herbivore ?                                         \n// * is an animal that eats grass ?                            \n// * is-part-of a tree ?  \n// * is eaten by lion?           \n////////////////////////////////////////////////////////////////////.\n\n\n\nPart-1: 'simple hierarchy of beings'.\n\nComment: 'Lets name our instances'.\nSophie is a giraffe.\nLeo is a lion.\n\nComment: 'Lets specify the hierarchy of beings'. \nComment: 'What is what?'.\nEvery lion is an animal.\nEvery giraffe is an animal.\n\nComment: 'Moreover'.\nEvery impala is an animal.\nEvery omnivore is an animal.\nEvery rock-dassie is an animal.\nEvery warthog is an animal.\nEvery carnivore is an animal.\nEvery herbivore is an animal.\nEvery elephant is a herbivore.\n\nComment: 'There are also plants there:'.\nEvery tree is a plant.\nEvery grass is a plant.\nEvery palm-tree is a plant.\n\nPart-2: adjectives and specifications.\n\nComment: 'We cannot use adjectives directly'.\nComment: 'To specify adjectives we need to transform them into sets that have form of buzzy-words'.\n\nEvery tasty-plant is a plant.\nEvery carnivorous-plant is a plant.\n\nComment: 'Similarly we can do to make something more and more specific'.\nEvery branch is a plant-part.\nEvery phloem is a plant-part.\nEvery root is a plant-part.\nEvery parsnip is a root.\nEvery stem is a plant-part.\nEvery twig is a plant-part.\nEvery xylem is a plant-part.\nEvery leaf is a plant-part.\nEvery fruiting-body is a plant-part.\nEvery berry is a fruiting-body.\nEvery apple is a fruiting-body.\n\nPart-3: Disjointness.\n\nComment: 'We deal with Open World Assumption, therefore we need to specify explicitly if two things are different'.\nComment: 'E.g.: We need to specify explicitly that animal is not a plant'.\nEvery animal is not a plant.\nEvery giraffe is not a lion.\nEvery palm-tree is not a tree.\n\nComment: 'Or we can use it - it means the same'.\nNo animal is a plant.\n\nPart-4: Simple relations.\n\nComment: To specify relation beetween beings.\nEvery lion eats an impala.\nEvery carnivorous-plant eats an animal.\n\nComment: 'I.e. be part of is a part-whole relation'.\nEvery branch is-part-of a tree.\nEvery plant-part is-proper-part-of a plant.\nEvery xylem is-proper-part-of a stem.\nEvery phloem is-proper-part-of a stem.\n\nComment:  'Specifying the range of relation. The difference? One is that lion eats impala. Second that it eats only herbivore' -> impala must be herbivore.\nEvery lion eats nothing-but herbivores.\n\nPart-5: 'Complex relations'.\n\nEvery palm-tree has-part that is not a branch.\nEvery warthog eats an animal and eats a fruiting-body and eats a grass and eats a root.\nEvery giraffe eats nothing-but things that are leaves and-or are twigs.\nEvery leaf is-part-of something that is a branch and-or is a twig.\nEvery tasty-plant is-eaten-by a carnivore and is-eaten-by a herbivore.\nEvery-single-thing eats nothing-but things that are animals and-or are plants and-or are-part-of animals and-or are-part-of plants.\n\nPart-6: 'Reflexion'.\n\nNothing is-proper-part-of itself.\n\nPart-7: Equivalence.\n\nComment: 'What it means to be a carnivore, omnivore or herbivore? We specify exact definitions here.'.\nEvery-single-thing that eats nothing-but animals and-or eats nothing-but things that are-part-of animals is a carnivore.\nSomething is an omnivore if-and-only-if-it eats an animal and eats a plant and eats something that is-part-of an animal and-or is-part-of a plant.\nSomething is a herbivore if-and-only-if-it eats nothing-but plants and-or eats nothing-but things that are-part-of plants.\n\nPart-8: 'Disjointness'.\n\nAnything either is a carnivore, is a herbivore or is an omnivore or-something-else.\nAnything either is a branch, is a leaf or is a twig or-something-else.\n\nPart-9: 'Relations between roles'.\n\nComment: 'Role equivalence and inverted roles'.\nX has-part Y if-and-only-if Y is-part-of X.\nX eats Y if-and-only-if Y is-eaten-by X.\n\nComment: 'Role subsumptions'.\nIf X is-proper-part-of Y then X is-part-of Y.\nIf X has-part something that has-part Y then X has-part Y.\n\nComment: 'Complex role subsumptions'.\nIf X is-part-of something that is-part-of Y then X is-part-of Y."
      }
     },
     "b0bf749d3aa54cb5876f768752e013e2": {
      "model_module": "@jupyter-widgets/base",
      "model_module_version": "1.1.0",
      "model_name": "LayoutModel",
      "state": {}
     },
     "b18557280c0d4e1b827179460da45136": {
      "model_module": "@jupyter-widgets/base",
      "model_module_version": "1.1.0",
      "model_name": "LayoutModel",
      "state": {
       "height": "100%",
       "width": "90%"
      }
     },
     "b6c1708eb8ab423fbc381678654dde18": {
      "model_module": "ontoedit",
      "model_module_version": "1.1.0",
      "model_name": "OntoeditModel",
      "state": {
       "_model_module_version": "1.1.0",
       "_view_module_version": "",
       "cursor": 166,
       "hints": "&lt;Proper-Name&gt;<br/>Every<br/>Every-single-thing<br/>If<br/>No<br/>Nothing<br/>Something<br/>The<br/>X",
       "hintsX": 166,
       "layout": "IPY_MODEL_865ed95805f44073ac10f4b4757bd1a0",
       "value": "Comment: 'Lets name our instances'.\nComment: 'Lets specify the hierarchy of beings'. \nComment: 'What is what?'.\n\nEvery lion is an animal.\nEvery giraffe is an animal.\n\nComment: 'Moreover'.\nEvery impala is an animal.\nEvery omnivore is an animal.\nEvery rock-dassie is an animal.\nEvery warthog is an animal.\nEvery carnivore is an animal.\nEvery herbivore is an animal.\nEvery elephant is a herbivore.\nEvery lion is carnivore.\n\nComment: 'There are also plants there:'.\nEvery tree is a plant.\nEvery grass is a plant.\nEvery palm-tree is a plant.\n\nEvery branch is a plant-part.\nEvery leaf is a plant-part.\nEvery twig is a plant-part.\n\nEvery phloem is a plant-part.\nEvery root is a plant-part.\nEvery parsnip is a root.\nEvery stem is a plant-part.\nEvery xylem is a plant-part.\nEvery fruiting-body is a plant-part.\nEvery berry is a fruiting-body.\nEvery apple is a fruiting-body.\n\nComment: 'We cannot use adjectives directly. To specify adjectives we need to transform them into sets that have form of buzzy-words'.\nEvery tasty-plant is a plant.\nEvery carnivorous-plant is a plant.\n"
      }
     },
     "ba703b23f64a4ac9bc68ac9552802303": {
      "model_module": "@jupyter-widgets/base",
      "model_module_version": "1.1.0",
      "model_name": "LayoutModel",
      "state": {
       "height": "300px"
      }
     },
     "bb14a3aef3864813a7002faff9fc6b16": {
      "model_module": "ontoedit",
      "model_module_version": "1.1.0",
      "model_name": "OntoeditModel",
      "state": {
       "_model_module_version": "1.1.0",
       "_view_module_version": "",
       "cursor": 89,
       "hints": "&lt;natural number&gt;",
       "hintsX": 80,
       "layout": "IPY_MODEL_c17c106402064e86b728cf51a20e3f93",
       "value": "Leo-01 is a lion.\nLeo-01 eats Sophie-01.\nSophie-01 is a giraffe.\nSophie-01 eats Branch-01.\nMary-01 is a tree.\nBranch-01 is a branch and is-proper-part-of Mary-01.\n"
      }
     },
     "bfdcdc39eeb04946a97cd9562372bc04": {
      "model_module": "@jupyter-widgets/base",
      "model_module_version": "1.1.0",
      "model_name": "LayoutModel",
      "state": {
       "height": "100%",
       "width": "90%"
      }
     },
     "c17c106402064e86b728cf51a20e3f93": {
      "model_module": "@jupyter-widgets/base",
      "model_module_version": "1.1.0",
      "model_name": "LayoutModel",
      "state": {
       "height": "100%",
       "width": "90%"
      }
     },
     "c1e34aeacb524c99a1c32e8cc8c9413a": {
      "model_module": "@jupyter-widgets/base",
      "model_module_version": "1.1.0",
      "model_name": "LayoutModel",
      "state": {
       "height": "300px"
      }
     },
     "c370339aafb24857915cb2b2d2ab7980": {
      "model_module": "@jupyter-widgets/base",
      "model_module_version": "1.1.0",
      "model_name": "LayoutModel",
      "state": {}
     },
     "c4809ee837e84bbba2bd1dc44a5cdc69": {
      "model_module": "@jupyter-widgets/base",
      "model_module_version": "1.1.0",
      "model_name": "LayoutModel",
      "state": {}
     },
     "c7fe458b7f814978a92e90b0b53c295c": {
      "model_module": "@jupyter-widgets/base",
      "model_module_version": "1.1.0",
      "model_name": "LayoutModel",
      "state": {
       "height": "300px"
      }
     },
     "cbb49564f07a44bdb9bdcc6dc6b14644": {
      "model_module": "@jupyter-widgets/base",
      "model_module_version": "1.1.0",
      "model_name": "LayoutModel",
      "state": {}
     },
     "cdb640c492eb40d986642b7b0cf89db1": {
      "model_module": "@jupyter-widgets/output",
      "model_module_version": "1.0.0",
      "model_name": "OutputModel",
      "state": {
       "layout": "IPY_MODEL_cbb49564f07a44bdb9bdcc6dc6b14644"
      }
     },
     "d6c24200739c486fa395a2d6f15f4c29": {
      "model_module": "@jupyter-widgets/controls",
      "model_module_version": "1.4.0",
      "model_name": "VBoxModel",
      "state": {
       "children": [
        "IPY_MODEL_b6c1708eb8ab423fbc381678654dde18",
        "IPY_MODEL_91212d33087f4872ab96d1d2adac582a"
       ],
       "layout": "IPY_MODEL_d786ada62a30448b8081a35a036fbf3d"
      }
     },
     "d786ada62a30448b8081a35a036fbf3d": {
      "model_module": "@jupyter-widgets/base",
      "model_module_version": "1.1.0",
      "model_name": "LayoutModel",
      "state": {
       "height": "300px"
      }
     },
     "d810833472c54ff1a38f821261445bdb": {
      "model_module": "@jupyter-widgets/base",
      "model_module_version": "1.1.0",
      "model_name": "LayoutModel",
      "state": {}
     },
     "d8f23781ffc74fb797fe78016d7b58e4": {
      "model_module": "@jupyter-widgets/base",
      "model_module_version": "1.1.0",
      "model_name": "LayoutModel",
      "state": {
       "height": "100%",
       "width": "90%"
      }
     },
     "d9c2b88b505b48a4b6c2c57cd93f7776": {
      "model_module": "@jupyter-widgets/base",
      "model_module_version": "1.1.0",
      "model_name": "LayoutModel",
      "state": {}
     },
     "db6bc8d6d0d54e2484718dee857e30e1": {
      "model_module": "@jupyter-widgets/base",
      "model_module_version": "1.1.0",
      "model_name": "LayoutModel",
      "state": {}
     },
     "dd75b77ca52a43a9868c62b289a4e4e1": {
      "model_module": "@jupyter-widgets/output",
      "model_module_version": "1.0.0",
      "model_name": "OutputModel",
      "state": {
       "layout": "IPY_MODEL_db6bc8d6d0d54e2484718dee857e30e1"
      }
     },
     "df07f4cbd3574e08868b7543bb5cb15a": {
      "model_module": "@jupyter-widgets/base",
      "model_module_version": "1.1.0",
      "model_name": "LayoutModel",
      "state": {
       "height": "100%",
       "width": "90%"
      }
     },
     "df45bd0d614e4f8dbc1d38058dc993e7": {
      "model_module": "@jupyter-widgets/base",
      "model_module_version": "1.1.0",
      "model_name": "LayoutModel",
      "state": {
       "height": "300px"
      }
     },
     "e18af0cea30b4af3a6cf1099f055219c": {
      "model_module": "@jupyter-widgets/controls",
      "model_module_version": "1.4.0",
      "model_name": "VBoxModel",
      "state": {
       "children": [
        "IPY_MODEL_e1d32be0fd784adb901538ecaea234af",
        "IPY_MODEL_e5a39ffce83d482a9bb07ef05f75f0c2"
       ],
       "layout": "IPY_MODEL_ba703b23f64a4ac9bc68ac9552802303"
      }
     },
     "e1d32be0fd784adb901538ecaea234af": {
      "model_module": "ontoedit",
      "model_module_version": "1.1.0",
      "model_name": "OntoeditModel",
      "state": {
       "_model_module_version": "1.1.0",
       "_view_module_version": "",
       "layout": "IPY_MODEL_a23f3db72e844fd38d5d05b950980e06",
       "value": "Every-single-thing that is a plant and-or is a plant-part is a herb.\nNo herb is an animal.\n\nEvery carnivore eats nothing-but animals.\nEvery lion eats nothing-but herbivores.\n\nEvery herbivore eats nothing-but herb.\n\nAnything either is a carnivore, is a herbivore or is an omnivore or-something-else.\nAnything either is a branch, is a leaf or is a twig or-something-else.\n\nNo giraffe is a lion.\nEvery palm-tree is not a tree.\n"
      }
     },
     "e26922aed1324c3cb824535d8f1eba7a": {
      "model_module": "@jupyter-widgets/output",
      "model_module_version": "1.0.0",
      "model_name": "OutputModel",
      "state": {
       "layout": "IPY_MODEL_08a658b923de47b7add2517b8353da1a"
      }
     },
     "e278e56780d1428c826f7d861d407183": {
      "model_module": "@jupyter-widgets/base",
      "model_module_version": "1.1.0",
      "model_name": "LayoutModel",
      "state": {
       "height": "300px"
      }
     },
     "e445e8ca520940b8aa5759ab19428243": {
      "model_module": "@jupyter-widgets/base",
      "model_module_version": "1.1.0",
      "model_name": "LayoutModel",
      "state": {
       "height": "300px"
      }
     },
     "e47665c42c1e462aa1fcecac0816fa09": {
      "model_module": "@jupyter-widgets/controls",
      "model_module_version": "1.4.0",
      "model_name": "VBoxModel",
      "state": {
       "children": [
        "IPY_MODEL_1d27dea574734e228e02e981579f0e48",
        "IPY_MODEL_3e2147d0702741bbb1963715683ba2ff"
       ],
       "layout": "IPY_MODEL_704fa12b89334f67b30097d1c39534c9"
      }
     },
     "e5a39ffce83d482a9bb07ef05f75f0c2": {
      "model_module": "@jupyter-widgets/output",
      "model_module_version": "1.0.0",
      "model_name": "OutputModel",
      "state": {
       "layout": "IPY_MODEL_efae18bdcab04718b11c37b244e41d0f"
      }
     },
     "e736dda042e74aac96c321bed782241e": {
      "model_module": "ontoedit",
      "model_module_version": "1.1.0",
      "model_name": "OntoeditModel",
      "state": {
       "_model_module_version": "1.1.0",
       "_view_module_version": "",
       "layout": "IPY_MODEL_34a127ddc9f3425d855562e734e8582e"
      }
     },
     "ea50e21fc54b4d97b922faa6337bdfe7": {
      "model_module": "@jupyter-widgets/base",
      "model_module_version": "1.1.0",
      "model_name": "LayoutModel",
      "state": {}
     },
     "edb2db2d34c248249a938a00c0f98a07": {
      "model_module": "@jupyter-widgets/base",
      "model_module_version": "1.1.0",
      "model_name": "LayoutModel",
      "state": {}
     },
     "ee2dd188cbe048cd98f09aa693d4aae4": {
      "model_module": "@jupyter-widgets/controls",
      "model_module_version": "1.4.0",
      "model_name": "VBoxModel",
      "state": {
       "children": [
        "IPY_MODEL_bb14a3aef3864813a7002faff9fc6b16",
        "IPY_MODEL_ef6cc581fc9c483fa9f40c0299bb4106"
       ],
       "layout": "IPY_MODEL_88e3f3eb628649cbaa595601364bada4"
      }
     },
     "ef6cc581fc9c483fa9f40c0299bb4106": {
      "model_module": "@jupyter-widgets/output",
      "model_module_version": "1.0.0",
      "model_name": "OutputModel",
      "state": {
       "layout": "IPY_MODEL_1786ad24fa9d463aa9ad86dcacd6b971"
      }
     },
     "efae18bdcab04718b11c37b244e41d0f": {
      "model_module": "@jupyter-widgets/base",
      "model_module_version": "1.1.0",
      "model_name": "LayoutModel",
      "state": {}
     },
     "f0f6655efb3d4a67824e88522b093252": {
      "model_module": "@jupyter-widgets/controls",
      "model_module_version": "1.4.0",
      "model_name": "VBoxModel",
      "state": {
       "children": [
        "IPY_MODEL_687f88667abb40929c0d1ac2acbc9281",
        "IPY_MODEL_2401f4a10a284f68920b1eb13a0ef3f1"
       ],
       "layout": "IPY_MODEL_08826d1d1e2d4efa9364b5d2bafa3c93"
      }
     },
     "f1b9951724734f07987cdd4aef154383": {
      "model_module": "@jupyter-widgets/controls",
      "model_module_version": "1.4.0",
      "model_name": "VBoxModel",
      "state": {
       "children": [
        "IPY_MODEL_acf1c5a99f7843fd8fe8da70d0aac47f",
        "IPY_MODEL_8b52933a93d84df1bc039f960cacf560"
       ],
       "layout": "IPY_MODEL_e445e8ca520940b8aa5759ab19428243"
      }
     },
     "f2dac51fb55347f2bf9f5f781b9e4558": {
      "model_module": "@jupyter-widgets/base",
      "model_module_version": "1.1.0",
      "model_name": "LayoutModel",
      "state": {}
     },
     "f4ea8cdd8b5c4157a727af4af9d67cb3": {
      "model_module": "@jupyter-widgets/base",
      "model_module_version": "1.1.0",
      "model_name": "LayoutModel",
      "state": {
       "height": "100%",
       "width": "90%"
      }
     },
     "f79246661c1941fb8047812a618edbea": {
      "model_module": "@jupyter-widgets/base",
      "model_module_version": "1.1.0",
      "model_name": "LayoutModel",
      "state": {
       "height": "100px"
      }
     },
     "f7e95e3d43544ddfb6c69338a006cace": {
      "model_module": "@jupyter-widgets/base",
      "model_module_version": "1.1.0",
      "model_name": "LayoutModel",
      "state": {
       "height": "300px"
      }
     },
     "f81355e7f2a34681bf8ca14e71dbf938": {
      "model_module": "@jupyter-widgets/output",
      "model_module_version": "1.0.0",
      "model_name": "OutputModel",
      "state": {
       "layout": "IPY_MODEL_edb2db2d34c248249a938a00c0f98a07"
      }
     },
     "f81dc3d2747142f9ac59bd2ccb85dc67": {
      "model_module": "@jupyter-widgets/output",
      "model_module_version": "1.0.0",
      "model_name": "OutputModel",
      "state": {
       "layout": "IPY_MODEL_5f92d7eda9e4489591fce827af8d659b"
      }
     }
    },
    "version_major": 2,
    "version_minor": 0
   }
  }
 },
 "nbformat": 4,
 "nbformat_minor": 2
}
