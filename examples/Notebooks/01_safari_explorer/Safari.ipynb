{
 "cells": [
  {
   "cell_type": "markdown",
   "metadata": {},
   "source": [
    "# Creating and exploring the OWL/RL + SWRL Ontologies using Cognitum PyOctopus.Tentacles"
   ]
  },
  {
   "cell_type": "markdown",
   "metadata": {},
   "source": [
    "## Setting up the environment\n",
    "Initialization of the Ontology editor in Jupyter Notebook"
   ]
  },
  {
   "cell_type": "code",
   "execution_count": 2,
   "metadata": {},
   "outputs": [],
   "source": [
    "from cognipy.ontology import Ontology #the ontology processing class\n",
    "from cognipy.ontology import CQL #SPARQL format tailored for Contolled Natural Language\n",
    "from cognipy.edit import CnlEditBox #The pywidget based ontology editor (offspirng of the Fluent Editor)\n",
    "from cognipy.edit import CnlQueryForConcept #The pywidget based ontology quaty widget \n",
    "from cognipy.ontology import encode_string_for_graph_label #complex datatypes encoder for the graph labels in graph visualisation\n",
    "import textwrap\n",
    "\n",
    "def graph_attribute_formatter(val):\n",
    "    if isinstance(val,list) or isinstance(val,set):\n",
    "        return \" | \".join(list(map(lambda i:encode_string_for_graph_label(graph_attribute_formatter(i)),val)))\n",
    "    elif isinstance(val,dict):\n",
    "        return \" | \".join(list(map(lambda i:i[0]+\" : \"+encode_string_for_graph_label(graph_attribute_formatter(i[1])),val.items())))\n",
    "    else:\n",
    "        return encode_string_for_graph_label(textwrap.fill(str(val),40))"
   ]
  },
  {
   "cell_type": "markdown",
   "metadata": {},
   "source": [
    "# 'African Wildlife'.\n",
    "Loading the editor for the basic \"safari\" ontology. The Ontology is inspired by 'A Semantic Web Primer.' by 'Antoniou, G, van Harmelen, F.' 'MIT Press, 2003.' 'http://www.csd.uoc.gr/~hy566/SWbook.pdf', tuned to OWL/RL+SWRL profile."
   ]
  },
  {
   "cell_type": "markdown",
   "metadata": {},
   "source": [
    "### Part-1: 'simple hierarchy of beings'. "
   ]
  },
  {
   "cell_type": "markdown",
   "metadata": {},
   "source": [
    "We will have many editors here and we will store all of them in the dict"
   ]
  },
  {
   "cell_type": "code",
   "execution_count": 3,
   "metadata": {},
   "outputs": [],
   "source": [
    "parts_editors={}"
   ]
  },
  {
   "cell_type": "markdown",
   "metadata": {},
   "source": [
    "Lets setup the fist ontology editor for the general knowledge. The editor allows you to enter the knowledge in text format, and support you with the prdictive editor."
   ]
  },
  {
   "cell_type": "code",
   "execution_count": 4,
   "metadata": {},
   "outputs": [
    {
     "data": {
      "application/javascript": [
       "/* jshint browser: true */\n",
       "\n",
       "(function () {\n",
       "\n",
       "// We'll copy the properties below into the mirror div.\n",
       "// Note that some browsers, such as Firefox, do not concatenate properties\n",
       "// into their shorthand (e.g. padding-top, padding-bottom etc. -> padding),\n",
       "// so we have to list every single property explicitly.\n",
       "var properties = [\n",
       "  'direction',  // RTL support\n",
       "  'boxSizing',\n",
       "  'width',  // on Chrome and IE, exclude the scrollbar, so the mirror div wraps exactly as the textarea does\n",
       "  'height',\n",
       "  'overflowX',\n",
       "  'overflowY',  // copy the scrollbar for IE\n",
       "\n",
       "  'borderTopWidth',\n",
       "  'borderRightWidth',\n",
       "  'borderBottomWidth',\n",
       "  'borderLeftWidth',\n",
       "  'borderStyle',\n",
       "\n",
       "  'paddingTop',\n",
       "  'paddingRight',\n",
       "  'paddingBottom',\n",
       "  'paddingLeft',\n",
       "\n",
       "  // https://developer.mozilla.org/en-US/docs/Web/CSS/font\n",
       "  'fontStyle',\n",
       "  'fontVariant',\n",
       "  'fontWeight',\n",
       "  'fontStretch',\n",
       "  'fontSize',\n",
       "  'fontSizeAdjust',\n",
       "  'lineHeight',\n",
       "  'fontFamily',\n",
       "\n",
       "  'textAlign',\n",
       "  'textTransform',\n",
       "  'textIndent',\n",
       "  'textDecoration',  // might not make a difference, but better be safe\n",
       "\n",
       "  'letterSpacing',\n",
       "  'wordSpacing',\n",
       "\n",
       "  'tabSize',\n",
       "  'MozTabSize'\n",
       "\n",
       "];\n",
       "\n",
       "var isBrowser = (typeof window !== 'undefined');\n",
       "var isFirefox = (isBrowser && window.mozInnerScreenX != null);\n",
       "\n",
       "function getCaretCoordinates(element, position, options) {\n",
       "  if (!isBrowser) {\n",
       "    throw new Error('textarea-caret-position#getCaretCoordinates should only be called in a browser');\n",
       "  }\n",
       "\n",
       "  var debug = options && options.debug || false;\n",
       "  if (debug) {\n",
       "    var el = document.querySelector('#input-textarea-caret-position-mirror-div');\n",
       "    if (el) el.parentNode.removeChild(el);\n",
       "  }\n",
       "\n",
       "  // The mirror div will replicate the textarea's style\n",
       "  var div = document.createElement('div');\n",
       "  div.id = 'input-textarea-caret-position-mirror-div';\n",
       "  document.body.appendChild(div);\n",
       "\n",
       "  var style = div.style;\n",
       "  var computed = window.getComputedStyle ? window.getComputedStyle(element) : element.currentStyle;  // currentStyle for IE < 9\n",
       "  var isInput = element.nodeName === 'INPUT';\n",
       "\n",
       "  // Default textarea styles\n",
       "  style.whiteSpace = 'pre-wrap';\n",
       "  if (!isInput)\n",
       "    style.wordWrap = 'break-word';  // only for textarea-s\n",
       "\n",
       "  // Position off-screen\n",
       "  style.position = 'absolute';  // required to return coordinates properly\n",
       "  if (!debug)\n",
       "    style.visibility = 'hidden';  // not 'display: none' because we want rendering\n",
       "\n",
       "  // Transfer the element's properties to the div\n",
       "  properties.forEach(function (prop) {\n",
       "    if (isInput && prop === 'lineHeight') {\n",
       "      // Special case for <input>s because text is rendered centered and line height may be != height\n",
       "      if (computed.boxSizing === \"border-box\") {\n",
       "        var height = parseInt(computed.height);\n",
       "        var outerHeight =\n",
       "          parseInt(computed.paddingTop) +\n",
       "          parseInt(computed.paddingBottom) +\n",
       "          parseInt(computed.borderTopWidth) +\n",
       "          parseInt(computed.borderBottomWidth);\n",
       "        var targetHeight = outerHeight + parseInt(computed.lineHeight);\n",
       "        if (height > targetHeight) {\n",
       "          style.lineHeight = height - outerHeight + \"px\";\n",
       "        } else if (height === targetHeight) {\n",
       "          style.lineHeight = computed.lineHeight;\n",
       "        } else {\n",
       "          style.lineHeight = 0;\n",
       "        }\n",
       "      } else {\n",
       "        style.lineHeight = computed.height;\n",
       "      }\n",
       "    } else {\n",
       "      style[prop] = computed[prop];\n",
       "    }\n",
       "  });\n",
       "\n",
       "  if (isFirefox) {\n",
       "    // Firefox lies about the overflow property for textareas: https://bugzilla.mozilla.org/show_bug.cgi?id=984275\n",
       "    if (element.scrollHeight > parseInt(computed.height))\n",
       "      style.overflowY = 'scroll';\n",
       "  } else {\n",
       "    style.overflow = 'hidden';  // for Chrome to not render a scrollbar; IE keeps overflowY = 'scroll'\n",
       "  }\n",
       "\n",
       "  div.textContent = element.value.substring(0, position);\n",
       "  // The second special handling for input type=\"text\" vs textarea:\n",
       "  // spaces need to be replaced with non-breaking spaces - http://stackoverflow.com/a/13402035/1269037\n",
       "  if (isInput)\n",
       "    div.textContent = div.textContent.replace(/\\s/g, '\\u00a0');\n",
       "\n",
       "  var span = document.createElement('span');\n",
       "  // Wrapping must be replicated *exactly*, including when a long word gets\n",
       "  // onto the next line, with whitespace at the end of the line before (#7).\n",
       "  // The  *only* reliable way to do that is to copy the *entire* rest of the\n",
       "  // textarea's content into the <span> created at the caret position.\n",
       "  // For inputs, just '.' would be enough, but no need to bother.\n",
       "  span.textContent = element.value.substring(position) || '.';  // || because a completely empty faux span doesn't render at all\n",
       "  div.appendChild(span);\n",
       "\n",
       "  var coordinates = {\n",
       "    top: span.offsetTop + parseInt(computed['borderTopWidth']),\n",
       "    left: span.offsetLeft + parseInt(computed['borderLeftWidth']),\n",
       "    height: parseInt(computed['lineHeight'])\n",
       "  };\n",
       "\n",
       "  if (debug) {\n",
       "    span.style.backgroundColor = '#aaa';\n",
       "  } else {\n",
       "    document.body.removeChild(div);\n",
       "  }\n",
       "\n",
       "  return coordinates;\n",
       "}\n",
       "\n",
       "if (typeof module != 'undefined' && typeof module.exports != 'undefined') {\n",
       "  module.exports = getCaretCoordinates;\n",
       "} else if(isBrowser) {\n",
       "  window.getCaretCoordinates = getCaretCoordinates;\n",
       "}\n",
       "\n",
       "}());\n",
       "\n",
       "require.undef('ontoedit');\n",
       "\n",
       "define('ontoedit', [\"@jupyter-widgets/base\"], function(widgets) {\n",
       "\n",
       "    var OntoeditModel = widgets.TextareaModel.extend({\n",
       "        \n",
       "        defaults: $.extend(widgets.TextareaModel.prototype.defaults(), {\n",
       "            _model_name: \"OntoeditModel\",\n",
       "            _view_name: \"OntoeditView\",\n",
       "            _model_module: \"ontoedit\",\n",
       "            _view_module: \"ontoedit\",\n",
       "            rows: null,\n",
       "            continuous_update: true,\n",
       "            cursor: 0,\n",
       "            hints:'',\n",
       "            hintsX:0,\n",
       "            hintT:''\n",
       "        })\n",
       "    }); \n",
       "    \n",
       "    var OntoeditView = widgets.TextareaView.extend({\n",
       "        \n",
       "        render: function() {\n",
       "            OntoeditView.__super__.render.apply(this, arguments);\n",
       "            this.model.on('change:hints', this.hints_changed, this);\n",
       "            this.model.on('change:hintsX', this.hintsX_changed, this);\n",
       "            \n",
       "            var model = this.model;\n",
       "            var that = this;\n",
       "            \n",
       "            var last_position = 0;\n",
       "        \n",
       "            function cursor_changed(element) {\n",
       "                var new_position = getCursorPosition(element);\n",
       "                if (new_position !== last_position) {\n",
       "                    last_position = new_position;\n",
       "                    return true;\n",
       "                }\n",
       "                return false;\n",
       "            }\n",
       "\n",
       "            function getCursorPosition(element) {\n",
       "                var el = $(element).get(0);\n",
       "                var pos = 0;\n",
       "                if ('selectionStart' in el) {\n",
       "                    pos = el.selectionStart;\n",
       "                } else if ('selection' in document) {\n",
       "                    el.focus();\n",
       "                    var Sel = document.selection.createRange();\n",
       "                    var SelLength = document.selection.createRange().text.length;\n",
       "                    Sel.moveStart('character', -el.value.length);\n",
       "                    pos = Sel.text.length - SelLength;\n",
       "                }\n",
       "                return pos;\n",
       "            }\n",
       "\n",
       "            var oldVal = \"\";\n",
       "\n",
       "            this.dd=$('<div style=\"-moz-appearance: textfield-multiline;-webkit-appearance: textarea;font: medium -moz-fixed; font: -webkit-small-control; position: absolute;z-index: 1; background-color:navy;color:white;box-shadow: 0px 8px 16px 0px rgba(0,0,0,0.4); \"/>')\n",
       "\n",
       "            $(this.el).bind(\"click keyup focus\",function(e){\n",
       "                that.dd.get(0).style.visibility=\"visible\";\n",
       "                var ele=$($(that.el).children(\"textarea\")[0])\n",
       "                \n",
       "                if(cursor_changed(ele)){\n",
       "                   var  cursor = getCursorPosition(ele);\n",
       "//                    console.log(cursor);\n",
       "//                    console.log('(top, left, height) = (%s, %s, %s)', caret.top, caret.left, caret.height);\n",
       "                    model.set('cursor',cursor);\n",
       "//                    console.log(cursor)\n",
       "                    that.touch();\n",
       "                }\n",
       "            });\n",
       "            \n",
       "            $($(this.el).children(\"textarea\")[0]).bind(\"blur\",function(e){\n",
       "//                console.log(\"blur\")\n",
       "                that.dd.get(0).style.visibility=\"hidden\";\n",
       "            });\n",
       "\n",
       "            $($(this.el).children(\"textarea\")[0]).bind(\"keydown\",function(e){\n",
       "                  if (e.keyCode==9)\n",
       "                  {\n",
       "//                      console.log(model.get('hintT'));\n",
       "                      var target=$($(that.el).children(\"textarea\")[0])\n",
       "                      var curpos = getCursorPosition(target)\n",
       "                      var off=curpos-model.get('hintsX')\n",
       "                      var data = model.get('hintT').slice(off)\n",
       "//                      console.log(off)\n",
       "                      \n",
       "                      if (target.setRangeText) {\n",
       "                         //if setRangeText function is supported by current browser\n",
       "                         target.setRangeText(data)\n",
       "                      } else {\n",
       "                        target.focus()\n",
       "                        document.execCommand('insertText', false /*no UI*/, data);\n",
       "                      }\n",
       "                      e.preventDefault();\n",
       "                      return;\n",
       "                  }\n",
       "            });\n",
       "            \n",
       "            // this.el represents the widget's DOM\n",
       "            $(this.el)\n",
       "            .append(this.dd)\n",
       "        },\n",
       "\n",
       "        hints_changed: function() {\n",
       "            var that = this;\n",
       "            var model = this.model;\n",
       "            that.dd.get(0).innerHTML=model.get('hints')\n",
       "//            console.log(model.get('hints'))\n",
       "        },\n",
       "        hintsX_changed: function() {\n",
       "            var that = this;\n",
       "            var model = this.model;\n",
       "            var ele=$($(that.el).children(\"textarea\")[0]);\n",
       "            element=ele.get(0);\n",
       "            var caret = getCaretCoordinates(ele.get(0), model.get('hintsX'));\n",
       "            that.dd.get(0).style.top = element.offsetTop - element.scrollTop + caret.top+ caret.height-5 + 'px';\n",
       "            that.dd.get(0).style.left = element.offsetLeft - element.scrollLeft + caret.left + 'px';\n",
       "//            that.dd.get(0).style.width = '20%';\n",
       "//            that.dd.get(0).style.height = '50%';\n",
       "            that.dd.get(0).style.fontFamily=element.style.fontFamily;\n",
       "            that.dd.get(0).style.fontSize=element.style.fontSize; \n",
       "//                        console.log(model.get('hintsX'))\n",
       "        },\n",
       "    });\n",
       "\n",
       "    return {\n",
       "        OntoeditModel : OntoeditModel,\n",
       "        OntoeditView : OntoeditView\n",
       "    };\n",
       "});"
      ],
      "text/plain": [
       "<IPython.core.display.Javascript object>"
      ]
     },
     "metadata": {},
     "output_type": "display_data"
    },
    {
     "data": {
      "application/vnd.jupyter.widget-view+json": {
       "model_id": "de8c553a73bf466e8ab41f0b65b34662",
       "version_major": 2,
       "version_minor": 0
      },
      "text/plain": [
       "VBox(children=(OntoeditWidget(layout=Layout(height='100%', width='90%'), value=\"Namespace: 'http://cognitum.eu…"
      ]
     },
     "metadata": {},
     "output_type": "display_data"
    }
   ],
   "source": [
    "parts_editors['01']=CnlEditBox('part_01.encnl')\n",
    "parts_editors['01']"
   ]
  },
  {
   "cell_type": "markdown",
   "metadata": {},
   "source": [
    "Lets define the function that will build the ontology based on the dict of ontology editors and the optional additional editor for testing purposes. All it is doing it is concatenaiting the values of all the editors and puts them into the newly created ontology object."
   ]
  },
  {
   "cell_type": "code",
   "execution_count": 5,
   "metadata": {},
   "outputs": [],
   "source": [
    "def buildOntology(parts_editors,test_editor=None):\n",
    "    return Ontology(\"cnl/string\",\n",
    "                    \"\\n\\n\".join(k.getvalue() for k in parts_editors.values())+('' if test_editor is None else test_editor.getvalue()), \n",
    "                    evaluator = lambda e:eval(e,globals(),locals()), \n",
    "                    graph_attribute_formatter = graph_attribute_formatter)"
   ]
  },
  {
   "cell_type": "markdown",
   "metadata": {},
   "source": [
    "The ontology object alows you to draw the materialised graph using several layout algorythms. Lets draw our base ontology."
   ]
  },
  {
   "cell_type": "code",
   "execution_count": 6,
   "metadata": {},
   "outputs": [
    {
     "data": {
      "image/svg+xml": [
       "<svg height=\"191pt\" viewBox=\"0.00 0.00 1577.00 191.00\" width=\"1577pt\" xmlns=\"http://www.w3.org/2000/svg\" xmlns:xlink=\"http://www.w3.org/1999/xlink\">\n",
       "<g class=\"graph\" id=\"graph0\" transform=\"scale(1 1) rotate(0) translate(4 187)\">\n",
       "<title>G</title>\n",
       "<polygon fill=\"white\" points=\"-4,4 -4,-187 1573,-187 1573,4 -4,4\" stroke=\"none\"/>\n",
       "<!-- tasty&#45;plant -->\n",
       "<g class=\"node\" id=\"node1\"><title>tasty-plant</title>\n",
       "<path d=\"M12,-73.5C12,-73.5 58,-73.5 58,-73.5 64,-73.5 70,-79.5 70,-85.5 70,-85.5 70,-97.5 70,-97.5 70,-103.5 64,-109.5 58,-109.5 58,-109.5 12,-109.5 12,-109.5 6,-109.5 0,-103.5 0,-97.5 0,-97.5 0,-85.5 0,-85.5 0,-79.5 6,-73.5 12,-73.5\" fill=\"aliceblue\" stroke=\"black\" stroke-width=\"0.5\"/>\n",
       "<text font-family=\"Titillium Web\" font-size=\"11.00\" text-anchor=\"middle\" x=\"35\" y=\"-88.7\">tasty-plant</text>\n",
       "</g>\n",
       "<!-- plant -->\n",
       "<g class=\"node\" id=\"node2\"><title>plant</title>\n",
       "<path d=\"M225,-146.5C225,-146.5 255,-146.5 255,-146.5 261,-146.5 267,-152.5 267,-158.5 267,-158.5 267,-170.5 267,-170.5 267,-176.5 261,-182.5 255,-182.5 255,-182.5 225,-182.5 225,-182.5 219,-182.5 213,-176.5 213,-170.5 213,-170.5 213,-158.5 213,-158.5 213,-152.5 219,-146.5 225,-146.5\" fill=\"aliceblue\" stroke=\"black\" stroke-width=\"0.5\"/>\n",
       "<text font-family=\"Titillium Web\" font-size=\"11.00\" text-anchor=\"middle\" x=\"240\" y=\"-161.7\">plant</text>\n",
       "</g>\n",
       "<!-- plant&#45;&#45;tasty&#45;plant -->\n",
       "<g class=\"edge\" id=\"edge1\"><title>plant--tasty-plant</title>\n",
       "<path d=\"M203.154,-151.924C170.386,-141.471 121.256,-125.409 79,-110 76.2196,-108.986 73.351,-107.911 70.4741,-106.813\" fill=\"none\" stroke=\"black\" stroke-width=\"0.5\"/>\n",
       "<polygon fill=\"none\" points=\"202.182,-155.288 212.773,-154.981 204.303,-148.617 202.182,-155.288\" stroke=\"black\" stroke-width=\"0.5\"/>\n",
       "</g>\n",
       "<!-- carnivorous&#45;plant -->\n",
       "<g class=\"node\" id=\"node15\"><title>carnivorous-plant</title>\n",
       "<path d=\"M100.5,-73.5C100.5,-73.5 177.5,-73.5 177.5,-73.5 183.5,-73.5 189.5,-79.5 189.5,-85.5 189.5,-85.5 189.5,-97.5 189.5,-97.5 189.5,-103.5 183.5,-109.5 177.5,-109.5 177.5,-109.5 100.5,-109.5 100.5,-109.5 94.5,-109.5 88.5,-103.5 88.5,-97.5 88.5,-97.5 88.5,-85.5 88.5,-85.5 88.5,-79.5 94.5,-73.5 100.5,-73.5\" fill=\"aliceblue\" stroke=\"black\" stroke-width=\"0.5\"/>\n",
       "<text font-family=\"Titillium Web\" font-size=\"11.00\" text-anchor=\"middle\" x=\"139\" y=\"-88.7\">carnivorous-plant</text>\n",
       "</g>\n",
       "<!-- plant&#45;&#45;carnivorous&#45;plant -->\n",
       "<g class=\"edge\" id=\"edge12\"><title>plant--carnivorous-plant</title>\n",
       "<path d=\"M207.245,-140.474C192.965,-130.436 176.516,-118.872 163.345,-109.614\" fill=\"none\" stroke=\"black\" stroke-width=\"0.5\"/>\n",
       "<polygon fill=\"none\" points=\"205.614,-143.606 215.808,-146.494 209.64,-137.879 205.614,-143.606\" stroke=\"black\" stroke-width=\"0.5\"/>\n",
       "</g>\n",
       "<!-- palm&#45;tree -->\n",
       "<g class=\"node\" id=\"node20\"><title>palm-tree</title>\n",
       "<path d=\"M219.5,-73.5C219.5,-73.5 260.5,-73.5 260.5,-73.5 266.5,-73.5 272.5,-79.5 272.5,-85.5 272.5,-85.5 272.5,-97.5 272.5,-97.5 272.5,-103.5 266.5,-109.5 260.5,-109.5 260.5,-109.5 219.5,-109.5 219.5,-109.5 213.5,-109.5 207.5,-103.5 207.5,-97.5 207.5,-97.5 207.5,-85.5 207.5,-85.5 207.5,-79.5 213.5,-73.5 219.5,-73.5\" fill=\"aliceblue\" stroke=\"black\" stroke-width=\"0.5\"/>\n",
       "<text font-family=\"Titillium Web\" font-size=\"11.00\" text-anchor=\"middle\" x=\"240\" y=\"-88.7\">palm-tree</text>\n",
       "</g>\n",
       "<!-- plant&#45;&#45;palm&#45;tree -->\n",
       "<g class=\"edge\" id=\"edge17\"><title>plant--palm-tree</title>\n",
       "<path d=\"M240,-136.253C240,-127.265 240,-117.529 240,-109.529\" fill=\"none\" stroke=\"black\" stroke-width=\"0.5\"/>\n",
       "<polygon fill=\"none\" points=\"236.5,-136.313 240,-146.313 243.5,-136.313 236.5,-136.313\" stroke=\"black\" stroke-width=\"0.5\"/>\n",
       "</g>\n",
       "<!-- tree -->\n",
       "<g class=\"node\" id=\"node22\"><title>tree</title>\n",
       "<path d=\"M303,-73.5C303,-73.5 333,-73.5 333,-73.5 339,-73.5 345,-79.5 345,-85.5 345,-85.5 345,-97.5 345,-97.5 345,-103.5 339,-109.5 333,-109.5 333,-109.5 303,-109.5 303,-109.5 297,-109.5 291,-103.5 291,-97.5 291,-97.5 291,-85.5 291,-85.5 291,-79.5 297,-73.5 303,-73.5\" fill=\"aliceblue\" stroke=\"black\" stroke-width=\"0.5\"/>\n",
       "<text font-family=\"Titillium Web\" font-size=\"11.00\" text-anchor=\"middle\" x=\"318\" y=\"-88.7\">tree</text>\n",
       "</g>\n",
       "<!-- plant&#45;&#45;tree -->\n",
       "<g class=\"edge\" id=\"edge19\"><title>plant--tree</title>\n",
       "<path d=\"M266.431,-139.441C277.223,-129.618 289.452,-118.486 299.292,-109.529\" fill=\"none\" stroke=\"black\" stroke-width=\"0.5\"/>\n",
       "<polygon fill=\"none\" points=\"263.921,-136.993 258.882,-146.313 268.633,-142.17 263.921,-136.993\" stroke=\"black\" stroke-width=\"0.5\"/>\n",
       "</g>\n",
       "<!-- grass -->\n",
       "<g class=\"node\" id=\"node26\"><title>grass</title>\n",
       "<path d=\"M375,-73.5C375,-73.5 405,-73.5 405,-73.5 411,-73.5 417,-79.5 417,-85.5 417,-85.5 417,-97.5 417,-97.5 417,-103.5 411,-109.5 405,-109.5 405,-109.5 375,-109.5 375,-109.5 369,-109.5 363,-103.5 363,-97.5 363,-97.5 363,-85.5 363,-85.5 363,-79.5 369,-73.5 375,-73.5\" fill=\"aliceblue\" stroke=\"black\" stroke-width=\"0.5\"/>\n",
       "<text font-family=\"Titillium Web\" font-size=\"11.00\" text-anchor=\"middle\" x=\"390\" y=\"-88.7\">grass</text>\n",
       "</g>\n",
       "<!-- plant&#45;&#45;grass -->\n",
       "<g class=\"edge\" id=\"edge23\"><title>plant--grass</title>\n",
       "<path d=\"M276.384,-146.58C298.799,-136.117 328.107,-122.368 354,-110 356.884,-108.622 359.895,-107.174 362.892,-105.726\" fill=\"none\" stroke=\"black\" stroke-width=\"0.5\"/>\n",
       "<polygon fill=\"none\" points=\"274.813,-143.45 267.229,-150.849 277.771,-149.794 274.813,-143.45\" stroke=\"black\" stroke-width=\"0.5\"/>\n",
       "</g>\n",
       "<!-- apple -->\n",
       "<g class=\"node\" id=\"node3\"><title>apple</title>\n",
       "<path d=\"M424,-0.5C424,-0.5 454,-0.5 454,-0.5 460,-0.5 466,-6.5 466,-12.5 466,-12.5 466,-24.5 466,-24.5 466,-30.5 460,-36.5 454,-36.5 454,-36.5 424,-36.5 424,-36.5 418,-36.5 412,-30.5 412,-24.5 412,-24.5 412,-12.5 412,-12.5 412,-6.5 418,-0.5 424,-0.5\" fill=\"aliceblue\" stroke=\"black\" stroke-width=\"0.5\"/>\n",
       "<text font-family=\"Titillium Web\" font-size=\"11.00\" text-anchor=\"middle\" x=\"439\" y=\"-15.7\">apple</text>\n",
       "</g>\n",
       "<!-- fruiting&#45;body -->\n",
       "<g class=\"node\" id=\"node4\"><title>fruiting-body</title>\n",
       "<path d=\"M447.5,-73.5C447.5,-73.5 502.5,-73.5 502.5,-73.5 508.5,-73.5 514.5,-79.5 514.5,-85.5 514.5,-85.5 514.5,-97.5 514.5,-97.5 514.5,-103.5 508.5,-109.5 502.5,-109.5 502.5,-109.5 447.5,-109.5 447.5,-109.5 441.5,-109.5 435.5,-103.5 435.5,-97.5 435.5,-97.5 435.5,-85.5 435.5,-85.5 435.5,-79.5 441.5,-73.5 447.5,-73.5\" fill=\"aliceblue\" stroke=\"black\" stroke-width=\"0.5\"/>\n",
       "<text font-family=\"Titillium Web\" font-size=\"11.00\" text-anchor=\"middle\" x=\"475\" y=\"-88.7\">fruiting-body</text>\n",
       "</g>\n",
       "<!-- fruiting&#45;body&#45;&#45;apple -->\n",
       "<g class=\"edge\" id=\"edge2\"><title>fruiting-body--apple</title>\n",
       "<path d=\"M461.629,-64.1302C456.95,-54.9019 451.823,-44.7904 447.634,-36.5288\" fill=\"none\" stroke=\"black\" stroke-width=\"0.5\"/>\n",
       "<polygon fill=\"none\" points=\"458.641,-65.9767 466.285,-73.3129 464.885,-62.811 458.641,-65.9767\" stroke=\"black\" stroke-width=\"0.5\"/>\n",
       "</g>\n",
       "<!-- berry -->\n",
       "<g class=\"node\" id=\"node12\"><title>berry</title>\n",
       "<path d=\"M496,-0.5C496,-0.5 526,-0.5 526,-0.5 532,-0.5 538,-6.5 538,-12.5 538,-12.5 538,-24.5 538,-24.5 538,-30.5 532,-36.5 526,-36.5 526,-36.5 496,-36.5 496,-36.5 490,-36.5 484,-30.5 484,-24.5 484,-24.5 484,-12.5 484,-12.5 484,-6.5 490,-0.5 496,-0.5\" fill=\"aliceblue\" stroke=\"black\" stroke-width=\"0.5\"/>\n",
       "<text font-family=\"Titillium Web\" font-size=\"11.00\" text-anchor=\"middle\" x=\"511\" y=\"-15.7\">berry</text>\n",
       "</g>\n",
       "<!-- fruiting&#45;body&#45;&#45;berry -->\n",
       "<g class=\"edge\" id=\"edge9\"><title>fruiting-body--berry</title>\n",
       "<path d=\"M488.371,-64.1302C493.05,-54.9019 498.177,-44.7904 502.366,-36.5288\" fill=\"none\" stroke=\"black\" stroke-width=\"0.5\"/>\n",
       "<polygon fill=\"none\" points=\"485.115,-62.811 483.715,-73.3129 491.359,-65.9767 485.115,-62.811\" stroke=\"black\" stroke-width=\"0.5\"/>\n",
       "</g>\n",
       "<!-- rock&#45;dassie -->\n",
       "<g class=\"node\" id=\"node5\"><title>rock-dassie</title>\n",
       "<path d=\"M1049.5,-73.5C1049.5,-73.5 1098.5,-73.5 1098.5,-73.5 1104.5,-73.5 1110.5,-79.5 1110.5,-85.5 1110.5,-85.5 1110.5,-97.5 1110.5,-97.5 1110.5,-103.5 1104.5,-109.5 1098.5,-109.5 1098.5,-109.5 1049.5,-109.5 1049.5,-109.5 1043.5,-109.5 1037.5,-103.5 1037.5,-97.5 1037.5,-97.5 1037.5,-85.5 1037.5,-85.5 1037.5,-79.5 1043.5,-73.5 1049.5,-73.5\" fill=\"aliceblue\" stroke=\"black\" stroke-width=\"0.5\"/>\n",
       "<text font-family=\"Titillium Web\" font-size=\"11.00\" text-anchor=\"middle\" x=\"1074\" y=\"-88.7\">rock-dassie</text>\n",
       "</g>\n",
       "<!-- animal -->\n",
       "<g class=\"node\" id=\"node6\"><title>animal</title>\n",
       "<path d=\"M1299,-146.5C1299,-146.5 1329,-146.5 1329,-146.5 1335,-146.5 1341,-152.5 1341,-158.5 1341,-158.5 1341,-170.5 1341,-170.5 1341,-176.5 1335,-182.5 1329,-182.5 1329,-182.5 1299,-182.5 1299,-182.5 1293,-182.5 1287,-176.5 1287,-170.5 1287,-170.5 1287,-158.5 1287,-158.5 1287,-152.5 1293,-146.5 1299,-146.5\" fill=\"aliceblue\" stroke=\"black\" stroke-width=\"0.5\"/>\n",
       "<text font-family=\"Titillium Web\" font-size=\"11.00\" text-anchor=\"middle\" x=\"1314\" y=\"-161.7\">animal</text>\n",
       "</g>\n",
       "<!-- animal&#45;&#45;rock&#45;dassie -->\n",
       "<g class=\"edge\" id=\"edge3\"><title>animal--rock-dassie</title>\n",
       "<path d=\"M1276.85,-154.367C1237.57,-144.453 1173.95,-127.658 1120,-110 1116.91,-108.99 1113.73,-107.894 1110.55,-106.761\" fill=\"none\" stroke=\"black\" stroke-width=\"0.5\"/>\n",
       "<polygon fill=\"none\" points=\"1276.22,-157.818 1286.77,-156.856 1277.92,-151.028 1276.22,-157.818\" stroke=\"black\" stroke-width=\"0.5\"/>\n",
       "</g>\n",
       "<!-- warthog -->\n",
       "<g class=\"node\" id=\"node11\"><title>warthog</title>\n",
       "<path d=\"M1141,-73.5C1141,-73.5 1173,-73.5 1173,-73.5 1179,-73.5 1185,-79.5 1185,-85.5 1185,-85.5 1185,-97.5 1185,-97.5 1185,-103.5 1179,-109.5 1173,-109.5 1173,-109.5 1141,-109.5 1141,-109.5 1135,-109.5 1129,-103.5 1129,-97.5 1129,-97.5 1129,-85.5 1129,-85.5 1129,-79.5 1135,-73.5 1141,-73.5\" fill=\"aliceblue\" stroke=\"black\" stroke-width=\"0.5\"/>\n",
       "<text font-family=\"Titillium Web\" font-size=\"11.00\" text-anchor=\"middle\" x=\"1157\" y=\"-88.7\">warthog</text>\n",
       "</g>\n",
       "<!-- animal&#45;&#45;warthog -->\n",
       "<g class=\"edge\" id=\"edge7\"><title>animal--warthog</title>\n",
       "<path d=\"M1277.39,-147.433C1253.57,-136.918 1221.87,-122.803 1194,-110 1191.16,-108.695 1188.2,-107.322 1185.25,-105.942\" fill=\"none\" stroke=\"black\" stroke-width=\"0.5\"/>\n",
       "<polygon fill=\"none\" points=\"1276.19,-150.73 1286.76,-151.562 1279.02,-144.325 1276.19,-150.73\" stroke=\"black\" stroke-width=\"0.5\"/>\n",
       "</g>\n",
       "<!-- herbivore -->\n",
       "<g class=\"node\" id=\"node13\"><title>herbivore</title>\n",
       "<path d=\"M1215,-73.5C1215,-73.5 1253,-73.5 1253,-73.5 1259,-73.5 1265,-79.5 1265,-85.5 1265,-85.5 1265,-97.5 1265,-97.5 1265,-103.5 1259,-109.5 1253,-109.5 1253,-109.5 1215,-109.5 1215,-109.5 1209,-109.5 1203,-103.5 1203,-97.5 1203,-97.5 1203,-85.5 1203,-85.5 1203,-79.5 1209,-73.5 1215,-73.5\" fill=\"aliceblue\" stroke=\"black\" stroke-width=\"0.5\"/>\n",
       "<text font-family=\"Titillium Web\" font-size=\"11.00\" text-anchor=\"middle\" x=\"1234\" y=\"-88.7\">herbivore</text>\n",
       "</g>\n",
       "<!-- animal&#45;&#45;herbivore -->\n",
       "<g class=\"edge\" id=\"edge10\"><title>animal--herbivore</title>\n",
       "<path d=\"M1286.89,-139.441C1275.82,-129.618 1263.28,-118.486 1253.19,-109.529\" fill=\"none\" stroke=\"black\" stroke-width=\"0.5\"/>\n",
       "<polygon fill=\"none\" points=\"1284.83,-142.293 1294.63,-146.313 1289.48,-137.057 1284.83,-142.293\" stroke=\"black\" stroke-width=\"0.5\"/>\n",
       "</g>\n",
       "<!-- omnivore -->\n",
       "<g class=\"node\" id=\"node14\"><title>omnivore</title>\n",
       "<path d=\"M1295,-73.5C1295,-73.5 1333,-73.5 1333,-73.5 1339,-73.5 1345,-79.5 1345,-85.5 1345,-85.5 1345,-97.5 1345,-97.5 1345,-103.5 1339,-109.5 1333,-109.5 1333,-109.5 1295,-109.5 1295,-109.5 1289,-109.5 1283,-103.5 1283,-97.5 1283,-97.5 1283,-85.5 1283,-85.5 1283,-79.5 1289,-73.5 1295,-73.5\" fill=\"aliceblue\" stroke=\"black\" stroke-width=\"0.5\"/>\n",
       "<text font-family=\"Titillium Web\" font-size=\"11.00\" text-anchor=\"middle\" x=\"1314\" y=\"-88.7\">omnivore</text>\n",
       "</g>\n",
       "<!-- animal&#45;&#45;omnivore -->\n",
       "<g class=\"edge\" id=\"edge11\"><title>animal--omnivore</title>\n",
       "<path d=\"M1314,-136.253C1314,-127.265 1314,-117.529 1314,-109.529\" fill=\"none\" stroke=\"black\" stroke-width=\"0.5\"/>\n",
       "<polygon fill=\"none\" points=\"1310.5,-136.313 1314,-146.313 1317.5,-136.313 1310.5,-136.313\" stroke=\"black\" stroke-width=\"0.5\"/>\n",
       "</g>\n",
       "<!-- carnivore -->\n",
       "<g class=\"node\" id=\"node17\"><title>carnivore</title>\n",
       "<path d=\"M1375.5,-73.5C1375.5,-73.5 1412.5,-73.5 1412.5,-73.5 1418.5,-73.5 1424.5,-79.5 1424.5,-85.5 1424.5,-85.5 1424.5,-97.5 1424.5,-97.5 1424.5,-103.5 1418.5,-109.5 1412.5,-109.5 1412.5,-109.5 1375.5,-109.5 1375.5,-109.5 1369.5,-109.5 1363.5,-103.5 1363.5,-97.5 1363.5,-97.5 1363.5,-85.5 1363.5,-85.5 1363.5,-79.5 1369.5,-73.5 1375.5,-73.5\" fill=\"aliceblue\" stroke=\"black\" stroke-width=\"0.5\"/>\n",
       "<text font-family=\"Titillium Web\" font-size=\"11.00\" text-anchor=\"middle\" x=\"1394\" y=\"-88.7\">carnivore</text>\n",
       "</g>\n",
       "<!-- animal&#45;&#45;carnivore -->\n",
       "<g class=\"edge\" id=\"edge14\"><title>animal--carnivore</title>\n",
       "<path d=\"M1341.11,-139.441C1352.18,-129.618 1364.72,-118.486 1374.81,-109.529\" fill=\"none\" stroke=\"black\" stroke-width=\"0.5\"/>\n",
       "<polygon fill=\"none\" points=\"1338.52,-137.057 1333.37,-146.313 1343.17,-142.293 1338.52,-137.057\" stroke=\"black\" stroke-width=\"0.5\"/>\n",
       "</g>\n",
       "<!-- impala -->\n",
       "<g class=\"node\" id=\"node21\"><title>impala</title>\n",
       "<path d=\"M1455,-73.5C1455,-73.5 1485,-73.5 1485,-73.5 1491,-73.5 1497,-79.5 1497,-85.5 1497,-85.5 1497,-97.5 1497,-97.5 1497,-103.5 1491,-109.5 1485,-109.5 1485,-109.5 1455,-109.5 1455,-109.5 1449,-109.5 1443,-103.5 1443,-97.5 1443,-97.5 1443,-85.5 1443,-85.5 1443,-79.5 1449,-73.5 1455,-73.5\" fill=\"aliceblue\" stroke=\"black\" stroke-width=\"0.5\"/>\n",
       "<text font-family=\"Titillium Web\" font-size=\"11.00\" text-anchor=\"middle\" x=\"1470\" y=\"-88.7\">impala</text>\n",
       "</g>\n",
       "<!-- animal&#45;&#45;impala -->\n",
       "<g class=\"edge\" id=\"edge18\"><title>animal--impala</title>\n",
       "<path d=\"M1350.66,-147.534C1374.49,-137.059 1406.2,-122.952 1434,-110 1436.9,-108.65 1439.92,-107.22 1442.92,-105.783\" fill=\"none\" stroke=\"black\" stroke-width=\"0.5\"/>\n",
       "<polygon fill=\"none\" points=\"1349.03,-144.422 1341.28,-151.644 1351.85,-150.833 1349.03,-144.422\" stroke=\"black\" stroke-width=\"0.5\"/>\n",
       "</g>\n",
       "<!-- giraffe -->\n",
       "<g class=\"node\" id=\"node28\"><title>giraffe</title>\n",
       "<path d=\"M1527,-73.5C1527,-73.5 1557,-73.5 1557,-73.5 1563,-73.5 1569,-79.5 1569,-85.5 1569,-85.5 1569,-97.5 1569,-97.5 1569,-103.5 1563,-109.5 1557,-109.5 1557,-109.5 1527,-109.5 1527,-109.5 1521,-109.5 1515,-103.5 1515,-97.5 1515,-97.5 1515,-85.5 1515,-85.5 1515,-79.5 1521,-73.5 1527,-73.5\" fill=\"aliceblue\" stroke=\"black\" stroke-width=\"0.5\"/>\n",
       "<text font-family=\"Titillium Web\" font-size=\"11.00\" text-anchor=\"middle\" x=\"1542\" y=\"-88.7\">giraffe</text>\n",
       "</g>\n",
       "<!-- animal&#45;&#45;giraffe -->\n",
       "<g class=\"edge\" id=\"edge25\"><title>animal--giraffe</title>\n",
       "<path d=\"M1351.1,-155.271C1390.24,-146.103 1453.42,-129.917 1506,-110 1508.86,-108.917 1511.8,-107.689 1514.71,-106.398\" fill=\"none\" stroke=\"black\" stroke-width=\"0.5\"/>\n",
       "<polygon fill=\"none\" points=\"1350.16,-151.896 1341.2,-157.559 1351.74,-158.716 1350.16,-151.896\" stroke=\"black\" stroke-width=\"0.5\"/>\n",
       "</g>\n",
       "<!-- twig -->\n",
       "<g class=\"node\" id=\"node7\"><title>twig</title>\n",
       "<path d=\"M545,-73.5C545,-73.5 575,-73.5 575,-73.5 581,-73.5 587,-79.5 587,-85.5 587,-85.5 587,-97.5 587,-97.5 587,-103.5 581,-109.5 575,-109.5 575,-109.5 545,-109.5 545,-109.5 539,-109.5 533,-103.5 533,-97.5 533,-97.5 533,-85.5 533,-85.5 533,-79.5 539,-73.5 545,-73.5\" fill=\"aliceblue\" stroke=\"black\" stroke-width=\"0.5\"/>\n",
       "<text font-family=\"Titillium Web\" font-size=\"11.00\" text-anchor=\"middle\" x=\"560\" y=\"-88.7\">twig</text>\n",
       "</g>\n",
       "<!-- plant&#45;part -->\n",
       "<g class=\"node\" id=\"node8\"><title>plant-part</title>\n",
       "<path d=\"M719.5,-146.5C719.5,-146.5 760.5,-146.5 760.5,-146.5 766.5,-146.5 772.5,-152.5 772.5,-158.5 772.5,-158.5 772.5,-170.5 772.5,-170.5 772.5,-176.5 766.5,-182.5 760.5,-182.5 760.5,-182.5 719.5,-182.5 719.5,-182.5 713.5,-182.5 707.5,-176.5 707.5,-170.5 707.5,-170.5 707.5,-158.5 707.5,-158.5 707.5,-152.5 713.5,-146.5 719.5,-146.5\" fill=\"aliceblue\" stroke=\"black\" stroke-width=\"0.5\"/>\n",
       "<text font-family=\"Titillium Web\" font-size=\"11.00\" text-anchor=\"middle\" x=\"740\" y=\"-161.7\">plant-part</text>\n",
       "</g>\n",
       "<!-- plant&#45;part&#45;&#45;fruiting&#45;body -->\n",
       "<g class=\"edge\" id=\"edge8\"><title>plant-part--fruiting-body</title>\n",
       "<path d=\"M697.134,-154.216C653.302,-144.412 583.411,-127.917 524,-110 520.973,-109.087 517.858,-108.097 514.735,-107.067\" fill=\"none\" stroke=\"black\" stroke-width=\"0.5\"/>\n",
       "<polygon fill=\"none\" points=\"696.634,-157.69 707.155,-156.442 698.152,-150.857 696.634,-157.69\" stroke=\"black\" stroke-width=\"0.5\"/>\n",
       "</g>\n",
       "<!-- plant&#45;part&#45;&#45;twig -->\n",
       "<g class=\"edge\" id=\"edge4\"><title>plant-part--twig</title>\n",
       "<path d=\"M697.555,-148.949C668.649,-138.743 629.671,-124.399 596,-110 593.189,-108.798 590.28,-107.492 587.391,-106.153\" fill=\"none\" stroke=\"black\" stroke-width=\"0.5\"/>\n",
       "<polygon fill=\"none\" points=\"696.739,-152.372 707.334,-152.379 699.056,-145.766 696.739,-152.372\" stroke=\"black\" stroke-width=\"0.5\"/>\n",
       "</g>\n",
       "<!-- stem -->\n",
       "<g class=\"node\" id=\"node9\"><title>stem</title>\n",
       "<path d=\"M617,-73.5C617,-73.5 647,-73.5 647,-73.5 653,-73.5 659,-79.5 659,-85.5 659,-85.5 659,-97.5 659,-97.5 659,-103.5 653,-109.5 647,-109.5 647,-109.5 617,-109.5 617,-109.5 611,-109.5 605,-103.5 605,-97.5 605,-97.5 605,-85.5 605,-85.5 605,-79.5 611,-73.5 617,-73.5\" fill=\"aliceblue\" stroke=\"black\" stroke-width=\"0.5\"/>\n",
       "<text font-family=\"Titillium Web\" font-size=\"11.00\" text-anchor=\"middle\" x=\"632\" y=\"-88.7\">stem</text>\n",
       "</g>\n",
       "<!-- plant&#45;part&#45;&#45;stem -->\n",
       "<g class=\"edge\" id=\"edge5\"><title>plant-part--stem</title>\n",
       "<path d=\"M705.407,-140.758C690.037,-130.654 672.248,-118.96 658.032,-109.614\" fill=\"none\" stroke=\"black\" stroke-width=\"0.5\"/>\n",
       "<polygon fill=\"none\" points=\"703.853,-143.925 714.131,-146.494 707.698,-138.076 703.853,-143.925\" stroke=\"black\" stroke-width=\"0.5\"/>\n",
       "</g>\n",
       "<!-- leaf -->\n",
       "<g class=\"node\" id=\"node10\"><title>leaf</title>\n",
       "<path d=\"M689,-73.5C689,-73.5 719,-73.5 719,-73.5 725,-73.5 731,-79.5 731,-85.5 731,-85.5 731,-97.5 731,-97.5 731,-103.5 725,-109.5 719,-109.5 719,-109.5 689,-109.5 689,-109.5 683,-109.5 677,-103.5 677,-97.5 677,-97.5 677,-85.5 677,-85.5 677,-79.5 683,-73.5 689,-73.5\" fill=\"aliceblue\" stroke=\"black\" stroke-width=\"0.5\"/>\n",
       "<text font-family=\"Titillium Web\" font-size=\"11.00\" text-anchor=\"middle\" x=\"704\" y=\"-88.7\">leaf</text>\n",
       "</g>\n",
       "<!-- plant&#45;part&#45;&#45;leaf -->\n",
       "<g class=\"edge\" id=\"edge6\"><title>plant-part--leaf</title>\n",
       "<path d=\"M726.629,-137.13C721.95,-127.902 716.823,-117.79 712.634,-109.529\" fill=\"none\" stroke=\"black\" stroke-width=\"0.5\"/>\n",
       "<polygon fill=\"none\" points=\"723.641,-138.977 731.285,-146.313 729.885,-135.811 723.641,-138.977\" stroke=\"black\" stroke-width=\"0.5\"/>\n",
       "</g>\n",
       "<!-- phloem -->\n",
       "<g class=\"node\" id=\"node16\"><title>phloem</title>\n",
       "<path d=\"M761,-73.5C761,-73.5 791,-73.5 791,-73.5 797,-73.5 803,-79.5 803,-85.5 803,-85.5 803,-97.5 803,-97.5 803,-103.5 797,-109.5 791,-109.5 791,-109.5 761,-109.5 761,-109.5 755,-109.5 749,-103.5 749,-97.5 749,-97.5 749,-85.5 749,-85.5 749,-79.5 755,-73.5 761,-73.5\" fill=\"aliceblue\" stroke=\"black\" stroke-width=\"0.5\"/>\n",
       "<text font-family=\"Titillium Web\" font-size=\"11.00\" text-anchor=\"middle\" x=\"776\" y=\"-88.7\">phloem</text>\n",
       "</g>\n",
       "<!-- plant&#45;part&#45;&#45;phloem -->\n",
       "<g class=\"edge\" id=\"edge13\"><title>plant-part--phloem</title>\n",
       "<path d=\"M753.371,-137.13C758.05,-127.902 763.177,-117.79 767.366,-109.529\" fill=\"none\" stroke=\"black\" stroke-width=\"0.5\"/>\n",
       "<polygon fill=\"none\" points=\"750.115,-135.811 748.715,-146.313 756.359,-138.977 750.115,-135.811\" stroke=\"black\" stroke-width=\"0.5\"/>\n",
       "</g>\n",
       "<!-- branch -->\n",
       "<g class=\"node\" id=\"node18\"><title>branch</title>\n",
       "<path d=\"M833,-73.5C833,-73.5 863,-73.5 863,-73.5 869,-73.5 875,-79.5 875,-85.5 875,-85.5 875,-97.5 875,-97.5 875,-103.5 869,-109.5 863,-109.5 863,-109.5 833,-109.5 833,-109.5 827,-109.5 821,-103.5 821,-97.5 821,-97.5 821,-85.5 821,-85.5 821,-79.5 827,-73.5 833,-73.5\" fill=\"aliceblue\" stroke=\"black\" stroke-width=\"0.5\"/>\n",
       "<text font-family=\"Titillium Web\" font-size=\"11.00\" text-anchor=\"middle\" x=\"848\" y=\"-88.7\">branch</text>\n",
       "</g>\n",
       "<!-- plant&#45;part&#45;&#45;branch -->\n",
       "<g class=\"edge\" id=\"edge15\"><title>plant-part--branch</title>\n",
       "<path d=\"M774.593,-140.758C789.963,-130.654 807.752,-118.96 821.968,-109.614\" fill=\"none\" stroke=\"black\" stroke-width=\"0.5\"/>\n",
       "<polygon fill=\"none\" points=\"772.302,-138.076 765.869,-146.494 776.147,-143.925 772.302,-138.076\" stroke=\"black\" stroke-width=\"0.5\"/>\n",
       "</g>\n",
       "<!-- root -->\n",
       "<g class=\"node\" id=\"node24\"><title>root</title>\n",
       "<path d=\"M905,-73.5C905,-73.5 935,-73.5 935,-73.5 941,-73.5 947,-79.5 947,-85.5 947,-85.5 947,-97.5 947,-97.5 947,-103.5 941,-109.5 935,-109.5 935,-109.5 905,-109.5 905,-109.5 899,-109.5 893,-103.5 893,-97.5 893,-97.5 893,-85.5 893,-85.5 893,-79.5 899,-73.5 905,-73.5\" fill=\"aliceblue\" stroke=\"black\" stroke-width=\"0.5\"/>\n",
       "<text font-family=\"Titillium Web\" font-size=\"11.00\" text-anchor=\"middle\" x=\"920\" y=\"-88.7\">root</text>\n",
       "</g>\n",
       "<!-- plant&#45;part&#45;&#45;root -->\n",
       "<g class=\"edge\" id=\"edge21\"><title>plant-part--root</title>\n",
       "<path d=\"M782.445,-148.949C811.351,-138.743 850.329,-124.399 884,-110 886.811,-108.798 889.72,-107.492 892.609,-106.153\" fill=\"none\" stroke=\"black\" stroke-width=\"0.5\"/>\n",
       "<polygon fill=\"none\" points=\"780.944,-145.766 772.666,-152.379 783.261,-152.372 780.944,-145.766\" stroke=\"black\" stroke-width=\"0.5\"/>\n",
       "</g>\n",
       "<!-- xylem -->\n",
       "<g class=\"node\" id=\"node27\"><title>xylem</title>\n",
       "<path d=\"M977,-73.5C977,-73.5 1007,-73.5 1007,-73.5 1013,-73.5 1019,-79.5 1019,-85.5 1019,-85.5 1019,-97.5 1019,-97.5 1019,-103.5 1013,-109.5 1007,-109.5 1007,-109.5 977,-109.5 977,-109.5 971,-109.5 965,-103.5 965,-97.5 965,-97.5 965,-85.5 965,-85.5 965,-79.5 971,-73.5 977,-73.5\" fill=\"aliceblue\" stroke=\"black\" stroke-width=\"0.5\"/>\n",
       "<text font-family=\"Titillium Web\" font-size=\"11.00\" text-anchor=\"middle\" x=\"992\" y=\"-88.7\">xylem</text>\n",
       "</g>\n",
       "<!-- plant&#45;part&#45;&#45;xylem -->\n",
       "<g class=\"edge\" id=\"edge24\"><title>plant-part--xylem</title>\n",
       "<path d=\"M782.93,-155.634C827.09,-146.904 897.49,-131.201 956,-110 958.875,-108.958 961.825,-107.758 964.739,-106.484\" fill=\"none\" stroke=\"black\" stroke-width=\"0.5\"/>\n",
       "<polygon fill=\"none\" points=\"781.982,-152.252 772.834,-157.598 783.319,-159.124 781.982,-152.252\" stroke=\"black\" stroke-width=\"0.5\"/>\n",
       "</g>\n",
       "<!-- elephant -->\n",
       "<g class=\"node\" id=\"node25\"><title>elephant</title>\n",
       "<path d=\"M1216.5,-0.5C1216.5,-0.5 1251.5,-0.5 1251.5,-0.5 1257.5,-0.5 1263.5,-6.5 1263.5,-12.5 1263.5,-12.5 1263.5,-24.5 1263.5,-24.5 1263.5,-30.5 1257.5,-36.5 1251.5,-36.5 1251.5,-36.5 1216.5,-36.5 1216.5,-36.5 1210.5,-36.5 1204.5,-30.5 1204.5,-24.5 1204.5,-24.5 1204.5,-12.5 1204.5,-12.5 1204.5,-6.5 1210.5,-0.5 1216.5,-0.5\" fill=\"aliceblue\" stroke=\"black\" stroke-width=\"0.5\"/>\n",
       "<text font-family=\"Titillium Web\" font-size=\"11.00\" text-anchor=\"middle\" x=\"1234\" y=\"-15.7\">elephant</text>\n",
       "</g>\n",
       "<!-- herbivore&#45;&#45;elephant -->\n",
       "<g class=\"edge\" id=\"edge22\"><title>herbivore--elephant</title>\n",
       "<path d=\"M1234,-63.2534C1234,-54.2651 1234,-44.5295 1234,-36.5288\" fill=\"none\" stroke=\"black\" stroke-width=\"0.5\"/>\n",
       "<polygon fill=\"none\" points=\"1230.5,-63.3128 1234,-73.3129 1237.5,-63.3129 1230.5,-63.3128\" stroke=\"black\" stroke-width=\"0.5\"/>\n",
       "</g>\n",
       "<!-- lion -->\n",
       "<g class=\"node\" id=\"node19\"><title>lion</title>\n",
       "<path d=\"M1379,-0.5C1379,-0.5 1409,-0.5 1409,-0.5 1415,-0.5 1421,-6.5 1421,-12.5 1421,-12.5 1421,-24.5 1421,-24.5 1421,-30.5 1415,-36.5 1409,-36.5 1409,-36.5 1379,-36.5 1379,-36.5 1373,-36.5 1367,-30.5 1367,-24.5 1367,-24.5 1367,-12.5 1367,-12.5 1367,-6.5 1373,-0.5 1379,-0.5\" fill=\"aliceblue\" stroke=\"black\" stroke-width=\"0.5\"/>\n",
       "<text font-family=\"Titillium Web\" font-size=\"11.00\" text-anchor=\"middle\" x=\"1394\" y=\"-15.7\">lion</text>\n",
       "</g>\n",
       "<!-- carnivore&#45;&#45;lion -->\n",
       "<g class=\"edge\" id=\"edge16\"><title>carnivore--lion</title>\n",
       "<path d=\"M1394,-63.2534C1394,-54.2651 1394,-44.5295 1394,-36.5288\" fill=\"none\" stroke=\"black\" stroke-width=\"0.5\"/>\n",
       "<polygon fill=\"none\" points=\"1390.5,-63.3128 1394,-73.3129 1397.5,-63.3129 1390.5,-63.3128\" stroke=\"black\" stroke-width=\"0.5\"/>\n",
       "</g>\n",
       "<!-- parsnip -->\n",
       "<g class=\"node\" id=\"node23\"><title>parsnip</title>\n",
       "<path d=\"M905,-0.5C905,-0.5 935,-0.5 935,-0.5 941,-0.5 947,-6.5 947,-12.5 947,-12.5 947,-24.5 947,-24.5 947,-30.5 941,-36.5 935,-36.5 935,-36.5 905,-36.5 905,-36.5 899,-36.5 893,-30.5 893,-24.5 893,-24.5 893,-12.5 893,-12.5 893,-6.5 899,-0.5 905,-0.5\" fill=\"aliceblue\" stroke=\"black\" stroke-width=\"0.5\"/>\n",
       "<text font-family=\"Titillium Web\" font-size=\"11.00\" text-anchor=\"middle\" x=\"920\" y=\"-15.7\">parsnip</text>\n",
       "</g>\n",
       "<!-- root&#45;&#45;parsnip -->\n",
       "<g class=\"edge\" id=\"edge20\"><title>root--parsnip</title>\n",
       "<path d=\"M920,-63.2534C920,-54.2651 920,-44.5295 920,-36.5288\" fill=\"none\" stroke=\"black\" stroke-width=\"0.5\"/>\n",
       "<polygon fill=\"none\" points=\"916.5,-63.3128 920,-73.3129 923.5,-63.3129 916.5,-63.3128\" stroke=\"black\" stroke-width=\"0.5\"/>\n",
       "</g>\n",
       "</g>\n",
       "</svg>"
      ],
      "text/plain": [
       "<IPython.core.display.SVG object>"
      ]
     },
     "execution_count": 6,
     "metadata": {},
     "output_type": "execute_result"
    }
   ],
   "source": [
    "onto=buildOntology(parts_editors)\n",
    "onto.draw_graph(layout='hierarchical')"
   ]
  },
  {
   "cell_type": "markdown",
   "metadata": {},
   "source": [
    "It is fully compatible with OWL/RDF format (via OWLAPI). We can always export it as it is."
   ]
  },
  {
   "cell_type": "code",
   "execution_count": 7,
   "metadata": {},
   "outputs": [
    {
     "name": "stdout",
     "output_type": "stream",
     "text": [
      "<?xml version = '1.0' encoding = 'UTF-8'?>\r\n",
      "<rdf:RDF xmlns=\"http://cognitum.eu/african_wildlife#\" xml:base=\"http://cognitum.eu/african_wildlife\" xmlns:owl=\"http://www.w3.org/2002/07/owl#\" xmlns:rdfs=\"http://www.w3.org/2000/01/rdf-schema#\" xmlns:rdf=\"http://www.w3.org/1999/02/22-rdf-syntax-ns#\" xmlns:xsd=\"http://www.w3.org/2001/XMLSchema#\">\r\n",
      "  <owl:Ontology rdf:about=\"http://cognitum.eu/african_wildlife#\" />\r\n",
      "  <!-- \r\n",
      "    ///////////////////////////////////////////////////////////////////////////////////////\r\n",
      "    //\r\n",
      "    // Classes\r\n",
      "    //\r\n",
      "    ///////////////////////////////////////////////////////////////////////////////////////\r\n",
      "     -->\r\n",
      "  <!-- http://cognitum.eu/african_wildlife#animal -->\r\n",
      "  <owl:Class rdf:about=\"http://cognitum.eu/african_wildlife#animal\" />\r\n",
      "  <!-- http://cognitum.eu/african_wildlife#apple -->\r\n",
      "  <owl:Class rdf:about=\"http://cognitum.eu/african_wildlife#apple\">\r\n",
      "    <rdfs:subClassOf rdf:resource=\"http://cognitum.eu/african_wildlife#fruitingBody\" />\r\n",
      "  </owl:Class>\r\n",
      "  <!-- http://cognitum.eu/african_wildlife#berry -->\r\n",
      "  <owl:Class rdf:about=\"http://cognitum.eu/african_wildlife#berry\">\r\n",
      "    <rdfs:subClassOf rdf:resource=\"http://cognitum.eu/african_wildlife#fruitingBody\" />\r\n",
      "  </owl:Class>\r\n",
      "  <!-- http://cognitum.eu/african_wildlife#branch -->\r\n",
      "  <owl:Class rdf:about=\"http://cognitum.eu/african_wildlife#branch\">\r\n",
      "    <rdfs:subClassOf rdf:resource=\"http://cognitum.eu/african_wildlife#plantPart\" />\r\n",
      "  </owl:Class>\r\n",
      "  <!-- http://cognitum.eu/african_wildlife#carnivore -->\r\n",
      "  <owl:Class rdf:about=\"http://cognitum.eu/african_wildlife#carnivore\">\r\n",
      "    <rdfs:subClassOf rdf:resource=\"http://cognitum.eu/african_wildlife#animal\" />\r\n",
      "  </owl:Class>\r\n",
      "  <!-- http://cognitum.eu/african_wildlife#carnivorousPlant -->\r\n",
      "  <owl:Class rdf:about=\"http://cognitum.eu/african_wildlife#carnivorousPlant\">\r\n",
      "    <rdfs:subClassOf rdf:resource=\"http://cognitum.eu/african_wildlife#plant\" />\r\n",
      "  </owl:Class>\r\n",
      "  <!-- http://cognitum.eu/african_wildlife#elephant -->\r\n",
      "  <owl:Class rdf:about=\"http://cognitum.eu/african_wildlife#elephant\">\r\n",
      "    <rdfs:subClassOf rdf:resource=\"http://cognitum.eu/african_wildlife#herbivore\" />\r\n",
      "  </owl:Class>\r\n",
      "  <!-- http://cognitum.eu/african_wildlife#fruitingBody -->\r\n",
      "  <owl:Class rdf:about=\"http://cognitum.eu/african_wildlife#fruitingBody\">\r\n",
      "    <rdfs:subClassOf rdf:resource=\"http://cognitum.eu/african_wildlife#plantPart\" />\r\n",
      "  </owl:Class>\r\n",
      "  <!-- http://cognitum.eu/african_wildlife#giraffe -->\r\n",
      "  <owl:Class rdf:about=\"http://cognitum.eu/african_wildlife#giraffe\">\r\n",
      "    <rdfs:subClassOf rdf:resource=\"http://cognitum.eu/african_wildlife#animal\" />\r\n",
      "  </owl:Class>\r\n",
      "  <!-- http://cognitum.eu/african_wildlife#grass -->\r\n",
      "  <owl:Class rdf:about=\"http://cognitum.eu/african_wildlife#grass\">\r\n",
      "    <rdfs:subClassOf rdf:resource=\"http://cognitum.eu/african_wildlife#plant\" />\r\n",
      "  </owl:Class>\r\n",
      "  <!-- http://cognitum.eu/african_wildlife#herbivore -->\r\n",
      "  <owl:Class rdf:about=\"http://cognitum.eu/african_wildlife#herbivore\">\r\n",
      "    <rdfs:subClassOf rdf:resource=\"http://cognitum.eu/african_wildlife#animal\" />\r\n",
      "  </owl:Class>\r\n",
      "  <!-- http://cognitum.eu/african_wildlife#impala -->\r\n",
      "  <owl:Class rdf:about=\"http://cognitum.eu/african_wildlife#impala\">\r\n",
      "    <rdfs:subClassOf rdf:resource=\"http://cognitum.eu/african_wildlife#animal\" />\r\n",
      "  </owl:Class>\r\n",
      "  <!-- http://cognitum.eu/african_wildlife#leaf -->\r\n",
      "  <owl:Class rdf:about=\"http://cognitum.eu/african_wildlife#leaf\">\r\n",
      "    <rdfs:subClassOf rdf:resource=\"http://cognitum.eu/african_wildlife#plantPart\" />\r\n",
      "  </owl:Class>\r\n",
      "  <!-- http://cognitum.eu/african_wildlife#lion -->\r\n",
      "  <owl:Class rdf:about=\"http://cognitum.eu/african_wildlife#lion\">\r\n",
      "    <rdfs:subClassOf rdf:resource=\"http://cognitum.eu/african_wildlife#animal\" />\r\n",
      "    <rdfs:subClassOf rdf:resource=\"http://cognitum.eu/african_wildlife#carnivore\" />\r\n",
      "  </owl:Class>\r\n",
      "  <!-- http://cognitum.eu/african_wildlife#omnivore -->\r\n",
      "  <owl:Class rdf:about=\"http://cognitum.eu/african_wildlife#omnivore\">\r\n",
      "    <rdfs:subClassOf rdf:resource=\"http://cognitum.eu/african_wildlife#animal\" />\r\n",
      "  </owl:Class>\r\n",
      "  <!-- http://cognitum.eu/african_wildlife#palmTree -->\r\n",
      "  <owl:Class rdf:about=\"http://cognitum.eu/african_wildlife#palmTree\">\r\n",
      "    <rdfs:subClassOf rdf:resource=\"http://cognitum.eu/african_wildlife#plant\" />\r\n",
      "  </owl:Class>\r\n",
      "  <!-- http://cognitum.eu/african_wildlife#parsnip -->\r\n",
      "  <owl:Class rdf:about=\"http://cognitum.eu/african_wildlife#parsnip\">\r\n",
      "    <rdfs:subClassOf rdf:resource=\"http://cognitum.eu/african_wildlife#root\" />\r\n",
      "  </owl:Class>\r\n",
      "  <!-- http://cognitum.eu/african_wildlife#phloem -->\r\n",
      "  <owl:Class rdf:about=\"http://cognitum.eu/african_wildlife#phloem\">\r\n",
      "    <rdfs:subClassOf rdf:resource=\"http://cognitum.eu/african_wildlife#plantPart\" />\r\n",
      "  </owl:Class>\r\n",
      "  <!-- http://cognitum.eu/african_wildlife#plant -->\r\n",
      "  <owl:Class rdf:about=\"http://cognitum.eu/african_wildlife#plant\" />\r\n",
      "  <!-- http://cognitum.eu/african_wildlife#plantPart -->\r\n",
      "  <owl:Class rdf:about=\"http://cognitum.eu/african_wildlife#plantPart\" />\r\n",
      "  <!-- http://cognitum.eu/african_wildlife#rockDassie -->\r\n",
      "  <owl:Class rdf:about=\"http://cognitum.eu/african_wildlife#rockDassie\">\r\n",
      "    <rdfs:subClassOf rdf:resource=\"http://cognitum.eu/african_wildlife#animal\" />\r\n",
      "  </owl:Class>\r\n",
      "  <!-- http://cognitum.eu/african_wildlife#root -->\r\n",
      "  <owl:Class rdf:about=\"http://cognitum.eu/african_wildlife#root\">\r\n",
      "    <rdfs:subClassOf rdf:resource=\"http://cognitum.eu/african_wildlife#plantPart\" />\r\n",
      "  </owl:Class>\r\n",
      "  <!-- http://cognitum.eu/african_wildlife#stem -->\r\n",
      "  <owl:Class rdf:about=\"http://cognitum.eu/african_wildlife#stem\">\r\n",
      "    <rdfs:subClassOf rdf:resource=\"http://cognitum.eu/african_wildlife#plantPart\" />\r\n",
      "  </owl:Class>\r\n",
      "  <!-- http://cognitum.eu/african_wildlife#tastyPlant -->\r\n",
      "  <owl:Class rdf:about=\"http://cognitum.eu/african_wildlife#tastyPlant\">\r\n",
      "    <rdfs:subClassOf rdf:resource=\"http://cognitum.eu/african_wildlife#plant\" />\r\n",
      "  </owl:Class>\r\n",
      "  <!-- http://cognitum.eu/african_wildlife#tree -->\r\n",
      "  <owl:Class rdf:about=\"http://cognitum.eu/african_wildlife#tree\">\r\n",
      "    <rdfs:subClassOf rdf:resource=\"http://cognitum.eu/african_wildlife#plant\" />\r\n",
      "  </owl:Class>\r\n",
      "  <!-- http://cognitum.eu/african_wildlife#twig -->\r\n",
      "  <owl:Class rdf:about=\"http://cognitum.eu/african_wildlife#twig\">\r\n",
      "    <rdfs:subClassOf rdf:resource=\"http://cognitum.eu/african_wildlife#plantPart\" />\r\n",
      "  </owl:Class>\r\n",
      "  <!-- http://cognitum.eu/african_wildlife#warthog -->\r\n",
      "  <owl:Class rdf:about=\"http://cognitum.eu/african_wildlife#warthog\">\r\n",
      "    <rdfs:subClassOf rdf:resource=\"http://cognitum.eu/african_wildlife#animal\" />\r\n",
      "  </owl:Class>\r\n",
      "  <!-- http://cognitum.eu/african_wildlife#xylem -->\r\n",
      "  <owl:Class rdf:about=\"http://cognitum.eu/african_wildlife#xylem\">\r\n",
      "    <rdfs:subClassOf rdf:resource=\"http://cognitum.eu/african_wildlife#plantPart\" />\r\n",
      "  </owl:Class>\r\n",
      "</rdf:RDF>\r\n",
      "<!-- Generated by the OWL API (version 3.5.1.c) http://owlapi.sourceforge.net -->\n"
     ]
    }
   ],
   "source": [
    "print(onto.as_rdf())"
   ]
  },
  {
   "cell_type": "markdown",
   "metadata": {},
   "source": [
    "### Part-2: Disjointness\n",
    "In OWL/RL+SWRL profile we deal with Open World Assumption. It means that we need to explicitly specify all the objects that are different from each other. We cannot assume (like e.g. object oriented programming language do) that the different names mean the different things, therefore we need to specify explicitly if two things are different."
   ]
  },
  {
   "cell_type": "code",
   "execution_count": 8,
   "metadata": {
    "scrolled": true
   },
   "outputs": [
    {
     "data": {
      "application/vnd.jupyter.widget-view+json": {
       "model_id": "b6bcd2e20d534ac6a8bfb6edfb10aa2e",
       "version_major": 2,
       "version_minor": 0
      },
      "text/plain": [
       "VBox(children=(OntoeditWidget(layout=Layout(height='100%', width='90%'), value='Every-single-thing that is a p…"
      ]
     },
     "metadata": {},
     "output_type": "display_data"
    }
   ],
   "source": [
    "parts_editors['02']=CnlEditBox('part_02.encnl',onto)\n",
    "parts_editors['02']"
   ]
  },
  {
   "cell_type": "markdown",
   "metadata": {},
   "source": [
    "Lets test how it works on the example. The example will be defining several instances, that aim to break the consistency of the ontology in som not obvious way."
   ]
  },
  {
   "cell_type": "code",
   "execution_count": 9,
   "metadata": {},
   "outputs": [
    {
     "data": {
      "application/vnd.jupyter.widget-view+json": {
       "model_id": "6f34810be0f840ee8df049ba1f0114e7",
       "version_major": 2,
       "version_minor": 0
      },
      "text/plain": [
       "VBox(children=(OntoeditWidget(layout=Layout(height='100%', width='90%'), value='Leo-01 is a lion.\\nLeo-01 eats…"
      ]
     },
     "metadata": {},
     "output_type": "display_data"
    }
   ],
   "source": [
    "test_01_edit = CnlEditBox('test_01.encnl',onto)\n",
    "test_01_edit"
   ]
  },
  {
   "cell_type": "markdown",
   "metadata": {},
   "source": [
    "Lets load all the parts ontology ontology togheter with the testing part into the newly created obeject. "
   ]
  },
  {
   "cell_type": "code",
   "execution_count": 10,
   "metadata": {},
   "outputs": [],
   "source": [
    "onto=buildOntology(parts_editors,test_01_edit)"
   ]
  },
  {
   "cell_type": "markdown",
   "metadata": {},
   "source": [
    "We will need also some way to describe what is wrong `printReasoningInfo` and why `printWhy`."
   ]
  },
  {
   "cell_type": "code",
   "execution_count": 11,
   "metadata": {},
   "outputs": [],
   "source": [
    "import json\n",
    "\n",
    "def printReasoningInfo(onto):\n",
    "    info=onto.reasoningInfo()\n",
    "    if info == \"\":\n",
    "        print('all good!')\n",
    "    else:\n",
    "        print(json.dumps(json.loads(info), indent=2, sort_keys=True))\n",
    "\n",
    "def printWhy(onto,fact):\n",
    "    info=json.loads(onto.why(fact))\n",
    "    print(json.dumps(info, indent=2, sort_keys=True))"
   ]
  },
  {
   "cell_type": "markdown",
   "metadata": {},
   "source": [
    "So what is wrong here?"
   ]
  },
  {
   "cell_type": "code",
   "execution_count": 12,
   "metadata": {},
   "outputs": [
    {
     "name": "stdout",
     "output_type": "stream",
     "text": [
      "{\n",
      "  \"errors\": [\n",
      "    {\n",
      "      \"content\": \"Complement classes\",\n",
      "      \"title\": \"inconsistency\",\n",
      "      \"vals\": {\n",
      "        \"concept\": \"animal\",\n",
      "        \"instance\": \"Mary-01\"\n",
      "      }\n",
      "    }\n",
      "  ]\n",
      "}\n"
     ]
    }
   ],
   "source": [
    "printReasoningInfo(onto)"
   ]
  },
  {
   "cell_type": "markdown",
   "metadata": {},
   "source": [
    "Lets draw it on a diagram, this time using force directed layout."
   ]
  },
  {
   "cell_type": "code",
   "execution_count": 13,
   "metadata": {},
   "outputs": [
    {
     "data": {
      "image/svg+xml": [
       "<svg height=\"710pt\" viewBox=\"0.00 0.00 1047.00 710.00\" width=\"1047pt\" xmlns=\"http://www.w3.org/2000/svg\" xmlns:xlink=\"http://www.w3.org/1999/xlink\">\n",
       "<g class=\"graph\" id=\"graph0\" transform=\"scale(1 1) rotate(0) translate(4 706)\">\n",
       "<title>G</title>\n",
       "<polygon fill=\"white\" points=\"-4,4 -4,-706 1043,-706 1043,4 -4,4\" stroke=\"none\"/>\n",
       "<!-- tasty&#45;plant -->\n",
       "<g class=\"node\" id=\"node1\"><title>tasty-plant</title>\n",
       "<path d=\"M68.457,-557.486C68.457,-557.486 114.457,-557.486 114.457,-557.486 120.457,-557.486 126.457,-563.486 126.457,-569.486 126.457,-569.486 126.457,-581.486 126.457,-581.486 126.457,-587.486 120.457,-593.486 114.457,-593.486 114.457,-593.486 68.457,-593.486 68.457,-593.486 62.457,-593.486 56.457,-587.486 56.457,-581.486 56.457,-581.486 56.457,-569.486 56.457,-569.486 56.457,-563.486 62.457,-557.486 68.457,-557.486\" fill=\"aliceblue\" stroke=\"black\" stroke-width=\"0.5\"/>\n",
       "<text font-family=\"Titillium Web\" font-size=\"11.00\" text-anchor=\"middle\" x=\"91.457\" y=\"-572.686\">tasty-plant</text>\n",
       "</g>\n",
       "<!-- plant -->\n",
       "<g class=\"node\" id=\"node2\"><title>plant</title>\n",
       "<path d=\"M211.483,-566.022C211.483,-566.022 241.483,-566.022 241.483,-566.022 247.483,-566.022 253.483,-572.022 253.483,-578.022 253.483,-578.022 253.483,-590.022 253.483,-590.022 253.483,-596.022 247.483,-602.022 241.483,-602.022 241.483,-602.022 211.483,-602.022 211.483,-602.022 205.483,-602.022 199.483,-596.022 199.483,-590.022 199.483,-590.022 199.483,-578.022 199.483,-578.022 199.483,-572.022 205.483,-566.022 211.483,-566.022\" fill=\"aliceblue\" stroke=\"black\" stroke-width=\"0.5\"/>\n",
       "<text font-family=\"Titillium Web\" font-size=\"11.00\" text-anchor=\"middle\" x=\"226.483\" y=\"-581.222\">plant</text>\n",
       "</g>\n",
       "<!-- plant&#45;&#45;tasty&#45;plant -->\n",
       "<g class=\"edge\" id=\"edge1\"><title>plant--tasty-plant</title>\n",
       "<path d=\"M189.394,-581.677C169.808,-580.439 145.903,-578.928 126.614,-577.708\" fill=\"none\" stroke=\"black\" stroke-width=\"0.5\"/>\n",
       "<polygon fill=\"none\" points=\"189.282,-585.177 199.483,-582.315 189.724,-578.191 189.282,-585.177\" stroke=\"black\" stroke-width=\"0.5\"/>\n",
       "</g>\n",
       "<!-- carnivorous&#45;plant -->\n",
       "<g class=\"node\" id=\"node15\"><title>carnivorous-plant</title>\n",
       "<path d=\"M76.0968,-645.303C76.0968,-645.303 153.097,-645.303 153.097,-645.303 159.097,-645.303 165.097,-651.303 165.097,-657.303 165.097,-657.303 165.097,-669.303 165.097,-669.303 165.097,-675.303 159.097,-681.303 153.097,-681.303 153.097,-681.303 76.0968,-681.303 76.0968,-681.303 70.0968,-681.303 64.0968,-675.303 64.0968,-669.303 64.0968,-669.303 64.0968,-657.303 64.0968,-657.303 64.0968,-651.303 70.0968,-645.303 76.0968,-645.303\" fill=\"aliceblue\" stroke=\"black\" stroke-width=\"0.5\"/>\n",
       "<text font-family=\"Titillium Web\" font-size=\"11.00\" text-anchor=\"middle\" x=\"114.597\" y=\"-660.503\">carnivorous-plant</text>\n",
       "</g>\n",
       "<!-- plant&#45;&#45;carnivorous&#45;plant -->\n",
       "<g class=\"edge\" id=\"edge12\"><title>plant--carnivorous-plant</title>\n",
       "<path d=\"M192.348,-608.209C175.54,-620.12 155.617,-634.237 140.146,-645.199\" fill=\"none\" stroke=\"black\" stroke-width=\"0.5\"/>\n",
       "<polygon fill=\"none\" points=\"194.678,-610.848 200.814,-602.21 190.631,-605.136 194.678,-610.848\" stroke=\"black\" stroke-width=\"0.5\"/>\n",
       "</g>\n",
       "<!-- palm&#45;tree -->\n",
       "<g class=\"node\" id=\"node20\"><title>palm-tree</title>\n",
       "<path d=\"M396.723,-388.731C396.723,-388.731 437.723,-388.731 437.723,-388.731 443.723,-388.731 449.723,-394.731 449.723,-400.731 449.723,-400.731 449.723,-412.731 449.723,-412.731 449.723,-418.731 443.723,-424.731 437.723,-424.731 437.723,-424.731 396.723,-424.731 396.723,-424.731 390.723,-424.731 384.723,-418.731 384.723,-412.731 384.723,-412.731 384.723,-400.731 384.723,-400.731 384.723,-394.731 390.723,-388.731 396.723,-388.731\" fill=\"aliceblue\" stroke=\"black\" stroke-width=\"0.5\"/>\n",
       "<text font-family=\"Titillium Web\" font-size=\"11.00\" text-anchor=\"middle\" x=\"417.223\" y=\"-403.931\">palm-tree</text>\n",
       "</g>\n",
       "<!-- plant&#45;&#45;palm&#45;tree -->\n",
       "<g class=\"edge\" id=\"edge17\"><title>plant--palm-tree</title>\n",
       "<path d=\"M262.484,-563.887C294.194,-544.919 340.287,-514.222 372.956,-479.091 388.199,-462.698 400.947,-440.262 408.789,-424.739\" fill=\"none\" stroke=\"black\" stroke-width=\"0.5\"/>\n",
       "<polygon fill=\"none\" points=\"260.381,-561.063 253.541,-569.154 263.934,-567.095 260.381,-561.063\" stroke=\"black\" stroke-width=\"0.5\"/>\n",
       "</g>\n",
       "<!-- tree -->\n",
       "<g class=\"node\" id=\"node22\"><title>tree</title>\n",
       "<path d=\"M262.573,-664.536C262.573,-664.536 292.573,-664.536 292.573,-664.536 298.573,-664.536 304.573,-670.536 304.573,-676.536 304.573,-676.536 304.573,-688.536 304.573,-688.536 304.573,-694.536 298.573,-700.536 292.573,-700.536 292.573,-700.536 262.573,-700.536 262.573,-700.536 256.573,-700.536 250.573,-694.536 250.573,-688.536 250.573,-688.536 250.573,-676.536 250.573,-676.536 250.573,-670.536 256.573,-664.536 262.573,-664.536\" fill=\"aliceblue\" stroke=\"black\" stroke-width=\"0.5\"/>\n",
       "<text font-family=\"Titillium Web\" font-size=\"11.00\" text-anchor=\"middle\" x=\"277.573\" y=\"-679.736\">tree</text>\n",
       "</g>\n",
       "<!-- plant&#45;&#45;tree -->\n",
       "<g class=\"edge\" id=\"edge19\"><title>plant--tree</title>\n",
       "<path d=\"M240.702,-611.439C249.441,-628.291 260.398,-649.42 268.088,-664.248\" fill=\"none\" stroke=\"black\" stroke-width=\"0.5\"/>\n",
       "<polygon fill=\"none\" points=\"243.565,-609.357 235.854,-602.091 237.351,-612.579 243.565,-609.357\" stroke=\"black\" stroke-width=\"0.5\"/>\n",
       "</g>\n",
       "<!-- grass -->\n",
       "<g class=\"node\" id=\"node26\"><title>grass</title>\n",
       "<path d=\"M192.367,-665.618C192.367,-665.618 222.367,-665.618 222.367,-665.618 228.367,-665.618 234.367,-671.618 234.367,-677.618 234.367,-677.618 234.367,-689.618 234.367,-689.618 234.367,-695.618 228.367,-701.618 222.367,-701.618 222.367,-701.618 192.367,-701.618 192.367,-701.618 186.367,-701.618 180.367,-695.618 180.367,-689.618 180.367,-689.618 180.367,-677.618 180.367,-677.618 180.367,-671.618 186.367,-665.618 192.367,-665.618\" fill=\"aliceblue\" stroke=\"black\" stroke-width=\"0.5\"/>\n",
       "<text font-family=\"Titillium Web\" font-size=\"11.00\" text-anchor=\"middle\" x=\"207.367\" y=\"-680.818\">grass</text>\n",
       "</g>\n",
       "<!-- plant&#45;&#45;grass -->\n",
       "<g class=\"edge\" id=\"edge23\"><title>plant--grass</title>\n",
       "<path d=\"M221.058,-612.285C217.781,-629.36 213.701,-650.618 210.851,-665.466\" fill=\"none\" stroke=\"black\" stroke-width=\"0.5\"/>\n",
       "<polygon fill=\"none\" points=\"224.529,-612.77 222.977,-602.289 217.655,-611.45 224.529,-612.77\" stroke=\"black\" stroke-width=\"0.5\"/>\n",
       "</g>\n",
       "<!-- apple -->\n",
       "<g class=\"node\" id=\"node3\"><title>apple</title>\n",
       "<path d=\"M402.031,-601.235C402.031,-601.235 432.031,-601.235 432.031,-601.235 438.031,-601.235 444.031,-607.235 444.031,-613.235 444.031,-613.235 444.031,-625.235 444.031,-625.235 444.031,-631.235 438.031,-637.235 432.031,-637.235 432.031,-637.235 402.031,-637.235 402.031,-637.235 396.031,-637.235 390.031,-631.235 390.031,-625.235 390.031,-625.235 390.031,-613.235 390.031,-613.235 390.031,-607.235 396.031,-601.235 402.031,-601.235\" fill=\"aliceblue\" stroke=\"black\" stroke-width=\"0.5\"/>\n",
       "<text font-family=\"Titillium Web\" font-size=\"11.00\" text-anchor=\"middle\" x=\"417.031\" y=\"-616.435\">apple</text>\n",
       "</g>\n",
       "<!-- fruiting&#45;body -->\n",
       "<g class=\"node\" id=\"node4\"><title>fruiting-body</title>\n",
       "<path d=\"M302.756,-439.891C302.756,-439.891 357.756,-439.891 357.756,-439.891 363.756,-439.891 369.756,-445.891 369.756,-451.891 369.756,-451.891 369.756,-463.891 369.756,-463.891 369.756,-469.891 363.756,-475.891 357.756,-475.891 357.756,-475.891 302.756,-475.891 302.756,-475.891 296.756,-475.891 290.756,-469.891 290.756,-463.891 290.756,-463.891 290.756,-451.891 290.756,-451.891 290.756,-445.891 296.756,-439.891 302.756,-439.891\" fill=\"aliceblue\" stroke=\"black\" stroke-width=\"0.5\"/>\n",
       "<text font-family=\"Titillium Web\" font-size=\"11.00\" text-anchor=\"middle\" x=\"330.256\" y=\"-455.091\">fruiting-body</text>\n",
       "</g>\n",
       "<!-- fruiting&#45;body&#45;&#45;apple -->\n",
       "<g class=\"edge\" id=\"edge2\"><title>fruiting-body--apple</title>\n",
       "<path d=\"M344.921,-485.159C362.627,-518.08 391.92,-572.544 407.148,-600.86\" fill=\"none\" stroke=\"black\" stroke-width=\"0.5\"/>\n",
       "<polygon fill=\"none\" points=\"347.861,-483.235 340.041,-476.086 341.696,-486.55 347.861,-483.235\" stroke=\"black\" stroke-width=\"0.5\"/>\n",
       "</g>\n",
       "<!-- berry -->\n",
       "<g class=\"node\" id=\"node12\"><title>berry</title>\n",
       "<path d=\"M450.39,-501.688C450.39,-501.688 480.39,-501.688 480.39,-501.688 486.39,-501.688 492.39,-507.688 492.39,-513.688 492.39,-513.688 492.39,-525.688 492.39,-525.688 492.39,-531.688 486.39,-537.688 480.39,-537.688 480.39,-537.688 450.39,-537.688 450.39,-537.688 444.39,-537.688 438.39,-531.688 438.39,-525.688 438.39,-525.688 438.39,-513.688 438.39,-513.688 438.39,-507.688 444.39,-501.688 450.39,-501.688\" fill=\"aliceblue\" stroke=\"black\" stroke-width=\"0.5\"/>\n",
       "<text font-family=\"Titillium Web\" font-size=\"11.00\" text-anchor=\"middle\" x=\"465.39\" y=\"-516.888\">berry</text>\n",
       "</g>\n",
       "<!-- fruiting&#45;body&#45;&#45;berry -->\n",
       "<g class=\"edge\" id=\"edge9\"><title>fruiting-body--berry</title>\n",
       "<path d=\"M378.956,-480.162C398.868,-489.267 421.156,-499.46 438.111,-507.214\" fill=\"none\" stroke=\"black\" stroke-width=\"0.5\"/>\n",
       "<polygon fill=\"none\" points=\"380.255,-476.907 369.706,-475.931 377.344,-483.273 380.255,-476.907\" stroke=\"black\" stroke-width=\"0.5\"/>\n",
       "</g>\n",
       "<!-- rock&#45;dassie -->\n",
       "<g class=\"node\" id=\"node5\"><title>rock-dassie</title>\n",
       "<path d=\"M978.161,-445.452C978.161,-445.452 1027.16,-445.452 1027.16,-445.452 1033.16,-445.452 1039.16,-451.452 1039.16,-457.452 1039.16,-457.452 1039.16,-469.452 1039.16,-469.452 1039.16,-475.452 1033.16,-481.452 1027.16,-481.452 1027.16,-481.452 978.161,-481.452 978.161,-481.452 972.161,-481.452 966.161,-475.452 966.161,-469.452 966.161,-469.452 966.161,-457.452 966.161,-457.452 966.161,-451.452 972.161,-445.452 978.161,-445.452\" fill=\"aliceblue\" stroke=\"black\" stroke-width=\"0.5\"/>\n",
       "<text font-family=\"Titillium Web\" font-size=\"11.00\" text-anchor=\"middle\" x=\"1002.66\" y=\"-460.652\">rock-dassie</text>\n",
       "</g>\n",
       "<!-- animal -->\n",
       "<g class=\"node\" id=\"node6\"><title>animal</title>\n",
       "<path d=\"M814.258,-392.399C814.258,-392.399 844.258,-392.399 844.258,-392.399 850.258,-392.399 856.258,-398.399 856.258,-404.399 856.258,-404.399 856.258,-416.399 856.258,-416.399 856.258,-422.399 850.258,-428.399 844.258,-428.399 844.258,-428.399 814.258,-428.399 814.258,-428.399 808.258,-428.399 802.258,-422.399 802.258,-416.399 802.258,-416.399 802.258,-404.399 802.258,-404.399 802.258,-398.399 808.258,-392.399 814.258,-392.399\" fill=\"aliceblue\" stroke=\"black\" stroke-width=\"0.5\"/>\n",
       "<text font-family=\"Titillium Web\" font-size=\"11.00\" text-anchor=\"middle\" x=\"829.258\" y=\"-407.599\">animal</text>\n",
       "</g>\n",
       "<!-- animal&#45;&#45;rock&#45;dassie -->\n",
       "<g class=\"edge\" id=\"edge3\"><title>animal--rock-dassie</title>\n",
       "<path d=\"M866.254,-421.718C895.718,-430.733 936.748,-443.286 966.098,-452.266\" fill=\"none\" stroke=\"black\" stroke-width=\"0.5\"/>\n",
       "<polygon fill=\"none\" points=\"866.939,-418.268 856.352,-418.689 864.891,-424.962 866.939,-418.268\" stroke=\"black\" stroke-width=\"0.5\"/>\n",
       "</g>\n",
       "<!-- warthog -->\n",
       "<g class=\"node\" id=\"node11\"><title>warthog</title>\n",
       "<path d=\"M912.133,-535.786C912.133,-535.786 944.133,-535.786 944.133,-535.786 950.133,-535.786 956.133,-541.786 956.133,-547.786 956.133,-547.786 956.133,-559.786 956.133,-559.786 956.133,-565.786 950.133,-571.786 944.133,-571.786 944.133,-571.786 912.133,-571.786 912.133,-571.786 906.133,-571.786 900.133,-565.786 900.133,-559.786 900.133,-559.786 900.133,-547.786 900.133,-547.786 900.133,-541.786 906.133,-535.786 912.133,-535.786\" fill=\"aliceblue\" stroke=\"black\" stroke-width=\"0.5\"/>\n",
       "<text font-family=\"Titillium Web\" font-size=\"11.00\" text-anchor=\"middle\" x=\"928.133\" y=\"-550.986\">warthog</text>\n",
       "</g>\n",
       "<!-- animal&#45;&#45;warthog -->\n",
       "<g class=\"edge\" id=\"edge7\"><title>animal--warthog</title>\n",
       "<path d=\"M847.548,-436.924C867.392,-465.7 898.531,-510.858 915.712,-535.773\" fill=\"none\" stroke=\"black\" stroke-width=\"0.5\"/>\n",
       "<polygon fill=\"none\" points=\"850.339,-434.805 841.781,-428.559 844.576,-438.779 850.339,-434.805\" stroke=\"black\" stroke-width=\"0.5\"/>\n",
       "</g>\n",
       "<!-- herbivore -->\n",
       "<g class=\"node\" id=\"node13\"><title>herbivore</title>\n",
       "<path d=\"M720.777,-306.195C720.777,-306.195 758.777,-306.195 758.777,-306.195 764.777,-306.195 770.777,-312.195 770.777,-318.195 770.777,-318.195 770.777,-330.195 770.777,-330.195 770.777,-336.195 764.777,-342.195 758.777,-342.195 758.777,-342.195 720.777,-342.195 720.777,-342.195 714.777,-342.195 708.777,-336.195 708.777,-330.195 708.777,-330.195 708.777,-318.195 708.777,-318.195 708.777,-312.195 714.777,-306.195 720.777,-306.195\" fill=\"aliceblue\" stroke=\"black\" stroke-width=\"0.5\"/>\n",
       "<text font-family=\"Titillium Web\" font-size=\"11.00\" text-anchor=\"middle\" x=\"739.777\" y=\"-321.395\">herbivore</text>\n",
       "</g>\n",
       "<!-- animal&#45;&#45;herbivore -->\n",
       "<g class=\"edge\" id=\"edge10\"><title>animal--herbivore</title>\n",
       "<path d=\"M802.769,-384.881C788.621,-371.25 771.533,-354.788 758.726,-342.45\" fill=\"none\" stroke=\"black\" stroke-width=\"0.5\"/>\n",
       "<polygon fill=\"none\" points=\"800.651,-387.7 810.281,-392.118 805.508,-382.659 800.651,-387.7\" stroke=\"black\" stroke-width=\"0.5\"/>\n",
       "</g>\n",
       "<!-- omnivore -->\n",
       "<g class=\"node\" id=\"node14\"><title>omnivore</title>\n",
       "<path d=\"M800.752,-532.808C800.752,-532.808 838.752,-532.808 838.752,-532.808 844.752,-532.808 850.752,-538.808 850.752,-544.808 850.752,-544.808 850.752,-556.808 850.752,-556.808 850.752,-562.808 844.752,-568.808 838.752,-568.808 838.752,-568.808 800.752,-568.808 800.752,-568.808 794.752,-568.808 788.752,-562.808 788.752,-556.808 788.752,-556.808 788.752,-544.808 788.752,-544.808 788.752,-538.808 794.752,-532.808 800.752,-532.808\" fill=\"aliceblue\" stroke=\"black\" stroke-width=\"0.5\"/>\n",
       "<text font-family=\"Titillium Web\" font-size=\"11.00\" text-anchor=\"middle\" x=\"819.752\" y=\"-548.008\">omnivore</text>\n",
       "</g>\n",
       "<!-- animal&#45;&#45;omnivore -->\n",
       "<g class=\"edge\" id=\"edge11\"><title>animal--omnivore</title>\n",
       "<path d=\"M827.337,-438.777C825.447,-466.696 822.617,-508.503 821.001,-532.363\" fill=\"none\" stroke=\"black\" stroke-width=\"0.5\"/>\n",
       "<polygon fill=\"none\" points=\"830.851,-438.682 828.035,-428.468 823.867,-438.209 830.851,-438.682\" stroke=\"black\" stroke-width=\"0.5\"/>\n",
       "</g>\n",
       "<!-- carnivore -->\n",
       "<g class=\"node\" id=\"node17\"><title>carnivore</title>\n",
       "<path d=\"M833.179,-203.638C833.179,-203.638 870.179,-203.638 870.179,-203.638 876.179,-203.638 882.179,-209.638 882.179,-215.638 882.179,-215.638 882.179,-227.638 882.179,-227.638 882.179,-233.638 876.179,-239.638 870.179,-239.638 870.179,-239.638 833.179,-239.638 833.179,-239.638 827.179,-239.638 821.179,-233.638 821.179,-227.638 821.179,-227.638 821.179,-215.638 821.179,-215.638 821.179,-209.638 827.179,-203.638 833.179,-203.638\" fill=\"aliceblue\" stroke=\"black\" stroke-width=\"0.5\"/>\n",
       "<text font-family=\"Titillium Web\" font-size=\"11.00\" text-anchor=\"middle\" x=\"851.679\" y=\"-218.838\">carnivore</text>\n",
       "</g>\n",
       "<!-- animal&#45;&#45;carnivore -->\n",
       "<g class=\"edge\" id=\"edge14\"><title>animal--carnivore</title>\n",
       "<path d=\"M850.824,-383.904C859.367,-371.747 868.186,-356.677 872.562,-341.49 882.736,-306.176 869.433,-263.498 859.866,-239.781\" fill=\"none\" stroke=\"black\" stroke-width=\"0.5\"/>\n",
       "<polygon fill=\"none\" points=\"847.826,-382.072 844.718,-392.201 853.464,-386.221 847.826,-382.072\" stroke=\"black\" stroke-width=\"0.5\"/>\n",
       "</g>\n",
       "<!-- impala -->\n",
       "<g class=\"node\" id=\"node21\"><title>impala</title>\n",
       "<path d=\"M965.766,-334.745C965.766,-334.745 995.766,-334.745 995.766,-334.745 1001.77,-334.745 1007.77,-340.745 1007.77,-346.745 1007.77,-346.745 1007.77,-358.745 1007.77,-358.745 1007.77,-364.745 1001.77,-370.745 995.766,-370.745 995.766,-370.745 965.766,-370.745 965.766,-370.745 959.766,-370.745 953.766,-364.745 953.766,-358.745 953.766,-358.745 953.766,-346.745 953.766,-346.745 953.766,-340.745 959.766,-334.745 965.766,-334.745\" fill=\"aliceblue\" stroke=\"black\" stroke-width=\"0.5\"/>\n",
       "<text font-family=\"Titillium Web\" font-size=\"11.00\" text-anchor=\"middle\" x=\"980.766\" y=\"-349.945\">impala</text>\n",
       "</g>\n",
       "<!-- animal&#45;&#45;impala -->\n",
       "<g class=\"edge\" id=\"edge18\"><title>animal--impala</title>\n",
       "<path d=\"M865.859,-396.471C892.918,-386.174 929.167,-372.38 953.659,-363.06\" fill=\"none\" stroke=\"black\" stroke-width=\"0.5\"/>\n",
       "<polygon fill=\"none\" points=\"864.446,-393.264 856.345,-400.092 866.936,-399.806 864.446,-393.264\" stroke=\"black\" stroke-width=\"0.5\"/>\n",
       "</g>\n",
       "<!-- giraffe -->\n",
       "<g class=\"node\" id=\"node28\"><title>giraffe</title>\n",
       "<path d=\"M735.63,-439.193C735.63,-439.193 765.63,-439.193 765.63,-439.193 771.63,-439.193 777.63,-445.193 777.63,-451.193 777.63,-451.193 777.63,-463.193 777.63,-463.193 777.63,-469.193 771.63,-475.193 765.63,-475.193 765.63,-475.193 735.63,-475.193 735.63,-475.193 729.63,-475.193 723.63,-469.193 723.63,-463.193 723.63,-463.193 723.63,-451.193 723.63,-451.193 723.63,-445.193 729.63,-439.193 735.63,-439.193\" fill=\"aliceblue\" stroke=\"black\" stroke-width=\"0.5\"/>\n",
       "<text font-family=\"Titillium Web\" font-size=\"11.00\" text-anchor=\"middle\" x=\"750.63\" y=\"-454.393\">giraffe</text>\n",
       "</g>\n",
       "<!-- animal&#45;&#45;giraffe -->\n",
       "<g class=\"edge\" id=\"edge25\"><title>animal--giraffe</title>\n",
       "<path d=\"M793.457,-431.705C788.175,-434.849 782.807,-438.044 777.739,-441.06\" fill=\"none\" stroke=\"black\" stroke-width=\"0.5\"/>\n",
       "<polygon fill=\"none\" points=\"795.395,-434.625 802.199,-426.503 791.816,-428.61 795.395,-434.625\" stroke=\"black\" stroke-width=\"0.5\"/>\n",
       "</g>\n",
       "<!-- twig -->\n",
       "<g class=\"node\" id=\"node7\"><title>twig</title>\n",
       "<path d=\"M33.6043,-333.551C33.6043,-333.551 63.6043,-333.551 63.6043,-333.551 69.6043,-333.551 75.6043,-339.551 75.6043,-345.551 75.6043,-345.551 75.6043,-357.551 75.6043,-357.551 75.6043,-363.551 69.6043,-369.551 63.6043,-369.551 63.6043,-369.551 33.6043,-369.551 33.6043,-369.551 27.6043,-369.551 21.6043,-363.551 21.6043,-357.551 21.6043,-357.551 21.6043,-345.551 21.6043,-345.551 21.6043,-339.551 27.6043,-333.551 33.6043,-333.551\" fill=\"aliceblue\" stroke=\"black\" stroke-width=\"0.5\"/>\n",
       "<text font-family=\"Titillium Web\" font-size=\"11.00\" text-anchor=\"middle\" x=\"48.6043\" y=\"-348.751\">twig</text>\n",
       "</g>\n",
       "<!-- plant&#45;part -->\n",
       "<g class=\"node\" id=\"node8\"><title>plant-part</title>\n",
       "<path d=\"M167.897,-288.886C167.897,-288.886 208.897,-288.886 208.897,-288.886 214.897,-288.886 220.897,-294.886 220.897,-300.886 220.897,-300.886 220.897,-312.886 220.897,-312.886 220.897,-318.886 214.897,-324.886 208.897,-324.886 208.897,-324.886 167.897,-324.886 167.897,-324.886 161.897,-324.886 155.897,-318.886 155.897,-312.886 155.897,-312.886 155.897,-300.886 155.897,-300.886 155.897,-294.886 161.897,-288.886 167.897,-288.886\" fill=\"aliceblue\" stroke=\"black\" stroke-width=\"0.5\"/>\n",
       "<text font-family=\"Titillium Web\" font-size=\"11.00\" text-anchor=\"middle\" x=\"188.397\" y=\"-304.086\">plant-part</text>\n",
       "</g>\n",
       "<!-- plant&#45;part&#45;&#45;fruiting&#45;body -->\n",
       "<g class=\"edge\" id=\"edge8\"><title>plant-part--fruiting-body</title>\n",
       "<path d=\"M227.474,-330.983C230.564,-333.357 233.555,-335.832 236.32,-338.372 270.722,-369.973 302.458,-415.011 318.769,-439.798\" fill=\"none\" stroke=\"black\" stroke-width=\"0.5\"/>\n",
       "<polygon fill=\"none\" points=\"229.304,-327.986 219.151,-324.959 225.2,-333.657 229.304,-327.986\" stroke=\"black\" stroke-width=\"0.5\"/>\n",
       "</g>\n",
       "<!-- plant&#45;part&#45;&#45;twig -->\n",
       "<g class=\"edge\" id=\"edge4\"><title>plant-part--twig</title>\n",
       "<path d=\"M145.881,-320.47C123.174,-327.725 95.8884,-336.443 76.0014,-342.797\" fill=\"none\" stroke=\"black\" stroke-width=\"0.5\"/>\n",
       "<polygon fill=\"none\" points=\"147.161,-323.736 155.622,-317.358 145.031,-317.068 147.161,-323.736\" stroke=\"black\" stroke-width=\"0.5\"/>\n",
       "</g>\n",
       "<!-- stem -->\n",
       "<g class=\"node\" id=\"node9\"><title>stem</title>\n",
       "<path d=\"M55.4832,-140.826C55.4832,-140.826 85.4832,-140.826 85.4832,-140.826 91.4832,-140.826 97.4832,-146.826 97.4832,-152.826 97.4832,-152.826 97.4832,-164.826 97.4832,-164.826 97.4832,-170.826 91.4832,-176.826 85.4832,-176.826 85.4832,-176.826 55.4832,-176.826 55.4832,-176.826 49.4832,-176.826 43.4832,-170.826 43.4832,-164.826 43.4832,-164.826 43.4832,-152.826 43.4832,-152.826 43.4832,-146.826 49.4832,-140.826 55.4832,-140.826\" fill=\"aliceblue\" stroke=\"black\" stroke-width=\"0.5\"/>\n",
       "<text font-family=\"Titillium Web\" font-size=\"11.00\" text-anchor=\"middle\" x=\"70.4832\" y=\"-156.026\">stem</text>\n",
       "</g>\n",
       "<!-- plant&#45;part&#45;&#45;stem -->\n",
       "<g class=\"edge\" id=\"edge5\"><title>plant-part--stem</title>\n",
       "<path d=\"M167.667,-280.856C143.977,-251.11 105.812,-203.188 85.06,-177.13\" fill=\"none\" stroke=\"black\" stroke-width=\"0.5\"/>\n",
       "<polygon fill=\"none\" points=\"164.971,-283.089 173.938,-288.731 170.447,-278.728 164.971,-283.089\" stroke=\"black\" stroke-width=\"0.5\"/>\n",
       "</g>\n",
       "<!-- leaf -->\n",
       "<g class=\"node\" id=\"node10\"><title>leaf</title>\n",
       "<path d=\"M241.596,-147.39C241.596,-147.39 271.596,-147.39 271.596,-147.39 277.596,-147.39 283.596,-153.39 283.596,-159.39 283.596,-159.39 283.596,-171.39 283.596,-171.39 283.596,-177.39 277.596,-183.39 271.596,-183.39 271.596,-183.39 241.596,-183.39 241.596,-183.39 235.596,-183.39 229.596,-177.39 229.596,-171.39 229.596,-171.39 229.596,-159.39 229.596,-159.39 229.596,-153.39 235.596,-147.39 241.596,-147.39\" fill=\"aliceblue\" stroke=\"black\" stroke-width=\"0.5\"/>\n",
       "<text font-family=\"Titillium Web\" font-size=\"11.00\" text-anchor=\"middle\" x=\"256.596\" y=\"-162.59\">leaf</text>\n",
       "</g>\n",
       "<!-- plant&#45;part&#45;&#45;leaf -->\n",
       "<g class=\"edge\" id=\"edge6\"><title>plant-part--leaf</title>\n",
       "<path d=\"M201.671,-279.347C215.311,-251.046 236.157,-207.796 247.853,-183.528\" fill=\"none\" stroke=\"black\" stroke-width=\"0.5\"/>\n",
       "<polygon fill=\"none\" points=\"198.362,-278.15 197.173,-288.678 204.668,-281.189 198.362,-278.15\" stroke=\"black\" stroke-width=\"0.5\"/>\n",
       "</g>\n",
       "<!-- phloem -->\n",
       "<g class=\"node\" id=\"node16\"><title>phloem</title>\n",
       "<path d=\"M191.12,-341.572C191.12,-341.572 221.12,-341.572 221.12,-341.572 227.12,-341.572 233.12,-347.572 233.12,-353.572 233.12,-353.572 233.12,-365.572 233.12,-365.572 233.12,-371.572 227.12,-377.572 221.12,-377.572 221.12,-377.572 191.12,-377.572 191.12,-377.572 185.12,-377.572 179.12,-371.572 179.12,-365.572 179.12,-365.572 179.12,-353.572 179.12,-353.572 179.12,-347.572 185.12,-341.572 191.12,-341.572\" fill=\"aliceblue\" stroke=\"black\" stroke-width=\"0.5\"/>\n",
       "<text font-family=\"Titillium Web\" font-size=\"11.00\" text-anchor=\"middle\" x=\"206.12\" y=\"-356.772\">phloem</text>\n",
       "</g>\n",
       "<!-- plant&#45;part&#45;&#45;phloem -->\n",
       "<g class=\"edge\" id=\"edge13\"><title>plant-part--phloem</title>\n",
       "<path d=\"M197.74,-334.66C198.488,-336.884 199.232,-339.095 199.95,-341.228\" fill=\"none\" stroke=\"black\" stroke-width=\"0.5\"/>\n",
       "<polygon fill=\"none\" points=\"201.002,-333.38 194.496,-325.018 194.367,-335.612 201.002,-333.38\" stroke=\"black\" stroke-width=\"0.5\"/>\n",
       "</g>\n",
       "<!-- branch -->\n",
       "<g class=\"node\" id=\"node18\"><title>branch</title>\n",
       "<path d=\"M12.4864,-228.159C12.4864,-228.159 42.4864,-228.159 42.4864,-228.159 48.4864,-228.159 54.4864,-234.159 54.4864,-240.159 54.4864,-240.159 54.4864,-252.159 54.4864,-252.159 54.4864,-258.159 48.4864,-264.159 42.4864,-264.159 42.4864,-264.159 12.4864,-264.159 12.4864,-264.159 6.4864,-264.159 0.4864,-258.159 0.4864,-252.159 0.4864,-252.159 0.4864,-240.159 0.4864,-240.159 0.4864,-234.159 6.4864,-228.159 12.4864,-228.159\" fill=\"aliceblue\" stroke=\"black\" stroke-width=\"0.5\"/>\n",
       "<text font-family=\"Titillium Web\" font-size=\"11.00\" text-anchor=\"middle\" x=\"27.4864\" y=\"-243.359\">branch</text>\n",
       "</g>\n",
       "<!-- plant&#45;part&#45;&#45;branch -->\n",
       "<g class=\"edge\" id=\"edge15\"><title>plant-part--branch</title>\n",
       "<path d=\"M146.374,-291.027C117.406,-280.094 79.7501,-265.883 54.6575,-256.413\" fill=\"none\" stroke=\"black\" stroke-width=\"0.5\"/>\n",
       "<polygon fill=\"none\" points=\"145.243,-294.341 155.834,-294.597 147.714,-287.792 145.243,-294.341\" stroke=\"black\" stroke-width=\"0.5\"/>\n",
       "</g>\n",
       "<!-- root -->\n",
       "<g class=\"node\" id=\"node24\"><title>root</title>\n",
       "<path d=\"M161.702,-101.143C161.702,-101.143 191.702,-101.143 191.702,-101.143 197.702,-101.143 203.702,-107.143 203.702,-113.143 203.702,-113.143 203.702,-125.143 203.702,-125.143 203.702,-131.143 197.702,-137.143 191.702,-137.143 191.702,-137.143 161.702,-137.143 161.702,-137.143 155.702,-137.143 149.702,-131.143 149.702,-125.143 149.702,-125.143 149.702,-113.143 149.702,-113.143 149.702,-107.143 155.702,-101.143 161.702,-101.143\" fill=\"aliceblue\" stroke=\"black\" stroke-width=\"0.5\"/>\n",
       "<text font-family=\"Titillium Web\" font-size=\"11.00\" text-anchor=\"middle\" x=\"176.702\" y=\"-116.343\">root</text>\n",
       "</g>\n",
       "<!-- plant&#45;part&#45;&#45;root -->\n",
       "<g class=\"edge\" id=\"edge21\"><title>plant-part--root</title>\n",
       "<path d=\"M186.644,-278.738C184.212,-239.707 179.885,-170.249 177.837,-137.366\" fill=\"none\" stroke=\"black\" stroke-width=\"0.5\"/>\n",
       "<polygon fill=\"none\" points=\"183.161,-279.122 187.276,-288.885 190.147,-278.686 183.161,-279.122\" stroke=\"black\" stroke-width=\"0.5\"/>\n",
       "</g>\n",
       "<!-- xylem -->\n",
       "<g class=\"node\" id=\"node27\"><title>xylem</title>\n",
       "<path d=\"M271.206,-258.462C271.206,-258.462 301.206,-258.462 301.206,-258.462 307.206,-258.462 313.206,-264.462 313.206,-270.462 313.206,-270.462 313.206,-282.462 313.206,-282.462 313.206,-288.462 307.206,-294.462 301.206,-294.462 301.206,-294.462 271.206,-294.462 271.206,-294.462 265.206,-294.462 259.206,-288.462 259.206,-282.462 259.206,-282.462 259.206,-270.462 259.206,-270.462 259.206,-264.462 265.206,-258.462 271.206,-258.462\" fill=\"aliceblue\" stroke=\"black\" stroke-width=\"0.5\"/>\n",
       "<text font-family=\"Titillium Web\" font-size=\"11.00\" text-anchor=\"middle\" x=\"286.206\" y=\"-273.662\">xylem</text>\n",
       "</g>\n",
       "<!-- plant&#45;part&#45;&#45;xylem -->\n",
       "<g class=\"edge\" id=\"edge24\"><title>plant-part--xylem</title>\n",
       "<path d=\"M230.757,-293.71C240.332,-290.731 250.247,-287.647 259,-284.925\" fill=\"none\" stroke=\"black\" stroke-width=\"0.5\"/>\n",
       "<polygon fill=\"none\" points=\"229.475,-290.443 220.966,-296.755 231.554,-297.127 229.475,-290.443\" stroke=\"black\" stroke-width=\"0.5\"/>\n",
       "</g>\n",
       "<!-- elephant -->\n",
       "<g class=\"node\" id=\"node25\"><title>elephant</title>\n",
       "<path d=\"M822.362,-302.29C822.362,-302.29 857.362,-302.29 857.362,-302.29 863.362,-302.29 869.362,-308.29 869.362,-314.29 869.362,-314.29 869.362,-326.29 869.362,-326.29 869.362,-332.29 863.362,-338.29 857.362,-338.29 857.362,-338.29 822.362,-338.29 822.362,-338.29 816.362,-338.29 810.362,-332.29 810.362,-326.29 810.362,-326.29 810.362,-314.29 810.362,-314.29 810.362,-308.29 816.362,-302.29 822.362,-302.29\" fill=\"aliceblue\" stroke=\"black\" stroke-width=\"0.5\"/>\n",
       "<text font-family=\"Titillium Web\" font-size=\"11.00\" text-anchor=\"middle\" x=\"839.862\" y=\"-317.49\">elephant</text>\n",
       "</g>\n",
       "<!-- herbivore&#45;&#45;elephant -->\n",
       "<g class=\"edge\" id=\"edge22\"><title>herbivore--elephant</title>\n",
       "<path d=\"M781.184,-322.58C790.893,-322.201 801.05,-321.804 810.131,-321.45\" fill=\"none\" stroke=\"black\" stroke-width=\"0.5\"/>\n",
       "<polygon fill=\"none\" points=\"780.752,-319.094 770.896,-322.981 781.024,-326.088 780.752,-319.094\" stroke=\"black\" stroke-width=\"0.5\"/>\n",
       "</g>\n",
       "<!-- Mary&#45;01 -->\n",
       "<g class=\"node\" id=\"node30\"><title>Mary-01</title>\n",
       "<path d=\"M530.069,-307.698C530.069,-307.698 565.069,-307.698 565.069,-307.698 571.069,-307.698 577.069,-313.698 577.069,-319.698 577.069,-319.698 577.069,-331.698 577.069,-331.698 577.069,-337.698 571.069,-343.698 565.069,-343.698 565.069,-343.698 530.069,-343.698 530.069,-343.698 524.069,-343.698 518.069,-337.698 518.069,-331.698 518.069,-331.698 518.069,-319.698 518.069,-319.698 518.069,-313.698 524.069,-307.698 530.069,-307.698\" fill=\"whitesmoke\" stroke=\"black\" stroke-width=\"0.5\"/>\n",
       "<text font-family=\"Titillium Web\" font-size=\"11.00\" text-anchor=\"middle\" x=\"547.569\" y=\"-322.898\">Mary-01</text>\n",
       "</g>\n",
       "<!-- herbivore&#45;&#45;Mary&#45;01 -->\n",
       "<g class=\"edge\" id=\"edge29\"><title>herbivore--Mary-01</title>\n",
       "<path d=\"M698.166,-324.52C661.725,-324.805 609.67,-325.212 577.284,-325.465\" fill=\"none\" stroke=\"black\" stroke-dasharray=\"5,2\" stroke-width=\"0.5\"/>\n",
       "<polygon fill=\"none\" points=\"698.495,-328.018 708.468,-324.44 698.44,-321.018 698.495,-328.018\" stroke=\"black\" stroke-width=\"0.5\"/>\n",
       "</g>\n",
       "<!-- Sophie&#45;01 -->\n",
       "<g class=\"node\" id=\"node31\"><title>Sophie-01</title>\n",
       "<path d=\"M579.904,-366.63C579.904,-366.63 621.904,-366.63 621.904,-366.63 627.904,-366.63 633.904,-372.63 633.904,-378.63 633.904,-378.63 633.904,-390.63 633.904,-390.63 633.904,-396.63 627.904,-402.63 621.904,-402.63 621.904,-402.63 579.904,-402.63 579.904,-402.63 573.904,-402.63 567.904,-396.63 567.904,-390.63 567.904,-390.63 567.904,-378.63 567.904,-378.63 567.904,-372.63 573.904,-366.63 579.904,-366.63\" fill=\"whitesmoke\" stroke=\"black\" stroke-width=\"0.5\"/>\n",
       "<text font-family=\"Titillium Web\" font-size=\"11.00\" text-anchor=\"middle\" x=\"600.904\" y=\"-381.83\">Sophie-01</text>\n",
       "</g>\n",
       "<!-- herbivore&#45;&#45;Sophie&#45;01 -->\n",
       "<g class=\"edge\" id=\"edge31\"><title>herbivore--Sophie-01</title>\n",
       "<path d=\"M699.175,-341.864C678.584,-350.825 653.879,-361.576 634.391,-370.057\" fill=\"none\" stroke=\"black\" stroke-dasharray=\"5,2\" stroke-width=\"0.5\"/>\n",
       "<polygon fill=\"none\" points=\"700.838,-344.958 708.611,-337.758 698.045,-338.539 700.838,-344.958\" stroke=\"black\" stroke-width=\"0.5\"/>\n",
       "</g>\n",
       "<!-- lion -->\n",
       "<g class=\"node\" id=\"node19\"><title>lion</title>\n",
       "<path d=\"M752.897,-137.311C752.897,-137.311 782.897,-137.311 782.897,-137.311 788.897,-137.311 794.897,-143.311 794.897,-149.311 794.897,-149.311 794.897,-161.311 794.897,-161.311 794.897,-167.311 788.897,-173.311 782.897,-173.311 782.897,-173.311 752.897,-173.311 752.897,-173.311 746.897,-173.311 740.897,-167.311 740.897,-161.311 740.897,-161.311 740.897,-149.311 740.897,-149.311 740.897,-143.311 746.897,-137.311 752.897,-137.311\" fill=\"aliceblue\" stroke=\"black\" stroke-width=\"0.5\"/>\n",
       "<text font-family=\"Titillium Web\" font-size=\"11.00\" text-anchor=\"middle\" x=\"767.897\" y=\"-152.511\">lion</text>\n",
       "</g>\n",
       "<!-- carnivore&#45;&#45;lion -->\n",
       "<g class=\"edge\" id=\"edge16\"><title>carnivore--lion</title>\n",
       "<path d=\"M820.713,-197.124C810.794,-189.271 799.996,-180.723 790.763,-173.413\" fill=\"none\" stroke=\"black\" stroke-width=\"0.5\"/>\n",
       "<polygon fill=\"none\" points=\"818.772,-200.051 828.785,-203.514 823.117,-194.563 818.772,-200.051\" stroke=\"black\" stroke-width=\"0.5\"/>\n",
       "</g>\n",
       "<!-- Leo&#45;01 -->\n",
       "<g class=\"node\" id=\"node32\"><title>Leo-01</title>\n",
       "<path d=\"M627.885,-222.244C627.885,-222.244 657.885,-222.244 657.885,-222.244 663.885,-222.244 669.885,-228.244 669.885,-234.244 669.885,-234.244 669.885,-246.244 669.885,-246.244 669.885,-252.244 663.885,-258.244 657.885,-258.244 657.885,-258.244 627.885,-258.244 627.885,-258.244 621.885,-258.244 615.885,-252.244 615.885,-246.244 615.885,-246.244 615.885,-234.244 615.885,-234.244 615.885,-228.244 621.885,-222.244 627.885,-222.244\" fill=\"whitesmoke\" stroke=\"black\" stroke-width=\"0.5\"/>\n",
       "<text font-family=\"Titillium Web\" font-size=\"11.00\" text-anchor=\"middle\" x=\"642.885\" y=\"-237.444\">Leo-01</text>\n",
       "</g>\n",
       "<!-- lion&#45;&#45;Leo&#45;01 -->\n",
       "<g class=\"edge\" id=\"edge32\"><title>lion--Leo-01</title>\n",
       "<path d=\"M732.859,-179.116C712.882,-192.688 688.234,-209.434 669.789,-221.965\" fill=\"none\" stroke=\"black\" stroke-dasharray=\"5,2\" stroke-width=\"0.5\"/>\n",
       "<polygon fill=\"none\" points=\"735.08,-181.838 741.385,-173.323 731.147,-176.048 735.08,-181.838\" stroke=\"black\" stroke-width=\"0.5\"/>\n",
       "</g>\n",
       "<!-- palm&#45;tree&#45;&#45;Mary&#45;01 -->\n",
       "<g class=\"edge\" id=\"edge28\"><title>palm-tree--Mary-01</title>\n",
       "<path d=\"M455.122,-383.171C475.3,-370.626 499.735,-355.435 518.415,-343.823\" fill=\"none\" stroke=\"black\" stroke-dasharray=\"5,2\" stroke-width=\"0.5\"/>\n",
       "<polygon fill=\"none\" points=\"453.12,-380.294 446.475,-388.546 456.816,-386.238 453.12,-380.294\" stroke=\"black\" stroke-width=\"0.5\"/>\n",
       "</g>\n",
       "<!-- parsnip -->\n",
       "<g class=\"node\" id=\"node23\"><title>parsnip</title>\n",
       "<path d=\"M158.531,-0.218266C158.531,-0.218266 188.531,-0.218266 188.531,-0.218266 194.531,-0.218266 200.531,-6.21827 200.531,-12.2183 200.531,-12.2183 200.531,-24.2183 200.531,-24.2183 200.531,-30.2183 194.531,-36.2183 188.531,-36.2183 188.531,-36.2183 158.531,-36.2183 158.531,-36.2183 152.531,-36.2183 146.531,-30.2183 146.531,-24.2183 146.531,-24.2183 146.531,-12.2183 146.531,-12.2183 146.531,-6.21827 152.531,-0.218266 158.531,-0.218266\" fill=\"aliceblue\" stroke=\"black\" stroke-width=\"0.5\"/>\n",
       "<text font-family=\"Titillium Web\" font-size=\"11.00\" text-anchor=\"middle\" x=\"173.531\" y=\"-15.4183\">parsnip</text>\n",
       "</g>\n",
       "<!-- root&#45;&#45;parsnip -->\n",
       "<g class=\"edge\" id=\"edge20\"><title>root--parsnip</title>\n",
       "<path d=\"M175.815,-90.9154C175.267,-73.4804 174.58,-51.6191 174.103,-36.4457\" fill=\"none\" stroke=\"black\" stroke-width=\"0.5\"/>\n",
       "<polygon fill=\"none\" points=\"172.322,-91.2147 176.135,-101.1 179.319,-90.9948 172.322,-91.2147\" stroke=\"black\" stroke-width=\"0.5\"/>\n",
       "</g>\n",
       "<!-- giraffe&#45;&#45;Sophie&#45;01 -->\n",
       "<g class=\"edge\" id=\"edge30\"><title>giraffe--Sophie-01</title>\n",
       "<path d=\"M714.217,-439.546C689.778,-427.702 657.836,-412.221 634.097,-400.717\" fill=\"none\" stroke=\"black\" stroke-dasharray=\"5,2\" stroke-width=\"0.5\"/>\n",
       "<polygon fill=\"none\" points=\"712.991,-442.841 723.516,-444.052 716.044,-436.542 712.991,-442.841\" stroke=\"black\" stroke-width=\"0.5\"/>\n",
       "</g>\n",
       "<!-- herb -->\n",
       "<g class=\"node\" id=\"node29\"><title>herb</title>\n",
       "<path d=\"M138.253,-407.587C138.253,-407.587 168.253,-407.587 168.253,-407.587 174.253,-407.587 180.253,-413.587 180.253,-419.587 180.253,-419.587 180.253,-431.587 180.253,-431.587 180.253,-437.587 174.253,-443.587 168.253,-443.587 168.253,-443.587 138.253,-443.587 138.253,-443.587 132.253,-443.587 126.253,-437.587 126.253,-431.587 126.253,-431.587 126.253,-419.587 126.253,-419.587 126.253,-413.587 132.253,-407.587 138.253,-407.587\" fill=\"aliceblue\" stroke=\"black\" stroke-width=\"0.5\"/>\n",
       "<text font-family=\"Titillium Web\" font-size=\"11.00\" text-anchor=\"middle\" x=\"153.253\" y=\"-422.787\">herb</text>\n",
       "</g>\n",
       "<!-- herb&#45;&#45;plant -->\n",
       "<g class=\"edge\" id=\"edge26\"><title>herb--plant</title>\n",
       "<path d=\"M165.953,-453.064C180.853,-485.3 205.145,-537.856 217.955,-565.571\" fill=\"none\" stroke=\"black\" stroke-width=\"0.5\"/>\n",
       "<polygon fill=\"none\" points=\"169.026,-451.371 161.653,-443.762 162.672,-454.307 169.026,-451.371\" stroke=\"black\" stroke-width=\"0.5\"/>\n",
       "</g>\n",
       "<!-- herb&#45;&#45;plant&#45;part -->\n",
       "<g class=\"edge\" id=\"edge27\"><title>herb--plant-part</title>\n",
       "<path d=\"M159.651,-397.385C163.783,-380.181 169.563,-357.83 175.92,-338.372 177.345,-334.013 179.059,-329.387 180.755,-325.061\" fill=\"none\" stroke=\"black\" stroke-width=\"0.5\"/>\n",
       "<polygon fill=\"none\" points=\"156.187,-396.823 157.3,-407.36 163.001,-398.429 156.187,-396.823\" stroke=\"black\" stroke-width=\"0.5\"/>\n",
       "</g>\n",
       "<!-- Leo&#45;01&#45;&#45;Mary&#45;01 -->\n",
       "<g class=\"edge\" id=\"edge33\"><title>Leo-01--Mary-01</title>\n",
       "<path d=\"M622.671,-258.367C608.896,-270.716 590.482,-287.225 575.335,-300.804\" fill=\"none\" stroke=\"black\" stroke-width=\"0.5\"/>\n",
       "<polygon fill=\"black\" points=\"567.754,-307.601 572.196,-297.575 571.477,-304.264 575.2,-300.926 575.2,-300.926 575.2,-300.926 571.477,-304.264 578.204,-304.276 567.754,-307.601 567.754,-307.601\" stroke=\"black\" stroke-width=\"0.5\"/>\n",
       "<text font-family=\"Titillium Web\" font-size=\"11.00\" text-anchor=\"middle\" x=\"584.27\" y=\"-286.132\">eats</text>\n",
       "</g>\n",
       "<!-- Leo&#45;01&#45;&#45;Sophie&#45;01 -->\n",
       "<g class=\"edge\" id=\"edge34\"><title>Leo-01--Sophie-01</title>\n",
       "<path d=\"M637.568,-258.531C630.376,-283.266 617.481,-327.618 609.059,-356.582\" fill=\"none\" stroke=\"black\" stroke-width=\"0.5\"/>\n",
       "<polygon fill=\"black\" points=\"606.178,-366.492 604.649,-355.633 607.574,-361.691 608.97,-356.89 608.97,-356.89 608.97,-356.89 607.574,-361.691 613.291,-358.146 606.178,-366.492 606.178,-366.492\" stroke=\"black\" stroke-width=\"0.5\"/>\n",
       "<text font-family=\"Titillium Web\" font-size=\"11.00\" text-anchor=\"middle\" x=\"610.951\" y=\"-315.443\">eats</text>\n",
       "</g>\n",
       "</g>\n",
       "</svg>"
      ],
      "text/plain": [
       "<IPython.core.display.SVG object>"
      ]
     },
     "execution_count": 13,
     "metadata": {},
     "output_type": "execute_result"
    }
   ],
   "source": [
    "onto.draw_graph(layout='force directed')"
   ]
  },
  {
   "cell_type": "code",
   "execution_count": 14,
   "metadata": {},
   "outputs": [
    {
     "name": "stdout",
     "output_type": "stream",
     "text": [
      "{\n",
      "  \"by\": [\n",
      "    {\n",
      "      \"expr\": \"Every carnivore eats nothing-but animals.\"\n",
      "    },\n",
      "    {\n",
      "      \"expr\": \"Every carnivore eats nothing-but animals.\"\n",
      "    },\n",
      "    {\n",
      "      \"expr\": \"Leo-01 eats Mary-01.\"\n",
      "    },\n",
      "    {\n",
      "      \"by\": [\n",
      "        {\n",
      "          \"by\": [\n",
      "            {\n",
      "              \"expr\": \"Every lion is a carnivore.\"\n",
      "            },\n",
      "            {\n",
      "              \"expr\": \"Every carnivore eats nothing-but animals.\"\n",
      "            }\n",
      "          ]\n",
      "        },\n",
      "        {\n",
      "          \"expr\": \"Leo-01 is a lion.\"\n",
      "        }\n",
      "      ]\n",
      "    }\n",
      "  ],\n",
      "  \"concluded\": \"Mary-01 is an animal.\"\n",
      "}\n"
     ]
    }
   ],
   "source": [
    "printWhy(onto,\"Mary-01 is a animal?\")"
   ]
  },
  {
   "cell_type": "markdown",
   "metadata": {},
   "source": [
    "### Part-3: Modal expressions and part-whole relationships."
   ]
  },
  {
   "cell_type": "code",
   "execution_count": 15,
   "metadata": {
    "scrolled": false
   },
   "outputs": [
    {
     "data": {
      "application/vnd.jupyter.widget-view+json": {
       "model_id": "ee6fe4f415ef4ead850ed53189b50e33",
       "version_major": 2,
       "version_minor": 0
      },
      "text/plain": [
       "VBox(children=(OntoeditWidget(layout=Layout(height='100%', width='90%'), value=\"Every carnivorous-plant must e…"
      ]
     },
     "metadata": {},
     "output_type": "display_data"
    }
   ],
   "source": [
    "parts_editors['03']=CnlEditBox('part_03.encnl',onto)\n",
    "parts_editors['03']"
   ]
  },
  {
   "cell_type": "code",
   "execution_count": 16,
   "metadata": {},
   "outputs": [
    {
     "data": {
      "application/vnd.jupyter.widget-view+json": {
       "model_id": "ed3460d7fa8547b3965407fced433058",
       "version_major": 2,
       "version_minor": 0
      },
      "text/plain": [
       "VBox(children=(OntoeditWidget(layout=Layout(height='100%', width='90%'), value='Leo-01 is a lion.\\nLeo-01 eats…"
      ]
     },
     "metadata": {},
     "output_type": "display_data"
    }
   ],
   "source": [
    "test_02_edit = CnlEditBox('test_02.encnl',onto)\n",
    "test_02_edit"
   ]
  },
  {
   "cell_type": "code",
   "execution_count": 17,
   "metadata": {},
   "outputs": [],
   "source": [
    "onto=buildOntology(parts_editors,test_02_edit)"
   ]
  },
  {
   "cell_type": "code",
   "execution_count": 18,
   "metadata": {},
   "outputs": [
    {
     "name": "stdout",
     "output_type": "stream",
     "text": [
      "{\n",
      "  \"modals\": {\n",
      "    \"Every branch must be-part-of a tree.\\r\\n\": [\n",
      "      {\n",
      "        \"?x0\": {\n",
      "          \"instance\": \"Branch-03\"\n",
      "        }\n",
      "      }\n",
      "    ],\n",
      "    \"Every plant-part must be-part-of a plant.\\r\\n\": [\n",
      "      {\n",
      "        \"?x0\": {\n",
      "          \"instance\": \"Branch-03\"\n",
      "        }\n",
      "      }\n",
      "    ]\n",
      "  }\n",
      "}\n"
     ]
    }
   ],
   "source": [
    "printReasoningInfo(onto)"
   ]
  },
  {
   "cell_type": "code",
   "execution_count": 19,
   "metadata": {},
   "outputs": [
    {
     "data": {
      "image/svg+xml": [
       "<svg height=\"1085pt\" viewBox=\"0.00 0.00 923.00 1085.00\" width=\"923pt\" xmlns=\"http://www.w3.org/2000/svg\" xmlns:xlink=\"http://www.w3.org/1999/xlink\">\n",
       "<g class=\"graph\" id=\"graph0\" transform=\"scale(1 1) rotate(0) translate(4 1081)\">\n",
       "<title>G</title>\n",
       "<polygon fill=\"white\" points=\"-4,4 -4,-1081 919,-1081 919,4 -4,4\" stroke=\"none\"/>\n",
       "<!-- tasty&#45;plant -->\n",
       "<g class=\"node\" id=\"node1\"><title>tasty-plant</title>\n",
       "<path d=\"M28.2093,-615.625C28.2093,-615.625 74.2093,-615.625 74.2093,-615.625 80.2093,-615.625 86.2093,-621.625 86.2093,-627.625 86.2093,-627.625 86.2093,-639.625 86.2093,-639.625 86.2093,-645.625 80.2093,-651.625 74.2093,-651.625 74.2093,-651.625 28.2093,-651.625 28.2093,-651.625 22.2093,-651.625 16.2093,-645.625 16.2093,-639.625 16.2093,-639.625 16.2093,-627.625 16.2093,-627.625 16.2093,-621.625 22.2093,-615.625 28.2093,-615.625\" fill=\"aliceblue\" stroke=\"black\" stroke-width=\"0.5\"/>\n",
       "<text font-family=\"Titillium Web\" font-size=\"11.00\" text-anchor=\"middle\" x=\"51.2093\" y=\"-630.825\">tasty-plant</text>\n",
       "</g>\n",
       "<!-- plant -->\n",
       "<g class=\"node\" id=\"node2\"><title>plant</title>\n",
       "<path d=\"M142.979,-596.062C142.979,-596.062 172.979,-596.062 172.979,-596.062 178.979,-596.062 184.979,-602.062 184.979,-608.062 184.979,-608.062 184.979,-620.062 184.979,-620.062 184.979,-626.062 178.979,-632.062 172.979,-632.062 172.979,-632.062 142.979,-632.062 142.979,-632.062 136.979,-632.062 130.979,-626.062 130.979,-620.062 130.979,-620.062 130.979,-608.062 130.979,-608.062 130.979,-602.062 136.979,-596.062 142.979,-596.062\" fill=\"aliceblue\" stroke=\"black\" stroke-width=\"0.5\"/>\n",
       "<text font-family=\"Titillium Web\" font-size=\"11.00\" text-anchor=\"middle\" x=\"157.979\" y=\"-611.262\">plant</text>\n",
       "</g>\n",
       "<!-- plant&#45;&#45;tasty&#45;plant -->\n",
       "<g class=\"edge\" id=\"edge1\"><title>plant--tasty-plant</title>\n",
       "<path d=\"M120.867,-620.862C109.704,-622.907 97.4914,-625.145 86.453,-627.168\" fill=\"none\" stroke=\"black\" stroke-width=\"0.5\"/>\n",
       "<polygon fill=\"none\" points=\"121.555,-624.294 130.76,-619.049 120.293,-617.409 121.555,-624.294\" stroke=\"black\" stroke-width=\"0.5\"/>\n",
       "</g>\n",
       "<!-- carnivorous&#45;plant -->\n",
       "<g class=\"node\" id=\"node15\"><title>carnivorous-plant</title>\n",
       "<path d=\"M11.8319,-519.549C11.8319,-519.549 88.8319,-519.549 88.8319,-519.549 94.8319,-519.549 100.832,-525.549 100.832,-531.549 100.832,-531.549 100.832,-543.549 100.832,-543.549 100.832,-549.549 94.8319,-555.549 88.8319,-555.549 88.8319,-555.549 11.8319,-555.549 11.8319,-555.549 5.83193,-555.549 -0.168065,-549.549 -0.168065,-543.549 -0.168065,-543.549 -0.168065,-531.549 -0.168065,-531.549 -0.168065,-525.549 5.83193,-519.549 11.8319,-519.549\" fill=\"aliceblue\" stroke=\"black\" stroke-width=\"0.5\"/>\n",
       "<text font-family=\"Titillium Web\" font-size=\"11.00\" text-anchor=\"middle\" x=\"50.3319\" y=\"-534.749\">carnivorous-plant</text>\n",
       "</g>\n",
       "<!-- plant&#45;&#45;carnivorous&#45;plant -->\n",
       "<g class=\"edge\" id=\"edge12\"><title>plant--carnivorous-plant</title>\n",
       "<path d=\"M124.073,-589.962C108.401,-578.823 90.106,-565.819 75.6597,-555.551\" fill=\"none\" stroke=\"black\" stroke-width=\"0.5\"/>\n",
       "<polygon fill=\"none\" points=\"122.29,-592.989 132.468,-595.929 126.345,-587.283 122.29,-592.989\" stroke=\"black\" stroke-width=\"0.5\"/>\n",
       "</g>\n",
       "<!-- palm&#45;tree -->\n",
       "<g class=\"node\" id=\"node20\"><title>palm-tree</title>\n",
       "<path d=\"M125.014,-729.566C125.014,-729.566 166.014,-729.566 166.014,-729.566 172.014,-729.566 178.014,-735.566 178.014,-741.566 178.014,-741.566 178.014,-753.566 178.014,-753.566 178.014,-759.566 172.014,-765.566 166.014,-765.566 166.014,-765.566 125.014,-765.566 125.014,-765.566 119.014,-765.566 113.014,-759.566 113.014,-753.566 113.014,-753.566 113.014,-741.566 113.014,-741.566 113.014,-735.566 119.014,-729.566 125.014,-729.566\" fill=\"aliceblue\" stroke=\"black\" stroke-width=\"0.5\"/>\n",
       "<text font-family=\"Titillium Web\" font-size=\"11.00\" text-anchor=\"middle\" x=\"145.514\" y=\"-744.766\">palm-tree</text>\n",
       "</g>\n",
       "<!-- plant&#45;&#45;palm&#45;tree -->\n",
       "<g class=\"edge\" id=\"edge17\"><title>plant--palm-tree</title>\n",
       "<path d=\"M155.355,-642.166C152.9,-668.46 149.305,-706.958 147.208,-729.42\" fill=\"none\" stroke=\"black\" stroke-width=\"0.5\"/>\n",
       "<polygon fill=\"none\" points=\"158.853,-642.349 156.298,-632.067 151.884,-641.698 158.853,-642.349\" stroke=\"black\" stroke-width=\"0.5\"/>\n",
       "</g>\n",
       "<!-- tree -->\n",
       "<g class=\"node\" id=\"node22\"><title>tree</title>\n",
       "<path d=\"M309.574,-637.311C309.574,-637.311 339.574,-637.311 339.574,-637.311 345.574,-637.311 351.574,-643.311 351.574,-649.311 351.574,-649.311 351.574,-661.311 351.574,-661.311 351.574,-667.311 345.574,-673.311 339.574,-673.311 339.574,-673.311 309.574,-673.311 309.574,-673.311 303.574,-673.311 297.574,-667.311 297.574,-661.311 297.574,-661.311 297.574,-649.311 297.574,-649.311 297.574,-643.311 303.574,-637.311 309.574,-637.311\" fill=\"aliceblue\" stroke=\"black\" stroke-width=\"0.5\"/>\n",
       "<text font-family=\"Titillium Web\" font-size=\"11.00\" text-anchor=\"middle\" x=\"324.574\" y=\"-652.511\">tree</text>\n",
       "</g>\n",
       "<!-- plant&#45;&#45;tree -->\n",
       "<g class=\"edge\" id=\"edge19\"><title>plant--tree</title>\n",
       "<path d=\"M195.115,-623.257C226.129,-630.936 269.62,-641.704 297.448,-648.595\" fill=\"none\" stroke=\"black\" stroke-width=\"0.5\"/>\n",
       "<polygon fill=\"none\" points=\"195.664,-619.787 185.116,-620.781 193.982,-626.582 195.664,-619.787\" stroke=\"black\" stroke-width=\"0.5\"/>\n",
       "</g>\n",
       "<!-- grass -->\n",
       "<g class=\"node\" id=\"node26\"><title>grass</title>\n",
       "<path d=\"M67.3226,-676.343C67.3226,-676.343 97.3226,-676.343 97.3226,-676.343 103.323,-676.343 109.323,-682.343 109.323,-688.343 109.323,-688.343 109.323,-700.343 109.323,-700.343 109.323,-706.343 103.323,-712.343 97.3226,-712.343 97.3226,-712.343 67.3226,-712.343 67.3226,-712.343 61.3226,-712.343 55.3226,-706.343 55.3226,-700.343 55.3226,-700.343 55.3226,-688.343 55.3226,-688.343 55.3226,-682.343 61.3226,-676.343 67.3226,-676.343\" fill=\"aliceblue\" stroke=\"black\" stroke-width=\"0.5\"/>\n",
       "<text font-family=\"Titillium Web\" font-size=\"11.00\" text-anchor=\"middle\" x=\"82.3226\" y=\"-691.543\">grass</text>\n",
       "</g>\n",
       "<!-- plant&#45;&#45;grass -->\n",
       "<g class=\"edge\" id=\"edge23\"><title>plant--grass</title>\n",
       "<path d=\"M133.774,-639.747C122.587,-651.617 109.566,-665.434 99.4224,-676.198\" fill=\"none\" stroke=\"black\" stroke-width=\"0.5\"/>\n",
       "<polygon fill=\"none\" points=\"136.5,-641.957 140.812,-632.279 131.406,-637.156 136.5,-641.957\" stroke=\"black\" stroke-width=\"0.5\"/>\n",
       "</g>\n",
       "<!-- apple -->\n",
       "<g class=\"node\" id=\"node3\"><title>apple</title>\n",
       "<path d=\"M213.388,-27.1789C213.388,-27.1789 243.388,-27.1789 243.388,-27.1789 249.388,-27.1789 255.388,-33.1789 255.388,-39.1789 255.388,-39.1789 255.388,-51.1789 255.388,-51.1789 255.388,-57.1789 249.388,-63.1789 243.388,-63.1789 243.388,-63.1789 213.388,-63.1789 213.388,-63.1789 207.388,-63.1789 201.388,-57.1789 201.388,-51.1789 201.388,-51.1789 201.388,-39.1789 201.388,-39.1789 201.388,-33.1789 207.388,-27.1789 213.388,-27.1789\" fill=\"aliceblue\" stroke=\"black\" stroke-width=\"0.5\"/>\n",
       "<text font-family=\"Titillium Web\" font-size=\"11.00\" text-anchor=\"middle\" x=\"228.388\" y=\"-42.3789\">apple</text>\n",
       "</g>\n",
       "<!-- fruiting&#45;body -->\n",
       "<g class=\"node\" id=\"node4\"><title>fruiting-body</title>\n",
       "<path d=\"M245.14,-132.735C245.14,-132.735 300.14,-132.735 300.14,-132.735 306.14,-132.735 312.14,-138.735 312.14,-144.735 312.14,-144.735 312.14,-156.735 312.14,-156.735 312.14,-162.735 306.14,-168.735 300.14,-168.735 300.14,-168.735 245.14,-168.735 245.14,-168.735 239.14,-168.735 233.14,-162.735 233.14,-156.735 233.14,-156.735 233.14,-144.735 233.14,-144.735 233.14,-138.735 239.14,-132.735 245.14,-132.735\" fill=\"aliceblue\" stroke=\"black\" stroke-width=\"0.5\"/>\n",
       "<text font-family=\"Titillium Web\" font-size=\"11.00\" text-anchor=\"middle\" x=\"272.64\" y=\"-147.935\">fruiting-body</text>\n",
       "</g>\n",
       "<!-- fruiting&#45;body&#45;&#45;apple -->\n",
       "<g class=\"edge\" id=\"edge2\"><title>fruiting-body--apple</title>\n",
       "<path d=\"M261.042,-123.069C253.138,-104.214 242.896,-79.7848 236.008,-63.3546\" fill=\"none\" stroke=\"black\" stroke-width=\"0.5\"/>\n",
       "<polygon fill=\"none\" points=\"257.838,-124.479 264.932,-132.348 264.294,-121.773 257.838,-124.479\" stroke=\"black\" stroke-width=\"0.5\"/>\n",
       "</g>\n",
       "<!-- berry -->\n",
       "<g class=\"node\" id=\"node12\"><title>berry</title>\n",
       "<path d=\"M131.606,-120.785C131.606,-120.785 161.606,-120.785 161.606,-120.785 167.606,-120.785 173.606,-126.785 173.606,-132.785 173.606,-132.785 173.606,-144.785 173.606,-144.785 173.606,-150.785 167.606,-156.785 161.606,-156.785 161.606,-156.785 131.606,-156.785 131.606,-156.785 125.606,-156.785 119.606,-150.785 119.606,-144.785 119.606,-144.785 119.606,-132.785 119.606,-132.785 119.606,-126.785 125.606,-120.785 131.606,-120.785\" fill=\"aliceblue\" stroke=\"black\" stroke-width=\"0.5\"/>\n",
       "<text font-family=\"Titillium Web\" font-size=\"11.00\" text-anchor=\"middle\" x=\"146.606\" y=\"-135.985\">berry</text>\n",
       "</g>\n",
       "<!-- fruiting&#45;body&#45;&#45;berry -->\n",
       "<g class=\"edge\" id=\"edge9\"><title>fruiting-body--berry</title>\n",
       "<path d=\"M222.872,-146.016C206.087,-144.425 187.989,-142.709 173.636,-141.348\" fill=\"none\" stroke=\"black\" stroke-width=\"0.5\"/>\n",
       "<polygon fill=\"none\" points=\"222.822,-149.527 233.108,-146.987 223.483,-142.558 222.822,-149.527\" stroke=\"black\" stroke-width=\"0.5\"/>\n",
       "</g>\n",
       "<!-- rock&#45;dassie -->\n",
       "<g class=\"node\" id=\"node5\"><title>rock-dassie</title>\n",
       "<path d=\"M738.401,-1040.12C738.401,-1040.12 787.401,-1040.12 787.401,-1040.12 793.401,-1040.12 799.401,-1046.12 799.401,-1052.12 799.401,-1052.12 799.401,-1064.12 799.401,-1064.12 799.401,-1070.12 793.401,-1076.12 787.401,-1076.12 787.401,-1076.12 738.401,-1076.12 738.401,-1076.12 732.401,-1076.12 726.401,-1070.12 726.401,-1064.12 726.401,-1064.12 726.401,-1052.12 726.401,-1052.12 726.401,-1046.12 732.401,-1040.12 738.401,-1040.12\" fill=\"aliceblue\" stroke=\"black\" stroke-width=\"0.5\"/>\n",
       "<text font-family=\"Titillium Web\" font-size=\"11.00\" text-anchor=\"middle\" x=\"762.901\" y=\"-1055.32\">rock-dassie</text>\n",
       "</g>\n",
       "<!-- animal -->\n",
       "<g class=\"node\" id=\"node6\"><title>animal</title>\n",
       "<path d=\"M693.776,-927.887C693.776,-927.887 723.776,-927.887 723.776,-927.887 729.776,-927.887 735.776,-933.887 735.776,-939.887 735.776,-939.887 735.776,-951.887 735.776,-951.887 735.776,-957.887 729.776,-963.887 723.776,-963.887 723.776,-963.887 693.776,-963.887 693.776,-963.887 687.776,-963.887 681.776,-957.887 681.776,-951.887 681.776,-951.887 681.776,-939.887 681.776,-939.887 681.776,-933.887 687.776,-927.887 693.776,-927.887\" fill=\"aliceblue\" stroke=\"black\" stroke-width=\"0.5\"/>\n",
       "<text font-family=\"Titillium Web\" font-size=\"11.00\" text-anchor=\"middle\" x=\"708.776\" y=\"-943.087\">animal</text>\n",
       "</g>\n",
       "<!-- animal&#45;&#45;rock&#45;dassie -->\n",
       "<g class=\"edge\" id=\"edge3\"><title>animal--rock-dassie</title>\n",
       "<path d=\"M721.916,-973.135C731.887,-993.81 745.322,-1021.67 754.047,-1039.76\" fill=\"none\" stroke=\"black\" stroke-width=\"0.5\"/>\n",
       "<polygon fill=\"none\" points=\"724.969,-971.407 717.473,-963.92 718.664,-974.447 724.969,-971.407\" stroke=\"black\" stroke-width=\"0.5\"/>\n",
       "</g>\n",
       "<!-- warthog -->\n",
       "<g class=\"node\" id=\"node11\"><title>warthog</title>\n",
       "<path d=\"M588.774,-950.262C588.774,-950.262 620.774,-950.262 620.774,-950.262 626.774,-950.262 632.774,-956.262 632.774,-962.262 632.774,-962.262 632.774,-974.262 632.774,-974.262 632.774,-980.262 626.774,-986.262 620.774,-986.262 620.774,-986.262 588.774,-986.262 588.774,-986.262 582.774,-986.262 576.774,-980.262 576.774,-974.262 576.774,-974.262 576.774,-962.262 576.774,-962.262 576.774,-956.262 582.774,-950.262 588.774,-950.262\" fill=\"aliceblue\" stroke=\"black\" stroke-width=\"0.5\"/>\n",
       "<text font-family=\"Titillium Web\" font-size=\"11.00\" text-anchor=\"middle\" x=\"604.774\" y=\"-965.462\">warthog</text>\n",
       "</g>\n",
       "<!-- animal&#45;&#45;warthog -->\n",
       "<g class=\"edge\" id=\"edge7\"><title>animal--warthog</title>\n",
       "<path d=\"M671.781,-953.846C658.943,-956.608 644.772,-959.657 632.781,-962.236\" fill=\"none\" stroke=\"black\" stroke-width=\"0.5\"/>\n",
       "<polygon fill=\"none\" points=\"672.682,-957.232 681.723,-951.707 671.21,-950.389 672.682,-957.232\" stroke=\"black\" stroke-width=\"0.5\"/>\n",
       "</g>\n",
       "<!-- herbivore -->\n",
       "<g class=\"node\" id=\"node13\"><title>herbivore</title>\n",
       "<path d=\"M628.344,-760.553C628.344,-760.553 666.344,-760.553 666.344,-760.553 672.344,-760.553 678.344,-766.553 678.344,-772.553 678.344,-772.553 678.344,-784.553 678.344,-784.553 678.344,-790.553 672.344,-796.553 666.344,-796.553 666.344,-796.553 628.344,-796.553 628.344,-796.553 622.344,-796.553 616.344,-790.553 616.344,-784.553 616.344,-784.553 616.344,-772.553 616.344,-772.553 616.344,-766.553 622.344,-760.553 628.344,-760.553\" fill=\"aliceblue\" stroke=\"black\" stroke-width=\"0.5\"/>\n",
       "<text font-family=\"Titillium Web\" font-size=\"11.00\" text-anchor=\"middle\" x=\"647.344\" y=\"-775.753\">herbivore</text>\n",
       "</g>\n",
       "<!-- animal&#45;&#45;herbivore -->\n",
       "<g class=\"edge\" id=\"edge10\"><title>animal--herbivore</title>\n",
       "<path d=\"M698.613,-918.203C685.98,-883.793 664.777,-826.038 654.027,-796.757\" fill=\"none\" stroke=\"black\" stroke-width=\"0.5\"/>\n",
       "<polygon fill=\"none\" points=\"695.353,-919.479 702.085,-927.661 701.924,-917.067 695.353,-919.479\" stroke=\"black\" stroke-width=\"0.5\"/>\n",
       "</g>\n",
       "<!-- omnivore -->\n",
       "<g class=\"node\" id=\"node14\"><title>omnivore</title>\n",
       "<path d=\"M648.237,-1022.32C648.237,-1022.32 686.237,-1022.32 686.237,-1022.32 692.237,-1022.32 698.237,-1028.32 698.237,-1034.32 698.237,-1034.32 698.237,-1046.32 698.237,-1046.32 698.237,-1052.32 692.237,-1058.32 686.237,-1058.32 686.237,-1058.32 648.237,-1058.32 648.237,-1058.32 642.237,-1058.32 636.237,-1052.32 636.237,-1046.32 636.237,-1046.32 636.237,-1034.32 636.237,-1034.32 636.237,-1028.32 642.237,-1022.32 648.237,-1022.32\" fill=\"aliceblue\" stroke=\"black\" stroke-width=\"0.5\"/>\n",
       "<text font-family=\"Titillium Web\" font-size=\"11.00\" text-anchor=\"middle\" x=\"667.237\" y=\"-1037.52\">omnivore</text>\n",
       "</g>\n",
       "<!-- animal&#45;&#45;omnivore -->\n",
       "<g class=\"edge\" id=\"edge11\"><title>animal--omnivore</title>\n",
       "<path d=\"M696.701,-973.338C689.788,-989.053 681.307,-1008.33 675.222,-1022.17\" fill=\"none\" stroke=\"black\" stroke-width=\"0.5\"/>\n",
       "<polygon fill=\"none\" points=\"699.944,-974.657 700.767,-964.094 693.537,-971.838 699.944,-974.657\" stroke=\"black\" stroke-width=\"0.5\"/>\n",
       "</g>\n",
       "<!-- carnivore -->\n",
       "<g class=\"node\" id=\"node17\"><title>carnivore</title>\n",
       "<path d=\"M829.306,-835.306C829.306,-835.306 866.306,-835.306 866.306,-835.306 872.306,-835.306 878.306,-841.306 878.306,-847.306 878.306,-847.306 878.306,-859.306 878.306,-859.306 878.306,-865.306 872.306,-871.306 866.306,-871.306 866.306,-871.306 829.306,-871.306 829.306,-871.306 823.306,-871.306 817.306,-865.306 817.306,-859.306 817.306,-859.306 817.306,-847.306 817.306,-847.306 817.306,-841.306 823.306,-835.306 829.306,-835.306\" fill=\"aliceblue\" stroke=\"black\" stroke-width=\"0.5\"/>\n",
       "<text font-family=\"Titillium Web\" font-size=\"11.00\" text-anchor=\"middle\" x=\"847.806\" y=\"-850.506\">carnivore</text>\n",
       "</g>\n",
       "<!-- animal&#45;&#45;carnivore -->\n",
       "<g class=\"edge\" id=\"edge14\"><title>animal--carnivore</title>\n",
       "<path d=\"M744.329,-922.212C768.116,-906.372 798.939,-885.847 820.738,-871.331\" fill=\"none\" stroke=\"black\" stroke-width=\"0.5\"/>\n",
       "<polygon fill=\"none\" points=\"742.296,-919.361 735.913,-927.817 746.176,-925.187 742.296,-919.361\" stroke=\"black\" stroke-width=\"0.5\"/>\n",
       "</g>\n",
       "<!-- impala -->\n",
       "<g class=\"node\" id=\"node21\"><title>impala</title>\n",
       "<path d=\"M810.048,-988.368C810.048,-988.368 840.048,-988.368 840.048,-988.368 846.048,-988.368 852.048,-994.368 852.048,-1000.37 852.048,-1000.37 852.048,-1012.37 852.048,-1012.37 852.048,-1018.37 846.048,-1024.37 840.048,-1024.37 840.048,-1024.37 810.048,-1024.37 810.048,-1024.37 804.048,-1024.37 798.048,-1018.37 798.048,-1012.37 798.048,-1012.37 798.048,-1000.37 798.048,-1000.37 798.048,-994.368 804.048,-988.368 810.048,-988.368\" fill=\"aliceblue\" stroke=\"black\" stroke-width=\"0.5\"/>\n",
       "<text font-family=\"Titillium Web\" font-size=\"11.00\" text-anchor=\"middle\" x=\"825.048\" y=\"-1003.57\">impala</text>\n",
       "</g>\n",
       "<!-- animal&#45;&#45;impala -->\n",
       "<g class=\"edge\" id=\"edge18\"><title>animal--impala</title>\n",
       "<path d=\"M745.176,-964.821C762.25,-973.702 782.245,-984.103 797.959,-992.276\" fill=\"none\" stroke=\"black\" stroke-width=\"0.5\"/>\n",
       "<polygon fill=\"none\" points=\"746.524,-961.577 736.037,-960.067 743.293,-967.787 746.524,-961.577\" stroke=\"black\" stroke-width=\"0.5\"/>\n",
       "</g>\n",
       "<!-- giraffe -->\n",
       "<g class=\"node\" id=\"node28\"><title>giraffe</title>\n",
       "<path d=\"M705.517,-733.002C705.517,-733.002 735.517,-733.002 735.517,-733.002 741.517,-733.002 747.517,-739.002 747.517,-745.002 747.517,-745.002 747.517,-757.002 747.517,-757.002 747.517,-763.002 741.517,-769.002 735.517,-769.002 735.517,-769.002 705.517,-769.002 705.517,-769.002 699.517,-769.002 693.517,-763.002 693.517,-757.002 693.517,-757.002 693.517,-745.002 693.517,-745.002 693.517,-739.002 699.517,-733.002 705.517,-733.002\" fill=\"aliceblue\" stroke=\"black\" stroke-width=\"0.5\"/>\n",
       "<text font-family=\"Titillium Web\" font-size=\"11.00\" text-anchor=\"middle\" x=\"720.517\" y=\"-748.202\">giraffe</text>\n",
       "</g>\n",
       "<!-- animal&#45;&#45;giraffe -->\n",
       "<g class=\"edge\" id=\"edge25\"><title>animal--giraffe</title>\n",
       "<path d=\"M710.487,-917.494C712.936,-876.834 717.374,-803.181 719.424,-769.145\" fill=\"none\" stroke=\"black\" stroke-width=\"0.5\"/>\n",
       "<polygon fill=\"none\" points=\"706.989,-917.36 709.881,-927.553 713.976,-917.781 706.989,-917.36\" stroke=\"black\" stroke-width=\"0.5\"/>\n",
       "</g>\n",
       "<!-- twig -->\n",
       "<g class=\"node\" id=\"node7\"><title>twig</title>\n",
       "<path d=\"M566.601,-267.551C566.601,-267.551 596.601,-267.551 596.601,-267.551 602.601,-267.551 608.601,-273.551 608.601,-279.551 608.601,-279.551 608.601,-291.551 608.601,-291.551 608.601,-297.551 602.601,-303.551 596.601,-303.551 596.601,-303.551 566.601,-303.551 566.601,-303.551 560.601,-303.551 554.601,-297.551 554.601,-291.551 554.601,-291.551 554.601,-279.551 554.601,-279.551 554.601,-273.551 560.601,-267.551 566.601,-267.551\" fill=\"aliceblue\" stroke=\"black\" stroke-width=\"0.5\"/>\n",
       "<text font-family=\"Titillium Web\" font-size=\"11.00\" text-anchor=\"middle\" x=\"581.601\" y=\"-282.751\">twig</text>\n",
       "</g>\n",
       "<!-- plant&#45;part -->\n",
       "<g class=\"node\" id=\"node8\"><title>plant-part</title>\n",
       "<path d=\"M404.639,-290.667C404.639,-290.667 445.639,-290.667 445.639,-290.667 451.639,-290.667 457.639,-296.667 457.639,-302.667 457.639,-302.667 457.639,-314.667 457.639,-314.667 457.639,-320.667 451.639,-326.667 445.639,-326.667 445.639,-326.667 404.639,-326.667 404.639,-326.667 398.639,-326.667 392.639,-320.667 392.639,-314.667 392.639,-314.667 392.639,-302.667 392.639,-302.667 392.639,-296.667 398.639,-290.667 404.639,-290.667\" fill=\"aliceblue\" stroke=\"black\" stroke-width=\"0.5\"/>\n",
       "<text font-family=\"Titillium Web\" font-size=\"11.00\" text-anchor=\"middle\" x=\"425.139\" y=\"-305.867\">plant-part</text>\n",
       "</g>\n",
       "<!-- plant&#45;part&#45;&#45;fruiting&#45;body -->\n",
       "<g class=\"edge\" id=\"edge8\"><title>plant-part--fruiting-body</title>\n",
       "<path d=\"M413.67,-281.11C403.049,-258.103 385.471,-225.533 362.692,-202.939 348.322,-188.686 329.289,-176.912 312.424,-168.176\" fill=\"none\" stroke=\"black\" stroke-width=\"0.5\"/>\n",
       "<polygon fill=\"none\" points=\"410.514,-282.627 417.79,-290.328 416.904,-279.77 410.514,-282.627\" stroke=\"black\" stroke-width=\"0.5\"/>\n",
       "</g>\n",
       "<!-- plant&#45;part&#45;&#45;twig -->\n",
       "<g class=\"edge\" id=\"edge4\"><title>plant-part--twig</title>\n",
       "<path d=\"M468.125,-302.316C495.75,-298.235 530.789,-293.058 554.571,-289.545\" fill=\"none\" stroke=\"black\" stroke-width=\"0.5\"/>\n",
       "<polygon fill=\"none\" points=\"467.32,-298.897 457.939,-303.821 468.343,-305.822 467.32,-298.897\" stroke=\"black\" stroke-width=\"0.5\"/>\n",
       "</g>\n",
       "<!-- stem -->\n",
       "<g class=\"node\" id=\"node9\"><title>stem</title>\n",
       "<path d=\"M317.492,-206.139C317.492,-206.139 347.492,-206.139 347.492,-206.139 353.492,-206.139 359.492,-212.139 359.492,-218.139 359.492,-218.139 359.492,-230.139 359.492,-230.139 359.492,-236.139 353.492,-242.139 347.492,-242.139 347.492,-242.139 317.492,-242.139 317.492,-242.139 311.492,-242.139 305.492,-236.139 305.492,-230.139 305.492,-230.139 305.492,-218.139 305.492,-218.139 305.492,-212.139 311.492,-206.139 317.492,-206.139\" fill=\"aliceblue\" stroke=\"black\" stroke-width=\"0.5\"/>\n",
       "<text font-family=\"Titillium Web\" font-size=\"11.00\" text-anchor=\"middle\" x=\"332.492\" y=\"-221.339\">stem</text>\n",
       "</g>\n",
       "<!-- plant&#45;part&#45;&#45;stem -->\n",
       "<g class=\"edge\" id=\"edge5\"><title>plant-part--stem</title>\n",
       "<path d=\"M397.312,-283.278C382.788,-270.027 365.362,-254.128 352.237,-242.154\" fill=\"none\" stroke=\"black\" stroke-width=\"0.5\"/>\n",
       "<polygon fill=\"none\" points=\"395.29,-286.171 405.036,-290.326 400.008,-281 395.29,-286.171\" stroke=\"black\" stroke-width=\"0.5\"/>\n",
       "</g>\n",
       "<!-- leaf -->\n",
       "<g class=\"node\" id=\"node10\"><title>leaf</title>\n",
       "<path d=\"M519.687,-408.563C519.687,-408.563 549.687,-408.563 549.687,-408.563 555.687,-408.563 561.687,-414.563 561.687,-420.563 561.687,-420.563 561.687,-432.563 561.687,-432.563 561.687,-438.563 555.687,-444.563 549.687,-444.563 549.687,-444.563 519.687,-444.563 519.687,-444.563 513.687,-444.563 507.687,-438.563 507.687,-432.563 507.687,-432.563 507.687,-420.563 507.687,-420.563 507.687,-414.563 513.687,-408.563 519.687,-408.563\" fill=\"aliceblue\" stroke=\"black\" stroke-width=\"0.5\"/>\n",
       "<text font-family=\"Titillium Web\" font-size=\"11.00\" text-anchor=\"middle\" x=\"534.687\" y=\"-423.763\">leaf</text>\n",
       "</g>\n",
       "<!-- plant&#45;part&#45;&#45;leaf -->\n",
       "<g class=\"edge\" id=\"edge6\"><title>plant-part--leaf</title>\n",
       "<path d=\"M448.943,-334.284C469.656,-356.576 499.169,-388.338 517.611,-408.185\" fill=\"none\" stroke=\"black\" stroke-width=\"0.5\"/>\n",
       "<polygon fill=\"none\" points=\"451.387,-331.773 442.016,-326.83 446.259,-336.538 451.387,-331.773\" stroke=\"black\" stroke-width=\"0.5\"/>\n",
       "</g>\n",
       "<!-- phloem -->\n",
       "<g class=\"node\" id=\"node16\"><title>phloem</title>\n",
       "<path d=\"M508.528,-140.875C508.528,-140.875 538.528,-140.875 538.528,-140.875 544.528,-140.875 550.528,-146.875 550.528,-152.875 550.528,-152.875 550.528,-164.875 550.528,-164.875 550.528,-170.875 544.528,-176.875 538.528,-176.875 538.528,-176.875 508.528,-176.875 508.528,-176.875 502.528,-176.875 496.528,-170.875 496.528,-164.875 496.528,-164.875 496.528,-152.875 496.528,-152.875 496.528,-146.875 502.528,-140.875 508.528,-140.875\" fill=\"aliceblue\" stroke=\"black\" stroke-width=\"0.5\"/>\n",
       "<text font-family=\"Titillium Web\" font-size=\"11.00\" text-anchor=\"middle\" x=\"523.528\" y=\"-156.075\">phloem</text>\n",
       "</g>\n",
       "<!-- plant&#45;part&#45;&#45;phloem -->\n",
       "<g class=\"edge\" id=\"edge13\"><title>plant-part--phloem</title>\n",
       "<path d=\"M442.511,-282.22C462.38,-251.97 494.382,-203.248 511.618,-177.007\" fill=\"none\" stroke=\"black\" stroke-width=\"0.5\"/>\n",
       "<polygon fill=\"none\" points=\"439.572,-280.319 437.007,-290.599 445.423,-284.162 439.572,-280.319\" stroke=\"black\" stroke-width=\"0.5\"/>\n",
       "</g>\n",
       "<!-- branch -->\n",
       "<g class=\"node\" id=\"node18\"><title>branch</title>\n",
       "<path d=\"M335.628,-360.026C335.628,-360.026 365.628,-360.026 365.628,-360.026 371.628,-360.026 377.628,-366.026 377.628,-372.026 377.628,-372.026 377.628,-384.026 377.628,-384.026 377.628,-390.026 371.628,-396.026 365.628,-396.026 365.628,-396.026 335.628,-396.026 335.628,-396.026 329.628,-396.026 323.628,-390.026 323.628,-384.026 323.628,-384.026 323.628,-372.026 323.628,-372.026 323.628,-366.026 329.628,-360.026 335.628,-360.026\" fill=\"aliceblue\" stroke=\"black\" stroke-width=\"0.5\"/>\n",
       "<text font-family=\"Titillium Web\" font-size=\"11.00\" text-anchor=\"middle\" x=\"350.628\" y=\"-375.226\">branch</text>\n",
       "</g>\n",
       "<!-- plant&#45;part&#45;&#45;branch -->\n",
       "<g class=\"edge\" id=\"edge15\"><title>plant-part--branch</title>\n",
       "<path d=\"M398.05,-333.883C388.786,-342.507 378.614,-351.975 370.074,-359.925\" fill=\"none\" stroke=\"black\" stroke-width=\"0.5\"/>\n",
       "<polygon fill=\"none\" points=\"400.628,-336.266 405.562,-326.89 395.858,-331.142 400.628,-336.266\" stroke=\"black\" stroke-width=\"0.5\"/>\n",
       "</g>\n",
       "<!-- root -->\n",
       "<g class=\"node\" id=\"node24\"><title>root</title>\n",
       "<path d=\"M412.036,-102.245C412.036,-102.245 442.036,-102.245 442.036,-102.245 448.036,-102.245 454.036,-108.245 454.036,-114.245 454.036,-114.245 454.036,-126.245 454.036,-126.245 454.036,-132.245 448.036,-138.245 442.036,-138.245 442.036,-138.245 412.036,-138.245 412.036,-138.245 406.036,-138.245 400.036,-132.245 400.036,-126.245 400.036,-126.245 400.036,-114.245 400.036,-114.245 400.036,-108.245 406.036,-102.245 412.036,-102.245\" fill=\"aliceblue\" stroke=\"black\" stroke-width=\"0.5\"/>\n",
       "<text font-family=\"Titillium Web\" font-size=\"11.00\" text-anchor=\"middle\" x=\"427.036\" y=\"-117.445\">root</text>\n",
       "</g>\n",
       "<!-- plant&#45;part&#45;&#45;root -->\n",
       "<g class=\"edge\" id=\"edge21\"><title>plant-part--root</title>\n",
       "<path d=\"M425.424,-280.389C425.82,-241.102 426.524,-171.136 426.855,-138.257\" fill=\"none\" stroke=\"black\" stroke-width=\"0.5\"/>\n",
       "<polygon fill=\"none\" points=\"421.922,-280.566 425.321,-290.6 428.922,-280.636 421.922,-280.566\" stroke=\"black\" stroke-width=\"0.5\"/>\n",
       "</g>\n",
       "<!-- xylem -->\n",
       "<g class=\"node\" id=\"node27\"><title>xylem</title>\n",
       "<path d=\"M564.665,-197.787C564.665,-197.787 594.665,-197.787 594.665,-197.787 600.665,-197.787 606.665,-203.787 606.665,-209.787 606.665,-209.787 606.665,-221.787 606.665,-221.787 606.665,-227.787 600.665,-233.787 594.665,-233.787 594.665,-233.787 564.665,-233.787 564.665,-233.787 558.665,-233.787 552.665,-227.787 552.665,-221.787 552.665,-221.787 552.665,-209.787 552.665,-209.787 552.665,-203.787 558.665,-197.787 564.665,-197.787\" fill=\"aliceblue\" stroke=\"black\" stroke-width=\"0.5\"/>\n",
       "<text font-family=\"Titillium Web\" font-size=\"11.00\" text-anchor=\"middle\" x=\"579.665\" y=\"-212.987\">xylem</text>\n",
       "</g>\n",
       "<!-- plant&#45;part&#45;&#45;xylem -->\n",
       "<g class=\"edge\" id=\"edge24\"><title>plant-part--xylem</title>\n",
       "<path d=\"M463.921,-285.357C491.505,-268.777 527.876,-246.915 552.427,-232.159\" fill=\"none\" stroke=\"black\" stroke-width=\"0.5\"/>\n",
       "<polygon fill=\"none\" points=\"462.068,-282.387 455.3,-290.538 465.674,-288.386 462.068,-282.387\" stroke=\"black\" stroke-width=\"0.5\"/>\n",
       "</g>\n",
       "<!-- Leaf&#45;01 -->\n",
       "<g class=\"node\" id=\"node34\"><title>Leaf-01</title>\n",
       "<path d=\"M517.749,-531.8C517.749,-531.8 548.749,-531.8 548.749,-531.8 554.749,-531.8 560.749,-537.8 560.749,-543.8 560.749,-543.8 560.749,-555.8 560.749,-555.8 560.749,-561.8 554.749,-567.8 548.749,-567.8 548.749,-567.8 517.749,-567.8 517.749,-567.8 511.749,-567.8 505.749,-561.8 505.749,-555.8 505.749,-555.8 505.749,-543.8 505.749,-543.8 505.749,-537.8 511.749,-531.8 517.749,-531.8\" fill=\"whitesmoke\" stroke=\"black\" stroke-width=\"0.5\"/>\n",
       "<text font-family=\"Titillium Web\" font-size=\"11.00\" text-anchor=\"middle\" x=\"533.249\" y=\"-547\">Leaf-01</text>\n",
       "</g>\n",
       "<!-- leaf&#45;&#45;Leaf&#45;01 -->\n",
       "<g class=\"edge\" id=\"edge32\"><title>leaf--Leaf-01</title>\n",
       "<path d=\"M534.357,-454.844C534.082,-478.417 533.699,-511.305 533.462,-531.541\" fill=\"none\" stroke=\"black\" stroke-dasharray=\"5,2\" stroke-width=\"0.5\"/>\n",
       "<polygon fill=\"none\" points=\"537.858,-454.787 534.475,-444.747 530.859,-454.705 537.858,-454.787\" stroke=\"black\" stroke-width=\"0.5\"/>\n",
       "</g>\n",
       "<!-- elephant -->\n",
       "<g class=\"node\" id=\"node25\"><title>elephant</title>\n",
       "<path d=\"M511.13,-825.428C511.13,-825.428 546.13,-825.428 546.13,-825.428 552.13,-825.428 558.13,-831.428 558.13,-837.428 558.13,-837.428 558.13,-849.428 558.13,-849.428 558.13,-855.428 552.13,-861.428 546.13,-861.428 546.13,-861.428 511.13,-861.428 511.13,-861.428 505.13,-861.428 499.13,-855.428 499.13,-849.428 499.13,-849.428 499.13,-837.428 499.13,-837.428 499.13,-831.428 505.13,-825.428 511.13,-825.428\" fill=\"aliceblue\" stroke=\"black\" stroke-width=\"0.5\"/>\n",
       "<text font-family=\"Titillium Web\" font-size=\"11.00\" text-anchor=\"middle\" x=\"528.63\" y=\"-840.628\">elephant</text>\n",
       "</g>\n",
       "<!-- herbivore&#45;&#45;elephant -->\n",
       "<g class=\"edge\" id=\"edge22\"><title>herbivore--elephant</title>\n",
       "<path d=\"M607.045,-800.576C591.104,-809.287 573.111,-819.12 558.386,-827.167\" fill=\"none\" stroke=\"black\" stroke-width=\"0.5\"/>\n",
       "<polygon fill=\"none\" points=\"609.057,-803.465 616.154,-795.598 605.7,-797.322 609.057,-803.465\" stroke=\"black\" stroke-width=\"0.5\"/>\n",
       "</g>\n",
       "<!-- Sophie&#45;01 -->\n",
       "<g class=\"node\" id=\"node35\"><title>Sophie-01</title>\n",
       "<path d=\"M656.345,-649.033C656.345,-649.033 698.345,-649.033 698.345,-649.033 704.345,-649.033 710.345,-655.033 710.345,-661.033 710.345,-661.033 710.345,-673.033 710.345,-673.033 710.345,-679.033 704.345,-685.033 698.345,-685.033 698.345,-685.033 656.345,-685.033 656.345,-685.033 650.345,-685.033 644.345,-679.033 644.345,-673.033 644.345,-673.033 644.345,-661.033 644.345,-661.033 644.345,-655.033 650.345,-649.033 656.345,-649.033\" fill=\"whitesmoke\" stroke=\"black\" stroke-width=\"0.5\"/>\n",
       "<text font-family=\"Titillium Web\" font-size=\"11.00\" text-anchor=\"middle\" x=\"677.345\" y=\"-664.233\">Sophie-01</text>\n",
       "</g>\n",
       "<!-- herbivore&#45;&#45;Sophie&#45;01 -->\n",
       "<g class=\"edge\" id=\"edge34\"><title>herbivore--Sophie-01</title>\n",
       "<path d=\"M654.918,-750.399C660.43,-729.909 667.732,-702.766 672.483,-685.106\" fill=\"none\" stroke=\"black\" stroke-dasharray=\"5,2\" stroke-width=\"0.5\"/>\n",
       "<polygon fill=\"none\" points=\"651.516,-749.572 652.298,-760.138 658.276,-751.39 651.516,-749.572\" stroke=\"black\" stroke-width=\"0.5\"/>\n",
       "</g>\n",
       "<!-- lion -->\n",
       "<g class=\"node\" id=\"node19\"><title>lion</title>\n",
       "<path d=\"M872.997,-741.916C872.997,-741.916 902.997,-741.916 902.997,-741.916 908.997,-741.916 914.997,-747.916 914.997,-753.916 914.997,-753.916 914.997,-765.916 914.997,-765.916 914.997,-771.916 908.997,-777.916 902.997,-777.916 902.997,-777.916 872.997,-777.916 872.997,-777.916 866.997,-777.916 860.997,-771.916 860.997,-765.916 860.997,-765.916 860.997,-753.916 860.997,-753.916 860.997,-747.916 866.997,-741.916 872.997,-741.916\" fill=\"aliceblue\" stroke=\"black\" stroke-width=\"0.5\"/>\n",
       "<text font-family=\"Titillium Web\" font-size=\"11.00\" text-anchor=\"middle\" x=\"887.997\" y=\"-757.116\">lion</text>\n",
       "</g>\n",
       "<!-- carnivore&#45;&#45;lion -->\n",
       "<g class=\"edge\" id=\"edge16\"><title>carnivore--lion</title>\n",
       "<path d=\"M859.651,-825.782C866.258,-810.43 874.305,-791.732 880.134,-778.186\" fill=\"none\" stroke=\"black\" stroke-width=\"0.5\"/>\n",
       "<polygon fill=\"none\" points=\"856.293,-824.731 855.555,-835.3 862.723,-827.498 856.293,-824.731\" stroke=\"black\" stroke-width=\"0.5\"/>\n",
       "</g>\n",
       "<!-- Branch&#45;03 -->\n",
       "<g class=\"node\" id=\"node30\"><title>Branch-03</title>\n",
       "<path d=\"M210.773,-340.958C210.773,-340.958 254.773,-340.958 254.773,-340.958 260.773,-340.958 266.773,-346.958 266.773,-352.958 266.773,-352.958 266.773,-364.958 266.773,-364.958 266.773,-370.958 260.773,-376.958 254.773,-376.958 254.773,-376.958 210.773,-376.958 210.773,-376.958 204.773,-376.958 198.773,-370.958 198.773,-364.958 198.773,-364.958 198.773,-352.958 198.773,-352.958 198.773,-346.958 204.773,-340.958 210.773,-340.958\" fill=\"whitesmoke\" stroke=\"black\" stroke-width=\"0.5\"/>\n",
       "<text font-family=\"Titillium Web\" font-size=\"11.00\" text-anchor=\"middle\" x=\"232.773\" y=\"-356.158\">Branch-03</text>\n",
       "</g>\n",
       "<!-- branch&#45;&#45;Branch&#45;03 -->\n",
       "<g class=\"edge\" id=\"edge28\"><title>branch--Branch-03</title>\n",
       "<path d=\"M313.642,-372.042C298.681,-369.622 281.52,-366.845 266.866,-364.474\" fill=\"none\" stroke=\"black\" stroke-dasharray=\"5,2\" stroke-width=\"0.5\"/>\n",
       "<polygon fill=\"none\" points=\"313.159,-375.51 323.589,-373.652 314.277,-368.599 313.159,-375.51\" stroke=\"black\" stroke-width=\"0.5\"/>\n",
       "</g>\n",
       "<!-- Branch&#45;01 -->\n",
       "<g class=\"node\" id=\"node31\"><title>Branch-01</title>\n",
       "<path d=\"M342.538,-516.735C342.538,-516.735 386.538,-516.735 386.538,-516.735 392.538,-516.735 398.538,-522.735 398.538,-528.735 398.538,-528.735 398.538,-540.735 398.538,-540.735 398.538,-546.735 392.538,-552.735 386.538,-552.735 386.538,-552.735 342.538,-552.735 342.538,-552.735 336.538,-552.735 330.538,-546.735 330.538,-540.735 330.538,-540.735 330.538,-528.735 330.538,-528.735 330.538,-522.735 336.538,-516.735 342.538,-516.735\" fill=\"whitesmoke\" stroke=\"black\" stroke-width=\"0.5\"/>\n",
       "<text font-family=\"Titillium Web\" font-size=\"11.00\" text-anchor=\"middle\" x=\"364.538\" y=\"-531.935\">Branch-01</text>\n",
       "</g>\n",
       "<!-- branch&#45;&#45;Branch&#45;01 -->\n",
       "<g class=\"edge\" id=\"edge29\"><title>branch--Branch-01</title>\n",
       "<path d=\"M353.144,-406.368C355.985,-438.374 360.524,-489.508 362.926,-516.568\" fill=\"none\" stroke=\"black\" stroke-dasharray=\"5,2\" stroke-width=\"0.5\"/>\n",
       "<polygon fill=\"none\" points=\"356.621,-405.961 352.251,-396.309 349.649,-406.58 356.621,-405.961\" stroke=\"black\" stroke-width=\"0.5\"/>\n",
       "</g>\n",
       "<!-- Branch&#45;02 -->\n",
       "<g class=\"node\" id=\"node32\"><title>Branch-02</title>\n",
       "<path d=\"M464.024,-458.898C464.024,-458.898 508.024,-458.898 508.024,-458.898 514.024,-458.898 520.024,-464.898 520.024,-470.898 520.024,-470.898 520.024,-482.898 520.024,-482.898 520.024,-488.898 514.024,-494.898 508.024,-494.898 508.024,-494.898 464.024,-494.898 464.024,-494.898 458.024,-494.898 452.024,-488.898 452.024,-482.898 452.024,-482.898 452.024,-470.898 452.024,-470.898 452.024,-464.898 458.024,-458.898 464.024,-458.898\" fill=\"whitesmoke\" stroke=\"black\" stroke-width=\"0.5\"/>\n",
       "<text font-family=\"Titillium Web\" font-size=\"11.00\" text-anchor=\"middle\" x=\"486.024\" y=\"-474.098\">Branch-02</text>\n",
       "</g>\n",
       "<!-- branch&#45;&#45;Branch&#45;02 -->\n",
       "<g class=\"edge\" id=\"edge30\"><title>branch--Branch-02</title>\n",
       "<path d=\"M383.584,-402.092C407.572,-419.609 439.543,-442.956 461.348,-458.879\" fill=\"none\" stroke=\"black\" stroke-dasharray=\"5,2\" stroke-width=\"0.5\"/>\n",
       "<polygon fill=\"none\" points=\"385.602,-399.232 375.462,-396.161 381.474,-404.885 385.602,-399.232\" stroke=\"black\" stroke-width=\"0.5\"/>\n",
       "</g>\n",
       "<!-- Leo&#45;01 -->\n",
       "<g class=\"node\" id=\"node36\"><title>Leo-01</title>\n",
       "<path d=\"M784.614,-613.2C784.614,-613.2 814.614,-613.2 814.614,-613.2 820.614,-613.2 826.614,-619.2 826.614,-625.2 826.614,-625.2 826.614,-637.2 826.614,-637.2 826.614,-643.2 820.614,-649.2 814.614,-649.2 814.614,-649.2 784.614,-649.2 784.614,-649.2 778.614,-649.2 772.614,-643.2 772.614,-637.2 772.614,-637.2 772.614,-625.2 772.614,-625.2 772.614,-619.2 778.614,-613.2 784.614,-613.2\" fill=\"whitesmoke\" stroke=\"black\" stroke-width=\"0.5\"/>\n",
       "<text font-family=\"Titillium Web\" font-size=\"11.00\" text-anchor=\"middle\" x=\"799.614\" y=\"-628.4\">Leo-01</text>\n",
       "</g>\n",
       "<!-- lion&#45;&#45;Leo&#45;01 -->\n",
       "<g class=\"edge\" id=\"edge35\"><title>lion--Leo-01</title>\n",
       "<path d=\"M869.789,-733.399C852.528,-708.261 827.065,-671.178 812.026,-649.277\" fill=\"none\" stroke=\"black\" stroke-dasharray=\"5,2\" stroke-width=\"0.5\"/>\n",
       "<polygon fill=\"none\" points=\"866.975,-735.485 875.521,-741.748 872.746,-731.523 866.975,-735.485\" stroke=\"black\" stroke-width=\"0.5\"/>\n",
       "</g>\n",
       "<!-- Mary&#45;01 -->\n",
       "<g class=\"node\" id=\"node33\"><title>Mary-01</title>\n",
       "<path d=\"M389.074,-599.615C389.074,-599.615 424.074,-599.615 424.074,-599.615 430.074,-599.615 436.074,-605.615 436.074,-611.615 436.074,-611.615 436.074,-623.615 436.074,-623.615 436.074,-629.615 430.074,-635.615 424.074,-635.615 424.074,-635.615 389.074,-635.615 389.074,-635.615 383.074,-635.615 377.074,-629.615 377.074,-623.615 377.074,-623.615 377.074,-611.615 377.074,-611.615 377.074,-605.615 383.074,-599.615 389.074,-599.615\" fill=\"whitesmoke\" stroke=\"black\" stroke-width=\"0.5\"/>\n",
       "<text font-family=\"Titillium Web\" font-size=\"11.00\" text-anchor=\"middle\" x=\"406.574\" y=\"-614.815\">Mary-01</text>\n",
       "</g>\n",
       "<!-- tree&#45;&#45;Mary&#45;01 -->\n",
       "<g class=\"edge\" id=\"edge31\"><title>tree--Mary-01</title>\n",
       "<path d=\"M361.151,-638.497C366.403,-636.082 371.753,-633.623 376.85,-631.279\" fill=\"none\" stroke=\"black\" stroke-dasharray=\"5,2\" stroke-width=\"0.5\"/>\n",
       "<polygon fill=\"none\" points=\"359.503,-635.402 351.879,-642.759 362.426,-641.762 359.503,-635.402\" stroke=\"black\" stroke-width=\"0.5\"/>\n",
       "</g>\n",
       "<!-- parsnip -->\n",
       "<g class=\"node\" id=\"node23\"><title>parsnip</title>\n",
       "<path d=\"M421.181,-0.0329982C421.181,-0.0329982 451.181,-0.0329982 451.181,-0.0329982 457.181,-0.0329982 463.181,-6.033 463.181,-12.033 463.181,-12.033 463.181,-24.033 463.181,-24.033 463.181,-30.033 457.181,-36.033 451.181,-36.033 451.181,-36.033 421.181,-36.033 421.181,-36.033 415.181,-36.033 409.181,-30.033 409.181,-24.033 409.181,-24.033 409.181,-12.033 409.181,-12.033 409.181,-6.033 415.181,-0.0329982 421.181,-0.0329982\" fill=\"aliceblue\" stroke=\"black\" stroke-width=\"0.5\"/>\n",
       "<text font-family=\"Titillium Web\" font-size=\"11.00\" text-anchor=\"middle\" x=\"436.181\" y=\"-15.233\">parsnip</text>\n",
       "</g>\n",
       "<!-- root&#45;&#45;parsnip -->\n",
       "<g class=\"edge\" id=\"edge20\"><title>root--parsnip</title>\n",
       "<path d=\"M429.578,-91.8402C431.172,-74.0208 433.179,-51.5801 434.56,-36.1483\" fill=\"none\" stroke=\"black\" stroke-width=\"0.5\"/>\n",
       "<polygon fill=\"none\" points=\"426.076,-91.6994 428.671,-101.972 433.048,-92.3232 426.076,-91.6994\" stroke=\"black\" stroke-width=\"0.5\"/>\n",
       "</g>\n",
       "<!-- giraffe&#45;&#45;Sophie&#45;01 -->\n",
       "<g class=\"edge\" id=\"edge33\"><title>giraffe--Sophie-01</title>\n",
       "<path d=\"M706.444,-723.63C699.968,-711.034 692.462,-696.434 686.695,-685.217\" fill=\"none\" stroke=\"black\" stroke-dasharray=\"5,2\" stroke-width=\"0.5\"/>\n",
       "<polygon fill=\"none\" points=\"703.464,-725.489 711.15,-732.782 709.69,-722.288 703.464,-725.489\" stroke=\"black\" stroke-width=\"0.5\"/>\n",
       "</g>\n",
       "<!-- herb -->\n",
       "<g class=\"node\" id=\"node29\"><title>herb</title>\n",
       "<path d=\"M290.681,-418.502C290.681,-418.502 320.681,-418.502 320.681,-418.502 326.681,-418.502 332.681,-424.502 332.681,-430.502 332.681,-430.502 332.681,-442.502 332.681,-442.502 332.681,-448.502 326.681,-454.502 320.681,-454.502 320.681,-454.502 290.681,-454.502 290.681,-454.502 284.681,-454.502 278.681,-448.502 278.681,-442.502 278.681,-442.502 278.681,-430.502 278.681,-430.502 278.681,-424.502 284.681,-418.502 290.681,-418.502\" fill=\"aliceblue\" stroke=\"black\" stroke-width=\"0.5\"/>\n",
       "<text font-family=\"Titillium Web\" font-size=\"11.00\" text-anchor=\"middle\" x=\"305.681\" y=\"-433.702\">herb</text>\n",
       "</g>\n",
       "<!-- herb&#45;&#45;plant -->\n",
       "<g class=\"edge\" id=\"edge26\"><title>herb--plant</title>\n",
       "<path d=\"M284.271,-462.24C253.971,-498.665 199.341,-564.339 172.994,-596.012\" fill=\"none\" stroke=\"black\" stroke-width=\"0.5\"/>\n",
       "<polygon fill=\"none\" points=\"287.001,-464.431 290.706,-454.505 281.62,-459.954 287.001,-464.431\" stroke=\"black\" stroke-width=\"0.5\"/>\n",
       "</g>\n",
       "<!-- herb&#45;&#45;plant&#45;part -->\n",
       "<g class=\"edge\" id=\"edge27\"><title>herb--plant-part</title>\n",
       "<path d=\"M342.477,-424.008C355.797,-418.1 370.167,-409.945 380.828,-399.226 401.318,-378.625 413.866,-346.664 420.157,-326.737\" fill=\"none\" stroke=\"black\" stroke-width=\"0.5\"/>\n",
       "<polygon fill=\"none\" points=\"340.934,-420.858 333.033,-427.917 343.611,-427.326 340.934,-420.858\" stroke=\"black\" stroke-width=\"0.5\"/>\n",
       "</g>\n",
       "<!-- Branch&#45;01&#45;&#45;Branch&#45;02 -->\n",
       "<g class=\"edge\" id=\"edge36\"><title>Branch-01--Branch-02</title>\n",
       "<path d=\"M398.722,-525.113C415.483,-518.136 435.591,-508.651 452.291,-499.873\" fill=\"none\" stroke=\"black\" stroke-width=\"0.5\"/>\n",
       "<polygon fill=\"black\" points=\"461.175,-495.09 454.503,-503.793 456.773,-497.461 452.37,-499.831 452.37,-499.831 452.37,-499.831 456.773,-497.461 450.237,-495.869 461.175,-495.09 461.175,-495.09\" stroke=\"black\" stroke-width=\"0.5\"/>\n",
       "<text font-family=\"Titillium Web\" font-size=\"11.00\" text-anchor=\"middle\" x=\"451.773\" y=\"-514.112\">has-part</text>\n",
       "</g>\n",
       "<!-- Branch&#45;01&#45;&#45;Mary&#45;01 -->\n",
       "<g class=\"edge\" id=\"edge37\"><title>Branch-01--Mary-01</title>\n",
       "<path d=\"M367.619,-552.772C371.8,-563.805 378.633,-578.096 385.493,-590.465\" fill=\"none\" stroke=\"black\" stroke-width=\"0.5\"/>\n",
       "<polygon fill=\"black\" points=\"390.701,-599.464 381.797,-593.063 388.196,-595.137 385.692,-590.809 385.692,-590.809 385.692,-590.809 388.196,-595.137 389.587,-588.555 390.701,-599.464 390.701,-599.464\" stroke=\"black\" stroke-width=\"0.5\"/>\n",
       "<text font-family=\"Titillium Web\" font-size=\"11.00\" text-anchor=\"middle\" x=\"354.229\" y=\"-579.825\">is-part-of</text>\n",
       "</g>\n",
       "<!-- Branch&#45;01&#45;&#45;Leaf&#45;01 -->\n",
       "<g class=\"edge\" id=\"edge38\"><title>Branch-01--Leaf-01</title>\n",
       "<path d=\"M398.591,-543.369C426.618,-547.399 466.314,-550.993 495.345,-552.156\" fill=\"none\" stroke=\"black\" stroke-width=\"0.5\"/>\n",
       "<polygon fill=\"black\" points=\"505.517,-552.471 495.383,-556.659 500.52,-552.316 495.522,-552.161 495.522,-552.161 495.522,-552.161 500.52,-552.316 495.661,-547.663 505.517,-552.471 505.517,-552.471\" stroke=\"black\" stroke-width=\"0.5\"/>\n",
       "<text font-family=\"Titillium Web\" font-size=\"11.00\" text-anchor=\"middle\" x=\"430.689\" y=\"-552.532\">has-part</text>\n",
       "</g>\n",
       "<!-- Branch&#45;02&#45;&#45;Branch&#45;01 -->\n",
       "<g class=\"edge\" id=\"edge39\"><title>Branch-02--Branch-01</title>\n",
       "<path d=\"M451.841,-486.521C435.08,-493.498 414.972,-502.982 398.272,-511.76\" fill=\"none\" stroke=\"black\" stroke-width=\"0.5\"/>\n",
       "<polygon fill=\"black\" points=\"389.387,-516.543 396.059,-507.84 393.79,-514.173 398.193,-511.802 398.193,-511.802 398.193,-511.802 393.79,-514.173 400.326,-515.765 389.387,-516.543 389.387,-516.543\" stroke=\"black\" stroke-width=\"0.5\"/>\n",
       "<text font-family=\"Titillium Web\" font-size=\"11.00\" text-anchor=\"middle\" x=\"396.29\" y=\"-503.921\">is-part-of</text>\n",
       "</g>\n",
       "<!-- Branch&#45;02&#45;&#45;Mary&#45;01 -->\n",
       "<g class=\"edge\" id=\"edge40\"><title>Branch-02--Mary-01</title>\n",
       "<path d=\"M470.18,-494.937C453.936,-519.037 429.625,-561.839 416.074,-590.001\" fill=\"none\" stroke=\"black\" stroke-width=\"0.5\"/>\n",
       "<polygon fill=\"black\" points=\"411.76,-599.297 411.887,-588.331 413.865,-594.761 415.969,-590.226 415.969,-590.226 415.969,-590.226 413.865,-594.761 420.051,-592.12 411.76,-599.297 411.76,-599.297\" stroke=\"black\" stroke-width=\"0.5\"/>\n",
       "<text font-family=\"Titillium Web\" font-size=\"11.00\" text-anchor=\"middle\" x=\"427.143\" y=\"-537.408\">is-part-of</text>\n",
       "</g>\n",
       "<!-- Branch&#45;02&#45;&#45;Leaf&#45;01 -->\n",
       "<g class=\"edge\" id=\"edge41\"><title>Branch-02--Leaf-01</title>\n",
       "<path d=\"M491.116,-495.044C495.495,-503.631 501.798,-514.013 508.24,-523.432\" fill=\"none\" stroke=\"black\" stroke-width=\"0.5\"/>\n",
       "<polygon fill=\"black\" points=\"514.143,-531.733 504.68,-526.192 511.245,-527.659 508.347,-523.584 508.347,-523.584 508.347,-523.584 511.245,-527.659 512.015,-520.976 514.143,-531.733 514.143,-531.733\" stroke=\"black\" stroke-width=\"0.5\"/>\n",
       "<text font-family=\"Titillium Web\" font-size=\"11.00\" text-anchor=\"middle\" x=\"523.506\" y=\"-517.146\">has-part</text>\n",
       "</g>\n",
       "<!-- Mary&#45;01&#45;&#45;Branch&#45;01 -->\n",
       "<g class=\"edge\" id=\"edge42\"><title>Mary-01--Branch-01</title>\n",
       "<path d=\"M403.493,-599.578C399.313,-588.545 392.479,-574.254 385.619,-561.885\" fill=\"none\" stroke=\"black\" stroke-width=\"0.5\"/>\n",
       "<polygon fill=\"black\" points=\"380.411,-552.886 389.315,-559.287 382.916,-557.213 385.42,-561.541 385.42,-561.541 385.42,-561.541 382.916,-557.213 381.525,-563.795 380.411,-552.886 380.411,-552.886\" stroke=\"black\" stroke-width=\"0.5\"/>\n",
       "<text font-family=\"Titillium Web\" font-size=\"11.00\" text-anchor=\"middle\" x=\"371.383\" y=\"-566.925\">has-part</text>\n",
       "</g>\n",
       "<!-- Mary&#45;01&#45;&#45;Branch&#45;02 -->\n",
       "<g class=\"edge\" id=\"edge43\"><title>Mary-01--Branch-02</title>\n",
       "<path d=\"M422.418,-599.577C438.662,-575.477 462.973,-532.675 476.524,-504.513\" fill=\"none\" stroke=\"black\" stroke-width=\"0.5\"/>\n",
       "<polygon fill=\"black\" points=\"480.838,-495.217 480.711,-506.182 478.734,-499.753 476.629,-504.288 476.629,-504.288 476.629,-504.288 478.734,-499.753 472.547,-502.394 480.838,-495.217 480.838,-495.217\" stroke=\"black\" stroke-width=\"0.5\"/>\n",
       "<text font-family=\"Titillium Web\" font-size=\"11.00\" text-anchor=\"middle\" x=\"474.955\" y=\"-551.506\">has-part</text>\n",
       "</g>\n",
       "<!-- Mary&#45;01&#45;&#45;Leaf&#45;01 -->\n",
       "<g class=\"edge\" id=\"edge44\"><title>Mary-01--Leaf-01</title>\n",
       "<path d=\"M436.098,-608.202C455.999,-599.06 482.17,-585.205 502.35,-573.202\" fill=\"none\" stroke=\"black\" stroke-width=\"0.5\"/>\n",
       "<polygon fill=\"black\" points=\"511.157,-567.84 504.955,-576.884 506.886,-570.44 502.615,-573.04 502.615,-573.04 502.615,-573.04 506.886,-570.44 500.275,-569.197 511.157,-567.84 511.157,-567.84\" stroke=\"black\" stroke-width=\"0.5\"/>\n",
       "<text font-family=\"Titillium Web\" font-size=\"11.00\" text-anchor=\"middle\" x=\"495.491\" y=\"-592.379\">has-part</text>\n",
       "</g>\n",
       "<!-- Leaf&#45;01&#45;&#45;Branch&#45;01 -->\n",
       "<g class=\"edge\" id=\"edge45\"><title>Leaf-01--Branch-01</title>\n",
       "<path d=\"M505.473,-542.107C479.166,-537.988 439.242,-534.155 408.594,-532.654\" fill=\"none\" stroke=\"black\" stroke-width=\"0.5\"/>\n",
       "<polygon fill=\"black\" points=\"398.589,-532.237 408.768,-528.157 403.585,-532.445 408.581,-532.653 408.581,-532.653 408.581,-532.653 403.585,-532.445 408.393,-537.149 398.589,-532.237 398.589,-532.237\" stroke=\"black\" stroke-width=\"0.5\"/>\n",
       "<text font-family=\"Titillium Web\" font-size=\"11.00\" text-anchor=\"middle\" x=\"475.826\" y=\"-538.955\">is-part-of</text>\n",
       "</g>\n",
       "<!-- Leaf&#45;01&#45;&#45;Branch&#45;02 -->\n",
       "<g class=\"edge\" id=\"edge46\"><title>Leaf-01--Branch-02</title>\n",
       "<path d=\"M528.158,-531.654C523.779,-523.068 517.476,-512.686 511.034,-503.266\" fill=\"none\" stroke=\"black\" stroke-width=\"0.5\"/>\n",
       "<polygon fill=\"black\" points=\"505.131,-494.965 514.594,-500.507 508.029,-499.04 510.926,-503.115 510.926,-503.115 510.926,-503.115 508.029,-499.04 507.259,-505.723 505.131,-494.965 505.131,-494.965\" stroke=\"black\" stroke-width=\"0.5\"/>\n",
       "<text font-family=\"Titillium Web\" font-size=\"11.00\" text-anchor=\"middle\" x=\"541.267\" y=\"-503.952\">is-part-of</text>\n",
       "</g>\n",
       "<!-- Leaf&#45;01&#45;&#45;Mary&#45;01 -->\n",
       "<g class=\"edge\" id=\"edge47\"><title>Leaf-01--Mary-01</title>\n",
       "<path d=\"M505.625,-558.346C485.596,-567.425 458.525,-581.707 437.73,-594.061\" fill=\"none\" stroke=\"black\" stroke-width=\"0.5\"/>\n",
       "<polygon fill=\"black\" points=\"428.953,-599.396 435.161,-590.357 433.226,-596.799 437.498,-594.202 437.498,-594.202 437.498,-594.202 433.226,-596.799 439.836,-598.047 428.953,-599.396 428.953,-599.396\" stroke=\"black\" stroke-width=\"0.5\"/>\n",
       "<text font-family=\"Titillium Web\" font-size=\"11.00\" text-anchor=\"middle\" x=\"442.956\" y=\"-580.834\">is-part-of</text>\n",
       "</g>\n",
       "<!-- Leaf&#45;01&#45;&#45;Sophie&#45;01 -->\n",
       "<g class=\"edge\" id=\"edge48\"><title>Leaf-01--Sophie-01</title>\n",
       "<path d=\"M548.277,-568.013C569.513,-588.256 608.803,-620.757 638.509,-643.03\" fill=\"none\" stroke=\"black\" stroke-width=\"0.5\"/>\n",
       "<polygon fill=\"black\" points=\"646.611,-649.023 635.895,-646.694 642.591,-646.049 638.571,-643.076 638.571,-643.076 638.571,-643.076 642.591,-646.049 641.247,-639.458 646.611,-649.023 646.611,-649.023\" stroke=\"black\" stroke-width=\"0.5\"/>\n",
       "<text font-family=\"Titillium Web\" font-size=\"11.00\" text-anchor=\"middle\" x=\"567.331\" y=\"-613.007\">is-eaten-by</text>\n",
       "</g>\n",
       "<!-- Sophie&#45;01&#45;&#45;Leaf&#45;01 -->\n",
       "<g class=\"edge\" id=\"edge49\"><title>Sophie-01--Leaf-01</title>\n",
       "<path d=\"M662.318,-648.82C640.372,-627.9 599.145,-593.889 569.139,-571.604\" fill=\"none\" stroke=\"black\" stroke-width=\"0.5\"/>\n",
       "<polygon fill=\"black\" points=\"560.999,-565.65 571.727,-567.921 565.035,-568.602 569.07,-571.554 569.07,-571.554 569.07,-571.554 565.035,-568.602 566.414,-575.186 560.999,-565.65 560.999,-565.65\" stroke=\"black\" stroke-width=\"0.5\"/>\n",
       "<text font-family=\"Titillium Web\" font-size=\"11.00\" text-anchor=\"middle\" x=\"601.809\" y=\"-597.034\">eats</text>\n",
       "</g>\n",
       "<!-- Sophie&#45;01&#45;&#45;Leo&#45;01 -->\n",
       "<g class=\"edge\" id=\"edge50\"><title>Sophie-01--Leo-01</title>\n",
       "<path d=\"M710.517,-663.552C726.586,-659.762 745.934,-654.212 762.493,-648.682\" fill=\"none\" stroke=\"black\" stroke-width=\"0.5\"/>\n",
       "<polygon fill=\"black\" points=\"772.388,-645.258 764.409,-652.781 767.663,-646.893 762.938,-648.529 762.938,-648.529 762.938,-648.529 767.663,-646.893 761.466,-644.276 772.388,-645.258 772.388,-645.258\" stroke=\"black\" stroke-width=\"0.5\"/>\n",
       "<text font-family=\"Titillium Web\" font-size=\"11.00\" text-anchor=\"middle\" x=\"770.755\" y=\"-658.389\">is-eaten-by</text>\n",
       "</g>\n",
       "<!-- Leo&#45;01&#45;&#45;Sophie&#45;01 -->\n",
       "<g class=\"edge\" id=\"edge51\"><title>Leo-01--Sophie-01</title>\n",
       "<path d=\"M772.404,-633.324C757.112,-636.672 737.685,-642.046 720.381,-647.613\" fill=\"none\" stroke=\"black\" stroke-width=\"0.5\"/>\n",
       "<polygon fill=\"black\" points=\"710.486,-650.899 718.558,-643.477 715.231,-649.323 719.976,-647.747 719.976,-647.747 719.976,-647.747 715.231,-649.323 721.395,-652.018 710.486,-650.899 710.486,-650.899\" stroke=\"black\" stroke-width=\"0.5\"/>\n",
       "<text font-family=\"Titillium Web\" font-size=\"11.00\" text-anchor=\"middle\" x=\"730.258\" y=\"-644.487\">eats</text>\n",
       "</g>\n",
       "</g>\n",
       "</svg>"
      ],
      "text/plain": [
       "<IPython.core.display.SVG object>"
      ]
     },
     "execution_count": 19,
     "metadata": {},
     "output_type": "execute_result"
    }
   ],
   "source": [
    "onto.draw_graph(layout=\"force directed\")"
   ]
  },
  {
   "cell_type": "code",
   "execution_count": 20,
   "metadata": {},
   "outputs": [
    {
     "data": {
      "application/vnd.jupyter.widget-view+json": {
       "model_id": "6f097479ac60445eb07df456b8249ada",
       "version_major": 2,
       "version_minor": 0
      },
      "text/plain": [
       "VBox(children=(OntoeditWidget(layout=Layout(height='100%', width='90%'), value='eaten by Leo-01'), Output()), …"
      ]
     },
     "metadata": {},
     "output_type": "display_data"
    }
   ],
   "source": [
    "q1_edit = CnlQueryForConcept('query_01.encnl',onto=onto)\n",
    "q1_edit"
   ]
  },
  {
   "cell_type": "code",
   "execution_count": 21,
   "metadata": {},
   "outputs": [
    {
     "data": {
      "text/html": [
       "<div>\n",
       "<style scoped>\n",
       "    .dataframe tbody tr th:only-of-type {\n",
       "        vertical-align: middle;\n",
       "    }\n",
       "\n",
       "    .dataframe tbody tr th {\n",
       "        vertical-align: top;\n",
       "    }\n",
       "\n",
       "    .dataframe thead th {\n",
       "        text-align: right;\n",
       "    }\n",
       "</style>\n",
       "<table border=\"1\" class=\"dataframe\">\n",
       "  <thead>\n",
       "    <tr style=\"text-align: right;\">\n",
       "      <th></th>\n",
       "      <th>Instance</th>\n",
       "      <th>is-eaten-by</th>\n",
       "      <th>eats</th>\n",
       "    </tr>\n",
       "  </thead>\n",
       "  <tbody>\n",
       "    <tr>\n",
       "      <th>0</th>\n",
       "      <td>Sophie-01</td>\n",
       "      <td>Leo-01</td>\n",
       "      <td>Leaf-01</td>\n",
       "    </tr>\n",
       "  </tbody>\n",
       "</table>\n",
       "</div>"
      ],
      "text/plain": [
       "    Instance is-eaten-by     eats\n",
       "0  Sophie-01      Leo-01  Leaf-01"
      ]
     },
     "execution_count": 21,
     "metadata": {},
     "output_type": "execute_result"
    }
   ],
   "source": [
    "onto.select_instances_of(q1_edit.getvalue())"
   ]
  },
  {
   "cell_type": "code",
   "execution_count": 22,
   "metadata": {},
   "outputs": [
    {
     "name": "stdout",
     "output_type": "stream",
     "text": [
      "{\"concluded\":\"Leo-01 is an animal.\",\"by\":[\r\n",
      "    {\"expr\":\"Every lion is an animal.\"},\r\n",
      "    {\"expr\":\"Leo-01 is a lion.\"}]}\r\n",
      "\r\n",
      "\n"
     ]
    }
   ],
   "source": [
    "print(onto.why(\"Leo-01 is an animal?\"))"
   ]
  },
  {
   "cell_type": "code",
   "execution_count": 23,
   "metadata": {},
   "outputs": [
    {
     "data": {
      "text/html": [
       "<div>\n",
       "<style scoped>\n",
       "    .dataframe tbody tr th:only-of-type {\n",
       "        vertical-align: middle;\n",
       "    }\n",
       "\n",
       "    .dataframe tbody tr th {\n",
       "        vertical-align: top;\n",
       "    }\n",
       "\n",
       "    .dataframe thead th {\n",
       "        text-align: right;\n",
       "    }\n",
       "</style>\n",
       "<table border=\"1\" class=\"dataframe\">\n",
       "  <thead>\n",
       "    <tr style=\"text-align: right;\">\n",
       "      <th></th>\n",
       "      <th>a1</th>\n",
       "      <th>a2</th>\n",
       "    </tr>\n",
       "  </thead>\n",
       "  <tbody>\n",
       "    <tr>\n",
       "      <th>0</th>\n",
       "      <td>Leo-01</td>\n",
       "      <td>Sophie-01</td>\n",
       "    </tr>\n",
       "  </tbody>\n",
       "</table>\n",
       "</div>"
      ],
      "text/plain": [
       "       a1         a2\n",
       "0  Leo-01  Sophie-01"
      ]
     },
     "execution_count": 23,
     "metadata": {},
     "output_type": "execute_result"
    }
   ],
   "source": [
    "onto.sparql_query(CQL(\"\"\"select ?a1 ?a2 {\n",
    "                            ?a1 rdf:type <animal>. \n",
    "                            ?a2 rdf:type <animal>. \n",
    "                            ?a1 <eats> ?a2. \n",
    "                        }\"\"\",\"http://cognitum.eu/african_wildlife#\"))"
   ]
  },
  {
   "cell_type": "code",
   "execution_count": null,
   "metadata": {},
   "outputs": [],
   "source": []
  }
 ],
 "metadata": {
  "kernelspec": {
   "display_name": "Python 3",
   "language": "python",
   "name": "python3"
  },
  "language_info": {
   "codemirror_mode": {
    "name": "ipython",
    "version": 3
   },
   "file_extension": ".py",
   "mimetype": "text/x-python",
   "name": "python",
   "nbconvert_exporter": "python",
   "pygments_lexer": "ipython3",
   "version": "3.6.8"
  },
  "widgets": {
   "application/vnd.jupyter.widget-state+json": {
    "state": {
     "037f1754f4dd4ad58c88763c16de89de": {
      "model_module": "@jupyter-widgets/base",
      "model_module_version": "1.1.0",
      "model_name": "LayoutModel",
      "state": {
       "height": "100%",
       "width": "90%"
      }
     },
     "08826d1d1e2d4efa9364b5d2bafa3c93": {
      "model_module": "@jupyter-widgets/base",
      "model_module_version": "1.1.0",
      "model_name": "LayoutModel",
      "state": {
       "height": "300px"
      }
     },
     "08a658b923de47b7add2517b8353da1a": {
      "model_module": "@jupyter-widgets/base",
      "model_module_version": "1.1.0",
      "model_name": "LayoutModel",
      "state": {}
     },
     "08c30bf83c284e6ebe21cc3249cd99ba": {
      "model_module": "ontoedit",
      "model_module_version": "1.1.0",
      "model_name": "OntoeditModel",
      "state": {
       "_model_module_version": "1.1.0",
       "_view_module_version": "",
       "cursor": 191,
       "hints": "Every<br/>Every-single-thing<br/>If<br/>Leo-01<br/>Mary-01<br/>No<br/>Nothing<br/>Something<br/>Sophie-01<br/>The<br/>X",
       "hintsX": 191,
       "layout": "IPY_MODEL_951c1fa30fea488a8ae1578cede4b5fe",
       "value": "Every carnivorous-plant must eat an animal.\nEvery carnivor must eat an animal.\nEvery omnivore must eat a plant.\nEvery branch must be-part-of a tree.\nEvery plant-part must be-part-of a plant.\n\nComment: 'Role equivalence and inverted roles'.\nX has-part Y if-and-only-if Y is-part-of X.\nX eats Y if-and-only-if Y is-eaten-by X.\n\nComment: 'Role subsumptions'.\nIf X is-part-of Y then X is-part-of Y.\nIf X has-part something that has-part Y then X has-part Y.\n\nComment: 'Complex role subsumptions'.\nIf X is-part-of something that is-part-of Y then X is-part-of Y.\n"
      }
     },
     "0cfbf011af6241ebbcc675d701aac5be": {
      "model_module": "@jupyter-widgets/controls",
      "model_module_version": "1.4.0",
      "model_name": "VBoxModel",
      "state": {
       "children": [
        "IPY_MODEL_99075eefb8ad4a5087de5fbfbb2e2a8c",
        "IPY_MODEL_26cf7a97df4f42b6af33ce787196e2da"
       ],
       "layout": "IPY_MODEL_4aafc9319e7743f8985cdc669f22cab5"
      }
     },
     "0ee4e8ad62ab43f4b5b438a66a7f42b5": {
      "model_module": "@jupyter-widgets/base",
      "model_module_version": "1.1.0",
      "model_name": "LayoutModel",
      "state": {
       "height": "300px"
      }
     },
     "1786ad24fa9d463aa9ad86dcacd6b971": {
      "model_module": "@jupyter-widgets/base",
      "model_module_version": "1.1.0",
      "model_name": "LayoutModel",
      "state": {}
     },
     "194e683e49954beab66c82f87eec0560": {
      "model_module": "ontoedit",
      "model_module_version": "1.1.0",
      "model_name": "OntoeditModel",
      "state": {
       "_model_module_version": "1.1.0",
       "_view_module_version": "",
       "cursor": 15,
       "hints": "&lt;natural number&gt;",
       "hintsX": 9,
       "layout": "IPY_MODEL_54500e1db47043b29c2725eaf17f81f6",
       "value": "eaten by Leo-01"
      }
     },
     "197ff87aa0754c10a5bf9d6054ec2664": {
      "model_module": "@jupyter-widgets/controls",
      "model_module_version": "1.4.0",
      "model_name": "VBoxModel",
      "state": {
       "children": [
        "IPY_MODEL_416b7202da814b9095cb90fed53606c3",
        "IPY_MODEL_dd75b77ca52a43a9868c62b289a4e4e1"
       ],
       "layout": "IPY_MODEL_c7fe458b7f814978a92e90b0b53c295c"
      }
     },
     "1a817713ce83451c8259b7b8600da6fb": {
      "model_module": "@jupyter-widgets/base",
      "model_module_version": "1.1.0",
      "model_name": "LayoutModel",
      "state": {
       "height": "100%",
       "width": "90%"
      }
     },
     "1d27dea574734e228e02e981579f0e48": {
      "model_module": "ontoedit",
      "model_module_version": "1.1.0",
      "model_name": "OntoeditModel",
      "state": {
       "_model_module_version": "1.1.0",
       "_view_module_version": "",
       "layout": "IPY_MODEL_037f1754f4dd4ad58c88763c16de89de",
       "value": "Sophie loves Leo.\nLeo loves Sophie."
      }
     },
     "2401f4a10a284f68920b1eb13a0ef3f1": {
      "model_module": "@jupyter-widgets/output",
      "model_module_version": "1.0.0",
      "model_name": "OutputModel",
      "state": {
       "layout": "IPY_MODEL_d810833472c54ff1a38f821261445bdb"
      }
     },
     "26cf7a97df4f42b6af33ce787196e2da": {
      "model_module": "@jupyter-widgets/output",
      "model_module_version": "1.0.0",
      "model_name": "OutputModel",
      "state": {
       "layout": "IPY_MODEL_c370339aafb24857915cb2b2d2ab7980"
      }
     },
     "27cf37417f84476da68ac933a85143a5": {
      "model_module": "ontoedit",
      "model_module_version": "1.1.0",
      "model_name": "OntoeditModel",
      "state": {
       "_model_module_version": "1.1.0",
       "_view_module_version": "",
       "layout": "IPY_MODEL_6834615b88754ba992949979ad4896da",
       "value": "eaten by Leo-01"
      }
     },
     "2a57077dcfc6408f910fcdd1069fb533": {
      "model_module": "@jupyter-widgets/base",
      "model_module_version": "1.1.0",
      "model_name": "LayoutModel",
      "state": {
       "height": "100px"
      }
     },
     "2b1178c8982c4d7f8bd00f05c2a0ab9f": {
      "model_module": "@jupyter-widgets/base",
      "model_module_version": "1.1.0",
      "model_name": "LayoutModel",
      "state": {
       "height": "100%",
       "width": "90%"
      }
     },
     "34a127ddc9f3425d855562e734e8582e": {
      "model_module": "@jupyter-widgets/base",
      "model_module_version": "1.1.0",
      "model_name": "LayoutModel",
      "state": {
       "height": "100%",
       "width": "90%"
      }
     },
     "355b5ed96daf48f38e261d20f99eb26b": {
      "model_module": "@jupyter-widgets/controls",
      "model_module_version": "1.4.0",
      "model_name": "VBoxModel",
      "state": {
       "children": [
        "IPY_MODEL_8b7f1503cd5d4af7bedb96db2bc9826b",
        "IPY_MODEL_3d934eb24f9b4005b831504a0e4baa3e"
       ],
       "layout": "IPY_MODEL_0ee4e8ad62ab43f4b5b438a66a7f42b5"
      }
     },
     "379b403b772848b184590efb077753db": {
      "model_module": "@jupyter-widgets/base",
      "model_module_version": "1.1.0",
      "model_name": "LayoutModel",
      "state": {}
     },
     "38238e85b5bb4623a8ef8b3af0729a67": {
      "model_module": "@jupyter-widgets/base",
      "model_module_version": "1.1.0",
      "model_name": "LayoutModel",
      "state": {}
     },
     "3d934eb24f9b4005b831504a0e4baa3e": {
      "model_module": "@jupyter-widgets/output",
      "model_module_version": "1.0.0",
      "model_name": "OutputModel",
      "state": {
       "layout": "IPY_MODEL_f2dac51fb55347f2bf9f5f781b9e4558"
      }
     },
     "3e2147d0702741bbb1963715683ba2ff": {
      "model_module": "@jupyter-widgets/output",
      "model_module_version": "1.0.0",
      "model_name": "OutputModel",
      "state": {
       "layout": "IPY_MODEL_55f4f87242224575b52e41afa40e5e2d"
      }
     },
     "416b7202da814b9095cb90fed53606c3": {
      "model_module": "ontoedit",
      "model_module_version": "1.1.0",
      "model_name": "OntoeditModel",
      "state": {
       "_model_module_version": "1.1.0",
       "_view_module_version": "",
       "layout": "IPY_MODEL_bfdcdc39eeb04946a97cd9562372bc04",
       "value": "Sophie loves Leo.\nLeo loves Sophie."
      }
     },
     "42805aa70f7945db96a25007c189bac0": {
      "model_module": "ontoedit",
      "model_module_version": "1.1.0",
      "model_name": "OntoeditModel",
      "state": {
       "_model_module_version": "1.1.0",
       "_view_module_version": "",
       "layout": "IPY_MODEL_d8f23781ffc74fb797fe78016d7b58e4",
       "value": "Every-single-thing that is a plant and-or is a plant-part is a herb.\nNo herb is an animal.\n\nEvery carnivore eats nothing-but animals.\nEvery lion eats nothing-but herbivores.\n\nEvery herbivore eats nothing-but herb.\n\nAnything either is a carnivore, is a herbivore or is an omnivore or-something-else.\nAnything either is a branch, is a leaf or is a twig or-something-else.\n\nNo giraffe is a lion.\nEvery palm-tree is not a tree.\n"
      }
     },
     "43ef90ea44f7483cae76acd6a8bf06db": {
      "model_module": "@jupyter-widgets/base",
      "model_module_version": "1.1.0",
      "model_name": "LayoutModel",
      "state": {
       "height": "100px"
      }
     },
     "4636ed4b6a9b4aa29f2b8c9efe57f732": {
      "model_module": "ontoedit",
      "model_module_version": "1.1.0",
      "model_name": "OntoeditModel",
      "state": {
       "_model_module_version": "1.1.0",
       "_view_module_version": "",
       "cursor": 199,
       "hints": "Branch-01<br/>Every<br/>Every-single-thing<br/>If<br/>Leo-01<br/>Mary-01<br/>No<br/>Nothing<br/>Something<br/>Sophie-01<br/>The<br/>X",
       "hintsX": 199,
       "layout": "IPY_MODEL_6bc39517a9044c0d95ed9158711c5ff5",
       "value": "Leo-01 is a lion.\nLeo-01 eats Sophie-01.\nSophie-01 is a giraffe.\nSophie-01 eats Leaf-01.\nMary-01 is a tree.\nLeaf-01 is a leaf and is-part-of Branch-02.\nBranch-02 is a branch and is-part-of Branch-01.\nBranch-01 is a branch and is-part-of Mary-01.\nBranch-03 is a branch."
      }
     },
     "4974f63235624cb0950d09b959338aac": {
      "model_module": "@jupyter-widgets/controls",
      "model_module_version": "1.4.0",
      "model_name": "VBoxModel",
      "state": {
       "children": [
        "IPY_MODEL_4636ed4b6a9b4aa29f2b8c9efe57f732",
        "IPY_MODEL_8f2ee93c18ed4583894db21311e14ed9"
       ],
       "layout": "IPY_MODEL_df45bd0d614e4f8dbc1d38058dc993e7"
      }
     },
     "4a322469244d444ca5d1bcb372403f27": {
      "model_module": "@jupyter-widgets/base",
      "model_module_version": "1.1.0",
      "model_name": "LayoutModel",
      "state": {
       "height": "100%",
       "width": "90%"
      }
     },
     "4a569f7988e8471dafe05c22d22bd4ea": {
      "model_module": "ontoedit",
      "model_module_version": "1.1.0",
      "model_name": "OntoeditModel",
      "state": {
       "_model_module_version": "1.1.0",
       "_view_module_version": "",
       "cursor": 173,
       "hints": "&lt;Proper-Name&gt;<br/>Every<br/>Every-single-thing<br/>If<br/>No<br/>Nothing<br/>Something<br/>The<br/>X",
       "hintsX": 173,
       "layout": "IPY_MODEL_4a322469244d444ca5d1bcb372403f27",
       "value": "Every-single-thing that is a plant and-or is a plant-part is a herb.\nNo herb is an animal.\n\nEvery carnivore eats nothing-but animals.\nEvery lion eats nothing-but herbivores.\n\nEvery herbivore eats nothing-but herb.\n\nAnything either is a carnivore, is a herbivore or is an omnivore or-something-else.\nAnything either is a branch, is a leaf or is a twig or-something-else.\n\nNo giraffe is a lion.\nEvery palm-tree is not a tree.\n"
      }
     },
     "4aafc9319e7743f8985cdc669f22cab5": {
      "model_module": "@jupyter-widgets/base",
      "model_module_version": "1.1.0",
      "model_name": "LayoutModel",
      "state": {
       "height": "300px"
      }
     },
     "4d3213ec0b2c4ad69c1a66a3369ab474": {
      "model_module": "@jupyter-widgets/controls",
      "model_module_version": "1.4.0",
      "model_name": "VBoxModel",
      "state": {
       "children": [
        "IPY_MODEL_e736dda042e74aac96c321bed782241e",
        "IPY_MODEL_7cb5ce8716bf4a209b03b4910d97a0e2"
       ],
       "layout": "IPY_MODEL_6dfbc4a9245c453fb126ea93c284477f"
      }
     },
     "4f0a97990f8943818fc14ed4fd385830": {
      "model_module": "@jupyter-widgets/output",
      "model_module_version": "1.0.0",
      "model_name": "OutputModel",
      "state": {
       "layout": "IPY_MODEL_ea50e21fc54b4d97b922faa6337bdfe7"
      }
     },
     "50e4b95344d64a99b4f7543b017bf5a4": {
      "model_module": "@jupyter-widgets/base",
      "model_module_version": "1.1.0",
      "model_name": "LayoutModel",
      "state": {
       "height": "300px"
      }
     },
     "50f1befbf50548f9869037abe911c6c2": {
      "model_module": "@jupyter-widgets/output",
      "model_module_version": "1.0.0",
      "model_name": "OutputModel",
      "state": {
       "layout": "IPY_MODEL_d9c2b88b505b48a4b6c2c57cd93f7776"
      }
     },
     "54500e1db47043b29c2725eaf17f81f6": {
      "model_module": "@jupyter-widgets/base",
      "model_module_version": "1.1.0",
      "model_name": "LayoutModel",
      "state": {
       "height": "100%",
       "width": "90%"
      }
     },
     "54e213dd70db416783e9f4dd9eb8473a": {
      "model_module": "@jupyter-widgets/controls",
      "model_module_version": "1.4.0",
      "model_name": "VBoxModel",
      "state": {
       "children": [
        "IPY_MODEL_68ff3e69ff0948c7b1d6ea2e0727d6f1",
        "IPY_MODEL_cdb640c492eb40d986642b7b0cf89db1"
       ],
       "layout": "IPY_MODEL_43ef90ea44f7483cae76acd6a8bf06db"
      }
     },
     "55bb21d754f845a0b76771e91480da21": {
      "model_module": "@jupyter-widgets/controls",
      "model_module_version": "1.4.0",
      "model_name": "VBoxModel",
      "state": {
       "children": [
        "IPY_MODEL_08c30bf83c284e6ebe21cc3249cd99ba",
        "IPY_MODEL_8e63218be8c84392b59914249922d662"
       ],
       "layout": "IPY_MODEL_e278e56780d1428c826f7d861d407183"
      }
     },
     "55f4f87242224575b52e41afa40e5e2d": {
      "model_module": "@jupyter-widgets/base",
      "model_module_version": "1.1.0",
      "model_name": "LayoutModel",
      "state": {}
     },
     "56a2eb99cf15417e8568cc49848857f1": {
      "model_module": "ontoedit",
      "model_module_version": "1.1.0",
      "model_name": "OntoeditModel",
      "state": {
       "_model_module_version": "1.1.0",
       "_view_module_version": "",
       "layout": "IPY_MODEL_7e5fec00c2ad42f1b02a76e0e2b34c6d",
       "value": "Every carnivorous-plant must eat an animal.\nEvery carnivor must eat an animal.\nEvery omnivore must eat a plant.\nEvery branch must be-part-of a tree.\nEvery plant-part must be-part-of a plant.\n\nComment: 'Role equivalence and inverted roles'.\nX has-part Y if-and-only-if Y is-part-of X.\nX eats Y if-and-only-if Y is-eaten-by X.\n\nComment: 'Role subsumptions'.\nIf X is-part-of Y then X is-part-of Y.\nIf X has-part something that has-part Y then X has-part Y.\n\nComment: 'Complex role subsumptions'.\nIf X is-part-of something that is-part-of Y then X is-part-of Y.\n"
      }
     },
     "5aea4cc758c6473193e64e8a9da92f28": {
      "model_module": "@jupyter-widgets/base",
      "model_module_version": "1.1.0",
      "model_name": "LayoutModel",
      "state": {}
     },
     "5ca39e2e45c9445eb22413a85950317f": {
      "model_module": "@jupyter-widgets/base",
      "model_module_version": "1.1.0",
      "model_name": "LayoutModel",
      "state": {
       "height": "100%",
       "width": "90%"
      }
     },
     "5f92d7eda9e4489591fce827af8d659b": {
      "model_module": "@jupyter-widgets/base",
      "model_module_version": "1.1.0",
      "model_name": "LayoutModel",
      "state": {}
     },
     "6140f382320b46d8bf1bbe77cd6ff9d2": {
      "model_module": "@jupyter-widgets/controls",
      "model_module_version": "1.4.0",
      "model_name": "VBoxModel",
      "state": {
       "children": [
        "IPY_MODEL_63c4a550777447f1896522d0db7ab5f5",
        "IPY_MODEL_50f1befbf50548f9869037abe911c6c2"
       ],
       "layout": "IPY_MODEL_50e4b95344d64a99b4f7543b017bf5a4"
      }
     },
     "637bf119d26145cd9b1c74a314f17fb0": {
      "model_module": "@jupyter-widgets/base",
      "model_module_version": "1.1.0",
      "model_name": "LayoutModel",
      "state": {
       "height": "300px"
      }
     },
     "63c4a550777447f1896522d0db7ab5f5": {
      "model_module": "ontoedit",
      "model_module_version": "1.1.0",
      "model_name": "OntoeditModel",
      "state": {
       "_model_module_version": "1.1.0",
       "_view_module_version": "",
       "cursor": 1198,
       "hints": "Every<br/>Every-single-thing<br/>If<br/>Leo<br/>No<br/>Nothing<br/>Something<br/>Sophie<br/>The<br/>X",
       "hintsX": 1198,
       "layout": "IPY_MODEL_f4ea8cdd8b5c4157a727af4af9d67cb3",
       "value": "Title: 'African Wildlife'.\nAuthor: 'PaweĹ‚ KapĹ‚aĹ„ski'.\nBased-On: \n 'A Semantic Web Primer.'\n 'Antoniou, G, van Harmelen, F.'\n 'MIT Press, 2003.'\n 'http://www.csd.uoc.gr/~hy566/SWbook.pdf'\n.\n\nComment:\n////// Examples of Possible Questions  /////////////////////////////   \n//Who-Or-What:\n// * is a carnivore ?                                      \n// * is an herbivore ?                                         \n// * is an animal that eats grass ?                            \n// * is-part-of a tree ?  \n// * is eaten by lion?           \n////////////////////////////////////////////////////////////////////.\n\n\n\nPart-1: 'simple hierarchy of beings'.\n\nComment: 'Lets name our instances'.\nSophie is a giraffe.\nLeo is a lion.\n\nComment: 'Lets specify the hierarchy of beings'. \nComment: 'What is what?'.\nEvery lion is an animal.\nEvery giraffe is an animal.\n\nComment: 'Moreover'.\nEvery impala is an animal.\nEvery omnivore is an animal.\nEvery rock-dassie is an animal.\nEvery warthog is an animal.\nEvery carnivore is an animal.\nEvery herbivore is an animal.\nEvery elephant is a herbivore.\n\nComment: 'There are also plants there:'.\nEvery tree is a plant.\nEvery grass is a plant.\nEvery palm-tree is a plant.\n\nPart-2: adjectives and specifications.\n\nComment: 'We cannot use adjectives directly'.\nComment: 'To specify adjectives we need to transform them into sets that have form of buzzy-words'.\n\nEvery tasty-plant is a plant.\nEvery carnivorous-plant is a plant.\n\nComment: 'Similarly we can do to make something more and more specific'.\nEvery branch is a plant-part.\nEvery phloem is a plant-part.\nEvery root is a plant-part.\nEvery parsnip is a root.\nEvery stem is a plant-part.\nEvery twig is a plant-part.\nEvery xylem is a plant-part.\nEvery leaf is a plant-part.\nEvery fruiting-body is a plant-part.\nEvery berry is a fruiting-body.\nEvery apple is a fruiting-body.\n\nPart-3: Disjointness.\n\nComment: 'We deal with Open World Assumption, therefore we need to specify explicitly if two things are different'.\nComment: 'E.g.: We need to specify explicitly that animal is not a plant'.\nEvery animal is not a plant.\nEvery giraffe is not a lion.\nEvery palm-tree is not a tree.\n\nComment: 'Or we can use it - it means the same'.\nNo animal is a plant.\n\nPart-4: Simple relations.\n\nComment: To specify relation beetween beings.\nEvery lion eats an impala.\nEvery carnivorous-plant eats an animal.\n\nComment: 'I.e. be part of is a part-whole relation'.\nEvery branch is-part-of a tree.\nEvery plant-part is-proper-part-of a plant.\nEvery xylem is-proper-part-of a stem.\nEvery phloem is-proper-part-of a stem.\n\nComment:  'Specifying the range of relation. The difference? One is that lion eats impala. Second that it eats only herbivore' -> impala must be herbivore.\nEvery lion eats nothing-but herbivores.\n\nPart-5: 'Complex relations'.\n\nEvery palm-tree has-part that is not a branch.\nEvery warthog eats an animal and eats a fruiting-body and eats a grass and eats a root.\nEvery giraffe eats nothing-but things that are leaves and-or are twigs.\nEvery leaf is-part-of something that is a branch and-or is a twig.\nEvery tasty-plant is-eaten-by a carnivore and is-eaten-by a herbivore.\nEvery-single-thing eats nothing-but things that are animals and-or are plants and-or are-part-of animals and-or are-part-of plants.\n\nPart-6: 'Reflexion'.\n\nNothing is-proper-part-of itself.\n\nPart-7: Equivalence.\n\nComment: 'What it means to be a carnivore, omnivore or herbivore? We specify exact definitions here.'.\nEvery-single-thing that eats nothing-but animals and-or eats nothing-but things that are-part-of animals is a carnivore.\nSomething is an omnivore if-and-only-if-it eats an animal and eats a plant and eats something that is-part-of an animal and-or is-part-of a plant.\nSomething is a herbivore if-and-only-if-it eats nothing-but plants and-or eats nothing-but things that are-part-of plants.\n\nPart-8: 'Disjointness'.\n\nAnything either is a carnivore, is a herbivore or is an omnivore or-something-else.\nAnything either is a branch, is a leaf or is a twig or-something-else.\n\nPart-9: 'Relations between roles'.\n\nComment: 'Role equivalence and inverted roles'.\nX has-part Y if-and-only-if Y is-part-of X.\nX eats Y if-and-only-if Y is-eaten-by X.\n\nComment: 'Role subsumptions'.\nIf X is-proper-part-of Y then X is-part-of Y.\nIf X has-part something that has-part Y then X has-part Y.\n\nComment: 'Complex role subsumptions'.\nIf X is-part-of something that is-part-of Y then X is-part-of Y."
      }
     },
     "66578ffca1f043118425062dc0b6f067": {
      "model_module": "@jupyter-widgets/controls",
      "model_module_version": "1.4.0",
      "model_name": "VBoxModel",
      "state": {
       "children": [
        "IPY_MODEL_27cf37417f84476da68ac933a85143a5",
        "IPY_MODEL_f81355e7f2a34681bf8ca14e71dbf938"
       ],
       "layout": "IPY_MODEL_f79246661c1941fb8047812a618edbea"
      }
     },
     "66cefaa10ba1472a846b969c45384ec0": {
      "model_module": "@jupyter-widgets/controls",
      "model_module_version": "1.4.0",
      "model_name": "VBoxModel",
      "state": {
       "children": [
        "IPY_MODEL_6c33a33ec84a476ea62d3b987b12a532",
        "IPY_MODEL_85f2cc17df4e4e429f3682d5f1a9d2a5"
       ],
       "layout": "IPY_MODEL_637bf119d26145cd9b1c74a314f17fb0"
      }
     },
     "6834615b88754ba992949979ad4896da": {
      "model_module": "@jupyter-widgets/base",
      "model_module_version": "1.1.0",
      "model_name": "LayoutModel",
      "state": {
       "height": "100%",
       "width": "90%"
      }
     },
     "687f88667abb40929c0d1ac2acbc9281": {
      "model_module": "ontoedit",
      "model_module_version": "1.1.0",
      "model_name": "OntoeditModel",
      "state": {
       "_model_module_version": "1.1.0",
       "_view_module_version": "",
       "layout": "IPY_MODEL_df07f4cbd3574e08868b7543bb5cb15a",
       "value": "Leo-01 is a lion.\nLeo-01 eats Sophie-01.\nSophie-01 is a giraffe.\nLeo-01 eats Mary-01.\nMary-01 is a palm-tree.\n"
      }
     },
     "68ff3e69ff0948c7b1d6ea2e0727d6f1": {
      "model_module": "ontoedit",
      "model_module_version": "1.1.0",
      "model_name": "OntoeditModel",
      "state": {
       "_model_module_version": "1.1.0",
       "_view_module_version": "",
       "layout": "IPY_MODEL_2b1178c8982c4d7f8bd00f05c2a0ab9f",
       "value": "an animal that loves "
      }
     },
     "6bc39517a9044c0d95ed9158711c5ff5": {
      "model_module": "@jupyter-widgets/base",
      "model_module_version": "1.1.0",
      "model_name": "LayoutModel",
      "state": {
       "height": "100%",
       "width": "90%"
      }
     },
     "6c33a33ec84a476ea62d3b987b12a532": {
      "model_module": "ontoedit",
      "model_module_version": "1.1.0",
      "model_name": "OntoeditModel",
      "state": {
       "_model_module_version": "1.1.0",
       "_view_module_version": "",
       "layout": "IPY_MODEL_5ca39e2e45c9445eb22413a85950317f",
       "value": "Leo-01 is a lion.\nLeo-01 eats Sophie-01.\nSophie-01 is a giraffe.\nLeo-01 eats Mary-01.\nMary-01 is a palm-tree.\n"
      }
     },
     "6dfbc4a9245c453fb126ea93c284477f": {
      "model_module": "@jupyter-widgets/base",
      "model_module_version": "1.1.0",
      "model_name": "LayoutModel",
      "state": {
       "height": "300px"
      }
     },
     "6fa9e122a4ca4267832285e9f3983bba": {
      "model_module": "@jupyter-widgets/base",
      "model_module_version": "1.1.0",
      "model_name": "LayoutModel",
      "state": {}
     },
     "704fa12b89334f67b30097d1c39534c9": {
      "model_module": "@jupyter-widgets/base",
      "model_module_version": "1.1.0",
      "model_name": "LayoutModel",
      "state": {
       "height": "300px"
      }
     },
     "727588c8af22452182710e9c54750d83": {
      "model_module": "@jupyter-widgets/output",
      "model_module_version": "1.0.0",
      "model_name": "OutputModel",
      "state": {
       "layout": "IPY_MODEL_c4809ee837e84bbba2bd1dc44a5cdc69"
      }
     },
     "72b37b61f1ba4540bd4dafa460795b8e": {
      "model_module": "@jupyter-widgets/base",
      "model_module_version": "1.1.0",
      "model_name": "LayoutModel",
      "state": {}
     },
     "7358c3b0bfc140b7ad1d635020c852a5": {
      "model_module": "@jupyter-widgets/controls",
      "model_module_version": "1.4.0",
      "model_name": "VBoxModel",
      "state": {
       "children": [
        "IPY_MODEL_791a2bc1ba2c4ed98805765076095f71",
        "IPY_MODEL_a551c169f0f44b0d8ed33f34d5a4ea9d"
       ],
       "layout": "IPY_MODEL_2a57077dcfc6408f910fcdd1069fb533"
      }
     },
     "791a2bc1ba2c4ed98805765076095f71": {
      "model_module": "ontoedit",
      "model_module_version": "1.1.0",
      "model_name": "OntoeditModel",
      "state": {
       "_model_module_version": "1.1.0",
       "_view_module_version": "",
       "layout": "IPY_MODEL_99f9f6e0b26a4e73858dfbb6017ccbb8",
       "value": "an animal that loves "
      }
     },
     "7cb5ce8716bf4a209b03b4910d97a0e2": {
      "model_module": "@jupyter-widgets/output",
      "model_module_version": "1.0.0",
      "model_name": "OutputModel",
      "state": {
       "layout": "IPY_MODEL_72b37b61f1ba4540bd4dafa460795b8e"
      }
     },
     "7e5fec00c2ad42f1b02a76e0e2b34c6d": {
      "model_module": "@jupyter-widgets/base",
      "model_module_version": "1.1.0",
      "model_name": "LayoutModel",
      "state": {
       "height": "100%",
       "width": "90%"
      }
     },
     "85f2cc17df4e4e429f3682d5f1a9d2a5": {
      "model_module": "@jupyter-widgets/output",
      "model_module_version": "1.0.0",
      "model_name": "OutputModel",
      "state": {
       "layout": "IPY_MODEL_379b403b772848b184590efb077753db"
      }
     },
     "865ed95805f44073ac10f4b4757bd1a0": {
      "model_module": "@jupyter-widgets/base",
      "model_module_version": "1.1.0",
      "model_name": "LayoutModel",
      "state": {
       "height": "100%",
       "width": "90%"
      }
     },
     "88e3f3eb628649cbaa595601364bada4": {
      "model_module": "@jupyter-widgets/base",
      "model_module_version": "1.1.0",
      "model_name": "LayoutModel",
      "state": {
       "height": "300px"
      }
     },
     "89b1bde40ddb4abf9ac1d1cd90dd345a": {
      "model_module": "@jupyter-widgets/base",
      "model_module_version": "1.1.0",
      "model_name": "LayoutModel",
      "state": {
       "height": "100px"
      }
     },
     "8b344392a0d344158becbf95c37546c6": {
      "model_module": "@jupyter-widgets/controls",
      "model_module_version": "1.4.0",
      "model_name": "VBoxModel",
      "state": {
       "children": [
        "IPY_MODEL_56a2eb99cf15417e8568cc49848857f1",
        "IPY_MODEL_f81dc3d2747142f9ac59bd2ccb85dc67"
       ],
       "layout": "IPY_MODEL_f7e95e3d43544ddfb6c69338a006cace"
      }
     },
     "8b52933a93d84df1bc039f960cacf560": {
      "model_module": "@jupyter-widgets/output",
      "model_module_version": "1.0.0",
      "model_name": "OutputModel",
      "state": {
       "layout": "IPY_MODEL_b0bf749d3aa54cb5876f768752e013e2"
      }
     },
     "8b7f1503cd5d4af7bedb96db2bc9826b": {
      "model_module": "ontoedit",
      "model_module_version": "1.1.0",
      "model_name": "OntoeditModel",
      "state": {
       "_model_module_version": "1.1.0",
       "_view_module_version": "",
       "layout": "IPY_MODEL_b18557280c0d4e1b827179460da45136",
       "value": "Leo-01 is a lion.\nLeo-01 eats Sophie-01.\nSophie-01 is a giraffe.\nSophie-01 eats Leaf-01.\nMary-01 is a tree.\nLeaf-01 is a leaf and is-part-of Branch-02.\nBranch-02 is a branch and is-part-of Branch-01.\nBranch-01 is a branch and is-part-of Mary-01.\nBranch-03 is a branch."
      }
     },
     "8e63218be8c84392b59914249922d662": {
      "model_module": "@jupyter-widgets/output",
      "model_module_version": "1.0.0",
      "model_name": "OutputModel",
      "state": {
       "layout": "IPY_MODEL_5aea4cc758c6473193e64e8a9da92f28"
      }
     },
     "8f2ee93c18ed4583894db21311e14ed9": {
      "model_module": "@jupyter-widgets/output",
      "model_module_version": "1.0.0",
      "model_name": "OutputModel",
      "state": {
       "layout": "IPY_MODEL_38238e85b5bb4623a8ef8b3af0729a67"
      }
     },
     "91212d33087f4872ab96d1d2adac582a": {
      "model_module": "@jupyter-widgets/output",
      "model_module_version": "1.0.0",
      "model_name": "OutputModel",
      "state": {
       "layout": "IPY_MODEL_6fa9e122a4ca4267832285e9f3983bba"
      }
     },
     "951c1fa30fea488a8ae1578cede4b5fe": {
      "model_module": "@jupyter-widgets/base",
      "model_module_version": "1.1.0",
      "model_name": "LayoutModel",
      "state": {
       "height": "100%",
       "width": "90%"
      }
     },
     "9536c1856e8a487d8c68984e25b441ce": {
      "model_module": "@jupyter-widgets/base",
      "model_module_version": "1.1.0",
      "model_name": "LayoutModel",
      "state": {
       "height": "300px"
      }
     },
     "9767af0ad60a4f4f84f6fffb5b1addb8": {
      "model_module": "@jupyter-widgets/base",
      "model_module_version": "1.1.0",
      "model_name": "LayoutModel",
      "state": {}
     },
     "99075eefb8ad4a5087de5fbfbb2e2a8c": {
      "model_module": "ontoedit",
      "model_module_version": "1.1.0",
      "model_name": "OntoeditModel",
      "state": {
       "_model_module_version": "1.1.0",
       "_view_module_version": "",
       "layout": "IPY_MODEL_9febe76887f34e8e9ea439b3d6a469bc",
       "value": "Comment: 'Lets name our instances'.\nComment: 'Lets specify the hierarchy of beings'. \nComment: 'What is what?'.\n\nEvery lion is an animal.\nEvery giraffe is an animal.\n\nComment: 'Moreover'.\nEvery impala is an animal.\nEvery omnivore is an animal.\nEvery rock-dassie is an animal.\nEvery warthog is an animal.\nEvery carnivore is an animal.\nEvery herbivore is an animal.\nEvery elephant is a herbivore.\nEvery lion is carnivore.\n\nComment: 'There are also plants there:'.\nEvery tree is a plant.\nEvery grass is a plant.\nEvery palm-tree is a plant.\n\nEvery branch is a plant-part.\nEvery leaf is a plant-part.\nEvery twig is a plant-part.\n\nEvery phloem is a plant-part.\nEvery root is a plant-part.\nEvery parsnip is a root.\nEvery stem is a plant-part.\nEvery xylem is a plant-part.\nEvery fruiting-body is a plant-part.\nEvery berry is a fruiting-body.\nEvery apple is a fruiting-body.\n\nComment: 'We cannot use adjectives directly. To specify adjectives we need to transform them into sets that have form of buzzy-words'.\nEvery tasty-plant is a plant.\nEvery carnivorous-plant is a plant.\n"
      }
     },
     "99f9f6e0b26a4e73858dfbb6017ccbb8": {
      "model_module": "@jupyter-widgets/base",
      "model_module_version": "1.1.0",
      "model_name": "LayoutModel",
      "state": {
       "height": "100%",
       "width": "90%"
      }
     },
     "9d7f76b3359049b99071eba73b8dc427": {
      "model_module": "@jupyter-widgets/controls",
      "model_module_version": "1.4.0",
      "model_name": "VBoxModel",
      "state": {
       "children": [
        "IPY_MODEL_4a569f7988e8471dafe05c22d22bd4ea",
        "IPY_MODEL_727588c8af22452182710e9c54750d83"
       ],
       "layout": "IPY_MODEL_9536c1856e8a487d8c68984e25b441ce"
      }
     },
     "9febe76887f34e8e9ea439b3d6a469bc": {
      "model_module": "@jupyter-widgets/base",
      "model_module_version": "1.1.0",
      "model_name": "LayoutModel",
      "state": {
       "height": "100%",
       "width": "90%"
      }
     },
     "a1d343a6e9ab47b999491d584f4d747b": {
      "model_module": "@jupyter-widgets/controls",
      "model_module_version": "1.4.0",
      "model_name": "VBoxModel",
      "state": {
       "children": [
        "IPY_MODEL_42805aa70f7945db96a25007c189bac0",
        "IPY_MODEL_4f0a97990f8943818fc14ed4fd385830"
       ],
       "layout": "IPY_MODEL_c1e34aeacb524c99a1c32e8cc8c9413a"
      }
     },
     "a23f3db72e844fd38d5d05b950980e06": {
      "model_module": "@jupyter-widgets/base",
      "model_module_version": "1.1.0",
      "model_name": "LayoutModel",
      "state": {
       "height": "100%",
       "width": "90%"
      }
     },
     "a2c7154564514724af74f1f72cd039df": {
      "model_module": "@jupyter-widgets/controls",
      "model_module_version": "1.4.0",
      "model_name": "VBoxModel",
      "state": {
       "children": [
        "IPY_MODEL_194e683e49954beab66c82f87eec0560",
        "IPY_MODEL_e26922aed1324c3cb824535d8f1eba7a"
       ],
       "layout": "IPY_MODEL_89b1bde40ddb4abf9ac1d1cd90dd345a"
      }
     },
     "a551c169f0f44b0d8ed33f34d5a4ea9d": {
      "model_module": "@jupyter-widgets/output",
      "model_module_version": "1.0.0",
      "model_name": "OutputModel",
      "state": {
       "layout": "IPY_MODEL_9767af0ad60a4f4f84f6fffb5b1addb8"
      }
     },
     "acf1c5a99f7843fd8fe8da70d0aac47f": {
      "model_module": "ontoedit",
      "model_module_version": "1.1.0",
      "model_name": "OntoeditModel",
      "state": {
       "_model_module_version": "1.1.0",
       "_view_module_version": "",
       "cursor": 1198,
       "hints": "Every<br/>Every-single-thing<br/>If<br/>Leo<br/>No<br/>Nothing<br/>Something<br/>Sophie<br/>The<br/>X",
       "hintsX": 1198,
       "layout": "IPY_MODEL_1a817713ce83451c8259b7b8600da6fb",
       "value": "Title: 'African Wildlife'.\nAuthor: 'PaweĹ‚ KapĹ‚aĹ„ski'.\nBased-On: \n 'A Semantic Web Primer.'\n 'Antoniou, G, van Harmelen, F.'\n 'MIT Press, 2003.'\n 'http://www.csd.uoc.gr/~hy566/SWbook.pdf'\n.\n\nComment:\n////// Examples of Possible Questions  /////////////////////////////   \n//Who-Or-What:\n// * is a carnivore ?                                      \n// * is an herbivore ?                                         \n// * is an animal that eats grass ?                            \n// * is-part-of a tree ?  \n// * is eaten by lion?           \n////////////////////////////////////////////////////////////////////.\n\n\n\nPart-1: 'simple hierarchy of beings'.\n\nComment: 'Lets name our instances'.\nSophie is a giraffe.\nLeo is a lion.\n\nComment: 'Lets specify the hierarchy of beings'. \nComment: 'What is what?'.\nEvery lion is an animal.\nEvery giraffe is an animal.\n\nComment: 'Moreover'.\nEvery impala is an animal.\nEvery omnivore is an animal.\nEvery rock-dassie is an animal.\nEvery warthog is an animal.\nEvery carnivore is an animal.\nEvery herbivore is an animal.\nEvery elephant is a herbivore.\n\nComment: 'There are also plants there:'.\nEvery tree is a plant.\nEvery grass is a plant.\nEvery palm-tree is a plant.\n\nPart-2: adjectives and specifications.\n\nComment: 'We cannot use adjectives directly'.\nComment: 'To specify adjectives we need to transform them into sets that have form of buzzy-words'.\n\nEvery tasty-plant is a plant.\nEvery carnivorous-plant is a plant.\n\nComment: 'Similarly we can do to make something more and more specific'.\nEvery branch is a plant-part.\nEvery phloem is a plant-part.\nEvery root is a plant-part.\nEvery parsnip is a root.\nEvery stem is a plant-part.\nEvery twig is a plant-part.\nEvery xylem is a plant-part.\nEvery leaf is a plant-part.\nEvery fruiting-body is a plant-part.\nEvery berry is a fruiting-body.\nEvery apple is a fruiting-body.\n\nPart-3: Disjointness.\n\nComment: 'We deal with Open World Assumption, therefore we need to specify explicitly if two things are different'.\nComment: 'E.g.: We need to specify explicitly that animal is not a plant'.\nEvery animal is not a plant.\nEvery giraffe is not a lion.\nEvery palm-tree is not a tree.\n\nComment: 'Or we can use it - it means the same'.\nNo animal is a plant.\n\nPart-4: Simple relations.\n\nComment: To specify relation beetween beings.\nEvery lion eats an impala.\nEvery carnivorous-plant eats an animal.\n\nComment: 'I.e. be part of is a part-whole relation'.\nEvery branch is-part-of a tree.\nEvery plant-part is-proper-part-of a plant.\nEvery xylem is-proper-part-of a stem.\nEvery phloem is-proper-part-of a stem.\n\nComment:  'Specifying the range of relation. The difference? One is that lion eats impala. Second that it eats only herbivore' -> impala must be herbivore.\nEvery lion eats nothing-but herbivores.\n\nPart-5: 'Complex relations'.\n\nEvery palm-tree has-part that is not a branch.\nEvery warthog eats an animal and eats a fruiting-body and eats a grass and eats a root.\nEvery giraffe eats nothing-but things that are leaves and-or are twigs.\nEvery leaf is-part-of something that is a branch and-or is a twig.\nEvery tasty-plant is-eaten-by a carnivore and is-eaten-by a herbivore.\nEvery-single-thing eats nothing-but things that are animals and-or are plants and-or are-part-of animals and-or are-part-of plants.\n\nPart-6: 'Reflexion'.\n\nNothing is-proper-part-of itself.\n\nPart-7: Equivalence.\n\nComment: 'What it means to be a carnivore, omnivore or herbivore? We specify exact definitions here.'.\nEvery-single-thing that eats nothing-but animals and-or eats nothing-but things that are-part-of animals is a carnivore.\nSomething is an omnivore if-and-only-if-it eats an animal and eats a plant and eats something that is-part-of an animal and-or is-part-of a plant.\nSomething is a herbivore if-and-only-if-it eats nothing-but plants and-or eats nothing-but things that are-part-of plants.\n\nPart-8: 'Disjointness'.\n\nAnything either is a carnivore, is a herbivore or is an omnivore or-something-else.\nAnything either is a branch, is a leaf or is a twig or-something-else.\n\nPart-9: 'Relations between roles'.\n\nComment: 'Role equivalence and inverted roles'.\nX has-part Y if-and-only-if Y is-part-of X.\nX eats Y if-and-only-if Y is-eaten-by X.\n\nComment: 'Role subsumptions'.\nIf X is-proper-part-of Y then X is-part-of Y.\nIf X has-part something that has-part Y then X has-part Y.\n\nComment: 'Complex role subsumptions'.\nIf X is-part-of something that is-part-of Y then X is-part-of Y."
      }
     },
     "b0bf749d3aa54cb5876f768752e013e2": {
      "model_module": "@jupyter-widgets/base",
      "model_module_version": "1.1.0",
      "model_name": "LayoutModel",
      "state": {}
     },
     "b18557280c0d4e1b827179460da45136": {
      "model_module": "@jupyter-widgets/base",
      "model_module_version": "1.1.0",
      "model_name": "LayoutModel",
      "state": {
       "height": "100%",
       "width": "90%"
      }
     },
     "b6c1708eb8ab423fbc381678654dde18": {
      "model_module": "ontoedit",
      "model_module_version": "1.1.0",
      "model_name": "OntoeditModel",
      "state": {
       "_model_module_version": "1.1.0",
       "_view_module_version": "",
       "cursor": 166,
       "hints": "&lt;Proper-Name&gt;<br/>Every<br/>Every-single-thing<br/>If<br/>No<br/>Nothing<br/>Something<br/>The<br/>X",
       "hintsX": 166,
       "layout": "IPY_MODEL_865ed95805f44073ac10f4b4757bd1a0",
       "value": "Comment: 'Lets name our instances'.\nComment: 'Lets specify the hierarchy of beings'. \nComment: 'What is what?'.\n\nEvery lion is an animal.\nEvery giraffe is an animal.\n\nComment: 'Moreover'.\nEvery impala is an animal.\nEvery omnivore is an animal.\nEvery rock-dassie is an animal.\nEvery warthog is an animal.\nEvery carnivore is an animal.\nEvery herbivore is an animal.\nEvery elephant is a herbivore.\nEvery lion is carnivore.\n\nComment: 'There are also plants there:'.\nEvery tree is a plant.\nEvery grass is a plant.\nEvery palm-tree is a plant.\n\nEvery branch is a plant-part.\nEvery leaf is a plant-part.\nEvery twig is a plant-part.\n\nEvery phloem is a plant-part.\nEvery root is a plant-part.\nEvery parsnip is a root.\nEvery stem is a plant-part.\nEvery xylem is a plant-part.\nEvery fruiting-body is a plant-part.\nEvery berry is a fruiting-body.\nEvery apple is a fruiting-body.\n\nComment: 'We cannot use adjectives directly. To specify adjectives we need to transform them into sets that have form of buzzy-words'.\nEvery tasty-plant is a plant.\nEvery carnivorous-plant is a plant.\n"
      }
     },
     "ba703b23f64a4ac9bc68ac9552802303": {
      "model_module": "@jupyter-widgets/base",
      "model_module_version": "1.1.0",
      "model_name": "LayoutModel",
      "state": {
       "height": "300px"
      }
     },
     "bb14a3aef3864813a7002faff9fc6b16": {
      "model_module": "ontoedit",
      "model_module_version": "1.1.0",
      "model_name": "OntoeditModel",
      "state": {
       "_model_module_version": "1.1.0",
       "_view_module_version": "",
       "cursor": 89,
       "hints": "&lt;natural number&gt;",
       "hintsX": 80,
       "layout": "IPY_MODEL_c17c106402064e86b728cf51a20e3f93",
       "value": "Leo-01 is a lion.\nLeo-01 eats Sophie-01.\nSophie-01 is a giraffe.\nSophie-01 eats Branch-01.\nMary-01 is a tree.\nBranch-01 is a branch and is-proper-part-of Mary-01.\n"
      }
     },
     "bfdcdc39eeb04946a97cd9562372bc04": {
      "model_module": "@jupyter-widgets/base",
      "model_module_version": "1.1.0",
      "model_name": "LayoutModel",
      "state": {
       "height": "100%",
       "width": "90%"
      }
     },
     "c17c106402064e86b728cf51a20e3f93": {
      "model_module": "@jupyter-widgets/base",
      "model_module_version": "1.1.0",
      "model_name": "LayoutModel",
      "state": {
       "height": "100%",
       "width": "90%"
      }
     },
     "c1e34aeacb524c99a1c32e8cc8c9413a": {
      "model_module": "@jupyter-widgets/base",
      "model_module_version": "1.1.0",
      "model_name": "LayoutModel",
      "state": {
       "height": "300px"
      }
     },
     "c370339aafb24857915cb2b2d2ab7980": {
      "model_module": "@jupyter-widgets/base",
      "model_module_version": "1.1.0",
      "model_name": "LayoutModel",
      "state": {}
     },
     "c4809ee837e84bbba2bd1dc44a5cdc69": {
      "model_module": "@jupyter-widgets/base",
      "model_module_version": "1.1.0",
      "model_name": "LayoutModel",
      "state": {}
     },
     "c7fe458b7f814978a92e90b0b53c295c": {
      "model_module": "@jupyter-widgets/base",
      "model_module_version": "1.1.0",
      "model_name": "LayoutModel",
      "state": {
       "height": "300px"
      }
     },
     "cbb49564f07a44bdb9bdcc6dc6b14644": {
      "model_module": "@jupyter-widgets/base",
      "model_module_version": "1.1.0",
      "model_name": "LayoutModel",
      "state": {}
     },
     "cdb640c492eb40d986642b7b0cf89db1": {
      "model_module": "@jupyter-widgets/output",
      "model_module_version": "1.0.0",
      "model_name": "OutputModel",
      "state": {
       "layout": "IPY_MODEL_cbb49564f07a44bdb9bdcc6dc6b14644"
      }
     },
     "d6c24200739c486fa395a2d6f15f4c29": {
      "model_module": "@jupyter-widgets/controls",
      "model_module_version": "1.4.0",
      "model_name": "VBoxModel",
      "state": {
       "children": [
        "IPY_MODEL_b6c1708eb8ab423fbc381678654dde18",
        "IPY_MODEL_91212d33087f4872ab96d1d2adac582a"
       ],
       "layout": "IPY_MODEL_d786ada62a30448b8081a35a036fbf3d"
      }
     },
     "d786ada62a30448b8081a35a036fbf3d": {
      "model_module": "@jupyter-widgets/base",
      "model_module_version": "1.1.0",
      "model_name": "LayoutModel",
      "state": {
       "height": "300px"
      }
     },
     "d810833472c54ff1a38f821261445bdb": {
      "model_module": "@jupyter-widgets/base",
      "model_module_version": "1.1.0",
      "model_name": "LayoutModel",
      "state": {}
     },
     "d8f23781ffc74fb797fe78016d7b58e4": {
      "model_module": "@jupyter-widgets/base",
      "model_module_version": "1.1.0",
      "model_name": "LayoutModel",
      "state": {
       "height": "100%",
       "width": "90%"
      }
     },
     "d9c2b88b505b48a4b6c2c57cd93f7776": {
      "model_module": "@jupyter-widgets/base",
      "model_module_version": "1.1.0",
      "model_name": "LayoutModel",
      "state": {}
     },
     "db6bc8d6d0d54e2484718dee857e30e1": {
      "model_module": "@jupyter-widgets/base",
      "model_module_version": "1.1.0",
      "model_name": "LayoutModel",
      "state": {}
     },
     "dd75b77ca52a43a9868c62b289a4e4e1": {
      "model_module": "@jupyter-widgets/output",
      "model_module_version": "1.0.0",
      "model_name": "OutputModel",
      "state": {
       "layout": "IPY_MODEL_db6bc8d6d0d54e2484718dee857e30e1"
      }
     },
     "df07f4cbd3574e08868b7543bb5cb15a": {
      "model_module": "@jupyter-widgets/base",
      "model_module_version": "1.1.0",
      "model_name": "LayoutModel",
      "state": {
       "height": "100%",
       "width": "90%"
      }
     },
     "df45bd0d614e4f8dbc1d38058dc993e7": {
      "model_module": "@jupyter-widgets/base",
      "model_module_version": "1.1.0",
      "model_name": "LayoutModel",
      "state": {
       "height": "300px"
      }
     },
     "e18af0cea30b4af3a6cf1099f055219c": {
      "model_module": "@jupyter-widgets/controls",
      "model_module_version": "1.4.0",
      "model_name": "VBoxModel",
      "state": {
       "children": [
        "IPY_MODEL_e1d32be0fd784adb901538ecaea234af",
        "IPY_MODEL_e5a39ffce83d482a9bb07ef05f75f0c2"
       ],
       "layout": "IPY_MODEL_ba703b23f64a4ac9bc68ac9552802303"
      }
     },
     "e1d32be0fd784adb901538ecaea234af": {
      "model_module": "ontoedit",
      "model_module_version": "1.1.0",
      "model_name": "OntoeditModel",
      "state": {
       "_model_module_version": "1.1.0",
       "_view_module_version": "",
       "layout": "IPY_MODEL_a23f3db72e844fd38d5d05b950980e06",
       "value": "Every-single-thing that is a plant and-or is a plant-part is a herb.\nNo herb is an animal.\n\nEvery carnivore eats nothing-but animals.\nEvery lion eats nothing-but herbivores.\n\nEvery herbivore eats nothing-but herb.\n\nAnything either is a carnivore, is a herbivore or is an omnivore or-something-else.\nAnything either is a branch, is a leaf or is a twig or-something-else.\n\nNo giraffe is a lion.\nEvery palm-tree is not a tree.\n"
      }
     },
     "e26922aed1324c3cb824535d8f1eba7a": {
      "model_module": "@jupyter-widgets/output",
      "model_module_version": "1.0.0",
      "model_name": "OutputModel",
      "state": {
       "layout": "IPY_MODEL_08a658b923de47b7add2517b8353da1a"
      }
     },
     "e278e56780d1428c826f7d861d407183": {
      "model_module": "@jupyter-widgets/base",
      "model_module_version": "1.1.0",
      "model_name": "LayoutModel",
      "state": {
       "height": "300px"
      }
     },
     "e445e8ca520940b8aa5759ab19428243": {
      "model_module": "@jupyter-widgets/base",
      "model_module_version": "1.1.0",
      "model_name": "LayoutModel",
      "state": {
       "height": "300px"
      }
     },
     "e47665c42c1e462aa1fcecac0816fa09": {
      "model_module": "@jupyter-widgets/controls",
      "model_module_version": "1.4.0",
      "model_name": "VBoxModel",
      "state": {
       "children": [
        "IPY_MODEL_1d27dea574734e228e02e981579f0e48",
        "IPY_MODEL_3e2147d0702741bbb1963715683ba2ff"
       ],
       "layout": "IPY_MODEL_704fa12b89334f67b30097d1c39534c9"
      }
     },
     "e5a39ffce83d482a9bb07ef05f75f0c2": {
      "model_module": "@jupyter-widgets/output",
      "model_module_version": "1.0.0",
      "model_name": "OutputModel",
      "state": {
       "layout": "IPY_MODEL_efae18bdcab04718b11c37b244e41d0f"
      }
     },
     "e736dda042e74aac96c321bed782241e": {
      "model_module": "ontoedit",
      "model_module_version": "1.1.0",
      "model_name": "OntoeditModel",
      "state": {
       "_model_module_version": "1.1.0",
       "_view_module_version": "",
       "layout": "IPY_MODEL_34a127ddc9f3425d855562e734e8582e"
      }
     },
     "ea50e21fc54b4d97b922faa6337bdfe7": {
      "model_module": "@jupyter-widgets/base",
      "model_module_version": "1.1.0",
      "model_name": "LayoutModel",
      "state": {}
     },
     "edb2db2d34c248249a938a00c0f98a07": {
      "model_module": "@jupyter-widgets/base",
      "model_module_version": "1.1.0",
      "model_name": "LayoutModel",
      "state": {}
     },
     "ee2dd188cbe048cd98f09aa693d4aae4": {
      "model_module": "@jupyter-widgets/controls",
      "model_module_version": "1.4.0",
      "model_name": "VBoxModel",
      "state": {
       "children": [
        "IPY_MODEL_bb14a3aef3864813a7002faff9fc6b16",
        "IPY_MODEL_ef6cc581fc9c483fa9f40c0299bb4106"
       ],
       "layout": "IPY_MODEL_88e3f3eb628649cbaa595601364bada4"
      }
     },
     "ef6cc581fc9c483fa9f40c0299bb4106": {
      "model_module": "@jupyter-widgets/output",
      "model_module_version": "1.0.0",
      "model_name": "OutputModel",
      "state": {
       "layout": "IPY_MODEL_1786ad24fa9d463aa9ad86dcacd6b971"
      }
     },
     "efae18bdcab04718b11c37b244e41d0f": {
      "model_module": "@jupyter-widgets/base",
      "model_module_version": "1.1.0",
      "model_name": "LayoutModel",
      "state": {}
     },
     "f0f6655efb3d4a67824e88522b093252": {
      "model_module": "@jupyter-widgets/controls",
      "model_module_version": "1.4.0",
      "model_name": "VBoxModel",
      "state": {
       "children": [
        "IPY_MODEL_687f88667abb40929c0d1ac2acbc9281",
        "IPY_MODEL_2401f4a10a284f68920b1eb13a0ef3f1"
       ],
       "layout": "IPY_MODEL_08826d1d1e2d4efa9364b5d2bafa3c93"
      }
     },
     "f1b9951724734f07987cdd4aef154383": {
      "model_module": "@jupyter-widgets/controls",
      "model_module_version": "1.4.0",
      "model_name": "VBoxModel",
      "state": {
       "children": [
        "IPY_MODEL_acf1c5a99f7843fd8fe8da70d0aac47f",
        "IPY_MODEL_8b52933a93d84df1bc039f960cacf560"
       ],
       "layout": "IPY_MODEL_e445e8ca520940b8aa5759ab19428243"
      }
     },
     "f2dac51fb55347f2bf9f5f781b9e4558": {
      "model_module": "@jupyter-widgets/base",
      "model_module_version": "1.1.0",
      "model_name": "LayoutModel",
      "state": {}
     },
     "f4ea8cdd8b5c4157a727af4af9d67cb3": {
      "model_module": "@jupyter-widgets/base",
      "model_module_version": "1.1.0",
      "model_name": "LayoutModel",
      "state": {
       "height": "100%",
       "width": "90%"
      }
     },
     "f79246661c1941fb8047812a618edbea": {
      "model_module": "@jupyter-widgets/base",
      "model_module_version": "1.1.0",
      "model_name": "LayoutModel",
      "state": {
       "height": "100px"
      }
     },
     "f7e95e3d43544ddfb6c69338a006cace": {
      "model_module": "@jupyter-widgets/base",
      "model_module_version": "1.1.0",
      "model_name": "LayoutModel",
      "state": {
       "height": "300px"
      }
     },
     "f81355e7f2a34681bf8ca14e71dbf938": {
      "model_module": "@jupyter-widgets/output",
      "model_module_version": "1.0.0",
      "model_name": "OutputModel",
      "state": {
       "layout": "IPY_MODEL_edb2db2d34c248249a938a00c0f98a07"
      }
     },
     "f81dc3d2747142f9ac59bd2ccb85dc67": {
      "model_module": "@jupyter-widgets/output",
      "model_module_version": "1.0.0",
      "model_name": "OutputModel",
      "state": {
       "layout": "IPY_MODEL_5f92d7eda9e4489591fce827af8d659b"
      }
     }
    },
    "version_major": 2,
    "version_minor": 0
   }
  }
 },
 "nbformat": 4,
 "nbformat_minor": 2
}
