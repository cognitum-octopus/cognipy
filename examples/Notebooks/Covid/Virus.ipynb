{
 "cells": [
  {
   "cell_type": "code",
   "execution_count": null,
   "metadata": {},
   "outputs": [],
   "source": [
    "from cognipy.ontology import Ontology\n",
    "from cognipy.ontology import CQL\n",
    "from cognipy.ontology import ABoxBatch\n",
    "from cognipy.ontology import encode_string_for_graph_label\n",
    "from cognipy.edit import CnlEditBox\n",
    "from cognipy.edit import CnlQueryForConcept\n",
    "\n",
    "import random\n",
    "import textwrap\n",
    "import numpy as np\n",
    "import pandas as pd\n",
    "import pickle\n",
    "\n",
    "def graph_attribute_formatter(val):\n",
    "    if isinstance(val,list) or isinstance(val,set):\n",
    "        return \" | \".join(list(map(lambda i:encode_string_for_graph_label(graph_attribute_formatter(i)),val)))\n",
    "    elif isinstance(val,dict):\n",
    "        return \" | \".join(list(map(lambda i:i[0]+\" : \"+encode_string_for_graph_label(graph_attribute_formatter(i[1])),val.items())))\n",
    "    else:\n",
    "        return encode_string_for_graph_label(textwrap.fill(str(val),40))\n",
    "\n",
    "from pint import UnitRegistry\n",
    "ureg = UnitRegistry()\n",
    "Q = ureg.Quantity\n",
    "\n",
    "def Qstr(a):\n",
    "    return \"Q('\"+str(a)+\"')\"\n",
    "Q.__repr__=Qstr    \n"
   ]
  },
  {
   "cell_type": "code",
   "execution_count": null,
   "metadata": {
    "scrolled": true
   },
   "outputs": [],
   "source": [
    "parts_editors={}\n",
    "\n",
    "parts_editors['01']=CnlEditBox('border_cross_quarantine.encnl')\n",
    "parts_editors['02']=CnlEditBox('face-cover.encl')\n",
    "parts_editors['03']=CnlEditBox('lockdown.encnl')\n",
    "parts_editors['04']=CnlEditBox('mass_coronavirus_testing.encl')\n",
    "parts_editors['05']=CnlEditBox('virus.encnl')"
   ]
  },
  {
   "cell_type": "code",
   "execution_count": null,
   "metadata": {},
   "outputs": [],
   "source": [
    "onto = Ontology(\"cnl/string\",\n",
    "                    rd_c.getvalue(), \n",
    "                    evaluator = lambda e:eval(e,globals(),locals()), \n",
    "                    graph_attribute_formatter = graph_attribute_formatter)"
   ]
  },
  {
   "cell_type": "code",
   "execution_count": null,
   "metadata": {},
   "outputs": [],
   "source": [
    "onto.draw_graph(layout='hierarchical')"
   ]
  },
  {
   "cell_type": "code",
   "execution_count": null,
   "metadata": {},
   "outputs": [],
   "source": [
    "onto.select_instances_of(\"a face-cover\")"
   ]
  },
  {
   "cell_type": "code",
   "execution_count": null,
   "metadata": {},
   "outputs": [],
   "source": [
    "df=onto.sparql_query(CQL(\"\"\"select ?a1 ?a2 ?d{\n",
    "                            ?a1 rdf:type <country>. \n",
    "                            ?a2 rdf:type <restriction>. \n",
    "                            ?a1 <introduceds> ?a2. \n",
    "                            ?a2 <was-introduced> ?d.\n",
    "                        }\"\"\"))"
   ]
  },
  {
   "cell_type": "code",
   "execution_count": null,
   "metadata": {},
   "outputs": [],
   "source": [
    "df"
   ]
  },
  {
   "cell_type": "code",
   "execution_count": null,
   "metadata": {},
   "outputs": [],
   "source": []
  },
  {
   "cell_type": "code",
   "execution_count": null,
   "metadata": {},
   "outputs": [],
   "source": [
    "df.set_index(\"d\").resample(\"d\").join(case.set_index(\"date\"))"
   ]
  },
  {
   "cell_type": "code",
   "execution_count": null,
   "metadata": {},
   "outputs": [],
   "source": []
  }
 ],
 "metadata": {
  "kernelspec": {
   "display_name": "Python 3",
   "language": "python",
   "name": "python3"
  },
  "language_info": {
   "codemirror_mode": {
    "name": "ipython",
    "version": 3
   },
   "file_extension": ".py",
   "mimetype": "text/x-python",
   "name": "python",
   "nbconvert_exporter": "python",
   "pygments_lexer": "ipython3",
   "version": "3.8.3"
  }
 },
 "nbformat": 4,
 "nbformat_minor": 2
}
