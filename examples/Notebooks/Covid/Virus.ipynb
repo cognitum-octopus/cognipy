{
 "cells": [
  {
   "cell_type": "code",
   "execution_count": 14,
   "metadata": {},
   "outputs": [],
   "source": [
    "from cognipy.ontology import Ontology\n",
    "from cognipy.ontology import CQL\n",
    "from cognipy.ontology import ABoxBatch\n",
    "from cognipy.ontology import encode_string_for_graph_label\n",
    "from cognipy.edit import CnlEditBox\n",
    "from cognipy.edit import CnlQueryForConcept\n",
    "\n",
    "import random\n",
    "import textwrap\n",
    "import numpy as np\n",
    "import pandas as pd\n",
    "import pickle\n",
    "\n",
    "def graph_attribute_formatter(val):\n",
    "    if isinstance(val,list) or isinstance(val,set):\n",
    "        return \" | \".join(list(map(lambda i:encode_string_for_graph_label(graph_attribute_formatter(i)),val)))\n",
    "    elif isinstance(val,dict):\n",
    "        return \" | \".join(list(map(lambda i:i[0]+\" : \"+encode_string_for_graph_label(graph_attribute_formatter(i[1])),val.items())))\n",
    "    else:\n",
    "        return encode_string_for_graph_label(textwrap.fill(str(val),40))\n",
    "\n",
    "from pint import UnitRegistry\n",
    "ureg = UnitRegistry()\n",
    "Q = ureg.Quantity\n",
    "\n",
    "def Qstr(a):\n",
    "    return \"Q('\"+str(a)+\"')\"\n",
    "Q.__repr__=Qstr    \n"
   ]
  },
  {
   "cell_type": "code",
   "execution_count": 18,
   "metadata": {
    "scrolled": true
   },
   "outputs": [
    {
     "data": {
      "application/vnd.jupyter.widget-view+json": {
       "model_id": "fa333f3051b240988056822d96e59900",
       "version_major": 2,
       "version_minor": 0
      },
      "text/plain": [
       "VBox(children=(Output(), OntoeditWidget(layout=Layout(height='100%', width='90%'), value='Poland introduced Fa…"
      ]
     },
     "metadata": {},
     "output_type": "display_data"
    }
   ],
   "source": [
    "rd_c=CnlEditBox('virus.encnl')\n",
    "rd_c"
   ]
  },
  {
   "cell_type": "code",
   "execution_count": 19,
   "metadata": {},
   "outputs": [],
   "source": [
    "onto = Ontology(\"cnl/string\",\n",
    "                    rd_c.getvalue(), \n",
    "                    evaluator = lambda e:eval(e,globals(),locals()), \n",
    "                    graph_attribute_formatter = graph_attribute_formatter)"
   ]
  },
  {
   "cell_type": "code",
   "execution_count": 20,
   "metadata": {},
   "outputs": [
    {
     "data": {
      "image/svg+xml": [
       "<svg xmlns=\"http://www.w3.org/2000/svg\" xmlns:xlink=\"http://www.w3.org/1999/xlink\" width=\"470pt\" height=\"208pt\" viewBox=\"0.00 0.00 470.00 208.00\">\n",
       "<g id=\"graph0\" class=\"graph\" transform=\"scale(1 1) rotate(0) translate(4 204)\">\n",
       "<title>G</title>\n",
       "<polygon fill=\"white\" stroke=\"none\" points=\"-4,4 -4,-204 466,-204 466,4 -4,4\"/>\n",
       "<!-- face&#45;cover -->\n",
       "<g id=\"node1\" class=\"node\"><title>face-cover</title>\n",
       "<path fill=\"aliceblue\" stroke=\"black\" stroke-width=\"0.5\" d=\"M117.5,-89.5C117.5,-89.5 158.5,-89.5 158.5,-89.5 164.5,-89.5 170.5,-95.5 170.5,-101.5 170.5,-101.5 170.5,-113.5 170.5,-113.5 170.5,-119.5 164.5,-125.5 158.5,-125.5 158.5,-125.5 117.5,-125.5 117.5,-125.5 111.5,-125.5 105.5,-119.5 105.5,-113.5 105.5,-113.5 105.5,-101.5 105.5,-101.5 105.5,-95.5 111.5,-89.5 117.5,-89.5\"/>\n",
       "<text text-anchor=\"middle\" x=\"138\" y=\"-104.7\" font-family=\"Times New Roman,serif\" font-size=\"11.00\">face-cover</text>\n",
       "</g>\n",
       "<!-- Face&#45;Cover&#45;Germany -->\n",
       "<g id=\"node6\" class=\"node\"><title>Face-Cover-Germany</title>\n",
       "<path fill=\"whitesmoke\" stroke=\"black\" stroke-width=\"0.5\" d=\"M252,-0.5C252,-0.5 450,-0.5 450,-0.5 456,-0.5 462,-6.5 462,-12.5 462,-12.5 462,-28.5 462,-28.5 462,-34.5 456,-40.5 450,-40.5 450,-40.5 252,-40.5 252,-40.5 246,-40.5 240,-34.5 240,-28.5 240,-28.5 240,-12.5 240,-12.5 240,-6.5 246,-0.5 252,-0.5\"/>\n",
       "<text text-anchor=\"middle\" x=\"351\" y=\"-27.7\" font-family=\"Times New Roman,serif\" font-size=\"11.00\">Face-Cover-Germany</text>\n",
       "<polyline fill=\"none\" stroke=\"black\" stroke-width=\"0.5\" points=\"240,-20.5 462,-20.5 \"/>\n",
       "<text text-anchor=\"middle\" x=\"282\" y=\"-7.7\" font-family=\"Times New Roman,serif\" font-size=\"11.00\">was-introduced</text>\n",
       "<polyline fill=\"none\" stroke=\"black\" stroke-width=\"0.5\" points=\"324,-0.5 324,-20.5 \"/>\n",
       "<text text-anchor=\"middle\" x=\"393\" y=\"-7.7\" font-family=\"Times New Roman,serif\" font-size=\"11.00\">2020-04-15T00:00:00+02:00</text>\n",
       "</g>\n",
       "<!-- face&#45;cover&#45;&#45;Face&#45;Cover&#45;Germany -->\n",
       "<g id=\"edge4\" class=\"edge\"><title>face-cover--Face-Cover-Germany</title>\n",
       "<path fill=\"none\" stroke=\"black\" stroke-width=\"0.5\" stroke-dasharray=\"5,2\" d=\"M156.458,-81.0668C163.581,-72.8978 172.348,-64.5391 182,-59 193.274,-52.5302 216.224,-46.1512 241.672,-40.5403\"/>\n",
       "<polygon fill=\"none\" stroke=\"black\" stroke-width=\"0.5\" points=\"153.539,-79.107 149.911,-89.0612 158.955,-83.5421 153.539,-79.107\"/>\n",
       "</g>\n",
       "<!-- Face&#45;Cover&#45;Poland -->\n",
       "<g id=\"node8\" class=\"node\"><title>Face-Cover-Poland</title>\n",
       "<path fill=\"whitesmoke\" stroke=\"black\" stroke-width=\"0.5\" d=\"M12,-0.5C12,-0.5 210,-0.5 210,-0.5 216,-0.5 222,-6.5 222,-12.5 222,-12.5 222,-28.5 222,-28.5 222,-34.5 216,-40.5 210,-40.5 210,-40.5 12,-40.5 12,-40.5 6,-40.5 0,-34.5 0,-28.5 0,-28.5 0,-12.5 0,-12.5 0,-6.5 6,-0.5 12,-0.5\"/>\n",
       "<text text-anchor=\"middle\" x=\"111\" y=\"-27.7\" font-family=\"Times New Roman,serif\" font-size=\"11.00\">Face-Cover-Poland</text>\n",
       "<polyline fill=\"none\" stroke=\"black\" stroke-width=\"0.5\" points=\"0,-20.5 222,-20.5 \"/>\n",
       "<text text-anchor=\"middle\" x=\"42\" y=\"-7.7\" font-family=\"Times New Roman,serif\" font-size=\"11.00\">was-introduced</text>\n",
       "<polyline fill=\"none\" stroke=\"black\" stroke-width=\"0.5\" points=\"84,-0.5 84,-20.5 \"/>\n",
       "<text text-anchor=\"middle\" x=\"153\" y=\"-7.7\" font-family=\"Times New Roman,serif\" font-size=\"11.00\">2020-01-02T00:00:00+01:00</text>\n",
       "</g>\n",
       "<!-- face&#45;cover&#45;&#45;Face&#45;Cover&#45;Poland -->\n",
       "<g id=\"edge7\" class=\"edge\"><title>face-cover--Face-Cover-Poland</title>\n",
       "<path fill=\"none\" stroke=\"black\" stroke-width=\"0.5\" stroke-dasharray=\"5,2\" d=\"M129.495,-79.7246C125.478,-67.0782 120.774,-52.2693 117.115,-40.7513\"/>\n",
       "<polygon fill=\"none\" stroke=\"black\" stroke-width=\"0.5\" points=\"126.173,-80.8279 132.536,-89.299 132.844,-78.7086 126.173,-80.8279\"/>\n",
       "</g>\n",
       "<!-- restriction -->\n",
       "<g id=\"node2\" class=\"node\"><title>restriction</title>\n",
       "<path fill=\"aliceblue\" stroke=\"black\" stroke-width=\"0.5\" d=\"M120,-163.5C120,-163.5 156,-163.5 156,-163.5 162,-163.5 168,-169.5 168,-175.5 168,-175.5 168,-187.5 168,-187.5 168,-193.5 162,-199.5 156,-199.5 156,-199.5 120,-199.5 120,-199.5 114,-199.5 108,-193.5 108,-187.5 108,-187.5 108,-175.5 108,-175.5 108,-169.5 114,-163.5 120,-163.5\"/>\n",
       "<text text-anchor=\"middle\" x=\"138\" y=\"-178.7\" font-family=\"Times New Roman,serif\" font-size=\"11.00\">restriction</text>\n",
       "</g>\n",
       "<!-- restriction&#45;&#45;face&#45;cover -->\n",
       "<g id=\"edge1\" class=\"edge\"><title>restriction--face-cover</title>\n",
       "<path fill=\"none\" stroke=\"black\" stroke-width=\"0.5\" d=\"M138,-153.219C138,-144.072 138,-134.125 138,-125.941\"/>\n",
       "<polygon fill=\"none\" stroke=\"black\" stroke-width=\"0.5\" points=\"134.5,-153.437 138,-163.437 141.5,-153.437 134.5,-153.437\"/>\n",
       "</g>\n",
       "<!-- Germany -->\n",
       "<g id=\"node3\" class=\"node\"><title>Germany</title>\n",
       "<path fill=\"whitesmoke\" stroke=\"black\" stroke-width=\"0.5\" d=\"M317.5,-89.5C317.5,-89.5 350.5,-89.5 350.5,-89.5 356.5,-89.5 362.5,-95.5 362.5,-101.5 362.5,-101.5 362.5,-113.5 362.5,-113.5 362.5,-119.5 356.5,-125.5 350.5,-125.5 350.5,-125.5 317.5,-125.5 317.5,-125.5 311.5,-125.5 305.5,-119.5 305.5,-113.5 305.5,-113.5 305.5,-101.5 305.5,-101.5 305.5,-95.5 311.5,-89.5 317.5,-89.5\"/>\n",
       "<text text-anchor=\"middle\" x=\"334\" y=\"-104.7\" font-family=\"Times New Roman,serif\" font-size=\"11.00\">Germany</text>\n",
       "</g>\n",
       "<!-- Germany&#45;&#45;Face&#45;Cover&#45;Germany -->\n",
       "<g id=\"edge8\" class=\"edge\"><title>Germany--Face-Cover-Germany</title>\n",
       "<path fill=\"none\" stroke=\"black\" stroke-width=\"0.5\" d=\"M337.44,-89.299C339.66,-78.1985 342.604,-63.4777 345.182,-50.5899\"/>\n",
       "<polygon fill=\"black\" stroke=\"black\" stroke-width=\"0.5\" points=\"347.15,-40.7513 349.601,-51.4397 346.169,-45.6542 345.188,-50.5571 345.188,-50.5571 345.188,-50.5571 346.169,-45.6542 340.776,-49.6745 347.15,-40.7513 347.15,-40.7513\"/>\n",
       "<text text-anchor=\"middle\" x=\"368.5\" y=\"-62.2\" font-family=\"Times New Roman,serif\" font-size=\"11.00\">introduceds</text>\n",
       "</g>\n",
       "<!-- nice -->\n",
       "<g id=\"node4\" class=\"node\"><title>nice</title>\n",
       "<path fill=\"aliceblue\" stroke=\"black\" stroke-width=\"0.5\" d=\"M245,-163.5C245,-163.5 275,-163.5 275,-163.5 281,-163.5 287,-169.5 287,-175.5 287,-175.5 287,-187.5 287,-187.5 287,-193.5 281,-199.5 275,-199.5 275,-199.5 245,-199.5 245,-199.5 239,-199.5 233,-193.5 233,-187.5 233,-187.5 233,-175.5 233,-175.5 233,-169.5 239,-163.5 245,-163.5\"/>\n",
       "<text text-anchor=\"middle\" x=\"260\" y=\"-178.7\" font-family=\"Times New Roman,serif\" font-size=\"11.00\">nice</text>\n",
       "</g>\n",
       "<!-- nice&#45;&#45;Germany -->\n",
       "<g id=\"edge2\" class=\"edge\"><title>nice--Germany</title>\n",
       "<path fill=\"none\" stroke=\"black\" stroke-width=\"0.5\" stroke-dasharray=\"5,2\" d=\"M284.761,-156.408C295.105,-146.344 306.887,-134.88 316.332,-125.69\"/>\n",
       "<polygon fill=\"none\" stroke=\"black\" stroke-width=\"0.5\" points=\"282.264,-153.955 277.537,-163.437 287.145,-158.972 282.264,-153.955\"/>\n",
       "</g>\n",
       "<!-- Poland -->\n",
       "<g id=\"node7\" class=\"node\"><title>Poland</title>\n",
       "<path fill=\"whitesmoke\" stroke=\"black\" stroke-width=\"0.5\" d=\"M244,-89.5C244,-89.5 274,-89.5 274,-89.5 280,-89.5 286,-95.5 286,-101.5 286,-101.5 286,-113.5 286,-113.5 286,-119.5 280,-125.5 274,-125.5 274,-125.5 244,-125.5 244,-125.5 238,-125.5 232,-119.5 232,-113.5 232,-113.5 232,-101.5 232,-101.5 232,-95.5 238,-89.5 244,-89.5\"/>\n",
       "<text text-anchor=\"middle\" x=\"259\" y=\"-104.7\" font-family=\"Times New Roman,serif\" font-size=\"11.00\">Poland</text>\n",
       "</g>\n",
       "<!-- nice&#45;&#45;Poland -->\n",
       "<g id=\"edge5\" class=\"edge\"><title>nice--Poland</title>\n",
       "<path fill=\"none\" stroke=\"black\" stroke-width=\"0.5\" stroke-dasharray=\"5,2\" d=\"M259.621,-153.219C259.494,-144.072 259.356,-134.125 259.242,-125.941\"/>\n",
       "<polygon fill=\"none\" stroke=\"black\" stroke-width=\"0.5\" points=\"256.124,-153.487 259.763,-163.437 263.124,-153.389 256.124,-153.487\"/>\n",
       "</g>\n",
       "<!-- country -->\n",
       "<g id=\"node5\" class=\"node\"><title>country</title>\n",
       "<path fill=\"aliceblue\" stroke=\"black\" stroke-width=\"0.5\" d=\"M318,-163.5C318,-163.5 348,-163.5 348,-163.5 354,-163.5 360,-169.5 360,-175.5 360,-175.5 360,-187.5 360,-187.5 360,-193.5 354,-199.5 348,-199.5 348,-199.5 318,-199.5 318,-199.5 312,-199.5 306,-193.5 306,-187.5 306,-187.5 306,-175.5 306,-175.5 306,-169.5 312,-163.5 318,-163.5\"/>\n",
       "<text text-anchor=\"middle\" x=\"333\" y=\"-178.7\" font-family=\"Times New Roman,serif\" font-size=\"11.00\">country</text>\n",
       "</g>\n",
       "<!-- country&#45;&#45;Germany -->\n",
       "<g id=\"edge3\" class=\"edge\"><title>country--Germany</title>\n",
       "<path fill=\"none\" stroke=\"black\" stroke-width=\"0.5\" stroke-dasharray=\"5,2\" d=\"M333.379,-153.219C333.506,-144.072 333.644,-134.125 333.758,-125.941\"/>\n",
       "<polygon fill=\"none\" stroke=\"black\" stroke-width=\"0.5\" points=\"329.876,-153.389 333.237,-163.437 336.876,-153.487 329.876,-153.389\"/>\n",
       "</g>\n",
       "<!-- country&#45;&#45;Poland -->\n",
       "<g id=\"edge6\" class=\"edge\"><title>country--Poland</title>\n",
       "<path fill=\"none\" stroke=\"black\" stroke-width=\"0.5\" stroke-dasharray=\"5,2\" d=\"M308.239,-156.408C297.895,-146.344 286.113,-134.88 276.668,-125.69\"/>\n",
       "<polygon fill=\"none\" stroke=\"black\" stroke-width=\"0.5\" points=\"305.855,-158.972 315.463,-163.437 310.736,-153.955 305.855,-158.972\"/>\n",
       "</g>\n",
       "<!-- Poland&#45;&#45;Face&#45;Cover&#45;Poland -->\n",
       "<g id=\"edge9\" class=\"edge\"><title>Poland--Face-Cover-Poland</title>\n",
       "<path fill=\"none\" stroke=\"black\" stroke-width=\"0.5\" d=\"M231.855,-90.9097C209.759,-78.2194 178.195,-60.0915 152.865,-45.5439\"/>\n",
       "<polygon fill=\"black\" stroke=\"black\" stroke-width=\"0.5\" points=\"144.191,-40.5624 155.104,-41.6406 148.527,-43.0526 152.863,-45.5428 152.863,-45.5428 152.863,-45.5428 148.527,-43.0526 150.621,-49.445 144.191,-40.5624 144.191,-40.5624\"/>\n",
       "<text text-anchor=\"middle\" x=\"219.5\" y=\"-62.2\" font-family=\"Times New Roman,serif\" font-size=\"11.00\">introduceds</text>\n",
       "</g>\n",
       "</g>\n",
       "</svg>"
      ],
      "text/plain": [
       "<IPython.core.display.SVG object>"
      ]
     },
     "execution_count": 20,
     "metadata": {},
     "output_type": "execute_result"
    }
   ],
   "source": [
    "onto.draw_graph(layout='hierarchical')"
   ]
  },
  {
   "cell_type": "code",
   "execution_count": 33,
   "metadata": {},
   "outputs": [
    {
     "data": {
      "text/html": [
       "<div>\n",
       "<style scoped>\n",
       "    .dataframe tbody tr th:only-of-type {\n",
       "        vertical-align: middle;\n",
       "    }\n",
       "\n",
       "    .dataframe tbody tr th {\n",
       "        vertical-align: top;\n",
       "    }\n",
       "\n",
       "    .dataframe thead th {\n",
       "        text-align: right;\n",
       "    }\n",
       "</style>\n",
       "<table border=\"1\" class=\"dataframe\">\n",
       "  <thead>\n",
       "    <tr style=\"text-align: right;\">\n",
       "      <th></th>\n",
       "      <th>Instance</th>\n",
       "      <th>was-introduced</th>\n",
       "    </tr>\n",
       "  </thead>\n",
       "  <tbody>\n",
       "    <tr>\n",
       "      <th>0</th>\n",
       "      <td>Face-Cover-Germany</td>\n",
       "      <td>2020-04-15T00:00:00+10:00</td>\n",
       "    </tr>\n",
       "    <tr>\n",
       "      <th>1</th>\n",
       "      <td>Face-Cover-Poland</td>\n",
       "      <td>2020-01-02T00:00:00+11:00</td>\n",
       "    </tr>\n",
       "  </tbody>\n",
       "</table>\n",
       "</div>"
      ],
      "text/plain": [
       "             Instance             was-introduced\n",
       "0  Face-Cover-Germany  2020-04-15T00:00:00+10:00\n",
       "1   Face-Cover-Poland  2020-01-02T00:00:00+11:00"
      ]
     },
     "execution_count": 33,
     "metadata": {},
     "output_type": "execute_result"
    }
   ],
   "source": [
    "onto.select_instances_of(\"a face-cover\")"
   ]
  },
  {
   "cell_type": "code",
   "execution_count": 34,
   "metadata": {},
   "outputs": [],
   "source": [
    "df=onto.sparql_query(CQL(\"\"\"select ?a1 ?a2 ?d{\n",
    "                            ?a1 rdf:type <country>. \n",
    "                            ?a2 rdf:type <restriction>. \n",
    "                            ?a1 <introduceds> ?a2. \n",
    "                            ?a2 <was-introduced> ?d.\n",
    "                        }\"\"\"))"
   ]
  },
  {
   "cell_type": "code",
   "execution_count": 35,
   "metadata": {},
   "outputs": [
    {
     "data": {
      "text/html": [
       "<div>\n",
       "<style scoped>\n",
       "    .dataframe tbody tr th:only-of-type {\n",
       "        vertical-align: middle;\n",
       "    }\n",
       "\n",
       "    .dataframe tbody tr th {\n",
       "        vertical-align: top;\n",
       "    }\n",
       "\n",
       "    .dataframe thead th {\n",
       "        text-align: right;\n",
       "    }\n",
       "</style>\n",
       "<table border=\"1\" class=\"dataframe\">\n",
       "  <thead>\n",
       "    <tr style=\"text-align: right;\">\n",
       "      <th></th>\n",
       "      <th>a1</th>\n",
       "      <th>a2</th>\n",
       "      <th>d</th>\n",
       "    </tr>\n",
       "  </thead>\n",
       "  <tbody>\n",
       "    <tr>\n",
       "      <th>0</th>\n",
       "      <td>Germany</td>\n",
       "      <td>Face-Cover-Germany</td>\n",
       "      <td>2020-04-15T00:00:00+10:00</td>\n",
       "    </tr>\n",
       "    <tr>\n",
       "      <th>1</th>\n",
       "      <td>Poland</td>\n",
       "      <td>Face-Cover-Poland</td>\n",
       "      <td>2020-01-02T00:00:00+11:00</td>\n",
       "    </tr>\n",
       "  </tbody>\n",
       "</table>\n",
       "</div>"
      ],
      "text/plain": [
       "        a1                  a2                          d\n",
       "0  Germany  Face-Cover-Germany  2020-04-15T00:00:00+10:00\n",
       "1   Poland   Face-Cover-Poland  2020-01-02T00:00:00+11:00"
      ]
     },
     "execution_count": 35,
     "metadata": {},
     "output_type": "execute_result"
    }
   ],
   "source": [
    "df"
   ]
  },
  {
   "cell_type": "code",
   "execution_count": null,
   "metadata": {},
   "outputs": [],
   "source": []
  },
  {
   "cell_type": "code",
   "execution_count": 36,
   "metadata": {},
   "outputs": [
    {
     "data": {
      "text/html": [
       "<div>\n",
       "<style scoped>\n",
       "    .dataframe tbody tr th:only-of-type {\n",
       "        vertical-align: middle;\n",
       "    }\n",
       "\n",
       "    .dataframe tbody tr th {\n",
       "        vertical-align: top;\n",
       "    }\n",
       "\n",
       "    .dataframe thead th {\n",
       "        text-align: right;\n",
       "    }\n",
       "</style>\n",
       "<table border=\"1\" class=\"dataframe\">\n",
       "  <thead>\n",
       "    <tr style=\"text-align: right;\">\n",
       "      <th></th>\n",
       "      <th>a1</th>\n",
       "      <th>a2</th>\n",
       "    </tr>\n",
       "    <tr>\n",
       "      <th>d</th>\n",
       "      <th></th>\n",
       "      <th></th>\n",
       "    </tr>\n",
       "  </thead>\n",
       "  <tbody>\n",
       "    <tr>\n",
       "      <th>2020-04-15T00:00:00+10:00</th>\n",
       "      <td>Germany</td>\n",
       "      <td>Face-Cover-Germany</td>\n",
       "    </tr>\n",
       "    <tr>\n",
       "      <th>2020-01-02T00:00:00+11:00</th>\n",
       "      <td>Poland</td>\n",
       "      <td>Face-Cover-Poland</td>\n",
       "    </tr>\n",
       "  </tbody>\n",
       "</table>\n",
       "</div>"
      ],
      "text/plain": [
       "                                a1                  a2\n",
       "d                                                     \n",
       "2020-04-15T00:00:00+10:00  Germany  Face-Cover-Germany\n",
       "2020-01-02T00:00:00+11:00   Poland   Face-Cover-Poland"
      ]
     },
     "execution_count": 36,
     "metadata": {},
     "output_type": "execute_result"
    }
   ],
   "source": [
    "df.set_index(\"d\").resample(\"d\").join(case.set_index(\"date\"))"
   ]
  },
  {
   "cell_type": "code",
   "execution_count": null,
   "metadata": {},
   "outputs": [],
   "source": []
  }
 ],
 "metadata": {
  "kernelspec": {
   "display_name": "Python 3",
   "language": "python",
   "name": "python3"
  },
  "language_info": {
   "codemirror_mode": {
    "name": "ipython",
    "version": 3
   },
   "file_extension": ".py",
   "mimetype": "text/x-python",
   "name": "python",
   "nbconvert_exporter": "python",
   "pygments_lexer": "ipython3",
   "version": "3.8.3"
  }
 },
 "nbformat": 4,
 "nbformat_minor": 2
}
