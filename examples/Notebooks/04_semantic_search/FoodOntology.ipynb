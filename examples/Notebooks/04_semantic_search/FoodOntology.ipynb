{
 "cells": [
  {
   "cell_type": "code",
   "execution_count": null,
   "metadata": {},
   "outputs": [],
   "source": [
    "from cognipy.ontology import Ontology\n",
    "from cognipy.ontology import CQL\n",
    "from cognipy.ontology import ABoxBatch\n",
    "from cognipy.ontology import encode_string_for_graph_label\n",
    "from cognipy.edit import CnlEditBox\n",
    "from cognipy.edit import CnlQueryForConcept\n",
    "\n",
    "import random\n",
    "import textwrap\n",
    "import numpy as np\n",
    "\n",
    "def graph_attribute_formatter(val):\n",
    "    if isinstance(val,list) or isinstance(val,set):\n",
    "        return \" | \".join(list(map(lambda i:encode_string_for_graph_label(graph_attribute_formatter(i)),val)))\n",
    "    elif isinstance(val,dict):\n",
    "        return \" | \".join(list(map(lambda i:i[0]+\" : \"+encode_string_for_graph_label(graph_attribute_formatter(i[1])),val.items())))\n",
    "    else:\n",
    "        return encode_string_for_graph_label(textwrap.fill(str(val),40))\n",
    "\n",
    "def string_evaluator(e):\n",
    "    return eval(str(e).encode('utf-8').decode('unicode_escape'),globals(),locals())    \n",
    "\n",
    "from pint import UnitRegistry\n",
    "ureg = UnitRegistry()\n",
    "Q = ureg.Quantity\n",
    "\n",
    "def Qstr(a):\n",
    "    return \"Q('\"+str(a)+\"')\"\n",
    "Q.__repr__=Qstr    \n",
    "\n",
    "import ipywidgets as widgets"
   ]
  },
  {
   "cell_type": "code",
   "execution_count": null,
   "metadata": {},
   "outputs": [],
   "source": [
    "ed=CnlEditBox('meta.encnl')\n",
    "ed"
   ]
  },
  {
   "cell_type": "code",
   "execution_count": null,
   "metadata": {},
   "outputs": [],
   "source": [
    "Ontology(\"cnl/file\",'meta.encnl').draw_graph()"
   ]
  },
  {
   "cell_type": "code",
   "execution_count": null,
   "metadata": {},
   "outputs": [],
   "source": [
    "ed=CnlEditBox('meat-beef.encnl')\n",
    "ed"
   ]
  },
  {
   "cell_type": "code",
   "execution_count": null,
   "metadata": {
    "scrolled": false
   },
   "outputs": [],
   "source": [
    "onto = Ontology(\"cnl/file\",'meat-beef.encnl', evaluator = string_evaluator, graph_attribute_formatter = graph_attribute_formatter)\n",
    "onto.draw_graph(include={\"is-broader-trans-than\"} )"
   ]
  },
  {
   "cell_type": "code",
   "execution_count": null,
   "metadata": {},
   "outputs": [],
   "source": [
    "def generateMoreFromExisting(onto):\n",
    "    with open('meat-beef-cat.encnl','wt') as file:\n",
    "        for iName in onto.select_instances_of(\"a product\")[\"Instance\"]:\n",
    "            iCatName=iName.replace('\"Product$','\"Category$')\n",
    "            iCatName=iCatName[:iCatName.rfind('/')]+'\"'\n",
    "            file.writelines(iName+\" is-inside \"+iCatName+\".\\n\")\n",
    "        \n",
    "        for index,row in onto.select_instances_of(\"a facet\").iterrows():\n",
    "            iFacet = row[\"Instance\"]\n",
    "            values= row[\"has-value\"]\n",
    "            for val in values:\n",
    "                fval=iFacet[:-1]+\"/\"+val+'\"'\n",
    "                file.writelines(fval+\" is a facet-option.\\n\")\n",
    "                file.writelines(fval+' is-an-option-for '+iFacet+'.\\n')\n",
    "                \n",
    "        file.writelines(\"\"\"\n",
    "References: \n",
    "[] ('./meat-beef.encnl').\"\"\")\n",
    "        "
   ]
  },
  {
   "cell_type": "code",
   "execution_count": null,
   "metadata": {},
   "outputs": [],
   "source": [
    "generateMoreFromExisting(onto)\n",
    "ed2=CnlEditBox('meat-beef-cat.encnl')\n",
    "ed2"
   ]
  },
  {
   "cell_type": "code",
   "execution_count": null,
   "metadata": {},
   "outputs": [],
   "source": [
    "onto = Ontology(\"cnl/file\",'meat-beef-cat.encnl', evaluator = string_evaluator, graph_attribute_formatter = graph_attribute_formatter)"
   ]
  },
  {
   "cell_type": "code",
   "execution_count": null,
   "metadata": {},
   "outputs": [],
   "source": [
    "import pandas as pd\n",
    "import fuzzy"
   ]
  },
  {
   "cell_type": "code",
   "execution_count": null,
   "metadata": {},
   "outputs": [],
   "source": [
    "dmeta = fuzzy.DMetaphone()\n",
    "\n",
    "def makeTags(wrd):\n",
    "    wrdl=wrd.lower()\n",
    "    tgs=[(0,wrdl)]\n",
    "    if len(wrdl)>4:\n",
    "        tags = dmeta(wrdl)\n",
    "        for t in tags:\n",
    "            if not t is None:\n",
    "                tgs.append((1,t))\n",
    "    return tgs\n",
    "    \n",
    "def tagifySerie(ser):\n",
    "    data = []\n",
    "    for iName in ser:\n",
    "        name=iName[iName.find('$')+1:-1]\n",
    "        name_tags=[]\n",
    "        for x in name.split('/'):\n",
    "            for y in x.split('='):\n",
    "                for yy in y.split(','):\n",
    "                    for z in yy.split(' '):\n",
    "                        name_tags.extend(makeTags(z))\n",
    "                        \n",
    "        for t in set(name_tags):\n",
    "            data.append([t,iName])\n",
    "        \n",
    "    return pd.DataFrame(data,columns=['tag','id'])\n",
    "\n",
    "def tagsForString(searchStr,exclude):\n",
    "    dmeta = fuzzy.DMetaphone()\n",
    "    toret= [x for y in [makeTags(w) for w in searchStr.split(' ')] for x in y if (not x is None) and (not x in exclude)]\n",
    "    return set(toret)"
   ]
  },
  {
   "cell_type": "code",
   "execution_count": null,
   "metadata": {},
   "outputs": [],
   "source": [
    "def tagifySerie2(ser):\n",
    "    data = []\n",
    "    for iName in ser:\n",
    "        name=iName[iName.find('$')+1:-1]\n",
    "        name_tags=[]\n",
    "        for x in name.split('/'):\n",
    "            for y in x.split('='):\n",
    "                for yy in y.split(','):\n",
    "                    spl=yy.split(' ')\n",
    "                    name_tags.extend([(s,0) for s in spl])\n",
    "                    if len(spl)==2:\n",
    "                        name_tags.append((tuple(spl),1))\n",
    "                        \n",
    "        more = [(dmeta(t[0]),2) if isinstance(t[0],str) else ((dmeta(t[0][0]),dmeta(t[0][1])),3) for t in name_tags]\n",
    "        for t in set(name_tags.extend(more)):\n",
    "            data.append([t,iName])\n",
    "        \n",
    "    return pd.DataFrame(data,columns=['tag','id'])\n"
   ]
  },
  {
   "cell_type": "code",
   "execution_count": null,
   "metadata": {},
   "outputs": [],
   "source": [
    "def buildBroaderThanThanRelation(catspd,rel, columns=[\"id\",\"subid\"]):\n",
    "    data = []\n",
    "    for index, row in catspd.iterrows():\n",
    "        iName = row[\"Instance\"]\n",
    "        iBroaders = row[rel]\n",
    "        if not iBroaders is None:\n",
    "            if isinstance(iBroaders, str): \n",
    "                data.append([iName,iBroaders])\n",
    "            else:\n",
    "                for iBroader in iBroaders:\n",
    "                    data.append([iName,iBroader])\n",
    "    return pd.DataFrame(data, columns=columns).drop_duplicates()"
   ]
  },
  {
   "cell_type": "code",
   "execution_count": null,
   "metadata": {},
   "outputs": [],
   "source": [
    "def buildInsideCategoryRelation(prodspd,rel, columns=[\"id\",\"mainid\"]):\n",
    "    data = []\n",
    "    for index, row in prodspd.iterrows():\n",
    "        iName = row[\"Instance\"]\n",
    "        iCat = row[rel]\n",
    "        if not iCat is None:\n",
    "            data.append([iName,iCat])\n",
    "    return pd.DataFrame(data, columns=columns).drop_duplicates()"
   ]
  },
  {
   "cell_type": "code",
   "execution_count": null,
   "metadata": {},
   "outputs": [],
   "source": [
    "catspd=onto.sparql_query(CQL('select ?x ?y ?z {?x rdf:type <category>. optional{?y rdf:type <category>. ?x <is-broader-trans-than> ?y}. optional{?z rdf:type <facet>. ?x <is-faceted-by> ?z}}'),column_names=['Instance','is-broader-trans-than','is-faceted-by'])\n",
    "categoryHierarchy=onto.sparql_query(CQL('select ?x ?y {?x rdf:type <category>. ?y rdf:type <category>. ?x <is-broader-than> ?y}'),column_names=['super','sub'])\n",
    "prodspd=onto.sparql_query(CQL('select ?x ?y ?z {?x rdf:type <product>. optional{?y rdf:type <category>. ?x <is-inside> ?y}. optional{?z rdf:type <facet>. ?x <is-faceted-by> ?z}}'),column_names=['Instance','is-inside','is-faceted-by'])\n",
    "facvalpd=onto.sparql_query(CQL('select ?x ?y {?x rdf:type <facet-option>. ?y rdf:type <facet>. ?x <is-an-option-for> ?y}'),column_names=['Instance','is-an-option-for'])\n",
    "\n",
    "catetoryTagIndex=tagifySerie(catspd['Instance'].drop_duplicates())\n",
    "categoryBroaderThanThanRelation=buildBroaderThanThanRelation(catspd,'is-broader-trans-than', columns=[\"broaderid\",\"catid\"])\n",
    "productTagIndex =tagifySerie(prodspd['Instance'].drop_duplicates())\n",
    "productInsideCategoryRelation=buildInsideCategoryRelation(prodspd,'is-inside', columns=[\"id\",\"mainid\"])\n",
    "valuesInsideFacetRelation=buildInsideCategoryRelation(facvalpd,'is-an-option-for', columns=[\"id\",\"mainid\"])\n",
    "facetValTagIndex =tagifySerie(facvalpd['Instance'].drop_duplicates())\n",
    "categoryFacetRelation=buildBroaderThanThanRelation(catspd,'is-faceted-by', columns=[\"catid\",\"facetid\"])\n",
    "productFacetRelation=buildBroaderThanThanRelation(prodspd,'is-faceted-by', columns=[\"prodid\",\"facetid\"])\n",
    "database={'catetoryTagIndex':catetoryTagIndex, \n",
    "          'categoryBroaderThanThanRelation':categoryBroaderThanThanRelation,\n",
    "          'productTagIndex':productTagIndex,\n",
    "          'productInsideCategoryRelation':productInsideCategoryRelation,\n",
    "          'valuesInsideFacetRelation':valuesInsideFacetRelation,\n",
    "          'facetValTagIndex':facetValTagIndex,\n",
    "          'categoryFacetRelation':categoryFacetRelation,\n",
    "          'productFacetRelation':productFacetRelation,\n",
    "          'categoryHierarchy':categoryHierarchy\n",
    "         }"
   ]
  },
  {
   "cell_type": "code",
   "execution_count": null,
   "metadata": {},
   "outputs": [],
   "source": [
    "def lookupForString(tagIndex,searchStr,exclude={},nmax=1):\n",
    "    pticnt=tagIndex.groupby(by='tag').count()\n",
    "    resc=tagIndex[(tagIndex['tag'].isin(tagsForString(searchStr,exclude)))][['tag','id']]\n",
    "    apl=resc.apply(lambda row: 1.0/pticnt[pticnt.index==row['tag']].sum(),axis=1)['id']\n",
    "    resc['frac']=apl\n",
    "    pdCounts=resc.groupby(by='id').sum()\n",
    "    if len(pdCounts)==0:\n",
    "        return []\n",
    "    max = list(pdCounts.nlargest(nmax,'frac')['frac'])\n",
    "    winCats=pdCounts[pdCounts['frac'].isin(max)]\n",
    "    wss=[(w.name,w['frac']) for i,w in winCats.iterrows()]\n",
    "    wss.sort(key=lambda x: x[1], reverse=True)\n",
    "    return [x for (x,y) in wss]"
   ]
  },
  {
   "cell_type": "code",
   "execution_count": null,
   "metadata": {
    "scrolled": true
   },
   "outputs": [],
   "source": [
    "searchStr='meat cow waygu sex cl 80'\n",
    "\n",
    "selectedCatLst=lookupForString(database['catetoryTagIndex'],searchStr)\n",
    "selectedCat = set(selectedCatLst)\n",
    "\n",
    "if len(selectedCat)>0:\n",
    "    serie = database['productTagIndex']\\\n",
    "                    .join(database['productInsideCategoryRelation'][\\\n",
    "                            database['productInsideCategoryRelation']['mainid'].apply(lambda mainid:(mainid in selectedCat))]\\\n",
    "                    .set_index('id'),on=['id'],how='inner')\n",
    "else:\n",
    "    serie = database['productTagIndex']\n",
    "\n",
    "selectedProd=lookupForString(serie,searchStr,exclude=set(tagifySerie([selectedCatLst[0]])['tag']) if len(selectedCat)>0 else {})\n",
    "if len(selectedProd)>0:\n",
    "    selectedCatLst=list(database['productInsideCategoryRelation'][database['productInsideCategoryRelation']['id'].isin(selectedProd)]['mainid'].drop_duplicates())\n",
    "    selectedCat=set(selectedCatLst)\n",
    "else:\n",
    "    selectedProdLst=list(database['productInsideCategoryRelation'][database['productInsideCategoryRelation']['mainid'].isin(selectedCat)]['id'].drop_duplicates())\n",
    "    selectedProd=set(selectedProdLst)\n",
    "    \n",
    "if len(selectedProd)>0:\n",
    "    facetProdSerie = database['productFacetRelation'][database['productFacetRelation']['prodid'].isin(selectedProd)]\n",
    "    facetProdSerie = facetProdSerie.join(database['valuesInsideFacetRelation'].set_index('mainid'),on=['facetid'],how='inner')\n",
    "    facetProdSerie = database['facetValTagIndex'].join(facetProdSerie.set_index('id'),on=['id'],how='inner')\n",
    "else:\n",
    "    facetProdSerie = None\n",
    "\n",
    "if len(selectedCat)>0:\n",
    "    broaderThanSelectedCat = set(database['categoryBroaderThanThanRelation'][database['categoryBroaderThanThanRelation']['catid'].isin(selectedCat)]['broaderid'])\n",
    "    broaderOrEqualThanSelectedCat=selectedCat.union(broaderThanSelectedCat)\n",
    "    facetSerie = database['categoryFacetRelation'][database['categoryFacetRelation']['catid'].isin(broaderOrEqualThanSelectedCat)]\n",
    "    facetSerie = facetSerie.join(database['valuesInsideFacetRelation'].set_index('mainid'),on=['facetid'],how='inner')\n",
    "    facetSerie = database['facetValTagIndex'].join(facetSerie.set_index('id'),on=['id'],how='inner')\n",
    "else:\n",
    "    facetSerie = database['facetValTagIndex']\n",
    "    \n",
    "selectedFacetVal=lookupForString(facetSerie,searchStr,exclude=set(tagifySerie([selectedCatLst[0]])['tag']) if len(selectedCat)>0 else {},nmax=100000)\n",
    "if not facetProdSerie is None:\n",
    "    selectedFacetProdVal=lookupForString(facetProdSerie,searchStr,exclude=set(tagifySerie([selectedCatLst[0]])['tag']) if len(selectedCat)>0 else {},nmax=100000)\n",
    "else:\n",
    "    selectedFacetProdVal=[]\n",
    "\n",
    "selectedFacetLst=[]\n",
    "if len(selectedFacetVal)>0:\n",
    "    selectedFacetLst=list(database['valuesInsideFacetRelation'][database['valuesInsideFacetRelation']['id'].isin(selectedFacetVal)]['mainid'].drop_duplicates())\n",
    "    if len(selectedProd)>0:\n",
    "        selectedCatLst=list(database['productInsideCategoryRelation'][database['productInsideCategoryRelation']['id'].isin(selectedProd)]['mainid'].drop_duplicates())\n",
    "        selectedCat=set(selectedCatLst)\n",
    "\n",
    "selectedFacetProdLst=[]\n",
    "if len(selectedFacetProdVal)>0:\n",
    "    selectedFacetProdLst=list(database['valuesInsideFacetRelation'][database['valuesInsideFacetRelation']['id'].isin(selectedFacetProdVal)]['mainid'].drop_duplicates())\n",
    "    selectedProdLst=database['productFacetRelation'][database['productFacetRelation']['facetid'].isin(selectedFacetProdLst)]['prodid']\n",
    "    selectedProd = set(selectedProdLst)   \n",
    "    if len(selectedProd)>0:\n",
    "        selectedCatLst=list(database['productInsideCategoryRelation'][database['productInsideCategoryRelation']['id'].isin(selectedProd)]['mainid'].drop_duplicates())\n",
    "        selectedCat=set(selectedCatLst)\n",
    "\n",
    "possibleFacets = {}\n",
    "if len(selectedCat)>0:\n",
    "    broaderThanSelectedCat = set(database['categoryBroaderThanThanRelation'][database['categoryBroaderThanThanRelation']['catid'].isin(selectedCat)]['broaderid'])\n",
    "    broaderOrEqualThanSelectedCat=selectedCat.union(broaderThanSelectedCat)\n",
    "    possibleFacets = set(database['categoryFacetRelation'][database['categoryFacetRelation']['catid'].isin(broaderOrEqualThanSelectedCat)]['facetid'])\n",
    "\n",
    "if len(selectedProd)>0:\n",
    "    facetProdSerie = database['productFacetRelation'][database['productFacetRelation']['prodid'].isin(selectedProd)]['facetid']\n",
    "    possibleFacets=possibleFacets.union(facetProdSerie)\n",
    "    \n",
    "facets=[]\n",
    "for facet in possibleFacets:\n",
    "    fctvals=set(database['valuesInsideFacetRelation'][database['valuesInsideFacetRelation']['mainid']==facet]['id'])\n",
    "    tags = database['facetValTagIndex'][database['facetValTagIndex']['id'].isin(fctvals)]\n",
    "    selectedFacetVal=lookupForString(tags,searchStr,exclude=set(tagifySerie([selectedCatLst[0]])['tag']) if len(selectedCat)>0 else {},nmax=1)\n",
    "    facets.append({'facet':facet, 'value':selectedFacetVal[0] if len(selectedFacetVal)>0 else None})\n",
    "    \n",
    "ret={'category':selectedCatLst, 'product':selectedProd, 'facets':facets}\n",
    "ret"
   ]
  },
  {
   "cell_type": "code",
   "execution_count": null,
   "metadata": {},
   "outputs": [],
   "source": []
  },
  {
   "cell_type": "code",
   "execution_count": null,
   "metadata": {},
   "outputs": [],
   "source": [
    "def smartLookup(database,searchStr):\n",
    "    selectedCatLst=lookupForString(database['catetoryTagIndex'],searchStr)\n",
    "    selectedCat = set(selectedCatLst)\n",
    "\n",
    "    if len(selectedCat)>0:\n",
    "        serie = database['productTagIndex']\\\n",
    "                        .join(database['productInsideCategoryRelation'][\\\n",
    "                                database['productInsideCategoryRelation']['mainid'].apply(lambda mainid:(mainid in selectedCat))]\\\n",
    "                        .set_index('id'),on=['id'],how='inner')\n",
    "    else:\n",
    "        serie = database['productTagIndex']\n",
    "\n",
    "    selectedProd=lookupForString(serie,searchStr,exclude=set(tagifySerie([selectedCatLst[0]])['tag']) if len(selectedCat)>0 else {})\n",
    "    if len(selectedProd)>0:\n",
    "        selectedCatLst=list(database['productInsideCategoryRelation'][database['productInsideCategoryRelation']['id'].isin(selectedProd)]['mainid'].drop_duplicates())\n",
    "        selectedCat=set(selectedCatLst)\n",
    "    else:\n",
    "        selectedProdLst=list(database['productInsideCategoryRelation'][database['productInsideCategoryRelation']['mainid'].isin(selectedCat)]['id'].drop_duplicates())\n",
    "        selectedProd=set(selectedProdLst)\n",
    "\n",
    "    if len(selectedProd)>0:\n",
    "        facetProdSerie = database['productFacetRelation'][database['productFacetRelation']['prodid'].isin(selectedProd)]\n",
    "        facetProdSerie = facetProdSerie.join(database['valuesInsideFacetRelation'].set_index('mainid'),on=['facetid'],how='inner')\n",
    "        facetProdSerie = database['facetValTagIndex'].join(facetProdSerie.set_index('id'),on=['id'],how='inner')\n",
    "    else:\n",
    "        facetProdSerie = None\n",
    "\n",
    "    if len(selectedCat)>0:\n",
    "        broaderThanSelectedCat = set(database['categoryBroaderThanThanRelation'][database['categoryBroaderThanThanRelation']['catid'].isin(selectedCat)]['broaderid'])\n",
    "        broaderOrEqualThanSelectedCat=selectedCat.union(broaderThanSelectedCat)\n",
    "        facetSerie = database['categoryFacetRelation'][database['categoryFacetRelation']['catid'].isin(broaderOrEqualThanSelectedCat)]\n",
    "        facetSerie = facetSerie.join(database['valuesInsideFacetRelation'].set_index('mainid'),on=['facetid'],how='inner')\n",
    "        facetSerie = database['facetValTagIndex'].join(facetSerie.set_index('id'),on=['id'],how='inner')\n",
    "    else:\n",
    "        facetSerie = database['facetValTagIndex']\n",
    "\n",
    "    selectedFacetVal=lookupForString(facetSerie,searchStr,exclude=set(tagifySerie([selectedCatLst[0]])['tag']) if len(selectedCat)>0 else {},nmax=100000)\n",
    "    if not facetProdSerie is None:\n",
    "        selectedFacetProdVal=lookupForString(facetProdSerie,searchStr,exclude=set(tagifySerie([selectedCatLst[0]])['tag']) if len(selectedCat)>0 else {},nmax=100000)\n",
    "    else:\n",
    "        selectedFacetProdVal=[]\n",
    "\n",
    "    selectedFacetLst=[]\n",
    "    if len(selectedFacetVal)>0:\n",
    "        selectedFacetLst=list(database['valuesInsideFacetRelation'][database['valuesInsideFacetRelation']['id'].isin(selectedFacetVal)]['mainid'].drop_duplicates())\n",
    "        if len(selectedProd)>0:\n",
    "            selectedCatLst=list(database['productInsideCategoryRelation'][database['productInsideCategoryRelation']['id'].isin(selectedProd)]['mainid'].drop_duplicates())\n",
    "            selectedCat=set(selectedCatLst)\n",
    "\n",
    "    selectedFacetProdLst=[]\n",
    "    if len(selectedFacetProdVal)>0:\n",
    "        selectedFacetProdLst=list(database['valuesInsideFacetRelation'][database['valuesInsideFacetRelation']['id'].isin(selectedFacetProdVal)]['mainid'].drop_duplicates())\n",
    "        selectedProdLst=database['productFacetRelation'][database['productFacetRelation']['facetid'].isin(selectedFacetProdLst)]['prodid']\n",
    "        selectedProd = set(selectedProdLst)   \n",
    "        if len(selectedProd)>0:\n",
    "            selectedCatLst=list(database['productInsideCategoryRelation'][database['productInsideCategoryRelation']['id'].isin(selectedProd)]['mainid'].drop_duplicates())\n",
    "            selectedCat=set(selectedCatLst)\n",
    "\n",
    "    possibleFacets = {}\n",
    "    if len(selectedCat)>0:\n",
    "        broaderThanSelectedCat = set(database['categoryBroaderThanThanRelation'][database['categoryBroaderThanThanRelation']['catid'].isin(selectedCat)]['broaderid'])\n",
    "        broaderOrEqualThanSelectedCat=selectedCat.union(broaderThanSelectedCat)\n",
    "        possibleFacets = set(database['categoryFacetRelation'][database['categoryFacetRelation']['catid'].isin(broaderOrEqualThanSelectedCat)]['facetid'])\n",
    "\n",
    "    if len(selectedProd)>0:\n",
    "        facetProdSerie = database['productFacetRelation'][database['productFacetRelation']['prodid'].isin(selectedProd)]['facetid']\n",
    "        possibleFacets=possibleFacets.union(facetProdSerie)\n",
    "\n",
    "    facets=[]\n",
    "    for facet in possibleFacets:\n",
    "        fctvals=set(database['valuesInsideFacetRelation'][database['valuesInsideFacetRelation']['mainid']==facet]['id'])\n",
    "        tags = database['facetValTagIndex'][database['facetValTagIndex']['id'].isin(fctvals)]\n",
    "        selectedFacetVal=lookupForString(tags,searchStr,exclude=set(tagifySerie([selectedCatLst[0]])['tag']) if len(selectedCat)>0 else {},nmax=1)\n",
    "        facets.append({'facet':[facet], 'value':[selectedFacetVal[0] if len(selectedFacetVal)>0 else None]})\n",
    "\n",
    "    return {'category':selectedCatLst, 'product':selectedProd, 'facets':facets}"
   ]
  },
  {
   "cell_type": "code",
   "execution_count": null,
   "metadata": {},
   "outputs": [],
   "source": [
    "import ipywidgets as widgets\n",
    "from IPython.display import display,HTML,clear_output\n",
    "from flask_table import Table, Col, NestedTableCol"
   ]
  },
  {
   "cell_type": "code",
   "execution_count": null,
   "metadata": {},
   "outputs": [],
   "source": [
    "def getCategoryUI(database, category,clb):\n",
    "    c=[c for c in category if c.startswith('The-\"Category$')]\n",
    "    if(len(c)>0):\n",
    "        mainCat = c[0]\n",
    "    else:\n",
    "        mainCat = 'The-\"Category$Food\"'\n",
    "    nameMainCat=mainCat[mainCat.find('$')+1:-1].split('/')\n",
    "    curName=''\n",
    "    menu=[]\n",
    "    for n in nameMainCat:\n",
    "        curName=curName+'/'+n if curName!='' else n\n",
    "        curNameIns = 'The-\"Category$'+curName+'\"'\n",
    "        subIns = list(database['categoryHierarchy'][(database['categoryHierarchy']['super']==curNameIns) & (database['categoryHierarchy']['sub'].apply(lambda x: x.startswith('The-\"Category$')))]['sub'])\n",
    "        if len(subIns)==0:\n",
    "            break\n",
    "        subNames = [c[c.find('$')+1:-1].split('/')[-1] for c in subIns ]\n",
    "        tobbut= widgets.ToggleButtons(\n",
    "            options=subNames,\n",
    "            description=curName,\n",
    "            disabled=False,\n",
    "            button_style='info', # 'success', 'info', 'warning', 'danger' or ''\n",
    "            tooltips=subIns,\n",
    "            value = None\n",
    "        #     icons=['check'] * 3\n",
    "        )\n",
    "\n",
    "        menu.append(tobbut)\n",
    "\n",
    "    def on_value_change(b):\n",
    "        clb(b.owner.options[b.owner.index])\n",
    "\n",
    "    for i in range(len(menu)):\n",
    "        if i+1<len(nameMainCat):\n",
    "            menu[i].value=nameMainCat[i+1]\n",
    "        menu[i].observe(on_value_change, names='value')      \n",
    "\n",
    "    return widgets.VBox(menu)"
   ]
  },
  {
   "cell_type": "code",
   "execution_count": null,
   "metadata": {},
   "outputs": [],
   "source": [
    "def getProductUI(database, product,clb):\n",
    "    opc=[c[c.find('$')+1:-1].split('/')[-1] for c in product]\n",
    "    opc.sort()\n",
    "    tobbut= widgets.ToggleButtons(\n",
    "        options=opc,\n",
    "        description='Product',\n",
    "        disabled=False,\n",
    "        button_style='success', # 'success', 'info', 'warning', 'danger' or ''\n",
    "        tooltips=list(product),\n",
    "        value = None if len(product)>1 or len(product)==0 else opc[0]\n",
    "    #     icons=['check'] * 3\n",
    "    )\n",
    "    def on_value_change(b):\n",
    "        clb(b.owner.options[b.owner.index])\n",
    "\n",
    "    tobbut.observe(on_value_change, names='value')      \n",
    "        \n",
    "    return tobbut"
   ]
  },
  {
   "cell_type": "code",
   "execution_count": null,
   "metadata": {},
   "outputs": [],
   "source": [
    "def getFacetsUI(database, facets,clb):\n",
    "    menu=[]\n",
    "\n",
    "    for facetValDict in facets:\n",
    "        facetIns = facetValDict['facet'][0]\n",
    "        facetVal = facetValDict['value'][0] if not facetValDict['value'] is None else None\n",
    "        \n",
    "        pp=database['valuesInsideFacetRelation'][database['valuesInsideFacetRelation']['mainid']==facetIns]\n",
    "        facetVals = list(pp['id'])\n",
    "        facetVals.sort()\n",
    "        facetNames = [c[c.find('$')+1:-1].split('/')[-1] for c in facetVals]\n",
    "        tobbut= widgets.ToggleButtons(\n",
    "            options=facetNames,\n",
    "            description=facetIns[facetIns.find('$')+1:-1].split('/')[-1],\n",
    "            disabled=False,\n",
    "            button_style='', # 'success', 'info', 'warning', 'danger' or ''\n",
    "            tooltips=list(facetVals),\n",
    "            value = facetVal[facetVal.find('$')+1:-1].split('/')[-1] if not facetVal is None else None\n",
    "        #     icons=['check'] * 3\n",
    "        )\n",
    "        menu.append(tobbut)\n",
    "        def on_value_change(b):\n",
    "            clb(b.owner.options[b.owner.index])\n",
    "\n",
    "        tobbut.observe(on_value_change, names='value')      \n",
    "        \n",
    "    return widgets.VBox(menu)"
   ]
  },
  {
   "cell_type": "code",
   "execution_count": null,
   "metadata": {
    "scrolled": false
   },
   "outputs": [],
   "source": [
    "InitValue = 'meat cow waygu'\n",
    "\n",
    "import collections\n",
    "\n",
    "edit_widget=widgets.Text(\n",
    "                value = InitValue,\n",
    "                placeholder='Type something',\n",
    "                disabled=False,\n",
    "                layout=widgets.Layout(width='90%'),\n",
    "                style={'description_width': 'initial'}\n",
    "            )\n",
    "\n",
    "\n",
    "outoput_widget=widgets.Output()\n",
    "outoput_prods_widget=widgets.Output()\n",
    "\n",
    "def buildTextFromUI():\n",
    "    ui = outoput_widget.ui\n",
    "    catui = ui.children[0]\n",
    "    txt = ' '.join([tb.value for tb in catui.children if not tb.value is None])\n",
    "    \n",
    "    if len(ui.children)>1:\n",
    "        produi,facetui = ui.children[1],ui.children[2]\n",
    "        if not produi.value is None:\n",
    "            txt = txt+ ' '+produi.value\n",
    "    \n",
    "        txt = txt+ ' '+' '.join([tb.value for tb in facetui.children if not tb.value is None])\n",
    "    \n",
    "    return txt\n",
    "\n",
    "def onCategoryClicked(category):\n",
    "    edit_widget.value=buildTextFromUI()\n",
    "\n",
    "def onProductClicked(product):\n",
    "    edit_widget.value=buildTextFromUI()\n",
    "\n",
    "def onFacetClicked(facet):\n",
    "    edit_widget.value=buildTextFromUI()\n",
    "\n",
    "def reload(searchStr):\n",
    "    with outoput_widget:\n",
    "        clear_output()\n",
    "        look=smartLookup(database,searchStr)\n",
    "\n",
    "        catui=getCategoryUI(database,look['category'],onCategoryClicked)\n",
    "\n",
    "        if len(look['product'])>0:\n",
    "            produi=getProductUI(database,look['product'],onProductClicked)\n",
    "\n",
    "            facetui=getFacetsUI(database,look['facets'],onFacetClicked)\n",
    "\n",
    "            ui = widgets.VBox([catui,produi,facetui])\n",
    "        else:\n",
    "            ui = widgets.VBox([catui])\n",
    "        \n",
    "        outoput_widget.ui = ui\n",
    "        display(ui) \n",
    "\n",
    "\n",
    "def onChange(change):\n",
    "    searchStr=change.new\n",
    "    reload(searchStr)\n",
    "\n",
    "        \n",
    "onChange(collections.namedtuple('x','new')(new=edit_widget.value))\n",
    "edit_widget.observe(onChange, names=['cursor','value'])\n",
    "widgets.HBox([widgets.VBox([edit_widget,outoput_widget],layout=widgets.Layout(width='50%')),outoput_prods_widget])"
   ]
  },
  {
   "cell_type": "code",
   "execution_count": null,
   "metadata": {},
   "outputs": [],
   "source": []
  },
  {
   "cell_type": "code",
   "execution_count": null,
   "metadata": {},
   "outputs": [],
   "source": []
  },
  {
   "cell_type": "code",
   "execution_count": null,
   "metadata": {},
   "outputs": [],
   "source": []
  }
 ],
 "metadata": {
  "kernelspec": {
   "display_name": "Python 3",
   "language": "python",
   "name": "python3"
  },
  "language_info": {
   "codemirror_mode": {
    "name": "ipython",
    "version": 3
   },
   "file_extension": ".py",
   "mimetype": "text/x-python",
   "name": "python",
   "nbconvert_exporter": "python",
   "pygments_lexer": "ipython3",
   "version": "3.8.3"
  },
  "widgets": {
   "application/vnd.jupyter.widget-state+json": {
    "state": {
     "01dd8ea17c104e099cb2b28ca5cfa6f9": {
      "model_module": "@jupyter-widgets/controls",
      "model_module_version": "1.4.0",
      "model_name": "VBoxModel",
      "state": {
       "children": [
        "IPY_MODEL_63f02cf2d0bb4ff4ac295cd44c03d9cb",
        "IPY_MODEL_27485837b1644caa9cb38422cf8cff63"
       ],
       "layout": "IPY_MODEL_8f3feabb91dc4fa6a32ded89e6379a9a"
      }
     },
     "02504c5f735144e79f14ce804f8a69f8": {
      "model_module": "@jupyter-widgets/controls",
      "model_module_version": "1.4.0",
      "model_name": "SelectModel",
      "state": {
       "_options_labels": [
        "Every",
        "Every-single-thing",
        "<Proper-Name>"
       ],
       "index": 0,
       "layout": "IPY_MODEL_7427e9ed80f4452c9f5398831108cb23",
       "style": "IPY_MODEL_96ce8b03c7d94f5dbc9a8986c3faaac4"
      }
     },
     "03f20c852baa4426b35eb191fbe17109": {
      "model_module": "@jupyter-widgets/controls",
      "model_module_version": "1.4.0",
      "model_name": "DescriptionStyleModel",
      "state": {
       "description_width": "initial"
      }
     },
     "0431bd12d4e64b489732072beb31877d": {
      "model_module": "@jupyter-widgets/base",
      "model_module_version": "1.1.0",
      "model_name": "LayoutModel",
      "state": {}
     },
     "05119b65e63140aa8e8f5eb405e0edde": {
      "model_module": "@jupyter-widgets/controls",
      "model_module_version": "1.4.0",
      "model_name": "VBoxModel",
      "state": {
       "children": [
        "IPY_MODEL_357048546e85445a8445552f8a95fa96",
        "IPY_MODEL_4fbf59eec3534a9cb30dec40bef2a805"
       ],
       "layout": "IPY_MODEL_0431bd12d4e64b489732072beb31877d"
      }
     },
     "07b1de88566046ab843c6b33c1a33482": {
      "model_module": "@jupyter-widgets/base",
      "model_module_version": "1.1.0",
      "model_name": "LayoutModel",
      "state": {
       "width": "90%"
      }
     },
     "0863b06a5db04e19b02c0101e070166b": {
      "model_module": "@jupyter-widgets/controls",
      "model_module_version": "1.4.0",
      "model_name": "TextareaModel",
      "state": {
       "layout": "IPY_MODEL_87f808117765469bb4603b73751a6a15",
       "placeholder": "Type something",
       "style": "IPY_MODEL_27d4ccc5660a4ae490a8e0096edd042e"
      }
     },
     "0d97acce21c9452c9d8575bcb79f645a": {
      "model_module": "@jupyter-widgets/base",
      "model_module_version": "1.1.0",
      "model_name": "LayoutModel",
      "state": {
       "width": "90%"
      }
     },
     "0f491f241a074dd086ce967574c7564a": {
      "model_module": "@jupyter-widgets/base",
      "model_module_version": "1.1.0",
      "model_name": "LayoutModel",
      "state": {
       "width": "90%"
      }
     },
     "0fa3127e8f434f4fab267ef1bb90de06": {
      "model_module": "@jupyter-widgets/base",
      "model_module_version": "1.1.0",
      "model_name": "LayoutModel",
      "state": {
       "width": "90%"
      }
     },
     "10b5d6c1da0b479989af684ca50f5b6c": {
      "model_module": "@jupyter-widgets/base",
      "model_module_version": "1.1.0",
      "model_name": "LayoutModel",
      "state": {
       "width": "90%"
      }
     },
     "11ba7f6f247d4c1e917e065217c43d7f": {
      "model_module": "@jupyter-widgets/base",
      "model_module_version": "1.1.0",
      "model_name": "LayoutModel",
      "state": {
       "width": "90%"
      }
     },
     "146cedc816244442872a3cd1088e4757": {
      "model_module": "@jupyter-widgets/controls",
      "model_module_version": "1.4.0",
      "model_name": "DescriptionStyleModel",
      "state": {
       "description_width": "initial"
      }
     },
     "156e6561fd514b3b81f68bd3a02ed225": {
      "model_module": "@jupyter-widgets/controls",
      "model_module_version": "1.4.0",
      "model_name": "DescriptionStyleModel",
      "state": {
       "description_width": "initial"
      }
     },
     "17a5280aae154d7f9ede482d7c947e78": {
      "model_module": "@jupyter-widgets/controls",
      "model_module_version": "1.4.0",
      "model_name": "SelectModel",
      "state": {
       "_options_labels": [
        "anything",
        "every",
        "every-single-thing",
        "if",
        "no",
        "nothing",
        "something",
        "the",
        "the-one-and-only",
        "X",
        "Earth",
        "Sun",
        "Mercury",
        "Venus",
        "Moon",
        "Mars",
        "Phobos",
        "Deimos",
        "Jupiter",
        "Metis",
        "Adrastea",
        "Thebe",
        "Io",
        "Europa",
        "Ganymede",
        "Callisto",
        "Themisto",
        "Leda",
        "Himalia",
        "Lysithea",
        "Elara",
        "Ananke",
        "Carme",
        "Pasiphae",
        "Sinope",
        "Iocaste",
        "Harpalyke",
        "Praxidike",
        "Taygete",
        "Chaldene",
        "Kalyke",
        "Callirrhoe",
        "Megaclite",
        "Isonoe",
        "Erinome",
        "Saturn",
        "Pan",
        "Atlas",
        "Prometheus",
        "Pandora",
        "Epimetheus",
        "Janus",
        "Mimas",
        "Enceladus",
        "Tethys",
        "Telesto",
        "Calypso",
        "Dione",
        "Helene",
        "Rhea",
        "Titan",
        "Hyperion",
        "Iapetus",
        "Phoebe",
        "Uranus",
        "Cordelia",
        "Ophelia",
        "Bianca",
        "Cressida",
        "Desdemona",
        "Juliet",
        "Portia",
        "Rosalind",
        "Belinda",
        "Puck",
        "Miranda",
        "Ariel",
        "Umbriel",
        "Titania",
        "Oberon",
        "Caliban",
        "Stephano",
        "Sycorax",
        "Prospero",
        "Setebos",
        "Trinculo",
        "Neptune",
        "Naiad",
        "Thalassa",
        "Despina",
        "Galatea",
        "Larissa",
        "Proteus",
        "Triton",
        "Nereid",
        "Pluto",
        "Charon",
        "Nix",
        "Hydra",
        "Amalthea"
       ],
       "index": 0,
       "layout": "IPY_MODEL_11ba7f6f247d4c1e917e065217c43d7f",
       "style": "IPY_MODEL_2378297d9fda40bdba8b8c5d8a3cadbb"
      }
     },
     "1882b1f7384746fe906cc2d3f35f6093": {
      "model_module": "@jupyter-widgets/base",
      "model_module_version": "1.1.0",
      "model_name": "LayoutModel",
      "state": {}
     },
     "1962eb3b21ff46b09fe3ebd278c483e1": {
      "model_module": "@jupyter-widgets/controls",
      "model_module_version": "1.4.0",
      "model_name": "SelectModel",
      "state": {
       "index": null,
       "layout": "IPY_MODEL_10b5d6c1da0b479989af684ca50f5b6c",
       "style": "IPY_MODEL_8b15c1e57d91422d8831de1cd9b8298b"
      }
     },
     "1a8d3490ef604750a57e35d2bbf44ed0": {
      "model_module": "@jupyter-widgets/controls",
      "model_module_version": "1.4.0",
      "model_name": "DescriptionStyleModel",
      "state": {
       "description_width": "initial"
      }
     },
     "1b29e7d64c6749b7badbbaf6c3b1824b": {
      "model_module": "@jupyter-widgets/base",
      "model_module_version": "1.1.0",
      "model_name": "LayoutModel",
      "state": {
       "width": "90%"
      }
     },
     "1e84c4d0b0fc48e4ba60110cc7253cf1": {
      "model_module": "@jupyter-widgets/controls",
      "model_module_version": "1.4.0",
      "model_name": "DescriptionStyleModel",
      "state": {
       "description_width": "initial"
      }
     },
     "1f622650d0cc4319946101c4e5648568": {
      "model_module": "@jupyter-widgets/controls",
      "model_module_version": "1.4.0",
      "model_name": "VBoxModel",
      "state": {
       "children": [
        "IPY_MODEL_49756fc1ec70403290b16d6f86afaa03",
        "IPY_MODEL_edcefb046bdd4b62bf4c250d1b2509e8"
       ],
       "layout": "IPY_MODEL_1882b1f7384746fe906cc2d3f35f6093"
      }
     },
     "2038c15743494d1eaa2416bd47a5175d": {
      "model_module": "@jupyter-widgets/base",
      "model_module_version": "1.1.0",
      "model_name": "LayoutModel",
      "state": {
       "width": "90%"
      }
     },
     "229067d8b33e4508a48b303b11b3aea1": {
      "model_module": "@jupyter-widgets/controls",
      "model_module_version": "1.4.0",
      "model_name": "TextareaModel",
      "state": {
       "layout": "IPY_MODEL_a29ae851e4cc4a32bed4156b60241cb7",
       "placeholder": "Type something",
       "style": "IPY_MODEL_c507c8f3cae74d71a1ade6722117c7f2"
      }
     },
     "2378297d9fda40bdba8b8c5d8a3cadbb": {
      "model_module": "@jupyter-widgets/controls",
      "model_module_version": "1.4.0",
      "model_name": "DescriptionStyleModel",
      "state": {
       "description_width": "initial"
      }
     },
     "25e8f53219ac46f1b1c5d152ab14c970": {
      "model_module": "@jupyter-widgets/controls",
      "model_module_version": "1.4.0",
      "model_name": "TextareaModel",
      "state": {
       "layout": "IPY_MODEL_0d97acce21c9452c9d8575bcb79f645a",
       "placeholder": "Type something",
       "style": "IPY_MODEL_1a8d3490ef604750a57e35d2bbf44ed0",
       "value": "Every "
      }
     },
     "262b851bcdf44184b018b530691bc17c": {
      "model_module": "@jupyter-widgets/controls",
      "model_module_version": "1.4.0",
      "model_name": "VBoxModel",
      "state": {
       "children": [
        "IPY_MODEL_9becb92ef87944febe3e1a48b1cc391b",
        "IPY_MODEL_4a159d4745c44efc86ab37ff55c47ed1"
       ],
       "layout": "IPY_MODEL_2aee630301f944d1ba9b0e8b54b8f052"
      }
     },
     "26ec35b9d14f46a59e9be848e34f992f": {
      "model_module": "@jupyter-widgets/controls",
      "model_module_version": "1.4.0",
      "model_name": "VBoxModel",
      "state": {
       "children": [
        "IPY_MODEL_229067d8b33e4508a48b303b11b3aea1",
        "IPY_MODEL_5c55f36457a64fc78eb4d6fd59e96f5b"
       ],
       "layout": "IPY_MODEL_a0f35c44d9724b4689b84fca6bbbe456"
      }
     },
     "27485837b1644caa9cb38422cf8cff63": {
      "model_module": "@jupyter-widgets/controls",
      "model_module_version": "1.4.0",
      "model_name": "SelectModel",
      "state": {
       "_options_labels": [
        "<Proper-Name>"
       ],
       "index": 0,
       "layout": "IPY_MODEL_c3e97b7c896f45ec9c5e0df8001ce401",
       "style": "IPY_MODEL_b433f984bab24d8c8d1e58332b2875b4"
      }
     },
     "27d4ccc5660a4ae490a8e0096edd042e": {
      "model_module": "@jupyter-widgets/controls",
      "model_module_version": "1.4.0",
      "model_name": "DescriptionStyleModel",
      "state": {
       "description_width": "initial"
      }
     },
     "2aee630301f944d1ba9b0e8b54b8f052": {
      "model_module": "@jupyter-widgets/base",
      "model_module_version": "1.1.0",
      "model_name": "LayoutModel",
      "state": {}
     },
     "2b5cda67a4104b7bafe0c359c422d0ae": {
      "model_module": "@jupyter-widgets/base",
      "model_module_version": "1.1.0",
      "model_name": "LayoutModel",
      "state": {
       "width": "90%"
      }
     },
     "2d1c435aa2974d01a737190c751be926": {
      "model_module": "@jupyter-widgets/base",
      "model_module_version": "1.1.0",
      "model_name": "LayoutModel",
      "state": {
       "width": "90%"
      }
     },
     "2d70ba83e75d47609df5f6e54bb7f256": {
      "model_module": "@jupyter-widgets/base",
      "model_module_version": "1.1.0",
      "model_name": "LayoutModel",
      "state": {}
     },
     "2eca3e5112924df4b9d248e5cb981c6b": {
      "model_module": "@jupyter-widgets/controls",
      "model_module_version": "1.4.0",
      "model_name": "VBoxModel",
      "state": {
       "children": [
        "IPY_MODEL_872fa8a080cc42e4a76901304c089c7d",
        "IPY_MODEL_f666d81b663942b7827f50d6392b3d5d"
       ],
       "layout": "IPY_MODEL_c02914c289a2424b92b5e9ceb2647665"
      }
     },
     "3171ab59e8c4484cb10addb75aa2746a": {
      "model_module": "@jupyter-widgets/base",
      "model_module_version": "1.1.0",
      "model_name": "LayoutModel",
      "state": {
       "width": "90%"
      }
     },
     "331d92391d4a4625aff8ef69d6852f21": {
      "model_module": "@jupyter-widgets/controls",
      "model_module_version": "1.4.0",
      "model_name": "VBoxModel",
      "state": {
       "children": [
        "IPY_MODEL_c673637848af4f72a495cebb6845479b",
        "IPY_MODEL_02504c5f735144e79f14ce804f8a69f8"
       ],
       "layout": "IPY_MODEL_e8aa0bc57fca4700a03e4addf1cf8e16"
      }
     },
     "33df909178f9486eb145c076f3a403cb": {
      "model_module": "@jupyter-widgets/controls",
      "model_module_version": "1.4.0",
      "model_name": "SelectModel",
      "state": {
       "_options_labels": [
        "Every",
        "Every-single-thing",
        "If",
        "No",
        "Nothing",
        "Something",
        "The",
        "X",
        "Earth",
        "Sun",
        "Mercury",
        "Venus",
        "Moon",
        "Mars",
        "Phobos",
        "Deimos",
        "Jupiter",
        "Metis",
        "Adrastea",
        "Thebe",
        "Io",
        "Europa",
        "Ganymede",
        "Callisto",
        "Themisto",
        "Leda",
        "Himalia",
        "Lysithea",
        "Elara",
        "Ananke",
        "Carme",
        "Pasiphae",
        "Sinope",
        "Iocaste",
        "Harpalyke",
        "Praxidike",
        "Taygete",
        "Chaldene",
        "Kalyke",
        "Callirrhoe",
        "Megaclite",
        "Isonoe",
        "Erinome",
        "Saturn",
        "Pan",
        "Atlas",
        "Prometheus",
        "Pandora",
        "Epimetheus",
        "Janus",
        "Mimas",
        "Enceladus",
        "Tethys",
        "Telesto",
        "Calypso",
        "Dione",
        "Helene",
        "Rhea",
        "Titan",
        "Hyperion",
        "Iapetus",
        "Phoebe",
        "Uranus",
        "Cordelia",
        "Ophelia",
        "Bianca",
        "Cressida",
        "Desdemona",
        "Juliet",
        "Portia",
        "Rosalind",
        "Belinda",
        "Puck",
        "Miranda",
        "Ariel",
        "Umbriel",
        "Titania",
        "Oberon",
        "Caliban",
        "Stephano",
        "Sycorax",
        "Prospero",
        "Setebos",
        "Trinculo",
        "Neptune",
        "Naiad",
        "Thalassa",
        "Despina",
        "Galatea",
        "Larissa",
        "Proteus",
        "Triton",
        "Nereid",
        "Pluto",
        "Charon",
        "Nix",
        "Hydra",
        "Amalthea"
       ],
       "index": 0,
       "layout": "IPY_MODEL_61e828d0db6c4e38bf18f5c20cb2c79a",
       "style": "IPY_MODEL_58b0f3f8d0ec45cd99e980faeb1689ff"
      }
     },
     "357048546e85445a8445552f8a95fa96": {
      "model_module": "@jupyter-widgets/controls",
      "model_module_version": "1.4.0",
      "model_name": "TextareaModel",
      "state": {
       "layout": "IPY_MODEL_ecab57e671f54f66971e1fd10690ce1a",
       "placeholder": "Type something",
       "style": "IPY_MODEL_1e84c4d0b0fc48e4ba60110cc7253cf1"
      }
     },
     "35be1247c81c4ebf80335e363b7885f7": {
      "model_module": "@jupyter-widgets/base",
      "model_module_version": "1.1.0",
      "model_name": "LayoutModel",
      "state": {
       "width": "90%"
      }
     },
     "3760fd0f4dee41af9892335831d6ddf0": {
      "model_module": "@jupyter-widgets/base",
      "model_module_version": "1.1.0",
      "model_name": "LayoutModel",
      "state": {
       "width": "90%"
      }
     },
     "3886172942f04f25b8cb3402a77be8b6": {
      "model_module": "@jupyter-widgets/controls",
      "model_module_version": "1.4.0",
      "model_name": "VBoxModel",
      "state": {
       "children": [
        "IPY_MODEL_4c2040ca1cc742a2a66eeb6e97d4e91f",
        "IPY_MODEL_5fbc6e40bfae4c6bacc15eb0018d342a"
       ],
       "layout": "IPY_MODEL_6ddc5ad410bf4dd88250e8701603d574"
      }
     },
     "39f209f29b7e4f28bd86649c3caa6597": {
      "model_module": "@jupyter-widgets/controls",
      "model_module_version": "1.4.0",
      "model_name": "SelectModel",
      "state": {
       "_options_labels": [
        "Every",
        "Every-single-thing",
        "If",
        "No",
        "Nothing",
        "Something",
        "The",
        "X",
        "Earth",
        "Sun",
        "Mercury",
        "Venus",
        "Moon",
        "Mars",
        "Phobos",
        "Deimos",
        "Jupiter",
        "Metis",
        "Adrastea",
        "Thebe",
        "Io",
        "Europa",
        "Ganymede",
        "Callisto",
        "Themisto",
        "Leda",
        "Himalia",
        "Lysithea",
        "Elara",
        "Ananke",
        "Carme",
        "Pasiphae",
        "Sinope",
        "Iocaste",
        "Harpalyke",
        "Praxidike",
        "Taygete",
        "Chaldene",
        "Kalyke",
        "Callirrhoe",
        "Megaclite",
        "Isonoe",
        "Erinome",
        "Saturn",
        "Pan",
        "Atlas",
        "Prometheus",
        "Pandora",
        "Epimetheus",
        "Janus",
        "Mimas",
        "Enceladus",
        "Tethys",
        "Telesto",
        "Calypso",
        "Dione",
        "Helene",
        "Rhea",
        "Titan",
        "Hyperion",
        "Iapetus",
        "Phoebe",
        "Uranus",
        "Cordelia",
        "Ophelia",
        "Bianca",
        "Cressida",
        "Desdemona",
        "Juliet",
        "Portia",
        "Rosalind",
        "Belinda",
        "Puck",
        "Miranda",
        "Ariel",
        "Umbriel",
        "Titania",
        "Oberon",
        "Caliban",
        "Stephano",
        "Sycorax",
        "Prospero",
        "Setebos",
        "Trinculo",
        "Neptune",
        "Naiad",
        "Thalassa",
        "Despina",
        "Galatea",
        "Larissa",
        "Proteus",
        "Triton",
        "Nereid",
        "Pluto",
        "Charon",
        "Nix",
        "Hydra",
        "Amalthea"
       ],
       "index": 0,
       "layout": "IPY_MODEL_7a743dfe2072422c8a82d2edafe415c2",
       "style": "IPY_MODEL_cf91d29144c6428dbe4a57ec5daa0559"
      }
     },
     "3fda814c78254ee0943a98907b19faa0": {
      "model_module": "@jupyter-widgets/controls",
      "model_module_version": "1.4.0",
      "model_name": "DescriptionStyleModel",
      "state": {
       "description_width": "initial"
      }
     },
     "40139c5f94da4ac6850a7ab19e1b8ff0": {
      "model_module": "@jupyter-widgets/controls",
      "model_module_version": "1.4.0",
      "model_name": "TextareaModel",
      "state": {
       "layout": "IPY_MODEL_c8aff3b1b9bf42a1b693314414158561",
       "placeholder": "Type something",
       "style": "IPY_MODEL_434beb56716b4d4199cd9b30d890b5dc",
       "value": "Every star is a planet"
      }
     },
     "434beb56716b4d4199cd9b30d890b5dc": {
      "model_module": "@jupyter-widgets/controls",
      "model_module_version": "1.4.0",
      "model_name": "DescriptionStyleModel",
      "state": {
       "description_width": "initial"
      }
     },
     "43a0b336d395497ab77f3dae355f7d39": {
      "model_module": "@jupyter-widgets/controls",
      "model_module_version": "1.4.0",
      "model_name": "TextareaModel",
      "state": {
       "layout": "IPY_MODEL_986416b6ed2a4771a8c7301ca69dc7e7",
       "placeholder": "Type something",
       "style": "IPY_MODEL_6bb9669a422f43208d51de2f1359c3af"
      }
     },
     "43ef6f0db7014da7b93efc69ee461a11": {
      "model_module": "@jupyter-widgets/controls",
      "model_module_version": "1.4.0",
      "model_name": "DescriptionStyleModel",
      "state": {
       "description_width": "initial"
      }
     },
     "4411c87e5835477993336686f013a99e": {
      "model_module": "@jupyter-widgets/base",
      "model_module_version": "1.1.0",
      "model_name": "LayoutModel",
      "state": {}
     },
     "4678d96dc44c410aa9fb029a5e388cd7": {
      "model_module": "@jupyter-widgets/controls",
      "model_module_version": "1.4.0",
      "model_name": "TextareaModel",
      "state": {
       "layout": "IPY_MODEL_dbc8edf5ad284155ad80d4d4338dec9c",
       "placeholder": "Type something",
       "style": "IPY_MODEL_7e7e2897f7c8463089aa3696b747f1ea",
       "value": "Every star is a planet "
      }
     },
     "47198986ae3d4937aa99d8ec56f583bb": {
      "model_module": "@jupyter-widgets/base",
      "model_module_version": "1.1.0",
      "model_name": "LayoutModel",
      "state": {
       "width": "90%"
      }
     },
     "49756fc1ec70403290b16d6f86afaa03": {
      "model_module": "@jupyter-widgets/controls",
      "model_module_version": "1.4.0",
      "model_name": "TextareaModel",
      "state": {
       "layout": "IPY_MODEL_ad8baf21d16f45e481c64c95f0202452",
       "placeholder": "Type something",
       "style": "IPY_MODEL_a6ef94d5bc7d496793663a5b53965d35",
       "value": "E"
      }
     },
     "4a140e21e6e44a49b538dfb1007385a6": {
      "model_module": "@jupyter-widgets/base",
      "model_module_version": "1.1.0",
      "model_name": "LayoutModel",
      "state": {
       "width": "90%"
      }
     },
     "4a159d4745c44efc86ab37ff55c47ed1": {
      "model_module": "@jupyter-widgets/controls",
      "model_module_version": "1.4.0",
      "model_name": "SelectModel",
      "state": {
       "_options_labels": [
        "Every",
        "Every-single-thing",
        "If",
        "No",
        "Nothing",
        "Something",
        "The",
        "X",
        "Earth",
        "Sun",
        "Mercury",
        "Venus",
        "Moon",
        "Mars",
        "Phobos",
        "Deimos",
        "Jupiter",
        "Metis",
        "Adrastea",
        "Thebe",
        "Io",
        "Europa",
        "Ganymede",
        "Callisto",
        "Themisto",
        "Leda",
        "Himalia",
        "Lysithea",
        "Elara",
        "Ananke",
        "Carme",
        "Pasiphae",
        "Sinope",
        "Iocaste",
        "Harpalyke",
        "Praxidike",
        "Taygete",
        "Chaldene",
        "Kalyke",
        "Callirrhoe",
        "Megaclite",
        "Isonoe",
        "Erinome",
        "Saturn",
        "Pan",
        "Atlas",
        "Prometheus",
        "Pandora",
        "Epimetheus",
        "Janus",
        "Mimas",
        "Enceladus",
        "Tethys",
        "Telesto",
        "Calypso",
        "Dione",
        "Helene",
        "Rhea",
        "Titan",
        "Hyperion",
        "Iapetus",
        "Phoebe",
        "Uranus",
        "Cordelia",
        "Ophelia",
        "Bianca",
        "Cressida",
        "Desdemona",
        "Juliet",
        "Portia",
        "Rosalind",
        "Belinda",
        "Puck",
        "Miranda",
        "Ariel",
        "Umbriel",
        "Titania",
        "Oberon",
        "Caliban",
        "Stephano",
        "Sycorax",
        "Prospero",
        "Setebos",
        "Trinculo",
        "Neptune",
        "Naiad",
        "Thalassa",
        "Despina",
        "Galatea",
        "Larissa",
        "Proteus",
        "Triton",
        "Nereid",
        "Pluto",
        "Charon",
        "Nix",
        "Hydra",
        "Amalthea"
       ],
       "index": 0,
       "layout": "IPY_MODEL_def9645218414232a631e7e14daf7797",
       "style": "IPY_MODEL_60e4a579bae64045929bf2da1e604b93"
      }
     },
     "4b25f4a8157f451fa1817961be95502e": {
      "model_module": "@jupyter-widgets/base",
      "model_module_version": "1.1.0",
      "model_name": "LayoutModel",
      "state": {
       "width": "90%"
      }
     },
     "4bbb46a899174d11ba09d829471358c0": {
      "model_module": "@jupyter-widgets/controls",
      "model_module_version": "1.4.0",
      "model_name": "VBoxModel",
      "state": {
       "children": [
        "IPY_MODEL_43a0b336d395497ab77f3dae355f7d39",
        "IPY_MODEL_39f209f29b7e4f28bd86649c3caa6597"
       ],
       "layout": "IPY_MODEL_2d70ba83e75d47609df5f6e54bb7f256"
      }
     },
     "4c2040ca1cc742a2a66eeb6e97d4e91f": {
      "model_module": "@jupyter-widgets/controls",
      "model_module_version": "1.4.0",
      "model_name": "TextareaModel",
      "state": {
       "layout": "IPY_MODEL_9ce656bbeccc4f99bbd2a3bfd7b8d112",
       "placeholder": "Type something",
       "style": "IPY_MODEL_43ef6f0db7014da7b93efc69ee461a11"
      }
     },
     "4c98f214f5334ab282e817c818e710fb": {
      "model_module": "@jupyter-widgets/base",
      "model_module_version": "1.1.0",
      "model_name": "LayoutModel",
      "state": {
       "width": "90%"
      }
     },
     "4e48202a1f894da8947aff591b752a1f": {
      "model_module": "@jupyter-widgets/base",
      "model_module_version": "1.1.0",
      "model_name": "LayoutModel",
      "state": {
       "width": "90%"
      }
     },
     "4f50e25800c94195836ab99b1cd79611": {
      "model_module": "@jupyter-widgets/base",
      "model_module_version": "1.1.0",
      "model_name": "LayoutModel",
      "state": {
       "width": "90%"
      }
     },
     "4fbf59eec3534a9cb30dec40bef2a805": {
      "model_module": "@jupyter-widgets/controls",
      "model_module_version": "1.4.0",
      "model_name": "SelectModel",
      "state": {
       "_options_labels": [
        "Every",
        "Every-single-thing",
        "If",
        "No",
        "Nothing",
        "Something",
        "The",
        "X",
        "Earth",
        "Sun",
        "Mercury",
        "Venus",
        "Moon",
        "Mars",
        "Phobos",
        "Deimos",
        "Jupiter",
        "Metis",
        "Adrastea",
        "Thebe",
        "Io",
        "Europa",
        "Ganymede",
        "Callisto",
        "Themisto",
        "Leda",
        "Himalia",
        "Lysithea",
        "Elara",
        "Ananke",
        "Carme",
        "Pasiphae",
        "Sinope",
        "Iocaste",
        "Harpalyke",
        "Praxidike",
        "Taygete",
        "Chaldene",
        "Kalyke",
        "Callirrhoe",
        "Megaclite",
        "Isonoe",
        "Erinome",
        "Saturn",
        "Pan",
        "Atlas",
        "Prometheus",
        "Pandora",
        "Epimetheus",
        "Janus",
        "Mimas",
        "Enceladus",
        "Tethys",
        "Telesto",
        "Calypso",
        "Dione",
        "Helene",
        "Rhea",
        "Titan",
        "Hyperion",
        "Iapetus",
        "Phoebe",
        "Uranus",
        "Cordelia",
        "Ophelia",
        "Bianca",
        "Cressida",
        "Desdemona",
        "Juliet",
        "Portia",
        "Rosalind",
        "Belinda",
        "Puck",
        "Miranda",
        "Ariel",
        "Umbriel",
        "Titania",
        "Oberon",
        "Caliban",
        "Stephano",
        "Sycorax",
        "Prospero",
        "Setebos",
        "Trinculo",
        "Neptune",
        "Naiad",
        "Thalassa",
        "Despina",
        "Galatea",
        "Larissa",
        "Proteus",
        "Triton",
        "Nereid",
        "Pluto",
        "Charon",
        "Nix",
        "Hydra",
        "Amalthea"
       ],
       "index": 0,
       "layout": "IPY_MODEL_c74402ccc47d43d2a881fc20d0adf49b",
       "style": "IPY_MODEL_a81ffce7dd474b2b8a0d5499e16aa5a5"
      }
     },
     "509117a9cac846029ddc07619cf2382f": {
      "model_module": "@jupyter-widgets/controls",
      "model_module_version": "1.4.0",
      "model_name": "VBoxModel",
      "state": {
       "children": [
        "IPY_MODEL_4678d96dc44c410aa9fb029a5e388cd7",
        "IPY_MODEL_5f062eb8abce43d1a0f2d63aff740869"
       ],
       "layout": "IPY_MODEL_b8ba4cbbbe854828bc44880fe533a7e9"
      }
     },
     "58b0f3f8d0ec45cd99e980faeb1689ff": {
      "model_module": "@jupyter-widgets/controls",
      "model_module_version": "1.4.0",
      "model_name": "DescriptionStyleModel",
      "state": {
       "description_width": "initial"
      }
     },
     "5a3e9e4eeeb748e3bffa4e381620d4d3": {
      "model_module": "@jupyter-widgets/controls",
      "model_module_version": "1.4.0",
      "model_name": "TextareaModel",
      "state": {
       "layout": "IPY_MODEL_7b95430ed3c04f2e98910ab675871bbc",
       "placeholder": "Type something",
       "style": "IPY_MODEL_effc1cd5acee4ca4a3b642f9ab222f19"
      }
     },
     "5ac79de8e7e24fd78175c7c5d6ebeae8": {
      "model_module": "@jupyter-widgets/base",
      "model_module_version": "1.1.0",
      "model_name": "LayoutModel",
      "state": {
       "width": "90%"
      }
     },
     "5b83ab96d2704bd0904ea508ed7c7d14": {
      "model_module": "@jupyter-widgets/base",
      "model_module_version": "1.1.0",
      "model_name": "LayoutModel",
      "state": {}
     },
     "5c55f36457a64fc78eb4d6fd59e96f5b": {
      "model_module": "@jupyter-widgets/controls",
      "model_module_version": "1.4.0",
      "model_name": "SelectModel",
      "state": {
       "_options_labels": [
        "Every",
        "Every-single-thing",
        "If",
        "No",
        "Nothing",
        "Something",
        "The",
        "X",
        "Earth",
        "Sun",
        "Mercury",
        "Venus",
        "Moon",
        "Mars",
        "Phobos",
        "Deimos",
        "Jupiter",
        "Metis",
        "Adrastea",
        "Thebe",
        "Io",
        "Europa",
        "Ganymede",
        "Callisto",
        "Themisto",
        "Leda",
        "Himalia",
        "Lysithea",
        "Elara",
        "Ananke",
        "Carme",
        "Pasiphae",
        "Sinope",
        "Iocaste",
        "Harpalyke",
        "Praxidike",
        "Taygete",
        "Chaldene",
        "Kalyke",
        "Callirrhoe",
        "Megaclite",
        "Isonoe",
        "Erinome",
        "Saturn",
        "Pan",
        "Atlas",
        "Prometheus",
        "Pandora",
        "Epimetheus",
        "Janus",
        "Mimas",
        "Enceladus",
        "Tethys",
        "Telesto",
        "Calypso",
        "Dione",
        "Helene",
        "Rhea",
        "Titan",
        "Hyperion",
        "Iapetus",
        "Phoebe",
        "Uranus",
        "Cordelia",
        "Ophelia",
        "Bianca",
        "Cressida",
        "Desdemona",
        "Juliet",
        "Portia",
        "Rosalind",
        "Belinda",
        "Puck",
        "Miranda",
        "Ariel",
        "Umbriel",
        "Titania",
        "Oberon",
        "Caliban",
        "Stephano",
        "Sycorax",
        "Prospero",
        "Setebos",
        "Trinculo",
        "Neptune",
        "Naiad",
        "Thalassa",
        "Despina",
        "Galatea",
        "Larissa",
        "Proteus",
        "Triton",
        "Nereid",
        "Pluto",
        "Charon",
        "Nix",
        "Hydra",
        "Amalthea"
       ],
       "index": 0,
       "layout": "IPY_MODEL_47198986ae3d4937aa99d8ec56f583bb",
       "style": "IPY_MODEL_82500fee41e047828578dea9be6a7577"
      }
     },
     "5d7f775b3d6a4e509b88b7cf81bc36d4": {
      "model_module": "@jupyter-widgets/controls",
      "model_module_version": "1.4.0",
      "model_name": "SelectModel",
      "state": {
       "_options_labels": [
        "Every",
        "Every-single-thing",
        "<Proper-Name>"
       ],
       "index": 0,
       "layout": "IPY_MODEL_35be1247c81c4ebf80335e363b7885f7",
       "style": "IPY_MODEL_e9c17ff64d474cb8a7b36b727ba6f3e6"
      }
     },
     "5f062eb8abce43d1a0f2d63aff740869": {
      "model_module": "@jupyter-widgets/controls",
      "model_module_version": "1.4.0",
      "model_name": "SelectModel",
      "state": {
       "_options_labels": [
        "(",
        "and",
        "and-or",
        "that",
        "."
       ],
       "index": 0,
       "layout": "IPY_MODEL_e63b4521bbc84265882b4ca9931f891f",
       "style": "IPY_MODEL_6d9d90143620416b85d40ed4a5b987ee"
      }
     },
     "5fbc6e40bfae4c6bacc15eb0018d342a": {
      "model_module": "@jupyter-widgets/controls",
      "model_module_version": "1.4.0",
      "model_name": "SelectModel",
      "state": {
       "_options_labels": [
        "Every",
        "Every-single-thing",
        "If",
        "No",
        "Nothing",
        "Something",
        "The",
        "X",
        "Earth",
        "Sun",
        "Mercury",
        "Venus",
        "Moon",
        "Mars",
        "Phobos",
        "Deimos",
        "Jupiter",
        "Metis",
        "Adrastea",
        "Thebe",
        "Io",
        "Europa",
        "Ganymede",
        "Callisto",
        "Themisto",
        "Leda",
        "Himalia",
        "Lysithea",
        "Elara",
        "Ananke",
        "Carme",
        "Pasiphae",
        "Sinope",
        "Iocaste",
        "Harpalyke",
        "Praxidike",
        "Taygete",
        "Chaldene",
        "Kalyke",
        "Callirrhoe",
        "Megaclite",
        "Isonoe",
        "Erinome",
        "Saturn",
        "Pan",
        "Atlas",
        "Prometheus",
        "Pandora",
        "Epimetheus",
        "Janus",
        "Mimas",
        "Enceladus",
        "Tethys",
        "Telesto",
        "Calypso",
        "Dione",
        "Helene",
        "Rhea",
        "Titan",
        "Hyperion",
        "Iapetus",
        "Phoebe",
        "Uranus",
        "Cordelia",
        "Ophelia",
        "Bianca",
        "Cressida",
        "Desdemona",
        "Juliet",
        "Portia",
        "Rosalind",
        "Belinda",
        "Puck",
        "Miranda",
        "Ariel",
        "Umbriel",
        "Titania",
        "Oberon",
        "Caliban",
        "Stephano",
        "Sycorax",
        "Prospero",
        "Setebos",
        "Trinculo",
        "Neptune",
        "Naiad",
        "Thalassa",
        "Despina",
        "Galatea",
        "Larissa",
        "Proteus",
        "Triton",
        "Nereid",
        "Pluto",
        "Charon",
        "Nix",
        "Hydra",
        "Amalthea"
       ],
       "index": 0,
       "layout": "IPY_MODEL_5ac79de8e7e24fd78175c7c5d6ebeae8",
       "style": "IPY_MODEL_b1c8b5e0dd214c72b7227379b44dae73"
      }
     },
     "60561567f7214b8ca5da53f789698fa5": {
      "model_module": "@jupyter-widgets/controls",
      "model_module_version": "1.4.0",
      "model_name": "DescriptionStyleModel",
      "state": {
       "description_width": "initial"
      }
     },
     "60e4a579bae64045929bf2da1e604b93": {
      "model_module": "@jupyter-widgets/controls",
      "model_module_version": "1.4.0",
      "model_name": "DescriptionStyleModel",
      "state": {
       "description_width": "initial"
      }
     },
     "6138e9766e7348adaebff595f0e1ba2d": {
      "model_module": "@jupyter-widgets/base",
      "model_module_version": "1.1.0",
      "model_name": "LayoutModel",
      "state": {}
     },
     "61bc818a123d46a7be565b3f339de3f1": {
      "model_module": "@jupyter-widgets/controls",
      "model_module_version": "1.4.0",
      "model_name": "DescriptionStyleModel",
      "state": {
       "description_width": "initial"
      }
     },
     "61e828d0db6c4e38bf18f5c20cb2c79a": {
      "model_module": "@jupyter-widgets/base",
      "model_module_version": "1.1.0",
      "model_name": "LayoutModel",
      "state": {
       "width": "90%"
      }
     },
     "633919b41021464daa5a3172b43bd94e": {
      "model_module": "@jupyter-widgets/controls",
      "model_module_version": "1.4.0",
      "model_name": "VBoxModel",
      "state": {
       "children": [
        "IPY_MODEL_7686a318c04c41b8b8cb420070aa2d2c",
        "IPY_MODEL_bab1d2de7715464d968b836fc71ede6c"
       ],
       "layout": "IPY_MODEL_984f3b94b3814ef49927b98207ef1513"
      }
     },
     "6356a9fc31784b789fde072db2f3bab1": {
      "model_module": "@jupyter-widgets/controls",
      "model_module_version": "1.4.0",
      "model_name": "DescriptionStyleModel",
      "state": {
       "description_width": "initial"
      }
     },
     "63d7d7193dd048d3b0c631aa9bb3aef9": {
      "model_module": "@jupyter-widgets/controls",
      "model_module_version": "1.4.0",
      "model_name": "SelectModel",
      "state": {
       "_options_labels": [
        "Every",
        "Every-single-thing",
        "If",
        "No",
        "Nothing",
        "Something",
        "The",
        "X",
        "Earth",
        "Sun",
        "Mercury",
        "Venus",
        "Moon",
        "Mars",
        "Phobos",
        "Deimos",
        "Jupiter",
        "Metis",
        "Adrastea",
        "Thebe",
        "Io",
        "Europa",
        "Ganymede",
        "Callisto",
        "Themisto",
        "Leda",
        "Himalia",
        "Lysithea",
        "Elara",
        "Ananke",
        "Carme",
        "Pasiphae",
        "Sinope",
        "Iocaste",
        "Harpalyke",
        "Praxidike",
        "Taygete",
        "Chaldene",
        "Kalyke",
        "Callirrhoe",
        "Megaclite",
        "Isonoe",
        "Erinome",
        "Saturn",
        "Pan",
        "Atlas",
        "Prometheus",
        "Pandora",
        "Epimetheus",
        "Janus",
        "Mimas",
        "Enceladus",
        "Tethys",
        "Telesto",
        "Calypso",
        "Dione",
        "Helene",
        "Rhea",
        "Titan",
        "Hyperion",
        "Iapetus",
        "Phoebe",
        "Uranus",
        "Cordelia",
        "Ophelia",
        "Bianca",
        "Cressida",
        "Desdemona",
        "Juliet",
        "Portia",
        "Rosalind",
        "Belinda",
        "Puck",
        "Miranda",
        "Ariel",
        "Umbriel",
        "Titania",
        "Oberon",
        "Caliban",
        "Stephano",
        "Sycorax",
        "Prospero",
        "Setebos",
        "Trinculo",
        "Neptune",
        "Naiad",
        "Thalassa",
        "Despina",
        "Galatea",
        "Larissa",
        "Proteus",
        "Triton",
        "Nereid",
        "Pluto",
        "Charon",
        "Nix",
        "Hydra",
        "Amalthea"
       ],
       "index": 0,
       "layout": "IPY_MODEL_6a33f946ac2449938ca836e6151c6ee3",
       "style": "IPY_MODEL_f9018487e15e49d58270a9f1a03d38cd"
      }
     },
     "63f02cf2d0bb4ff4ac295cd44c03d9cb": {
      "model_module": "@jupyter-widgets/controls",
      "model_module_version": "1.4.0",
      "model_name": "TextareaModel",
      "state": {
       "layout": "IPY_MODEL_0fa3127e8f434f4fab267ef1bb90de06",
       "placeholder": "Type something",
       "style": "IPY_MODEL_ab0608eab3864984916f218d6ba61153",
       "value": "Eeve"
      }
     },
     "670b0b974a3b469b8c4487be718093a3": {
      "model_module": "@jupyter-widgets/base",
      "model_module_version": "1.1.0",
      "model_name": "LayoutModel",
      "state": {}
     },
     "6a33f946ac2449938ca836e6151c6ee3": {
      "model_module": "@jupyter-widgets/base",
      "model_module_version": "1.1.0",
      "model_name": "LayoutModel",
      "state": {
       "width": "90%"
      }
     },
     "6bb9669a422f43208d51de2f1359c3af": {
      "model_module": "@jupyter-widgets/controls",
      "model_module_version": "1.4.0",
      "model_name": "DescriptionStyleModel",
      "state": {
       "description_width": "initial"
      }
     },
     "6bc4339bc1a24bf493c0457a66bc1eac": {
      "model_module": "@jupyter-widgets/controls",
      "model_module_version": "1.4.0",
      "model_name": "TextareaModel",
      "state": {
       "layout": "IPY_MODEL_9f68c3ea2a0940608fe3faafe2d1b98f",
       "placeholder": "Type something",
       "style": "IPY_MODEL_ab1ee7bb23d9430e9067a171a00fbeb5"
      }
     },
     "6d5a6cdbe9cb43fe83071bd249856e10": {
      "model_module": "@jupyter-widgets/controls",
      "model_module_version": "1.4.0",
      "model_name": "DescriptionStyleModel",
      "state": {
       "description_width": "initial"
      }
     },
     "6d9d90143620416b85d40ed4a5b987ee": {
      "model_module": "@jupyter-widgets/controls",
      "model_module_version": "1.4.0",
      "model_name": "DescriptionStyleModel",
      "state": {
       "description_width": "initial"
      }
     },
     "6ddc5ad410bf4dd88250e8701603d574": {
      "model_module": "@jupyter-widgets/base",
      "model_module_version": "1.1.0",
      "model_name": "LayoutModel",
      "state": {}
     },
     "70acc055e790487db3cd53d2da1ced23": {
      "model_module": "@jupyter-widgets/controls",
      "model_module_version": "1.4.0",
      "model_name": "TextareaModel",
      "state": {
       "layout": "IPY_MODEL_d00cf48d694847a1b5fe0726650c8299",
       "placeholder": "Type something",
       "style": "IPY_MODEL_759134b9a1654ee7ac05201630bc8f2a",
       "value": "Every star is a planet"
      }
     },
     "714829b2d35c40a6a48be1428dc0f82e": {
      "model_module": "@jupyter-widgets/base",
      "model_module_version": "1.1.0",
      "model_name": "LayoutModel",
      "state": {
       "width": "90%"
      }
     },
     "71723ae9ee0b4d20bf9d12b3a93b977b": {
      "model_module": "@jupyter-widgets/base",
      "model_module_version": "1.1.0",
      "model_name": "LayoutModel",
      "state": {
       "width": "90%"
      }
     },
     "72a6ef3bac3f4d979507a3e74dfe0f7b": {
      "model_module": "@jupyter-widgets/base",
      "model_module_version": "1.1.0",
      "model_name": "LayoutModel",
      "state": {
       "width": "90%"
      }
     },
     "7427e9ed80f4452c9f5398831108cb23": {
      "model_module": "@jupyter-widgets/base",
      "model_module_version": "1.1.0",
      "model_name": "LayoutModel",
      "state": {
       "width": "90%"
      }
     },
     "74718af4f7ef46bfa1cfbb67a653de95": {
      "model_module": "@jupyter-widgets/base",
      "model_module_version": "1.1.0",
      "model_name": "LayoutModel",
      "state": {
       "width": "90%"
      }
     },
     "759134b9a1654ee7ac05201630bc8f2a": {
      "model_module": "@jupyter-widgets/controls",
      "model_module_version": "1.4.0",
      "model_name": "DescriptionStyleModel",
      "state": {
       "description_width": "initial"
      }
     },
     "7686a318c04c41b8b8cb420070aa2d2c": {
      "model_module": "@jupyter-widgets/controls",
      "model_module_version": "1.4.0",
      "model_name": "TextareaModel",
      "state": {
       "layout": "IPY_MODEL_1b29e7d64c6749b7badbbaf6c3b1824b",
       "placeholder": "Type something",
       "style": "IPY_MODEL_9c57e13750b941c4b0e314119c156a9a",
       "value": "E"
      }
     },
     "77093bfd117b4fca9070d892b0c1c614": {
      "model_module": "@jupyter-widgets/controls",
      "model_module_version": "1.4.0",
      "model_name": "VBoxModel",
      "state": {
       "children": [
        "IPY_MODEL_6bc4339bc1a24bf493c0457a66bc1eac",
        "IPY_MODEL_e92e503d2522413eb840d3c6c02d66b6"
       ],
       "layout": "IPY_MODEL_eb50cbc111ff4db291113ebc02b26bb5"
      }
     },
     "7a743dfe2072422c8a82d2edafe415c2": {
      "model_module": "@jupyter-widgets/base",
      "model_module_version": "1.1.0",
      "model_name": "LayoutModel",
      "state": {
       "width": "90%"
      }
     },
     "7b95430ed3c04f2e98910ab675871bbc": {
      "model_module": "@jupyter-widgets/base",
      "model_module_version": "1.1.0",
      "model_name": "LayoutModel",
      "state": {
       "width": "90%"
      }
     },
     "7c08ef9704534780a6653563e8a2b90c": {
      "model_module": "@jupyter-widgets/base",
      "model_module_version": "1.1.0",
      "model_name": "LayoutModel",
      "state": {
       "width": "90%"
      }
     },
     "7c42f9c6f5bb488ba1a874666403934c": {
      "model_module": "@jupyter-widgets/controls",
      "model_module_version": "1.4.0",
      "model_name": "VBoxModel",
      "state": {
       "children": [
        "IPY_MODEL_70acc055e790487db3cd53d2da1ced23",
        "IPY_MODEL_e5c5fa35e5814ec4be7ebb41298c366c"
       ],
       "layout": "IPY_MODEL_a000e5ca84ff4a048f2104679c8effb4"
      }
     },
     "7c68f2a7677843ed853d9c837410624e": {
      "model_module": "@jupyter-widgets/base",
      "model_module_version": "1.1.0",
      "model_name": "LayoutModel",
      "state": {
       "width": "90%"
      }
     },
     "7e7e2897f7c8463089aa3696b747f1ea": {
      "model_module": "@jupyter-widgets/controls",
      "model_module_version": "1.4.0",
      "model_name": "DescriptionStyleModel",
      "state": {
       "description_width": "initial"
      }
     },
     "7e9969bc470a4b349a5618f9c7e801b5": {
      "model_module": "@jupyter-widgets/controls",
      "model_module_version": "1.4.0",
      "model_name": "TextareaModel",
      "state": {
       "layout": "IPY_MODEL_3760fd0f4dee41af9892335831d6ddf0",
       "placeholder": "Type something",
       "style": "IPY_MODEL_dcc96dd7fe7b4f45848b1fe85b133979"
      }
     },
     "7ed4b2ff9b204bfca83354b659fb72f2": {
      "model_module": "@jupyter-widgets/controls",
      "model_module_version": "1.4.0",
      "model_name": "SelectModel",
      "state": {
       "_options_labels": [
        "Every",
        "Every-single-thing",
        "If",
        "No",
        "Nothing",
        "Something",
        "The",
        "X",
        "Earth",
        "Sun",
        "Mercury",
        "Venus",
        "Moon",
        "Mars",
        "Phobos",
        "Deimos",
        "Jupiter",
        "Metis",
        "Adrastea",
        "Thebe",
        "Io",
        "Europa",
        "Ganymede",
        "Callisto",
        "Themisto",
        "Leda",
        "Himalia",
        "Lysithea",
        "Elara",
        "Ananke",
        "Carme",
        "Pasiphae",
        "Sinope",
        "Iocaste",
        "Harpalyke",
        "Praxidike",
        "Taygete",
        "Chaldene",
        "Kalyke",
        "Callirrhoe",
        "Megaclite",
        "Isonoe",
        "Erinome",
        "Saturn",
        "Pan",
        "Atlas",
        "Prometheus",
        "Pandora",
        "Epimetheus",
        "Janus",
        "Mimas",
        "Enceladus",
        "Tethys",
        "Telesto",
        "Calypso",
        "Dione",
        "Helene",
        "Rhea",
        "Titan",
        "Hyperion",
        "Iapetus",
        "Phoebe",
        "Uranus",
        "Cordelia",
        "Ophelia",
        "Bianca",
        "Cressida",
        "Desdemona",
        "Juliet",
        "Portia",
        "Rosalind",
        "Belinda",
        "Puck",
        "Miranda",
        "Ariel",
        "Umbriel",
        "Titania",
        "Oberon",
        "Caliban",
        "Stephano",
        "Sycorax",
        "Prospero",
        "Setebos",
        "Trinculo",
        "Neptune",
        "Naiad",
        "Thalassa",
        "Despina",
        "Galatea",
        "Larissa",
        "Proteus",
        "Triton",
        "Nereid",
        "Pluto",
        "Charon",
        "Nix",
        "Hydra",
        "Amalthea"
       ],
       "index": 0,
       "layout": "IPY_MODEL_07b1de88566046ab843c6b33c1a33482",
       "style": "IPY_MODEL_812a3a3fbe474dd583e729911e1b10e6"
      }
     },
     "7fc6db8682174154a0ef82f6848ea03b": {
      "model_module": "@jupyter-widgets/controls",
      "model_module_version": "1.4.0",
      "model_name": "SelectModel",
      "state": {
       "_options_labels": [
        "Every",
        "Every-single-thing",
        "Earth",
        "Europa",
        "Elara",
        "Erinome",
        "Epimetheus",
        "Enceladus"
       ],
       "index": 0,
       "layout": "IPY_MODEL_7c68f2a7677843ed853d9c837410624e",
       "style": "IPY_MODEL_e125bdbf129e4376876f5aeca3c0ea92"
      }
     },
     "7fe965150bed4eb180d11786935cb440": {
      "model_module": "@jupyter-widgets/controls",
      "model_module_version": "1.4.0",
      "model_name": "VBoxModel",
      "state": {
       "children": [
        "IPY_MODEL_9da4d1aff1e6464aa9311faef7cc5c60",
        "IPY_MODEL_5d7f775b3d6a4e509b88b7cf81bc36d4"
       ],
       "layout": "IPY_MODEL_f373c60a696749b18ccc965167b9dc58"
      }
     },
     "812a3a3fbe474dd583e729911e1b10e6": {
      "model_module": "@jupyter-widgets/controls",
      "model_module_version": "1.4.0",
      "model_name": "DescriptionStyleModel",
      "state": {
       "description_width": "initial"
      }
     },
     "82500fee41e047828578dea9be6a7577": {
      "model_module": "@jupyter-widgets/controls",
      "model_module_version": "1.4.0",
      "model_name": "DescriptionStyleModel",
      "state": {
       "description_width": "initial"
      }
     },
     "827c1a25b27c41f29c095af649333a88": {
      "model_module": "@jupyter-widgets/controls",
      "model_module_version": "1.4.0",
      "model_name": "DescriptionStyleModel",
      "state": {
       "description_width": "initial"
      }
     },
     "8683b482c56c4e7c8460dadf37432261": {
      "model_module": "@jupyter-widgets/controls",
      "model_module_version": "1.4.0",
      "model_name": "TextareaModel",
      "state": {
       "layout": "IPY_MODEL_4f50e25800c94195836ab99b1cd79611",
       "placeholder": "Type something",
       "style": "IPY_MODEL_ff2dcbb693dc40c88d71a2781e826073",
       "value": "E"
      }
     },
     "872fa8a080cc42e4a76901304c089c7d": {
      "model_module": "@jupyter-widgets/controls",
      "model_module_version": "1.4.0",
      "model_name": "TextareaModel",
      "state": {
       "layout": "IPY_MODEL_97feb22d451e4eceb4d4dacfe34cd9ea",
       "placeholder": "Type something",
       "style": "IPY_MODEL_6d5a6cdbe9cb43fe83071bd249856e10",
       "value": "Every star can be a star. "
      }
     },
     "87f808117765469bb4603b73751a6a15": {
      "model_module": "@jupyter-widgets/base",
      "model_module_version": "1.1.0",
      "model_name": "LayoutModel",
      "state": {
       "width": "90%"
      }
     },
     "8a99efb08cc9407594d0446e16d39c63": {
      "model_module": "@jupyter-widgets/controls",
      "model_module_version": "1.4.0",
      "model_name": "DescriptionStyleModel",
      "state": {
       "description_width": "initial"
      }
     },
     "8b15c1e57d91422d8831de1cd9b8298b": {
      "model_module": "@jupyter-widgets/controls",
      "model_module_version": "1.4.0",
      "model_name": "DescriptionStyleModel",
      "state": {
       "description_width": "initial"
      }
     },
     "8f3feabb91dc4fa6a32ded89e6379a9a": {
      "model_module": "@jupyter-widgets/base",
      "model_module_version": "1.1.0",
      "model_name": "LayoutModel",
      "state": {}
     },
     "8f579e93d2b24c08929e7bf35ff5af72": {
      "model_module": "@jupyter-widgets/controls",
      "model_module_version": "1.4.0",
      "model_name": "DescriptionStyleModel",
      "state": {
       "description_width": "initial"
      }
     },
     "96ce8b03c7d94f5dbc9a8986c3faaac4": {
      "model_module": "@jupyter-widgets/controls",
      "model_module_version": "1.4.0",
      "model_name": "DescriptionStyleModel",
      "state": {
       "description_width": "initial"
      }
     },
     "97feb22d451e4eceb4d4dacfe34cd9ea": {
      "model_module": "@jupyter-widgets/base",
      "model_module_version": "1.1.0",
      "model_name": "LayoutModel",
      "state": {
       "width": "90%"
      }
     },
     "984f3b94b3814ef49927b98207ef1513": {
      "model_module": "@jupyter-widgets/base",
      "model_module_version": "1.1.0",
      "model_name": "LayoutModel",
      "state": {}
     },
     "986416b6ed2a4771a8c7301ca69dc7e7": {
      "model_module": "@jupyter-widgets/base",
      "model_module_version": "1.1.0",
      "model_name": "LayoutModel",
      "state": {
       "width": "90%"
      }
     },
     "9becb92ef87944febe3e1a48b1cc391b": {
      "model_module": "@jupyter-widgets/controls",
      "model_module_version": "1.4.0",
      "model_name": "TextareaModel",
      "state": {
       "layout": "IPY_MODEL_74718af4f7ef46bfa1cfbb67a653de95",
       "placeholder": "Type something",
       "style": "IPY_MODEL_d1f3732d476648449aa260a649c14ee1"
      }
     },
     "9c57e13750b941c4b0e314119c156a9a": {
      "model_module": "@jupyter-widgets/controls",
      "model_module_version": "1.4.0",
      "model_name": "DescriptionStyleModel",
      "state": {
       "description_width": "initial"
      }
     },
     "9cd0e0a310044843b7e34d6c79ba3b41": {
      "model_module": "@jupyter-widgets/base",
      "model_module_version": "1.1.0",
      "model_name": "LayoutModel",
      "state": {}
     },
     "9ce656bbeccc4f99bbd2a3bfd7b8d112": {
      "model_module": "@jupyter-widgets/base",
      "model_module_version": "1.1.0",
      "model_name": "LayoutModel",
      "state": {
       "width": "90%"
      }
     },
     "9cedf3e89f9040a38960c0d20281db6f": {
      "model_module": "@jupyter-widgets/controls",
      "model_module_version": "1.4.0",
      "model_name": "SelectModel",
      "state": {
       "_options_labels": [
        "Every",
        "Every-single-thing",
        "If",
        "No",
        "Nothing",
        "Something",
        "The",
        "X",
        "Earth",
        "Sun",
        "Mercury",
        "Venus",
        "Moon",
        "Mars",
        "Phobos",
        "Deimos",
        "Jupiter",
        "Metis",
        "Adrastea",
        "Thebe",
        "Io",
        "Europa",
        "Ganymede",
        "Callisto",
        "Themisto",
        "Leda",
        "Himalia",
        "Lysithea",
        "Elara",
        "Ananke",
        "Carme",
        "Pasiphae",
        "Sinope",
        "Iocaste",
        "Harpalyke",
        "Praxidike",
        "Taygete",
        "Chaldene",
        "Kalyke",
        "Callirrhoe",
        "Megaclite",
        "Isonoe",
        "Erinome",
        "Saturn",
        "Pan",
        "Atlas",
        "Prometheus",
        "Pandora",
        "Epimetheus",
        "Janus",
        "Mimas",
        "Enceladus",
        "Tethys",
        "Telesto",
        "Calypso",
        "Dione",
        "Helene",
        "Rhea",
        "Titan",
        "Hyperion",
        "Iapetus",
        "Phoebe",
        "Uranus",
        "Cordelia",
        "Ophelia",
        "Bianca",
        "Cressida",
        "Desdemona",
        "Juliet",
        "Portia",
        "Rosalind",
        "Belinda",
        "Puck",
        "Miranda",
        "Ariel",
        "Umbriel",
        "Titania",
        "Oberon",
        "Caliban",
        "Stephano",
        "Sycorax",
        "Prospero",
        "Setebos",
        "Trinculo",
        "Neptune",
        "Naiad",
        "Thalassa",
        "Despina",
        "Galatea",
        "Larissa",
        "Proteus",
        "Triton",
        "Nereid",
        "Pluto",
        "Charon",
        "Nix",
        "Hydra",
        "Amalthea"
       ],
       "index": 0,
       "layout": "IPY_MODEL_0f491f241a074dd086ce967574c7564a",
       "style": "IPY_MODEL_827c1a25b27c41f29c095af649333a88"
      }
     },
     "9d7c6548c6044ceabebdf034e9648bb9": {
      "model_module": "@jupyter-widgets/controls",
      "model_module_version": "1.4.0",
      "model_name": "TextareaModel",
      "state": {
       "layout": "IPY_MODEL_72a6ef3bac3f4d979507a3e74dfe0f7b",
       "placeholder": "Type something",
       "style": "IPY_MODEL_03f20c852baa4426b35eb191fbe17109",
       "value": "E"
      }
     },
     "9da4d1aff1e6464aa9311faef7cc5c60": {
      "model_module": "@jupyter-widgets/controls",
      "model_module_version": "1.4.0",
      "model_name": "TextareaModel",
      "state": {
       "layout": "IPY_MODEL_4b25f4a8157f451fa1817961be95502e",
       "placeholder": "Type something",
       "style": "IPY_MODEL_8f579e93d2b24c08929e7bf35ff5af72",
       "value": "Ev"
      }
     },
     "9e22a766a7194b2cbe9e9a2ef043ebae": {
      "model_module": "@jupyter-widgets/controls",
      "model_module_version": "1.4.0",
      "model_name": "SelectModel",
      "state": {
       "_options_labels": [
        "Every",
        "Every-single-thing",
        "Earth",
        "Europa",
        "Elara",
        "Erinome",
        "Epimetheus",
        "Enceladus"
       ],
       "index": 0,
       "layout": "IPY_MODEL_71723ae9ee0b4d20bf9d12b3a93b977b",
       "style": "IPY_MODEL_8a99efb08cc9407594d0446e16d39c63"
      }
     },
     "9f68c3ea2a0940608fe3faafe2d1b98f": {
      "model_module": "@jupyter-widgets/base",
      "model_module_version": "1.1.0",
      "model_name": "LayoutModel",
      "state": {
       "width": "90%"
      }
     },
     "a000e5ca84ff4a048f2104679c8effb4": {
      "model_module": "@jupyter-widgets/base",
      "model_module_version": "1.1.0",
      "model_name": "LayoutModel",
      "state": {}
     },
     "a0f35c44d9724b4689b84fca6bbbe456": {
      "model_module": "@jupyter-widgets/base",
      "model_module_version": "1.1.0",
      "model_name": "LayoutModel",
      "state": {}
     },
     "a1febd42296a44eea5027b5e1d7954d1": {
      "model_module": "@jupyter-widgets/controls",
      "model_module_version": "1.4.0",
      "model_name": "VBoxModel",
      "state": {
       "children": [
        "IPY_MODEL_9d7c6548c6044ceabebdf034e9648bb9",
        "IPY_MODEL_7fc6db8682174154a0ef82f6848ea03b"
       ],
       "layout": "IPY_MODEL_cead18f22be341a88be462082c2b01b8"
      }
     },
     "a29ae851e4cc4a32bed4156b60241cb7": {
      "model_module": "@jupyter-widgets/base",
      "model_module_version": "1.1.0",
      "model_name": "LayoutModel",
      "state": {
       "width": "90%"
      }
     },
     "a346f86788e745bdbd9333012363ebdb": {
      "model_module": "@jupyter-widgets/controls",
      "model_module_version": "1.4.0",
      "model_name": "VBoxModel",
      "state": {
       "children": [
        "IPY_MODEL_0863b06a5db04e19b02c0101e070166b",
        "IPY_MODEL_63d7d7193dd048d3b0c631aa9bb3aef9"
       ],
       "layout": "IPY_MODEL_af9dac3a4ba44fc2888c76365f42aafe"
      }
     },
     "a6ef94d5bc7d496793663a5b53965d35": {
      "model_module": "@jupyter-widgets/controls",
      "model_module_version": "1.4.0",
      "model_name": "DescriptionStyleModel",
      "state": {
       "description_width": "initial"
      }
     },
     "a81ffce7dd474b2b8a0d5499e16aa5a5": {
      "model_module": "@jupyter-widgets/controls",
      "model_module_version": "1.4.0",
      "model_name": "DescriptionStyleModel",
      "state": {
       "description_width": "initial"
      }
     },
     "a8504e35e224412596ff0f6910e3a1d5": {
      "model_module": "@jupyter-widgets/controls",
      "model_module_version": "1.4.0",
      "model_name": "VBoxModel",
      "state": {
       "children": [
        "IPY_MODEL_d8df86840e0d40109ffe6ac511c1fcfc",
        "IPY_MODEL_c8e0cb62f5c94382b5726d90c56648d2"
       ],
       "layout": "IPY_MODEL_5b83ab96d2704bd0904ea508ed7c7d14"
      }
     },
     "a896ab34ae0b4978b58ddd9fd5f15480": {
      "model_module": "@jupyter-widgets/controls",
      "model_module_version": "1.4.0",
      "model_name": "VBoxModel",
      "state": {
       "children": [
        "IPY_MODEL_8683b482c56c4e7c8460dadf37432261",
        "IPY_MODEL_9e22a766a7194b2cbe9e9a2ef043ebae"
       ],
       "layout": "IPY_MODEL_4411c87e5835477993336686f013a99e"
      }
     },
     "ab0608eab3864984916f218d6ba61153": {
      "model_module": "@jupyter-widgets/controls",
      "model_module_version": "1.4.0",
      "model_name": "DescriptionStyleModel",
      "state": {
       "description_width": "initial"
      }
     },
     "ab1ee7bb23d9430e9067a171a00fbeb5": {
      "model_module": "@jupyter-widgets/controls",
      "model_module_version": "1.4.0",
      "model_name": "DescriptionStyleModel",
      "state": {
       "description_width": "initial"
      }
     },
     "ad5709432b7a48768706391da99fb38d": {
      "model_module": "@jupyter-widgets/controls",
      "model_module_version": "1.4.0",
      "model_name": "VBoxModel",
      "state": {
       "children": [
        "IPY_MODEL_40139c5f94da4ac6850a7ab19e1b8ff0",
        "IPY_MODEL_1962eb3b21ff46b09fe3ebd278c483e1"
       ],
       "layout": "IPY_MODEL_f616b5d57c97428e8373c2aaadcde8fa"
      }
     },
     "ad8baf21d16f45e481c64c95f0202452": {
      "model_module": "@jupyter-widgets/base",
      "model_module_version": "1.1.0",
      "model_name": "LayoutModel",
      "state": {
       "width": "90%"
      }
     },
     "af185ffaf74340589c2c9d5a49812fcb": {
      "model_module": "@jupyter-widgets/controls",
      "model_module_version": "1.4.0",
      "model_name": "DescriptionStyleModel",
      "state": {
       "description_width": "initial"
      }
     },
     "af9dac3a4ba44fc2888c76365f42aafe": {
      "model_module": "@jupyter-widgets/base",
      "model_module_version": "1.1.0",
      "model_name": "LayoutModel",
      "state": {}
     },
     "b1c8b5e0dd214c72b7227379b44dae73": {
      "model_module": "@jupyter-widgets/controls",
      "model_module_version": "1.4.0",
      "model_name": "DescriptionStyleModel",
      "state": {
       "description_width": "initial"
      }
     },
     "b433f984bab24d8c8d1e58332b2875b4": {
      "model_module": "@jupyter-widgets/controls",
      "model_module_version": "1.4.0",
      "model_name": "DescriptionStyleModel",
      "state": {
       "description_width": "initial"
      }
     },
     "b6c8e30601054ef7a0cb6044e7b1f752": {
      "model_module": "@jupyter-widgets/controls",
      "model_module_version": "1.4.0",
      "model_name": "TextareaModel",
      "state": {
       "layout": "IPY_MODEL_3171ab59e8c4484cb10addb75aa2746a",
       "placeholder": "Type something",
       "style": "IPY_MODEL_af185ffaf74340589c2c9d5a49812fcb"
      }
     },
     "b88b6fed648b4ed4ad47760d28ada506": {
      "model_module": "@jupyter-widgets/controls",
      "model_module_version": "1.4.0",
      "model_name": "VBoxModel",
      "state": {
       "children": [
        "IPY_MODEL_5a3e9e4eeeb748e3bffa4e381620d4d3",
        "IPY_MODEL_33df909178f9486eb145c076f3a403cb"
       ],
       "layout": "IPY_MODEL_6138e9766e7348adaebff595f0e1ba2d"
      }
     },
     "b8ba4cbbbe854828bc44880fe533a7e9": {
      "model_module": "@jupyter-widgets/base",
      "model_module_version": "1.1.0",
      "model_name": "LayoutModel",
      "state": {}
     },
     "bab1d2de7715464d968b836fc71ede6c": {
      "model_module": "@jupyter-widgets/controls",
      "model_module_version": "1.4.0",
      "model_name": "SelectModel",
      "state": {
       "_options_labels": [
        "Every",
        "Every-single-thing",
        "Earth",
        "Europa",
        "Elara",
        "Erinome",
        "Epimetheus",
        "Enceladus"
       ],
       "index": 0,
       "layout": "IPY_MODEL_f69cf8e7ab3943d681224b303529eba4",
       "style": "IPY_MODEL_fe4cbd51f6414bef86564bf189f8b4ba"
      }
     },
     "bae6e5d9fa6d49108f230fb4af681d0a": {
      "model_module": "@jupyter-widgets/base",
      "model_module_version": "1.1.0",
      "model_name": "LayoutModel",
      "state": {}
     },
     "c02914c289a2424b92b5e9ceb2647665": {
      "model_module": "@jupyter-widgets/base",
      "model_module_version": "1.1.0",
      "model_name": "LayoutModel",
      "state": {}
     },
     "c31e25ba0d0449f6965c0bb06d50b452": {
      "model_module": "@jupyter-widgets/controls",
      "model_module_version": "1.4.0",
      "model_name": "DescriptionStyleModel",
      "state": {
       "description_width": "initial"
      }
     },
     "c3e97b7c896f45ec9c5e0df8001ce401": {
      "model_module": "@jupyter-widgets/base",
      "model_module_version": "1.1.0",
      "model_name": "LayoutModel",
      "state": {
       "width": "90%"
      }
     },
     "c507c8f3cae74d71a1ade6722117c7f2": {
      "model_module": "@jupyter-widgets/controls",
      "model_module_version": "1.4.0",
      "model_name": "DescriptionStyleModel",
      "state": {
       "description_width": "initial"
      }
     },
     "c673637848af4f72a495cebb6845479b": {
      "model_module": "@jupyter-widgets/controls",
      "model_module_version": "1.4.0",
      "model_name": "TextareaModel",
      "state": {
       "layout": "IPY_MODEL_714829b2d35c40a6a48be1428dc0f82e",
       "placeholder": "Type something",
       "style": "IPY_MODEL_156e6561fd514b3b81f68bd3a02ed225",
       "value": "Every"
      }
     },
     "c74402ccc47d43d2a881fc20d0adf49b": {
      "model_module": "@jupyter-widgets/base",
      "model_module_version": "1.1.0",
      "model_name": "LayoutModel",
      "state": {
       "width": "90%"
      }
     },
     "c8aff3b1b9bf42a1b693314414158561": {
      "model_module": "@jupyter-widgets/base",
      "model_module_version": "1.1.0",
      "model_name": "LayoutModel",
      "state": {
       "width": "90%"
      }
     },
     "c8e0cb62f5c94382b5726d90c56648d2": {
      "model_module": "@jupyter-widgets/controls",
      "model_module_version": "1.4.0",
      "model_name": "SelectModel",
      "state": {
       "_options_labels": [
        "Every",
        "Every-single-thing",
        "If",
        "No",
        "Nothing",
        "Something",
        "The",
        "X",
        "Earth",
        "Sun",
        "Mercury",
        "Venus",
        "Moon",
        "Mars",
        "Phobos",
        "Deimos",
        "Jupiter",
        "Metis",
        "Adrastea",
        "Thebe",
        "Io",
        "Europa",
        "Ganymede",
        "Callisto",
        "Themisto",
        "Leda",
        "Himalia",
        "Lysithea",
        "Elara",
        "Ananke",
        "Carme",
        "Pasiphae",
        "Sinope",
        "Iocaste",
        "Harpalyke",
        "Praxidike",
        "Taygete",
        "Chaldene",
        "Kalyke",
        "Callirrhoe",
        "Megaclite",
        "Isonoe",
        "Erinome",
        "Saturn",
        "Pan",
        "Atlas",
        "Prometheus",
        "Pandora",
        "Epimetheus",
        "Janus",
        "Mimas",
        "Enceladus",
        "Tethys",
        "Telesto",
        "Calypso",
        "Dione",
        "Helene",
        "Rhea",
        "Titan",
        "Hyperion",
        "Iapetus",
        "Phoebe",
        "Uranus",
        "Cordelia",
        "Ophelia",
        "Bianca",
        "Cressida",
        "Desdemona",
        "Juliet",
        "Portia",
        "Rosalind",
        "Belinda",
        "Puck",
        "Miranda",
        "Ariel",
        "Umbriel",
        "Titania",
        "Oberon",
        "Caliban",
        "Stephano",
        "Sycorax",
        "Prospero",
        "Setebos",
        "Trinculo",
        "Neptune",
        "Naiad",
        "Thalassa",
        "Despina",
        "Galatea",
        "Larissa",
        "Proteus",
        "Triton",
        "Nereid",
        "Pluto",
        "Charon",
        "Nix",
        "Hydra",
        "Amalthea"
       ],
       "index": 0,
       "layout": "IPY_MODEL_7c08ef9704534780a6653563e8a2b90c",
       "style": "IPY_MODEL_60561567f7214b8ca5da53f789698fa5"
      }
     },
     "cc3947b6b03c4a7dab21028df9a6dc6a": {
      "model_module": "@jupyter-widgets/base",
      "model_module_version": "1.1.0",
      "model_name": "LayoutModel",
      "state": {
       "width": "90%"
      }
     },
     "cead18f22be341a88be462082c2b01b8": {
      "model_module": "@jupyter-widgets/base",
      "model_module_version": "1.1.0",
      "model_name": "LayoutModel",
      "state": {}
     },
     "cf91d29144c6428dbe4a57ec5daa0559": {
      "model_module": "@jupyter-widgets/controls",
      "model_module_version": "1.4.0",
      "model_name": "DescriptionStyleModel",
      "state": {
       "description_width": "initial"
      }
     },
     "d00cf48d694847a1b5fe0726650c8299": {
      "model_module": "@jupyter-widgets/base",
      "model_module_version": "1.1.0",
      "model_name": "LayoutModel",
      "state": {
       "width": "90%"
      }
     },
     "d1f3732d476648449aa260a649c14ee1": {
      "model_module": "@jupyter-widgets/controls",
      "model_module_version": "1.4.0",
      "model_name": "DescriptionStyleModel",
      "state": {
       "description_width": "initial"
      }
     },
     "d348b25f42564a3a80f6f5347ff21c22": {
      "model_module": "@jupyter-widgets/controls",
      "model_module_version": "1.4.0",
      "model_name": "VBoxModel",
      "state": {
       "children": [
        "IPY_MODEL_25e8f53219ac46f1b1c5d152ab14c970",
        "IPY_MODEL_7ed4b2ff9b204bfca83354b659fb72f2"
       ],
       "layout": "IPY_MODEL_e6d28adbae1d4f36a73052c6b943813d"
      }
     },
     "d47c504afff545ed8fe20e72c554993d": {
      "model_module": "@jupyter-widgets/controls",
      "model_module_version": "1.4.0",
      "model_name": "SelectModel",
      "state": {
       "_options_labels": [
        "Every",
        "Every-single-thing",
        "If",
        "No",
        "Nothing",
        "Something",
        "The",
        "X",
        "Earth",
        "Sun",
        "Mercury",
        "Venus",
        "Moon",
        "Mars",
        "Phobos",
        "Deimos",
        "Jupiter",
        "Metis",
        "Adrastea",
        "Thebe",
        "Io",
        "Europa",
        "Ganymede",
        "Callisto",
        "Themisto",
        "Leda",
        "Himalia",
        "Lysithea",
        "Elara",
        "Ananke",
        "Carme",
        "Pasiphae",
        "Sinope",
        "Iocaste",
        "Harpalyke",
        "Praxidike",
        "Taygete",
        "Chaldene",
        "Kalyke",
        "Callirrhoe",
        "Megaclite",
        "Isonoe",
        "Erinome",
        "Saturn",
        "Pan",
        "Atlas",
        "Prometheus",
        "Pandora",
        "Epimetheus",
        "Janus",
        "Mimas",
        "Enceladus",
        "Tethys",
        "Telesto",
        "Calypso",
        "Dione",
        "Helene",
        "Rhea",
        "Titan",
        "Hyperion",
        "Iapetus",
        "Phoebe",
        "Uranus",
        "Cordelia",
        "Ophelia",
        "Bianca",
        "Cressida",
        "Desdemona",
        "Juliet",
        "Portia",
        "Rosalind",
        "Belinda",
        "Puck",
        "Miranda",
        "Ariel",
        "Umbriel",
        "Titania",
        "Oberon",
        "Caliban",
        "Stephano",
        "Sycorax",
        "Prospero",
        "Setebos",
        "Trinculo",
        "Neptune",
        "Naiad",
        "Thalassa",
        "Despina",
        "Galatea",
        "Larissa",
        "Proteus",
        "Triton",
        "Nereid",
        "Pluto",
        "Charon",
        "Nix",
        "Hydra",
        "Amalthea"
       ],
       "index": 0,
       "layout": "IPY_MODEL_cc3947b6b03c4a7dab21028df9a6dc6a",
       "style": "IPY_MODEL_c31e25ba0d0449f6965c0bb06d50b452"
      }
     },
     "d8df86840e0d40109ffe6ac511c1fcfc": {
      "model_module": "@jupyter-widgets/controls",
      "model_module_version": "1.4.0",
      "model_name": "TextareaModel",
      "state": {
       "layout": "IPY_MODEL_2d1c435aa2974d01a737190c751be926",
       "placeholder": "Type something",
       "style": "IPY_MODEL_61bc818a123d46a7be565b3f339de3f1",
       "value": "Ever"
      }
     },
     "da8614c7672d4eecadd2737b1c59d7e7": {
      "model_module": "@jupyter-widgets/controls",
      "model_module_version": "1.4.0",
      "model_name": "VBoxModel",
      "state": {
       "children": [
        "IPY_MODEL_7e9969bc470a4b349a5618f9c7e801b5",
        "IPY_MODEL_9cedf3e89f9040a38960c0d20281db6f"
       ],
       "layout": "IPY_MODEL_bae6e5d9fa6d49108f230fb4af681d0a"
      }
     },
     "dbc8edf5ad284155ad80d4d4338dec9c": {
      "model_module": "@jupyter-widgets/base",
      "model_module_version": "1.1.0",
      "model_name": "LayoutModel",
      "state": {
       "width": "90%"
      }
     },
     "dcc96dd7fe7b4f45848b1fe85b133979": {
      "model_module": "@jupyter-widgets/controls",
      "model_module_version": "1.4.0",
      "model_name": "DescriptionStyleModel",
      "state": {
       "description_width": "initial"
      }
     },
     "def9645218414232a631e7e14daf7797": {
      "model_module": "@jupyter-widgets/base",
      "model_module_version": "1.1.0",
      "model_name": "LayoutModel",
      "state": {
       "width": "90%"
      }
     },
     "e125bdbf129e4376876f5aeca3c0ea92": {
      "model_module": "@jupyter-widgets/controls",
      "model_module_version": "1.4.0",
      "model_name": "DescriptionStyleModel",
      "state": {
       "description_width": "initial"
      }
     },
     "e35d6c0521c44f549524d45b97760084": {
      "model_module": "@jupyter-widgets/controls",
      "model_module_version": "1.4.0",
      "model_name": "TextareaModel",
      "state": {
       "layout": "IPY_MODEL_4e48202a1f894da8947aff591b752a1f",
       "placeholder": "Type something",
       "style": "IPY_MODEL_ed440825370f47758fefed7323587982",
       "value": "Every planet is a star-orbiter."
      }
     },
     "e5c5fa35e5814ec4be7ebb41298c366c": {
      "model_module": "@jupyter-widgets/controls",
      "model_module_version": "1.4.0",
      "model_name": "SelectModel",
      "state": {
       "index": null,
       "layout": "IPY_MODEL_2038c15743494d1eaa2416bd47a5175d",
       "style": "IPY_MODEL_fb4720ef6f014acb95892195b801f5de"
      }
     },
     "e63b4521bbc84265882b4ca9931f891f": {
      "model_module": "@jupyter-widgets/base",
      "model_module_version": "1.1.0",
      "model_name": "LayoutModel",
      "state": {
       "width": "90%"
      }
     },
     "e6d28adbae1d4f36a73052c6b943813d": {
      "model_module": "@jupyter-widgets/base",
      "model_module_version": "1.1.0",
      "model_name": "LayoutModel",
      "state": {}
     },
     "e8aa0bc57fca4700a03e4addf1cf8e16": {
      "model_module": "@jupyter-widgets/base",
      "model_module_version": "1.1.0",
      "model_name": "LayoutModel",
      "state": {}
     },
     "e92e503d2522413eb840d3c6c02d66b6": {
      "model_module": "@jupyter-widgets/controls",
      "model_module_version": "1.4.0",
      "model_name": "SelectModel",
      "state": {
       "_options_labels": [
        "Every",
        "Every-single-thing",
        "If",
        "No",
        "Nothing",
        "Something",
        "The",
        "X",
        "Earth",
        "Sun",
        "Mercury",
        "Venus",
        "Moon",
        "Mars",
        "Phobos",
        "Deimos",
        "Jupiter",
        "Metis",
        "Adrastea",
        "Thebe",
        "Io",
        "Europa",
        "Ganymede",
        "Callisto",
        "Themisto",
        "Leda",
        "Himalia",
        "Lysithea",
        "Elara",
        "Ananke",
        "Carme",
        "Pasiphae",
        "Sinope",
        "Iocaste",
        "Harpalyke",
        "Praxidike",
        "Taygete",
        "Chaldene",
        "Kalyke",
        "Callirrhoe",
        "Megaclite",
        "Isonoe",
        "Erinome",
        "Saturn",
        "Pan",
        "Atlas",
        "Prometheus",
        "Pandora",
        "Epimetheus",
        "Janus",
        "Mimas",
        "Enceladus",
        "Tethys",
        "Telesto",
        "Calypso",
        "Dione",
        "Helene",
        "Rhea",
        "Titan",
        "Hyperion",
        "Iapetus",
        "Phoebe",
        "Uranus",
        "Cordelia",
        "Ophelia",
        "Bianca",
        "Cressida",
        "Desdemona",
        "Juliet",
        "Portia",
        "Rosalind",
        "Belinda",
        "Puck",
        "Miranda",
        "Ariel",
        "Umbriel",
        "Titania",
        "Oberon",
        "Caliban",
        "Stephano",
        "Sycorax",
        "Prospero",
        "Setebos",
        "Trinculo",
        "Neptune",
        "Naiad",
        "Thalassa",
        "Despina",
        "Galatea",
        "Larissa",
        "Proteus",
        "Triton",
        "Nereid",
        "Pluto",
        "Charon",
        "Nix",
        "Hydra",
        "Amalthea"
       ],
       "index": 0,
       "layout": "IPY_MODEL_4a140e21e6e44a49b538dfb1007385a6",
       "style": "IPY_MODEL_6356a9fc31784b789fde072db2f3bab1"
      }
     },
     "e9c17ff64d474cb8a7b36b727ba6f3e6": {
      "model_module": "@jupyter-widgets/controls",
      "model_module_version": "1.4.0",
      "model_name": "DescriptionStyleModel",
      "state": {
       "description_width": "initial"
      }
     },
     "e9e51c032cc6499295fc51167ecdd4f1": {
      "model_module": "@jupyter-widgets/controls",
      "model_module_version": "1.4.0",
      "model_name": "VBoxModel",
      "state": {
       "children": [
        "IPY_MODEL_e35d6c0521c44f549524d45b97760084",
        "IPY_MODEL_17a5280aae154d7f9ede482d7c947e78"
       ],
       "layout": "IPY_MODEL_9cd0e0a310044843b7e34d6c79ba3b41"
      }
     },
     "eb50cbc111ff4db291113ebc02b26bb5": {
      "model_module": "@jupyter-widgets/base",
      "model_module_version": "1.1.0",
      "model_name": "LayoutModel",
      "state": {}
     },
     "ecab57e671f54f66971e1fd10690ce1a": {
      "model_module": "@jupyter-widgets/base",
      "model_module_version": "1.1.0",
      "model_name": "LayoutModel",
      "state": {
       "width": "90%"
      }
     },
     "ed440825370f47758fefed7323587982": {
      "model_module": "@jupyter-widgets/controls",
      "model_module_version": "1.4.0",
      "model_name": "DescriptionStyleModel",
      "state": {
       "description_width": "initial"
      }
     },
     "edcefb046bdd4b62bf4c250d1b2509e8": {
      "model_module": "@jupyter-widgets/controls",
      "model_module_version": "1.4.0",
      "model_name": "SelectModel",
      "state": {
       "_options_labels": [
        "Every",
        "Every-single-thing",
        "Earth",
        "Europa",
        "Elara",
        "Erinome",
        "Epimetheus",
        "Enceladus"
       ],
       "index": 0,
       "layout": "IPY_MODEL_4c98f214f5334ab282e817c818e710fb",
       "style": "IPY_MODEL_3fda814c78254ee0943a98907b19faa0"
      }
     },
     "effc1cd5acee4ca4a3b642f9ab222f19": {
      "model_module": "@jupyter-widgets/controls",
      "model_module_version": "1.4.0",
      "model_name": "DescriptionStyleModel",
      "state": {
       "description_width": "initial"
      }
     },
     "f350b084a5c14d6587eef7500237d9f1": {
      "model_module": "@jupyter-widgets/controls",
      "model_module_version": "1.4.0",
      "model_name": "VBoxModel",
      "state": {
       "children": [
        "IPY_MODEL_b6c8e30601054ef7a0cb6044e7b1f752",
        "IPY_MODEL_d47c504afff545ed8fe20e72c554993d"
       ],
       "layout": "IPY_MODEL_670b0b974a3b469b8c4487be718093a3"
      }
     },
     "f373c60a696749b18ccc965167b9dc58": {
      "model_module": "@jupyter-widgets/base",
      "model_module_version": "1.1.0",
      "model_name": "LayoutModel",
      "state": {}
     },
     "f616b5d57c97428e8373c2aaadcde8fa": {
      "model_module": "@jupyter-widgets/base",
      "model_module_version": "1.1.0",
      "model_name": "LayoutModel",
      "state": {}
     },
     "f666d81b663942b7827f50d6392b3d5d": {
      "model_module": "@jupyter-widgets/controls",
      "model_module_version": "1.4.0",
      "model_name": "SelectModel",
      "state": {
       "_options_labels": [
        "anything",
        "every",
        "every-single-thing",
        "if",
        "no",
        "nothing",
        "something",
        "the",
        "the-one-and-only",
        "X",
        "Earth",
        "Sun",
        "Mercury",
        "Venus",
        "Moon",
        "Mars",
        "Phobos",
        "Deimos",
        "Jupiter",
        "Metis",
        "Adrastea",
        "Thebe",
        "Io",
        "Europa",
        "Ganymede",
        "Callisto",
        "Themisto",
        "Leda",
        "Himalia",
        "Lysithea",
        "Elara",
        "Ananke",
        "Carme",
        "Pasiphae",
        "Sinope",
        "Iocaste",
        "Harpalyke",
        "Praxidike",
        "Taygete",
        "Chaldene",
        "Kalyke",
        "Callirrhoe",
        "Megaclite",
        "Isonoe",
        "Erinome",
        "Saturn",
        "Pan",
        "Atlas",
        "Prometheus",
        "Pandora",
        "Epimetheus",
        "Janus",
        "Mimas",
        "Enceladus",
        "Tethys",
        "Telesto",
        "Calypso",
        "Dione",
        "Helene",
        "Rhea",
        "Titan",
        "Hyperion",
        "Iapetus",
        "Phoebe",
        "Uranus",
        "Cordelia",
        "Ophelia",
        "Bianca",
        "Cressida",
        "Desdemona",
        "Juliet",
        "Portia",
        "Rosalind",
        "Belinda",
        "Puck",
        "Miranda",
        "Ariel",
        "Umbriel",
        "Titania",
        "Oberon",
        "Caliban",
        "Stephano",
        "Sycorax",
        "Prospero",
        "Setebos",
        "Trinculo",
        "Neptune",
        "Naiad",
        "Thalassa",
        "Despina",
        "Galatea",
        "Larissa",
        "Proteus",
        "Triton",
        "Nereid",
        "Pluto",
        "Charon",
        "Nix",
        "Hydra",
        "Amalthea"
       ],
       "index": 0,
       "layout": "IPY_MODEL_2b5cda67a4104b7bafe0c359c422d0ae",
       "style": "IPY_MODEL_146cedc816244442872a3cd1088e4757"
      }
     },
     "f69cf8e7ab3943d681224b303529eba4": {
      "model_module": "@jupyter-widgets/base",
      "model_module_version": "1.1.0",
      "model_name": "LayoutModel",
      "state": {
       "width": "90%"
      }
     },
     "f9018487e15e49d58270a9f1a03d38cd": {
      "model_module": "@jupyter-widgets/controls",
      "model_module_version": "1.4.0",
      "model_name": "DescriptionStyleModel",
      "state": {
       "description_width": "initial"
      }
     },
     "fb4720ef6f014acb95892195b801f5de": {
      "model_module": "@jupyter-widgets/controls",
      "model_module_version": "1.4.0",
      "model_name": "DescriptionStyleModel",
      "state": {
       "description_width": "initial"
      }
     },
     "fe4cbd51f6414bef86564bf189f8b4ba": {
      "model_module": "@jupyter-widgets/controls",
      "model_module_version": "1.4.0",
      "model_name": "DescriptionStyleModel",
      "state": {
       "description_width": "initial"
      }
     },
     "ff2dcbb693dc40c88d71a2781e826073": {
      "model_module": "@jupyter-widgets/controls",
      "model_module_version": "1.4.0",
      "model_name": "DescriptionStyleModel",
      "state": {
       "description_width": "initial"
      }
     }
    },
    "version_major": 2,
    "version_minor": 0
   }
  }
 },
 "nbformat": 4,
 "nbformat_minor": 2
}
