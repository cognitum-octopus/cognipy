{
 "cells": [
  {
   "cell_type": "markdown",
   "metadata": {},
   "source": [
    "**Creating and exploring the OWL/RL + SWRL Ontologies using CogniPy by Cognitum Services S.A.**"
   ]
  },
  {
   "cell_type": "markdown",
   "metadata": {},
   "source": [
    "**Setting up the environment**\n",
    "Initialization of the Ontology editor in Jupyter Notebook"
   ]
  },
  {
   "cell_type": "code",
   "execution_count": 1,
   "metadata": {},
   "outputs": [],
   "source": [
    "from cognipy.ontology import Ontology #the ontology processing class\n",
    "from cognipy.ontology import CQL #SPARQL format tailored for Contolled Natural Language\n",
    "from cognipy.edit import CnlEditBox #The pywidget based ontology editor (offspirng of the Fluent Editor)\n",
    "from cognipy.edit import CnlQueryForConcept #The pywidget based ontology quaty widget \n",
    "from cognipy.ontology import encode_string_for_graph_label #complex datatypes encoder for the graph labels in graph visualisation\n",
    "import textwrap\n",
    "\n",
    "def graph_attribute_formatter(val):\n",
    "    if isinstance(val,list) or isinstance(val,set):\n",
    "        return \" | \".join(list(map(lambda i:encode_string_for_graph_label(graph_attribute_formatter(i)),val)))\n",
    "    elif isinstance(val,dict):\n",
    "        return \" | \".join(list(map(lambda i:i[0]+\" : \"+encode_string_for_graph_label(graph_attribute_formatter(i[1])),val.items())))\n",
    "    else:\n",
    "        return encode_string_for_graph_label(textwrap.fill(str(val),40))"
   ]
  },
  {
   "cell_type": "markdown",
   "metadata": {},
   "source": [
    "# 'African Wildlife'.\n",
    "Loading the editor for the basic \"safari\" ontology. The Ontology is inspired by 'A Semantic Web Primer.' by 'Antoniou, G, van Harmelen, F.' 'MIT Press, 2003.' 'http://www.csd.uoc.gr/~hy566/SWbook.pdf', tuned to OWL/RL+SWRL profile."
   ]
  },
  {
   "cell_type": "markdown",
   "metadata": {},
   "source": [
    "### Part-1: 'simple hierarchy of beings'. "
   ]
  },
  {
   "cell_type": "markdown",
   "metadata": {},
   "source": [
    "We will have many editors here and we will store all of them in the dict"
   ]
  },
  {
   "cell_type": "code",
   "execution_count": 2,
   "metadata": {},
   "outputs": [],
   "source": [
    "parts_editors={}"
   ]
  },
  {
   "cell_type": "markdown",
   "metadata": {},
   "source": [
    "Lets setup the fist ontology editor for the general knowledge. The editor allows you to enter the knowledge in text format, and support you with the prdictive editor."
   ]
  },
  {
   "cell_type": "code",
   "execution_count": 3,
   "metadata": {},
   "outputs": [
    {
     "data": {
      "application/javascript": [
       "/* jshint browser: true */\n",
       "\n",
       "(function () {\n",
       "\n",
       "// We'll copy the properties below into the mirror div.\n",
       "// Note that some browsers, such as Firefox, do not concatenate properties\n",
       "// into their shorthand (e.g. padding-top, padding-bottom etc. -> padding),\n",
       "// so we have to list every single property explicitly.\n",
       "var properties = [\n",
       "  'direction',  // RTL support\n",
       "  'boxSizing',\n",
       "  'width',  // on Chrome and IE, exclude the scrollbar, so the mirror div wraps exactly as the textarea does\n",
       "  'height',\n",
       "  'overflowX',\n",
       "  'overflowY',  // copy the scrollbar for IE\n",
       "\n",
       "  'borderTopWidth',\n",
       "  'borderRightWidth',\n",
       "  'borderBottomWidth',\n",
       "  'borderLeftWidth',\n",
       "  'borderStyle',\n",
       "\n",
       "  'paddingTop',\n",
       "  'paddingRight',\n",
       "  'paddingBottom',\n",
       "  'paddingLeft',\n",
       "\n",
       "  // https://developer.mozilla.org/en-US/docs/Web/CSS/font\n",
       "  'fontStyle',\n",
       "  'fontVariant',\n",
       "  'fontWeight',\n",
       "  'fontStretch',\n",
       "  'fontSize',\n",
       "  'fontSizeAdjust',\n",
       "  'lineHeight',\n",
       "  'fontFamily',\n",
       "\n",
       "  'textAlign',\n",
       "  'textTransform',\n",
       "  'textIndent',\n",
       "  'textDecoration',  // might not make a difference, but better be safe\n",
       "\n",
       "  'letterSpacing',\n",
       "  'wordSpacing',\n",
       "\n",
       "  'tabSize',\n",
       "  'MozTabSize'\n",
       "\n",
       "];\n",
       "\n",
       "var isBrowser = (typeof window !== 'undefined');\n",
       "var isFirefox = (isBrowser && window.mozInnerScreenX != null);\n",
       "\n",
       "function getCaretCoordinates(element, position, options) {\n",
       "  if (!isBrowser) {\n",
       "    throw new Error('textarea-caret-position#getCaretCoordinates should only be called in a browser');\n",
       "  }\n",
       "\n",
       "  var debug = options && options.debug || false;\n",
       "  if (debug) {\n",
       "    var el = document.querySelector('#input-textarea-caret-position-mirror-div');\n",
       "    if (el) el.parentNode.removeChild(el);\n",
       "  }\n",
       "\n",
       "  // The mirror div will replicate the textarea's style\n",
       "  var div = document.createElement('div');\n",
       "  div.id = 'input-textarea-caret-position-mirror-div';\n",
       "  document.body.appendChild(div);\n",
       "\n",
       "  var style = div.style;\n",
       "  var computed = window.getComputedStyle ? window.getComputedStyle(element) : element.currentStyle;  // currentStyle for IE < 9\n",
       "  var isInput = element.nodeName === 'INPUT';\n",
       "\n",
       "  // Default textarea styles\n",
       "  style.whiteSpace = 'pre-wrap';\n",
       "  if (!isInput)\n",
       "    style.wordWrap = 'break-word';  // only for textarea-s\n",
       "\n",
       "  // Position off-screen\n",
       "  style.position = 'absolute';  // required to return coordinates properly\n",
       "  if (!debug)\n",
       "    style.visibility = 'hidden';  // not 'display: none' because we want rendering\n",
       "\n",
       "  // Transfer the element's properties to the div\n",
       "  properties.forEach(function (prop) {\n",
       "    if (isInput && prop === 'lineHeight') {\n",
       "      // Special case for <input>s because text is rendered centered and line height may be != height\n",
       "      if (computed.boxSizing === \"border-box\") {\n",
       "        var height = parseInt(computed.height);\n",
       "        var outerHeight =\n",
       "          parseInt(computed.paddingTop) +\n",
       "          parseInt(computed.paddingBottom) +\n",
       "          parseInt(computed.borderTopWidth) +\n",
       "          parseInt(computed.borderBottomWidth);\n",
       "        var targetHeight = outerHeight + parseInt(computed.lineHeight);\n",
       "        if (height > targetHeight) {\n",
       "          style.lineHeight = height - outerHeight + \"px\";\n",
       "        } else if (height === targetHeight) {\n",
       "          style.lineHeight = computed.lineHeight;\n",
       "        } else {\n",
       "          style.lineHeight = 0;\n",
       "        }\n",
       "      } else {\n",
       "        style.lineHeight = computed.height;\n",
       "      }\n",
       "    } else {\n",
       "      style[prop] = computed[prop];\n",
       "    }\n",
       "  });\n",
       "\n",
       "  if (isFirefox) {\n",
       "    // Firefox lies about the overflow property for textareas: https://bugzilla.mozilla.org/show_bug.cgi?id=984275\n",
       "    if (element.scrollHeight > parseInt(computed.height))\n",
       "      style.overflowY = 'scroll';\n",
       "  } else {\n",
       "    style.overflow = 'hidden';  // for Chrome to not render a scrollbar; IE keeps overflowY = 'scroll'\n",
       "  }\n",
       "\n",
       "  div.textContent = element.value.substring(0, position);\n",
       "  // The second special handling for input type=\"text\" vs textarea:\n",
       "  // spaces need to be replaced with non-breaking spaces - http://stackoverflow.com/a/13402035/1269037\n",
       "  if (isInput)\n",
       "    div.textContent = div.textContent.replace(/\\s/g, '\\u00a0');\n",
       "\n",
       "  var span = document.createElement('span');\n",
       "  // Wrapping must be replicated *exactly*, including when a long word gets\n",
       "  // onto the next line, with whitespace at the end of the line before (#7).\n",
       "  // The  *only* reliable way to do that is to copy the *entire* rest of the\n",
       "  // textarea's content into the <span> created at the caret position.\n",
       "  // For inputs, just '.' would be enough, but no need to bother.\n",
       "  span.textContent = element.value.substring(position) || '.';  // || because a completely empty faux span doesn't render at all\n",
       "  div.appendChild(span);\n",
       "\n",
       "  var coordinates = {\n",
       "    top: span.offsetTop + parseInt(computed['borderTopWidth']),\n",
       "    left: span.offsetLeft + parseInt(computed['borderLeftWidth']),\n",
       "    height: parseInt(computed['lineHeight'])\n",
       "  };\n",
       "\n",
       "  if (debug) {\n",
       "    span.style.backgroundColor = '#aaa';\n",
       "  } else {\n",
       "    document.body.removeChild(div);\n",
       "  }\n",
       "\n",
       "  return coordinates;\n",
       "}\n",
       "\n",
       "if (typeof module != 'undefined' && typeof module.exports != 'undefined') {\n",
       "  module.exports = getCaretCoordinates;\n",
       "} else if(isBrowser) {\n",
       "  window.getCaretCoordinates = getCaretCoordinates;\n",
       "}\n",
       "\n",
       "}());\n",
       "\n",
       "require.undef('ontoedit');\n",
       "\n",
       "define('ontoedit', [\"@jupyter-widgets/base\"], function(widgets) {\n",
       "\n",
       "    var OntoeditModel = widgets.TextareaModel.extend({\n",
       "\n",
       "        defaults: $.extend(widgets.TextareaModel.prototype.defaults(), {\n",
       "            _model_name: \"OntoeditModel\",\n",
       "            _view_name: \"OntoeditView\",\n",
       "            _model_module: \"ontoedit\",\n",
       "            _view_module: \"ontoedit\",\n",
       "            rows: null,\n",
       "            continuous_update: true,\n",
       "            cursor: 0,\n",
       "            dot:0,\n",
       "            hints:'',\n",
       "            hintsX:0,\n",
       "            hintT:''\n",
       "        })\n",
       "    });\n",
       "\n",
       "    var OntoeditView = widgets.TextareaView.extend({\n",
       "\n",
       "        render: function() {\n",
       "            OntoeditView.__super__.render.apply(this, arguments);\n",
       "            this.model.on('change:hints', this.hints_changed, this);\n",
       "            this.model.on('change:hintsX', this.hintsX_changed, this);\n",
       "\n",
       "            var model = this.model;\n",
       "            var that = this;\n",
       "\n",
       "            var last_position = 0;\n",
       "\n",
       "            function cursor_changed(element) {\n",
       "                var new_position = getCursorPosition(element);\n",
       "                if (new_position !== last_position) {\n",
       "                    last_position = new_position;\n",
       "                    return true;\n",
       "                }\n",
       "                return false;\n",
       "            }\n",
       "\n",
       "            function getCursorPosition(element) {\n",
       "                var el = $(element).get(0);\n",
       "                var pos = 0;\n",
       "                if ('selectionStart' in el) {\n",
       "                    pos = el.selectionStart;\n",
       "                } else if ('selection' in document) {\n",
       "                    el.focus();\n",
       "                    var Sel = document.selection.createRange();\n",
       "                    var SelLength = document.selection.createRange().text.length;\n",
       "                    Sel.moveStart('character', -el.value.length);\n",
       "                    pos = Sel.text.length - SelLength;\n",
       "                }\n",
       "                return pos;\n",
       "            }\n",
       "\n",
       "            var oldVal = \"\";\n",
       "\n",
       "            this.dd=$('<div style=\"-moz-appearance: textfield-multiline;-webkit-appearance: textarea;font: medium -moz-fixed; font: -webkit-small-control; position: absolute;z-index: 1; background-color:navy;color:white;box-shadow: 0px 8px 16px 0px rgba(0,0,0,0.4); \"/>')\n",
       "\n",
       "            $(this.el).bind(\"click keyup focus\",function(e){\n",
       "                if (that.dd.get(0).style.visibility!=\"visible\")\n",
       "                    return;\n",
       "                \n",
       "                var ele=$($(that.el).children(\"textarea\")[0])\n",
       "\n",
       "                if(cursor_changed(ele)){\n",
       "                   var  cursor = getCursorPosition(ele);\n",
       "//                    console.log(cursor);\n",
       "//                    console.log('(top, left, height) = (%s, %s, %s)', caret.top, caret.left, caret.height);\n",
       "                    model.set('cursor',cursor);\n",
       "//                    console.log(cursor)\n",
       "                    that.touch();\n",
       "                }\n",
       "            });\n",
       "\n",
       "            $($(this.el).children(\"textarea\")[0]).bind(\"blur\",function(e){\n",
       "//                console.log(\"blur\")\n",
       "                  model.set('dot',model.get('dot')+1);\n",
       "                  that.touch();\n",
       "                that.dd.get(0).style.visibility=\"hidden\";\n",
       "            });\n",
       "\n",
       "            $($(this.el).children(\"textarea\")[0]).bind(\"keydown\",function(e){\n",
       "                  if (String.fromCharCode(event.which)=='\\t')\n",
       "                  {\n",
       "                        if (that.dd.get(0).style.visibility!=\"visible\")\n",
       "                        {\n",
       "                            var ele=$($(that.el).children(\"textarea\")[0])\n",
       "\n",
       "                            if(cursor_changed(ele)){\n",
       "                               var  cursor = getCursorPosition(ele);\n",
       "            //                    console.log(cursor);\n",
       "            //                    console.log('(top, left, height) = (%s, %s, %s)', caret.top, caret.left, caret.height);\n",
       "                                model.set('cursor',cursor);\n",
       "            //                    console.log(cursor)\n",
       "                                that.touch();\n",
       "                                that.dd.get(0).style.visibility=\"visible\";\n",
       "                            }\n",
       "                        }\n",
       "//                      console.log(model.get('hintT'));\n",
       "                      var target=$($(that.el).children(\"textarea\")[0])\n",
       "                      var curpos = getCursorPosition(target)\n",
       "                      var off=curpos-model.get('hintsX')\n",
       "                      var data = model.get('hintT').slice(off)\n",
       "//                      console.log(off)\n",
       "\n",
       "                      if (target.setRangeText) {\n",
       "                         //if setRangeText function is supported by current browser\n",
       "                         target.setRangeText(data)\n",
       "                      } else {\n",
       "                        target.focus()\n",
       "                        document.execCommand('insertText', false /*no UI*/, data);\n",
       "                      }\n",
       "                      e.preventDefault();\n",
       "                      return;\n",
       "                  }\n",
       "                  else if (event.key=='.')\n",
       "                  {\n",
       "                      model.set('dot',model.get('dot')+1);\n",
       "                      that.touch();\n",
       "                  }\n",
       "                  else if(event.key== \"Escape\")\n",
       "                  {\n",
       "                    that.dd.get(0).style.visibility=\"hidden\";\n",
       "                  }\n",
       "            });\n",
       "\n",
       "            // this.el represents the widget's DOM\n",
       "            $(this.el)\n",
       "            .append(this.dd)\n",
       "        },\n",
       "\n",
       "        hints_changed: function() {\n",
       "            var that = this;\n",
       "            var model = this.model;\n",
       "            that.dd.get(0).innerHTML=model.get('hints')\n",
       "//            console.log(model.get('hints'))\n",
       "        },\n",
       "        hintsX_changed: function() {\n",
       "            var that = this;\n",
       "            var model = this.model;\n",
       "            var ele=$($(that.el).children(\"textarea\")[0]);\n",
       "            element=ele.get(0);\n",
       "            var caret = getCaretCoordinates(ele.get(0), model.get('hintsX'));\n",
       "            that.dd.get(0).style.top = element.offsetTop - element.scrollTop + caret.top+ caret.height-5 + 'px';\n",
       "            that.dd.get(0).style.left = element.offsetLeft - element.scrollLeft + caret.left + 'px';\n",
       "//            that.dd.get(0).style.width = '20%';\n",
       "//            that.dd.get(0).style.height = '50%';\n",
       "            that.dd.get(0).style.fontFamily=element.style.fontFamily;\n",
       "            that.dd.get(0).style.fontSize=element.style.fontSize;\n",
       "//                        console.log(model.get('hintsX'))\n",
       "        },\n",
       "    });\n",
       "\n",
       "    return {\n",
       "        OntoeditModel : OntoeditModel,\n",
       "        OntoeditView : OntoeditView\n",
       "    };\n",
       "});\n"
      ],
      "text/plain": [
       "<IPython.core.display.Javascript object>"
      ]
     },
     "metadata": {},
     "output_type": "display_data"
    },
    {
     "data": {
      "text/html": [
       "Welcome to CogniPy"
      ],
      "text/plain": [
       "<IPython.core.display.HTML object>"
      ]
     },
     "metadata": {},
     "output_type": "display_data"
    },
    {
     "data": {
      "application/vnd.jupyter.widget-view+json": {
       "model_id": "99089c47ebde4fd29b1a4813f1c122c5",
       "version_major": 2,
       "version_minor": 0
      },
      "text/plain": [
       "VBox(children=(Output(), OntoeditWidget(layout=Layout(height='100%', width='90%'), value=\"Namespace: 'http://c…"
      ]
     },
     "metadata": {},
     "output_type": "display_data"
    }
   ],
   "source": [
    "parts_editors['01']=CnlEditBox('part_01.encnl')\n",
    "parts_editors['01']"
   ]
  },
  {
   "cell_type": "markdown",
   "metadata": {},
   "source": [
    "Lets define the function that will build the ontology based on the dict of ontology editors and the optional additional editor for testing purposes. All it is doing it is concatenaiting the values of all the editors and puts them into the newly created ontology object."
   ]
  },
  {
   "cell_type": "code",
   "execution_count": 4,
   "metadata": {},
   "outputs": [],
   "source": [
    "def buildOntology(parts_editors,test_editor=None):\n",
    "    return Ontology(\"cnl/string\",\n",
    "                    \"\\n\\n\".join(k.getvalue() for k in parts_editors.values())+('' if test_editor is None else test_editor.getvalue()), \n",
    "                    evaluator = lambda e:eval(e,globals(),locals()), \n",
    "                    graph_attribute_formatter = graph_attribute_formatter)"
   ]
  },
  {
   "cell_type": "markdown",
   "metadata": {},
   "source": [
    "The ontology object alows you to draw the materialised graph using several layout algorythms. Lets draw our base ontology."
   ]
  },
  {
   "cell_type": "code",
   "execution_count": 5,
   "metadata": {},
   "outputs": [
    {
     "data": {
      "image/svg+xml": [
       "<svg xmlns=\"http://www.w3.org/2000/svg\" xmlns:xlink=\"http://www.w3.org/1999/xlink\" width=\"1526pt\" height=\"191pt\" viewBox=\"0.00 0.00 1526.00 191.00\">\n",
       "<g id=\"graph0\" class=\"graph\" transform=\"scale(1 1) rotate(0) translate(4 187)\">\n",
       "<title>G</title>\n",
       "<polygon fill=\"white\" stroke=\"none\" points=\"-4,4 -4,-187 1522,-187 1522,4 -4,4\"/>\n",
       "<!-- tasty&#45;plant -->\n",
       "<g id=\"node1\" class=\"node\"><title>tasty-plant</title>\n",
       "<path fill=\"aliceblue\" stroke=\"black\" stroke-width=\"0.5\" d=\"M12,-73.5C12,-73.5 50,-73.5 50,-73.5 56,-73.5 62,-79.5 62,-85.5 62,-85.5 62,-97.5 62,-97.5 62,-103.5 56,-109.5 50,-109.5 50,-109.5 12,-109.5 12,-109.5 6,-109.5 0,-103.5 0,-97.5 0,-97.5 0,-85.5 0,-85.5 0,-79.5 6,-73.5 12,-73.5\"/>\n",
       "<text text-anchor=\"middle\" x=\"31\" y=\"-88.7\" font-family=\"Times New Roman,serif\" font-size=\"11.00\">tasty-plant</text>\n",
       "</g>\n",
       "<!-- plant -->\n",
       "<g id=\"node2\" class=\"node\"><title>plant</title>\n",
       "<path fill=\"aliceblue\" stroke=\"black\" stroke-width=\"0.5\" d=\"M205,-146.5C205,-146.5 235,-146.5 235,-146.5 241,-146.5 247,-152.5 247,-158.5 247,-158.5 247,-170.5 247,-170.5 247,-176.5 241,-182.5 235,-182.5 235,-182.5 205,-182.5 205,-182.5 199,-182.5 193,-176.5 193,-170.5 193,-170.5 193,-158.5 193,-158.5 193,-152.5 199,-146.5 205,-146.5\"/>\n",
       "<text text-anchor=\"middle\" x=\"220\" y=\"-161.7\" font-family=\"Times New Roman,serif\" font-size=\"11.00\">plant</text>\n",
       "</g>\n",
       "<!-- plant&#45;&#45;tasty&#45;plant -->\n",
       "<g id=\"edge1\" class=\"edge\"><title>plant--tasty-plant</title>\n",
       "<path fill=\"none\" stroke=\"black\" stroke-width=\"0.5\" d=\"M183.149,-151.047C152.835,-140.617 108.86,-125.059 71,-110 68.1827,-108.879 65.2692,-107.682 62.3584,-106.458\"/>\n",
       "<polygon fill=\"none\" stroke=\"black\" stroke-width=\"0.5\" points=\"182.282,-154.45 192.877,-154.379 184.551,-147.827 182.282,-154.45\"/>\n",
       "</g>\n",
       "<!-- carnivorous&#45;plant -->\n",
       "<g id=\"node15\" class=\"node\"><title>carnivorous-plant</title>\n",
       "<path fill=\"aliceblue\" stroke=\"black\" stroke-width=\"0.5\" d=\"M92,-73.5C92,-73.5 160,-73.5 160,-73.5 166,-73.5 172,-79.5 172,-85.5 172,-85.5 172,-97.5 172,-97.5 172,-103.5 166,-109.5 160,-109.5 160,-109.5 92,-109.5 92,-109.5 86,-109.5 80,-103.5 80,-97.5 80,-97.5 80,-85.5 80,-85.5 80,-79.5 86,-73.5 92,-73.5\"/>\n",
       "<text text-anchor=\"middle\" x=\"126\" y=\"-88.7\" font-family=\"Times New Roman,serif\" font-size=\"11.00\">carnivorous-plant</text>\n",
       "</g>\n",
       "<!-- plant&#45;&#45;carnivorous&#45;plant -->\n",
       "<g id=\"edge12\" class=\"edge\"><title>plant--carnivorous-plant</title>\n",
       "<path fill=\"none\" stroke=\"black\" stroke-width=\"0.5\" d=\"M188.903,-140.012C175.716,-130.051 160.634,-118.66 148.545,-109.529\"/>\n",
       "<polygon fill=\"none\" stroke=\"black\" stroke-width=\"0.5\" points=\"187.156,-143.079 197.245,-146.313 191.375,-137.493 187.156,-143.079\"/>\n",
       "</g>\n",
       "<!-- palm&#45;tree -->\n",
       "<g id=\"node20\" class=\"node\"><title>palm-tree</title>\n",
       "<path fill=\"aliceblue\" stroke=\"black\" stroke-width=\"0.5\" d=\"M202.5,-73.5C202.5,-73.5 237.5,-73.5 237.5,-73.5 243.5,-73.5 249.5,-79.5 249.5,-85.5 249.5,-85.5 249.5,-97.5 249.5,-97.5 249.5,-103.5 243.5,-109.5 237.5,-109.5 237.5,-109.5 202.5,-109.5 202.5,-109.5 196.5,-109.5 190.5,-103.5 190.5,-97.5 190.5,-97.5 190.5,-85.5 190.5,-85.5 190.5,-79.5 196.5,-73.5 202.5,-73.5\"/>\n",
       "<text text-anchor=\"middle\" x=\"220\" y=\"-88.7\" font-family=\"Times New Roman,serif\" font-size=\"11.00\">palm-tree</text>\n",
       "</g>\n",
       "<!-- plant&#45;&#45;palm&#45;tree -->\n",
       "<g id=\"edge17\" class=\"edge\"><title>plant--palm-tree</title>\n",
       "<path fill=\"none\" stroke=\"black\" stroke-width=\"0.5\" d=\"M220,-136.253C220,-127.265 220,-117.529 220,-109.529\"/>\n",
       "<polygon fill=\"none\" stroke=\"black\" stroke-width=\"0.5\" points=\"216.5,-136.313 220,-146.313 223.5,-136.313 216.5,-136.313\"/>\n",
       "</g>\n",
       "<!-- tree -->\n",
       "<g id=\"node22\" class=\"node\"><title>tree</title>\n",
       "<path fill=\"aliceblue\" stroke=\"black\" stroke-width=\"0.5\" d=\"M280,-73.5C280,-73.5 310,-73.5 310,-73.5 316,-73.5 322,-79.5 322,-85.5 322,-85.5 322,-97.5 322,-97.5 322,-103.5 316,-109.5 310,-109.5 310,-109.5 280,-109.5 280,-109.5 274,-109.5 268,-103.5 268,-97.5 268,-97.5 268,-85.5 268,-85.5 268,-79.5 274,-73.5 280,-73.5\"/>\n",
       "<text text-anchor=\"middle\" x=\"295\" y=\"-88.7\" font-family=\"Times New Roman,serif\" font-size=\"11.00\">tree</text>\n",
       "</g>\n",
       "<!-- plant&#45;&#45;tree -->\n",
       "<g id=\"edge19\" class=\"edge\"><title>plant--tree</title>\n",
       "<path fill=\"none\" stroke=\"black\" stroke-width=\"0.5\" d=\"M245.717,-139.155C256.019,-129.402 267.642,-118.399 277.012,-109.529\"/>\n",
       "<polygon fill=\"none\" stroke=\"black\" stroke-width=\"0.5\" points=\"243.011,-136.896 238.155,-146.313 247.824,-141.98 243.011,-136.896\"/>\n",
       "</g>\n",
       "<!-- grass -->\n",
       "<g id=\"node26\" class=\"node\"><title>grass</title>\n",
       "<path fill=\"aliceblue\" stroke=\"black\" stroke-width=\"0.5\" d=\"M352,-73.5C352,-73.5 382,-73.5 382,-73.5 388,-73.5 394,-79.5 394,-85.5 394,-85.5 394,-97.5 394,-97.5 394,-103.5 388,-109.5 382,-109.5 382,-109.5 352,-109.5 352,-109.5 346,-109.5 340,-103.5 340,-97.5 340,-97.5 340,-85.5 340,-85.5 340,-79.5 346,-73.5 352,-73.5\"/>\n",
       "<text text-anchor=\"middle\" x=\"367\" y=\"-88.7\" font-family=\"Times New Roman,serif\" font-size=\"11.00\">grass</text>\n",
       "</g>\n",
       "<!-- plant&#45;&#45;grass -->\n",
       "<g id=\"edge23\" class=\"edge\"><title>plant--grass</title>\n",
       "<path fill=\"none\" stroke=\"black\" stroke-width=\"0.5\" d=\"M256.549,-145.922C278.203,-135.498 306.176,-122.016 331,-110 333.877,-108.607 336.883,-107.15 339.878,-105.696\"/>\n",
       "<polygon fill=\"none\" stroke=\"black\" stroke-width=\"0.5\" points=\"254.875,-142.843 247.382,-150.334 257.911,-149.151 254.875,-142.843\"/>\n",
       "</g>\n",
       "<!-- apple -->\n",
       "<g id=\"node3\" class=\"node\"><title>apple</title>\n",
       "<path fill=\"aliceblue\" stroke=\"black\" stroke-width=\"0.5\" d=\"M397,-0.5C397,-0.5 427,-0.5 427,-0.5 433,-0.5 439,-6.5 439,-12.5 439,-12.5 439,-24.5 439,-24.5 439,-30.5 433,-36.5 427,-36.5 427,-36.5 397,-36.5 397,-36.5 391,-36.5 385,-30.5 385,-24.5 385,-24.5 385,-12.5 385,-12.5 385,-6.5 391,-0.5 397,-0.5\"/>\n",
       "<text text-anchor=\"middle\" x=\"412\" y=\"-15.7\" font-family=\"Times New Roman,serif\" font-size=\"11.00\">apple</text>\n",
       "</g>\n",
       "<!-- fruiting&#45;body -->\n",
       "<g id=\"node4\" class=\"node\"><title>fruiting-body</title>\n",
       "<path fill=\"aliceblue\" stroke=\"black\" stroke-width=\"0.5\" d=\"M424,-73.5C424,-73.5 472,-73.5 472,-73.5 478,-73.5 484,-79.5 484,-85.5 484,-85.5 484,-97.5 484,-97.5 484,-103.5 478,-109.5 472,-109.5 472,-109.5 424,-109.5 424,-109.5 418,-109.5 412,-103.5 412,-97.5 412,-97.5 412,-85.5 412,-85.5 412,-79.5 418,-73.5 424,-73.5\"/>\n",
       "<text text-anchor=\"middle\" x=\"448\" y=\"-88.7\" font-family=\"Times New Roman,serif\" font-size=\"11.00\">fruiting-body</text>\n",
       "</g>\n",
       "<!-- fruiting&#45;body&#45;&#45;apple -->\n",
       "<g id=\"edge2\" class=\"edge\"><title>fruiting-body--apple</title>\n",
       "<path fill=\"none\" stroke=\"black\" stroke-width=\"0.5\" d=\"M434.629,-64.1302C429.95,-54.9019 424.823,-44.7904 420.634,-36.5288\"/>\n",
       "<polygon fill=\"none\" stroke=\"black\" stroke-width=\"0.5\" points=\"431.641,-65.9767 439.285,-73.3129 437.885,-62.811 431.641,-65.9767\"/>\n",
       "</g>\n",
       "<!-- berry -->\n",
       "<g id=\"node12\" class=\"node\"><title>berry</title>\n",
       "<path fill=\"aliceblue\" stroke=\"black\" stroke-width=\"0.5\" d=\"M469,-0.5C469,-0.5 499,-0.5 499,-0.5 505,-0.5 511,-6.5 511,-12.5 511,-12.5 511,-24.5 511,-24.5 511,-30.5 505,-36.5 499,-36.5 499,-36.5 469,-36.5 469,-36.5 463,-36.5 457,-30.5 457,-24.5 457,-24.5 457,-12.5 457,-12.5 457,-6.5 463,-0.5 469,-0.5\"/>\n",
       "<text text-anchor=\"middle\" x=\"484\" y=\"-15.7\" font-family=\"Times New Roman,serif\" font-size=\"11.00\">berry</text>\n",
       "</g>\n",
       "<!-- fruiting&#45;body&#45;&#45;berry -->\n",
       "<g id=\"edge9\" class=\"edge\"><title>fruiting-body--berry</title>\n",
       "<path fill=\"none\" stroke=\"black\" stroke-width=\"0.5\" d=\"M461.371,-64.1302C466.05,-54.9019 471.177,-44.7904 475.366,-36.5288\"/>\n",
       "<polygon fill=\"none\" stroke=\"black\" stroke-width=\"0.5\" points=\"458.115,-62.811 456.715,-73.3129 464.359,-65.9767 458.115,-62.811\"/>\n",
       "</g>\n",
       "<!-- rock&#45;dassie -->\n",
       "<g id=\"node5\" class=\"node\"><title>rock-dassie</title>\n",
       "<path fill=\"aliceblue\" stroke=\"black\" stroke-width=\"0.5\" d=\"M1018.5,-73.5C1018.5,-73.5 1061.5,-73.5 1061.5,-73.5 1067.5,-73.5 1073.5,-79.5 1073.5,-85.5 1073.5,-85.5 1073.5,-97.5 1073.5,-97.5 1073.5,-103.5 1067.5,-109.5 1061.5,-109.5 1061.5,-109.5 1018.5,-109.5 1018.5,-109.5 1012.5,-109.5 1006.5,-103.5 1006.5,-97.5 1006.5,-97.5 1006.5,-85.5 1006.5,-85.5 1006.5,-79.5 1012.5,-73.5 1018.5,-73.5\"/>\n",
       "<text text-anchor=\"middle\" x=\"1040\" y=\"-88.7\" font-family=\"Times New Roman,serif\" font-size=\"11.00\">rock-dassie</text>\n",
       "</g>\n",
       "<!-- animal -->\n",
       "<g id=\"node6\" class=\"node\"><title>animal</title>\n",
       "<path fill=\"aliceblue\" stroke=\"black\" stroke-width=\"0.5\" d=\"M1254,-146.5C1254,-146.5 1284,-146.5 1284,-146.5 1290,-146.5 1296,-152.5 1296,-158.5 1296,-158.5 1296,-170.5 1296,-170.5 1296,-176.5 1290,-182.5 1284,-182.5 1284,-182.5 1254,-182.5 1254,-182.5 1248,-182.5 1242,-176.5 1242,-170.5 1242,-170.5 1242,-158.5 1242,-158.5 1242,-152.5 1248,-146.5 1254,-146.5\"/>\n",
       "<text text-anchor=\"middle\" x=\"1269\" y=\"-161.7\" font-family=\"Times New Roman,serif\" font-size=\"11.00\">animal</text>\n",
       "</g>\n",
       "<!-- animal&#45;&#45;rock&#45;dassie -->\n",
       "<g id=\"edge3\" class=\"edge\"><title>animal--rock-dassie</title>\n",
       "<path fill=\"none\" stroke=\"black\" stroke-width=\"0.5\" d=\"M1231.88,-154.07C1194.07,-144.176 1133.94,-127.634 1083,-110 1079.95,-108.945 1076.81,-107.793 1073.67,-106.599\"/>\n",
       "<polygon fill=\"none\" stroke=\"black\" stroke-width=\"0.5\" points=\"1231.36,-157.552 1241.92,-156.679 1233.12,-150.777 1231.36,-157.552\"/>\n",
       "</g>\n",
       "<!-- warthog -->\n",
       "<g id=\"node11\" class=\"node\"><title>warthog</title>\n",
       "<path fill=\"aliceblue\" stroke=\"black\" stroke-width=\"0.5\" d=\"M1104,-73.5C1104,-73.5 1134,-73.5 1134,-73.5 1140,-73.5 1146,-79.5 1146,-85.5 1146,-85.5 1146,-97.5 1146,-97.5 1146,-103.5 1140,-109.5 1134,-109.5 1134,-109.5 1104,-109.5 1104,-109.5 1098,-109.5 1092,-103.5 1092,-97.5 1092,-97.5 1092,-85.5 1092,-85.5 1092,-79.5 1098,-73.5 1104,-73.5\"/>\n",
       "<text text-anchor=\"middle\" x=\"1119\" y=\"-88.7\" font-family=\"Times New Roman,serif\" font-size=\"11.00\">warthog</text>\n",
       "</g>\n",
       "<!-- animal&#45;&#45;warthog -->\n",
       "<g id=\"edge8\" class=\"edge\"><title>animal--warthog</title>\n",
       "<path fill=\"none\" stroke=\"black\" stroke-width=\"0.5\" d=\"M1232.62,-146.58C1210.2,-136.117 1180.89,-122.368 1155,-110 1152.12,-108.622 1149.11,-107.174 1146.11,-105.726\"/>\n",
       "<polygon fill=\"none\" stroke=\"black\" stroke-width=\"0.5\" points=\"1231.23,-149.794 1241.77,-150.849 1234.19,-143.45 1231.23,-149.794\"/>\n",
       "</g>\n",
       "<!-- herbivore -->\n",
       "<g id=\"node13\" class=\"node\"><title>herbivore</title>\n",
       "<path fill=\"aliceblue\" stroke=\"black\" stroke-width=\"0.5\" d=\"M1176,-73.5C1176,-73.5 1210,-73.5 1210,-73.5 1216,-73.5 1222,-79.5 1222,-85.5 1222,-85.5 1222,-97.5 1222,-97.5 1222,-103.5 1216,-109.5 1210,-109.5 1210,-109.5 1176,-109.5 1176,-109.5 1170,-109.5 1164,-103.5 1164,-97.5 1164,-97.5 1164,-85.5 1164,-85.5 1164,-79.5 1170,-73.5 1176,-73.5\"/>\n",
       "<text text-anchor=\"middle\" x=\"1193\" y=\"-88.7\" font-family=\"Times New Roman,serif\" font-size=\"11.00\">herbivore</text>\n",
       "</g>\n",
       "<!-- animal&#45;&#45;herbivore -->\n",
       "<g id=\"edge10\" class=\"edge\"><title>animal--herbivore</title>\n",
       "<path fill=\"none\" stroke=\"black\" stroke-width=\"0.5\" d=\"M1243.25,-139.441C1232.73,-129.618 1220.82,-118.486 1211.23,-109.529\"/>\n",
       "<polygon fill=\"none\" stroke=\"black\" stroke-width=\"0.5\" points=\"1240.91,-142.044 1250.6,-146.313 1245.68,-136.929 1240.91,-142.044\"/>\n",
       "</g>\n",
       "<!-- omnivore -->\n",
       "<g id=\"node14\" class=\"node\"><title>omnivore</title>\n",
       "<path fill=\"aliceblue\" stroke=\"black\" stroke-width=\"0.5\" d=\"M1252.5,-73.5C1252.5,-73.5 1285.5,-73.5 1285.5,-73.5 1291.5,-73.5 1297.5,-79.5 1297.5,-85.5 1297.5,-85.5 1297.5,-97.5 1297.5,-97.5 1297.5,-103.5 1291.5,-109.5 1285.5,-109.5 1285.5,-109.5 1252.5,-109.5 1252.5,-109.5 1246.5,-109.5 1240.5,-103.5 1240.5,-97.5 1240.5,-97.5 1240.5,-85.5 1240.5,-85.5 1240.5,-79.5 1246.5,-73.5 1252.5,-73.5\"/>\n",
       "<text text-anchor=\"middle\" x=\"1269\" y=\"-88.7\" font-family=\"Times New Roman,serif\" font-size=\"11.00\">omnivore</text>\n",
       "</g>\n",
       "<!-- animal&#45;&#45;omnivore -->\n",
       "<g id=\"edge11\" class=\"edge\"><title>animal--omnivore</title>\n",
       "<path fill=\"none\" stroke=\"black\" stroke-width=\"0.5\" d=\"M1269,-136.253C1269,-127.265 1269,-117.529 1269,-109.529\"/>\n",
       "<polygon fill=\"none\" stroke=\"black\" stroke-width=\"0.5\" points=\"1265.5,-136.313 1269,-146.313 1272.5,-136.313 1265.5,-136.313\"/>\n",
       "</g>\n",
       "<!-- carnivore -->\n",
       "<g id=\"node17\" class=\"node\"><title>carnivore</title>\n",
       "<path fill=\"aliceblue\" stroke=\"black\" stroke-width=\"0.5\" d=\"M1328,-73.5C1328,-73.5 1362,-73.5 1362,-73.5 1368,-73.5 1374,-79.5 1374,-85.5 1374,-85.5 1374,-97.5 1374,-97.5 1374,-103.5 1368,-109.5 1362,-109.5 1362,-109.5 1328,-109.5 1328,-109.5 1322,-109.5 1316,-103.5 1316,-97.5 1316,-97.5 1316,-85.5 1316,-85.5 1316,-79.5 1322,-73.5 1328,-73.5\"/>\n",
       "<text text-anchor=\"middle\" x=\"1345\" y=\"-88.7\" font-family=\"Times New Roman,serif\" font-size=\"11.00\">carnivore</text>\n",
       "</g>\n",
       "<!-- animal&#45;&#45;carnivore -->\n",
       "<g id=\"edge14\" class=\"edge\"><title>animal--carnivore</title>\n",
       "<path fill=\"none\" stroke=\"black\" stroke-width=\"0.5\" d=\"M1294.75,-139.441C1305.27,-129.618 1317.18,-118.486 1326.77,-109.529\"/>\n",
       "<polygon fill=\"none\" stroke=\"black\" stroke-width=\"0.5\" points=\"1292.32,-136.929 1287.4,-146.313 1297.09,-142.044 1292.32,-136.929\"/>\n",
       "</g>\n",
       "<!-- impala -->\n",
       "<g id=\"node21\" class=\"node\"><title>impala</title>\n",
       "<path fill=\"aliceblue\" stroke=\"black\" stroke-width=\"0.5\" d=\"M1404,-73.5C1404,-73.5 1434,-73.5 1434,-73.5 1440,-73.5 1446,-79.5 1446,-85.5 1446,-85.5 1446,-97.5 1446,-97.5 1446,-103.5 1440,-109.5 1434,-109.5 1434,-109.5 1404,-109.5 1404,-109.5 1398,-109.5 1392,-103.5 1392,-97.5 1392,-97.5 1392,-85.5 1392,-85.5 1392,-79.5 1398,-73.5 1404,-73.5\"/>\n",
       "<text text-anchor=\"middle\" x=\"1419\" y=\"-88.7\" font-family=\"Times New Roman,serif\" font-size=\"11.00\">impala</text>\n",
       "</g>\n",
       "<!-- animal&#45;&#45;impala -->\n",
       "<g id=\"edge18\" class=\"edge\"><title>animal--impala</title>\n",
       "<path fill=\"none\" stroke=\"black\" stroke-width=\"0.5\" d=\"M1305.38,-146.58C1327.8,-136.117 1357.11,-122.368 1383,-110 1385.88,-108.622 1388.89,-107.174 1391.89,-105.726\"/>\n",
       "<polygon fill=\"none\" stroke=\"black\" stroke-width=\"0.5\" points=\"1303.81,-143.45 1296.23,-150.849 1306.77,-149.794 1303.81,-143.45\"/>\n",
       "</g>\n",
       "<!-- giraffe -->\n",
       "<g id=\"node28\" class=\"node\"><title>giraffe</title>\n",
       "<path fill=\"aliceblue\" stroke=\"black\" stroke-width=\"0.5\" d=\"M1476,-73.5C1476,-73.5 1506,-73.5 1506,-73.5 1512,-73.5 1518,-79.5 1518,-85.5 1518,-85.5 1518,-97.5 1518,-97.5 1518,-103.5 1512,-109.5 1506,-109.5 1506,-109.5 1476,-109.5 1476,-109.5 1470,-109.5 1464,-103.5 1464,-97.5 1464,-97.5 1464,-85.5 1464,-85.5 1464,-79.5 1470,-73.5 1476,-73.5\"/>\n",
       "<text text-anchor=\"middle\" x=\"1491\" y=\"-88.7\" font-family=\"Times New Roman,serif\" font-size=\"11.00\">giraffe</text>\n",
       "</g>\n",
       "<!-- animal&#45;&#45;giraffe -->\n",
       "<g id=\"edge25\" class=\"edge\"><title>animal--giraffe</title>\n",
       "<path fill=\"none\" stroke=\"black\" stroke-width=\"0.5\" d=\"M1306.38,-154.768C1344.38,-145.423 1404.67,-129.304 1455,-110 1457.85,-108.905 1460.79,-107.669 1463.7,-106.374\"/>\n",
       "<polygon fill=\"none\" stroke=\"black\" stroke-width=\"0.5\" points=\"1305.17,-151.46 1296.28,-157.222 1306.82,-158.263 1305.17,-151.46\"/>\n",
       "</g>\n",
       "<!-- twig -->\n",
       "<g id=\"node7\" class=\"node\"><title>twig</title>\n",
       "<path fill=\"aliceblue\" stroke=\"black\" stroke-width=\"0.5\" d=\"M514,-73.5C514,-73.5 544,-73.5 544,-73.5 550,-73.5 556,-79.5 556,-85.5 556,-85.5 556,-97.5 556,-97.5 556,-103.5 550,-109.5 544,-109.5 544,-109.5 514,-109.5 514,-109.5 508,-109.5 502,-103.5 502,-97.5 502,-97.5 502,-85.5 502,-85.5 502,-79.5 508,-73.5 514,-73.5\"/>\n",
       "<text text-anchor=\"middle\" x=\"529\" y=\"-88.7\" font-family=\"Times New Roman,serif\" font-size=\"11.00\">twig</text>\n",
       "</g>\n",
       "<!-- plant&#45;part -->\n",
       "<g id=\"node8\" class=\"node\"><title>plant-part</title>\n",
       "<path fill=\"aliceblue\" stroke=\"black\" stroke-width=\"0.5\" d=\"M691.5,-146.5C691.5,-146.5 726.5,-146.5 726.5,-146.5 732.5,-146.5 738.5,-152.5 738.5,-158.5 738.5,-158.5 738.5,-170.5 738.5,-170.5 738.5,-176.5 732.5,-182.5 726.5,-182.5 726.5,-182.5 691.5,-182.5 691.5,-182.5 685.5,-182.5 679.5,-176.5 679.5,-170.5 679.5,-170.5 679.5,-158.5 679.5,-158.5 679.5,-152.5 685.5,-146.5 691.5,-146.5\"/>\n",
       "<text text-anchor=\"middle\" x=\"709\" y=\"-161.7\" font-family=\"Times New Roman,serif\" font-size=\"11.00\">plant-part</text>\n",
       "</g>\n",
       "<!-- plant&#45;part&#45;&#45;fruiting&#45;body -->\n",
       "<g id=\"edge7\" class=\"edge\"><title>plant-part--fruiting-body</title>\n",
       "<path fill=\"none\" stroke=\"black\" stroke-width=\"0.5\" d=\"M669.392,-155.288C625.748,-145.871 553.69,-129.23 493,-110 490.123,-109.088 487.166,-108.087 484.207,-107.04\"/>\n",
       "<polygon fill=\"none\" stroke=\"black\" stroke-width=\"0.5\" points=\"668.809,-158.743 679.32,-157.411 670.273,-151.897 668.809,-158.743\"/>\n",
       "</g>\n",
       "<!-- plant&#45;part&#45;&#45;twig -->\n",
       "<g id=\"edge4\" class=\"edge\"><title>plant-part--twig</title>\n",
       "<path fill=\"none\" stroke=\"black\" stroke-width=\"0.5\" d=\"M669.622,-150.03C640.449,-139.771 599.877,-124.915 565,-110 562.189,-108.798 559.28,-107.492 556.391,-106.153\"/>\n",
       "<polygon fill=\"none\" stroke=\"black\" stroke-width=\"0.5\" points=\"668.843,-153.465 679.438,-153.459 671.152,-146.856 668.843,-153.465\"/>\n",
       "</g>\n",
       "<!-- stem -->\n",
       "<g id=\"node9\" class=\"node\"><title>stem</title>\n",
       "<path fill=\"aliceblue\" stroke=\"black\" stroke-width=\"0.5\" d=\"M586,-73.5C586,-73.5 616,-73.5 616,-73.5 622,-73.5 628,-79.5 628,-85.5 628,-85.5 628,-97.5 628,-97.5 628,-103.5 622,-109.5 616,-109.5 616,-109.5 586,-109.5 586,-109.5 580,-109.5 574,-103.5 574,-97.5 574,-97.5 574,-85.5 574,-85.5 574,-79.5 580,-73.5 586,-73.5\"/>\n",
       "<text text-anchor=\"middle\" x=\"601\" y=\"-88.7\" font-family=\"Times New Roman,serif\" font-size=\"11.00\">stem</text>\n",
       "</g>\n",
       "<!-- plant&#45;part&#45;&#45;stem -->\n",
       "<g id=\"edge5\" class=\"edge\"><title>plant-part--stem</title>\n",
       "<path fill=\"none\" stroke=\"black\" stroke-width=\"0.5\" d=\"M674.407,-140.758C659.037,-130.654 641.248,-118.96 627.032,-109.614\"/>\n",
       "<polygon fill=\"none\" stroke=\"black\" stroke-width=\"0.5\" points=\"672.853,-143.925 683.131,-146.494 676.698,-138.076 672.853,-143.925\"/>\n",
       "</g>\n",
       "<!-- leaf -->\n",
       "<g id=\"node10\" class=\"node\"><title>leaf</title>\n",
       "<path fill=\"aliceblue\" stroke=\"black\" stroke-width=\"0.5\" d=\"M658,-73.5C658,-73.5 688,-73.5 688,-73.5 694,-73.5 700,-79.5 700,-85.5 700,-85.5 700,-97.5 700,-97.5 700,-103.5 694,-109.5 688,-109.5 688,-109.5 658,-109.5 658,-109.5 652,-109.5 646,-103.5 646,-97.5 646,-97.5 646,-85.5 646,-85.5 646,-79.5 652,-73.5 658,-73.5\"/>\n",
       "<text text-anchor=\"middle\" x=\"673\" y=\"-88.7\" font-family=\"Times New Roman,serif\" font-size=\"11.00\">leaf</text>\n",
       "</g>\n",
       "<!-- plant&#45;part&#45;&#45;leaf -->\n",
       "<g id=\"edge6\" class=\"edge\"><title>plant-part--leaf</title>\n",
       "<path fill=\"none\" stroke=\"black\" stroke-width=\"0.5\" d=\"M695.629,-137.13C690.95,-127.902 685.823,-117.79 681.634,-109.529\"/>\n",
       "<polygon fill=\"none\" stroke=\"black\" stroke-width=\"0.5\" points=\"692.641,-138.977 700.285,-146.313 698.885,-135.811 692.641,-138.977\"/>\n",
       "</g>\n",
       "<!-- phloem -->\n",
       "<g id=\"node16\" class=\"node\"><title>phloem</title>\n",
       "<path fill=\"aliceblue\" stroke=\"black\" stroke-width=\"0.5\" d=\"M730,-73.5C730,-73.5 760,-73.5 760,-73.5 766,-73.5 772,-79.5 772,-85.5 772,-85.5 772,-97.5 772,-97.5 772,-103.5 766,-109.5 760,-109.5 760,-109.5 730,-109.5 730,-109.5 724,-109.5 718,-103.5 718,-97.5 718,-97.5 718,-85.5 718,-85.5 718,-79.5 724,-73.5 730,-73.5\"/>\n",
       "<text text-anchor=\"middle\" x=\"745\" y=\"-88.7\" font-family=\"Times New Roman,serif\" font-size=\"11.00\">phloem</text>\n",
       "</g>\n",
       "<!-- plant&#45;part&#45;&#45;phloem -->\n",
       "<g id=\"edge13\" class=\"edge\"><title>plant-part--phloem</title>\n",
       "<path fill=\"none\" stroke=\"black\" stroke-width=\"0.5\" d=\"M722.371,-137.13C727.05,-127.902 732.177,-117.79 736.366,-109.529\"/>\n",
       "<polygon fill=\"none\" stroke=\"black\" stroke-width=\"0.5\" points=\"719.115,-135.811 717.715,-146.313 725.359,-138.977 719.115,-135.811\"/>\n",
       "</g>\n",
       "<!-- branch -->\n",
       "<g id=\"node18\" class=\"node\"><title>branch</title>\n",
       "<path fill=\"aliceblue\" stroke=\"black\" stroke-width=\"0.5\" d=\"M802,-73.5C802,-73.5 832,-73.5 832,-73.5 838,-73.5 844,-79.5 844,-85.5 844,-85.5 844,-97.5 844,-97.5 844,-103.5 838,-109.5 832,-109.5 832,-109.5 802,-109.5 802,-109.5 796,-109.5 790,-103.5 790,-97.5 790,-97.5 790,-85.5 790,-85.5 790,-79.5 796,-73.5 802,-73.5\"/>\n",
       "<text text-anchor=\"middle\" x=\"817\" y=\"-88.7\" font-family=\"Times New Roman,serif\" font-size=\"11.00\">branch</text>\n",
       "</g>\n",
       "<!-- plant&#45;part&#45;&#45;branch -->\n",
       "<g id=\"edge15\" class=\"edge\"><title>plant-part--branch</title>\n",
       "<path fill=\"none\" stroke=\"black\" stroke-width=\"0.5\" d=\"M743.593,-140.758C758.963,-130.654 776.752,-118.96 790.968,-109.614\"/>\n",
       "<polygon fill=\"none\" stroke=\"black\" stroke-width=\"0.5\" points=\"741.302,-138.076 734.869,-146.494 745.147,-143.925 741.302,-138.076\"/>\n",
       "</g>\n",
       "<!-- root -->\n",
       "<g id=\"node24\" class=\"node\"><title>root</title>\n",
       "<path fill=\"aliceblue\" stroke=\"black\" stroke-width=\"0.5\" d=\"M874,-73.5C874,-73.5 904,-73.5 904,-73.5 910,-73.5 916,-79.5 916,-85.5 916,-85.5 916,-97.5 916,-97.5 916,-103.5 910,-109.5 904,-109.5 904,-109.5 874,-109.5 874,-109.5 868,-109.5 862,-103.5 862,-97.5 862,-97.5 862,-85.5 862,-85.5 862,-79.5 868,-73.5 874,-73.5\"/>\n",
       "<text text-anchor=\"middle\" x=\"889\" y=\"-88.7\" font-family=\"Times New Roman,serif\" font-size=\"11.00\">root</text>\n",
       "</g>\n",
       "<!-- plant&#45;part&#45;&#45;root -->\n",
       "<g id=\"edge21\" class=\"edge\"><title>plant-part--root</title>\n",
       "<path fill=\"none\" stroke=\"black\" stroke-width=\"0.5\" d=\"M748.378,-150.03C777.551,-139.771 818.123,-124.915 853,-110 855.811,-108.798 858.72,-107.492 861.609,-106.153\"/>\n",
       "<polygon fill=\"none\" stroke=\"black\" stroke-width=\"0.5\" points=\"746.848,-146.856 738.562,-153.459 749.157,-153.465 746.848,-146.856\"/>\n",
       "</g>\n",
       "<!-- xylem -->\n",
       "<g id=\"node27\" class=\"node\"><title>xylem</title>\n",
       "<path fill=\"aliceblue\" stroke=\"black\" stroke-width=\"0.5\" d=\"M946,-73.5C946,-73.5 976,-73.5 976,-73.5 982,-73.5 988,-79.5 988,-85.5 988,-85.5 988,-97.5 988,-97.5 988,-103.5 982,-109.5 976,-109.5 976,-109.5 946,-109.5 946,-109.5 940,-109.5 934,-103.5 934,-97.5 934,-97.5 934,-85.5 934,-85.5 934,-79.5 940,-73.5 946,-73.5\"/>\n",
       "<text text-anchor=\"middle\" x=\"961\" y=\"-88.7\" font-family=\"Times New Roman,serif\" font-size=\"11.00\">xylem</text>\n",
       "</g>\n",
       "<!-- plant&#45;part&#45;&#45;xylem -->\n",
       "<g id=\"edge24\" class=\"edge\"><title>plant-part--xylem</title>\n",
       "<path fill=\"none\" stroke=\"black\" stroke-width=\"0.5\" d=\"M748.557,-156.297C792.44,-147.713 864.977,-131.75 925,-110 927.875,-108.958 930.825,-107.758 933.739,-106.484\"/>\n",
       "<polygon fill=\"none\" stroke=\"black\" stroke-width=\"0.5\" points=\"747.734,-152.891 738.576,-158.219 749.057,-159.765 747.734,-152.891\"/>\n",
       "</g>\n",
       "<!-- elephant -->\n",
       "<g id=\"node25\" class=\"node\"><title>elephant</title>\n",
       "<path fill=\"aliceblue\" stroke=\"black\" stroke-width=\"0.5\" d=\"M1178,-0.5C1178,-0.5 1208,-0.5 1208,-0.5 1214,-0.5 1220,-6.5 1220,-12.5 1220,-12.5 1220,-24.5 1220,-24.5 1220,-30.5 1214,-36.5 1208,-36.5 1208,-36.5 1178,-36.5 1178,-36.5 1172,-36.5 1166,-30.5 1166,-24.5 1166,-24.5 1166,-12.5 1166,-12.5 1166,-6.5 1172,-0.5 1178,-0.5\"/>\n",
       "<text text-anchor=\"middle\" x=\"1193\" y=\"-15.7\" font-family=\"Times New Roman,serif\" font-size=\"11.00\">elephant</text>\n",
       "</g>\n",
       "<!-- herbivore&#45;&#45;elephant -->\n",
       "<g id=\"edge22\" class=\"edge\"><title>herbivore--elephant</title>\n",
       "<path fill=\"none\" stroke=\"black\" stroke-width=\"0.5\" d=\"M1193,-63.2534C1193,-54.2651 1193,-44.5295 1193,-36.5288\"/>\n",
       "<polygon fill=\"none\" stroke=\"black\" stroke-width=\"0.5\" points=\"1189.5,-63.3128 1193,-73.3129 1196.5,-63.3129 1189.5,-63.3128\"/>\n",
       "</g>\n",
       "<!-- lion -->\n",
       "<g id=\"node19\" class=\"node\"><title>lion</title>\n",
       "<path fill=\"aliceblue\" stroke=\"black\" stroke-width=\"0.5\" d=\"M1330,-0.5C1330,-0.5 1360,-0.5 1360,-0.5 1366,-0.5 1372,-6.5 1372,-12.5 1372,-12.5 1372,-24.5 1372,-24.5 1372,-30.5 1366,-36.5 1360,-36.5 1360,-36.5 1330,-36.5 1330,-36.5 1324,-36.5 1318,-30.5 1318,-24.5 1318,-24.5 1318,-12.5 1318,-12.5 1318,-6.5 1324,-0.5 1330,-0.5\"/>\n",
       "<text text-anchor=\"middle\" x=\"1345\" y=\"-15.7\" font-family=\"Times New Roman,serif\" font-size=\"11.00\">lion</text>\n",
       "</g>\n",
       "<!-- carnivore&#45;&#45;lion -->\n",
       "<g id=\"edge16\" class=\"edge\"><title>carnivore--lion</title>\n",
       "<path fill=\"none\" stroke=\"black\" stroke-width=\"0.5\" d=\"M1345,-63.2534C1345,-54.2651 1345,-44.5295 1345,-36.5288\"/>\n",
       "<polygon fill=\"none\" stroke=\"black\" stroke-width=\"0.5\" points=\"1341.5,-63.3128 1345,-73.3129 1348.5,-63.3129 1341.5,-63.3128\"/>\n",
       "</g>\n",
       "<!-- parsnip -->\n",
       "<g id=\"node23\" class=\"node\"><title>parsnip</title>\n",
       "<path fill=\"aliceblue\" stroke=\"black\" stroke-width=\"0.5\" d=\"M874,-0.5C874,-0.5 904,-0.5 904,-0.5 910,-0.5 916,-6.5 916,-12.5 916,-12.5 916,-24.5 916,-24.5 916,-30.5 910,-36.5 904,-36.5 904,-36.5 874,-36.5 874,-36.5 868,-36.5 862,-30.5 862,-24.5 862,-24.5 862,-12.5 862,-12.5 862,-6.5 868,-0.5 874,-0.5\"/>\n",
       "<text text-anchor=\"middle\" x=\"889\" y=\"-15.7\" font-family=\"Times New Roman,serif\" font-size=\"11.00\">parsnip</text>\n",
       "</g>\n",
       "<!-- root&#45;&#45;parsnip -->\n",
       "<g id=\"edge20\" class=\"edge\"><title>root--parsnip</title>\n",
       "<path fill=\"none\" stroke=\"black\" stroke-width=\"0.5\" d=\"M889,-63.2534C889,-54.2651 889,-44.5295 889,-36.5288\"/>\n",
       "<polygon fill=\"none\" stroke=\"black\" stroke-width=\"0.5\" points=\"885.5,-63.3128 889,-73.3129 892.5,-63.3129 885.5,-63.3128\"/>\n",
       "</g>\n",
       "</g>\n",
       "</svg>"
      ],
      "text/plain": [
       "<IPython.core.display.SVG object>"
      ]
     },
     "execution_count": 5,
     "metadata": {},
     "output_type": "execute_result"
    }
   ],
   "source": [
    "onto=buildOntology(parts_editors)\n",
    "onto.draw_graph(layout='hierarchical')"
   ]
  },
  {
   "cell_type": "markdown",
   "metadata": {},
   "source": [
    "It is fully compatible with OWL/RDF format (via OWLAPI). We can always export it as it is."
   ]
  },
  {
   "cell_type": "code",
   "execution_count": 6,
   "metadata": {},
   "outputs": [
    {
     "name": "stdout",
     "output_type": "stream",
     "text": [
      "<?xml version = '1.0' encoding = 'UTF-8'?>\r\n",
      "<rdf:RDF xmlns=\"http://cognitum.eu/african_wildlife#\" xml:base=\"http://cognitum.eu/african_wildlife\" xmlns:owl=\"http://www.w3.org/2002/07/owl#\" xmlns:rdfs=\"http://www.w3.org/2000/01/rdf-schema#\" xmlns:rdf=\"http://www.w3.org/1999/02/22-rdf-syntax-ns#\" xmlns:xsd=\"http://www.w3.org/2001/XMLSchema#\">\r\n",
      "  <owl:Ontology rdf:about=\"http://cognitum.eu/african_wildlife#\" />\r\n",
      "  <!-- \r\n",
      "    ///////////////////////////////////////////////////////////////////////////////////////\r\n",
      "    //\r\n",
      "    // Object Properties\r\n",
      "    //\r\n",
      "    ///////////////////////////////////////////////////////////////////////////////////////\r\n",
      "     -->\r\n",
      "  <!-- http://cognitum.eu/african_wildlife#has -->\r\n",
      "  <owl:ObjectProperty rdf:about=\"http://cognitum.eu/african_wildlife#has\" />\r\n",
      "  <!-- \r\n",
      "    ///////////////////////////////////////////////////////////////////////////////////////\r\n",
      "    //\r\n",
      "    // Classes\r\n",
      "    //\r\n",
      "    ///////////////////////////////////////////////////////////////////////////////////////\r\n",
      "     -->\r\n",
      "  <!-- http://cognitum.eu/african_wildlife#animal -->\r\n",
      "  <owl:Class rdf:about=\"http://cognitum.eu/african_wildlife#animal\">\r\n",
      "    <rdfs:subClassOf>\r\n",
      "      <owl:Restriction>\r\n",
      "        <owl:onProperty rdf:resource=\"http://cognitum.eu/african_wildlife#has\" />\r\n",
      "        <owl:someValuesFrom rdf:resource=\"http://cognitum.eu/african_wildlife#face\" />\r\n",
      "      </owl:Restriction>\r\n",
      "    </rdfs:subClassOf>\r\n",
      "  </owl:Class>\r\n",
      "  <!-- http://cognitum.eu/african_wildlife#apple -->\r\n",
      "  <owl:Class rdf:about=\"http://cognitum.eu/african_wildlife#apple\">\r\n",
      "    <rdfs:subClassOf rdf:resource=\"http://cognitum.eu/african_wildlife#fruitingBody\" />\r\n",
      "  </owl:Class>\r\n",
      "  <!-- http://cognitum.eu/african_wildlife#berry -->\r\n",
      "  <owl:Class rdf:about=\"http://cognitum.eu/african_wildlife#berry\">\r\n",
      "    <rdfs:subClassOf rdf:resource=\"http://cognitum.eu/african_wildlife#fruitingBody\" />\r\n",
      "  </owl:Class>\r\n",
      "  <!-- http://cognitum.eu/african_wildlife#branch -->\r\n",
      "  <owl:Class rdf:about=\"http://cognitum.eu/african_wildlife#branch\">\r\n",
      "    <rdfs:subClassOf rdf:resource=\"http://cognitum.eu/african_wildlife#plantPart\" />\r\n",
      "  </owl:Class>\r\n",
      "  <!-- http://cognitum.eu/african_wildlife#carnivore -->\r\n",
      "  <owl:Class rdf:about=\"http://cognitum.eu/african_wildlife#carnivore\">\r\n",
      "    <rdfs:subClassOf rdf:resource=\"http://cognitum.eu/african_wildlife#animal\" />\r\n",
      "  </owl:Class>\r\n",
      "  <!-- http://cognitum.eu/african_wildlife#carnivorousPlant -->\r\n",
      "  <owl:Class rdf:about=\"http://cognitum.eu/african_wildlife#carnivorousPlant\">\r\n",
      "    <rdfs:subClassOf rdf:resource=\"http://cognitum.eu/african_wildlife#plant\" />\r\n",
      "  </owl:Class>\r\n",
      "  <!-- http://cognitum.eu/african_wildlife#elephant -->\r\n",
      "  <owl:Class rdf:about=\"http://cognitum.eu/african_wildlife#elephant\">\r\n",
      "    <rdfs:subClassOf rdf:resource=\"http://cognitum.eu/african_wildlife#herbivore\" />\r\n",
      "  </owl:Class>\r\n",
      "  <!-- http://cognitum.eu/african_wildlife#face -->\r\n",
      "  <owl:Class rdf:about=\"http://cognitum.eu/african_wildlife#face\" />\r\n",
      "  <!-- http://cognitum.eu/african_wildlife#fruitingBody -->\r\n",
      "  <owl:Class rdf:about=\"http://cognitum.eu/african_wildlife#fruitingBody\">\r\n",
      "    <rdfs:subClassOf rdf:resource=\"http://cognitum.eu/african_wildlife#plantPart\" />\r\n",
      "  </owl:Class>\r\n",
      "  <!-- http://cognitum.eu/african_wildlife#giraffe -->\r\n",
      "  <owl:Class rdf:about=\"http://cognitum.eu/african_wildlife#giraffe\">\r\n",
      "    <rdfs:subClassOf rdf:resource=\"http://cognitum.eu/african_wildlife#animal\" />\r\n",
      "  </owl:Class>\r\n",
      "  <!-- http://cognitum.eu/african_wildlife#grass -->\r\n",
      "  <owl:Class rdf:about=\"http://cognitum.eu/african_wildlife#grass\">\r\n",
      "    <rdfs:subClassOf rdf:resource=\"http://cognitum.eu/african_wildlife#plant\" />\r\n",
      "  </owl:Class>\r\n",
      "  <!-- http://cognitum.eu/african_wildlife#herbivore -->\r\n",
      "  <owl:Class rdf:about=\"http://cognitum.eu/african_wildlife#herbivore\">\r\n",
      "    <rdfs:subClassOf rdf:resource=\"http://cognitum.eu/african_wildlife#animal\" />\r\n",
      "  </owl:Class>\r\n",
      "  <!-- http://cognitum.eu/african_wildlife#impala -->\r\n",
      "  <owl:Class rdf:about=\"http://cognitum.eu/african_wildlife#impala\">\r\n",
      "    <rdfs:subClassOf rdf:resource=\"http://cognitum.eu/african_wildlife#animal\" />\r\n",
      "  </owl:Class>\r\n",
      "  <!-- http://cognitum.eu/african_wildlife#leaf -->\r\n",
      "  <owl:Class rdf:about=\"http://cognitum.eu/african_wildlife#leaf\">\r\n",
      "    <rdfs:subClassOf rdf:resource=\"http://cognitum.eu/african_wildlife#plantPart\" />\r\n",
      "  </owl:Class>\r\n",
      "  <!-- http://cognitum.eu/african_wildlife#lion -->\r\n",
      "  <owl:Class rdf:about=\"http://cognitum.eu/african_wildlife#lion\">\r\n",
      "    <rdfs:subClassOf rdf:resource=\"http://cognitum.eu/african_wildlife#animal\" />\r\n",
      "    <rdfs:subClassOf rdf:resource=\"http://cognitum.eu/african_wildlife#carnivore\" />\r\n",
      "  </owl:Class>\r\n",
      "  <!-- http://cognitum.eu/african_wildlife#man -->\r\n",
      "  <owl:Class rdf:about=\"http://cognitum.eu/african_wildlife#man\">\r\n",
      "    <rdfs:subClassOf>\r\n",
      "      <owl:Restriction>\r\n",
      "        <owl:onProperty rdf:resource=\"http://cognitum.eu/african_wildlife#has\" />\r\n",
      "        <owl:someValuesFrom rdf:resource=\"http://cognitum.eu/african_wildlife#train\" />\r\n",
      "      </owl:Restriction>\r\n",
      "    </rdfs:subClassOf>\r\n",
      "  </owl:Class>\r\n",
      "  <!-- http://cognitum.eu/african_wildlife#omnivore -->\r\n",
      "  <owl:Class rdf:about=\"http://cognitum.eu/african_wildlife#omnivore\">\r\n",
      "    <rdfs:subClassOf rdf:resource=\"http://cognitum.eu/african_wildlife#animal\" />\r\n",
      "  </owl:Class>\r\n",
      "  <!-- http://cognitum.eu/african_wildlife#palmTree -->\r\n",
      "  <owl:Class rdf:about=\"http://cognitum.eu/african_wildlife#palmTree\">\r\n",
      "    <rdfs:subClassOf rdf:resource=\"http://cognitum.eu/african_wildlife#plant\" />\r\n",
      "  </owl:Class>\r\n",
      "  <!-- http://cognitum.eu/african_wildlife#parsnip -->\r\n",
      "  <owl:Class rdf:about=\"http://cognitum.eu/african_wildlife#parsnip\">\r\n",
      "    <rdfs:subClassOf rdf:resource=\"http://cognitum.eu/african_wildlife#root\" />\r\n",
      "  </owl:Class>\r\n",
      "  <!-- http://cognitum.eu/african_wildlife#phloem -->\r\n",
      "  <owl:Class rdf:about=\"http://cognitum.eu/african_wildlife#phloem\">\r\n",
      "    <rdfs:subClassOf rdf:resource=\"http://cognitum.eu/african_wildlife#plantPart\" />\r\n",
      "  </owl:Class>\r\n",
      "  <!-- http://cognitum.eu/african_wildlife#plant -->\r\n",
      "  <owl:Class rdf:about=\"http://cognitum.eu/african_wildlife#plant\" />\r\n",
      "  <!-- http://cognitum.eu/african_wildlife#plantPart -->\r\n",
      "  <owl:Class rdf:about=\"http://cognitum.eu/african_wildlife#plantPart\" />\r\n",
      "  <!-- http://cognitum.eu/african_wildlife#rockDassie -->\r\n",
      "  <owl:Class rdf:about=\"http://cognitum.eu/african_wildlife#rockDassie\">\r\n",
      "    <rdfs:subClassOf rdf:resource=\"http://cognitum.eu/african_wildlife#animal\" />\r\n",
      "  </owl:Class>\r\n",
      "  <!-- http://cognitum.eu/african_wildlife#root -->\r\n",
      "  <owl:Class rdf:about=\"http://cognitum.eu/african_wildlife#root\">\r\n",
      "    <rdfs:subClassOf rdf:resource=\"http://cognitum.eu/african_wildlife#plantPart\" />\r\n",
      "  </owl:Class>\r\n",
      "  <!-- http://cognitum.eu/african_wildlife#stem -->\r\n",
      "  <owl:Class rdf:about=\"http://cognitum.eu/african_wildlife#stem\">\r\n",
      "    <rdfs:subClassOf rdf:resource=\"http://cognitum.eu/african_wildlife#plantPart\" />\r\n",
      "  </owl:Class>\r\n",
      "  <!-- http://cognitum.eu/african_wildlife#tastyPlant -->\r\n",
      "  <owl:Class rdf:about=\"http://cognitum.eu/african_wildlife#tastyPlant\">\r\n",
      "    <rdfs:subClassOf rdf:resource=\"http://cognitum.eu/african_wildlife#plant\" />\r\n",
      "  </owl:Class>\r\n",
      "  <!-- http://cognitum.eu/african_wildlife#train -->\r\n",
      "  <owl:Class rdf:about=\"http://cognitum.eu/african_wildlife#train\" />\r\n",
      "  <!-- http://cognitum.eu/african_wildlife#tree -->\r\n",
      "  <owl:Class rdf:about=\"http://cognitum.eu/african_wildlife#tree\">\r\n",
      "    <rdfs:subClassOf rdf:resource=\"http://cognitum.eu/african_wildlife#plant\" />\r\n",
      "  </owl:Class>\r\n",
      "  <!-- http://cognitum.eu/african_wildlife#twig -->\r\n",
      "  <owl:Class rdf:about=\"http://cognitum.eu/african_wildlife#twig\">\r\n",
      "    <rdfs:subClassOf rdf:resource=\"http://cognitum.eu/african_wildlife#plantPart\" />\r\n",
      "  </owl:Class>\r\n",
      "  <!-- http://cognitum.eu/african_wildlife#warthog -->\r\n",
      "  <owl:Class rdf:about=\"http://cognitum.eu/african_wildlife#warthog\">\r\n",
      "    <rdfs:subClassOf rdf:resource=\"http://cognitum.eu/african_wildlife#animal\" />\r\n",
      "  </owl:Class>\r\n",
      "  <!-- http://cognitum.eu/african_wildlife#xylem -->\r\n",
      "  <owl:Class rdf:about=\"http://cognitum.eu/african_wildlife#xylem\">\r\n",
      "    <rdfs:subClassOf rdf:resource=\"http://cognitum.eu/african_wildlife#plantPart\" />\r\n",
      "  </owl:Class>\r\n",
      "</rdf:RDF>\r\n",
      "<!-- Generated by the OWL API (version 3.5.1.c) http://owlapi.sourceforge.net -->\n"
     ]
    }
   ],
   "source": [
    "print(onto.as_rdf())"
   ]
  },
  {
   "cell_type": "markdown",
   "metadata": {},
   "source": [
    "### Part-2: Disjointness\n",
    "In OWL/RL+SWRL profile we deal with Open World Assumption. It means that we need to explicitly specify all the objects that are different from each other. We cannot assume (like e.g. object oriented programming language do) that the different names mean the different things, therefore we need to specify explicitly if two things are different."
   ]
  },
  {
   "cell_type": "code",
   "execution_count": 7,
   "metadata": {
    "scrolled": true
   },
   "outputs": [
    {
     "data": {
      "application/vnd.jupyter.widget-view+json": {
       "model_id": "67fe8c2ba2d94559af712b0a771b6713",
       "version_major": 2,
       "version_minor": 0
      },
      "text/plain": [
       "VBox(children=(Output(), OntoeditWidget(layout=Layout(height='100%', width='90%'), value='Every-single-thing t…"
      ]
     },
     "metadata": {},
     "output_type": "display_data"
    }
   ],
   "source": [
    "parts_editors['02']=CnlEditBox('part_02.encnl',onto)\n",
    "parts_editors['02']"
   ]
  },
  {
   "cell_type": "markdown",
   "metadata": {},
   "source": [
    "Lets test how it works on the example. The example will be defining several instances, that aim to break the consistency of the ontology in som not obvious way."
   ]
  },
  {
   "cell_type": "code",
   "execution_count": 8,
   "metadata": {},
   "outputs": [
    {
     "data": {
      "application/vnd.jupyter.widget-view+json": {
       "model_id": "059407fd28fa4e8ba52bde322d728a23",
       "version_major": 2,
       "version_minor": 0
      },
      "text/plain": [
       "VBox(children=(Output(), OntoeditWidget(layout=Layout(height='100%', width='90%'), value='Leo-01 is a lion.\\nL…"
      ]
     },
     "metadata": {},
     "output_type": "display_data"
    }
   ],
   "source": [
    "test_01_edit = CnlEditBox('test_01.encnl',onto)\n",
    "test_01_edit"
   ]
  },
  {
   "cell_type": "markdown",
   "metadata": {},
   "source": [
    "Lets load all the parts ontology ontology togheter with the testing part into the newly created obeject. "
   ]
  },
  {
   "cell_type": "code",
   "execution_count": 9,
   "metadata": {},
   "outputs": [],
   "source": [
    "onto=buildOntology(parts_editors,test_01_edit)"
   ]
  },
  {
   "cell_type": "markdown",
   "metadata": {},
   "source": [
    "We will need also some way to describe what is wrong `printReasoningInfo` and why `printWhy`."
   ]
  },
  {
   "cell_type": "code",
   "execution_count": 10,
   "metadata": {},
   "outputs": [],
   "source": [
    "import json\n",
    "\n",
    "def printReasoningInfo(onto):\n",
    "    info=onto.reasoningInfo()\n",
    "    if info == \"\":\n",
    "        print('all good!')\n",
    "    else:\n",
    "        print(json.dumps(json.loads(info), indent=2, sort_keys=True))\n",
    "\n",
    "def printWhy(onto,fact):\n",
    "    info=json.loads(onto.why(fact))\n",
    "    print(json.dumps(info, indent=2, sort_keys=True))"
   ]
  },
  {
   "cell_type": "markdown",
   "metadata": {},
   "source": [
    "So what is wrong here?"
   ]
  },
  {
   "cell_type": "code",
   "execution_count": 11,
   "metadata": {},
   "outputs": [
    {
     "name": "stdout",
     "output_type": "stream",
     "text": [
      "{\n",
      "  \"errors\": [\n",
      "    {\n",
      "      \"content\": \"Complement classes\",\n",
      "      \"title\": \"inconsistency\",\n",
      "      \"vals\": {\n",
      "        \"concept\": \"animal\",\n",
      "        \"instance\": \"Mary-01\"\n",
      "      }\n",
      "    }\n",
      "  ]\n",
      "}\n"
     ]
    }
   ],
   "source": [
    "printReasoningInfo(onto)"
   ]
  },
  {
   "cell_type": "markdown",
   "metadata": {},
   "source": [
    "Lets draw it on a diagram, this time using force directed layout."
   ]
  },
  {
   "cell_type": "code",
   "execution_count": 12,
   "metadata": {},
   "outputs": [
    {
     "data": {
      "image/svg+xml": [
       "<svg xmlns=\"http://www.w3.org/2000/svg\" xmlns:xlink=\"http://www.w3.org/1999/xlink\" width=\"1008pt\" height=\"793pt\" viewBox=\"0.00 0.00 1008.00 793.00\">\n",
       "<g id=\"graph0\" class=\"graph\" transform=\"scale(1 1) rotate(0) translate(4 789)\">\n",
       "<title>G</title>\n",
       "<polygon fill=\"white\" stroke=\"none\" points=\"-4,4 -4,-789 1004,-789 1004,4 -4,4\"/>\n",
       "<!-- tasty&#45;plant -->\n",
       "<g id=\"node1\" class=\"node\"><title>tasty-plant</title>\n",
       "<path fill=\"aliceblue\" stroke=\"black\" stroke-width=\"0.5\" d=\"M83.8652,-552.214C83.8652,-552.214 121.865,-552.214 121.865,-552.214 127.865,-552.214 133.865,-558.214 133.865,-564.214 133.865,-564.214 133.865,-576.214 133.865,-576.214 133.865,-582.214 127.865,-588.214 121.865,-588.214 121.865,-588.214 83.8652,-588.214 83.8652,-588.214 77.8652,-588.214 71.8652,-582.214 71.8652,-576.214 71.8652,-576.214 71.8652,-564.214 71.8652,-564.214 71.8652,-558.214 77.8652,-552.214 83.8652,-552.214\"/>\n",
       "<text text-anchor=\"middle\" x=\"102.865\" y=\"-567.414\" font-family=\"Times New Roman,serif\" font-size=\"11.00\">tasty-plant</text>\n",
       "</g>\n",
       "<!-- plant -->\n",
       "<g id=\"node2\" class=\"node\"><title>plant</title>\n",
       "<path fill=\"aliceblue\" stroke=\"black\" stroke-width=\"0.5\" d=\"M259.493,-569.639C259.493,-569.639 289.493,-569.639 289.493,-569.639 295.493,-569.639 301.493,-575.639 301.493,-581.639 301.493,-581.639 301.493,-593.639 301.493,-593.639 301.493,-599.639 295.493,-605.639 289.493,-605.639 289.493,-605.639 259.493,-605.639 259.493,-605.639 253.493,-605.639 247.493,-599.639 247.493,-593.639 247.493,-593.639 247.493,-581.639 247.493,-581.639 247.493,-575.639 253.493,-569.639 259.493,-569.639\"/>\n",
       "<text text-anchor=\"middle\" x=\"274.493\" y=\"-584.839\" font-family=\"Times New Roman,serif\" font-size=\"11.00\">plant</text>\n",
       "</g>\n",
       "<!-- plant&#45;&#45;tasty&#45;plant -->\n",
       "<g id=\"edge1\" class=\"edge\"><title>plant--tasty-plant</title>\n",
       "<path fill=\"none\" stroke=\"black\" stroke-width=\"0.5\" d=\"M236.947,-583.827C206.108,-580.696 162.943,-576.314 134,-573.375\"/>\n",
       "<polygon fill=\"none\" stroke=\"black\" stroke-width=\"0.5\" points=\"236.996,-587.35 247.298,-584.878 237.703,-580.385 236.996,-587.35\"/>\n",
       "</g>\n",
       "<!-- carnivorous&#45;plant -->\n",
       "<g id=\"node15\" class=\"node\"><title>carnivorous-plant</title>\n",
       "<path fill=\"aliceblue\" stroke=\"black\" stroke-width=\"0.5\" d=\"M100.573,-713.107C100.573,-713.107 168.573,-713.107 168.573,-713.107 174.573,-713.107 180.573,-719.107 180.573,-725.107 180.573,-725.107 180.573,-737.107 180.573,-737.107 180.573,-743.107 174.573,-749.107 168.573,-749.107 168.573,-749.107 100.573,-749.107 100.573,-749.107 94.573,-749.107 88.573,-743.107 88.573,-737.107 88.573,-737.107 88.573,-725.107 88.573,-725.107 88.573,-719.107 94.573,-713.107 100.573,-713.107\"/>\n",
       "<text text-anchor=\"middle\" x=\"134.573\" y=\"-728.307\" font-family=\"Times New Roman,serif\" font-size=\"11.00\">carnivorous-plant</text>\n",
       "</g>\n",
       "<!-- plant&#45;&#45;carnivorous&#45;plant -->\n",
       "<g id=\"edge12\" class=\"edge\"><title>plant--carnivorous-plant</title>\n",
       "<path fill=\"none\" stroke=\"black\" stroke-width=\"0.5\" d=\"M249.691,-613.069C221.672,-641.799 176.778,-687.832 152.15,-713.084\"/>\n",
       "<polygon fill=\"none\" stroke=\"black\" stroke-width=\"0.5\" points=\"252.296,-615.412 256.772,-605.809 247.284,-610.524 252.296,-615.412\"/>\n",
       "</g>\n",
       "<!-- palm&#45;tree -->\n",
       "<g id=\"node20\" class=\"node\"><title>palm-tree</title>\n",
       "<path fill=\"aliceblue\" stroke=\"black\" stroke-width=\"0.5\" d=\"M395.187,-428.052C395.187,-428.052 430.187,-428.052 430.187,-428.052 436.187,-428.052 442.187,-434.052 442.187,-440.052 442.187,-440.052 442.187,-452.052 442.187,-452.052 442.187,-458.052 436.187,-464.052 430.187,-464.052 430.187,-464.052 395.187,-464.052 395.187,-464.052 389.187,-464.052 383.187,-458.052 383.187,-452.052 383.187,-452.052 383.187,-440.052 383.187,-440.052 383.187,-434.052 389.187,-428.052 395.187,-428.052\"/>\n",
       "<text text-anchor=\"middle\" x=\"412.687\" y=\"-443.252\" font-family=\"Times New Roman,serif\" font-size=\"11.00\">palm-tree</text>\n",
       "</g>\n",
       "<!-- plant&#45;&#45;palm&#45;tree -->\n",
       "<g id=\"edge17\" class=\"edge\"><title>plant--palm-tree</title>\n",
       "<path fill=\"none\" stroke=\"black\" stroke-width=\"0.5\" d=\"M298.085,-561.754C311.588,-547.09 328.942,-528.498 344.768,-512.315 361.008,-495.708 379.963,-477.293 393.715,-464.1\"/>\n",
       "<polygon fill=\"none\" stroke=\"black\" stroke-width=\"0.5\" points=\"295.198,-559.723 291.013,-569.456 300.355,-564.457 295.198,-559.723\"/>\n",
       "</g>\n",
       "<!-- tree -->\n",
       "<g id=\"node22\" class=\"node\"><title>tree</title>\n",
       "<path fill=\"aliceblue\" stroke=\"black\" stroke-width=\"0.5\" d=\"M390.372,-706.243C390.372,-706.243 420.372,-706.243 420.372,-706.243 426.372,-706.243 432.372,-712.243 432.372,-718.243 432.372,-718.243 432.372,-730.243 432.372,-730.243 432.372,-736.243 426.372,-742.243 420.372,-742.243 420.372,-742.243 390.372,-742.243 390.372,-742.243 384.372,-742.243 378.372,-736.243 378.372,-730.243 378.372,-730.243 378.372,-718.243 378.372,-718.243 378.372,-712.243 384.372,-706.243 390.372,-706.243\"/>\n",
       "<text text-anchor=\"middle\" x=\"405.372\" y=\"-721.443\" font-family=\"Times New Roman,serif\" font-size=\"11.00\">tree</text>\n",
       "</g>\n",
       "<!-- plant&#45;&#45;tree -->\n",
       "<g id=\"edge19\" class=\"edge\"><title>plant--tree</title>\n",
       "<path fill=\"none\" stroke=\"black\" stroke-width=\"0.5\" d=\"M299.096,-613.318C324.992,-640.347 365.101,-682.21 387.921,-706.028\"/>\n",
       "<polygon fill=\"none\" stroke=\"black\" stroke-width=\"0.5\" points=\"301.318,-610.578 291.873,-605.779 296.264,-615.421 301.318,-610.578\"/>\n",
       "</g>\n",
       "<!-- grass -->\n",
       "<g id=\"node26\" class=\"node\"><title>grass</title>\n",
       "<path fill=\"aliceblue\" stroke=\"black\" stroke-width=\"0.5\" d=\"M248.156,-748.896C248.156,-748.896 278.156,-748.896 278.156,-748.896 284.156,-748.896 290.156,-754.896 290.156,-760.896 290.156,-760.896 290.156,-772.896 290.156,-772.896 290.156,-778.896 284.156,-784.896 278.156,-784.896 278.156,-784.896 248.156,-784.896 248.156,-784.896 242.156,-784.896 236.156,-778.896 236.156,-772.896 236.156,-772.896 236.156,-760.896 236.156,-760.896 236.156,-754.896 242.156,-748.896 248.156,-748.896\"/>\n",
       "<text text-anchor=\"middle\" x=\"263.156\" y=\"-764.096\" font-family=\"Times New Roman,serif\" font-size=\"11.00\">grass</text>\n",
       "</g>\n",
       "<!-- plant&#45;&#45;grass -->\n",
       "<g id=\"edge23\" class=\"edge\"><title>plant--grass</title>\n",
       "<path fill=\"none\" stroke=\"black\" stroke-width=\"0.5\" d=\"M272.701,-615.979C270.349,-653.166 266.288,-717.369 264.308,-748.673\"/>\n",
       "<polygon fill=\"none\" stroke=\"black\" stroke-width=\"0.5\" points=\"276.205,-616.014 273.344,-605.813 269.219,-615.572 276.205,-616.014\"/>\n",
       "</g>\n",
       "<!-- apple -->\n",
       "<g id=\"node3\" class=\"node\"><title>apple</title>\n",
       "<path fill=\"aliceblue\" stroke=\"black\" stroke-width=\"0.5\" d=\"M450.963,-609.472C450.963,-609.472 480.963,-609.472 480.963,-609.472 486.963,-609.472 492.963,-615.472 492.963,-621.472 492.963,-621.472 492.963,-633.472 492.963,-633.472 492.963,-639.472 486.963,-645.472 480.963,-645.472 480.963,-645.472 450.963,-645.472 450.963,-645.472 444.963,-645.472 438.963,-639.472 438.963,-633.472 438.963,-633.472 438.963,-621.472 438.963,-621.472 438.963,-615.472 444.963,-609.472 450.963,-609.472\"/>\n",
       "<text text-anchor=\"middle\" x=\"465.963\" y=\"-624.672\" font-family=\"Times New Roman,serif\" font-size=\"11.00\">apple</text>\n",
       "</g>\n",
       "<!-- fruiting&#45;body -->\n",
       "<g id=\"node4\" class=\"node\"><title>fruiting-body</title>\n",
       "<path fill=\"aliceblue\" stroke=\"black\" stroke-width=\"0.5\" d=\"M359.968,-515.515C359.968,-515.515 407.968,-515.515 407.968,-515.515 413.968,-515.515 419.968,-521.515 419.968,-527.515 419.968,-527.515 419.968,-539.515 419.968,-539.515 419.968,-545.515 413.968,-551.515 407.968,-551.515 407.968,-551.515 359.968,-551.515 359.968,-551.515 353.968,-551.515 347.968,-545.515 347.968,-539.515 347.968,-539.515 347.968,-527.515 347.968,-527.515 347.968,-521.515 353.968,-515.515 359.968,-515.515\"/>\n",
       "<text text-anchor=\"middle\" x=\"383.968\" y=\"-530.715\" font-family=\"Times New Roman,serif\" font-size=\"11.00\">fruiting-body</text>\n",
       "</g>\n",
       "<!-- fruiting&#45;body&#45;&#45;apple -->\n",
       "<g id=\"edge2\" class=\"edge\"><title>fruiting-body--apple</title>\n",
       "<path fill=\"none\" stroke=\"black\" stroke-width=\"0.5\" d=\"M406.653,-559.509C420.498,-575.375 437.851,-595.259 450.202,-609.412\"/>\n",
       "<polygon fill=\"none\" stroke=\"black\" stroke-width=\"0.5\" points=\"408.99,-556.864 399.777,-551.631 403.716,-561.467 408.99,-556.864\"/>\n",
       "</g>\n",
       "<!-- berry -->\n",
       "<g id=\"node12\" class=\"node\"><title>berry</title>\n",
       "<path fill=\"aliceblue\" stroke=\"black\" stroke-width=\"0.5\" d=\"M468.568,-508.738C468.568,-508.738 498.568,-508.738 498.568,-508.738 504.568,-508.738 510.568,-514.738 510.568,-520.738 510.568,-520.738 510.568,-532.738 510.568,-532.738 510.568,-538.738 504.568,-544.738 498.568,-544.738 498.568,-544.738 468.568,-544.738 468.568,-544.738 462.568,-544.738 456.568,-538.738 456.568,-532.738 456.568,-532.738 456.568,-520.738 456.568,-520.738 456.568,-514.738 462.568,-508.738 468.568,-508.738\"/>\n",
       "<text text-anchor=\"middle\" x=\"483.568\" y=\"-523.938\" font-family=\"Times New Roman,serif\" font-size=\"11.00\">berry</text>\n",
       "</g>\n",
       "<!-- fruiting&#45;body&#45;&#45;berry -->\n",
       "<g id=\"edge9\" class=\"edge\"><title>fruiting-body--berry</title>\n",
       "<path fill=\"none\" stroke=\"black\" stroke-width=\"0.5\" d=\"M430.449,-530.352C439.285,-529.751 448.262,-529.14 456.258,-528.596\"/>\n",
       "<polygon fill=\"none\" stroke=\"black\" stroke-width=\"0.5\" points=\"429.947,-526.878 420.208,-531.049 430.422,-533.862 429.947,-526.878\"/>\n",
       "</g>\n",
       "<!-- rock&#45;dassie -->\n",
       "<g id=\"node5\" class=\"node\"><title>rock-dassie</title>\n",
       "<path fill=\"aliceblue\" stroke=\"black\" stroke-width=\"0.5\" d=\"M944.928,-454.431C944.928,-454.431 987.928,-454.431 987.928,-454.431 993.928,-454.431 999.928,-460.431 999.928,-466.431 999.928,-466.431 999.928,-478.431 999.928,-478.431 999.928,-484.431 993.928,-490.431 987.928,-490.431 987.928,-490.431 944.928,-490.431 944.928,-490.431 938.928,-490.431 932.928,-484.431 932.928,-478.431 932.928,-478.431 932.928,-466.431 932.928,-466.431 932.928,-460.431 938.928,-454.431 944.928,-454.431\"/>\n",
       "<text text-anchor=\"middle\" x=\"966.428\" y=\"-469.631\" font-family=\"Times New Roman,serif\" font-size=\"11.00\">rock-dassie</text>\n",
       "</g>\n",
       "<!-- animal -->\n",
       "<g id=\"node6\" class=\"node\"><title>animal</title>\n",
       "<path fill=\"aliceblue\" stroke=\"black\" stroke-width=\"0.5\" d=\"M788.747,-383.974C788.747,-383.974 818.747,-383.974 818.747,-383.974 824.747,-383.974 830.747,-389.974 830.747,-395.974 830.747,-395.974 830.747,-407.974 830.747,-407.974 830.747,-413.974 824.747,-419.974 818.747,-419.974 818.747,-419.974 788.747,-419.974 788.747,-419.974 782.747,-419.974 776.747,-413.974 776.747,-407.974 776.747,-407.974 776.747,-395.974 776.747,-395.974 776.747,-389.974 782.747,-383.974 788.747,-383.974\"/>\n",
       "<text text-anchor=\"middle\" x=\"803.747\" y=\"-399.174\" font-family=\"Times New Roman,serif\" font-size=\"11.00\">animal</text>\n",
       "</g>\n",
       "<!-- animal&#45;&#45;rock&#45;dassie -->\n",
       "<g id=\"edge3\" class=\"edge\"><title>animal--rock-dassie</title>\n",
       "<path fill=\"none\" stroke=\"black\" stroke-width=\"0.5\" d=\"M840.338,-417.821C868.092,-429.842 905.937,-446.232 932.907,-457.913\"/>\n",
       "<polygon fill=\"none\" stroke=\"black\" stroke-width=\"0.5\" points=\"841.544,-414.529 830.976,-413.767 838.762,-420.953 841.544,-414.529\"/>\n",
       "</g>\n",
       "<!-- warthog -->\n",
       "<g id=\"node11\" class=\"node\"><title>warthog</title>\n",
       "<path fill=\"aliceblue\" stroke=\"black\" stroke-width=\"0.5\" d=\"M848.497,-571.78C848.497,-571.78 878.497,-571.78 878.497,-571.78 884.497,-571.78 890.497,-577.78 890.497,-583.78 890.497,-583.78 890.497,-595.78 890.497,-595.78 890.497,-601.78 884.497,-607.78 878.497,-607.78 878.497,-607.78 848.497,-607.78 848.497,-607.78 842.497,-607.78 836.497,-601.78 836.497,-595.78 836.497,-595.78 836.497,-583.78 836.497,-583.78 836.497,-577.78 842.497,-571.78 848.497,-571.78\"/>\n",
       "<text text-anchor=\"middle\" x=\"863.497\" y=\"-586.98\" font-family=\"Times New Roman,serif\" font-size=\"11.00\">warthog</text>\n",
       "</g>\n",
       "<!-- animal&#45;&#45;warthog -->\n",
       "<g id=\"edge7\" class=\"edge\"><title>animal--warthog</title>\n",
       "<path fill=\"none\" stroke=\"black\" stroke-width=\"0.5\" d=\"M812.547,-429.632C824.938,-468.581 847.188,-538.517 857.698,-571.551\"/>\n",
       "<polygon fill=\"none\" stroke=\"black\" stroke-width=\"0.5\" points=\"815.844,-428.45 809.476,-419.981 809.173,-430.572 815.844,-428.45\"/>\n",
       "</g>\n",
       "<!-- herbivore -->\n",
       "<g id=\"node13\" class=\"node\"><title>herbivore</title>\n",
       "<path fill=\"aliceblue\" stroke=\"black\" stroke-width=\"0.5\" d=\"M753.556,-306.171C753.556,-306.171 787.556,-306.171 787.556,-306.171 793.556,-306.171 799.556,-312.171 799.556,-318.171 799.556,-318.171 799.556,-330.171 799.556,-330.171 799.556,-336.171 793.556,-342.171 787.556,-342.171 787.556,-342.171 753.556,-342.171 753.556,-342.171 747.556,-342.171 741.556,-336.171 741.556,-330.171 741.556,-330.171 741.556,-318.171 741.556,-318.171 741.556,-312.171 747.556,-306.171 753.556,-306.171\"/>\n",
       "<text text-anchor=\"middle\" x=\"770.556\" y=\"-321.371\" font-family=\"Times New Roman,serif\" font-size=\"11.00\">herbivore</text>\n",
       "</g>\n",
       "<!-- animal&#45;&#45;herbivore -->\n",
       "<g id=\"edge10\" class=\"edge\"><title>animal--herbivore</title>\n",
       "<path fill=\"none\" stroke=\"black\" stroke-width=\"0.5\" d=\"M792.065,-374.588C787.511,-363.915 782.416,-351.971 778.327,-342.388\"/>\n",
       "<polygon fill=\"none\" stroke=\"black\" stroke-width=\"0.5\" points=\"788.906,-376.104 796.049,-383.929 795.345,-373.357 788.906,-376.104\"/>\n",
       "</g>\n",
       "<!-- omnivore -->\n",
       "<g id=\"node14\" class=\"node\"><title>omnivore</title>\n",
       "<path fill=\"aliceblue\" stroke=\"black\" stroke-width=\"0.5\" d=\"M710.992,-526.823C710.992,-526.823 743.992,-526.823 743.992,-526.823 749.992,-526.823 755.992,-532.823 755.992,-538.823 755.992,-538.823 755.992,-550.823 755.992,-550.823 755.992,-556.823 749.992,-562.823 743.992,-562.823 743.992,-562.823 710.992,-562.823 710.992,-562.823 704.992,-562.823 698.992,-556.823 698.992,-550.823 698.992,-550.823 698.992,-538.823 698.992,-538.823 698.992,-532.823 704.992,-526.823 710.992,-526.823\"/>\n",
       "<text text-anchor=\"middle\" x=\"727.492\" y=\"-542.023\" font-family=\"Times New Roman,serif\" font-size=\"11.00\">omnivore</text>\n",
       "</g>\n",
       "<!-- animal&#45;&#45;omnivore -->\n",
       "<g id=\"edge11\" class=\"edge\"><title>animal--omnivore</title>\n",
       "<path fill=\"none\" stroke=\"black\" stroke-width=\"0.5\" d=\"M789.272,-429.09C774.047,-457.612 750.504,-501.714 737.313,-526.427\"/>\n",
       "<polygon fill=\"none\" stroke=\"black\" stroke-width=\"0.5\" points=\"792.468,-430.536 794.09,-420.066 786.293,-427.239 792.468,-430.536\"/>\n",
       "</g>\n",
       "<!-- carnivore -->\n",
       "<g id=\"node17\" class=\"node\"><title>carnivore</title>\n",
       "<path fill=\"aliceblue\" stroke=\"black\" stroke-width=\"0.5\" d=\"M762.399,-215.201C762.399,-215.201 796.399,-215.201 796.399,-215.201 802.399,-215.201 808.399,-221.201 808.399,-227.201 808.399,-227.201 808.399,-239.201 808.399,-239.201 808.399,-245.201 802.399,-251.201 796.399,-251.201 796.399,-251.201 762.399,-251.201 762.399,-251.201 756.399,-251.201 750.399,-245.201 750.399,-239.201 750.399,-239.201 750.399,-227.201 750.399,-227.201 750.399,-221.201 756.399,-215.201 762.399,-215.201\"/>\n",
       "<text text-anchor=\"middle\" x=\"779.399\" y=\"-230.401\" font-family=\"Times New Roman,serif\" font-size=\"11.00\">carnivore</text>\n",
       "</g>\n",
       "<!-- animal&#45;&#45;carnivore -->\n",
       "<g id=\"edge14\" class=\"edge\"><title>animal--carnivore</title>\n",
       "<path fill=\"none\" stroke=\"black\" stroke-width=\"0.5\" d=\"M805.793,-373.696C806.668,-353.781 806.723,-326.57 802.756,-302.971 799.728,-284.958 792.795,-265.298 787.264,-251.453\"/>\n",
       "<polygon fill=\"none\" stroke=\"black\" stroke-width=\"0.5\" points=\"802.284,-373.767 805.243,-383.94 809.274,-374.143 802.284,-373.767\"/>\n",
       "</g>\n",
       "<!-- impala -->\n",
       "<g id=\"node21\" class=\"node\"><title>impala</title>\n",
       "<path fill=\"aliceblue\" stroke=\"black\" stroke-width=\"0.5\" d=\"M944.339,-298.958C944.339,-298.958 974.339,-298.958 974.339,-298.958 980.339,-298.958 986.339,-304.958 986.339,-310.958 986.339,-310.958 986.339,-322.958 986.339,-322.958 986.339,-328.958 980.339,-334.958 974.339,-334.958 974.339,-334.958 944.339,-334.958 944.339,-334.958 938.339,-334.958 932.339,-328.958 932.339,-322.958 932.339,-322.958 932.339,-310.958 932.339,-310.958 932.339,-304.958 938.339,-298.958 944.339,-298.958\"/>\n",
       "<text text-anchor=\"middle\" x=\"959.339\" y=\"-314.158\" font-family=\"Times New Roman,serif\" font-size=\"11.00\">impala</text>\n",
       "</g>\n",
       "<!-- animal&#45;&#45;impala -->\n",
       "<g id=\"edge18\" class=\"edge\"><title>animal--impala</title>\n",
       "<path fill=\"none\" stroke=\"black\" stroke-width=\"0.5\" d=\"M839.987,-382.172C868.197,-366.759 906.725,-345.707 932.287,-331.739\"/>\n",
       "<polygon fill=\"none\" stroke=\"black\" stroke-width=\"0.5\" points=\"837.947,-379.299 830.849,-387.165 841.303,-385.442 837.947,-379.299\"/>\n",
       "</g>\n",
       "<!-- giraffe -->\n",
       "<g id=\"node28\" class=\"node\"><title>giraffe</title>\n",
       "<path fill=\"aliceblue\" stroke=\"black\" stroke-width=\"0.5\" d=\"M678.865,-420.24C678.865,-420.24 708.865,-420.24 708.865,-420.24 714.865,-420.24 720.865,-426.24 720.865,-432.24 720.865,-432.24 720.865,-444.24 720.865,-444.24 720.865,-450.24 714.865,-456.24 708.865,-456.24 708.865,-456.24 678.865,-456.24 678.865,-456.24 672.865,-456.24 666.865,-450.24 666.865,-444.24 666.865,-444.24 666.865,-432.24 666.865,-432.24 666.865,-426.24 672.865,-420.24 678.865,-420.24\"/>\n",
       "<text text-anchor=\"middle\" x=\"693.865\" y=\"-435.44\" font-family=\"Times New Roman,serif\" font-size=\"11.00\">giraffe</text>\n",
       "</g>\n",
       "<!-- animal&#45;&#45;giraffe -->\n",
       "<g id=\"edge25\" class=\"edge\"><title>animal--giraffe</title>\n",
       "<path fill=\"none\" stroke=\"black\" stroke-width=\"0.5\" d=\"M767.067,-414.08C752.047,-419.037 734.974,-424.672 721.096,-429.253\"/>\n",
       "<polygon fill=\"none\" stroke=\"black\" stroke-width=\"0.5\" points=\"768.186,-417.396 776.586,-410.938 765.992,-410.749 768.186,-417.396\"/>\n",
       "</g>\n",
       "<!-- twig -->\n",
       "<g id=\"node7\" class=\"node\"><title>twig</title>\n",
       "<path fill=\"aliceblue\" stroke=\"black\" stroke-width=\"0.5\" d=\"M44.6031,-427.994C44.6031,-427.994 74.6031,-427.994 74.6031,-427.994 80.6031,-427.994 86.6031,-433.994 86.6031,-439.994 86.6031,-439.994 86.6031,-451.994 86.6031,-451.994 86.6031,-457.994 80.6031,-463.994 74.6031,-463.994 74.6031,-463.994 44.6031,-463.994 44.6031,-463.994 38.6031,-463.994 32.6031,-457.994 32.6031,-451.994 32.6031,-451.994 32.6031,-439.994 32.6031,-439.994 32.6031,-433.994 38.6031,-427.994 44.6031,-427.994\"/>\n",
       "<text text-anchor=\"middle\" x=\"59.6031\" y=\"-443.194\" font-family=\"Times New Roman,serif\" font-size=\"11.00\">twig</text>\n",
       "</g>\n",
       "<!-- plant&#45;part -->\n",
       "<g id=\"node8\" class=\"node\"><title>plant-part</title>\n",
       "<path fill=\"aliceblue\" stroke=\"black\" stroke-width=\"0.5\" d=\"M199.137,-313.632C199.137,-313.632 234.137,-313.632 234.137,-313.632 240.137,-313.632 246.137,-319.632 246.137,-325.632 246.137,-325.632 246.137,-337.632 246.137,-337.632 246.137,-343.632 240.137,-349.632 234.137,-349.632 234.137,-349.632 199.137,-349.632 199.137,-349.632 193.137,-349.632 187.137,-343.632 187.137,-337.632 187.137,-337.632 187.137,-325.632 187.137,-325.632 187.137,-319.632 193.137,-313.632 199.137,-313.632\"/>\n",
       "<text text-anchor=\"middle\" x=\"216.637\" y=\"-328.832\" font-family=\"Times New Roman,serif\" font-size=\"11.00\">plant-part</text>\n",
       "</g>\n",
       "<!-- plant&#45;part&#45;&#45;fruiting&#45;body -->\n",
       "<g id=\"edge8\" class=\"edge\"><title>plant-part--fruiting-body</title>\n",
       "<path fill=\"none\" stroke=\"black\" stroke-width=\"0.5\" d=\"M230.658,-358.553C239.428,-374.431 251.446,-394.578 264.161,-411.068 295.214,-451.344 338.238,-492.448 363.385,-515.303\"/>\n",
       "<polygon fill=\"none\" stroke=\"black\" stroke-width=\"0.5\" points=\"233.733,-356.88 225.889,-349.758 227.579,-360.217 233.733,-356.88\"/>\n",
       "</g>\n",
       "<!-- plant&#45;part&#45;&#45;twig -->\n",
       "<g id=\"edge4\" class=\"edge\"><title>plant-part--twig</title>\n",
       "<path fill=\"none\" stroke=\"black\" stroke-width=\"0.5\" d=\"M183.392,-355.843C153.768,-377.417 111.085,-408.501 84.3692,-427.957\"/>\n",
       "<polygon fill=\"none\" stroke=\"black\" stroke-width=\"0.5\" points=\"185.731,-358.469 191.754,-349.753 181.61,-352.811 185.731,-358.469\"/>\n",
       "</g>\n",
       "<!-- stem -->\n",
       "<g id=\"node9\" class=\"node\"><title>stem</title>\n",
       "<path fill=\"aliceblue\" stroke=\"black\" stroke-width=\"0.5\" d=\"M11.9949,-315.569C11.9949,-315.569 41.9949,-315.569 41.9949,-315.569 47.9949,-315.569 53.9949,-321.569 53.9949,-327.569 53.9949,-327.569 53.9949,-339.569 53.9949,-339.569 53.9949,-345.569 47.9949,-351.569 41.9949,-351.569 41.9949,-351.569 11.9949,-351.569 11.9949,-351.569 5.99489,-351.569 -0.00510659,-345.569 -0.00510659,-339.569 -0.00510659,-339.569 -0.00510659,-327.569 -0.00510659,-327.569 -0.00510659,-321.569 5.99489,-315.569 11.9949,-315.569\"/>\n",
       "<text text-anchor=\"middle\" x=\"26.9949\" y=\"-330.769\" font-family=\"Times New Roman,serif\" font-size=\"11.00\">stem</text>\n",
       "</g>\n",
       "<!-- plant&#45;part&#45;&#45;stem -->\n",
       "<g id=\"edge5\" class=\"edge\"><title>plant-part--stem</title>\n",
       "<path fill=\"none\" stroke=\"black\" stroke-width=\"0.5\" d=\"M176.643,-332.04C139.872,-332.416 86.3438,-332.963 54.2669,-333.291\"/>\n",
       "<polygon fill=\"none\" stroke=\"black\" stroke-width=\"0.5\" points=\"177.042,-335.537 187.005,-331.935 176.97,-328.537 177.042,-335.537\"/>\n",
       "</g>\n",
       "<!-- leaf -->\n",
       "<g id=\"node10\" class=\"node\"><title>leaf</title>\n",
       "<path fill=\"aliceblue\" stroke=\"black\" stroke-width=\"0.5\" d=\"M245.966,-221.89C245.966,-221.89 275.966,-221.89 275.966,-221.89 281.966,-221.89 287.966,-227.89 287.966,-233.89 287.966,-233.89 287.966,-245.89 287.966,-245.89 287.966,-251.89 281.966,-257.89 275.966,-257.89 275.966,-257.89 245.966,-257.89 245.966,-257.89 239.966,-257.89 233.966,-251.89 233.966,-245.89 233.966,-245.89 233.966,-233.89 233.966,-233.89 233.966,-227.89 239.966,-221.89 245.966,-221.89\"/>\n",
       "<text text-anchor=\"middle\" x=\"260.966\" y=\"-237.09\" font-family=\"Times New Roman,serif\" font-size=\"11.00\">leaf</text>\n",
       "</g>\n",
       "<!-- plant&#45;part&#45;&#45;leaf -->\n",
       "<g id=\"edge6\" class=\"edge\"><title>plant-part--leaf</title>\n",
       "<path fill=\"none\" stroke=\"black\" stroke-width=\"0.5\" d=\"M229.884,-304.215C237.111,-289.259 245.855,-271.162 252.226,-257.978\"/>\n",
       "<polygon fill=\"none\" stroke=\"black\" stroke-width=\"0.5\" points=\"226.594,-302.98 225.395,-313.507 232.897,-306.025 226.594,-302.98\"/>\n",
       "</g>\n",
       "<!-- phloem -->\n",
       "<g id=\"node16\" class=\"node\"><title>phloem</title>\n",
       "<path fill=\"aliceblue\" stroke=\"black\" stroke-width=\"0.5\" d=\"M279.361,-371.868C279.361,-371.868 309.361,-371.868 309.361,-371.868 315.361,-371.868 321.361,-377.868 321.361,-383.868 321.361,-383.868 321.361,-395.868 321.361,-395.868 321.361,-401.868 315.361,-407.868 309.361,-407.868 309.361,-407.868 279.361,-407.868 279.361,-407.868 273.361,-407.868 267.361,-401.868 267.361,-395.868 267.361,-395.868 267.361,-383.868 267.361,-383.868 267.361,-377.868 273.361,-371.868 279.361,-371.868\"/>\n",
       "<text text-anchor=\"middle\" x=\"294.361\" y=\"-387.068\" font-family=\"Times New Roman,serif\" font-size=\"11.00\">phloem</text>\n",
       "</g>\n",
       "<!-- plant&#45;part&#45;&#45;phloem -->\n",
       "<g id=\"edge13\" class=\"edge\"><title>plant-part--phloem</title>\n",
       "<path fill=\"none\" stroke=\"black\" stroke-width=\"0.5\" d=\"M248.956,-355.848C256.07,-361.178 263.484,-366.733 270.209,-371.772\"/>\n",
       "<polygon fill=\"none\" stroke=\"black\" stroke-width=\"0.5\" points=\"250.905,-352.934 240.803,-349.739 246.707,-358.536 250.905,-352.934\"/>\n",
       "</g>\n",
       "<!-- branch -->\n",
       "<g id=\"node18\" class=\"node\"><title>branch</title>\n",
       "<path fill=\"aliceblue\" stroke=\"black\" stroke-width=\"0.5\" d=\"M146.419,-231.172C146.419,-231.172 176.419,-231.172 176.419,-231.172 182.419,-231.172 188.419,-237.172 188.419,-243.172 188.419,-243.172 188.419,-255.172 188.419,-255.172 188.419,-261.172 182.419,-267.172 176.419,-267.172 176.419,-267.172 146.419,-267.172 146.419,-267.172 140.419,-267.172 134.419,-261.172 134.419,-255.172 134.419,-255.172 134.419,-243.172 134.419,-243.172 134.419,-237.172 140.419,-231.172 146.419,-231.172\"/>\n",
       "<text text-anchor=\"middle\" x=\"161.419\" y=\"-246.372\" font-family=\"Times New Roman,serif\" font-size=\"11.00\">branch</text>\n",
       "</g>\n",
       "<!-- plant&#45;part&#45;&#45;branch -->\n",
       "<g id=\"edge15\" class=\"edge\"><title>plant-part--branch</title>\n",
       "<path fill=\"none\" stroke=\"black\" stroke-width=\"0.5\" d=\"M198.692,-304.834C190.495,-292.592 180.996,-278.408 173.64,-267.422\"/>\n",
       "<polygon fill=\"none\" stroke=\"black\" stroke-width=\"0.5\" points=\"195.91,-306.97 204.382,-313.331 201.726,-303.075 195.91,-306.97\"/>\n",
       "</g>\n",
       "<!-- root -->\n",
       "<g id=\"node24\" class=\"node\"><title>root</title>\n",
       "<path fill=\"aliceblue\" stroke=\"black\" stroke-width=\"0.5\" d=\"M156.754,-149.137C156.754,-149.137 186.754,-149.137 186.754,-149.137 192.754,-149.137 198.754,-155.137 198.754,-161.137 198.754,-161.137 198.754,-173.137 198.754,-173.137 198.754,-179.137 192.754,-185.137 186.754,-185.137 186.754,-185.137 156.754,-185.137 156.754,-185.137 150.754,-185.137 144.754,-179.137 144.754,-173.137 144.754,-173.137 144.754,-161.137 144.754,-161.137 144.754,-155.137 150.754,-149.137 156.754,-149.137\"/>\n",
       "<text text-anchor=\"middle\" x=\"171.754\" y=\"-164.337\" font-family=\"Times New Roman,serif\" font-size=\"11.00\">root</text>\n",
       "</g>\n",
       "<!-- plant&#45;part&#45;&#45;root -->\n",
       "<g id=\"edge21\" class=\"edge\"><title>plant-part--root</title>\n",
       "<path fill=\"none\" stroke=\"black\" stroke-width=\"0.5\" d=\"M210.524,-303.699C205.786,-282.746 198.832,-253.418 191.619,-227.972 187.529,-213.542 182.228,-197.413 178.131,-185.39\"/>\n",
       "<polygon fill=\"none\" stroke=\"black\" stroke-width=\"0.5\" points=\"207.127,-304.548 212.725,-313.542 213.958,-303.019 207.127,-304.548\"/>\n",
       "</g>\n",
       "<!-- xylem -->\n",
       "<g id=\"node27\" class=\"node\"><title>xylem</title>\n",
       "<path fill=\"aliceblue\" stroke=\"black\" stroke-width=\"0.5\" d=\"M320.731,-265.591C320.731,-265.591 350.731,-265.591 350.731,-265.591 356.731,-265.591 362.731,-271.591 362.731,-277.591 362.731,-277.591 362.731,-289.591 362.731,-289.591 362.731,-295.591 356.731,-301.591 350.731,-301.591 350.731,-301.591 320.731,-301.591 320.731,-301.591 314.731,-301.591 308.731,-295.591 308.731,-289.591 308.731,-289.591 308.731,-277.591 308.731,-277.591 308.731,-271.591 314.731,-265.591 320.731,-265.591\"/>\n",
       "<text text-anchor=\"middle\" x=\"335.731\" y=\"-280.791\" font-family=\"Times New Roman,serif\" font-size=\"11.00\">xylem</text>\n",
       "</g>\n",
       "<!-- plant&#45;part&#45;&#45;xylem -->\n",
       "<g id=\"edge24\" class=\"edge\"><title>plant-part--xylem</title>\n",
       "<path fill=\"none\" stroke=\"black\" stroke-width=\"0.5\" d=\"M256.132,-315.7C273.269,-308.787 292.915,-300.862 308.402,-294.615\"/>\n",
       "<polygon fill=\"none\" stroke=\"black\" stroke-width=\"0.5\" points=\"254.347,-312.646 246.382,-319.633 256.966,-319.138 254.347,-312.646\"/>\n",
       "</g>\n",
       "<!-- elephant -->\n",
       "<g id=\"node25\" class=\"node\"><title>elephant</title>\n",
       "<path fill=\"aliceblue\" stroke=\"black\" stroke-width=\"0.5\" d=\"M847.222,-208.51C847.222,-208.51 877.222,-208.51 877.222,-208.51 883.222,-208.51 889.222,-214.51 889.222,-220.51 889.222,-220.51 889.222,-232.51 889.222,-232.51 889.222,-238.51 883.222,-244.51 877.222,-244.51 877.222,-244.51 847.222,-244.51 847.222,-244.51 841.222,-244.51 835.222,-238.51 835.222,-232.51 835.222,-232.51 835.222,-220.51 835.222,-220.51 835.222,-214.51 841.222,-208.51 847.222,-208.51\"/>\n",
       "<text text-anchor=\"middle\" x=\"862.222\" y=\"-223.71\" font-family=\"Times New Roman,serif\" font-size=\"11.00\">elephant</text>\n",
       "</g>\n",
       "<!-- herbivore&#45;&#45;elephant -->\n",
       "<g id=\"edge22\" class=\"edge\"><title>herbivore--elephant</title>\n",
       "<path fill=\"none\" stroke=\"black\" stroke-width=\"0.5\" d=\"M794.719,-298.428C810.552,-281.559 830.868,-259.915 845.057,-244.797\"/>\n",
       "<polygon fill=\"none\" stroke=\"black\" stroke-width=\"0.5\" points=\"792.089,-296.115 787.798,-305.802 797.193,-300.906 792.089,-296.115\"/>\n",
       "</g>\n",
       "<!-- Mary&#45;01 -->\n",
       "<g id=\"node30\" class=\"node\"><title>Mary-01</title>\n",
       "<path fill=\"whitesmoke\" stroke=\"black\" stroke-width=\"0.5\" d=\"M538.068,-287.023C538.068,-287.023 569.068,-287.023 569.068,-287.023 575.068,-287.023 581.068,-293.023 581.068,-299.023 581.068,-299.023 581.068,-311.023 581.068,-311.023 581.068,-317.023 575.068,-323.023 569.068,-323.023 569.068,-323.023 538.068,-323.023 538.068,-323.023 532.068,-323.023 526.068,-317.023 526.068,-311.023 526.068,-311.023 526.068,-299.023 526.068,-299.023 526.068,-293.023 532.068,-287.023 538.068,-287.023\"/>\n",
       "<text text-anchor=\"middle\" x=\"553.568\" y=\"-302.223\" font-family=\"Times New Roman,serif\" font-size=\"11.00\">Mary-01</text>\n",
       "</g>\n",
       "<!-- herbivore&#45;&#45;Mary&#45;01 -->\n",
       "<g id=\"edge29\" class=\"edge\"><title>herbivore--Mary-01</title>\n",
       "<path fill=\"none\" stroke=\"black\" stroke-width=\"0.5\" stroke-dasharray=\"5,2\" d=\"M731.121,-320.691C687.806,-316.869 619.356,-310.828 581.341,-307.474\"/>\n",
       "<polygon fill=\"none\" stroke=\"black\" stroke-width=\"0.5\" points=\"731.023,-324.196 741.292,-321.589 731.638,-317.223 731.023,-324.196\"/>\n",
       "</g>\n",
       "<!-- Sophie&#45;01 -->\n",
       "<g id=\"node31\" class=\"node\"><title>Sophie-01</title>\n",
       "<path fill=\"whitesmoke\" stroke=\"black\" stroke-width=\"0.5\" d=\"M606.246,-267.104C606.246,-267.104 642.246,-267.104 642.246,-267.104 648.246,-267.104 654.246,-273.104 654.246,-279.104 654.246,-279.104 654.246,-291.104 654.246,-291.104 654.246,-297.104 648.246,-303.104 642.246,-303.104 642.246,-303.104 606.246,-303.104 606.246,-303.104 600.246,-303.104 594.246,-297.104 594.246,-291.104 594.246,-291.104 594.246,-279.104 594.246,-279.104 594.246,-273.104 600.246,-267.104 606.246,-267.104\"/>\n",
       "<text text-anchor=\"middle\" x=\"624.246\" y=\"-282.304\" font-family=\"Times New Roman,serif\" font-size=\"11.00\">Sophie-01</text>\n",
       "</g>\n",
       "<!-- herbivore&#45;&#45;Sophie&#45;01 -->\n",
       "<g id=\"edge31\" class=\"edge\"><title>herbivore--Sophie-01</title>\n",
       "<path fill=\"none\" stroke=\"black\" stroke-width=\"0.5\" stroke-dasharray=\"5,2\" d=\"M731.382,-313.711C707.233,-307.263 676.733,-299.119 654.457,-293.171\"/>\n",
       "<polygon fill=\"none\" stroke=\"black\" stroke-width=\"0.5\" points=\"730.735,-317.161 741.3,-316.359 732.541,-310.398 730.735,-317.161\"/>\n",
       "</g>\n",
       "<!-- lion -->\n",
       "<g id=\"node19\" class=\"node\"><title>lion</title>\n",
       "<path fill=\"aliceblue\" stroke=\"black\" stroke-width=\"0.5\" d=\"M664.364,-71.6807C664.364,-71.6807 694.364,-71.6807 694.364,-71.6807 700.364,-71.6807 706.364,-77.6807 706.364,-83.6807 706.364,-83.6807 706.364,-95.6807 706.364,-95.6807 706.364,-101.681 700.364,-107.681 694.364,-107.681 694.364,-107.681 664.364,-107.681 664.364,-107.681 658.364,-107.681 652.364,-101.681 652.364,-95.6807 652.364,-95.6807 652.364,-83.6807 652.364,-83.6807 652.364,-77.6807 658.364,-71.6807 664.364,-71.6807\"/>\n",
       "<text text-anchor=\"middle\" x=\"679.364\" y=\"-86.8807\" font-family=\"Times New Roman,serif\" font-size=\"11.00\">lion</text>\n",
       "</g>\n",
       "<!-- carnivore&#45;&#45;lion -->\n",
       "<g id=\"edge16\" class=\"edge\"><title>carnivore--lion</title>\n",
       "<path fill=\"none\" stroke=\"black\" stroke-width=\"0.5\" d=\"M760.894,-206.652C740.818,-177.849 709.313,-132.649 691.93,-107.71\"/>\n",
       "<polygon fill=\"none\" stroke=\"black\" stroke-width=\"0.5\" points=\"758.14,-208.822 766.729,-215.024 763.882,-204.819 758.14,-208.822\"/>\n",
       "</g>\n",
       "<!-- Leo&#45;01 -->\n",
       "<g id=\"node32\" class=\"node\"><title>Leo-01</title>\n",
       "<path fill=\"whitesmoke\" stroke=\"black\" stroke-width=\"0.5\" d=\"M557.941,-168.91C557.941,-168.91 587.941,-168.91 587.941,-168.91 593.941,-168.91 599.941,-174.91 599.941,-180.91 599.941,-180.91 599.941,-192.91 599.941,-192.91 599.941,-198.91 593.941,-204.91 587.941,-204.91 587.941,-204.91 557.941,-204.91 557.941,-204.91 551.941,-204.91 545.941,-198.91 545.941,-192.91 545.941,-192.91 545.941,-180.91 545.941,-180.91 545.941,-174.91 551.941,-168.91 557.941,-168.91\"/>\n",
       "<text text-anchor=\"middle\" x=\"572.941\" y=\"-184.11\" font-family=\"Times New Roman,serif\" font-size=\"11.00\">Leo-01</text>\n",
       "</g>\n",
       "<!-- lion&#45;&#45;Leo&#45;01 -->\n",
       "<g id=\"edge32\" class=\"edge\"><title>lion--Leo-01</title>\n",
       "<path fill=\"none\" stroke=\"black\" stroke-width=\"0.5\" stroke-dasharray=\"5,2\" d=\"M651.807,-114.857C633.354,-131.716 609.491,-153.517 592.869,-168.704\"/>\n",
       "<polygon fill=\"none\" stroke=\"black\" stroke-width=\"0.5\" points=\"654.325,-117.298 659.347,-107.969 649.603,-112.13 654.325,-117.298\"/>\n",
       "</g>\n",
       "<!-- palm&#45;tree&#45;&#45;Mary&#45;01 -->\n",
       "<g id=\"edge28\" class=\"edge\"><title>palm-tree--Mary-01</title>\n",
       "<path fill=\"none\" stroke=\"black\" stroke-width=\"0.5\" stroke-dasharray=\"5,2\" d=\"M437.924,-420.789C466.015,-392.668 510.714,-347.922 535.509,-323.102\"/>\n",
       "<polygon fill=\"none\" stroke=\"black\" stroke-width=\"0.5\" points=\"435.408,-418.355 430.817,-427.903 440.36,-423.302 435.408,-418.355\"/>\n",
       "</g>\n",
       "<!-- parsnip -->\n",
       "<g id=\"node23\" class=\"node\"><title>parsnip</title>\n",
       "<path fill=\"aliceblue\" stroke=\"black\" stroke-width=\"0.5\" d=\"M65.1395,-0.963371C65.1395,-0.963371 95.1395,-0.963371 95.1395,-0.963371 101.139,-0.963371 107.139,-6.96337 107.139,-12.9634 107.139,-12.9634 107.139,-24.9634 107.139,-24.9634 107.139,-30.9634 101.139,-36.9634 95.1395,-36.9634 95.1395,-36.9634 65.1395,-36.9634 65.1395,-36.9634 59.1395,-36.9634 53.1395,-30.9634 53.1395,-24.9634 53.1395,-24.9634 53.1395,-12.9634 53.1395,-12.9634 53.1395,-6.96337 59.1395,-0.963371 65.1395,-0.963371\"/>\n",
       "<text text-anchor=\"middle\" x=\"80.1395\" y=\"-16.1634\" font-family=\"Times New Roman,serif\" font-size=\"11.00\">parsnip</text>\n",
       "</g>\n",
       "<!-- root&#45;&#45;parsnip -->\n",
       "<g id=\"edge20\" class=\"edge\"><title>root--parsnip</title>\n",
       "<path fill=\"none\" stroke=\"black\" stroke-width=\"0.5\" d=\"M155.173,-140.32C136.735,-110.5 107.451,-63.136 91.465,-37.2809\"/>\n",
       "<polygon fill=\"none\" stroke=\"black\" stroke-width=\"0.5\" points=\"152.284,-142.303 160.52,-148.968 158.238,-138.621 152.284,-142.303\"/>\n",
       "</g>\n",
       "<!-- giraffe&#45;&#45;Sophie&#45;01 -->\n",
       "<g id=\"edge30\" class=\"edge\"><title>giraffe--Sophie-01</title>\n",
       "<path fill=\"none\" stroke=\"black\" stroke-width=\"0.5\" stroke-dasharray=\"5,2\" d=\"M681.335,-410.677C667.189,-379.563 644.579,-329.829 632.495,-303.248\"/>\n",
       "<polygon fill=\"none\" stroke=\"black\" stroke-width=\"0.5\" points=\"678.281,-412.417 685.606,-420.072 684.653,-409.52 678.281,-412.417\"/>\n",
       "</g>\n",
       "<!-- herb -->\n",
       "<g id=\"node29\" class=\"node\"><title>herb</title>\n",
       "<path fill=\"aliceblue\" stroke=\"black\" stroke-width=\"0.5\" d=\"M186.22,-497.188C186.22,-497.188 216.22,-497.188 216.22,-497.188 222.22,-497.188 228.22,-503.188 228.22,-509.188 228.22,-509.188 228.22,-521.188 228.22,-521.188 228.22,-527.188 222.22,-533.188 216.22,-533.188 216.22,-533.188 186.22,-533.188 186.22,-533.188 180.22,-533.188 174.22,-527.188 174.22,-521.188 174.22,-521.188 174.22,-509.188 174.22,-509.188 174.22,-503.188 180.22,-497.188 186.22,-497.188\"/>\n",
       "<text text-anchor=\"middle\" x=\"201.22\" y=\"-512.388\" font-family=\"Times New Roman,serif\" font-size=\"11.00\">herb</text>\n",
       "</g>\n",
       "<!-- herb&#45;&#45;plant -->\n",
       "<g id=\"edge26\" class=\"edge\"><title>herb--plant</title>\n",
       "<path fill=\"none\" stroke=\"black\" stroke-width=\"0.5\" d=\"M226.853,-540.533C236.551,-550.122 247.382,-560.831 256.263,-569.613\"/>\n",
       "<polygon fill=\"none\" stroke=\"black\" stroke-width=\"0.5\" points=\"229.282,-538.012 219.71,-533.47 224.36,-542.99 229.282,-538.012\"/>\n",
       "</g>\n",
       "<!-- herb&#45;&#45;plant&#45;part -->\n",
       "<g id=\"edge27\" class=\"edge\"><title>herb--plant-part</title>\n",
       "<path fill=\"none\" stroke=\"black\" stroke-width=\"0.5\" d=\"M203.63,-486.486C206.84,-448.273 212.423,-381.799 215.109,-349.829\"/>\n",
       "<polygon fill=\"none\" stroke=\"black\" stroke-width=\"0.5\" points=\"200.104,-486.659 202.754,-496.916 207.079,-487.245 200.104,-486.659\"/>\n",
       "</g>\n",
       "<!-- Leo&#45;01&#45;&#45;Mary&#45;01 -->\n",
       "<g id=\"edge33\" class=\"edge\"><title>Leo-01--Mary-01</title>\n",
       "<path fill=\"none\" stroke=\"black\" stroke-width=\"0.5\" d=\"M569.957,-205.106C566.805,-224.323 561.796,-254.862 558.144,-277.124\"/>\n",
       "<polygon fill=\"black\" stroke=\"black\" stroke-width=\"0.5\" points=\"556.525,-287 553.703,-276.403 557.334,-282.066 558.143,-277.132 558.143,-277.132 558.143,-277.132 557.334,-282.066 562.584,-277.86 556.525,-287 556.525,-287\"/>\n",
       "<text text-anchor=\"middle\" x=\"553.749\" y=\"-249.201\" font-family=\"Times New Roman,serif\" font-size=\"11.00\">eats</text>\n",
       "</g>\n",
       "<!-- Leo&#45;01&#45;&#45;Sophie&#45;01 -->\n",
       "<g id=\"edge34\" class=\"edge\"><title>Leo-01--Sophie-01</title>\n",
       "<path fill=\"none\" stroke=\"black\" stroke-width=\"0.5\" d=\"M582.351,-204.92C590.113,-219.776 601.245,-241.082 610.083,-257.998\"/>\n",
       "<polygon fill=\"black\" stroke=\"black\" stroke-width=\"0.5\" points=\"614.722,-266.875 606.102,-260.096 612.406,-262.444 610.091,-258.012 610.091,-258.012 610.091,-258.012 612.406,-262.444 614.079,-255.928 614.722,-266.875 614.722,-266.875\"/>\n",
       "<text text-anchor=\"middle\" x=\"589.056\" y=\"-239.135\" font-family=\"Times New Roman,serif\" font-size=\"11.00\">eats</text>\n",
       "</g>\n",
       "</g>\n",
       "</svg>"
      ],
      "text/plain": [
       "<IPython.core.display.SVG object>"
      ]
     },
     "execution_count": 12,
     "metadata": {},
     "output_type": "execute_result"
    }
   ],
   "source": [
    "onto.draw_graph(layout='force directed')"
   ]
  },
  {
   "cell_type": "code",
   "execution_count": 13,
   "metadata": {},
   "outputs": [
    {
     "name": "stdout",
     "output_type": "stream",
     "text": [
      "{\n",
      "  \"by\": [\n",
      "    {\n",
      "      \"expr\": \"Every carnivore eats nothing-but animals.\"\n",
      "    },\n",
      "    {\n",
      "      \"expr\": \"Every carnivore eats nothing-but animals.\"\n",
      "    },\n",
      "    {\n",
      "      \"expr\": \"Leo-01 eats Mary-01.\"\n",
      "    },\n",
      "    {\n",
      "      \"by\": [\n",
      "        {\n",
      "          \"by\": [\n",
      "            {\n",
      "              \"expr\": \"Every lion is a carnivore.\"\n",
      "            },\n",
      "            {\n",
      "              \"expr\": \"Every carnivore eats nothing-but animals.\"\n",
      "            }\n",
      "          ]\n",
      "        },\n",
      "        {\n",
      "          \"expr\": \"Leo-01 is a lion.\"\n",
      "        }\n",
      "      ]\n",
      "    }\n",
      "  ],\n",
      "  \"concluded\": \"Mary-01 is an animal.\"\n",
      "}\n"
     ]
    }
   ],
   "source": [
    "printWhy(onto,\"Mary-01 is a animal?\")"
   ]
  },
  {
   "cell_type": "markdown",
   "metadata": {},
   "source": [
    "### Part-3: Modal expressions and part-whole relationships."
   ]
  },
  {
   "cell_type": "code",
   "execution_count": 14,
   "metadata": {
    "scrolled": false
   },
   "outputs": [
    {
     "data": {
      "application/vnd.jupyter.widget-view+json": {
       "model_id": "55989b7a3d8a4ffe8c7fb7bd4ec9ac4e",
       "version_major": 2,
       "version_minor": 0
      },
      "text/plain": [
       "VBox(children=(Output(), OntoeditWidget(layout=Layout(height='100%', width='90%'), value=\"Every carnivorous-pl…"
      ]
     },
     "metadata": {},
     "output_type": "display_data"
    }
   ],
   "source": [
    "parts_editors['03']=CnlEditBox('part_03.encnl',onto)\n",
    "parts_editors['03']"
   ]
  },
  {
   "cell_type": "code",
   "execution_count": 15,
   "metadata": {},
   "outputs": [
    {
     "data": {
      "application/vnd.jupyter.widget-view+json": {
       "model_id": "c41362f9310045cc9ea035aa15298ad0",
       "version_major": 2,
       "version_minor": 0
      },
      "text/plain": [
       "VBox(children=(Output(), OntoeditWidget(layout=Layout(height='100%', width='90%'), value='Leo-01 is a lion.\\nL…"
      ]
     },
     "metadata": {},
     "output_type": "display_data"
    }
   ],
   "source": [
    "test_02_edit = CnlEditBox('test_02.encnl',onto)\n",
    "test_02_edit"
   ]
  },
  {
   "cell_type": "code",
   "execution_count": 16,
   "metadata": {},
   "outputs": [],
   "source": [
    "onto=buildOntology(parts_editors,test_02_edit)"
   ]
  },
  {
   "cell_type": "code",
   "execution_count": 17,
   "metadata": {},
   "outputs": [
    {
     "name": "stdout",
     "output_type": "stream",
     "text": [
      "{\n",
      "  \"modals\": {\n",
      "    \"Every branch must be-part-of a tree.\\r\\n\": [\n",
      "      {\n",
      "        \"?x0\": {\n",
      "          \"instance\": \"Branch-03\"\n",
      "        }\n",
      "      }\n",
      "    ],\n",
      "    \"Every plant-part must be-part-of a plant.\\r\\n\": [\n",
      "      {\n",
      "        \"?x0\": {\n",
      "          \"instance\": \"Branch-03\"\n",
      "        }\n",
      "      }\n",
      "    ]\n",
      "  }\n",
      "}\n"
     ]
    }
   ],
   "source": [
    "printReasoningInfo(onto)"
   ]
  },
  {
   "cell_type": "code",
   "execution_count": 18,
   "metadata": {},
   "outputs": [
    {
     "data": {
      "image/svg+xml": [
       "<svg xmlns=\"http://www.w3.org/2000/svg\" xmlns:xlink=\"http://www.w3.org/1999/xlink\" width=\"1033pt\" height=\"893pt\" viewBox=\"0.00 0.00 1033.00 893.00\">\n",
       "<g id=\"graph0\" class=\"graph\" transform=\"scale(1 1) rotate(0) translate(4 889)\">\n",
       "<title>G</title>\n",
       "<polygon fill=\"white\" stroke=\"none\" points=\"-4,4 -4,-889 1029,-889 1029,4 -4,4\"/>\n",
       "<!-- warthog -->\n",
       "<g id=\"node1\" class=\"node\"><title>warthog</title>\n",
       "<path fill=\"aliceblue\" stroke=\"black\" stroke-width=\"0.5\" d=\"M692.969,-848.783C692.969,-848.783 722.969,-848.783 722.969,-848.783 728.969,-848.783 734.969,-854.783 734.969,-860.783 734.969,-860.783 734.969,-872.783 734.969,-872.783 734.969,-878.783 728.969,-884.783 722.969,-884.783 722.969,-884.783 692.969,-884.783 692.969,-884.783 686.969,-884.783 680.969,-878.783 680.969,-872.783 680.969,-872.783 680.969,-860.783 680.969,-860.783 680.969,-854.783 686.969,-848.783 692.969,-848.783\"/>\n",
       "<text text-anchor=\"middle\" x=\"707.969\" y=\"-863.983\" font-family=\"Times New Roman,serif\" font-size=\"11.00\">warthog</text>\n",
       "</g>\n",
       "<!-- animal -->\n",
       "<g id=\"node2\" class=\"node\"><title>animal</title>\n",
       "<path fill=\"aliceblue\" stroke=\"black\" stroke-width=\"0.5\" d=\"M755.766,-650.506C755.766,-650.506 785.766,-650.506 785.766,-650.506 791.766,-650.506 797.766,-656.506 797.766,-662.506 797.766,-662.506 797.766,-674.506 797.766,-674.506 797.766,-680.506 791.766,-686.506 785.766,-686.506 785.766,-686.506 755.766,-686.506 755.766,-686.506 749.766,-686.506 743.766,-680.506 743.766,-674.506 743.766,-674.506 743.766,-662.506 743.766,-662.506 743.766,-656.506 749.766,-650.506 755.766,-650.506\"/>\n",
       "<text text-anchor=\"middle\" x=\"770.766\" y=\"-665.706\" font-family=\"Times New Roman,serif\" font-size=\"11.00\">animal</text>\n",
       "</g>\n",
       "<!-- animal&#45;&#45;warthog -->\n",
       "<g id=\"edge1\" class=\"edge\"><title>animal--warthog</title>\n",
       "<path fill=\"none\" stroke=\"black\" stroke-width=\"0.5\" d=\"M761.901,-696.497C748.835,-737.752 724.767,-813.742 713.75,-848.529\"/>\n",
       "<polygon fill=\"none\" stroke=\"black\" stroke-width=\"0.5\" points=\"765.288,-697.394 764.971,-686.804 758.615,-695.28 765.288,-697.394\"/>\n",
       "</g>\n",
       "<!-- impala -->\n",
       "<g id=\"node3\" class=\"node\"><title>impala</title>\n",
       "<path fill=\"aliceblue\" stroke=\"black\" stroke-width=\"0.5\" d=\"M606.898,-754.075C606.898,-754.075 636.898,-754.075 636.898,-754.075 642.898,-754.075 648.898,-760.075 648.898,-766.075 648.898,-766.075 648.898,-778.075 648.898,-778.075 648.898,-784.075 642.898,-790.075 636.898,-790.075 636.898,-790.075 606.898,-790.075 606.898,-790.075 600.898,-790.075 594.898,-784.075 594.898,-778.075 594.898,-778.075 594.898,-766.075 594.898,-766.075 594.898,-760.075 600.898,-754.075 606.898,-754.075\"/>\n",
       "<text text-anchor=\"middle\" x=\"621.898\" y=\"-769.275\" font-family=\"Times New Roman,serif\" font-size=\"11.00\">impala</text>\n",
       "</g>\n",
       "<!-- animal&#45;&#45;impala -->\n",
       "<g id=\"edge2\" class=\"edge\"><title>animal--impala</title>\n",
       "<path fill=\"none\" stroke=\"black\" stroke-width=\"0.5\" d=\"M736.444,-692.384C709.423,-711.183 672.345,-736.978 647.781,-754.068\"/>\n",
       "<polygon fill=\"none\" stroke=\"black\" stroke-width=\"0.5\" points=\"738.625,-695.13 744.835,-686.546 734.627,-689.384 738.625,-695.13\"/>\n",
       "</g>\n",
       "<!-- rock&#45;dassie -->\n",
       "<g id=\"node13\" class=\"node\"><title>rock-dassie</title>\n",
       "<path fill=\"aliceblue\" stroke=\"black\" stroke-width=\"0.5\" d=\"M813.661,-823.746C813.661,-823.746 856.661,-823.746 856.661,-823.746 862.661,-823.746 868.661,-829.746 868.661,-835.746 868.661,-835.746 868.661,-847.746 868.661,-847.746 868.661,-853.746 862.661,-859.746 856.661,-859.746 856.661,-859.746 813.661,-859.746 813.661,-859.746 807.661,-859.746 801.661,-853.746 801.661,-847.746 801.661,-847.746 801.661,-835.746 801.661,-835.746 801.661,-829.746 807.661,-823.746 813.661,-823.746\"/>\n",
       "<text text-anchor=\"middle\" x=\"835.161\" y=\"-838.946\" font-family=\"Times New Roman,serif\" font-size=\"11.00\">rock-dassie</text>\n",
       "</g>\n",
       "<!-- animal&#45;&#45;rock&#45;dassie -->\n",
       "<g id=\"edge9\" class=\"edge\"><title>animal--rock-dassie</title>\n",
       "<path fill=\"none\" stroke=\"black\" stroke-width=\"0.5\" d=\"M781.182,-696.528C794.484,-732.314 817.125,-793.224 828.385,-823.518\"/>\n",
       "<polygon fill=\"none\" stroke=\"black\" stroke-width=\"0.5\" points=\"784.301,-694.872 777.536,-686.718 777.739,-697.311 784.301,-694.872\"/>\n",
       "</g>\n",
       "<!-- herbivore -->\n",
       "<g id=\"node15\" class=\"node\"><title>herbivore</title>\n",
       "<path fill=\"aliceblue\" stroke=\"black\" stroke-width=\"0.5\" d=\"M733.048,-490.642C733.048,-490.642 767.048,-490.642 767.048,-490.642 773.048,-490.642 779.048,-496.642 779.048,-502.642 779.048,-502.642 779.048,-514.642 779.048,-514.642 779.048,-520.642 773.048,-526.642 767.048,-526.642 767.048,-526.642 733.048,-526.642 733.048,-526.642 727.048,-526.642 721.048,-520.642 721.048,-514.642 721.048,-514.642 721.048,-502.642 721.048,-502.642 721.048,-496.642 727.048,-490.642 733.048,-490.642\"/>\n",
       "<text text-anchor=\"middle\" x=\"750.048\" y=\"-505.842\" font-family=\"Times New Roman,serif\" font-size=\"11.00\">herbivore</text>\n",
       "</g>\n",
       "<!-- animal&#45;&#45;herbivore -->\n",
       "<g id=\"edge19\" class=\"edge\"><title>animal--herbivore</title>\n",
       "<path fill=\"none\" stroke=\"black\" stroke-width=\"0.5\" d=\"M767.1,-640.217C762.858,-607.483 755.997,-554.544 752.408,-526.849\"/>\n",
       "<polygon fill=\"none\" stroke=\"black\" stroke-width=\"0.5\" points=\"763.673,-641.011 768.43,-650.478 770.615,-640.111 763.673,-641.011\"/>\n",
       "</g>\n",
       "<!-- giraffe -->\n",
       "<g id=\"node21\" class=\"node\"><title>giraffe</title>\n",
       "<path fill=\"aliceblue\" stroke=\"black\" stroke-width=\"0.5\" d=\"M627.568,-595.003C627.568,-595.003 657.568,-595.003 657.568,-595.003 663.568,-595.003 669.568,-601.003 669.568,-607.003 669.568,-607.003 669.568,-619.003 669.568,-619.003 669.568,-625.003 663.568,-631.003 657.568,-631.003 657.568,-631.003 627.568,-631.003 627.568,-631.003 621.568,-631.003 615.568,-625.003 615.568,-619.003 615.568,-619.003 615.568,-607.003 615.568,-607.003 615.568,-601.003 621.568,-595.003 627.568,-595.003\"/>\n",
       "<text text-anchor=\"middle\" x=\"642.568\" y=\"-610.203\" font-family=\"Times New Roman,serif\" font-size=\"11.00\">giraffe</text>\n",
       "</g>\n",
       "<!-- animal&#45;&#45;giraffe -->\n",
       "<g id=\"edge16\" class=\"edge\"><title>animal--giraffe</title>\n",
       "<path fill=\"none\" stroke=\"black\" stroke-width=\"0.5\" d=\"M734.217,-652.682C713.682,-643.791 688.489,-632.884 669.716,-624.756\"/>\n",
       "<polygon fill=\"none\" stroke=\"black\" stroke-width=\"0.5\" points=\"733.011,-655.974 743.579,-656.735 735.792,-649.55 733.011,-655.974\"/>\n",
       "</g>\n",
       "<!-- carnivore -->\n",
       "<g id=\"node23\" class=\"node\"><title>carnivore</title>\n",
       "<path fill=\"aliceblue\" stroke=\"black\" stroke-width=\"0.5\" d=\"M857.881,-512.248C857.881,-512.248 891.881,-512.248 891.881,-512.248 897.881,-512.248 903.881,-518.248 903.881,-524.248 903.881,-524.248 903.881,-536.248 903.881,-536.248 903.881,-542.248 897.881,-548.248 891.881,-548.248 891.881,-548.248 857.881,-548.248 857.881,-548.248 851.881,-548.248 845.881,-542.248 845.881,-536.248 845.881,-536.248 845.881,-524.248 845.881,-524.248 845.881,-518.248 851.881,-512.248 857.881,-512.248\"/>\n",
       "<text text-anchor=\"middle\" x=\"874.881\" y=\"-527.448\" font-family=\"Times New Roman,serif\" font-size=\"11.00\">carnivore</text>\n",
       "</g>\n",
       "<!-- animal&#45;&#45;carnivore -->\n",
       "<g id=\"edge23\" class=\"edge\"><title>animal--carnivore</title>\n",
       "<path fill=\"none\" stroke=\"black\" stroke-width=\"0.5\" d=\"M791.323,-642.407C802.421,-628.215 816.295,-610.308 828.432,-594.145 839.961,-578.792 852.772,-561.121 862.014,-548.26\"/>\n",
       "<polygon fill=\"none\" stroke=\"black\" stroke-width=\"0.5\" points=\"788.558,-640.262 785.144,-650.292 794.067,-644.58 788.558,-640.262\"/>\n",
       "</g>\n",
       "<!-- omnivore -->\n",
       "<g id=\"node28\" class=\"node\"><title>omnivore</title>\n",
       "<path fill=\"aliceblue\" stroke=\"black\" stroke-width=\"0.5\" d=\"M914.805,-721.126C914.805,-721.126 947.805,-721.126 947.805,-721.126 953.805,-721.126 959.805,-727.126 959.805,-733.126 959.805,-733.126 959.805,-745.126 959.805,-745.126 959.805,-751.126 953.805,-757.126 947.805,-757.126 947.805,-757.126 914.805,-757.126 914.805,-757.126 908.805,-757.126 902.805,-751.126 902.805,-745.126 902.805,-745.126 902.805,-733.126 902.805,-733.126 902.805,-727.126 908.805,-721.126 914.805,-721.126\"/>\n",
       "<text text-anchor=\"middle\" x=\"931.305\" y=\"-736.326\" font-family=\"Times New Roman,serif\" font-size=\"11.00\">omnivore</text>\n",
       "</g>\n",
       "<!-- animal&#45;&#45;omnivore -->\n",
       "<g id=\"edge25\" class=\"edge\"><title>animal--omnivore</title>\n",
       "<path fill=\"none\" stroke=\"black\" stroke-width=\"0.5\" d=\"M807.343,-684.596C836.224,-697.3 875.959,-714.78 902.582,-726.491\"/>\n",
       "<polygon fill=\"none\" stroke=\"black\" stroke-width=\"0.5\" points=\"808.562,-681.308 797.999,-680.485 805.743,-687.716 808.562,-681.308\"/>\n",
       "</g>\n",
       "<!-- phloem -->\n",
       "<g id=\"node4\" class=\"node\"><title>phloem</title>\n",
       "<path fill=\"aliceblue\" stroke=\"black\" stroke-width=\"0.5\" d=\"M252.768,-630.301C252.768,-630.301 282.768,-630.301 282.768,-630.301 288.768,-630.301 294.768,-636.301 294.768,-642.301 294.768,-642.301 294.768,-654.301 294.768,-654.301 294.768,-660.301 288.768,-666.301 282.768,-666.301 282.768,-666.301 252.768,-666.301 252.768,-666.301 246.768,-666.301 240.768,-660.301 240.768,-654.301 240.768,-654.301 240.768,-642.301 240.768,-642.301 240.768,-636.301 246.768,-630.301 252.768,-630.301\"/>\n",
       "<text text-anchor=\"middle\" x=\"267.768\" y=\"-645.501\" font-family=\"Times New Roman,serif\" font-size=\"11.00\">phloem</text>\n",
       "</g>\n",
       "<!-- plant&#45;part -->\n",
       "<g id=\"node5\" class=\"node\"><title>plant-part</title>\n",
       "<path fill=\"aliceblue\" stroke=\"black\" stroke-width=\"0.5\" d=\"M265.374,-491.454C265.374,-491.454 300.374,-491.454 300.374,-491.454 306.374,-491.454 312.374,-497.454 312.374,-503.454 312.374,-503.454 312.374,-515.454 312.374,-515.454 312.374,-521.454 306.374,-527.454 300.374,-527.454 300.374,-527.454 265.374,-527.454 265.374,-527.454 259.374,-527.454 253.374,-521.454 253.374,-515.454 253.374,-515.454 253.374,-503.454 253.374,-503.454 253.374,-497.454 259.374,-491.454 265.374,-491.454\"/>\n",
       "<text text-anchor=\"middle\" x=\"282.874\" y=\"-506.654\" font-family=\"Times New Roman,serif\" font-size=\"11.00\">plant-part</text>\n",
       "</g>\n",
       "<!-- plant&#45;part&#45;&#45;phloem -->\n",
       "<g id=\"edge3\" class=\"edge\"><title>plant-part--phloem</title>\n",
       "<path fill=\"none\" stroke=\"black\" stroke-width=\"0.5\" d=\"M279.787,-537.823C276.78,-565.462 272.299,-606.651 269.743,-630.145\"/>\n",
       "<polygon fill=\"none\" stroke=\"black\" stroke-width=\"0.5\" points=\"283.297,-537.925 280.899,-527.605 276.338,-537.168 283.297,-537.925\"/>\n",
       "</g>\n",
       "<!-- stem -->\n",
       "<g id=\"node6\" class=\"node\"><title>stem</title>\n",
       "<path fill=\"aliceblue\" stroke=\"black\" stroke-width=\"0.5\" d=\"M116.649,-495.377C116.649,-495.377 146.649,-495.377 146.649,-495.377 152.649,-495.377 158.649,-501.377 158.649,-507.377 158.649,-507.377 158.649,-519.377 158.649,-519.377 158.649,-525.377 152.649,-531.377 146.649,-531.377 146.649,-531.377 116.649,-531.377 116.649,-531.377 110.649,-531.377 104.649,-525.377 104.649,-519.377 104.649,-519.377 104.649,-507.377 104.649,-507.377 104.649,-501.377 110.649,-495.377 116.649,-495.377\"/>\n",
       "<text text-anchor=\"middle\" x=\"131.649\" y=\"-510.577\" font-family=\"Times New Roman,serif\" font-size=\"11.00\">stem</text>\n",
       "</g>\n",
       "<!-- plant&#45;part&#45;&#45;stem -->\n",
       "<g id=\"edge4\" class=\"edge\"><title>plant-part--stem</title>\n",
       "<path fill=\"none\" stroke=\"black\" stroke-width=\"0.5\" d=\"M243.222,-510.482C216.636,-511.172 182.318,-512.063 158.804,-512.673\"/>\n",
       "<polygon fill=\"none\" stroke=\"black\" stroke-width=\"0.5\" points=\"243.451,-513.978 253.357,-510.219 243.269,-506.98 243.451,-513.978\"/>\n",
       "</g>\n",
       "<!-- branch -->\n",
       "<g id=\"node7\" class=\"node\"><title>branch</title>\n",
       "<path fill=\"aliceblue\" stroke=\"black\" stroke-width=\"0.5\" d=\"M291.631,-385.459C291.631,-385.459 321.631,-385.459 321.631,-385.459 327.631,-385.459 333.631,-391.459 333.631,-397.459 333.631,-397.459 333.631,-409.459 333.631,-409.459 333.631,-415.459 327.631,-421.459 321.631,-421.459 321.631,-421.459 291.631,-421.459 291.631,-421.459 285.631,-421.459 279.631,-415.459 279.631,-409.459 279.631,-409.459 279.631,-397.459 279.631,-397.459 279.631,-391.459 285.631,-385.459 291.631,-385.459\"/>\n",
       "<text text-anchor=\"middle\" x=\"306.631\" y=\"-400.659\" font-family=\"Times New Roman,serif\" font-size=\"11.00\">branch</text>\n",
       "</g>\n",
       "<!-- plant&#45;part&#45;&#45;branch -->\n",
       "<g id=\"edge5\" class=\"edge\"><title>plant-part--branch</title>\n",
       "<path fill=\"none\" stroke=\"black\" stroke-width=\"0.5\" d=\"M289.217,-481.15C293.445,-462.29 298.876,-438.057 302.54,-421.71\"/>\n",
       "<polygon fill=\"none\" stroke=\"black\" stroke-width=\"0.5\" points=\"285.784,-480.467 287.012,-490.991 292.614,-481.998 285.784,-480.467\"/>\n",
       "</g>\n",
       "<!-- root -->\n",
       "<g id=\"node9\" class=\"node\"><title>root</title>\n",
       "<path fill=\"aliceblue\" stroke=\"black\" stroke-width=\"0.5\" d=\"M116.632,-368.512C116.632,-368.512 146.632,-368.512 146.632,-368.512 152.632,-368.512 158.632,-374.512 158.632,-380.512 158.632,-380.512 158.632,-392.512 158.632,-392.512 158.632,-398.512 152.632,-404.512 146.632,-404.512 146.632,-404.512 116.632,-404.512 116.632,-404.512 110.632,-404.512 104.632,-398.512 104.632,-392.512 104.632,-392.512 104.632,-380.512 104.632,-380.512 104.632,-374.512 110.632,-368.512 116.632,-368.512\"/>\n",
       "<text text-anchor=\"middle\" x=\"131.632\" y=\"-383.712\" font-family=\"Times New Roman,serif\" font-size=\"11.00\">root</text>\n",
       "</g>\n",
       "<!-- plant&#45;part&#45;&#45;root -->\n",
       "<g id=\"edge22\" class=\"edge\"><title>plant-part--root</title>\n",
       "<path fill=\"none\" stroke=\"black\" stroke-width=\"0.5\" d=\"M252.753,-484.969C223.644,-461.307 180.217,-426.006 154.04,-404.727\"/>\n",
       "<polygon fill=\"none\" stroke=\"black\" stroke-width=\"0.5\" points=\"250.59,-487.721 260.557,-491.313 255.005,-482.289 250.59,-487.721\"/>\n",
       "</g>\n",
       "<!-- xylem -->\n",
       "<g id=\"node10\" class=\"node\"><title>xylem</title>\n",
       "<path fill=\"aliceblue\" stroke=\"black\" stroke-width=\"0.5\" d=\"M121.89,-669.836C121.89,-669.836 151.89,-669.836 151.89,-669.836 157.89,-669.836 163.89,-675.836 163.89,-681.836 163.89,-681.836 163.89,-693.836 163.89,-693.836 163.89,-699.836 157.89,-705.836 151.89,-705.836 151.89,-705.836 121.89,-705.836 121.89,-705.836 115.89,-705.836 109.89,-699.836 109.89,-693.836 109.89,-693.836 109.89,-681.836 109.89,-681.836 109.89,-675.836 115.89,-669.836 121.89,-669.836\"/>\n",
       "<text text-anchor=\"middle\" x=\"136.89\" y=\"-685.036\" font-family=\"Times New Roman,serif\" font-size=\"11.00\">xylem</text>\n",
       "</g>\n",
       "<!-- plant&#45;part&#45;&#45;xylem -->\n",
       "<g id=\"edge7\" class=\"edge\"><title>plant-part--xylem</title>\n",
       "<path fill=\"none\" stroke=\"black\" stroke-width=\"0.5\" d=\"M261.713,-535.311C231.766,-571.904 177.771,-637.882 151.73,-669.702\"/>\n",
       "<polygon fill=\"none\" stroke=\"black\" stroke-width=\"0.5\" points=\"264.448,-537.495 268.073,-527.54 259.031,-533.062 264.448,-537.495\"/>\n",
       "</g>\n",
       "<!-- fruiting&#45;body -->\n",
       "<g id=\"node17\" class=\"node\"><title>fruiting-body</title>\n",
       "<path fill=\"aliceblue\" stroke=\"black\" stroke-width=\"0.5\" d=\"M311.985,-710.152C311.985,-710.152 359.985,-710.152 359.985,-710.152 365.985,-710.152 371.985,-716.152 371.985,-722.152 371.985,-722.152 371.985,-734.152 371.985,-734.152 371.985,-740.152 365.985,-746.152 359.985,-746.152 359.985,-746.152 311.985,-746.152 311.985,-746.152 305.985,-746.152 299.985,-740.152 299.985,-734.152 299.985,-734.152 299.985,-722.152 299.985,-722.152 299.985,-716.152 305.985,-710.152 311.985,-710.152\"/>\n",
       "<text text-anchor=\"middle\" x=\"335.985\" y=\"-725.352\" font-family=\"Times New Roman,serif\" font-size=\"11.00\">fruiting-body</text>\n",
       "</g>\n",
       "<!-- plant&#45;part&#45;&#45;fruiting&#45;body -->\n",
       "<g id=\"edge12\" class=\"edge\"><title>plant-part--fruiting-body</title>\n",
       "<path fill=\"none\" stroke=\"black\" stroke-width=\"0.5\" d=\"M289.696,-537.547C300.769,-583.141 322.344,-671.983 331.598,-710.088\"/>\n",
       "<polygon fill=\"none\" stroke=\"black\" stroke-width=\"0.5\" points=\"293.072,-536.615 287.31,-527.724 286.269,-538.267 293.072,-536.615\"/>\n",
       "</g>\n",
       "<!-- twig -->\n",
       "<g id=\"node24\" class=\"node\"><title>twig</title>\n",
       "<path fill=\"aliceblue\" stroke=\"black\" stroke-width=\"0.5\" d=\"M11.5197,-500.648C11.5197,-500.648 41.5197,-500.648 41.5197,-500.648 47.5197,-500.648 53.5197,-506.648 53.5197,-512.648 53.5197,-512.648 53.5197,-524.648 53.5197,-524.648 53.5197,-530.648 47.5197,-536.648 41.5197,-536.648 41.5197,-536.648 11.5197,-536.648 11.5197,-536.648 5.51972,-536.648 -0.480281,-530.648 -0.480281,-524.648 -0.480281,-524.648 -0.480281,-512.648 -0.480281,-512.648 -0.480281,-506.648 5.51972,-500.648 11.5197,-500.648\"/>\n",
       "<text text-anchor=\"middle\" x=\"26.5197\" y=\"-515.848\" font-family=\"Times New Roman,serif\" font-size=\"11.00\">twig</text>\n",
       "</g>\n",
       "<!-- plant&#45;part&#45;&#45;twig -->\n",
       "<g id=\"edge18\" class=\"edge\"><title>plant-part--twig</title>\n",
       "<path fill=\"none\" stroke=\"black\" stroke-width=\"0.5\" d=\"M243.359,-519.79C219.865,-525.399 189.37,-531.751 161.849,-534.577 135.145,-537.32 128.146,-537.384 101.449,-534.577 85.4448,-532.895 67.8302,-529.244 53.7028,-525.862\"/>\n",
       "<polygon fill=\"none\" stroke=\"black\" stroke-width=\"0.5\" points=\"244.413,-523.136 253.297,-517.363 242.752,-516.336 244.413,-523.136\"/>\n",
       "</g>\n",
       "<!-- leaf -->\n",
       "<g id=\"node26\" class=\"node\"><title>leaf</title>\n",
       "<path fill=\"aliceblue\" stroke=\"black\" stroke-width=\"0.5\" d=\"M360.929,-595.583C360.929,-595.583 390.929,-595.583 390.929,-595.583 396.929,-595.583 402.929,-601.583 402.929,-607.583 402.929,-607.583 402.929,-619.583 402.929,-619.583 402.929,-625.583 396.929,-631.583 390.929,-631.583 390.929,-631.583 360.929,-631.583 360.929,-631.583 354.929,-631.583 348.929,-625.583 348.929,-619.583 348.929,-619.583 348.929,-607.583 348.929,-607.583 348.929,-601.583 354.929,-595.583 360.929,-595.583\"/>\n",
       "<text text-anchor=\"middle\" x=\"375.929\" y=\"-610.783\" font-family=\"Times New Roman,serif\" font-size=\"11.00\">leaf</text>\n",
       "</g>\n",
       "<!-- plant&#45;part&#45;&#45;leaf -->\n",
       "<g id=\"edge21\" class=\"edge\"><title>plant-part--leaf</title>\n",
       "<path fill=\"none\" stroke=\"black\" stroke-width=\"0.5\" d=\"M305.858,-535.174C322.538,-553.838 344.699,-578.636 359.594,-595.304\"/>\n",
       "<polygon fill=\"none\" stroke=\"black\" stroke-width=\"0.5\" points=\"308.356,-532.716 299.083,-527.592 303.136,-537.38 308.356,-532.716\"/>\n",
       "</g>\n",
       "<!-- Branch&#45;03 -->\n",
       "<g id=\"node30\" class=\"node\"><title>Branch-03</title>\n",
       "<path fill=\"whitesmoke\" stroke=\"black\" stroke-width=\"0.5\" d=\"M201.503,-233.774C201.503,-233.774 240.503,-233.774 240.503,-233.774 246.503,-233.774 252.503,-239.774 252.503,-245.774 252.503,-245.774 252.503,-257.774 252.503,-257.774 252.503,-263.774 246.503,-269.774 240.503,-269.774 240.503,-269.774 201.503,-269.774 201.503,-269.774 195.503,-269.774 189.503,-263.774 189.503,-257.774 189.503,-257.774 189.503,-245.774 189.503,-245.774 189.503,-239.774 195.503,-233.774 201.503,-233.774\"/>\n",
       "<text text-anchor=\"middle\" x=\"221.003\" y=\"-248.974\" font-family=\"Times New Roman,serif\" font-size=\"11.00\">Branch-03</text>\n",
       "</g>\n",
       "<!-- branch&#45;&#45;Branch&#45;03 -->\n",
       "<g id=\"edge28\" class=\"edge\"><title>branch--Branch-03</title>\n",
       "<path fill=\"none\" stroke=\"black\" stroke-width=\"0.5\" stroke-dasharray=\"5,2\" d=\"M291.289,-376.282C273.981,-345.622 246.304,-296.594 231.368,-270.136\"/>\n",
       "<polygon fill=\"none\" stroke=\"black\" stroke-width=\"0.5\" points=\"288.338,-378.174 296.302,-385.162 294.434,-374.733 288.338,-378.174\"/>\n",
       "</g>\n",
       "<!-- Branch&#45;01 -->\n",
       "<g id=\"node31\" class=\"node\"><title>Branch-01</title>\n",
       "<path fill=\"whitesmoke\" stroke=\"black\" stroke-width=\"0.5\" d=\"M385.781,-433.658C385.781,-433.658 424.781,-433.658 424.781,-433.658 430.781,-433.658 436.781,-439.658 436.781,-445.658 436.781,-445.658 436.781,-457.658 436.781,-457.658 436.781,-463.658 430.781,-469.658 424.781,-469.658 424.781,-469.658 385.781,-469.658 385.781,-469.658 379.781,-469.658 373.781,-463.658 373.781,-457.658 373.781,-457.658 373.781,-445.658 373.781,-445.658 373.781,-439.658 379.781,-433.658 385.781,-433.658\"/>\n",
       "<text text-anchor=\"middle\" x=\"405.281\" y=\"-448.858\" font-family=\"Times New Roman,serif\" font-size=\"11.00\">Branch-01</text>\n",
       "</g>\n",
       "<!-- branch&#45;&#45;Branch&#45;01 -->\n",
       "<g id=\"edge29\" class=\"edge\"><title>branch--Branch-01</title>\n",
       "<path fill=\"none\" stroke=\"black\" stroke-width=\"0.5\" stroke-dasharray=\"5,2\" d=\"M342.839,-421.15C352.928,-426.079 363.807,-431.394 373.613,-436.186\"/>\n",
       "<polygon fill=\"none\" stroke=\"black\" stroke-width=\"0.5\" points=\"344.37,-418.002 333.848,-416.757 341.297,-424.292 344.37,-418.002\"/>\n",
       "</g>\n",
       "<!-- Branch&#45;02 -->\n",
       "<g id=\"node32\" class=\"node\"><title>Branch-02</title>\n",
       "<path fill=\"whitesmoke\" stroke=\"black\" stroke-width=\"0.5\" d=\"M401.014,-384.102C401.014,-384.102 440.014,-384.102 440.014,-384.102 446.014,-384.102 452.014,-390.102 452.014,-396.102 452.014,-396.102 452.014,-408.102 452.014,-408.102 452.014,-414.102 446.014,-420.102 440.014,-420.102 440.014,-420.102 401.014,-420.102 401.014,-420.102 395.014,-420.102 389.014,-414.102 389.014,-408.102 389.014,-408.102 389.014,-396.102 389.014,-396.102 389.014,-390.102 395.014,-384.102 401.014,-384.102\"/>\n",
       "<text text-anchor=\"middle\" x=\"420.514\" y=\"-399.302\" font-family=\"Times New Roman,serif\" font-size=\"11.00\">Branch-02</text>\n",
       "</g>\n",
       "<!-- branch&#45;&#45;Branch&#45;02 -->\n",
       "<g id=\"edge30\" class=\"edge\"><title>branch--Branch-02</title>\n",
       "<path fill=\"none\" stroke=\"black\" stroke-width=\"0.5\" stroke-dasharray=\"5,2\" d=\"M344.01,-403.013C358.43,-402.842 374.756,-402.647 388.612,-402.482\"/>\n",
       "<polygon fill=\"none\" stroke=\"black\" stroke-width=\"0.5\" points=\"343.866,-399.515 333.909,-403.134 343.95,-406.514 343.866,-399.515\"/>\n",
       "</g>\n",
       "<!-- parsnip -->\n",
       "<g id=\"node8\" class=\"node\"><title>parsnip</title>\n",
       "<path fill=\"aliceblue\" stroke=\"black\" stroke-width=\"0.5\" d=\"M47.9908,-293.442C47.9908,-293.442 77.9908,-293.442 77.9908,-293.442 83.9908,-293.442 89.9908,-299.442 89.9908,-305.442 89.9908,-305.442 89.9908,-317.442 89.9908,-317.442 89.9908,-323.442 83.9908,-329.442 77.9908,-329.442 77.9908,-329.442 47.9908,-329.442 47.9908,-329.442 41.9908,-329.442 35.9908,-323.442 35.9908,-317.442 35.9908,-317.442 35.9908,-305.442 35.9908,-305.442 35.9908,-299.442 41.9908,-293.442 47.9908,-293.442\"/>\n",
       "<text text-anchor=\"middle\" x=\"62.9908\" y=\"-308.642\" font-family=\"Times New Roman,serif\" font-size=\"11.00\">parsnip</text>\n",
       "</g>\n",
       "<!-- root&#45;&#45;parsnip -->\n",
       "<g id=\"edge6\" class=\"edge\"><title>root--parsnip</title>\n",
       "<path fill=\"none\" stroke=\"black\" stroke-width=\"0.5\" d=\"M108.095,-360.771C98.6668,-350.459 88.0294,-338.826 79.4538,-329.447\"/>\n",
       "<polygon fill=\"none\" stroke=\"black\" stroke-width=\"0.5\" points=\"105.685,-363.321 115.016,-368.339 110.851,-358.598 105.685,-363.321\"/>\n",
       "</g>\n",
       "<!-- palm&#45;tree -->\n",
       "<g id=\"node11\" class=\"node\"><title>palm-tree</title>\n",
       "<path fill=\"aliceblue\" stroke=\"black\" stroke-width=\"0.5\" d=\"M548.909,-49.5353C548.909,-49.5353 583.909,-49.5353 583.909,-49.5353 589.909,-49.5353 595.909,-55.5353 595.909,-61.5353 595.909,-61.5353 595.909,-73.5353 595.909,-73.5353 595.909,-79.5353 589.909,-85.5353 583.909,-85.5353 583.909,-85.5353 548.909,-85.5353 548.909,-85.5353 542.909,-85.5353 536.909,-79.5353 536.909,-73.5353 536.909,-73.5353 536.909,-61.5353 536.909,-61.5353 536.909,-55.5353 542.909,-49.5353 548.909,-49.5353\"/>\n",
       "<text text-anchor=\"middle\" x=\"566.409\" y=\"-64.7353\" font-family=\"Times New Roman,serif\" font-size=\"11.00\">palm-tree</text>\n",
       "</g>\n",
       "<!-- plant -->\n",
       "<g id=\"node12\" class=\"node\"><title>plant</title>\n",
       "<path fill=\"aliceblue\" stroke=\"black\" stroke-width=\"0.5\" d=\"M498.778,-149.443C498.778,-149.443 528.778,-149.443 528.778,-149.443 534.778,-149.443 540.778,-155.443 540.778,-161.443 540.778,-161.443 540.778,-173.443 540.778,-173.443 540.778,-179.443 534.778,-185.443 528.778,-185.443 528.778,-185.443 498.778,-185.443 498.778,-185.443 492.778,-185.443 486.778,-179.443 486.778,-173.443 486.778,-173.443 486.778,-161.443 486.778,-161.443 486.778,-155.443 492.778,-149.443 498.778,-149.443\"/>\n",
       "<text text-anchor=\"middle\" x=\"513.778\" y=\"-164.643\" font-family=\"Times New Roman,serif\" font-size=\"11.00\">plant</text>\n",
       "</g>\n",
       "<!-- plant&#45;&#45;palm&#45;tree -->\n",
       "<g id=\"edge8\" class=\"edge\"><title>plant--palm-tree</title>\n",
       "<path fill=\"none\" stroke=\"black\" stroke-width=\"0.5\" d=\"M528.205,-140.056C537.312,-122.77 548.822,-100.92 556.817,-85.7437\"/>\n",
       "<polygon fill=\"none\" stroke=\"black\" stroke-width=\"0.5\" points=\"524.996,-138.639 523.431,-149.118 531.189,-141.902 524.996,-138.639\"/>\n",
       "</g>\n",
       "<!-- carnivorous&#45;plant -->\n",
       "<g id=\"node16\" class=\"node\"><title>carnivorous-plant</title>\n",
       "<path fill=\"aliceblue\" stroke=\"black\" stroke-width=\"0.5\" d=\"M302.12,-81.8236C302.12,-81.8236 370.12,-81.8236 370.12,-81.8236 376.12,-81.8236 382.12,-87.8236 382.12,-93.8236 382.12,-93.8236 382.12,-105.824 382.12,-105.824 382.12,-111.824 376.12,-117.824 370.12,-117.824 370.12,-117.824 302.12,-117.824 302.12,-117.824 296.12,-117.824 290.12,-111.824 290.12,-105.824 290.12,-105.824 290.12,-93.8236 290.12,-93.8236 290.12,-87.8236 296.12,-81.8236 302.12,-81.8236\"/>\n",
       "<text text-anchor=\"middle\" x=\"336.12\" y=\"-97.0236\" font-family=\"Times New Roman,serif\" font-size=\"11.00\">carnivorous-plant</text>\n",
       "</g>\n",
       "<!-- plant&#45;&#45;carnivorous&#45;plant -->\n",
       "<g id=\"edge11\" class=\"edge\"><title>plant--carnivorous-plant</title>\n",
       "<path fill=\"none\" stroke=\"black\" stroke-width=\"0.5\" d=\"M476.777,-153.36C449.293,-142.899 411.629,-128.563 382.192,-117.359\"/>\n",
       "<polygon fill=\"none\" stroke=\"black\" stroke-width=\"0.5\" points=\"475.817,-156.739 486.408,-157.025 478.307,-150.197 475.817,-156.739\"/>\n",
       "</g>\n",
       "<!-- tasty&#45;plant -->\n",
       "<g id=\"node19\" class=\"node\"><title>tasty-plant</title>\n",
       "<path fill=\"aliceblue\" stroke=\"black\" stroke-width=\"0.5\" d=\"M605.836,-158.809C605.836,-158.809 643.836,-158.809 643.836,-158.809 649.836,-158.809 655.836,-164.809 655.836,-170.809 655.836,-170.809 655.836,-182.809 655.836,-182.809 655.836,-188.809 649.836,-194.809 643.836,-194.809 643.836,-194.809 605.836,-194.809 605.836,-194.809 599.836,-194.809 593.836,-188.809 593.836,-182.809 593.836,-182.809 593.836,-170.809 593.836,-170.809 593.836,-164.809 599.836,-158.809 605.836,-158.809\"/>\n",
       "<text text-anchor=\"middle\" x=\"624.836\" y=\"-174.009\" font-family=\"Times New Roman,serif\" font-size=\"11.00\">tasty-plant</text>\n",
       "</g>\n",
       "<!-- plant&#45;&#45;tasty&#45;plant -->\n",
       "<g id=\"edge14\" class=\"edge\"><title>plant--tasty-plant</title>\n",
       "<path fill=\"none\" stroke=\"black\" stroke-width=\"0.5\" d=\"M551.111,-170.591C564.921,-171.756 580.418,-173.063 593.627,-174.177\"/>\n",
       "<polygon fill=\"none\" stroke=\"black\" stroke-width=\"0.5\" points=\"551.204,-167.087 540.946,-169.734 550.616,-174.062 551.204,-167.087\"/>\n",
       "</g>\n",
       "<!-- grass -->\n",
       "<g id=\"node20\" class=\"node\"><title>grass</title>\n",
       "<path fill=\"aliceblue\" stroke=\"black\" stroke-width=\"0.5\" d=\"M442.726,-0.0850226C442.726,-0.0850226 472.726,-0.0850226 472.726,-0.0850226 478.726,-0.0850226 484.726,-6.08502 484.726,-12.085 484.726,-12.085 484.726,-24.085 484.726,-24.085 484.726,-30.085 478.726,-36.085 472.726,-36.085 472.726,-36.085 442.726,-36.085 442.726,-36.085 436.726,-36.085 430.726,-30.085 430.726,-24.085 430.726,-24.085 430.726,-12.085 430.726,-12.085 430.726,-6.08502 436.726,-0.0850226 442.726,-0.0850226\"/>\n",
       "<text text-anchor=\"middle\" x=\"457.726\" y=\"-15.285\" font-family=\"Times New Roman,serif\" font-size=\"11.00\">grass</text>\n",
       "</g>\n",
       "<!-- plant&#45;&#45;grass -->\n",
       "<g id=\"edge15\" class=\"edge\"><title>plant--grass</title>\n",
       "<path fill=\"none\" stroke=\"black\" stroke-width=\"0.5\" d=\"M503.441,-139.898C492.094,-109.663 474.204,-61.9926 464.511,-36.1649\"/>\n",
       "<polygon fill=\"none\" stroke=\"black\" stroke-width=\"0.5\" points=\"500.226,-141.294 507.017,-149.427 506.78,-138.834 500.226,-141.294\"/>\n",
       "</g>\n",
       "<!-- tree -->\n",
       "<g id=\"node25\" class=\"node\"><title>tree</title>\n",
       "<path fill=\"aliceblue\" stroke=\"black\" stroke-width=\"0.5\" d=\"M547.577,-254.331C547.577,-254.331 577.577,-254.331 577.577,-254.331 583.577,-254.331 589.577,-260.331 589.577,-266.331 589.577,-266.331 589.577,-278.331 589.577,-278.331 589.577,-284.331 583.577,-290.331 577.577,-290.331 577.577,-290.331 547.577,-290.331 547.577,-290.331 541.577,-290.331 535.577,-284.331 535.577,-278.331 535.577,-278.331 535.577,-266.331 535.577,-266.331 535.577,-260.331 541.577,-254.331 547.577,-254.331\"/>\n",
       "<text text-anchor=\"middle\" x=\"562.577\" y=\"-269.531\" font-family=\"Times New Roman,serif\" font-size=\"11.00\">tree</text>\n",
       "</g>\n",
       "<!-- plant&#45;&#45;tree -->\n",
       "<g id=\"edge20\" class=\"edge\"><title>plant--tree</title>\n",
       "<path fill=\"none\" stroke=\"black\" stroke-width=\"0.5\" d=\"M526.568,-194.934C535.285,-213.669 546.579,-237.944 554.175,-254.27\"/>\n",
       "<polygon fill=\"none\" stroke=\"black\" stroke-width=\"0.5\" points=\"529.67,-193.303 522.278,-185.713 523.323,-196.256 529.67,-193.303\"/>\n",
       "</g>\n",
       "<!-- elephant -->\n",
       "<g id=\"node14\" class=\"node\"><title>elephant</title>\n",
       "<path fill=\"aliceblue\" stroke=\"black\" stroke-width=\"0.5\" d=\"M786.862,-320.778C786.862,-320.778 816.862,-320.778 816.862,-320.778 822.862,-320.778 828.862,-326.778 828.862,-332.778 828.862,-332.778 828.862,-344.778 828.862,-344.778 828.862,-350.778 822.862,-356.778 816.862,-356.778 816.862,-356.778 786.862,-356.778 786.862,-356.778 780.862,-356.778 774.862,-350.778 774.862,-344.778 774.862,-344.778 774.862,-332.778 774.862,-332.778 774.862,-326.778 780.862,-320.778 786.862,-320.778\"/>\n",
       "<text text-anchor=\"middle\" x=\"801.862\" y=\"-335.978\" font-family=\"Times New Roman,serif\" font-size=\"11.00\">elephant</text>\n",
       "</g>\n",
       "<!-- herbivore&#45;&#45;elephant -->\n",
       "<g id=\"edge10\" class=\"edge\"><title>herbivore--elephant</title>\n",
       "<path fill=\"none\" stroke=\"black\" stroke-width=\"0.5\" d=\"M758.529,-480.84C769.224,-445.778 787.307,-386.496 796.357,-356.826\"/>\n",
       "<polygon fill=\"none\" stroke=\"black\" stroke-width=\"0.5\" points=\"755.163,-479.878 755.593,-490.464 761.859,-481.92 755.163,-479.878\"/>\n",
       "</g>\n",
       "<!-- Sophie&#45;01 -->\n",
       "<g id=\"node35\" class=\"node\"><title>Sophie-01</title>\n",
       "<path fill=\"whitesmoke\" stroke=\"black\" stroke-width=\"0.5\" d=\"M636.892,-526.638C636.892,-526.638 672.892,-526.638 672.892,-526.638 678.892,-526.638 684.892,-532.638 684.892,-538.638 684.892,-538.638 684.892,-550.638 684.892,-550.638 684.892,-556.638 678.892,-562.638 672.892,-562.638 672.892,-562.638 636.892,-562.638 636.892,-562.638 630.892,-562.638 624.892,-556.638 624.892,-550.638 624.892,-550.638 624.892,-538.638 624.892,-538.638 624.892,-532.638 630.892,-526.638 636.892,-526.638\"/>\n",
       "<text text-anchor=\"middle\" x=\"654.892\" y=\"-541.838\" font-family=\"Times New Roman,serif\" font-size=\"11.00\">Sophie-01</text>\n",
       "</g>\n",
       "<!-- herbivore&#45;&#45;Sophie&#45;01 -->\n",
       "<g id=\"edge34\" class=\"edge\"><title>herbivore--Sophie-01</title>\n",
       "<path fill=\"none\" stroke=\"black\" stroke-width=\"0.5\" stroke-dasharray=\"5,2\" d=\"M711.347,-523.282C702.599,-526.591 693.436,-530.058 685.098,-533.212\"/>\n",
       "<polygon fill=\"none\" stroke=\"black\" stroke-width=\"0.5\" points=\"712.866,-526.45 720.981,-519.638 710.39,-519.902 712.866,-526.45\"/>\n",
       "</g>\n",
       "<!-- berry -->\n",
       "<g id=\"node18\" class=\"node\"><title>berry</title>\n",
       "<path fill=\"aliceblue\" stroke=\"black\" stroke-width=\"0.5\" d=\"M221.824,-840.045C221.824,-840.045 251.824,-840.045 251.824,-840.045 257.824,-840.045 263.824,-846.045 263.824,-852.045 263.824,-852.045 263.824,-864.045 263.824,-864.045 263.824,-870.045 257.824,-876.045 251.824,-876.045 251.824,-876.045 221.824,-876.045 221.824,-876.045 215.824,-876.045 209.824,-870.045 209.824,-864.045 209.824,-864.045 209.824,-852.045 209.824,-852.045 209.824,-846.045 215.824,-840.045 221.824,-840.045\"/>\n",
       "<text text-anchor=\"middle\" x=\"236.824\" y=\"-855.245\" font-family=\"Times New Roman,serif\" font-size=\"11.00\">berry</text>\n",
       "</g>\n",
       "<!-- fruiting&#45;body&#45;&#45;berry -->\n",
       "<g id=\"edge13\" class=\"edge\"><title>fruiting-body--berry</title>\n",
       "<path fill=\"none\" stroke=\"black\" stroke-width=\"0.5\" d=\"M316.031,-754.29C296.685,-779.633 267.834,-817.424 250.815,-839.719\"/>\n",
       "<polygon fill=\"none\" stroke=\"black\" stroke-width=\"0.5\" points=\"318.911,-756.286 322.197,-746.213 313.347,-752.038 318.911,-756.286\"/>\n",
       "</g>\n",
       "<!-- apple -->\n",
       "<g id=\"node27\" class=\"node\"><title>apple</title>\n",
       "<path fill=\"aliceblue\" stroke=\"black\" stroke-width=\"0.5\" d=\"M461.283,-816.177C461.283,-816.177 491.283,-816.177 491.283,-816.177 497.283,-816.177 503.283,-822.177 503.283,-828.177 503.283,-828.177 503.283,-840.177 503.283,-840.177 503.283,-846.177 497.283,-852.177 491.283,-852.177 491.283,-852.177 461.283,-852.177 461.283,-852.177 455.283,-852.177 449.283,-846.177 449.283,-840.177 449.283,-840.177 449.283,-828.177 449.283,-828.177 449.283,-822.177 455.283,-816.177 461.283,-816.177\"/>\n",
       "<text text-anchor=\"middle\" x=\"476.283\" y=\"-831.377\" font-family=\"Times New Roman,serif\" font-size=\"11.00\">apple</text>\n",
       "</g>\n",
       "<!-- fruiting&#45;body&#45;&#45;apple -->\n",
       "<g id=\"edge24\" class=\"edge\"><title>fruiting-body--apple</title>\n",
       "<path fill=\"none\" stroke=\"black\" stroke-width=\"0.5\" d=\"M368.358,-752.617C393.866,-771.894 428.869,-798.346 452.01,-815.834\"/>\n",
       "<polygon fill=\"none\" stroke=\"black\" stroke-width=\"0.5\" points=\"370.191,-749.616 360.103,-746.379 365.971,-755.2 370.191,-749.616\"/>\n",
       "</g>\n",
       "<!-- giraffe&#45;&#45;Sophie&#45;01 -->\n",
       "<g id=\"edge33\" class=\"edge\"><title>giraffe--Sophie-01</title>\n",
       "<path fill=\"none\" stroke=\"black\" stroke-width=\"0.5\" stroke-dasharray=\"5,2\" d=\"M647.667,-584.714C648.989,-577.384 650.377,-569.681 651.58,-563.009\"/>\n",
       "<polygon fill=\"none\" stroke=\"black\" stroke-width=\"0.5\" points=\"644.2,-584.22 645.871,-594.682 651.089,-585.462 644.2,-584.22\"/>\n",
       "</g>\n",
       "<!-- lion -->\n",
       "<g id=\"node22\" class=\"node\"><title>lion</title>\n",
       "<path fill=\"aliceblue\" stroke=\"black\" stroke-width=\"0.5\" d=\"M982.639,-609.965C982.639,-609.965 1012.64,-609.965 1012.64,-609.965 1018.64,-609.965 1024.64,-615.965 1024.64,-621.965 1024.64,-621.965 1024.64,-633.965 1024.64,-633.965 1024.64,-639.965 1018.64,-645.965 1012.64,-645.965 1012.64,-645.965 982.639,-645.965 982.639,-645.965 976.639,-645.965 970.639,-639.965 970.639,-633.965 970.639,-633.965 970.639,-621.965 970.639,-621.965 970.639,-615.965 976.639,-609.965 982.639,-609.965\"/>\n",
       "<text text-anchor=\"middle\" x=\"997.639\" y=\"-625.165\" font-family=\"Times New Roman,serif\" font-size=\"11.00\">lion</text>\n",
       "</g>\n",
       "<!-- Leo&#45;01 -->\n",
       "<g id=\"node36\" class=\"node\"><title>Leo-01</title>\n",
       "<path fill=\"whitesmoke\" stroke=\"black\" stroke-width=\"0.5\" d=\"M783.232,-554.945C783.232,-554.945 813.232,-554.945 813.232,-554.945 819.232,-554.945 825.232,-560.945 825.232,-566.945 825.232,-566.945 825.232,-578.945 825.232,-578.945 825.232,-584.945 819.232,-590.945 813.232,-590.945 813.232,-590.945 783.232,-590.945 783.232,-590.945 777.232,-590.945 771.232,-584.945 771.232,-578.945 771.232,-578.945 771.232,-566.945 771.232,-566.945 771.232,-560.945 777.232,-554.945 783.232,-554.945\"/>\n",
       "<text text-anchor=\"middle\" x=\"798.232\" y=\"-570.145\" font-family=\"Times New Roman,serif\" font-size=\"11.00\">Leo-01</text>\n",
       "</g>\n",
       "<!-- lion&#45;&#45;Leo&#45;01 -->\n",
       "<g id=\"edge35\" class=\"edge\"><title>lion--Leo-01</title>\n",
       "<path fill=\"none\" stroke=\"black\" stroke-width=\"0.5\" stroke-dasharray=\"5,2\" d=\"M960.626,-617.753C921.453,-606.944 860.555,-590.141 825.53,-580.477\"/>\n",
       "<polygon fill=\"none\" stroke=\"black\" stroke-width=\"0.5\" points=\"959.76,-621.144 970.33,-620.43 961.622,-614.397 959.76,-621.144\"/>\n",
       "</g>\n",
       "<!-- carnivore&#45;&#45;lion -->\n",
       "<g id=\"edge17\" class=\"edge\"><title>carnivore--lion</title>\n",
       "<path fill=\"none\" stroke=\"black\" stroke-width=\"0.5\" d=\"M905.574,-554.68C927.115,-571.827 955.444,-594.377 974.959,-609.912\"/>\n",
       "<polygon fill=\"none\" stroke=\"black\" stroke-width=\"0.5\" points=\"907.687,-551.888 897.683,-548.399 903.327,-557.365 907.687,-551.888\"/>\n",
       "</g>\n",
       "<!-- Mary&#45;01 -->\n",
       "<g id=\"node33\" class=\"node\"><title>Mary-01</title>\n",
       "<path fill=\"whitesmoke\" stroke=\"black\" stroke-width=\"0.5\" d=\"M508.2,-421.686C508.2,-421.686 539.2,-421.686 539.2,-421.686 545.2,-421.686 551.2,-427.686 551.2,-433.686 551.2,-433.686 551.2,-445.686 551.2,-445.686 551.2,-451.686 545.2,-457.686 539.2,-457.686 539.2,-457.686 508.2,-457.686 508.2,-457.686 502.2,-457.686 496.2,-451.686 496.2,-445.686 496.2,-445.686 496.2,-433.686 496.2,-433.686 496.2,-427.686 502.2,-421.686 508.2,-421.686\"/>\n",
       "<text text-anchor=\"middle\" x=\"523.7\" y=\"-436.886\" font-family=\"Times New Roman,serif\" font-size=\"11.00\">Mary-01</text>\n",
       "</g>\n",
       "<!-- tree&#45;&#45;Mary&#45;01 -->\n",
       "<g id=\"edge31\" class=\"edge\"><title>tree--Mary-01</title>\n",
       "<path fill=\"none\" stroke=\"black\" stroke-width=\"0.5\" stroke-dasharray=\"5,2\" d=\"M556.042,-300.463C548.036,-334.928 534.703,-392.32 527.929,-421.48\"/>\n",
       "<polygon fill=\"none\" stroke=\"black\" stroke-width=\"0.5\" points=\"559.489,-301.092 558.343,-290.56 552.671,-299.508 559.489,-301.092\"/>\n",
       "</g>\n",
       "<!-- Leaf&#45;01 -->\n",
       "<g id=\"node34\" class=\"node\"><title>Leaf-01</title>\n",
       "<path fill=\"whitesmoke\" stroke=\"black\" stroke-width=\"0.5\" d=\"M504.376,-481.734C504.376,-481.734 534.376,-481.734 534.376,-481.734 540.376,-481.734 546.376,-487.734 546.376,-493.734 546.376,-493.734 546.376,-505.734 546.376,-505.734 546.376,-511.734 540.376,-517.734 534.376,-517.734 534.376,-517.734 504.376,-517.734 504.376,-517.734 498.376,-517.734 492.376,-511.734 492.376,-505.734 492.376,-505.734 492.376,-493.734 492.376,-493.734 492.376,-487.734 498.376,-481.734 504.376,-481.734\"/>\n",
       "<text text-anchor=\"middle\" x=\"519.376\" y=\"-496.934\" font-family=\"Times New Roman,serif\" font-size=\"11.00\">Leaf-01</text>\n",
       "</g>\n",
       "<!-- leaf&#45;&#45;Leaf&#45;01 -->\n",
       "<g id=\"edge32\" class=\"edge\"><title>leaf--Leaf-01</title>\n",
       "<path fill=\"none\" stroke=\"black\" stroke-width=\"0.5\" stroke-dasharray=\"5,2\" d=\"M406.598,-589.242C433.47,-567.915 471.935,-537.386 496.277,-518.066\"/>\n",
       "<polygon fill=\"none\" stroke=\"black\" stroke-width=\"0.5\" points=\"404.316,-586.585 398.659,-595.543 408.667,-592.068 404.316,-586.585\"/>\n",
       "</g>\n",
       "<!-- herb -->\n",
       "<g id=\"node29\" class=\"node\"><title>herb</title>\n",
       "<path fill=\"aliceblue\" stroke=\"black\" stroke-width=\"0.5\" d=\"M333.797,-292.846C333.797,-292.846 363.797,-292.846 363.797,-292.846 369.797,-292.846 375.797,-298.846 375.797,-304.846 375.797,-304.846 375.797,-316.846 375.797,-316.846 375.797,-322.846 369.797,-328.846 363.797,-328.846 363.797,-328.846 333.797,-328.846 333.797,-328.846 327.797,-328.846 321.797,-322.846 321.797,-316.846 321.797,-316.846 321.797,-304.846 321.797,-304.846 321.797,-298.846 327.797,-292.846 333.797,-292.846\"/>\n",
       "<text text-anchor=\"middle\" x=\"348.797\" y=\"-308.046\" font-family=\"Times New Roman,serif\" font-size=\"11.00\">herb</text>\n",
       "</g>\n",
       "<!-- herb&#45;&#45;plant&#45;part -->\n",
       "<g id=\"edge27\" class=\"edge\"><title>herb--plant-part</title>\n",
       "<path fill=\"none\" stroke=\"black\" stroke-width=\"0.5\" d=\"M349.386,-339.151C349.043,-362.667 346.594,-396.679 336.831,-424.659 328.093,-449.701 310.709,-474.899 298.027,-491.239\"/>\n",
       "<polygon fill=\"none\" stroke=\"black\" stroke-width=\"0.5\" points=\"352.885,-339.154 349.414,-329.144 345.885,-339.134 352.885,-339.154\"/>\n",
       "</g>\n",
       "<!-- herb&#45;&#45;plant -->\n",
       "<g id=\"edge26\" class=\"edge\"><title>herb--plant</title>\n",
       "<path fill=\"none\" stroke=\"black\" stroke-width=\"0.5\" d=\"M377.62,-285.792C410.627,-257.102 463.89,-210.805 493.053,-185.457\"/>\n",
       "<polygon fill=\"none\" stroke=\"black\" stroke-width=\"0.5\" points=\"374.943,-283.482 369.692,-292.684 379.535,-288.765 374.943,-283.482\"/>\n",
       "</g>\n",
       "<!-- Branch&#45;01&#45;&#45;Branch&#45;02 -->\n",
       "<g id=\"edge36\" class=\"edge\"><title>Branch-01--Branch-02</title>\n",
       "<path fill=\"none\" stroke=\"black\" stroke-width=\"0.5\" d=\"M417.828,-433.454C418.214,-432.37 418.586,-431.268 418.943,-430.158\"/>\n",
       "<polygon fill=\"black\" stroke=\"black\" stroke-width=\"0.5\" points=\"421.631,-420.167 423.378,-430.993 420.332,-424.996 419.032,-429.824 419.032,-429.824 419.032,-429.824 420.332,-424.996 414.687,-428.654 421.631,-420.167 421.631,-420.167\"/>\n",
       "<text text-anchor=\"middle\" x=\"400.426\" y=\"-421.41\" font-family=\"Times New Roman,serif\" font-size=\"11.00\">has-part</text>\n",
       "</g>\n",
       "<!-- Branch&#45;01&#45;&#45;Mary&#45;01 -->\n",
       "<g id=\"edge37\" class=\"edge\"><title>Branch-01--Mary-01</title>\n",
       "<path fill=\"none\" stroke=\"black\" stroke-width=\"0.5\" d=\"M437,-454.505C452.036,-453.825 470.113,-452.113 485.86,-449.912\"/>\n",
       "<polygon fill=\"black\" stroke=\"black\" stroke-width=\"0.5\" points=\"495.817,-448.401 486.606,-454.35 490.874,-449.151 485.93,-449.901 485.93,-449.901 485.93,-449.901 490.874,-449.151 485.255,-445.452 495.817,-448.401 495.817,-448.401\"/>\n",
       "<text text-anchor=\"middle\" x=\"466.66\" y=\"-443.435\" font-family=\"Times New Roman,serif\" font-size=\"11.00\">is-part-of</text>\n",
       "</g>\n",
       "<!-- Branch&#45;01&#45;&#45;Leaf&#45;01 -->\n",
       "<g id=\"edge38\" class=\"edge\"><title>Branch-01--Leaf-01</title>\n",
       "<path fill=\"none\" stroke=\"black\" stroke-width=\"0.5\" d=\"M432.628,-469.698C447.588,-476.98 466.312,-484.96 482.539,-490.998\"/>\n",
       "<polygon fill=\"black\" stroke=\"black\" stroke-width=\"0.5\" points=\"492.264,-494.484 481.332,-495.346 487.558,-492.797 482.851,-491.11 482.851,-491.11 482.851,-491.11 487.558,-492.797 484.369,-486.874 492.264,-494.484 492.264,-494.484\"/>\n",
       "<text text-anchor=\"middle\" x=\"443.85\" y=\"-486.223\" font-family=\"Times New Roman,serif\" font-size=\"11.00\">has-part</text>\n",
       "</g>\n",
       "<!-- Branch&#45;02&#45;&#45;Branch&#45;01 -->\n",
       "<g id=\"edge39\" class=\"edge\"><title>Branch-02--Branch-01</title>\n",
       "<path fill=\"none\" stroke=\"black\" stroke-width=\"0.5\" d=\"M407.966,-420.306C407.58,-421.39 407.208,-422.491 406.852,-423.602\"/>\n",
       "<polygon fill=\"black\" stroke=\"black\" stroke-width=\"0.5\" points=\"404.163,-433.592 402.416,-422.766 405.462,-428.764 406.762,-423.936 406.762,-423.936 406.762,-423.936 405.462,-428.764 411.107,-425.105 404.163,-433.592 404.163,-433.592\"/>\n",
       "<text text-anchor=\"middle\" x=\"427.368\" y=\"-426.75\" font-family=\"Times New Roman,serif\" font-size=\"11.00\">is-part-of</text>\n",
       "</g>\n",
       "<!-- Branch&#45;02&#45;&#45;Mary&#45;01 -->\n",
       "<g id=\"edge40\" class=\"edge\"><title>Branch-02--Mary-01</title>\n",
       "<path fill=\"none\" stroke=\"black\" stroke-width=\"0.5\" d=\"M451.556,-420.171C462.503,-424.689 474.922,-429.242 486.336,-432.926\"/>\n",
       "<polygon fill=\"black\" stroke=\"black\" stroke-width=\"0.5\" points=\"496.046,-435.918 485.164,-437.274 491.267,-434.446 486.489,-432.973 486.489,-432.973 486.489,-432.973 491.267,-434.446 487.814,-428.673 496.046,-435.918 496.046,-435.918\"/>\n",
       "<text text-anchor=\"middle\" x=\"473.756\" y=\"-419.86\" font-family=\"Times New Roman,serif\" font-size=\"11.00\">is-part-of</text>\n",
       "</g>\n",
       "<!-- Branch&#45;02&#45;&#45;Leaf&#45;01 -->\n",
       "<g id=\"edge41\" class=\"edge\"><title>Branch-02--Leaf-01</title>\n",
       "<path fill=\"none\" stroke=\"black\" stroke-width=\"0.5\" d=\"M432.009,-420.494C445.033,-435.856 466.615,-457.754 485.108,-474.686\"/>\n",
       "<polygon fill=\"black\" stroke=\"black\" stroke-width=\"0.5\" points=\"492.811,-481.605 482.364,-478.27 489.091,-478.264 485.371,-474.922 485.371,-474.922 485.371,-474.922 489.091,-478.264 488.379,-471.575 492.811,-481.605 492.811,-481.605\"/>\n",
       "<text text-anchor=\"middle\" x=\"479.874\" y=\"-455.115\" font-family=\"Times New Roman,serif\" font-size=\"11.00\">has-part</text>\n",
       "</g>\n",
       "<!-- Mary&#45;01&#45;&#45;Branch&#45;01 -->\n",
       "<g id=\"edge42\" class=\"edge\"><title>Mary-01--Branch-01</title>\n",
       "<path fill=\"none\" stroke=\"black\" stroke-width=\"0.5\" d=\"M495.951,-436.681C481.514,-437.171 463.562,-438.74 447.449,-440.847\"/>\n",
       "<polygon fill=\"black\" stroke=\"black\" stroke-width=\"0.5\" points=\"437.182,-442.303 446.451,-436.443 442.133,-441.601 447.083,-440.899 447.083,-440.899 447.083,-440.899 442.133,-441.601 447.715,-445.354 437.182,-442.303 437.182,-442.303\"/>\n",
       "<text text-anchor=\"middle\" x=\"466.462\" y=\"-429.894\" font-family=\"Times New Roman,serif\" font-size=\"11.00\">has-part</text>\n",
       "</g>\n",
       "<!-- Mary&#45;01&#45;&#45;Branch&#45;02 -->\n",
       "<g id=\"edge43\" class=\"edge\"><title>Mary-01--Branch-02</title>\n",
       "<path fill=\"none\" stroke=\"black\" stroke-width=\"0.5\" d=\"M495.971,-423.003C485.492,-418.56 473.334,-413.995 461.875,-410.173\"/>\n",
       "<polygon fill=\"black\" stroke=\"black\" stroke-width=\"0.5\" points=\"452.045,-407.028 462.941,-405.79 456.807,-408.552 461.569,-410.076 461.569,-410.076 461.569,-410.076 456.807,-408.552 460.198,-414.362 452.045,-407.028 452.045,-407.028\"/>\n",
       "<text text-anchor=\"middle\" x=\"492.89\" y=\"-405.742\" font-family=\"Times New Roman,serif\" font-size=\"11.00\">has-part</text>\n",
       "</g>\n",
       "<!-- Mary&#45;01&#45;&#45;Leaf&#45;01 -->\n",
       "<g id=\"edge44\" class=\"edge\"><title>Mary-01--Leaf-01</title>\n",
       "<path fill=\"none\" stroke=\"black\" stroke-width=\"0.5\" d=\"M516.07,-457.904C515.412,-462.139 514.935,-466.747 514.67,-471.305\"/>\n",
       "<polygon fill=\"black\" stroke=\"black\" stroke-width=\"0.5\" points=\"514.451,-481.654 510.164,-471.561 514.557,-476.655 514.663,-471.657 514.663,-471.657 514.663,-471.657 514.557,-476.655 519.162,-471.752 514.451,-481.654 514.451,-481.654\"/>\n",
       "<text text-anchor=\"middle\" x=\"533.25\" y=\"-461.222\" font-family=\"Times New Roman,serif\" font-size=\"11.00\">has-part</text>\n",
       "</g>\n",
       "<!-- Leaf&#45;01&#45;&#45;Branch&#45;01 -->\n",
       "<g id=\"edge45\" class=\"edge\"><title>Leaf-01--Branch-01</title>\n",
       "<path fill=\"none\" stroke=\"black\" stroke-width=\"0.5\" d=\"M492.319,-481.835C478.669,-475.177 461.831,-467.921 446.607,-462.089\"/>\n",
       "<polygon fill=\"black\" stroke=\"black\" stroke-width=\"0.5\" points=\"436.886,-458.484 447.827,-457.742 441.574,-460.223 446.262,-461.961 446.262,-461.961 446.262,-461.961 441.574,-460.223 444.697,-466.181 436.886,-458.484 436.886,-458.484\"/>\n",
       "<text text-anchor=\"middle\" x=\"485.4\" y=\"-472.655\" font-family=\"Times New Roman,serif\" font-size=\"11.00\">is-part-of</text>\n",
       "</g>\n",
       "<!-- Leaf&#45;01&#45;&#45;Branch&#45;02 -->\n",
       "<g id=\"edge46\" class=\"edge\"><title>Leaf-01--Branch-02</title>\n",
       "<path fill=\"none\" stroke=\"black\" stroke-width=\"0.5\" d=\"M507.881,-481.341C494.856,-465.98 473.274,-444.082 454.781,-427.15\"/>\n",
       "<polygon fill=\"black\" stroke=\"black\" stroke-width=\"0.5\" points=\"447.079,-420.231 457.525,-423.566 450.798,-423.572 454.518,-426.913 454.518,-426.913 454.518,-426.913 450.798,-423.572 451.511,-430.261 447.079,-420.231 447.079,-420.231\"/>\n",
       "<text text-anchor=\"middle\" x=\"458.015\" y=\"-453.12\" font-family=\"Times New Roman,serif\" font-size=\"11.00\">is-part-of</text>\n",
       "</g>\n",
       "<!-- Leaf&#45;01&#45;&#45;Mary&#45;01 -->\n",
       "<g id=\"edge47\" class=\"edge\"><title>Leaf-01--Mary-01</title>\n",
       "<path fill=\"none\" stroke=\"black\" stroke-width=\"0.5\" d=\"M527.005,-481.516C527.664,-477.281 528.141,-472.673 528.406,-468.115\"/>\n",
       "<polygon fill=\"black\" stroke=\"black\" stroke-width=\"0.5\" points=\"528.625,-457.765 532.912,-467.858 528.519,-462.764 528.413,-467.763 528.413,-467.763 528.413,-467.763 528.519,-462.764 523.914,-467.668 528.625,-457.765 528.625,-457.765\"/>\n",
       "<text text-anchor=\"middle\" x=\"548.826\" y=\"-472.598\" font-family=\"Times New Roman,serif\" font-size=\"11.00\">is-part-of</text>\n",
       "</g>\n",
       "<!-- Leaf&#45;01&#45;&#45;Sophie&#45;01 -->\n",
       "<g id=\"edge48\" class=\"edge\"><title>Leaf-01--Sophie-01</title>\n",
       "<path fill=\"none\" stroke=\"black\" stroke-width=\"0.5\" d=\"M546.668,-514.737C566.23,-522.56 592.881,-531.56 614.845,-537.836\"/>\n",
       "<polygon fill=\"black\" stroke=\"black\" stroke-width=\"0.5\" points=\"624.564,-540.514 613.728,-542.196 619.744,-539.186 614.924,-537.858 614.924,-537.858 614.924,-537.858 619.744,-539.186 616.119,-533.519 624.564,-540.514 624.564,-540.514\"/>\n",
       "<text text-anchor=\"middle\" x=\"560.928\" y=\"-531.932\" font-family=\"Times New Roman,serif\" font-size=\"11.00\">is-eaten-by</text>\n",
       "</g>\n",
       "<!-- Sophie&#45;01&#45;&#45;Leaf&#45;01 -->\n",
       "<g id=\"edge49\" class=\"edge\"><title>Sophie-01--Leaf-01</title>\n",
       "<path fill=\"none\" stroke=\"black\" stroke-width=\"0.5\" d=\"M624.613,-528.453C604.437,-520.547 577.803,-511.666 556.373,-505.673\"/>\n",
       "<polygon fill=\"black\" stroke=\"black\" stroke-width=\"0.5\" points=\"546.628,-503.059 557.453,-501.304 551.458,-504.355 556.287,-505.65 556.287,-505.65 556.287,-505.65 551.458,-504.355 555.12,-509.997 546.628,-503.059 546.628,-503.059\"/>\n",
       "<text text-anchor=\"middle\" x=\"576.455\" y=\"-517.892\" font-family=\"Times New Roman,serif\" font-size=\"11.00\">eats</text>\n",
       "</g>\n",
       "<!-- Sophie&#45;01&#45;&#45;Leo&#45;01 -->\n",
       "<g id=\"edge50\" class=\"edge\"><title>Sophie-01--Leo-01</title>\n",
       "<path fill=\"none\" stroke=\"black\" stroke-width=\"0.5\" d=\"M684.894,-556.351C707.015,-562.076 737.243,-568.139 760.921,-571.644\"/>\n",
       "<polygon fill=\"black\" stroke=\"black\" stroke-width=\"0.5\" points=\"770.955,-573.022 760.435,-576.119 766.001,-572.342 761.048,-571.661 761.048,-571.661 761.048,-571.661 766.001,-572.342 761.66,-567.203 770.955,-573.022 770.955,-573.022\"/>\n",
       "<text text-anchor=\"middle\" x=\"703.433\" y=\"-569.139\" font-family=\"Times New Roman,serif\" font-size=\"11.00\">is-eaten-by</text>\n",
       "</g>\n",
       "<!-- Leo&#45;01&#45;&#45;Sophie&#45;01 -->\n",
       "<g id=\"edge51\" class=\"edge\"><title>Leo-01--Sophie-01</title>\n",
       "<path fill=\"none\" stroke=\"black\" stroke-width=\"0.5\" d=\"M770.979,-561.953C749.554,-556.258 719.394,-550.104 695.183,-546.389\"/>\n",
       "<polygon fill=\"black\" stroke=\"black\" stroke-width=\"0.5\" points=\"685.214,-544.955 695.753,-541.925 690.164,-545.667 695.113,-546.379 695.113,-546.379 695.113,-546.379 690.164,-545.667 694.472,-550.833 685.214,-544.955 685.214,-544.955\"/>\n",
       "<text text-anchor=\"middle\" x=\"719.023\" y=\"-555.499\" font-family=\"Times New Roman,serif\" font-size=\"11.00\">eats</text>\n",
       "</g>\n",
       "</g>\n",
       "</svg>"
      ],
      "text/plain": [
       "<IPython.core.display.SVG object>"
      ]
     },
     "execution_count": 18,
     "metadata": {},
     "output_type": "execute_result"
    }
   ],
   "source": [
    "onto.draw_graph(layout=\"force directed\")"
   ]
  },
  {
   "cell_type": "code",
   "execution_count": null,
   "metadata": {},
   "outputs": [],
   "source": [
    "q1_edit = CnlQueryForConcept('query_01.encnl',onto=onto)\n",
    "q1_edit"
   ]
  },
  {
   "cell_type": "code",
   "execution_count": null,
   "metadata": {},
   "outputs": [],
   "source": [
    "onto.select_instances_of(q1_edit.getvalue())"
   ]
  },
  {
   "cell_type": "code",
   "execution_count": null,
   "metadata": {},
   "outputs": [],
   "source": [
    "print(onto.why(\"Leo-01 is an animal?\"))"
   ]
  },
  {
   "cell_type": "code",
   "execution_count": null,
   "metadata": {},
   "outputs": [],
   "source": [
    "onto.sparql_query(CQL(\"\"\"select ?a1 ?a2 {\n",
    "                            ?a1 rdf:type <animal>. \n",
    "                            ?a2 rdf:type <animal>. \n",
    "                            ?a1 <eats> ?a2. \n",
    "                        }\"\"\",\"http://cognitum.eu/african_wildlife#\"))"
   ]
  },
  {
   "cell_type": "code",
   "execution_count": null,
   "metadata": {},
   "outputs": [],
   "source": []
  },
  {
   "cell_type": "code",
   "execution_count": null,
   "metadata": {},
   "outputs": [],
   "source": []
  },
  {
   "cell_type": "code",
   "execution_count": null,
   "metadata": {},
   "outputs": [],
   "source": []
  }
 ],
 "metadata": {
  "kernelspec": {
   "display_name": "Python 3",
   "language": "python",
   "name": "python3"
  },
  "language_info": {
   "codemirror_mode": {
    "name": "ipython",
    "version": 3
   },
   "file_extension": ".py",
   "mimetype": "text/x-python",
   "name": "python",
   "nbconvert_exporter": "python",
   "pygments_lexer": "ipython3",
   "version": "3.8.3"
  },
  "widgets": {
   "application/vnd.jupyter.widget-state+json": {
    "state": {
     "01732923acd64d0b80804b86a06086a6": {
      "model_module": "@jupyter-widgets/controls",
      "model_module_version": "1.4.0",
      "model_name": "VBoxModel",
      "state": {
       "children": [
        "IPY_MODEL_5143fe6b6b2e4bdbb95db4836c07f69f",
        "IPY_MODEL_c7c7716cd5034ec7a3235e29964fa9d9"
       ],
       "layout": "IPY_MODEL_48a844c1f16d4e0f89888a38f9f871b1"
      }
     },
     "0287b64412d1476fac61df9b498195e0": {
      "model_module": "@jupyter-widgets/base",
      "model_module_version": "1.1.0",
      "model_name": "LayoutModel",
      "state": {}
     },
     "037f1754f4dd4ad58c88763c16de89de": {
      "model_module": "@jupyter-widgets/base",
      "model_module_version": "1.1.0",
      "model_name": "LayoutModel",
      "state": {
       "height": "100%",
       "width": "90%"
      }
     },
     "03b3c5826e9e462fa8102da3a1b543ee": {
      "model_module": "@jupyter-widgets/controls",
      "model_module_version": "1.4.0",
      "model_name": "VBoxModel",
      "state": {
       "children": [
        "IPY_MODEL_0e81ba53de50448cba0d67cc1b204ea3",
        "IPY_MODEL_edfd7c1406474ef8b6008fa01533a9f1"
       ],
       "layout": "IPY_MODEL_0c03d2ee143c402dbf620710558f3c20"
      }
     },
     "0529b65148e34a3f84378822394dbb23": {
      "model_module": "@jupyter-widgets/output",
      "model_module_version": "1.0.0",
      "model_name": "OutputModel",
      "state": {
       "layout": "IPY_MODEL_e87806312d1343ce83bb2bb743ba1b80"
      }
     },
     "075ca95d3ff64fdf8542061a5f907fdc": {
      "model_module": "ontoedit",
      "model_module_version": "1.1.0",
      "model_name": "OntoeditModel",
      "state": {
       "_model_module_version": "1.1.0",
       "_view_module_version": "",
       "layout": "IPY_MODEL_ac2b910f6f714657b031543b3c3820f6",
       "value": "Namespace: 'http://cognitum.eu/african_wildlife'.\n\nComment: 'Lets name our instances'.\nComment: 'Lets specify the hierarchy of beings'. \nComment: 'What is what?'.\nEvery ma\nEvery lion is an animal.\nEvery giraffe is an animal.\n\nComment: 'Moreover'.\nEvery impala is an animal.\nEvery omnivore is an animal. \nEvery rock-dassie is an animal.\nEvery warthog is an animal.\nEvery carnivore is an animal.\nEvery herbivore is an animal.\nEvery elephant is a herbivore.\nEvery lion is carnivore.\n\nComment: 'There are also plants there:'.\nEvery tree is a plant.\nEvery grass is a plant.\nEvery palm-tree is a plant.\n\nEvery branch is a plant-part.\nEvery leaf is a plant-part.\nEvery twig is a plant-part.\n\nEvery phloem is a plant-part.\nEvery root is a plant-part.\nEvery parsnip is a root.\nEvery stem is a plant-part.\nEvery xylem is a plant-part.\nEvery fruiting-body is a plant-part.\nEvery berry is a fruiting-body.\nEvery apple is a fruiting-body.\n\nComment: 'We cannot use adjectives directly. To specify adjectives we need to transform them into sets that have form of buzzy-words'.\nEvery tasty-plant is a plant.\nEvery carnivorous-plant is a plant.\n"
      }
     },
     "08826d1d1e2d4efa9364b5d2bafa3c93": {
      "model_module": "@jupyter-widgets/base",
      "model_module_version": "1.1.0",
      "model_name": "LayoutModel",
      "state": {
       "height": "300px"
      }
     },
     "08a658b923de47b7add2517b8353da1a": {
      "model_module": "@jupyter-widgets/base",
      "model_module_version": "1.1.0",
      "model_name": "LayoutModel",
      "state": {}
     },
     "08c30bf83c284e6ebe21cc3249cd99ba": {
      "model_module": "ontoedit",
      "model_module_version": "1.1.0",
      "model_name": "OntoeditModel",
      "state": {
       "_model_module_version": "1.1.0",
       "_view_module_version": "",
       "cursor": 191,
       "hints": "Every<br/>Every-single-thing<br/>If<br/>Leo-01<br/>Mary-01<br/>No<br/>Nothing<br/>Something<br/>Sophie-01<br/>The<br/>X",
       "hintsX": 191,
       "layout": "IPY_MODEL_951c1fa30fea488a8ae1578cede4b5fe",
       "value": "Every carnivorous-plant must eat an animal.\nEvery carnivor must eat an animal.\nEvery omnivore must eat a plant.\nEvery branch must be-part-of a tree.\nEvery plant-part must be-part-of a plant.\n\nComment: 'Role equivalence and inverted roles'.\nX has-part Y if-and-only-if Y is-part-of X.\nX eats Y if-and-only-if Y is-eaten-by X.\n\nComment: 'Role subsumptions'.\nIf X is-part-of Y then X is-part-of Y.\nIf X has-part something that has-part Y then X has-part Y.\n\nComment: 'Complex role subsumptions'.\nIf X is-part-of something that is-part-of Y then X is-part-of Y.\n"
      }
     },
     "0c03d2ee143c402dbf620710558f3c20": {
      "model_module": "@jupyter-widgets/base",
      "model_module_version": "1.1.0",
      "model_name": "LayoutModel",
      "state": {
       "height": "100px"
      }
     },
     "0cfbf011af6241ebbcc675d701aac5be": {
      "model_module": "@jupyter-widgets/controls",
      "model_module_version": "1.4.0",
      "model_name": "VBoxModel",
      "state": {
       "children": [
        "IPY_MODEL_99075eefb8ad4a5087de5fbfbb2e2a8c",
        "IPY_MODEL_26cf7a97df4f42b6af33ce787196e2da"
       ],
       "layout": "IPY_MODEL_4aafc9319e7743f8985cdc669f22cab5"
      }
     },
     "0e81ba53de50448cba0d67cc1b204ea3": {
      "model_module": "ontoedit",
      "model_module_version": "1.1.0",
      "model_name": "OntoeditModel",
      "state": {
       "_model_module_version": "1.1.0",
       "_view_module_version": "",
       "layout": "IPY_MODEL_a270637c9421471a86a1a5fb0c90358f",
       "value": "eaten by Leo-01"
      }
     },
     "0ee45e2151a74dfeb632f8622dfa620d": {
      "model_module": "@jupyter-widgets/base",
      "model_module_version": "1.1.0",
      "model_name": "LayoutModel",
      "state": {
       "height": "100%",
       "width": "90%"
      }
     },
     "0ee4e8ad62ab43f4b5b438a66a7f42b5": {
      "model_module": "@jupyter-widgets/base",
      "model_module_version": "1.1.0",
      "model_name": "LayoutModel",
      "state": {
       "height": "300px"
      }
     },
     "156d68322d1e4dd3a0fbfab1be1688bf": {
      "model_module": "@jupyter-widgets/output",
      "model_module_version": "1.0.0",
      "model_name": "OutputModel",
      "state": {
       "layout": "IPY_MODEL_585c9fe15e494126a1116a5e5f8e87e4"
      }
     },
     "1786ad24fa9d463aa9ad86dcacd6b971": {
      "model_module": "@jupyter-widgets/base",
      "model_module_version": "1.1.0",
      "model_name": "LayoutModel",
      "state": {}
     },
     "17f3ad9162db4104a65795f20d5f0075": {
      "model_module": "@jupyter-widgets/base",
      "model_module_version": "1.1.0",
      "model_name": "LayoutModel",
      "state": {
       "height": "100%",
       "width": "90%"
      }
     },
     "194e683e49954beab66c82f87eec0560": {
      "model_module": "ontoedit",
      "model_module_version": "1.1.0",
      "model_name": "OntoeditModel",
      "state": {
       "_model_module_version": "1.1.0",
       "_view_module_version": "",
       "cursor": 15,
       "hints": "&lt;natural number&gt;",
       "hintsX": 9,
       "layout": "IPY_MODEL_54500e1db47043b29c2725eaf17f81f6",
       "value": "eaten by Leo-01"
      }
     },
     "197ff87aa0754c10a5bf9d6054ec2664": {
      "model_module": "@jupyter-widgets/controls",
      "model_module_version": "1.4.0",
      "model_name": "VBoxModel",
      "state": {
       "children": [
        "IPY_MODEL_416b7202da814b9095cb90fed53606c3",
        "IPY_MODEL_dd75b77ca52a43a9868c62b289a4e4e1"
       ],
       "layout": "IPY_MODEL_c7fe458b7f814978a92e90b0b53c295c"
      }
     },
     "1a817713ce83451c8259b7b8600da6fb": {
      "model_module": "@jupyter-widgets/base",
      "model_module_version": "1.1.0",
      "model_name": "LayoutModel",
      "state": {
       "height": "100%",
       "width": "90%"
      }
     },
     "1d27dea574734e228e02e981579f0e48": {
      "model_module": "ontoedit",
      "model_module_version": "1.1.0",
      "model_name": "OntoeditModel",
      "state": {
       "_model_module_version": "1.1.0",
       "_view_module_version": "",
       "layout": "IPY_MODEL_037f1754f4dd4ad58c88763c16de89de",
       "value": "Sophie loves Leo.\nLeo loves Sophie."
      }
     },
     "22275249b4964692bbda1b6c7faf7f47": {
      "model_module": "@jupyter-widgets/controls",
      "model_module_version": "1.4.0",
      "model_name": "VBoxModel",
      "state": {
       "children": [
        "IPY_MODEL_670789803c044d699064f4d8d85c169a",
        "IPY_MODEL_b3aca64dc8c740feae0ac17d0679814c"
       ],
       "layout": "IPY_MODEL_9b0f9a23e3574472b084a63a42c18088"
      }
     },
     "2401f4a10a284f68920b1eb13a0ef3f1": {
      "model_module": "@jupyter-widgets/output",
      "model_module_version": "1.0.0",
      "model_name": "OutputModel",
      "state": {
       "layout": "IPY_MODEL_d810833472c54ff1a38f821261445bdb"
      }
     },
     "260916fd573c4e118c8d6fdeed6c1d4d": {
      "model_module": "@jupyter-widgets/base",
      "model_module_version": "1.1.0",
      "model_name": "LayoutModel",
      "state": {
       "height": "300px"
      }
     },
     "26cf7a97df4f42b6af33ce787196e2da": {
      "model_module": "@jupyter-widgets/output",
      "model_module_version": "1.0.0",
      "model_name": "OutputModel",
      "state": {
       "layout": "IPY_MODEL_c370339aafb24857915cb2b2d2ab7980"
      }
     },
     "27ad5c8d383e457a9920d5cb29f64853": {
      "model_module": "@jupyter-widgets/output",
      "model_module_version": "1.0.0",
      "model_name": "OutputModel",
      "state": {
       "layout": "IPY_MODEL_df59fa382ea5464699bf03b221ac05e1"
      }
     },
     "27cf37417f84476da68ac933a85143a5": {
      "model_module": "ontoedit",
      "model_module_version": "1.1.0",
      "model_name": "OntoeditModel",
      "state": {
       "_model_module_version": "1.1.0",
       "_view_module_version": "",
       "layout": "IPY_MODEL_6834615b88754ba992949979ad4896da",
       "value": "eaten by Leo-01"
      }
     },
     "282ed86a1e9f475ab92778daa6256ae2": {
      "model_module": "@jupyter-widgets/base",
      "model_module_version": "1.1.0",
      "model_name": "LayoutModel",
      "state": {
       "height": "300px"
      }
     },
     "2a02773588a34d31a60ab56ea873ef24": {
      "model_module": "@jupyter-widgets/base",
      "model_module_version": "1.1.0",
      "model_name": "LayoutModel",
      "state": {
       "height": "100%",
       "width": "90%"
      }
     },
     "2a57077dcfc6408f910fcdd1069fb533": {
      "model_module": "@jupyter-widgets/base",
      "model_module_version": "1.1.0",
      "model_name": "LayoutModel",
      "state": {
       "height": "100px"
      }
     },
     "2b1178c8982c4d7f8bd00f05c2a0ab9f": {
      "model_module": "@jupyter-widgets/base",
      "model_module_version": "1.1.0",
      "model_name": "LayoutModel",
      "state": {
       "height": "100%",
       "width": "90%"
      }
     },
     "2ee595c943434b3288bd80d13a391707": {
      "model_module": "@jupyter-widgets/output",
      "model_module_version": "1.0.0",
      "model_name": "OutputModel",
      "state": {
       "layout": "IPY_MODEL_6b665fd9cf6b45d0ade1db84533996f4"
      }
     },
     "30b370db0cbd4590a28eeacadd095188": {
      "model_module": "@jupyter-widgets/controls",
      "model_module_version": "1.4.0",
      "model_name": "VBoxModel",
      "state": {
       "children": [
        "IPY_MODEL_540624d791b04c72a5f6de35ef203a09",
        "IPY_MODEL_5b7a7dc340b8488b8d7616e1a0e4e954"
       ],
       "layout": "IPY_MODEL_6b3a1654ff064f0aaf274b3478288a8f"
      }
     },
     "31401dde148b42c6b6dee0ee84db65b2": {
      "model_module": "@jupyter-widgets/base",
      "model_module_version": "1.1.0",
      "model_name": "LayoutModel",
      "state": {
       "height": "100%",
       "width": "90%"
      }
     },
     "31f03381b8af43c8b7b31448e2494891": {
      "model_module": "@jupyter-widgets/controls",
      "model_module_version": "1.4.0",
      "model_name": "VBoxModel",
      "state": {
       "children": [
        "IPY_MODEL_830d5ee0e72742cbb9c50e698f8db857",
        "IPY_MODEL_87dbf123720c4818bdda118bfdbb7cda"
       ],
       "layout": "IPY_MODEL_798ac8c8baa148b68188dc60d84de5fe"
      }
     },
     "34a127ddc9f3425d855562e734e8582e": {
      "model_module": "@jupyter-widgets/base",
      "model_module_version": "1.1.0",
      "model_name": "LayoutModel",
      "state": {
       "height": "100%",
       "width": "90%"
      }
     },
     "355b5ed96daf48f38e261d20f99eb26b": {
      "model_module": "@jupyter-widgets/controls",
      "model_module_version": "1.4.0",
      "model_name": "VBoxModel",
      "state": {
       "children": [
        "IPY_MODEL_8b7f1503cd5d4af7bedb96db2bc9826b",
        "IPY_MODEL_3d934eb24f9b4005b831504a0e4baa3e"
       ],
       "layout": "IPY_MODEL_0ee4e8ad62ab43f4b5b438a66a7f42b5"
      }
     },
     "379b403b772848b184590efb077753db": {
      "model_module": "@jupyter-widgets/base",
      "model_module_version": "1.1.0",
      "model_name": "LayoutModel",
      "state": {}
     },
     "38238e85b5bb4623a8ef8b3af0729a67": {
      "model_module": "@jupyter-widgets/base",
      "model_module_version": "1.1.0",
      "model_name": "LayoutModel",
      "state": {}
     },
     "3d934eb24f9b4005b831504a0e4baa3e": {
      "model_module": "@jupyter-widgets/output",
      "model_module_version": "1.0.0",
      "model_name": "OutputModel",
      "state": {
       "layout": "IPY_MODEL_f2dac51fb55347f2bf9f5f781b9e4558"
      }
     },
     "3e2147d0702741bbb1963715683ba2ff": {
      "model_module": "@jupyter-widgets/output",
      "model_module_version": "1.0.0",
      "model_name": "OutputModel",
      "state": {
       "layout": "IPY_MODEL_55f4f87242224575b52e41afa40e5e2d"
      }
     },
     "4039c44a6b81427881c64dbe368c3771": {
      "model_module": "@jupyter-widgets/controls",
      "model_module_version": "1.4.0",
      "model_name": "VBoxModel",
      "state": {
       "children": [
        "IPY_MODEL_7ffcc5da836a4772ad6190ded79997f7",
        "IPY_MODEL_156d68322d1e4dd3a0fbfab1be1688bf"
       ],
       "layout": "IPY_MODEL_282ed86a1e9f475ab92778daa6256ae2"
      }
     },
     "416b7202da814b9095cb90fed53606c3": {
      "model_module": "ontoedit",
      "model_module_version": "1.1.0",
      "model_name": "OntoeditModel",
      "state": {
       "_model_module_version": "1.1.0",
       "_view_module_version": "",
       "layout": "IPY_MODEL_bfdcdc39eeb04946a97cd9562372bc04",
       "value": "Sophie loves Leo.\nLeo loves Sophie."
      }
     },
     "42805aa70f7945db96a25007c189bac0": {
      "model_module": "ontoedit",
      "model_module_version": "1.1.0",
      "model_name": "OntoeditModel",
      "state": {
       "_model_module_version": "1.1.0",
       "_view_module_version": "",
       "layout": "IPY_MODEL_d8f23781ffc74fb797fe78016d7b58e4",
       "value": "Every-single-thing that is a plant and-or is a plant-part is a herb.\nNo herb is an animal.\n\nEvery carnivore eats nothing-but animals.\nEvery lion eats nothing-but herbivores.\n\nEvery herbivore eats nothing-but herb.\n\nAnything either is a carnivore, is a herbivore or is an omnivore or-something-else.\nAnything either is a branch, is a leaf or is a twig or-something-else.\n\nNo giraffe is a lion.\nEvery palm-tree is not a tree.\n"
      }
     },
     "43ef90ea44f7483cae76acd6a8bf06db": {
      "model_module": "@jupyter-widgets/base",
      "model_module_version": "1.1.0",
      "model_name": "LayoutModel",
      "state": {
       "height": "100px"
      }
     },
     "44f37380178d4fa0a074af10221c17fa": {
      "model_module": "@jupyter-widgets/base",
      "model_module_version": "1.1.0",
      "model_name": "LayoutModel",
      "state": {
       "height": "100%",
       "width": "90%"
      }
     },
     "4636ed4b6a9b4aa29f2b8c9efe57f732": {
      "model_module": "ontoedit",
      "model_module_version": "1.1.0",
      "model_name": "OntoeditModel",
      "state": {
       "_model_module_version": "1.1.0",
       "_view_module_version": "",
       "cursor": 199,
       "hints": "Branch-01<br/>Every<br/>Every-single-thing<br/>If<br/>Leo-01<br/>Mary-01<br/>No<br/>Nothing<br/>Something<br/>Sophie-01<br/>The<br/>X",
       "hintsX": 199,
       "layout": "IPY_MODEL_6bc39517a9044c0d95ed9158711c5ff5",
       "value": "Leo-01 is a lion.\nLeo-01 eats Sophie-01.\nSophie-01 is a giraffe.\nSophie-01 eats Leaf-01.\nMary-01 is a tree.\nLeaf-01 is a leaf and is-part-of Branch-02.\nBranch-02 is a branch and is-part-of Branch-01.\nBranch-01 is a branch and is-part-of Mary-01.\nBranch-03 is a branch."
      }
     },
     "46b6bc391f7d47cb95796e1c5effa3cb": {
      "model_module": "@jupyter-widgets/base",
      "model_module_version": "1.1.0",
      "model_name": "LayoutModel",
      "state": {
       "height": "300px"
      }
     },
     "48a844c1f16d4e0f89888a38f9f871b1": {
      "model_module": "@jupyter-widgets/base",
      "model_module_version": "1.1.0",
      "model_name": "LayoutModel",
      "state": {
       "height": "300px"
      }
     },
     "490fd126b35c4016a45f2265268f5ef0": {
      "model_module": "ontoedit",
      "model_module_version": "1.1.0",
      "model_name": "OntoeditModel",
      "state": {
       "_model_module_version": "1.1.0",
       "_view_module_version": "",
       "layout": "IPY_MODEL_2a02773588a34d31a60ab56ea873ef24",
       "value": "Every carnivorous-plant must eat an animal.\nEvery carnivor must eat an animal.\nEvery omnivore must eat a plant.\nEvery branch must be-part-of a tree.\nEvery plant-part must be-part-of a plant.\n\nComment: 'Role equivalence and inverted roles'.\nX has-part Y if-and-only-if Y is-part-of X.\nX eats Y if-and-only-if Y is-eaten-by X.\n\nComment: 'Role subsumptions'.\nIf X is-part-of Y then X is-part-of Y.\nIf X has-part something that has-part Y then X has-part Y.\n\nComment: 'Complex role subsumptions'.\nIf X is-part-of something that is-part-of Y then X is-part-of Y.\n"
      }
     },
     "4974f63235624cb0950d09b959338aac": {
      "model_module": "@jupyter-widgets/controls",
      "model_module_version": "1.4.0",
      "model_name": "VBoxModel",
      "state": {
       "children": [
        "IPY_MODEL_4636ed4b6a9b4aa29f2b8c9efe57f732",
        "IPY_MODEL_8f2ee93c18ed4583894db21311e14ed9"
       ],
       "layout": "IPY_MODEL_df45bd0d614e4f8dbc1d38058dc993e7"
      }
     },
     "4a322469244d444ca5d1bcb372403f27": {
      "model_module": "@jupyter-widgets/base",
      "model_module_version": "1.1.0",
      "model_name": "LayoutModel",
      "state": {
       "height": "100%",
       "width": "90%"
      }
     },
     "4a569f7988e8471dafe05c22d22bd4ea": {
      "model_module": "ontoedit",
      "model_module_version": "1.1.0",
      "model_name": "OntoeditModel",
      "state": {
       "_model_module_version": "1.1.0",
       "_view_module_version": "",
       "cursor": 173,
       "hints": "&lt;Proper-Name&gt;<br/>Every<br/>Every-single-thing<br/>If<br/>No<br/>Nothing<br/>Something<br/>The<br/>X",
       "hintsX": 173,
       "layout": "IPY_MODEL_4a322469244d444ca5d1bcb372403f27",
       "value": "Every-single-thing that is a plant and-or is a plant-part is a herb.\nNo herb is an animal.\n\nEvery carnivore eats nothing-but animals.\nEvery lion eats nothing-but herbivores.\n\nEvery herbivore eats nothing-but herb.\n\nAnything either is a carnivore, is a herbivore or is an omnivore or-something-else.\nAnything either is a branch, is a leaf or is a twig or-something-else.\n\nNo giraffe is a lion.\nEvery palm-tree is not a tree.\n"
      }
     },
     "4aafc9319e7743f8985cdc669f22cab5": {
      "model_module": "@jupyter-widgets/base",
      "model_module_version": "1.1.0",
      "model_name": "LayoutModel",
      "state": {
       "height": "300px"
      }
     },
     "4d3213ec0b2c4ad69c1a66a3369ab474": {
      "model_module": "@jupyter-widgets/controls",
      "model_module_version": "1.4.0",
      "model_name": "VBoxModel",
      "state": {
       "children": [
        "IPY_MODEL_e736dda042e74aac96c321bed782241e",
        "IPY_MODEL_7cb5ce8716bf4a209b03b4910d97a0e2"
       ],
       "layout": "IPY_MODEL_6dfbc4a9245c453fb126ea93c284477f"
      }
     },
     "4f0a97990f8943818fc14ed4fd385830": {
      "model_module": "@jupyter-widgets/output",
      "model_module_version": "1.0.0",
      "model_name": "OutputModel",
      "state": {
       "layout": "IPY_MODEL_ea50e21fc54b4d97b922faa6337bdfe7"
      }
     },
     "50e4b95344d64a99b4f7543b017bf5a4": {
      "model_module": "@jupyter-widgets/base",
      "model_module_version": "1.1.0",
      "model_name": "LayoutModel",
      "state": {
       "height": "300px"
      }
     },
     "50f1befbf50548f9869037abe911c6c2": {
      "model_module": "@jupyter-widgets/output",
      "model_module_version": "1.0.0",
      "model_name": "OutputModel",
      "state": {
       "layout": "IPY_MODEL_d9c2b88b505b48a4b6c2c57cd93f7776"
      }
     },
     "5143fe6b6b2e4bdbb95db4836c07f69f": {
      "model_module": "ontoedit",
      "model_module_version": "1.1.0",
      "model_name": "OntoeditModel",
      "state": {
       "_model_module_version": "1.1.0",
       "_view_module_version": "",
       "layout": "IPY_MODEL_31401dde148b42c6b6dee0ee84db65b2",
       "value": "Leo-01 is a lion.\nLeo-01 eats Sophie-01.\nSophie-01 is a giraffe.\nLeo-01 eats Mary-01.\nMary-01 is a palm-tree.\n"
      }
     },
     "540624d791b04c72a5f6de35ef203a09": {
      "model_module": "ontoedit",
      "model_module_version": "1.1.0",
      "model_name": "OntoeditModel",
      "state": {
       "_model_module_version": "1.1.0",
       "_view_module_version": "",
       "cursor": 171,
       "hintT": "!!!SYNTAX ERROR!!!",
       "hints": "!!!SYNTAX ERROR!!!",
       "hintsX": 169,
       "layout": "IPY_MODEL_0ee45e2151a74dfeb632f8622dfa620d",
       "value": "Namespace: 'http://cognitum.eu/african_wildlife'.\n\nComment: 'Lets name our instances'.\nComment: 'Lets specify the hierarchy of beings'. \nComment: 'What is what?'.\nEvery ma\nEvery lion is an animal.\nEvery giraffe is an animal.\n\nComment: 'Moreover'.\nEvery impala is an animal.\nEvery omnivore is an animal. \nEvery rock-dassie is an animal.\nEvery warthog is an animal.\nEvery carnivore is an animal.\nEvery herbivore is an animal.\nEvery elephant is a herbivore.\nEvery lion is carnivore.\n\nComment: 'There are also plants there:'.\nEvery tree is a plant.\nEvery grass is a plant.\nEvery palm-tree is a plant.\n\nEvery branch is a plant-part.\nEvery leaf is a plant-part.\nEvery twig is a plant-part.\n\nEvery phloem is a plant-part.\nEvery root is a plant-part.\nEvery parsnip is a root.\nEvery stem is a plant-part.\nEvery xylem is a plant-part.\nEvery fruiting-body is a plant-part.\nEvery berry is a fruiting-body.\nEvery apple is a fruiting-body.\n\nComment: 'We cannot use adjectives directly. To specify adjectives we need to transform them into sets that have form of buzzy-words'.\nEvery tasty-plant is a plant.\nEvery carnivorous-plant is a plant.\n"
      }
     },
     "54500e1db47043b29c2725eaf17f81f6": {
      "model_module": "@jupyter-widgets/base",
      "model_module_version": "1.1.0",
      "model_name": "LayoutModel",
      "state": {
       "height": "100%",
       "width": "90%"
      }
     },
     "54e213dd70db416783e9f4dd9eb8473a": {
      "model_module": "@jupyter-widgets/controls",
      "model_module_version": "1.4.0",
      "model_name": "VBoxModel",
      "state": {
       "children": [
        "IPY_MODEL_68ff3e69ff0948c7b1d6ea2e0727d6f1",
        "IPY_MODEL_cdb640c492eb40d986642b7b0cf89db1"
       ],
       "layout": "IPY_MODEL_43ef90ea44f7483cae76acd6a8bf06db"
      }
     },
     "55bb21d754f845a0b76771e91480da21": {
      "model_module": "@jupyter-widgets/controls",
      "model_module_version": "1.4.0",
      "model_name": "VBoxModel",
      "state": {
       "children": [
        "IPY_MODEL_08c30bf83c284e6ebe21cc3249cd99ba",
        "IPY_MODEL_8e63218be8c84392b59914249922d662"
       ],
       "layout": "IPY_MODEL_e278e56780d1428c826f7d861d407183"
      }
     },
     "55f4f87242224575b52e41afa40e5e2d": {
      "model_module": "@jupyter-widgets/base",
      "model_module_version": "1.1.0",
      "model_name": "LayoutModel",
      "state": {}
     },
     "56a2eb99cf15417e8568cc49848857f1": {
      "model_module": "ontoedit",
      "model_module_version": "1.1.0",
      "model_name": "OntoeditModel",
      "state": {
       "_model_module_version": "1.1.0",
       "_view_module_version": "",
       "layout": "IPY_MODEL_7e5fec00c2ad42f1b02a76e0e2b34c6d",
       "value": "Every carnivorous-plant must eat an animal.\nEvery carnivor must eat an animal.\nEvery omnivore must eat a plant.\nEvery branch must be-part-of a tree.\nEvery plant-part must be-part-of a plant.\n\nComment: 'Role equivalence and inverted roles'.\nX has-part Y if-and-only-if Y is-part-of X.\nX eats Y if-and-only-if Y is-eaten-by X.\n\nComment: 'Role subsumptions'.\nIf X is-part-of Y then X is-part-of Y.\nIf X has-part something that has-part Y then X has-part Y.\n\nComment: 'Complex role subsumptions'.\nIf X is-part-of something that is-part-of Y then X is-part-of Y.\n"
      }
     },
     "585c9fe15e494126a1116a5e5f8e87e4": {
      "model_module": "@jupyter-widgets/base",
      "model_module_version": "1.1.0",
      "model_name": "LayoutModel",
      "state": {}
     },
     "5aea4cc758c6473193e64e8a9da92f28": {
      "model_module": "@jupyter-widgets/base",
      "model_module_version": "1.1.0",
      "model_name": "LayoutModel",
      "state": {}
     },
     "5b7a7dc340b8488b8d7616e1a0e4e954": {
      "model_module": "@jupyter-widgets/output",
      "model_module_version": "1.0.0",
      "model_name": "OutputModel",
      "state": {
       "layout": "IPY_MODEL_72f03a0887ce493bb7e9983353e95041"
      }
     },
     "5ca39e2e45c9445eb22413a85950317f": {
      "model_module": "@jupyter-widgets/base",
      "model_module_version": "1.1.0",
      "model_name": "LayoutModel",
      "state": {
       "height": "100%",
       "width": "90%"
      }
     },
     "5f92d7eda9e4489591fce827af8d659b": {
      "model_module": "@jupyter-widgets/base",
      "model_module_version": "1.1.0",
      "model_name": "LayoutModel",
      "state": {}
     },
     "6140f382320b46d8bf1bbe77cd6ff9d2": {
      "model_module": "@jupyter-widgets/controls",
      "model_module_version": "1.4.0",
      "model_name": "VBoxModel",
      "state": {
       "children": [
        "IPY_MODEL_63c4a550777447f1896522d0db7ab5f5",
        "IPY_MODEL_50f1befbf50548f9869037abe911c6c2"
       ],
       "layout": "IPY_MODEL_50e4b95344d64a99b4f7543b017bf5a4"
      }
     },
     "637bf119d26145cd9b1c74a314f17fb0": {
      "model_module": "@jupyter-widgets/base",
      "model_module_version": "1.1.0",
      "model_name": "LayoutModel",
      "state": {
       "height": "300px"
      }
     },
     "63c4a550777447f1896522d0db7ab5f5": {
      "model_module": "ontoedit",
      "model_module_version": "1.1.0",
      "model_name": "OntoeditModel",
      "state": {
       "_model_module_version": "1.1.0",
       "_view_module_version": "",
       "cursor": 1198,
       "hints": "Every<br/>Every-single-thing<br/>If<br/>Leo<br/>No<br/>Nothing<br/>Something<br/>Sophie<br/>The<br/>X",
       "hintsX": 1198,
       "layout": "IPY_MODEL_f4ea8cdd8b5c4157a727af4af9d67cb3",
       "value": "Title: 'African Wildlife'.\nAuthor: 'PaweĹ‚ KapĹ‚aĹ„ski'.\nBased-On: \n 'A Semantic Web Primer.'\n 'Antoniou, G, van Harmelen, F.'\n 'MIT Press, 2003.'\n 'http://www.csd.uoc.gr/~hy566/SWbook.pdf'\n.\n\nComment:\n////// Examples of Possible Questions  /////////////////////////////   \n//Who-Or-What:\n// * is a carnivore ?                                      \n// * is an herbivore ?                                         \n// * is an animal that eats grass ?                            \n// * is-part-of a tree ?  \n// * is eaten by lion?           \n////////////////////////////////////////////////////////////////////.\n\n\n\nPart-1: 'simple hierarchy of beings'.\n\nComment: 'Lets name our instances'.\nSophie is a giraffe.\nLeo is a lion.\n\nComment: 'Lets specify the hierarchy of beings'. \nComment: 'What is what?'.\nEvery lion is an animal.\nEvery giraffe is an animal.\n\nComment: 'Moreover'.\nEvery impala is an animal.\nEvery omnivore is an animal.\nEvery rock-dassie is an animal.\nEvery warthog is an animal.\nEvery carnivore is an animal.\nEvery herbivore is an animal.\nEvery elephant is a herbivore.\n\nComment: 'There are also plants there:'.\nEvery tree is a plant.\nEvery grass is a plant.\nEvery palm-tree is a plant.\n\nPart-2: adjectives and specifications.\n\nComment: 'We cannot use adjectives directly'.\nComment: 'To specify adjectives we need to transform them into sets that have form of buzzy-words'.\n\nEvery tasty-plant is a plant.\nEvery carnivorous-plant is a plant.\n\nComment: 'Similarly we can do to make something more and more specific'.\nEvery branch is a plant-part.\nEvery phloem is a plant-part.\nEvery root is a plant-part.\nEvery parsnip is a root.\nEvery stem is a plant-part.\nEvery twig is a plant-part.\nEvery xylem is a plant-part.\nEvery leaf is a plant-part.\nEvery fruiting-body is a plant-part.\nEvery berry is a fruiting-body.\nEvery apple is a fruiting-body.\n\nPart-3: Disjointness.\n\nComment: 'We deal with Open World Assumption, therefore we need to specify explicitly if two things are different'.\nComment: 'E.g.: We need to specify explicitly that animal is not a plant'.\nEvery animal is not a plant.\nEvery giraffe is not a lion.\nEvery palm-tree is not a tree.\n\nComment: 'Or we can use it - it means the same'.\nNo animal is a plant.\n\nPart-4: Simple relations.\n\nComment: To specify relation beetween beings.\nEvery lion eats an impala.\nEvery carnivorous-plant eats an animal.\n\nComment: 'I.e. be part of is a part-whole relation'.\nEvery branch is-part-of a tree.\nEvery plant-part is-proper-part-of a plant.\nEvery xylem is-proper-part-of a stem.\nEvery phloem is-proper-part-of a stem.\n\nComment:  'Specifying the range of relation. The difference? One is that lion eats impala. Second that it eats only herbivore' -> impala must be herbivore.\nEvery lion eats nothing-but herbivores.\n\nPart-5: 'Complex relations'.\n\nEvery palm-tree has-part that is not a branch.\nEvery warthog eats an animal and eats a fruiting-body and eats a grass and eats a root.\nEvery giraffe eats nothing-but things that are leaves and-or are twigs.\nEvery leaf is-part-of something that is a branch and-or is a twig.\nEvery tasty-plant is-eaten-by a carnivore and is-eaten-by a herbivore.\nEvery-single-thing eats nothing-but things that are animals and-or are plants and-or are-part-of animals and-or are-part-of plants.\n\nPart-6: 'Reflexion'.\n\nNothing is-proper-part-of itself.\n\nPart-7: Equivalence.\n\nComment: 'What it means to be a carnivore, omnivore or herbivore? We specify exact definitions here.'.\nEvery-single-thing that eats nothing-but animals and-or eats nothing-but things that are-part-of animals is a carnivore.\nSomething is an omnivore if-and-only-if-it eats an animal and eats a plant and eats something that is-part-of an animal and-or is-part-of a plant.\nSomething is a herbivore if-and-only-if-it eats nothing-but plants and-or eats nothing-but things that are-part-of plants.\n\nPart-8: 'Disjointness'.\n\nAnything either is a carnivore, is a herbivore or is an omnivore or-something-else.\nAnything either is a branch, is a leaf or is a twig or-something-else.\n\nPart-9: 'Relations between roles'.\n\nComment: 'Role equivalence and inverted roles'.\nX has-part Y if-and-only-if Y is-part-of X.\nX eats Y if-and-only-if Y is-eaten-by X.\n\nComment: 'Role subsumptions'.\nIf X is-proper-part-of Y then X is-part-of Y.\nIf X has-part something that has-part Y then X has-part Y.\n\nComment: 'Complex role subsumptions'.\nIf X is-part-of something that is-part-of Y then X is-part-of Y."
      }
     },
     "66578ffca1f043118425062dc0b6f067": {
      "model_module": "@jupyter-widgets/controls",
      "model_module_version": "1.4.0",
      "model_name": "VBoxModel",
      "state": {
       "children": [
        "IPY_MODEL_27cf37417f84476da68ac933a85143a5",
        "IPY_MODEL_f81355e7f2a34681bf8ca14e71dbf938"
       ],
       "layout": "IPY_MODEL_f79246661c1941fb8047812a618edbea"
      }
     },
     "66cefaa10ba1472a846b969c45384ec0": {
      "model_module": "@jupyter-widgets/controls",
      "model_module_version": "1.4.0",
      "model_name": "VBoxModel",
      "state": {
       "children": [
        "IPY_MODEL_6c33a33ec84a476ea62d3b987b12a532",
        "IPY_MODEL_85f2cc17df4e4e429f3682d5f1a9d2a5"
       ],
       "layout": "IPY_MODEL_637bf119d26145cd9b1c74a314f17fb0"
      }
     },
     "670789803c044d699064f4d8d85c169a": {
      "model_module": "ontoedit",
      "model_module_version": "1.1.0",
      "model_name": "OntoeditModel",
      "state": {
       "_model_module_version": "1.1.0",
       "_view_module_version": "",
       "layout": "IPY_MODEL_8e2009ebcf134448a2ad52b7cc6c4b26",
       "value": "Every-single-thing that is a plant and-or is a plant-part is a herb.\nNo herb is an animal.\n\nEvery carnivore eats nothing-but animals.\nEvery lion eats nothing-but herbivores.\n\nEvery herbivore eats nothing-but herb.\n\nAnything either is a carnivore, is a herbivore or is an omnivore or-something-else.\nAnything either is a branch, is a leaf or is a twig or-something-else.\n\nNo giraffe is a lion.\nEvery palm-tree is not a tree.\n"
      }
     },
     "6834615b88754ba992949979ad4896da": {
      "model_module": "@jupyter-widgets/base",
      "model_module_version": "1.1.0",
      "model_name": "LayoutModel",
      "state": {
       "height": "100%",
       "width": "90%"
      }
     },
     "687f88667abb40929c0d1ac2acbc9281": {
      "model_module": "ontoedit",
      "model_module_version": "1.1.0",
      "model_name": "OntoeditModel",
      "state": {
       "_model_module_version": "1.1.0",
       "_view_module_version": "",
       "layout": "IPY_MODEL_df07f4cbd3574e08868b7543bb5cb15a",
       "value": "Leo-01 is a lion.\nLeo-01 eats Sophie-01.\nSophie-01 is a giraffe.\nLeo-01 eats Mary-01.\nMary-01 is a palm-tree.\n"
      }
     },
     "68ff3e69ff0948c7b1d6ea2e0727d6f1": {
      "model_module": "ontoedit",
      "model_module_version": "1.1.0",
      "model_name": "OntoeditModel",
      "state": {
       "_model_module_version": "1.1.0",
       "_view_module_version": "",
       "layout": "IPY_MODEL_2b1178c8982c4d7f8bd00f05c2a0ab9f",
       "value": "an animal that loves "
      }
     },
     "69339d07f80c4b42a0ca64e1e93f2940": {
      "model_module": "@jupyter-widgets/output",
      "model_module_version": "1.0.0",
      "model_name": "OutputModel",
      "state": {
       "layout": "IPY_MODEL_db4059a12cb34224934499d5b329f6c6"
      }
     },
     "6b3a1654ff064f0aaf274b3478288a8f": {
      "model_module": "@jupyter-widgets/base",
      "model_module_version": "1.1.0",
      "model_name": "LayoutModel",
      "state": {
       "height": "300px"
      }
     },
     "6b665fd9cf6b45d0ade1db84533996f4": {
      "model_module": "@jupyter-widgets/base",
      "model_module_version": "1.1.0",
      "model_name": "LayoutModel",
      "state": {}
     },
     "6bc39517a9044c0d95ed9158711c5ff5": {
      "model_module": "@jupyter-widgets/base",
      "model_module_version": "1.1.0",
      "model_name": "LayoutModel",
      "state": {
       "height": "100%",
       "width": "90%"
      }
     },
     "6c33a33ec84a476ea62d3b987b12a532": {
      "model_module": "ontoedit",
      "model_module_version": "1.1.0",
      "model_name": "OntoeditModel",
      "state": {
       "_model_module_version": "1.1.0",
       "_view_module_version": "",
       "layout": "IPY_MODEL_5ca39e2e45c9445eb22413a85950317f",
       "value": "Leo-01 is a lion.\nLeo-01 eats Sophie-01.\nSophie-01 is a giraffe.\nLeo-01 eats Mary-01.\nMary-01 is a palm-tree.\n"
      }
     },
     "6dfbc4a9245c453fb126ea93c284477f": {
      "model_module": "@jupyter-widgets/base",
      "model_module_version": "1.1.0",
      "model_name": "LayoutModel",
      "state": {
       "height": "300px"
      }
     },
     "6fa9e122a4ca4267832285e9f3983bba": {
      "model_module": "@jupyter-widgets/base",
      "model_module_version": "1.1.0",
      "model_name": "LayoutModel",
      "state": {}
     },
     "704fa12b89334f67b30097d1c39534c9": {
      "model_module": "@jupyter-widgets/base",
      "model_module_version": "1.1.0",
      "model_name": "LayoutModel",
      "state": {
       "height": "300px"
      }
     },
     "727588c8af22452182710e9c54750d83": {
      "model_module": "@jupyter-widgets/output",
      "model_module_version": "1.0.0",
      "model_name": "OutputModel",
      "state": {
       "layout": "IPY_MODEL_c4809ee837e84bbba2bd1dc44a5cdc69"
      }
     },
     "72b37b61f1ba4540bd4dafa460795b8e": {
      "model_module": "@jupyter-widgets/base",
      "model_module_version": "1.1.0",
      "model_name": "LayoutModel",
      "state": {}
     },
     "72f03a0887ce493bb7e9983353e95041": {
      "model_module": "@jupyter-widgets/base",
      "model_module_version": "1.1.0",
      "model_name": "LayoutModel",
      "state": {}
     },
     "7358c3b0bfc140b7ad1d635020c852a5": {
      "model_module": "@jupyter-widgets/controls",
      "model_module_version": "1.4.0",
      "model_name": "VBoxModel",
      "state": {
       "children": [
        "IPY_MODEL_791a2bc1ba2c4ed98805765076095f71",
        "IPY_MODEL_a551c169f0f44b0d8ed33f34d5a4ea9d"
       ],
       "layout": "IPY_MODEL_2a57077dcfc6408f910fcdd1069fb533"
      }
     },
     "791a2bc1ba2c4ed98805765076095f71": {
      "model_module": "ontoedit",
      "model_module_version": "1.1.0",
      "model_name": "OntoeditModel",
      "state": {
       "_model_module_version": "1.1.0",
       "_view_module_version": "",
       "layout": "IPY_MODEL_99f9f6e0b26a4e73858dfbb6017ccbb8",
       "value": "an animal that loves "
      }
     },
     "798ac8c8baa148b68188dc60d84de5fe": {
      "model_module": "@jupyter-widgets/base",
      "model_module_version": "1.1.0",
      "model_name": "LayoutModel",
      "state": {
       "height": "300px"
      }
     },
     "7cb5ce8716bf4a209b03b4910d97a0e2": {
      "model_module": "@jupyter-widgets/output",
      "model_module_version": "1.0.0",
      "model_name": "OutputModel",
      "state": {
       "layout": "IPY_MODEL_72b37b61f1ba4540bd4dafa460795b8e"
      }
     },
     "7e5fec00c2ad42f1b02a76e0e2b34c6d": {
      "model_module": "@jupyter-widgets/base",
      "model_module_version": "1.1.0",
      "model_name": "LayoutModel",
      "state": {
       "height": "100%",
       "width": "90%"
      }
     },
     "7ffcc5da836a4772ad6190ded79997f7": {
      "model_module": "ontoedit",
      "model_module_version": "1.1.0",
      "model_name": "OntoeditModel",
      "state": {
       "_model_module_version": "1.1.0",
       "_view_module_version": "",
       "cursor": 162,
       "hints": "&lt;Proper-Name&gt;<br/>Every<br/>Every-single-thing<br/>If<br/>No<br/>Nothing<br/>Something<br/>The<br/>X",
       "hintsX": 162,
       "layout": "IPY_MODEL_cb714303465343599e7daddd09b77893",
       "value": "Namespace: 'http://cognitum.eu/african_wildlife'.\n\nComment: 'Lets name our instances'.\nComment: 'Lets specify the hierarchy of beings'. \nComment: 'What is what?'.\nEvery man has a train.\nEvery lion is an animal.\nEvery giraffe is an animal.\n\nComment: 'Moreover'.\nEvery impala is an animal.\nEvery omnivore is an animal. \nEvery rock-dassie is an animal.\nEvery warthog is an animal.\nEvery carnivore is an animal.\nEvery herbivore is an animal.\nEvery elephant is a herbivore.\nEvery lion is carnivore.\n\nComment: 'There are also plants there:'.\nEvery tree is a plant.\nEvery grass is a plant.\nEvery palm-tree is a plant.\n\nEvery branch is a plant-part.\nEvery leaf is a plant-part.\nEvery twig is a plant-part.\n\nEvery phloem is a plant-part.\nEvery root is a plant-part.\nEvery parsnip is a root.\nEvery stem is a plant-part.\nEvery xylem is a plant-part.\nEvery fruiting-body is a plant-part.\nEvery berry is a fruiting-body.\nEvery apple is a fruiting-body.\n\nComment: 'We cannot use adjectives directly. To specify adjectives we need to transform them into sets that have form of buzzy-words'.\nEvery tasty-plant is a plant.\nEvery carnivorous-plant is a plant.\n"
      }
     },
     "8299fafb9989402e9259aa0b848881e2": {
      "model_module": "ontoedit",
      "model_module_version": "1.1.0",
      "model_name": "OntoeditModel",
      "state": {
       "_model_module_version": "1.1.0",
       "_view_module_version": "",
       "layout": "IPY_MODEL_17f3ad9162db4104a65795f20d5f0075",
       "value": "Leo-01 is a lion.\nLeo-01 eats Sophie-01.\nSophie-01 is a giraffe.\nSophie-01 eats Leaf-01.\nMary-01 is a tree.\nLeaf-01 is a leaf and is-part-of Branch-02.\nBranch-02 is a branch and is-part-of Branch-01.\nBranch-01 is a branch and is-part-of Mary-01.\nBranch-03 is a branch."
      }
     },
     "830d5ee0e72742cbb9c50e698f8db857": {
      "model_module": "ontoedit",
      "model_module_version": "1.1.0",
      "model_name": "OntoeditModel",
      "state": {
       "_model_module_version": "1.1.0",
       "_view_module_version": "",
       "cursor": 186,
       "hintT": "!!!SYNTAX ERROR!!!\r\n\r\nEvery ma\r\nEvery lion is an animal.",
       "hints": "!!!SYNTAX ERROR!!!\r\n\r\nEvery ma\r\nEvery lion is an animal.",
       "hintsX": 186,
       "layout": "IPY_MODEL_f7410d5947704d05b636e488c607ec0e",
       "value": "Namespace: 'http://cognitum.eu/african_wildlife'.\n\nComment: 'Lets name our instances'.\nComment: 'Lets specify the hierarchy of beings'. \nComment: 'What is what?'.\nEvery man has a train.\nEvery lion is an animal.\nEvery giraffe is an animal.\n\nComment: 'Moreover'.\nEvery impala is an animal.\nEvery omnivore is an animal. \nEvery rock-dassie is an animal.\nEvery warthog is an animal.\nEvery carnivore is an animal.\nEvery herbivore is an animal.\nEvery elephant is a herbivore.\nEvery lion is carnivore.\n\nComment: 'There are also plants there:'.\nEvery tree is a plant.\nEvery grass is a plant.\nEvery palm-tree is a plant.\n\nEvery branch is a plant-part.\nEvery leaf is a plant-part.\nEvery twig is a plant-part.\n\nEvery phloem is a plant-part.\nEvery root is a plant-part.\nEvery parsnip is a root.\nEvery stem is a plant-part.\nEvery xylem is a plant-part.\nEvery fruiting-body is a plant-part.\nEvery berry is a fruiting-body.\nEvery apple is a fruiting-body.\n\nComment: 'We cannot use adjectives directly. To specify adjectives we need to transform them into sets that have form of buzzy-words'.\nEvery tasty-plant is a plant.\nEvery carnivorous-plant is a plant.\n"
      }
     },
     "85f2cc17df4e4e429f3682d5f1a9d2a5": {
      "model_module": "@jupyter-widgets/output",
      "model_module_version": "1.0.0",
      "model_name": "OutputModel",
      "state": {
       "layout": "IPY_MODEL_379b403b772848b184590efb077753db"
      }
     },
     "865ed95805f44073ac10f4b4757bd1a0": {
      "model_module": "@jupyter-widgets/base",
      "model_module_version": "1.1.0",
      "model_name": "LayoutModel",
      "state": {
       "height": "100%",
       "width": "90%"
      }
     },
     "87dbf123720c4818bdda118bfdbb7cda": {
      "model_module": "@jupyter-widgets/output",
      "model_module_version": "1.0.0",
      "model_name": "OutputModel",
      "state": {
       "layout": "IPY_MODEL_daee7295113f4ab588ec50dacbc01003"
      }
     },
     "88e3f3eb628649cbaa595601364bada4": {
      "model_module": "@jupyter-widgets/base",
      "model_module_version": "1.1.0",
      "model_name": "LayoutModel",
      "state": {
       "height": "300px"
      }
     },
     "89b1bde40ddb4abf9ac1d1cd90dd345a": {
      "model_module": "@jupyter-widgets/base",
      "model_module_version": "1.1.0",
      "model_name": "LayoutModel",
      "state": {
       "height": "100px"
      }
     },
     "8b344392a0d344158becbf95c37546c6": {
      "model_module": "@jupyter-widgets/controls",
      "model_module_version": "1.4.0",
      "model_name": "VBoxModel",
      "state": {
       "children": [
        "IPY_MODEL_56a2eb99cf15417e8568cc49848857f1",
        "IPY_MODEL_f81dc3d2747142f9ac59bd2ccb85dc67"
       ],
       "layout": "IPY_MODEL_f7e95e3d43544ddfb6c69338a006cace"
      }
     },
     "8b52933a93d84df1bc039f960cacf560": {
      "model_module": "@jupyter-widgets/output",
      "model_module_version": "1.0.0",
      "model_name": "OutputModel",
      "state": {
       "layout": "IPY_MODEL_b0bf749d3aa54cb5876f768752e013e2"
      }
     },
     "8b7f1503cd5d4af7bedb96db2bc9826b": {
      "model_module": "ontoedit",
      "model_module_version": "1.1.0",
      "model_name": "OntoeditModel",
      "state": {
       "_model_module_version": "1.1.0",
       "_view_module_version": "",
       "layout": "IPY_MODEL_b18557280c0d4e1b827179460da45136",
       "value": "Leo-01 is a lion.\nLeo-01 eats Sophie-01.\nSophie-01 is a giraffe.\nSophie-01 eats Leaf-01.\nMary-01 is a tree.\nLeaf-01 is a leaf and is-part-of Branch-02.\nBranch-02 is a branch and is-part-of Branch-01.\nBranch-01 is a branch and is-part-of Mary-01.\nBranch-03 is a branch."
      }
     },
     "8e2009ebcf134448a2ad52b7cc6c4b26": {
      "model_module": "@jupyter-widgets/base",
      "model_module_version": "1.1.0",
      "model_name": "LayoutModel",
      "state": {
       "height": "100%",
       "width": "90%"
      }
     },
     "8e63218be8c84392b59914249922d662": {
      "model_module": "@jupyter-widgets/output",
      "model_module_version": "1.0.0",
      "model_name": "OutputModel",
      "state": {
       "layout": "IPY_MODEL_5aea4cc758c6473193e64e8a9da92f28"
      }
     },
     "8f2ee93c18ed4583894db21311e14ed9": {
      "model_module": "@jupyter-widgets/output",
      "model_module_version": "1.0.0",
      "model_name": "OutputModel",
      "state": {
       "layout": "IPY_MODEL_38238e85b5bb4623a8ef8b3af0729a67"
      }
     },
     "91212d33087f4872ab96d1d2adac582a": {
      "model_module": "@jupyter-widgets/output",
      "model_module_version": "1.0.0",
      "model_name": "OutputModel",
      "state": {
       "layout": "IPY_MODEL_6fa9e122a4ca4267832285e9f3983bba"
      }
     },
     "951c1fa30fea488a8ae1578cede4b5fe": {
      "model_module": "@jupyter-widgets/base",
      "model_module_version": "1.1.0",
      "model_name": "LayoutModel",
      "state": {
       "height": "100%",
       "width": "90%"
      }
     },
     "9536c1856e8a487d8c68984e25b441ce": {
      "model_module": "@jupyter-widgets/base",
      "model_module_version": "1.1.0",
      "model_name": "LayoutModel",
      "state": {
       "height": "300px"
      }
     },
     "9767af0ad60a4f4f84f6fffb5b1addb8": {
      "model_module": "@jupyter-widgets/base",
      "model_module_version": "1.1.0",
      "model_name": "LayoutModel",
      "state": {}
     },
     "99075eefb8ad4a5087de5fbfbb2e2a8c": {
      "model_module": "ontoedit",
      "model_module_version": "1.1.0",
      "model_name": "OntoeditModel",
      "state": {
       "_model_module_version": "1.1.0",
       "_view_module_version": "",
       "layout": "IPY_MODEL_9febe76887f34e8e9ea439b3d6a469bc",
       "value": "Comment: 'Lets name our instances'.\nComment: 'Lets specify the hierarchy of beings'. \nComment: 'What is what?'.\n\nEvery lion is an animal.\nEvery giraffe is an animal.\n\nComment: 'Moreover'.\nEvery impala is an animal.\nEvery omnivore is an animal.\nEvery rock-dassie is an animal.\nEvery warthog is an animal.\nEvery carnivore is an animal.\nEvery herbivore is an animal.\nEvery elephant is a herbivore.\nEvery lion is carnivore.\n\nComment: 'There are also plants there:'.\nEvery tree is a plant.\nEvery grass is a plant.\nEvery palm-tree is a plant.\n\nEvery branch is a plant-part.\nEvery leaf is a plant-part.\nEvery twig is a plant-part.\n\nEvery phloem is a plant-part.\nEvery root is a plant-part.\nEvery parsnip is a root.\nEvery stem is a plant-part.\nEvery xylem is a plant-part.\nEvery fruiting-body is a plant-part.\nEvery berry is a fruiting-body.\nEvery apple is a fruiting-body.\n\nComment: 'We cannot use adjectives directly. To specify adjectives we need to transform them into sets that have form of buzzy-words'.\nEvery tasty-plant is a plant.\nEvery carnivorous-plant is a plant.\n"
      }
     },
     "99f9f6e0b26a4e73858dfbb6017ccbb8": {
      "model_module": "@jupyter-widgets/base",
      "model_module_version": "1.1.0",
      "model_name": "LayoutModel",
      "state": {
       "height": "100%",
       "width": "90%"
      }
     },
     "9b0f9a23e3574472b084a63a42c18088": {
      "model_module": "@jupyter-widgets/base",
      "model_module_version": "1.1.0",
      "model_name": "LayoutModel",
      "state": {
       "height": "300px"
      }
     },
     "9d7f76b3359049b99071eba73b8dc427": {
      "model_module": "@jupyter-widgets/controls",
      "model_module_version": "1.4.0",
      "model_name": "VBoxModel",
      "state": {
       "children": [
        "IPY_MODEL_4a569f7988e8471dafe05c22d22bd4ea",
        "IPY_MODEL_727588c8af22452182710e9c54750d83"
       ],
       "layout": "IPY_MODEL_9536c1856e8a487d8c68984e25b441ce"
      }
     },
     "9febe76887f34e8e9ea439b3d6a469bc": {
      "model_module": "@jupyter-widgets/base",
      "model_module_version": "1.1.0",
      "model_name": "LayoutModel",
      "state": {
       "height": "100%",
       "width": "90%"
      }
     },
     "a1d343a6e9ab47b999491d584f4d747b": {
      "model_module": "@jupyter-widgets/controls",
      "model_module_version": "1.4.0",
      "model_name": "VBoxModel",
      "state": {
       "children": [
        "IPY_MODEL_42805aa70f7945db96a25007c189bac0",
        "IPY_MODEL_4f0a97990f8943818fc14ed4fd385830"
       ],
       "layout": "IPY_MODEL_c1e34aeacb524c99a1c32e8cc8c9413a"
      }
     },
     "a23f3db72e844fd38d5d05b950980e06": {
      "model_module": "@jupyter-widgets/base",
      "model_module_version": "1.1.0",
      "model_name": "LayoutModel",
      "state": {
       "height": "100%",
       "width": "90%"
      }
     },
     "a270637c9421471a86a1a5fb0c90358f": {
      "model_module": "@jupyter-widgets/base",
      "model_module_version": "1.1.0",
      "model_name": "LayoutModel",
      "state": {
       "height": "100%",
       "width": "90%"
      }
     },
     "a2c7154564514724af74f1f72cd039df": {
      "model_module": "@jupyter-widgets/controls",
      "model_module_version": "1.4.0",
      "model_name": "VBoxModel",
      "state": {
       "children": [
        "IPY_MODEL_194e683e49954beab66c82f87eec0560",
        "IPY_MODEL_e26922aed1324c3cb824535d8f1eba7a"
       ],
       "layout": "IPY_MODEL_89b1bde40ddb4abf9ac1d1cd90dd345a"
      }
     },
     "a551c169f0f44b0d8ed33f34d5a4ea9d": {
      "model_module": "@jupyter-widgets/output",
      "model_module_version": "1.0.0",
      "model_name": "OutputModel",
      "state": {
       "layout": "IPY_MODEL_9767af0ad60a4f4f84f6fffb5b1addb8"
      }
     },
     "a83fc2b5087147fda70ef91ec71c9636": {
      "model_module": "ontoedit",
      "model_module_version": "1.1.0",
      "model_name": "OntoeditModel",
      "state": {
       "_model_module_version": "1.1.0",
       "_view_module_version": "",
       "layout": "IPY_MODEL_44f37380178d4fa0a074af10221c17fa",
       "value": "Namespace: 'http://cognitum.eu/african_wildlife'.\n\nComment: 'Lets name our instances'.\nComment: 'Lets specify the hierarchy of beings'. \nComment: 'What is what?'.\nEvery ma\nEvery lion is an animal.\nEvery giraffe is an animal.\n\nComment: 'Moreover'.\nEvery impala is an animal.\nEvery omnivore is an animal. \nEvery rock-dassie is an animal.\nEvery warthog is an animal.\nEvery carnivore is an animal.\nEvery herbivore is an animal.\nEvery elephant is a herbivore.\nEvery lion is carnivore.\n\nComment: 'There are also plants there:'.\nEvery tree is a plant.\nEvery grass is a plant.\nEvery palm-tree is a plant.\n\nEvery branch is a plant-part.\nEvery leaf is a plant-part.\nEvery twig is a plant-part.\n\nEvery phloem is a plant-part.\nEvery root is a plant-part.\nEvery parsnip is a root.\nEvery stem is a plant-part.\nEvery xylem is a plant-part.\nEvery fruiting-body is a plant-part.\nEvery berry is a fruiting-body.\nEvery apple is a fruiting-body.\n\nComment: 'We cannot use adjectives directly. To specify adjectives we need to transform them into sets that have form of buzzy-words'.\nEvery tasty-plant is a plant.\nEvery carnivorous-plant is a plant.\n"
      }
     },
     "ac2b910f6f714657b031543b3c3820f6": {
      "model_module": "@jupyter-widgets/base",
      "model_module_version": "1.1.0",
      "model_name": "LayoutModel",
      "state": {
       "height": "100%",
       "width": "90%"
      }
     },
     "acf1c5a99f7843fd8fe8da70d0aac47f": {
      "model_module": "ontoedit",
      "model_module_version": "1.1.0",
      "model_name": "OntoeditModel",
      "state": {
       "_model_module_version": "1.1.0",
       "_view_module_version": "",
       "cursor": 1198,
       "hints": "Every<br/>Every-single-thing<br/>If<br/>Leo<br/>No<br/>Nothing<br/>Something<br/>Sophie<br/>The<br/>X",
       "hintsX": 1198,
       "layout": "IPY_MODEL_1a817713ce83451c8259b7b8600da6fb",
       "value": "Title: 'African Wildlife'.\nAuthor: 'PaweĹ‚ KapĹ‚aĹ„ski'.\nBased-On: \n 'A Semantic Web Primer.'\n 'Antoniou, G, van Harmelen, F.'\n 'MIT Press, 2003.'\n 'http://www.csd.uoc.gr/~hy566/SWbook.pdf'\n.\n\nComment:\n////// Examples of Possible Questions  /////////////////////////////   \n//Who-Or-What:\n// * is a carnivore ?                                      \n// * is an herbivore ?                                         \n// * is an animal that eats grass ?                            \n// * is-part-of a tree ?  \n// * is eaten by lion?           \n////////////////////////////////////////////////////////////////////.\n\n\n\nPart-1: 'simple hierarchy of beings'.\n\nComment: 'Lets name our instances'.\nSophie is a giraffe.\nLeo is a lion.\n\nComment: 'Lets specify the hierarchy of beings'. \nComment: 'What is what?'.\nEvery lion is an animal.\nEvery giraffe is an animal.\n\nComment: 'Moreover'.\nEvery impala is an animal.\nEvery omnivore is an animal.\nEvery rock-dassie is an animal.\nEvery warthog is an animal.\nEvery carnivore is an animal.\nEvery herbivore is an animal.\nEvery elephant is a herbivore.\n\nComment: 'There are also plants there:'.\nEvery tree is a plant.\nEvery grass is a plant.\nEvery palm-tree is a plant.\n\nPart-2: adjectives and specifications.\n\nComment: 'We cannot use adjectives directly'.\nComment: 'To specify adjectives we need to transform them into sets that have form of buzzy-words'.\n\nEvery tasty-plant is a plant.\nEvery carnivorous-plant is a plant.\n\nComment: 'Similarly we can do to make something more and more specific'.\nEvery branch is a plant-part.\nEvery phloem is a plant-part.\nEvery root is a plant-part.\nEvery parsnip is a root.\nEvery stem is a plant-part.\nEvery twig is a plant-part.\nEvery xylem is a plant-part.\nEvery leaf is a plant-part.\nEvery fruiting-body is a plant-part.\nEvery berry is a fruiting-body.\nEvery apple is a fruiting-body.\n\nPart-3: Disjointness.\n\nComment: 'We deal with Open World Assumption, therefore we need to specify explicitly if two things are different'.\nComment: 'E.g.: We need to specify explicitly that animal is not a plant'.\nEvery animal is not a plant.\nEvery giraffe is not a lion.\nEvery palm-tree is not a tree.\n\nComment: 'Or we can use it - it means the same'.\nNo animal is a plant.\n\nPart-4: Simple relations.\n\nComment: To specify relation beetween beings.\nEvery lion eats an impala.\nEvery carnivorous-plant eats an animal.\n\nComment: 'I.e. be part of is a part-whole relation'.\nEvery branch is-part-of a tree.\nEvery plant-part is-proper-part-of a plant.\nEvery xylem is-proper-part-of a stem.\nEvery phloem is-proper-part-of a stem.\n\nComment:  'Specifying the range of relation. The difference? One is that lion eats impala. Second that it eats only herbivore' -> impala must be herbivore.\nEvery lion eats nothing-but herbivores.\n\nPart-5: 'Complex relations'.\n\nEvery palm-tree has-part that is not a branch.\nEvery warthog eats an animal and eats a fruiting-body and eats a grass and eats a root.\nEvery giraffe eats nothing-but things that are leaves and-or are twigs.\nEvery leaf is-part-of something that is a branch and-or is a twig.\nEvery tasty-plant is-eaten-by a carnivore and is-eaten-by a herbivore.\nEvery-single-thing eats nothing-but things that are animals and-or are plants and-or are-part-of animals and-or are-part-of plants.\n\nPart-6: 'Reflexion'.\n\nNothing is-proper-part-of itself.\n\nPart-7: Equivalence.\n\nComment: 'What it means to be a carnivore, omnivore or herbivore? We specify exact definitions here.'.\nEvery-single-thing that eats nothing-but animals and-or eats nothing-but things that are-part-of animals is a carnivore.\nSomething is an omnivore if-and-only-if-it eats an animal and eats a plant and eats something that is-part-of an animal and-or is-part-of a plant.\nSomething is a herbivore if-and-only-if-it eats nothing-but plants and-or eats nothing-but things that are-part-of plants.\n\nPart-8: 'Disjointness'.\n\nAnything either is a carnivore, is a herbivore or is an omnivore or-something-else.\nAnything either is a branch, is a leaf or is a twig or-something-else.\n\nPart-9: 'Relations between roles'.\n\nComment: 'Role equivalence and inverted roles'.\nX has-part Y if-and-only-if Y is-part-of X.\nX eats Y if-and-only-if Y is-eaten-by X.\n\nComment: 'Role subsumptions'.\nIf X is-proper-part-of Y then X is-part-of Y.\nIf X has-part something that has-part Y then X has-part Y.\n\nComment: 'Complex role subsumptions'.\nIf X is-part-of something that is-part-of Y then X is-part-of Y."
      }
     },
     "b0bf749d3aa54cb5876f768752e013e2": {
      "model_module": "@jupyter-widgets/base",
      "model_module_version": "1.1.0",
      "model_name": "LayoutModel",
      "state": {}
     },
     "b18557280c0d4e1b827179460da45136": {
      "model_module": "@jupyter-widgets/base",
      "model_module_version": "1.1.0",
      "model_name": "LayoutModel",
      "state": {
       "height": "100%",
       "width": "90%"
      }
     },
     "b3aca64dc8c740feae0ac17d0679814c": {
      "model_module": "@jupyter-widgets/output",
      "model_module_version": "1.0.0",
      "model_name": "OutputModel",
      "state": {
       "layout": "IPY_MODEL_0287b64412d1476fac61df9b498195e0"
      }
     },
     "b6c1708eb8ab423fbc381678654dde18": {
      "model_module": "ontoedit",
      "model_module_version": "1.1.0",
      "model_name": "OntoeditModel",
      "state": {
       "_model_module_version": "1.1.0",
       "_view_module_version": "",
       "cursor": 166,
       "hints": "&lt;Proper-Name&gt;<br/>Every<br/>Every-single-thing<br/>If<br/>No<br/>Nothing<br/>Something<br/>The<br/>X",
       "hintsX": 166,
       "layout": "IPY_MODEL_865ed95805f44073ac10f4b4757bd1a0",
       "value": "Comment: 'Lets name our instances'.\nComment: 'Lets specify the hierarchy of beings'. \nComment: 'What is what?'.\n\nEvery lion is an animal.\nEvery giraffe is an animal.\n\nComment: 'Moreover'.\nEvery impala is an animal.\nEvery omnivore is an animal.\nEvery rock-dassie is an animal.\nEvery warthog is an animal.\nEvery carnivore is an animal.\nEvery herbivore is an animal.\nEvery elephant is a herbivore.\nEvery lion is carnivore.\n\nComment: 'There are also plants there:'.\nEvery tree is a plant.\nEvery grass is a plant.\nEvery palm-tree is a plant.\n\nEvery branch is a plant-part.\nEvery leaf is a plant-part.\nEvery twig is a plant-part.\n\nEvery phloem is a plant-part.\nEvery root is a plant-part.\nEvery parsnip is a root.\nEvery stem is a plant-part.\nEvery xylem is a plant-part.\nEvery fruiting-body is a plant-part.\nEvery berry is a fruiting-body.\nEvery apple is a fruiting-body.\n\nComment: 'We cannot use adjectives directly. To specify adjectives we need to transform them into sets that have form of buzzy-words'.\nEvery tasty-plant is a plant.\nEvery carnivorous-plant is a plant.\n"
      }
     },
     "ba703b23f64a4ac9bc68ac9552802303": {
      "model_module": "@jupyter-widgets/base",
      "model_module_version": "1.1.0",
      "model_name": "LayoutModel",
      "state": {
       "height": "300px"
      }
     },
     "bb14a3aef3864813a7002faff9fc6b16": {
      "model_module": "ontoedit",
      "model_module_version": "1.1.0",
      "model_name": "OntoeditModel",
      "state": {
       "_model_module_version": "1.1.0",
       "_view_module_version": "",
       "cursor": 89,
       "hints": "&lt;natural number&gt;",
       "hintsX": 80,
       "layout": "IPY_MODEL_c17c106402064e86b728cf51a20e3f93",
       "value": "Leo-01 is a lion.\nLeo-01 eats Sophie-01.\nSophie-01 is a giraffe.\nSophie-01 eats Branch-01.\nMary-01 is a tree.\nBranch-01 is a branch and is-proper-part-of Mary-01.\n"
      }
     },
     "bfdcdc39eeb04946a97cd9562372bc04": {
      "model_module": "@jupyter-widgets/base",
      "model_module_version": "1.1.0",
      "model_name": "LayoutModel",
      "state": {
       "height": "100%",
       "width": "90%"
      }
     },
     "c17c106402064e86b728cf51a20e3f93": {
      "model_module": "@jupyter-widgets/base",
      "model_module_version": "1.1.0",
      "model_name": "LayoutModel",
      "state": {
       "height": "100%",
       "width": "90%"
      }
     },
     "c1e34aeacb524c99a1c32e8cc8c9413a": {
      "model_module": "@jupyter-widgets/base",
      "model_module_version": "1.1.0",
      "model_name": "LayoutModel",
      "state": {
       "height": "300px"
      }
     },
     "c370339aafb24857915cb2b2d2ab7980": {
      "model_module": "@jupyter-widgets/base",
      "model_module_version": "1.1.0",
      "model_name": "LayoutModel",
      "state": {}
     },
     "c3b494913b23455082fcb63616b57646": {
      "model_module": "@jupyter-widgets/controls",
      "model_module_version": "1.4.0",
      "model_name": "VBoxModel",
      "state": {
       "children": [
        "IPY_MODEL_075ca95d3ff64fdf8542061a5f907fdc",
        "IPY_MODEL_69339d07f80c4b42a0ca64e1e93f2940"
       ],
       "layout": "IPY_MODEL_ce2e3b8fdc324d989c349ad9a641ca61"
      }
     },
     "c4809ee837e84bbba2bd1dc44a5cdc69": {
      "model_module": "@jupyter-widgets/base",
      "model_module_version": "1.1.0",
      "model_name": "LayoutModel",
      "state": {}
     },
     "c7c7716cd5034ec7a3235e29964fa9d9": {
      "model_module": "@jupyter-widgets/output",
      "model_module_version": "1.0.0",
      "model_name": "OutputModel",
      "state": {
       "layout": "IPY_MODEL_ec97c88651864e3ca37f08c0e7906155"
      }
     },
     "c7fe458b7f814978a92e90b0b53c295c": {
      "model_module": "@jupyter-widgets/base",
      "model_module_version": "1.1.0",
      "model_name": "LayoutModel",
      "state": {
       "height": "300px"
      }
     },
     "cb714303465343599e7daddd09b77893": {
      "model_module": "@jupyter-widgets/base",
      "model_module_version": "1.1.0",
      "model_name": "LayoutModel",
      "state": {
       "height": "100%",
       "width": "90%"
      }
     },
     "cbb49564f07a44bdb9bdcc6dc6b14644": {
      "model_module": "@jupyter-widgets/base",
      "model_module_version": "1.1.0",
      "model_name": "LayoutModel",
      "state": {}
     },
     "cdb640c492eb40d986642b7b0cf89db1": {
      "model_module": "@jupyter-widgets/output",
      "model_module_version": "1.0.0",
      "model_name": "OutputModel",
      "state": {
       "layout": "IPY_MODEL_cbb49564f07a44bdb9bdcc6dc6b14644"
      }
     },
     "ce2e3b8fdc324d989c349ad9a641ca61": {
      "model_module": "@jupyter-widgets/base",
      "model_module_version": "1.1.0",
      "model_name": "LayoutModel",
      "state": {
       "height": "300px"
      }
     },
     "d66764a2add44d99aa42b9900ec34efa": {
      "model_module": "@jupyter-widgets/controls",
      "model_module_version": "1.4.0",
      "model_name": "VBoxModel",
      "state": {
       "children": [
        "IPY_MODEL_8299fafb9989402e9259aa0b848881e2",
        "IPY_MODEL_2ee595c943434b3288bd80d13a391707"
       ],
       "layout": "IPY_MODEL_260916fd573c4e118c8d6fdeed6c1d4d"
      }
     },
     "d6c24200739c486fa395a2d6f15f4c29": {
      "model_module": "@jupyter-widgets/controls",
      "model_module_version": "1.4.0",
      "model_name": "VBoxModel",
      "state": {
       "children": [
        "IPY_MODEL_b6c1708eb8ab423fbc381678654dde18",
        "IPY_MODEL_91212d33087f4872ab96d1d2adac582a"
       ],
       "layout": "IPY_MODEL_d786ada62a30448b8081a35a036fbf3d"
      }
     },
     "d786ada62a30448b8081a35a036fbf3d": {
      "model_module": "@jupyter-widgets/base",
      "model_module_version": "1.1.0",
      "model_name": "LayoutModel",
      "state": {
       "height": "300px"
      }
     },
     "d810833472c54ff1a38f821261445bdb": {
      "model_module": "@jupyter-widgets/base",
      "model_module_version": "1.1.0",
      "model_name": "LayoutModel",
      "state": {}
     },
     "d8f23781ffc74fb797fe78016d7b58e4": {
      "model_module": "@jupyter-widgets/base",
      "model_module_version": "1.1.0",
      "model_name": "LayoutModel",
      "state": {
       "height": "100%",
       "width": "90%"
      }
     },
     "d9c2b88b505b48a4b6c2c57cd93f7776": {
      "model_module": "@jupyter-widgets/base",
      "model_module_version": "1.1.0",
      "model_name": "LayoutModel",
      "state": {}
     },
     "d9cb1abd82e245e987efdff390856b01": {
      "model_module": "@jupyter-widgets/base",
      "model_module_version": "1.1.0",
      "model_name": "LayoutModel",
      "state": {}
     },
     "daee7295113f4ab588ec50dacbc01003": {
      "model_module": "@jupyter-widgets/base",
      "model_module_version": "1.1.0",
      "model_name": "LayoutModel",
      "state": {}
     },
     "db4059a12cb34224934499d5b329f6c6": {
      "model_module": "@jupyter-widgets/base",
      "model_module_version": "1.1.0",
      "model_name": "LayoutModel",
      "state": {}
     },
     "db6bc8d6d0d54e2484718dee857e30e1": {
      "model_module": "@jupyter-widgets/base",
      "model_module_version": "1.1.0",
      "model_name": "LayoutModel",
      "state": {}
     },
     "dc33986a1b82473796f0e43e7b8960d2": {
      "model_module": "@jupyter-widgets/controls",
      "model_module_version": "1.4.0",
      "model_name": "VBoxModel",
      "state": {
       "children": [
        "IPY_MODEL_490fd126b35c4016a45f2265268f5ef0",
        "IPY_MODEL_27ad5c8d383e457a9920d5cb29f64853"
       ],
       "layout": "IPY_MODEL_f2d6e500963644e1ace9c82d3d895f68"
      }
     },
     "dd75b77ca52a43a9868c62b289a4e4e1": {
      "model_module": "@jupyter-widgets/output",
      "model_module_version": "1.0.0",
      "model_name": "OutputModel",
      "state": {
       "layout": "IPY_MODEL_db6bc8d6d0d54e2484718dee857e30e1"
      }
     },
     "df07f4cbd3574e08868b7543bb5cb15a": {
      "model_module": "@jupyter-widgets/base",
      "model_module_version": "1.1.0",
      "model_name": "LayoutModel",
      "state": {
       "height": "100%",
       "width": "90%"
      }
     },
     "df45bd0d614e4f8dbc1d38058dc993e7": {
      "model_module": "@jupyter-widgets/base",
      "model_module_version": "1.1.0",
      "model_name": "LayoutModel",
      "state": {
       "height": "300px"
      }
     },
     "df59fa382ea5464699bf03b221ac05e1": {
      "model_module": "@jupyter-widgets/base",
      "model_module_version": "1.1.0",
      "model_name": "LayoutModel",
      "state": {}
     },
     "e18af0cea30b4af3a6cf1099f055219c": {
      "model_module": "@jupyter-widgets/controls",
      "model_module_version": "1.4.0",
      "model_name": "VBoxModel",
      "state": {
       "children": [
        "IPY_MODEL_e1d32be0fd784adb901538ecaea234af",
        "IPY_MODEL_e5a39ffce83d482a9bb07ef05f75f0c2"
       ],
       "layout": "IPY_MODEL_ba703b23f64a4ac9bc68ac9552802303"
      }
     },
     "e1d32be0fd784adb901538ecaea234af": {
      "model_module": "ontoedit",
      "model_module_version": "1.1.0",
      "model_name": "OntoeditModel",
      "state": {
       "_model_module_version": "1.1.0",
       "_view_module_version": "",
       "layout": "IPY_MODEL_a23f3db72e844fd38d5d05b950980e06",
       "value": "Every-single-thing that is a plant and-or is a plant-part is a herb.\nNo herb is an animal.\n\nEvery carnivore eats nothing-but animals.\nEvery lion eats nothing-but herbivores.\n\nEvery herbivore eats nothing-but herb.\n\nAnything either is a carnivore, is a herbivore or is an omnivore or-something-else.\nAnything either is a branch, is a leaf or is a twig or-something-else.\n\nNo giraffe is a lion.\nEvery palm-tree is not a tree.\n"
      }
     },
     "e26922aed1324c3cb824535d8f1eba7a": {
      "model_module": "@jupyter-widgets/output",
      "model_module_version": "1.0.0",
      "model_name": "OutputModel",
      "state": {
       "layout": "IPY_MODEL_08a658b923de47b7add2517b8353da1a"
      }
     },
     "e278e56780d1428c826f7d861d407183": {
      "model_module": "@jupyter-widgets/base",
      "model_module_version": "1.1.0",
      "model_name": "LayoutModel",
      "state": {
       "height": "300px"
      }
     },
     "e445e8ca520940b8aa5759ab19428243": {
      "model_module": "@jupyter-widgets/base",
      "model_module_version": "1.1.0",
      "model_name": "LayoutModel",
      "state": {
       "height": "300px"
      }
     },
     "e47665c42c1e462aa1fcecac0816fa09": {
      "model_module": "@jupyter-widgets/controls",
      "model_module_version": "1.4.0",
      "model_name": "VBoxModel",
      "state": {
       "children": [
        "IPY_MODEL_1d27dea574734e228e02e981579f0e48",
        "IPY_MODEL_3e2147d0702741bbb1963715683ba2ff"
       ],
       "layout": "IPY_MODEL_704fa12b89334f67b30097d1c39534c9"
      }
     },
     "e4e340eba47048e182a7727741432dc5": {
      "model_module": "@jupyter-widgets/controls",
      "model_module_version": "1.4.0",
      "model_name": "VBoxModel",
      "state": {
       "children": [
        "IPY_MODEL_a83fc2b5087147fda70ef91ec71c9636",
        "IPY_MODEL_0529b65148e34a3f84378822394dbb23"
       ],
       "layout": "IPY_MODEL_46b6bc391f7d47cb95796e1c5effa3cb"
      }
     },
     "e5a39ffce83d482a9bb07ef05f75f0c2": {
      "model_module": "@jupyter-widgets/output",
      "model_module_version": "1.0.0",
      "model_name": "OutputModel",
      "state": {
       "layout": "IPY_MODEL_efae18bdcab04718b11c37b244e41d0f"
      }
     },
     "e736dda042e74aac96c321bed782241e": {
      "model_module": "ontoedit",
      "model_module_version": "1.1.0",
      "model_name": "OntoeditModel",
      "state": {
       "_model_module_version": "1.1.0",
       "_view_module_version": "",
       "layout": "IPY_MODEL_34a127ddc9f3425d855562e734e8582e"
      }
     },
     "e87806312d1343ce83bb2bb743ba1b80": {
      "model_module": "@jupyter-widgets/base",
      "model_module_version": "1.1.0",
      "model_name": "LayoutModel",
      "state": {}
     },
     "ea50e21fc54b4d97b922faa6337bdfe7": {
      "model_module": "@jupyter-widgets/base",
      "model_module_version": "1.1.0",
      "model_name": "LayoutModel",
      "state": {}
     },
     "ec97c88651864e3ca37f08c0e7906155": {
      "model_module": "@jupyter-widgets/base",
      "model_module_version": "1.1.0",
      "model_name": "LayoutModel",
      "state": {}
     },
     "edb2db2d34c248249a938a00c0f98a07": {
      "model_module": "@jupyter-widgets/base",
      "model_module_version": "1.1.0",
      "model_name": "LayoutModel",
      "state": {}
     },
     "edfd7c1406474ef8b6008fa01533a9f1": {
      "model_module": "@jupyter-widgets/output",
      "model_module_version": "1.0.0",
      "model_name": "OutputModel",
      "state": {
       "layout": "IPY_MODEL_d9cb1abd82e245e987efdff390856b01"
      }
     },
     "ee2dd188cbe048cd98f09aa693d4aae4": {
      "model_module": "@jupyter-widgets/controls",
      "model_module_version": "1.4.0",
      "model_name": "VBoxModel",
      "state": {
       "children": [
        "IPY_MODEL_bb14a3aef3864813a7002faff9fc6b16",
        "IPY_MODEL_ef6cc581fc9c483fa9f40c0299bb4106"
       ],
       "layout": "IPY_MODEL_88e3f3eb628649cbaa595601364bada4"
      }
     },
     "ef6cc581fc9c483fa9f40c0299bb4106": {
      "model_module": "@jupyter-widgets/output",
      "model_module_version": "1.0.0",
      "model_name": "OutputModel",
      "state": {
       "layout": "IPY_MODEL_1786ad24fa9d463aa9ad86dcacd6b971"
      }
     },
     "efae18bdcab04718b11c37b244e41d0f": {
      "model_module": "@jupyter-widgets/base",
      "model_module_version": "1.1.0",
      "model_name": "LayoutModel",
      "state": {}
     },
     "f0f6655efb3d4a67824e88522b093252": {
      "model_module": "@jupyter-widgets/controls",
      "model_module_version": "1.4.0",
      "model_name": "VBoxModel",
      "state": {
       "children": [
        "IPY_MODEL_687f88667abb40929c0d1ac2acbc9281",
        "IPY_MODEL_2401f4a10a284f68920b1eb13a0ef3f1"
       ],
       "layout": "IPY_MODEL_08826d1d1e2d4efa9364b5d2bafa3c93"
      }
     },
     "f1b9951724734f07987cdd4aef154383": {
      "model_module": "@jupyter-widgets/controls",
      "model_module_version": "1.4.0",
      "model_name": "VBoxModel",
      "state": {
       "children": [
        "IPY_MODEL_acf1c5a99f7843fd8fe8da70d0aac47f",
        "IPY_MODEL_8b52933a93d84df1bc039f960cacf560"
       ],
       "layout": "IPY_MODEL_e445e8ca520940b8aa5759ab19428243"
      }
     },
     "f2d6e500963644e1ace9c82d3d895f68": {
      "model_module": "@jupyter-widgets/base",
      "model_module_version": "1.1.0",
      "model_name": "LayoutModel",
      "state": {
       "height": "300px"
      }
     },
     "f2dac51fb55347f2bf9f5f781b9e4558": {
      "model_module": "@jupyter-widgets/base",
      "model_module_version": "1.1.0",
      "model_name": "LayoutModel",
      "state": {}
     },
     "f4ea8cdd8b5c4157a727af4af9d67cb3": {
      "model_module": "@jupyter-widgets/base",
      "model_module_version": "1.1.0",
      "model_name": "LayoutModel",
      "state": {
       "height": "100%",
       "width": "90%"
      }
     },
     "f7410d5947704d05b636e488c607ec0e": {
      "model_module": "@jupyter-widgets/base",
      "model_module_version": "1.1.0",
      "model_name": "LayoutModel",
      "state": {
       "height": "100%",
       "width": "90%"
      }
     },
     "f79246661c1941fb8047812a618edbea": {
      "model_module": "@jupyter-widgets/base",
      "model_module_version": "1.1.0",
      "model_name": "LayoutModel",
      "state": {
       "height": "100px"
      }
     },
     "f7e95e3d43544ddfb6c69338a006cace": {
      "model_module": "@jupyter-widgets/base",
      "model_module_version": "1.1.0",
      "model_name": "LayoutModel",
      "state": {
       "height": "300px"
      }
     },
     "f81355e7f2a34681bf8ca14e71dbf938": {
      "model_module": "@jupyter-widgets/output",
      "model_module_version": "1.0.0",
      "model_name": "OutputModel",
      "state": {
       "layout": "IPY_MODEL_edb2db2d34c248249a938a00c0f98a07"
      }
     },
     "f81dc3d2747142f9ac59bd2ccb85dc67": {
      "model_module": "@jupyter-widgets/output",
      "model_module_version": "1.0.0",
      "model_name": "OutputModel",
      "state": {
       "layout": "IPY_MODEL_5f92d7eda9e4489591fce827af8d659b"
      }
     }
    },
    "version_major": 2,
    "version_minor": 0
   }
  }
 },
 "nbformat": 4,
 "nbformat_minor": 2
}