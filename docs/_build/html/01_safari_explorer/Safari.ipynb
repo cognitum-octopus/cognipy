{
 "cells": [
  {
   "cell_type": "markdown",
   "metadata": {},
   "source": [
    "**Creating and exploring the OWL/RL + SWRL Ontologies using CogniPy by Cognitum Services S.A.**"
   ]
  },
  {
   "cell_type": "markdown",
   "metadata": {},
   "source": [
    "**Setting up the environment**\n",
    "Initialization of the Ontology editor in Jupyter Notebook"
   ]
  },
  {
   "cell_type": "code",
   "execution_count": 1,
   "metadata": {},
   "outputs": [],
   "source": [
    "from cognipy.ontology import Ontology #the ontology processing class\n",
    "from cognipy.ontology import CQL #SPARQL format tailored for Contolled Natural Language\n",
    "from cognipy.edit import CnlEditBox #The pywidget based ontology editor (offspirng of the Fluent Editor)\n",
    "from cognipy.edit import CnlQueryForConcept #The pywidget based ontology quaty widget \n",
    "from cognipy.ontology import encode_string_for_graph_label #complex datatypes encoder for the graph labels in graph visualisation\n",
    "import textwrap\n",
    "\n",
    "def graph_attribute_formatter(val):\n",
    "    if isinstance(val,list) or isinstance(val,set):\n",
    "        return \" | \".join(list(map(lambda i:encode_string_for_graph_label(graph_attribute_formatter(i)),val)))\n",
    "    elif isinstance(val,dict):\n",
    "        return \" | \".join(list(map(lambda i:i[0]+\" : \"+encode_string_for_graph_label(graph_attribute_formatter(i[1])),val.items())))\n",
    "    else:\n",
    "        return encode_string_for_graph_label(textwrap.fill(str(val),40))"
   ]
  },
  {
   "cell_type": "markdown",
   "metadata": {},
   "source": [
    "# African Wildlife.\n",
    "Loading the editor for the basic \"safari\" ontology. The Ontology is inspired by 'A Semantic Web Primer.' by 'Antoniou, G, van Harmelen, F.' 'MIT Press, 2003.' 'http://www.csd.uoc.gr/~hy566/SWbook.pdf', tuned to OWL/RL+SWRL profile."
   ]
  },
  {
   "cell_type": "markdown",
   "metadata": {},
   "source": [
    "### Part-1: 'simple hierarchy of beings'. "
   ]
  },
  {
   "cell_type": "markdown",
   "metadata": {},
   "source": [
    "We will have many editors here and we will store all of them in the dict"
   ]
  },
  {
   "cell_type": "code",
   "execution_count": 2,
   "metadata": {},
   "outputs": [],
   "source": [
    "parts_editors={}"
   ]
  },
  {
   "cell_type": "markdown",
   "metadata": {},
   "source": [
    "Lets setup the fist ontology editor for the general knowledge. The editor allows you to enter the knowledge in text format, and support you with the prdictive editor."
   ]
  },
  {
   "cell_type": "code",
   "execution_count": 3,
   "metadata": {},
   "outputs": [
    {
     "data": {
      "application/javascript": [
       "/* jshint browser: true */\n",
       "\n",
       "(function () {\n",
       "\n",
       "// We'll copy the properties below into the mirror div.\n",
       "// Note that some browsers, such as Firefox, do not concatenate properties\n",
       "// into their shorthand (e.g. padding-top, padding-bottom etc. -> padding),\n",
       "// so we have to list every single property explicitly.\n",
       "var properties = [\n",
       "  'direction',  // RTL support\n",
       "  'boxSizing',\n",
       "  'width',  // on Chrome and IE, exclude the scrollbar, so the mirror div wraps exactly as the textarea does\n",
       "  'height',\n",
       "  'overflowX',\n",
       "  'overflowY',  // copy the scrollbar for IE\n",
       "\n",
       "  'borderTopWidth',\n",
       "  'borderRightWidth',\n",
       "  'borderBottomWidth',\n",
       "  'borderLeftWidth',\n",
       "  'borderStyle',\n",
       "\n",
       "  'paddingTop',\n",
       "  'paddingRight',\n",
       "  'paddingBottom',\n",
       "  'paddingLeft',\n",
       "\n",
       "  // https://developer.mozilla.org/en-US/docs/Web/CSS/font\n",
       "  'fontStyle',\n",
       "  'fontVariant',\n",
       "  'fontWeight',\n",
       "  'fontStretch',\n",
       "  'fontSize',\n",
       "  'fontSizeAdjust',\n",
       "  'lineHeight',\n",
       "  'fontFamily',\n",
       "\n",
       "  'textAlign',\n",
       "  'textTransform',\n",
       "  'textIndent',\n",
       "  'textDecoration',  // might not make a difference, but better be safe\n",
       "\n",
       "  'letterSpacing',\n",
       "  'wordSpacing',\n",
       "\n",
       "  'tabSize',\n",
       "  'MozTabSize'\n",
       "\n",
       "];\n",
       "\n",
       "var isBrowser = (typeof window !== 'undefined');\n",
       "var isFirefox = (isBrowser && window.mozInnerScreenX != null);\n",
       "\n",
       "function getCaretCoordinates(element, position, options) {\n",
       "  if (!isBrowser) {\n",
       "    throw new Error('textarea-caret-position#getCaretCoordinates should only be called in a browser');\n",
       "  }\n",
       "\n",
       "  var debug = options && options.debug || false;\n",
       "  if (debug) {\n",
       "    var el = document.querySelector('#input-textarea-caret-position-mirror-div');\n",
       "    if (el) el.parentNode.removeChild(el);\n",
       "  }\n",
       "\n",
       "  // The mirror div will replicate the textarea's style\n",
       "  var div = document.createElement('div');\n",
       "  div.id = 'input-textarea-caret-position-mirror-div';\n",
       "  document.body.appendChild(div);\n",
       "\n",
       "  var style = div.style;\n",
       "  var computed = window.getComputedStyle ? window.getComputedStyle(element) : element.currentStyle;  // currentStyle for IE < 9\n",
       "  var isInput = element.nodeName === 'INPUT';\n",
       "\n",
       "  // Default textarea styles\n",
       "  style.whiteSpace = 'pre-wrap';\n",
       "  if (!isInput)\n",
       "    style.wordWrap = 'break-word';  // only for textarea-s\n",
       "\n",
       "  // Position off-screen\n",
       "  style.position = 'absolute';  // required to return coordinates properly\n",
       "  if (!debug)\n",
       "    style.visibility = 'hidden';  // not 'display: none' because we want rendering\n",
       "\n",
       "  // Transfer the element's properties to the div\n",
       "  properties.forEach(function (prop) {\n",
       "    if (isInput && prop === 'lineHeight') {\n",
       "      // Special case for <input>s because text is rendered centered and line height may be != height\n",
       "      if (computed.boxSizing === \"border-box\") {\n",
       "        var height = parseInt(computed.height);\n",
       "        var outerHeight =\n",
       "          parseInt(computed.paddingTop) +\n",
       "          parseInt(computed.paddingBottom) +\n",
       "          parseInt(computed.borderTopWidth) +\n",
       "          parseInt(computed.borderBottomWidth);\n",
       "        var targetHeight = outerHeight + parseInt(computed.lineHeight);\n",
       "        if (height > targetHeight) {\n",
       "          style.lineHeight = height - outerHeight + \"px\";\n",
       "        } else if (height === targetHeight) {\n",
       "          style.lineHeight = computed.lineHeight;\n",
       "        } else {\n",
       "          style.lineHeight = 0;\n",
       "        }\n",
       "      } else {\n",
       "        style.lineHeight = computed.height;\n",
       "      }\n",
       "    } else {\n",
       "      style[prop] = computed[prop];\n",
       "    }\n",
       "  });\n",
       "\n",
       "  if (isFirefox) {\n",
       "    // Firefox lies about the overflow property for textareas: https://bugzilla.mozilla.org/show_bug.cgi?id=984275\n",
       "    if (element.scrollHeight > parseInt(computed.height))\n",
       "      style.overflowY = 'scroll';\n",
       "  } else {\n",
       "    style.overflow = 'hidden';  // for Chrome to not render a scrollbar; IE keeps overflowY = 'scroll'\n",
       "  }\n",
       "\n",
       "  div.textContent = element.value.substring(0, position);\n",
       "  // The second special handling for input type=\"text\" vs textarea:\n",
       "  // spaces need to be replaced with non-breaking spaces - http://stackoverflow.com/a/13402035/1269037\n",
       "  if (isInput)\n",
       "    div.textContent = div.textContent.replace(/\\s/g, '\\u00a0');\n",
       "\n",
       "  var span = document.createElement('span');\n",
       "  // Wrapping must be replicated *exactly*, including when a long word gets\n",
       "  // onto the next line, with whitespace at the end of the line before (#7).\n",
       "  // The  *only* reliable way to do that is to copy the *entire* rest of the\n",
       "  // textarea's content into the <span> created at the caret position.\n",
       "  // For inputs, just '.' would be enough, but no need to bother.\n",
       "  span.textContent = element.value.substring(position) || '.';  // || because a completely empty faux span doesn't render at all\n",
       "  div.appendChild(span);\n",
       "\n",
       "  var coordinates = {\n",
       "    top: span.offsetTop + parseInt(computed['borderTopWidth']),\n",
       "    left: span.offsetLeft + parseInt(computed['borderLeftWidth']),\n",
       "    height: parseInt(computed['lineHeight'])\n",
       "  };\n",
       "\n",
       "  if (debug) {\n",
       "    span.style.backgroundColor = '#aaa';\n",
       "  } else {\n",
       "    document.body.removeChild(div);\n",
       "  }\n",
       "\n",
       "  return coordinates;\n",
       "}\n",
       "\n",
       "if (typeof module != 'undefined' && typeof module.exports != 'undefined') {\n",
       "  module.exports = getCaretCoordinates;\n",
       "} else if(isBrowser) {\n",
       "  window.getCaretCoordinates = getCaretCoordinates;\n",
       "}\n",
       "\n",
       "}());\n",
       "\n",
       "require.undef('ontoedit');\n",
       "\n",
       "define('ontoedit', [\"@jupyter-widgets/base\"], function(widgets) {\n",
       "\n",
       "    var OntoeditModel = widgets.TextareaModel.extend({\n",
       "\n",
       "        defaults: $.extend(widgets.TextareaModel.prototype.defaults(), {\n",
       "            _model_name: \"OntoeditModel\",\n",
       "            _view_name: \"OntoeditView\",\n",
       "            _model_module: \"ontoedit\",\n",
       "            _view_module: \"ontoedit\",\n",
       "            rows: null,\n",
       "            continuous_update: true,\n",
       "            cursor: 0,\n",
       "            dot:0,\n",
       "            hints:'',\n",
       "            hintsX:0,\n",
       "            hintT:''\n",
       "        })\n",
       "    });\n",
       "\n",
       "    var OntoeditView = widgets.TextareaView.extend({\n",
       "\n",
       "        render: function() {\n",
       "            OntoeditView.__super__.render.apply(this, arguments);\n",
       "            this.model.on('change:hints', this.hints_changed, this);\n",
       "            this.model.on('change:hintsX', this.hintsX_changed, this);\n",
       "\n",
       "            var model = this.model;\n",
       "            var that = this;\n",
       "\n",
       "            var last_position = 0;\n",
       "\n",
       "            function cursor_changed(element) {\n",
       "                var new_position = getCursorPosition(element);\n",
       "                if (new_position !== last_position) {\n",
       "                    last_position = new_position;\n",
       "                    return true;\n",
       "                }\n",
       "                return false;\n",
       "            }\n",
       "\n",
       "            function getCursorPosition(element) {\n",
       "                var el = $(element).get(0);\n",
       "                var pos = 0;\n",
       "                if ('selectionStart' in el) {\n",
       "                    pos = el.selectionStart;\n",
       "                } else if ('selection' in document) {\n",
       "                    el.focus();\n",
       "                    var Sel = document.selection.createRange();\n",
       "                    var SelLength = document.selection.createRange().text.length;\n",
       "                    Sel.moveStart('character', -el.value.length);\n",
       "                    pos = Sel.text.length - SelLength;\n",
       "                }\n",
       "                return pos;\n",
       "            }\n",
       "\n",
       "            var oldVal = \"\";\n",
       "\n",
       "            this.dd=$('<div style=\"-moz-appearance: textfield-multiline;-webkit-appearance: textarea;font: medium -moz-fixed; font: -webkit-small-control; position: absolute;z-index: 1; background-color:navy;color:white;box-shadow: 0px 8px 16px 0px rgba(0,0,0,0.4); \"/>')\n",
       "\n",
       "            $(this.el).bind(\"click keyup focus\",function(e){\n",
       "                if (that.dd.get(0).style.visibility!=\"visible\")\n",
       "                    return;\n",
       "                \n",
       "                var ele=$($(that.el).children(\"textarea\")[0])\n",
       "\n",
       "                if(cursor_changed(ele)){\n",
       "                   var  cursor = getCursorPosition(ele);\n",
       "//                    console.log(cursor);\n",
       "//                    console.log('(top, left, height) = (%s, %s, %s)', caret.top, caret.left, caret.height);\n",
       "                    model.set('cursor',cursor);\n",
       "//                    console.log(cursor)\n",
       "                    that.touch();\n",
       "                }\n",
       "            });\n",
       "\n",
       "            $($(this.el).children(\"textarea\")[0]).bind(\"blur\",function(e){\n",
       "//                console.log(\"blur\")\n",
       "                  model.set('dot',model.get('dot')+1);\n",
       "                  that.touch();\n",
       "                that.dd.get(0).style.visibility=\"hidden\";\n",
       "            });\n",
       "\n",
       "            $($(this.el).children(\"textarea\")[0]).bind(\"keydown\",function(e){\n",
       "                  if (String.fromCharCode(event.which)=='\\t')\n",
       "                  {\n",
       "                        if (that.dd.get(0).style.visibility!=\"visible\")\n",
       "                        {\n",
       "                            var ele=$($(that.el).children(\"textarea\")[0])\n",
       "\n",
       "                            if(cursor_changed(ele)){\n",
       "                               var  cursor = getCursorPosition(ele);\n",
       "            //                    console.log(cursor);\n",
       "            //                    console.log('(top, left, height) = (%s, %s, %s)', caret.top, caret.left, caret.height);\n",
       "                                model.set('cursor',cursor);\n",
       "            //                    console.log(cursor)\n",
       "                                that.touch();\n",
       "                                that.dd.get(0).style.visibility=\"visible\";\n",
       "                            }\n",
       "                        }\n",
       "//                      console.log(model.get('hintT'));\n",
       "                      var target=$($(that.el).children(\"textarea\")[0])\n",
       "                      var curpos = getCursorPosition(target)\n",
       "                      var off=curpos-model.get('hintsX')\n",
       "                      var data = model.get('hintT').slice(off)\n",
       "//                      console.log(off)\n",
       "\n",
       "                      if (target.setRangeText) {\n",
       "                         //if setRangeText function is supported by current browser\n",
       "                         target.setRangeText(data)\n",
       "                      } else {\n",
       "                        target.focus()\n",
       "                        document.execCommand('insertText', false /*no UI*/, data);\n",
       "                      }\n",
       "                      e.preventDefault();\n",
       "                      return;\n",
       "                  }\n",
       "                  else if (event.key=='.')\n",
       "                  {\n",
       "                      model.set('dot',model.get('dot')+1);\n",
       "                      that.touch();\n",
       "                  }\n",
       "                  else if(event.key== \"Escape\")\n",
       "                  {\n",
       "                    that.dd.get(0).style.visibility=\"hidden\";\n",
       "                  }\n",
       "            });\n",
       "\n",
       "            // this.el represents the widget's DOM\n",
       "            $(this.el)\n",
       "            .append(this.dd)\n",
       "        },\n",
       "\n",
       "        hints_changed: function() {\n",
       "            var that = this;\n",
       "            var model = this.model;\n",
       "            that.dd.get(0).innerHTML=model.get('hints')\n",
       "//            console.log(model.get('hints'))\n",
       "        },\n",
       "        hintsX_changed: function() {\n",
       "            var that = this;\n",
       "            var model = this.model;\n",
       "            var ele=$($(that.el).children(\"textarea\")[0]);\n",
       "            element=ele.get(0);\n",
       "            var caret = getCaretCoordinates(ele.get(0), model.get('hintsX'));\n",
       "            that.dd.get(0).style.top = element.offsetTop - element.scrollTop + caret.top+ caret.height-5 + 'px';\n",
       "            that.dd.get(0).style.left = element.offsetLeft - element.scrollLeft + caret.left + 'px';\n",
       "//            that.dd.get(0).style.width = '20%';\n",
       "//            that.dd.get(0).style.height = '50%';\n",
       "            that.dd.get(0).style.fontFamily=element.style.fontFamily;\n",
       "            that.dd.get(0).style.fontSize=element.style.fontSize;\n",
       "//                        console.log(model.get('hintsX'))\n",
       "        },\n",
       "    });\n",
       "\n",
       "    return {\n",
       "        OntoeditModel : OntoeditModel,\n",
       "        OntoeditView : OntoeditView\n",
       "    };\n",
       "});\n"
      ],
      "text/plain": [
       "<IPython.core.display.Javascript object>"
      ]
     },
     "metadata": {},
     "output_type": "display_data"
    },
    {
     "data": {
      "text/html": [
       "Welcome to CogniPy"
      ],
      "text/plain": [
       "<IPython.core.display.HTML object>"
      ]
     },
     "metadata": {},
     "output_type": "display_data"
    },
    {
     "data": {
      "application/vnd.jupyter.widget-view+json": {
       "model_id": "e89ecb52459248829713b21fc3a2dcd4",
       "version_major": 2,
       "version_minor": 0
      },
      "text/plain": [
       "VBox(children=(Output(), OntoeditWidget(layout=Layout(height='100%', width='90%'), value=\"Namespace: 'http://c…"
      ]
     },
     "metadata": {},
     "output_type": "display_data"
    }
   ],
   "source": [
    "parts_editors['01']=CnlEditBox('part_01.encnl')\n",
    "parts_editors['01']"
   ]
  },
  {
   "cell_type": "markdown",
   "metadata": {},
   "source": [
    "Lets define the function that will build the ontology based on the dict of ontology editors and the optional additional editor for testing purposes. All it is doing it is concatenaiting the values of all the editors and puts them into the newly created ontology object."
   ]
  },
  {
   "cell_type": "code",
   "execution_count": 4,
   "metadata": {},
   "outputs": [],
   "source": [
    "def buildOntology(parts_editors,test_editor=None):\n",
    "    return Ontology(\"cnl/string\",\n",
    "                    \"\\n\\n\".join(k.getvalue() for k in parts_editors.values())+('' if test_editor is None else test_editor.getvalue()), \n",
    "                    evaluator = lambda e:eval(e,globals(),locals()), \n",
    "                    graph_attribute_formatter = graph_attribute_formatter)"
   ]
  },
  {
   "cell_type": "markdown",
   "metadata": {},
   "source": [
    "The ontology object alows you to draw the materialised graph using several layout algorythms. Lets draw our base ontology."
   ]
  },
  {
   "cell_type": "code",
   "execution_count": 5,
   "metadata": {},
   "outputs": [
    {
     "data": {
      "image/svg+xml": [
       "<svg xmlns=\"http://www.w3.org/2000/svg\" xmlns:xlink=\"http://www.w3.org/1999/xlink\" width=\"1526pt\" height=\"191pt\" viewBox=\"0.00 0.00 1526.00 191.00\">\n",
       "<g id=\"graph0\" class=\"graph\" transform=\"scale(1 1) rotate(0) translate(4 187)\">\n",
       "<title>G</title>\n",
       "<polygon fill=\"white\" stroke=\"none\" points=\"-4,4 -4,-187 1522,-187 1522,4 -4,4\"/>\n",
       "<!-- tasty&#45;plant -->\n",
       "<g id=\"node1\" class=\"node\"><title>tasty-plant</title>\n",
       "<path fill=\"aliceblue\" stroke=\"black\" stroke-width=\"0.5\" d=\"M12,-73.5C12,-73.5 50,-73.5 50,-73.5 56,-73.5 62,-79.5 62,-85.5 62,-85.5 62,-97.5 62,-97.5 62,-103.5 56,-109.5 50,-109.5 50,-109.5 12,-109.5 12,-109.5 6,-109.5 0,-103.5 0,-97.5 0,-97.5 0,-85.5 0,-85.5 0,-79.5 6,-73.5 12,-73.5\"/>\n",
       "<text text-anchor=\"middle\" x=\"31\" y=\"-88.7\" font-family=\"Times New Roman,serif\" font-size=\"11.00\">tasty-plant</text>\n",
       "</g>\n",
       "<!-- plant -->\n",
       "<g id=\"node2\" class=\"node\"><title>plant</title>\n",
       "<path fill=\"aliceblue\" stroke=\"black\" stroke-width=\"0.5\" d=\"M205,-146.5C205,-146.5 235,-146.5 235,-146.5 241,-146.5 247,-152.5 247,-158.5 247,-158.5 247,-170.5 247,-170.5 247,-176.5 241,-182.5 235,-182.5 235,-182.5 205,-182.5 205,-182.5 199,-182.5 193,-176.5 193,-170.5 193,-170.5 193,-158.5 193,-158.5 193,-152.5 199,-146.5 205,-146.5\"/>\n",
       "<text text-anchor=\"middle\" x=\"220\" y=\"-161.7\" font-family=\"Times New Roman,serif\" font-size=\"11.00\">plant</text>\n",
       "</g>\n",
       "<!-- plant&#45;&#45;tasty&#45;plant -->\n",
       "<g id=\"edge1\" class=\"edge\"><title>plant--tasty-plant</title>\n",
       "<path fill=\"none\" stroke=\"black\" stroke-width=\"0.5\" d=\"M183.149,-151.047C152.835,-140.617 108.86,-125.059 71,-110 68.1827,-108.879 65.2692,-107.682 62.3584,-106.458\"/>\n",
       "<polygon fill=\"none\" stroke=\"black\" stroke-width=\"0.5\" points=\"182.282,-154.45 192.877,-154.379 184.551,-147.827 182.282,-154.45\"/>\n",
       "</g>\n",
       "<!-- carnivorous&#45;plant -->\n",
       "<g id=\"node15\" class=\"node\"><title>carnivorous-plant</title>\n",
       "<path fill=\"aliceblue\" stroke=\"black\" stroke-width=\"0.5\" d=\"M92,-73.5C92,-73.5 160,-73.5 160,-73.5 166,-73.5 172,-79.5 172,-85.5 172,-85.5 172,-97.5 172,-97.5 172,-103.5 166,-109.5 160,-109.5 160,-109.5 92,-109.5 92,-109.5 86,-109.5 80,-103.5 80,-97.5 80,-97.5 80,-85.5 80,-85.5 80,-79.5 86,-73.5 92,-73.5\"/>\n",
       "<text text-anchor=\"middle\" x=\"126\" y=\"-88.7\" font-family=\"Times New Roman,serif\" font-size=\"11.00\">carnivorous-plant</text>\n",
       "</g>\n",
       "<!-- plant&#45;&#45;carnivorous&#45;plant -->\n",
       "<g id=\"edge12\" class=\"edge\"><title>plant--carnivorous-plant</title>\n",
       "<path fill=\"none\" stroke=\"black\" stroke-width=\"0.5\" d=\"M188.903,-140.012C175.716,-130.051 160.634,-118.66 148.545,-109.529\"/>\n",
       "<polygon fill=\"none\" stroke=\"black\" stroke-width=\"0.5\" points=\"187.156,-143.079 197.245,-146.313 191.375,-137.493 187.156,-143.079\"/>\n",
       "</g>\n",
       "<!-- palm&#45;tree -->\n",
       "<g id=\"node20\" class=\"node\"><title>palm-tree</title>\n",
       "<path fill=\"aliceblue\" stroke=\"black\" stroke-width=\"0.5\" d=\"M202.5,-73.5C202.5,-73.5 237.5,-73.5 237.5,-73.5 243.5,-73.5 249.5,-79.5 249.5,-85.5 249.5,-85.5 249.5,-97.5 249.5,-97.5 249.5,-103.5 243.5,-109.5 237.5,-109.5 237.5,-109.5 202.5,-109.5 202.5,-109.5 196.5,-109.5 190.5,-103.5 190.5,-97.5 190.5,-97.5 190.5,-85.5 190.5,-85.5 190.5,-79.5 196.5,-73.5 202.5,-73.5\"/>\n",
       "<text text-anchor=\"middle\" x=\"220\" y=\"-88.7\" font-family=\"Times New Roman,serif\" font-size=\"11.00\">palm-tree</text>\n",
       "</g>\n",
       "<!-- plant&#45;&#45;palm&#45;tree -->\n",
       "<g id=\"edge17\" class=\"edge\"><title>plant--palm-tree</title>\n",
       "<path fill=\"none\" stroke=\"black\" stroke-width=\"0.5\" d=\"M220,-136.253C220,-127.265 220,-117.529 220,-109.529\"/>\n",
       "<polygon fill=\"none\" stroke=\"black\" stroke-width=\"0.5\" points=\"216.5,-136.313 220,-146.313 223.5,-136.313 216.5,-136.313\"/>\n",
       "</g>\n",
       "<!-- tree -->\n",
       "<g id=\"node22\" class=\"node\"><title>tree</title>\n",
       "<path fill=\"aliceblue\" stroke=\"black\" stroke-width=\"0.5\" d=\"M280,-73.5C280,-73.5 310,-73.5 310,-73.5 316,-73.5 322,-79.5 322,-85.5 322,-85.5 322,-97.5 322,-97.5 322,-103.5 316,-109.5 310,-109.5 310,-109.5 280,-109.5 280,-109.5 274,-109.5 268,-103.5 268,-97.5 268,-97.5 268,-85.5 268,-85.5 268,-79.5 274,-73.5 280,-73.5\"/>\n",
       "<text text-anchor=\"middle\" x=\"295\" y=\"-88.7\" font-family=\"Times New Roman,serif\" font-size=\"11.00\">tree</text>\n",
       "</g>\n",
       "<!-- plant&#45;&#45;tree -->\n",
       "<g id=\"edge19\" class=\"edge\"><title>plant--tree</title>\n",
       "<path fill=\"none\" stroke=\"black\" stroke-width=\"0.5\" d=\"M245.717,-139.155C256.019,-129.402 267.642,-118.399 277.012,-109.529\"/>\n",
       "<polygon fill=\"none\" stroke=\"black\" stroke-width=\"0.5\" points=\"243.011,-136.896 238.155,-146.313 247.824,-141.98 243.011,-136.896\"/>\n",
       "</g>\n",
       "<!-- grass -->\n",
       "<g id=\"node26\" class=\"node\"><title>grass</title>\n",
       "<path fill=\"aliceblue\" stroke=\"black\" stroke-width=\"0.5\" d=\"M352,-73.5C352,-73.5 382,-73.5 382,-73.5 388,-73.5 394,-79.5 394,-85.5 394,-85.5 394,-97.5 394,-97.5 394,-103.5 388,-109.5 382,-109.5 382,-109.5 352,-109.5 352,-109.5 346,-109.5 340,-103.5 340,-97.5 340,-97.5 340,-85.5 340,-85.5 340,-79.5 346,-73.5 352,-73.5\"/>\n",
       "<text text-anchor=\"middle\" x=\"367\" y=\"-88.7\" font-family=\"Times New Roman,serif\" font-size=\"11.00\">grass</text>\n",
       "</g>\n",
       "<!-- plant&#45;&#45;grass -->\n",
       "<g id=\"edge23\" class=\"edge\"><title>plant--grass</title>\n",
       "<path fill=\"none\" stroke=\"black\" stroke-width=\"0.5\" d=\"M256.549,-145.922C278.203,-135.498 306.176,-122.016 331,-110 333.877,-108.607 336.883,-107.15 339.878,-105.696\"/>\n",
       "<polygon fill=\"none\" stroke=\"black\" stroke-width=\"0.5\" points=\"254.875,-142.843 247.382,-150.334 257.911,-149.151 254.875,-142.843\"/>\n",
       "</g>\n",
       "<!-- apple -->\n",
       "<g id=\"node3\" class=\"node\"><title>apple</title>\n",
       "<path fill=\"aliceblue\" stroke=\"black\" stroke-width=\"0.5\" d=\"M397,-0.5C397,-0.5 427,-0.5 427,-0.5 433,-0.5 439,-6.5 439,-12.5 439,-12.5 439,-24.5 439,-24.5 439,-30.5 433,-36.5 427,-36.5 427,-36.5 397,-36.5 397,-36.5 391,-36.5 385,-30.5 385,-24.5 385,-24.5 385,-12.5 385,-12.5 385,-6.5 391,-0.5 397,-0.5\"/>\n",
       "<text text-anchor=\"middle\" x=\"412\" y=\"-15.7\" font-family=\"Times New Roman,serif\" font-size=\"11.00\">apple</text>\n",
       "</g>\n",
       "<!-- fruiting&#45;body -->\n",
       "<g id=\"node4\" class=\"node\"><title>fruiting-body</title>\n",
       "<path fill=\"aliceblue\" stroke=\"black\" stroke-width=\"0.5\" d=\"M424,-73.5C424,-73.5 472,-73.5 472,-73.5 478,-73.5 484,-79.5 484,-85.5 484,-85.5 484,-97.5 484,-97.5 484,-103.5 478,-109.5 472,-109.5 472,-109.5 424,-109.5 424,-109.5 418,-109.5 412,-103.5 412,-97.5 412,-97.5 412,-85.5 412,-85.5 412,-79.5 418,-73.5 424,-73.5\"/>\n",
       "<text text-anchor=\"middle\" x=\"448\" y=\"-88.7\" font-family=\"Times New Roman,serif\" font-size=\"11.00\">fruiting-body</text>\n",
       "</g>\n",
       "<!-- fruiting&#45;body&#45;&#45;apple -->\n",
       "<g id=\"edge2\" class=\"edge\"><title>fruiting-body--apple</title>\n",
       "<path fill=\"none\" stroke=\"black\" stroke-width=\"0.5\" d=\"M434.629,-64.1302C429.95,-54.9019 424.823,-44.7904 420.634,-36.5288\"/>\n",
       "<polygon fill=\"none\" stroke=\"black\" stroke-width=\"0.5\" points=\"431.641,-65.9767 439.285,-73.3129 437.885,-62.811 431.641,-65.9767\"/>\n",
       "</g>\n",
       "<!-- berry -->\n",
       "<g id=\"node12\" class=\"node\"><title>berry</title>\n",
       "<path fill=\"aliceblue\" stroke=\"black\" stroke-width=\"0.5\" d=\"M469,-0.5C469,-0.5 499,-0.5 499,-0.5 505,-0.5 511,-6.5 511,-12.5 511,-12.5 511,-24.5 511,-24.5 511,-30.5 505,-36.5 499,-36.5 499,-36.5 469,-36.5 469,-36.5 463,-36.5 457,-30.5 457,-24.5 457,-24.5 457,-12.5 457,-12.5 457,-6.5 463,-0.5 469,-0.5\"/>\n",
       "<text text-anchor=\"middle\" x=\"484\" y=\"-15.7\" font-family=\"Times New Roman,serif\" font-size=\"11.00\">berry</text>\n",
       "</g>\n",
       "<!-- fruiting&#45;body&#45;&#45;berry -->\n",
       "<g id=\"edge9\" class=\"edge\"><title>fruiting-body--berry</title>\n",
       "<path fill=\"none\" stroke=\"black\" stroke-width=\"0.5\" d=\"M461.371,-64.1302C466.05,-54.9019 471.177,-44.7904 475.366,-36.5288\"/>\n",
       "<polygon fill=\"none\" stroke=\"black\" stroke-width=\"0.5\" points=\"458.115,-62.811 456.715,-73.3129 464.359,-65.9767 458.115,-62.811\"/>\n",
       "</g>\n",
       "<!-- rock&#45;dassie -->\n",
       "<g id=\"node5\" class=\"node\"><title>rock-dassie</title>\n",
       "<path fill=\"aliceblue\" stroke=\"black\" stroke-width=\"0.5\" d=\"M1018.5,-73.5C1018.5,-73.5 1061.5,-73.5 1061.5,-73.5 1067.5,-73.5 1073.5,-79.5 1073.5,-85.5 1073.5,-85.5 1073.5,-97.5 1073.5,-97.5 1073.5,-103.5 1067.5,-109.5 1061.5,-109.5 1061.5,-109.5 1018.5,-109.5 1018.5,-109.5 1012.5,-109.5 1006.5,-103.5 1006.5,-97.5 1006.5,-97.5 1006.5,-85.5 1006.5,-85.5 1006.5,-79.5 1012.5,-73.5 1018.5,-73.5\"/>\n",
       "<text text-anchor=\"middle\" x=\"1040\" y=\"-88.7\" font-family=\"Times New Roman,serif\" font-size=\"11.00\">rock-dassie</text>\n",
       "</g>\n",
       "<!-- animal -->\n",
       "<g id=\"node6\" class=\"node\"><title>animal</title>\n",
       "<path fill=\"aliceblue\" stroke=\"black\" stroke-width=\"0.5\" d=\"M1254,-146.5C1254,-146.5 1284,-146.5 1284,-146.5 1290,-146.5 1296,-152.5 1296,-158.5 1296,-158.5 1296,-170.5 1296,-170.5 1296,-176.5 1290,-182.5 1284,-182.5 1284,-182.5 1254,-182.5 1254,-182.5 1248,-182.5 1242,-176.5 1242,-170.5 1242,-170.5 1242,-158.5 1242,-158.5 1242,-152.5 1248,-146.5 1254,-146.5\"/>\n",
       "<text text-anchor=\"middle\" x=\"1269\" y=\"-161.7\" font-family=\"Times New Roman,serif\" font-size=\"11.00\">animal</text>\n",
       "</g>\n",
       "<!-- animal&#45;&#45;rock&#45;dassie -->\n",
       "<g id=\"edge3\" class=\"edge\"><title>animal--rock-dassie</title>\n",
       "<path fill=\"none\" stroke=\"black\" stroke-width=\"0.5\" d=\"M1231.88,-154.07C1194.07,-144.176 1133.94,-127.634 1083,-110 1079.95,-108.945 1076.81,-107.793 1073.67,-106.599\"/>\n",
       "<polygon fill=\"none\" stroke=\"black\" stroke-width=\"0.5\" points=\"1231.36,-157.552 1241.92,-156.679 1233.12,-150.777 1231.36,-157.552\"/>\n",
       "</g>\n",
       "<!-- warthog -->\n",
       "<g id=\"node11\" class=\"node\"><title>warthog</title>\n",
       "<path fill=\"aliceblue\" stroke=\"black\" stroke-width=\"0.5\" d=\"M1104,-73.5C1104,-73.5 1134,-73.5 1134,-73.5 1140,-73.5 1146,-79.5 1146,-85.5 1146,-85.5 1146,-97.5 1146,-97.5 1146,-103.5 1140,-109.5 1134,-109.5 1134,-109.5 1104,-109.5 1104,-109.5 1098,-109.5 1092,-103.5 1092,-97.5 1092,-97.5 1092,-85.5 1092,-85.5 1092,-79.5 1098,-73.5 1104,-73.5\"/>\n",
       "<text text-anchor=\"middle\" x=\"1119\" y=\"-88.7\" font-family=\"Times New Roman,serif\" font-size=\"11.00\">warthog</text>\n",
       "</g>\n",
       "<!-- animal&#45;&#45;warthog -->\n",
       "<g id=\"edge7\" class=\"edge\"><title>animal--warthog</title>\n",
       "<path fill=\"none\" stroke=\"black\" stroke-width=\"0.5\" d=\"M1232.62,-146.58C1210.2,-136.117 1180.89,-122.368 1155,-110 1152.12,-108.622 1149.11,-107.174 1146.11,-105.726\"/>\n",
       "<polygon fill=\"none\" stroke=\"black\" stroke-width=\"0.5\" points=\"1231.23,-149.794 1241.77,-150.849 1234.19,-143.45 1231.23,-149.794\"/>\n",
       "</g>\n",
       "<!-- herbivore -->\n",
       "<g id=\"node13\" class=\"node\"><title>herbivore</title>\n",
       "<path fill=\"aliceblue\" stroke=\"black\" stroke-width=\"0.5\" d=\"M1176,-73.5C1176,-73.5 1210,-73.5 1210,-73.5 1216,-73.5 1222,-79.5 1222,-85.5 1222,-85.5 1222,-97.5 1222,-97.5 1222,-103.5 1216,-109.5 1210,-109.5 1210,-109.5 1176,-109.5 1176,-109.5 1170,-109.5 1164,-103.5 1164,-97.5 1164,-97.5 1164,-85.5 1164,-85.5 1164,-79.5 1170,-73.5 1176,-73.5\"/>\n",
       "<text text-anchor=\"middle\" x=\"1193\" y=\"-88.7\" font-family=\"Times New Roman,serif\" font-size=\"11.00\">herbivore</text>\n",
       "</g>\n",
       "<!-- animal&#45;&#45;herbivore -->\n",
       "<g id=\"edge10\" class=\"edge\"><title>animal--herbivore</title>\n",
       "<path fill=\"none\" stroke=\"black\" stroke-width=\"0.5\" d=\"M1243.25,-139.441C1232.73,-129.618 1220.82,-118.486 1211.23,-109.529\"/>\n",
       "<polygon fill=\"none\" stroke=\"black\" stroke-width=\"0.5\" points=\"1240.91,-142.044 1250.6,-146.313 1245.68,-136.929 1240.91,-142.044\"/>\n",
       "</g>\n",
       "<!-- omnivore -->\n",
       "<g id=\"node14\" class=\"node\"><title>omnivore</title>\n",
       "<path fill=\"aliceblue\" stroke=\"black\" stroke-width=\"0.5\" d=\"M1252.5,-73.5C1252.5,-73.5 1285.5,-73.5 1285.5,-73.5 1291.5,-73.5 1297.5,-79.5 1297.5,-85.5 1297.5,-85.5 1297.5,-97.5 1297.5,-97.5 1297.5,-103.5 1291.5,-109.5 1285.5,-109.5 1285.5,-109.5 1252.5,-109.5 1252.5,-109.5 1246.5,-109.5 1240.5,-103.5 1240.5,-97.5 1240.5,-97.5 1240.5,-85.5 1240.5,-85.5 1240.5,-79.5 1246.5,-73.5 1252.5,-73.5\"/>\n",
       "<text text-anchor=\"middle\" x=\"1269\" y=\"-88.7\" font-family=\"Times New Roman,serif\" font-size=\"11.00\">omnivore</text>\n",
       "</g>\n",
       "<!-- animal&#45;&#45;omnivore -->\n",
       "<g id=\"edge11\" class=\"edge\"><title>animal--omnivore</title>\n",
       "<path fill=\"none\" stroke=\"black\" stroke-width=\"0.5\" d=\"M1269,-136.253C1269,-127.265 1269,-117.529 1269,-109.529\"/>\n",
       "<polygon fill=\"none\" stroke=\"black\" stroke-width=\"0.5\" points=\"1265.5,-136.313 1269,-146.313 1272.5,-136.313 1265.5,-136.313\"/>\n",
       "</g>\n",
       "<!-- carnivore -->\n",
       "<g id=\"node17\" class=\"node\"><title>carnivore</title>\n",
       "<path fill=\"aliceblue\" stroke=\"black\" stroke-width=\"0.5\" d=\"M1328,-73.5C1328,-73.5 1362,-73.5 1362,-73.5 1368,-73.5 1374,-79.5 1374,-85.5 1374,-85.5 1374,-97.5 1374,-97.5 1374,-103.5 1368,-109.5 1362,-109.5 1362,-109.5 1328,-109.5 1328,-109.5 1322,-109.5 1316,-103.5 1316,-97.5 1316,-97.5 1316,-85.5 1316,-85.5 1316,-79.5 1322,-73.5 1328,-73.5\"/>\n",
       "<text text-anchor=\"middle\" x=\"1345\" y=\"-88.7\" font-family=\"Times New Roman,serif\" font-size=\"11.00\">carnivore</text>\n",
       "</g>\n",
       "<!-- animal&#45;&#45;carnivore -->\n",
       "<g id=\"edge14\" class=\"edge\"><title>animal--carnivore</title>\n",
       "<path fill=\"none\" stroke=\"black\" stroke-width=\"0.5\" d=\"M1294.75,-139.441C1305.27,-129.618 1317.18,-118.486 1326.77,-109.529\"/>\n",
       "<polygon fill=\"none\" stroke=\"black\" stroke-width=\"0.5\" points=\"1292.32,-136.929 1287.4,-146.313 1297.09,-142.044 1292.32,-136.929\"/>\n",
       "</g>\n",
       "<!-- impala -->\n",
       "<g id=\"node21\" class=\"node\"><title>impala</title>\n",
       "<path fill=\"aliceblue\" stroke=\"black\" stroke-width=\"0.5\" d=\"M1404,-73.5C1404,-73.5 1434,-73.5 1434,-73.5 1440,-73.5 1446,-79.5 1446,-85.5 1446,-85.5 1446,-97.5 1446,-97.5 1446,-103.5 1440,-109.5 1434,-109.5 1434,-109.5 1404,-109.5 1404,-109.5 1398,-109.5 1392,-103.5 1392,-97.5 1392,-97.5 1392,-85.5 1392,-85.5 1392,-79.5 1398,-73.5 1404,-73.5\"/>\n",
       "<text text-anchor=\"middle\" x=\"1419\" y=\"-88.7\" font-family=\"Times New Roman,serif\" font-size=\"11.00\">impala</text>\n",
       "</g>\n",
       "<!-- animal&#45;&#45;impala -->\n",
       "<g id=\"edge18\" class=\"edge\"><title>animal--impala</title>\n",
       "<path fill=\"none\" stroke=\"black\" stroke-width=\"0.5\" d=\"M1305.38,-146.58C1327.8,-136.117 1357.11,-122.368 1383,-110 1385.88,-108.622 1388.89,-107.174 1391.89,-105.726\"/>\n",
       "<polygon fill=\"none\" stroke=\"black\" stroke-width=\"0.5\" points=\"1303.81,-143.45 1296.23,-150.849 1306.77,-149.794 1303.81,-143.45\"/>\n",
       "</g>\n",
       "<!-- giraffe -->\n",
       "<g id=\"node28\" class=\"node\"><title>giraffe</title>\n",
       "<path fill=\"aliceblue\" stroke=\"black\" stroke-width=\"0.5\" d=\"M1476,-73.5C1476,-73.5 1506,-73.5 1506,-73.5 1512,-73.5 1518,-79.5 1518,-85.5 1518,-85.5 1518,-97.5 1518,-97.5 1518,-103.5 1512,-109.5 1506,-109.5 1506,-109.5 1476,-109.5 1476,-109.5 1470,-109.5 1464,-103.5 1464,-97.5 1464,-97.5 1464,-85.5 1464,-85.5 1464,-79.5 1470,-73.5 1476,-73.5\"/>\n",
       "<text text-anchor=\"middle\" x=\"1491\" y=\"-88.7\" font-family=\"Times New Roman,serif\" font-size=\"11.00\">giraffe</text>\n",
       "</g>\n",
       "<!-- animal&#45;&#45;giraffe -->\n",
       "<g id=\"edge25\" class=\"edge\"><title>animal--giraffe</title>\n",
       "<path fill=\"none\" stroke=\"black\" stroke-width=\"0.5\" d=\"M1306.38,-154.768C1344.38,-145.423 1404.67,-129.304 1455,-110 1457.85,-108.905 1460.79,-107.669 1463.7,-106.374\"/>\n",
       "<polygon fill=\"none\" stroke=\"black\" stroke-width=\"0.5\" points=\"1305.17,-151.46 1296.28,-157.222 1306.82,-158.263 1305.17,-151.46\"/>\n",
       "</g>\n",
       "<!-- twig -->\n",
       "<g id=\"node7\" class=\"node\"><title>twig</title>\n",
       "<path fill=\"aliceblue\" stroke=\"black\" stroke-width=\"0.5\" d=\"M514,-73.5C514,-73.5 544,-73.5 544,-73.5 550,-73.5 556,-79.5 556,-85.5 556,-85.5 556,-97.5 556,-97.5 556,-103.5 550,-109.5 544,-109.5 544,-109.5 514,-109.5 514,-109.5 508,-109.5 502,-103.5 502,-97.5 502,-97.5 502,-85.5 502,-85.5 502,-79.5 508,-73.5 514,-73.5\"/>\n",
       "<text text-anchor=\"middle\" x=\"529\" y=\"-88.7\" font-family=\"Times New Roman,serif\" font-size=\"11.00\">twig</text>\n",
       "</g>\n",
       "<!-- plant&#45;part -->\n",
       "<g id=\"node8\" class=\"node\"><title>plant-part</title>\n",
       "<path fill=\"aliceblue\" stroke=\"black\" stroke-width=\"0.5\" d=\"M691.5,-146.5C691.5,-146.5 726.5,-146.5 726.5,-146.5 732.5,-146.5 738.5,-152.5 738.5,-158.5 738.5,-158.5 738.5,-170.5 738.5,-170.5 738.5,-176.5 732.5,-182.5 726.5,-182.5 726.5,-182.5 691.5,-182.5 691.5,-182.5 685.5,-182.5 679.5,-176.5 679.5,-170.5 679.5,-170.5 679.5,-158.5 679.5,-158.5 679.5,-152.5 685.5,-146.5 691.5,-146.5\"/>\n",
       "<text text-anchor=\"middle\" x=\"709\" y=\"-161.7\" font-family=\"Times New Roman,serif\" font-size=\"11.00\">plant-part</text>\n",
       "</g>\n",
       "<!-- plant&#45;part&#45;&#45;fruiting&#45;body -->\n",
       "<g id=\"edge8\" class=\"edge\"><title>plant-part--fruiting-body</title>\n",
       "<path fill=\"none\" stroke=\"black\" stroke-width=\"0.5\" d=\"M669.392,-155.288C625.748,-145.871 553.69,-129.23 493,-110 490.123,-109.088 487.166,-108.087 484.207,-107.04\"/>\n",
       "<polygon fill=\"none\" stroke=\"black\" stroke-width=\"0.5\" points=\"668.809,-158.743 679.32,-157.411 670.273,-151.897 668.809,-158.743\"/>\n",
       "</g>\n",
       "<!-- plant&#45;part&#45;&#45;twig -->\n",
       "<g id=\"edge4\" class=\"edge\"><title>plant-part--twig</title>\n",
       "<path fill=\"none\" stroke=\"black\" stroke-width=\"0.5\" d=\"M669.622,-150.03C640.449,-139.771 599.877,-124.915 565,-110 562.189,-108.798 559.28,-107.492 556.391,-106.153\"/>\n",
       "<polygon fill=\"none\" stroke=\"black\" stroke-width=\"0.5\" points=\"668.843,-153.465 679.438,-153.459 671.152,-146.856 668.843,-153.465\"/>\n",
       "</g>\n",
       "<!-- stem -->\n",
       "<g id=\"node9\" class=\"node\"><title>stem</title>\n",
       "<path fill=\"aliceblue\" stroke=\"black\" stroke-width=\"0.5\" d=\"M586,-73.5C586,-73.5 616,-73.5 616,-73.5 622,-73.5 628,-79.5 628,-85.5 628,-85.5 628,-97.5 628,-97.5 628,-103.5 622,-109.5 616,-109.5 616,-109.5 586,-109.5 586,-109.5 580,-109.5 574,-103.5 574,-97.5 574,-97.5 574,-85.5 574,-85.5 574,-79.5 580,-73.5 586,-73.5\"/>\n",
       "<text text-anchor=\"middle\" x=\"601\" y=\"-88.7\" font-family=\"Times New Roman,serif\" font-size=\"11.00\">stem</text>\n",
       "</g>\n",
       "<!-- plant&#45;part&#45;&#45;stem -->\n",
       "<g id=\"edge5\" class=\"edge\"><title>plant-part--stem</title>\n",
       "<path fill=\"none\" stroke=\"black\" stroke-width=\"0.5\" d=\"M674.407,-140.758C659.037,-130.654 641.248,-118.96 627.032,-109.614\"/>\n",
       "<polygon fill=\"none\" stroke=\"black\" stroke-width=\"0.5\" points=\"672.853,-143.925 683.131,-146.494 676.698,-138.076 672.853,-143.925\"/>\n",
       "</g>\n",
       "<!-- leaf -->\n",
       "<g id=\"node10\" class=\"node\"><title>leaf</title>\n",
       "<path fill=\"aliceblue\" stroke=\"black\" stroke-width=\"0.5\" d=\"M658,-73.5C658,-73.5 688,-73.5 688,-73.5 694,-73.5 700,-79.5 700,-85.5 700,-85.5 700,-97.5 700,-97.5 700,-103.5 694,-109.5 688,-109.5 688,-109.5 658,-109.5 658,-109.5 652,-109.5 646,-103.5 646,-97.5 646,-97.5 646,-85.5 646,-85.5 646,-79.5 652,-73.5 658,-73.5\"/>\n",
       "<text text-anchor=\"middle\" x=\"673\" y=\"-88.7\" font-family=\"Times New Roman,serif\" font-size=\"11.00\">leaf</text>\n",
       "</g>\n",
       "<!-- plant&#45;part&#45;&#45;leaf -->\n",
       "<g id=\"edge6\" class=\"edge\"><title>plant-part--leaf</title>\n",
       "<path fill=\"none\" stroke=\"black\" stroke-width=\"0.5\" d=\"M695.629,-137.13C690.95,-127.902 685.823,-117.79 681.634,-109.529\"/>\n",
       "<polygon fill=\"none\" stroke=\"black\" stroke-width=\"0.5\" points=\"692.641,-138.977 700.285,-146.313 698.885,-135.811 692.641,-138.977\"/>\n",
       "</g>\n",
       "<!-- phloem -->\n",
       "<g id=\"node16\" class=\"node\"><title>phloem</title>\n",
       "<path fill=\"aliceblue\" stroke=\"black\" stroke-width=\"0.5\" d=\"M730,-73.5C730,-73.5 760,-73.5 760,-73.5 766,-73.5 772,-79.5 772,-85.5 772,-85.5 772,-97.5 772,-97.5 772,-103.5 766,-109.5 760,-109.5 760,-109.5 730,-109.5 730,-109.5 724,-109.5 718,-103.5 718,-97.5 718,-97.5 718,-85.5 718,-85.5 718,-79.5 724,-73.5 730,-73.5\"/>\n",
       "<text text-anchor=\"middle\" x=\"745\" y=\"-88.7\" font-family=\"Times New Roman,serif\" font-size=\"11.00\">phloem</text>\n",
       "</g>\n",
       "<!-- plant&#45;part&#45;&#45;phloem -->\n",
       "<g id=\"edge13\" class=\"edge\"><title>plant-part--phloem</title>\n",
       "<path fill=\"none\" stroke=\"black\" stroke-width=\"0.5\" d=\"M722.371,-137.13C727.05,-127.902 732.177,-117.79 736.366,-109.529\"/>\n",
       "<polygon fill=\"none\" stroke=\"black\" stroke-width=\"0.5\" points=\"719.115,-135.811 717.715,-146.313 725.359,-138.977 719.115,-135.811\"/>\n",
       "</g>\n",
       "<!-- branch -->\n",
       "<g id=\"node18\" class=\"node\"><title>branch</title>\n",
       "<path fill=\"aliceblue\" stroke=\"black\" stroke-width=\"0.5\" d=\"M802,-73.5C802,-73.5 832,-73.5 832,-73.5 838,-73.5 844,-79.5 844,-85.5 844,-85.5 844,-97.5 844,-97.5 844,-103.5 838,-109.5 832,-109.5 832,-109.5 802,-109.5 802,-109.5 796,-109.5 790,-103.5 790,-97.5 790,-97.5 790,-85.5 790,-85.5 790,-79.5 796,-73.5 802,-73.5\"/>\n",
       "<text text-anchor=\"middle\" x=\"817\" y=\"-88.7\" font-family=\"Times New Roman,serif\" font-size=\"11.00\">branch</text>\n",
       "</g>\n",
       "<!-- plant&#45;part&#45;&#45;branch -->\n",
       "<g id=\"edge15\" class=\"edge\"><title>plant-part--branch</title>\n",
       "<path fill=\"none\" stroke=\"black\" stroke-width=\"0.5\" d=\"M743.593,-140.758C758.963,-130.654 776.752,-118.96 790.968,-109.614\"/>\n",
       "<polygon fill=\"none\" stroke=\"black\" stroke-width=\"0.5\" points=\"741.302,-138.076 734.869,-146.494 745.147,-143.925 741.302,-138.076\"/>\n",
       "</g>\n",
       "<!-- root -->\n",
       "<g id=\"node24\" class=\"node\"><title>root</title>\n",
       "<path fill=\"aliceblue\" stroke=\"black\" stroke-width=\"0.5\" d=\"M874,-73.5C874,-73.5 904,-73.5 904,-73.5 910,-73.5 916,-79.5 916,-85.5 916,-85.5 916,-97.5 916,-97.5 916,-103.5 910,-109.5 904,-109.5 904,-109.5 874,-109.5 874,-109.5 868,-109.5 862,-103.5 862,-97.5 862,-97.5 862,-85.5 862,-85.5 862,-79.5 868,-73.5 874,-73.5\"/>\n",
       "<text text-anchor=\"middle\" x=\"889\" y=\"-88.7\" font-family=\"Times New Roman,serif\" font-size=\"11.00\">root</text>\n",
       "</g>\n",
       "<!-- plant&#45;part&#45;&#45;root -->\n",
       "<g id=\"edge21\" class=\"edge\"><title>plant-part--root</title>\n",
       "<path fill=\"none\" stroke=\"black\" stroke-width=\"0.5\" d=\"M748.378,-150.03C777.551,-139.771 818.123,-124.915 853,-110 855.811,-108.798 858.72,-107.492 861.609,-106.153\"/>\n",
       "<polygon fill=\"none\" stroke=\"black\" stroke-width=\"0.5\" points=\"746.848,-146.856 738.562,-153.459 749.157,-153.465 746.848,-146.856\"/>\n",
       "</g>\n",
       "<!-- xylem -->\n",
       "<g id=\"node27\" class=\"node\"><title>xylem</title>\n",
       "<path fill=\"aliceblue\" stroke=\"black\" stroke-width=\"0.5\" d=\"M946,-73.5C946,-73.5 976,-73.5 976,-73.5 982,-73.5 988,-79.5 988,-85.5 988,-85.5 988,-97.5 988,-97.5 988,-103.5 982,-109.5 976,-109.5 976,-109.5 946,-109.5 946,-109.5 940,-109.5 934,-103.5 934,-97.5 934,-97.5 934,-85.5 934,-85.5 934,-79.5 940,-73.5 946,-73.5\"/>\n",
       "<text text-anchor=\"middle\" x=\"961\" y=\"-88.7\" font-family=\"Times New Roman,serif\" font-size=\"11.00\">xylem</text>\n",
       "</g>\n",
       "<!-- plant&#45;part&#45;&#45;xylem -->\n",
       "<g id=\"edge24\" class=\"edge\"><title>plant-part--xylem</title>\n",
       "<path fill=\"none\" stroke=\"black\" stroke-width=\"0.5\" d=\"M748.557,-156.297C792.44,-147.713 864.977,-131.75 925,-110 927.875,-108.958 930.825,-107.758 933.739,-106.484\"/>\n",
       "<polygon fill=\"none\" stroke=\"black\" stroke-width=\"0.5\" points=\"747.734,-152.891 738.576,-158.219 749.057,-159.765 747.734,-152.891\"/>\n",
       "</g>\n",
       "<!-- elephant -->\n",
       "<g id=\"node25\" class=\"node\"><title>elephant</title>\n",
       "<path fill=\"aliceblue\" stroke=\"black\" stroke-width=\"0.5\" d=\"M1178,-0.5C1178,-0.5 1208,-0.5 1208,-0.5 1214,-0.5 1220,-6.5 1220,-12.5 1220,-12.5 1220,-24.5 1220,-24.5 1220,-30.5 1214,-36.5 1208,-36.5 1208,-36.5 1178,-36.5 1178,-36.5 1172,-36.5 1166,-30.5 1166,-24.5 1166,-24.5 1166,-12.5 1166,-12.5 1166,-6.5 1172,-0.5 1178,-0.5\"/>\n",
       "<text text-anchor=\"middle\" x=\"1193\" y=\"-15.7\" font-family=\"Times New Roman,serif\" font-size=\"11.00\">elephant</text>\n",
       "</g>\n",
       "<!-- herbivore&#45;&#45;elephant -->\n",
       "<g id=\"edge22\" class=\"edge\"><title>herbivore--elephant</title>\n",
       "<path fill=\"none\" stroke=\"black\" stroke-width=\"0.5\" d=\"M1193,-63.2534C1193,-54.2651 1193,-44.5295 1193,-36.5288\"/>\n",
       "<polygon fill=\"none\" stroke=\"black\" stroke-width=\"0.5\" points=\"1189.5,-63.3128 1193,-73.3129 1196.5,-63.3129 1189.5,-63.3128\"/>\n",
       "</g>\n",
       "<!-- lion -->\n",
       "<g id=\"node19\" class=\"node\"><title>lion</title>\n",
       "<path fill=\"aliceblue\" stroke=\"black\" stroke-width=\"0.5\" d=\"M1330,-0.5C1330,-0.5 1360,-0.5 1360,-0.5 1366,-0.5 1372,-6.5 1372,-12.5 1372,-12.5 1372,-24.5 1372,-24.5 1372,-30.5 1366,-36.5 1360,-36.5 1360,-36.5 1330,-36.5 1330,-36.5 1324,-36.5 1318,-30.5 1318,-24.5 1318,-24.5 1318,-12.5 1318,-12.5 1318,-6.5 1324,-0.5 1330,-0.5\"/>\n",
       "<text text-anchor=\"middle\" x=\"1345\" y=\"-15.7\" font-family=\"Times New Roman,serif\" font-size=\"11.00\">lion</text>\n",
       "</g>\n",
       "<!-- carnivore&#45;&#45;lion -->\n",
       "<g id=\"edge16\" class=\"edge\"><title>carnivore--lion</title>\n",
       "<path fill=\"none\" stroke=\"black\" stroke-width=\"0.5\" d=\"M1345,-63.2534C1345,-54.2651 1345,-44.5295 1345,-36.5288\"/>\n",
       "<polygon fill=\"none\" stroke=\"black\" stroke-width=\"0.5\" points=\"1341.5,-63.3128 1345,-73.3129 1348.5,-63.3129 1341.5,-63.3128\"/>\n",
       "</g>\n",
       "<!-- parsnip -->\n",
       "<g id=\"node23\" class=\"node\"><title>parsnip</title>\n",
       "<path fill=\"aliceblue\" stroke=\"black\" stroke-width=\"0.5\" d=\"M874,-0.5C874,-0.5 904,-0.5 904,-0.5 910,-0.5 916,-6.5 916,-12.5 916,-12.5 916,-24.5 916,-24.5 916,-30.5 910,-36.5 904,-36.5 904,-36.5 874,-36.5 874,-36.5 868,-36.5 862,-30.5 862,-24.5 862,-24.5 862,-12.5 862,-12.5 862,-6.5 868,-0.5 874,-0.5\"/>\n",
       "<text text-anchor=\"middle\" x=\"889\" y=\"-15.7\" font-family=\"Times New Roman,serif\" font-size=\"11.00\">parsnip</text>\n",
       "</g>\n",
       "<!-- root&#45;&#45;parsnip -->\n",
       "<g id=\"edge20\" class=\"edge\"><title>root--parsnip</title>\n",
       "<path fill=\"none\" stroke=\"black\" stroke-width=\"0.5\" d=\"M889,-63.2534C889,-54.2651 889,-44.5295 889,-36.5288\"/>\n",
       "<polygon fill=\"none\" stroke=\"black\" stroke-width=\"0.5\" points=\"885.5,-63.3128 889,-73.3129 892.5,-63.3129 885.5,-63.3128\"/>\n",
       "</g>\n",
       "</g>\n",
       "</svg>"
      ],
      "text/plain": [
       "<IPython.core.display.SVG object>"
      ]
     },
     "execution_count": 5,
     "metadata": {},
     "output_type": "execute_result"
    }
   ],
   "source": [
    "onto=buildOntology(parts_editors)\n",
    "onto.draw_graph(layout='hierarchical')"
   ]
  },
  {
   "cell_type": "markdown",
   "metadata": {},
   "source": [
    "It is fully compatible with OWL/RDF format (via OWLAPI). We can always export it as it is."
   ]
  },
  {
   "cell_type": "markdown",
   "metadata": {},
   "source": [
    "### Part-2: Disjointness\n",
    "In OWL/RL+SWRL profile we deal with Open World Assumption. It means that we need to explicitly specify all the objects that are different from each other. We cannot assume (like e.g. object oriented programming language do) that the different names mean the different things, therefore we need to specify explicitly if two things are different."
   ]
  },
  {
   "cell_type": "code",
   "execution_count": 7,
   "metadata": {
    "scrolled": false
   },
   "outputs": [
    {
     "data": {
      "application/vnd.jupyter.widget-view+json": {
       "model_id": "f41c4ee27ef54a41827f2930ec0b8aaf",
       "version_major": 2,
       "version_minor": 0
      },
      "text/plain": [
       "VBox(children=(Output(), OntoeditWidget(layout=Layout(height='100%', width='90%'), value='Every-single-thing t…"
      ]
     },
     "metadata": {},
     "output_type": "display_data"
    }
   ],
   "source": [
    "parts_editors['02']=CnlEditBox('part_02.encnl',onto)\n",
    "parts_editors['02']"
   ]
  },
  {
   "cell_type": "markdown",
   "metadata": {},
   "source": [
    "Lets test how it works on the example. The example will be defining several instances, that aim to break the consistency of the ontology in som not obvious way."
   ]
  },
  {
   "cell_type": "code",
   "execution_count": 8,
   "metadata": {},
   "outputs": [
    {
     "data": {
      "application/vnd.jupyter.widget-view+json": {
       "model_id": "18958748b61948f9a54d92690ff2528a",
       "version_major": 2,
       "version_minor": 0
      },
      "text/plain": [
       "VBox(children=(Output(), OntoeditWidget(layout=Layout(height='100%', width='90%'), value='Leo-01 is a lion.\\nL…"
      ]
     },
     "metadata": {},
     "output_type": "display_data"
    }
   ],
   "source": [
    "test_01_edit = CnlEditBox('test_01.encnl',onto)\n",
    "test_01_edit"
   ]
  },
  {
   "cell_type": "markdown",
   "metadata": {},
   "source": [
    "Lets load all the parts ontology ontology togheter with the testing part into the newly created obeject. "
   ]
  },
  {
   "cell_type": "code",
   "execution_count": 9,
   "metadata": {},
   "outputs": [],
   "source": [
    "onto=buildOntology(parts_editors,test_01_edit)"
   ]
  },
  {
   "cell_type": "markdown",
   "metadata": {},
   "source": [
    "We will need also some way to describe what is wrong `printReasoningInfo` and why `printWhy`."
   ]
  },
  {
   "cell_type": "code",
   "execution_count": 10,
   "metadata": {},
   "outputs": [],
   "source": [
    "import json\n",
    "\n",
    "def printReasoningInfo(onto):\n",
    "    info=onto.reasoningInfo()\n",
    "    if info == \"\":\n",
    "        print('all good!')\n",
    "    else:\n",
    "        print(json.dumps(json.loads(info), indent=2, sort_keys=True))\n",
    "\n",
    "def printWhy(onto,fact):\n",
    "    info=json.loads(onto.why(fact))\n",
    "    print(json.dumps(info, indent=2, sort_keys=True))"
   ]
  },
  {
   "cell_type": "markdown",
   "metadata": {},
   "source": [
    "So what is wrong here?"
   ]
  },
  {
   "cell_type": "code",
   "execution_count": 11,
   "metadata": {},
   "outputs": [
    {
     "name": "stdout",
     "output_type": "stream",
     "text": [
      "{\n",
      "  \"errors\": [\n",
      "    {\n",
      "      \"content\": \"Complement classes\",\n",
      "      \"title\": \"inconsistency\",\n",
      "      \"vals\": {\n",
      "        \"concept\": \"animal\",\n",
      "        \"instance\": \"Mary-01\"\n",
      "      }\n",
      "    }\n",
      "  ]\n",
      "}\n"
     ]
    }
   ],
   "source": [
    "printReasoningInfo(onto)"
   ]
  },
  {
   "cell_type": "markdown",
   "metadata": {},
   "source": [
    "Lets draw it on a diagram, this time using force directed layout."
   ]
  },
  {
   "cell_type": "code",
   "execution_count": 12,
   "metadata": {},
   "outputs": [
    {
     "data": {
      "image/svg+xml": [
       "<svg xmlns=\"http://www.w3.org/2000/svg\" xmlns:xlink=\"http://www.w3.org/1999/xlink\" width=\"997pt\" height=\"761pt\" viewBox=\"0.00 0.00 997.00 761.00\">\n",
       "<g id=\"graph0\" class=\"graph\" transform=\"scale(1 1) rotate(0) translate(4 757)\">\n",
       "<title>G</title>\n",
       "<polygon fill=\"white\" stroke=\"none\" points=\"-4,4 -4,-757 993,-757 993,4 -4,4\"/>\n",
       "<!-- tasty&#45;plant -->\n",
       "<g id=\"node1\" class=\"node\"><title>tasty-plant</title>\n",
       "<path fill=\"aliceblue\" stroke=\"black\" stroke-width=\"0.5\" d=\"M112.012,-560.671C112.012,-560.671 150.012,-560.671 150.012,-560.671 156.012,-560.671 162.012,-566.671 162.012,-572.671 162.012,-572.671 162.012,-584.671 162.012,-584.671 162.012,-590.671 156.012,-596.671 150.012,-596.671 150.012,-596.671 112.012,-596.671 112.012,-596.671 106.012,-596.671 100.012,-590.671 100.012,-584.671 100.012,-584.671 100.012,-572.671 100.012,-572.671 100.012,-566.671 106.012,-560.671 112.012,-560.671\"/>\n",
       "<text text-anchor=\"middle\" x=\"131.012\" y=\"-575.871\" font-family=\"Times New Roman,serif\" font-size=\"11.00\">tasty-plant</text>\n",
       "</g>\n",
       "<!-- plant -->\n",
       "<g id=\"node2\" class=\"node\"><title>plant</title>\n",
       "<path fill=\"aliceblue\" stroke=\"black\" stroke-width=\"0.5\" d=\"M265.155,-534.032C265.155,-534.032 295.155,-534.032 295.155,-534.032 301.155,-534.032 307.155,-540.032 307.155,-546.032 307.155,-546.032 307.155,-558.032 307.155,-558.032 307.155,-564.032 301.155,-570.032 295.155,-570.032 295.155,-570.032 265.155,-570.032 265.155,-570.032 259.155,-570.032 253.155,-564.032 253.155,-558.032 253.155,-558.032 253.155,-546.032 253.155,-546.032 253.155,-540.032 259.155,-534.032 265.155,-534.032\"/>\n",
       "<text text-anchor=\"middle\" x=\"280.155\" y=\"-549.232\" font-family=\"Times New Roman,serif\" font-size=\"11.00\">plant</text>\n",
       "</g>\n",
       "<!-- plant&#45;&#45;tasty&#45;plant -->\n",
       "<g id=\"edge1\" class=\"edge\"><title>plant--tasty-plant</title>\n",
       "<path fill=\"none\" stroke=\"black\" stroke-width=\"0.5\" d=\"M242.991,-558.67C218.114,-563.114 185.741,-568.896 162.206,-573.1\"/>\n",
       "<polygon fill=\"none\" stroke=\"black\" stroke-width=\"0.5\" points=\"243.918,-562.06 253.146,-556.856 242.687,-555.169 243.918,-562.06\"/>\n",
       "</g>\n",
       "<!-- carnivorous&#45;plant -->\n",
       "<g id=\"node15\" class=\"node\"><title>carnivorous-plant</title>\n",
       "<path fill=\"aliceblue\" stroke=\"black\" stroke-width=\"0.5\" d=\"M109.09,-648.935C109.09,-648.935 177.09,-648.935 177.09,-648.935 183.09,-648.935 189.09,-654.935 189.09,-660.935 189.09,-660.935 189.09,-672.935 189.09,-672.935 189.09,-678.935 183.09,-684.935 177.09,-684.935 177.09,-684.935 109.09,-684.935 109.09,-684.935 103.09,-684.935 97.0899,-678.935 97.0899,-672.935 97.0899,-672.935 97.0899,-660.935 97.0899,-660.935 97.0899,-654.935 103.09,-648.935 109.09,-648.935\"/>\n",
       "<text text-anchor=\"middle\" x=\"143.09\" y=\"-664.135\" font-family=\"Times New Roman,serif\" font-size=\"11.00\">carnivorous-plant</text>\n",
       "</g>\n",
       "<!-- plant&#45;&#45;carnivorous&#45;plant -->\n",
       "<g id=\"edge12\" class=\"edge\"><title>plant--carnivorous-plant</title>\n",
       "<path fill=\"none\" stroke=\"black\" stroke-width=\"0.5\" d=\"M250.469,-576.919C224.642,-598.569 187.825,-629.433 164.707,-648.814\"/>\n",
       "<polygon fill=\"none\" stroke=\"black\" stroke-width=\"0.5\" points=\"253.022,-579.346 258.437,-570.239 248.525,-573.981 253.022,-579.346\"/>\n",
       "</g>\n",
       "<!-- palm&#45;tree -->\n",
       "<g id=\"node20\" class=\"node\"><title>palm-tree</title>\n",
       "<path fill=\"aliceblue\" stroke=\"black\" stroke-width=\"0.5\" d=\"M388.678,-411.058C388.678,-411.058 423.678,-411.058 423.678,-411.058 429.678,-411.058 435.678,-417.058 435.678,-423.058 435.678,-423.058 435.678,-435.058 435.678,-435.058 435.678,-441.058 429.678,-447.058 423.678,-447.058 423.678,-447.058 388.678,-447.058 388.678,-447.058 382.678,-447.058 376.678,-441.058 376.678,-435.058 376.678,-435.058 376.678,-423.058 376.678,-423.058 376.678,-417.058 382.678,-411.058 388.678,-411.058\"/>\n",
       "<text text-anchor=\"middle\" x=\"406.178\" y=\"-426.258\" font-family=\"Times New Roman,serif\" font-size=\"11.00\">palm-tree</text>\n",
       "</g>\n",
       "<!-- plant&#45;&#45;palm&#45;tree -->\n",
       "<g id=\"edge17\" class=\"edge\"><title>plant--palm-tree</title>\n",
       "<path fill=\"none\" stroke=\"black\" stroke-width=\"0.5\" d=\"M306.192,-526.625C330.434,-502.97 365.974,-468.29 387.507,-447.278\"/>\n",
       "<polygon fill=\"none\" stroke=\"black\" stroke-width=\"0.5\" points=\"303.463,-524.398 298.75,-533.887 308.352,-529.408 303.463,-524.398\"/>\n",
       "</g>\n",
       "<!-- tree -->\n",
       "<g id=\"node22\" class=\"node\"><title>tree</title>\n",
       "<path fill=\"aliceblue\" stroke=\"black\" stroke-width=\"0.5\" d=\"M334.387,-673.341C334.387,-673.341 364.387,-673.341 364.387,-673.341 370.387,-673.341 376.387,-679.341 376.387,-685.341 376.387,-685.341 376.387,-697.341 376.387,-697.341 376.387,-703.341 370.387,-709.341 364.387,-709.341 364.387,-709.341 334.387,-709.341 334.387,-709.341 328.387,-709.341 322.387,-703.341 322.387,-697.341 322.387,-697.341 322.387,-685.341 322.387,-685.341 322.387,-679.341 328.387,-673.341 334.387,-673.341\"/>\n",
       "<text text-anchor=\"middle\" x=\"349.387\" y=\"-688.541\" font-family=\"Times New Roman,serif\" font-size=\"11.00\">tree</text>\n",
       "</g>\n",
       "<!-- plant&#45;&#45;tree -->\n",
       "<g id=\"edge19\" class=\"edge\"><title>plant--tree</title>\n",
       "<path fill=\"none\" stroke=\"black\" stroke-width=\"0.5\" d=\"M293.755,-579.399C307.535,-607.127 328.464,-649.24 340.334,-673.125\"/>\n",
       "<polygon fill=\"none\" stroke=\"black\" stroke-width=\"0.5\" points=\"296.791,-577.642 289.206,-570.245 290.522,-580.757 296.791,-577.642\"/>\n",
       "</g>\n",
       "<!-- grass -->\n",
       "<g id=\"node26\" class=\"node\"><title>grass</title>\n",
       "<path fill=\"aliceblue\" stroke=\"black\" stroke-width=\"0.5\" d=\"M233.531,-716.811C233.531,-716.811 263.531,-716.811 263.531,-716.811 269.531,-716.811 275.531,-722.811 275.531,-728.811 275.531,-728.811 275.531,-740.811 275.531,-740.811 275.531,-746.811 269.531,-752.811 263.531,-752.811 263.531,-752.811 233.531,-752.811 233.531,-752.811 227.531,-752.811 221.531,-746.811 221.531,-740.811 221.531,-740.811 221.531,-728.811 221.531,-728.811 221.531,-722.811 227.531,-716.811 233.531,-716.811\"/>\n",
       "<text text-anchor=\"middle\" x=\"248.531\" y=\"-732.011\" font-family=\"Times New Roman,serif\" font-size=\"11.00\">grass</text>\n",
       "</g>\n",
       "<!-- plant&#45;&#45;grass -->\n",
       "<g id=\"edge23\" class=\"edge\"><title>plant--grass</title>\n",
       "<path fill=\"none\" stroke=\"black\" stroke-width=\"0.5\" d=\"M275.295,-580.124C268.725,-618.095 257.198,-684.72 251.666,-716.691\"/>\n",
       "<polygon fill=\"none\" stroke=\"black\" stroke-width=\"0.5\" points=\"278.751,-580.676 277.007,-570.226 271.854,-579.483 278.751,-580.676\"/>\n",
       "</g>\n",
       "<!-- apple -->\n",
       "<g id=\"node3\" class=\"node\"><title>apple</title>\n",
       "<path fill=\"aliceblue\" stroke=\"black\" stroke-width=\"0.5\" d=\"M428.079,-562.001C428.079,-562.001 458.079,-562.001 458.079,-562.001 464.079,-562.001 470.079,-568.001 470.079,-574.001 470.079,-574.001 470.079,-586.001 470.079,-586.001 470.079,-592.001 464.079,-598.001 458.079,-598.001 458.079,-598.001 428.079,-598.001 428.079,-598.001 422.079,-598.001 416.079,-592.001 416.079,-586.001 416.079,-586.001 416.079,-574.001 416.079,-574.001 416.079,-568.001 422.079,-562.001 428.079,-562.001\"/>\n",
       "<text text-anchor=\"middle\" x=\"443.079\" y=\"-577.201\" font-family=\"Times New Roman,serif\" font-size=\"11.00\">apple</text>\n",
       "</g>\n",
       "<!-- fruiting&#45;body -->\n",
       "<g id=\"node4\" class=\"node\"><title>fruiting-body</title>\n",
       "<path fill=\"aliceblue\" stroke=\"black\" stroke-width=\"0.5\" d=\"M299.916,-419.387C299.916,-419.387 347.916,-419.387 347.916,-419.387 353.916,-419.387 359.916,-425.387 359.916,-431.387 359.916,-431.387 359.916,-443.387 359.916,-443.387 359.916,-449.387 353.916,-455.387 347.916,-455.387 347.916,-455.387 299.916,-455.387 299.916,-455.387 293.916,-455.387 287.916,-449.387 287.916,-443.387 287.916,-443.387 287.916,-431.387 287.916,-431.387 287.916,-425.387 293.916,-419.387 299.916,-419.387\"/>\n",
       "<text text-anchor=\"middle\" x=\"323.916\" y=\"-434.587\" font-family=\"Times New Roman,serif\" font-size=\"11.00\">fruiting-body</text>\n",
       "</g>\n",
       "<!-- fruiting&#45;body&#45;&#45;apple -->\n",
       "<g id=\"edge2\" class=\"edge\"><title>fruiting-body--apple</title>\n",
       "<path fill=\"none\" stroke=\"black\" stroke-width=\"0.5\" d=\"M345.612,-463.353C369.367,-491.781 406.85,-536.641 427.733,-561.635\"/>\n",
       "<polygon fill=\"none\" stroke=\"black\" stroke-width=\"0.5\" points=\"348.106,-460.879 339.008,-455.449 342.735,-465.367 348.106,-460.879\"/>\n",
       "</g>\n",
       "<!-- berry -->\n",
       "<g id=\"node12\" class=\"node\"><title>berry</title>\n",
       "<path fill=\"aliceblue\" stroke=\"black\" stroke-width=\"0.5\" d=\"M452.169,-472.642C452.169,-472.642 482.169,-472.642 482.169,-472.642 488.169,-472.642 494.169,-478.642 494.169,-484.642 494.169,-484.642 494.169,-496.642 494.169,-496.642 494.169,-502.642 488.169,-508.642 482.169,-508.642 482.169,-508.642 452.169,-508.642 452.169,-508.642 446.169,-508.642 440.169,-502.642 440.169,-496.642 440.169,-496.642 440.169,-484.642 440.169,-484.642 440.169,-478.642 446.169,-472.642 452.169,-472.642\"/>\n",
       "<text text-anchor=\"middle\" x=\"467.169\" y=\"-487.842\" font-family=\"Times New Roman,serif\" font-size=\"11.00\">berry</text>\n",
       "</g>\n",
       "<!-- fruiting&#45;body&#45;&#45;berry -->\n",
       "<g id=\"edge9\" class=\"edge\"><title>fruiting-body--berry</title>\n",
       "<path fill=\"none\" stroke=\"black\" stroke-width=\"0.5\" d=\"M369.713,-454.412C392.901,-463.033 420.259,-473.203 440.077,-480.57\"/>\n",
       "<polygon fill=\"none\" stroke=\"black\" stroke-width=\"0.5\" points=\"370.658,-451.029 360.065,-450.825 368.219,-457.591 370.658,-451.029\"/>\n",
       "</g>\n",
       "<!-- rock&#45;dassie -->\n",
       "<g id=\"node5\" class=\"node\"><title>rock-dassie</title>\n",
       "<path fill=\"aliceblue\" stroke=\"black\" stroke-width=\"0.5\" d=\"M902.809,-528.597C902.809,-528.597 945.809,-528.597 945.809,-528.597 951.809,-528.597 957.809,-534.597 957.809,-540.597 957.809,-540.597 957.809,-552.597 957.809,-552.597 957.809,-558.597 951.809,-564.597 945.809,-564.597 945.809,-564.597 902.809,-564.597 902.809,-564.597 896.809,-564.597 890.809,-558.597 890.809,-552.597 890.809,-552.597 890.809,-540.597 890.809,-540.597 890.809,-534.597 896.809,-528.597 902.809,-528.597\"/>\n",
       "<text text-anchor=\"middle\" x=\"924.309\" y=\"-543.797\" font-family=\"Times New Roman,serif\" font-size=\"11.00\">rock-dassie</text>\n",
       "</g>\n",
       "<!-- animal -->\n",
       "<g id=\"node6\" class=\"node\"><title>animal</title>\n",
       "<path fill=\"aliceblue\" stroke=\"black\" stroke-width=\"0.5\" d=\"M788.97,-393.826C788.97,-393.826 818.97,-393.826 818.97,-393.826 824.97,-393.826 830.97,-399.826 830.97,-405.826 830.97,-405.826 830.97,-417.826 830.97,-417.826 830.97,-423.826 824.97,-429.826 818.97,-429.826 818.97,-429.826 788.97,-429.826 788.97,-429.826 782.97,-429.826 776.97,-423.826 776.97,-417.826 776.97,-417.826 776.97,-405.826 776.97,-405.826 776.97,-399.826 782.97,-393.826 788.97,-393.826\"/>\n",
       "<text text-anchor=\"middle\" x=\"803.97\" y=\"-409.026\" font-family=\"Times New Roman,serif\" font-size=\"11.00\">animal</text>\n",
       "</g>\n",
       "<!-- animal&#45;&#45;rock&#45;dassie -->\n",
       "<g id=\"edge3\" class=\"edge\"><title>animal--rock-dassie</title>\n",
       "<path fill=\"none\" stroke=\"black\" stroke-width=\"0.5\" d=\"M827.124,-437.756C850.831,-464.306 887.076,-504.898 907.953,-528.279\"/>\n",
       "<polygon fill=\"none\" stroke=\"black\" stroke-width=\"0.5\" points=\"829.471,-435.13 820.2,-430.002 824.25,-439.792 829.471,-435.13\"/>\n",
       "</g>\n",
       "<!-- warthog -->\n",
       "<g id=\"node11\" class=\"node\"><title>warthog</title>\n",
       "<path fill=\"aliceblue\" stroke=\"black\" stroke-width=\"0.5\" d=\"M774.291,-539.903C774.291,-539.903 804.291,-539.903 804.291,-539.903 810.291,-539.903 816.291,-545.903 816.291,-551.903 816.291,-551.903 816.291,-563.903 816.291,-563.903 816.291,-569.903 810.291,-575.903 804.291,-575.903 804.291,-575.903 774.291,-575.903 774.291,-575.903 768.291,-575.903 762.291,-569.903 762.291,-563.903 762.291,-563.903 762.291,-551.903 762.291,-551.903 762.291,-545.903 768.291,-539.903 774.291,-539.903\"/>\n",
       "<text text-anchor=\"middle\" x=\"789.291\" y=\"-555.103\" font-family=\"Times New Roman,serif\" font-size=\"11.00\">warthog</text>\n",
       "</g>\n",
       "<!-- animal&#45;&#45;warthog -->\n",
       "<g id=\"edge7\" class=\"edge\"><title>animal--warthog</title>\n",
       "<path fill=\"none\" stroke=\"black\" stroke-width=\"0.5\" d=\"M801.133,-440.059C798.186,-469.385 793.661,-514.415 791.144,-539.468\"/>\n",
       "<polygon fill=\"none\" stroke=\"black\" stroke-width=\"0.5\" points=\"804.624,-440.331 802.141,-430.031 797.659,-439.631 804.624,-440.331\"/>\n",
       "</g>\n",
       "<!-- herbivore -->\n",
       "<g id=\"node13\" class=\"node\"><title>herbivore</title>\n",
       "<path fill=\"aliceblue\" stroke=\"black\" stroke-width=\"0.5\" d=\"M644.871,-293.81C644.871,-293.81 678.871,-293.81 678.871,-293.81 684.871,-293.81 690.871,-299.81 690.871,-305.81 690.871,-305.81 690.871,-317.81 690.871,-317.81 690.871,-323.81 684.871,-329.81 678.871,-329.81 678.871,-329.81 644.871,-329.81 644.871,-329.81 638.871,-329.81 632.871,-323.81 632.871,-317.81 632.871,-317.81 632.871,-305.81 632.871,-305.81 632.871,-299.81 638.871,-293.81 644.871,-293.81\"/>\n",
       "<text text-anchor=\"middle\" x=\"661.871\" y=\"-309.01\" font-family=\"Times New Roman,serif\" font-size=\"11.00\">herbivore</text>\n",
       "</g>\n",
       "<!-- animal&#45;&#45;herbivore -->\n",
       "<g id=\"edge10\" class=\"edge\"><title>animal--herbivore</title>\n",
       "<path fill=\"none\" stroke=\"black\" stroke-width=\"0.5\" d=\"M770.051,-387.952C744.848,-370.213 710.977,-346.373 687.893,-330.125\"/>\n",
       "<polygon fill=\"none\" stroke=\"black\" stroke-width=\"0.5\" points=\"768.045,-390.82 778.237,-393.714 772.074,-385.096 768.045,-390.82\"/>\n",
       "</g>\n",
       "<!-- omnivore -->\n",
       "<g id=\"node14\" class=\"node\"><title>omnivore</title>\n",
       "<path fill=\"aliceblue\" stroke=\"black\" stroke-width=\"0.5\" d=\"M704.566,-460.419C704.566,-460.419 737.566,-460.419 737.566,-460.419 743.566,-460.419 749.566,-466.419 749.566,-472.419 749.566,-472.419 749.566,-484.419 749.566,-484.419 749.566,-490.419 743.566,-496.419 737.566,-496.419 737.566,-496.419 704.566,-496.419 704.566,-496.419 698.566,-496.419 692.566,-490.419 692.566,-484.419 692.566,-484.419 692.566,-472.419 692.566,-472.419 692.566,-466.419 698.566,-460.419 704.566,-460.419\"/>\n",
       "<text text-anchor=\"middle\" x=\"721.066\" y=\"-475.619\" font-family=\"Times New Roman,serif\" font-size=\"11.00\">omnivore</text>\n",
       "</g>\n",
       "<!-- animal&#45;&#45;omnivore -->\n",
       "<g id=\"edge11\" class=\"edge\"><title>animal--omnivore</title>\n",
       "<path fill=\"none\" stroke=\"black\" stroke-width=\"0.5\" d=\"M773.329,-436.439C763.514,-444.323 752.829,-452.906 743.693,-460.244\"/>\n",
       "<polygon fill=\"none\" stroke=\"black\" stroke-width=\"0.5\" points=\"775.712,-439.014 781.317,-430.023 771.328,-433.556 775.712,-439.014\"/>\n",
       "</g>\n",
       "<!-- carnivore -->\n",
       "<g id=\"node17\" class=\"node\"><title>carnivore</title>\n",
       "<path fill=\"aliceblue\" stroke=\"black\" stroke-width=\"0.5\" d=\"M863.265,-253.413C863.265,-253.413 897.265,-253.413 897.265,-253.413 903.265,-253.413 909.265,-259.413 909.265,-265.413 909.265,-265.413 909.265,-277.413 909.265,-277.413 909.265,-283.413 903.265,-289.413 897.265,-289.413 897.265,-289.413 863.265,-289.413 863.265,-289.413 857.265,-289.413 851.265,-283.413 851.265,-277.413 851.265,-277.413 851.265,-265.413 851.265,-265.413 851.265,-259.413 857.265,-253.413 863.265,-253.413\"/>\n",
       "<text text-anchor=\"middle\" x=\"880.265\" y=\"-268.613\" font-family=\"Times New Roman,serif\" font-size=\"11.00\">carnivore</text>\n",
       "</g>\n",
       "<!-- animal&#45;&#45;carnivore -->\n",
       "<g id=\"edge14\" class=\"edge\"><title>animal--carnivore</title>\n",
       "<path fill=\"none\" stroke=\"black\" stroke-width=\"0.5\" d=\"M819.369,-384.745C825.673,-373.567 833,-360.459 839.501,-348.528 850.441,-328.449 862.658,-305.227 870.839,-289.556\"/>\n",
       "<polygon fill=\"none\" stroke=\"black\" stroke-width=\"0.5\" points=\"816.231,-383.184 814.355,-393.612 822.324,-386.63 816.231,-383.184\"/>\n",
       "</g>\n",
       "<!-- impala -->\n",
       "<g id=\"node21\" class=\"node\"><title>impala</title>\n",
       "<path fill=\"aliceblue\" stroke=\"black\" stroke-width=\"0.5\" d=\"M947.012,-401.172C947.012,-401.172 977.012,-401.172 977.012,-401.172 983.012,-401.172 989.012,-407.172 989.012,-413.172 989.012,-413.172 989.012,-425.172 989.012,-425.172 989.012,-431.172 983.012,-437.172 977.012,-437.172 977.012,-437.172 947.012,-437.172 947.012,-437.172 941.012,-437.172 935.012,-431.172 935.012,-425.172 935.012,-425.172 935.012,-413.172 935.012,-413.172 935.012,-407.172 941.012,-401.172 947.012,-401.172\"/>\n",
       "<text text-anchor=\"middle\" x=\"962.012\" y=\"-416.372\" font-family=\"Times New Roman,serif\" font-size=\"11.00\">impala</text>\n",
       "</g>\n",
       "<!-- animal&#45;&#45;impala -->\n",
       "<g id=\"edge18\" class=\"edge\"><title>animal--impala</title>\n",
       "<path fill=\"none\" stroke=\"black\" stroke-width=\"0.5\" d=\"M841.222,-413.557C869.984,-414.894 909.105,-416.713 934.934,-417.914\"/>\n",
       "<polygon fill=\"none\" stroke=\"black\" stroke-width=\"0.5\" points=\"841.29,-410.057 831.139,-413.089 840.965,-417.049 841.29,-410.057\"/>\n",
       "</g>\n",
       "<!-- giraffe -->\n",
       "<g id=\"node28\" class=\"node\"><title>giraffe</title>\n",
       "<path fill=\"aliceblue\" stroke=\"black\" stroke-width=\"0.5\" d=\"M794.301,-309.328C794.301,-309.328 824.301,-309.328 824.301,-309.328 830.301,-309.328 836.301,-315.328 836.301,-321.328 836.301,-321.328 836.301,-333.328 836.301,-333.328 836.301,-339.328 830.301,-345.328 824.301,-345.328 824.301,-345.328 794.301,-345.328 794.301,-345.328 788.301,-345.328 782.301,-339.328 782.301,-333.328 782.301,-333.328 782.301,-321.328 782.301,-321.328 782.301,-315.328 788.301,-309.328 794.301,-309.328\"/>\n",
       "<text text-anchor=\"middle\" x=\"809.301\" y=\"-324.528\" font-family=\"Times New Roman,serif\" font-size=\"11.00\">giraffe</text>\n",
       "</g>\n",
       "<!-- animal&#45;&#45;giraffe -->\n",
       "<g id=\"edge25\" class=\"edge\"><title>animal--giraffe</title>\n",
       "<path fill=\"none\" stroke=\"black\" stroke-width=\"0.5\" d=\"M805.76,-383.462C806.554,-370.867 807.466,-356.42 808.165,-345.337\"/>\n",
       "<polygon fill=\"none\" stroke=\"black\" stroke-width=\"0.5\" points=\"802.264,-383.29 805.127,-393.491 809.25,-383.731 802.264,-383.29\"/>\n",
       "</g>\n",
       "<!-- twig -->\n",
       "<g id=\"node7\" class=\"node\"><title>twig</title>\n",
       "<path fill=\"aliceblue\" stroke=\"black\" stroke-width=\"0.5\" d=\"M11.9334,-298.504C11.9334,-298.504 41.9334,-298.504 41.9334,-298.504 47.9334,-298.504 53.9334,-304.504 53.9334,-310.504 53.9334,-310.504 53.9334,-322.504 53.9334,-322.504 53.9334,-328.504 47.9334,-334.504 41.9334,-334.504 41.9334,-334.504 11.9334,-334.504 11.9334,-334.504 5.93337,-334.504 -0.0666343,-328.504 -0.0666343,-322.504 -0.0666343,-322.504 -0.0666343,-310.504 -0.0666343,-310.504 -0.0666343,-304.504 5.93337,-298.504 11.9334,-298.504\"/>\n",
       "<text text-anchor=\"middle\" x=\"26.9334\" y=\"-313.704\" font-family=\"Times New Roman,serif\" font-size=\"11.00\">twig</text>\n",
       "</g>\n",
       "<!-- plant&#45;part -->\n",
       "<g id=\"node8\" class=\"node\"><title>plant-part</title>\n",
       "<path fill=\"aliceblue\" stroke=\"black\" stroke-width=\"0.5\" d=\"M185.527,-260.708C185.527,-260.708 220.527,-260.708 220.527,-260.708 226.527,-260.708 232.527,-266.708 232.527,-272.708 232.527,-272.708 232.527,-284.708 232.527,-284.708 232.527,-290.708 226.527,-296.708 220.527,-296.708 220.527,-296.708 185.527,-296.708 185.527,-296.708 179.527,-296.708 173.527,-290.708 173.527,-284.708 173.527,-284.708 173.527,-272.708 173.527,-272.708 173.527,-266.708 179.527,-260.708 185.527,-260.708\"/>\n",
       "<text text-anchor=\"middle\" x=\"203.027\" y=\"-275.908\" font-family=\"Times New Roman,serif\" font-size=\"11.00\">plant-part</text>\n",
       "</g>\n",
       "<!-- plant&#45;part&#45;&#45;fruiting&#45;body -->\n",
       "<g id=\"edge8\" class=\"edge\"><title>plant-part--fruiting-body</title>\n",
       "<path fill=\"none\" stroke=\"black\" stroke-width=\"0.5\" d=\"M223.046,-304.985C247.549,-337.148 288.417,-390.791 309.838,-418.908\"/>\n",
       "<polygon fill=\"none\" stroke=\"black\" stroke-width=\"0.5\" points=\"225.739,-302.744 216.894,-296.911 220.17,-306.986 225.739,-302.744\"/>\n",
       "</g>\n",
       "<!-- plant&#45;part&#45;&#45;twig -->\n",
       "<g id=\"edge4\" class=\"edge\"><title>plant-part--twig</title>\n",
       "<path fill=\"none\" stroke=\"black\" stroke-width=\"0.5\" d=\"M163.274,-287.24C129.942,-294.395 83.2397,-304.419 54.056,-310.683\"/>\n",
       "<polygon fill=\"none\" stroke=\"black\" stroke-width=\"0.5\" points=\"164.112,-290.64 173.155,-285.12 162.643,-283.796 164.112,-290.64\"/>\n",
       "</g>\n",
       "<!-- stem -->\n",
       "<g id=\"node9\" class=\"node\"><title>stem</title>\n",
       "<path fill=\"aliceblue\" stroke=\"black\" stroke-width=\"0.5\" d=\"M78.0264,-368.393C78.0264,-368.393 108.026,-368.393 108.026,-368.393 114.026,-368.393 120.026,-374.393 120.026,-380.393 120.026,-380.393 120.026,-392.393 120.026,-392.393 120.026,-398.393 114.026,-404.393 108.026,-404.393 108.026,-404.393 78.0264,-404.393 78.0264,-404.393 72.0264,-404.393 66.0264,-398.393 66.0264,-392.393 66.0264,-392.393 66.0264,-380.393 66.0264,-380.393 66.0264,-374.393 72.0264,-368.393 78.0264,-368.393\"/>\n",
       "<text text-anchor=\"middle\" x=\"93.0264\" y=\"-383.593\" font-family=\"Times New Roman,serif\" font-size=\"11.00\">stem</text>\n",
       "</g>\n",
       "<!-- plant&#45;part&#45;&#45;stem -->\n",
       "<g id=\"edge5\" class=\"edge\"><title>plant-part--stem</title>\n",
       "<path fill=\"none\" stroke=\"black\" stroke-width=\"0.5\" d=\"M177.07,-304.119C157.019,-323.748 129.746,-350.446 111.778,-368.036\"/>\n",
       "<polygon fill=\"none\" stroke=\"black\" stroke-width=\"0.5\" points=\"179.669,-306.472 184.367,-296.975 174.772,-301.47 179.669,-306.472\"/>\n",
       "</g>\n",
       "<!-- leaf -->\n",
       "<g id=\"node10\" class=\"node\"><title>leaf</title>\n",
       "<path fill=\"aliceblue\" stroke=\"black\" stroke-width=\"0.5\" d=\"M234.36,-122.853C234.36,-122.853 264.36,-122.853 264.36,-122.853 270.36,-122.853 276.36,-128.853 276.36,-134.853 276.36,-134.853 276.36,-146.853 276.36,-146.853 276.36,-152.853 270.36,-158.853 264.36,-158.853 264.36,-158.853 234.36,-158.853 234.36,-158.853 228.36,-158.853 222.36,-152.853 222.36,-146.853 222.36,-146.853 222.36,-134.853 222.36,-134.853 222.36,-128.853 228.36,-122.853 234.36,-122.853\"/>\n",
       "<text text-anchor=\"middle\" x=\"249.36\" y=\"-138.053\" font-family=\"Times New Roman,serif\" font-size=\"11.00\">leaf</text>\n",
       "</g>\n",
       "<!-- plant&#45;part&#45;&#45;leaf -->\n",
       "<g id=\"edge6\" class=\"edge\"><title>plant-part--leaf</title>\n",
       "<path fill=\"none\" stroke=\"black\" stroke-width=\"0.5\" d=\"M210.514,-250.735C215.139,-234.139 221.416,-212.758 227.913,-194.068 232.033,-182.213 237.294,-169.137 241.573,-158.913\"/>\n",
       "<polygon fill=\"none\" stroke=\"black\" stroke-width=\"0.5\" points=\"207.137,-249.814 207.861,-260.384 213.887,-251.67 207.137,-249.814\"/>\n",
       "</g>\n",
       "<!-- phloem -->\n",
       "<g id=\"node16\" class=\"node\"><title>phloem</title>\n",
       "<path fill=\"aliceblue\" stroke=\"black\" stroke-width=\"0.5\" d=\"M298.651,-284.183C298.651,-284.183 328.651,-284.183 328.651,-284.183 334.651,-284.183 340.651,-290.183 340.651,-296.183 340.651,-296.183 340.651,-308.183 340.651,-308.183 340.651,-314.183 334.651,-320.183 328.651,-320.183 328.651,-320.183 298.651,-320.183 298.651,-320.183 292.651,-320.183 286.651,-314.183 286.651,-308.183 286.651,-308.183 286.651,-296.183 286.651,-296.183 286.651,-290.183 292.651,-284.183 298.651,-284.183\"/>\n",
       "<text text-anchor=\"middle\" x=\"313.651\" y=\"-299.383\" font-family=\"Times New Roman,serif\" font-size=\"11.00\">phloem</text>\n",
       "</g>\n",
       "<!-- plant&#45;part&#45;&#45;phloem -->\n",
       "<g id=\"edge13\" class=\"edge\"><title>plant-part--phloem</title>\n",
       "<path fill=\"none\" stroke=\"black\" stroke-width=\"0.5\" d=\"M242.474,-287.079C257.087,-290.18 273.313,-293.623 286.578,-296.438\"/>\n",
       "<polygon fill=\"none\" stroke=\"black\" stroke-width=\"0.5\" points=\"243.181,-283.651 232.672,-284.999 241.728,-290.499 243.181,-283.651\"/>\n",
       "</g>\n",
       "<!-- branch -->\n",
       "<g id=\"node18\" class=\"node\"><title>branch</title>\n",
       "<path fill=\"aliceblue\" stroke=\"black\" stroke-width=\"0.5\" d=\"M31.4277,-224.059C31.4277,-224.059 61.4277,-224.059 61.4277,-224.059 67.4277,-224.059 73.4277,-230.059 73.4277,-236.059 73.4277,-236.059 73.4277,-248.059 73.4277,-248.059 73.4277,-254.059 67.4277,-260.059 61.4277,-260.059 61.4277,-260.059 31.4277,-260.059 31.4277,-260.059 25.4277,-260.059 19.4277,-254.059 19.4277,-248.059 19.4277,-248.059 19.4277,-236.059 19.4277,-236.059 19.4277,-230.059 25.4277,-224.059 31.4277,-224.059\"/>\n",
       "<text text-anchor=\"middle\" x=\"46.4277\" y=\"-239.259\" font-family=\"Times New Roman,serif\" font-size=\"11.00\">branch</text>\n",
       "</g>\n",
       "<!-- plant&#45;part&#45;&#45;branch -->\n",
       "<g id=\"edge15\" class=\"edge\"><title>plant-part--branch</title>\n",
       "<path fill=\"none\" stroke=\"black\" stroke-width=\"0.5\" d=\"M163.292,-269.409C135.199,-262.834 98.2804,-254.194 73.5236,-248.4\"/>\n",
       "<polygon fill=\"none\" stroke=\"black\" stroke-width=\"0.5\" points=\"162.669,-272.858 173.203,-271.728 164.264,-266.042 162.669,-272.858\"/>\n",
       "</g>\n",
       "<!-- root -->\n",
       "<g id=\"node24\" class=\"node\"><title>root</title>\n",
       "<path fill=\"aliceblue\" stroke=\"black\" stroke-width=\"0.5\" d=\"M114.439,-158.954C114.439,-158.954 144.439,-158.954 144.439,-158.954 150.439,-158.954 156.439,-164.954 156.439,-170.954 156.439,-170.954 156.439,-182.954 156.439,-182.954 156.439,-188.954 150.439,-194.954 144.439,-194.954 144.439,-194.954 114.439,-194.954 114.439,-194.954 108.439,-194.954 102.439,-188.954 102.439,-182.954 102.439,-182.954 102.439,-170.954 102.439,-170.954 102.439,-164.954 108.439,-158.954 114.439,-158.954\"/>\n",
       "<text text-anchor=\"middle\" x=\"129.439\" y=\"-174.154\" font-family=\"Times New Roman,serif\" font-size=\"11.00\">root</text>\n",
       "</g>\n",
       "<!-- plant&#45;part&#45;&#45;root -->\n",
       "<g id=\"edge21\" class=\"edge\"><title>plant-part--root</title>\n",
       "<path fill=\"none\" stroke=\"black\" stroke-width=\"0.5\" d=\"M183.83,-252.164C170.815,-234.167 153.956,-210.855 142.481,-194.988\"/>\n",
       "<polygon fill=\"none\" stroke=\"black\" stroke-width=\"0.5\" points=\"181.174,-254.464 189.871,-260.516 186.847,-250.362 181.174,-254.464\"/>\n",
       "</g>\n",
       "<!-- xylem -->\n",
       "<g id=\"node27\" class=\"node\"><title>xylem</title>\n",
       "<path fill=\"aliceblue\" stroke=\"black\" stroke-width=\"0.5\" d=\"M243.113,-197.268C243.113,-197.268 273.113,-197.268 273.113,-197.268 279.113,-197.268 285.113,-203.268 285.113,-209.268 285.113,-209.268 285.113,-221.268 285.113,-221.268 285.113,-227.268 279.113,-233.268 273.113,-233.268 273.113,-233.268 243.113,-233.268 243.113,-233.268 237.113,-233.268 231.113,-227.268 231.113,-221.268 231.113,-221.268 231.113,-209.268 231.113,-209.268 231.113,-203.268 237.113,-197.268 243.113,-197.268\"/>\n",
       "<text text-anchor=\"middle\" x=\"258.113\" y=\"-212.468\" font-family=\"Times New Roman,serif\" font-size=\"11.00\">xylem</text>\n",
       "</g>\n",
       "<!-- plant&#45;part&#45;&#45;xylem -->\n",
       "<g id=\"edge24\" class=\"edge\"><title>plant-part--xylem</title>\n",
       "<path fill=\"none\" stroke=\"black\" stroke-width=\"0.5\" d=\"M225.537,-252.784C231.142,-246.329 237.035,-239.542 242.244,-233.543\"/>\n",
       "<polygon fill=\"none\" stroke=\"black\" stroke-width=\"0.5\" points=\"222.578,-250.853 218.665,-260.698 227.864,-255.442 222.578,-250.853\"/>\n",
       "</g>\n",
       "<!-- elephant -->\n",
       "<g id=\"node25\" class=\"node\"><title>elephant</title>\n",
       "<path fill=\"aliceblue\" stroke=\"black\" stroke-width=\"0.5\" d=\"M548.394,-147.3C548.394,-147.3 578.394,-147.3 578.394,-147.3 584.394,-147.3 590.394,-153.3 590.394,-159.3 590.394,-159.3 590.394,-171.3 590.394,-171.3 590.394,-177.3 584.394,-183.3 578.394,-183.3 578.394,-183.3 548.394,-183.3 548.394,-183.3 542.394,-183.3 536.394,-177.3 536.394,-171.3 536.394,-171.3 536.394,-159.3 536.394,-159.3 536.394,-153.3 542.394,-147.3 548.394,-147.3\"/>\n",
       "<text text-anchor=\"middle\" x=\"563.394\" y=\"-162.5\" font-family=\"Times New Roman,serif\" font-size=\"11.00\">elephant</text>\n",
       "</g>\n",
       "<!-- herbivore&#45;&#45;elephant -->\n",
       "<g id=\"edge22\" class=\"edge\"><title>herbivore--elephant</title>\n",
       "<path fill=\"none\" stroke=\"black\" stroke-width=\"0.5\" d=\"M643.835,-284.977C623.983,-255.442 592.622,-208.784 575.512,-183.329\"/>\n",
       "<polygon fill=\"none\" stroke=\"black\" stroke-width=\"0.5\" points=\"641.114,-287.204 649.598,-293.551 646.924,-283.299 641.114,-287.204\"/>\n",
       "</g>\n",
       "<!-- Mary&#45;01 -->\n",
       "<g id=\"node30\" class=\"node\"><title>Mary-01</title>\n",
       "<path fill=\"whitesmoke\" stroke=\"black\" stroke-width=\"0.5\" d=\"M516.574,-217.442C516.574,-217.442 547.574,-217.442 547.574,-217.442 553.574,-217.442 559.574,-223.442 559.574,-229.442 559.574,-229.442 559.574,-241.442 559.574,-241.442 559.574,-247.442 553.574,-253.442 547.574,-253.442 547.574,-253.442 516.574,-253.442 516.574,-253.442 510.574,-253.442 504.574,-247.442 504.574,-241.442 504.574,-241.442 504.574,-229.442 504.574,-229.442 504.574,-223.442 510.574,-217.442 516.574,-217.442\"/>\n",
       "<text text-anchor=\"middle\" x=\"532.074\" y=\"-232.642\" font-family=\"Times New Roman,serif\" font-size=\"11.00\">Mary-01</text>\n",
       "</g>\n",
       "<!-- herbivore&#45;&#45;Mary&#45;01 -->\n",
       "<g id=\"edge29\" class=\"edge\"><title>herbivore--Mary-01</title>\n",
       "<path fill=\"none\" stroke=\"black\" stroke-width=\"0.5\" stroke-dasharray=\"5,2\" d=\"M623.945,-289.496C603.403,-277.409 578.475,-262.743 559.772,-251.738\"/>\n",
       "<polygon fill=\"none\" stroke=\"black\" stroke-width=\"0.5\" points=\"622.348,-292.617 632.742,-294.671 625.898,-286.584 622.348,-292.617\"/>\n",
       "</g>\n",
       "<!-- Sophie&#45;01 -->\n",
       "<g id=\"node31\" class=\"node\"><title>Sophie-01</title>\n",
       "<path fill=\"whitesmoke\" stroke=\"black\" stroke-width=\"0.5\" d=\"M712.058,-189.906C712.058,-189.906 748.058,-189.906 748.058,-189.906 754.058,-189.906 760.058,-195.906 760.058,-201.906 760.058,-201.906 760.058,-213.906 760.058,-213.906 760.058,-219.906 754.058,-225.906 748.058,-225.906 748.058,-225.906 712.058,-225.906 712.058,-225.906 706.058,-225.906 700.058,-219.906 700.058,-213.906 700.058,-213.906 700.058,-201.906 700.058,-201.906 700.058,-195.906 706.058,-189.906 712.058,-189.906\"/>\n",
       "<text text-anchor=\"middle\" x=\"730.058\" y=\"-205.106\" font-family=\"Times New Roman,serif\" font-size=\"11.00\">Sophie-01</text>\n",
       "</g>\n",
       "<!-- herbivore&#45;&#45;Sophie&#45;01 -->\n",
       "<g id=\"edge31\" class=\"edge\"><title>herbivore--Sophie-01</title>\n",
       "<path fill=\"none\" stroke=\"black\" stroke-width=\"0.5\" stroke-dasharray=\"5,2\" d=\"M679.372,-285.142C691.514,-266.64 707.369,-242.48 718.088,-226.146\"/>\n",
       "<polygon fill=\"none\" stroke=\"black\" stroke-width=\"0.5\" points=\"676.309,-283.43 673.748,-293.711 682.161,-287.271 676.309,-283.43\"/>\n",
       "</g>\n",
       "<!-- lion -->\n",
       "<g id=\"node19\" class=\"node\"><title>lion</title>\n",
       "<path fill=\"aliceblue\" stroke=\"black\" stroke-width=\"0.5\" d=\"M840.682,-140.501C840.682,-140.501 870.682,-140.501 870.682,-140.501 876.682,-140.501 882.682,-146.501 882.682,-152.501 882.682,-152.501 882.682,-164.501 882.682,-164.501 882.682,-170.501 876.682,-176.501 870.682,-176.501 870.682,-176.501 840.682,-176.501 840.682,-176.501 834.682,-176.501 828.682,-170.501 828.682,-164.501 828.682,-164.501 828.682,-152.501 828.682,-152.501 828.682,-146.501 834.682,-140.501 840.682,-140.501\"/>\n",
       "<text text-anchor=\"middle\" x=\"855.682\" y=\"-155.701\" font-family=\"Times New Roman,serif\" font-size=\"11.00\">lion</text>\n",
       "</g>\n",
       "<!-- carnivore&#45;&#45;lion -->\n",
       "<g id=\"edge16\" class=\"edge\"><title>carnivore--lion</title>\n",
       "<path fill=\"none\" stroke=\"black\" stroke-width=\"0.5\" d=\"M874.16,-243.372C869.614,-222.495 863.543,-194.606 859.622,-176.597\"/>\n",
       "<polygon fill=\"none\" stroke=\"black\" stroke-width=\"0.5\" points=\"870.768,-244.245 876.315,-253.272 877.607,-242.756 870.768,-244.245\"/>\n",
       "</g>\n",
       "<!-- Leo&#45;01 -->\n",
       "<g id=\"node32\" class=\"node\"><title>Leo-01</title>\n",
       "<path fill=\"whitesmoke\" stroke=\"black\" stroke-width=\"0.5\" d=\"M681.858,-118.46C681.858,-118.46 711.858,-118.46 711.858,-118.46 717.858,-118.46 723.858,-124.46 723.858,-130.46 723.858,-130.46 723.858,-142.46 723.858,-142.46 723.858,-148.46 717.858,-154.46 711.858,-154.46 711.858,-154.46 681.858,-154.46 681.858,-154.46 675.858,-154.46 669.858,-148.46 669.858,-142.46 669.858,-142.46 669.858,-130.46 669.858,-130.46 669.858,-124.46 675.858,-118.46 681.858,-118.46\"/>\n",
       "<text text-anchor=\"middle\" x=\"696.858\" y=\"-133.66\" font-family=\"Times New Roman,serif\" font-size=\"11.00\">Leo-01</text>\n",
       "</g>\n",
       "<!-- lion&#45;&#45;Leo&#45;01 -->\n",
       "<g id=\"edge32\" class=\"edge\"><title>lion--Leo-01</title>\n",
       "<path fill=\"none\" stroke=\"black\" stroke-width=\"0.5\" stroke-dasharray=\"5,2\" d=\"M818.246,-153.305C789.342,-149.294 750.027,-143.838 724.07,-140.236\"/>\n",
       "<polygon fill=\"none\" stroke=\"black\" stroke-width=\"0.5\" points=\"817.993,-156.804 828.379,-154.712 818.955,-149.87 817.993,-156.804\"/>\n",
       "</g>\n",
       "<!-- palm&#45;tree&#45;&#45;Mary&#45;01 -->\n",
       "<g id=\"edge28\" class=\"edge\"><title>palm-tree--Mary-01</title>\n",
       "<path fill=\"none\" stroke=\"black\" stroke-width=\"0.5\" stroke-dasharray=\"5,2\" d=\"M423.524,-402.381C449.567,-362.33 498.085,-287.713 520.353,-253.467\"/>\n",
       "<polygon fill=\"none\" stroke=\"black\" stroke-width=\"0.5\" points=\"420.539,-400.551 418.022,-410.843 426.408,-404.367 420.539,-400.551\"/>\n",
       "</g>\n",
       "<!-- parsnip -->\n",
       "<g id=\"node23\" class=\"node\"><title>parsnip</title>\n",
       "<path fill=\"aliceblue\" stroke=\"black\" stroke-width=\"0.5\" d=\"M78.798,-0.724756C78.798,-0.724756 108.798,-0.724756 108.798,-0.724756 114.798,-0.724756 120.798,-6.72476 120.798,-12.7248 120.798,-12.7248 120.798,-24.7248 120.798,-24.7248 120.798,-30.7248 114.798,-36.7248 108.798,-36.7248 108.798,-36.7248 78.798,-36.7248 78.798,-36.7248 72.798,-36.7248 66.798,-30.7248 66.798,-24.7248 66.798,-24.7248 66.798,-12.7248 66.798,-12.7248 66.798,-6.72476 72.798,-0.724756 78.798,-0.724756\"/>\n",
       "<text text-anchor=\"middle\" x=\"93.798\" y=\"-15.9248\" font-family=\"Times New Roman,serif\" font-size=\"11.00\">parsnip</text>\n",
       "</g>\n",
       "<!-- root&#45;&#45;parsnip -->\n",
       "<g id=\"edge20\" class=\"edge\"><title>root--parsnip</title>\n",
       "<path fill=\"none\" stroke=\"black\" stroke-width=\"0.5\" d=\"M123.069,-148.676C115.802,-116.415 104.129,-64.5917 97.9485,-37.1513\"/>\n",
       "<polygon fill=\"none\" stroke=\"black\" stroke-width=\"0.5\" points=\"119.738,-149.816 125.35,-158.803 126.567,-148.278 119.738,-149.816\"/>\n",
       "</g>\n",
       "<!-- giraffe&#45;&#45;Sophie&#45;01 -->\n",
       "<g id=\"edge30\" class=\"edge\"><title>giraffe--Sophie-01</title>\n",
       "<path fill=\"none\" stroke=\"black\" stroke-width=\"0.5\" stroke-dasharray=\"5,2\" d=\"M791.637,-300.708C776.602,-278.049 755.401,-246.099 742.207,-226.214\"/>\n",
       "<polygon fill=\"none\" stroke=\"black\" stroke-width=\"0.5\" points=\"788.82,-302.793 797.266,-309.19 794.653,-298.923 788.82,-302.793\"/>\n",
       "</g>\n",
       "<!-- herb -->\n",
       "<g id=\"node29\" class=\"node\"><title>herb</title>\n",
       "<path fill=\"aliceblue\" stroke=\"black\" stroke-width=\"0.5\" d=\"M196.922,-443.481C196.922,-443.481 226.922,-443.481 226.922,-443.481 232.922,-443.481 238.922,-449.481 238.922,-455.481 238.922,-455.481 238.922,-467.481 238.922,-467.481 238.922,-473.481 232.922,-479.481 226.922,-479.481 226.922,-479.481 196.922,-479.481 196.922,-479.481 190.922,-479.481 184.922,-473.481 184.922,-467.481 184.922,-467.481 184.922,-455.481 184.922,-455.481 184.922,-449.481 190.922,-443.481 196.922,-443.481\"/>\n",
       "<text text-anchor=\"middle\" x=\"211.922\" y=\"-458.681\" font-family=\"Times New Roman,serif\" font-size=\"11.00\">herb</text>\n",
       "</g>\n",
       "<!-- herb&#45;&#45;plant -->\n",
       "<g id=\"edge26\" class=\"edge\"><title>herb--plant</title>\n",
       "<path fill=\"none\" stroke=\"black\" stroke-width=\"0.5\" d=\"M231.925,-488.027C242.997,-502.721 256.477,-520.609 266.368,-533.735\"/>\n",
       "<polygon fill=\"none\" stroke=\"black\" stroke-width=\"0.5\" points=\"234.543,-485.686 225.73,-479.806 228.953,-489.898 234.543,-485.686\"/>\n",
       "</g>\n",
       "<!-- herb&#45;&#45;plant&#45;part -->\n",
       "<g id=\"edge27\" class=\"edge\"><title>herb--plant-part</title>\n",
       "<path fill=\"none\" stroke=\"black\" stroke-width=\"0.5\" d=\"M210.531,-432.902C208.679,-394.852 205.458,-328.661 203.909,-296.828\"/>\n",
       "<polygon fill=\"none\" stroke=\"black\" stroke-width=\"0.5\" points=\"207.054,-433.47 211.036,-443.288 214.046,-433.13 207.054,-433.47\"/>\n",
       "</g>\n",
       "<!-- Leo&#45;01&#45;&#45;Mary&#45;01 -->\n",
       "<g id=\"edge33\" class=\"edge\"><title>Leo-01--Mary-01</title>\n",
       "<path fill=\"none\" stroke=\"black\" stroke-width=\"0.5\" d=\"M669.647,-152.805C641.942,-169.447 598.83,-195.343 568.259,-213.706\"/>\n",
       "<polygon fill=\"black\" stroke=\"black\" stroke-width=\"0.5\" points=\"559.6,-218.907 565.855,-209.901 563.886,-216.333 568.172,-213.758 568.172,-213.758 568.172,-213.758 563.886,-216.333 570.489,-217.616 559.6,-218.907 559.6,-218.907\"/>\n",
       "<text text-anchor=\"middle\" x=\"605.017\" y=\"-189.12\" font-family=\"Times New Roman,serif\" font-size=\"11.00\">eats</text>\n",
       "</g>\n",
       "<!-- Leo&#45;01&#45;&#45;Sophie&#45;01 -->\n",
       "<g id=\"edge34\" class=\"edge\"><title>Leo-01--Sophie-01</title>\n",
       "<path fill=\"none\" stroke=\"black\" stroke-width=\"0.5\" d=\"M705.236,-154.489C708.904,-162.382 713.288,-171.817 717.344,-180.546\"/>\n",
       "<polygon fill=\"black\" stroke=\"black\" stroke-width=\"0.5\" points=\"721.568,-189.634 713.273,-182.462 719.461,-185.1 717.353,-180.565 717.353,-180.565 717.353,-180.565 719.461,-185.1 721.434,-178.669 721.568,-189.634 721.568,-189.634\"/>\n",
       "<text text-anchor=\"middle\" x=\"703.782\" y=\"-175.004\" font-family=\"Times New Roman,serif\" font-size=\"11.00\">eats</text>\n",
       "</g>\n",
       "</g>\n",
       "</svg>"
      ],
      "text/plain": [
       "<IPython.core.display.SVG object>"
      ]
     },
     "execution_count": 12,
     "metadata": {},
     "output_type": "execute_result"
    }
   ],
   "source": [
    "onto.draw_graph(layout='force directed')"
   ]
  },
  {
   "cell_type": "code",
   "execution_count": 13,
   "metadata": {},
   "outputs": [
    {
     "name": "stdout",
     "output_type": "stream",
     "text": [
      "{\n",
      "  \"by\": [\n",
      "    {\n",
      "      \"expr\": \"Every carnivore eats nothing-but animals.\"\n",
      "    },\n",
      "    {\n",
      "      \"expr\": \"Every carnivore eats nothing-but animals.\"\n",
      "    },\n",
      "    {\n",
      "      \"expr\": \"Leo-01 eats Mary-01.\"\n",
      "    },\n",
      "    {\n",
      "      \"by\": [\n",
      "        {\n",
      "          \"by\": [\n",
      "            {\n",
      "              \"expr\": \"Every lion is a carnivore.\"\n",
      "            },\n",
      "            {\n",
      "              \"expr\": \"Every carnivore eats nothing-but animals.\"\n",
      "            }\n",
      "          ]\n",
      "        },\n",
      "        {\n",
      "          \"expr\": \"Leo-01 is a lion.\"\n",
      "        }\n",
      "      ]\n",
      "    }\n",
      "  ],\n",
      "  \"concluded\": \"Mary-01 is an animal.\"\n",
      "}\n"
     ]
    }
   ],
   "source": [
    "printWhy(onto,\"Mary-01 is a animal?\")"
   ]
  },
  {
   "cell_type": "markdown",
   "metadata": {},
   "source": [
    "### Part-3: Modal expressions and part-whole relationships."
   ]
  },
  {
   "cell_type": "code",
   "execution_count": 14,
   "metadata": {
    "scrolled": false
   },
   "outputs": [
    {
     "data": {
      "application/vnd.jupyter.widget-view+json": {
       "model_id": "55989b7a3d8a4ffe8c7fb7bd4ec9ac4e",
       "version_major": 2,
       "version_minor": 0
      },
      "text/plain": [
       "VBox(children=(Output(), OntoeditWidget(layout=Layout(height='100%', width='90%'), value=\"Every carnivorous-pl…"
      ]
     },
     "metadata": {},
     "output_type": "display_data"
    }
   ],
   "source": [
    "parts_editors['03']=CnlEditBox('part_03.encnl',onto)\n",
    "parts_editors['03']"
   ]
  },
  {
   "cell_type": "code",
   "execution_count": 15,
   "metadata": {},
   "outputs": [
    {
     "data": {
      "application/vnd.jupyter.widget-view+json": {
       "model_id": "c41362f9310045cc9ea035aa15298ad0",
       "version_major": 2,
       "version_minor": 0
      },
      "text/plain": [
       "VBox(children=(Output(), OntoeditWidget(layout=Layout(height='100%', width='90%'), value='Leo-01 is a lion.\\nL…"
      ]
     },
     "metadata": {},
     "output_type": "display_data"
    }
   ],
   "source": [
    "test_02_edit = CnlEditBox('test_02.encnl',onto)\n",
    "test_02_edit"
   ]
  },
  {
   "cell_type": "code",
   "execution_count": 16,
   "metadata": {},
   "outputs": [],
   "source": [
    "onto=buildOntology(parts_editors,test_02_edit)"
   ]
  },
  {
   "cell_type": "code",
   "execution_count": 17,
   "metadata": {},
   "outputs": [
    {
     "name": "stdout",
     "output_type": "stream",
     "text": [
      "{\n",
      "  \"modals\": {\n",
      "    \"Every branch must be-part-of a tree.\\r\\n\": [\n",
      "      {\n",
      "        \"?x0\": {\n",
      "          \"instance\": \"Branch-03\"\n",
      "        }\n",
      "      }\n",
      "    ],\n",
      "    \"Every plant-part must be-part-of a plant.\\r\\n\": [\n",
      "      {\n",
      "        \"?x0\": {\n",
      "          \"instance\": \"Branch-03\"\n",
      "        }\n",
      "      }\n",
      "    ]\n",
      "  }\n",
      "}\n"
     ]
    }
   ],
   "source": [
    "printReasoningInfo(onto)"
   ]
  },
  {
   "cell_type": "code",
   "execution_count": 13,
   "metadata": {},
   "outputs": [
    {
     "data": {
      "image/svg+xml": [
       "<svg xmlns=\"http://www.w3.org/2000/svg\" xmlns:xlink=\"http://www.w3.org/1999/xlink\" width=\"1035pt\" height=\"820pt\" viewBox=\"0.00 0.00 1035.00 820.00\">\n",
       "<g id=\"graph0\" class=\"graph\" transform=\"scale(1 1) rotate(0) translate(4 816)\">\n",
       "<title>G</title>\n",
       "<polygon fill=\"white\" stroke=\"none\" points=\"-4,4 -4,-816 1031,-816 1031,4 -4,4\"/>\n",
       "<!-- tasty&#45;plant -->\n",
       "<g id=\"node1\" class=\"node\"><title>tasty-plant</title>\n",
       "<path fill=\"aliceblue\" stroke=\"black\" stroke-width=\"0.5\" d=\"M65.0039,-544.13C65.0039,-544.13 103.004,-544.13 103.004,-544.13 109.004,-544.13 115.004,-550.13 115.004,-556.13 115.004,-556.13 115.004,-568.13 115.004,-568.13 115.004,-574.13 109.004,-580.13 103.004,-580.13 103.004,-580.13 65.0039,-580.13 65.0039,-580.13 59.0039,-580.13 53.0039,-574.13 53.0039,-568.13 53.0039,-568.13 53.0039,-556.13 53.0039,-556.13 53.0039,-550.13 59.0039,-544.13 65.0039,-544.13\"/>\n",
       "<text text-anchor=\"middle\" x=\"84.0039\" y=\"-559.33\" font-family=\"Times New Roman,serif\" font-size=\"11.00\">tasty-plant</text>\n",
       "</g>\n",
       "<!-- plant -->\n",
       "<g id=\"node2\" class=\"node\"><title>plant</title>\n",
       "<path fill=\"aliceblue\" stroke=\"black\" stroke-width=\"0.5\" d=\"M232.525,-596.642C232.525,-596.642 262.525,-596.642 262.525,-596.642 268.525,-596.642 274.525,-602.642 274.525,-608.642 274.525,-608.642 274.525,-620.642 274.525,-620.642 274.525,-626.642 268.525,-632.642 262.525,-632.642 262.525,-632.642 232.525,-632.642 232.525,-632.642 226.525,-632.642 220.525,-626.642 220.525,-620.642 220.525,-620.642 220.525,-608.642 220.525,-608.642 220.525,-602.642 226.525,-596.642 232.525,-596.642\"/>\n",
       "<text text-anchor=\"middle\" x=\"247.525\" y=\"-611.842\" font-family=\"Times New Roman,serif\" font-size=\"11.00\">plant</text>\n",
       "</g>\n",
       "<!-- plant&#45;&#45;tasty&#45;plant -->\n",
       "<g id=\"edge1\" class=\"edge\"><title>plant--tasty-plant</title>\n",
       "<path fill=\"none\" stroke=\"black\" stroke-width=\"0.5\" d=\"M210.839,-602.861C182.08,-593.626 142.498,-580.915 115.239,-572.161\"/>\n",
       "<polygon fill=\"none\" stroke=\"black\" stroke-width=\"0.5\" points=\"209.931,-606.246 220.523,-605.971 212.072,-599.581 209.931,-606.246\"/>\n",
       "</g>\n",
       "<!-- carnivorous&#45;plant -->\n",
       "<g id=\"node15\" class=\"node\"><title>carnivorous-plant</title>\n",
       "<path fill=\"aliceblue\" stroke=\"black\" stroke-width=\"0.5\" d=\"M52.5364,-704.535C52.5364,-704.535 120.536,-704.535 120.536,-704.535 126.536,-704.535 132.536,-710.535 132.536,-716.535 132.536,-716.535 132.536,-728.535 132.536,-728.535 132.536,-734.535 126.536,-740.535 120.536,-740.535 120.536,-740.535 52.5364,-740.535 52.5364,-740.535 46.5364,-740.535 40.5364,-734.535 40.5364,-728.535 40.5364,-728.535 40.5364,-716.535 40.5364,-716.535 40.5364,-710.535 46.5364,-704.535 52.5364,-704.535\"/>\n",
       "<text text-anchor=\"middle\" x=\"86.5364\" y=\"-719.735\" font-family=\"Times New Roman,serif\" font-size=\"11.00\">carnivorous-plant</text>\n",
       "</g>\n",
       "<!-- plant&#45;&#45;carnivorous&#45;plant -->\n",
       "<g id=\"edge12\" class=\"edge\"><title>plant--carnivorous-plant</title>\n",
       "<path fill=\"none\" stroke=\"black\" stroke-width=\"0.5\" d=\"M212.163,-638.341C182.463,-658.246 140.65,-686.269 113.57,-704.417\"/>\n",
       "<polygon fill=\"none\" stroke=\"black\" stroke-width=\"0.5\" points=\"214.22,-641.176 220.579,-632.701 210.323,-635.361 214.22,-641.176\"/>\n",
       "</g>\n",
       "<!-- palm&#45;tree -->\n",
       "<g id=\"node20\" class=\"node\"><title>palm-tree</title>\n",
       "<path fill=\"aliceblue\" stroke=\"black\" stroke-width=\"0.5\" d=\"M402.833,-466.014C402.833,-466.014 437.833,-466.014 437.833,-466.014 443.833,-466.014 449.833,-472.014 449.833,-478.014 449.833,-478.014 449.833,-490.014 449.833,-490.014 449.833,-496.014 443.833,-502.014 437.833,-502.014 437.833,-502.014 402.833,-502.014 402.833,-502.014 396.833,-502.014 390.833,-496.014 390.833,-490.014 390.833,-490.014 390.833,-478.014 390.833,-478.014 390.833,-472.014 396.833,-466.014 402.833,-466.014\"/>\n",
       "<text text-anchor=\"middle\" x=\"420.333\" y=\"-481.214\" font-family=\"Times New Roman,serif\" font-size=\"11.00\">palm-tree</text>\n",
       "</g>\n",
       "<!-- plant&#45;&#45;palm&#45;tree -->\n",
       "<g id=\"edge17\" class=\"edge\"><title>plant--palm-tree</title>\n",
       "<path fill=\"none\" stroke=\"black\" stroke-width=\"0.5\" d=\"M269.059,-588.777C282.725,-573.327 301.345,-553.955 320.244,-539.469 342.16,-522.671 369.784,-507.766 390.457,-497.65\"/>\n",
       "<polygon fill=\"none\" stroke=\"black\" stroke-width=\"0.5\" points=\"266.306,-586.608 262.388,-596.452 271.59,-591.2 266.306,-586.608\"/>\n",
       "</g>\n",
       "<!-- tree -->\n",
       "<g id=\"node22\" class=\"node\"><title>tree</title>\n",
       "<path fill=\"aliceblue\" stroke=\"black\" stroke-width=\"0.5\" d=\"M335.796,-745.563C335.796,-745.563 365.796,-745.563 365.796,-745.563 371.796,-745.563 377.796,-751.563 377.796,-757.563 377.796,-757.563 377.796,-769.563 377.796,-769.563 377.796,-775.563 371.796,-781.563 365.796,-781.563 365.796,-781.563 335.796,-781.563 335.796,-781.563 329.796,-781.563 323.796,-775.563 323.796,-769.563 323.796,-769.563 323.796,-757.563 323.796,-757.563 323.796,-751.563 329.796,-745.563 335.796,-745.563\"/>\n",
       "<text text-anchor=\"middle\" x=\"350.796\" y=\"-760.763\" font-family=\"Times New Roman,serif\" font-size=\"11.00\">tree</text>\n",
       "</g>\n",
       "<!-- plant&#45;&#45;tree -->\n",
       "<g id=\"edge19\" class=\"edge\"><title>plant--tree</title>\n",
       "<path fill=\"none\" stroke=\"black\" stroke-width=\"0.5\" d=\"M265.947,-641.208C286.714,-671.154 319.932,-719.056 338.03,-745.153\"/>\n",
       "<polygon fill=\"none\" stroke=\"black\" stroke-width=\"0.5\" points=\"268.763,-639.126 260.188,-632.903 263.01,-643.115 268.763,-639.126\"/>\n",
       "</g>\n",
       "<!-- grass -->\n",
       "<g id=\"node26\" class=\"node\"><title>grass</title>\n",
       "<path fill=\"aliceblue\" stroke=\"black\" stroke-width=\"0.5\" d=\"M183.975,-775.37C183.975,-775.37 213.975,-775.37 213.975,-775.37 219.975,-775.37 225.975,-781.37 225.975,-787.37 225.975,-787.37 225.975,-799.37 225.975,-799.37 225.975,-805.37 219.975,-811.37 213.975,-811.37 213.975,-811.37 183.975,-811.37 183.975,-811.37 177.975,-811.37 171.975,-805.37 171.975,-799.37 171.975,-799.37 171.975,-787.37 171.975,-787.37 171.975,-781.37 177.975,-775.37 183.975,-775.37\"/>\n",
       "<text text-anchor=\"middle\" x=\"198.975\" y=\"-790.57\" font-family=\"Times New Roman,serif\" font-size=\"11.00\">grass</text>\n",
       "</g>\n",
       "<!-- plant&#45;&#45;grass -->\n",
       "<g id=\"edge23\" class=\"edge\"><title>plant--grass</title>\n",
       "<path fill=\"none\" stroke=\"black\" stroke-width=\"0.5\" d=\"M239.978,-642.423C229.927,-679.426 212.425,-743.856 203.91,-775.201\"/>\n",
       "<polygon fill=\"none\" stroke=\"black\" stroke-width=\"0.5\" points=\"243.358,-643.331 242.602,-632.763 236.603,-641.496 243.358,-643.331\"/>\n",
       "</g>\n",
       "<!-- apple -->\n",
       "<g id=\"node3\" class=\"node\"><title>apple</title>\n",
       "<path fill=\"aliceblue\" stroke=\"black\" stroke-width=\"0.5\" d=\"M408.013,-655.704C408.013,-655.704 438.013,-655.704 438.013,-655.704 444.013,-655.704 450.013,-661.704 450.013,-667.704 450.013,-667.704 450.013,-679.704 450.013,-679.704 450.013,-685.704 444.013,-691.704 438.013,-691.704 438.013,-691.704 408.013,-691.704 408.013,-691.704 402.013,-691.704 396.013,-685.704 396.013,-679.704 396.013,-679.704 396.013,-667.704 396.013,-667.704 396.013,-661.704 402.013,-655.704 408.013,-655.704\"/>\n",
       "<text text-anchor=\"middle\" x=\"423.013\" y=\"-670.904\" font-family=\"Times New Roman,serif\" font-size=\"11.00\">apple</text>\n",
       "</g>\n",
       "<!-- fruiting&#45;body -->\n",
       "<g id=\"node4\" class=\"node\"><title>fruiting-body</title>\n",
       "<path fill=\"aliceblue\" stroke=\"black\" stroke-width=\"0.5\" d=\"M335.444,-542.669C335.444,-542.669 383.444,-542.669 383.444,-542.669 389.444,-542.669 395.444,-548.669 395.444,-554.669 395.444,-554.669 395.444,-566.669 395.444,-566.669 395.444,-572.669 389.444,-578.669 383.444,-578.669 383.444,-578.669 335.444,-578.669 335.444,-578.669 329.444,-578.669 323.444,-572.669 323.444,-566.669 323.444,-566.669 323.444,-554.669 323.444,-554.669 323.444,-548.669 329.444,-542.669 335.444,-542.669\"/>\n",
       "<text text-anchor=\"middle\" x=\"359.444\" y=\"-557.869\" font-family=\"Times New Roman,serif\" font-size=\"11.00\">fruiting-body</text>\n",
       "</g>\n",
       "<!-- fruiting&#45;body&#45;&#45;apple -->\n",
       "<g id=\"edge2\" class=\"edge\"><title>fruiting-body--apple</title>\n",
       "<path fill=\"none\" stroke=\"black\" stroke-width=\"0.5\" d=\"M374.591,-587.602C386.409,-608.617 402.501,-637.23 412.825,-655.588\"/>\n",
       "<polygon fill=\"none\" stroke=\"black\" stroke-width=\"0.5\" points=\"377.61,-585.831 369.657,-578.83 371.509,-589.262 377.61,-585.831\"/>\n",
       "</g>\n",
       "<!-- berry -->\n",
       "<g id=\"node12\" class=\"node\"><title>berry</title>\n",
       "<path fill=\"aliceblue\" stroke=\"black\" stroke-width=\"0.5\" d=\"M446.037,-565.97C446.037,-565.97 476.037,-565.97 476.037,-565.97 482.037,-565.97 488.037,-571.97 488.037,-577.97 488.037,-577.97 488.037,-589.97 488.037,-589.97 488.037,-595.97 482.037,-601.97 476.037,-601.97 476.037,-601.97 446.037,-601.97 446.037,-601.97 440.037,-601.97 434.037,-595.97 434.037,-589.97 434.037,-589.97 434.037,-577.97 434.037,-577.97 434.037,-571.97 440.037,-565.97 446.037,-565.97\"/>\n",
       "<text text-anchor=\"middle\" x=\"461.037\" y=\"-581.17\" font-family=\"Times New Roman,serif\" font-size=\"11.00\">berry</text>\n",
       "</g>\n",
       "<!-- fruiting&#45;body&#45;&#45;berry -->\n",
       "<g id=\"edge9\" class=\"edge\"><title>fruiting-body--berry</title>\n",
       "<path fill=\"none\" stroke=\"black\" stroke-width=\"0.5\" d=\"M405.546,-571.243C415.278,-573.475 425.242,-575.761 433.993,-577.768\"/>\n",
       "<polygon fill=\"none\" stroke=\"black\" stroke-width=\"0.5\" points=\"406.077,-567.774 395.548,-568.95 404.512,-574.597 406.077,-567.774\"/>\n",
       "</g>\n",
       "<!-- rock&#45;dassie -->\n",
       "<g id=\"node5\" class=\"node\"><title>rock-dassie</title>\n",
       "<path fill=\"aliceblue\" stroke=\"black\" stroke-width=\"0.5\" d=\"M972.437,-550.616C972.437,-550.616 1015.44,-550.616 1015.44,-550.616 1021.44,-550.616 1027.44,-556.616 1027.44,-562.616 1027.44,-562.616 1027.44,-574.616 1027.44,-574.616 1027.44,-580.616 1021.44,-586.616 1015.44,-586.616 1015.44,-586.616 972.437,-586.616 972.437,-586.616 966.437,-586.616 960.437,-580.616 960.437,-574.616 960.437,-574.616 960.437,-562.616 960.437,-562.616 960.437,-556.616 966.437,-550.616 972.437,-550.616\"/>\n",
       "<text text-anchor=\"middle\" x=\"993.937\" y=\"-565.816\" font-family=\"Times New Roman,serif\" font-size=\"11.00\">rock-dassie</text>\n",
       "</g>\n",
       "<!-- animal -->\n",
       "<g id=\"node6\" class=\"node\"><title>animal</title>\n",
       "<path fill=\"aliceblue\" stroke=\"black\" stroke-width=\"0.5\" d=\"M807.316,-469.895C807.316,-469.895 837.316,-469.895 837.316,-469.895 843.316,-469.895 849.316,-475.895 849.316,-481.895 849.316,-481.895 849.316,-493.895 849.316,-493.895 849.316,-499.895 843.316,-505.895 837.316,-505.895 837.316,-505.895 807.316,-505.895 807.316,-505.895 801.316,-505.895 795.316,-499.895 795.316,-493.895 795.316,-493.895 795.316,-481.895 795.316,-481.895 795.316,-475.895 801.316,-469.895 807.316,-469.895\"/>\n",
       "<text text-anchor=\"middle\" x=\"822.316\" y=\"-485.095\" font-family=\"Times New Roman,serif\" font-size=\"11.00\">animal</text>\n",
       "</g>\n",
       "<!-- animal&#45;&#45;rock&#45;dassie -->\n",
       "<g id=\"edge3\" class=\"edge\"><title>animal--rock-dassie</title>\n",
       "<path fill=\"none\" stroke=\"black\" stroke-width=\"0.5\" d=\"M858.809,-505.06C888.873,-519.2 931.164,-539.091 960.39,-552.837\"/>\n",
       "<polygon fill=\"none\" stroke=\"black\" stroke-width=\"0.5\" points=\"860.049,-501.775 849.51,-500.686 857.069,-508.109 860.049,-501.775\"/>\n",
       "</g>\n",
       "<!-- warthog -->\n",
       "<g id=\"node11\" class=\"node\"><title>warthog</title>\n",
       "<path fill=\"aliceblue\" stroke=\"black\" stroke-width=\"0.5\" d=\"M846.808,-611.891C846.808,-611.891 876.808,-611.891 876.808,-611.891 882.808,-611.891 888.808,-617.891 888.808,-623.891 888.808,-623.891 888.808,-635.891 888.808,-635.891 888.808,-641.891 882.808,-647.891 876.808,-647.891 876.808,-647.891 846.808,-647.891 846.808,-647.891 840.808,-647.891 834.808,-641.891 834.808,-635.891 834.808,-635.891 834.808,-623.891 834.808,-623.891 834.808,-617.891 840.808,-611.891 846.808,-611.891\"/>\n",
       "<text text-anchor=\"middle\" x=\"861.808\" y=\"-627.091\" font-family=\"Times New Roman,serif\" font-size=\"11.00\">warthog</text>\n",
       "</g>\n",
       "<!-- animal&#45;&#45;warthog -->\n",
       "<g id=\"edge7\" class=\"edge\"><title>animal--warthog</title>\n",
       "<path fill=\"none\" stroke=\"black\" stroke-width=\"0.5\" d=\"M830.106,-515.905C838.007,-544.311 850.002,-587.442 856.746,-611.688\"/>\n",
       "<polygon fill=\"none\" stroke=\"black\" stroke-width=\"0.5\" points=\"833.45,-514.865 827.398,-506.168 826.706,-516.74 833.45,-514.865\"/>\n",
       "</g>\n",
       "<!-- herbivore -->\n",
       "<g id=\"node13\" class=\"node\"><title>herbivore</title>\n",
       "<path fill=\"aliceblue\" stroke=\"black\" stroke-width=\"0.5\" d=\"M764.87,-354.879C764.87,-354.879 798.87,-354.879 798.87,-354.879 804.87,-354.879 810.87,-360.879 810.87,-366.879 810.87,-366.879 810.87,-378.879 810.87,-378.879 810.87,-384.879 804.87,-390.879 798.87,-390.879 798.87,-390.879 764.87,-390.879 764.87,-390.879 758.87,-390.879 752.87,-384.879 752.87,-378.879 752.87,-378.879 752.87,-366.879 752.87,-366.879 752.87,-360.879 758.87,-354.879 764.87,-354.879\"/>\n",
       "<text text-anchor=\"middle\" x=\"781.87\" y=\"-370.079\" font-family=\"Times New Roman,serif\" font-size=\"11.00\">herbivore</text>\n",
       "</g>\n",
       "<!-- animal&#45;&#45;herbivore -->\n",
       "<g id=\"edge10\" class=\"edge\"><title>animal--herbivore</title>\n",
       "<path fill=\"none\" stroke=\"black\" stroke-width=\"0.5\" d=\"M812.549,-460.12C805.002,-438.659 794.775,-409.578 788.249,-391.018\"/>\n",
       "<polygon fill=\"none\" stroke=\"black\" stroke-width=\"0.5\" points=\"809.288,-461.398 815.907,-469.671 815.892,-459.076 809.288,-461.398\"/>\n",
       "</g>\n",
       "<!-- omnivore -->\n",
       "<g id=\"node14\" class=\"node\"><title>omnivore</title>\n",
       "<path fill=\"aliceblue\" stroke=\"black\" stroke-width=\"0.5\" d=\"M737.576,-562.855C737.576,-562.855 770.576,-562.855 770.576,-562.855 776.576,-562.855 782.576,-568.855 782.576,-574.855 782.576,-574.855 782.576,-586.855 782.576,-586.855 782.576,-592.855 776.576,-598.855 770.576,-598.855 770.576,-598.855 737.576,-598.855 737.576,-598.855 731.576,-598.855 725.576,-592.855 725.576,-586.855 725.576,-586.855 725.576,-574.855 725.576,-574.855 725.576,-568.855 731.576,-562.855 737.576,-562.855\"/>\n",
       "<text text-anchor=\"middle\" x=\"754.076\" y=\"-578.055\" font-family=\"Times New Roman,serif\" font-size=\"11.00\">omnivore</text>\n",
       "</g>\n",
       "<!-- animal&#45;&#45;omnivore -->\n",
       "<g id=\"edge11\" class=\"edge\"><title>animal--omnivore</title>\n",
       "<path fill=\"none\" stroke=\"black\" stroke-width=\"0.5\" d=\"M802.83,-514.441C791.45,-529.943 777.39,-549.096 767.298,-562.844\"/>\n",
       "<polygon fill=\"none\" stroke=\"black\" stroke-width=\"0.5\" points=\"805.738,-516.394 808.834,-506.261 800.095,-512.251 805.738,-516.394\"/>\n",
       "</g>\n",
       "<!-- carnivore -->\n",
       "<g id=\"node17\" class=\"node\"><title>carnivore</title>\n",
       "<path fill=\"aliceblue\" stroke=\"black\" stroke-width=\"0.5\" d=\"M827.185,-301.708C827.185,-301.708 861.185,-301.708 861.185,-301.708 867.185,-301.708 873.185,-307.708 873.185,-313.708 873.185,-313.708 873.185,-325.708 873.185,-325.708 873.185,-331.708 867.185,-337.708 861.185,-337.708 861.185,-337.708 827.185,-337.708 827.185,-337.708 821.185,-337.708 815.185,-331.708 815.185,-325.708 815.185,-325.708 815.185,-313.708 815.185,-313.708 815.185,-307.708 821.185,-301.708 827.185,-301.708\"/>\n",
       "<text text-anchor=\"middle\" x=\"844.185\" y=\"-316.908\" font-family=\"Times New Roman,serif\" font-size=\"11.00\">carnivore</text>\n",
       "</g>\n",
       "<!-- animal&#45;&#45;carnivore -->\n",
       "<g id=\"edge14\" class=\"edge\"><title>animal--carnivore</title>\n",
       "<path fill=\"none\" stroke=\"black\" stroke-width=\"0.5\" d=\"M825.996,-459.595C830.513,-424.855 838.04,-366.966 841.839,-337.75\"/>\n",
       "<polygon fill=\"none\" stroke=\"black\" stroke-width=\"0.5\" points=\"822.517,-459.208 824.698,-469.576 829.458,-460.111 822.517,-459.208\"/>\n",
       "</g>\n",
       "<!-- impala -->\n",
       "<g id=\"node21\" class=\"node\"><title>impala</title>\n",
       "<path fill=\"aliceblue\" stroke=\"black\" stroke-width=\"0.5\" d=\"M983.029,-395.804C983.029,-395.804 1013.03,-395.804 1013.03,-395.804 1019.03,-395.804 1025.03,-401.804 1025.03,-407.804 1025.03,-407.804 1025.03,-419.804 1025.03,-419.804 1025.03,-425.804 1019.03,-431.804 1013.03,-431.804 1013.03,-431.804 983.029,-431.804 983.029,-431.804 977.029,-431.804 971.029,-425.804 971.029,-419.804 971.029,-419.804 971.029,-407.804 971.029,-407.804 971.029,-401.804 977.029,-395.804 983.029,-395.804\"/>\n",
       "<text text-anchor=\"middle\" x=\"998.029\" y=\"-411.004\" font-family=\"Times New Roman,serif\" font-size=\"11.00\">impala</text>\n",
       "</g>\n",
       "<!-- animal&#45;&#45;impala -->\n",
       "<g id=\"edge18\" class=\"edge\"><title>animal--impala</title>\n",
       "<path fill=\"none\" stroke=\"black\" stroke-width=\"0.5\" d=\"M858.797,-472.513C892.195,-458.43 940.862,-437.909 970.928,-425.231\"/>\n",
       "<polygon fill=\"none\" stroke=\"black\" stroke-width=\"0.5\" points=\"857.241,-469.371 849.386,-476.481 859.96,-475.821 857.241,-469.371\"/>\n",
       "</g>\n",
       "<!-- giraffe -->\n",
       "<g id=\"node28\" class=\"node\"><title>giraffe</title>\n",
       "<path fill=\"aliceblue\" stroke=\"black\" stroke-width=\"0.5\" d=\"M687.381,-459.995C687.381,-459.995 717.381,-459.995 717.381,-459.995 723.381,-459.995 729.381,-465.995 729.381,-471.995 729.381,-471.995 729.381,-483.995 729.381,-483.995 729.381,-489.995 723.381,-495.995 717.381,-495.995 717.381,-495.995 687.381,-495.995 687.381,-495.995 681.381,-495.995 675.381,-489.995 675.381,-483.995 675.381,-483.995 675.381,-471.995 675.381,-471.995 675.381,-465.995 681.381,-459.995 687.381,-459.995\"/>\n",
       "<text text-anchor=\"middle\" x=\"702.381\" y=\"-475.195\" font-family=\"Times New Roman,serif\" font-size=\"11.00\">giraffe</text>\n",
       "</g>\n",
       "<!-- animal&#45;&#45;giraffe -->\n",
       "<g id=\"edge25\" class=\"edge\"><title>animal--giraffe</title>\n",
       "<path fill=\"none\" stroke=\"black\" stroke-width=\"0.5\" d=\"M784.955,-484.811C766.999,-483.329 745.876,-481.586 729.488,-480.233\"/>\n",
       "<polygon fill=\"none\" stroke=\"black\" stroke-width=\"0.5\" points=\"784.847,-488.314 795.101,-485.649 785.423,-481.338 784.847,-488.314\"/>\n",
       "</g>\n",
       "<!-- twig -->\n",
       "<g id=\"node7\" class=\"node\"><title>twig</title>\n",
       "<path fill=\"aliceblue\" stroke=\"black\" stroke-width=\"0.5\" d=\"M100.967,-261.257C100.967,-261.257 130.967,-261.257 130.967,-261.257 136.967,-261.257 142.967,-267.257 142.967,-273.257 142.967,-273.257 142.967,-285.257 142.967,-285.257 142.967,-291.257 136.967,-297.257 130.967,-297.257 130.967,-297.257 100.967,-297.257 100.967,-297.257 94.967,-297.257 88.967,-291.257 88.967,-285.257 88.967,-285.257 88.967,-273.257 88.967,-273.257 88.967,-267.257 94.967,-261.257 100.967,-261.257\"/>\n",
       "<text text-anchor=\"middle\" x=\"115.967\" y=\"-276.457\" font-family=\"Times New Roman,serif\" font-size=\"11.00\">twig</text>\n",
       "</g>\n",
       "<!-- plant&#45;part -->\n",
       "<g id=\"node8\" class=\"node\"><title>plant-part</title>\n",
       "<path fill=\"aliceblue\" stroke=\"black\" stroke-width=\"0.5\" d=\"M219.003,-310.495C219.003,-310.495 254.003,-310.495 254.003,-310.495 260.003,-310.495 266.003,-316.495 266.003,-322.495 266.003,-322.495 266.003,-334.495 266.003,-334.495 266.003,-340.495 260.003,-346.495 254.003,-346.495 254.003,-346.495 219.003,-346.495 219.003,-346.495 213.003,-346.495 207.003,-340.495 207.003,-334.495 207.003,-334.495 207.003,-322.495 207.003,-322.495 207.003,-316.495 213.003,-310.495 219.003,-310.495\"/>\n",
       "<text text-anchor=\"middle\" x=\"236.503\" y=\"-325.695\" font-family=\"Times New Roman,serif\" font-size=\"11.00\">plant-part</text>\n",
       "</g>\n",
       "<!-- plant&#45;part&#45;&#45;fruiting&#45;body -->\n",
       "<g id=\"edge8\" class=\"edge\"><title>plant-part--fruiting-body</title>\n",
       "<path fill=\"none\" stroke=\"black\" stroke-width=\"0.5\" d=\"M250.85,-355.589C276.218,-403.496 328.339,-501.927 349.842,-542.536\"/>\n",
       "<polygon fill=\"none\" stroke=\"black\" stroke-width=\"0.5\" points=\"253.923,-353.913 246.15,-346.713 247.737,-357.189 253.923,-353.913\"/>\n",
       "</g>\n",
       "<!-- plant&#45;part&#45;&#45;twig -->\n",
       "<g id=\"edge4\" class=\"edge\"><title>plant-part--twig</title>\n",
       "<path fill=\"none\" stroke=\"black\" stroke-width=\"0.5\" d=\"M197.251,-312.461C179.639,-305.267 159.29,-296.955 143.359,-290.447\"/>\n",
       "<polygon fill=\"none\" stroke=\"black\" stroke-width=\"0.5\" points=\"196.127,-315.782 206.708,-316.324 198.774,-309.302 196.127,-315.782\"/>\n",
       "</g>\n",
       "<!-- stem -->\n",
       "<g id=\"node9\" class=\"node\"><title>stem</title>\n",
       "<path fill=\"aliceblue\" stroke=\"black\" stroke-width=\"0.5\" d=\"M87.8037,-430.887C87.8037,-430.887 117.804,-430.887 117.804,-430.887 123.804,-430.887 129.804,-436.887 129.804,-442.887 129.804,-442.887 129.804,-454.887 129.804,-454.887 129.804,-460.887 123.804,-466.887 117.804,-466.887 117.804,-466.887 87.8037,-466.887 87.8037,-466.887 81.8037,-466.887 75.8037,-460.887 75.8037,-454.887 75.8037,-454.887 75.8037,-442.887 75.8037,-442.887 75.8037,-436.887 81.8037,-430.887 87.8037,-430.887\"/>\n",
       "<text text-anchor=\"middle\" x=\"102.804\" y=\"-446.087\" font-family=\"Times New Roman,serif\" font-size=\"11.00\">stem</text>\n",
       "</g>\n",
       "<!-- plant&#45;part&#45;&#45;stem -->\n",
       "<g id=\"edge5\" class=\"edge\"><title>plant-part--stem</title>\n",
       "<path fill=\"none\" stroke=\"black\" stroke-width=\"0.5\" d=\"M208.957,-353.3C183.365,-376.344 145.857,-410.119 122.957,-430.74\"/>\n",
       "<polygon fill=\"none\" stroke=\"black\" stroke-width=\"0.5\" points=\"211.398,-355.811 216.487,-346.519 206.714,-350.61 211.398,-355.811\"/>\n",
       "</g>\n",
       "<!-- leaf -->\n",
       "<g id=\"node10\" class=\"node\"><title>leaf</title>\n",
       "<path fill=\"aliceblue\" stroke=\"black\" stroke-width=\"0.5\" d=\"M298.911,-196.002C298.911,-196.002 328.911,-196.002 328.911,-196.002 334.911,-196.002 340.911,-202.002 340.911,-208.002 340.911,-208.002 340.911,-220.002 340.911,-220.002 340.911,-226.002 334.911,-232.002 328.911,-232.002 328.911,-232.002 298.911,-232.002 298.911,-232.002 292.911,-232.002 286.911,-226.002 286.911,-220.002 286.911,-220.002 286.911,-208.002 286.911,-208.002 286.911,-202.002 292.911,-196.002 298.911,-196.002\"/>\n",
       "<text text-anchor=\"middle\" x=\"313.911\" y=\"-211.202\" font-family=\"Times New Roman,serif\" font-size=\"11.00\">leaf</text>\n",
       "</g>\n",
       "<!-- plant&#45;part&#45;&#45;leaf -->\n",
       "<g id=\"edge6\" class=\"edge\"><title>plant-part--leaf</title>\n",
       "<path fill=\"none\" stroke=\"black\" stroke-width=\"0.5\" d=\"M254.417,-301.998C268.929,-280.534 288.985,-250.869 301.703,-232.059\"/>\n",
       "<polygon fill=\"none\" stroke=\"black\" stroke-width=\"0.5\" points=\"251.47,-300.109 248.769,-310.353 257.269,-304.029 251.47,-300.109\"/>\n",
       "</g>\n",
       "<!-- phloem -->\n",
       "<g id=\"node16\" class=\"node\"><title>phloem</title>\n",
       "<path fill=\"aliceblue\" stroke=\"black\" stroke-width=\"0.5\" d=\"M311.401,-356.279C311.401,-356.279 341.401,-356.279 341.401,-356.279 347.401,-356.279 353.401,-362.279 353.401,-368.279 353.401,-368.279 353.401,-380.279 353.401,-380.279 353.401,-386.279 347.401,-392.279 341.401,-392.279 341.401,-392.279 311.401,-392.279 311.401,-392.279 305.401,-392.279 299.401,-386.279 299.401,-380.279 299.401,-380.279 299.401,-368.279 299.401,-368.279 299.401,-362.279 305.401,-356.279 311.401,-356.279\"/>\n",
       "<text text-anchor=\"middle\" x=\"326.401\" y=\"-371.479\" font-family=\"Times New Roman,serif\" font-size=\"11.00\">phloem</text>\n",
       "</g>\n",
       "<!-- plant&#45;part&#45;&#45;phloem -->\n",
       "<g id=\"edge13\" class=\"edge\"><title>plant-part--phloem</title>\n",
       "<path fill=\"none\" stroke=\"black\" stroke-width=\"0.5\" d=\"M275.38,-348.295C283.45,-352.405 291.786,-356.65 299.322,-360.488\"/>\n",
       "<polygon fill=\"none\" stroke=\"black\" stroke-width=\"0.5\" points=\"276.937,-345.16 266.438,-343.741 273.761,-351.398 276.937,-345.16\"/>\n",
       "</g>\n",
       "<!-- branch -->\n",
       "<g id=\"node18\" class=\"node\"><title>branch</title>\n",
       "<path fill=\"aliceblue\" stroke=\"black\" stroke-width=\"0.5\" d=\"M12.2889,-309.896C12.2889,-309.896 42.2889,-309.896 42.2889,-309.896 48.2889,-309.896 54.2889,-315.896 54.2889,-321.896 54.2889,-321.896 54.2889,-333.896 54.2889,-333.896 54.2889,-339.896 48.2889,-345.896 42.2889,-345.896 42.2889,-345.896 12.2889,-345.896 12.2889,-345.896 6.28888,-345.896 0.28888,-339.896 0.28888,-333.896 0.28888,-333.896 0.28888,-321.896 0.28888,-321.896 0.28888,-315.896 6.28888,-309.896 12.2889,-309.896\"/>\n",
       "<text text-anchor=\"middle\" x=\"27.2889\" y=\"-325.096\" font-family=\"Times New Roman,serif\" font-size=\"11.00\">branch</text>\n",
       "</g>\n",
       "<!-- plant&#45;part&#45;&#45;branch -->\n",
       "<g id=\"edge15\" class=\"edge\"><title>plant-part--branch</title>\n",
       "<path fill=\"none\" stroke=\"black\" stroke-width=\"0.5\" d=\"M196.887,-328.382C155.162,-328.262 90.5894,-328.077 54.3461,-327.973\"/>\n",
       "<polygon fill=\"none\" stroke=\"black\" stroke-width=\"0.5\" points=\"196.962,-331.882 206.972,-328.41 196.982,-324.882 196.962,-331.882\"/>\n",
       "</g>\n",
       "<!-- root -->\n",
       "<g id=\"node24\" class=\"node\"><title>root</title>\n",
       "<path fill=\"aliceblue\" stroke=\"black\" stroke-width=\"0.5\" d=\"M185.958,-188.552C185.958,-188.552 215.958,-188.552 215.958,-188.552 221.958,-188.552 227.958,-194.552 227.958,-200.552 227.958,-200.552 227.958,-212.552 227.958,-212.552 227.958,-218.552 221.958,-224.552 215.958,-224.552 215.958,-224.552 185.958,-224.552 185.958,-224.552 179.958,-224.552 173.958,-218.552 173.958,-212.552 173.958,-212.552 173.958,-200.552 173.958,-200.552 173.958,-194.552 179.958,-188.552 185.958,-188.552\"/>\n",
       "<text text-anchor=\"middle\" x=\"200.958\" y=\"-203.752\" font-family=\"Times New Roman,serif\" font-size=\"11.00\">root</text>\n",
       "</g>\n",
       "<!-- plant&#45;part&#45;&#45;root -->\n",
       "<g id=\"edge21\" class=\"edge\"><title>plant-part--root</title>\n",
       "<path fill=\"none\" stroke=\"black\" stroke-width=\"0.5\" d=\"M228.374,-300.607C221.608,-277.396 212.168,-245.009 206.315,-224.933\"/>\n",
       "<polygon fill=\"none\" stroke=\"black\" stroke-width=\"0.5\" points=\"225.023,-301.618 231.182,-310.239 231.743,-299.659 225.023,-301.618\"/>\n",
       "</g>\n",
       "<!-- xylem -->\n",
       "<g id=\"node27\" class=\"node\"><title>xylem</title>\n",
       "<path fill=\"aliceblue\" stroke=\"black\" stroke-width=\"0.5\" d=\"M343.206,-269.23C343.206,-269.23 373.206,-269.23 373.206,-269.23 379.206,-269.23 385.206,-275.23 385.206,-281.23 385.206,-281.23 385.206,-293.23 385.206,-293.23 385.206,-299.23 379.206,-305.23 373.206,-305.23 373.206,-305.23 343.206,-305.23 343.206,-305.23 337.206,-305.23 331.206,-299.23 331.206,-293.23 331.206,-293.23 331.206,-281.23 331.206,-281.23 331.206,-275.23 337.206,-269.23 343.206,-269.23\"/>\n",
       "<text text-anchor=\"middle\" x=\"358.206\" y=\"-284.43\" font-family=\"Times New Roman,serif\" font-size=\"11.00\">xylem</text>\n",
       "</g>\n",
       "<!-- plant&#45;part&#45;&#45;xylem -->\n",
       "<g id=\"edge24\" class=\"edge\"><title>plant-part--xylem</title>\n",
       "<path fill=\"none\" stroke=\"black\" stroke-width=\"0.5\" d=\"M275.899,-315.137C293.836,-309.055 314.625,-302.006 330.822,-296.515\"/>\n",
       "<polygon fill=\"none\" stroke=\"black\" stroke-width=\"0.5\" points=\"274.622,-311.875 266.275,-318.4 276.869,-318.504 274.622,-311.875\"/>\n",
       "</g>\n",
       "<!-- elephant -->\n",
       "<g id=\"node25\" class=\"node\"><title>elephant</title>\n",
       "<path fill=\"aliceblue\" stroke=\"black\" stroke-width=\"0.5\" d=\"M824.247,-225.471C824.247,-225.471 854.247,-225.471 854.247,-225.471 860.247,-225.471 866.247,-231.471 866.247,-237.471 866.247,-237.471 866.247,-249.471 866.247,-249.471 866.247,-255.471 860.247,-261.471 854.247,-261.471 854.247,-261.471 824.247,-261.471 824.247,-261.471 818.247,-261.471 812.247,-255.471 812.247,-249.471 812.247,-249.471 812.247,-237.471 812.247,-237.471 812.247,-231.471 818.247,-225.471 824.247,-225.471\"/>\n",
       "<text text-anchor=\"middle\" x=\"839.247\" y=\"-240.671\" font-family=\"Times New Roman,serif\" font-size=\"11.00\">elephant</text>\n",
       "</g>\n",
       "<!-- herbivore&#45;&#45;elephant -->\n",
       "<g id=\"edge22\" class=\"edge\"><title>herbivore--elephant</title>\n",
       "<path fill=\"none\" stroke=\"black\" stroke-width=\"0.5\" d=\"M792.55,-345.086C798.1,-331.02 805.139,-313.743 811.985,-298.508 817.579,-286.059 824.395,-272.299 829.812,-261.652\"/>\n",
       "<polygon fill=\"none\" stroke=\"black\" stroke-width=\"0.5\" points=\"789.179,-344.097 788.796,-354.684 795.698,-346.646 789.179,-344.097\"/>\n",
       "</g>\n",
       "<!-- Mary&#45;01 -->\n",
       "<g id=\"node30\" class=\"node\"><title>Mary-01</title>\n",
       "<path fill=\"whitesmoke\" stroke=\"black\" stroke-width=\"0.5\" d=\"M554.387,-345.878C554.387,-345.878 585.387,-345.878 585.387,-345.878 591.387,-345.878 597.387,-351.878 597.387,-357.878 597.387,-357.878 597.387,-369.878 597.387,-369.878 597.387,-375.878 591.387,-381.878 585.387,-381.878 585.387,-381.878 554.387,-381.878 554.387,-381.878 548.387,-381.878 542.387,-375.878 542.387,-369.878 542.387,-369.878 542.387,-357.878 542.387,-357.878 542.387,-351.878 548.387,-345.878 554.387,-345.878\"/>\n",
       "<text text-anchor=\"middle\" x=\"569.887\" y=\"-361.078\" font-family=\"Times New Roman,serif\" font-size=\"11.00\">Mary-01</text>\n",
       "</g>\n",
       "<!-- herbivore&#45;&#45;Mary&#45;01 -->\n",
       "<g id=\"edge29\" class=\"edge\"><title>herbivore--Mary-01</title>\n",
       "<path fill=\"none\" stroke=\"black\" stroke-width=\"0.5\" stroke-dasharray=\"5,2\" d=\"M742.669,-371.214C700.524,-369.425 634.603,-366.625 597.558,-365.052\"/>\n",
       "<polygon fill=\"none\" stroke=\"black\" stroke-width=\"0.5\" points=\"742.7,-374.718 752.839,-371.646 742.997,-367.725 742.7,-374.718\"/>\n",
       "</g>\n",
       "<!-- Sophie&#45;01 -->\n",
       "<g id=\"node31\" class=\"node\"><title>Sophie-01</title>\n",
       "<path fill=\"whitesmoke\" stroke=\"black\" stroke-width=\"0.5\" d=\"M624.502,-300.248C624.502,-300.248 660.502,-300.248 660.502,-300.248 666.502,-300.248 672.502,-306.248 672.502,-312.248 672.502,-312.248 672.502,-324.248 672.502,-324.248 672.502,-330.248 666.502,-336.248 660.502,-336.248 660.502,-336.248 624.502,-336.248 624.502,-336.248 618.502,-336.248 612.502,-330.248 612.502,-324.248 612.502,-324.248 612.502,-312.248 612.502,-312.248 612.502,-306.248 618.502,-300.248 624.502,-300.248\"/>\n",
       "<text text-anchor=\"middle\" x=\"642.502\" y=\"-315.448\" font-family=\"Times New Roman,serif\" font-size=\"11.00\">Sophie-01</text>\n",
       "</g>\n",
       "<!-- herbivore&#45;&#45;Sophie&#45;01 -->\n",
       "<g id=\"edge31\" class=\"edge\"><title>herbivore--Sophie-01</title>\n",
       "<path fill=\"none\" stroke=\"black\" stroke-width=\"0.5\" stroke-dasharray=\"5,2\" d=\"M743.151,-357.701C720.873,-348.968 693.294,-338.158 672.642,-330.062\"/>\n",
       "<polygon fill=\"none\" stroke=\"black\" stroke-width=\"0.5\" points=\"742.066,-361.035 752.654,-361.426 744.621,-354.518 742.066,-361.035\"/>\n",
       "</g>\n",
       "<!-- lion -->\n",
       "<g id=\"node19\" class=\"node\"><title>lion</title>\n",
       "<path fill=\"aliceblue\" stroke=\"black\" stroke-width=\"0.5\" d=\"M733.626,-189.368C733.626,-189.368 763.626,-189.368 763.626,-189.368 769.626,-189.368 775.626,-195.368 775.626,-201.368 775.626,-201.368 775.626,-213.368 775.626,-213.368 775.626,-219.368 769.626,-225.368 763.626,-225.368 763.626,-225.368 733.626,-225.368 733.626,-225.368 727.626,-225.368 721.626,-219.368 721.626,-213.368 721.626,-213.368 721.626,-201.368 721.626,-201.368 721.626,-195.368 727.626,-189.368 733.626,-189.368\"/>\n",
       "<text text-anchor=\"middle\" x=\"748.626\" y=\"-204.568\" font-family=\"Times New Roman,serif\" font-size=\"11.00\">lion</text>\n",
       "</g>\n",
       "<!-- carnivore&#45;&#45;lion -->\n",
       "<g id=\"edge16\" class=\"edge\"><title>carnivore--lion</title>\n",
       "<path fill=\"none\" stroke=\"black\" stroke-width=\"0.5\" d=\"M822.129,-293.779C804.302,-272.822 779.669,-243.863 763.941,-225.373\"/>\n",
       "<polygon fill=\"none\" stroke=\"black\" stroke-width=\"0.5\" points=\"819.686,-296.31 828.832,-301.659 825.018,-291.774 819.686,-296.31\"/>\n",
       "</g>\n",
       "<!-- Leo&#45;01 -->\n",
       "<g id=\"node32\" class=\"node\"><title>Leo-01</title>\n",
       "<path fill=\"whitesmoke\" stroke=\"black\" stroke-width=\"0.5\" d=\"M581.761,-220.578C581.761,-220.578 611.761,-220.578 611.761,-220.578 617.761,-220.578 623.761,-226.578 623.761,-232.578 623.761,-232.578 623.761,-244.578 623.761,-244.578 623.761,-250.578 617.761,-256.578 611.761,-256.578 611.761,-256.578 581.761,-256.578 581.761,-256.578 575.761,-256.578 569.761,-250.578 569.761,-244.578 569.761,-244.578 569.761,-232.578 569.761,-232.578 569.761,-226.578 575.761,-220.578 581.761,-220.578\"/>\n",
       "<text text-anchor=\"middle\" x=\"596.761\" y=\"-235.778\" font-family=\"Times New Roman,serif\" font-size=\"11.00\">Leo-01</text>\n",
       "</g>\n",
       "<!-- lion&#45;&#45;Leo&#45;01 -->\n",
       "<g id=\"edge32\" class=\"edge\"><title>lion--Leo-01</title>\n",
       "<path fill=\"none\" stroke=\"black\" stroke-width=\"0.5\" stroke-dasharray=\"5,2\" d=\"M711.581,-214.981C684.498,-220.547 648.374,-227.971 623.932,-232.994\"/>\n",
       "<polygon fill=\"none\" stroke=\"black\" stroke-width=\"0.5\" points=\"712.385,-218.389 721.475,-212.948 710.976,-211.533 712.385,-218.389\"/>\n",
       "</g>\n",
       "<!-- palm&#45;tree&#45;&#45;Mary&#45;01 -->\n",
       "<g id=\"edge28\" class=\"edge\"><title>palm-tree--Mary-01</title>\n",
       "<path fill=\"none\" stroke=\"black\" stroke-width=\"0.5\" stroke-dasharray=\"5,2\" d=\"M451.116,-459.286C479.782,-436.259 521.834,-402.479 547.449,-381.902\"/>\n",
       "<polygon fill=\"none\" stroke=\"black\" stroke-width=\"0.5\" points=\"448.651,-456.777 443.047,-465.768 453.035,-462.234 448.651,-456.777\"/>\n",
       "</g>\n",
       "<!-- parsnip -->\n",
       "<g id=\"node23\" class=\"node\"><title>parsnip</title>\n",
       "<path fill=\"aliceblue\" stroke=\"black\" stroke-width=\"0.5\" d=\"M151.739,-0.651288C151.739,-0.651288 181.739,-0.651288 181.739,-0.651288 187.739,-0.651288 193.739,-6.65129 193.739,-12.6513 193.739,-12.6513 193.739,-24.6513 193.739,-24.6513 193.739,-30.6513 187.739,-36.6513 181.739,-36.6513 181.739,-36.6513 151.739,-36.6513 151.739,-36.6513 145.739,-36.6513 139.739,-30.6513 139.739,-24.6513 139.739,-24.6513 139.739,-12.6513 139.739,-12.6513 139.739,-6.65129 145.739,-0.651288 151.739,-0.651288\"/>\n",
       "<text text-anchor=\"middle\" x=\"166.739\" y=\"-15.8513\" font-family=\"Times New Roman,serif\" font-size=\"11.00\">parsnip</text>\n",
       "</g>\n",
       "<!-- root&#45;&#45;parsnip -->\n",
       "<g id=\"edge20\" class=\"edge\"><title>root--parsnip</title>\n",
       "<path fill=\"none\" stroke=\"black\" stroke-width=\"0.5\" d=\"M195.827,-178.381C188.713,-139.317 176.053,-69.7997 170.06,-36.8895\"/>\n",
       "<polygon fill=\"none\" stroke=\"black\" stroke-width=\"0.5\" points=\"192.441,-179.324 197.676,-188.535 199.328,-178.07 192.441,-179.324\"/>\n",
       "</g>\n",
       "<!-- giraffe&#45;&#45;Sophie&#45;01 -->\n",
       "<g id=\"edge30\" class=\"edge\"><title>giraffe--Sophie-01</title>\n",
       "<path fill=\"none\" stroke=\"black\" stroke-width=\"0.5\" stroke-dasharray=\"5,2\" d=\"M692.103,-450.576C679.87,-417.939 659.785,-364.356 649.322,-336.442\"/>\n",
       "<polygon fill=\"none\" stroke=\"black\" stroke-width=\"0.5\" points=\"688.841,-451.846 695.629,-459.981 695.396,-449.389 688.841,-451.846\"/>\n",
       "</g>\n",
       "<!-- herb -->\n",
       "<g id=\"node29\" class=\"node\"><title>herb</title>\n",
       "<path fill=\"aliceblue\" stroke=\"black\" stroke-width=\"0.5\" d=\"M207.679,-484.773C207.679,-484.773 237.679,-484.773 237.679,-484.773 243.679,-484.773 249.679,-490.773 249.679,-496.773 249.679,-496.773 249.679,-508.773 249.679,-508.773 249.679,-514.773 243.679,-520.773 237.679,-520.773 237.679,-520.773 207.679,-520.773 207.679,-520.773 201.679,-520.773 195.679,-514.773 195.679,-508.773 195.679,-508.773 195.679,-496.773 195.679,-496.773 195.679,-490.773 201.679,-484.773 207.679,-484.773\"/>\n",
       "<text text-anchor=\"middle\" x=\"222.679\" y=\"-499.973\" font-family=\"Times New Roman,serif\" font-size=\"11.00\">herb</text>\n",
       "</g>\n",
       "<!-- herb&#45;&#45;plant -->\n",
       "<g id=\"edge26\" class=\"edge\"><title>herb--plant</title>\n",
       "<path fill=\"none\" stroke=\"black\" stroke-width=\"0.5\" d=\"M228.952,-531.015C233.517,-551.57 239.564,-578.797 243.498,-596.513\"/>\n",
       "<polygon fill=\"none\" stroke=\"black\" stroke-width=\"0.5\" points=\"232.367,-530.25 226.782,-521.246 225.534,-531.767 232.367,-530.25\"/>\n",
       "</g>\n",
       "<!-- herb&#45;&#45;plant&#45;part -->\n",
       "<g id=\"edge27\" class=\"edge\"><title>herb--plant-part</title>\n",
       "<path fill=\"none\" stroke=\"black\" stroke-width=\"0.5\" d=\"M224.955,-474.089C227.824,-437.921 232.67,-376.818 235.07,-346.571\"/>\n",
       "<polygon fill=\"none\" stroke=\"black\" stroke-width=\"0.5\" points=\"221.435,-474.206 224.133,-484.452 228.413,-474.76 221.435,-474.206\"/>\n",
       "</g>\n",
       "<!-- Leo&#45;01&#45;&#45;Mary&#45;01 -->\n",
       "<g id=\"edge33\" class=\"edge\"><title>Leo-01--Mary-01</title>\n",
       "<path fill=\"none\" stroke=\"black\" stroke-width=\"0.5\" d=\"M592.854,-256.798C588.415,-277.492 581.119,-311.509 575.942,-335.645\"/>\n",
       "<polygon fill=\"black\" stroke=\"black\" stroke-width=\"0.5\" points=\"573.799,-345.636 571.497,-334.915 574.848,-340.747 575.897,-335.858 575.897,-335.858 575.897,-335.858 574.848,-340.747 580.296,-336.802 573.799,-345.636 573.799,-345.636\"/>\n",
       "<text text-anchor=\"middle\" x=\"573.894\" y=\"-304.1\" font-family=\"Times New Roman,serif\" font-size=\"11.00\">eats</text>\n",
       "</g>\n",
       "<!-- Leo&#45;01&#45;&#45;Sophie&#45;01 -->\n",
       "<g id=\"edge34\" class=\"edge\"><title>Leo-01--Sophie-01</title>\n",
       "<path fill=\"none\" stroke=\"black\" stroke-width=\"0.5\" d=\"M607.141,-256.657C613.047,-266.945 620.558,-280.026 627.136,-291.484\"/>\n",
       "<polygon fill=\"black\" stroke=\"black\" stroke-width=\"0.5\" points=\"632.164,-300.241 623.282,-293.809 629.674,-295.905 627.185,-291.569 627.185,-291.569 627.185,-291.569 629.674,-295.905 631.087,-289.328 632.164,-300.241 632.164,-300.241\"/>\n",
       "<text text-anchor=\"middle\" x=\"610.3\" y=\"-281.907\" font-family=\"Times New Roman,serif\" font-size=\"11.00\">eats</text>\n",
       "</g>\n",
       "</g>\n",
       "</svg>"
      ],
      "text/plain": [
       "<IPython.core.display.SVG object>"
      ]
     },
     "execution_count": 13,
     "metadata": {},
     "output_type": "execute_result"
    }
   ],
   "source": [
    "onto.draw_graph(layout=\"force directed\")"
   ]
  },
  {
   "cell_type": "code",
   "execution_count": 14,
   "metadata": {},
   "outputs": [
    {
     "data": {
      "application/vnd.jupyter.widget-view+json": {
       "model_id": "ad40c8ac696e401ca89f3576e48db8ad",
       "version_major": 2,
       "version_minor": 0
      },
      "text/plain": [
       "VBox(children=(OntoeditWidget(layout=Layout(height='100%', width='90%'), value='eaten by Leo-01'), Output()), …"
      ]
     },
     "metadata": {},
     "output_type": "display_data"
    }
   ],
   "source": [
    "q1_edit = CnlQueryForConcept('query_01.encnl',onto=onto)\n",
    "q1_edit"
   ]
  },
  {
   "cell_type": "code",
   "execution_count": 15,
   "metadata": {},
   "outputs": [
    {
     "data": {
      "text/html": [
       "<div>\n",
       "<style scoped>\n",
       "    .dataframe tbody tr th:only-of-type {\n",
       "        vertical-align: middle;\n",
       "    }\n",
       "\n",
       "    .dataframe tbody tr th {\n",
       "        vertical-align: top;\n",
       "    }\n",
       "\n",
       "    .dataframe thead th {\n",
       "        text-align: right;\n",
       "    }\n",
       "</style>\n",
       "<table border=\"1\" class=\"dataframe\">\n",
       "  <thead>\n",
       "    <tr style=\"text-align: right;\">\n",
       "      <th></th>\n",
       "      <th>Instance</th>\n",
       "    </tr>\n",
       "  </thead>\n",
       "  <tbody>\n",
       "    <tr>\n",
       "      <th>0</th>\n",
       "      <td>Mary-01</td>\n",
       "    </tr>\n",
       "    <tr>\n",
       "      <th>1</th>\n",
       "      <td>Sophie-01</td>\n",
       "    </tr>\n",
       "  </tbody>\n",
       "</table>\n",
       "</div>"
      ],
      "text/plain": [
       "    Instance\n",
       "0    Mary-01\n",
       "1  Sophie-01"
      ]
     },
     "execution_count": 15,
     "metadata": {},
     "output_type": "execute_result"
    }
   ],
   "source": [
    "onto.select_instances_of(q1_edit.getvalue())"
   ]
  },
  {
   "cell_type": "code",
   "execution_count": 16,
   "metadata": {},
   "outputs": [
    {
     "name": "stdout",
     "output_type": "stream",
     "text": [
      "{\"concluded\":\"Leo-01 is an animal.\",\"by\":[\r\n",
      "    {\"expr\":\"Every lion is an animal.\"},\r\n",
      "    {\"expr\":\"Leo-01 is a lion.\"}]}\r\n",
      "\r\n",
      "\n"
     ]
    }
   ],
   "source": [
    "print(onto.why(\"Leo-01 is an animal?\"))"
   ]
  },
  {
   "cell_type": "code",
   "execution_count": 17,
   "metadata": {},
   "outputs": [
    {
     "data": {
      "text/html": [
       "<div>\n",
       "<style scoped>\n",
       "    .dataframe tbody tr th:only-of-type {\n",
       "        vertical-align: middle;\n",
       "    }\n",
       "\n",
       "    .dataframe tbody tr th {\n",
       "        vertical-align: top;\n",
       "    }\n",
       "\n",
       "    .dataframe thead th {\n",
       "        text-align: right;\n",
       "    }\n",
       "</style>\n",
       "<table border=\"1\" class=\"dataframe\">\n",
       "  <thead>\n",
       "    <tr style=\"text-align: right;\">\n",
       "      <th></th>\n",
       "      <th>a1</th>\n",
       "      <th>a2</th>\n",
       "    </tr>\n",
       "  </thead>\n",
       "  <tbody>\n",
       "    <tr>\n",
       "      <th>0</th>\n",
       "      <td>Leo-01</td>\n",
       "      <td>Mary-01</td>\n",
       "    </tr>\n",
       "    <tr>\n",
       "      <th>1</th>\n",
       "      <td>Leo-01</td>\n",
       "      <td>Sophie-01</td>\n",
       "    </tr>\n",
       "  </tbody>\n",
       "</table>\n",
       "</div>"
      ],
      "text/plain": [
       "       a1         a2\n",
       "0  Leo-01    Mary-01\n",
       "1  Leo-01  Sophie-01"
      ]
     },
     "execution_count": 17,
     "metadata": {},
     "output_type": "execute_result"
    }
   ],
   "source": [
    "onto.sparql_query(CQL(\"\"\"select ??aa1 2 {\n",
    "                            ?a1 rdf:type <animal>. \n",
    "                            ?a2 rdf:type <animal>. \n",
    "                            ?a1 <eats> ?a2. \n",
    "                        }\"\"\",\"http://cognitum.eu/african_wildlife#\"))"
   ]
  },
  {
   "cell_type": "code",
   "execution_count": null,
   "metadata": {},
   "outputs": [],
   "source": [
    "print(onto.as_rdf())"
   ]
  }
 ],
 "metadata": {
  "kernelspec": {
   "display_name": "Python 3",
   "language": "python",
   "name": "python3"
  },
  "language_info": {
   "codemirror_mode": {
    "name": "ipython",
    "version": 3
   },
   "file_extension": ".py",
   "mimetype": "text/x-python",
   "name": "python",
   "nbconvert_exporter": "python",
   "pygments_lexer": "ipython3",
   "version": "3.8.3"
  },
  "widgets": {
   "application/vnd.jupyter.widget-state+json": {
    "state": {
     "01732923acd64d0b80804b86a06086a6": {
      "model_module": "@jupyter-widgets/controls",
      "model_module_version": "1.4.0",
      "model_name": "VBoxModel",
      "state": {
       "children": [
        "IPY_MODEL_5143fe6b6b2e4bdbb95db4836c07f69f",
        "IPY_MODEL_c7c7716cd5034ec7a3235e29964fa9d9"
       ],
       "layout": "IPY_MODEL_48a844c1f16d4e0f89888a38f9f871b1"
      }
     },
     "0287b64412d1476fac61df9b498195e0": {
      "model_module": "@jupyter-widgets/base",
      "model_module_version": "1.1.0",
      "model_name": "LayoutModel",
      "state": {}
     },
     "037f1754f4dd4ad58c88763c16de89de": {
      "model_module": "@jupyter-widgets/base",
      "model_module_version": "1.1.0",
      "model_name": "LayoutModel",
      "state": {
       "height": "100%",
       "width": "90%"
      }
     },
     "03b3c5826e9e462fa8102da3a1b543ee": {
      "model_module": "@jupyter-widgets/controls",
      "model_module_version": "1.4.0",
      "model_name": "VBoxModel",
      "state": {
       "children": [
        "IPY_MODEL_0e81ba53de50448cba0d67cc1b204ea3",
        "IPY_MODEL_edfd7c1406474ef8b6008fa01533a9f1"
       ],
       "layout": "IPY_MODEL_0c03d2ee143c402dbf620710558f3c20"
      }
     },
     "0529b65148e34a3f84378822394dbb23": {
      "model_module": "@jupyter-widgets/output",
      "model_module_version": "1.0.0",
      "model_name": "OutputModel",
      "state": {
       "layout": "IPY_MODEL_e87806312d1343ce83bb2bb743ba1b80"
      }
     },
     "075ca95d3ff64fdf8542061a5f907fdc": {
      "model_module": "ontoedit",
      "model_module_version": "1.1.0",
      "model_name": "OntoeditModel",
      "state": {
       "_model_module_version": "1.1.0",
       "_view_module_version": "",
       "layout": "IPY_MODEL_ac2b910f6f714657b031543b3c3820f6",
       "value": "Namespace: 'http://cognitum.eu/african_wildlife'.\n\nComment: 'Lets name our instances'.\nComment: 'Lets specify the hierarchy of beings'. \nComment: 'What is what?'.\nEvery ma\nEvery lion is an animal.\nEvery giraffe is an animal.\n\nComment: 'Moreover'.\nEvery impala is an animal.\nEvery omnivore is an animal. \nEvery rock-dassie is an animal.\nEvery warthog is an animal.\nEvery carnivore is an animal.\nEvery herbivore is an animal.\nEvery elephant is a herbivore.\nEvery lion is carnivore.\n\nComment: 'There are also plants there:'.\nEvery tree is a plant.\nEvery grass is a plant.\nEvery palm-tree is a plant.\n\nEvery branch is a plant-part.\nEvery leaf is a plant-part.\nEvery twig is a plant-part.\n\nEvery phloem is a plant-part.\nEvery root is a plant-part.\nEvery parsnip is a root.\nEvery stem is a plant-part.\nEvery xylem is a plant-part.\nEvery fruiting-body is a plant-part.\nEvery berry is a fruiting-body.\nEvery apple is a fruiting-body.\n\nComment: 'We cannot use adjectives directly. To specify adjectives we need to transform them into sets that have form of buzzy-words'.\nEvery tasty-plant is a plant.\nEvery carnivorous-plant is a plant.\n"
      }
     },
     "08826d1d1e2d4efa9364b5d2bafa3c93": {
      "model_module": "@jupyter-widgets/base",
      "model_module_version": "1.1.0",
      "model_name": "LayoutModel",
      "state": {
       "height": "300px"
      }
     },
     "08a658b923de47b7add2517b8353da1a": {
      "model_module": "@jupyter-widgets/base",
      "model_module_version": "1.1.0",
      "model_name": "LayoutModel",
      "state": {}
     },
     "08c30bf83c284e6ebe21cc3249cd99ba": {
      "model_module": "ontoedit",
      "model_module_version": "1.1.0",
      "model_name": "OntoeditModel",
      "state": {
       "_model_module_version": "1.1.0",
       "_view_module_version": "",
       "cursor": 191,
       "hints": "Every<br/>Every-single-thing<br/>If<br/>Leo-01<br/>Mary-01<br/>No<br/>Nothing<br/>Something<br/>Sophie-01<br/>The<br/>X",
       "hintsX": 191,
       "layout": "IPY_MODEL_951c1fa30fea488a8ae1578cede4b5fe",
       "value": "Every carnivorous-plant must eat an animal.\nEvery carnivor must eat an animal.\nEvery omnivore must eat a plant.\nEvery branch must be-part-of a tree.\nEvery plant-part must be-part-of a plant.\n\nComment: 'Role equivalence and inverted roles'.\nX has-part Y if-and-only-if Y is-part-of X.\nX eats Y if-and-only-if Y is-eaten-by X.\n\nComment: 'Role subsumptions'.\nIf X is-part-of Y then X is-part-of Y.\nIf X has-part something that has-part Y then X has-part Y.\n\nComment: 'Complex role subsumptions'.\nIf X is-part-of something that is-part-of Y then X is-part-of Y.\n"
      }
     },
     "0c03d2ee143c402dbf620710558f3c20": {
      "model_module": "@jupyter-widgets/base",
      "model_module_version": "1.1.0",
      "model_name": "LayoutModel",
      "state": {
       "height": "100px"
      }
     },
     "0cfbf011af6241ebbcc675d701aac5be": {
      "model_module": "@jupyter-widgets/controls",
      "model_module_version": "1.4.0",
      "model_name": "VBoxModel",
      "state": {
       "children": [
        "IPY_MODEL_99075eefb8ad4a5087de5fbfbb2e2a8c",
        "IPY_MODEL_26cf7a97df4f42b6af33ce787196e2da"
       ],
       "layout": "IPY_MODEL_4aafc9319e7743f8985cdc669f22cab5"
      }
     },
     "0e81ba53de50448cba0d67cc1b204ea3": {
      "model_module": "ontoedit",
      "model_module_version": "1.1.0",
      "model_name": "OntoeditModel",
      "state": {
       "_model_module_version": "1.1.0",
       "_view_module_version": "",
       "layout": "IPY_MODEL_a270637c9421471a86a1a5fb0c90358f",
       "value": "eaten by Leo-01"
      }
     },
     "0ee45e2151a74dfeb632f8622dfa620d": {
      "model_module": "@jupyter-widgets/base",
      "model_module_version": "1.1.0",
      "model_name": "LayoutModel",
      "state": {
       "height": "100%",
       "width": "90%"
      }
     },
     "0ee4e8ad62ab43f4b5b438a66a7f42b5": {
      "model_module": "@jupyter-widgets/base",
      "model_module_version": "1.1.0",
      "model_name": "LayoutModel",
      "state": {
       "height": "300px"
      }
     },
     "156d68322d1e4dd3a0fbfab1be1688bf": {
      "model_module": "@jupyter-widgets/output",
      "model_module_version": "1.0.0",
      "model_name": "OutputModel",
      "state": {
       "layout": "IPY_MODEL_585c9fe15e494126a1116a5e5f8e87e4"
      }
     },
     "1786ad24fa9d463aa9ad86dcacd6b971": {
      "model_module": "@jupyter-widgets/base",
      "model_module_version": "1.1.0",
      "model_name": "LayoutModel",
      "state": {}
     },
     "17f3ad9162db4104a65795f20d5f0075": {
      "model_module": "@jupyter-widgets/base",
      "model_module_version": "1.1.0",
      "model_name": "LayoutModel",
      "state": {
       "height": "100%",
       "width": "90%"
      }
     },
     "194e683e49954beab66c82f87eec0560": {
      "model_module": "ontoedit",
      "model_module_version": "1.1.0",
      "model_name": "OntoeditModel",
      "state": {
       "_model_module_version": "1.1.0",
       "_view_module_version": "",
       "cursor": 15,
       "hints": "&lt;natural number&gt;",
       "hintsX": 9,
       "layout": "IPY_MODEL_54500e1db47043b29c2725eaf17f81f6",
       "value": "eaten by Leo-01"
      }
     },
     "197ff87aa0754c10a5bf9d6054ec2664": {
      "model_module": "@jupyter-widgets/controls",
      "model_module_version": "1.4.0",
      "model_name": "VBoxModel",
      "state": {
       "children": [
        "IPY_MODEL_416b7202da814b9095cb90fed53606c3",
        "IPY_MODEL_dd75b77ca52a43a9868c62b289a4e4e1"
       ],
       "layout": "IPY_MODEL_c7fe458b7f814978a92e90b0b53c295c"
      }
     },
     "1a817713ce83451c8259b7b8600da6fb": {
      "model_module": "@jupyter-widgets/base",
      "model_module_version": "1.1.0",
      "model_name": "LayoutModel",
      "state": {
       "height": "100%",
       "width": "90%"
      }
     },
     "1d27dea574734e228e02e981579f0e48": {
      "model_module": "ontoedit",
      "model_module_version": "1.1.0",
      "model_name": "OntoeditModel",
      "state": {
       "_model_module_version": "1.1.0",
       "_view_module_version": "",
       "layout": "IPY_MODEL_037f1754f4dd4ad58c88763c16de89de",
       "value": "Sophie loves Leo.\nLeo loves Sophie."
      }
     },
     "22275249b4964692bbda1b6c7faf7f47": {
      "model_module": "@jupyter-widgets/controls",
      "model_module_version": "1.4.0",
      "model_name": "VBoxModel",
      "state": {
       "children": [
        "IPY_MODEL_670789803c044d699064f4d8d85c169a",
        "IPY_MODEL_b3aca64dc8c740feae0ac17d0679814c"
       ],
       "layout": "IPY_MODEL_9b0f9a23e3574472b084a63a42c18088"
      }
     },
     "2401f4a10a284f68920b1eb13a0ef3f1": {
      "model_module": "@jupyter-widgets/output",
      "model_module_version": "1.0.0",
      "model_name": "OutputModel",
      "state": {
       "layout": "IPY_MODEL_d810833472c54ff1a38f821261445bdb"
      }
     },
     "260916fd573c4e118c8d6fdeed6c1d4d": {
      "model_module": "@jupyter-widgets/base",
      "model_module_version": "1.1.0",
      "model_name": "LayoutModel",
      "state": {
       "height": "300px"
      }
     },
     "26cf7a97df4f42b6af33ce787196e2da": {
      "model_module": "@jupyter-widgets/output",
      "model_module_version": "1.0.0",
      "model_name": "OutputModel",
      "state": {
       "layout": "IPY_MODEL_c370339aafb24857915cb2b2d2ab7980"
      }
     },
     "27ad5c8d383e457a9920d5cb29f64853": {
      "model_module": "@jupyter-widgets/output",
      "model_module_version": "1.0.0",
      "model_name": "OutputModel",
      "state": {
       "layout": "IPY_MODEL_df59fa382ea5464699bf03b221ac05e1"
      }
     },
     "27cf37417f84476da68ac933a85143a5": {
      "model_module": "ontoedit",
      "model_module_version": "1.1.0",
      "model_name": "OntoeditModel",
      "state": {
       "_model_module_version": "1.1.0",
       "_view_module_version": "",
       "layout": "IPY_MODEL_6834615b88754ba992949979ad4896da",
       "value": "eaten by Leo-01"
      }
     },
     "282ed86a1e9f475ab92778daa6256ae2": {
      "model_module": "@jupyter-widgets/base",
      "model_module_version": "1.1.0",
      "model_name": "LayoutModel",
      "state": {
       "height": "300px"
      }
     },
     "2a02773588a34d31a60ab56ea873ef24": {
      "model_module": "@jupyter-widgets/base",
      "model_module_version": "1.1.0",
      "model_name": "LayoutModel",
      "state": {
       "height": "100%",
       "width": "90%"
      }
     },
     "2a57077dcfc6408f910fcdd1069fb533": {
      "model_module": "@jupyter-widgets/base",
      "model_module_version": "1.1.0",
      "model_name": "LayoutModel",
      "state": {
       "height": "100px"
      }
     },
     "2b1178c8982c4d7f8bd00f05c2a0ab9f": {
      "model_module": "@jupyter-widgets/base",
      "model_module_version": "1.1.0",
      "model_name": "LayoutModel",
      "state": {
       "height": "100%",
       "width": "90%"
      }
     },
     "2ee595c943434b3288bd80d13a391707": {
      "model_module": "@jupyter-widgets/output",
      "model_module_version": "1.0.0",
      "model_name": "OutputModel",
      "state": {
       "layout": "IPY_MODEL_6b665fd9cf6b45d0ade1db84533996f4"
      }
     },
     "30b370db0cbd4590a28eeacadd095188": {
      "model_module": "@jupyter-widgets/controls",
      "model_module_version": "1.4.0",
      "model_name": "VBoxModel",
      "state": {
       "children": [
        "IPY_MODEL_540624d791b04c72a5f6de35ef203a09",
        "IPY_MODEL_5b7a7dc340b8488b8d7616e1a0e4e954"
       ],
       "layout": "IPY_MODEL_6b3a1654ff064f0aaf274b3478288a8f"
      }
     },
     "31401dde148b42c6b6dee0ee84db65b2": {
      "model_module": "@jupyter-widgets/base",
      "model_module_version": "1.1.0",
      "model_name": "LayoutModel",
      "state": {
       "height": "100%",
       "width": "90%"
      }
     },
     "31f03381b8af43c8b7b31448e2494891": {
      "model_module": "@jupyter-widgets/controls",
      "model_module_version": "1.4.0",
      "model_name": "VBoxModel",
      "state": {
       "children": [
        "IPY_MODEL_830d5ee0e72742cbb9c50e698f8db857",
        "IPY_MODEL_87dbf123720c4818bdda118bfdbb7cda"
       ],
       "layout": "IPY_MODEL_798ac8c8baa148b68188dc60d84de5fe"
      }
     },
     "34a127ddc9f3425d855562e734e8582e": {
      "model_module": "@jupyter-widgets/base",
      "model_module_version": "1.1.0",
      "model_name": "LayoutModel",
      "state": {
       "height": "100%",
       "width": "90%"
      }
     },
     "355b5ed96daf48f38e261d20f99eb26b": {
      "model_module": "@jupyter-widgets/controls",
      "model_module_version": "1.4.0",
      "model_name": "VBoxModel",
      "state": {
       "children": [
        "IPY_MODEL_8b7f1503cd5d4af7bedb96db2bc9826b",
        "IPY_MODEL_3d934eb24f9b4005b831504a0e4baa3e"
       ],
       "layout": "IPY_MODEL_0ee4e8ad62ab43f4b5b438a66a7f42b5"
      }
     },
     "379b403b772848b184590efb077753db": {
      "model_module": "@jupyter-widgets/base",
      "model_module_version": "1.1.0",
      "model_name": "LayoutModel",
      "state": {}
     },
     "38238e85b5bb4623a8ef8b3af0729a67": {
      "model_module": "@jupyter-widgets/base",
      "model_module_version": "1.1.0",
      "model_name": "LayoutModel",
      "state": {}
     },
     "3d934eb24f9b4005b831504a0e4baa3e": {
      "model_module": "@jupyter-widgets/output",
      "model_module_version": "1.0.0",
      "model_name": "OutputModel",
      "state": {
       "layout": "IPY_MODEL_f2dac51fb55347f2bf9f5f781b9e4558"
      }
     },
     "3e2147d0702741bbb1963715683ba2ff": {
      "model_module": "@jupyter-widgets/output",
      "model_module_version": "1.0.0",
      "model_name": "OutputModel",
      "state": {
       "layout": "IPY_MODEL_55f4f87242224575b52e41afa40e5e2d"
      }
     },
     "4039c44a6b81427881c64dbe368c3771": {
      "model_module": "@jupyter-widgets/controls",
      "model_module_version": "1.4.0",
      "model_name": "VBoxModel",
      "state": {
       "children": [
        "IPY_MODEL_7ffcc5da836a4772ad6190ded79997f7",
        "IPY_MODEL_156d68322d1e4dd3a0fbfab1be1688bf"
       ],
       "layout": "IPY_MODEL_282ed86a1e9f475ab92778daa6256ae2"
      }
     },
     "416b7202da814b9095cb90fed53606c3": {
      "model_module": "ontoedit",
      "model_module_version": "1.1.0",
      "model_name": "OntoeditModel",
      "state": {
       "_model_module_version": "1.1.0",
       "_view_module_version": "",
       "layout": "IPY_MODEL_bfdcdc39eeb04946a97cd9562372bc04",
       "value": "Sophie loves Leo.\nLeo loves Sophie."
      }
     },
     "42805aa70f7945db96a25007c189bac0": {
      "model_module": "ontoedit",
      "model_module_version": "1.1.0",
      "model_name": "OntoeditModel",
      "state": {
       "_model_module_version": "1.1.0",
       "_view_module_version": "",
       "layout": "IPY_MODEL_d8f23781ffc74fb797fe78016d7b58e4",
       "value": "Every-single-thing that is a plant and-or is a plant-part is a herb.\nNo herb is an animal.\n\nEvery carnivore eats nothing-but animals.\nEvery lion eats nothing-but herbivores.\n\nEvery herbivore eats nothing-but herb.\n\nAnything either is a carnivore, is a herbivore or is an omnivore or-something-else.\nAnything either is a branch, is a leaf or is a twig or-something-else.\n\nNo giraffe is a lion.\nEvery palm-tree is not a tree.\n"
      }
     },
     "43ef90ea44f7483cae76acd6a8bf06db": {
      "model_module": "@jupyter-widgets/base",
      "model_module_version": "1.1.0",
      "model_name": "LayoutModel",
      "state": {
       "height": "100px"
      }
     },
     "44f37380178d4fa0a074af10221c17fa": {
      "model_module": "@jupyter-widgets/base",
      "model_module_version": "1.1.0",
      "model_name": "LayoutModel",
      "state": {
       "height": "100%",
       "width": "90%"
      }
     },
     "4636ed4b6a9b4aa29f2b8c9efe57f732": {
      "model_module": "ontoedit",
      "model_module_version": "1.1.0",
      "model_name": "OntoeditModel",
      "state": {
       "_model_module_version": "1.1.0",
       "_view_module_version": "",
       "cursor": 199,
       "hints": "Branch-01<br/>Every<br/>Every-single-thing<br/>If<br/>Leo-01<br/>Mary-01<br/>No<br/>Nothing<br/>Something<br/>Sophie-01<br/>The<br/>X",
       "hintsX": 199,
       "layout": "IPY_MODEL_6bc39517a9044c0d95ed9158711c5ff5",
       "value": "Leo-01 is a lion.\nLeo-01 eats Sophie-01.\nSophie-01 is a giraffe.\nSophie-01 eats Leaf-01.\nMary-01 is a tree.\nLeaf-01 is a leaf and is-part-of Branch-02.\nBranch-02 is a branch and is-part-of Branch-01.\nBranch-01 is a branch and is-part-of Mary-01.\nBranch-03 is a branch."
      }
     },
     "46b6bc391f7d47cb95796e1c5effa3cb": {
      "model_module": "@jupyter-widgets/base",
      "model_module_version": "1.1.0",
      "model_name": "LayoutModel",
      "state": {
       "height": "300px"
      }
     },
     "48a844c1f16d4e0f89888a38f9f871b1": {
      "model_module": "@jupyter-widgets/base",
      "model_module_version": "1.1.0",
      "model_name": "LayoutModel",
      "state": {
       "height": "300px"
      }
     },
     "490fd126b35c4016a45f2265268f5ef0": {
      "model_module": "ontoedit",
      "model_module_version": "1.1.0",
      "model_name": "OntoeditModel",
      "state": {
       "_model_module_version": "1.1.0",
       "_view_module_version": "",
       "layout": "IPY_MODEL_2a02773588a34d31a60ab56ea873ef24",
       "value": "Every carnivorous-plant must eat an animal.\nEvery carnivor must eat an animal.\nEvery omnivore must eat a plant.\nEvery branch must be-part-of a tree.\nEvery plant-part must be-part-of a plant.\n\nComment: 'Role equivalence and inverted roles'.\nX has-part Y if-and-only-if Y is-part-of X.\nX eats Y if-and-only-if Y is-eaten-by X.\n\nComment: 'Role subsumptions'.\nIf X is-part-of Y then X is-part-of Y.\nIf X has-part something that has-part Y then X has-part Y.\n\nComment: 'Complex role subsumptions'.\nIf X is-part-of something that is-part-of Y then X is-part-of Y.\n"
      }
     },
     "4974f63235624cb0950d09b959338aac": {
      "model_module": "@jupyter-widgets/controls",
      "model_module_version": "1.4.0",
      "model_name": "VBoxModel",
      "state": {
       "children": [
        "IPY_MODEL_4636ed4b6a9b4aa29f2b8c9efe57f732",
        "IPY_MODEL_8f2ee93c18ed4583894db21311e14ed9"
       ],
       "layout": "IPY_MODEL_df45bd0d614e4f8dbc1d38058dc993e7"
      }
     },
     "4a322469244d444ca5d1bcb372403f27": {
      "model_module": "@jupyter-widgets/base",
      "model_module_version": "1.1.0",
      "model_name": "LayoutModel",
      "state": {
       "height": "100%",
       "width": "90%"
      }
     },
     "4a569f7988e8471dafe05c22d22bd4ea": {
      "model_module": "ontoedit",
      "model_module_version": "1.1.0",
      "model_name": "OntoeditModel",
      "state": {
       "_model_module_version": "1.1.0",
       "_view_module_version": "",
       "cursor": 173,
       "hints": "&lt;Proper-Name&gt;<br/>Every<br/>Every-single-thing<br/>If<br/>No<br/>Nothing<br/>Something<br/>The<br/>X",
       "hintsX": 173,
       "layout": "IPY_MODEL_4a322469244d444ca5d1bcb372403f27",
       "value": "Every-single-thing that is a plant and-or is a plant-part is a herb.\nNo herb is an animal.\n\nEvery carnivore eats nothing-but animals.\nEvery lion eats nothing-but herbivores.\n\nEvery herbivore eats nothing-but herb.\n\nAnything either is a carnivore, is a herbivore or is an omnivore or-something-else.\nAnything either is a branch, is a leaf or is a twig or-something-else.\n\nNo giraffe is a lion.\nEvery palm-tree is not a tree.\n"
      }
     },
     "4aafc9319e7743f8985cdc669f22cab5": {
      "model_module": "@jupyter-widgets/base",
      "model_module_version": "1.1.0",
      "model_name": "LayoutModel",
      "state": {
       "height": "300px"
      }
     },
     "4d3213ec0b2c4ad69c1a66a3369ab474": {
      "model_module": "@jupyter-widgets/controls",
      "model_module_version": "1.4.0",
      "model_name": "VBoxModel",
      "state": {
       "children": [
        "IPY_MODEL_e736dda042e74aac96c321bed782241e",
        "IPY_MODEL_7cb5ce8716bf4a209b03b4910d97a0e2"
       ],
       "layout": "IPY_MODEL_6dfbc4a9245c453fb126ea93c284477f"
      }
     },
     "4f0a97990f8943818fc14ed4fd385830": {
      "model_module": "@jupyter-widgets/output",
      "model_module_version": "1.0.0",
      "model_name": "OutputModel",
      "state": {
       "layout": "IPY_MODEL_ea50e21fc54b4d97b922faa6337bdfe7"
      }
     },
     "50e4b95344d64a99b4f7543b017bf5a4": {
      "model_module": "@jupyter-widgets/base",
      "model_module_version": "1.1.0",
      "model_name": "LayoutModel",
      "state": {
       "height": "300px"
      }
     },
     "50f1befbf50548f9869037abe911c6c2": {
      "model_module": "@jupyter-widgets/output",
      "model_module_version": "1.0.0",
      "model_name": "OutputModel",
      "state": {
       "layout": "IPY_MODEL_d9c2b88b505b48a4b6c2c57cd93f7776"
      }
     },
     "5143fe6b6b2e4bdbb95db4836c07f69f": {
      "model_module": "ontoedit",
      "model_module_version": "1.1.0",
      "model_name": "OntoeditModel",
      "state": {
       "_model_module_version": "1.1.0",
       "_view_module_version": "",
       "layout": "IPY_MODEL_31401dde148b42c6b6dee0ee84db65b2",
       "value": "Leo-01 is a lion.\nLeo-01 eats Sophie-01.\nSophie-01 is a giraffe.\nLeo-01 eats Mary-01.\nMary-01 is a palm-tree.\n"
      }
     },
     "540624d791b04c72a5f6de35ef203a09": {
      "model_module": "ontoedit",
      "model_module_version": "1.1.0",
      "model_name": "OntoeditModel",
      "state": {
       "_model_module_version": "1.1.0",
       "_view_module_version": "",
       "cursor": 171,
       "hintT": "!!!SYNTAX ERROR!!!",
       "hints": "!!!SYNTAX ERROR!!!",
       "hintsX": 169,
       "layout": "IPY_MODEL_0ee45e2151a74dfeb632f8622dfa620d",
       "value": "Namespace: 'http://cognitum.eu/african_wildlife'.\n\nComment: 'Lets name our instances'.\nComment: 'Lets specify the hierarchy of beings'. \nComment: 'What is what?'.\nEvery ma\nEvery lion is an animal.\nEvery giraffe is an animal.\n\nComment: 'Moreover'.\nEvery impala is an animal.\nEvery omnivore is an animal. \nEvery rock-dassie is an animal.\nEvery warthog is an animal.\nEvery carnivore is an animal.\nEvery herbivore is an animal.\nEvery elephant is a herbivore.\nEvery lion is carnivore.\n\nComment: 'There are also plants there:'.\nEvery tree is a plant.\nEvery grass is a plant.\nEvery palm-tree is a plant.\n\nEvery branch is a plant-part.\nEvery leaf is a plant-part.\nEvery twig is a plant-part.\n\nEvery phloem is a plant-part.\nEvery root is a plant-part.\nEvery parsnip is a root.\nEvery stem is a plant-part.\nEvery xylem is a plant-part.\nEvery fruiting-body is a plant-part.\nEvery berry is a fruiting-body.\nEvery apple is a fruiting-body.\n\nComment: 'We cannot use adjectives directly. To specify adjectives we need to transform them into sets that have form of buzzy-words'.\nEvery tasty-plant is a plant.\nEvery carnivorous-plant is a plant.\n"
      }
     },
     "54500e1db47043b29c2725eaf17f81f6": {
      "model_module": "@jupyter-widgets/base",
      "model_module_version": "1.1.0",
      "model_name": "LayoutModel",
      "state": {
       "height": "100%",
       "width": "90%"
      }
     },
     "54e213dd70db416783e9f4dd9eb8473a": {
      "model_module": "@jupyter-widgets/controls",
      "model_module_version": "1.4.0",
      "model_name": "VBoxModel",
      "state": {
       "children": [
        "IPY_MODEL_68ff3e69ff0948c7b1d6ea2e0727d6f1",
        "IPY_MODEL_cdb640c492eb40d986642b7b0cf89db1"
       ],
       "layout": "IPY_MODEL_43ef90ea44f7483cae76acd6a8bf06db"
      }
     },
     "55bb21d754f845a0b76771e91480da21": {
      "model_module": "@jupyter-widgets/controls",
      "model_module_version": "1.4.0",
      "model_name": "VBoxModel",
      "state": {
       "children": [
        "IPY_MODEL_08c30bf83c284e6ebe21cc3249cd99ba",
        "IPY_MODEL_8e63218be8c84392b59914249922d662"
       ],
       "layout": "IPY_MODEL_e278e56780d1428c826f7d861d407183"
      }
     },
     "55f4f87242224575b52e41afa40e5e2d": {
      "model_module": "@jupyter-widgets/base",
      "model_module_version": "1.1.0",
      "model_name": "LayoutModel",
      "state": {}
     },
     "56a2eb99cf15417e8568cc49848857f1": {
      "model_module": "ontoedit",
      "model_module_version": "1.1.0",
      "model_name": "OntoeditModel",
      "state": {
       "_model_module_version": "1.1.0",
       "_view_module_version": "",
       "layout": "IPY_MODEL_7e5fec00c2ad42f1b02a76e0e2b34c6d",
       "value": "Every carnivorous-plant must eat an animal.\nEvery carnivor must eat an animal.\nEvery omnivore must eat a plant.\nEvery branch must be-part-of a tree.\nEvery plant-part must be-part-of a plant.\n\nComment: 'Role equivalence and inverted roles'.\nX has-part Y if-and-only-if Y is-part-of X.\nX eats Y if-and-only-if Y is-eaten-by X.\n\nComment: 'Role subsumptions'.\nIf X is-part-of Y then X is-part-of Y.\nIf X has-part something that has-part Y then X has-part Y.\n\nComment: 'Complex role subsumptions'.\nIf X is-part-of something that is-part-of Y then X is-part-of Y.\n"
      }
     },
     "585c9fe15e494126a1116a5e5f8e87e4": {
      "model_module": "@jupyter-widgets/base",
      "model_module_version": "1.1.0",
      "model_name": "LayoutModel",
      "state": {}
     },
     "5aea4cc758c6473193e64e8a9da92f28": {
      "model_module": "@jupyter-widgets/base",
      "model_module_version": "1.1.0",
      "model_name": "LayoutModel",
      "state": {}
     },
     "5b7a7dc340b8488b8d7616e1a0e4e954": {
      "model_module": "@jupyter-widgets/output",
      "model_module_version": "1.0.0",
      "model_name": "OutputModel",
      "state": {
       "layout": "IPY_MODEL_72f03a0887ce493bb7e9983353e95041"
      }
     },
     "5ca39e2e45c9445eb22413a85950317f": {
      "model_module": "@jupyter-widgets/base",
      "model_module_version": "1.1.0",
      "model_name": "LayoutModel",
      "state": {
       "height": "100%",
       "width": "90%"
      }
     },
     "5f92d7eda9e4489591fce827af8d659b": {
      "model_module": "@jupyter-widgets/base",
      "model_module_version": "1.1.0",
      "model_name": "LayoutModel",
      "state": {}
     },
     "6140f382320b46d8bf1bbe77cd6ff9d2": {
      "model_module": "@jupyter-widgets/controls",
      "model_module_version": "1.4.0",
      "model_name": "VBoxModel",
      "state": {
       "children": [
        "IPY_MODEL_63c4a550777447f1896522d0db7ab5f5",
        "IPY_MODEL_50f1befbf50548f9869037abe911c6c2"
       ],
       "layout": "IPY_MODEL_50e4b95344d64a99b4f7543b017bf5a4"
      }
     },
     "637bf119d26145cd9b1c74a314f17fb0": {
      "model_module": "@jupyter-widgets/base",
      "model_module_version": "1.1.0",
      "model_name": "LayoutModel",
      "state": {
       "height": "300px"
      }
     },
     "63c4a550777447f1896522d0db7ab5f5": {
      "model_module": "ontoedit",
      "model_module_version": "1.1.0",
      "model_name": "OntoeditModel",
      "state": {
       "_model_module_version": "1.1.0",
       "_view_module_version": "",
       "cursor": 1198,
       "hints": "Every<br/>Every-single-thing<br/>If<br/>Leo<br/>No<br/>Nothing<br/>Something<br/>Sophie<br/>The<br/>X",
       "hintsX": 1198,
       "layout": "IPY_MODEL_f4ea8cdd8b5c4157a727af4af9d67cb3",
       "value": "Title: 'African Wildlife'.\nAuthor: 'PaweĹ‚ KapĹ‚aĹ„ski'.\nBased-On: \n 'A Semantic Web Primer.'\n 'Antoniou, G, van Harmelen, F.'\n 'MIT Press, 2003.'\n 'http://www.csd.uoc.gr/~hy566/SWbook.pdf'\n.\n\nComment:\n////// Examples of Possible Questions  /////////////////////////////   \n//Who-Or-What:\n// * is a carnivore ?                                      \n// * is an herbivore ?                                         \n// * is an animal that eats grass ?                            \n// * is-part-of a tree ?  \n// * is eaten by lion?           \n////////////////////////////////////////////////////////////////////.\n\n\n\nPart-1: 'simple hierarchy of beings'.\n\nComment: 'Lets name our instances'.\nSophie is a giraffe.\nLeo is a lion.\n\nComment: 'Lets specify the hierarchy of beings'. \nComment: 'What is what?'.\nEvery lion is an animal.\nEvery giraffe is an animal.\n\nComment: 'Moreover'.\nEvery impala is an animal.\nEvery omnivore is an animal.\nEvery rock-dassie is an animal.\nEvery warthog is an animal.\nEvery carnivore is an animal.\nEvery herbivore is an animal.\nEvery elephant is a herbivore.\n\nComment: 'There are also plants there:'.\nEvery tree is a plant.\nEvery grass is a plant.\nEvery palm-tree is a plant.\n\nPart-2: adjectives and specifications.\n\nComment: 'We cannot use adjectives directly'.\nComment: 'To specify adjectives we need to transform them into sets that have form of buzzy-words'.\n\nEvery tasty-plant is a plant.\nEvery carnivorous-plant is a plant.\n\nComment: 'Similarly we can do to make something more and more specific'.\nEvery branch is a plant-part.\nEvery phloem is a plant-part.\nEvery root is a plant-part.\nEvery parsnip is a root.\nEvery stem is a plant-part.\nEvery twig is a plant-part.\nEvery xylem is a plant-part.\nEvery leaf is a plant-part.\nEvery fruiting-body is a plant-part.\nEvery berry is a fruiting-body.\nEvery apple is a fruiting-body.\n\nPart-3: Disjointness.\n\nComment: 'We deal with Open World Assumption, therefore we need to specify explicitly if two things are different'.\nComment: 'E.g.: We need to specify explicitly that animal is not a plant'.\nEvery animal is not a plant.\nEvery giraffe is not a lion.\nEvery palm-tree is not a tree.\n\nComment: 'Or we can use it - it means the same'.\nNo animal is a plant.\n\nPart-4: Simple relations.\n\nComment: To specify relation beetween beings.\nEvery lion eats an impala.\nEvery carnivorous-plant eats an animal.\n\nComment: 'I.e. be part of is a part-whole relation'.\nEvery branch is-part-of a tree.\nEvery plant-part is-proper-part-of a plant.\nEvery xylem is-proper-part-of a stem.\nEvery phloem is-proper-part-of a stem.\n\nComment:  'Specifying the range of relation. The difference? One is that lion eats impala. Second that it eats only herbivore' -> impala must be herbivore.\nEvery lion eats nothing-but herbivores.\n\nPart-5: 'Complex relations'.\n\nEvery palm-tree has-part that is not a branch.\nEvery warthog eats an animal and eats a fruiting-body and eats a grass and eats a root.\nEvery giraffe eats nothing-but things that are leaves and-or are twigs.\nEvery leaf is-part-of something that is a branch and-or is a twig.\nEvery tasty-plant is-eaten-by a carnivore and is-eaten-by a herbivore.\nEvery-single-thing eats nothing-but things that are animals and-or are plants and-or are-part-of animals and-or are-part-of plants.\n\nPart-6: 'Reflexion'.\n\nNothing is-proper-part-of itself.\n\nPart-7: Equivalence.\n\nComment: 'What it means to be a carnivore, omnivore or herbivore? We specify exact definitions here.'.\nEvery-single-thing that eats nothing-but animals and-or eats nothing-but things that are-part-of animals is a carnivore.\nSomething is an omnivore if-and-only-if-it eats an animal and eats a plant and eats something that is-part-of an animal and-or is-part-of a plant.\nSomething is a herbivore if-and-only-if-it eats nothing-but plants and-or eats nothing-but things that are-part-of plants.\n\nPart-8: 'Disjointness'.\n\nAnything either is a carnivore, is a herbivore or is an omnivore or-something-else.\nAnything either is a branch, is a leaf or is a twig or-something-else.\n\nPart-9: 'Relations between roles'.\n\nComment: 'Role equivalence and inverted roles'.\nX has-part Y if-and-only-if Y is-part-of X.\nX eats Y if-and-only-if Y is-eaten-by X.\n\nComment: 'Role subsumptions'.\nIf X is-proper-part-of Y then X is-part-of Y.\nIf X has-part something that has-part Y then X has-part Y.\n\nComment: 'Complex role subsumptions'.\nIf X is-part-of something that is-part-of Y then X is-part-of Y."
      }
     },
     "66578ffca1f043118425062dc0b6f067": {
      "model_module": "@jupyter-widgets/controls",
      "model_module_version": "1.4.0",
      "model_name": "VBoxModel",
      "state": {
       "children": [
        "IPY_MODEL_27cf37417f84476da68ac933a85143a5",
        "IPY_MODEL_f81355e7f2a34681bf8ca14e71dbf938"
       ],
       "layout": "IPY_MODEL_f79246661c1941fb8047812a618edbea"
      }
     },
     "66cefaa10ba1472a846b969c45384ec0": {
      "model_module": "@jupyter-widgets/controls",
      "model_module_version": "1.4.0",
      "model_name": "VBoxModel",
      "state": {
       "children": [
        "IPY_MODEL_6c33a33ec84a476ea62d3b987b12a532",
        "IPY_MODEL_85f2cc17df4e4e429f3682d5f1a9d2a5"
       ],
       "layout": "IPY_MODEL_637bf119d26145cd9b1c74a314f17fb0"
      }
     },
     "670789803c044d699064f4d8d85c169a": {
      "model_module": "ontoedit",
      "model_module_version": "1.1.0",
      "model_name": "OntoeditModel",
      "state": {
       "_model_module_version": "1.1.0",
       "_view_module_version": "",
       "layout": "IPY_MODEL_8e2009ebcf134448a2ad52b7cc6c4b26",
       "value": "Every-single-thing that is a plant and-or is a plant-part is a herb.\nNo herb is an animal.\n\nEvery carnivore eats nothing-but animals.\nEvery lion eats nothing-but herbivores.\n\nEvery herbivore eats nothing-but herb.\n\nAnything either is a carnivore, is a herbivore or is an omnivore or-something-else.\nAnything either is a branch, is a leaf or is a twig or-something-else.\n\nNo giraffe is a lion.\nEvery palm-tree is not a tree.\n"
      }
     },
     "6834615b88754ba992949979ad4896da": {
      "model_module": "@jupyter-widgets/base",
      "model_module_version": "1.1.0",
      "model_name": "LayoutModel",
      "state": {
       "height": "100%",
       "width": "90%"
      }
     },
     "687f88667abb40929c0d1ac2acbc9281": {
      "model_module": "ontoedit",
      "model_module_version": "1.1.0",
      "model_name": "OntoeditModel",
      "state": {
       "_model_module_version": "1.1.0",
       "_view_module_version": "",
       "layout": "IPY_MODEL_df07f4cbd3574e08868b7543bb5cb15a",
       "value": "Leo-01 is a lion.\nLeo-01 eats Sophie-01.\nSophie-01 is a giraffe.\nLeo-01 eats Mary-01.\nMary-01 is a palm-tree.\n"
      }
     },
     "68ff3e69ff0948c7b1d6ea2e0727d6f1": {
      "model_module": "ontoedit",
      "model_module_version": "1.1.0",
      "model_name": "OntoeditModel",
      "state": {
       "_model_module_version": "1.1.0",
       "_view_module_version": "",
       "layout": "IPY_MODEL_2b1178c8982c4d7f8bd00f05c2a0ab9f",
       "value": "an animal that loves "
      }
     },
     "69339d07f80c4b42a0ca64e1e93f2940": {
      "model_module": "@jupyter-widgets/output",
      "model_module_version": "1.0.0",
      "model_name": "OutputModel",
      "state": {
       "layout": "IPY_MODEL_db4059a12cb34224934499d5b329f6c6"
      }
     },
     "6b3a1654ff064f0aaf274b3478288a8f": {
      "model_module": "@jupyter-widgets/base",
      "model_module_version": "1.1.0",
      "model_name": "LayoutModel",
      "state": {
       "height": "300px"
      }
     },
     "6b665fd9cf6b45d0ade1db84533996f4": {
      "model_module": "@jupyter-widgets/base",
      "model_module_version": "1.1.0",
      "model_name": "LayoutModel",
      "state": {}
     },
     "6bc39517a9044c0d95ed9158711c5ff5": {
      "model_module": "@jupyter-widgets/base",
      "model_module_version": "1.1.0",
      "model_name": "LayoutModel",
      "state": {
       "height": "100%",
       "width": "90%"
      }
     },
     "6c33a33ec84a476ea62d3b987b12a532": {
      "model_module": "ontoedit",
      "model_module_version": "1.1.0",
      "model_name": "OntoeditModel",
      "state": {
       "_model_module_version": "1.1.0",
       "_view_module_version": "",
       "layout": "IPY_MODEL_5ca39e2e45c9445eb22413a85950317f",
       "value": "Leo-01 is a lion.\nLeo-01 eats Sophie-01.\nSophie-01 is a giraffe.\nLeo-01 eats Mary-01.\nMary-01 is a palm-tree.\n"
      }
     },
     "6dfbc4a9245c453fb126ea93c284477f": {
      "model_module": "@jupyter-widgets/base",
      "model_module_version": "1.1.0",
      "model_name": "LayoutModel",
      "state": {
       "height": "300px"
      }
     },
     "6fa9e122a4ca4267832285e9f3983bba": {
      "model_module": "@jupyter-widgets/base",
      "model_module_version": "1.1.0",
      "model_name": "LayoutModel",
      "state": {}
     },
     "704fa12b89334f67b30097d1c39534c9": {
      "model_module": "@jupyter-widgets/base",
      "model_module_version": "1.1.0",
      "model_name": "LayoutModel",
      "state": {
       "height": "300px"
      }
     },
     "727588c8af22452182710e9c54750d83": {
      "model_module": "@jupyter-widgets/output",
      "model_module_version": "1.0.0",
      "model_name": "OutputModel",
      "state": {
       "layout": "IPY_MODEL_c4809ee837e84bbba2bd1dc44a5cdc69"
      }
     },
     "72b37b61f1ba4540bd4dafa460795b8e": {
      "model_module": "@jupyter-widgets/base",
      "model_module_version": "1.1.0",
      "model_name": "LayoutModel",
      "state": {}
     },
     "72f03a0887ce493bb7e9983353e95041": {
      "model_module": "@jupyter-widgets/base",
      "model_module_version": "1.1.0",
      "model_name": "LayoutModel",
      "state": {}
     },
     "7358c3b0bfc140b7ad1d635020c852a5": {
      "model_module": "@jupyter-widgets/controls",
      "model_module_version": "1.4.0",
      "model_name": "VBoxModel",
      "state": {
       "children": [
        "IPY_MODEL_791a2bc1ba2c4ed98805765076095f71",
        "IPY_MODEL_a551c169f0f44b0d8ed33f34d5a4ea9d"
       ],
       "layout": "IPY_MODEL_2a57077dcfc6408f910fcdd1069fb533"
      }
     },
     "791a2bc1ba2c4ed98805765076095f71": {
      "model_module": "ontoedit",
      "model_module_version": "1.1.0",
      "model_name": "OntoeditModel",
      "state": {
       "_model_module_version": "1.1.0",
       "_view_module_version": "",
       "layout": "IPY_MODEL_99f9f6e0b26a4e73858dfbb6017ccbb8",
       "value": "an animal that loves "
      }
     },
     "798ac8c8baa148b68188dc60d84de5fe": {
      "model_module": "@jupyter-widgets/base",
      "model_module_version": "1.1.0",
      "model_name": "LayoutModel",
      "state": {
       "height": "300px"
      }
     },
     "7cb5ce8716bf4a209b03b4910d97a0e2": {
      "model_module": "@jupyter-widgets/output",
      "model_module_version": "1.0.0",
      "model_name": "OutputModel",
      "state": {
       "layout": "IPY_MODEL_72b37b61f1ba4540bd4dafa460795b8e"
      }
     },
     "7e5fec00c2ad42f1b02a76e0e2b34c6d": {
      "model_module": "@jupyter-widgets/base",
      "model_module_version": "1.1.0",
      "model_name": "LayoutModel",
      "state": {
       "height": "100%",
       "width": "90%"
      }
     },
     "7ffcc5da836a4772ad6190ded79997f7": {
      "model_module": "ontoedit",
      "model_module_version": "1.1.0",
      "model_name": "OntoeditModel",
      "state": {
       "_model_module_version": "1.1.0",
       "_view_module_version": "",
       "cursor": 162,
       "hints": "&lt;Proper-Name&gt;<br/>Every<br/>Every-single-thing<br/>If<br/>No<br/>Nothing<br/>Something<br/>The<br/>X",
       "hintsX": 162,
       "layout": "IPY_MODEL_cb714303465343599e7daddd09b77893",
       "value": "Namespace: 'http://cognitum.eu/african_wildlife'.\n\nComment: 'Lets name our instances'.\nComment: 'Lets specify the hierarchy of beings'. \nComment: 'What is what?'.\nEvery man has a train.\nEvery lion is an animal.\nEvery giraffe is an animal.\n\nComment: 'Moreover'.\nEvery impala is an animal.\nEvery omnivore is an animal. \nEvery rock-dassie is an animal.\nEvery warthog is an animal.\nEvery carnivore is an animal.\nEvery herbivore is an animal.\nEvery elephant is a herbivore.\nEvery lion is carnivore.\n\nComment: 'There are also plants there:'.\nEvery tree is a plant.\nEvery grass is a plant.\nEvery palm-tree is a plant.\n\nEvery branch is a plant-part.\nEvery leaf is a plant-part.\nEvery twig is a plant-part.\n\nEvery phloem is a plant-part.\nEvery root is a plant-part.\nEvery parsnip is a root.\nEvery stem is a plant-part.\nEvery xylem is a plant-part.\nEvery fruiting-body is a plant-part.\nEvery berry is a fruiting-body.\nEvery apple is a fruiting-body.\n\nComment: 'We cannot use adjectives directly. To specify adjectives we need to transform them into sets that have form of buzzy-words'.\nEvery tasty-plant is a plant.\nEvery carnivorous-plant is a plant.\n"
      }
     },
     "8299fafb9989402e9259aa0b848881e2": {
      "model_module": "ontoedit",
      "model_module_version": "1.1.0",
      "model_name": "OntoeditModel",
      "state": {
       "_model_module_version": "1.1.0",
       "_view_module_version": "",
       "layout": "IPY_MODEL_17f3ad9162db4104a65795f20d5f0075",
       "value": "Leo-01 is a lion.\nLeo-01 eats Sophie-01.\nSophie-01 is a giraffe.\nSophie-01 eats Leaf-01.\nMary-01 is a tree.\nLeaf-01 is a leaf and is-part-of Branch-02.\nBranch-02 is a branch and is-part-of Branch-01.\nBranch-01 is a branch and is-part-of Mary-01.\nBranch-03 is a branch."
      }
     },
     "830d5ee0e72742cbb9c50e698f8db857": {
      "model_module": "ontoedit",
      "model_module_version": "1.1.0",
      "model_name": "OntoeditModel",
      "state": {
       "_model_module_version": "1.1.0",
       "_view_module_version": "",
       "cursor": 186,
       "hintT": "!!!SYNTAX ERROR!!!\r\n\r\nEvery ma\r\nEvery lion is an animal.",
       "hints": "!!!SYNTAX ERROR!!!\r\n\r\nEvery ma\r\nEvery lion is an animal.",
       "hintsX": 186,
       "layout": "IPY_MODEL_f7410d5947704d05b636e488c607ec0e",
       "value": "Namespace: 'http://cognitum.eu/african_wildlife'.\n\nComment: 'Lets name our instances'.\nComment: 'Lets specify the hierarchy of beings'. \nComment: 'What is what?'.\nEvery man has a train.\nEvery lion is an animal.\nEvery giraffe is an animal.\n\nComment: 'Moreover'.\nEvery impala is an animal.\nEvery omnivore is an animal. \nEvery rock-dassie is an animal.\nEvery warthog is an animal.\nEvery carnivore is an animal.\nEvery herbivore is an animal.\nEvery elephant is a herbivore.\nEvery lion is carnivore.\n\nComment: 'There are also plants there:'.\nEvery tree is a plant.\nEvery grass is a plant.\nEvery palm-tree is a plant.\n\nEvery branch is a plant-part.\nEvery leaf is a plant-part.\nEvery twig is a plant-part.\n\nEvery phloem is a plant-part.\nEvery root is a plant-part.\nEvery parsnip is a root.\nEvery stem is a plant-part.\nEvery xylem is a plant-part.\nEvery fruiting-body is a plant-part.\nEvery berry is a fruiting-body.\nEvery apple is a fruiting-body.\n\nComment: 'We cannot use adjectives directly. To specify adjectives we need to transform them into sets that have form of buzzy-words'.\nEvery tasty-plant is a plant.\nEvery carnivorous-plant is a plant.\n"
      }
     },
     "85f2cc17df4e4e429f3682d5f1a9d2a5": {
      "model_module": "@jupyter-widgets/output",
      "model_module_version": "1.0.0",
      "model_name": "OutputModel",
      "state": {
       "layout": "IPY_MODEL_379b403b772848b184590efb077753db"
      }
     },
     "865ed95805f44073ac10f4b4757bd1a0": {
      "model_module": "@jupyter-widgets/base",
      "model_module_version": "1.1.0",
      "model_name": "LayoutModel",
      "state": {
       "height": "100%",
       "width": "90%"
      }
     },
     "87dbf123720c4818bdda118bfdbb7cda": {
      "model_module": "@jupyter-widgets/output",
      "model_module_version": "1.0.0",
      "model_name": "OutputModel",
      "state": {
       "layout": "IPY_MODEL_daee7295113f4ab588ec50dacbc01003"
      }
     },
     "88e3f3eb628649cbaa595601364bada4": {
      "model_module": "@jupyter-widgets/base",
      "model_module_version": "1.1.0",
      "model_name": "LayoutModel",
      "state": {
       "height": "300px"
      }
     },
     "89b1bde40ddb4abf9ac1d1cd90dd345a": {
      "model_module": "@jupyter-widgets/base",
      "model_module_version": "1.1.0",
      "model_name": "LayoutModel",
      "state": {
       "height": "100px"
      }
     },
     "8b344392a0d344158becbf95c37546c6": {
      "model_module": "@jupyter-widgets/controls",
      "model_module_version": "1.4.0",
      "model_name": "VBoxModel",
      "state": {
       "children": [
        "IPY_MODEL_56a2eb99cf15417e8568cc49848857f1",
        "IPY_MODEL_f81dc3d2747142f9ac59bd2ccb85dc67"
       ],
       "layout": "IPY_MODEL_f7e95e3d43544ddfb6c69338a006cace"
      }
     },
     "8b52933a93d84df1bc039f960cacf560": {
      "model_module": "@jupyter-widgets/output",
      "model_module_version": "1.0.0",
      "model_name": "OutputModel",
      "state": {
       "layout": "IPY_MODEL_b0bf749d3aa54cb5876f768752e013e2"
      }
     },
     "8b7f1503cd5d4af7bedb96db2bc9826b": {
      "model_module": "ontoedit",
      "model_module_version": "1.1.0",
      "model_name": "OntoeditModel",
      "state": {
       "_model_module_version": "1.1.0",
       "_view_module_version": "",
       "layout": "IPY_MODEL_b18557280c0d4e1b827179460da45136",
       "value": "Leo-01 is a lion.\nLeo-01 eats Sophie-01.\nSophie-01 is a giraffe.\nSophie-01 eats Leaf-01.\nMary-01 is a tree.\nLeaf-01 is a leaf and is-part-of Branch-02.\nBranch-02 is a branch and is-part-of Branch-01.\nBranch-01 is a branch and is-part-of Mary-01.\nBranch-03 is a branch."
      }
     },
     "8e2009ebcf134448a2ad52b7cc6c4b26": {
      "model_module": "@jupyter-widgets/base",
      "model_module_version": "1.1.0",
      "model_name": "LayoutModel",
      "state": {
       "height": "100%",
       "width": "90%"
      }
     },
     "8e63218be8c84392b59914249922d662": {
      "model_module": "@jupyter-widgets/output",
      "model_module_version": "1.0.0",
      "model_name": "OutputModel",
      "state": {
       "layout": "IPY_MODEL_5aea4cc758c6473193e64e8a9da92f28"
      }
     },
     "8f2ee93c18ed4583894db21311e14ed9": {
      "model_module": "@jupyter-widgets/output",
      "model_module_version": "1.0.0",
      "model_name": "OutputModel",
      "state": {
       "layout": "IPY_MODEL_38238e85b5bb4623a8ef8b3af0729a67"
      }
     },
     "91212d33087f4872ab96d1d2adac582a": {
      "model_module": "@jupyter-widgets/output",
      "model_module_version": "1.0.0",
      "model_name": "OutputModel",
      "state": {
       "layout": "IPY_MODEL_6fa9e122a4ca4267832285e9f3983bba"
      }
     },
     "951c1fa30fea488a8ae1578cede4b5fe": {
      "model_module": "@jupyter-widgets/base",
      "model_module_version": "1.1.0",
      "model_name": "LayoutModel",
      "state": {
       "height": "100%",
       "width": "90%"
      }
     },
     "9536c1856e8a487d8c68984e25b441ce": {
      "model_module": "@jupyter-widgets/base",
      "model_module_version": "1.1.0",
      "model_name": "LayoutModel",
      "state": {
       "height": "300px"
      }
     },
     "9767af0ad60a4f4f84f6fffb5b1addb8": {
      "model_module": "@jupyter-widgets/base",
      "model_module_version": "1.1.0",
      "model_name": "LayoutModel",
      "state": {}
     },
     "99075eefb8ad4a5087de5fbfbb2e2a8c": {
      "model_module": "ontoedit",
      "model_module_version": "1.1.0",
      "model_name": "OntoeditModel",
      "state": {
       "_model_module_version": "1.1.0",
       "_view_module_version": "",
       "layout": "IPY_MODEL_9febe76887f34e8e9ea439b3d6a469bc",
       "value": "Comment: 'Lets name our instances'.\nComment: 'Lets specify the hierarchy of beings'. \nComment: 'What is what?'.\n\nEvery lion is an animal.\nEvery giraffe is an animal.\n\nComment: 'Moreover'.\nEvery impala is an animal.\nEvery omnivore is an animal.\nEvery rock-dassie is an animal.\nEvery warthog is an animal.\nEvery carnivore is an animal.\nEvery herbivore is an animal.\nEvery elephant is a herbivore.\nEvery lion is carnivore.\n\nComment: 'There are also plants there:'.\nEvery tree is a plant.\nEvery grass is a plant.\nEvery palm-tree is a plant.\n\nEvery branch is a plant-part.\nEvery leaf is a plant-part.\nEvery twig is a plant-part.\n\nEvery phloem is a plant-part.\nEvery root is a plant-part.\nEvery parsnip is a root.\nEvery stem is a plant-part.\nEvery xylem is a plant-part.\nEvery fruiting-body is a plant-part.\nEvery berry is a fruiting-body.\nEvery apple is a fruiting-body.\n\nComment: 'We cannot use adjectives directly. To specify adjectives we need to transform them into sets that have form of buzzy-words'.\nEvery tasty-plant is a plant.\nEvery carnivorous-plant is a plant.\n"
      }
     },
     "99f9f6e0b26a4e73858dfbb6017ccbb8": {
      "model_module": "@jupyter-widgets/base",
      "model_module_version": "1.1.0",
      "model_name": "LayoutModel",
      "state": {
       "height": "100%",
       "width": "90%"
      }
     },
     "9b0f9a23e3574472b084a63a42c18088": {
      "model_module": "@jupyter-widgets/base",
      "model_module_version": "1.1.0",
      "model_name": "LayoutModel",
      "state": {
       "height": "300px"
      }
     },
     "9d7f76b3359049b99071eba73b8dc427": {
      "model_module": "@jupyter-widgets/controls",
      "model_module_version": "1.4.0",
      "model_name": "VBoxModel",
      "state": {
       "children": [
        "IPY_MODEL_4a569f7988e8471dafe05c22d22bd4ea",
        "IPY_MODEL_727588c8af22452182710e9c54750d83"
       ],
       "layout": "IPY_MODEL_9536c1856e8a487d8c68984e25b441ce"
      }
     },
     "9febe76887f34e8e9ea439b3d6a469bc": {
      "model_module": "@jupyter-widgets/base",
      "model_module_version": "1.1.0",
      "model_name": "LayoutModel",
      "state": {
       "height": "100%",
       "width": "90%"
      }
     },
     "a1d343a6e9ab47b999491d584f4d747b": {
      "model_module": "@jupyter-widgets/controls",
      "model_module_version": "1.4.0",
      "model_name": "VBoxModel",
      "state": {
       "children": [
        "IPY_MODEL_42805aa70f7945db96a25007c189bac0",
        "IPY_MODEL_4f0a97990f8943818fc14ed4fd385830"
       ],
       "layout": "IPY_MODEL_c1e34aeacb524c99a1c32e8cc8c9413a"
      }
     },
     "a23f3db72e844fd38d5d05b950980e06": {
      "model_module": "@jupyter-widgets/base",
      "model_module_version": "1.1.0",
      "model_name": "LayoutModel",
      "state": {
       "height": "100%",
       "width": "90%"
      }
     },
     "a270637c9421471a86a1a5fb0c90358f": {
      "model_module": "@jupyter-widgets/base",
      "model_module_version": "1.1.0",
      "model_name": "LayoutModel",
      "state": {
       "height": "100%",
       "width": "90%"
      }
     },
     "a2c7154564514724af74f1f72cd039df": {
      "model_module": "@jupyter-widgets/controls",
      "model_module_version": "1.4.0",
      "model_name": "VBoxModel",
      "state": {
       "children": [
        "IPY_MODEL_194e683e49954beab66c82f87eec0560",
        "IPY_MODEL_e26922aed1324c3cb824535d8f1eba7a"
       ],
       "layout": "IPY_MODEL_89b1bde40ddb4abf9ac1d1cd90dd345a"
      }
     },
     "a551c169f0f44b0d8ed33f34d5a4ea9d": {
      "model_module": "@jupyter-widgets/output",
      "model_module_version": "1.0.0",
      "model_name": "OutputModel",
      "state": {
       "layout": "IPY_MODEL_9767af0ad60a4f4f84f6fffb5b1addb8"
      }
     },
     "a83fc2b5087147fda70ef91ec71c9636": {
      "model_module": "ontoedit",
      "model_module_version": "1.1.0",
      "model_name": "OntoeditModel",
      "state": {
       "_model_module_version": "1.1.0",
       "_view_module_version": "",
       "layout": "IPY_MODEL_44f37380178d4fa0a074af10221c17fa",
       "value": "Namespace: 'http://cognitum.eu/african_wildlife'.\n\nComment: 'Lets name our instances'.\nComment: 'Lets specify the hierarchy of beings'. \nComment: 'What is what?'.\nEvery ma\nEvery lion is an animal.\nEvery giraffe is an animal.\n\nComment: 'Moreover'.\nEvery impala is an animal.\nEvery omnivore is an animal. \nEvery rock-dassie is an animal.\nEvery warthog is an animal.\nEvery carnivore is an animal.\nEvery herbivore is an animal.\nEvery elephant is a herbivore.\nEvery lion is carnivore.\n\nComment: 'There are also plants there:'.\nEvery tree is a plant.\nEvery grass is a plant.\nEvery palm-tree is a plant.\n\nEvery branch is a plant-part.\nEvery leaf is a plant-part.\nEvery twig is a plant-part.\n\nEvery phloem is a plant-part.\nEvery root is a plant-part.\nEvery parsnip is a root.\nEvery stem is a plant-part.\nEvery xylem is a plant-part.\nEvery fruiting-body is a plant-part.\nEvery berry is a fruiting-body.\nEvery apple is a fruiting-body.\n\nComment: 'We cannot use adjectives directly. To specify adjectives we need to transform them into sets that have form of buzzy-words'.\nEvery tasty-plant is a plant.\nEvery carnivorous-plant is a plant.\n"
      }
     },
     "ac2b910f6f714657b031543b3c3820f6": {
      "model_module": "@jupyter-widgets/base",
      "model_module_version": "1.1.0",
      "model_name": "LayoutModel",
      "state": {
       "height": "100%",
       "width": "90%"
      }
     },
     "acf1c5a99f7843fd8fe8da70d0aac47f": {
      "model_module": "ontoedit",
      "model_module_version": "1.1.0",
      "model_name": "OntoeditModel",
      "state": {
       "_model_module_version": "1.1.0",
       "_view_module_version": "",
       "cursor": 1198,
       "hints": "Every<br/>Every-single-thing<br/>If<br/>Leo<br/>No<br/>Nothing<br/>Something<br/>Sophie<br/>The<br/>X",
       "hintsX": 1198,
       "layout": "IPY_MODEL_1a817713ce83451c8259b7b8600da6fb",
       "value": "Title: 'African Wildlife'.\nAuthor: 'PaweĹ‚ KapĹ‚aĹ„ski'.\nBased-On: \n 'A Semantic Web Primer.'\n 'Antoniou, G, van Harmelen, F.'\n 'MIT Press, 2003.'\n 'http://www.csd.uoc.gr/~hy566/SWbook.pdf'\n.\n\nComment:\n////// Examples of Possible Questions  /////////////////////////////   \n//Who-Or-What:\n// * is a carnivore ?                                      \n// * is an herbivore ?                                         \n// * is an animal that eats grass ?                            \n// * is-part-of a tree ?  \n// * is eaten by lion?           \n////////////////////////////////////////////////////////////////////.\n\n\n\nPart-1: 'simple hierarchy of beings'.\n\nComment: 'Lets name our instances'.\nSophie is a giraffe.\nLeo is a lion.\n\nComment: 'Lets specify the hierarchy of beings'. \nComment: 'What is what?'.\nEvery lion is an animal.\nEvery giraffe is an animal.\n\nComment: 'Moreover'.\nEvery impala is an animal.\nEvery omnivore is an animal.\nEvery rock-dassie is an animal.\nEvery warthog is an animal.\nEvery carnivore is an animal.\nEvery herbivore is an animal.\nEvery elephant is a herbivore.\n\nComment: 'There are also plants there:'.\nEvery tree is a plant.\nEvery grass is a plant.\nEvery palm-tree is a plant.\n\nPart-2: adjectives and specifications.\n\nComment: 'We cannot use adjectives directly'.\nComment: 'To specify adjectives we need to transform them into sets that have form of buzzy-words'.\n\nEvery tasty-plant is a plant.\nEvery carnivorous-plant is a plant.\n\nComment: 'Similarly we can do to make something more and more specific'.\nEvery branch is a plant-part.\nEvery phloem is a plant-part.\nEvery root is a plant-part.\nEvery parsnip is a root.\nEvery stem is a plant-part.\nEvery twig is a plant-part.\nEvery xylem is a plant-part.\nEvery leaf is a plant-part.\nEvery fruiting-body is a plant-part.\nEvery berry is a fruiting-body.\nEvery apple is a fruiting-body.\n\nPart-3: Disjointness.\n\nComment: 'We deal with Open World Assumption, therefore we need to specify explicitly if two things are different'.\nComment: 'E.g.: We need to specify explicitly that animal is not a plant'.\nEvery animal is not a plant.\nEvery giraffe is not a lion.\nEvery palm-tree is not a tree.\n\nComment: 'Or we can use it - it means the same'.\nNo animal is a plant.\n\nPart-4: Simple relations.\n\nComment: To specify relation beetween beings.\nEvery lion eats an impala.\nEvery carnivorous-plant eats an animal.\n\nComment: 'I.e. be part of is a part-whole relation'.\nEvery branch is-part-of a tree.\nEvery plant-part is-proper-part-of a plant.\nEvery xylem is-proper-part-of a stem.\nEvery phloem is-proper-part-of a stem.\n\nComment:  'Specifying the range of relation. The difference? One is that lion eats impala. Second that it eats only herbivore' -> impala must be herbivore.\nEvery lion eats nothing-but herbivores.\n\nPart-5: 'Complex relations'.\n\nEvery palm-tree has-part that is not a branch.\nEvery warthog eats an animal and eats a fruiting-body and eats a grass and eats a root.\nEvery giraffe eats nothing-but things that are leaves and-or are twigs.\nEvery leaf is-part-of something that is a branch and-or is a twig.\nEvery tasty-plant is-eaten-by a carnivore and is-eaten-by a herbivore.\nEvery-single-thing eats nothing-but things that are animals and-or are plants and-or are-part-of animals and-or are-part-of plants.\n\nPart-6: 'Reflexion'.\n\nNothing is-proper-part-of itself.\n\nPart-7: Equivalence.\n\nComment: 'What it means to be a carnivore, omnivore or herbivore? We specify exact definitions here.'.\nEvery-single-thing that eats nothing-but animals and-or eats nothing-but things that are-part-of animals is a carnivore.\nSomething is an omnivore if-and-only-if-it eats an animal and eats a plant and eats something that is-part-of an animal and-or is-part-of a plant.\nSomething is a herbivore if-and-only-if-it eats nothing-but plants and-or eats nothing-but things that are-part-of plants.\n\nPart-8: 'Disjointness'.\n\nAnything either is a carnivore, is a herbivore or is an omnivore or-something-else.\nAnything either is a branch, is a leaf or is a twig or-something-else.\n\nPart-9: 'Relations between roles'.\n\nComment: 'Role equivalence and inverted roles'.\nX has-part Y if-and-only-if Y is-part-of X.\nX eats Y if-and-only-if Y is-eaten-by X.\n\nComment: 'Role subsumptions'.\nIf X is-proper-part-of Y then X is-part-of Y.\nIf X has-part something that has-part Y then X has-part Y.\n\nComment: 'Complex role subsumptions'.\nIf X is-part-of something that is-part-of Y then X is-part-of Y."
      }
     },
     "b0bf749d3aa54cb5876f768752e013e2": {
      "model_module": "@jupyter-widgets/base",
      "model_module_version": "1.1.0",
      "model_name": "LayoutModel",
      "state": {}
     },
     "b18557280c0d4e1b827179460da45136": {
      "model_module": "@jupyter-widgets/base",
      "model_module_version": "1.1.0",
      "model_name": "LayoutModel",
      "state": {
       "height": "100%",
       "width": "90%"
      }
     },
     "b3aca64dc8c740feae0ac17d0679814c": {
      "model_module": "@jupyter-widgets/output",
      "model_module_version": "1.0.0",
      "model_name": "OutputModel",
      "state": {
       "layout": "IPY_MODEL_0287b64412d1476fac61df9b498195e0"
      }
     },
     "b6c1708eb8ab423fbc381678654dde18": {
      "model_module": "ontoedit",
      "model_module_version": "1.1.0",
      "model_name": "OntoeditModel",
      "state": {
       "_model_module_version": "1.1.0",
       "_view_module_version": "",
       "cursor": 166,
       "hints": "&lt;Proper-Name&gt;<br/>Every<br/>Every-single-thing<br/>If<br/>No<br/>Nothing<br/>Something<br/>The<br/>X",
       "hintsX": 166,
       "layout": "IPY_MODEL_865ed95805f44073ac10f4b4757bd1a0",
       "value": "Comment: 'Lets name our instances'.\nComment: 'Lets specify the hierarchy of beings'. \nComment: 'What is what?'.\n\nEvery lion is an animal.\nEvery giraffe is an animal.\n\nComment: 'Moreover'.\nEvery impala is an animal.\nEvery omnivore is an animal.\nEvery rock-dassie is an animal.\nEvery warthog is an animal.\nEvery carnivore is an animal.\nEvery herbivore is an animal.\nEvery elephant is a herbivore.\nEvery lion is carnivore.\n\nComment: 'There are also plants there:'.\nEvery tree is a plant.\nEvery grass is a plant.\nEvery palm-tree is a plant.\n\nEvery branch is a plant-part.\nEvery leaf is a plant-part.\nEvery twig is a plant-part.\n\nEvery phloem is a plant-part.\nEvery root is a plant-part.\nEvery parsnip is a root.\nEvery stem is a plant-part.\nEvery xylem is a plant-part.\nEvery fruiting-body is a plant-part.\nEvery berry is a fruiting-body.\nEvery apple is a fruiting-body.\n\nComment: 'We cannot use adjectives directly. To specify adjectives we need to transform them into sets that have form of buzzy-words'.\nEvery tasty-plant is a plant.\nEvery carnivorous-plant is a plant.\n"
      }
     },
     "ba703b23f64a4ac9bc68ac9552802303": {
      "model_module": "@jupyter-widgets/base",
      "model_module_version": "1.1.0",
      "model_name": "LayoutModel",
      "state": {
       "height": "300px"
      }
     },
     "bb14a3aef3864813a7002faff9fc6b16": {
      "model_module": "ontoedit",
      "model_module_version": "1.1.0",
      "model_name": "OntoeditModel",
      "state": {
       "_model_module_version": "1.1.0",
       "_view_module_version": "",
       "cursor": 89,
       "hints": "&lt;natural number&gt;",
       "hintsX": 80,
       "layout": "IPY_MODEL_c17c106402064e86b728cf51a20e3f93",
       "value": "Leo-01 is a lion.\nLeo-01 eats Sophie-01.\nSophie-01 is a giraffe.\nSophie-01 eats Branch-01.\nMary-01 is a tree.\nBranch-01 is a branch and is-proper-part-of Mary-01.\n"
      }
     },
     "bfdcdc39eeb04946a97cd9562372bc04": {
      "model_module": "@jupyter-widgets/base",
      "model_module_version": "1.1.0",
      "model_name": "LayoutModel",
      "state": {
       "height": "100%",
       "width": "90%"
      }
     },
     "c17c106402064e86b728cf51a20e3f93": {
      "model_module": "@jupyter-widgets/base",
      "model_module_version": "1.1.0",
      "model_name": "LayoutModel",
      "state": {
       "height": "100%",
       "width": "90%"
      }
     },
     "c1e34aeacb524c99a1c32e8cc8c9413a": {
      "model_module": "@jupyter-widgets/base",
      "model_module_version": "1.1.0",
      "model_name": "LayoutModel",
      "state": {
       "height": "300px"
      }
     },
     "c370339aafb24857915cb2b2d2ab7980": {
      "model_module": "@jupyter-widgets/base",
      "model_module_version": "1.1.0",
      "model_name": "LayoutModel",
      "state": {}
     },
     "c3b494913b23455082fcb63616b57646": {
      "model_module": "@jupyter-widgets/controls",
      "model_module_version": "1.4.0",
      "model_name": "VBoxModel",
      "state": {
       "children": [
        "IPY_MODEL_075ca95d3ff64fdf8542061a5f907fdc",
        "IPY_MODEL_69339d07f80c4b42a0ca64e1e93f2940"
       ],
       "layout": "IPY_MODEL_ce2e3b8fdc324d989c349ad9a641ca61"
      }
     },
     "c4809ee837e84bbba2bd1dc44a5cdc69": {
      "model_module": "@jupyter-widgets/base",
      "model_module_version": "1.1.0",
      "model_name": "LayoutModel",
      "state": {}
     },
     "c7c7716cd5034ec7a3235e29964fa9d9": {
      "model_module": "@jupyter-widgets/output",
      "model_module_version": "1.0.0",
      "model_name": "OutputModel",
      "state": {
       "layout": "IPY_MODEL_ec97c88651864e3ca37f08c0e7906155"
      }
     },
     "c7fe458b7f814978a92e90b0b53c295c": {
      "model_module": "@jupyter-widgets/base",
      "model_module_version": "1.1.0",
      "model_name": "LayoutModel",
      "state": {
       "height": "300px"
      }
     },
     "cb714303465343599e7daddd09b77893": {
      "model_module": "@jupyter-widgets/base",
      "model_module_version": "1.1.0",
      "model_name": "LayoutModel",
      "state": {
       "height": "100%",
       "width": "90%"
      }
     },
     "cbb49564f07a44bdb9bdcc6dc6b14644": {
      "model_module": "@jupyter-widgets/base",
      "model_module_version": "1.1.0",
      "model_name": "LayoutModel",
      "state": {}
     },
     "cdb640c492eb40d986642b7b0cf89db1": {
      "model_module": "@jupyter-widgets/output",
      "model_module_version": "1.0.0",
      "model_name": "OutputModel",
      "state": {
       "layout": "IPY_MODEL_cbb49564f07a44bdb9bdcc6dc6b14644"
      }
     },
     "ce2e3b8fdc324d989c349ad9a641ca61": {
      "model_module": "@jupyter-widgets/base",
      "model_module_version": "1.1.0",
      "model_name": "LayoutModel",
      "state": {
       "height": "300px"
      }
     },
     "d66764a2add44d99aa42b9900ec34efa": {
      "model_module": "@jupyter-widgets/controls",
      "model_module_version": "1.4.0",
      "model_name": "VBoxModel",
      "state": {
       "children": [
        "IPY_MODEL_8299fafb9989402e9259aa0b848881e2",
        "IPY_MODEL_2ee595c943434b3288bd80d13a391707"
       ],
       "layout": "IPY_MODEL_260916fd573c4e118c8d6fdeed6c1d4d"
      }
     },
     "d6c24200739c486fa395a2d6f15f4c29": {
      "model_module": "@jupyter-widgets/controls",
      "model_module_version": "1.4.0",
      "model_name": "VBoxModel",
      "state": {
       "children": [
        "IPY_MODEL_b6c1708eb8ab423fbc381678654dde18",
        "IPY_MODEL_91212d33087f4872ab96d1d2adac582a"
       ],
       "layout": "IPY_MODEL_d786ada62a30448b8081a35a036fbf3d"
      }
     },
     "d786ada62a30448b8081a35a036fbf3d": {
      "model_module": "@jupyter-widgets/base",
      "model_module_version": "1.1.0",
      "model_name": "LayoutModel",
      "state": {
       "height": "300px"
      }
     },
     "d810833472c54ff1a38f821261445bdb": {
      "model_module": "@jupyter-widgets/base",
      "model_module_version": "1.1.0",
      "model_name": "LayoutModel",
      "state": {}
     },
     "d8f23781ffc74fb797fe78016d7b58e4": {
      "model_module": "@jupyter-widgets/base",
      "model_module_version": "1.1.0",
      "model_name": "LayoutModel",
      "state": {
       "height": "100%",
       "width": "90%"
      }
     },
     "d9c2b88b505b48a4b6c2c57cd93f7776": {
      "model_module": "@jupyter-widgets/base",
      "model_module_version": "1.1.0",
      "model_name": "LayoutModel",
      "state": {}
     },
     "d9cb1abd82e245e987efdff390856b01": {
      "model_module": "@jupyter-widgets/base",
      "model_module_version": "1.1.0",
      "model_name": "LayoutModel",
      "state": {}
     },
     "daee7295113f4ab588ec50dacbc01003": {
      "model_module": "@jupyter-widgets/base",
      "model_module_version": "1.1.0",
      "model_name": "LayoutModel",
      "state": {}
     },
     "db4059a12cb34224934499d5b329f6c6": {
      "model_module": "@jupyter-widgets/base",
      "model_module_version": "1.1.0",
      "model_name": "LayoutModel",
      "state": {}
     },
     "db6bc8d6d0d54e2484718dee857e30e1": {
      "model_module": "@jupyter-widgets/base",
      "model_module_version": "1.1.0",
      "model_name": "LayoutModel",
      "state": {}
     },
     "dc33986a1b82473796f0e43e7b8960d2": {
      "model_module": "@jupyter-widgets/controls",
      "model_module_version": "1.4.0",
      "model_name": "VBoxModel",
      "state": {
       "children": [
        "IPY_MODEL_490fd126b35c4016a45f2265268f5ef0",
        "IPY_MODEL_27ad5c8d383e457a9920d5cb29f64853"
       ],
       "layout": "IPY_MODEL_f2d6e500963644e1ace9c82d3d895f68"
      }
     },
     "dd75b77ca52a43a9868c62b289a4e4e1": {
      "model_module": "@jupyter-widgets/output",
      "model_module_version": "1.0.0",
      "model_name": "OutputModel",
      "state": {
       "layout": "IPY_MODEL_db6bc8d6d0d54e2484718dee857e30e1"
      }
     },
     "df07f4cbd3574e08868b7543bb5cb15a": {
      "model_module": "@jupyter-widgets/base",
      "model_module_version": "1.1.0",
      "model_name": "LayoutModel",
      "state": {
       "height": "100%",
       "width": "90%"
      }
     },
     "df45bd0d614e4f8dbc1d38058dc993e7": {
      "model_module": "@jupyter-widgets/base",
      "model_module_version": "1.1.0",
      "model_name": "LayoutModel",
      "state": {
       "height": "300px"
      }
     },
     "df59fa382ea5464699bf03b221ac05e1": {
      "model_module": "@jupyter-widgets/base",
      "model_module_version": "1.1.0",
      "model_name": "LayoutModel",
      "state": {}
     },
     "e18af0cea30b4af3a6cf1099f055219c": {
      "model_module": "@jupyter-widgets/controls",
      "model_module_version": "1.4.0",
      "model_name": "VBoxModel",
      "state": {
       "children": [
        "IPY_MODEL_e1d32be0fd784adb901538ecaea234af",
        "IPY_MODEL_e5a39ffce83d482a9bb07ef05f75f0c2"
       ],
       "layout": "IPY_MODEL_ba703b23f64a4ac9bc68ac9552802303"
      }
     },
     "e1d32be0fd784adb901538ecaea234af": {
      "model_module": "ontoedit",
      "model_module_version": "1.1.0",
      "model_name": "OntoeditModel",
      "state": {
       "_model_module_version": "1.1.0",
       "_view_module_version": "",
       "layout": "IPY_MODEL_a23f3db72e844fd38d5d05b950980e06",
       "value": "Every-single-thing that is a plant and-or is a plant-part is a herb.\nNo herb is an animal.\n\nEvery carnivore eats nothing-but animals.\nEvery lion eats nothing-but herbivores.\n\nEvery herbivore eats nothing-but herb.\n\nAnything either is a carnivore, is a herbivore or is an omnivore or-something-else.\nAnything either is a branch, is a leaf or is a twig or-something-else.\n\nNo giraffe is a lion.\nEvery palm-tree is not a tree.\n"
      }
     },
     "e26922aed1324c3cb824535d8f1eba7a": {
      "model_module": "@jupyter-widgets/output",
      "model_module_version": "1.0.0",
      "model_name": "OutputModel",
      "state": {
       "layout": "IPY_MODEL_08a658b923de47b7add2517b8353da1a"
      }
     },
     "e278e56780d1428c826f7d861d407183": {
      "model_module": "@jupyter-widgets/base",
      "model_module_version": "1.1.0",
      "model_name": "LayoutModel",
      "state": {
       "height": "300px"
      }
     },
     "e445e8ca520940b8aa5759ab19428243": {
      "model_module": "@jupyter-widgets/base",
      "model_module_version": "1.1.0",
      "model_name": "LayoutModel",
      "state": {
       "height": "300px"
      }
     },
     "e47665c42c1e462aa1fcecac0816fa09": {
      "model_module": "@jupyter-widgets/controls",
      "model_module_version": "1.4.0",
      "model_name": "VBoxModel",
      "state": {
       "children": [
        "IPY_MODEL_1d27dea574734e228e02e981579f0e48",
        "IPY_MODEL_3e2147d0702741bbb1963715683ba2ff"
       ],
       "layout": "IPY_MODEL_704fa12b89334f67b30097d1c39534c9"
      }
     },
     "e4e340eba47048e182a7727741432dc5": {
      "model_module": "@jupyter-widgets/controls",
      "model_module_version": "1.4.0",
      "model_name": "VBoxModel",
      "state": {
       "children": [
        "IPY_MODEL_a83fc2b5087147fda70ef91ec71c9636",
        "IPY_MODEL_0529b65148e34a3f84378822394dbb23"
       ],
       "layout": "IPY_MODEL_46b6bc391f7d47cb95796e1c5effa3cb"
      }
     },
     "e5a39ffce83d482a9bb07ef05f75f0c2": {
      "model_module": "@jupyter-widgets/output",
      "model_module_version": "1.0.0",
      "model_name": "OutputModel",
      "state": {
       "layout": "IPY_MODEL_efae18bdcab04718b11c37b244e41d0f"
      }
     },
     "e736dda042e74aac96c321bed782241e": {
      "model_module": "ontoedit",
      "model_module_version": "1.1.0",
      "model_name": "OntoeditModel",
      "state": {
       "_model_module_version": "1.1.0",
       "_view_module_version": "",
       "layout": "IPY_MODEL_34a127ddc9f3425d855562e734e8582e"
      }
     },
     "e87806312d1343ce83bb2bb743ba1b80": {
      "model_module": "@jupyter-widgets/base",
      "model_module_version": "1.1.0",
      "model_name": "LayoutModel",
      "state": {}
     },
     "ea50e21fc54b4d97b922faa6337bdfe7": {
      "model_module": "@jupyter-widgets/base",
      "model_module_version": "1.1.0",
      "model_name": "LayoutModel",
      "state": {}
     },
     "ec97c88651864e3ca37f08c0e7906155": {
      "model_module": "@jupyter-widgets/base",
      "model_module_version": "1.1.0",
      "model_name": "LayoutModel",
      "state": {}
     },
     "edb2db2d34c248249a938a00c0f98a07": {
      "model_module": "@jupyter-widgets/base",
      "model_module_version": "1.1.0",
      "model_name": "LayoutModel",
      "state": {}
     },
     "edfd7c1406474ef8b6008fa01533a9f1": {
      "model_module": "@jupyter-widgets/output",
      "model_module_version": "1.0.0",
      "model_name": "OutputModel",
      "state": {
       "layout": "IPY_MODEL_d9cb1abd82e245e987efdff390856b01"
      }
     },
     "ee2dd188cbe048cd98f09aa693d4aae4": {
      "model_module": "@jupyter-widgets/controls",
      "model_module_version": "1.4.0",
      "model_name": "VBoxModel",
      "state": {
       "children": [
        "IPY_MODEL_bb14a3aef3864813a7002faff9fc6b16",
        "IPY_MODEL_ef6cc581fc9c483fa9f40c0299bb4106"
       ],
       "layout": "IPY_MODEL_88e3f3eb628649cbaa595601364bada4"
      }
     },
     "ef6cc581fc9c483fa9f40c0299bb4106": {
      "model_module": "@jupyter-widgets/output",
      "model_module_version": "1.0.0",
      "model_name": "OutputModel",
      "state": {
       "layout": "IPY_MODEL_1786ad24fa9d463aa9ad86dcacd6b971"
      }
     },
     "efae18bdcab04718b11c37b244e41d0f": {
      "model_module": "@jupyter-widgets/base",
      "model_module_version": "1.1.0",
      "model_name": "LayoutModel",
      "state": {}
     },
     "f0f6655efb3d4a67824e88522b093252": {
      "model_module": "@jupyter-widgets/controls",
      "model_module_version": "1.4.0",
      "model_name": "VBoxModel",
      "state": {
       "children": [
        "IPY_MODEL_687f88667abb40929c0d1ac2acbc9281",
        "IPY_MODEL_2401f4a10a284f68920b1eb13a0ef3f1"
       ],
       "layout": "IPY_MODEL_08826d1d1e2d4efa9364b5d2bafa3c93"
      }
     },
     "f1b9951724734f07987cdd4aef154383": {
      "model_module": "@jupyter-widgets/controls",
      "model_module_version": "1.4.0",
      "model_name": "VBoxModel",
      "state": {
       "children": [
        "IPY_MODEL_acf1c5a99f7843fd8fe8da70d0aac47f",
        "IPY_MODEL_8b52933a93d84df1bc039f960cacf560"
       ],
       "layout": "IPY_MODEL_e445e8ca520940b8aa5759ab19428243"
      }
     },
     "f2d6e500963644e1ace9c82d3d895f68": {
      "model_module": "@jupyter-widgets/base",
      "model_module_version": "1.1.0",
      "model_name": "LayoutModel",
      "state": {
       "height": "300px"
      }
     },
     "f2dac51fb55347f2bf9f5f781b9e4558": {
      "model_module": "@jupyter-widgets/base",
      "model_module_version": "1.1.0",
      "model_name": "LayoutModel",
      "state": {}
     },
     "f4ea8cdd8b5c4157a727af4af9d67cb3": {
      "model_module": "@jupyter-widgets/base",
      "model_module_version": "1.1.0",
      "model_name": "LayoutModel",
      "state": {
       "height": "100%",
       "width": "90%"
      }
     },
     "f7410d5947704d05b636e488c607ec0e": {
      "model_module": "@jupyter-widgets/base",
      "model_module_version": "1.1.0",
      "model_name": "LayoutModel",
      "state": {
       "height": "100%",
       "width": "90%"
      }
     },
     "f79246661c1941fb8047812a618edbea": {
      "model_module": "@jupyter-widgets/base",
      "model_module_version": "1.1.0",
      "model_name": "LayoutModel",
      "state": {
       "height": "100px"
      }
     },
     "f7e95e3d43544ddfb6c69338a006cace": {
      "model_module": "@jupyter-widgets/base",
      "model_module_version": "1.1.0",
      "model_name": "LayoutModel",
      "state": {
       "height": "300px"
      }
     },
     "f81355e7f2a34681bf8ca14e71dbf938": {
      "model_module": "@jupyter-widgets/output",
      "model_module_version": "1.0.0",
      "model_name": "OutputModel",
      "state": {
       "layout": "IPY_MODEL_edb2db2d34c248249a938a00c0f98a07"
      }
     },
     "f81dc3d2747142f9ac59bd2ccb85dc67": {
      "model_module": "@jupyter-widgets/output",
      "model_module_version": "1.0.0",
      "model_name": "OutputModel",
      "state": {
       "layout": "IPY_MODEL_5f92d7eda9e4489591fce827af8d659b"
      }
     }
    },
    "version_major": 2,
    "version_minor": 0
   }
  }
 },
 "nbformat": 4,
 "nbformat_minor": 2
}
