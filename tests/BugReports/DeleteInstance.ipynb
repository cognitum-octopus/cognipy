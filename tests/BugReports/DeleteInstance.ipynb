{
 "cells": [
  {
   "cell_type": "code",
   "execution_count": 1,
   "id": "systematic-stone",
   "metadata": {},
   "outputs": [],
   "source": [
    "from cognipy.ontology import Ontology"
   ]
  },
  {
   "cell_type": "code",
   "execution_count": 2,
   "id": "trained-nicaragua",
   "metadata": {},
   "outputs": [],
   "source": [
    "onto = Ontology(\"cnl/string\",\"World says Hello. Hello is a word. Every impala is an animal.\"\n",
    "                \" Every omnivore is an animal. Test is an impala.\"\n",
    "               )"
   ]
  },
  {
   "cell_type": "code",
   "execution_count": 3,
   "id": "played-consolidation",
   "metadata": {},
   "outputs": [
    {
     "data": {
      "image/svg+xml": [
       "<svg xmlns=\"http://www.w3.org/2000/svg\" xmlns:xlink=\"http://www.w3.org/1999/xlink\" width=\"240pt\" height=\"204pt\" viewBox=\"0.00 0.00 239.50 204.00\">\n",
       "<g id=\"graph0\" class=\"graph\" transform=\"scale(1 1) rotate(0) translate(4 200)\">\n",
       "<title>G</title>\n",
       "<polygon fill=\"white\" stroke=\"none\" points=\"-4,4 -4,-200 235.5,-200 235.5,4 -4,4\"/>\n",
       "<!-- omnivore -->\n",
       "<g id=\"node1\" class=\"node\"><title>omnivore</title>\n",
       "<path fill=\"aliceblue\" stroke=\"black\" stroke-width=\"0.5\" d=\"M12,-74.5C12,-74.5 45,-74.5 45,-74.5 51,-74.5 57,-80.5 57,-86.5 57,-86.5 57,-98.5 57,-98.5 57,-104.5 51,-110.5 45,-110.5 45,-110.5 12,-110.5 12,-110.5 6,-110.5 0,-104.5 0,-98.5 0,-98.5 0,-86.5 0,-86.5 0,-80.5 6,-74.5 12,-74.5\"/>\n",
       "<text text-anchor=\"middle\" x=\"28.5\" y=\"-89.7\" font-family=\"Times New Roman,serif\" font-size=\"11.00\">omnivore</text>\n",
       "</g>\n",
       "<!-- animal -->\n",
       "<g id=\"node2\" class=\"node\"><title>animal</title>\n",
       "<path fill=\"aliceblue\" stroke=\"black\" stroke-width=\"0.5\" d=\"M36.5,-159.5C36.5,-159.5 66.5,-159.5 66.5,-159.5 72.5,-159.5 78.5,-165.5 78.5,-171.5 78.5,-171.5 78.5,-183.5 78.5,-183.5 78.5,-189.5 72.5,-195.5 66.5,-195.5 66.5,-195.5 36.5,-195.5 36.5,-195.5 30.5,-195.5 24.5,-189.5 24.5,-183.5 24.5,-183.5 24.5,-171.5 24.5,-171.5 24.5,-165.5 30.5,-159.5 36.5,-159.5\"/>\n",
       "<text text-anchor=\"middle\" x=\"51.5\" y=\"-174.7\" font-family=\"Times New Roman,serif\" font-size=\"11.00\">animal</text>\n",
       "</g>\n",
       "<!-- animal&#45;&#45;omnivore -->\n",
       "<g id=\"edge1\" class=\"edge\"><title>animal--omnivore</title>\n",
       "<path fill=\"none\" stroke=\"black\" stroke-width=\"0.5\" d=\"M44.049,-149.611C40.505,-136.822 36.3729,-121.911 33.2595,-110.676\"/>\n",
       "<polygon fill=\"none\" stroke=\"black\" stroke-width=\"0.5\" points=\"40.691,-150.6 46.7344,-159.302 47.4368,-148.731 40.691,-150.6\"/>\n",
       "</g>\n",
       "<!-- impala -->\n",
       "<g id=\"node3\" class=\"node\"><title>impala</title>\n",
       "<path fill=\"aliceblue\" stroke=\"black\" stroke-width=\"0.5\" d=\"M87.5,-74.5C87.5,-74.5 117.5,-74.5 117.5,-74.5 123.5,-74.5 129.5,-80.5 129.5,-86.5 129.5,-86.5 129.5,-98.5 129.5,-98.5 129.5,-104.5 123.5,-110.5 117.5,-110.5 117.5,-110.5 87.5,-110.5 87.5,-110.5 81.5,-110.5 75.5,-104.5 75.5,-98.5 75.5,-98.5 75.5,-86.5 75.5,-86.5 75.5,-80.5 81.5,-74.5 87.5,-74.5\"/>\n",
       "<text text-anchor=\"middle\" x=\"102.5\" y=\"-89.7\" font-family=\"Times New Roman,serif\" font-size=\"11.00\">impala</text>\n",
       "</g>\n",
       "<!-- animal&#45;&#45;impala -->\n",
       "<g id=\"edge2\" class=\"edge\"><title>animal--impala</title>\n",
       "<path fill=\"none\" stroke=\"black\" stroke-width=\"0.5\" d=\"M67.3252,-150.745C75.334,-137.711 84.8376,-122.245 91.9463,-110.676\"/>\n",
       "<polygon fill=\"none\" stroke=\"black\" stroke-width=\"0.5\" points=\"64.3205,-148.95 62.0672,-159.302 70.2846,-152.615 64.3205,-148.95\"/>\n",
       "</g>\n",
       "<!-- Test -->\n",
       "<g id=\"node4\" class=\"node\"><title>Test</title>\n",
       "<path fill=\"whitesmoke\" stroke=\"black\" stroke-width=\"0.5\" d=\"M87.5,-0.5C87.5,-0.5 117.5,-0.5 117.5,-0.5 123.5,-0.5 129.5,-6.5 129.5,-12.5 129.5,-12.5 129.5,-24.5 129.5,-24.5 129.5,-30.5 123.5,-36.5 117.5,-36.5 117.5,-36.5 87.5,-36.5 87.5,-36.5 81.5,-36.5 75.5,-30.5 75.5,-24.5 75.5,-24.5 75.5,-12.5 75.5,-12.5 75.5,-6.5 81.5,-0.5 87.5,-0.5\"/>\n",
       "<text text-anchor=\"middle\" x=\"102.5\" y=\"-15.7\" font-family=\"Times New Roman,serif\" font-size=\"11.00\">Test</text>\n",
       "</g>\n",
       "<!-- impala&#45;&#45;Test -->\n",
       "<g id=\"edge3\" class=\"edge\"><title>impala--Test</title>\n",
       "<path fill=\"none\" stroke=\"black\" stroke-width=\"0.5\" stroke-dasharray=\"5,2\" d=\"M102.5,-64.2193C102.5,-55.072 102.5,-45.1255 102.5,-36.9407\"/>\n",
       "<polygon fill=\"none\" stroke=\"black\" stroke-width=\"0.5\" points=\"99.0001,-64.437 102.5,-74.437 106,-64.437 99.0001,-64.437\"/>\n",
       "</g>\n",
       "<!-- Hello -->\n",
       "<g id=\"node5\" class=\"node\"><title>Hello</title>\n",
       "<path fill=\"whitesmoke\" stroke=\"black\" stroke-width=\"0.5\" d=\"M176.5,-74.5C176.5,-74.5 206.5,-74.5 206.5,-74.5 212.5,-74.5 218.5,-80.5 218.5,-86.5 218.5,-86.5 218.5,-98.5 218.5,-98.5 218.5,-104.5 212.5,-110.5 206.5,-110.5 206.5,-110.5 176.5,-110.5 176.5,-110.5 170.5,-110.5 164.5,-104.5 164.5,-98.5 164.5,-98.5 164.5,-86.5 164.5,-86.5 164.5,-80.5 170.5,-74.5 176.5,-74.5\"/>\n",
       "<text text-anchor=\"middle\" x=\"191.5\" y=\"-89.7\" font-family=\"Times New Roman,serif\" font-size=\"11.00\">Hello</text>\n",
       "</g>\n",
       "<!-- word -->\n",
       "<g id=\"node6\" class=\"node\"><title>word</title>\n",
       "<path fill=\"aliceblue\" stroke=\"black\" stroke-width=\"0.5\" d=\"M117.5,-159.5C117.5,-159.5 147.5,-159.5 147.5,-159.5 153.5,-159.5 159.5,-165.5 159.5,-171.5 159.5,-171.5 159.5,-183.5 159.5,-183.5 159.5,-189.5 153.5,-195.5 147.5,-195.5 147.5,-195.5 117.5,-195.5 117.5,-195.5 111.5,-195.5 105.5,-189.5 105.5,-183.5 105.5,-183.5 105.5,-171.5 105.5,-171.5 105.5,-165.5 111.5,-159.5 117.5,-159.5\"/>\n",
       "<text text-anchor=\"middle\" x=\"132.5\" y=\"-174.7\" font-family=\"Times New Roman,serif\" font-size=\"11.00\">word</text>\n",
       "</g>\n",
       "<!-- word&#45;&#45;Hello -->\n",
       "<g id=\"edge4\" class=\"edge\"><title>word--Hello</title>\n",
       "<path fill=\"none\" stroke=\"black\" stroke-width=\"0.5\" stroke-dasharray=\"5,2\" d=\"M150.541,-151.121C159.861,-138.009 170.988,-122.356 179.291,-110.676\"/>\n",
       "<polygon fill=\"none\" stroke=\"black\" stroke-width=\"0.5\" points=\"147.666,-149.124 144.725,-159.302 153.371,-153.18 147.666,-149.124\"/>\n",
       "</g>\n",
       "<!-- World -->\n",
       "<g id=\"node7\" class=\"node\"><title>World</title>\n",
       "<path fill=\"whitesmoke\" stroke=\"black\" stroke-width=\"0.5\" d=\"M189.5,-159.5C189.5,-159.5 219.5,-159.5 219.5,-159.5 225.5,-159.5 231.5,-165.5 231.5,-171.5 231.5,-171.5 231.5,-183.5 231.5,-183.5 231.5,-189.5 225.5,-195.5 219.5,-195.5 219.5,-195.5 189.5,-195.5 189.5,-195.5 183.5,-195.5 177.5,-189.5 177.5,-183.5 177.5,-183.5 177.5,-171.5 177.5,-171.5 177.5,-165.5 183.5,-159.5 189.5,-159.5\"/>\n",
       "<text text-anchor=\"middle\" x=\"204.5\" y=\"-174.7\" font-family=\"Times New Roman,serif\" font-size=\"11.00\">World</text>\n",
       "</g>\n",
       "<!-- World&#45;&#45;Hello -->\n",
       "<g id=\"edge5\" class=\"edge\"><title>World--Hello</title>\n",
       "<path fill=\"none\" stroke=\"black\" stroke-width=\"0.5\" d=\"M201.806,-159.302C200.063,-148.174 197.756,-133.445 195.767,-120.744\"/>\n",
       "<polygon fill=\"black\" stroke=\"black\" stroke-width=\"0.5\" points=\"194.19,-110.676 200.183,-119.859 194.964,-115.615 195.738,-120.555 195.738,-120.555 195.738,-120.555 194.964,-115.615 191.292,-121.252 194.19,-110.676 194.19,-110.676\"/>\n",
       "<text text-anchor=\"middle\" x=\"209.5\" y=\"-132.2\" font-family=\"Times New Roman,serif\" font-size=\"11.00\">says</text>\n",
       "</g>\n",
       "</g>\n",
       "</svg>"
      ],
      "text/plain": [
       "<IPython.core.display.SVG object>"
      ]
     },
     "execution_count": 3,
     "metadata": {},
     "output_type": "execute_result"
    }
   ],
   "source": [
    "onto.draw_graph()"
   ]
  },
  {
   "cell_type": "code",
   "execution_count": 4,
   "id": "split-watson",
   "metadata": {},
   "outputs": [
    {
     "name": "stdout",
     "output_type": "stream",
     "text": [
      "None\n"
     ]
    }
   ],
   "source": [
    "print(onto.delete_instance(\"Hello\"))"
   ]
  },
  {
   "cell_type": "code",
   "execution_count": 5,
   "id": "conservative-baking",
   "metadata": {},
   "outputs": [
    {
     "name": "stdout",
     "output_type": "stream",
     "text": [
      "Every impala is an animal.\r\n",
      "Every omnivore is an animal.\r\n",
      "Test is an impala.\r\n",
      "\n"
     ]
    }
   ],
   "source": [
    "print(onto.as_cnl())"
   ]
  },
  {
   "cell_type": "code",
   "execution_count": 6,
   "id": "sublime-colleague",
   "metadata": {},
   "outputs": [
    {
     "data": {
      "image/svg+xml": [
       "<svg xmlns=\"http://www.w3.org/2000/svg\" xmlns:xlink=\"http://www.w3.org/1999/xlink\" width=\"138pt\" height=\"191pt\" viewBox=\"0.00 0.00 137.50 191.00\">\n",
       "<g id=\"graph0\" class=\"graph\" transform=\"scale(1 1) rotate(0) translate(4 187)\">\n",
       "<title>G</title>\n",
       "<polygon fill=\"white\" stroke=\"none\" points=\"-4,4 -4,-187 133.5,-187 133.5,4 -4,4\"/>\n",
       "<!-- omnivore -->\n",
       "<g id=\"node1\" class=\"node\"><title>omnivore</title>\n",
       "<path fill=\"aliceblue\" stroke=\"black\" stroke-width=\"0.5\" d=\"M12,-73.5C12,-73.5 45,-73.5 45,-73.5 51,-73.5 57,-79.5 57,-85.5 57,-85.5 57,-97.5 57,-97.5 57,-103.5 51,-109.5 45,-109.5 45,-109.5 12,-109.5 12,-109.5 6,-109.5 0,-103.5 0,-97.5 0,-97.5 0,-85.5 0,-85.5 0,-79.5 6,-73.5 12,-73.5\"/>\n",
       "<text text-anchor=\"middle\" x=\"28.5\" y=\"-88.7\" font-family=\"Times New Roman,serif\" font-size=\"11.00\">omnivore</text>\n",
       "</g>\n",
       "<!-- animal -->\n",
       "<g id=\"node2\" class=\"node\"><title>animal</title>\n",
       "<path fill=\"aliceblue\" stroke=\"black\" stroke-width=\"0.5\" d=\"M50.5,-146.5C50.5,-146.5 80.5,-146.5 80.5,-146.5 86.5,-146.5 92.5,-152.5 92.5,-158.5 92.5,-158.5 92.5,-170.5 92.5,-170.5 92.5,-176.5 86.5,-182.5 80.5,-182.5 80.5,-182.5 50.5,-182.5 50.5,-182.5 44.5,-182.5 38.5,-176.5 38.5,-170.5 38.5,-170.5 38.5,-158.5 38.5,-158.5 38.5,-152.5 44.5,-146.5 50.5,-146.5\"/>\n",
       "<text text-anchor=\"middle\" x=\"65.5\" y=\"-161.7\" font-family=\"Times New Roman,serif\" font-size=\"11.00\">animal</text>\n",
       "</g>\n",
       "<!-- animal&#45;&#45;omnivore -->\n",
       "<g id=\"edge1\" class=\"edge\"><title>animal--omnivore</title>\n",
       "<path fill=\"none\" stroke=\"black\" stroke-width=\"0.5\" d=\"M51.9097,-137.421C47.0599,-128.115 41.7248,-117.877 37.3742,-109.529\"/>\n",
       "<polygon fill=\"none\" stroke=\"black\" stroke-width=\"0.5\" points=\"48.8181,-139.062 56.5433,-146.313 55.0257,-135.827 48.8181,-139.062\"/>\n",
       "</g>\n",
       "<!-- impala -->\n",
       "<g id=\"node3\" class=\"node\"><title>impala</title>\n",
       "<path fill=\"aliceblue\" stroke=\"black\" stroke-width=\"0.5\" d=\"M87.5,-73.5C87.5,-73.5 117.5,-73.5 117.5,-73.5 123.5,-73.5 129.5,-79.5 129.5,-85.5 129.5,-85.5 129.5,-97.5 129.5,-97.5 129.5,-103.5 123.5,-109.5 117.5,-109.5 117.5,-109.5 87.5,-109.5 87.5,-109.5 81.5,-109.5 75.5,-103.5 75.5,-97.5 75.5,-97.5 75.5,-85.5 75.5,-85.5 75.5,-79.5 81.5,-73.5 87.5,-73.5\"/>\n",
       "<text text-anchor=\"middle\" x=\"102.5\" y=\"-88.7\" font-family=\"Times New Roman,serif\" font-size=\"11.00\">impala</text>\n",
       "</g>\n",
       "<!-- animal&#45;&#45;impala -->\n",
       "<g id=\"edge2\" class=\"edge\"><title>animal--impala</title>\n",
       "<path fill=\"none\" stroke=\"black\" stroke-width=\"0.5\" d=\"M79.0903,-137.421C83.9401,-128.115 89.2752,-117.877 93.6258,-109.529\"/>\n",
       "<polygon fill=\"none\" stroke=\"black\" stroke-width=\"0.5\" points=\"75.9743,-135.827 74.4567,-146.313 82.1819,-139.062 75.9743,-135.827\"/>\n",
       "</g>\n",
       "<!-- Test -->\n",
       "<g id=\"node4\" class=\"node\"><title>Test</title>\n",
       "<path fill=\"whitesmoke\" stroke=\"black\" stroke-width=\"0.5\" d=\"M87.5,-0.5C87.5,-0.5 117.5,-0.5 117.5,-0.5 123.5,-0.5 129.5,-6.5 129.5,-12.5 129.5,-12.5 129.5,-24.5 129.5,-24.5 129.5,-30.5 123.5,-36.5 117.5,-36.5 117.5,-36.5 87.5,-36.5 87.5,-36.5 81.5,-36.5 75.5,-30.5 75.5,-24.5 75.5,-24.5 75.5,-12.5 75.5,-12.5 75.5,-6.5 81.5,-0.5 87.5,-0.5\"/>\n",
       "<text text-anchor=\"middle\" x=\"102.5\" y=\"-15.7\" font-family=\"Times New Roman,serif\" font-size=\"11.00\">Test</text>\n",
       "</g>\n",
       "<!-- impala&#45;&#45;Test -->\n",
       "<g id=\"edge3\" class=\"edge\"><title>impala--Test</title>\n",
       "<path fill=\"none\" stroke=\"black\" stroke-width=\"0.5\" stroke-dasharray=\"5,2\" d=\"M102.5,-63.2534C102.5,-54.2651 102.5,-44.5295 102.5,-36.5288\"/>\n",
       "<polygon fill=\"none\" stroke=\"black\" stroke-width=\"0.5\" points=\"99.0001,-63.3128 102.5,-73.3129 106,-63.3129 99.0001,-63.3128\"/>\n",
       "</g>\n",
       "</g>\n",
       "</svg>"
      ],
      "text/plain": [
       "<IPython.core.display.SVG object>"
      ]
     },
     "execution_count": 6,
     "metadata": {},
     "output_type": "execute_result"
    }
   ],
   "source": [
    "onto.draw_graph()"
   ]
  },
  {
   "cell_type": "code",
   "execution_count": 7,
   "id": "terminal-jurisdiction",
   "metadata": {},
   "outputs": [],
   "source": [
    "onto = Ontology(\"cnl/string\",\"World says Hello. Hello is a word. Every impala is an animal.\"\n",
    "                \" Every omnivore is an animal. Test is an impala.\"\n",
    "                \"Every man is Hello.\"\n",
    "               )"
   ]
  },
  {
   "cell_type": "code",
   "execution_count": 8,
   "id": "synthetic-blast",
   "metadata": {},
   "outputs": [
    {
     "ename": "ValueError",
     "evalue": "Cannot remove _Hello as it is used in [Every man is Hello.\r\n]. One can delete instance if it is used in A-Box only.",
     "output_type": "error",
     "traceback": [
      "\u001b[1;31m---------------------------------------------------------------------------\u001b[0m",
      "\u001b[1;31mValueError\u001b[0m                                Traceback (most recent call last)",
      "\u001b[1;32m<ipython-input-8-c5c3d6392dbd>\u001b[0m in \u001b[0;36m<module>\u001b[1;34m\u001b[0m\n\u001b[1;32m----> 1\u001b[1;33m \u001b[0mprint\u001b[0m\u001b[1;33m(\u001b[0m\u001b[0monto\u001b[0m\u001b[1;33m.\u001b[0m\u001b[0mdelete_instance\u001b[0m\u001b[1;33m(\u001b[0m\u001b[1;34m\"Hello\"\u001b[0m\u001b[1;33m)\u001b[0m\u001b[1;33m)\u001b[0m\u001b[1;33m\u001b[0m\u001b[1;33m\u001b[0m\u001b[0m\n\u001b[0m",
      "\u001b[1;32mC:\\ROOT\\cognipy\\docsrc\\jupyter_notebooks\\BugReports\\cognipy\\ontology.py\u001b[0m in \u001b[0;36mdelete_instance\u001b[1;34m(self, inst)\u001b[0m\n\u001b[0;32m    221\u001b[0m             \u001b[0minst\u001b[0m \u001b[1;33m(\u001b[0m\u001b[0mstr\u001b[0m\u001b[1;33m)\u001b[0m\u001b[1;33m:\u001b[0m \u001b[0mthe\u001b[0m \u001b[0mcnl\u001b[0m \u001b[0mname\u001b[0m \u001b[0mof\u001b[0m \u001b[0mthe\u001b[0m \u001b[0minstance\u001b[0m\u001b[1;33m\u001b[0m\u001b[1;33m\u001b[0m\u001b[0m\n\u001b[0;32m    222\u001b[0m         \"\"\"\n\u001b[1;32m--> 223\u001b[1;33m         \u001b[0mcognipy_call\u001b[0m\u001b[1;33m(\u001b[0m\u001b[0mself\u001b[0m\u001b[1;33m.\u001b[0m\u001b[0m_uid\u001b[0m\u001b[1;33m,\u001b[0m \u001b[1;34m\"RemoveInstance\"\u001b[0m\u001b[1;33m,\u001b[0m \u001b[0minst\u001b[0m\u001b[1;33m)\u001b[0m\u001b[1;33m\u001b[0m\u001b[1;33m\u001b[0m\u001b[0m\n\u001b[0m\u001b[0;32m    224\u001b[0m         \u001b[1;32mif\u001b[0m \u001b[0mself\u001b[0m\u001b[1;33m.\u001b[0m\u001b[0m_verbose\u001b[0m\u001b[1;33m:\u001b[0m\u001b[1;33m\u001b[0m\u001b[1;33m\u001b[0m\u001b[0m\n\u001b[0;32m    225\u001b[0m             \u001b[0mmarkdown\u001b[0m \u001b[1;33m=\u001b[0m \u001b[1;34m\"(\"\u001b[0m\u001b[1;33m+\u001b[0m\u001b[0minst\u001b[0m\u001b[1;33m+\u001b[0m\u001b[1;34m\")\"\u001b[0m\u001b[1;33m\u001b[0m\u001b[1;33m\u001b[0m\u001b[0m\n",
      "\u001b[1;32mC:\\ROOT\\cognipy\\docsrc\\jupyter_notebooks\\BugReports\\cognipy\\interop.py\u001b[0m in \u001b[0;36mcognipy_call\u001b[1;34m(uid, cmd, *args)\u001b[0m\n\u001b[0;32m     69\u001b[0m     \u001b[0mjs\u001b[0m\u001b[1;33m=\u001b[0m\u001b[1;34m\"\\r\\n\"\u001b[0m\u001b[1;33m.\u001b[0m\u001b[0mjoin\u001b[0m\u001b[1;33m(\u001b[0m\u001b[0mja\u001b[0m\u001b[1;33m)\u001b[0m\u001b[1;33m\u001b[0m\u001b[1;33m\u001b[0m\u001b[0m\n\u001b[0;32m     70\u001b[0m     \u001b[1;32mif\u001b[0m \u001b[0mfl\u001b[0m\u001b[1;33m.\u001b[0m\u001b[0mstrip\u001b[0m\u001b[1;33m(\u001b[0m\u001b[1;33m)\u001b[0m\u001b[1;33m==\u001b[0m\u001b[1;34m'@exception'\u001b[0m\u001b[1;33m:\u001b[0m\u001b[1;33m\u001b[0m\u001b[1;33m\u001b[0m\u001b[0m\n\u001b[1;32m---> 71\u001b[1;33m         \u001b[1;32mraise\u001b[0m \u001b[0mtranslate_exception\u001b[0m\u001b[1;33m(\u001b[0m\u001b[0mjson\u001b[0m\u001b[1;33m.\u001b[0m\u001b[0mloads\u001b[0m\u001b[1;33m(\u001b[0m\u001b[0mjs\u001b[0m\u001b[1;33m)\u001b[0m\u001b[1;33m)\u001b[0m\u001b[1;33m\u001b[0m\u001b[1;33m\u001b[0m\u001b[0m\n\u001b[0m\u001b[0;32m     72\u001b[0m     \u001b[1;32mreturn\u001b[0m \u001b[0mjson\u001b[0m\u001b[1;33m.\u001b[0m\u001b[0mloads\u001b[0m\u001b[1;33m(\u001b[0m\u001b[0mjs\u001b[0m\u001b[1;33m)\u001b[0m\u001b[1;33m\u001b[0m\u001b[1;33m\u001b[0m\u001b[0m\n\u001b[0;32m     73\u001b[0m \u001b[1;33m\u001b[0m\u001b[0m\n",
      "\u001b[1;31mValueError\u001b[0m: Cannot remove _Hello as it is used in [Every man is Hello.\r\n]. One can delete instance if it is used in A-Box only."
     ]
    }
   ],
   "source": [
    "print(onto.delete_instance(\"Hello\"))"
   ]
  },
  {
   "cell_type": "code",
   "execution_count": null,
   "id": "optimum-opening",
   "metadata": {},
   "outputs": [],
   "source": []
  }
 ],
 "metadata": {
  "kernelspec": {
   "display_name": "Python 3",
   "language": "python",
   "name": "python3"
  },
  "language_info": {
   "codemirror_mode": {
    "name": "ipython",
    "version": 3
   },
   "file_extension": ".py",
   "mimetype": "text/x-python",
   "name": "python",
   "nbconvert_exporter": "python",
   "pygments_lexer": "ipython3",
   "version": "3.8.5"
  }
 },
 "nbformat": 4,
 "nbformat_minor": 5
}
