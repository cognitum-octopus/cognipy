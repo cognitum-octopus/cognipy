{
 "cells": [
  {
   "cell_type": "markdown",
   "metadata": {},
   "source": [
    "# Safari"
   ]
  },
  {
   "cell_type": "markdown",
   "metadata": {},
   "source": [
    "**Setting up the environment**\n",
    "Initialization of the Ontology editor in Jupyter Notebook"
   ]
  },
  {
   "cell_type": "code",
   "execution_count": 1,
   "metadata": {},
   "outputs": [],
   "source": [
    "from cognipy.ontology import Ontology #the ontology processing class\n",
    "from cognipy.ontology import CQL #SPARQL format tailored for Contolled Natural Language\n",
    "from cognipy.ontology import encode_string_for_graph_label #complex datatypes encoder for the graph labels in graph visualisation\n",
    "import textwrap\n",
    "\n",
    "def graph_attribute_formatter(val):\n",
    "    if isinstance(val,list) or isinstance(val,set):\n",
    "        return \" | \".join(list(map(lambda i:encode_string_for_graph_label(graph_attribute_formatter(i)),val)))\n",
    "    elif isinstance(val,dict):\n",
    "        return \" | \".join(list(map(lambda i:i[0]+\" : \"+encode_string_for_graph_label(graph_attribute_formatter(i[1])),val.items())))\n",
    "    else:\n",
    "        return encode_string_for_graph_label(textwrap.fill(str(val),40))"
   ]
  },
  {
   "cell_type": "markdown",
   "metadata": {},
   "source": [
    "### African Wildlife.\n",
    "Loading the editor for the basic \"safari\" ontology. The Ontology is inspired by 'A Semantic Web Primer.' by 'Antoniou, G, van Harmelen, F.' 'MIT Press, 2003.' 'http://www.csd.uoc.gr/~hy566/SWbook.pdf', tuned to OWL/RL+SWRL profile."
   ]
  },
  {
   "cell_type": "markdown",
   "metadata": {},
   "source": [
    "### Part-1: 'simple hierarchy of beings'. "
   ]
  },
  {
   "cell_type": "markdown",
   "metadata": {},
   "source": [
    "Lets setup the fist ontology editor for the general knowledge."
   ]
  },
  {
   "cell_type": "code",
   "execution_count": 2,
   "metadata": {},
   "outputs": [
    {
     "name": "stdout",
     "output_type": "stream",
     "text": [
      "Overwriting part_01.encnl\n"
     ]
    }
   ],
   "source": [
    "%%writefile part_01.encnl\n",
    "\n",
    "Namespace: 'http://cognitum.eu/african_wildlife'.\n",
    "\n",
    "Comment: 'Let's name our instances'.\n",
    "Comment: 'Let's specify the hierarchy of beings'. \n",
    "Comment: 'What is what?'.\n",
    "Every man has a train.\n",
    "Every lion is an animal.\n",
    "Every giraffe is an animal.\n",
    "\n",
    "Every animal has a face. \n",
    "\n",
    "Comment: 'Moreover'.\n",
    "Every impala is an animal.\n",
    "Every omnivore is an animal. \n",
    "Every rock-dassie is an animal.\n",
    "Every warthog is an animal.\n",
    "Every carnivore is an animal.\n",
    "Every herbivore is an animal.\n",
    "Every elephant is a herbivore.\n",
    "Every lion is carnivore.\n",
    "\n",
    "Comment: 'There are also plants there:'.\n",
    "Every tree is a plant.\n",
    "Every grass is a plant.\n",
    "Every palm-tree is a plant.\n",
    "\n",
    "Every branch is a plant-part.\n",
    "Every leaf is a plant-part.\n",
    "Every twig is a plant-part.\n",
    "\n",
    "Every phloem is a plant-part.\n",
    "Every root is a plant-part.\n",
    "Every parsnip is a root.\n",
    "Every stem is a plant-part.\n",
    "Every xylem is a plant-part.\n",
    "Every fruiting-body is a plant-part.\n",
    "Every berry is a fruiting-body.\n",
    "Every apple is a fruiting-body.\n",
    "\n",
    "Comment: 'We cannot use adjectives directly. To specify adjectives we need to transform them into sets that have form of buzzy-words'.\n",
    "Every tasty-plant is a plant.\n",
    "Every carnivorous-plant is a plant.\n"
   ]
  },
  {
   "cell_type": "markdown",
   "metadata": {},
   "source": [
    "The ontology object alows you to draw the materialised graph using several layout algorythms. Lets draw our base ontology."
   ]
  },
  {
   "cell_type": "code",
   "execution_count": 3,
   "metadata": {},
   "outputs": [
    {
     "data": {
      "image/svg+xml": [
       "<svg height=\"191pt\" viewBox=\"0.00 0.00 1526.00 191.00\" width=\"1526pt\" xmlns=\"http://www.w3.org/2000/svg\" xmlns:xlink=\"http://www.w3.org/1999/xlink\">\n",
       "<g class=\"graph\" id=\"graph0\" transform=\"scale(1 1) rotate(0) translate(4 187)\">\n",
       "<title>G</title>\n",
       "<polygon fill=\"white\" points=\"-4,4 -4,-187 1522,-187 1522,4 -4,4\" stroke=\"none\"/>\n",
       "<!-- tasty&#45;plant -->\n",
       "<g class=\"node\" id=\"node1\"><title>tasty-plant</title>\n",
       "<path d=\"M12,-73.5C12,-73.5 50,-73.5 50,-73.5 56,-73.5 62,-79.5 62,-85.5 62,-85.5 62,-97.5 62,-97.5 62,-103.5 56,-109.5 50,-109.5 50,-109.5 12,-109.5 12,-109.5 6,-109.5 0,-103.5 0,-97.5 0,-97.5 0,-85.5 0,-85.5 0,-79.5 6,-73.5 12,-73.5\" fill=\"aliceblue\" stroke=\"black\" stroke-width=\"0.5\"/>\n",
       "<text font-family=\"Times New Roman,serif\" font-size=\"11.00\" text-anchor=\"middle\" x=\"31\" y=\"-88.7\">tasty-plant</text>\n",
       "</g>\n",
       "<!-- plant -->\n",
       "<g class=\"node\" id=\"node2\"><title>plant</title>\n",
       "<path d=\"M205,-146.5C205,-146.5 235,-146.5 235,-146.5 241,-146.5 247,-152.5 247,-158.5 247,-158.5 247,-170.5 247,-170.5 247,-176.5 241,-182.5 235,-182.5 235,-182.5 205,-182.5 205,-182.5 199,-182.5 193,-176.5 193,-170.5 193,-170.5 193,-158.5 193,-158.5 193,-152.5 199,-146.5 205,-146.5\" fill=\"aliceblue\" stroke=\"black\" stroke-width=\"0.5\"/>\n",
       "<text font-family=\"Times New Roman,serif\" font-size=\"11.00\" text-anchor=\"middle\" x=\"220\" y=\"-161.7\">plant</text>\n",
       "</g>\n",
       "<!-- plant&#45;&#45;tasty&#45;plant -->\n",
       "<g class=\"edge\" id=\"edge1\"><title>plant--tasty-plant</title>\n",
       "<path d=\"M183.149,-151.047C152.835,-140.617 108.86,-125.059 71,-110 68.1827,-108.879 65.2692,-107.682 62.3584,-106.458\" fill=\"none\" stroke=\"black\" stroke-width=\"0.5\"/>\n",
       "<polygon fill=\"none\" points=\"182.282,-154.45 192.877,-154.379 184.551,-147.827 182.282,-154.45\" stroke=\"black\" stroke-width=\"0.5\"/>\n",
       "</g>\n",
       "<!-- carnivorous&#45;plant -->\n",
       "<g class=\"node\" id=\"node15\"><title>carnivorous-plant</title>\n",
       "<path d=\"M92,-73.5C92,-73.5 160,-73.5 160,-73.5 166,-73.5 172,-79.5 172,-85.5 172,-85.5 172,-97.5 172,-97.5 172,-103.5 166,-109.5 160,-109.5 160,-109.5 92,-109.5 92,-109.5 86,-109.5 80,-103.5 80,-97.5 80,-97.5 80,-85.5 80,-85.5 80,-79.5 86,-73.5 92,-73.5\" fill=\"aliceblue\" stroke=\"black\" stroke-width=\"0.5\"/>\n",
       "<text font-family=\"Times New Roman,serif\" font-size=\"11.00\" text-anchor=\"middle\" x=\"126\" y=\"-88.7\">carnivorous-plant</text>\n",
       "</g>\n",
       "<!-- plant&#45;&#45;carnivorous&#45;plant -->\n",
       "<g class=\"edge\" id=\"edge12\"><title>plant--carnivorous-plant</title>\n",
       "<path d=\"M188.903,-140.012C175.716,-130.051 160.634,-118.66 148.545,-109.529\" fill=\"none\" stroke=\"black\" stroke-width=\"0.5\"/>\n",
       "<polygon fill=\"none\" points=\"187.156,-143.079 197.245,-146.313 191.375,-137.493 187.156,-143.079\" stroke=\"black\" stroke-width=\"0.5\"/>\n",
       "</g>\n",
       "<!-- palm&#45;tree -->\n",
       "<g class=\"node\" id=\"node20\"><title>palm-tree</title>\n",
       "<path d=\"M202.5,-73.5C202.5,-73.5 237.5,-73.5 237.5,-73.5 243.5,-73.5 249.5,-79.5 249.5,-85.5 249.5,-85.5 249.5,-97.5 249.5,-97.5 249.5,-103.5 243.5,-109.5 237.5,-109.5 237.5,-109.5 202.5,-109.5 202.5,-109.5 196.5,-109.5 190.5,-103.5 190.5,-97.5 190.5,-97.5 190.5,-85.5 190.5,-85.5 190.5,-79.5 196.5,-73.5 202.5,-73.5\" fill=\"aliceblue\" stroke=\"black\" stroke-width=\"0.5\"/>\n",
       "<text font-family=\"Times New Roman,serif\" font-size=\"11.00\" text-anchor=\"middle\" x=\"220\" y=\"-88.7\">palm-tree</text>\n",
       "</g>\n",
       "<!-- plant&#45;&#45;palm&#45;tree -->\n",
       "<g class=\"edge\" id=\"edge17\"><title>plant--palm-tree</title>\n",
       "<path d=\"M220,-136.253C220,-127.265 220,-117.529 220,-109.529\" fill=\"none\" stroke=\"black\" stroke-width=\"0.5\"/>\n",
       "<polygon fill=\"none\" points=\"216.5,-136.313 220,-146.313 223.5,-136.313 216.5,-136.313\" stroke=\"black\" stroke-width=\"0.5\"/>\n",
       "</g>\n",
       "<!-- tree -->\n",
       "<g class=\"node\" id=\"node22\"><title>tree</title>\n",
       "<path d=\"M280,-73.5C280,-73.5 310,-73.5 310,-73.5 316,-73.5 322,-79.5 322,-85.5 322,-85.5 322,-97.5 322,-97.5 322,-103.5 316,-109.5 310,-109.5 310,-109.5 280,-109.5 280,-109.5 274,-109.5 268,-103.5 268,-97.5 268,-97.5 268,-85.5 268,-85.5 268,-79.5 274,-73.5 280,-73.5\" fill=\"aliceblue\" stroke=\"black\" stroke-width=\"0.5\"/>\n",
       "<text font-family=\"Times New Roman,serif\" font-size=\"11.00\" text-anchor=\"middle\" x=\"295\" y=\"-88.7\">tree</text>\n",
       "</g>\n",
       "<!-- plant&#45;&#45;tree -->\n",
       "<g class=\"edge\" id=\"edge19\"><title>plant--tree</title>\n",
       "<path d=\"M245.717,-139.155C256.019,-129.402 267.642,-118.399 277.012,-109.529\" fill=\"none\" stroke=\"black\" stroke-width=\"0.5\"/>\n",
       "<polygon fill=\"none\" points=\"243.011,-136.896 238.155,-146.313 247.824,-141.98 243.011,-136.896\" stroke=\"black\" stroke-width=\"0.5\"/>\n",
       "</g>\n",
       "<!-- grass -->\n",
       "<g class=\"node\" id=\"node26\"><title>grass</title>\n",
       "<path d=\"M352,-73.5C352,-73.5 382,-73.5 382,-73.5 388,-73.5 394,-79.5 394,-85.5 394,-85.5 394,-97.5 394,-97.5 394,-103.5 388,-109.5 382,-109.5 382,-109.5 352,-109.5 352,-109.5 346,-109.5 340,-103.5 340,-97.5 340,-97.5 340,-85.5 340,-85.5 340,-79.5 346,-73.5 352,-73.5\" fill=\"aliceblue\" stroke=\"black\" stroke-width=\"0.5\"/>\n",
       "<text font-family=\"Times New Roman,serif\" font-size=\"11.00\" text-anchor=\"middle\" x=\"367\" y=\"-88.7\">grass</text>\n",
       "</g>\n",
       "<!-- plant&#45;&#45;grass -->\n",
       "<g class=\"edge\" id=\"edge23\"><title>plant--grass</title>\n",
       "<path d=\"M256.549,-145.922C278.203,-135.498 306.176,-122.016 331,-110 333.877,-108.607 336.883,-107.15 339.878,-105.696\" fill=\"none\" stroke=\"black\" stroke-width=\"0.5\"/>\n",
       "<polygon fill=\"none\" points=\"254.875,-142.843 247.382,-150.334 257.911,-149.151 254.875,-142.843\" stroke=\"black\" stroke-width=\"0.5\"/>\n",
       "</g>\n",
       "<!-- apple -->\n",
       "<g class=\"node\" id=\"node3\"><title>apple</title>\n",
       "<path d=\"M397,-0.5C397,-0.5 427,-0.5 427,-0.5 433,-0.5 439,-6.5 439,-12.5 439,-12.5 439,-24.5 439,-24.5 439,-30.5 433,-36.5 427,-36.5 427,-36.5 397,-36.5 397,-36.5 391,-36.5 385,-30.5 385,-24.5 385,-24.5 385,-12.5 385,-12.5 385,-6.5 391,-0.5 397,-0.5\" fill=\"aliceblue\" stroke=\"black\" stroke-width=\"0.5\"/>\n",
       "<text font-family=\"Times New Roman,serif\" font-size=\"11.00\" text-anchor=\"middle\" x=\"412\" y=\"-15.7\">apple</text>\n",
       "</g>\n",
       "<!-- fruiting&#45;body -->\n",
       "<g class=\"node\" id=\"node4\"><title>fruiting-body</title>\n",
       "<path d=\"M424,-73.5C424,-73.5 472,-73.5 472,-73.5 478,-73.5 484,-79.5 484,-85.5 484,-85.5 484,-97.5 484,-97.5 484,-103.5 478,-109.5 472,-109.5 472,-109.5 424,-109.5 424,-109.5 418,-109.5 412,-103.5 412,-97.5 412,-97.5 412,-85.5 412,-85.5 412,-79.5 418,-73.5 424,-73.5\" fill=\"aliceblue\" stroke=\"black\" stroke-width=\"0.5\"/>\n",
       "<text font-family=\"Times New Roman,serif\" font-size=\"11.00\" text-anchor=\"middle\" x=\"448\" y=\"-88.7\">fruiting-body</text>\n",
       "</g>\n",
       "<!-- fruiting&#45;body&#45;&#45;apple -->\n",
       "<g class=\"edge\" id=\"edge2\"><title>fruiting-body--apple</title>\n",
       "<path d=\"M434.629,-64.1302C429.95,-54.9019 424.823,-44.7904 420.634,-36.5288\" fill=\"none\" stroke=\"black\" stroke-width=\"0.5\"/>\n",
       "<polygon fill=\"none\" points=\"431.641,-65.9767 439.285,-73.3129 437.885,-62.811 431.641,-65.9767\" stroke=\"black\" stroke-width=\"0.5\"/>\n",
       "</g>\n",
       "<!-- berry -->\n",
       "<g class=\"node\" id=\"node12\"><title>berry</title>\n",
       "<path d=\"M469,-0.5C469,-0.5 499,-0.5 499,-0.5 505,-0.5 511,-6.5 511,-12.5 511,-12.5 511,-24.5 511,-24.5 511,-30.5 505,-36.5 499,-36.5 499,-36.5 469,-36.5 469,-36.5 463,-36.5 457,-30.5 457,-24.5 457,-24.5 457,-12.5 457,-12.5 457,-6.5 463,-0.5 469,-0.5\" fill=\"aliceblue\" stroke=\"black\" stroke-width=\"0.5\"/>\n",
       "<text font-family=\"Times New Roman,serif\" font-size=\"11.00\" text-anchor=\"middle\" x=\"484\" y=\"-15.7\">berry</text>\n",
       "</g>\n",
       "<!-- fruiting&#45;body&#45;&#45;berry -->\n",
       "<g class=\"edge\" id=\"edge9\"><title>fruiting-body--berry</title>\n",
       "<path d=\"M461.371,-64.1302C466.05,-54.9019 471.177,-44.7904 475.366,-36.5288\" fill=\"none\" stroke=\"black\" stroke-width=\"0.5\"/>\n",
       "<polygon fill=\"none\" points=\"458.115,-62.811 456.715,-73.3129 464.359,-65.9767 458.115,-62.811\" stroke=\"black\" stroke-width=\"0.5\"/>\n",
       "</g>\n",
       "<!-- rock&#45;dassie -->\n",
       "<g class=\"node\" id=\"node5\"><title>rock-dassie</title>\n",
       "<path d=\"M1018.5,-73.5C1018.5,-73.5 1061.5,-73.5 1061.5,-73.5 1067.5,-73.5 1073.5,-79.5 1073.5,-85.5 1073.5,-85.5 1073.5,-97.5 1073.5,-97.5 1073.5,-103.5 1067.5,-109.5 1061.5,-109.5 1061.5,-109.5 1018.5,-109.5 1018.5,-109.5 1012.5,-109.5 1006.5,-103.5 1006.5,-97.5 1006.5,-97.5 1006.5,-85.5 1006.5,-85.5 1006.5,-79.5 1012.5,-73.5 1018.5,-73.5\" fill=\"aliceblue\" stroke=\"black\" stroke-width=\"0.5\"/>\n",
       "<text font-family=\"Times New Roman,serif\" font-size=\"11.00\" text-anchor=\"middle\" x=\"1040\" y=\"-88.7\">rock-dassie</text>\n",
       "</g>\n",
       "<!-- animal -->\n",
       "<g class=\"node\" id=\"node6\"><title>animal</title>\n",
       "<path d=\"M1254,-146.5C1254,-146.5 1284,-146.5 1284,-146.5 1290,-146.5 1296,-152.5 1296,-158.5 1296,-158.5 1296,-170.5 1296,-170.5 1296,-176.5 1290,-182.5 1284,-182.5 1284,-182.5 1254,-182.5 1254,-182.5 1248,-182.5 1242,-176.5 1242,-170.5 1242,-170.5 1242,-158.5 1242,-158.5 1242,-152.5 1248,-146.5 1254,-146.5\" fill=\"aliceblue\" stroke=\"black\" stroke-width=\"0.5\"/>\n",
       "<text font-family=\"Times New Roman,serif\" font-size=\"11.00\" text-anchor=\"middle\" x=\"1269\" y=\"-161.7\">animal</text>\n",
       "</g>\n",
       "<!-- animal&#45;&#45;rock&#45;dassie -->\n",
       "<g class=\"edge\" id=\"edge3\"><title>animal--rock-dassie</title>\n",
       "<path d=\"M1231.88,-154.07C1194.07,-144.176 1133.94,-127.634 1083,-110 1079.95,-108.945 1076.81,-107.793 1073.67,-106.599\" fill=\"none\" stroke=\"black\" stroke-width=\"0.5\"/>\n",
       "<polygon fill=\"none\" points=\"1231.36,-157.552 1241.92,-156.679 1233.12,-150.777 1231.36,-157.552\" stroke=\"black\" stroke-width=\"0.5\"/>\n",
       "</g>\n",
       "<!-- warthog -->\n",
       "<g class=\"node\" id=\"node11\"><title>warthog</title>\n",
       "<path d=\"M1104,-73.5C1104,-73.5 1134,-73.5 1134,-73.5 1140,-73.5 1146,-79.5 1146,-85.5 1146,-85.5 1146,-97.5 1146,-97.5 1146,-103.5 1140,-109.5 1134,-109.5 1134,-109.5 1104,-109.5 1104,-109.5 1098,-109.5 1092,-103.5 1092,-97.5 1092,-97.5 1092,-85.5 1092,-85.5 1092,-79.5 1098,-73.5 1104,-73.5\" fill=\"aliceblue\" stroke=\"black\" stroke-width=\"0.5\"/>\n",
       "<text font-family=\"Times New Roman,serif\" font-size=\"11.00\" text-anchor=\"middle\" x=\"1119\" y=\"-88.7\">warthog</text>\n",
       "</g>\n",
       "<!-- animal&#45;&#45;warthog -->\n",
       "<g class=\"edge\" id=\"edge7\"><title>animal--warthog</title>\n",
       "<path d=\"M1232.62,-146.58C1210.2,-136.117 1180.89,-122.368 1155,-110 1152.12,-108.622 1149.11,-107.174 1146.11,-105.726\" fill=\"none\" stroke=\"black\" stroke-width=\"0.5\"/>\n",
       "<polygon fill=\"none\" points=\"1231.23,-149.794 1241.77,-150.849 1234.19,-143.45 1231.23,-149.794\" stroke=\"black\" stroke-width=\"0.5\"/>\n",
       "</g>\n",
       "<!-- herbivore -->\n",
       "<g class=\"node\" id=\"node13\"><title>herbivore</title>\n",
       "<path d=\"M1176,-73.5C1176,-73.5 1210,-73.5 1210,-73.5 1216,-73.5 1222,-79.5 1222,-85.5 1222,-85.5 1222,-97.5 1222,-97.5 1222,-103.5 1216,-109.5 1210,-109.5 1210,-109.5 1176,-109.5 1176,-109.5 1170,-109.5 1164,-103.5 1164,-97.5 1164,-97.5 1164,-85.5 1164,-85.5 1164,-79.5 1170,-73.5 1176,-73.5\" fill=\"aliceblue\" stroke=\"black\" stroke-width=\"0.5\"/>\n",
       "<text font-family=\"Times New Roman,serif\" font-size=\"11.00\" text-anchor=\"middle\" x=\"1193\" y=\"-88.7\">herbivore</text>\n",
       "</g>\n",
       "<!-- animal&#45;&#45;herbivore -->\n",
       "<g class=\"edge\" id=\"edge10\"><title>animal--herbivore</title>\n",
       "<path d=\"M1243.25,-139.441C1232.73,-129.618 1220.82,-118.486 1211.23,-109.529\" fill=\"none\" stroke=\"black\" stroke-width=\"0.5\"/>\n",
       "<polygon fill=\"none\" points=\"1240.91,-142.044 1250.6,-146.313 1245.68,-136.929 1240.91,-142.044\" stroke=\"black\" stroke-width=\"0.5\"/>\n",
       "</g>\n",
       "<!-- omnivore -->\n",
       "<g class=\"node\" id=\"node14\"><title>omnivore</title>\n",
       "<path d=\"M1252.5,-73.5C1252.5,-73.5 1285.5,-73.5 1285.5,-73.5 1291.5,-73.5 1297.5,-79.5 1297.5,-85.5 1297.5,-85.5 1297.5,-97.5 1297.5,-97.5 1297.5,-103.5 1291.5,-109.5 1285.5,-109.5 1285.5,-109.5 1252.5,-109.5 1252.5,-109.5 1246.5,-109.5 1240.5,-103.5 1240.5,-97.5 1240.5,-97.5 1240.5,-85.5 1240.5,-85.5 1240.5,-79.5 1246.5,-73.5 1252.5,-73.5\" fill=\"aliceblue\" stroke=\"black\" stroke-width=\"0.5\"/>\n",
       "<text font-family=\"Times New Roman,serif\" font-size=\"11.00\" text-anchor=\"middle\" x=\"1269\" y=\"-88.7\">omnivore</text>\n",
       "</g>\n",
       "<!-- animal&#45;&#45;omnivore -->\n",
       "<g class=\"edge\" id=\"edge11\"><title>animal--omnivore</title>\n",
       "<path d=\"M1269,-136.253C1269,-127.265 1269,-117.529 1269,-109.529\" fill=\"none\" stroke=\"black\" stroke-width=\"0.5\"/>\n",
       "<polygon fill=\"none\" points=\"1265.5,-136.313 1269,-146.313 1272.5,-136.313 1265.5,-136.313\" stroke=\"black\" stroke-width=\"0.5\"/>\n",
       "</g>\n",
       "<!-- carnivore -->\n",
       "<g class=\"node\" id=\"node17\"><title>carnivore</title>\n",
       "<path d=\"M1328,-73.5C1328,-73.5 1362,-73.5 1362,-73.5 1368,-73.5 1374,-79.5 1374,-85.5 1374,-85.5 1374,-97.5 1374,-97.5 1374,-103.5 1368,-109.5 1362,-109.5 1362,-109.5 1328,-109.5 1328,-109.5 1322,-109.5 1316,-103.5 1316,-97.5 1316,-97.5 1316,-85.5 1316,-85.5 1316,-79.5 1322,-73.5 1328,-73.5\" fill=\"aliceblue\" stroke=\"black\" stroke-width=\"0.5\"/>\n",
       "<text font-family=\"Times New Roman,serif\" font-size=\"11.00\" text-anchor=\"middle\" x=\"1345\" y=\"-88.7\">carnivore</text>\n",
       "</g>\n",
       "<!-- animal&#45;&#45;carnivore -->\n",
       "<g class=\"edge\" id=\"edge14\"><title>animal--carnivore</title>\n",
       "<path d=\"M1294.75,-139.441C1305.27,-129.618 1317.18,-118.486 1326.77,-109.529\" fill=\"none\" stroke=\"black\" stroke-width=\"0.5\"/>\n",
       "<polygon fill=\"none\" points=\"1292.32,-136.929 1287.4,-146.313 1297.09,-142.044 1292.32,-136.929\" stroke=\"black\" stroke-width=\"0.5\"/>\n",
       "</g>\n",
       "<!-- impala -->\n",
       "<g class=\"node\" id=\"node21\"><title>impala</title>\n",
       "<path d=\"M1404,-73.5C1404,-73.5 1434,-73.5 1434,-73.5 1440,-73.5 1446,-79.5 1446,-85.5 1446,-85.5 1446,-97.5 1446,-97.5 1446,-103.5 1440,-109.5 1434,-109.5 1434,-109.5 1404,-109.5 1404,-109.5 1398,-109.5 1392,-103.5 1392,-97.5 1392,-97.5 1392,-85.5 1392,-85.5 1392,-79.5 1398,-73.5 1404,-73.5\" fill=\"aliceblue\" stroke=\"black\" stroke-width=\"0.5\"/>\n",
       "<text font-family=\"Times New Roman,serif\" font-size=\"11.00\" text-anchor=\"middle\" x=\"1419\" y=\"-88.7\">impala</text>\n",
       "</g>\n",
       "<!-- animal&#45;&#45;impala -->\n",
       "<g class=\"edge\" id=\"edge18\"><title>animal--impala</title>\n",
       "<path d=\"M1305.38,-146.58C1327.8,-136.117 1357.11,-122.368 1383,-110 1385.88,-108.622 1388.89,-107.174 1391.89,-105.726\" fill=\"none\" stroke=\"black\" stroke-width=\"0.5\"/>\n",
       "<polygon fill=\"none\" points=\"1303.81,-143.45 1296.23,-150.849 1306.77,-149.794 1303.81,-143.45\" stroke=\"black\" stroke-width=\"0.5\"/>\n",
       "</g>\n",
       "<!-- giraffe -->\n",
       "<g class=\"node\" id=\"node28\"><title>giraffe</title>\n",
       "<path d=\"M1476,-73.5C1476,-73.5 1506,-73.5 1506,-73.5 1512,-73.5 1518,-79.5 1518,-85.5 1518,-85.5 1518,-97.5 1518,-97.5 1518,-103.5 1512,-109.5 1506,-109.5 1506,-109.5 1476,-109.5 1476,-109.5 1470,-109.5 1464,-103.5 1464,-97.5 1464,-97.5 1464,-85.5 1464,-85.5 1464,-79.5 1470,-73.5 1476,-73.5\" fill=\"aliceblue\" stroke=\"black\" stroke-width=\"0.5\"/>\n",
       "<text font-family=\"Times New Roman,serif\" font-size=\"11.00\" text-anchor=\"middle\" x=\"1491\" y=\"-88.7\">giraffe</text>\n",
       "</g>\n",
       "<!-- animal&#45;&#45;giraffe -->\n",
       "<g class=\"edge\" id=\"edge25\"><title>animal--giraffe</title>\n",
       "<path d=\"M1306.38,-154.768C1344.38,-145.423 1404.67,-129.304 1455,-110 1457.85,-108.905 1460.79,-107.669 1463.7,-106.374\" fill=\"none\" stroke=\"black\" stroke-width=\"0.5\"/>\n",
       "<polygon fill=\"none\" points=\"1305.17,-151.46 1296.28,-157.222 1306.82,-158.263 1305.17,-151.46\" stroke=\"black\" stroke-width=\"0.5\"/>\n",
       "</g>\n",
       "<!-- twig -->\n",
       "<g class=\"node\" id=\"node7\"><title>twig</title>\n",
       "<path d=\"M514,-73.5C514,-73.5 544,-73.5 544,-73.5 550,-73.5 556,-79.5 556,-85.5 556,-85.5 556,-97.5 556,-97.5 556,-103.5 550,-109.5 544,-109.5 544,-109.5 514,-109.5 514,-109.5 508,-109.5 502,-103.5 502,-97.5 502,-97.5 502,-85.5 502,-85.5 502,-79.5 508,-73.5 514,-73.5\" fill=\"aliceblue\" stroke=\"black\" stroke-width=\"0.5\"/>\n",
       "<text font-family=\"Times New Roman,serif\" font-size=\"11.00\" text-anchor=\"middle\" x=\"529\" y=\"-88.7\">twig</text>\n",
       "</g>\n",
       "<!-- plant&#45;part -->\n",
       "<g class=\"node\" id=\"node8\"><title>plant-part</title>\n",
       "<path d=\"M691.5,-146.5C691.5,-146.5 726.5,-146.5 726.5,-146.5 732.5,-146.5 738.5,-152.5 738.5,-158.5 738.5,-158.5 738.5,-170.5 738.5,-170.5 738.5,-176.5 732.5,-182.5 726.5,-182.5 726.5,-182.5 691.5,-182.5 691.5,-182.5 685.5,-182.5 679.5,-176.5 679.5,-170.5 679.5,-170.5 679.5,-158.5 679.5,-158.5 679.5,-152.5 685.5,-146.5 691.5,-146.5\" fill=\"aliceblue\" stroke=\"black\" stroke-width=\"0.5\"/>\n",
       "<text font-family=\"Times New Roman,serif\" font-size=\"11.00\" text-anchor=\"middle\" x=\"709\" y=\"-161.7\">plant-part</text>\n",
       "</g>\n",
       "<!-- plant&#45;part&#45;&#45;fruiting&#45;body -->\n",
       "<g class=\"edge\" id=\"edge8\"><title>plant-part--fruiting-body</title>\n",
       "<path d=\"M669.392,-155.288C625.748,-145.871 553.69,-129.23 493,-110 490.123,-109.088 487.166,-108.087 484.207,-107.04\" fill=\"none\" stroke=\"black\" stroke-width=\"0.5\"/>\n",
       "<polygon fill=\"none\" points=\"668.809,-158.743 679.32,-157.411 670.273,-151.897 668.809,-158.743\" stroke=\"black\" stroke-width=\"0.5\"/>\n",
       "</g>\n",
       "<!-- plant&#45;part&#45;&#45;twig -->\n",
       "<g class=\"edge\" id=\"edge4\"><title>plant-part--twig</title>\n",
       "<path d=\"M669.622,-150.03C640.449,-139.771 599.877,-124.915 565,-110 562.189,-108.798 559.28,-107.492 556.391,-106.153\" fill=\"none\" stroke=\"black\" stroke-width=\"0.5\"/>\n",
       "<polygon fill=\"none\" points=\"668.843,-153.465 679.438,-153.459 671.152,-146.856 668.843,-153.465\" stroke=\"black\" stroke-width=\"0.5\"/>\n",
       "</g>\n",
       "<!-- stem -->\n",
       "<g class=\"node\" id=\"node9\"><title>stem</title>\n",
       "<path d=\"M586,-73.5C586,-73.5 616,-73.5 616,-73.5 622,-73.5 628,-79.5 628,-85.5 628,-85.5 628,-97.5 628,-97.5 628,-103.5 622,-109.5 616,-109.5 616,-109.5 586,-109.5 586,-109.5 580,-109.5 574,-103.5 574,-97.5 574,-97.5 574,-85.5 574,-85.5 574,-79.5 580,-73.5 586,-73.5\" fill=\"aliceblue\" stroke=\"black\" stroke-width=\"0.5\"/>\n",
       "<text font-family=\"Times New Roman,serif\" font-size=\"11.00\" text-anchor=\"middle\" x=\"601\" y=\"-88.7\">stem</text>\n",
       "</g>\n",
       "<!-- plant&#45;part&#45;&#45;stem -->\n",
       "<g class=\"edge\" id=\"edge5\"><title>plant-part--stem</title>\n",
       "<path d=\"M674.407,-140.758C659.037,-130.654 641.248,-118.96 627.032,-109.614\" fill=\"none\" stroke=\"black\" stroke-width=\"0.5\"/>\n",
       "<polygon fill=\"none\" points=\"672.853,-143.925 683.131,-146.494 676.698,-138.076 672.853,-143.925\" stroke=\"black\" stroke-width=\"0.5\"/>\n",
       "</g>\n",
       "<!-- leaf -->\n",
       "<g class=\"node\" id=\"node10\"><title>leaf</title>\n",
       "<path d=\"M658,-73.5C658,-73.5 688,-73.5 688,-73.5 694,-73.5 700,-79.5 700,-85.5 700,-85.5 700,-97.5 700,-97.5 700,-103.5 694,-109.5 688,-109.5 688,-109.5 658,-109.5 658,-109.5 652,-109.5 646,-103.5 646,-97.5 646,-97.5 646,-85.5 646,-85.5 646,-79.5 652,-73.5 658,-73.5\" fill=\"aliceblue\" stroke=\"black\" stroke-width=\"0.5\"/>\n",
       "<text font-family=\"Times New Roman,serif\" font-size=\"11.00\" text-anchor=\"middle\" x=\"673\" y=\"-88.7\">leaf</text>\n",
       "</g>\n",
       "<!-- plant&#45;part&#45;&#45;leaf -->\n",
       "<g class=\"edge\" id=\"edge6\"><title>plant-part--leaf</title>\n",
       "<path d=\"M695.629,-137.13C690.95,-127.902 685.823,-117.79 681.634,-109.529\" fill=\"none\" stroke=\"black\" stroke-width=\"0.5\"/>\n",
       "<polygon fill=\"none\" points=\"692.641,-138.977 700.285,-146.313 698.885,-135.811 692.641,-138.977\" stroke=\"black\" stroke-width=\"0.5\"/>\n",
       "</g>\n",
       "<!-- phloem -->\n",
       "<g class=\"node\" id=\"node16\"><title>phloem</title>\n",
       "<path d=\"M730,-73.5C730,-73.5 760,-73.5 760,-73.5 766,-73.5 772,-79.5 772,-85.5 772,-85.5 772,-97.5 772,-97.5 772,-103.5 766,-109.5 760,-109.5 760,-109.5 730,-109.5 730,-109.5 724,-109.5 718,-103.5 718,-97.5 718,-97.5 718,-85.5 718,-85.5 718,-79.5 724,-73.5 730,-73.5\" fill=\"aliceblue\" stroke=\"black\" stroke-width=\"0.5\"/>\n",
       "<text font-family=\"Times New Roman,serif\" font-size=\"11.00\" text-anchor=\"middle\" x=\"745\" y=\"-88.7\">phloem</text>\n",
       "</g>\n",
       "<!-- plant&#45;part&#45;&#45;phloem -->\n",
       "<g class=\"edge\" id=\"edge13\"><title>plant-part--phloem</title>\n",
       "<path d=\"M722.371,-137.13C727.05,-127.902 732.177,-117.79 736.366,-109.529\" fill=\"none\" stroke=\"black\" stroke-width=\"0.5\"/>\n",
       "<polygon fill=\"none\" points=\"719.115,-135.811 717.715,-146.313 725.359,-138.977 719.115,-135.811\" stroke=\"black\" stroke-width=\"0.5\"/>\n",
       "</g>\n",
       "<!-- branch -->\n",
       "<g class=\"node\" id=\"node18\"><title>branch</title>\n",
       "<path d=\"M802,-73.5C802,-73.5 832,-73.5 832,-73.5 838,-73.5 844,-79.5 844,-85.5 844,-85.5 844,-97.5 844,-97.5 844,-103.5 838,-109.5 832,-109.5 832,-109.5 802,-109.5 802,-109.5 796,-109.5 790,-103.5 790,-97.5 790,-97.5 790,-85.5 790,-85.5 790,-79.5 796,-73.5 802,-73.5\" fill=\"aliceblue\" stroke=\"black\" stroke-width=\"0.5\"/>\n",
       "<text font-family=\"Times New Roman,serif\" font-size=\"11.00\" text-anchor=\"middle\" x=\"817\" y=\"-88.7\">branch</text>\n",
       "</g>\n",
       "<!-- plant&#45;part&#45;&#45;branch -->\n",
       "<g class=\"edge\" id=\"edge15\"><title>plant-part--branch</title>\n",
       "<path d=\"M743.593,-140.758C758.963,-130.654 776.752,-118.96 790.968,-109.614\" fill=\"none\" stroke=\"black\" stroke-width=\"0.5\"/>\n",
       "<polygon fill=\"none\" points=\"741.302,-138.076 734.869,-146.494 745.147,-143.925 741.302,-138.076\" stroke=\"black\" stroke-width=\"0.5\"/>\n",
       "</g>\n",
       "<!-- root -->\n",
       "<g class=\"node\" id=\"node24\"><title>root</title>\n",
       "<path d=\"M874,-73.5C874,-73.5 904,-73.5 904,-73.5 910,-73.5 916,-79.5 916,-85.5 916,-85.5 916,-97.5 916,-97.5 916,-103.5 910,-109.5 904,-109.5 904,-109.5 874,-109.5 874,-109.5 868,-109.5 862,-103.5 862,-97.5 862,-97.5 862,-85.5 862,-85.5 862,-79.5 868,-73.5 874,-73.5\" fill=\"aliceblue\" stroke=\"black\" stroke-width=\"0.5\"/>\n",
       "<text font-family=\"Times New Roman,serif\" font-size=\"11.00\" text-anchor=\"middle\" x=\"889\" y=\"-88.7\">root</text>\n",
       "</g>\n",
       "<!-- plant&#45;part&#45;&#45;root -->\n",
       "<g class=\"edge\" id=\"edge21\"><title>plant-part--root</title>\n",
       "<path d=\"M748.378,-150.03C777.551,-139.771 818.123,-124.915 853,-110 855.811,-108.798 858.72,-107.492 861.609,-106.153\" fill=\"none\" stroke=\"black\" stroke-width=\"0.5\"/>\n",
       "<polygon fill=\"none\" points=\"746.848,-146.856 738.562,-153.459 749.157,-153.465 746.848,-146.856\" stroke=\"black\" stroke-width=\"0.5\"/>\n",
       "</g>\n",
       "<!-- xylem -->\n",
       "<g class=\"node\" id=\"node27\"><title>xylem</title>\n",
       "<path d=\"M946,-73.5C946,-73.5 976,-73.5 976,-73.5 982,-73.5 988,-79.5 988,-85.5 988,-85.5 988,-97.5 988,-97.5 988,-103.5 982,-109.5 976,-109.5 976,-109.5 946,-109.5 946,-109.5 940,-109.5 934,-103.5 934,-97.5 934,-97.5 934,-85.5 934,-85.5 934,-79.5 940,-73.5 946,-73.5\" fill=\"aliceblue\" stroke=\"black\" stroke-width=\"0.5\"/>\n",
       "<text font-family=\"Times New Roman,serif\" font-size=\"11.00\" text-anchor=\"middle\" x=\"961\" y=\"-88.7\">xylem</text>\n",
       "</g>\n",
       "<!-- plant&#45;part&#45;&#45;xylem -->\n",
       "<g class=\"edge\" id=\"edge24\"><title>plant-part--xylem</title>\n",
       "<path d=\"M748.557,-156.297C792.44,-147.713 864.977,-131.75 925,-110 927.875,-108.958 930.825,-107.758 933.739,-106.484\" fill=\"none\" stroke=\"black\" stroke-width=\"0.5\"/>\n",
       "<polygon fill=\"none\" points=\"747.734,-152.891 738.576,-158.219 749.057,-159.765 747.734,-152.891\" stroke=\"black\" stroke-width=\"0.5\"/>\n",
       "</g>\n",
       "<!-- elephant -->\n",
       "<g class=\"node\" id=\"node25\"><title>elephant</title>\n",
       "<path d=\"M1178,-0.5C1178,-0.5 1208,-0.5 1208,-0.5 1214,-0.5 1220,-6.5 1220,-12.5 1220,-12.5 1220,-24.5 1220,-24.5 1220,-30.5 1214,-36.5 1208,-36.5 1208,-36.5 1178,-36.5 1178,-36.5 1172,-36.5 1166,-30.5 1166,-24.5 1166,-24.5 1166,-12.5 1166,-12.5 1166,-6.5 1172,-0.5 1178,-0.5\" fill=\"aliceblue\" stroke=\"black\" stroke-width=\"0.5\"/>\n",
       "<text font-family=\"Times New Roman,serif\" font-size=\"11.00\" text-anchor=\"middle\" x=\"1193\" y=\"-15.7\">elephant</text>\n",
       "</g>\n",
       "<!-- herbivore&#45;&#45;elephant -->\n",
       "<g class=\"edge\" id=\"edge22\"><title>herbivore--elephant</title>\n",
       "<path d=\"M1193,-63.2534C1193,-54.2651 1193,-44.5295 1193,-36.5288\" fill=\"none\" stroke=\"black\" stroke-width=\"0.5\"/>\n",
       "<polygon fill=\"none\" points=\"1189.5,-63.3128 1193,-73.3129 1196.5,-63.3129 1189.5,-63.3128\" stroke=\"black\" stroke-width=\"0.5\"/>\n",
       "</g>\n",
       "<!-- lion -->\n",
       "<g class=\"node\" id=\"node19\"><title>lion</title>\n",
       "<path d=\"M1330,-0.5C1330,-0.5 1360,-0.5 1360,-0.5 1366,-0.5 1372,-6.5 1372,-12.5 1372,-12.5 1372,-24.5 1372,-24.5 1372,-30.5 1366,-36.5 1360,-36.5 1360,-36.5 1330,-36.5 1330,-36.5 1324,-36.5 1318,-30.5 1318,-24.5 1318,-24.5 1318,-12.5 1318,-12.5 1318,-6.5 1324,-0.5 1330,-0.5\" fill=\"aliceblue\" stroke=\"black\" stroke-width=\"0.5\"/>\n",
       "<text font-family=\"Times New Roman,serif\" font-size=\"11.00\" text-anchor=\"middle\" x=\"1345\" y=\"-15.7\">lion</text>\n",
       "</g>\n",
       "<!-- carnivore&#45;&#45;lion -->\n",
       "<g class=\"edge\" id=\"edge16\"><title>carnivore--lion</title>\n",
       "<path d=\"M1345,-63.2534C1345,-54.2651 1345,-44.5295 1345,-36.5288\" fill=\"none\" stroke=\"black\" stroke-width=\"0.5\"/>\n",
       "<polygon fill=\"none\" points=\"1341.5,-63.3128 1345,-73.3129 1348.5,-63.3129 1341.5,-63.3128\" stroke=\"black\" stroke-width=\"0.5\"/>\n",
       "</g>\n",
       "<!-- parsnip -->\n",
       "<g class=\"node\" id=\"node23\"><title>parsnip</title>\n",
       "<path d=\"M874,-0.5C874,-0.5 904,-0.5 904,-0.5 910,-0.5 916,-6.5 916,-12.5 916,-12.5 916,-24.5 916,-24.5 916,-30.5 910,-36.5 904,-36.5 904,-36.5 874,-36.5 874,-36.5 868,-36.5 862,-30.5 862,-24.5 862,-24.5 862,-12.5 862,-12.5 862,-6.5 868,-0.5 874,-0.5\" fill=\"aliceblue\" stroke=\"black\" stroke-width=\"0.5\"/>\n",
       "<text font-family=\"Times New Roman,serif\" font-size=\"11.00\" text-anchor=\"middle\" x=\"889\" y=\"-15.7\">parsnip</text>\n",
       "</g>\n",
       "<!-- root&#45;&#45;parsnip -->\n",
       "<g class=\"edge\" id=\"edge20\"><title>root--parsnip</title>\n",
       "<path d=\"M889,-63.2534C889,-54.2651 889,-44.5295 889,-36.5288\" fill=\"none\" stroke=\"black\" stroke-width=\"0.5\"/>\n",
       "<polygon fill=\"none\" points=\"885.5,-63.3128 889,-73.3129 892.5,-63.3129 885.5,-63.3128\" stroke=\"black\" stroke-width=\"0.5\"/>\n",
       "</g>\n",
       "</g>\n",
       "</svg>"
      ],
      "text/plain": [
       "<IPython.core.display.SVG object>"
      ]
     },
     "execution_count": 3,
     "metadata": {},
     "output_type": "execute_result"
    }
   ],
   "source": [
    "onto=Ontology(\"cnl/file\",\"part_01.encnl\", \n",
    "                    evaluator = lambda e:eval(e,globals(),locals()), \n",
    "                    graph_attribute_formatter = graph_attribute_formatter)\n",
    "\n",
    "onto.draw_graph(layout='hierarchical')"
   ]
  },
  {
   "cell_type": "markdown",
   "metadata": {},
   "source": [
    "It is fully compatible with OWL/RDF format (via OWLAPI). We can always export it as it is."
   ]
  },
  {
   "cell_type": "markdown",
   "metadata": {},
   "source": [
    "### Part-2: Disjointness\n",
    "In OWL/RL+SWRL profile we deal with Open World Assumption. It means that we need to explicitly specify all the objects that are different from each other. We cannot assume (like e.g. object oriented programming language do) that the different names mean the different things, therefore we need to specify explicitly if two things are different."
   ]
  },
  {
   "cell_type": "code",
   "execution_count": 4,
   "metadata": {
    "scrolled": false
   },
   "outputs": [
    {
     "name": "stdout",
     "output_type": "stream",
     "text": [
      "Overwriting part_02.encnl\n"
     ]
    }
   ],
   "source": [
    "%%writefile part_02.encnl\n",
    "\n",
    "Every-single-thing that is a plant and-or is a plant-part is a herb.\n",
    "No herb is an animal.\n",
    "\n",
    "Every carnivore eats nothing-but animals.\n",
    "Every lion eats nothing-but herbivores.\n",
    "\n",
    "Every herbivore eats nothing-but herb.\n",
    "\n",
    "Anything either is a carnivore, is a herbivore or is an omnivore or-something-else.\n",
    "Anything either is a branch, is a leaf or is a twig or-something-else.\n",
    "\n",
    "No giraffe is a lion.\n",
    "Every palm-tree is not a tree."
   ]
  },
  {
   "cell_type": "markdown",
   "metadata": {},
   "source": [
    "Lets test how it works on the example. The example will be defining several instances, that aim to break the consistency of the ontology in som not obvious way."
   ]
  },
  {
   "cell_type": "code",
   "execution_count": 5,
   "metadata": {},
   "outputs": [
    {
     "name": "stdout",
     "output_type": "stream",
     "text": [
      "Overwriting test_01.encnl\n"
     ]
    }
   ],
   "source": [
    "%%writefile test_01.encnl\n",
    "\n",
    "Leo-01 is a lion.\n",
    "Leo-01 eats Sophie-01.\n",
    "Sophie-01 is a giraffe.\n",
    "Leo-01 eats Mary-01.\n",
    "Mary-01 is a palm-tree."
   ]
  },
  {
   "cell_type": "markdown",
   "metadata": {},
   "source": [
    "Lets load all the parts ontology ontology togheter with the testing part into the newly created obeject. "
   ]
  },
  {
   "cell_type": "code",
   "execution_count": 6,
   "metadata": {},
   "outputs": [],
   "source": [
    "onto=Ontology(\"cnl/string\",'\\n'.join(open(fn,\"rt\").read() for fn in [\"part_01.encnl\",\"part_02.encnl\",\"test_01.encnl\"]), \n",
    "                    evaluator = lambda e:eval(e,globals(),locals()), \n",
    "                    graph_attribute_formatter = graph_attribute_formatter)"
   ]
  },
  {
   "cell_type": "markdown",
   "metadata": {},
   "source": [
    "We will need also some way to describe what is wrong `printReasoningInfo` and why `printWhy`."
   ]
  },
  {
   "cell_type": "code",
   "execution_count": 7,
   "metadata": {},
   "outputs": [],
   "source": [
    "import json\n",
    "\n",
    "def printReasoningInfo(onto):\n",
    "    info=onto.reasoningInfo()\n",
    "    if info == \"\":\n",
    "        print('all good!')\n",
    "    else:\n",
    "        print(json.dumps(json.loads(info), indent=2, sort_keys=True))\n",
    "\n",
    "def printWhy(onto,fact):\n",
    "    info=json.loads(onto.why(fact))\n",
    "    print(json.dumps(info, indent=2, sort_keys=True))"
   ]
  },
  {
   "cell_type": "markdown",
   "metadata": {},
   "source": [
    "So what is wrong here?"
   ]
  },
  {
   "cell_type": "code",
   "execution_count": 8,
   "metadata": {},
   "outputs": [
    {
     "name": "stdout",
     "output_type": "stream",
     "text": [
      "{\n",
      "  \"errors\": [\n",
      "    {\n",
      "      \"content\": \"Complement classes\",\n",
      "      \"title\": \"inconsistency\",\n",
      "      \"vals\": {\n",
      "        \"concept\": \"animal\",\n",
      "        \"instance\": \"Mary-01\"\n",
      "      }\n",
      "    }\n",
      "  ]\n",
      "}\n"
     ]
    }
   ],
   "source": [
    "printReasoningInfo(onto)"
   ]
  },
  {
   "cell_type": "markdown",
   "metadata": {},
   "source": [
    "Lets draw it on a diagram, this time using force directed layout."
   ]
  },
  {
   "cell_type": "code",
   "execution_count": 9,
   "metadata": {},
   "outputs": [
    {
     "data": {
      "image/svg+xml": [
       "<svg height=\"743pt\" viewBox=\"0.00 0.00 1062.00 743.00\" width=\"1062pt\" xmlns=\"http://www.w3.org/2000/svg\" xmlns:xlink=\"http://www.w3.org/1999/xlink\">\n",
       "<g class=\"graph\" id=\"graph0\" transform=\"scale(1 1) rotate(0) translate(4 739)\">\n",
       "<title>G</title>\n",
       "<polygon fill=\"white\" points=\"-4,4 -4,-739 1058,-739 1058,4 -4,4\" stroke=\"none\"/>\n",
       "<!-- tasty&#45;plant -->\n",
       "<g class=\"node\" id=\"node1\"><title>tasty-plant</title>\n",
       "<path d=\"M126.548,-520.945C126.548,-520.945 164.548,-520.945 164.548,-520.945 170.548,-520.945 176.548,-526.945 176.548,-532.945 176.548,-532.945 176.548,-544.945 176.548,-544.945 176.548,-550.945 170.548,-556.945 164.548,-556.945 164.548,-556.945 126.548,-556.945 126.548,-556.945 120.548,-556.945 114.548,-550.945 114.548,-544.945 114.548,-544.945 114.548,-532.945 114.548,-532.945 114.548,-526.945 120.548,-520.945 126.548,-520.945\" fill=\"aliceblue\" stroke=\"black\" stroke-width=\"0.5\"/>\n",
       "<text font-family=\"Times New Roman,serif\" font-size=\"11.00\" text-anchor=\"middle\" x=\"145.548\" y=\"-536.145\">tasty-plant</text>\n",
       "</g>\n",
       "<!-- plant -->\n",
       "<g class=\"node\" id=\"node2\"><title>plant</title>\n",
       "<path d=\"M304.303,-520.154C304.303,-520.154 334.303,-520.154 334.303,-520.154 340.303,-520.154 346.303,-526.154 346.303,-532.154 346.303,-532.154 346.303,-544.154 346.303,-544.154 346.303,-550.154 340.303,-556.154 334.303,-556.154 334.303,-556.154 304.303,-556.154 304.303,-556.154 298.303,-556.154 292.303,-550.154 292.303,-544.154 292.303,-544.154 292.303,-532.154 292.303,-532.154 292.303,-526.154 298.303,-520.154 304.303,-520.154\" fill=\"aliceblue\" stroke=\"black\" stroke-width=\"0.5\"/>\n",
       "<text font-family=\"Times New Roman,serif\" font-size=\"11.00\" text-anchor=\"middle\" x=\"319.303\" y=\"-535.354\">plant</text>\n",
       "</g>\n",
       "<!-- plant&#45;&#45;tasty&#45;plant -->\n",
       "<g class=\"edge\" id=\"edge1\"><title>plant--tasty-plant</title>\n",
       "<path d=\"M282.035,-538.324C250.606,-538.467 206.147,-538.669 176.612,-538.803\" fill=\"none\" stroke=\"black\" stroke-width=\"0.5\"/>\n",
       "<polygon fill=\"none\" points=\"282.17,-541.823 292.154,-538.277 282.138,-534.823 282.17,-541.823\" stroke=\"black\" stroke-width=\"0.5\"/>\n",
       "</g>\n",
       "<!-- carnivorous&#45;plant -->\n",
       "<g class=\"node\" id=\"node15\"><title>carnivorous-plant</title>\n",
       "<path d=\"M151.982,-680.443C151.982,-680.443 219.982,-680.443 219.982,-680.443 225.982,-680.443 231.982,-686.443 231.982,-692.443 231.982,-692.443 231.982,-704.443 231.982,-704.443 231.982,-710.443 225.982,-716.443 219.982,-716.443 219.982,-716.443 151.982,-716.443 151.982,-716.443 145.982,-716.443 139.982,-710.443 139.982,-704.443 139.982,-704.443 139.982,-692.443 139.982,-692.443 139.982,-686.443 145.982,-680.443 151.982,-680.443\" fill=\"aliceblue\" stroke=\"black\" stroke-width=\"0.5\"/>\n",
       "<text font-family=\"Times New Roman,serif\" font-size=\"11.00\" text-anchor=\"middle\" x=\"185.982\" y=\"-695.643\">carnivorous-plant</text>\n",
       "</g>\n",
       "<!-- plant&#45;&#45;carnivorous&#45;plant -->\n",
       "<g class=\"edge\" id=\"edge12\"><title>plant--carnivorous-plant</title>\n",
       "<path d=\"M297.813,-563.991C270.731,-596.552 224.865,-651.695 201.167,-680.188\" fill=\"none\" stroke=\"black\" stroke-width=\"0.5\"/>\n",
       "<polygon fill=\"none\" points=\"300.565,-566.156 304.269,-556.229 295.183,-561.68 300.565,-566.156\" stroke=\"black\" stroke-width=\"0.5\"/>\n",
       "</g>\n",
       "<!-- palm&#45;tree -->\n",
       "<g class=\"node\" id=\"node20\"><title>palm-tree</title>\n",
       "<path d=\"M433.598,-378.141C433.598,-378.141 468.598,-378.141 468.598,-378.141 474.598,-378.141 480.598,-384.141 480.598,-390.141 480.598,-390.141 480.598,-402.141 480.598,-402.141 480.598,-408.141 474.598,-414.141 468.598,-414.141 468.598,-414.141 433.598,-414.141 433.598,-414.141 427.598,-414.141 421.598,-408.141 421.598,-402.141 421.598,-402.141 421.598,-390.141 421.598,-390.141 421.598,-384.141 427.598,-378.141 433.598,-378.141\" fill=\"aliceblue\" stroke=\"black\" stroke-width=\"0.5\"/>\n",
       "<text font-family=\"Times New Roman,serif\" font-size=\"11.00\" text-anchor=\"middle\" x=\"451.098\" y=\"-393.341\">palm-tree</text>\n",
       "</g>\n",
       "<!-- plant&#45;&#45;palm&#45;tree -->\n",
       "<g class=\"edge\" id=\"edge17\"><title>plant--palm-tree</title>\n",
       "<path d=\"M342.924,-512.45C356.188,-498.037 373.057,-479.744 388.136,-463.501 403.601,-446.842 421.282,-427.939 433.961,-414.407\" fill=\"none\" stroke=\"black\" stroke-width=\"0.5\"/>\n",
       "<polygon fill=\"none\" points=\"340.154,-510.291 335.96,-520.02 345.306,-515.03 340.154,-510.291\" stroke=\"black\" stroke-width=\"0.5\"/>\n",
       "</g>\n",
       "<!-- tree -->\n",
       "<g class=\"node\" id=\"node22\"><title>tree</title>\n",
       "<path d=\"M435.973,-674.736C435.973,-674.736 465.973,-674.736 465.973,-674.736 471.973,-674.736 477.973,-680.736 477.973,-686.736 477.973,-686.736 477.973,-698.736 477.973,-698.736 477.973,-704.736 471.973,-710.736 465.973,-710.736 465.973,-710.736 435.973,-710.736 435.973,-710.736 429.973,-710.736 423.973,-704.736 423.973,-698.736 423.973,-698.736 423.973,-686.736 423.973,-686.736 423.973,-680.736 429.973,-674.736 435.973,-674.736\" fill=\"aliceblue\" stroke=\"black\" stroke-width=\"0.5\"/>\n",
       "<text font-family=\"Times New Roman,serif\" font-size=\"11.00\" text-anchor=\"middle\" x=\"450.973\" y=\"-689.936\">tree</text>\n",
       "</g>\n",
       "<!-- plant&#45;&#45;tree -->\n",
       "<g class=\"edge\" id=\"edge19\"><title>plant--tree</title>\n",
       "<path d=\"M341.348,-564.034C367.933,-595.246 411.951,-646.923 435.301,-674.337\" fill=\"none\" stroke=\"black\" stroke-width=\"0.5\"/>\n",
       "<polygon fill=\"none\" points=\"343.814,-561.532 334.665,-556.189 338.485,-566.071 343.814,-561.532\" stroke=\"black\" stroke-width=\"0.5\"/>\n",
       "</g>\n",
       "<!-- grass -->\n",
       "<g class=\"node\" id=\"node26\"><title>grass</title>\n",
       "<path d=\"M298.881,-698.859C298.881,-698.859 328.881,-698.859 328.881,-698.859 334.881,-698.859 340.881,-704.859 340.881,-710.859 340.881,-710.859 340.881,-722.859 340.881,-722.859 340.881,-728.859 334.881,-734.859 328.881,-734.859 328.881,-734.859 298.881,-734.859 298.881,-734.859 292.881,-734.859 286.881,-728.859 286.881,-722.859 286.881,-722.859 286.881,-710.859 286.881,-710.859 286.881,-704.859 292.881,-698.859 298.881,-698.859\" fill=\"aliceblue\" stroke=\"black\" stroke-width=\"0.5\"/>\n",
       "<text font-family=\"Times New Roman,serif\" font-size=\"11.00\" text-anchor=\"middle\" x=\"313.881\" y=\"-714.059\">grass</text>\n",
       "</g>\n",
       "<!-- plant&#45;&#45;grass -->\n",
       "<g class=\"edge\" id=\"edge23\"><title>plant--grass</title>\n",
       "<path d=\"M318.446,-566.407C317.321,-603.48 315.38,-667.485 314.433,-698.693\" fill=\"none\" stroke=\"black\" stroke-width=\"0.5\"/>\n",
       "<polygon fill=\"none\" points=\"321.949,-566.374 318.754,-556.273 314.952,-566.162 321.949,-566.374\" stroke=\"black\" stroke-width=\"0.5\"/>\n",
       "</g>\n",
       "<!-- apple -->\n",
       "<g class=\"node\" id=\"node3\"><title>apple</title>\n",
       "<path d=\"M496.477,-568.393C496.477,-568.393 526.477,-568.393 526.477,-568.393 532.477,-568.393 538.477,-574.393 538.477,-580.393 538.477,-580.393 538.477,-592.393 538.477,-592.393 538.477,-598.393 532.477,-604.393 526.477,-604.393 526.477,-604.393 496.477,-604.393 496.477,-604.393 490.477,-604.393 484.477,-598.393 484.477,-592.393 484.477,-592.393 484.477,-580.393 484.477,-580.393 484.477,-574.393 490.477,-568.393 496.477,-568.393\" fill=\"aliceblue\" stroke=\"black\" stroke-width=\"0.5\"/>\n",
       "<text font-family=\"Times New Roman,serif\" font-size=\"11.00\" text-anchor=\"middle\" x=\"511.477\" y=\"-583.593\">apple</text>\n",
       "</g>\n",
       "<!-- fruiting&#45;body -->\n",
       "<g class=\"node\" id=\"node4\"><title>fruiting-body</title>\n",
       "<path d=\"M403.336,-466.701C403.336,-466.701 451.336,-466.701 451.336,-466.701 457.336,-466.701 463.336,-472.701 463.336,-478.701 463.336,-478.701 463.336,-490.701 463.336,-490.701 463.336,-496.701 457.336,-502.701 451.336,-502.701 451.336,-502.701 403.336,-502.701 403.336,-502.701 397.336,-502.701 391.336,-496.701 391.336,-490.701 391.336,-490.701 391.336,-478.701 391.336,-478.701 391.336,-472.701 397.336,-466.701 403.336,-466.701\" fill=\"aliceblue\" stroke=\"black\" stroke-width=\"0.5\"/>\n",
       "<text font-family=\"Times New Roman,serif\" font-size=\"11.00\" text-anchor=\"middle\" x=\"427.336\" y=\"-481.901\">fruiting-body</text>\n",
       "</g>\n",
       "<!-- fruiting&#45;body&#45;&#45;apple -->\n",
       "<g class=\"edge\" id=\"edge2\"><title>fruiting-body--apple</title>\n",
       "<path d=\"M448.88,-510.739C463.816,-528.791 483.324,-552.368 496.564,-568.37\" fill=\"none\" stroke=\"black\" stroke-width=\"0.5\"/>\n",
       "<polygon fill=\"none\" points=\"451.45,-508.355 442.379,-502.881 446.057,-512.817 451.45,-508.355\" stroke=\"black\" stroke-width=\"0.5\"/>\n",
       "</g>\n",
       "<!-- berry -->\n",
       "<g class=\"node\" id=\"node12\"><title>berry</title>\n",
       "<path d=\"M512.737,-469.668C512.737,-469.668 542.737,-469.668 542.737,-469.668 548.737,-469.668 554.737,-475.668 554.737,-481.668 554.737,-481.668 554.737,-493.668 554.737,-493.668 554.737,-499.668 548.737,-505.668 542.737,-505.668 542.737,-505.668 512.737,-505.668 512.737,-505.668 506.737,-505.668 500.737,-499.668 500.737,-493.668 500.737,-493.668 500.737,-481.668 500.737,-481.668 500.737,-475.668 506.737,-469.668 512.737,-469.668\" fill=\"aliceblue\" stroke=\"black\" stroke-width=\"0.5\"/>\n",
       "<text font-family=\"Times New Roman,serif\" font-size=\"11.00\" text-anchor=\"middle\" x=\"527.737\" y=\"-484.868\">berry</text>\n",
       "</g>\n",
       "<!-- fruiting&#45;body&#45;&#45;berry -->\n",
       "<g class=\"edge\" id=\"edge9\"><title>fruiting-body--berry</title>\n",
       "<path d=\"M473.831,-486.075C483.029,-486.347 492.395,-486.623 500.682,-486.868\" fill=\"none\" stroke=\"black\" stroke-width=\"0.5\"/>\n",
       "<polygon fill=\"none\" points=\"473.682,-482.569 463.583,-485.772 473.475,-489.566 473.682,-482.569\" stroke=\"black\" stroke-width=\"0.5\"/>\n",
       "</g>\n",
       "<!-- rock&#45;dassie -->\n",
       "<g class=\"node\" id=\"node5\"><title>rock-dassie</title>\n",
       "<path d=\"M998.508,-410.27C998.508,-410.27 1041.51,-410.27 1041.51,-410.27 1047.51,-410.27 1053.51,-416.27 1053.51,-422.27 1053.51,-422.27 1053.51,-434.27 1053.51,-434.27 1053.51,-440.27 1047.51,-446.27 1041.51,-446.27 1041.51,-446.27 998.508,-446.27 998.508,-446.27 992.508,-446.27 986.508,-440.27 986.508,-434.27 986.508,-434.27 986.508,-422.27 986.508,-422.27 986.508,-416.27 992.508,-410.27 998.508,-410.27\" fill=\"aliceblue\" stroke=\"black\" stroke-width=\"0.5\"/>\n",
       "<text font-family=\"Times New Roman,serif\" font-size=\"11.00\" text-anchor=\"middle\" x=\"1020.01\" y=\"-425.47\">rock-dassie</text>\n",
       "</g>\n",
       "<!-- animal -->\n",
       "<g class=\"node\" id=\"node6\"><title>animal</title>\n",
       "<path d=\"M885.778,-393.429C885.778,-393.429 915.778,-393.429 915.778,-393.429 921.778,-393.429 927.778,-399.429 927.778,-405.429 927.778,-405.429 927.778,-417.429 927.778,-417.429 927.778,-423.429 921.778,-429.429 915.778,-429.429 915.778,-429.429 885.778,-429.429 885.778,-429.429 879.778,-429.429 873.778,-423.429 873.778,-417.429 873.778,-417.429 873.778,-405.429 873.778,-405.429 873.778,-399.429 879.778,-393.429 885.778,-393.429\" fill=\"aliceblue\" stroke=\"black\" stroke-width=\"0.5\"/>\n",
       "<text font-family=\"Times New Roman,serif\" font-size=\"11.00\" text-anchor=\"middle\" x=\"900.778\" y=\"-408.629\">animal</text>\n",
       "</g>\n",
       "<!-- animal&#45;&#45;rock&#45;dassie -->\n",
       "<g class=\"edge\" id=\"edge3\"><title>animal--rock-dassie</title>\n",
       "<path d=\"M938.068,-416.696C953.478,-418.873 971.214,-421.378 986.235,-423.5\" fill=\"none\" stroke=\"black\" stroke-width=\"0.5\"/>\n",
       "<polygon fill=\"none\" points=\"938.225,-413.184 927.833,-415.251 937.246,-420.115 938.225,-413.184\" stroke=\"black\" stroke-width=\"0.5\"/>\n",
       "</g>\n",
       "<!-- warthog -->\n",
       "<g class=\"node\" id=\"node11\"><title>warthog</title>\n",
       "<path d=\"M927.635,-492.099C927.635,-492.099 957.635,-492.099 957.635,-492.099 963.635,-492.099 969.635,-498.099 969.635,-504.099 969.635,-504.099 969.635,-516.099 969.635,-516.099 969.635,-522.099 963.635,-528.099 957.635,-528.099 957.635,-528.099 927.635,-528.099 927.635,-528.099 921.635,-528.099 915.635,-522.099 915.635,-516.099 915.635,-516.099 915.635,-504.099 915.635,-504.099 915.635,-498.099 921.635,-492.099 927.635,-492.099\" fill=\"aliceblue\" stroke=\"black\" stroke-width=\"0.5\"/>\n",
       "<text font-family=\"Times New Roman,serif\" font-size=\"11.00\" text-anchor=\"middle\" x=\"942.635\" y=\"-507.299\">warthog</text>\n",
       "</g>\n",
       "<!-- animal&#45;&#45;warthog -->\n",
       "<g class=\"edge\" id=\"edge7\"><title>animal--warthog</title>\n",
       "<path d=\"M912.427,-438.89C919.587,-455.768 928.565,-476.93 934.865,-491.782\" fill=\"none\" stroke=\"black\" stroke-width=\"0.5\"/>\n",
       "<polygon fill=\"none\" points=\"915.583,-437.366 908.456,-429.527 909.139,-440.099 915.583,-437.366\" stroke=\"black\" stroke-width=\"0.5\"/>\n",
       "</g>\n",
       "<!-- herbivore -->\n",
       "<g class=\"node\" id=\"node13\"><title>herbivore</title>\n",
       "<path d=\"M753.223,-243.236C753.223,-243.236 787.223,-243.236 787.223,-243.236 793.223,-243.236 799.223,-249.236 799.223,-255.236 799.223,-255.236 799.223,-267.236 799.223,-267.236 799.223,-273.236 793.223,-279.236 787.223,-279.236 787.223,-279.236 753.223,-279.236 753.223,-279.236 747.223,-279.236 741.223,-273.236 741.223,-267.236 741.223,-267.236 741.223,-255.236 741.223,-255.236 741.223,-249.236 747.223,-243.236 753.223,-243.236\" fill=\"aliceblue\" stroke=\"black\" stroke-width=\"0.5\"/>\n",
       "<text font-family=\"Times New Roman,serif\" font-size=\"11.00\" text-anchor=\"middle\" x=\"770.223\" y=\"-258.436\">herbivore</text>\n",
       "</g>\n",
       "<!-- animal&#45;&#45;herbivore -->\n",
       "<g class=\"edge\" id=\"edge10\"><title>animal--herbivore</title>\n",
       "<path d=\"M878.403,-385.688C852.093,-355.42 809.094,-305.954 786.027,-279.417\" fill=\"none\" stroke=\"black\" stroke-width=\"0.5\"/>\n",
       "<polygon fill=\"none\" points=\"875.828,-388.061 885.03,-393.312 881.111,-383.469 875.828,-388.061\" stroke=\"black\" stroke-width=\"0.5\"/>\n",
       "</g>\n",
       "<!-- omnivore -->\n",
       "<g class=\"node\" id=\"node14\"><title>omnivore</title>\n",
       "<path d=\"M801.532,-497.461C801.532,-497.461 834.532,-497.461 834.532,-497.461 840.532,-497.461 846.532,-503.461 846.532,-509.461 846.532,-509.461 846.532,-521.461 846.532,-521.461 846.532,-527.461 840.532,-533.461 834.532,-533.461 834.532,-533.461 801.532,-533.461 801.532,-533.461 795.532,-533.461 789.532,-527.461 789.532,-521.461 789.532,-521.461 789.532,-509.461 789.532,-509.461 789.532,-503.461 795.532,-497.461 801.532,-497.461\" fill=\"aliceblue\" stroke=\"black\" stroke-width=\"0.5\"/>\n",
       "<text font-family=\"Times New Roman,serif\" font-size=\"11.00\" text-anchor=\"middle\" x=\"818.032\" y=\"-512.661\">omnivore</text>\n",
       "</g>\n",
       "<!-- animal&#45;&#45;omnivore -->\n",
       "<g class=\"edge\" id=\"edge11\"><title>animal--omnivore</title>\n",
       "<path d=\"M879.941,-437.626C865.157,-456.214 845.684,-480.695 832.558,-497.199\" fill=\"none\" stroke=\"black\" stroke-width=\"0.5\"/>\n",
       "<polygon fill=\"none\" points=\"882.879,-439.555 886.365,-429.55 877.401,-435.198 882.879,-439.555\" stroke=\"black\" stroke-width=\"0.5\"/>\n",
       "</g>\n",
       "<!-- carnivore -->\n",
       "<g class=\"node\" id=\"node17\"><title>carnivore</title>\n",
       "<path d=\"M879.399,-210.061C879.399,-210.061 913.399,-210.061 913.399,-210.061 919.399,-210.061 925.399,-216.061 925.399,-222.061 925.399,-222.061 925.399,-234.061 925.399,-234.061 925.399,-240.061 919.399,-246.061 913.399,-246.061 913.399,-246.061 879.399,-246.061 879.399,-246.061 873.399,-246.061 867.399,-240.061 867.399,-234.061 867.399,-234.061 867.399,-222.061 867.399,-222.061 867.399,-216.061 873.399,-210.061 879.399,-210.061\" fill=\"aliceblue\" stroke=\"black\" stroke-width=\"0.5\"/>\n",
       "<text font-family=\"Times New Roman,serif\" font-size=\"11.00\" text-anchor=\"middle\" x=\"896.399\" y=\"-225.261\">carnivore</text>\n",
       "</g>\n",
       "<!-- animal&#45;&#45;carnivore -->\n",
       "<g class=\"edge\" id=\"edge14\"><title>animal--carnivore</title>\n",
       "<path d=\"M900.094,-382.757C899.182,-344.583 897.596,-278.177 896.833,-246.24\" fill=\"none\" stroke=\"black\" stroke-width=\"0.5\"/>\n",
       "<polygon fill=\"none\" points=\"896.605,-383.263 900.342,-393.177 903.603,-383.096 896.605,-383.263\" stroke=\"black\" stroke-width=\"0.5\"/>\n",
       "</g>\n",
       "<!-- impala -->\n",
       "<g class=\"node\" id=\"node21\"><title>impala</title>\n",
       "<path d=\"M1001.95,-288.239C1001.95,-288.239 1031.95,-288.239 1031.95,-288.239 1037.95,-288.239 1043.95,-294.239 1043.95,-300.239 1043.95,-300.239 1043.95,-312.239 1043.95,-312.239 1043.95,-318.239 1037.95,-324.239 1031.95,-324.239 1031.95,-324.239 1001.95,-324.239 1001.95,-324.239 995.954,-324.239 989.954,-318.239 989.954,-312.239 989.954,-312.239 989.954,-300.239 989.954,-300.239 989.954,-294.239 995.954,-288.239 1001.95,-288.239\" fill=\"aliceblue\" stroke=\"black\" stroke-width=\"0.5\"/>\n",
       "<text font-family=\"Times New Roman,serif\" font-size=\"11.00\" text-anchor=\"middle\" x=\"1016.95\" y=\"-303.439\">impala</text>\n",
       "</g>\n",
       "<!-- animal&#45;&#45;impala -->\n",
       "<g class=\"edge\" id=\"edge18\"><title>animal--impala</title>\n",
       "<path d=\"M928.416,-386.405C949.462,-367.349 977.943,-341.561 996.855,-324.438\" fill=\"none\" stroke=\"black\" stroke-width=\"0.5\"/>\n",
       "<polygon fill=\"none\" points=\"925.813,-384.04 920.75,-393.346 930.512,-389.229 925.813,-384.04\" stroke=\"black\" stroke-width=\"0.5\"/>\n",
       "</g>\n",
       "<!-- giraffe -->\n",
       "<g class=\"node\" id=\"node28\"><title>giraffe</title>\n",
       "<path d=\"M730.717,-384.382C730.717,-384.382 760.717,-384.382 760.717,-384.382 766.717,-384.382 772.717,-390.382 772.717,-396.382 772.717,-396.382 772.717,-408.382 772.717,-408.382 772.717,-414.382 766.717,-420.382 760.717,-420.382 760.717,-420.382 730.717,-420.382 730.717,-420.382 724.717,-420.382 718.717,-414.382 718.717,-408.382 718.717,-408.382 718.717,-396.382 718.717,-396.382 718.717,-390.382 724.717,-384.382 730.717,-384.382\" fill=\"aliceblue\" stroke=\"black\" stroke-width=\"0.5\"/>\n",
       "<text font-family=\"Times New Roman,serif\" font-size=\"11.00\" text-anchor=\"middle\" x=\"745.717\" y=\"-399.582\">giraffe</text>\n",
       "</g>\n",
       "<!-- animal&#45;&#45;giraffe -->\n",
       "<g class=\"edge\" id=\"edge25\"><title>animal--giraffe</title>\n",
       "<path d=\"M863.59,-409.259C835.676,-407.631 798.09,-405.437 772.938,-403.97\" fill=\"none\" stroke=\"black\" stroke-width=\"0.5\"/>\n",
       "<polygon fill=\"none\" points=\"863.582,-412.765 873.769,-409.853 863.99,-405.777 863.582,-412.765\" stroke=\"black\" stroke-width=\"0.5\"/>\n",
       "</g>\n",
       "<!-- twig -->\n",
       "<g class=\"node\" id=\"node7\"><title>twig</title>\n",
       "<path d=\"M86.8943,-399.222C86.8943,-399.222 116.894,-399.222 116.894,-399.222 122.894,-399.222 128.894,-405.222 128.894,-411.222 128.894,-411.222 128.894,-423.222 128.894,-423.222 128.894,-429.222 122.894,-435.222 116.894,-435.222 116.894,-435.222 86.8943,-435.222 86.8943,-435.222 80.8943,-435.222 74.8943,-429.222 74.8943,-423.222 74.8943,-423.222 74.8943,-411.222 74.8943,-411.222 74.8943,-405.222 80.8943,-399.222 86.8943,-399.222\" fill=\"aliceblue\" stroke=\"black\" stroke-width=\"0.5\"/>\n",
       "<text font-family=\"Times New Roman,serif\" font-size=\"11.00\" text-anchor=\"middle\" x=\"101.894\" y=\"-414.422\">twig</text>\n",
       "</g>\n",
       "<!-- plant&#45;part -->\n",
       "<g class=\"node\" id=\"node8\"><title>plant-part</title>\n",
       "<path d=\"M226.315,-290.808C226.315,-290.808 261.315,-290.808 261.315,-290.808 267.315,-290.808 273.315,-296.808 273.315,-302.808 273.315,-302.808 273.315,-314.808 273.315,-314.808 273.315,-320.808 267.315,-326.808 261.315,-326.808 261.315,-326.808 226.315,-326.808 226.315,-326.808 220.315,-326.808 214.315,-320.808 214.315,-314.808 214.315,-314.808 214.315,-302.808 214.315,-302.808 214.315,-296.808 220.315,-290.808 226.315,-290.808\" fill=\"aliceblue\" stroke=\"black\" stroke-width=\"0.5\"/>\n",
       "<text font-family=\"Times New Roman,serif\" font-size=\"11.00\" text-anchor=\"middle\" x=\"243.815\" y=\"-306.008\">plant-part</text>\n",
       "</g>\n",
       "<!-- plant&#45;part&#45;&#45;fruiting&#45;body -->\n",
       "<g class=\"edge\" id=\"edge8\"><title>plant-part--fruiting-body</title>\n",
       "<path d=\"M258.034,-335.941C265.814,-349.414 276.22,-365.466 287.798,-378.096 321.069,-414.388 367.895,-447.317 397.932,-466.682\" fill=\"none\" stroke=\"black\" stroke-width=\"0.5\"/>\n",
       "<polygon fill=\"none\" points=\"261.024,-334.116 253.086,-327.099 254.916,-337.534 261.024,-334.116\" stroke=\"black\" stroke-width=\"0.5\"/>\n",
       "</g>\n",
       "<!-- plant&#45;part&#45;&#45;twig -->\n",
       "<g class=\"edge\" id=\"edge4\"><title>plant-part--twig</title>\n",
       "<path d=\"M211.966,-333.138C185.827,-353.105 149.394,-380.937 125.726,-399.017\" fill=\"none\" stroke=\"black\" stroke-width=\"0.5\"/>\n",
       "<polygon fill=\"none\" points=\"214.239,-335.806 220.061,-326.954 209.99,-330.243 214.239,-335.806\" stroke=\"black\" stroke-width=\"0.5\"/>\n",
       "</g>\n",
       "<!-- stem -->\n",
       "<g class=\"node\" id=\"node9\"><title>stem</title>\n",
       "<path d=\"M11.7037,-285.294C11.7037,-285.294 41.7037,-285.294 41.7037,-285.294 47.7037,-285.294 53.7037,-291.294 53.7037,-297.294 53.7037,-297.294 53.7037,-309.294 53.7037,-309.294 53.7037,-315.294 47.7037,-321.294 41.7037,-321.294 41.7037,-321.294 11.7037,-321.294 11.7037,-321.294 5.70371,-321.294 -0.296289,-315.294 -0.296289,-309.294 -0.296289,-309.294 -0.296289,-297.294 -0.296289,-297.294 -0.296289,-291.294 5.70371,-285.294 11.7037,-285.294\" fill=\"aliceblue\" stroke=\"black\" stroke-width=\"0.5\"/>\n",
       "<text font-family=\"Times New Roman,serif\" font-size=\"11.00\" text-anchor=\"middle\" x=\"26.7037\" y=\"-300.494\">stem</text>\n",
       "</g>\n",
       "<!-- plant&#45;part&#45;&#45;stem -->\n",
       "<g class=\"edge\" id=\"edge5\"><title>plant-part--stem</title>\n",
       "<path d=\"M203.851,-307.793C160.306,-306.687 91.8196,-304.948 54.0258,-303.988\" fill=\"none\" stroke=\"black\" stroke-width=\"0.5\"/>\n",
       "<polygon fill=\"none\" points=\"203.996,-311.297 214.082,-308.053 204.174,-304.3 203.996,-311.297\" stroke=\"black\" stroke-width=\"0.5\"/>\n",
       "</g>\n",
       "<!-- leaf -->\n",
       "<g class=\"node\" id=\"node10\"><title>leaf</title>\n",
       "<path d=\"M350.065,-171.852C350.065,-171.852 380.065,-171.852 380.065,-171.852 386.065,-171.852 392.065,-177.852 392.065,-183.852 392.065,-183.852 392.065,-195.852 392.065,-195.852 392.065,-201.852 386.065,-207.852 380.065,-207.852 380.065,-207.852 350.065,-207.852 350.065,-207.852 344.065,-207.852 338.065,-201.852 338.065,-195.852 338.065,-195.852 338.065,-183.852 338.065,-183.852 338.065,-177.852 344.065,-171.852 350.065,-171.852\" fill=\"aliceblue\" stroke=\"black\" stroke-width=\"0.5\"/>\n",
       "<text font-family=\"Times New Roman,serif\" font-size=\"11.00\" text-anchor=\"middle\" x=\"365.065\" y=\"-187.052\">leaf</text>\n",
       "</g>\n",
       "<!-- plant&#45;part&#45;&#45;leaf -->\n",
       "<g class=\"edge\" id=\"edge6\"><title>plant-part--leaf</title>\n",
       "<path d=\"M259.311,-281.764C264.952,-273.009 271.747,-263.556 279.028,-255.764 296.629,-236.929 320.032,-219.377 337.986,-207.129\" fill=\"none\" stroke=\"black\" stroke-width=\"0.5\"/>\n",
       "<polygon fill=\"none\" points=\"256.168,-280.192 253.879,-290.537 262.119,-283.878 256.168,-280.192\" stroke=\"black\" stroke-width=\"0.5\"/>\n",
       "</g>\n",
       "<!-- phloem -->\n",
       "<g class=\"node\" id=\"node16\"><title>phloem</title>\n",
       "<path d=\"M302.998,-338.896C302.998,-338.896 332.998,-338.896 332.998,-338.896 338.998,-338.896 344.998,-344.896 344.998,-350.896 344.998,-350.896 344.998,-362.896 344.998,-362.896 344.998,-368.896 338.998,-374.896 332.998,-374.896 332.998,-374.896 302.998,-374.896 302.998,-374.896 296.998,-374.896 290.998,-368.896 290.998,-362.896 290.998,-362.896 290.998,-350.896 290.998,-350.896 290.998,-344.896 296.998,-338.896 302.998,-338.896\" fill=\"aliceblue\" stroke=\"black\" stroke-width=\"0.5\"/>\n",
       "<text font-family=\"Times New Roman,serif\" font-size=\"11.00\" text-anchor=\"middle\" x=\"317.998\" y=\"-354.096\">phloem</text>\n",
       "</g>\n",
       "<!-- plant&#45;part&#45;&#45;phloem -->\n",
       "<g class=\"edge\" id=\"edge13\"><title>plant-part--phloem</title>\n",
       "<path d=\"M280.491,-332.582C283.996,-334.854 287.505,-337.129 290.895,-339.326\" fill=\"none\" stroke=\"black\" stroke-width=\"0.5\"/>\n",
       "<polygon fill=\"none\" points=\"282.156,-329.49 271.861,-326.988 278.348,-335.364 282.156,-329.49\" stroke=\"black\" stroke-width=\"0.5\"/>\n",
       "</g>\n",
       "<!-- branch -->\n",
       "<g class=\"node\" id=\"node18\"><title>branch</title>\n",
       "<path d=\"M84.3771,-209.656C84.3771,-209.656 114.377,-209.656 114.377,-209.656 120.377,-209.656 126.377,-215.656 126.377,-221.656 126.377,-221.656 126.377,-233.656 126.377,-233.656 126.377,-239.656 120.377,-245.656 114.377,-245.656 114.377,-245.656 84.3771,-245.656 84.3771,-245.656 78.3771,-245.656 72.3771,-239.656 72.3771,-233.656 72.3771,-233.656 72.3771,-221.656 72.3771,-221.656 72.3771,-215.656 78.3771,-209.656 84.3771,-209.656\" fill=\"aliceblue\" stroke=\"black\" stroke-width=\"0.5\"/>\n",
       "<text font-family=\"Times New Roman,serif\" font-size=\"11.00\" text-anchor=\"middle\" x=\"99.3771\" y=\"-224.856\">branch</text>\n",
       "</g>\n",
       "<!-- plant&#45;part&#45;&#45;branch -->\n",
       "<g class=\"edge\" id=\"edge15\"><title>plant-part--branch</title>\n",
       "<path d=\"M205.414,-287.232C180.533,-273.253 148.734,-255.387 126.476,-242.881\" fill=\"none\" stroke=\"black\" stroke-width=\"0.5\"/>\n",
       "<polygon fill=\"none\" points=\"203.805,-290.343 214.238,-292.19 207.234,-284.24 203.805,-290.343\" stroke=\"black\" stroke-width=\"0.5\"/>\n",
       "</g>\n",
       "<!-- root -->\n",
       "<g class=\"node\" id=\"node24\"><title>root</title>\n",
       "<path d=\"M215.265,-178.652C215.265,-178.652 245.265,-178.652 245.265,-178.652 251.265,-178.652 257.265,-184.652 257.265,-190.652 257.265,-190.652 257.265,-202.652 257.265,-202.652 257.265,-208.652 251.265,-214.652 245.265,-214.652 245.265,-214.652 215.265,-214.652 215.265,-214.652 209.265,-214.652 203.265,-208.652 203.265,-202.652 203.265,-202.652 203.265,-190.652 203.265,-190.652 203.265,-184.652 209.265,-178.652 215.265,-178.652\" fill=\"aliceblue\" stroke=\"black\" stroke-width=\"0.5\"/>\n",
       "<text font-family=\"Times New Roman,serif\" font-size=\"11.00\" text-anchor=\"middle\" x=\"230.265\" y=\"-193.852\">root</text>\n",
       "</g>\n",
       "<!-- plant&#45;part&#45;&#45;root -->\n",
       "<g class=\"edge\" id=\"edge21\"><title>plant-part--root</title>\n",
       "<path d=\"M240.424,-280.734C237.938,-260.166 234.636,-232.835 232.481,-215\" fill=\"none\" stroke=\"black\" stroke-width=\"0.5\"/>\n",
       "<polygon fill=\"none\" points=\"236.964,-281.28 241.638,-290.788 243.913,-280.44 236.964,-281.28\" stroke=\"black\" stroke-width=\"0.5\"/>\n",
       "</g>\n",
       "<!-- xylem -->\n",
       "<g class=\"node\" id=\"node27\"><title>xylem</title>\n",
       "<path d=\"M294.228,-258.964C294.228,-258.964 324.228,-258.964 324.228,-258.964 330.228,-258.964 336.228,-264.964 336.228,-270.964 336.228,-270.964 336.228,-282.964 336.228,-282.964 336.228,-288.964 330.228,-294.964 324.228,-294.964 324.228,-294.964 294.228,-294.964 294.228,-294.964 288.228,-294.964 282.228,-288.964 282.228,-282.964 282.228,-282.964 282.228,-270.964 282.228,-270.964 282.228,-264.964 288.228,-258.964 294.228,-258.964\" fill=\"aliceblue\" stroke=\"black\" stroke-width=\"0.5\"/>\n",
       "<text font-family=\"Times New Roman,serif\" font-size=\"11.00\" text-anchor=\"middle\" x=\"309.228\" y=\"-274.164\">xylem</text>\n",
       "</g>\n",
       "<!-- plant&#45;part&#45;&#45;xylem -->\n",
       "<g class=\"edge\" id=\"edge24\"><title>plant-part--xylem</title>\n",
       "<path d=\"M281.721,-290.355C281.809,-290.312 281.897,-290.269 281.985,-290.226\" fill=\"none\" stroke=\"black\" stroke-width=\"0.5\"/>\n",
       "<polygon fill=\"none\" points=\"280.919,-286.852 273.46,-294.376 283.983,-293.146 280.919,-286.852\" stroke=\"black\" stroke-width=\"0.5\"/>\n",
       "</g>\n",
       "<!-- elephant -->\n",
       "<g class=\"node\" id=\"node25\"><title>elephant</title>\n",
       "<path d=\"M885.471,-126.337C885.471,-126.337 915.471,-126.337 915.471,-126.337 921.471,-126.337 927.471,-132.337 927.471,-138.337 927.471,-138.337 927.471,-150.337 927.471,-150.337 927.471,-156.337 921.471,-162.337 915.471,-162.337 915.471,-162.337 885.471,-162.337 885.471,-162.337 879.471,-162.337 873.471,-156.337 873.471,-150.337 873.471,-150.337 873.471,-138.337 873.471,-138.337 873.471,-132.337 879.471,-126.337 885.471,-126.337\" fill=\"aliceblue\" stroke=\"black\" stroke-width=\"0.5\"/>\n",
       "<text font-family=\"Times New Roman,serif\" font-size=\"11.00\" text-anchor=\"middle\" x=\"900.471\" y=\"-141.537\">elephant</text>\n",
       "</g>\n",
       "<!-- herbivore&#45;&#45;elephant -->\n",
       "<g class=\"edge\" id=\"edge22\"><title>herbivore--elephant</title>\n",
       "<path d=\"M797.882,-236.412C822.537,-214.283 858.05,-182.41 880.168,-162.559\" fill=\"none\" stroke=\"black\" stroke-width=\"0.5\"/>\n",
       "<polygon fill=\"none\" points=\"795.393,-233.942 790.289,-243.227 800.069,-239.152 795.393,-233.942\" stroke=\"black\" stroke-width=\"0.5\"/>\n",
       "</g>\n",
       "<!-- Mary&#45;01 -->\n",
       "<g class=\"node\" id=\"node30\"><title>Mary-01</title>\n",
       "<path d=\"M591.347,-236.66C591.347,-236.66 622.347,-236.66 622.347,-236.66 628.347,-236.66 634.347,-242.66 634.347,-248.66 634.347,-248.66 634.347,-260.66 634.347,-260.66 634.347,-266.66 628.347,-272.66 622.347,-272.66 622.347,-272.66 591.347,-272.66 591.347,-272.66 585.347,-272.66 579.347,-266.66 579.347,-260.66 579.347,-260.66 579.347,-248.66 579.347,-248.66 579.347,-242.66 585.347,-236.66 591.347,-236.66\" fill=\"whitesmoke\" stroke=\"black\" stroke-width=\"0.5\"/>\n",
       "<text font-family=\"Times New Roman,serif\" font-size=\"11.00\" text-anchor=\"middle\" x=\"606.847\" y=\"-251.86\">Mary-01</text>\n",
       "</g>\n",
       "<!-- herbivore&#45;&#45;Mary&#45;01 -->\n",
       "<g class=\"edge\" id=\"edge29\"><title>herbivore--Mary-01</title>\n",
       "<path d=\"M730.946,-259.655C701.14,-258.455 660.909,-256.836 634.441,-255.771\" fill=\"none\" stroke=\"black\" stroke-dasharray=\"5,2\" stroke-width=\"0.5\"/>\n",
       "<polygon fill=\"none\" points=\"730.882,-263.155 741.015,-260.06 731.164,-256.161 730.882,-263.155\" stroke=\"black\" stroke-width=\"0.5\"/>\n",
       "</g>\n",
       "<!-- Sophie&#45;01 -->\n",
       "<g class=\"node\" id=\"node31\"><title>Sophie-01</title>\n",
       "<path d=\"M685.273,-298.559C685.273,-298.559 721.273,-298.559 721.273,-298.559 727.273,-298.559 733.273,-304.559 733.273,-310.559 733.273,-310.559 733.273,-322.559 733.273,-322.559 733.273,-328.559 727.273,-334.559 721.273,-334.559 721.273,-334.559 685.273,-334.559 685.273,-334.559 679.273,-334.559 673.273,-328.559 673.273,-322.559 673.273,-322.559 673.273,-310.559 673.273,-310.559 673.273,-304.559 679.273,-298.559 685.273,-298.559\" fill=\"whitesmoke\" stroke=\"black\" stroke-width=\"0.5\"/>\n",
       "<text font-family=\"Times New Roman,serif\" font-size=\"11.00\" text-anchor=\"middle\" x=\"703.273\" y=\"-313.759\">Sophie-01</text>\n",
       "</g>\n",
       "<!-- herbivore&#45;&#45;Sophie&#45;01 -->\n",
       "<g class=\"edge\" id=\"edge31\"><title>herbivore--Sophie-01</title>\n",
       "<path d=\"M740.52,-285.781C735.464,-289.958 730.292,-294.232 725.473,-298.214\" fill=\"none\" stroke=\"black\" stroke-dasharray=\"5,2\" stroke-width=\"0.5\"/>\n",
       "<polygon fill=\"none\" points=\"742.822,-288.419 748.301,-279.351 738.363,-283.023 742.822,-288.419\" stroke=\"black\" stroke-width=\"0.5\"/>\n",
       "</g>\n",
       "<!-- lion -->\n",
       "<g class=\"node\" id=\"node19\"><title>lion</title>\n",
       "<path d=\"M790.775,-109.24C790.775,-109.24 820.775,-109.24 820.775,-109.24 826.775,-109.24 832.775,-115.24 832.775,-121.24 832.775,-121.24 832.775,-133.24 832.775,-133.24 832.775,-139.24 826.775,-145.24 820.775,-145.24 820.775,-145.24 790.775,-145.24 790.775,-145.24 784.775,-145.24 778.775,-139.24 778.775,-133.24 778.775,-133.24 778.775,-121.24 778.775,-121.24 778.775,-115.24 784.775,-109.24 790.775,-109.24\" fill=\"aliceblue\" stroke=\"black\" stroke-width=\"0.5\"/>\n",
       "<text font-family=\"Times New Roman,serif\" font-size=\"11.00\" text-anchor=\"middle\" x=\"805.775\" y=\"-124.44\">lion</text>\n",
       "</g>\n",
       "<!-- carnivore&#45;&#45;lion -->\n",
       "<g class=\"edge\" id=\"edge16\"><title>carnivore--lion</title>\n",
       "<path d=\"M873.24,-202.296C857.262,-184.52 836.41,-161.321 822.142,-145.449\" fill=\"none\" stroke=\"black\" stroke-width=\"0.5\"/>\n",
       "<polygon fill=\"none\" points=\"870.909,-204.939 880.197,-210.036 876.115,-200.259 870.909,-204.939\" stroke=\"black\" stroke-width=\"0.5\"/>\n",
       "</g>\n",
       "<!-- Leo&#45;01 -->\n",
       "<g class=\"node\" id=\"node32\"><title>Leo-01</title>\n",
       "<path d=\"M640.956,-164.729C640.956,-164.729 670.956,-164.729 670.956,-164.729 676.956,-164.729 682.956,-170.729 682.956,-176.729 682.956,-176.729 682.956,-188.729 682.956,-188.729 682.956,-194.729 676.956,-200.729 670.956,-200.729 670.956,-200.729 640.956,-200.729 640.956,-200.729 634.956,-200.729 628.956,-194.729 628.956,-188.729 628.956,-188.729 628.956,-176.729 628.956,-176.729 628.956,-170.729 634.956,-164.729 640.956,-164.729\" fill=\"whitesmoke\" stroke=\"black\" stroke-width=\"0.5\"/>\n",
       "<text font-family=\"Times New Roman,serif\" font-size=\"11.00\" text-anchor=\"middle\" x=\"655.956\" y=\"-179.929\">Leo-01</text>\n",
       "</g>\n",
       "<!-- lion&#45;&#45;Leo&#45;01 -->\n",
       "<g class=\"edge\" id=\"edge32\"><title>lion--Leo-01</title>\n",
       "<path d=\"M768.937,-140.884C742.391,-150.716 707.156,-163.766 683.138,-172.662\" fill=\"none\" stroke=\"black\" stroke-dasharray=\"5,2\" stroke-width=\"0.5\"/>\n",
       "<polygon fill=\"none\" points=\"770.482,-144.044 778.644,-137.289 768.051,-137.48 770.482,-144.044\" stroke=\"black\" stroke-width=\"0.5\"/>\n",
       "</g>\n",
       "<!-- palm&#45;tree&#45;&#45;Mary&#45;01 -->\n",
       "<g class=\"edge\" id=\"edge28\"><title>palm-tree--Mary-01</title>\n",
       "<path d=\"M478.602,-371.156C509.633,-342.968 559.353,-297.803 586.881,-272.797\" fill=\"none\" stroke=\"black\" stroke-dasharray=\"5,2\" stroke-width=\"0.5\"/>\n",
       "<polygon fill=\"none\" points=\"476.189,-368.62 471.14,-377.934 480.896,-373.801 476.189,-368.62\" stroke=\"black\" stroke-width=\"0.5\"/>\n",
       "</g>\n",
       "<!-- parsnip -->\n",
       "<g class=\"node\" id=\"node23\"><title>parsnip</title>\n",
       "<path d=\"M216.494,-0.61783C216.494,-0.61783 246.494,-0.61783 246.494,-0.61783 252.494,-0.61783 258.494,-6.61783 258.494,-12.6178 258.494,-12.6178 258.494,-24.6178 258.494,-24.6178 258.494,-30.6178 252.494,-36.6178 246.494,-36.6178 246.494,-36.6178 216.494,-36.6178 216.494,-36.6178 210.494,-36.6178 204.494,-30.6178 204.494,-24.6178 204.494,-24.6178 204.494,-12.6178 204.494,-12.6178 204.494,-6.61783 210.494,-0.61783 216.494,-0.61783\" fill=\"aliceblue\" stroke=\"black\" stroke-width=\"0.5\"/>\n",
       "<text font-family=\"Times New Roman,serif\" font-size=\"11.00\" text-anchor=\"middle\" x=\"231.494\" y=\"-15.8178\">parsnip</text>\n",
       "</g>\n",
       "<!-- root&#45;&#45;parsnip -->\n",
       "<g class=\"edge\" id=\"edge20\"><title>root--parsnip</title>\n",
       "<path d=\"M230.459,-168.506C230.714,-131.572 231.155,-67.807 231.369,-36.7163\" fill=\"none\" stroke=\"black\" stroke-width=\"0.5\"/>\n",
       "<polygon fill=\"none\" points=\"226.959,-168.578 230.389,-178.602 233.958,-168.626 226.959,-168.578\" stroke=\"black\" stroke-width=\"0.5\"/>\n",
       "</g>\n",
       "<!-- giraffe&#45;&#45;Sophie&#45;01 -->\n",
       "<g class=\"edge\" id=\"edge30\"><title>giraffe--Sophie-01</title>\n",
       "<path d=\"M732.212,-375.074C725.695,-361.897 718.054,-346.448 712.261,-334.734\" fill=\"none\" stroke=\"black\" stroke-dasharray=\"5,2\" stroke-width=\"0.5\"/>\n",
       "<polygon fill=\"none\" points=\"729.145,-376.769 736.716,-384.181 735.42,-373.666 729.145,-376.769\" stroke=\"black\" stroke-width=\"0.5\"/>\n",
       "</g>\n",
       "<!-- herb -->\n",
       "<g class=\"node\" id=\"node29\"><title>herb</title>\n",
       "<path d=\"M225.062,-459.772C225.062,-459.772 255.062,-459.772 255.062,-459.772 261.062,-459.772 267.062,-465.772 267.062,-471.772 267.062,-471.772 267.062,-483.772 267.062,-483.772 267.062,-489.772 261.062,-495.772 255.062,-495.772 255.062,-495.772 225.062,-495.772 225.062,-495.772 219.062,-495.772 213.062,-489.772 213.062,-483.772 213.062,-483.772 213.062,-471.772 213.062,-471.772 213.062,-465.772 219.062,-459.772 225.062,-459.772\" fill=\"aliceblue\" stroke=\"black\" stroke-width=\"0.5\"/>\n",
       "<text font-family=\"Times New Roman,serif\" font-size=\"11.00\" text-anchor=\"middle\" x=\"240.062\" y=\"-474.972\">herb</text>\n",
       "</g>\n",
       "<!-- herb&#45;&#45;plant -->\n",
       "<g class=\"edge\" id=\"edge26\"><title>herb--plant</title>\n",
       "<path d=\"M271.862,-502.003C279.766,-508.026 288.103,-514.379 295.545,-520.05\" fill=\"none\" stroke=\"black\" stroke-width=\"0.5\"/>\n",
       "<polygon fill=\"none\" points=\"273.912,-499.166 263.837,-495.888 269.67,-504.733 273.912,-499.166\" stroke=\"black\" stroke-width=\"0.5\"/>\n",
       "</g>\n",
       "<!-- herb&#45;&#45;plant&#45;part -->\n",
       "<g class=\"edge\" id=\"edge27\"><title>herb--plant-part</title>\n",
       "<path d=\"M240.696,-449.243C241.471,-414.365 242.759,-356.365 243.411,-327.015\" fill=\"none\" stroke=\"black\" stroke-width=\"0.5\"/>\n",
       "<polygon fill=\"none\" points=\"237.187,-449.614 240.464,-459.69 244.185,-449.77 237.187,-449.614\" stroke=\"black\" stroke-width=\"0.5\"/>\n",
       "</g>\n",
       "<!-- Leo&#45;01&#45;&#45;Mary&#45;01 -->\n",
       "<g class=\"edge\" id=\"edge33\"><title>Leo-01--Mary-01</title>\n",
       "<path d=\"M643.564,-200.881C637.965,-209.081 631.238,-218.934 625.08,-227.954\" fill=\"none\" stroke=\"black\" stroke-width=\"0.5\"/>\n",
       "<polygon fill=\"black\" points=\"619.406,-236.265 621.328,-225.468 622.225,-232.135 625.045,-228.006 625.045,-228.006 625.045,-228.006 622.225,-232.135 628.761,-230.543 619.406,-236.265 619.406,-236.265\" stroke=\"black\" stroke-width=\"0.5\"/>\n",
       "<text font-family=\"Times New Roman,serif\" font-size=\"11.00\" text-anchor=\"middle\" x=\"622.063\" y=\"-221.658\">eats</text>\n",
       "</g>\n",
       "<!-- Leo&#45;01&#45;&#45;Sophie&#45;01 -->\n",
       "<g class=\"edge\" id=\"edge34\"><title>Leo-01--Sophie-01</title>\n",
       "<path d=\"M662.337,-200.778C670.345,-223.427 684.159,-262.499 693.501,-288.922\" fill=\"none\" stroke=\"black\" stroke-width=\"0.5\"/>\n",
       "<polygon fill=\"black\" points=\"696.841,-298.369 689.265,-290.441 695.175,-293.655 693.508,-288.941 693.508,-288.941 693.508,-288.941 695.175,-293.655 697.751,-287.441 696.841,-298.369 696.841,-298.369\" stroke=\"black\" stroke-width=\"0.5\"/>\n",
       "<text font-family=\"Times New Roman,serif\" font-size=\"11.00\" text-anchor=\"middle\" x=\"670.165\" y=\"-252.987\">eats</text>\n",
       "</g>\n",
       "</g>\n",
       "</svg>"
      ],
      "text/plain": [
       "<IPython.core.display.SVG object>"
      ]
     },
     "execution_count": 9,
     "metadata": {},
     "output_type": "execute_result"
    }
   ],
   "source": [
    "onto.draw_graph(layout='force directed')"
   ]
  },
  {
   "cell_type": "code",
   "execution_count": 10,
   "metadata": {},
   "outputs": [
    {
     "name": "stdout",
     "output_type": "stream",
     "text": [
      "{\n",
      "  \"by\": [\n",
      "    {\n",
      "      \"expr\": \"Every carnivore eats nothing-but animals.\"\n",
      "    },\n",
      "    {\n",
      "      \"expr\": \"Every carnivore eats nothing-but animals.\"\n",
      "    },\n",
      "    {\n",
      "      \"expr\": \"Leo-01 eats Mary-01.\"\n",
      "    },\n",
      "    {\n",
      "      \"by\": [\n",
      "        {\n",
      "          \"by\": [\n",
      "            {\n",
      "              \"expr\": \"Every lion is a carnivore.\"\n",
      "            },\n",
      "            {\n",
      "              \"expr\": \"Every carnivore eats nothing-but animals.\"\n",
      "            }\n",
      "          ]\n",
      "        },\n",
      "        {\n",
      "          \"expr\": \"Leo-01 is a lion.\"\n",
      "        }\n",
      "      ]\n",
      "    }\n",
      "  ],\n",
      "  \"concluded\": \"Mary-01 is an animal.\"\n",
      "}\n"
     ]
    }
   ],
   "source": [
    "printWhy(onto,\"Mary-01 is a animal?\")"
   ]
  },
  {
   "cell_type": "markdown",
   "metadata": {},
   "source": [
    "### Part-3: Modal expressions and part-whole relationships."
   ]
  },
  {
   "cell_type": "code",
   "execution_count": 11,
   "metadata": {
    "scrolled": false
   },
   "outputs": [
    {
     "name": "stdout",
     "output_type": "stream",
     "text": [
      "Overwriting part_03.encnl\n"
     ]
    }
   ],
   "source": [
    "%%writefile part_03.encnl\n",
    "\n",
    "Every carnivorous-plant must eat an animal.\n",
    "Every carnivor must eat an animal.\n",
    "Every omnivore must eat a plant.\n",
    "Every branch must be-part-of a tree.\n",
    "Every plant-part must be-part-of a plant.\n",
    "\n",
    "Comment: 'Role equivalence and inverted roles'.\n",
    "X has-part Y if-and-only-if Y is-part-of X.\n",
    "X eats Y if-and-only-if Y is-eaten-by X.\n",
    "\n",
    "Comment: 'Role subsumptions'.\n",
    "If X is-part-of Y then X is-part-of Y.\n",
    "If X has-part something that has-part Y then X has-part Y.\n",
    "\n",
    "Comment: 'Complex role subsumptions'.\n",
    "If X is-part-of something that is-part-of Y then X is-part-of Y."
   ]
  },
  {
   "cell_type": "code",
   "execution_count": 12,
   "metadata": {},
   "outputs": [
    {
     "name": "stdout",
     "output_type": "stream",
     "text": [
      "Overwriting test_02.encnl\n"
     ]
    }
   ],
   "source": [
    "%%writefile test_02.encnl\n",
    "\n",
    "Leo-01 is a lion.\n",
    "Leo-01 eats Sophie-01.\n",
    "Sophie-01 is a giraffe.\n",
    "Sophie-01 eats Leaf-01.\n",
    "Mary-01 is a tree.\n",
    "Leaf-01 is a leaf and is-part-of Branch-02.\n",
    "Branch-02 is a branch and is-part-of Branch-01.\n",
    "Branch-01 is a branch and is-part-of Mary-01.\n",
    "Branch-03 is a branch."
   ]
  },
  {
   "cell_type": "code",
   "execution_count": 13,
   "metadata": {},
   "outputs": [],
   "source": [
    "onto=Ontology(\"cnl/string\",'\\n'.join(open(fn,\"rt\").read() for fn in [\"part_01.encnl\",\"part_02.encnl\",\"part_03.encnl\",\"test_02.encnl\"]), \n",
    "                    evaluator = lambda e:eval(e,globals(),locals()), \n",
    "                    graph_attribute_formatter = graph_attribute_formatter)"
   ]
  },
  {
   "cell_type": "code",
   "execution_count": 14,
   "metadata": {},
   "outputs": [
    {
     "name": "stdout",
     "output_type": "stream",
     "text": [
      "{\n",
      "  \"modals\": {\n",
      "    \"Every branch must be-part-of a tree.\\r\\n\": [\n",
      "      {\n",
      "        \"?x0\": {\n",
      "          \"instance\": \"Branch-03\"\n",
      "        }\n",
      "      }\n",
      "    ],\n",
      "    \"Every plant-part must be-part-of a plant.\\r\\n\": [\n",
      "      {\n",
      "        \"?x0\": {\n",
      "          \"instance\": \"Branch-03\"\n",
      "        }\n",
      "      }\n",
      "    ]\n",
      "  }\n",
      "}\n"
     ]
    }
   ],
   "source": [
    "printReasoningInfo(onto)"
   ]
  },
  {
   "cell_type": "code",
   "execution_count": 20,
   "metadata": {},
   "outputs": [],
   "source": [
    "from IPython import display"
   ]
  },
  {
   "cell_type": "code",
   "execution_count": 23,
   "metadata": {},
   "outputs": [
    {
     "ename": "TypeError",
     "evalue": "'SVG' object is not subscriptable",
     "output_type": "error",
     "traceback": [
      "\u001b[1;31m---------------------------------------------------------------------------\u001b[0m",
      "\u001b[1;31mTypeError\u001b[0m                                 Traceback (most recent call last)",
      "\u001b[1;32m<ipython-input-23-d9b69deec902>\u001b[0m in \u001b[0;36m<module>\u001b[1;34m\u001b[0m\n\u001b[1;32m----> 1\u001b[1;33m \u001b[0mdisplay\u001b[0m\u001b[1;33m.\u001b[0m\u001b[0mHTML\u001b[0m\u001b[1;33m(\u001b[0m\u001b[0monto\u001b[0m\u001b[1;33m.\u001b[0m\u001b[0mdraw_graph\u001b[0m\u001b[1;33m(\u001b[0m\u001b[0mlayout\u001b[0m\u001b[1;33m=\u001b[0m\u001b[1;34m\"force directed\"\u001b[0m\u001b[1;33m)\u001b[0m\u001b[1;33m)\u001b[0m\u001b[1;33m\u001b[0m\u001b[1;33m\u001b[0m\u001b[0m\n\u001b[0m",
      "\u001b[1;32mc:\\users\\pkapl\\anaconda3\\envs\\makler\\lib\\site-packages\\IPython\\core\\display.py\u001b[0m in \u001b[0;36m__init__\u001b[1;34m(self, data, url, filename, metadata)\u001b[0m\n\u001b[0;32m    686\u001b[0m             \u001b[1;32mreturn\u001b[0m \u001b[0mprefix\u001b[0m\u001b[1;33m.\u001b[0m\u001b[0mstartswith\u001b[0m\u001b[1;33m(\u001b[0m\u001b[1;34m\"<iframe \"\u001b[0m\u001b[1;33m)\u001b[0m \u001b[1;32mand\u001b[0m \u001b[0msuffix\u001b[0m\u001b[1;33m.\u001b[0m\u001b[0mendswith\u001b[0m\u001b[1;33m(\u001b[0m\u001b[1;34m\"</iframe>\"\u001b[0m\u001b[1;33m)\u001b[0m\u001b[1;33m\u001b[0m\u001b[1;33m\u001b[0m\u001b[0m\n\u001b[0;32m    687\u001b[0m \u001b[1;33m\u001b[0m\u001b[0m\n\u001b[1;32m--> 688\u001b[1;33m         \u001b[1;32mif\u001b[0m \u001b[0mwarn\u001b[0m\u001b[1;33m(\u001b[0m\u001b[1;33m)\u001b[0m\u001b[1;33m:\u001b[0m\u001b[1;33m\u001b[0m\u001b[1;33m\u001b[0m\u001b[0m\n\u001b[0m\u001b[0;32m    689\u001b[0m             \u001b[0mwarnings\u001b[0m\u001b[1;33m.\u001b[0m\u001b[0mwarn\u001b[0m\u001b[1;33m(\u001b[0m\u001b[1;34m\"Consider using IPython.display.IFrame instead\"\u001b[0m\u001b[1;33m)\u001b[0m\u001b[1;33m\u001b[0m\u001b[1;33m\u001b[0m\u001b[0m\n\u001b[0;32m    690\u001b[0m         \u001b[0msuper\u001b[0m\u001b[1;33m(\u001b[0m\u001b[0mHTML\u001b[0m\u001b[1;33m,\u001b[0m \u001b[0mself\u001b[0m\u001b[1;33m)\u001b[0m\u001b[1;33m.\u001b[0m\u001b[0m__init__\u001b[0m\u001b[1;33m(\u001b[0m\u001b[0mdata\u001b[0m\u001b[1;33m=\u001b[0m\u001b[0mdata\u001b[0m\u001b[1;33m,\u001b[0m \u001b[0murl\u001b[0m\u001b[1;33m=\u001b[0m\u001b[0murl\u001b[0m\u001b[1;33m,\u001b[0m \u001b[0mfilename\u001b[0m\u001b[1;33m=\u001b[0m\u001b[0mfilename\u001b[0m\u001b[1;33m,\u001b[0m \u001b[0mmetadata\u001b[0m\u001b[1;33m=\u001b[0m\u001b[0mmetadata\u001b[0m\u001b[1;33m)\u001b[0m\u001b[1;33m\u001b[0m\u001b[1;33m\u001b[0m\u001b[0m\n",
      "\u001b[1;32mc:\\users\\pkapl\\anaconda3\\envs\\makler\\lib\\site-packages\\IPython\\core\\display.py\u001b[0m in \u001b[0;36mwarn\u001b[1;34m()\u001b[0m\n\u001b[0;32m    682\u001b[0m             \u001b[1;31m# long string and we're only interested in its beginning and end.\u001b[0m\u001b[1;33m\u001b[0m\u001b[1;33m\u001b[0m\u001b[1;33m\u001b[0m\u001b[0m\n\u001b[0;32m    683\u001b[0m             \u001b[1;31m#\u001b[0m\u001b[1;33m\u001b[0m\u001b[1;33m\u001b[0m\u001b[1;33m\u001b[0m\u001b[0m\n\u001b[1;32m--> 684\u001b[1;33m             \u001b[0mprefix\u001b[0m \u001b[1;33m=\u001b[0m \u001b[0mdata\u001b[0m\u001b[1;33m[\u001b[0m\u001b[1;33m:\u001b[0m\u001b[1;36m10\u001b[0m\u001b[1;33m]\u001b[0m\u001b[1;33m.\u001b[0m\u001b[0mlower\u001b[0m\u001b[1;33m(\u001b[0m\u001b[1;33m)\u001b[0m\u001b[1;33m\u001b[0m\u001b[1;33m\u001b[0m\u001b[0m\n\u001b[0m\u001b[0;32m    685\u001b[0m             \u001b[0msuffix\u001b[0m \u001b[1;33m=\u001b[0m \u001b[0mdata\u001b[0m\u001b[1;33m[\u001b[0m\u001b[1;33m-\u001b[0m\u001b[1;36m10\u001b[0m\u001b[1;33m:\u001b[0m\u001b[1;33m]\u001b[0m\u001b[1;33m.\u001b[0m\u001b[0mlower\u001b[0m\u001b[1;33m(\u001b[0m\u001b[1;33m)\u001b[0m\u001b[1;33m\u001b[0m\u001b[1;33m\u001b[0m\u001b[0m\n\u001b[0;32m    686\u001b[0m             \u001b[1;32mreturn\u001b[0m \u001b[0mprefix\u001b[0m\u001b[1;33m.\u001b[0m\u001b[0mstartswith\u001b[0m\u001b[1;33m(\u001b[0m\u001b[1;34m\"<iframe \"\u001b[0m\u001b[1;33m)\u001b[0m \u001b[1;32mand\u001b[0m \u001b[0msuffix\u001b[0m\u001b[1;33m.\u001b[0m\u001b[0mendswith\u001b[0m\u001b[1;33m(\u001b[0m\u001b[1;34m\"</iframe>\"\u001b[0m\u001b[1;33m)\u001b[0m\u001b[1;33m\u001b[0m\u001b[1;33m\u001b[0m\u001b[0m\n",
      "\u001b[1;31mTypeError\u001b[0m: 'SVG' object is not subscriptable"
     ]
    }
   ],
   "source": [
    "display.HTML(onto.draw_graph(layout=\"force directed\"))"
   ]
  },
  {
   "cell_type": "code",
   "execution_count": 18,
   "metadata": {},
   "outputs": [
    {
     "data": {
      "application/vnd.jupyter.widget-view+json": {
       "model_id": "",
       "version_major": 2,
       "version_minor": 0
      },
      "text/plain": [
       "VBox(children=(OntoeditWidget(layout=Layout(height='100%', width='90%'), value='eaten by Leo-01'), Output()), …"
      ]
     },
     "metadata": {},
     "output_type": "display_data"
    }
   ],
   "source": [
    "q1_edit = CnlQueryForConcept('query_01.encnl',onto=onto)\n",
    "q1_edit"
   ]
  },
  {
   "cell_type": "code",
   "execution_count": 16,
   "metadata": {},
   "outputs": [
    {
     "data": {
      "text/html": [
       "<div>\n",
       "<style scoped>\n",
       "    .dataframe tbody tr th:only-of-type {\n",
       "        vertical-align: middle;\n",
       "    }\n",
       "\n",
       "    .dataframe tbody tr th {\n",
       "        vertical-align: top;\n",
       "    }\n",
       "\n",
       "    .dataframe thead th {\n",
       "        text-align: right;\n",
       "    }\n",
       "</style>\n",
       "<table border=\"1\" class=\"dataframe\">\n",
       "  <thead>\n",
       "    <tr style=\"text-align: right;\">\n",
       "      <th></th>\n",
       "      <th>Instance</th>\n",
       "      <th>is-eaten-by</th>\n",
       "      <th>eats</th>\n",
       "    </tr>\n",
       "  </thead>\n",
       "  <tbody>\n",
       "    <tr>\n",
       "      <th>0</th>\n",
       "      <td>Sophie-01</td>\n",
       "      <td>Leo-01</td>\n",
       "      <td>Leaf-01</td>\n",
       "    </tr>\n",
       "  </tbody>\n",
       "</table>\n",
       "</div>"
      ],
      "text/plain": [
       "    Instance is-eaten-by     eats\n",
       "0  Sophie-01      Leo-01  Leaf-01"
      ]
     },
     "execution_count": 16,
     "metadata": {},
     "output_type": "execute_result"
    }
   ],
   "source": [
    "onto.select_instances_of(\"eaten by Leo-01\")"
   ]
  },
  {
   "cell_type": "code",
   "execution_count": 17,
   "metadata": {},
   "outputs": [
    {
     "name": "stdout",
     "output_type": "stream",
     "text": [
      "{\"concluded\":\"Leo-01 is an animal.\",\"by\":[\r\n",
      "    {\"expr\":\"Every lion is an animal.\"},\r\n",
      "    {\"expr\":\"Leo-01 is a lion.\"}]}\r\n",
      "\r\n",
      "\n"
     ]
    }
   ],
   "source": [
    "print(onto.why(\"Leo-01 is an animal?\"))"
   ]
  },
  {
   "cell_type": "code",
   "execution_count": 18,
   "metadata": {},
   "outputs": [
    {
     "data": {
      "text/html": [
       "<div>\n",
       "<style scoped>\n",
       "    .dataframe tbody tr th:only-of-type {\n",
       "        vertical-align: middle;\n",
       "    }\n",
       "\n",
       "    .dataframe tbody tr th {\n",
       "        vertical-align: top;\n",
       "    }\n",
       "\n",
       "    .dataframe thead th {\n",
       "        text-align: right;\n",
       "    }\n",
       "</style>\n",
       "<table border=\"1\" class=\"dataframe\">\n",
       "  <thead>\n",
       "    <tr style=\"text-align: right;\">\n",
       "      <th></th>\n",
       "      <th>a1</th>\n",
       "      <th>a2</th>\n",
       "    </tr>\n",
       "  </thead>\n",
       "  <tbody>\n",
       "    <tr>\n",
       "      <th>0</th>\n",
       "      <td>Leo-01</td>\n",
       "      <td>Sophie-01</td>\n",
       "    </tr>\n",
       "  </tbody>\n",
       "</table>\n",
       "</div>"
      ],
      "text/plain": [
       "       a1         a2\n",
       "0  Leo-01  Sophie-01"
      ]
     },
     "execution_count": 18,
     "metadata": {},
     "output_type": "execute_result"
    }
   ],
   "source": [
    "onto.sparql_query(CQL(\"\"\"select ?a1 ?a2 {\n",
    "                            ?a1 rdf:type <animal>. \n",
    "                            ?a2 rdf:type <animal>. \n",
    "                            ?a1 <eats> ?a2. \n",
    "                        }\"\"\",\"http://cognitum.eu/african_wildlife#\"))"
   ]
  },
  {
   "cell_type": "code",
   "execution_count": 19,
   "metadata": {},
   "outputs": [
    {
     "name": "stdout",
     "output_type": "stream",
     "text": [
      "<?xml version = '1.0' encoding = 'UTF-8'?>\r\n",
      "<rdf:RDF xmlns=\"http://cognitum.eu/african_wildlife#\" xml:base=\"http://cognitum.eu/african_wildlife\" xmlns:owl=\"http://www.w3.org/2002/07/owl#\" xmlns:rdfs=\"http://www.w3.org/2000/01/rdf-schema#\" xmlns:rdf=\"http://www.w3.org/1999/02/22-rdf-syntax-ns#\" xmlns:xsd=\"http://www.w3.org/2001/XMLSchema#\">\r\n",
      "  <owl:Ontology rdf:about=\"http://cognitum.eu/african_wildlife#\" />\r\n",
      "  <!-- \r\n",
      "    ///////////////////////////////////////////////////////////////////////////////////////\r\n",
      "    //\r\n",
      "    // Object Properties\r\n",
      "    //\r\n",
      "    ///////////////////////////////////////////////////////////////////////////////////////\r\n",
      "     -->\r\n",
      "  <!-- http://cognitum.eu/african_wildlife#eats -->\r\n",
      "  <owl:ObjectProperty rdf:about=\"http://cognitum.eu/african_wildlife#eats\">\r\n",
      "    <owl:equivalentProperty>\r\n",
      "      <rdf:Description>\r\n",
      "        <owl:inverseOf rdf:resource=\"http://cognitum.eu/african_wildlife#isEatenBy\" />\r\n",
      "      </rdf:Description>\r\n",
      "    </owl:equivalentProperty>\r\n",
      "  </owl:ObjectProperty>\r\n",
      "  <!-- http://cognitum.eu/african_wildlife#has -->\r\n",
      "  <owl:ObjectProperty rdf:about=\"http://cognitum.eu/african_wildlife#has\" />\r\n",
      "  <!-- http://cognitum.eu/african_wildlife#hasPart -->\r\n",
      "  <owl:ObjectProperty rdf:about=\"http://cognitum.eu/african_wildlife#hasPart\">\r\n",
      "    <rdf:type rdf:resource=\"http://www.w3.org/2002/07/owl#TransitiveProperty\" />\r\n",
      "    <owl:equivalentProperty>\r\n",
      "      <rdf:Description>\r\n",
      "        <owl:inverseOf rdf:resource=\"http://cognitum.eu/african_wildlife#isPartOf\" />\r\n",
      "      </rdf:Description>\r\n",
      "    </owl:equivalentProperty>\r\n",
      "  </owl:ObjectProperty>\r\n",
      "  <!-- http://cognitum.eu/african_wildlife#isEatenBy -->\r\n",
      "  <owl:ObjectProperty rdf:about=\"http://cognitum.eu/african_wildlife#isEatenBy\" />\r\n",
      "  <!-- http://cognitum.eu/african_wildlife#isPartOf -->\r\n",
      "  <owl:ObjectProperty rdf:about=\"http://cognitum.eu/african_wildlife#isPartOf\">\r\n",
      "    <rdf:type rdf:resource=\"http://www.w3.org/2002/07/owl#TransitiveProperty\" />\r\n",
      "    <rdfs:subPropertyOf rdf:resource=\"http://cognitum.eu/african_wildlife#isPartOf\" />\r\n",
      "  </owl:ObjectProperty>\r\n",
      "  <!-- \r\n",
      "    ///////////////////////////////////////////////////////////////////////////////////////\r\n",
      "    //\r\n",
      "    // Classes\r\n",
      "    //\r\n",
      "    ///////////////////////////////////////////////////////////////////////////////////////\r\n",
      "     -->\r\n",
      "  <!-- http://cognitum.eu/african_wildlife#animal -->\r\n",
      "  <owl:Class rdf:about=\"http://cognitum.eu/african_wildlife#animal\">\r\n",
      "    <rdfs:subClassOf>\r\n",
      "      <owl:Restriction>\r\n",
      "        <owl:onProperty rdf:resource=\"http://cognitum.eu/african_wildlife#has\" />\r\n",
      "        <owl:someValuesFrom rdf:resource=\"http://cognitum.eu/african_wildlife#face\" />\r\n",
      "      </owl:Restriction>\r\n",
      "    </rdfs:subClassOf>\r\n",
      "  </owl:Class>\r\n",
      "  <!-- http://cognitum.eu/african_wildlife#apple -->\r\n",
      "  <owl:Class rdf:about=\"http://cognitum.eu/african_wildlife#apple\">\r\n",
      "    <rdfs:subClassOf rdf:resource=\"http://cognitum.eu/african_wildlife#fruitingBody\" />\r\n",
      "  </owl:Class>\r\n",
      "  <!-- http://cognitum.eu/african_wildlife#berry -->\r\n",
      "  <owl:Class rdf:about=\"http://cognitum.eu/african_wildlife#berry\">\r\n",
      "    <rdfs:subClassOf rdf:resource=\"http://cognitum.eu/african_wildlife#fruitingBody\" />\r\n",
      "  </owl:Class>\r\n",
      "  <!-- http://cognitum.eu/african_wildlife#branch -->\r\n",
      "  <owl:Class rdf:about=\"http://cognitum.eu/african_wildlife#branch\">\r\n",
      "    <rdfs:subClassOf rdf:resource=\"http://cognitum.eu/african_wildlife#plantPart\" />\r\n",
      "    <rdfs:subClassOf>\r\n",
      "      <owl:Restriction>\r\n",
      "        <owl:onProperty rdf:resource=\"http://cognitum.eu/african_wildlife#isPartOf\" />\r\n",
      "        <owl:someValuesFrom rdf:resource=\"http://cognitum.eu/african_wildlife#tree\" />\r\n",
      "      </owl:Restriction>\r\n",
      "    </rdfs:subClassOf>\r\n",
      "  </owl:Class>\r\n",
      "  <!-- http://cognitum.eu/african_wildlife#carnivor -->\r\n",
      "  <owl:Class rdf:about=\"http://cognitum.eu/african_wildlife#carnivor\">\r\n",
      "    <rdfs:subClassOf>\r\n",
      "      <owl:Restriction>\r\n",
      "        <owl:onProperty rdf:resource=\"http://cognitum.eu/african_wildlife#eats\" />\r\n",
      "        <owl:someValuesFrom rdf:resource=\"http://cognitum.eu/african_wildlife#animal\" />\r\n",
      "      </owl:Restriction>\r\n",
      "    </rdfs:subClassOf>\r\n",
      "  </owl:Class>\r\n",
      "  <!-- http://cognitum.eu/african_wildlife#carnivore -->\r\n",
      "  <owl:Class rdf:about=\"http://cognitum.eu/african_wildlife#carnivore\">\r\n",
      "    <rdfs:subClassOf rdf:resource=\"http://cognitum.eu/african_wildlife#animal\" />\r\n",
      "    <rdfs:subClassOf>\r\n",
      "      <owl:Restriction>\r\n",
      "        <owl:onProperty rdf:resource=\"http://cognitum.eu/african_wildlife#eats\" />\r\n",
      "        <owl:allValuesFrom rdf:resource=\"http://cognitum.eu/african_wildlife#animal\" />\r\n",
      "      </owl:Restriction>\r\n",
      "    </rdfs:subClassOf>\r\n",
      "  </owl:Class>\r\n",
      "  <!-- http://cognitum.eu/african_wildlife#carnivorousPlant -->\r\n",
      "  <owl:Class rdf:about=\"http://cognitum.eu/african_wildlife#carnivorousPlant\">\r\n",
      "    <rdfs:subClassOf rdf:resource=\"http://cognitum.eu/african_wildlife#plant\" />\r\n",
      "    <rdfs:subClassOf>\r\n",
      "      <owl:Restriction>\r\n",
      "        <owl:onProperty rdf:resource=\"http://cognitum.eu/african_wildlife#eats\" />\r\n",
      "        <owl:someValuesFrom rdf:resource=\"http://cognitum.eu/african_wildlife#animal\" />\r\n",
      "      </owl:Restriction>\r\n",
      "    </rdfs:subClassOf>\r\n",
      "  </owl:Class>\r\n",
      "  <!-- http://cognitum.eu/african_wildlife#elephant -->\r\n",
      "  <owl:Class rdf:about=\"http://cognitum.eu/african_wildlife#elephant\">\r\n",
      "    <rdfs:subClassOf rdf:resource=\"http://cognitum.eu/african_wildlife#herbivore\" />\r\n",
      "  </owl:Class>\r\n",
      "  <!-- http://cognitum.eu/african_wildlife#face -->\r\n",
      "  <owl:Class rdf:about=\"http://cognitum.eu/african_wildlife#face\" />\r\n",
      "  <!-- http://cognitum.eu/african_wildlife#fruitingBody -->\r\n",
      "  <owl:Class rdf:about=\"http://cognitum.eu/african_wildlife#fruitingBody\">\r\n",
      "    <rdfs:subClassOf rdf:resource=\"http://cognitum.eu/african_wildlife#plantPart\" />\r\n",
      "  </owl:Class>\r\n",
      "  <!-- http://cognitum.eu/african_wildlife#giraffe -->\r\n",
      "  <owl:Class rdf:about=\"http://cognitum.eu/african_wildlife#giraffe\">\r\n",
      "    <rdfs:subClassOf rdf:resource=\"http://cognitum.eu/african_wildlife#animal\" />\r\n",
      "    <rdfs:subClassOf>\r\n",
      "      <owl:Class>\r\n",
      "        <owl:complementOf rdf:resource=\"http://cognitum.eu/african_wildlife#lion\" />\r\n",
      "      </owl:Class>\r\n",
      "    </rdfs:subClassOf>\r\n",
      "  </owl:Class>\r\n",
      "  <!-- http://cognitum.eu/african_wildlife#grass -->\r\n",
      "  <owl:Class rdf:about=\"http://cognitum.eu/african_wildlife#grass\">\r\n",
      "    <rdfs:subClassOf rdf:resource=\"http://cognitum.eu/african_wildlife#plant\" />\r\n",
      "  </owl:Class>\r\n",
      "  <!-- http://cognitum.eu/african_wildlife#herb -->\r\n",
      "  <owl:Class rdf:about=\"http://cognitum.eu/african_wildlife#herb\">\r\n",
      "    <rdfs:subClassOf>\r\n",
      "      <owl:Class>\r\n",
      "        <owl:complementOf rdf:resource=\"http://cognitum.eu/african_wildlife#animal\" />\r\n",
      "      </owl:Class>\r\n",
      "    </rdfs:subClassOf>\r\n",
      "  </owl:Class>\r\n",
      "  <!-- http://cognitum.eu/african_wildlife#herbivore -->\r\n",
      "  <owl:Class rdf:about=\"http://cognitum.eu/african_wildlife#herbivore\">\r\n",
      "    <rdfs:subClassOf rdf:resource=\"http://cognitum.eu/african_wildlife#animal\" />\r\n",
      "    <rdfs:subClassOf>\r\n",
      "      <owl:Restriction>\r\n",
      "        <owl:onProperty rdf:resource=\"http://cognitum.eu/african_wildlife#eats\" />\r\n",
      "        <owl:allValuesFrom rdf:resource=\"http://cognitum.eu/african_wildlife#herb\" />\r\n",
      "      </owl:Restriction>\r\n",
      "    </rdfs:subClassOf>\r\n",
      "  </owl:Class>\r\n",
      "  <!-- http://cognitum.eu/african_wildlife#impala -->\r\n",
      "  <owl:Class rdf:about=\"http://cognitum.eu/african_wildlife#impala\">\r\n",
      "    <rdfs:subClassOf rdf:resource=\"http://cognitum.eu/african_wildlife#animal\" />\r\n",
      "  </owl:Class>\r\n",
      "  <!-- http://cognitum.eu/african_wildlife#leaf -->\r\n",
      "  <owl:Class rdf:about=\"http://cognitum.eu/african_wildlife#leaf\">\r\n",
      "    <rdfs:subClassOf rdf:resource=\"http://cognitum.eu/african_wildlife#plantPart\" />\r\n",
      "  </owl:Class>\r\n",
      "  <!-- http://cognitum.eu/african_wildlife#lion -->\r\n",
      "  <owl:Class rdf:about=\"http://cognitum.eu/african_wildlife#lion\">\r\n",
      "    <rdfs:subClassOf rdf:resource=\"http://cognitum.eu/african_wildlife#animal\" />\r\n",
      "    <rdfs:subClassOf rdf:resource=\"http://cognitum.eu/african_wildlife#carnivore\" />\r\n",
      "    <rdfs:subClassOf>\r\n",
      "      <owl:Restriction>\r\n",
      "        <owl:onProperty rdf:resource=\"http://cognitum.eu/african_wildlife#eats\" />\r\n",
      "        <owl:allValuesFrom rdf:resource=\"http://cognitum.eu/african_wildlife#herbivore\" />\r\n",
      "      </owl:Restriction>\r\n",
      "    </rdfs:subClassOf>\r\n",
      "  </owl:Class>\r\n",
      "  <!-- http://cognitum.eu/african_wildlife#man -->\r\n",
      "  <owl:Class rdf:about=\"http://cognitum.eu/african_wildlife#man\">\r\n",
      "    <rdfs:subClassOf>\r\n",
      "      <owl:Restriction>\r\n",
      "        <owl:onProperty rdf:resource=\"http://cognitum.eu/african_wildlife#has\" />\r\n",
      "        <owl:someValuesFrom rdf:resource=\"http://cognitum.eu/african_wildlife#train\" />\r\n",
      "      </owl:Restriction>\r\n",
      "    </rdfs:subClassOf>\r\n",
      "  </owl:Class>\r\n",
      "  <!-- http://cognitum.eu/african_wildlife#omnivore -->\r\n",
      "  <owl:Class rdf:about=\"http://cognitum.eu/african_wildlife#omnivore\">\r\n",
      "    <rdfs:subClassOf rdf:resource=\"http://cognitum.eu/african_wildlife#animal\" />\r\n",
      "    <rdfs:subClassOf>\r\n",
      "      <owl:Restriction>\r\n",
      "        <owl:onProperty rdf:resource=\"http://cognitum.eu/african_wildlife#eats\" />\r\n",
      "        <owl:someValuesFrom rdf:resource=\"http://cognitum.eu/african_wildlife#plant\" />\r\n",
      "      </owl:Restriction>\r\n",
      "    </rdfs:subClassOf>\r\n",
      "  </owl:Class>\r\n",
      "  <!-- http://cognitum.eu/african_wildlife#palmTree -->\r\n",
      "  <owl:Class rdf:about=\"http://cognitum.eu/african_wildlife#palmTree\">\r\n",
      "    <rdfs:subClassOf rdf:resource=\"http://cognitum.eu/african_wildlife#plant\" />\r\n",
      "    <rdfs:subClassOf>\r\n",
      "      <owl:Class>\r\n",
      "        <owl:complementOf rdf:resource=\"http://cognitum.eu/african_wildlife#tree\" />\r\n",
      "      </owl:Class>\r\n",
      "    </rdfs:subClassOf>\r\n",
      "  </owl:Class>\r\n",
      "  <!-- http://cognitum.eu/african_wildlife#parsnip -->\r\n",
      "  <owl:Class rdf:about=\"http://cognitum.eu/african_wildlife#parsnip\">\r\n",
      "    <rdfs:subClassOf rdf:resource=\"http://cognitum.eu/african_wildlife#root\" />\r\n",
      "  </owl:Class>\r\n",
      "  <!-- http://cognitum.eu/african_wildlife#phloem -->\r\n",
      "  <owl:Class rdf:about=\"http://cognitum.eu/african_wildlife#phloem\">\r\n",
      "    <rdfs:subClassOf rdf:resource=\"http://cognitum.eu/african_wildlife#plantPart\" />\r\n",
      "  </owl:Class>\r\n",
      "  <!-- http://cognitum.eu/african_wildlife#plant -->\r\n",
      "  <owl:Class rdf:about=\"http://cognitum.eu/african_wildlife#plant\" />\r\n",
      "  <!-- http://cognitum.eu/african_wildlife#plantPart -->\r\n",
      "  <owl:Class rdf:about=\"http://cognitum.eu/african_wildlife#plantPart\">\r\n",
      "    <rdfs:subClassOf>\r\n",
      "      <owl:Restriction>\r\n",
      "        <owl:onProperty rdf:resource=\"http://cognitum.eu/african_wildlife#isPartOf\" />\r\n",
      "        <owl:someValuesFrom rdf:resource=\"http://cognitum.eu/african_wildlife#plant\" />\r\n",
      "      </owl:Restriction>\r\n",
      "    </rdfs:subClassOf>\r\n",
      "  </owl:Class>\r\n",
      "  <!-- http://cognitum.eu/african_wildlife#rockDassie -->\r\n",
      "  <owl:Class rdf:about=\"http://cognitum.eu/african_wildlife#rockDassie\">\r\n",
      "    <rdfs:subClassOf rdf:resource=\"http://cognitum.eu/african_wildlife#animal\" />\r\n",
      "  </owl:Class>\r\n",
      "  <!-- http://cognitum.eu/african_wildlife#root -->\r\n",
      "  <owl:Class rdf:about=\"http://cognitum.eu/african_wildlife#root\">\r\n",
      "    <rdfs:subClassOf rdf:resource=\"http://cognitum.eu/african_wildlife#plantPart\" />\r\n",
      "  </owl:Class>\r\n",
      "  <!-- http://cognitum.eu/african_wildlife#stem -->\r\n",
      "  <owl:Class rdf:about=\"http://cognitum.eu/african_wildlife#stem\">\r\n",
      "    <rdfs:subClassOf rdf:resource=\"http://cognitum.eu/african_wildlife#plantPart\" />\r\n",
      "  </owl:Class>\r\n",
      "  <!-- http://cognitum.eu/african_wildlife#tastyPlant -->\r\n",
      "  <owl:Class rdf:about=\"http://cognitum.eu/african_wildlife#tastyPlant\">\r\n",
      "    <rdfs:subClassOf rdf:resource=\"http://cognitum.eu/african_wildlife#plant\" />\r\n",
      "  </owl:Class>\r\n",
      "  <!-- http://cognitum.eu/african_wildlife#train -->\r\n",
      "  <owl:Class rdf:about=\"http://cognitum.eu/african_wildlife#train\" />\r\n",
      "  <!-- http://cognitum.eu/african_wildlife#tree -->\r\n",
      "  <owl:Class rdf:about=\"http://cognitum.eu/african_wildlife#tree\">\r\n",
      "    <rdfs:subClassOf rdf:resource=\"http://cognitum.eu/african_wildlife#plant\" />\r\n",
      "  </owl:Class>\r\n",
      "  <!-- http://cognitum.eu/african_wildlife#twig -->\r\n",
      "  <owl:Class rdf:about=\"http://cognitum.eu/african_wildlife#twig\">\r\n",
      "    <rdfs:subClassOf rdf:resource=\"http://cognitum.eu/african_wildlife#plantPart\" />\r\n",
      "  </owl:Class>\r\n",
      "  <!-- http://cognitum.eu/african_wildlife#warthog -->\r\n",
      "  <owl:Class rdf:about=\"http://cognitum.eu/african_wildlife#warthog\">\r\n",
      "    <rdfs:subClassOf rdf:resource=\"http://cognitum.eu/african_wildlife#animal\" />\r\n",
      "  </owl:Class>\r\n",
      "  <!-- http://cognitum.eu/african_wildlife#xylem -->\r\n",
      "  <owl:Class rdf:about=\"http://cognitum.eu/african_wildlife#xylem\">\r\n",
      "    <rdfs:subClassOf rdf:resource=\"http://cognitum.eu/african_wildlife#plantPart\" />\r\n",
      "  </owl:Class>\r\n",
      "  <!-- \r\n",
      "    ///////////////////////////////////////////////////////////////////////////////////////\r\n",
      "    //\r\n",
      "    // Individuals\r\n",
      "    //\r\n",
      "    ///////////////////////////////////////////////////////////////////////////////////////\r\n",
      "     -->\r\n",
      "  <!-- http://cognitum.eu/african_wildlife#Branch01 -->\r\n",
      "  <owl:NamedIndividual rdf:about=\"http://cognitum.eu/african_wildlife#Branch01\">\r\n",
      "    <rdf:type rdf:resource=\"http://cognitum.eu/african_wildlife#branch\" />\r\n",
      "    <isPartOf rdf:resource=\"http://cognitum.eu/african_wildlife#Mary01\" />\r\n",
      "  </owl:NamedIndividual>\r\n",
      "  <!-- http://cognitum.eu/african_wildlife#Branch02 -->\r\n",
      "  <owl:NamedIndividual rdf:about=\"http://cognitum.eu/african_wildlife#Branch02\">\r\n",
      "    <rdf:type rdf:resource=\"http://cognitum.eu/african_wildlife#branch\" />\r\n",
      "    <isPartOf rdf:resource=\"http://cognitum.eu/african_wildlife#Branch01\" />\r\n",
      "  </owl:NamedIndividual>\r\n",
      "  <!-- http://cognitum.eu/african_wildlife#Branch03 -->\r\n",
      "  <owl:NamedIndividual rdf:about=\"http://cognitum.eu/african_wildlife#Branch03\">\r\n",
      "    <rdf:type rdf:resource=\"http://cognitum.eu/african_wildlife#branch\" />\r\n",
      "  </owl:NamedIndividual>\r\n",
      "  <!-- http://cognitum.eu/african_wildlife#Leaf01 -->\r\n",
      "  <owl:NamedIndividual rdf:about=\"http://cognitum.eu/african_wildlife#Leaf01\">\r\n",
      "    <rdf:type rdf:resource=\"http://cognitum.eu/african_wildlife#leaf\" />\r\n",
      "    <isPartOf rdf:resource=\"http://cognitum.eu/african_wildlife#Branch02\" />\r\n",
      "  </owl:NamedIndividual>\r\n",
      "  <!-- http://cognitum.eu/african_wildlife#Leo01 -->\r\n",
      "  <owl:NamedIndividual rdf:about=\"http://cognitum.eu/african_wildlife#Leo01\">\r\n",
      "    <rdf:type rdf:resource=\"http://cognitum.eu/african_wildlife#lion\" />\r\n",
      "    <eats rdf:resource=\"http://cognitum.eu/african_wildlife#Sophie01\" />\r\n",
      "  </owl:NamedIndividual>\r\n",
      "  <!-- http://cognitum.eu/african_wildlife#Mary01 -->\r\n",
      "  <owl:NamedIndividual rdf:about=\"http://cognitum.eu/african_wildlife#Mary01\">\r\n",
      "    <rdf:type rdf:resource=\"http://cognitum.eu/african_wildlife#tree\" />\r\n",
      "  </owl:NamedIndividual>\r\n",
      "  <!-- http://cognitum.eu/african_wildlife#Sophie01 -->\r\n",
      "  <owl:NamedIndividual rdf:about=\"http://cognitum.eu/african_wildlife#Sophie01\">\r\n",
      "    <rdf:type rdf:resource=\"http://cognitum.eu/african_wildlife#giraffe\" />\r\n",
      "    <eats rdf:resource=\"http://cognitum.eu/african_wildlife#Leaf01\" />\r\n",
      "  </owl:NamedIndividual>\r\n",
      "  <!-- \r\n",
      "    ///////////////////////////////////////////////////////////////////////////////////////\r\n",
      "    //\r\n",
      "    // General axioms\r\n",
      "    //\r\n",
      "    ///////////////////////////////////////////////////////////////////////////////////////\r\n",
      "     -->\r\n",
      "  <owl:Class>\r\n",
      "    <rdfs:subClassOf rdf:resource=\"http://cognitum.eu/african_wildlife#herb\" />\r\n",
      "    <owl:unionOf rdf:parseType=\"Collection\">\r\n",
      "      <rdf:Description rdf:about=\"http://cognitum.eu/african_wildlife#plant\" />\r\n",
      "      <rdf:Description rdf:about=\"http://cognitum.eu/african_wildlife#plantPart\" />\r\n",
      "    </owl:unionOf>\r\n",
      "  </owl:Class>\r\n",
      "  <rdf:Description>\r\n",
      "    <rdf:type rdf:resource=\"http://www.w3.org/2002/07/owl#AllDisjointClasses\" />\r\n",
      "    <owl:members rdf:parseType=\"Collection\">\r\n",
      "      <rdf:Description rdf:about=\"http://cognitum.eu/african_wildlife#carnivore\" />\r\n",
      "      <rdf:Description rdf:about=\"http://cognitum.eu/african_wildlife#herbivore\" />\r\n",
      "      <rdf:Description rdf:about=\"http://cognitum.eu/african_wildlife#omnivore\" />\r\n",
      "    </owl:members>\r\n",
      "  </rdf:Description>\r\n",
      "  <rdf:Description>\r\n",
      "    <rdf:type rdf:resource=\"http://www.w3.org/2002/07/owl#AllDisjointClasses\" />\r\n",
      "    <owl:members rdf:parseType=\"Collection\">\r\n",
      "      <rdf:Description rdf:about=\"http://cognitum.eu/african_wildlife#branch\" />\r\n",
      "      <rdf:Description rdf:about=\"http://cognitum.eu/african_wildlife#leaf\" />\r\n",
      "      <rdf:Description rdf:about=\"http://cognitum.eu/african_wildlife#twig\" />\r\n",
      "    </owl:members>\r\n",
      "  </rdf:Description>\r\n",
      "</rdf:RDF>\r\n",
      "<!-- Generated by the OWL API (version 3.5.1.c) http://owlapi.sourceforge.net -->\n"
     ]
    }
   ],
   "source": [
    "print(onto.as_rdf())"
   ]
  },
  {
   "cell_type": "code",
   "execution_count": null,
   "metadata": {},
   "outputs": [],
   "source": []
  }
 ],
 "metadata": {
  "kernelspec": {
   "display_name": "Python 3",
   "language": "python",
   "name": "python3"
  },
  "language_info": {
   "codemirror_mode": {
    "name": "ipython",
    "version": 3
   },
   "file_extension": ".py",
   "mimetype": "text/x-python",
   "name": "python",
   "nbconvert_exporter": "python",
   "pygments_lexer": "ipython3",
   "version": "3.7.4"
  },
  "widgets": {
   "application/vnd.jupyter.widget-state+json": {
    "state": {
     "01732923acd64d0b80804b86a06086a6": {
      "model_module": "@jupyter-widgets/controls",
      "model_module_version": "1.4.0",
      "model_name": "VBoxModel",
      "state": {
       "children": [
        "IPY_MODEL_5143fe6b6b2e4bdbb95db4836c07f69f",
        "IPY_MODEL_c7c7716cd5034ec7a3235e29964fa9d9"
       ],
       "layout": "IPY_MODEL_48a844c1f16d4e0f89888a38f9f871b1"
      }
     },
     "0287b64412d1476fac61df9b498195e0": {
      "model_module": "@jupyter-widgets/base",
      "model_module_version": "1.1.0",
      "model_name": "LayoutModel",
      "state": {}
     },
     "037f1754f4dd4ad58c88763c16de89de": {
      "model_module": "@jupyter-widgets/base",
      "model_module_version": "1.1.0",
      "model_name": "LayoutModel",
      "state": {
       "height": "100%",
       "width": "90%"
      }
     },
     "03b3c5826e9e462fa8102da3a1b543ee": {
      "model_module": "@jupyter-widgets/controls",
      "model_module_version": "1.4.0",
      "model_name": "VBoxModel",
      "state": {
       "children": [
        "IPY_MODEL_0e81ba53de50448cba0d67cc1b204ea3",
        "IPY_MODEL_edfd7c1406474ef8b6008fa01533a9f1"
       ],
       "layout": "IPY_MODEL_0c03d2ee143c402dbf620710558f3c20"
      }
     },
     "0529b65148e34a3f84378822394dbb23": {
      "model_module": "@jupyter-widgets/output",
      "model_module_version": "1.0.0",
      "model_name": "OutputModel",
      "state": {
       "layout": "IPY_MODEL_e87806312d1343ce83bb2bb743ba1b80"
      }
     },
     "075ca95d3ff64fdf8542061a5f907fdc": {
      "model_module": "ontoedit",
      "model_module_version": "1.1.0",
      "model_name": "OntoeditModel",
      "state": {
       "_model_module_version": "1.1.0",
       "_view_module_version": "",
       "layout": "IPY_MODEL_ac2b910f6f714657b031543b3c3820f6",
       "value": "Namespace: 'http://cognitum.eu/african_wildlife'.\n\nComment: 'Lets name our instances'.\nComment: 'Lets specify the hierarchy of beings'. \nComment: 'What is what?'.\nEvery ma\nEvery lion is an animal.\nEvery giraffe is an animal.\n\nComment: 'Moreover'.\nEvery impala is an animal.\nEvery omnivore is an animal. \nEvery rock-dassie is an animal.\nEvery warthog is an animal.\nEvery carnivore is an animal.\nEvery herbivore is an animal.\nEvery elephant is a herbivore.\nEvery lion is carnivore.\n\nComment: 'There are also plants there:'.\nEvery tree is a plant.\nEvery grass is a plant.\nEvery palm-tree is a plant.\n\nEvery branch is a plant-part.\nEvery leaf is a plant-part.\nEvery twig is a plant-part.\n\nEvery phloem is a plant-part.\nEvery root is a plant-part.\nEvery parsnip is a root.\nEvery stem is a plant-part.\nEvery xylem is a plant-part.\nEvery fruiting-body is a plant-part.\nEvery berry is a fruiting-body.\nEvery apple is a fruiting-body.\n\nComment: 'We cannot use adjectives directly. To specify adjectives we need to transform them into sets that have form of buzzy-words'.\nEvery tasty-plant is a plant.\nEvery carnivorous-plant is a plant.\n"
      }
     },
     "08826d1d1e2d4efa9364b5d2bafa3c93": {
      "model_module": "@jupyter-widgets/base",
      "model_module_version": "1.1.0",
      "model_name": "LayoutModel",
      "state": {
       "height": "300px"
      }
     },
     "08a658b923de47b7add2517b8353da1a": {
      "model_module": "@jupyter-widgets/base",
      "model_module_version": "1.1.0",
      "model_name": "LayoutModel",
      "state": {}
     },
     "08c30bf83c284e6ebe21cc3249cd99ba": {
      "model_module": "ontoedit",
      "model_module_version": "1.1.0",
      "model_name": "OntoeditModel",
      "state": {
       "_model_module_version": "1.1.0",
       "_view_module_version": "",
       "cursor": 191,
       "hints": "Every<br/>Every-single-thing<br/>If<br/>Leo-01<br/>Mary-01<br/>No<br/>Nothing<br/>Something<br/>Sophie-01<br/>The<br/>X",
       "hintsX": 191,
       "layout": "IPY_MODEL_951c1fa30fea488a8ae1578cede4b5fe",
       "value": "Every carnivorous-plant must eat an animal.\nEvery carnivor must eat an animal.\nEvery omnivore must eat a plant.\nEvery branch must be-part-of a tree.\nEvery plant-part must be-part-of a plant.\n\nComment: 'Role equivalence and inverted roles'.\nX has-part Y if-and-only-if Y is-part-of X.\nX eats Y if-and-only-if Y is-eaten-by X.\n\nComment: 'Role subsumptions'.\nIf X is-part-of Y then X is-part-of Y.\nIf X has-part something that has-part Y then X has-part Y.\n\nComment: 'Complex role subsumptions'.\nIf X is-part-of something that is-part-of Y then X is-part-of Y.\n"
      }
     },
     "0c03d2ee143c402dbf620710558f3c20": {
      "model_module": "@jupyter-widgets/base",
      "model_module_version": "1.1.0",
      "model_name": "LayoutModel",
      "state": {
       "height": "100px"
      }
     },
     "0cfbf011af6241ebbcc675d701aac5be": {
      "model_module": "@jupyter-widgets/controls",
      "model_module_version": "1.4.0",
      "model_name": "VBoxModel",
      "state": {
       "children": [
        "IPY_MODEL_99075eefb8ad4a5087de5fbfbb2e2a8c",
        "IPY_MODEL_26cf7a97df4f42b6af33ce787196e2da"
       ],
       "layout": "IPY_MODEL_4aafc9319e7743f8985cdc669f22cab5"
      }
     },
     "0d966987252949d4be7543c6fca54e91": {
      "model_module": "@jupyter-widgets/controls",
      "model_module_version": "1.4.0",
      "model_name": "VBoxModel",
      "state": {
       "children": [
        "IPY_MODEL_539ad52a012443da82f8fc51ab2f4b6c",
        "IPY_MODEL_a76345918cde4dd4ad4ca081281b94e6"
       ],
       "layout": "IPY_MODEL_5e407b23bfdc4c77a35bf3e583c0e0e6"
      }
     },
     "0e81ba53de50448cba0d67cc1b204ea3": {
      "model_module": "ontoedit",
      "model_module_version": "1.1.0",
      "model_name": "OntoeditModel",
      "state": {
       "_model_module_version": "1.1.0",
       "_view_module_version": "",
       "layout": "IPY_MODEL_a270637c9421471a86a1a5fb0c90358f",
       "value": "eaten by Leo-01"
      }
     },
     "0ee45e2151a74dfeb632f8622dfa620d": {
      "model_module": "@jupyter-widgets/base",
      "model_module_version": "1.1.0",
      "model_name": "LayoutModel",
      "state": {
       "height": "100%",
       "width": "90%"
      }
     },
     "0ee4e8ad62ab43f4b5b438a66a7f42b5": {
      "model_module": "@jupyter-widgets/base",
      "model_module_version": "1.1.0",
      "model_name": "LayoutModel",
      "state": {
       "height": "300px"
      }
     },
     "14a3707b104b4e2eb1eb5423c506f3e0": {
      "model_module": "@jupyter-widgets/output",
      "model_module_version": "1.0.0",
      "model_name": "OutputModel",
      "state": {
       "layout": "IPY_MODEL_39395d43deb54c8e91415baf9aca56b2"
      }
     },
     "156d68322d1e4dd3a0fbfab1be1688bf": {
      "model_module": "@jupyter-widgets/output",
      "model_module_version": "1.0.0",
      "model_name": "OutputModel",
      "state": {
       "layout": "IPY_MODEL_585c9fe15e494126a1116a5e5f8e87e4"
      }
     },
     "1786ad24fa9d463aa9ad86dcacd6b971": {
      "model_module": "@jupyter-widgets/base",
      "model_module_version": "1.1.0",
      "model_name": "LayoutModel",
      "state": {}
     },
     "17f3ad9162db4104a65795f20d5f0075": {
      "model_module": "@jupyter-widgets/base",
      "model_module_version": "1.1.0",
      "model_name": "LayoutModel",
      "state": {
       "height": "100%",
       "width": "90%"
      }
     },
     "194e683e49954beab66c82f87eec0560": {
      "model_module": "ontoedit",
      "model_module_version": "1.1.0",
      "model_name": "OntoeditModel",
      "state": {
       "_model_module_version": "1.1.0",
       "_view_module_version": "",
       "cursor": 15,
       "hints": "&lt;natural number&gt;",
       "hintsX": 9,
       "layout": "IPY_MODEL_54500e1db47043b29c2725eaf17f81f6",
       "value": "eaten by Leo-01"
      }
     },
     "197ff87aa0754c10a5bf9d6054ec2664": {
      "model_module": "@jupyter-widgets/controls",
      "model_module_version": "1.4.0",
      "model_name": "VBoxModel",
      "state": {
       "children": [
        "IPY_MODEL_416b7202da814b9095cb90fed53606c3",
        "IPY_MODEL_dd75b77ca52a43a9868c62b289a4e4e1"
       ],
       "layout": "IPY_MODEL_c7fe458b7f814978a92e90b0b53c295c"
      }
     },
     "1a817713ce83451c8259b7b8600da6fb": {
      "model_module": "@jupyter-widgets/base",
      "model_module_version": "1.1.0",
      "model_name": "LayoutModel",
      "state": {
       "height": "100%",
       "width": "90%"
      }
     },
     "1d27dea574734e228e02e981579f0e48": {
      "model_module": "ontoedit",
      "model_module_version": "1.1.0",
      "model_name": "OntoeditModel",
      "state": {
       "_model_module_version": "1.1.0",
       "_view_module_version": "",
       "layout": "IPY_MODEL_037f1754f4dd4ad58c88763c16de89de",
       "value": "Sophie loves Leo.\nLeo loves Sophie."
      }
     },
     "22275249b4964692bbda1b6c7faf7f47": {
      "model_module": "@jupyter-widgets/controls",
      "model_module_version": "1.4.0",
      "model_name": "VBoxModel",
      "state": {
       "children": [
        "IPY_MODEL_670789803c044d699064f4d8d85c169a",
        "IPY_MODEL_b3aca64dc8c740feae0ac17d0679814c"
       ],
       "layout": "IPY_MODEL_9b0f9a23e3574472b084a63a42c18088"
      }
     },
     "2401f4a10a284f68920b1eb13a0ef3f1": {
      "model_module": "@jupyter-widgets/output",
      "model_module_version": "1.0.0",
      "model_name": "OutputModel",
      "state": {
       "layout": "IPY_MODEL_d810833472c54ff1a38f821261445bdb"
      }
     },
     "260916fd573c4e118c8d6fdeed6c1d4d": {
      "model_module": "@jupyter-widgets/base",
      "model_module_version": "1.1.0",
      "model_name": "LayoutModel",
      "state": {
       "height": "300px"
      }
     },
     "26cf7a97df4f42b6af33ce787196e2da": {
      "model_module": "@jupyter-widgets/output",
      "model_module_version": "1.0.0",
      "model_name": "OutputModel",
      "state": {
       "layout": "IPY_MODEL_c370339aafb24857915cb2b2d2ab7980"
      }
     },
     "27ad5c8d383e457a9920d5cb29f64853": {
      "model_module": "@jupyter-widgets/output",
      "model_module_version": "1.0.0",
      "model_name": "OutputModel",
      "state": {
       "layout": "IPY_MODEL_df59fa382ea5464699bf03b221ac05e1"
      }
     },
     "27cf37417f84476da68ac933a85143a5": {
      "model_module": "ontoedit",
      "model_module_version": "1.1.0",
      "model_name": "OntoeditModel",
      "state": {
       "_model_module_version": "1.1.0",
       "_view_module_version": "",
       "layout": "IPY_MODEL_6834615b88754ba992949979ad4896da",
       "value": "eaten by Leo-01"
      }
     },
     "282ed86a1e9f475ab92778daa6256ae2": {
      "model_module": "@jupyter-widgets/base",
      "model_module_version": "1.1.0",
      "model_name": "LayoutModel",
      "state": {
       "height": "300px"
      }
     },
     "2a02773588a34d31a60ab56ea873ef24": {
      "model_module": "@jupyter-widgets/base",
      "model_module_version": "1.1.0",
      "model_name": "LayoutModel",
      "state": {
       "height": "100%",
       "width": "90%"
      }
     },
     "2a57077dcfc6408f910fcdd1069fb533": {
      "model_module": "@jupyter-widgets/base",
      "model_module_version": "1.1.0",
      "model_name": "LayoutModel",
      "state": {
       "height": "100px"
      }
     },
     "2b1178c8982c4d7f8bd00f05c2a0ab9f": {
      "model_module": "@jupyter-widgets/base",
      "model_module_version": "1.1.0",
      "model_name": "LayoutModel",
      "state": {
       "height": "100%",
       "width": "90%"
      }
     },
     "2ee595c943434b3288bd80d13a391707": {
      "model_module": "@jupyter-widgets/output",
      "model_module_version": "1.0.0",
      "model_name": "OutputModel",
      "state": {
       "layout": "IPY_MODEL_6b665fd9cf6b45d0ade1db84533996f4"
      }
     },
     "30b370db0cbd4590a28eeacadd095188": {
      "model_module": "@jupyter-widgets/controls",
      "model_module_version": "1.4.0",
      "model_name": "VBoxModel",
      "state": {
       "children": [
        "IPY_MODEL_540624d791b04c72a5f6de35ef203a09",
        "IPY_MODEL_5b7a7dc340b8488b8d7616e1a0e4e954"
       ],
       "layout": "IPY_MODEL_6b3a1654ff064f0aaf274b3478288a8f"
      }
     },
     "31026f2d97cf487b9752010b7a2245d8": {
      "model_module": "@jupyter-widgets/base",
      "model_module_version": "1.1.0",
      "model_name": "LayoutModel",
      "state": {
       "height": "300px"
      }
     },
     "31401dde148b42c6b6dee0ee84db65b2": {
      "model_module": "@jupyter-widgets/base",
      "model_module_version": "1.1.0",
      "model_name": "LayoutModel",
      "state": {
       "height": "100%",
       "width": "90%"
      }
     },
     "31f03381b8af43c8b7b31448e2494891": {
      "model_module": "@jupyter-widgets/controls",
      "model_module_version": "1.4.0",
      "model_name": "VBoxModel",
      "state": {
       "children": [
        "IPY_MODEL_830d5ee0e72742cbb9c50e698f8db857",
        "IPY_MODEL_87dbf123720c4818bdda118bfdbb7cda"
       ],
       "layout": "IPY_MODEL_798ac8c8baa148b68188dc60d84de5fe"
      }
     },
     "32c35855b62a47c19571fb460d5624ca": {
      "model_module": "@jupyter-widgets/output",
      "model_module_version": "1.0.0",
      "model_name": "OutputModel",
      "state": {
       "layout": "IPY_MODEL_c2922a5ec6e44f0fa89f7993482f603c"
      }
     },
     "341331d0bde34d979b78eac118690943": {
      "model_module": "@jupyter-widgets/base",
      "model_module_version": "1.1.0",
      "model_name": "LayoutModel",
      "state": {
       "height": "100%",
       "width": "90%"
      }
     },
     "34a127ddc9f3425d855562e734e8582e": {
      "model_module": "@jupyter-widgets/base",
      "model_module_version": "1.1.0",
      "model_name": "LayoutModel",
      "state": {
       "height": "100%",
       "width": "90%"
      }
     },
     "355b5ed96daf48f38e261d20f99eb26b": {
      "model_module": "@jupyter-widgets/controls",
      "model_module_version": "1.4.0",
      "model_name": "VBoxModel",
      "state": {
       "children": [
        "IPY_MODEL_8b7f1503cd5d4af7bedb96db2bc9826b",
        "IPY_MODEL_3d934eb24f9b4005b831504a0e4baa3e"
       ],
       "layout": "IPY_MODEL_0ee4e8ad62ab43f4b5b438a66a7f42b5"
      }
     },
     "379b403b772848b184590efb077753db": {
      "model_module": "@jupyter-widgets/base",
      "model_module_version": "1.1.0",
      "model_name": "LayoutModel",
      "state": {}
     },
     "38238e85b5bb4623a8ef8b3af0729a67": {
      "model_module": "@jupyter-widgets/base",
      "model_module_version": "1.1.0",
      "model_name": "LayoutModel",
      "state": {}
     },
     "39395d43deb54c8e91415baf9aca56b2": {
      "model_module": "@jupyter-widgets/base",
      "model_module_version": "1.1.0",
      "model_name": "LayoutModel",
      "state": {}
     },
     "3b1a40f830074716a6e231843f57b70b": {
      "model_module": "@jupyter-widgets/controls",
      "model_module_version": "1.4.0",
      "model_name": "VBoxModel",
      "state": {
       "children": [
        "IPY_MODEL_913a7e5abd4b49129540cff6ec10a497",
        "IPY_MODEL_c1cc842e2c754beaaa916279adfd386c",
        "IPY_MODEL_7f5f02928259415f96e74be67775d5c4"
       ],
       "layout": "IPY_MODEL_a6c9444b34984cd982b748b663e0080e"
      }
     },
     "3d934eb24f9b4005b831504a0e4baa3e": {
      "model_module": "@jupyter-widgets/output",
      "model_module_version": "1.0.0",
      "model_name": "OutputModel",
      "state": {
       "layout": "IPY_MODEL_f2dac51fb55347f2bf9f5f781b9e4558"
      }
     },
     "3e2147d0702741bbb1963715683ba2ff": {
      "model_module": "@jupyter-widgets/output",
      "model_module_version": "1.0.0",
      "model_name": "OutputModel",
      "state": {
       "layout": "IPY_MODEL_55f4f87242224575b52e41afa40e5e2d"
      }
     },
     "4039c44a6b81427881c64dbe368c3771": {
      "model_module": "@jupyter-widgets/controls",
      "model_module_version": "1.4.0",
      "model_name": "VBoxModel",
      "state": {
       "children": [
        "IPY_MODEL_7ffcc5da836a4772ad6190ded79997f7",
        "IPY_MODEL_156d68322d1e4dd3a0fbfab1be1688bf"
       ],
       "layout": "IPY_MODEL_282ed86a1e9f475ab92778daa6256ae2"
      }
     },
     "416b7202da814b9095cb90fed53606c3": {
      "model_module": "ontoedit",
      "model_module_version": "1.1.0",
      "model_name": "OntoeditModel",
      "state": {
       "_model_module_version": "1.1.0",
       "_view_module_version": "",
       "layout": "IPY_MODEL_bfdcdc39eeb04946a97cd9562372bc04",
       "value": "Sophie loves Leo.\nLeo loves Sophie."
      }
     },
     "42805aa70f7945db96a25007c189bac0": {
      "model_module": "ontoedit",
      "model_module_version": "1.1.0",
      "model_name": "OntoeditModel",
      "state": {
       "_model_module_version": "1.1.0",
       "_view_module_version": "",
       "layout": "IPY_MODEL_d8f23781ffc74fb797fe78016d7b58e4",
       "value": "Every-single-thing that is a plant and-or is a plant-part is a herb.\nNo herb is an animal.\n\nEvery carnivore eats nothing-but animals.\nEvery lion eats nothing-but herbivores.\n\nEvery herbivore eats nothing-but herb.\n\nAnything either is a carnivore, is a herbivore or is an omnivore or-something-else.\nAnything either is a branch, is a leaf or is a twig or-something-else.\n\nNo giraffe is a lion.\nEvery palm-tree is not a tree.\n"
      }
     },
     "43ef90ea44f7483cae76acd6a8bf06db": {
      "model_module": "@jupyter-widgets/base",
      "model_module_version": "1.1.0",
      "model_name": "LayoutModel",
      "state": {
       "height": "100px"
      }
     },
     "44ec82d679cf4ab798e2886850c6b206": {
      "model_module": "@jupyter-widgets/output",
      "model_module_version": "1.0.0",
      "model_name": "OutputModel",
      "state": {
       "layout": "IPY_MODEL_8706eea102804d38bf7ff16d291e3773"
      }
     },
     "44f37380178d4fa0a074af10221c17fa": {
      "model_module": "@jupyter-widgets/base",
      "model_module_version": "1.1.0",
      "model_name": "LayoutModel",
      "state": {
       "height": "100%",
       "width": "90%"
      }
     },
     "45902f4b47f2487fb00f8eafb910887a": {
      "model_module": "@jupyter-widgets/output",
      "model_module_version": "1.0.0",
      "model_name": "OutputModel",
      "state": {
       "layout": "IPY_MODEL_e16c8b4b7cb8450f87b6a37e7c8d2caf"
      }
     },
     "4636ed4b6a9b4aa29f2b8c9efe57f732": {
      "model_module": "ontoedit",
      "model_module_version": "1.1.0",
      "model_name": "OntoeditModel",
      "state": {
       "_model_module_version": "1.1.0",
       "_view_module_version": "",
       "cursor": 199,
       "hints": "Branch-01<br/>Every<br/>Every-single-thing<br/>If<br/>Leo-01<br/>Mary-01<br/>No<br/>Nothing<br/>Something<br/>Sophie-01<br/>The<br/>X",
       "hintsX": 199,
       "layout": "IPY_MODEL_6bc39517a9044c0d95ed9158711c5ff5",
       "value": "Leo-01 is a lion.\nLeo-01 eats Sophie-01.\nSophie-01 is a giraffe.\nSophie-01 eats Leaf-01.\nMary-01 is a tree.\nLeaf-01 is a leaf and is-part-of Branch-02.\nBranch-02 is a branch and is-part-of Branch-01.\nBranch-01 is a branch and is-part-of Mary-01.\nBranch-03 is a branch."
      }
     },
     "46b6bc391f7d47cb95796e1c5effa3cb": {
      "model_module": "@jupyter-widgets/base",
      "model_module_version": "1.1.0",
      "model_name": "LayoutModel",
      "state": {
       "height": "300px"
      }
     },
     "48a844c1f16d4e0f89888a38f9f871b1": {
      "model_module": "@jupyter-widgets/base",
      "model_module_version": "1.1.0",
      "model_name": "LayoutModel",
      "state": {
       "height": "300px"
      }
     },
     "490fd126b35c4016a45f2265268f5ef0": {
      "model_module": "ontoedit",
      "model_module_version": "1.1.0",
      "model_name": "OntoeditModel",
      "state": {
       "_model_module_version": "1.1.0",
       "_view_module_version": "",
       "layout": "IPY_MODEL_2a02773588a34d31a60ab56ea873ef24",
       "value": "Every carnivorous-plant must eat an animal.\nEvery carnivor must eat an animal.\nEvery omnivore must eat a plant.\nEvery branch must be-part-of a tree.\nEvery plant-part must be-part-of a plant.\n\nComment: 'Role equivalence and inverted roles'.\nX has-part Y if-and-only-if Y is-part-of X.\nX eats Y if-and-only-if Y is-eaten-by X.\n\nComment: 'Role subsumptions'.\nIf X is-part-of Y then X is-part-of Y.\nIf X has-part something that has-part Y then X has-part Y.\n\nComment: 'Complex role subsumptions'.\nIf X is-part-of something that is-part-of Y then X is-part-of Y.\n"
      }
     },
     "4974f63235624cb0950d09b959338aac": {
      "model_module": "@jupyter-widgets/controls",
      "model_module_version": "1.4.0",
      "model_name": "VBoxModel",
      "state": {
       "children": [
        "IPY_MODEL_4636ed4b6a9b4aa29f2b8c9efe57f732",
        "IPY_MODEL_8f2ee93c18ed4583894db21311e14ed9"
       ],
       "layout": "IPY_MODEL_df45bd0d614e4f8dbc1d38058dc993e7"
      }
     },
     "4a322469244d444ca5d1bcb372403f27": {
      "model_module": "@jupyter-widgets/base",
      "model_module_version": "1.1.0",
      "model_name": "LayoutModel",
      "state": {
       "height": "100%",
       "width": "90%"
      }
     },
     "4a569f7988e8471dafe05c22d22bd4ea": {
      "model_module": "ontoedit",
      "model_module_version": "1.1.0",
      "model_name": "OntoeditModel",
      "state": {
       "_model_module_version": "1.1.0",
       "_view_module_version": "",
       "cursor": 173,
       "hints": "&lt;Proper-Name&gt;<br/>Every<br/>Every-single-thing<br/>If<br/>No<br/>Nothing<br/>Something<br/>The<br/>X",
       "hintsX": 173,
       "layout": "IPY_MODEL_4a322469244d444ca5d1bcb372403f27",
       "value": "Every-single-thing that is a plant and-or is a plant-part is a herb.\nNo herb is an animal.\n\nEvery carnivore eats nothing-but animals.\nEvery lion eats nothing-but herbivores.\n\nEvery herbivore eats nothing-but herb.\n\nAnything either is a carnivore, is a herbivore or is an omnivore or-something-else.\nAnything either is a branch, is a leaf or is a twig or-something-else.\n\nNo giraffe is a lion.\nEvery palm-tree is not a tree.\n"
      }
     },
     "4aafc9319e7743f8985cdc669f22cab5": {
      "model_module": "@jupyter-widgets/base",
      "model_module_version": "1.1.0",
      "model_name": "LayoutModel",
      "state": {
       "height": "300px"
      }
     },
     "4d3213ec0b2c4ad69c1a66a3369ab474": {
      "model_module": "@jupyter-widgets/controls",
      "model_module_version": "1.4.0",
      "model_name": "VBoxModel",
      "state": {
       "children": [
        "IPY_MODEL_e736dda042e74aac96c321bed782241e",
        "IPY_MODEL_7cb5ce8716bf4a209b03b4910d97a0e2"
       ],
       "layout": "IPY_MODEL_6dfbc4a9245c453fb126ea93c284477f"
      }
     },
     "4d859fd0df3e4b1099684200a4f5ea13": {
      "model_module": "@jupyter-widgets/base",
      "model_module_version": "1.1.0",
      "model_name": "LayoutModel",
      "state": {
       "height": "100%",
       "width": "90%"
      }
     },
     "4f0a97990f8943818fc14ed4fd385830": {
      "model_module": "@jupyter-widgets/output",
      "model_module_version": "1.0.0",
      "model_name": "OutputModel",
      "state": {
       "layout": "IPY_MODEL_ea50e21fc54b4d97b922faa6337bdfe7"
      }
     },
     "5090cbb5c3614e3aa2338670571106e5": {
      "model_module": "@jupyter-widgets/base",
      "model_module_version": "1.1.0",
      "model_name": "LayoutModel",
      "state": {
       "height": "300px"
      }
     },
     "50e4b95344d64a99b4f7543b017bf5a4": {
      "model_module": "@jupyter-widgets/base",
      "model_module_version": "1.1.0",
      "model_name": "LayoutModel",
      "state": {
       "height": "300px"
      }
     },
     "50f1befbf50548f9869037abe911c6c2": {
      "model_module": "@jupyter-widgets/output",
      "model_module_version": "1.0.0",
      "model_name": "OutputModel",
      "state": {
       "layout": "IPY_MODEL_d9c2b88b505b48a4b6c2c57cd93f7776"
      }
     },
     "5143fe6b6b2e4bdbb95db4836c07f69f": {
      "model_module": "ontoedit",
      "model_module_version": "1.1.0",
      "model_name": "OntoeditModel",
      "state": {
       "_model_module_version": "1.1.0",
       "_view_module_version": "",
       "layout": "IPY_MODEL_31401dde148b42c6b6dee0ee84db65b2",
       "value": "Leo-01 is a lion.\nLeo-01 eats Sophie-01.\nSophie-01 is a giraffe.\nLeo-01 eats Mary-01.\nMary-01 is a palm-tree.\n"
      }
     },
     "52741d97d4f0452e8bffb57f6e008c08": {
      "model_module": "ontoedit",
      "model_module_version": "1.1.0",
      "model_name": "OntoeditModel",
      "state": {
       "_model_module_version": "1.1.0",
       "_view_module_version": "",
       "layout": "IPY_MODEL_6533daa061d643ad86927f2662f4d33a",
       "value": "Namespace: 'http://cognitum.eu/african_wildlife'.\n\nComment: 'Let's name our instances'.\nComment: 'Let's specify the hierarchy of beings'. \nComment: 'What is what?'.\nEvery man has a train.\nEvery lion is an animal.\nEvery giraffe is an animal.\n\nEvery animal has a face. \n\nComment: 'Moreover'.\nEvery impala is an animal.\nEvery omnivore is an animal. \nEvery rock-dassie is an animal.\nEvery warthog is an animal.\nEvery carnivore is an animal.\nEvery herbivore is an animal.\nEvery elephant is a herbivore.\nEvery lion is carnivore.\n\nComment: 'There are also plants there:'.\nEvery tree is a plant.\nEvery grass is a plant.\nEvery palm-tree is a plant.\n\nEvery branch is a plant-part.\nEvery leaf is a plant-part.\nEvery twig is a plant-part.\n\nEvery phloem is a plant-part.\nEvery root is a plant-part.\nEvery parsnip is a root.\nEvery stem is a plant-part.\nEvery xylem is a plant-part.\nEvery fruiting-body is a plant-part.\nEvery berry is a fruiting-body.\nEvery apple is a fruiting-body.\n\nComment: 'We cannot use adjectives directly. To specify adjectives we need to transform them into sets that have form of buzzy-words'.\nEvery tasty-plant is a plant.\nEvery carnivorous-plant is a plant.\n"
      }
     },
     "539ad52a012443da82f8fc51ab2f4b6c": {
      "model_module": "ontoedit",
      "model_module_version": "1.1.0",
      "model_name": "OntoeditModel",
      "state": {
       "_model_module_version": "1.1.0",
       "_view_module_version": "",
       "layout": "IPY_MODEL_efcb094f11be4d558dfe247c7614db95",
       "value": "eaten by Leo-01"
      }
     },
     "53d2d5ec4eab4bdf933e894b49974ec1": {
      "model_module": "@jupyter-widgets/base",
      "model_module_version": "1.1.0",
      "model_name": "LayoutModel",
      "state": {
       "height": "100%",
       "width": "90%"
      }
     },
     "540624d791b04c72a5f6de35ef203a09": {
      "model_module": "ontoedit",
      "model_module_version": "1.1.0",
      "model_name": "OntoeditModel",
      "state": {
       "_model_module_version": "1.1.0",
       "_view_module_version": "",
       "cursor": 171,
       "hintT": "!!!SYNTAX ERROR!!!",
       "hints": "!!!SYNTAX ERROR!!!",
       "hintsX": 169,
       "layout": "IPY_MODEL_0ee45e2151a74dfeb632f8622dfa620d",
       "value": "Namespace: 'http://cognitum.eu/african_wildlife'.\n\nComment: 'Lets name our instances'.\nComment: 'Lets specify the hierarchy of beings'. \nComment: 'What is what?'.\nEvery ma\nEvery lion is an animal.\nEvery giraffe is an animal.\n\nComment: 'Moreover'.\nEvery impala is an animal.\nEvery omnivore is an animal. \nEvery rock-dassie is an animal.\nEvery warthog is an animal.\nEvery carnivore is an animal.\nEvery herbivore is an animal.\nEvery elephant is a herbivore.\nEvery lion is carnivore.\n\nComment: 'There are also plants there:'.\nEvery tree is a plant.\nEvery grass is a plant.\nEvery palm-tree is a plant.\n\nEvery branch is a plant-part.\nEvery leaf is a plant-part.\nEvery twig is a plant-part.\n\nEvery phloem is a plant-part.\nEvery root is a plant-part.\nEvery parsnip is a root.\nEvery stem is a plant-part.\nEvery xylem is a plant-part.\nEvery fruiting-body is a plant-part.\nEvery berry is a fruiting-body.\nEvery apple is a fruiting-body.\n\nComment: 'We cannot use adjectives directly. To specify adjectives we need to transform them into sets that have form of buzzy-words'.\nEvery tasty-plant is a plant.\nEvery carnivorous-plant is a plant.\n"
      }
     },
     "54500e1db47043b29c2725eaf17f81f6": {
      "model_module": "@jupyter-widgets/base",
      "model_module_version": "1.1.0",
      "model_name": "LayoutModel",
      "state": {
       "height": "100%",
       "width": "90%"
      }
     },
     "54e213dd70db416783e9f4dd9eb8473a": {
      "model_module": "@jupyter-widgets/controls",
      "model_module_version": "1.4.0",
      "model_name": "VBoxModel",
      "state": {
       "children": [
        "IPY_MODEL_68ff3e69ff0948c7b1d6ea2e0727d6f1",
        "IPY_MODEL_cdb640c492eb40d986642b7b0cf89db1"
       ],
       "layout": "IPY_MODEL_43ef90ea44f7483cae76acd6a8bf06db"
      }
     },
     "55bb21d754f845a0b76771e91480da21": {
      "model_module": "@jupyter-widgets/controls",
      "model_module_version": "1.4.0",
      "model_name": "VBoxModel",
      "state": {
       "children": [
        "IPY_MODEL_08c30bf83c284e6ebe21cc3249cd99ba",
        "IPY_MODEL_8e63218be8c84392b59914249922d662"
       ],
       "layout": "IPY_MODEL_e278e56780d1428c826f7d861d407183"
      }
     },
     "55f4f87242224575b52e41afa40e5e2d": {
      "model_module": "@jupyter-widgets/base",
      "model_module_version": "1.1.0",
      "model_name": "LayoutModel",
      "state": {}
     },
     "56a2eb99cf15417e8568cc49848857f1": {
      "model_module": "ontoedit",
      "model_module_version": "1.1.0",
      "model_name": "OntoeditModel",
      "state": {
       "_model_module_version": "1.1.0",
       "_view_module_version": "",
       "layout": "IPY_MODEL_7e5fec00c2ad42f1b02a76e0e2b34c6d",
       "value": "Every carnivorous-plant must eat an animal.\nEvery carnivor must eat an animal.\nEvery omnivore must eat a plant.\nEvery branch must be-part-of a tree.\nEvery plant-part must be-part-of a plant.\n\nComment: 'Role equivalence and inverted roles'.\nX has-part Y if-and-only-if Y is-part-of X.\nX eats Y if-and-only-if Y is-eaten-by X.\n\nComment: 'Role subsumptions'.\nIf X is-part-of Y then X is-part-of Y.\nIf X has-part something that has-part Y then X has-part Y.\n\nComment: 'Complex role subsumptions'.\nIf X is-part-of something that is-part-of Y then X is-part-of Y.\n"
      }
     },
     "585c9fe15e494126a1116a5e5f8e87e4": {
      "model_module": "@jupyter-widgets/base",
      "model_module_version": "1.1.0",
      "model_name": "LayoutModel",
      "state": {}
     },
     "5aea4cc758c6473193e64e8a9da92f28": {
      "model_module": "@jupyter-widgets/base",
      "model_module_version": "1.1.0",
      "model_name": "LayoutModel",
      "state": {}
     },
     "5b7a7dc340b8488b8d7616e1a0e4e954": {
      "model_module": "@jupyter-widgets/output",
      "model_module_version": "1.0.0",
      "model_name": "OutputModel",
      "state": {
       "layout": "IPY_MODEL_72f03a0887ce493bb7e9983353e95041"
      }
     },
     "5ca39e2e45c9445eb22413a85950317f": {
      "model_module": "@jupyter-widgets/base",
      "model_module_version": "1.1.0",
      "model_name": "LayoutModel",
      "state": {
       "height": "100%",
       "width": "90%"
      }
     },
     "5e407b23bfdc4c77a35bf3e583c0e0e6": {
      "model_module": "@jupyter-widgets/base",
      "model_module_version": "1.1.0",
      "model_name": "LayoutModel",
      "state": {
       "height": "100px"
      }
     },
     "5f92d7eda9e4489591fce827af8d659b": {
      "model_module": "@jupyter-widgets/base",
      "model_module_version": "1.1.0",
      "model_name": "LayoutModel",
      "state": {}
     },
     "6140f382320b46d8bf1bbe77cd6ff9d2": {
      "model_module": "@jupyter-widgets/controls",
      "model_module_version": "1.4.0",
      "model_name": "VBoxModel",
      "state": {
       "children": [
        "IPY_MODEL_63c4a550777447f1896522d0db7ab5f5",
        "IPY_MODEL_50f1befbf50548f9869037abe911c6c2"
       ],
       "layout": "IPY_MODEL_50e4b95344d64a99b4f7543b017bf5a4"
      }
     },
     "637bf119d26145cd9b1c74a314f17fb0": {
      "model_module": "@jupyter-widgets/base",
      "model_module_version": "1.1.0",
      "model_name": "LayoutModel",
      "state": {
       "height": "300px"
      }
     },
     "63c4a550777447f1896522d0db7ab5f5": {
      "model_module": "ontoedit",
      "model_module_version": "1.1.0",
      "model_name": "OntoeditModel",
      "state": {
       "_model_module_version": "1.1.0",
       "_view_module_version": "",
       "cursor": 1198,
       "hints": "Every<br/>Every-single-thing<br/>If<br/>Leo<br/>No<br/>Nothing<br/>Something<br/>Sophie<br/>The<br/>X",
       "hintsX": 1198,
       "layout": "IPY_MODEL_f4ea8cdd8b5c4157a727af4af9d67cb3",
       "value": "Title: 'African Wildlife'.\nAuthor: 'PaweĹ‚ KapĹ‚aĹ„ski'.\nBased-On: \n 'A Semantic Web Primer.'\n 'Antoniou, G, van Harmelen, F.'\n 'MIT Press, 2003.'\n 'http://www.csd.uoc.gr/~hy566/SWbook.pdf'\n.\n\nComment:\n////// Examples of Possible Questions  /////////////////////////////   \n//Who-Or-What:\n// * is a carnivore ?                                      \n// * is an herbivore ?                                         \n// * is an animal that eats grass ?                            \n// * is-part-of a tree ?  \n// * is eaten by lion?           \n////////////////////////////////////////////////////////////////////.\n\n\n\nPart-1: 'simple hierarchy of beings'.\n\nComment: 'Lets name our instances'.\nSophie is a giraffe.\nLeo is a lion.\n\nComment: 'Lets specify the hierarchy of beings'. \nComment: 'What is what?'.\nEvery lion is an animal.\nEvery giraffe is an animal.\n\nComment: 'Moreover'.\nEvery impala is an animal.\nEvery omnivore is an animal.\nEvery rock-dassie is an animal.\nEvery warthog is an animal.\nEvery carnivore is an animal.\nEvery herbivore is an animal.\nEvery elephant is a herbivore.\n\nComment: 'There are also plants there:'.\nEvery tree is a plant.\nEvery grass is a plant.\nEvery palm-tree is a plant.\n\nPart-2: adjectives and specifications.\n\nComment: 'We cannot use adjectives directly'.\nComment: 'To specify adjectives we need to transform them into sets that have form of buzzy-words'.\n\nEvery tasty-plant is a plant.\nEvery carnivorous-plant is a plant.\n\nComment: 'Similarly we can do to make something more and more specific'.\nEvery branch is a plant-part.\nEvery phloem is a plant-part.\nEvery root is a plant-part.\nEvery parsnip is a root.\nEvery stem is a plant-part.\nEvery twig is a plant-part.\nEvery xylem is a plant-part.\nEvery leaf is a plant-part.\nEvery fruiting-body is a plant-part.\nEvery berry is a fruiting-body.\nEvery apple is a fruiting-body.\n\nPart-3: Disjointness.\n\nComment: 'We deal with Open World Assumption, therefore we need to specify explicitly if two things are different'.\nComment: 'E.g.: We need to specify explicitly that animal is not a plant'.\nEvery animal is not a plant.\nEvery giraffe is not a lion.\nEvery palm-tree is not a tree.\n\nComment: 'Or we can use it - it means the same'.\nNo animal is a plant.\n\nPart-4: Simple relations.\n\nComment: To specify relation beetween beings.\nEvery lion eats an impala.\nEvery carnivorous-plant eats an animal.\n\nComment: 'I.e. be part of is a part-whole relation'.\nEvery branch is-part-of a tree.\nEvery plant-part is-proper-part-of a plant.\nEvery xylem is-proper-part-of a stem.\nEvery phloem is-proper-part-of a stem.\n\nComment:  'Specifying the range of relation. The difference? One is that lion eats impala. Second that it eats only herbivore' -> impala must be herbivore.\nEvery lion eats nothing-but herbivores.\n\nPart-5: 'Complex relations'.\n\nEvery palm-tree has-part that is not a branch.\nEvery warthog eats an animal and eats a fruiting-body and eats a grass and eats a root.\nEvery giraffe eats nothing-but things that are leaves and-or are twigs.\nEvery leaf is-part-of something that is a branch and-or is a twig.\nEvery tasty-plant is-eaten-by a carnivore and is-eaten-by a herbivore.\nEvery-single-thing eats nothing-but things that are animals and-or are plants and-or are-part-of animals and-or are-part-of plants.\n\nPart-6: 'Reflexion'.\n\nNothing is-proper-part-of itself.\n\nPart-7: Equivalence.\n\nComment: 'What it means to be a carnivore, omnivore or herbivore? We specify exact definitions here.'.\nEvery-single-thing that eats nothing-but animals and-or eats nothing-but things that are-part-of animals is a carnivore.\nSomething is an omnivore if-and-only-if-it eats an animal and eats a plant and eats something that is-part-of an animal and-or is-part-of a plant.\nSomething is a herbivore if-and-only-if-it eats nothing-but plants and-or eats nothing-but things that are-part-of plants.\n\nPart-8: 'Disjointness'.\n\nAnything either is a carnivore, is a herbivore or is an omnivore or-something-else.\nAnything either is a branch, is a leaf or is a twig or-something-else.\n\nPart-9: 'Relations between roles'.\n\nComment: 'Role equivalence and inverted roles'.\nX has-part Y if-and-only-if Y is-part-of X.\nX eats Y if-and-only-if Y is-eaten-by X.\n\nComment: 'Role subsumptions'.\nIf X is-proper-part-of Y then X is-part-of Y.\nIf X has-part something that has-part Y then X has-part Y.\n\nComment: 'Complex role subsumptions'.\nIf X is-part-of something that is-part-of Y then X is-part-of Y."
      }
     },
     "6533daa061d643ad86927f2662f4d33a": {
      "model_module": "@jupyter-widgets/base",
      "model_module_version": "1.1.0",
      "model_name": "LayoutModel",
      "state": {
       "height": "100%",
       "width": "90%"
      }
     },
     "66578ffca1f043118425062dc0b6f067": {
      "model_module": "@jupyter-widgets/controls",
      "model_module_version": "1.4.0",
      "model_name": "VBoxModel",
      "state": {
       "children": [
        "IPY_MODEL_27cf37417f84476da68ac933a85143a5",
        "IPY_MODEL_f81355e7f2a34681bf8ca14e71dbf938"
       ],
       "layout": "IPY_MODEL_f79246661c1941fb8047812a618edbea"
      }
     },
     "66cefaa10ba1472a846b969c45384ec0": {
      "model_module": "@jupyter-widgets/controls",
      "model_module_version": "1.4.0",
      "model_name": "VBoxModel",
      "state": {
       "children": [
        "IPY_MODEL_6c33a33ec84a476ea62d3b987b12a532",
        "IPY_MODEL_85f2cc17df4e4e429f3682d5f1a9d2a5"
       ],
       "layout": "IPY_MODEL_637bf119d26145cd9b1c74a314f17fb0"
      }
     },
     "670789803c044d699064f4d8d85c169a": {
      "model_module": "ontoedit",
      "model_module_version": "1.1.0",
      "model_name": "OntoeditModel",
      "state": {
       "_model_module_version": "1.1.0",
       "_view_module_version": "",
       "layout": "IPY_MODEL_8e2009ebcf134448a2ad52b7cc6c4b26",
       "value": "Every-single-thing that is a plant and-or is a plant-part is a herb.\nNo herb is an animal.\n\nEvery carnivore eats nothing-but animals.\nEvery lion eats nothing-but herbivores.\n\nEvery herbivore eats nothing-but herb.\n\nAnything either is a carnivore, is a herbivore or is an omnivore or-something-else.\nAnything either is a branch, is a leaf or is a twig or-something-else.\n\nNo giraffe is a lion.\nEvery palm-tree is not a tree.\n"
      }
     },
     "6834615b88754ba992949979ad4896da": {
      "model_module": "@jupyter-widgets/base",
      "model_module_version": "1.1.0",
      "model_name": "LayoutModel",
      "state": {
       "height": "100%",
       "width": "90%"
      }
     },
     "687f88667abb40929c0d1ac2acbc9281": {
      "model_module": "ontoedit",
      "model_module_version": "1.1.0",
      "model_name": "OntoeditModel",
      "state": {
       "_model_module_version": "1.1.0",
       "_view_module_version": "",
       "layout": "IPY_MODEL_df07f4cbd3574e08868b7543bb5cb15a",
       "value": "Leo-01 is a lion.\nLeo-01 eats Sophie-01.\nSophie-01 is a giraffe.\nLeo-01 eats Mary-01.\nMary-01 is a palm-tree.\n"
      }
     },
     "68ff3e69ff0948c7b1d6ea2e0727d6f1": {
      "model_module": "ontoedit",
      "model_module_version": "1.1.0",
      "model_name": "OntoeditModel",
      "state": {
       "_model_module_version": "1.1.0",
       "_view_module_version": "",
       "layout": "IPY_MODEL_2b1178c8982c4d7f8bd00f05c2a0ab9f",
       "value": "an animal that loves "
      }
     },
     "69339d07f80c4b42a0ca64e1e93f2940": {
      "model_module": "@jupyter-widgets/output",
      "model_module_version": "1.0.0",
      "model_name": "OutputModel",
      "state": {
       "layout": "IPY_MODEL_db4059a12cb34224934499d5b329f6c6"
      }
     },
     "6aa31e6afab149709b6959eea67ee56c": {
      "model_module": "@jupyter-widgets/controls",
      "model_module_version": "1.4.0",
      "model_name": "VBoxModel",
      "state": {
       "children": [
        "IPY_MODEL_45902f4b47f2487fb00f8eafb910887a",
        "IPY_MODEL_97e7b2be34da4941b3574d6dcb529205",
        "IPY_MODEL_7cde6c6efb3c4fe7ab570e9500f16346"
       ],
       "layout": "IPY_MODEL_f9ced4f7f8f84c4cbed97f862b03e763"
      }
     },
     "6b3a1654ff064f0aaf274b3478288a8f": {
      "model_module": "@jupyter-widgets/base",
      "model_module_version": "1.1.0",
      "model_name": "LayoutModel",
      "state": {
       "height": "300px"
      }
     },
     "6b665fd9cf6b45d0ade1db84533996f4": {
      "model_module": "@jupyter-widgets/base",
      "model_module_version": "1.1.0",
      "model_name": "LayoutModel",
      "state": {}
     },
     "6bc39517a9044c0d95ed9158711c5ff5": {
      "model_module": "@jupyter-widgets/base",
      "model_module_version": "1.1.0",
      "model_name": "LayoutModel",
      "state": {
       "height": "100%",
       "width": "90%"
      }
     },
     "6c33a33ec84a476ea62d3b987b12a532": {
      "model_module": "ontoedit",
      "model_module_version": "1.1.0",
      "model_name": "OntoeditModel",
      "state": {
       "_model_module_version": "1.1.0",
       "_view_module_version": "",
       "layout": "IPY_MODEL_5ca39e2e45c9445eb22413a85950317f",
       "value": "Leo-01 is a lion.\nLeo-01 eats Sophie-01.\nSophie-01 is a giraffe.\nLeo-01 eats Mary-01.\nMary-01 is a palm-tree.\n"
      }
     },
     "6dfbc4a9245c453fb126ea93c284477f": {
      "model_module": "@jupyter-widgets/base",
      "model_module_version": "1.1.0",
      "model_name": "LayoutModel",
      "state": {
       "height": "300px"
      }
     },
     "6efe96677c81493984458e090777460c": {
      "model_module": "@jupyter-widgets/base",
      "model_module_version": "1.1.0",
      "model_name": "LayoutModel",
      "state": {
       "height": "300px"
      }
     },
     "6fa9e122a4ca4267832285e9f3983bba": {
      "model_module": "@jupyter-widgets/base",
      "model_module_version": "1.1.0",
      "model_name": "LayoutModel",
      "state": {}
     },
     "6ffa4ff23e4f43e1ab1dfa1bec10c4ee": {
      "model_module": "@jupyter-widgets/output",
      "model_module_version": "1.0.0",
      "model_name": "OutputModel",
      "state": {
       "layout": "IPY_MODEL_d54e4a0ee8f44ecbb8074b55bef1cad5"
      }
     },
     "704fa12b89334f67b30097d1c39534c9": {
      "model_module": "@jupyter-widgets/base",
      "model_module_version": "1.1.0",
      "model_name": "LayoutModel",
      "state": {
       "height": "300px"
      }
     },
     "727588c8af22452182710e9c54750d83": {
      "model_module": "@jupyter-widgets/output",
      "model_module_version": "1.0.0",
      "model_name": "OutputModel",
      "state": {
       "layout": "IPY_MODEL_c4809ee837e84bbba2bd1dc44a5cdc69"
      }
     },
     "72b37b61f1ba4540bd4dafa460795b8e": {
      "model_module": "@jupyter-widgets/base",
      "model_module_version": "1.1.0",
      "model_name": "LayoutModel",
      "state": {}
     },
     "72f03a0887ce493bb7e9983353e95041": {
      "model_module": "@jupyter-widgets/base",
      "model_module_version": "1.1.0",
      "model_name": "LayoutModel",
      "state": {}
     },
     "7358c3b0bfc140b7ad1d635020c852a5": {
      "model_module": "@jupyter-widgets/controls",
      "model_module_version": "1.4.0",
      "model_name": "VBoxModel",
      "state": {
       "children": [
        "IPY_MODEL_791a2bc1ba2c4ed98805765076095f71",
        "IPY_MODEL_a551c169f0f44b0d8ed33f34d5a4ea9d"
       ],
       "layout": "IPY_MODEL_2a57077dcfc6408f910fcdd1069fb533"
      }
     },
     "767e327a5f9545d2b9ccc3f617e61e50": {
      "model_module": "@jupyter-widgets/controls",
      "model_module_version": "1.4.0",
      "model_name": "VBoxModel",
      "state": {
       "children": [
        "IPY_MODEL_44ec82d679cf4ab798e2886850c6b206",
        "IPY_MODEL_e65e067cfdfa4e8eabc514464b7e6d79",
        "IPY_MODEL_32c35855b62a47c19571fb460d5624ca"
       ],
       "layout": "IPY_MODEL_6efe96677c81493984458e090777460c"
      }
     },
     "791a2bc1ba2c4ed98805765076095f71": {
      "model_module": "ontoedit",
      "model_module_version": "1.1.0",
      "model_name": "OntoeditModel",
      "state": {
       "_model_module_version": "1.1.0",
       "_view_module_version": "",
       "layout": "IPY_MODEL_99f9f6e0b26a4e73858dfbb6017ccbb8",
       "value": "an animal that loves "
      }
     },
     "798ac8c8baa148b68188dc60d84de5fe": {
      "model_module": "@jupyter-widgets/base",
      "model_module_version": "1.1.0",
      "model_name": "LayoutModel",
      "state": {
       "height": "300px"
      }
     },
     "7cb5ce8716bf4a209b03b4910d97a0e2": {
      "model_module": "@jupyter-widgets/output",
      "model_module_version": "1.0.0",
      "model_name": "OutputModel",
      "state": {
       "layout": "IPY_MODEL_72b37b61f1ba4540bd4dafa460795b8e"
      }
     },
     "7cde6c6efb3c4fe7ab570e9500f16346": {
      "model_module": "@jupyter-widgets/output",
      "model_module_version": "1.0.0",
      "model_name": "OutputModel",
      "state": {
       "layout": "IPY_MODEL_eb7f5c7b600f433dbe22183849e5f30b"
      }
     },
     "7e5fec00c2ad42f1b02a76e0e2b34c6d": {
      "model_module": "@jupyter-widgets/base",
      "model_module_version": "1.1.0",
      "model_name": "LayoutModel",
      "state": {
       "height": "100%",
       "width": "90%"
      }
     },
     "7f5f02928259415f96e74be67775d5c4": {
      "model_module": "@jupyter-widgets/output",
      "model_module_version": "1.0.0",
      "model_name": "OutputModel",
      "state": {
       "layout": "IPY_MODEL_f1e6f830e9f945efb4e325a458679887"
      }
     },
     "7ffcc5da836a4772ad6190ded79997f7": {
      "model_module": "ontoedit",
      "model_module_version": "1.1.0",
      "model_name": "OntoeditModel",
      "state": {
       "_model_module_version": "1.1.0",
       "_view_module_version": "",
       "cursor": 162,
       "hints": "&lt;Proper-Name&gt;<br/>Every<br/>Every-single-thing<br/>If<br/>No<br/>Nothing<br/>Something<br/>The<br/>X",
       "hintsX": 162,
       "layout": "IPY_MODEL_cb714303465343599e7daddd09b77893",
       "value": "Namespace: 'http://cognitum.eu/african_wildlife'.\n\nComment: 'Lets name our instances'.\nComment: 'Lets specify the hierarchy of beings'. \nComment: 'What is what?'.\nEvery man has a train.\nEvery lion is an animal.\nEvery giraffe is an animal.\n\nComment: 'Moreover'.\nEvery impala is an animal.\nEvery omnivore is an animal. \nEvery rock-dassie is an animal.\nEvery warthog is an animal.\nEvery carnivore is an animal.\nEvery herbivore is an animal.\nEvery elephant is a herbivore.\nEvery lion is carnivore.\n\nComment: 'There are also plants there:'.\nEvery tree is a plant.\nEvery grass is a plant.\nEvery palm-tree is a plant.\n\nEvery branch is a plant-part.\nEvery leaf is a plant-part.\nEvery twig is a plant-part.\n\nEvery phloem is a plant-part.\nEvery root is a plant-part.\nEvery parsnip is a root.\nEvery stem is a plant-part.\nEvery xylem is a plant-part.\nEvery fruiting-body is a plant-part.\nEvery berry is a fruiting-body.\nEvery apple is a fruiting-body.\n\nComment: 'We cannot use adjectives directly. To specify adjectives we need to transform them into sets that have form of buzzy-words'.\nEvery tasty-plant is a plant.\nEvery carnivorous-plant is a plant.\n"
      }
     },
     "8299fafb9989402e9259aa0b848881e2": {
      "model_module": "ontoedit",
      "model_module_version": "1.1.0",
      "model_name": "OntoeditModel",
      "state": {
       "_model_module_version": "1.1.0",
       "_view_module_version": "",
       "layout": "IPY_MODEL_17f3ad9162db4104a65795f20d5f0075",
       "value": "Leo-01 is a lion.\nLeo-01 eats Sophie-01.\nSophie-01 is a giraffe.\nSophie-01 eats Leaf-01.\nMary-01 is a tree.\nLeaf-01 is a leaf and is-part-of Branch-02.\nBranch-02 is a branch and is-part-of Branch-01.\nBranch-01 is a branch and is-part-of Mary-01.\nBranch-03 is a branch."
      }
     },
     "830d5ee0e72742cbb9c50e698f8db857": {
      "model_module": "ontoedit",
      "model_module_version": "1.1.0",
      "model_name": "OntoeditModel",
      "state": {
       "_model_module_version": "1.1.0",
       "_view_module_version": "",
       "cursor": 186,
       "hintT": "!!!SYNTAX ERROR!!!\r\n\r\nEvery ma\r\nEvery lion is an animal.",
       "hints": "!!!SYNTAX ERROR!!!\r\n\r\nEvery ma\r\nEvery lion is an animal.",
       "hintsX": 186,
       "layout": "IPY_MODEL_f7410d5947704d05b636e488c607ec0e",
       "value": "Namespace: 'http://cognitum.eu/african_wildlife'.\n\nComment: 'Lets name our instances'.\nComment: 'Lets specify the hierarchy of beings'. \nComment: 'What is what?'.\nEvery man has a train.\nEvery lion is an animal.\nEvery giraffe is an animal.\n\nComment: 'Moreover'.\nEvery impala is an animal.\nEvery omnivore is an animal. \nEvery rock-dassie is an animal.\nEvery warthog is an animal.\nEvery carnivore is an animal.\nEvery herbivore is an animal.\nEvery elephant is a herbivore.\nEvery lion is carnivore.\n\nComment: 'There are also plants there:'.\nEvery tree is a plant.\nEvery grass is a plant.\nEvery palm-tree is a plant.\n\nEvery branch is a plant-part.\nEvery leaf is a plant-part.\nEvery twig is a plant-part.\n\nEvery phloem is a plant-part.\nEvery root is a plant-part.\nEvery parsnip is a root.\nEvery stem is a plant-part.\nEvery xylem is a plant-part.\nEvery fruiting-body is a plant-part.\nEvery berry is a fruiting-body.\nEvery apple is a fruiting-body.\n\nComment: 'We cannot use adjectives directly. To specify adjectives we need to transform them into sets that have form of buzzy-words'.\nEvery tasty-plant is a plant.\nEvery carnivorous-plant is a plant.\n"
      }
     },
     "85f2cc17df4e4e429f3682d5f1a9d2a5": {
      "model_module": "@jupyter-widgets/output",
      "model_module_version": "1.0.0",
      "model_name": "OutputModel",
      "state": {
       "layout": "IPY_MODEL_379b403b772848b184590efb077753db"
      }
     },
     "865ed95805f44073ac10f4b4757bd1a0": {
      "model_module": "@jupyter-widgets/base",
      "model_module_version": "1.1.0",
      "model_name": "LayoutModel",
      "state": {
       "height": "100%",
       "width": "90%"
      }
     },
     "8706eea102804d38bf7ff16d291e3773": {
      "model_module": "@jupyter-widgets/base",
      "model_module_version": "1.1.0",
      "model_name": "LayoutModel",
      "state": {}
     },
     "87dbf123720c4818bdda118bfdbb7cda": {
      "model_module": "@jupyter-widgets/output",
      "model_module_version": "1.0.0",
      "model_name": "OutputModel",
      "state": {
       "layout": "IPY_MODEL_daee7295113f4ab588ec50dacbc01003"
      }
     },
     "88e3f3eb628649cbaa595601364bada4": {
      "model_module": "@jupyter-widgets/base",
      "model_module_version": "1.1.0",
      "model_name": "LayoutModel",
      "state": {
       "height": "300px"
      }
     },
     "89b1bde40ddb4abf9ac1d1cd90dd345a": {
      "model_module": "@jupyter-widgets/base",
      "model_module_version": "1.1.0",
      "model_name": "LayoutModel",
      "state": {
       "height": "100px"
      }
     },
     "8b344392a0d344158becbf95c37546c6": {
      "model_module": "@jupyter-widgets/controls",
      "model_module_version": "1.4.0",
      "model_name": "VBoxModel",
      "state": {
       "children": [
        "IPY_MODEL_56a2eb99cf15417e8568cc49848857f1",
        "IPY_MODEL_f81dc3d2747142f9ac59bd2ccb85dc67"
       ],
       "layout": "IPY_MODEL_f7e95e3d43544ddfb6c69338a006cace"
      }
     },
     "8b52933a93d84df1bc039f960cacf560": {
      "model_module": "@jupyter-widgets/output",
      "model_module_version": "1.0.0",
      "model_name": "OutputModel",
      "state": {
       "layout": "IPY_MODEL_b0bf749d3aa54cb5876f768752e013e2"
      }
     },
     "8b7f1503cd5d4af7bedb96db2bc9826b": {
      "model_module": "ontoedit",
      "model_module_version": "1.1.0",
      "model_name": "OntoeditModel",
      "state": {
       "_model_module_version": "1.1.0",
       "_view_module_version": "",
       "layout": "IPY_MODEL_b18557280c0d4e1b827179460da45136",
       "value": "Leo-01 is a lion.\nLeo-01 eats Sophie-01.\nSophie-01 is a giraffe.\nSophie-01 eats Leaf-01.\nMary-01 is a tree.\nLeaf-01 is a leaf and is-part-of Branch-02.\nBranch-02 is a branch and is-part-of Branch-01.\nBranch-01 is a branch and is-part-of Mary-01.\nBranch-03 is a branch."
      }
     },
     "8e2009ebcf134448a2ad52b7cc6c4b26": {
      "model_module": "@jupyter-widgets/base",
      "model_module_version": "1.1.0",
      "model_name": "LayoutModel",
      "state": {
       "height": "100%",
       "width": "90%"
      }
     },
     "8e63218be8c84392b59914249922d662": {
      "model_module": "@jupyter-widgets/output",
      "model_module_version": "1.0.0",
      "model_name": "OutputModel",
      "state": {
       "layout": "IPY_MODEL_5aea4cc758c6473193e64e8a9da92f28"
      }
     },
     "8f2ee93c18ed4583894db21311e14ed9": {
      "model_module": "@jupyter-widgets/output",
      "model_module_version": "1.0.0",
      "model_name": "OutputModel",
      "state": {
       "layout": "IPY_MODEL_38238e85b5bb4623a8ef8b3af0729a67"
      }
     },
     "91212d33087f4872ab96d1d2adac582a": {
      "model_module": "@jupyter-widgets/output",
      "model_module_version": "1.0.0",
      "model_name": "OutputModel",
      "state": {
       "layout": "IPY_MODEL_6fa9e122a4ca4267832285e9f3983bba"
      }
     },
     "913a7e5abd4b49129540cff6ec10a497": {
      "model_module": "@jupyter-widgets/output",
      "model_module_version": "1.0.0",
      "model_name": "OutputModel",
      "state": {
       "layout": "IPY_MODEL_ab77ec64345341d398b7c723c3d8ea33"
      }
     },
     "951c1fa30fea488a8ae1578cede4b5fe": {
      "model_module": "@jupyter-widgets/base",
      "model_module_version": "1.1.0",
      "model_name": "LayoutModel",
      "state": {
       "height": "100%",
       "width": "90%"
      }
     },
     "9536c1856e8a487d8c68984e25b441ce": {
      "model_module": "@jupyter-widgets/base",
      "model_module_version": "1.1.0",
      "model_name": "LayoutModel",
      "state": {
       "height": "300px"
      }
     },
     "9767af0ad60a4f4f84f6fffb5b1addb8": {
      "model_module": "@jupyter-widgets/base",
      "model_module_version": "1.1.0",
      "model_name": "LayoutModel",
      "state": {}
     },
     "97e7b2be34da4941b3574d6dcb529205": {
      "model_module": "ontoedit",
      "model_module_version": "1.1.0",
      "model_name": "OntoeditModel",
      "state": {
       "_model_module_version": "1.1.0",
       "_view_module_version": "",
       "layout": "IPY_MODEL_53d2d5ec4eab4bdf933e894b49974ec1",
       "value": "Every-single-thing that is a plant and-or is a plant-part is a herb.\nNo herb is an animal.\n\nEvery carnivore eats nothing-but animals.\nEvery lion eats nothing-but herbivores.\n\nEvery herbivore eats nothing-but herb.\n\nAnything either is a carnivore, is a herbivore or is an omnivore or-something-else.\nAnything either is a branch, is a leaf or is a twig or-something-else.\n\nNo giraffe is a lion.\nEvery palm-tree is not a tree.\n"
      }
     },
     "99075eefb8ad4a5087de5fbfbb2e2a8c": {
      "model_module": "ontoedit",
      "model_module_version": "1.1.0",
      "model_name": "OntoeditModel",
      "state": {
       "_model_module_version": "1.1.0",
       "_view_module_version": "",
       "layout": "IPY_MODEL_9febe76887f34e8e9ea439b3d6a469bc",
       "value": "Comment: 'Lets name our instances'.\nComment: 'Lets specify the hierarchy of beings'. \nComment: 'What is what?'.\n\nEvery lion is an animal.\nEvery giraffe is an animal.\n\nComment: 'Moreover'.\nEvery impala is an animal.\nEvery omnivore is an animal.\nEvery rock-dassie is an animal.\nEvery warthog is an animal.\nEvery carnivore is an animal.\nEvery herbivore is an animal.\nEvery elephant is a herbivore.\nEvery lion is carnivore.\n\nComment: 'There are also plants there:'.\nEvery tree is a plant.\nEvery grass is a plant.\nEvery palm-tree is a plant.\n\nEvery branch is a plant-part.\nEvery leaf is a plant-part.\nEvery twig is a plant-part.\n\nEvery phloem is a plant-part.\nEvery root is a plant-part.\nEvery parsnip is a root.\nEvery stem is a plant-part.\nEvery xylem is a plant-part.\nEvery fruiting-body is a plant-part.\nEvery berry is a fruiting-body.\nEvery apple is a fruiting-body.\n\nComment: 'We cannot use adjectives directly. To specify adjectives we need to transform them into sets that have form of buzzy-words'.\nEvery tasty-plant is a plant.\nEvery carnivorous-plant is a plant.\n"
      }
     },
     "99f9f6e0b26a4e73858dfbb6017ccbb8": {
      "model_module": "@jupyter-widgets/base",
      "model_module_version": "1.1.0",
      "model_name": "LayoutModel",
      "state": {
       "height": "100%",
       "width": "90%"
      }
     },
     "9b0f9a23e3574472b084a63a42c18088": {
      "model_module": "@jupyter-widgets/base",
      "model_module_version": "1.1.0",
      "model_name": "LayoutModel",
      "state": {
       "height": "300px"
      }
     },
     "9d7f76b3359049b99071eba73b8dc427": {
      "model_module": "@jupyter-widgets/controls",
      "model_module_version": "1.4.0",
      "model_name": "VBoxModel",
      "state": {
       "children": [
        "IPY_MODEL_4a569f7988e8471dafe05c22d22bd4ea",
        "IPY_MODEL_727588c8af22452182710e9c54750d83"
       ],
       "layout": "IPY_MODEL_9536c1856e8a487d8c68984e25b441ce"
      }
     },
     "9febe76887f34e8e9ea439b3d6a469bc": {
      "model_module": "@jupyter-widgets/base",
      "model_module_version": "1.1.0",
      "model_name": "LayoutModel",
      "state": {
       "height": "100%",
       "width": "90%"
      }
     },
     "a1d343a6e9ab47b999491d584f4d747b": {
      "model_module": "@jupyter-widgets/controls",
      "model_module_version": "1.4.0",
      "model_name": "VBoxModel",
      "state": {
       "children": [
        "IPY_MODEL_42805aa70f7945db96a25007c189bac0",
        "IPY_MODEL_4f0a97990f8943818fc14ed4fd385830"
       ],
       "layout": "IPY_MODEL_c1e34aeacb524c99a1c32e8cc8c9413a"
      }
     },
     "a23f3db72e844fd38d5d05b950980e06": {
      "model_module": "@jupyter-widgets/base",
      "model_module_version": "1.1.0",
      "model_name": "LayoutModel",
      "state": {
       "height": "100%",
       "width": "90%"
      }
     },
     "a270637c9421471a86a1a5fb0c90358f": {
      "model_module": "@jupyter-widgets/base",
      "model_module_version": "1.1.0",
      "model_name": "LayoutModel",
      "state": {
       "height": "100%",
       "width": "90%"
      }
     },
     "a2c7154564514724af74f1f72cd039df": {
      "model_module": "@jupyter-widgets/controls",
      "model_module_version": "1.4.0",
      "model_name": "VBoxModel",
      "state": {
       "children": [
        "IPY_MODEL_194e683e49954beab66c82f87eec0560",
        "IPY_MODEL_e26922aed1324c3cb824535d8f1eba7a"
       ],
       "layout": "IPY_MODEL_89b1bde40ddb4abf9ac1d1cd90dd345a"
      }
     },
     "a551c169f0f44b0d8ed33f34d5a4ea9d": {
      "model_module": "@jupyter-widgets/output",
      "model_module_version": "1.0.0",
      "model_name": "OutputModel",
      "state": {
       "layout": "IPY_MODEL_9767af0ad60a4f4f84f6fffb5b1addb8"
      }
     },
     "a6c9444b34984cd982b748b663e0080e": {
      "model_module": "@jupyter-widgets/base",
      "model_module_version": "1.1.0",
      "model_name": "LayoutModel",
      "state": {
       "height": "300px"
      }
     },
     "a6d8f4abcb594d9c8c0df1d48de451e1": {
      "model_module": "@jupyter-widgets/base",
      "model_module_version": "1.1.0",
      "model_name": "LayoutModel",
      "state": {
       "height": "100%",
       "width": "90%"
      }
     },
     "a76345918cde4dd4ad4ca081281b94e6": {
      "model_module": "@jupyter-widgets/output",
      "model_module_version": "1.0.0",
      "model_name": "OutputModel",
      "state": {
       "layout": "IPY_MODEL_eb60a5c7b71b42e096ca618392a788d4"
      }
     },
     "a83fc2b5087147fda70ef91ec71c9636": {
      "model_module": "ontoedit",
      "model_module_version": "1.1.0",
      "model_name": "OntoeditModel",
      "state": {
       "_model_module_version": "1.1.0",
       "_view_module_version": "",
       "layout": "IPY_MODEL_44f37380178d4fa0a074af10221c17fa",
       "value": "Namespace: 'http://cognitum.eu/african_wildlife'.\n\nComment: 'Lets name our instances'.\nComment: 'Lets specify the hierarchy of beings'. \nComment: 'What is what?'.\nEvery ma\nEvery lion is an animal.\nEvery giraffe is an animal.\n\nComment: 'Moreover'.\nEvery impala is an animal.\nEvery omnivore is an animal. \nEvery rock-dassie is an animal.\nEvery warthog is an animal.\nEvery carnivore is an animal.\nEvery herbivore is an animal.\nEvery elephant is a herbivore.\nEvery lion is carnivore.\n\nComment: 'There are also plants there:'.\nEvery tree is a plant.\nEvery grass is a plant.\nEvery palm-tree is a plant.\n\nEvery branch is a plant-part.\nEvery leaf is a plant-part.\nEvery twig is a plant-part.\n\nEvery phloem is a plant-part.\nEvery root is a plant-part.\nEvery parsnip is a root.\nEvery stem is a plant-part.\nEvery xylem is a plant-part.\nEvery fruiting-body is a plant-part.\nEvery berry is a fruiting-body.\nEvery apple is a fruiting-body.\n\nComment: 'We cannot use adjectives directly. To specify adjectives we need to transform them into sets that have form of buzzy-words'.\nEvery tasty-plant is a plant.\nEvery carnivorous-plant is a plant.\n"
      }
     },
     "ab77ec64345341d398b7c723c3d8ea33": {
      "model_module": "@jupyter-widgets/base",
      "model_module_version": "1.1.0",
      "model_name": "LayoutModel",
      "state": {}
     },
     "ac2b910f6f714657b031543b3c3820f6": {
      "model_module": "@jupyter-widgets/base",
      "model_module_version": "1.1.0",
      "model_name": "LayoutModel",
      "state": {
       "height": "100%",
       "width": "90%"
      }
     },
     "aca02ad5a33a4786af036a02601ea45d": {
      "model_module": "@jupyter-widgets/controls",
      "model_module_version": "1.4.0",
      "model_name": "VBoxModel",
      "state": {
       "children": [
        "IPY_MODEL_6ffa4ff23e4f43e1ab1dfa1bec10c4ee",
        "IPY_MODEL_e95aa04a0587464ba4602b494ff2b472",
        "IPY_MODEL_14a3707b104b4e2eb1eb5423c506f3e0"
       ],
       "layout": "IPY_MODEL_5090cbb5c3614e3aa2338670571106e5"
      }
     },
     "acf1c5a99f7843fd8fe8da70d0aac47f": {
      "model_module": "ontoedit",
      "model_module_version": "1.1.0",
      "model_name": "OntoeditModel",
      "state": {
       "_model_module_version": "1.1.0",
       "_view_module_version": "",
       "cursor": 1198,
       "hints": "Every<br/>Every-single-thing<br/>If<br/>Leo<br/>No<br/>Nothing<br/>Something<br/>Sophie<br/>The<br/>X",
       "hintsX": 1198,
       "layout": "IPY_MODEL_1a817713ce83451c8259b7b8600da6fb",
       "value": "Title: 'African Wildlife'.\nAuthor: 'PaweĹ‚ KapĹ‚aĹ„ski'.\nBased-On: \n 'A Semantic Web Primer.'\n 'Antoniou, G, van Harmelen, F.'\n 'MIT Press, 2003.'\n 'http://www.csd.uoc.gr/~hy566/SWbook.pdf'\n.\n\nComment:\n////// Examples of Possible Questions  /////////////////////////////   \n//Who-Or-What:\n// * is a carnivore ?                                      \n// * is an herbivore ?                                         \n// * is an animal that eats grass ?                            \n// * is-part-of a tree ?  \n// * is eaten by lion?           \n////////////////////////////////////////////////////////////////////.\n\n\n\nPart-1: 'simple hierarchy of beings'.\n\nComment: 'Lets name our instances'.\nSophie is a giraffe.\nLeo is a lion.\n\nComment: 'Lets specify the hierarchy of beings'. \nComment: 'What is what?'.\nEvery lion is an animal.\nEvery giraffe is an animal.\n\nComment: 'Moreover'.\nEvery impala is an animal.\nEvery omnivore is an animal.\nEvery rock-dassie is an animal.\nEvery warthog is an animal.\nEvery carnivore is an animal.\nEvery herbivore is an animal.\nEvery elephant is a herbivore.\n\nComment: 'There are also plants there:'.\nEvery tree is a plant.\nEvery grass is a plant.\nEvery palm-tree is a plant.\n\nPart-2: adjectives and specifications.\n\nComment: 'We cannot use adjectives directly'.\nComment: 'To specify adjectives we need to transform them into sets that have form of buzzy-words'.\n\nEvery tasty-plant is a plant.\nEvery carnivorous-plant is a plant.\n\nComment: 'Similarly we can do to make something more and more specific'.\nEvery branch is a plant-part.\nEvery phloem is a plant-part.\nEvery root is a plant-part.\nEvery parsnip is a root.\nEvery stem is a plant-part.\nEvery twig is a plant-part.\nEvery xylem is a plant-part.\nEvery leaf is a plant-part.\nEvery fruiting-body is a plant-part.\nEvery berry is a fruiting-body.\nEvery apple is a fruiting-body.\n\nPart-3: Disjointness.\n\nComment: 'We deal with Open World Assumption, therefore we need to specify explicitly if two things are different'.\nComment: 'E.g.: We need to specify explicitly that animal is not a plant'.\nEvery animal is not a plant.\nEvery giraffe is not a lion.\nEvery palm-tree is not a tree.\n\nComment: 'Or we can use it - it means the same'.\nNo animal is a plant.\n\nPart-4: Simple relations.\n\nComment: To specify relation beetween beings.\nEvery lion eats an impala.\nEvery carnivorous-plant eats an animal.\n\nComment: 'I.e. be part of is a part-whole relation'.\nEvery branch is-part-of a tree.\nEvery plant-part is-proper-part-of a plant.\nEvery xylem is-proper-part-of a stem.\nEvery phloem is-proper-part-of a stem.\n\nComment:  'Specifying the range of relation. The difference? One is that lion eats impala. Second that it eats only herbivore' -> impala must be herbivore.\nEvery lion eats nothing-but herbivores.\n\nPart-5: 'Complex relations'.\n\nEvery palm-tree has-part that is not a branch.\nEvery warthog eats an animal and eats a fruiting-body and eats a grass and eats a root.\nEvery giraffe eats nothing-but things that are leaves and-or are twigs.\nEvery leaf is-part-of something that is a branch and-or is a twig.\nEvery tasty-plant is-eaten-by a carnivore and is-eaten-by a herbivore.\nEvery-single-thing eats nothing-but things that are animals and-or are plants and-or are-part-of animals and-or are-part-of plants.\n\nPart-6: 'Reflexion'.\n\nNothing is-proper-part-of itself.\n\nPart-7: Equivalence.\n\nComment: 'What it means to be a carnivore, omnivore or herbivore? We specify exact definitions here.'.\nEvery-single-thing that eats nothing-but animals and-or eats nothing-but things that are-part-of animals is a carnivore.\nSomething is an omnivore if-and-only-if-it eats an animal and eats a plant and eats something that is-part-of an animal and-or is-part-of a plant.\nSomething is a herbivore if-and-only-if-it eats nothing-but plants and-or eats nothing-but things that are-part-of plants.\n\nPart-8: 'Disjointness'.\n\nAnything either is a carnivore, is a herbivore or is an omnivore or-something-else.\nAnything either is a branch, is a leaf or is a twig or-something-else.\n\nPart-9: 'Relations between roles'.\n\nComment: 'Role equivalence and inverted roles'.\nX has-part Y if-and-only-if Y is-part-of X.\nX eats Y if-and-only-if Y is-eaten-by X.\n\nComment: 'Role subsumptions'.\nIf X is-proper-part-of Y then X is-part-of Y.\nIf X has-part something that has-part Y then X has-part Y.\n\nComment: 'Complex role subsumptions'.\nIf X is-part-of something that is-part-of Y then X is-part-of Y."
      }
     },
     "b00a9fbb66484f79acacbff96553201c": {
      "model_module": "@jupyter-widgets/output",
      "model_module_version": "1.0.0",
      "model_name": "OutputModel",
      "state": {
       "layout": "IPY_MODEL_da880ed987404926b0e5eef7d96d2e5a"
      }
     },
     "b0bf749d3aa54cb5876f768752e013e2": {
      "model_module": "@jupyter-widgets/base",
      "model_module_version": "1.1.0",
      "model_name": "LayoutModel",
      "state": {}
     },
     "b18557280c0d4e1b827179460da45136": {
      "model_module": "@jupyter-widgets/base",
      "model_module_version": "1.1.0",
      "model_name": "LayoutModel",
      "state": {
       "height": "100%",
       "width": "90%"
      }
     },
     "b3aca64dc8c740feae0ac17d0679814c": {
      "model_module": "@jupyter-widgets/output",
      "model_module_version": "1.0.0",
      "model_name": "OutputModel",
      "state": {
       "layout": "IPY_MODEL_0287b64412d1476fac61df9b498195e0"
      }
     },
     "b6c1708eb8ab423fbc381678654dde18": {
      "model_module": "ontoedit",
      "model_module_version": "1.1.0",
      "model_name": "OntoeditModel",
      "state": {
       "_model_module_version": "1.1.0",
       "_view_module_version": "",
       "cursor": 166,
       "hints": "&lt;Proper-Name&gt;<br/>Every<br/>Every-single-thing<br/>If<br/>No<br/>Nothing<br/>Something<br/>The<br/>X",
       "hintsX": 166,
       "layout": "IPY_MODEL_865ed95805f44073ac10f4b4757bd1a0",
       "value": "Comment: 'Lets name our instances'.\nComment: 'Lets specify the hierarchy of beings'. \nComment: 'What is what?'.\n\nEvery lion is an animal.\nEvery giraffe is an animal.\n\nComment: 'Moreover'.\nEvery impala is an animal.\nEvery omnivore is an animal.\nEvery rock-dassie is an animal.\nEvery warthog is an animal.\nEvery carnivore is an animal.\nEvery herbivore is an animal.\nEvery elephant is a herbivore.\nEvery lion is carnivore.\n\nComment: 'There are also plants there:'.\nEvery tree is a plant.\nEvery grass is a plant.\nEvery palm-tree is a plant.\n\nEvery branch is a plant-part.\nEvery leaf is a plant-part.\nEvery twig is a plant-part.\n\nEvery phloem is a plant-part.\nEvery root is a plant-part.\nEvery parsnip is a root.\nEvery stem is a plant-part.\nEvery xylem is a plant-part.\nEvery fruiting-body is a plant-part.\nEvery berry is a fruiting-body.\nEvery apple is a fruiting-body.\n\nComment: 'We cannot use adjectives directly. To specify adjectives we need to transform them into sets that have form of buzzy-words'.\nEvery tasty-plant is a plant.\nEvery carnivorous-plant is a plant.\n"
      }
     },
     "ba703b23f64a4ac9bc68ac9552802303": {
      "model_module": "@jupyter-widgets/base",
      "model_module_version": "1.1.0",
      "model_name": "LayoutModel",
      "state": {
       "height": "300px"
      }
     },
     "bb14a3aef3864813a7002faff9fc6b16": {
      "model_module": "ontoedit",
      "model_module_version": "1.1.0",
      "model_name": "OntoeditModel",
      "state": {
       "_model_module_version": "1.1.0",
       "_view_module_version": "",
       "cursor": 89,
       "hints": "&lt;natural number&gt;",
       "hintsX": 80,
       "layout": "IPY_MODEL_c17c106402064e86b728cf51a20e3f93",
       "value": "Leo-01 is a lion.\nLeo-01 eats Sophie-01.\nSophie-01 is a giraffe.\nSophie-01 eats Branch-01.\nMary-01 is a tree.\nBranch-01 is a branch and is-proper-part-of Mary-01.\n"
      }
     },
     "bfdcdc39eeb04946a97cd9562372bc04": {
      "model_module": "@jupyter-widgets/base",
      "model_module_version": "1.1.0",
      "model_name": "LayoutModel",
      "state": {
       "height": "100%",
       "width": "90%"
      }
     },
     "c17c106402064e86b728cf51a20e3f93": {
      "model_module": "@jupyter-widgets/base",
      "model_module_version": "1.1.0",
      "model_name": "LayoutModel",
      "state": {
       "height": "100%",
       "width": "90%"
      }
     },
     "c1cc842e2c754beaaa916279adfd386c": {
      "model_module": "ontoedit",
      "model_module_version": "1.1.0",
      "model_name": "OntoeditModel",
      "state": {
       "_model_module_version": "1.1.0",
       "_view_module_version": "",
       "layout": "IPY_MODEL_341331d0bde34d979b78eac118690943",
       "value": "Leo-01 is a lion.\nLeo-01 eats Sophie-01.\nSophie-01 is a giraffe.\nSophie-01 eats Leaf-01.\nMary-01 is a tree.\nLeaf-01 is a leaf and is-part-of Branch-02.\nBranch-02 is a branch and is-part-of Branch-01.\nBranch-01 is a branch and is-part-of Mary-01.\nBranch-03 is a branch."
      }
     },
     "c1e34aeacb524c99a1c32e8cc8c9413a": {
      "model_module": "@jupyter-widgets/base",
      "model_module_version": "1.1.0",
      "model_name": "LayoutModel",
      "state": {
       "height": "300px"
      }
     },
     "c2922a5ec6e44f0fa89f7993482f603c": {
      "model_module": "@jupyter-widgets/base",
      "model_module_version": "1.1.0",
      "model_name": "LayoutModel",
      "state": {}
     },
     "c31ba60b449d4f539dcbf422e55d8814": {
      "model_module": "@jupyter-widgets/base",
      "model_module_version": "1.1.0",
      "model_name": "LayoutModel",
      "state": {}
     },
     "c370339aafb24857915cb2b2d2ab7980": {
      "model_module": "@jupyter-widgets/base",
      "model_module_version": "1.1.0",
      "model_name": "LayoutModel",
      "state": {}
     },
     "c3b494913b23455082fcb63616b57646": {
      "model_module": "@jupyter-widgets/controls",
      "model_module_version": "1.4.0",
      "model_name": "VBoxModel",
      "state": {
       "children": [
        "IPY_MODEL_075ca95d3ff64fdf8542061a5f907fdc",
        "IPY_MODEL_69339d07f80c4b42a0ca64e1e93f2940"
       ],
       "layout": "IPY_MODEL_ce2e3b8fdc324d989c349ad9a641ca61"
      }
     },
     "c4809ee837e84bbba2bd1dc44a5cdc69": {
      "model_module": "@jupyter-widgets/base",
      "model_module_version": "1.1.0",
      "model_name": "LayoutModel",
      "state": {}
     },
     "c7c7716cd5034ec7a3235e29964fa9d9": {
      "model_module": "@jupyter-widgets/output",
      "model_module_version": "1.0.0",
      "model_name": "OutputModel",
      "state": {
       "layout": "IPY_MODEL_ec97c88651864e3ca37f08c0e7906155"
      }
     },
     "c7fe458b7f814978a92e90b0b53c295c": {
      "model_module": "@jupyter-widgets/base",
      "model_module_version": "1.1.0",
      "model_name": "LayoutModel",
      "state": {
       "height": "300px"
      }
     },
     "cb714303465343599e7daddd09b77893": {
      "model_module": "@jupyter-widgets/base",
      "model_module_version": "1.1.0",
      "model_name": "LayoutModel",
      "state": {
       "height": "100%",
       "width": "90%"
      }
     },
     "cbb49564f07a44bdb9bdcc6dc6b14644": {
      "model_module": "@jupyter-widgets/base",
      "model_module_version": "1.1.0",
      "model_name": "LayoutModel",
      "state": {}
     },
     "ccf001a3c0464bea8feb875691549208": {
      "model_module": "@jupyter-widgets/output",
      "model_module_version": "1.0.0",
      "model_name": "OutputModel",
      "state": {
       "layout": "IPY_MODEL_c31ba60b449d4f539dcbf422e55d8814"
      }
     },
     "cdb640c492eb40d986642b7b0cf89db1": {
      "model_module": "@jupyter-widgets/output",
      "model_module_version": "1.0.0",
      "model_name": "OutputModel",
      "state": {
       "layout": "IPY_MODEL_cbb49564f07a44bdb9bdcc6dc6b14644"
      }
     },
     "ce2e3b8fdc324d989c349ad9a641ca61": {
      "model_module": "@jupyter-widgets/base",
      "model_module_version": "1.1.0",
      "model_name": "LayoutModel",
      "state": {
       "height": "300px"
      }
     },
     "d54e4a0ee8f44ecbb8074b55bef1cad5": {
      "model_module": "@jupyter-widgets/base",
      "model_module_version": "1.1.0",
      "model_name": "LayoutModel",
      "state": {}
     },
     "d57f6e38f7004528888075094f48a5c5": {
      "model_module": "@jupyter-widgets/controls",
      "model_module_version": "1.4.0",
      "model_name": "VBoxModel",
      "state": {
       "children": [
        "IPY_MODEL_b00a9fbb66484f79acacbff96553201c",
        "IPY_MODEL_52741d97d4f0452e8bffb57f6e008c08",
        "IPY_MODEL_ccf001a3c0464bea8feb875691549208"
       ],
       "layout": "IPY_MODEL_31026f2d97cf487b9752010b7a2245d8"
      }
     },
     "d66764a2add44d99aa42b9900ec34efa": {
      "model_module": "@jupyter-widgets/controls",
      "model_module_version": "1.4.0",
      "model_name": "VBoxModel",
      "state": {
       "children": [
        "IPY_MODEL_8299fafb9989402e9259aa0b848881e2",
        "IPY_MODEL_2ee595c943434b3288bd80d13a391707"
       ],
       "layout": "IPY_MODEL_260916fd573c4e118c8d6fdeed6c1d4d"
      }
     },
     "d6c24200739c486fa395a2d6f15f4c29": {
      "model_module": "@jupyter-widgets/controls",
      "model_module_version": "1.4.0",
      "model_name": "VBoxModel",
      "state": {
       "children": [
        "IPY_MODEL_b6c1708eb8ab423fbc381678654dde18",
        "IPY_MODEL_91212d33087f4872ab96d1d2adac582a"
       ],
       "layout": "IPY_MODEL_d786ada62a30448b8081a35a036fbf3d"
      }
     },
     "d786ada62a30448b8081a35a036fbf3d": {
      "model_module": "@jupyter-widgets/base",
      "model_module_version": "1.1.0",
      "model_name": "LayoutModel",
      "state": {
       "height": "300px"
      }
     },
     "d810833472c54ff1a38f821261445bdb": {
      "model_module": "@jupyter-widgets/base",
      "model_module_version": "1.1.0",
      "model_name": "LayoutModel",
      "state": {}
     },
     "d8f23781ffc74fb797fe78016d7b58e4": {
      "model_module": "@jupyter-widgets/base",
      "model_module_version": "1.1.0",
      "model_name": "LayoutModel",
      "state": {
       "height": "100%",
       "width": "90%"
      }
     },
     "d9c2b88b505b48a4b6c2c57cd93f7776": {
      "model_module": "@jupyter-widgets/base",
      "model_module_version": "1.1.0",
      "model_name": "LayoutModel",
      "state": {}
     },
     "d9cb1abd82e245e987efdff390856b01": {
      "model_module": "@jupyter-widgets/base",
      "model_module_version": "1.1.0",
      "model_name": "LayoutModel",
      "state": {}
     },
     "da880ed987404926b0e5eef7d96d2e5a": {
      "model_module": "@jupyter-widgets/base",
      "model_module_version": "1.1.0",
      "model_name": "LayoutModel",
      "state": {}
     },
     "daee7295113f4ab588ec50dacbc01003": {
      "model_module": "@jupyter-widgets/base",
      "model_module_version": "1.1.0",
      "model_name": "LayoutModel",
      "state": {}
     },
     "db4059a12cb34224934499d5b329f6c6": {
      "model_module": "@jupyter-widgets/base",
      "model_module_version": "1.1.0",
      "model_name": "LayoutModel",
      "state": {}
     },
     "db6bc8d6d0d54e2484718dee857e30e1": {
      "model_module": "@jupyter-widgets/base",
      "model_module_version": "1.1.0",
      "model_name": "LayoutModel",
      "state": {}
     },
     "dc33986a1b82473796f0e43e7b8960d2": {
      "model_module": "@jupyter-widgets/controls",
      "model_module_version": "1.4.0",
      "model_name": "VBoxModel",
      "state": {
       "children": [
        "IPY_MODEL_490fd126b35c4016a45f2265268f5ef0",
        "IPY_MODEL_27ad5c8d383e457a9920d5cb29f64853"
       ],
       "layout": "IPY_MODEL_f2d6e500963644e1ace9c82d3d895f68"
      }
     },
     "dd75b77ca52a43a9868c62b289a4e4e1": {
      "model_module": "@jupyter-widgets/output",
      "model_module_version": "1.0.0",
      "model_name": "OutputModel",
      "state": {
       "layout": "IPY_MODEL_db6bc8d6d0d54e2484718dee857e30e1"
      }
     },
     "df07f4cbd3574e08868b7543bb5cb15a": {
      "model_module": "@jupyter-widgets/base",
      "model_module_version": "1.1.0",
      "model_name": "LayoutModel",
      "state": {
       "height": "100%",
       "width": "90%"
      }
     },
     "df45bd0d614e4f8dbc1d38058dc993e7": {
      "model_module": "@jupyter-widgets/base",
      "model_module_version": "1.1.0",
      "model_name": "LayoutModel",
      "state": {
       "height": "300px"
      }
     },
     "df59fa382ea5464699bf03b221ac05e1": {
      "model_module": "@jupyter-widgets/base",
      "model_module_version": "1.1.0",
      "model_name": "LayoutModel",
      "state": {}
     },
     "e16c8b4b7cb8450f87b6a37e7c8d2caf": {
      "model_module": "@jupyter-widgets/base",
      "model_module_version": "1.1.0",
      "model_name": "LayoutModel",
      "state": {}
     },
     "e18af0cea30b4af3a6cf1099f055219c": {
      "model_module": "@jupyter-widgets/controls",
      "model_module_version": "1.4.0",
      "model_name": "VBoxModel",
      "state": {
       "children": [
        "IPY_MODEL_e1d32be0fd784adb901538ecaea234af",
        "IPY_MODEL_e5a39ffce83d482a9bb07ef05f75f0c2"
       ],
       "layout": "IPY_MODEL_ba703b23f64a4ac9bc68ac9552802303"
      }
     },
     "e1d32be0fd784adb901538ecaea234af": {
      "model_module": "ontoedit",
      "model_module_version": "1.1.0",
      "model_name": "OntoeditModel",
      "state": {
       "_model_module_version": "1.1.0",
       "_view_module_version": "",
       "layout": "IPY_MODEL_a23f3db72e844fd38d5d05b950980e06",
       "value": "Every-single-thing that is a plant and-or is a plant-part is a herb.\nNo herb is an animal.\n\nEvery carnivore eats nothing-but animals.\nEvery lion eats nothing-but herbivores.\n\nEvery herbivore eats nothing-but herb.\n\nAnything either is a carnivore, is a herbivore or is an omnivore or-something-else.\nAnything either is a branch, is a leaf or is a twig or-something-else.\n\nNo giraffe is a lion.\nEvery palm-tree is not a tree.\n"
      }
     },
     "e26922aed1324c3cb824535d8f1eba7a": {
      "model_module": "@jupyter-widgets/output",
      "model_module_version": "1.0.0",
      "model_name": "OutputModel",
      "state": {
       "layout": "IPY_MODEL_08a658b923de47b7add2517b8353da1a"
      }
     },
     "e278e56780d1428c826f7d861d407183": {
      "model_module": "@jupyter-widgets/base",
      "model_module_version": "1.1.0",
      "model_name": "LayoutModel",
      "state": {
       "height": "300px"
      }
     },
     "e445e8ca520940b8aa5759ab19428243": {
      "model_module": "@jupyter-widgets/base",
      "model_module_version": "1.1.0",
      "model_name": "LayoutModel",
      "state": {
       "height": "300px"
      }
     },
     "e47665c42c1e462aa1fcecac0816fa09": {
      "model_module": "@jupyter-widgets/controls",
      "model_module_version": "1.4.0",
      "model_name": "VBoxModel",
      "state": {
       "children": [
        "IPY_MODEL_1d27dea574734e228e02e981579f0e48",
        "IPY_MODEL_3e2147d0702741bbb1963715683ba2ff"
       ],
       "layout": "IPY_MODEL_704fa12b89334f67b30097d1c39534c9"
      }
     },
     "e4e340eba47048e182a7727741432dc5": {
      "model_module": "@jupyter-widgets/controls",
      "model_module_version": "1.4.0",
      "model_name": "VBoxModel",
      "state": {
       "children": [
        "IPY_MODEL_a83fc2b5087147fda70ef91ec71c9636",
        "IPY_MODEL_0529b65148e34a3f84378822394dbb23"
       ],
       "layout": "IPY_MODEL_46b6bc391f7d47cb95796e1c5effa3cb"
      }
     },
     "e5a39ffce83d482a9bb07ef05f75f0c2": {
      "model_module": "@jupyter-widgets/output",
      "model_module_version": "1.0.0",
      "model_name": "OutputModel",
      "state": {
       "layout": "IPY_MODEL_efae18bdcab04718b11c37b244e41d0f"
      }
     },
     "e65e067cfdfa4e8eabc514464b7e6d79": {
      "model_module": "ontoedit",
      "model_module_version": "1.1.0",
      "model_name": "OntoeditModel",
      "state": {
       "_model_module_version": "1.1.0",
       "_view_module_version": "",
       "layout": "IPY_MODEL_4d859fd0df3e4b1099684200a4f5ea13",
       "value": "Every carnivorous-plant must eat an animal.\nEvery carnivor must eat an animal.\nEvery omnivore must eat a plant.\nEvery branch must be-part-of a tree.\nEvery plant-part must be-part-of a plant.\n\nComment: 'Role equivalence and inverted roles'.\nX has-part Y if-and-only-if Y is-part-of X.\nX eats Y if-and-only-if Y is-eaten-by X.\n\nComment: 'Role subsumptions'.\nIf X is-part-of Y then X is-part-of Y.\nIf X has-part something that has-part Y then X has-part Y.\n\nComment: 'Complex role subsumptions'.\nIf X is-part-of something that is-part-of Y then X is-part-of Y.\n"
      }
     },
     "e736dda042e74aac96c321bed782241e": {
      "model_module": "ontoedit",
      "model_module_version": "1.1.0",
      "model_name": "OntoeditModel",
      "state": {
       "_model_module_version": "1.1.0",
       "_view_module_version": "",
       "layout": "IPY_MODEL_34a127ddc9f3425d855562e734e8582e"
      }
     },
     "e87806312d1343ce83bb2bb743ba1b80": {
      "model_module": "@jupyter-widgets/base",
      "model_module_version": "1.1.0",
      "model_name": "LayoutModel",
      "state": {}
     },
     "e95aa04a0587464ba4602b494ff2b472": {
      "model_module": "ontoedit",
      "model_module_version": "1.1.0",
      "model_name": "OntoeditModel",
      "state": {
       "_model_module_version": "1.1.0",
       "_view_module_version": "",
       "layout": "IPY_MODEL_a6d8f4abcb594d9c8c0df1d48de451e1",
       "value": "Leo-01 is a lion.\nLeo-01 eats Sophie-01.\nSophie-01 is a giraffe.\nLeo-01 eats Mary-01.\nMary-01 is a palm-tree.\n"
      }
     },
     "ea50e21fc54b4d97b922faa6337bdfe7": {
      "model_module": "@jupyter-widgets/base",
      "model_module_version": "1.1.0",
      "model_name": "LayoutModel",
      "state": {}
     },
     "eb60a5c7b71b42e096ca618392a788d4": {
      "model_module": "@jupyter-widgets/base",
      "model_module_version": "1.1.0",
      "model_name": "LayoutModel",
      "state": {}
     },
     "eb7f5c7b600f433dbe22183849e5f30b": {
      "model_module": "@jupyter-widgets/base",
      "model_module_version": "1.1.0",
      "model_name": "LayoutModel",
      "state": {}
     },
     "ec97c88651864e3ca37f08c0e7906155": {
      "model_module": "@jupyter-widgets/base",
      "model_module_version": "1.1.0",
      "model_name": "LayoutModel",
      "state": {}
     },
     "edb2db2d34c248249a938a00c0f98a07": {
      "model_module": "@jupyter-widgets/base",
      "model_module_version": "1.1.0",
      "model_name": "LayoutModel",
      "state": {}
     },
     "edfd7c1406474ef8b6008fa01533a9f1": {
      "model_module": "@jupyter-widgets/output",
      "model_module_version": "1.0.0",
      "model_name": "OutputModel",
      "state": {
       "layout": "IPY_MODEL_d9cb1abd82e245e987efdff390856b01"
      }
     },
     "ee2dd188cbe048cd98f09aa693d4aae4": {
      "model_module": "@jupyter-widgets/controls",
      "model_module_version": "1.4.0",
      "model_name": "VBoxModel",
      "state": {
       "children": [
        "IPY_MODEL_bb14a3aef3864813a7002faff9fc6b16",
        "IPY_MODEL_ef6cc581fc9c483fa9f40c0299bb4106"
       ],
       "layout": "IPY_MODEL_88e3f3eb628649cbaa595601364bada4"
      }
     },
     "ef6cc581fc9c483fa9f40c0299bb4106": {
      "model_module": "@jupyter-widgets/output",
      "model_module_version": "1.0.0",
      "model_name": "OutputModel",
      "state": {
       "layout": "IPY_MODEL_1786ad24fa9d463aa9ad86dcacd6b971"
      }
     },
     "efae18bdcab04718b11c37b244e41d0f": {
      "model_module": "@jupyter-widgets/base",
      "model_module_version": "1.1.0",
      "model_name": "LayoutModel",
      "state": {}
     },
     "efcb094f11be4d558dfe247c7614db95": {
      "model_module": "@jupyter-widgets/base",
      "model_module_version": "1.1.0",
      "model_name": "LayoutModel",
      "state": {
       "height": "100%",
       "width": "90%"
      }
     },
     "f0f6655efb3d4a67824e88522b093252": {
      "model_module": "@jupyter-widgets/controls",
      "model_module_version": "1.4.0",
      "model_name": "VBoxModel",
      "state": {
       "children": [
        "IPY_MODEL_687f88667abb40929c0d1ac2acbc9281",
        "IPY_MODEL_2401f4a10a284f68920b1eb13a0ef3f1"
       ],
       "layout": "IPY_MODEL_08826d1d1e2d4efa9364b5d2bafa3c93"
      }
     },
     "f1b9951724734f07987cdd4aef154383": {
      "model_module": "@jupyter-widgets/controls",
      "model_module_version": "1.4.0",
      "model_name": "VBoxModel",
      "state": {
       "children": [
        "IPY_MODEL_acf1c5a99f7843fd8fe8da70d0aac47f",
        "IPY_MODEL_8b52933a93d84df1bc039f960cacf560"
       ],
       "layout": "IPY_MODEL_e445e8ca520940b8aa5759ab19428243"
      }
     },
     "f1e6f830e9f945efb4e325a458679887": {
      "model_module": "@jupyter-widgets/base",
      "model_module_version": "1.1.0",
      "model_name": "LayoutModel",
      "state": {}
     },
     "f2d6e500963644e1ace9c82d3d895f68": {
      "model_module": "@jupyter-widgets/base",
      "model_module_version": "1.1.0",
      "model_name": "LayoutModel",
      "state": {
       "height": "300px"
      }
     },
     "f2dac51fb55347f2bf9f5f781b9e4558": {
      "model_module": "@jupyter-widgets/base",
      "model_module_version": "1.1.0",
      "model_name": "LayoutModel",
      "state": {}
     },
     "f4ea8cdd8b5c4157a727af4af9d67cb3": {
      "model_module": "@jupyter-widgets/base",
      "model_module_version": "1.1.0",
      "model_name": "LayoutModel",
      "state": {
       "height": "100%",
       "width": "90%"
      }
     },
     "f7410d5947704d05b636e488c607ec0e": {
      "model_module": "@jupyter-widgets/base",
      "model_module_version": "1.1.0",
      "model_name": "LayoutModel",
      "state": {
       "height": "100%",
       "width": "90%"
      }
     },
     "f79246661c1941fb8047812a618edbea": {
      "model_module": "@jupyter-widgets/base",
      "model_module_version": "1.1.0",
      "model_name": "LayoutModel",
      "state": {
       "height": "100px"
      }
     },
     "f7e95e3d43544ddfb6c69338a006cace": {
      "model_module": "@jupyter-widgets/base",
      "model_module_version": "1.1.0",
      "model_name": "LayoutModel",
      "state": {
       "height": "300px"
      }
     },
     "f81355e7f2a34681bf8ca14e71dbf938": {
      "model_module": "@jupyter-widgets/output",
      "model_module_version": "1.0.0",
      "model_name": "OutputModel",
      "state": {
       "layout": "IPY_MODEL_edb2db2d34c248249a938a00c0f98a07"
      }
     },
     "f81dc3d2747142f9ac59bd2ccb85dc67": {
      "model_module": "@jupyter-widgets/output",
      "model_module_version": "1.0.0",
      "model_name": "OutputModel",
      "state": {
       "layout": "IPY_MODEL_5f92d7eda9e4489591fce827af8d659b"
      }
     },
     "f9ced4f7f8f84c4cbed97f862b03e763": {
      "model_module": "@jupyter-widgets/base",
      "model_module_version": "1.1.0",
      "model_name": "LayoutModel",
      "state": {
       "height": "300px"
      }
     }
    },
    "version_major": 2,
    "version_minor": 0
   }
  }
 },
 "nbformat": 4,
 "nbformat_minor": 2
}
