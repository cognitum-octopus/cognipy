{
 "cells": [
  {
   "cell_type": "markdown",
   "metadata": {},
   "source": [
    "# Safari"
   ]
  },
  {
   "cell_type": "markdown",
   "metadata": {},
   "source": [
    "**Setting up the environment**\n",
    "Initialization of the Ontology editor in Jupyter Notebook"
   ]
  },
  {
   "cell_type": "code",
   "execution_count": 1,
   "metadata": {},
   "outputs": [],
   "source": [
    "from cognipy.ontology import Ontology #the ontology processing class\n",
    "from cognipy.ontology import CQL #SPARQL format tailored for Contolled Natural Language\n",
    "from cognipy.edit import CnlEditBox #The pywidget based ontology editor (offspirng of the Fluent Editor)\n",
    "from cognipy.edit import CnlQueryForConcept #The pywidget based ontology quaty widget \n",
    "from cognipy.ontology import encode_string_for_graph_label #complex datatypes encoder for the graph labels in graph visualisation\n",
    "import textwrap\n",
    "\n",
    "def graph_attribute_formatter(val):\n",
    "    if isinstance(val,list) or isinstance(val,set):\n",
    "        return \" | \".join(list(map(lambda i:encode_string_for_graph_label(graph_attribute_formatter(i)),val)))\n",
    "    elif isinstance(val,dict):\n",
    "        return \" | \".join(list(map(lambda i:i[0]+\" : \"+encode_string_for_graph_label(graph_attribute_formatter(i[1])),val.items())))\n",
    "    else:\n",
    "        return encode_string_for_graph_label(textwrap.fill(str(val),40))"
   ]
  },
  {
   "cell_type": "markdown",
   "metadata": {},
   "source": [
    "### African Wildlife.\n",
    "Loading the editor for the basic \"safari\" ontology. The Ontology is inspired by 'A Semantic Web Primer.' by 'Antoniou, G, van Harmelen, F.' 'MIT Press, 2003.' 'http://www.csd.uoc.gr/~hy566/SWbook.pdf', tuned to OWL/RL+SWRL profile."
   ]
  },
  {
   "cell_type": "markdown",
   "metadata": {},
   "source": [
    "### Part-1: 'simple hierarchy of beings'. "
   ]
  },
  {
   "cell_type": "markdown",
   "metadata": {},
   "source": [
    "We will have many editors here and we will store all of them in the dict"
   ]
  },
  {
   "cell_type": "code",
   "execution_count": 2,
   "metadata": {},
   "outputs": [],
   "source": [
    "parts_editors={}"
   ]
  },
  {
   "cell_type": "markdown",
   "metadata": {},
   "source": [
    "Lets setup the fist ontology editor for the general knowledge. The editor allows you to enter the knowledge in text format, and support you with the prdictive editor."
   ]
  },
  {
   "cell_type": "code",
   "execution_count": 3,
   "metadata": {},
   "outputs": [
    {
     "data": {
      "application/javascript": [
       "/* jshint browser: true */\n",
       "\n",
       "(function () {\n",
       "\n",
       "// We'll copy the properties below into the mirror div.\n",
       "// Note that some browsers, such as Firefox, do not concatenate properties\n",
       "// into their shorthand (e.g. padding-top, padding-bottom etc. -> padding),\n",
       "// so we have to list every single property explicitly.\n",
       "var properties = [\n",
       "  'direction',  // RTL support\n",
       "  'boxSizing',\n",
       "  'width',  // on Chrome and IE, exclude the scrollbar, so the mirror div wraps exactly as the textarea does\n",
       "  'height',\n",
       "  'overflowX',\n",
       "  'overflowY',  // copy the scrollbar for IE\n",
       "\n",
       "  'borderTopWidth',\n",
       "  'borderRightWidth',\n",
       "  'borderBottomWidth',\n",
       "  'borderLeftWidth',\n",
       "  'borderStyle',\n",
       "\n",
       "  'paddingTop',\n",
       "  'paddingRight',\n",
       "  'paddingBottom',\n",
       "  'paddingLeft',\n",
       "\n",
       "  // https://developer.mozilla.org/en-US/docs/Web/CSS/font\n",
       "  'fontStyle',\n",
       "  'fontVariant',\n",
       "  'fontWeight',\n",
       "  'fontStretch',\n",
       "  'fontSize',\n",
       "  'fontSizeAdjust',\n",
       "  'lineHeight',\n",
       "  'fontFamily',\n",
       "\n",
       "  'textAlign',\n",
       "  'textTransform',\n",
       "  'textIndent',\n",
       "  'textDecoration',  // might not make a difference, but better be safe\n",
       "\n",
       "  'letterSpacing',\n",
       "  'wordSpacing',\n",
       "\n",
       "  'tabSize',\n",
       "  'MozTabSize'\n",
       "\n",
       "];\n",
       "\n",
       "var isBrowser = (typeof window !== 'undefined');\n",
       "var isFirefox = (isBrowser && window.mozInnerScreenX != null);\n",
       "\n",
       "function getCaretCoordinates(element, position, options) {\n",
       "  if (!isBrowser) {\n",
       "    throw new Error('textarea-caret-position#getCaretCoordinates should only be called in a browser');\n",
       "  }\n",
       "\n",
       "  var debug = options && options.debug || false;\n",
       "  if (debug) {\n",
       "    var el = document.querySelector('#input-textarea-caret-position-mirror-div');\n",
       "    if (el) el.parentNode.removeChild(el);\n",
       "  }\n",
       "\n",
       "  // The mirror div will replicate the textarea's style\n",
       "  var div = document.createElement('div');\n",
       "  div.id = 'input-textarea-caret-position-mirror-div';\n",
       "  document.body.appendChild(div);\n",
       "\n",
       "  var style = div.style;\n",
       "  var computed = window.getComputedStyle ? window.getComputedStyle(element) : element.currentStyle;  // currentStyle for IE < 9\n",
       "  var isInput = element.nodeName === 'INPUT';\n",
       "\n",
       "  // Default textarea styles\n",
       "  style.whiteSpace = 'pre-wrap';\n",
       "  if (!isInput)\n",
       "    style.wordWrap = 'break-word';  // only for textarea-s\n",
       "\n",
       "  // Position off-screen\n",
       "  style.position = 'absolute';  // required to return coordinates properly\n",
       "  if (!debug)\n",
       "    style.visibility = 'hidden';  // not 'display: none' because we want rendering\n",
       "\n",
       "  // Transfer the element's properties to the div\n",
       "  properties.forEach(function (prop) {\n",
       "    if (isInput && prop === 'lineHeight') {\n",
       "      // Special case for <input>s because text is rendered centered and line height may be != height\n",
       "      if (computed.boxSizing === \"border-box\") {\n",
       "        var height = parseInt(computed.height);\n",
       "        var outerHeight =\n",
       "          parseInt(computed.paddingTop) +\n",
       "          parseInt(computed.paddingBottom) +\n",
       "          parseInt(computed.borderTopWidth) +\n",
       "          parseInt(computed.borderBottomWidth);\n",
       "        var targetHeight = outerHeight + parseInt(computed.lineHeight);\n",
       "        if (height > targetHeight) {\n",
       "          style.lineHeight = height - outerHeight + \"px\";\n",
       "        } else if (height === targetHeight) {\n",
       "          style.lineHeight = computed.lineHeight;\n",
       "        } else {\n",
       "          style.lineHeight = 0;\n",
       "        }\n",
       "      } else {\n",
       "        style.lineHeight = computed.height;\n",
       "      }\n",
       "    } else {\n",
       "      style[prop] = computed[prop];\n",
       "    }\n",
       "  });\n",
       "\n",
       "  if (isFirefox) {\n",
       "    // Firefox lies about the overflow property for textareas: https://bugzilla.mozilla.org/show_bug.cgi?id=984275\n",
       "    if (element.scrollHeight > parseInt(computed.height))\n",
       "      style.overflowY = 'scroll';\n",
       "  } else {\n",
       "    style.overflow = 'hidden';  // for Chrome to not render a scrollbar; IE keeps overflowY = 'scroll'\n",
       "  }\n",
       "\n",
       "  div.textContent = element.value.substring(0, position);\n",
       "  // The second special handling for input type=\"text\" vs textarea:\n",
       "  // spaces need to be replaced with non-breaking spaces - http://stackoverflow.com/a/13402035/1269037\n",
       "  if (isInput)\n",
       "    div.textContent = div.textContent.replace(/\\s/g, '\\u00a0');\n",
       "\n",
       "  var span = document.createElement('span');\n",
       "  // Wrapping must be replicated *exactly*, including when a long word gets\n",
       "  // onto the next line, with whitespace at the end of the line before (#7).\n",
       "  // The  *only* reliable way to do that is to copy the *entire* rest of the\n",
       "  // textarea's content into the <span> created at the caret position.\n",
       "  // For inputs, just '.' would be enough, but no need to bother.\n",
       "  span.textContent = element.value.substring(position) || '.';  // || because a completely empty faux span doesn't render at all\n",
       "  div.appendChild(span);\n",
       "\n",
       "  var coordinates = {\n",
       "    top: span.offsetTop + parseInt(computed['borderTopWidth']),\n",
       "    left: span.offsetLeft + parseInt(computed['borderLeftWidth']),\n",
       "    height: parseInt(computed['lineHeight'])\n",
       "  };\n",
       "\n",
       "  if (debug) {\n",
       "    span.style.backgroundColor = '#aaa';\n",
       "  } else {\n",
       "    document.body.removeChild(div);\n",
       "  }\n",
       "\n",
       "  return coordinates;\n",
       "}\n",
       "\n",
       "if (typeof module != 'undefined' && typeof module.exports != 'undefined') {\n",
       "  module.exports = getCaretCoordinates;\n",
       "} else if(isBrowser) {\n",
       "  window.getCaretCoordinates = getCaretCoordinates;\n",
       "}\n",
       "\n",
       "}());\n",
       "\n",
       "require.undef('ontoedit');\n",
       "\n",
       "define('ontoedit', [\"@jupyter-widgets/base\"], function(widgets) {\n",
       "\n",
       "    var OntoeditModel = widgets.TextareaModel.extend({\n",
       "\n",
       "        defaults: $.extend(widgets.TextareaModel.prototype.defaults(), {\n",
       "            _model_name: \"OntoeditModel\",\n",
       "            _view_name: \"OntoeditView\",\n",
       "            _model_module: \"ontoedit\",\n",
       "            _view_module: \"ontoedit\",\n",
       "            rows: null,\n",
       "            continuous_update: true,\n",
       "            cursor: 0,\n",
       "            dot:0,\n",
       "            hints:'',\n",
       "            hintsX:0,\n",
       "            hintT:''\n",
       "        })\n",
       "    });\n",
       "\n",
       "    var OntoeditView = widgets.TextareaView.extend({\n",
       "\n",
       "        render: function() {\n",
       "            OntoeditView.__super__.render.apply(this, arguments);\n",
       "            this.model.on('change:hints', this.hints_changed, this);\n",
       "            this.model.on('change:hintsX', this.hintsX_changed, this);\n",
       "\n",
       "            var model = this.model;\n",
       "            var that = this;\n",
       "\n",
       "            var last_position = 0;\n",
       "\n",
       "            function cursor_changed(element) {\n",
       "                var new_position = getCursorPosition(element);\n",
       "                if (new_position !== last_position) {\n",
       "                    last_position = new_position;\n",
       "                    return true;\n",
       "                }\n",
       "                return false;\n",
       "            }\n",
       "\n",
       "            function getCursorPosition(element) {\n",
       "                var el = $(element).get(0);\n",
       "                var pos = 0;\n",
       "                if ('selectionStart' in el) {\n",
       "                    pos = el.selectionStart;\n",
       "                } else if ('selection' in document) {\n",
       "                    el.focus();\n",
       "                    var Sel = document.selection.createRange();\n",
       "                    var SelLength = document.selection.createRange().text.length;\n",
       "                    Sel.moveStart('character', -el.value.length);\n",
       "                    pos = Sel.text.length - SelLength;\n",
       "                }\n",
       "                return pos;\n",
       "            }\n",
       "\n",
       "            var oldVal = \"\";\n",
       "\n",
       "            this.dd=$('<div style=\"-moz-appearance: textfield-multiline;-webkit-appearance: textarea;font: medium -moz-fixed; font: -webkit-small-control; position: absolute;z-index: 1; background-color:navy;color:white;box-shadow: 0px 8px 16px 0px rgba(0,0,0,0.4); \"/>')\n",
       "\n",
       "            $(this.el).bind(\"click keyup focus\",function(e){\n",
       "                if (that.dd.get(0).style.visibility!=\"visible\")\n",
       "                    return;\n",
       "                \n",
       "                var ele=$($(that.el).children(\"textarea\")[0])\n",
       "\n",
       "                if(cursor_changed(ele)){\n",
       "                   var  cursor = getCursorPosition(ele);\n",
       "//                    console.log(cursor);\n",
       "//                    console.log('(top, left, height) = (%s, %s, %s)', caret.top, caret.left, caret.height);\n",
       "                    model.set('cursor',cursor);\n",
       "//                    console.log(cursor)\n",
       "                    that.touch();\n",
       "                }\n",
       "            });\n",
       "\n",
       "            $($(this.el).children(\"textarea\")[0]).bind(\"blur\",function(e){\n",
       "//                console.log(\"blur\")\n",
       "                  model.set('dot',model.get('dot')+1);\n",
       "                  that.touch();\n",
       "                that.dd.get(0).style.visibility=\"hidden\";\n",
       "            });\n",
       "\n",
       "            $($(this.el).children(\"textarea\")[0]).bind(\"keydown\",function(e){\n",
       "                  if (String.fromCharCode(event.which)=='\\t')\n",
       "                  {\n",
       "                        if (that.dd.get(0).style.visibility!=\"visible\")\n",
       "                        {\n",
       "                            var ele=$($(that.el).children(\"textarea\")[0])\n",
       "\n",
       "                            if(cursor_changed(ele)){\n",
       "                               var  cursor = getCursorPosition(ele);\n",
       "            //                    console.log(cursor);\n",
       "            //                    console.log('(top, left, height) = (%s, %s, %s)', caret.top, caret.left, caret.height);\n",
       "                                model.set('cursor',cursor);\n",
       "            //                    console.log(cursor)\n",
       "                                that.touch();\n",
       "                                that.dd.get(0).style.visibility=\"visible\";\n",
       "                            }\n",
       "                        }\n",
       "//                      console.log(model.get('hintT'));\n",
       "                      var target=$($(that.el).children(\"textarea\")[0])\n",
       "                      var curpos = getCursorPosition(target)\n",
       "                      var off=curpos-model.get('hintsX')\n",
       "                      var data = model.get('hintT').slice(off)\n",
       "//                      console.log(off)\n",
       "\n",
       "                      if (target.setRangeText) {\n",
       "                         //if setRangeText function is supported by current browser\n",
       "                         target.setRangeText(data)\n",
       "                      } else {\n",
       "                        target.focus()\n",
       "                        document.execCommand('insertText', false /*no UI*/, data);\n",
       "                      }\n",
       "                      e.preventDefault();\n",
       "                      return;\n",
       "                  }\n",
       "                  else if (event.key=='.')\n",
       "                  {\n",
       "                      model.set('dot',model.get('dot')+1);\n",
       "                      that.touch();\n",
       "                  }\n",
       "                  else if(event.key== \"Escape\")\n",
       "                  {\n",
       "                    that.dd.get(0).style.visibility=\"hidden\";\n",
       "                  }\n",
       "            });\n",
       "\n",
       "            // this.el represents the widget's DOM\n",
       "            $(this.el)\n",
       "            .append(this.dd)\n",
       "        },\n",
       "\n",
       "        hints_changed: function() {\n",
       "            var that = this;\n",
       "            var model = this.model;\n",
       "            that.dd.get(0).innerHTML=model.get('hints')\n",
       "//            console.log(model.get('hints'))\n",
       "        },\n",
       "        hintsX_changed: function() {\n",
       "            var that = this;\n",
       "            var model = this.model;\n",
       "            var ele=$($(that.el).children(\"textarea\")[0]);\n",
       "            element=ele.get(0);\n",
       "            var caret = getCaretCoordinates(ele.get(0), model.get('hintsX'));\n",
       "            that.dd.get(0).style.top = element.offsetTop - element.scrollTop + caret.top+ caret.height-5 + 'px';\n",
       "            that.dd.get(0).style.left = element.offsetLeft - element.scrollLeft + caret.left + 'px';\n",
       "//            that.dd.get(0).style.width = '20%';\n",
       "//            that.dd.get(0).style.height = '50%';\n",
       "            that.dd.get(0).style.fontFamily=element.style.fontFamily;\n",
       "            that.dd.get(0).style.fontSize=element.style.fontSize;\n",
       "//                        console.log(model.get('hintsX'))\n",
       "        },\n",
       "    });\n",
       "\n",
       "    return {\n",
       "        OntoeditModel : OntoeditModel,\n",
       "        OntoeditView : OntoeditView\n",
       "    };\n",
       "});\n"
      ],
      "text/plain": [
       "<IPython.core.display.Javascript object>"
      ]
     },
     "metadata": {},
     "output_type": "display_data"
    },
    {
     "data": {
      "text/html": [
       "Welcome to CogniPy"
      ],
      "text/plain": [
       "<IPython.core.display.HTML object>"
      ]
     },
     "metadata": {},
     "output_type": "display_data"
    },
    {
     "data": {
      "application/vnd.jupyter.widget-view+json": {
       "model_id": "8dfaa6dbd47648078d867f1dacb0acdf",
       "version_major": 2,
       "version_minor": 0
      },
      "text/plain": [
       "VBox(children=(Output(), OntoeditWidget(layout=Layout(height='100%', width='90%'), value=\"Namespace: 'http://c…"
      ]
     },
     "metadata": {},
     "output_type": "display_data"
    }
   ],
   "source": [
    "parts_editors['01']=CnlEditBox('part_01.encnl')\n",
    "parts_editors['01']"
   ]
  },
  {
   "cell_type": "markdown",
   "metadata": {},
   "source": [
    "Lets define the function that will build the ontology based on the dict of ontology editors and the optional additional editor for testing purposes. All it is doing it is concatenaiting the values of all the editors and puts them into the newly created ontology object."
   ]
  },
  {
   "cell_type": "code",
   "execution_count": 4,
   "metadata": {},
   "outputs": [],
   "source": [
    "def buildOntology(parts_editors,test_editor=None):\n",
    "    return Ontology(\"cnl/string\",\n",
    "                    \"\\n\\n\".join(k.getvalue() for k in parts_editors.values())+('' if test_editor is None else test_editor.getvalue()), \n",
    "                    evaluator = lambda e:eval(e,globals(),locals()), \n",
    "                    graph_attribute_formatter = graph_attribute_formatter)"
   ]
  },
  {
   "cell_type": "markdown",
   "metadata": {},
   "source": [
    "The ontology object alows you to draw the materialised graph using several layout algorythms. Lets draw our base ontology."
   ]
  },
  {
   "cell_type": "code",
   "execution_count": 6,
   "metadata": {},
   "outputs": [
    {
     "data": {
      "image/svg+xml": [
       "<svg height=\"191pt\" viewBox=\"0.00 0.00 1526.00 191.00\" width=\"1526pt\" xmlns=\"http://www.w3.org/2000/svg\" xmlns:xlink=\"http://www.w3.org/1999/xlink\">\n",
       "<g class=\"graph\" id=\"graph0\" transform=\"scale(1 1) rotate(0) translate(4 187)\">\n",
       "<title>G</title>\n",
       "<polygon fill=\"white\" points=\"-4,4 -4,-187 1522,-187 1522,4 -4,4\" stroke=\"none\"/>\n",
       "<!-- tasty&#45;plant -->\n",
       "<g class=\"node\" id=\"node1\"><title>tasty-plant</title>\n",
       "<path d=\"M12,-73.5C12,-73.5 50,-73.5 50,-73.5 56,-73.5 62,-79.5 62,-85.5 62,-85.5 62,-97.5 62,-97.5 62,-103.5 56,-109.5 50,-109.5 50,-109.5 12,-109.5 12,-109.5 6,-109.5 0,-103.5 0,-97.5 0,-97.5 0,-85.5 0,-85.5 0,-79.5 6,-73.5 12,-73.5\" fill=\"aliceblue\" stroke=\"black\" stroke-width=\"0.5\"/>\n",
       "<text font-family=\"Times New Roman,serif\" font-size=\"11.00\" text-anchor=\"middle\" x=\"31\" y=\"-88.7\">tasty-plant</text>\n",
       "</g>\n",
       "<!-- plant -->\n",
       "<g class=\"node\" id=\"node2\"><title>plant</title>\n",
       "<path d=\"M205,-146.5C205,-146.5 235,-146.5 235,-146.5 241,-146.5 247,-152.5 247,-158.5 247,-158.5 247,-170.5 247,-170.5 247,-176.5 241,-182.5 235,-182.5 235,-182.5 205,-182.5 205,-182.5 199,-182.5 193,-176.5 193,-170.5 193,-170.5 193,-158.5 193,-158.5 193,-152.5 199,-146.5 205,-146.5\" fill=\"aliceblue\" stroke=\"black\" stroke-width=\"0.5\"/>\n",
       "<text font-family=\"Times New Roman,serif\" font-size=\"11.00\" text-anchor=\"middle\" x=\"220\" y=\"-161.7\">plant</text>\n",
       "</g>\n",
       "<!-- plant&#45;&#45;tasty&#45;plant -->\n",
       "<g class=\"edge\" id=\"edge1\"><title>plant--tasty-plant</title>\n",
       "<path d=\"M183.149,-151.047C152.835,-140.617 108.86,-125.059 71,-110 68.1827,-108.879 65.2692,-107.682 62.3584,-106.458\" fill=\"none\" stroke=\"black\" stroke-width=\"0.5\"/>\n",
       "<polygon fill=\"none\" points=\"182.282,-154.45 192.877,-154.379 184.551,-147.827 182.282,-154.45\" stroke=\"black\" stroke-width=\"0.5\"/>\n",
       "</g>\n",
       "<!-- carnivorous&#45;plant -->\n",
       "<g class=\"node\" id=\"node15\"><title>carnivorous-plant</title>\n",
       "<path d=\"M92,-73.5C92,-73.5 160,-73.5 160,-73.5 166,-73.5 172,-79.5 172,-85.5 172,-85.5 172,-97.5 172,-97.5 172,-103.5 166,-109.5 160,-109.5 160,-109.5 92,-109.5 92,-109.5 86,-109.5 80,-103.5 80,-97.5 80,-97.5 80,-85.5 80,-85.5 80,-79.5 86,-73.5 92,-73.5\" fill=\"aliceblue\" stroke=\"black\" stroke-width=\"0.5\"/>\n",
       "<text font-family=\"Times New Roman,serif\" font-size=\"11.00\" text-anchor=\"middle\" x=\"126\" y=\"-88.7\">carnivorous-plant</text>\n",
       "</g>\n",
       "<!-- plant&#45;&#45;carnivorous&#45;plant -->\n",
       "<g class=\"edge\" id=\"edge12\"><title>plant--carnivorous-plant</title>\n",
       "<path d=\"M188.903,-140.012C175.716,-130.051 160.634,-118.66 148.545,-109.529\" fill=\"none\" stroke=\"black\" stroke-width=\"0.5\"/>\n",
       "<polygon fill=\"none\" points=\"187.156,-143.079 197.245,-146.313 191.375,-137.493 187.156,-143.079\" stroke=\"black\" stroke-width=\"0.5\"/>\n",
       "</g>\n",
       "<!-- palm&#45;tree -->\n",
       "<g class=\"node\" id=\"node20\"><title>palm-tree</title>\n",
       "<path d=\"M202.5,-73.5C202.5,-73.5 237.5,-73.5 237.5,-73.5 243.5,-73.5 249.5,-79.5 249.5,-85.5 249.5,-85.5 249.5,-97.5 249.5,-97.5 249.5,-103.5 243.5,-109.5 237.5,-109.5 237.5,-109.5 202.5,-109.5 202.5,-109.5 196.5,-109.5 190.5,-103.5 190.5,-97.5 190.5,-97.5 190.5,-85.5 190.5,-85.5 190.5,-79.5 196.5,-73.5 202.5,-73.5\" fill=\"aliceblue\" stroke=\"black\" stroke-width=\"0.5\"/>\n",
       "<text font-family=\"Times New Roman,serif\" font-size=\"11.00\" text-anchor=\"middle\" x=\"220\" y=\"-88.7\">palm-tree</text>\n",
       "</g>\n",
       "<!-- plant&#45;&#45;palm&#45;tree -->\n",
       "<g class=\"edge\" id=\"edge17\"><title>plant--palm-tree</title>\n",
       "<path d=\"M220,-136.253C220,-127.265 220,-117.529 220,-109.529\" fill=\"none\" stroke=\"black\" stroke-width=\"0.5\"/>\n",
       "<polygon fill=\"none\" points=\"216.5,-136.313 220,-146.313 223.5,-136.313 216.5,-136.313\" stroke=\"black\" stroke-width=\"0.5\"/>\n",
       "</g>\n",
       "<!-- tree -->\n",
       "<g class=\"node\" id=\"node22\"><title>tree</title>\n",
       "<path d=\"M280,-73.5C280,-73.5 310,-73.5 310,-73.5 316,-73.5 322,-79.5 322,-85.5 322,-85.5 322,-97.5 322,-97.5 322,-103.5 316,-109.5 310,-109.5 310,-109.5 280,-109.5 280,-109.5 274,-109.5 268,-103.5 268,-97.5 268,-97.5 268,-85.5 268,-85.5 268,-79.5 274,-73.5 280,-73.5\" fill=\"aliceblue\" stroke=\"black\" stroke-width=\"0.5\"/>\n",
       "<text font-family=\"Times New Roman,serif\" font-size=\"11.00\" text-anchor=\"middle\" x=\"295\" y=\"-88.7\">tree</text>\n",
       "</g>\n",
       "<!-- plant&#45;&#45;tree -->\n",
       "<g class=\"edge\" id=\"edge19\"><title>plant--tree</title>\n",
       "<path d=\"M245.717,-139.155C256.019,-129.402 267.642,-118.399 277.012,-109.529\" fill=\"none\" stroke=\"black\" stroke-width=\"0.5\"/>\n",
       "<polygon fill=\"none\" points=\"243.011,-136.896 238.155,-146.313 247.824,-141.98 243.011,-136.896\" stroke=\"black\" stroke-width=\"0.5\"/>\n",
       "</g>\n",
       "<!-- grass -->\n",
       "<g class=\"node\" id=\"node26\"><title>grass</title>\n",
       "<path d=\"M352,-73.5C352,-73.5 382,-73.5 382,-73.5 388,-73.5 394,-79.5 394,-85.5 394,-85.5 394,-97.5 394,-97.5 394,-103.5 388,-109.5 382,-109.5 382,-109.5 352,-109.5 352,-109.5 346,-109.5 340,-103.5 340,-97.5 340,-97.5 340,-85.5 340,-85.5 340,-79.5 346,-73.5 352,-73.5\" fill=\"aliceblue\" stroke=\"black\" stroke-width=\"0.5\"/>\n",
       "<text font-family=\"Times New Roman,serif\" font-size=\"11.00\" text-anchor=\"middle\" x=\"367\" y=\"-88.7\">grass</text>\n",
       "</g>\n",
       "<!-- plant&#45;&#45;grass -->\n",
       "<g class=\"edge\" id=\"edge23\"><title>plant--grass</title>\n",
       "<path d=\"M256.549,-145.922C278.203,-135.498 306.176,-122.016 331,-110 333.877,-108.607 336.883,-107.15 339.878,-105.696\" fill=\"none\" stroke=\"black\" stroke-width=\"0.5\"/>\n",
       "<polygon fill=\"none\" points=\"254.875,-142.843 247.382,-150.334 257.911,-149.151 254.875,-142.843\" stroke=\"black\" stroke-width=\"0.5\"/>\n",
       "</g>\n",
       "<!-- apple -->\n",
       "<g class=\"node\" id=\"node3\"><title>apple</title>\n",
       "<path d=\"M397,-0.5C397,-0.5 427,-0.5 427,-0.5 433,-0.5 439,-6.5 439,-12.5 439,-12.5 439,-24.5 439,-24.5 439,-30.5 433,-36.5 427,-36.5 427,-36.5 397,-36.5 397,-36.5 391,-36.5 385,-30.5 385,-24.5 385,-24.5 385,-12.5 385,-12.5 385,-6.5 391,-0.5 397,-0.5\" fill=\"aliceblue\" stroke=\"black\" stroke-width=\"0.5\"/>\n",
       "<text font-family=\"Times New Roman,serif\" font-size=\"11.00\" text-anchor=\"middle\" x=\"412\" y=\"-15.7\">apple</text>\n",
       "</g>\n",
       "<!-- fruiting&#45;body -->\n",
       "<g class=\"node\" id=\"node4\"><title>fruiting-body</title>\n",
       "<path d=\"M424,-73.5C424,-73.5 472,-73.5 472,-73.5 478,-73.5 484,-79.5 484,-85.5 484,-85.5 484,-97.5 484,-97.5 484,-103.5 478,-109.5 472,-109.5 472,-109.5 424,-109.5 424,-109.5 418,-109.5 412,-103.5 412,-97.5 412,-97.5 412,-85.5 412,-85.5 412,-79.5 418,-73.5 424,-73.5\" fill=\"aliceblue\" stroke=\"black\" stroke-width=\"0.5\"/>\n",
       "<text font-family=\"Times New Roman,serif\" font-size=\"11.00\" text-anchor=\"middle\" x=\"448\" y=\"-88.7\">fruiting-body</text>\n",
       "</g>\n",
       "<!-- fruiting&#45;body&#45;&#45;apple -->\n",
       "<g class=\"edge\" id=\"edge2\"><title>fruiting-body--apple</title>\n",
       "<path d=\"M434.629,-64.1302C429.95,-54.9019 424.823,-44.7904 420.634,-36.5288\" fill=\"none\" stroke=\"black\" stroke-width=\"0.5\"/>\n",
       "<polygon fill=\"none\" points=\"431.641,-65.9767 439.285,-73.3129 437.885,-62.811 431.641,-65.9767\" stroke=\"black\" stroke-width=\"0.5\"/>\n",
       "</g>\n",
       "<!-- berry -->\n",
       "<g class=\"node\" id=\"node12\"><title>berry</title>\n",
       "<path d=\"M469,-0.5C469,-0.5 499,-0.5 499,-0.5 505,-0.5 511,-6.5 511,-12.5 511,-12.5 511,-24.5 511,-24.5 511,-30.5 505,-36.5 499,-36.5 499,-36.5 469,-36.5 469,-36.5 463,-36.5 457,-30.5 457,-24.5 457,-24.5 457,-12.5 457,-12.5 457,-6.5 463,-0.5 469,-0.5\" fill=\"aliceblue\" stroke=\"black\" stroke-width=\"0.5\"/>\n",
       "<text font-family=\"Times New Roman,serif\" font-size=\"11.00\" text-anchor=\"middle\" x=\"484\" y=\"-15.7\">berry</text>\n",
       "</g>\n",
       "<!-- fruiting&#45;body&#45;&#45;berry -->\n",
       "<g class=\"edge\" id=\"edge9\"><title>fruiting-body--berry</title>\n",
       "<path d=\"M461.371,-64.1302C466.05,-54.9019 471.177,-44.7904 475.366,-36.5288\" fill=\"none\" stroke=\"black\" stroke-width=\"0.5\"/>\n",
       "<polygon fill=\"none\" points=\"458.115,-62.811 456.715,-73.3129 464.359,-65.9767 458.115,-62.811\" stroke=\"black\" stroke-width=\"0.5\"/>\n",
       "</g>\n",
       "<!-- rock&#45;dassie -->\n",
       "<g class=\"node\" id=\"node5\"><title>rock-dassie</title>\n",
       "<path d=\"M1018.5,-73.5C1018.5,-73.5 1061.5,-73.5 1061.5,-73.5 1067.5,-73.5 1073.5,-79.5 1073.5,-85.5 1073.5,-85.5 1073.5,-97.5 1073.5,-97.5 1073.5,-103.5 1067.5,-109.5 1061.5,-109.5 1061.5,-109.5 1018.5,-109.5 1018.5,-109.5 1012.5,-109.5 1006.5,-103.5 1006.5,-97.5 1006.5,-97.5 1006.5,-85.5 1006.5,-85.5 1006.5,-79.5 1012.5,-73.5 1018.5,-73.5\" fill=\"aliceblue\" stroke=\"black\" stroke-width=\"0.5\"/>\n",
       "<text font-family=\"Times New Roman,serif\" font-size=\"11.00\" text-anchor=\"middle\" x=\"1040\" y=\"-88.7\">rock-dassie</text>\n",
       "</g>\n",
       "<!-- animal -->\n",
       "<g class=\"node\" id=\"node6\"><title>animal</title>\n",
       "<path d=\"M1254,-146.5C1254,-146.5 1284,-146.5 1284,-146.5 1290,-146.5 1296,-152.5 1296,-158.5 1296,-158.5 1296,-170.5 1296,-170.5 1296,-176.5 1290,-182.5 1284,-182.5 1284,-182.5 1254,-182.5 1254,-182.5 1248,-182.5 1242,-176.5 1242,-170.5 1242,-170.5 1242,-158.5 1242,-158.5 1242,-152.5 1248,-146.5 1254,-146.5\" fill=\"aliceblue\" stroke=\"black\" stroke-width=\"0.5\"/>\n",
       "<text font-family=\"Times New Roman,serif\" font-size=\"11.00\" text-anchor=\"middle\" x=\"1269\" y=\"-161.7\">animal</text>\n",
       "</g>\n",
       "<!-- animal&#45;&#45;rock&#45;dassie -->\n",
       "<g class=\"edge\" id=\"edge3\"><title>animal--rock-dassie</title>\n",
       "<path d=\"M1231.88,-154.07C1194.07,-144.176 1133.94,-127.634 1083,-110 1079.95,-108.945 1076.81,-107.793 1073.67,-106.599\" fill=\"none\" stroke=\"black\" stroke-width=\"0.5\"/>\n",
       "<polygon fill=\"none\" points=\"1231.36,-157.552 1241.92,-156.679 1233.12,-150.777 1231.36,-157.552\" stroke=\"black\" stroke-width=\"0.5\"/>\n",
       "</g>\n",
       "<!-- warthog -->\n",
       "<g class=\"node\" id=\"node11\"><title>warthog</title>\n",
       "<path d=\"M1104,-73.5C1104,-73.5 1134,-73.5 1134,-73.5 1140,-73.5 1146,-79.5 1146,-85.5 1146,-85.5 1146,-97.5 1146,-97.5 1146,-103.5 1140,-109.5 1134,-109.5 1134,-109.5 1104,-109.5 1104,-109.5 1098,-109.5 1092,-103.5 1092,-97.5 1092,-97.5 1092,-85.5 1092,-85.5 1092,-79.5 1098,-73.5 1104,-73.5\" fill=\"aliceblue\" stroke=\"black\" stroke-width=\"0.5\"/>\n",
       "<text font-family=\"Times New Roman,serif\" font-size=\"11.00\" text-anchor=\"middle\" x=\"1119\" y=\"-88.7\">warthog</text>\n",
       "</g>\n",
       "<!-- animal&#45;&#45;warthog -->\n",
       "<g class=\"edge\" id=\"edge7\"><title>animal--warthog</title>\n",
       "<path d=\"M1232.62,-146.58C1210.2,-136.117 1180.89,-122.368 1155,-110 1152.12,-108.622 1149.11,-107.174 1146.11,-105.726\" fill=\"none\" stroke=\"black\" stroke-width=\"0.5\"/>\n",
       "<polygon fill=\"none\" points=\"1231.23,-149.794 1241.77,-150.849 1234.19,-143.45 1231.23,-149.794\" stroke=\"black\" stroke-width=\"0.5\"/>\n",
       "</g>\n",
       "<!-- herbivore -->\n",
       "<g class=\"node\" id=\"node13\"><title>herbivore</title>\n",
       "<path d=\"M1176,-73.5C1176,-73.5 1210,-73.5 1210,-73.5 1216,-73.5 1222,-79.5 1222,-85.5 1222,-85.5 1222,-97.5 1222,-97.5 1222,-103.5 1216,-109.5 1210,-109.5 1210,-109.5 1176,-109.5 1176,-109.5 1170,-109.5 1164,-103.5 1164,-97.5 1164,-97.5 1164,-85.5 1164,-85.5 1164,-79.5 1170,-73.5 1176,-73.5\" fill=\"aliceblue\" stroke=\"black\" stroke-width=\"0.5\"/>\n",
       "<text font-family=\"Times New Roman,serif\" font-size=\"11.00\" text-anchor=\"middle\" x=\"1193\" y=\"-88.7\">herbivore</text>\n",
       "</g>\n",
       "<!-- animal&#45;&#45;herbivore -->\n",
       "<g class=\"edge\" id=\"edge10\"><title>animal--herbivore</title>\n",
       "<path d=\"M1243.25,-139.441C1232.73,-129.618 1220.82,-118.486 1211.23,-109.529\" fill=\"none\" stroke=\"black\" stroke-width=\"0.5\"/>\n",
       "<polygon fill=\"none\" points=\"1240.91,-142.044 1250.6,-146.313 1245.68,-136.929 1240.91,-142.044\" stroke=\"black\" stroke-width=\"0.5\"/>\n",
       "</g>\n",
       "<!-- omnivore -->\n",
       "<g class=\"node\" id=\"node14\"><title>omnivore</title>\n",
       "<path d=\"M1252.5,-73.5C1252.5,-73.5 1285.5,-73.5 1285.5,-73.5 1291.5,-73.5 1297.5,-79.5 1297.5,-85.5 1297.5,-85.5 1297.5,-97.5 1297.5,-97.5 1297.5,-103.5 1291.5,-109.5 1285.5,-109.5 1285.5,-109.5 1252.5,-109.5 1252.5,-109.5 1246.5,-109.5 1240.5,-103.5 1240.5,-97.5 1240.5,-97.5 1240.5,-85.5 1240.5,-85.5 1240.5,-79.5 1246.5,-73.5 1252.5,-73.5\" fill=\"aliceblue\" stroke=\"black\" stroke-width=\"0.5\"/>\n",
       "<text font-family=\"Times New Roman,serif\" font-size=\"11.00\" text-anchor=\"middle\" x=\"1269\" y=\"-88.7\">omnivore</text>\n",
       "</g>\n",
       "<!-- animal&#45;&#45;omnivore -->\n",
       "<g class=\"edge\" id=\"edge11\"><title>animal--omnivore</title>\n",
       "<path d=\"M1269,-136.253C1269,-127.265 1269,-117.529 1269,-109.529\" fill=\"none\" stroke=\"black\" stroke-width=\"0.5\"/>\n",
       "<polygon fill=\"none\" points=\"1265.5,-136.313 1269,-146.313 1272.5,-136.313 1265.5,-136.313\" stroke=\"black\" stroke-width=\"0.5\"/>\n",
       "</g>\n",
       "<!-- carnivore -->\n",
       "<g class=\"node\" id=\"node17\"><title>carnivore</title>\n",
       "<path d=\"M1328,-73.5C1328,-73.5 1362,-73.5 1362,-73.5 1368,-73.5 1374,-79.5 1374,-85.5 1374,-85.5 1374,-97.5 1374,-97.5 1374,-103.5 1368,-109.5 1362,-109.5 1362,-109.5 1328,-109.5 1328,-109.5 1322,-109.5 1316,-103.5 1316,-97.5 1316,-97.5 1316,-85.5 1316,-85.5 1316,-79.5 1322,-73.5 1328,-73.5\" fill=\"aliceblue\" stroke=\"black\" stroke-width=\"0.5\"/>\n",
       "<text font-family=\"Times New Roman,serif\" font-size=\"11.00\" text-anchor=\"middle\" x=\"1345\" y=\"-88.7\">carnivore</text>\n",
       "</g>\n",
       "<!-- animal&#45;&#45;carnivore -->\n",
       "<g class=\"edge\" id=\"edge14\"><title>animal--carnivore</title>\n",
       "<path d=\"M1294.75,-139.441C1305.27,-129.618 1317.18,-118.486 1326.77,-109.529\" fill=\"none\" stroke=\"black\" stroke-width=\"0.5\"/>\n",
       "<polygon fill=\"none\" points=\"1292.32,-136.929 1287.4,-146.313 1297.09,-142.044 1292.32,-136.929\" stroke=\"black\" stroke-width=\"0.5\"/>\n",
       "</g>\n",
       "<!-- impala -->\n",
       "<g class=\"node\" id=\"node21\"><title>impala</title>\n",
       "<path d=\"M1404,-73.5C1404,-73.5 1434,-73.5 1434,-73.5 1440,-73.5 1446,-79.5 1446,-85.5 1446,-85.5 1446,-97.5 1446,-97.5 1446,-103.5 1440,-109.5 1434,-109.5 1434,-109.5 1404,-109.5 1404,-109.5 1398,-109.5 1392,-103.5 1392,-97.5 1392,-97.5 1392,-85.5 1392,-85.5 1392,-79.5 1398,-73.5 1404,-73.5\" fill=\"aliceblue\" stroke=\"black\" stroke-width=\"0.5\"/>\n",
       "<text font-family=\"Times New Roman,serif\" font-size=\"11.00\" text-anchor=\"middle\" x=\"1419\" y=\"-88.7\">impala</text>\n",
       "</g>\n",
       "<!-- animal&#45;&#45;impala -->\n",
       "<g class=\"edge\" id=\"edge18\"><title>animal--impala</title>\n",
       "<path d=\"M1305.38,-146.58C1327.8,-136.117 1357.11,-122.368 1383,-110 1385.88,-108.622 1388.89,-107.174 1391.89,-105.726\" fill=\"none\" stroke=\"black\" stroke-width=\"0.5\"/>\n",
       "<polygon fill=\"none\" points=\"1303.81,-143.45 1296.23,-150.849 1306.77,-149.794 1303.81,-143.45\" stroke=\"black\" stroke-width=\"0.5\"/>\n",
       "</g>\n",
       "<!-- giraffe -->\n",
       "<g class=\"node\" id=\"node28\"><title>giraffe</title>\n",
       "<path d=\"M1476,-73.5C1476,-73.5 1506,-73.5 1506,-73.5 1512,-73.5 1518,-79.5 1518,-85.5 1518,-85.5 1518,-97.5 1518,-97.5 1518,-103.5 1512,-109.5 1506,-109.5 1506,-109.5 1476,-109.5 1476,-109.5 1470,-109.5 1464,-103.5 1464,-97.5 1464,-97.5 1464,-85.5 1464,-85.5 1464,-79.5 1470,-73.5 1476,-73.5\" fill=\"aliceblue\" stroke=\"black\" stroke-width=\"0.5\"/>\n",
       "<text font-family=\"Times New Roman,serif\" font-size=\"11.00\" text-anchor=\"middle\" x=\"1491\" y=\"-88.7\">giraffe</text>\n",
       "</g>\n",
       "<!-- animal&#45;&#45;giraffe -->\n",
       "<g class=\"edge\" id=\"edge25\"><title>animal--giraffe</title>\n",
       "<path d=\"M1306.38,-154.768C1344.38,-145.423 1404.67,-129.304 1455,-110 1457.85,-108.905 1460.79,-107.669 1463.7,-106.374\" fill=\"none\" stroke=\"black\" stroke-width=\"0.5\"/>\n",
       "<polygon fill=\"none\" points=\"1305.17,-151.46 1296.28,-157.222 1306.82,-158.263 1305.17,-151.46\" stroke=\"black\" stroke-width=\"0.5\"/>\n",
       "</g>\n",
       "<!-- twig -->\n",
       "<g class=\"node\" id=\"node7\"><title>twig</title>\n",
       "<path d=\"M514,-73.5C514,-73.5 544,-73.5 544,-73.5 550,-73.5 556,-79.5 556,-85.5 556,-85.5 556,-97.5 556,-97.5 556,-103.5 550,-109.5 544,-109.5 544,-109.5 514,-109.5 514,-109.5 508,-109.5 502,-103.5 502,-97.5 502,-97.5 502,-85.5 502,-85.5 502,-79.5 508,-73.5 514,-73.5\" fill=\"aliceblue\" stroke=\"black\" stroke-width=\"0.5\"/>\n",
       "<text font-family=\"Times New Roman,serif\" font-size=\"11.00\" text-anchor=\"middle\" x=\"529\" y=\"-88.7\">twig</text>\n",
       "</g>\n",
       "<!-- plant&#45;part -->\n",
       "<g class=\"node\" id=\"node8\"><title>plant-part</title>\n",
       "<path d=\"M691.5,-146.5C691.5,-146.5 726.5,-146.5 726.5,-146.5 732.5,-146.5 738.5,-152.5 738.5,-158.5 738.5,-158.5 738.5,-170.5 738.5,-170.5 738.5,-176.5 732.5,-182.5 726.5,-182.5 726.5,-182.5 691.5,-182.5 691.5,-182.5 685.5,-182.5 679.5,-176.5 679.5,-170.5 679.5,-170.5 679.5,-158.5 679.5,-158.5 679.5,-152.5 685.5,-146.5 691.5,-146.5\" fill=\"aliceblue\" stroke=\"black\" stroke-width=\"0.5\"/>\n",
       "<text font-family=\"Times New Roman,serif\" font-size=\"11.00\" text-anchor=\"middle\" x=\"709\" y=\"-161.7\">plant-part</text>\n",
       "</g>\n",
       "<!-- plant&#45;part&#45;&#45;fruiting&#45;body -->\n",
       "<g class=\"edge\" id=\"edge8\"><title>plant-part--fruiting-body</title>\n",
       "<path d=\"M669.392,-155.288C625.748,-145.871 553.69,-129.23 493,-110 490.123,-109.088 487.166,-108.087 484.207,-107.04\" fill=\"none\" stroke=\"black\" stroke-width=\"0.5\"/>\n",
       "<polygon fill=\"none\" points=\"668.809,-158.743 679.32,-157.411 670.273,-151.897 668.809,-158.743\" stroke=\"black\" stroke-width=\"0.5\"/>\n",
       "</g>\n",
       "<!-- plant&#45;part&#45;&#45;twig -->\n",
       "<g class=\"edge\" id=\"edge4\"><title>plant-part--twig</title>\n",
       "<path d=\"M669.622,-150.03C640.449,-139.771 599.877,-124.915 565,-110 562.189,-108.798 559.28,-107.492 556.391,-106.153\" fill=\"none\" stroke=\"black\" stroke-width=\"0.5\"/>\n",
       "<polygon fill=\"none\" points=\"668.843,-153.465 679.438,-153.459 671.152,-146.856 668.843,-153.465\" stroke=\"black\" stroke-width=\"0.5\"/>\n",
       "</g>\n",
       "<!-- stem -->\n",
       "<g class=\"node\" id=\"node9\"><title>stem</title>\n",
       "<path d=\"M586,-73.5C586,-73.5 616,-73.5 616,-73.5 622,-73.5 628,-79.5 628,-85.5 628,-85.5 628,-97.5 628,-97.5 628,-103.5 622,-109.5 616,-109.5 616,-109.5 586,-109.5 586,-109.5 580,-109.5 574,-103.5 574,-97.5 574,-97.5 574,-85.5 574,-85.5 574,-79.5 580,-73.5 586,-73.5\" fill=\"aliceblue\" stroke=\"black\" stroke-width=\"0.5\"/>\n",
       "<text font-family=\"Times New Roman,serif\" font-size=\"11.00\" text-anchor=\"middle\" x=\"601\" y=\"-88.7\">stem</text>\n",
       "</g>\n",
       "<!-- plant&#45;part&#45;&#45;stem -->\n",
       "<g class=\"edge\" id=\"edge5\"><title>plant-part--stem</title>\n",
       "<path d=\"M674.407,-140.758C659.037,-130.654 641.248,-118.96 627.032,-109.614\" fill=\"none\" stroke=\"black\" stroke-width=\"0.5\"/>\n",
       "<polygon fill=\"none\" points=\"672.853,-143.925 683.131,-146.494 676.698,-138.076 672.853,-143.925\" stroke=\"black\" stroke-width=\"0.5\"/>\n",
       "</g>\n",
       "<!-- leaf -->\n",
       "<g class=\"node\" id=\"node10\"><title>leaf</title>\n",
       "<path d=\"M658,-73.5C658,-73.5 688,-73.5 688,-73.5 694,-73.5 700,-79.5 700,-85.5 700,-85.5 700,-97.5 700,-97.5 700,-103.5 694,-109.5 688,-109.5 688,-109.5 658,-109.5 658,-109.5 652,-109.5 646,-103.5 646,-97.5 646,-97.5 646,-85.5 646,-85.5 646,-79.5 652,-73.5 658,-73.5\" fill=\"aliceblue\" stroke=\"black\" stroke-width=\"0.5\"/>\n",
       "<text font-family=\"Times New Roman,serif\" font-size=\"11.00\" text-anchor=\"middle\" x=\"673\" y=\"-88.7\">leaf</text>\n",
       "</g>\n",
       "<!-- plant&#45;part&#45;&#45;leaf -->\n",
       "<g class=\"edge\" id=\"edge6\"><title>plant-part--leaf</title>\n",
       "<path d=\"M695.629,-137.13C690.95,-127.902 685.823,-117.79 681.634,-109.529\" fill=\"none\" stroke=\"black\" stroke-width=\"0.5\"/>\n",
       "<polygon fill=\"none\" points=\"692.641,-138.977 700.285,-146.313 698.885,-135.811 692.641,-138.977\" stroke=\"black\" stroke-width=\"0.5\"/>\n",
       "</g>\n",
       "<!-- phloem -->\n",
       "<g class=\"node\" id=\"node16\"><title>phloem</title>\n",
       "<path d=\"M730,-73.5C730,-73.5 760,-73.5 760,-73.5 766,-73.5 772,-79.5 772,-85.5 772,-85.5 772,-97.5 772,-97.5 772,-103.5 766,-109.5 760,-109.5 760,-109.5 730,-109.5 730,-109.5 724,-109.5 718,-103.5 718,-97.5 718,-97.5 718,-85.5 718,-85.5 718,-79.5 724,-73.5 730,-73.5\" fill=\"aliceblue\" stroke=\"black\" stroke-width=\"0.5\"/>\n",
       "<text font-family=\"Times New Roman,serif\" font-size=\"11.00\" text-anchor=\"middle\" x=\"745\" y=\"-88.7\">phloem</text>\n",
       "</g>\n",
       "<!-- plant&#45;part&#45;&#45;phloem -->\n",
       "<g class=\"edge\" id=\"edge13\"><title>plant-part--phloem</title>\n",
       "<path d=\"M722.371,-137.13C727.05,-127.902 732.177,-117.79 736.366,-109.529\" fill=\"none\" stroke=\"black\" stroke-width=\"0.5\"/>\n",
       "<polygon fill=\"none\" points=\"719.115,-135.811 717.715,-146.313 725.359,-138.977 719.115,-135.811\" stroke=\"black\" stroke-width=\"0.5\"/>\n",
       "</g>\n",
       "<!-- branch -->\n",
       "<g class=\"node\" id=\"node18\"><title>branch</title>\n",
       "<path d=\"M802,-73.5C802,-73.5 832,-73.5 832,-73.5 838,-73.5 844,-79.5 844,-85.5 844,-85.5 844,-97.5 844,-97.5 844,-103.5 838,-109.5 832,-109.5 832,-109.5 802,-109.5 802,-109.5 796,-109.5 790,-103.5 790,-97.5 790,-97.5 790,-85.5 790,-85.5 790,-79.5 796,-73.5 802,-73.5\" fill=\"aliceblue\" stroke=\"black\" stroke-width=\"0.5\"/>\n",
       "<text font-family=\"Times New Roman,serif\" font-size=\"11.00\" text-anchor=\"middle\" x=\"817\" y=\"-88.7\">branch</text>\n",
       "</g>\n",
       "<!-- plant&#45;part&#45;&#45;branch -->\n",
       "<g class=\"edge\" id=\"edge15\"><title>plant-part--branch</title>\n",
       "<path d=\"M743.593,-140.758C758.963,-130.654 776.752,-118.96 790.968,-109.614\" fill=\"none\" stroke=\"black\" stroke-width=\"0.5\"/>\n",
       "<polygon fill=\"none\" points=\"741.302,-138.076 734.869,-146.494 745.147,-143.925 741.302,-138.076\" stroke=\"black\" stroke-width=\"0.5\"/>\n",
       "</g>\n",
       "<!-- root -->\n",
       "<g class=\"node\" id=\"node24\"><title>root</title>\n",
       "<path d=\"M874,-73.5C874,-73.5 904,-73.5 904,-73.5 910,-73.5 916,-79.5 916,-85.5 916,-85.5 916,-97.5 916,-97.5 916,-103.5 910,-109.5 904,-109.5 904,-109.5 874,-109.5 874,-109.5 868,-109.5 862,-103.5 862,-97.5 862,-97.5 862,-85.5 862,-85.5 862,-79.5 868,-73.5 874,-73.5\" fill=\"aliceblue\" stroke=\"black\" stroke-width=\"0.5\"/>\n",
       "<text font-family=\"Times New Roman,serif\" font-size=\"11.00\" text-anchor=\"middle\" x=\"889\" y=\"-88.7\">root</text>\n",
       "</g>\n",
       "<!-- plant&#45;part&#45;&#45;root -->\n",
       "<g class=\"edge\" id=\"edge21\"><title>plant-part--root</title>\n",
       "<path d=\"M748.378,-150.03C777.551,-139.771 818.123,-124.915 853,-110 855.811,-108.798 858.72,-107.492 861.609,-106.153\" fill=\"none\" stroke=\"black\" stroke-width=\"0.5\"/>\n",
       "<polygon fill=\"none\" points=\"746.848,-146.856 738.562,-153.459 749.157,-153.465 746.848,-146.856\" stroke=\"black\" stroke-width=\"0.5\"/>\n",
       "</g>\n",
       "<!-- xylem -->\n",
       "<g class=\"node\" id=\"node27\"><title>xylem</title>\n",
       "<path d=\"M946,-73.5C946,-73.5 976,-73.5 976,-73.5 982,-73.5 988,-79.5 988,-85.5 988,-85.5 988,-97.5 988,-97.5 988,-103.5 982,-109.5 976,-109.5 976,-109.5 946,-109.5 946,-109.5 940,-109.5 934,-103.5 934,-97.5 934,-97.5 934,-85.5 934,-85.5 934,-79.5 940,-73.5 946,-73.5\" fill=\"aliceblue\" stroke=\"black\" stroke-width=\"0.5\"/>\n",
       "<text font-family=\"Times New Roman,serif\" font-size=\"11.00\" text-anchor=\"middle\" x=\"961\" y=\"-88.7\">xylem</text>\n",
       "</g>\n",
       "<!-- plant&#45;part&#45;&#45;xylem -->\n",
       "<g class=\"edge\" id=\"edge24\"><title>plant-part--xylem</title>\n",
       "<path d=\"M748.557,-156.297C792.44,-147.713 864.977,-131.75 925,-110 927.875,-108.958 930.825,-107.758 933.739,-106.484\" fill=\"none\" stroke=\"black\" stroke-width=\"0.5\"/>\n",
       "<polygon fill=\"none\" points=\"747.734,-152.891 738.576,-158.219 749.057,-159.765 747.734,-152.891\" stroke=\"black\" stroke-width=\"0.5\"/>\n",
       "</g>\n",
       "<!-- elephant -->\n",
       "<g class=\"node\" id=\"node25\"><title>elephant</title>\n",
       "<path d=\"M1178,-0.5C1178,-0.5 1208,-0.5 1208,-0.5 1214,-0.5 1220,-6.5 1220,-12.5 1220,-12.5 1220,-24.5 1220,-24.5 1220,-30.5 1214,-36.5 1208,-36.5 1208,-36.5 1178,-36.5 1178,-36.5 1172,-36.5 1166,-30.5 1166,-24.5 1166,-24.5 1166,-12.5 1166,-12.5 1166,-6.5 1172,-0.5 1178,-0.5\" fill=\"aliceblue\" stroke=\"black\" stroke-width=\"0.5\"/>\n",
       "<text font-family=\"Times New Roman,serif\" font-size=\"11.00\" text-anchor=\"middle\" x=\"1193\" y=\"-15.7\">elephant</text>\n",
       "</g>\n",
       "<!-- herbivore&#45;&#45;elephant -->\n",
       "<g class=\"edge\" id=\"edge22\"><title>herbivore--elephant</title>\n",
       "<path d=\"M1193,-63.2534C1193,-54.2651 1193,-44.5295 1193,-36.5288\" fill=\"none\" stroke=\"black\" stroke-width=\"0.5\"/>\n",
       "<polygon fill=\"none\" points=\"1189.5,-63.3128 1193,-73.3129 1196.5,-63.3129 1189.5,-63.3128\" stroke=\"black\" stroke-width=\"0.5\"/>\n",
       "</g>\n",
       "<!-- lion -->\n",
       "<g class=\"node\" id=\"node19\"><title>lion</title>\n",
       "<path d=\"M1330,-0.5C1330,-0.5 1360,-0.5 1360,-0.5 1366,-0.5 1372,-6.5 1372,-12.5 1372,-12.5 1372,-24.5 1372,-24.5 1372,-30.5 1366,-36.5 1360,-36.5 1360,-36.5 1330,-36.5 1330,-36.5 1324,-36.5 1318,-30.5 1318,-24.5 1318,-24.5 1318,-12.5 1318,-12.5 1318,-6.5 1324,-0.5 1330,-0.5\" fill=\"aliceblue\" stroke=\"black\" stroke-width=\"0.5\"/>\n",
       "<text font-family=\"Times New Roman,serif\" font-size=\"11.00\" text-anchor=\"middle\" x=\"1345\" y=\"-15.7\">lion</text>\n",
       "</g>\n",
       "<!-- carnivore&#45;&#45;lion -->\n",
       "<g class=\"edge\" id=\"edge16\"><title>carnivore--lion</title>\n",
       "<path d=\"M1345,-63.2534C1345,-54.2651 1345,-44.5295 1345,-36.5288\" fill=\"none\" stroke=\"black\" stroke-width=\"0.5\"/>\n",
       "<polygon fill=\"none\" points=\"1341.5,-63.3128 1345,-73.3129 1348.5,-63.3129 1341.5,-63.3128\" stroke=\"black\" stroke-width=\"0.5\"/>\n",
       "</g>\n",
       "<!-- parsnip -->\n",
       "<g class=\"node\" id=\"node23\"><title>parsnip</title>\n",
       "<path d=\"M874,-0.5C874,-0.5 904,-0.5 904,-0.5 910,-0.5 916,-6.5 916,-12.5 916,-12.5 916,-24.5 916,-24.5 916,-30.5 910,-36.5 904,-36.5 904,-36.5 874,-36.5 874,-36.5 868,-36.5 862,-30.5 862,-24.5 862,-24.5 862,-12.5 862,-12.5 862,-6.5 868,-0.5 874,-0.5\" fill=\"aliceblue\" stroke=\"black\" stroke-width=\"0.5\"/>\n",
       "<text font-family=\"Times New Roman,serif\" font-size=\"11.00\" text-anchor=\"middle\" x=\"889\" y=\"-15.7\">parsnip</text>\n",
       "</g>\n",
       "<!-- root&#45;&#45;parsnip -->\n",
       "<g class=\"edge\" id=\"edge20\"><title>root--parsnip</title>\n",
       "<path d=\"M889,-63.2534C889,-54.2651 889,-44.5295 889,-36.5288\" fill=\"none\" stroke=\"black\" stroke-width=\"0.5\"/>\n",
       "<polygon fill=\"none\" points=\"885.5,-63.3128 889,-73.3129 892.5,-63.3129 885.5,-63.3128\" stroke=\"black\" stroke-width=\"0.5\"/>\n",
       "</g>\n",
       "</g>\n",
       "</svg>"
      ],
      "text/plain": [
       "<IPython.core.display.SVG object>"
      ]
     },
     "execution_count": 6,
     "metadata": {},
     "output_type": "execute_result"
    }
   ],
   "source": [
    "onto=buildOntology(parts_editors)\n",
    "onto.draw_graph(layout='hierarchical')"
   ]
  },
  {
   "cell_type": "markdown",
   "metadata": {},
   "source": [
    "It is fully compatible with OWL/RDF format (via OWLAPI). We can always export it as it is."
   ]
  },
  {
   "cell_type": "markdown",
   "metadata": {},
   "source": [
    "### Part-2: Disjointness\n",
    "In OWL/RL+SWRL profile we deal with Open World Assumption. It means that we need to explicitly specify all the objects that are different from each other. We cannot assume (like e.g. object oriented programming language do) that the different names mean the different things, therefore we need to specify explicitly if two things are different."
   ]
  },
  {
   "cell_type": "code",
   "execution_count": 7,
   "metadata": {
    "scrolled": false
   },
   "outputs": [
    {
     "data": {
      "application/vnd.jupyter.widget-view+json": {
       "model_id": "c14623cce57c458983554140eb63dac5",
       "version_major": 2,
       "version_minor": 0
      },
      "text/plain": [
       "VBox(children=(Output(), OntoeditWidget(layout=Layout(height='100%', width='90%'), value='Every-single-thing t…"
      ]
     },
     "metadata": {},
     "output_type": "display_data"
    }
   ],
   "source": [
    "parts_editors['02']=CnlEditBox('part_02.encnl',onto)\n",
    "parts_editors['02']"
   ]
  },
  {
   "cell_type": "markdown",
   "metadata": {},
   "source": [
    "Lets test how it works on the example. The example will be defining several instances, that aim to break the consistency of the ontology in som not obvious way."
   ]
  },
  {
   "cell_type": "code",
   "execution_count": 8,
   "metadata": {},
   "outputs": [
    {
     "data": {
      "application/vnd.jupyter.widget-view+json": {
       "model_id": "92f434003f2d46f0bc944c7ccf59a5d3",
       "version_major": 2,
       "version_minor": 0
      },
      "text/plain": [
       "VBox(children=(Output(), OntoeditWidget(layout=Layout(height='100%', width='90%'), value='Leo-01 is a lion.\\nL…"
      ]
     },
     "metadata": {},
     "output_type": "display_data"
    }
   ],
   "source": [
    "test_01_edit = CnlEditBox('test_01.encnl',onto)\n",
    "test_01_edit"
   ]
  },
  {
   "cell_type": "markdown",
   "metadata": {},
   "source": [
    "Lets load all the parts ontology ontology togheter with the testing part into the newly created obeject. "
   ]
  },
  {
   "cell_type": "code",
   "execution_count": 9,
   "metadata": {},
   "outputs": [],
   "source": [
    "onto=buildOntology(parts_editors,test_01_edit)"
   ]
  },
  {
   "cell_type": "markdown",
   "metadata": {},
   "source": [
    "We will need also some way to describe what is wrong `printReasoningInfo` and why `printWhy`."
   ]
  },
  {
   "cell_type": "code",
   "execution_count": 10,
   "metadata": {},
   "outputs": [],
   "source": [
    "import json\n",
    "\n",
    "def printReasoningInfo(onto):\n",
    "    info=onto.reasoningInfo()\n",
    "    if info == \"\":\n",
    "        print('all good!')\n",
    "    else:\n",
    "        print(json.dumps(json.loads(info), indent=2, sort_keys=True))\n",
    "\n",
    "def printWhy(onto,fact):\n",
    "    info=json.loads(onto.why(fact))\n",
    "    print(json.dumps(info, indent=2, sort_keys=True))"
   ]
  },
  {
   "cell_type": "markdown",
   "metadata": {},
   "source": [
    "So what is wrong here?"
   ]
  },
  {
   "cell_type": "code",
   "execution_count": 11,
   "metadata": {},
   "outputs": [
    {
     "name": "stdout",
     "output_type": "stream",
     "text": [
      "{\n",
      "  \"errors\": [\n",
      "    {\n",
      "      \"content\": \"Complement classes\",\n",
      "      \"title\": \"inconsistency\",\n",
      "      \"vals\": {\n",
      "        \"concept\": \"animal\",\n",
      "        \"instance\": \"Mary-01\"\n",
      "      }\n",
      "    }\n",
      "  ]\n",
      "}\n"
     ]
    }
   ],
   "source": [
    "printReasoningInfo(onto)"
   ]
  },
  {
   "cell_type": "markdown",
   "metadata": {},
   "source": [
    "Lets draw it on a diagram, this time using force directed layout."
   ]
  },
  {
   "cell_type": "code",
   "execution_count": 12,
   "metadata": {},
   "outputs": [
    {
     "data": {
      "image/svg+xml": [
       "<svg height=\"665pt\" viewBox=\"0.00 0.00 1134.00 665.00\" width=\"1134pt\" xmlns=\"http://www.w3.org/2000/svg\" xmlns:xlink=\"http://www.w3.org/1999/xlink\">\n",
       "<g class=\"graph\" id=\"graph0\" transform=\"scale(1 1) rotate(0) translate(4 661)\">\n",
       "<title>G</title>\n",
       "<polygon fill=\"white\" points=\"-4,4 -4,-661 1130,-661 1130,4 -4,4\" stroke=\"none\"/>\n",
       "<!-- tasty&#45;plant -->\n",
       "<g class=\"node\" id=\"node1\"><title>tasty-plant</title>\n",
       "<path d=\"M200.867,-413.267C200.867,-413.267 238.867,-413.267 238.867,-413.267 244.867,-413.267 250.867,-419.267 250.867,-425.267 250.867,-425.267 250.867,-437.267 250.867,-437.267 250.867,-443.267 244.867,-449.267 238.867,-449.267 238.867,-449.267 200.867,-449.267 200.867,-449.267 194.867,-449.267 188.867,-443.267 188.867,-437.267 188.867,-437.267 188.867,-425.267 188.867,-425.267 188.867,-419.267 194.867,-413.267 200.867,-413.267\" fill=\"aliceblue\" stroke=\"black\" stroke-width=\"0.5\"/>\n",
       "<text font-family=\"Times New Roman,serif\" font-size=\"11.00\" text-anchor=\"middle\" x=\"219.867\" y=\"-428.467\">tasty-plant</text>\n",
       "</g>\n",
       "<!-- plant -->\n",
       "<g class=\"node\" id=\"node2\"><title>plant</title>\n",
       "<path d=\"M356.801,-428.23C356.801,-428.23 386.801,-428.23 386.801,-428.23 392.801,-428.23 398.801,-434.23 398.801,-440.23 398.801,-440.23 398.801,-452.23 398.801,-452.23 398.801,-458.23 392.801,-464.23 386.801,-464.23 386.801,-464.23 356.801,-464.23 356.801,-464.23 350.801,-464.23 344.801,-458.23 344.801,-452.23 344.801,-452.23 344.801,-440.23 344.801,-440.23 344.801,-434.23 350.801,-428.23 356.801,-428.23\" fill=\"aliceblue\" stroke=\"black\" stroke-width=\"0.5\"/>\n",
       "<text font-family=\"Times New Roman,serif\" font-size=\"11.00\" text-anchor=\"middle\" x=\"371.801\" y=\"-443.43\">plant</text>\n",
       "</g>\n",
       "<!-- plant&#45;&#45;tasty&#45;plant -->\n",
       "<g class=\"edge\" id=\"edge1\"><title>plant--tasty-plant</title>\n",
       "<path d=\"M334.539,-442.561C308.887,-440.034 275.201,-436.716 250.985,-434.331\" fill=\"none\" stroke=\"black\" stroke-width=\"0.5\"/>\n",
       "<polygon fill=\"none\" points=\"334.343,-446.058 344.638,-443.555 335.029,-439.092 334.343,-446.058\" stroke=\"black\" stroke-width=\"0.5\"/>\n",
       "</g>\n",
       "<!-- carnivorous&#45;plant -->\n",
       "<g class=\"node\" id=\"node15\"><title>carnivorous-plant</title>\n",
       "<path d=\"M177.223,-566.966C177.223,-566.966 245.223,-566.966 245.223,-566.966 251.223,-566.966 257.223,-572.966 257.223,-578.966 257.223,-578.966 257.223,-590.966 257.223,-590.966 257.223,-596.966 251.223,-602.966 245.223,-602.966 245.223,-602.966 177.223,-602.966 177.223,-602.966 171.223,-602.966 165.223,-596.966 165.223,-590.966 165.223,-590.966 165.223,-578.966 165.223,-578.966 165.223,-572.966 171.223,-566.966 177.223,-566.966\" fill=\"aliceblue\" stroke=\"black\" stroke-width=\"0.5\"/>\n",
       "<text font-family=\"Times New Roman,serif\" font-size=\"11.00\" text-anchor=\"middle\" x=\"211.223\" y=\"-582.166\">carnivorous-plant</text>\n",
       "</g>\n",
       "<!-- plant&#45;&#45;carnivorous&#45;plant -->\n",
       "<g class=\"edge\" id=\"edge12\"><title>plant--carnivorous-plant</title>\n",
       "<path d=\"M343.139,-470.993C311.282,-498.517 260.594,-542.311 232.221,-566.824\" fill=\"none\" stroke=\"black\" stroke-width=\"0.5\"/>\n",
       "<polygon fill=\"none\" points=\"345.529,-473.554 350.808,-464.368 340.953,-468.257 345.529,-473.554\" stroke=\"black\" stroke-width=\"0.5\"/>\n",
       "</g>\n",
       "<!-- palm&#45;tree -->\n",
       "<g class=\"node\" id=\"node20\"><title>palm-tree</title>\n",
       "<path d=\"M495.491,-274.711C495.491,-274.711 530.491,-274.711 530.491,-274.711 536.491,-274.711 542.491,-280.711 542.491,-286.711 542.491,-286.711 542.491,-298.711 542.491,-298.711 542.491,-304.711 536.491,-310.711 530.491,-310.711 530.491,-310.711 495.491,-310.711 495.491,-310.711 489.491,-310.711 483.491,-304.711 483.491,-298.711 483.491,-298.711 483.491,-286.711 483.491,-286.711 483.491,-280.711 489.491,-274.711 495.491,-274.711\" fill=\"aliceblue\" stroke=\"black\" stroke-width=\"0.5\"/>\n",
       "<text font-family=\"Times New Roman,serif\" font-size=\"11.00\" text-anchor=\"middle\" x=\"512.991\" y=\"-289.911\">palm-tree</text>\n",
       "</g>\n",
       "<!-- plant&#45;&#45;palm&#45;tree -->\n",
       "<g class=\"edge\" id=\"edge17\"><title>plant--palm-tree</title>\n",
       "<path d=\"M378.842,-418.14C385.599,-395.902 397.698,-365.199 417.157,-344.226 435.273,-324.701 462.505,-311.057 483.316,-302.738\" fill=\"none\" stroke=\"black\" stroke-width=\"0.5\"/>\n",
       "<polygon fill=\"none\" points=\"375.408,-417.42 376.026,-427.997 382.139,-419.343 375.408,-417.42\" stroke=\"black\" stroke-width=\"0.5\"/>\n",
       "</g>\n",
       "<!-- tree -->\n",
       "<g class=\"node\" id=\"node22\"><title>tree</title>\n",
       "<path d=\"M473.523,-552.144C473.523,-552.144 503.523,-552.144 503.523,-552.144 509.523,-552.144 515.523,-558.144 515.523,-564.144 515.523,-564.144 515.523,-576.144 515.523,-576.144 515.523,-582.144 509.523,-588.144 503.523,-588.144 503.523,-588.144 473.523,-588.144 473.523,-588.144 467.523,-588.144 461.523,-582.144 461.523,-576.144 461.523,-576.144 461.523,-564.144 461.523,-564.144 461.523,-558.144 467.523,-552.144 473.523,-552.144\" fill=\"aliceblue\" stroke=\"black\" stroke-width=\"0.5\"/>\n",
       "<text font-family=\"Times New Roman,serif\" font-size=\"11.00\" text-anchor=\"middle\" x=\"488.523\" y=\"-567.344\">tree</text>\n",
       "</g>\n",
       "<!-- plant&#45;&#45;tree -->\n",
       "<g class=\"edge\" id=\"edge19\"><title>plant--tree</title>\n",
       "<path d=\"M395.694,-471.596C418.264,-495.556 451.552,-530.895 471.53,-552.104\" fill=\"none\" stroke=\"black\" stroke-width=\"0.5\"/>\n",
       "<polygon fill=\"none\" points=\"398.178,-469.128 388.773,-464.248 393.082,-473.927 398.178,-469.128\" stroke=\"black\" stroke-width=\"0.5\"/>\n",
       "</g>\n",
       "<!-- grass -->\n",
       "<g class=\"node\" id=\"node26\"><title>grass</title>\n",
       "<path d=\"M332.393,-620.385C332.393,-620.385 362.393,-620.385 362.393,-620.385 368.393,-620.385 374.393,-626.385 374.393,-632.385 374.393,-632.385 374.393,-644.385 374.393,-644.385 374.393,-650.385 368.393,-656.385 362.393,-656.385 362.393,-656.385 332.393,-656.385 332.393,-656.385 326.393,-656.385 320.393,-650.385 320.393,-644.385 320.393,-644.385 320.393,-632.385 320.393,-632.385 320.393,-626.385 326.393,-620.385 332.393,-620.385\" fill=\"aliceblue\" stroke=\"black\" stroke-width=\"0.5\"/>\n",
       "<text font-family=\"Times New Roman,serif\" font-size=\"11.00\" text-anchor=\"middle\" x=\"347.393\" y=\"-635.585\">grass</text>\n",
       "</g>\n",
       "<!-- plant&#45;&#45;grass -->\n",
       "<g class=\"edge\" id=\"edge23\"><title>plant--grass</title>\n",
       "<path d=\"M368.216,-474.453C363.132,-514.479 353.971,-586.598 349.701,-620.216\" fill=\"none\" stroke=\"black\" stroke-width=\"0.5\"/>\n",
       "<polygon fill=\"none\" points=\"371.717,-474.669 369.505,-464.308 364.772,-473.787 371.717,-474.669\" stroke=\"black\" stroke-width=\"0.5\"/>\n",
       "</g>\n",
       "<!-- apple -->\n",
       "<g class=\"node\" id=\"node3\"><title>apple</title>\n",
       "<path d=\"M549.209,-365.511C549.209,-365.511 579.209,-365.511 579.209,-365.511 585.209,-365.511 591.209,-371.511 591.209,-377.511 591.209,-377.511 591.209,-389.511 591.209,-389.511 591.209,-395.511 585.209,-401.511 579.209,-401.511 579.209,-401.511 549.209,-401.511 549.209,-401.511 543.209,-401.511 537.209,-395.511 537.209,-389.511 537.209,-389.511 537.209,-377.511 537.209,-377.511 537.209,-371.511 543.209,-365.511 549.209,-365.511\" fill=\"aliceblue\" stroke=\"black\" stroke-width=\"0.5\"/>\n",
       "<text font-family=\"Times New Roman,serif\" font-size=\"11.00\" text-anchor=\"middle\" x=\"564.209\" y=\"-380.711\">apple</text>\n",
       "</g>\n",
       "<!-- fruiting&#45;body -->\n",
       "<g class=\"node\" id=\"node4\"><title>fruiting-body</title>\n",
       "<path d=\"M432.357,-347.426C432.357,-347.426 480.357,-347.426 480.357,-347.426 486.357,-347.426 492.357,-353.426 492.357,-359.426 492.357,-359.426 492.357,-371.426 492.357,-371.426 492.357,-377.426 486.357,-383.426 480.357,-383.426 480.357,-383.426 432.357,-383.426 432.357,-383.426 426.357,-383.426 420.357,-377.426 420.357,-371.426 420.357,-371.426 420.357,-359.426 420.357,-359.426 420.357,-353.426 426.357,-347.426 432.357,-347.426\" fill=\"aliceblue\" stroke=\"black\" stroke-width=\"0.5\"/>\n",
       "<text font-family=\"Times New Roman,serif\" font-size=\"11.00\" text-anchor=\"middle\" x=\"456.357\" y=\"-362.626\">fruiting-body</text>\n",
       "</g>\n",
       "<!-- fruiting&#45;body&#45;&#45;apple -->\n",
       "<g class=\"edge\" id=\"edge2\"><title>fruiting-body--apple</title>\n",
       "<path d=\"M502.711,-373.199C514.458,-375.169 526.695,-377.221 537.131,-378.971\" fill=\"none\" stroke=\"black\" stroke-width=\"0.5\"/>\n",
       "<polygon fill=\"none\" points=\"503.011,-369.7 492.57,-371.498 501.854,-376.604 503.011,-369.7\" stroke=\"black\" stroke-width=\"0.5\"/>\n",
       "</g>\n",
       "<!-- berry -->\n",
       "<g class=\"node\" id=\"node12\"><title>berry</title>\n",
       "<path d=\"M530.153,-455.946C530.153,-455.946 560.153,-455.946 560.153,-455.946 566.153,-455.946 572.153,-461.946 572.153,-467.946 572.153,-467.946 572.153,-479.946 572.153,-479.946 572.153,-485.946 566.153,-491.946 560.153,-491.946 560.153,-491.946 530.153,-491.946 530.153,-491.946 524.153,-491.946 518.153,-485.946 518.153,-479.946 518.153,-479.946 518.153,-467.946 518.153,-467.946 518.153,-461.946 524.153,-455.946 530.153,-455.946\" fill=\"aliceblue\" stroke=\"black\" stroke-width=\"0.5\"/>\n",
       "<text font-family=\"Times New Roman,serif\" font-size=\"11.00\" text-anchor=\"middle\" x=\"545.153\" y=\"-471.146\">berry</text>\n",
       "</g>\n",
       "<!-- fruiting&#45;body&#45;&#45;berry -->\n",
       "<g class=\"edge\" id=\"edge9\"><title>fruiting-body--berry</title>\n",
       "<path d=\"M477.78,-391.607C494.031,-411.469 515.952,-438.259 530.313,-455.809\" fill=\"none\" stroke=\"black\" stroke-width=\"0.5\"/>\n",
       "<polygon fill=\"none\" points=\"480.462,-389.358 471.42,-383.835 475.044,-393.79 480.462,-389.358\" stroke=\"black\" stroke-width=\"0.5\"/>\n",
       "</g>\n",
       "<!-- rock&#45;dassie -->\n",
       "<g class=\"node\" id=\"node5\"><title>rock-dassie</title>\n",
       "<path d=\"M1066.48,-393.571C1066.48,-393.571 1109.48,-393.571 1109.48,-393.571 1115.48,-393.571 1121.48,-399.571 1121.48,-405.571 1121.48,-405.571 1121.48,-417.571 1121.48,-417.571 1121.48,-423.571 1115.48,-429.571 1109.48,-429.571 1109.48,-429.571 1066.48,-429.571 1066.48,-429.571 1060.48,-429.571 1054.48,-423.571 1054.48,-417.571 1054.48,-417.571 1054.48,-405.571 1054.48,-405.571 1054.48,-399.571 1060.48,-393.571 1066.48,-393.571\" fill=\"aliceblue\" stroke=\"black\" stroke-width=\"0.5\"/>\n",
       "<text font-family=\"Times New Roman,serif\" font-size=\"11.00\" text-anchor=\"middle\" x=\"1087.98\" y=\"-408.771\">rock-dassie</text>\n",
       "</g>\n",
       "<!-- animal -->\n",
       "<g class=\"node\" id=\"node6\"><title>animal</title>\n",
       "<path d=\"M913.819,-305.678C913.819,-305.678 943.819,-305.678 943.819,-305.678 949.819,-305.678 955.819,-311.678 955.819,-317.678 955.819,-317.678 955.819,-329.678 955.819,-329.678 955.819,-335.678 949.819,-341.678 943.819,-341.678 943.819,-341.678 913.819,-341.678 913.819,-341.678 907.819,-341.678 901.819,-335.678 901.819,-329.678 901.819,-329.678 901.819,-317.678 901.819,-317.678 901.819,-311.678 907.819,-305.678 913.819,-305.678\" fill=\"aliceblue\" stroke=\"black\" stroke-width=\"0.5\"/>\n",
       "<text font-family=\"Times New Roman,serif\" font-size=\"11.00\" text-anchor=\"middle\" x=\"928.819\" y=\"-320.878\">animal</text>\n",
       "</g>\n",
       "<!-- animal&#45;&#45;rock&#45;dassie -->\n",
       "<g class=\"edge\" id=\"edge3\"><title>animal--rock-dassie</title>\n",
       "<path d=\"M964.978,-343.646C992.105,-358.626 1028.93,-378.963 1055.21,-393.471\" fill=\"none\" stroke=\"black\" stroke-width=\"0.5\"/>\n",
       "<polygon fill=\"none\" points=\"966.626,-340.557 956.18,-338.787 963.242,-346.685 966.626,-340.557\" stroke=\"black\" stroke-width=\"0.5\"/>\n",
       "</g>\n",
       "<!-- warthog -->\n",
       "<g class=\"node\" id=\"node11\"><title>warthog</title>\n",
       "<path d=\"M953.965,-435.608C953.965,-435.608 983.965,-435.608 983.965,-435.608 989.965,-435.608 995.965,-441.608 995.965,-447.608 995.965,-447.608 995.965,-459.608 995.965,-459.608 995.965,-465.608 989.965,-471.608 983.965,-471.608 983.965,-471.608 953.965,-471.608 953.965,-471.608 947.965,-471.608 941.965,-465.608 941.965,-459.608 941.965,-459.608 941.965,-447.608 941.965,-447.608 941.965,-441.608 947.965,-435.608 953.965,-435.608\" fill=\"aliceblue\" stroke=\"black\" stroke-width=\"0.5\"/>\n",
       "<text font-family=\"Times New Roman,serif\" font-size=\"11.00\" text-anchor=\"middle\" x=\"968.965\" y=\"-450.808\">warthog</text>\n",
       "</g>\n",
       "<!-- animal&#45;&#45;warthog -->\n",
       "<g class=\"edge\" id=\"edge7\"><title>animal--warthog</title>\n",
       "<path d=\"M937.414,-351.494C945.236,-376.809 956.56,-413.461 963.301,-435.277\" fill=\"none\" stroke=\"black\" stroke-width=\"0.5\"/>\n",
       "<polygon fill=\"none\" points=\"940.697,-350.265 934.401,-341.744 934.009,-352.332 940.697,-350.265\" stroke=\"black\" stroke-width=\"0.5\"/>\n",
       "</g>\n",
       "<!-- herbivore -->\n",
       "<g class=\"node\" id=\"node13\"><title>herbivore</title>\n",
       "<path d=\"M704.112,-198.523C704.112,-198.523 738.112,-198.523 738.112,-198.523 744.112,-198.523 750.112,-204.523 750.112,-210.523 750.112,-210.523 750.112,-222.523 750.112,-222.523 750.112,-228.523 744.112,-234.523 738.112,-234.523 738.112,-234.523 704.112,-234.523 704.112,-234.523 698.112,-234.523 692.112,-228.523 692.112,-222.523 692.112,-222.523 692.112,-210.523 692.112,-210.523 692.112,-204.523 698.112,-198.523 704.112,-198.523\" fill=\"aliceblue\" stroke=\"black\" stroke-width=\"0.5\"/>\n",
       "<text font-family=\"Times New Roman,serif\" font-size=\"11.00\" text-anchor=\"middle\" x=\"721.112\" y=\"-213.723\">herbivore</text>\n",
       "</g>\n",
       "<!-- animal&#45;&#45;herbivore -->\n",
       "<g class=\"edge\" id=\"edge10\"><title>animal--herbivore</title>\n",
       "<path d=\"M892.125,-308.83C879.347,-303.41 865.007,-297.043 852.186,-290.679 816.355,-272.893 776.534,-249.879 750.292,-234.239\" fill=\"none\" stroke=\"black\" stroke-width=\"0.5\"/>\n",
       "<polygon fill=\"none\" points=\"890.964,-312.139 901.54,-312.775 893.669,-305.683 890.964,-312.139\" stroke=\"black\" stroke-width=\"0.5\"/>\n",
       "</g>\n",
       "<!-- omnivore -->\n",
       "<g class=\"node\" id=\"node14\"><title>omnivore</title>\n",
       "<path d=\"M845.096,-382.533C845.096,-382.533 878.096,-382.533 878.096,-382.533 884.096,-382.533 890.096,-388.533 890.096,-394.533 890.096,-394.533 890.096,-406.533 890.096,-406.533 890.096,-412.533 884.096,-418.533 878.096,-418.533 878.096,-418.533 845.096,-418.533 845.096,-418.533 839.096,-418.533 833.096,-412.533 833.096,-406.533 833.096,-406.533 833.096,-394.533 833.096,-394.533 833.096,-388.533 839.096,-382.533 845.096,-382.533\" fill=\"aliceblue\" stroke=\"black\" stroke-width=\"0.5\"/>\n",
       "<text font-family=\"Times New Roman,serif\" font-size=\"11.00\" text-anchor=\"middle\" x=\"861.596\" y=\"-397.733\">omnivore</text>\n",
       "</g>\n",
       "<!-- animal&#45;&#45;omnivore -->\n",
       "<g class=\"edge\" id=\"edge11\"><title>animal--omnivore</title>\n",
       "<path d=\"M906.276,-349.451C896.806,-360.278 886.016,-372.614 877.412,-382.45\" fill=\"none\" stroke=\"black\" stroke-width=\"0.5\"/>\n",
       "<polygon fill=\"none\" points=\"908.939,-351.723 912.888,-341.891 903.67,-347.114 908.939,-351.723\" stroke=\"black\" stroke-width=\"0.5\"/>\n",
       "</g>\n",
       "<!-- carnivore -->\n",
       "<g class=\"node\" id=\"node17\"><title>carnivore</title>\n",
       "<path d=\"M954.895,-123.842C954.895,-123.842 988.895,-123.842 988.895,-123.842 994.895,-123.842 1000.9,-129.842 1000.9,-135.842 1000.9,-135.842 1000.9,-147.842 1000.9,-147.842 1000.9,-153.842 994.895,-159.842 988.895,-159.842 988.895,-159.842 954.895,-159.842 954.895,-159.842 948.895,-159.842 942.895,-153.842 942.895,-147.842 942.895,-147.842 942.895,-135.842 942.895,-135.842 942.895,-129.842 948.895,-123.842 954.895,-123.842\" fill=\"aliceblue\" stroke=\"black\" stroke-width=\"0.5\"/>\n",
       "<text font-family=\"Times New Roman,serif\" font-size=\"11.00\" text-anchor=\"middle\" x=\"971.895\" y=\"-139.042\">carnivore</text>\n",
       "</g>\n",
       "<!-- animal&#45;&#45;carnivore -->\n",
       "<g class=\"edge\" id=\"edge14\"><title>animal--carnivore</title>\n",
       "<path d=\"M935.439,-295.731C944.388,-257.956 960.09,-191.675 967.625,-159.868\" fill=\"none\" stroke=\"black\" stroke-width=\"0.5\"/>\n",
       "<polygon fill=\"none\" points=\"932.006,-295.04 933.107,-305.578 938.818,-296.654 932.006,-295.04\" stroke=\"black\" stroke-width=\"0.5\"/>\n",
       "</g>\n",
       "<!-- impala -->\n",
       "<g class=\"node\" id=\"node21\"><title>impala</title>\n",
       "<path d=\"M1083.67,-237.381C1083.67,-237.381 1113.67,-237.381 1113.67,-237.381 1119.67,-237.381 1125.67,-243.381 1125.67,-249.381 1125.67,-249.381 1125.67,-261.381 1125.67,-261.381 1125.67,-267.381 1119.67,-273.381 1113.67,-273.381 1113.67,-273.381 1083.67,-273.381 1083.67,-273.381 1077.67,-273.381 1071.67,-267.381 1071.67,-261.381 1071.67,-261.381 1071.67,-249.381 1071.67,-249.381 1071.67,-243.381 1077.67,-237.381 1083.67,-237.381\" fill=\"aliceblue\" stroke=\"black\" stroke-width=\"0.5\"/>\n",
       "<text font-family=\"Times New Roman,serif\" font-size=\"11.00\" text-anchor=\"middle\" x=\"1098.67\" y=\"-252.581\">impala</text>\n",
       "</g>\n",
       "<!-- animal&#45;&#45;impala -->\n",
       "<g class=\"edge\" id=\"edge18\"><title>animal--impala</title>\n",
       "<path d=\"M965.525,-308.919C997.372,-296.113 1042.75,-277.866 1071.45,-266.327\" fill=\"none\" stroke=\"black\" stroke-width=\"0.5\"/>\n",
       "<polygon fill=\"none\" points=\"964.081,-305.727 956.109,-312.705 966.693,-312.221 964.081,-305.727\" stroke=\"black\" stroke-width=\"0.5\"/>\n",
       "</g>\n",
       "<!-- giraffe -->\n",
       "<g class=\"node\" id=\"node28\"><title>giraffe</title>\n",
       "<path d=\"M867.386,-251.479C867.386,-251.479 897.386,-251.479 897.386,-251.479 903.386,-251.479 909.386,-257.479 909.386,-263.479 909.386,-263.479 909.386,-275.479 909.386,-275.479 909.386,-281.479 903.386,-287.479 897.386,-287.479 897.386,-287.479 867.386,-287.479 867.386,-287.479 861.386,-287.479 855.386,-281.479 855.386,-275.479 855.386,-275.479 855.386,-263.479 855.386,-263.479 855.386,-257.479 861.386,-251.479 867.386,-251.479\" fill=\"aliceblue\" stroke=\"black\" stroke-width=\"0.5\"/>\n",
       "<text font-family=\"Times New Roman,serif\" font-size=\"11.00\" text-anchor=\"middle\" x=\"882.386\" y=\"-266.679\">giraffe</text>\n",
       "</g>\n",
       "<!-- animal&#45;&#45;giraffe -->\n",
       "<g class=\"edge\" id=\"edge25\"><title>animal--giraffe</title>\n",
       "<path d=\"M906.63,-297.778C903.692,-294.348 900.732,-290.893 897.938,-287.632\" fill=\"none\" stroke=\"black\" stroke-width=\"0.5\"/>\n",
       "<polygon fill=\"none\" points=\"904.193,-300.313 913.357,-305.63 909.509,-295.759 904.193,-300.313\" stroke=\"black\" stroke-width=\"0.5\"/>\n",
       "</g>\n",
       "<!-- twig -->\n",
       "<g class=\"node\" id=\"node7\"><title>twig</title>\n",
       "<path d=\"M117.822,-213.239C117.822,-213.239 147.822,-213.239 147.822,-213.239 153.822,-213.239 159.822,-219.239 159.822,-225.239 159.822,-225.239 159.822,-237.239 159.822,-237.239 159.822,-243.239 153.822,-249.239 147.822,-249.239 147.822,-249.239 117.822,-249.239 117.822,-249.239 111.822,-249.239 105.822,-243.239 105.822,-237.239 105.822,-237.239 105.822,-225.239 105.822,-225.239 105.822,-219.239 111.822,-213.239 117.822,-213.239\" fill=\"aliceblue\" stroke=\"black\" stroke-width=\"0.5\"/>\n",
       "<text font-family=\"Times New Roman,serif\" font-size=\"11.00\" text-anchor=\"middle\" x=\"132.822\" y=\"-228.439\">twig</text>\n",
       "</g>\n",
       "<!-- plant&#45;part -->\n",
       "<g class=\"node\" id=\"node8\"><title>plant-part</title>\n",
       "<path d=\"M274.414,-139.013C274.414,-139.013 309.414,-139.013 309.414,-139.013 315.414,-139.013 321.414,-145.013 321.414,-151.013 321.414,-151.013 321.414,-163.013 321.414,-163.013 321.414,-169.013 315.414,-175.013 309.414,-175.013 309.414,-175.013 274.414,-175.013 274.414,-175.013 268.414,-175.013 262.414,-169.013 262.414,-163.013 262.414,-163.013 262.414,-151.013 262.414,-151.013 262.414,-145.013 268.414,-139.013 274.414,-139.013\" fill=\"aliceblue\" stroke=\"black\" stroke-width=\"0.5\"/>\n",
       "<text font-family=\"Times New Roman,serif\" font-size=\"11.00\" text-anchor=\"middle\" x=\"291.914\" y=\"-154.213\">plant-part</text>\n",
       "</g>\n",
       "<!-- plant&#45;part&#45;&#45;fruiting&#45;body -->\n",
       "<g class=\"edge\" id=\"edge8\"><title>plant-part--fruiting-body</title>\n",
       "<path d=\"M312.527,-183.137C346.338,-225.989 412.74,-310.146 441.968,-347.188\" fill=\"none\" stroke=\"black\" stroke-width=\"0.5\"/>\n",
       "<polygon fill=\"none\" points=\"315.162,-180.826 306.22,-175.143 309.666,-185.162 315.162,-180.826\" stroke=\"black\" stroke-width=\"0.5\"/>\n",
       "</g>\n",
       "<!-- plant&#45;part&#45;&#45;twig -->\n",
       "<g class=\"edge\" id=\"edge4\"><title>plant-part--twig</title>\n",
       "<path d=\"M252.969,-175.183C224.069,-188.667 185.398,-206.709 159.829,-218.639\" fill=\"none\" stroke=\"black\" stroke-width=\"0.5\"/>\n",
       "<polygon fill=\"none\" points=\"254.781,-178.2 262.363,-170.8 251.821,-171.857 254.781,-178.2\" stroke=\"black\" stroke-width=\"0.5\"/>\n",
       "</g>\n",
       "<!-- stem -->\n",
       "<g class=\"node\" id=\"node9\"><title>stem</title>\n",
       "<path d=\"M155.753,-286.466C155.753,-286.466 185.753,-286.466 185.753,-286.466 191.753,-286.466 197.753,-292.466 197.753,-298.466 197.753,-298.466 197.753,-310.466 197.753,-310.466 197.753,-316.466 191.753,-322.466 185.753,-322.466 185.753,-322.466 155.753,-322.466 155.753,-322.466 149.753,-322.466 143.753,-316.466 143.753,-310.466 143.753,-310.466 143.753,-298.466 143.753,-298.466 143.753,-292.466 149.753,-286.466 155.753,-286.466\" fill=\"aliceblue\" stroke=\"black\" stroke-width=\"0.5\"/>\n",
       "<text font-family=\"Times New Roman,serif\" font-size=\"11.00\" text-anchor=\"middle\" x=\"170.753\" y=\"-301.666\">stem</text>\n",
       "</g>\n",
       "<!-- plant&#45;part&#45;&#45;stem -->\n",
       "<g class=\"edge\" id=\"edge5\"><title>plant-part--stem</title>\n",
       "<path d=\"M270.613,-182.936C246.271,-212.56 207.055,-260.286 185.731,-286.237\" fill=\"none\" stroke=\"black\" stroke-width=\"0.5\"/>\n",
       "<polygon fill=\"none\" points=\"273.413,-185.042 277.057,-175.093 268.004,-180.598 273.413,-185.042\" stroke=\"black\" stroke-width=\"0.5\"/>\n",
       "</g>\n",
       "<!-- leaf -->\n",
       "<g class=\"node\" id=\"node10\"><title>leaf</title>\n",
       "<path d=\"M236.183,-3.49776C236.183,-3.49776 266.183,-3.49776 266.183,-3.49776 272.183,-3.49776 278.183,-9.49776 278.183,-15.4978 278.183,-15.4978 278.183,-27.4978 278.183,-27.4978 278.183,-33.4978 272.183,-39.4978 266.183,-39.4978 266.183,-39.4978 236.183,-39.4978 236.183,-39.4978 230.183,-39.4978 224.183,-33.4978 224.183,-27.4978 224.183,-27.4978 224.183,-15.4978 224.183,-15.4978 224.183,-9.49776 230.183,-3.49776 236.183,-3.49776\" fill=\"aliceblue\" stroke=\"black\" stroke-width=\"0.5\"/>\n",
       "<text font-family=\"Times New Roman,serif\" font-size=\"11.00\" text-anchor=\"middle\" x=\"251.183\" y=\"-18.6978\">leaf</text>\n",
       "</g>\n",
       "<!-- plant&#45;part&#45;&#45;leaf -->\n",
       "<g class=\"edge\" id=\"edge6\"><title>plant-part--leaf</title>\n",
       "<path d=\"M283.446,-128.84C275.422,-102.143 263.603,-62.8189 256.719,-39.9172\" fill=\"none\" stroke=\"black\" stroke-width=\"0.5\"/>\n",
       "<polygon fill=\"none\" points=\"280.19,-130.167 286.421,-138.737 286.894,-128.152 280.19,-130.167\" stroke=\"black\" stroke-width=\"0.5\"/>\n",
       "</g>\n",
       "<!-- phloem -->\n",
       "<g class=\"node\" id=\"node16\"><title>phloem</title>\n",
       "<path d=\"M377.384,-182.058C377.384,-182.058 407.384,-182.058 407.384,-182.058 413.384,-182.058 419.384,-188.058 419.384,-194.058 419.384,-194.058 419.384,-206.058 419.384,-206.058 419.384,-212.058 413.384,-218.058 407.384,-218.058 407.384,-218.058 377.384,-218.058 377.384,-218.058 371.384,-218.058 365.384,-212.058 365.384,-206.058 365.384,-206.058 365.384,-194.058 365.384,-194.058 365.384,-188.058 371.384,-182.058 377.384,-182.058\" fill=\"aliceblue\" stroke=\"black\" stroke-width=\"0.5\"/>\n",
       "<text font-family=\"Times New Roman,serif\" font-size=\"11.00\" text-anchor=\"middle\" x=\"392.384\" y=\"-197.258\">phloem</text>\n",
       "</g>\n",
       "<!-- plant&#45;part&#45;&#45;phloem -->\n",
       "<g class=\"edge\" id=\"edge13\"><title>plant-part--phloem</title>\n",
       "<path d=\"M330.86,-173.699C342.28,-178.592 354.522,-183.836 365.055,-188.349\" fill=\"none\" stroke=\"black\" stroke-width=\"0.5\"/>\n",
       "<polygon fill=\"none\" points=\"332.085,-170.416 321.515,-169.695 329.328,-176.85 332.085,-170.416\" stroke=\"black\" stroke-width=\"0.5\"/>\n",
       "</g>\n",
       "<!-- branch -->\n",
       "<g class=\"node\" id=\"node18\"><title>branch</title>\n",
       "<path d=\"M342.564,-5.19926C342.564,-5.19926 372.564,-5.19926 372.564,-5.19926 378.564,-5.19926 384.564,-11.1993 384.564,-17.1993 384.564,-17.1993 384.564,-29.1993 384.564,-29.1993 384.564,-35.1993 378.564,-41.1993 372.564,-41.1993 372.564,-41.1993 342.564,-41.1993 342.564,-41.1993 336.564,-41.1993 330.564,-35.1993 330.564,-29.1993 330.564,-29.1993 330.564,-17.1993 330.564,-17.1993 330.564,-11.1993 336.564,-5.19926 342.564,-5.19926\" fill=\"aliceblue\" stroke=\"black\" stroke-width=\"0.5\"/>\n",
       "<text font-family=\"Times New Roman,serif\" font-size=\"11.00\" text-anchor=\"middle\" x=\"357.564\" y=\"-20.3993\">branch</text>\n",
       "</g>\n",
       "<!-- plant&#45;part&#45;&#45;branch -->\n",
       "<g class=\"edge\" id=\"edge15\"><title>plant-part--branch</title>\n",
       "<path d=\"M305.22,-129.891C318.157,-103.521 337.448,-64.2017 348.64,-41.3874\" fill=\"none\" stroke=\"black\" stroke-width=\"0.5\"/>\n",
       "<polygon fill=\"none\" points=\"302.03,-128.447 300.768,-138.966 308.315,-131.53 302.03,-128.447\" stroke=\"black\" stroke-width=\"0.5\"/>\n",
       "</g>\n",
       "<!-- root -->\n",
       "<g class=\"node\" id=\"node24\"><title>root</title>\n",
       "<path d=\"M167.287,-90.1101C167.287,-90.1101 197.287,-90.1101 197.287,-90.1101 203.287,-90.1101 209.287,-96.1101 209.287,-102.11 209.287,-102.11 209.287,-114.11 209.287,-114.11 209.287,-120.11 203.287,-126.11 197.287,-126.11 197.287,-126.11 167.287,-126.11 167.287,-126.11 161.287,-126.11 155.287,-120.11 155.287,-114.11 155.287,-114.11 155.287,-102.11 155.287,-102.11 155.287,-96.1101 161.287,-90.1101 167.287,-90.1101\" fill=\"aliceblue\" stroke=\"black\" stroke-width=\"0.5\"/>\n",
       "<text font-family=\"Times New Roman,serif\" font-size=\"11.00\" text-anchor=\"middle\" x=\"182.287\" y=\"-105.31\">root</text>\n",
       "</g>\n",
       "<!-- plant&#45;part&#45;&#45;root -->\n",
       "<g class=\"edge\" id=\"edge21\"><title>plant-part--root</title>\n",
       "<path d=\"M253.032,-139.668C238.582,-133.222 222.515,-126.055 209.349,-120.182\" fill=\"none\" stroke=\"black\" stroke-width=\"0.5\"/>\n",
       "<polygon fill=\"none\" points=\"251.689,-142.901 262.247,-143.779 254.541,-136.509 251.689,-142.901\" stroke=\"black\" stroke-width=\"0.5\"/>\n",
       "</g>\n",
       "<!-- xylem -->\n",
       "<g class=\"node\" id=\"node27\"><title>xylem</title>\n",
       "<path d=\"M355.22,-113.281C355.22,-113.281 385.22,-113.281 385.22,-113.281 391.22,-113.281 397.22,-119.281 397.22,-125.281 397.22,-125.281 397.22,-137.281 397.22,-137.281 397.22,-143.281 391.22,-149.281 385.22,-149.281 385.22,-149.281 355.22,-149.281 355.22,-149.281 349.22,-149.281 343.22,-143.281 343.22,-137.281 343.22,-137.281 343.22,-125.281 343.22,-125.281 343.22,-119.281 349.22,-113.281 355.22,-113.281\" fill=\"aliceblue\" stroke=\"black\" stroke-width=\"0.5\"/>\n",
       "<text font-family=\"Times New Roman,serif\" font-size=\"11.00\" text-anchor=\"middle\" x=\"370.22\" y=\"-128.481\">xylem</text>\n",
       "</g>\n",
       "<!-- plant&#45;part&#45;&#45;xylem -->\n",
       "<g class=\"edge\" id=\"edge24\"><title>plant-part--xylem</title>\n",
       "<path d=\"M331.354,-144.052C335.346,-142.741 339.334,-141.43 343.151,-140.176\" fill=\"none\" stroke=\"black\" stroke-width=\"0.5\"/>\n",
       "<polygon fill=\"none\" points=\"329.926,-140.838 321.518,-147.285 332.111,-147.488 329.926,-140.838\" stroke=\"black\" stroke-width=\"0.5\"/>\n",
       "</g>\n",
       "<!-- elephant -->\n",
       "<g class=\"node\" id=\"node25\"><title>elephant</title>\n",
       "<path d=\"M608.489,-65.6559C608.489,-65.6559 638.489,-65.6559 638.489,-65.6559 644.489,-65.6559 650.489,-71.6559 650.489,-77.6559 650.489,-77.6559 650.489,-89.6559 650.489,-89.6559 650.489,-95.6559 644.489,-101.656 638.489,-101.656 638.489,-101.656 608.489,-101.656 608.489,-101.656 602.489,-101.656 596.489,-95.6559 596.489,-89.6559 596.489,-89.6559 596.489,-77.6559 596.489,-77.6559 596.489,-71.6559 602.489,-65.6559 608.489,-65.6559\" fill=\"aliceblue\" stroke=\"black\" stroke-width=\"0.5\"/>\n",
       "<text font-family=\"Times New Roman,serif\" font-size=\"11.00\" text-anchor=\"middle\" x=\"623.489\" y=\"-80.8559\">elephant</text>\n",
       "</g>\n",
       "<!-- herbivore&#45;&#45;elephant -->\n",
       "<g class=\"edge\" id=\"edge22\"><title>herbivore--elephant</title>\n",
       "<path d=\"M707.233,-189.362C700.371,-176.766 691.612,-161.829 682.48,-149.222 670.085,-132.109 653.911,-114.393 641.635,-101.697\" fill=\"none\" stroke=\"black\" stroke-width=\"0.5\"/>\n",
       "<polygon fill=\"none\" points=\"704.291,-191.283 712.085,-198.46 710.467,-187.989 704.291,-191.283\" stroke=\"black\" stroke-width=\"0.5\"/>\n",
       "</g>\n",
       "<!-- Mary&#45;01 -->\n",
       "<g class=\"node\" id=\"node30\"><title>Mary-01</title>\n",
       "<path d=\"M636.28,-152.422C636.28,-152.422 667.28,-152.422 667.28,-152.422 673.28,-152.422 679.28,-158.422 679.28,-164.422 679.28,-164.422 679.28,-176.422 679.28,-176.422 679.28,-182.422 673.28,-188.422 667.28,-188.422 667.28,-188.422 636.28,-188.422 636.28,-188.422 630.28,-188.422 624.28,-182.422 624.28,-176.422 624.28,-176.422 624.28,-164.422 624.28,-164.422 624.28,-158.422 630.28,-152.422 636.28,-152.422\" fill=\"whitesmoke\" stroke=\"black\" stroke-width=\"0.5\"/>\n",
       "<text font-family=\"Times New Roman,serif\" font-size=\"11.00\" text-anchor=\"middle\" x=\"651.78\" y=\"-167.622\">Mary-01</text>\n",
       "</g>\n",
       "<!-- herbivore&#45;&#45;Mary&#45;01 -->\n",
       "<g class=\"edge\" id=\"edge29\"><title>herbivore--Mary-01</title>\n",
       "<path d=\"M684.955,-192.481C682.949,-191.147 680.949,-189.817 678.983,-188.51\" fill=\"none\" stroke=\"black\" stroke-dasharray=\"5,2\" stroke-width=\"0.5\"/>\n",
       "<polygon fill=\"none\" points=\"683.445,-195.68 693.711,-198.302 687.321,-189.851 683.445,-195.68\" stroke=\"black\" stroke-width=\"0.5\"/>\n",
       "</g>\n",
       "<!-- Sophie&#45;01 -->\n",
       "<g class=\"node\" id=\"node31\"><title>Sophie-01</title>\n",
       "<path d=\"M791.191,-108.092C791.191,-108.092 827.191,-108.092 827.191,-108.092 833.191,-108.092 839.191,-114.092 839.191,-120.092 839.191,-120.092 839.191,-132.092 839.191,-132.092 839.191,-138.092 833.191,-144.092 827.191,-144.092 827.191,-144.092 791.191,-144.092 791.191,-144.092 785.191,-144.092 779.191,-138.092 779.191,-132.092 779.191,-132.092 779.191,-120.092 779.191,-120.092 779.191,-114.092 785.191,-108.092 791.191,-108.092\" fill=\"whitesmoke\" stroke=\"black\" stroke-width=\"0.5\"/>\n",
       "<text font-family=\"Times New Roman,serif\" font-size=\"11.00\" text-anchor=\"middle\" x=\"809.191\" y=\"-123.292\">Sophie-01</text>\n",
       "</g>\n",
       "<!-- herbivore&#45;&#45;Sophie&#45;01 -->\n",
       "<g class=\"edge\" id=\"edge31\"><title>herbivore--Sophie-01</title>\n",
       "<path d=\"M746.136,-190.831C760.574,-176.007 778.387,-157.719 791.393,-144.365\" fill=\"none\" stroke=\"black\" stroke-dasharray=\"5,2\" stroke-width=\"0.5\"/>\n",
       "<polygon fill=\"none\" points=\"743.406,-188.617 738.936,-198.223 748.421,-193.501 743.406,-188.617\" stroke=\"black\" stroke-width=\"0.5\"/>\n",
       "</g>\n",
       "<!-- lion -->\n",
       "<g class=\"node\" id=\"node19\"><title>lion</title>\n",
       "<path d=\"M900.488,-16.1841C900.488,-16.1841 930.488,-16.1841 930.488,-16.1841 936.488,-16.1841 942.488,-22.1841 942.488,-28.1841 942.488,-28.1841 942.488,-40.1841 942.488,-40.1841 942.488,-46.1841 936.488,-52.1841 930.488,-52.1841 930.488,-52.1841 900.488,-52.1841 900.488,-52.1841 894.488,-52.1841 888.488,-46.1841 888.488,-40.1841 888.488,-40.1841 888.488,-28.1841 888.488,-28.1841 888.488,-22.1841 894.488,-16.1841 900.488,-16.1841\" fill=\"aliceblue\" stroke=\"black\" stroke-width=\"0.5\"/>\n",
       "<text font-family=\"Times New Roman,serif\" font-size=\"11.00\" text-anchor=\"middle\" x=\"915.488\" y=\"-31.3841\">lion</text>\n",
       "</g>\n",
       "<!-- carnivore&#45;&#45;lion -->\n",
       "<g class=\"edge\" id=\"edge16\"><title>carnivore--lion</title>\n",
       "<path d=\"M957.623,-114.602C947.445,-95.1759 934.033,-69.5793 925.103,-52.5363\" fill=\"none\" stroke=\"black\" stroke-width=\"0.5\"/>\n",
       "<polygon fill=\"none\" points=\"954.585,-116.346 962.327,-123.579 960.786,-113.097 954.585,-116.346\" stroke=\"black\" stroke-width=\"0.5\"/>\n",
       "</g>\n",
       "<!-- Leo&#45;01 -->\n",
       "<g class=\"node\" id=\"node32\"><title>Leo-01</title>\n",
       "<path d=\"M731.557,-39.7751C731.557,-39.7751 761.557,-39.7751 761.557,-39.7751 767.557,-39.7751 773.557,-45.7751 773.557,-51.7751 773.557,-51.7751 773.557,-63.7751 773.557,-63.7751 773.557,-69.7751 767.557,-75.7751 761.557,-75.7751 761.557,-75.7751 731.557,-75.7751 731.557,-75.7751 725.557,-75.7751 719.557,-69.7751 719.557,-63.7751 719.557,-63.7751 719.557,-51.7751 719.557,-51.7751 719.557,-45.7751 725.557,-39.7751 731.557,-39.7751\" fill=\"whitesmoke\" stroke=\"black\" stroke-width=\"0.5\"/>\n",
       "<text font-family=\"Times New Roman,serif\" font-size=\"11.00\" text-anchor=\"middle\" x=\"746.557\" y=\"-54.9751\">Leo-01</text>\n",
       "</g>\n",
       "<!-- lion&#45;&#45;Leo&#45;01 -->\n",
       "<g class=\"edge\" id=\"edge32\"><title>lion--Leo-01</title>\n",
       "<path d=\"M878.159,-39.397C846.53,-43.814 801.928,-50.0426 773.632,-53.9942\" fill=\"none\" stroke=\"black\" stroke-dasharray=\"5,2\" stroke-width=\"0.5\"/>\n",
       "<polygon fill=\"none\" points=\"878.926,-42.8239 888.346,-37.9744 877.958,-35.8912 878.926,-42.8239\" stroke=\"black\" stroke-width=\"0.5\"/>\n",
       "</g>\n",
       "<!-- palm&#45;tree&#45;&#45;Mary&#45;01 -->\n",
       "<g class=\"edge\" id=\"edge28\"><title>palm-tree--Mary-01</title>\n",
       "<path d=\"M540.975,-268.054C567.684,-244.521 607.298,-209.616 631.218,-188.54\" fill=\"none\" stroke=\"black\" stroke-dasharray=\"5,2\" stroke-width=\"0.5\"/>\n",
       "<polygon fill=\"none\" points=\"538.659,-265.43 533.47,-274.667 543.287,-270.682 538.659,-265.43\" stroke=\"black\" stroke-width=\"0.5\"/>\n",
       "</g>\n",
       "<!-- parsnip -->\n",
       "<g class=\"node\" id=\"node23\"><title>parsnip</title>\n",
       "<path d=\"M12.2518,-0.515727C12.2518,-0.515727 42.2518,-0.515727 42.2518,-0.515727 48.2518,-0.515727 54.2518,-6.51573 54.2518,-12.5157 54.2518,-12.5157 54.2518,-24.5157 54.2518,-24.5157 54.2518,-30.5157 48.2518,-36.5157 42.2518,-36.5157 42.2518,-36.5157 12.2518,-36.5157 12.2518,-36.5157 6.25175,-36.5157 0.251751,-30.5157 0.251751,-24.5157 0.251751,-24.5157 0.251751,-12.5157 0.251751,-12.5157 0.251751,-6.51573 6.25175,-0.515727 12.2518,-0.515727\" fill=\"aliceblue\" stroke=\"black\" stroke-width=\"0.5\"/>\n",
       "<text font-family=\"Times New Roman,serif\" font-size=\"11.00\" text-anchor=\"middle\" x=\"27.2518\" y=\"-15.7157\">parsnip</text>\n",
       "</g>\n",
       "<!-- root&#45;&#45;parsnip -->\n",
       "<g class=\"edge\" id=\"edge20\"><title>root--parsnip</title>\n",
       "<path d=\"M146.571,-87.4699C118.523,-71.2612 80.0588,-49.0327 54.4676,-34.2436\" fill=\"none\" stroke=\"black\" stroke-width=\"0.5\"/>\n",
       "<polygon fill=\"none\" points=\"144.873,-90.5307 155.282,-92.5039 148.375,-84.47 144.873,-90.5307\" stroke=\"black\" stroke-width=\"0.5\"/>\n",
       "</g>\n",
       "<!-- giraffe&#45;&#45;Sophie&#45;01 -->\n",
       "<g class=\"edge\" id=\"edge30\"><title>giraffe--Sophie-01</title>\n",
       "<path d=\"M868.464,-242.207C853.759,-213.401 830.995,-168.806 818.386,-144.105\" fill=\"none\" stroke=\"black\" stroke-dasharray=\"5,2\" stroke-width=\"0.5\"/>\n",
       "<polygon fill=\"none\" points=\"865.451,-244.003 873.115,-251.319 871.686,-240.821 865.451,-244.003\" stroke=\"black\" stroke-width=\"0.5\"/>\n",
       "</g>\n",
       "<!-- herb -->\n",
       "<g class=\"node\" id=\"node29\"><title>herb</title>\n",
       "<path d=\"M307.756,-326.408C307.756,-326.408 337.756,-326.408 337.756,-326.408 343.756,-326.408 349.756,-332.408 349.756,-338.408 349.756,-338.408 349.756,-350.408 349.756,-350.408 349.756,-356.408 343.756,-362.408 337.756,-362.408 337.756,-362.408 307.756,-362.408 307.756,-362.408 301.756,-362.408 295.756,-356.408 295.756,-350.408 295.756,-350.408 295.756,-338.408 295.756,-338.408 295.756,-332.408 301.756,-326.408 307.756,-326.408\" fill=\"aliceblue\" stroke=\"black\" stroke-width=\"0.5\"/>\n",
       "<text font-family=\"Times New Roman,serif\" font-size=\"11.00\" text-anchor=\"middle\" x=\"322.756\" y=\"-341.608\">herb</text>\n",
       "</g>\n",
       "<!-- herb&#45;&#45;plant -->\n",
       "<g class=\"edge\" id=\"edge26\"><title>herb--plant</title>\n",
       "<path d=\"M336.026,-371.957C344.632,-389.825 355.6,-412.595 363.109,-428.184\" fill=\"none\" stroke=\"black\" stroke-width=\"0.5\"/>\n",
       "<polygon fill=\"none\" points=\"339.017,-370.102 331.525,-362.612 332.711,-373.14 339.017,-370.102\" stroke=\"black\" stroke-width=\"0.5\"/>\n",
       "</g>\n",
       "<!-- herb&#45;&#45;plant&#45;part -->\n",
       "<g class=\"edge\" id=\"edge27\"><title>herb--plant-part</title>\n",
       "<path d=\"M318.07,-315.933C311.641,-276.872 300.273,-207.803 294.894,-175.121\" fill=\"none\" stroke=\"black\" stroke-width=\"0.5\"/>\n",
       "<polygon fill=\"none\" points=\"314.665,-316.8 319.743,-326.099 321.572,-315.663 314.665,-316.8\" stroke=\"black\" stroke-width=\"0.5\"/>\n",
       "</g>\n",
       "<!-- Leo&#45;01&#45;&#45;Mary&#45;01 -->\n",
       "<g class=\"edge\" id=\"edge33\"><title>Leo-01--Mary-01</title>\n",
       "<path d=\"M731.33,-75.8738C715.716,-94.4316 691.283,-123.472 673.613,-144.473\" fill=\"none\" stroke=\"black\" stroke-width=\"0.5\"/>\n",
       "<polygon fill=\"black\" points=\"666.97,-152.368 669.965,-141.819 670.189,-148.542 673.408,-144.717 673.408,-144.717 673.408,-144.717 670.189,-148.542 676.852,-147.614 666.97,-152.368 666.97,-152.368\" stroke=\"black\" stroke-width=\"0.5\"/>\n",
       "<text font-family=\"Times New Roman,serif\" font-size=\"11.00\" text-anchor=\"middle\" x=\"689.642\" y=\"-117.331\">eats</text>\n",
       "</g>\n",
       "<!-- Leo&#45;01&#45;&#45;Sophie&#45;01 -->\n",
       "<g class=\"edge\" id=\"edge34\"><title>Leo-01--Sophie-01</title>\n",
       "<path d=\"M763.342,-76.0828C770.082,-83.4343 777.976,-92.0444 785.295,-100.028\" fill=\"none\" stroke=\"black\" stroke-width=\"0.5\"/>\n",
       "<polygon fill=\"black\" points=\"792.36,-107.734 782.285,-103.404 788.981,-104.048 785.602,-100.363 785.602,-100.363 785.602,-100.363 788.981,-104.048 788.919,-97.3218 792.36,-107.734 792.36,-107.734\" stroke=\"black\" stroke-width=\"0.5\"/>\n",
       "<text font-family=\"Times New Roman,serif\" font-size=\"11.00\" text-anchor=\"middle\" x=\"768.466\" y=\"-95.2335\">eats</text>\n",
       "</g>\n",
       "</g>\n",
       "</svg>"
      ],
      "text/plain": [
       "<IPython.core.display.SVG object>"
      ]
     },
     "execution_count": 12,
     "metadata": {},
     "output_type": "execute_result"
    }
   ],
   "source": [
    "onto.draw_graph(layout='force directed')"
   ]
  },
  {
   "cell_type": "code",
   "execution_count": 13,
   "metadata": {},
   "outputs": [
    {
     "name": "stdout",
     "output_type": "stream",
     "text": [
      "{\n",
      "  \"by\": [\n",
      "    {\n",
      "      \"expr\": \"Every carnivore eats nothing-but animals.\"\n",
      "    },\n",
      "    {\n",
      "      \"expr\": \"Every carnivore eats nothing-but animals.\"\n",
      "    },\n",
      "    {\n",
      "      \"expr\": \"Leo-01 eats Mary-01.\"\n",
      "    },\n",
      "    {\n",
      "      \"by\": [\n",
      "        {\n",
      "          \"by\": [\n",
      "            {\n",
      "              \"expr\": \"Every lion is a carnivore.\"\n",
      "            },\n",
      "            {\n",
      "              \"expr\": \"Every carnivore eats nothing-but animals.\"\n",
      "            }\n",
      "          ]\n",
      "        },\n",
      "        {\n",
      "          \"expr\": \"Leo-01 is a lion.\"\n",
      "        }\n",
      "      ]\n",
      "    }\n",
      "  ],\n",
      "  \"concluded\": \"Mary-01 is an animal.\"\n",
      "}\n"
     ]
    }
   ],
   "source": [
    "printWhy(onto,\"Mary-01 is a animal?\")"
   ]
  },
  {
   "cell_type": "markdown",
   "metadata": {},
   "source": [
    "### Part-3: Modal expressions and part-whole relationships."
   ]
  },
  {
   "cell_type": "code",
   "execution_count": 14,
   "metadata": {
    "scrolled": false
   },
   "outputs": [
    {
     "data": {
      "application/vnd.jupyter.widget-view+json": {
       "model_id": "7ea46d48926e4774a442af88766560b7",
       "version_major": 2,
       "version_minor": 0
      },
      "text/plain": [
       "VBox(children=(Output(), OntoeditWidget(layout=Layout(height='100%', width='90%'), value=\"Every carnivorous-pl…"
      ]
     },
     "metadata": {},
     "output_type": "display_data"
    }
   ],
   "source": [
    "parts_editors['03']=CnlEditBox('part_03.encnl',onto)\n",
    "parts_editors['03']"
   ]
  },
  {
   "cell_type": "code",
   "execution_count": 15,
   "metadata": {},
   "outputs": [
    {
     "data": {
      "application/vnd.jupyter.widget-view+json": {
       "model_id": "3d91d5400bc84b30bee73f2b1beb0c54",
       "version_major": 2,
       "version_minor": 0
      },
      "text/plain": [
       "VBox(children=(Output(), OntoeditWidget(layout=Layout(height='100%', width='90%'), value='Leo-01 is a lion.\\nL…"
      ]
     },
     "metadata": {},
     "output_type": "display_data"
    }
   ],
   "source": [
    "test_02_edit = CnlEditBox('test_02.encnl',onto)\n",
    "test_02_edit"
   ]
  },
  {
   "cell_type": "code",
   "execution_count": 16,
   "metadata": {},
   "outputs": [],
   "source": [
    "onto=buildOntology(parts_editors,test_02_edit)"
   ]
  },
  {
   "cell_type": "code",
   "execution_count": 17,
   "metadata": {},
   "outputs": [
    {
     "name": "stdout",
     "output_type": "stream",
     "text": [
      "{\n",
      "  \"modals\": {\n",
      "    \"Every branch must be-part-of a tree.\\r\\n\": [\n",
      "      {\n",
      "        \"?x0\": {\n",
      "          \"instance\": \"Branch-03\"\n",
      "        }\n",
      "      }\n",
      "    ],\n",
      "    \"Every plant-part must be-part-of a plant.\\r\\n\": [\n",
      "      {\n",
      "        \"?x0\": {\n",
      "          \"instance\": \"Branch-03\"\n",
      "        }\n",
      "      }\n",
      "    ]\n",
      "  }\n",
      "}\n"
     ]
    }
   ],
   "source": [
    "printReasoningInfo(onto)"
   ]
  },
  {
   "cell_type": "code",
   "execution_count": 18,
   "metadata": {},
   "outputs": [
    {
     "data": {
      "image/svg+xml": [
       "<svg height=\"1104pt\" viewBox=\"0.00 0.00 883.00 1104.00\" width=\"883pt\" xmlns=\"http://www.w3.org/2000/svg\" xmlns:xlink=\"http://www.w3.org/1999/xlink\">\n",
       "<g class=\"graph\" id=\"graph0\" transform=\"scale(1 1) rotate(0) translate(4 1100)\">\n",
       "<title>G</title>\n",
       "<polygon fill=\"white\" points=\"-4,4 -4,-1100 879,-1100 879,4 -4,4\" stroke=\"none\"/>\n",
       "<!-- warthog -->\n",
       "<g class=\"node\" id=\"node1\"><title>warthog</title>\n",
       "<path d=\"M768.28,-1059.66C768.28,-1059.66 798.28,-1059.66 798.28,-1059.66 804.28,-1059.66 810.28,-1065.66 810.28,-1071.66 810.28,-1071.66 810.28,-1083.66 810.28,-1083.66 810.28,-1089.66 804.28,-1095.66 798.28,-1095.66 798.28,-1095.66 768.28,-1095.66 768.28,-1095.66 762.28,-1095.66 756.28,-1089.66 756.28,-1083.66 756.28,-1083.66 756.28,-1071.66 756.28,-1071.66 756.28,-1065.66 762.28,-1059.66 768.28,-1059.66\" fill=\"aliceblue\" stroke=\"black\" stroke-width=\"0.5\"/>\n",
       "<text font-family=\"Times New Roman,serif\" font-size=\"11.00\" text-anchor=\"middle\" x=\"783.28\" y=\"-1074.86\">warthog</text>\n",
       "</g>\n",
       "<!-- animal -->\n",
       "<g class=\"node\" id=\"node2\"><title>animal</title>\n",
       "<path d=\"M688.304,-882.179C688.304,-882.179 718.304,-882.179 718.304,-882.179 724.304,-882.179 730.304,-888.179 730.304,-894.179 730.304,-894.179 730.304,-906.179 730.304,-906.179 730.304,-912.179 724.304,-918.179 718.304,-918.179 718.304,-918.179 688.304,-918.179 688.304,-918.179 682.304,-918.179 676.304,-912.179 676.304,-906.179 676.304,-906.179 676.304,-894.179 676.304,-894.179 676.304,-888.179 682.304,-882.179 688.304,-882.179\" fill=\"aliceblue\" stroke=\"black\" stroke-width=\"0.5\"/>\n",
       "<text font-family=\"Times New Roman,serif\" font-size=\"11.00\" text-anchor=\"middle\" x=\"703.304\" y=\"-897.379\">animal</text>\n",
       "</g>\n",
       "<!-- animal&#45;&#45;warthog -->\n",
       "<g class=\"edge\" id=\"edge1\"><title>animal--warthog</title>\n",
       "<path d=\"M715.675,-927.635C732.192,-964.288 760.994,-1028.21 775.068,-1059.44\" fill=\"none\" stroke=\"black\" stroke-width=\"0.5\"/>\n",
       "<polygon fill=\"none\" points=\"718.861,-926.184 711.561,-918.504 712.479,-929.059 718.861,-926.184\" stroke=\"black\" stroke-width=\"0.5\"/>\n",
       "</g>\n",
       "<!-- impala -->\n",
       "<g class=\"node\" id=\"node3\"><title>impala</title>\n",
       "<path d=\"M611.32,-1053.98C611.32,-1053.98 641.32,-1053.98 641.32,-1053.98 647.32,-1053.98 653.32,-1059.98 653.32,-1065.98 653.32,-1065.98 653.32,-1077.98 653.32,-1077.98 653.32,-1083.98 647.32,-1089.98 641.32,-1089.98 641.32,-1089.98 611.32,-1089.98 611.32,-1089.98 605.32,-1089.98 599.32,-1083.98 599.32,-1077.98 599.32,-1077.98 599.32,-1065.98 599.32,-1065.98 599.32,-1059.98 605.32,-1053.98 611.32,-1053.98\" fill=\"aliceblue\" stroke=\"black\" stroke-width=\"0.5\"/>\n",
       "<text font-family=\"Times New Roman,serif\" font-size=\"11.00\" text-anchor=\"middle\" x=\"626.32\" y=\"-1069.18\">impala</text>\n",
       "</g>\n",
       "<!-- animal&#45;&#45;impala -->\n",
       "<g class=\"edge\" id=\"edge2\"><title>animal--impala</title>\n",
       "<path d=\"M691.056,-927.512C675.181,-962.938 647.94,-1023.73 634.42,-1053.9\" fill=\"none\" stroke=\"black\" stroke-width=\"0.5\"/>\n",
       "<polygon fill=\"none\" points=\"694.315,-928.797 695.21,-918.24 687.927,-925.934 694.315,-928.797\" stroke=\"black\" stroke-width=\"0.5\"/>\n",
       "</g>\n",
       "<!-- rock&#45;dassie -->\n",
       "<g class=\"node\" id=\"node13\"><title>rock-dassie</title>\n",
       "<path d=\"M500.515,-932.533C500.515,-932.533 543.515,-932.533 543.515,-932.533 549.515,-932.533 555.515,-938.533 555.515,-944.533 555.515,-944.533 555.515,-956.533 555.515,-956.533 555.515,-962.533 549.515,-968.533 543.515,-968.533 543.515,-968.533 500.515,-968.533 500.515,-968.533 494.515,-968.533 488.515,-962.533 488.515,-956.533 488.515,-956.533 488.515,-944.533 488.515,-944.533 488.515,-938.533 494.515,-932.533 500.515,-932.533\" fill=\"aliceblue\" stroke=\"black\" stroke-width=\"0.5\"/>\n",
       "<text font-family=\"Times New Roman,serif\" font-size=\"11.00\" text-anchor=\"middle\" x=\"522.015\" y=\"-947.733\">rock-dassie</text>\n",
       "</g>\n",
       "<!-- animal&#45;&#45;rock&#45;dassie -->\n",
       "<g class=\"edge\" id=\"edge9\"><title>animal--rock-dassie</title>\n",
       "<path d=\"M666.152,-910.498C633.656,-919.524 586.879,-932.517 555.515,-941.228\" fill=\"none\" stroke=\"black\" stroke-width=\"0.5\"/>\n",
       "<polygon fill=\"none\" points=\"667.464,-913.766 676.163,-907.718 665.591,-907.022 667.464,-913.766\" stroke=\"black\" stroke-width=\"0.5\"/>\n",
       "</g>\n",
       "<!-- herbivore -->\n",
       "<g class=\"node\" id=\"node15\"><title>herbivore</title>\n",
       "<path d=\"M602.801,-795.386C602.801,-795.386 636.801,-795.386 636.801,-795.386 642.801,-795.386 648.801,-801.386 648.801,-807.386 648.801,-807.386 648.801,-819.386 648.801,-819.386 648.801,-825.386 642.801,-831.386 636.801,-831.386 636.801,-831.386 602.801,-831.386 602.801,-831.386 596.801,-831.386 590.801,-825.386 590.801,-819.386 590.801,-819.386 590.801,-807.386 590.801,-807.386 590.801,-801.386 596.801,-795.386 602.801,-795.386\" fill=\"aliceblue\" stroke=\"black\" stroke-width=\"0.5\"/>\n",
       "<text font-family=\"Times New Roman,serif\" font-size=\"11.00\" text-anchor=\"middle\" x=\"619.801\" y=\"-810.586\">herbivore</text>\n",
       "</g>\n",
       "<!-- animal&#45;&#45;herbivore -->\n",
       "<g class=\"edge\" id=\"edge19\"><title>animal--herbivore</title>\n",
       "<path d=\"M678.535,-874.434C665.236,-860.611 649.165,-843.907 637.198,-831.469\" fill=\"none\" stroke=\"black\" stroke-width=\"0.5\"/>\n",
       "<polygon fill=\"none\" points=\"676.14,-876.993 685.595,-881.772 681.184,-872.14 676.14,-876.993\" stroke=\"black\" stroke-width=\"0.5\"/>\n",
       "</g>\n",
       "<!-- giraffe -->\n",
       "<g class=\"node\" id=\"node21\"><title>giraffe</title>\n",
       "<path d=\"M695.056,-765.284C695.056,-765.284 725.056,-765.284 725.056,-765.284 731.056,-765.284 737.056,-771.284 737.056,-777.284 737.056,-777.284 737.056,-789.284 737.056,-789.284 737.056,-795.284 731.056,-801.284 725.056,-801.284 725.056,-801.284 695.056,-801.284 695.056,-801.284 689.056,-801.284 683.056,-795.284 683.056,-789.284 683.056,-789.284 683.056,-777.284 683.056,-777.284 683.056,-771.284 689.056,-765.284 695.056,-765.284\" fill=\"aliceblue\" stroke=\"black\" stroke-width=\"0.5\"/>\n",
       "<text font-family=\"Times New Roman,serif\" font-size=\"11.00\" text-anchor=\"middle\" x=\"710.056\" y=\"-780.484\">giraffe</text>\n",
       "</g>\n",
       "<!-- animal&#45;&#45;giraffe -->\n",
       "<g class=\"edge\" id=\"edge16\"><title>animal--giraffe</title>\n",
       "<path d=\"M704.924,-872.131C706.189,-850.22 707.911,-820.411 709.003,-801.505\" fill=\"none\" stroke=\"black\" stroke-width=\"0.5\"/>\n",
       "<polygon fill=\"none\" points=\"701.426,-871.985 704.344,-882.17 708.415,-872.389 701.426,-871.985\" stroke=\"black\" stroke-width=\"0.5\"/>\n",
       "</g>\n",
       "<!-- carnivore -->\n",
       "<g class=\"node\" id=\"node23\"><title>carnivore</title>\n",
       "<path d=\"M777.781,-842.16C777.781,-842.16 811.781,-842.16 811.781,-842.16 817.781,-842.16 823.781,-848.16 823.781,-854.16 823.781,-854.16 823.781,-866.16 823.781,-866.16 823.781,-872.16 817.781,-878.16 811.781,-878.16 811.781,-878.16 777.781,-878.16 777.781,-878.16 771.781,-878.16 765.781,-872.16 765.781,-866.16 765.781,-866.16 765.781,-854.16 765.781,-854.16 765.781,-848.16 771.781,-842.16 777.781,-842.16\" fill=\"aliceblue\" stroke=\"black\" stroke-width=\"0.5\"/>\n",
       "<text font-family=\"Times New Roman,serif\" font-size=\"11.00\" text-anchor=\"middle\" x=\"794.781\" y=\"-857.36\">carnivore</text>\n",
       "</g>\n",
       "<!-- animal&#45;&#45;carnivore -->\n",
       "<g class=\"edge\" id=\"edge23\"><title>animal--carnivore</title>\n",
       "<path d=\"M740.132,-884.068C748.662,-880.336 757.623,-876.416 765.764,-872.854\" fill=\"none\" stroke=\"black\" stroke-width=\"0.5\"/>\n",
       "<polygon fill=\"none\" points=\"738.509,-880.957 730.75,-888.172 741.314,-887.371 738.509,-880.957\" stroke=\"black\" stroke-width=\"0.5\"/>\n",
       "</g>\n",
       "<!-- omnivore -->\n",
       "<g class=\"node\" id=\"node28\"><title>omnivore</title>\n",
       "<path d=\"M819.947,-939.237C819.947,-939.237 852.947,-939.237 852.947,-939.237 858.947,-939.237 864.947,-945.237 864.947,-951.237 864.947,-951.237 864.947,-963.237 864.947,-963.237 864.947,-969.237 858.947,-975.237 852.947,-975.237 852.947,-975.237 819.947,-975.237 819.947,-975.237 813.947,-975.237 807.947,-969.237 807.947,-963.237 807.947,-963.237 807.947,-951.237 807.947,-951.237 807.947,-945.237 813.947,-939.237 819.947,-939.237\" fill=\"aliceblue\" stroke=\"black\" stroke-width=\"0.5\"/>\n",
       "<text font-family=\"Times New Roman,serif\" font-size=\"11.00\" text-anchor=\"middle\" x=\"836.447\" y=\"-954.437\">omnivore</text>\n",
       "</g>\n",
       "<!-- animal&#45;&#45;omnivore -->\n",
       "<g class=\"edge\" id=\"edge25\"><title>animal--omnivore</title>\n",
       "<path d=\"M739.993,-915.902C761.395,-925.074 787.996,-936.473 807.839,-944.977\" fill=\"none\" stroke=\"black\" stroke-width=\"0.5\"/>\n",
       "<polygon fill=\"none\" points=\"741.139,-912.585 730.568,-911.863 738.381,-919.019 741.139,-912.585\" stroke=\"black\" stroke-width=\"0.5\"/>\n",
       "</g>\n",
       "<!-- phloem -->\n",
       "<g class=\"node\" id=\"node4\"><title>phloem</title>\n",
       "<path d=\"M42.498,-550.157C42.498,-550.157 72.498,-550.157 72.498,-550.157 78.498,-550.157 84.498,-556.157 84.498,-562.157 84.498,-562.157 84.498,-574.157 84.498,-574.157 84.498,-580.157 78.498,-586.157 72.498,-586.157 72.498,-586.157 42.498,-586.157 42.498,-586.157 36.498,-586.157 30.498,-580.157 30.498,-574.157 30.498,-574.157 30.498,-562.157 30.498,-562.157 30.498,-556.157 36.498,-550.157 42.498,-550.157\" fill=\"aliceblue\" stroke=\"black\" stroke-width=\"0.5\"/>\n",
       "<text font-family=\"Times New Roman,serif\" font-size=\"11.00\" text-anchor=\"middle\" x=\"57.498\" y=\"-565.357\">phloem</text>\n",
       "</g>\n",
       "<!-- plant&#45;part -->\n",
       "<g class=\"node\" id=\"node5\"><title>plant-part</title>\n",
       "<path d=\"M194.953,-525.091C194.953,-525.091 229.953,-525.091 229.953,-525.091 235.953,-525.091 241.953,-531.091 241.953,-537.091 241.953,-537.091 241.953,-549.091 241.953,-549.091 241.953,-555.091 235.953,-561.091 229.953,-561.091 229.953,-561.091 194.953,-561.091 194.953,-561.091 188.953,-561.091 182.953,-555.091 182.953,-549.091 182.953,-549.091 182.953,-537.091 182.953,-537.091 182.953,-531.091 188.953,-525.091 194.953,-525.091\" fill=\"aliceblue\" stroke=\"black\" stroke-width=\"0.5\"/>\n",
       "<text font-family=\"Times New Roman,serif\" font-size=\"11.00\" text-anchor=\"middle\" x=\"212.453\" y=\"-540.291\">plant-part</text>\n",
       "</g>\n",
       "<!-- plant&#45;part&#45;&#45;phloem -->\n",
       "<g class=\"edge\" id=\"edge3\"><title>plant-part--phloem</title>\n",
       "<path d=\"M172.802,-549.505C145.143,-553.979 108.961,-559.832 84.5646,-563.778\" fill=\"none\" stroke=\"black\" stroke-width=\"0.5\"/>\n",
       "<polygon fill=\"none\" points=\"173.63,-552.917 182.943,-547.865 172.512,-546.007 173.63,-552.917\" stroke=\"black\" stroke-width=\"0.5\"/>\n",
       "</g>\n",
       "<!-- stem -->\n",
       "<g class=\"node\" id=\"node6\"><title>stem</title>\n",
       "<path d=\"M104.645,-502.987C104.645,-502.987 134.645,-502.987 134.645,-502.987 140.645,-502.987 146.645,-508.987 146.645,-514.987 146.645,-514.987 146.645,-526.987 146.645,-526.987 146.645,-532.987 140.645,-538.987 134.645,-538.987 134.645,-538.987 104.645,-538.987 104.645,-538.987 98.6453,-538.987 92.6453,-532.987 92.6453,-526.987 92.6453,-526.987 92.6453,-514.987 92.6453,-514.987 92.6453,-508.987 98.6453,-502.987 104.645,-502.987\" fill=\"aliceblue\" stroke=\"black\" stroke-width=\"0.5\"/>\n",
       "<text font-family=\"Times New Roman,serif\" font-size=\"11.00\" text-anchor=\"middle\" x=\"119.645\" y=\"-518.187\">stem</text>\n",
       "</g>\n",
       "<!-- plant&#45;part&#45;&#45;stem -->\n",
       "<g class=\"edge\" id=\"edge4\"><title>plant-part--stem</title>\n",
       "<path d=\"M173.057,-533.708C164.204,-531.6 155.003,-529.408 146.783,-527.451\" fill=\"none\" stroke=\"black\" stroke-width=\"0.5\"/>\n",
       "<polygon fill=\"none\" points=\"172.294,-537.124 182.833,-536.037 173.916,-530.315 172.294,-537.124\" stroke=\"black\" stroke-width=\"0.5\"/>\n",
       "</g>\n",
       "<!-- branch -->\n",
       "<g class=\"node\" id=\"node7\"><title>branch</title>\n",
       "<path d=\"M268.683,-382.751C268.683,-382.751 298.683,-382.751 298.683,-382.751 304.683,-382.751 310.683,-388.751 310.683,-394.751 310.683,-394.751 310.683,-406.751 310.683,-406.751 310.683,-412.751 304.683,-418.751 298.683,-418.751 298.683,-418.751 268.683,-418.751 268.683,-418.751 262.683,-418.751 256.683,-412.751 256.683,-406.751 256.683,-406.751 256.683,-394.751 256.683,-394.751 256.683,-388.751 262.683,-382.751 268.683,-382.751\" fill=\"aliceblue\" stroke=\"black\" stroke-width=\"0.5\"/>\n",
       "<text font-family=\"Times New Roman,serif\" font-size=\"11.00\" text-anchor=\"middle\" x=\"283.683\" y=\"-397.951\">branch</text>\n",
       "</g>\n",
       "<!-- plant&#45;part&#45;&#45;branch -->\n",
       "<g class=\"edge\" id=\"edge5\"><title>plant-part--branch</title>\n",
       "<path d=\"M225.975,-516.071C240.197,-487.651 262.188,-443.706 274.51,-419.081\" fill=\"none\" stroke=\"black\" stroke-width=\"0.5\"/>\n",
       "<polygon fill=\"none\" points=\"222.82,-514.555 221.475,-525.064 229.08,-517.687 222.82,-514.555\" stroke=\"black\" stroke-width=\"0.5\"/>\n",
       "</g>\n",
       "<!-- root -->\n",
       "<g class=\"node\" id=\"node9\"><title>root</title>\n",
       "<path d=\"M166.137,-397.093C166.137,-397.093 196.137,-397.093 196.137,-397.093 202.137,-397.093 208.137,-403.093 208.137,-409.093 208.137,-409.093 208.137,-421.093 208.137,-421.093 208.137,-427.093 202.137,-433.093 196.137,-433.093 196.137,-433.093 166.137,-433.093 166.137,-433.093 160.137,-433.093 154.137,-427.093 154.137,-421.093 154.137,-421.093 154.137,-409.093 154.137,-409.093 154.137,-403.093 160.137,-397.093 166.137,-397.093\" fill=\"aliceblue\" stroke=\"black\" stroke-width=\"0.5\"/>\n",
       "<text font-family=\"Times New Roman,serif\" font-size=\"11.00\" text-anchor=\"middle\" x=\"181.137\" y=\"-412.293\">root</text>\n",
       "</g>\n",
       "<!-- plant&#45;part&#45;&#45;root -->\n",
       "<g class=\"edge\" id=\"edge22\"><title>plant-part--root</title>\n",
       "<path d=\"M205.612,-515.127C199.547,-490.339 190.864,-454.851 185.636,-433.483\" fill=\"none\" stroke=\"black\" stroke-width=\"0.5\"/>\n",
       "<polygon fill=\"none\" points=\"202.257,-516.142 208.033,-525.024 209.056,-514.478 202.257,-516.142\" stroke=\"black\" stroke-width=\"0.5\"/>\n",
       "</g>\n",
       "<!-- xylem -->\n",
       "<g class=\"node\" id=\"node10\"><title>xylem</title>\n",
       "<path d=\"M161.287,-581.163C161.287,-581.163 191.287,-581.163 191.287,-581.163 197.287,-581.163 203.287,-587.163 203.287,-593.163 203.287,-593.163 203.287,-605.163 203.287,-605.163 203.287,-611.163 197.287,-617.163 191.287,-617.163 191.287,-617.163 161.287,-617.163 161.287,-617.163 155.287,-617.163 149.287,-611.163 149.287,-605.163 149.287,-605.163 149.287,-593.163 149.287,-593.163 149.287,-587.163 155.287,-581.163 161.287,-581.163\" fill=\"aliceblue\" stroke=\"black\" stroke-width=\"0.5\"/>\n",
       "<text font-family=\"Times New Roman,serif\" font-size=\"11.00\" text-anchor=\"middle\" x=\"176.287\" y=\"-596.363\">xylem</text>\n",
       "</g>\n",
       "<!-- plant&#45;part&#45;&#45;xylem -->\n",
       "<g class=\"edge\" id=\"edge7\"><title>plant-part--xylem</title>\n",
       "<path d=\"M195.387,-569.551C192.854,-573.478 190.294,-577.446 187.908,-581.146\" fill=\"none\" stroke=\"black\" stroke-width=\"0.5\"/>\n",
       "<polygon fill=\"none\" points=\"198.332,-571.442 200.811,-561.141 192.45,-567.648 198.332,-571.442\" stroke=\"black\" stroke-width=\"0.5\"/>\n",
       "</g>\n",
       "<!-- fruiting&#45;body -->\n",
       "<g class=\"node\" id=\"node17\"><title>fruiting-body</title>\n",
       "<path d=\"M184.161,-698.483C184.161,-698.483 232.161,-698.483 232.161,-698.483 238.161,-698.483 244.161,-704.483 244.161,-710.483 244.161,-710.483 244.161,-722.483 244.161,-722.483 244.161,-728.483 238.161,-734.483 232.161,-734.483 232.161,-734.483 184.161,-734.483 184.161,-734.483 178.161,-734.483 172.161,-728.483 172.161,-722.483 172.161,-722.483 172.161,-710.483 172.161,-710.483 172.161,-704.483 178.161,-698.483 184.161,-698.483\" fill=\"aliceblue\" stroke=\"black\" stroke-width=\"0.5\"/>\n",
       "<text font-family=\"Times New Roman,serif\" font-size=\"11.00\" text-anchor=\"middle\" x=\"208.161\" y=\"-713.683\">fruiting-body</text>\n",
       "</g>\n",
       "<!-- plant&#45;part&#45;&#45;fruiting&#45;body -->\n",
       "<g class=\"edge\" id=\"edge12\"><title>plant-part--fruiting-body</title>\n",
       "<path d=\"M211.748,-571.6C210.859,-607.478 209.36,-668.049 208.612,-698.239\" fill=\"none\" stroke=\"black\" stroke-width=\"0.5\"/>\n",
       "<polygon fill=\"none\" points=\"215.253,-571.403 212.002,-561.319 208.256,-571.23 215.253,-571.403\" stroke=\"black\" stroke-width=\"0.5\"/>\n",
       "</g>\n",
       "<!-- twig -->\n",
       "<g class=\"node\" id=\"node24\"><title>twig</title>\n",
       "<path d=\"M251.147,-630.082C251.147,-630.082 281.147,-630.082 281.147,-630.082 287.147,-630.082 293.147,-636.082 293.147,-642.082 293.147,-642.082 293.147,-654.082 293.147,-654.082 293.147,-660.082 287.147,-666.082 281.147,-666.082 281.147,-666.082 251.147,-666.082 251.147,-666.082 245.147,-666.082 239.147,-660.082 239.147,-654.082 239.147,-654.082 239.147,-642.082 239.147,-642.082 239.147,-636.082 245.147,-630.082 251.147,-630.082\" fill=\"aliceblue\" stroke=\"black\" stroke-width=\"0.5\"/>\n",
       "<text font-family=\"Times New Roman,serif\" font-size=\"11.00\" text-anchor=\"middle\" x=\"266.147\" y=\"-645.282\">twig</text>\n",
       "</g>\n",
       "<!-- plant&#45;part&#45;&#45;twig -->\n",
       "<g class=\"edge\" id=\"edge18\"><title>plant-part--twig</title>\n",
       "<path d=\"M226.395,-570.351C236.003,-589.139 248.505,-613.586 256.901,-630.004\" fill=\"none\" stroke=\"black\" stroke-width=\"0.5\"/>\n",
       "<polygon fill=\"none\" points=\"229.476,-568.689 221.806,-561.379 223.243,-571.876 229.476,-568.689\" stroke=\"black\" stroke-width=\"0.5\"/>\n",
       "</g>\n",
       "<!-- leaf -->\n",
       "<g class=\"node\" id=\"node26\"><title>leaf</title>\n",
       "<path d=\"M409.543,-567.27C409.543,-567.27 439.543,-567.27 439.543,-567.27 445.543,-567.27 451.543,-573.27 451.543,-579.27 451.543,-579.27 451.543,-591.27 451.543,-591.27 451.543,-597.27 445.543,-603.27 439.543,-603.27 439.543,-603.27 409.543,-603.27 409.543,-603.27 403.543,-603.27 397.543,-597.27 397.543,-591.27 397.543,-591.27 397.543,-579.27 397.543,-579.27 397.543,-573.27 403.543,-567.27 409.543,-567.27\" fill=\"aliceblue\" stroke=\"black\" stroke-width=\"0.5\"/>\n",
       "<text font-family=\"Times New Roman,serif\" font-size=\"11.00\" text-anchor=\"middle\" x=\"424.543\" y=\"-582.47\">leaf</text>\n",
       "</g>\n",
       "<!-- plant&#45;part&#45;&#45;leaf -->\n",
       "<g class=\"edge\" id=\"edge21\"><title>plant-part--leaf</title>\n",
       "<path d=\"M252.375,-551.03C294.792,-559.466 360.697,-572.573 397.445,-579.881\" fill=\"none\" stroke=\"black\" stroke-width=\"0.5\"/>\n",
       "<polygon fill=\"none\" points=\"252.882,-547.563 242.391,-549.045 251.516,-554.428 252.882,-547.563\" stroke=\"black\" stroke-width=\"0.5\"/>\n",
       "</g>\n",
       "<!-- Branch&#45;03 -->\n",
       "<g class=\"node\" id=\"node30\"><title>Branch-03</title>\n",
       "<path d=\"M225.949,-283.216C225.949,-283.216 264.949,-283.216 264.949,-283.216 270.949,-283.216 276.949,-289.216 276.949,-295.216 276.949,-295.216 276.949,-307.216 276.949,-307.216 276.949,-313.216 270.949,-319.216 264.949,-319.216 264.949,-319.216 225.949,-319.216 225.949,-319.216 219.949,-319.216 213.949,-313.216 213.949,-307.216 213.949,-307.216 213.949,-295.216 213.949,-295.216 213.949,-289.216 219.949,-283.216 225.949,-283.216\" fill=\"whitesmoke\" stroke=\"black\" stroke-width=\"0.5\"/>\n",
       "<text font-family=\"Times New Roman,serif\" font-size=\"11.00\" text-anchor=\"middle\" x=\"245.449\" y=\"-298.416\">Branch-03</text>\n",
       "</g>\n",
       "<!-- branch&#45;&#45;Branch&#45;03 -->\n",
       "<g class=\"edge\" id=\"edge28\"><title>branch--Branch-03</title>\n",
       "<path d=\"M273.018,-372.987C266.433,-355.842 258.172,-334.336 252.418,-319.357\" fill=\"none\" stroke=\"black\" stroke-dasharray=\"5,2\" stroke-width=\"0.5\"/>\n",
       "<polygon fill=\"none\" points=\"269.818,-374.415 276.671,-382.495 276.352,-371.905 269.818,-374.415\" stroke=\"black\" stroke-width=\"0.5\"/>\n",
       "</g>\n",
       "<!-- Branch&#45;01 -->\n",
       "<g class=\"node\" id=\"node31\"><title>Branch-01</title>\n",
       "<path d=\"M415.374,-469.881C415.374,-469.881 454.374,-469.881 454.374,-469.881 460.374,-469.881 466.374,-475.881 466.374,-481.881 466.374,-481.881 466.374,-493.881 466.374,-493.881 466.374,-499.881 460.374,-505.881 454.374,-505.881 454.374,-505.881 415.374,-505.881 415.374,-505.881 409.374,-505.881 403.374,-499.881 403.374,-493.881 403.374,-493.881 403.374,-481.881 403.374,-481.881 403.374,-475.881 409.374,-469.881 415.374,-469.881\" fill=\"whitesmoke\" stroke=\"black\" stroke-width=\"0.5\"/>\n",
       "<text font-family=\"Times New Roman,serif\" font-size=\"11.00\" text-anchor=\"middle\" x=\"434.874\" y=\"-485.081\">Branch-01</text>\n",
       "</g>\n",
       "<!-- branch&#45;&#45;Branch&#45;01 -->\n",
       "<g class=\"edge\" id=\"edge29\"><title>branch--Branch-01</title>\n",
       "<path d=\"M319.685,-421.498C345.153,-436.175 378.973,-455.666 403.372,-469.727\" fill=\"none\" stroke=\"black\" stroke-dasharray=\"5,2\" stroke-width=\"0.5\"/>\n",
       "<polygon fill=\"none\" points=\"321.125,-418.289 310.713,-416.328 317.63,-424.353 321.125,-418.289\" stroke=\"black\" stroke-width=\"0.5\"/>\n",
       "</g>\n",
       "<!-- Branch&#45;02 -->\n",
       "<g class=\"node\" id=\"node32\"><title>Branch-02</title>\n",
       "<path d=\"M424.919,-396.211C424.919,-396.211 463.919,-396.211 463.919,-396.211 469.919,-396.211 475.919,-402.211 475.919,-408.211 475.919,-408.211 475.919,-420.211 475.919,-420.211 475.919,-426.211 469.919,-432.211 463.919,-432.211 463.919,-432.211 424.919,-432.211 424.919,-432.211 418.919,-432.211 412.919,-426.211 412.919,-420.211 412.919,-420.211 412.919,-408.211 412.919,-408.211 412.919,-402.211 418.919,-396.211 424.919,-396.211\" fill=\"whitesmoke\" stroke=\"black\" stroke-width=\"0.5\"/>\n",
       "<text font-family=\"Times New Roman,serif\" font-size=\"11.00\" text-anchor=\"middle\" x=\"444.419\" y=\"-411.411\">Branch-02</text>\n",
       "</g>\n",
       "<!-- branch&#45;&#45;Branch&#45;02 -->\n",
       "<g class=\"edge\" id=\"edge30\"><title>branch--Branch-02</title>\n",
       "<path d=\"M321.103,-403.884C348.953,-406.217 386.545,-409.365 412.877,-411.57\" fill=\"none\" stroke=\"black\" stroke-dasharray=\"5,2\" stroke-width=\"0.5\"/>\n",
       "<polygon fill=\"none\" points=\"321.207,-400.381 310.95,-403.034 320.623,-407.356 321.207,-400.381\" stroke=\"black\" stroke-width=\"0.5\"/>\n",
       "</g>\n",
       "<!-- parsnip -->\n",
       "<g class=\"node\" id=\"node8\"><title>parsnip</title>\n",
       "<path d=\"M11.6367,-293.422C11.6367,-293.422 41.6367,-293.422 41.6367,-293.422 47.6367,-293.422 53.6367,-299.422 53.6367,-305.422 53.6367,-305.422 53.6367,-317.422 53.6367,-317.422 53.6367,-323.422 47.6367,-329.422 41.6367,-329.422 41.6367,-329.422 11.6367,-329.422 11.6367,-329.422 5.63672,-329.422 -0.363275,-323.422 -0.363275,-317.422 -0.363275,-317.422 -0.363275,-305.422 -0.363275,-305.422 -0.363275,-299.422 5.63672,-293.422 11.6367,-293.422\" fill=\"aliceblue\" stroke=\"black\" stroke-width=\"0.5\"/>\n",
       "<text font-family=\"Times New Roman,serif\" font-size=\"11.00\" text-anchor=\"middle\" x=\"26.6367\" y=\"-308.622\">parsnip</text>\n",
       "</g>\n",
       "<!-- root&#45;&#45;parsnip -->\n",
       "<g class=\"edge\" id=\"edge6\"><title>root--parsnip</title>\n",
       "<path d=\"M145.88,-391.435C117.806,-372.597 79.1027,-346.627 53.499,-329.447\" fill=\"none\" stroke=\"black\" stroke-width=\"0.5\"/>\n",
       "<polygon fill=\"none\" points=\"143.971,-394.369 154.225,-397.035 147.872,-388.556 143.971,-394.369\" stroke=\"black\" stroke-width=\"0.5\"/>\n",
       "</g>\n",
       "<!-- palm&#45;tree -->\n",
       "<g class=\"node\" id=\"node11\"><title>palm-tree</title>\n",
       "<path d=\"M536.414,-52.2677C536.414,-52.2677 571.414,-52.2677 571.414,-52.2677 577.414,-52.2677 583.414,-58.2677 583.414,-64.2677 583.414,-64.2677 583.414,-76.2677 583.414,-76.2677 583.414,-82.2677 577.414,-88.2677 571.414,-88.2677 571.414,-88.2677 536.414,-88.2677 536.414,-88.2677 530.414,-88.2677 524.414,-82.2677 524.414,-76.2677 524.414,-76.2677 524.414,-64.2677 524.414,-64.2677 524.414,-58.2677 530.414,-52.2677 536.414,-52.2677\" fill=\"aliceblue\" stroke=\"black\" stroke-width=\"0.5\"/>\n",
       "<text font-family=\"Times New Roman,serif\" font-size=\"11.00\" text-anchor=\"middle\" x=\"553.914\" y=\"-67.4677\">palm-tree</text>\n",
       "</g>\n",
       "<!-- plant -->\n",
       "<g class=\"node\" id=\"node12\"><title>plant</title>\n",
       "<path d=\"M479.554,-176.418C479.554,-176.418 509.554,-176.418 509.554,-176.418 515.554,-176.418 521.554,-182.418 521.554,-188.418 521.554,-188.418 521.554,-200.418 521.554,-200.418 521.554,-206.418 515.554,-212.418 509.554,-212.418 509.554,-212.418 479.554,-212.418 479.554,-212.418 473.554,-212.418 467.554,-206.418 467.554,-200.418 467.554,-200.418 467.554,-188.418 467.554,-188.418 467.554,-182.418 473.554,-176.418 479.554,-176.418\" fill=\"aliceblue\" stroke=\"black\" stroke-width=\"0.5\"/>\n",
       "<text font-family=\"Times New Roman,serif\" font-size=\"11.00\" text-anchor=\"middle\" x=\"494.554\" y=\"-191.618\">plant</text>\n",
       "</g>\n",
       "<!-- plant&#45;&#45;palm&#45;tree -->\n",
       "<g class=\"edge\" id=\"edge8\"><title>plant--palm-tree</title>\n",
       "<path d=\"M507.611,-167.111C519.059,-143.168 535.377,-109.039 545.273,-88.342\" fill=\"none\" stroke=\"black\" stroke-width=\"0.5\"/>\n",
       "<polygon fill=\"none\" points=\"504.342,-165.834 503.186,-176.365 510.657,-168.853 504.342,-165.834\" stroke=\"black\" stroke-width=\"0.5\"/>\n",
       "</g>\n",
       "<!-- carnivorous&#45;plant -->\n",
       "<g class=\"node\" id=\"node16\"><title>carnivorous-plant</title>\n",
       "<path d=\"M275.888,-106.954C275.888,-106.954 343.888,-106.954 343.888,-106.954 349.888,-106.954 355.888,-112.954 355.888,-118.954 355.888,-118.954 355.888,-130.954 355.888,-130.954 355.888,-136.954 349.888,-142.954 343.888,-142.954 343.888,-142.954 275.888,-142.954 275.888,-142.954 269.888,-142.954 263.888,-136.954 263.888,-130.954 263.888,-130.954 263.888,-118.954 263.888,-118.954 263.888,-112.954 269.888,-106.954 275.888,-106.954\" fill=\"aliceblue\" stroke=\"black\" stroke-width=\"0.5\"/>\n",
       "<text font-family=\"Times New Roman,serif\" font-size=\"11.00\" text-anchor=\"middle\" x=\"309.888\" y=\"-122.154\">carnivorous-plant</text>\n",
       "</g>\n",
       "<!-- plant&#45;&#45;carnivorous&#45;plant -->\n",
       "<g class=\"edge\" id=\"edge11\"><title>plant--carnivorous-plant</title>\n",
       "<path d=\"M457.895,-180.628C428.715,-169.652 387.695,-154.222 356.238,-142.389\" fill=\"none\" stroke=\"black\" stroke-width=\"0.5\"/>\n",
       "<polygon fill=\"none\" points=\"456.714,-183.923 467.306,-184.168 459.179,-177.371 456.714,-183.923\" stroke=\"black\" stroke-width=\"0.5\"/>\n",
       "</g>\n",
       "<!-- tasty&#45;plant -->\n",
       "<g class=\"node\" id=\"node19\"><title>tasty-plant</title>\n",
       "<path d=\"M582.508,-165.808C582.508,-165.808 620.508,-165.808 620.508,-165.808 626.508,-165.808 632.508,-171.808 632.508,-177.808 632.508,-177.808 632.508,-189.808 632.508,-189.808 632.508,-195.808 626.508,-201.808 620.508,-201.808 620.508,-201.808 582.508,-201.808 582.508,-201.808 576.508,-201.808 570.508,-195.808 570.508,-189.808 570.508,-189.808 570.508,-177.808 570.508,-177.808 570.508,-171.808 576.508,-165.808 582.508,-165.808\" fill=\"aliceblue\" stroke=\"black\" stroke-width=\"0.5\"/>\n",
       "<text font-family=\"Times New Roman,serif\" font-size=\"11.00\" text-anchor=\"middle\" x=\"601.508\" y=\"-181.008\">tasty-plant</text>\n",
       "</g>\n",
       "<!-- plant&#45;&#45;tasty&#45;plant -->\n",
       "<g class=\"edge\" id=\"edge14\"><title>plant--tasty-plant</title>\n",
       "<path d=\"M531.925,-190.71C544.396,-189.473 558.156,-188.108 570.124,-186.921\" fill=\"none\" stroke=\"black\" stroke-width=\"0.5\"/>\n",
       "<polygon fill=\"none\" points=\"531.426,-187.243 521.82,-191.713 532.117,-194.209 531.426,-187.243\" stroke=\"black\" stroke-width=\"0.5\"/>\n",
       "</g>\n",
       "<!-- grass -->\n",
       "<g class=\"node\" id=\"node20\"><title>grass</title>\n",
       "<path d=\"M422.92,-0.393549C422.92,-0.393549 452.92,-0.393549 452.92,-0.393549 458.92,-0.393549 464.92,-6.39355 464.92,-12.3935 464.92,-12.3935 464.92,-24.3935 464.92,-24.3935 464.92,-30.3935 458.92,-36.3935 452.92,-36.3935 452.92,-36.3935 422.92,-36.3935 422.92,-36.3935 416.92,-36.3935 410.92,-30.3935 410.92,-24.3935 410.92,-24.3935 410.92,-12.3935 410.92,-12.3935 410.92,-6.39355 416.92,-0.393549 422.92,-0.393549\" fill=\"aliceblue\" stroke=\"black\" stroke-width=\"0.5\"/>\n",
       "<text font-family=\"Times New Roman,serif\" font-size=\"11.00\" text-anchor=\"middle\" x=\"437.92\" y=\"-15.5935\">grass</text>\n",
       "</g>\n",
       "<!-- plant&#45;&#45;grass -->\n",
       "<g class=\"edge\" id=\"edge15\"><title>plant--grass</title>\n",
       "<path d=\"M485.644,-166.722C473.924,-130.297 453.66,-67.3128 443.736,-36.4694\" fill=\"none\" stroke=\"black\" stroke-width=\"0.5\"/>\n",
       "<polygon fill=\"none\" points=\"482.312,-167.796 488.707,-176.243 488.976,-165.652 482.312,-167.796\" stroke=\"black\" stroke-width=\"0.5\"/>\n",
       "</g>\n",
       "<!-- tree -->\n",
       "<g class=\"node\" id=\"node25\"><title>tree</title>\n",
       "<path d=\"M534.973,-267.078C534.973,-267.078 564.973,-267.078 564.973,-267.078 570.973,-267.078 576.973,-273.078 576.973,-279.078 576.973,-279.078 576.973,-291.078 576.973,-291.078 576.973,-297.078 570.973,-303.078 564.973,-303.078 564.973,-303.078 534.973,-303.078 534.973,-303.078 528.973,-303.078 522.973,-297.078 522.973,-291.078 522.973,-291.078 522.973,-279.078 522.973,-279.078 522.973,-273.078 528.973,-267.078 534.973,-267.078\" fill=\"aliceblue\" stroke=\"black\" stroke-width=\"0.5\"/>\n",
       "<text font-family=\"Times New Roman,serif\" font-size=\"11.00\" text-anchor=\"middle\" x=\"549.973\" y=\"-282.278\">tree</text>\n",
       "</g>\n",
       "<!-- plant&#45;&#45;tree -->\n",
       "<g class=\"edge\" id=\"edge20\"><title>plant--tree</title>\n",
       "<path d=\"M511.091,-221.469C520.099,-236.206 531,-254.039 538.964,-267.068\" fill=\"none\" stroke=\"black\" stroke-width=\"0.5\"/>\n",
       "<polygon fill=\"none\" points=\"513.971,-219.471 505.769,-212.764 507.999,-223.122 513.971,-219.471\" stroke=\"black\" stroke-width=\"0.5\"/>\n",
       "</g>\n",
       "<!-- elephant -->\n",
       "<g class=\"node\" id=\"node14\"><title>elephant</title>\n",
       "<path d=\"M429.413,-774.688C429.413,-774.688 459.413,-774.688 459.413,-774.688 465.413,-774.688 471.413,-780.688 471.413,-786.688 471.413,-786.688 471.413,-798.688 471.413,-798.688 471.413,-804.688 465.413,-810.688 459.413,-810.688 459.413,-810.688 429.413,-810.688 429.413,-810.688 423.413,-810.688 417.413,-804.688 417.413,-798.688 417.413,-798.688 417.413,-786.688 417.413,-786.688 417.413,-780.688 423.413,-774.688 429.413,-774.688\" fill=\"aliceblue\" stroke=\"black\" stroke-width=\"0.5\"/>\n",
       "<text font-family=\"Times New Roman,serif\" font-size=\"11.00\" text-anchor=\"middle\" x=\"444.413\" y=\"-789.888\">elephant</text>\n",
       "</g>\n",
       "<!-- herbivore&#45;&#45;elephant -->\n",
       "<g class=\"edge\" id=\"edge10\"><title>herbivore--elephant</title>\n",
       "<path d=\"M580.188,-808.711C547.04,-804.799 500.626,-799.322 471.556,-795.891\" fill=\"none\" stroke=\"black\" stroke-width=\"0.5\"/>\n",
       "<polygon fill=\"none\" points=\"580.104,-812.226 590.445,-809.922 580.925,-805.274 580.104,-812.226\" stroke=\"black\" stroke-width=\"0.5\"/>\n",
       "</g>\n",
       "<!-- Sophie&#45;01 -->\n",
       "<g class=\"node\" id=\"node35\"><title>Sophie-01</title>\n",
       "<path d=\"M597.392,-627.478C597.392,-627.478 633.392,-627.478 633.392,-627.478 639.392,-627.478 645.392,-633.478 645.392,-639.478 645.392,-639.478 645.392,-651.478 645.392,-651.478 645.392,-657.478 639.392,-663.478 633.392,-663.478 633.392,-663.478 597.392,-663.478 597.392,-663.478 591.392,-663.478 585.392,-657.478 585.392,-651.478 585.392,-651.478 585.392,-639.478 585.392,-639.478 585.392,-633.478 591.392,-627.478 597.392,-627.478\" fill=\"whitesmoke\" stroke=\"black\" stroke-width=\"0.5\"/>\n",
       "<text font-family=\"Times New Roman,serif\" font-size=\"11.00\" text-anchor=\"middle\" x=\"615.392\" y=\"-642.678\">Sophie-01</text>\n",
       "</g>\n",
       "<!-- herbivore&#45;&#45;Sophie&#45;01 -->\n",
       "<g class=\"edge\" id=\"edge34\"><title>herbivore--Sophie-01</title>\n",
       "<path d=\"M619.048,-784.683C618.136,-749.953 616.628,-692.532 615.865,-663.49\" fill=\"none\" stroke=\"black\" stroke-dasharray=\"5,2\" stroke-width=\"0.5\"/>\n",
       "<polygon fill=\"none\" points=\"615.56,-785.193 619.321,-795.098 622.557,-785.009 615.56,-785.193\" stroke=\"black\" stroke-width=\"0.5\"/>\n",
       "</g>\n",
       "<!-- berry -->\n",
       "<g class=\"node\" id=\"node18\"><title>berry</title>\n",
       "<path d=\"M41.6579,-773.207C41.6579,-773.207 71.6579,-773.207 71.6579,-773.207 77.6579,-773.207 83.6579,-779.207 83.6579,-785.207 83.6579,-785.207 83.6579,-797.207 83.6579,-797.207 83.6579,-803.207 77.6579,-809.207 71.6579,-809.207 71.6579,-809.207 41.6579,-809.207 41.6579,-809.207 35.6579,-809.207 29.6579,-803.207 29.6579,-797.207 29.6579,-797.207 29.6579,-785.207 29.6579,-785.207 29.6579,-779.207 35.6579,-773.207 41.6579,-773.207\" fill=\"aliceblue\" stroke=\"black\" stroke-width=\"0.5\"/>\n",
       "<text font-family=\"Times New Roman,serif\" font-size=\"11.00\" text-anchor=\"middle\" x=\"56.6579\" y=\"-788.407\">berry</text>\n",
       "</g>\n",
       "<!-- fruiting&#45;body&#45;&#45;berry -->\n",
       "<g class=\"edge\" id=\"edge13\"><title>fruiting-body--berry</title>\n",
       "<path d=\"M162.72,-738.895C137.126,-751.519 106.004,-766.869 84.1131,-777.666\" fill=\"none\" stroke=\"black\" stroke-width=\"0.5\"/>\n",
       "<polygon fill=\"none\" points=\"164.452,-741.944 171.872,-734.381 161.355,-735.666 164.452,-741.944\" stroke=\"black\" stroke-width=\"0.5\"/>\n",
       "</g>\n",
       "<!-- apple -->\n",
       "<g class=\"node\" id=\"node27\"><title>apple</title>\n",
       "<path d=\"M246.854,-864.066C246.854,-864.066 276.854,-864.066 276.854,-864.066 282.854,-864.066 288.854,-870.066 288.854,-876.066 288.854,-876.066 288.854,-888.066 288.854,-888.066 288.854,-894.066 282.854,-900.066 276.854,-900.066 276.854,-900.066 246.854,-900.066 246.854,-900.066 240.854,-900.066 234.854,-894.066 234.854,-888.066 234.854,-888.066 234.854,-876.066 234.854,-876.066 234.854,-870.066 240.854,-864.066 246.854,-864.066\" fill=\"aliceblue\" stroke=\"black\" stroke-width=\"0.5\"/>\n",
       "<text font-family=\"Times New Roman,serif\" font-size=\"11.00\" text-anchor=\"middle\" x=\"261.854\" y=\"-879.266\">apple</text>\n",
       "</g>\n",
       "<!-- fruiting&#45;body&#45;&#45;apple -->\n",
       "<g class=\"edge\" id=\"edge24\"><title>fruiting-body--apple</title>\n",
       "<path d=\"M217.186,-744.317C228.244,-778.417 246.657,-835.202 256.012,-864.053\" fill=\"none\" stroke=\"black\" stroke-width=\"0.5\"/>\n",
       "<polygon fill=\"none\" points=\"220.423,-742.951 214.009,-734.519 213.764,-745.111 220.423,-742.951\" stroke=\"black\" stroke-width=\"0.5\"/>\n",
       "</g>\n",
       "<!-- giraffe&#45;&#45;Sophie&#45;01 -->\n",
       "<g class=\"edge\" id=\"edge33\"><title>giraffe--Sophie-01</title>\n",
       "<path d=\"M691.951,-756.928C673.119,-729.513 644.143,-687.332 627.771,-663.499\" fill=\"none\" stroke=\"black\" stroke-dasharray=\"5,2\" stroke-width=\"0.5\"/>\n",
       "<polygon fill=\"none\" points=\"689.133,-759.007 697.68,-765.268 694.903,-755.044 689.133,-759.007\" stroke=\"black\" stroke-width=\"0.5\"/>\n",
       "</g>\n",
       "<!-- lion -->\n",
       "<g class=\"node\" id=\"node22\"><title>lion</title>\n",
       "<path d=\"M833.436,-665.287C833.436,-665.287 863.436,-665.287 863.436,-665.287 869.436,-665.287 875.436,-671.287 875.436,-677.287 875.436,-677.287 875.436,-689.287 875.436,-689.287 875.436,-695.287 869.436,-701.287 863.436,-701.287 863.436,-701.287 833.436,-701.287 833.436,-701.287 827.436,-701.287 821.436,-695.287 821.436,-689.287 821.436,-689.287 821.436,-677.287 821.436,-677.287 821.436,-671.287 827.436,-665.287 833.436,-665.287\" fill=\"aliceblue\" stroke=\"black\" stroke-width=\"0.5\"/>\n",
       "<text font-family=\"Times New Roman,serif\" font-size=\"11.00\" text-anchor=\"middle\" x=\"848.436\" y=\"-680.487\">lion</text>\n",
       "</g>\n",
       "<!-- Leo&#45;01 -->\n",
       "<g class=\"node\" id=\"node36\"><title>Leo-01</title>\n",
       "<path d=\"M758.86,-591.44C758.86,-591.44 788.86,-591.44 788.86,-591.44 794.86,-591.44 800.86,-597.44 800.86,-603.44 800.86,-603.44 800.86,-615.44 800.86,-615.44 800.86,-621.44 794.86,-627.44 788.86,-627.44 788.86,-627.44 758.86,-627.44 758.86,-627.44 752.86,-627.44 746.86,-621.44 746.86,-615.44 746.86,-615.44 746.86,-603.44 746.86,-603.44 746.86,-597.44 752.86,-591.44 758.86,-591.44\" fill=\"whitesmoke\" stroke=\"black\" stroke-width=\"0.5\"/>\n",
       "<text font-family=\"Times New Roman,serif\" font-size=\"11.00\" text-anchor=\"middle\" x=\"773.86\" y=\"-606.64\">Leo-01</text>\n",
       "</g>\n",
       "<!-- lion&#45;&#45;Leo&#45;01 -->\n",
       "<g class=\"edge\" id=\"edge35\"><title>lion--Leo-01</title>\n",
       "<path d=\"M822.607,-657.71C812.55,-647.752 801.262,-636.574 792.083,-627.485\" fill=\"none\" stroke=\"black\" stroke-dasharray=\"5,2\" stroke-width=\"0.5\"/>\n",
       "<polygon fill=\"none\" points=\"820.433,-660.484 830.002,-665.033 825.359,-655.51 820.433,-660.484\" stroke=\"black\" stroke-width=\"0.5\"/>\n",
       "</g>\n",
       "<!-- carnivore&#45;&#45;lion -->\n",
       "<g class=\"edge\" id=\"edge17\"><title>carnivore--lion</title>\n",
       "<path d=\"M803.365,-831.861C814.49,-795.191 833.565,-732.31 842.927,-701.45\" fill=\"none\" stroke=\"black\" stroke-width=\"0.5\"/>\n",
       "<polygon fill=\"none\" points=\"799.874,-831.313 800.321,-841.898 806.573,-833.345 799.874,-831.313\" stroke=\"black\" stroke-width=\"0.5\"/>\n",
       "</g>\n",
       "<!-- Mary&#45;01 -->\n",
       "<g class=\"node\" id=\"node33\"><title>Mary-01</title>\n",
       "<path d=\"M506.327,-445.562C506.327,-445.562 537.327,-445.562 537.327,-445.562 543.327,-445.562 549.327,-451.562 549.327,-457.562 549.327,-457.562 549.327,-469.562 549.327,-469.562 549.327,-475.562 543.327,-481.562 537.327,-481.562 537.327,-481.562 506.327,-481.562 506.327,-481.562 500.327,-481.562 494.327,-475.562 494.327,-469.562 494.327,-469.562 494.327,-457.562 494.327,-457.562 494.327,-451.562 500.327,-445.562 506.327,-445.562\" fill=\"whitesmoke\" stroke=\"black\" stroke-width=\"0.5\"/>\n",
       "<text font-family=\"Times New Roman,serif\" font-size=\"11.00\" text-anchor=\"middle\" x=\"521.827\" y=\"-460.762\">Mary-01</text>\n",
       "</g>\n",
       "<!-- tree&#45;&#45;Mary&#45;01 -->\n",
       "<g class=\"edge\" id=\"edge31\"><title>tree--Mary-01</title>\n",
       "<path d=\"M545.524,-313.296C539.684,-350.323 529.603,-414.249 524.688,-445.418\" fill=\"none\" stroke=\"black\" stroke-dasharray=\"5,2\" stroke-width=\"0.5\"/>\n",
       "<polygon fill=\"none\" points=\"549.019,-313.597 547.12,-303.174 542.105,-312.507 549.019,-313.597\" stroke=\"black\" stroke-width=\"0.5\"/>\n",
       "</g>\n",
       "<!-- Leaf&#45;01 -->\n",
       "<g class=\"node\" id=\"node34\"><title>Leaf-01</title>\n",
       "<path d=\"M488.175,-523.382C488.175,-523.382 518.175,-523.382 518.175,-523.382 524.175,-523.382 530.175,-529.382 530.175,-535.382 530.175,-535.382 530.175,-547.382 530.175,-547.382 530.175,-553.382 524.175,-559.382 518.175,-559.382 518.175,-559.382 488.175,-559.382 488.175,-559.382 482.175,-559.382 476.175,-553.382 476.175,-547.382 476.175,-547.382 476.175,-535.382 476.175,-535.382 476.175,-529.382 482.175,-523.382 488.175,-523.382\" fill=\"whitesmoke\" stroke=\"black\" stroke-width=\"0.5\"/>\n",
       "<text font-family=\"Times New Roman,serif\" font-size=\"11.00\" text-anchor=\"middle\" x=\"503.175\" y=\"-538.582\">Leaf-01</text>\n",
       "</g>\n",
       "<!-- leaf&#45;&#45;Leaf&#45;01 -->\n",
       "<g class=\"edge\" id=\"edge32\"><title>leaf--Leaf-01</title>\n",
       "<path d=\"M460.346,-565.287C465.628,-562.339 470.997,-559.342 476.064,-556.514\" fill=\"none\" stroke=\"black\" stroke-dasharray=\"5,2\" stroke-width=\"0.5\"/>\n",
       "<polygon fill=\"none\" points=\"458.63,-562.237 451.604,-570.166 462.041,-568.349 458.63,-562.237\" stroke=\"black\" stroke-width=\"0.5\"/>\n",
       "</g>\n",
       "<!-- herb -->\n",
       "<g class=\"node\" id=\"node29\"><title>herb</title>\n",
       "<path d=\"M315.843,-279.342C315.843,-279.342 345.843,-279.342 345.843,-279.342 351.843,-279.342 357.843,-285.342 357.843,-291.342 357.843,-291.342 357.843,-303.342 357.843,-303.342 357.843,-309.342 351.843,-315.342 345.843,-315.342 345.843,-315.342 315.843,-315.342 315.843,-315.342 309.843,-315.342 303.843,-309.342 303.843,-303.342 303.843,-303.342 303.843,-291.342 303.843,-291.342 303.843,-285.342 309.843,-279.342 315.843,-279.342\" fill=\"aliceblue\" stroke=\"black\" stroke-width=\"0.5\"/>\n",
       "<text font-family=\"Times New Roman,serif\" font-size=\"11.00\" text-anchor=\"middle\" x=\"330.843\" y=\"-294.542\">herb</text>\n",
       "</g>\n",
       "<!-- herb&#45;&#45;plant&#45;part -->\n",
       "<g class=\"edge\" id=\"edge27\"><title>herb--plant-part</title>\n",
       "<path d=\"M300.549,-322.532C284.355,-337.526 265.362,-357.829 253.483,-379.551 227.08,-427.835 217.329,-493.4 214.011,-524.825\" fill=\"none\" stroke=\"black\" stroke-width=\"0.5\"/>\n",
       "<polygon fill=\"none\" points=\"303.141,-324.907 308.23,-315.615 298.457,-319.706 303.141,-324.907\" stroke=\"black\" stroke-width=\"0.5\"/>\n",
       "</g>\n",
       "<!-- herb&#45;&#45;plant -->\n",
       "<g class=\"edge\" id=\"edge26\"><title>herb--plant</title>\n",
       "<path d=\"M366.476,-274.94C396.85,-255.844 439.858,-228.805 467.481,-211.439\" fill=\"none\" stroke=\"black\" stroke-width=\"0.5\"/>\n",
       "<polygon fill=\"none\" points=\"364.48,-272.061 357.877,-280.347 368.205,-277.987 364.48,-272.061\" stroke=\"black\" stroke-width=\"0.5\"/>\n",
       "</g>\n",
       "<!-- Branch&#45;01&#45;&#45;Branch&#45;02 -->\n",
       "<g class=\"edge\" id=\"edge36\"><title>Branch-01--Branch-02</title>\n",
       "<path d=\"M443.27,-469.679C445.102,-461.504 446.566,-451.668 447.354,-442.563\" fill=\"none\" stroke=\"black\" stroke-width=\"0.5\"/>\n",
       "<polygon fill=\"black\" points=\"447.95,-432.354 451.86,-442.599 447.659,-437.345 447.367,-442.337 447.367,-442.337 447.367,-442.337 447.659,-437.345 442.875,-442.075 447.95,-432.354 447.95,-432.354\" stroke=\"black\" stroke-width=\"0.5\"/>\n",
       "<text font-family=\"Times New Roman,serif\" font-size=\"11.00\" text-anchor=\"middle\" x=\"427.927\" y=\"-454.44\">has-part</text>\n",
       "</g>\n",
       "<!-- Branch&#45;01&#45;&#45;Mary&#45;01 -->\n",
       "<g class=\"edge\" id=\"edge37\"><title>Branch-01--Mary-01</title>\n",
       "<path d=\"M466.535,-485.723C472.333,-484.373 478.434,-482.761 484.382,-481.014\" fill=\"none\" stroke=\"black\" stroke-width=\"0.5\"/>\n",
       "<polygon fill=\"black\" points=\"494.166,-477.969 485.955,-485.238 489.392,-479.455 484.618,-480.941 484.618,-480.941 484.618,-480.941 489.392,-479.455 483.281,-476.644 494.166,-477.969 494.166,-477.969\" stroke=\"black\" stroke-width=\"0.5\"/>\n",
       "<text font-family=\"Times New Roman,serif\" font-size=\"11.00\" text-anchor=\"middle\" x=\"500.962\" y=\"-485.34\">is-part-of</text>\n",
       "</g>\n",
       "<!-- Branch&#45;01&#45;&#45;Leaf&#45;01 -->\n",
       "<g class=\"edge\" id=\"edge38\"><title>Branch-01--Leaf-01</title>\n",
       "<path d=\"M448.438,-506.067C454.132,-511.32 461.008,-517.034 467.943,-522.328\" fill=\"none\" stroke=\"black\" stroke-width=\"0.5\"/>\n",
       "<polygon fill=\"black\" points=\"476.045,-528.298 465.325,-525.989 472.019,-525.332 467.994,-522.366 467.994,-522.366 467.994,-522.366 472.019,-525.332 470.664,-518.743 476.045,-528.298 476.045,-528.298\" stroke=\"black\" stroke-width=\"0.5\"/>\n",
       "<text font-family=\"Times New Roman,serif\" font-size=\"11.00\" text-anchor=\"middle\" x=\"443.631\" y=\"-520.981\">has-part</text>\n",
       "</g>\n",
       "<!-- Branch&#45;02&#45;&#45;Branch&#45;01 -->\n",
       "<g class=\"edge\" id=\"edge39\"><title>Branch-02--Branch-01</title>\n",
       "<path d=\"M436.022,-432.414C434.191,-440.589 432.727,-450.424 431.938,-459.529\" fill=\"none\" stroke=\"black\" stroke-width=\"0.5\"/>\n",
       "<polygon fill=\"black\" points=\"431.343,-469.738 427.433,-459.493 431.634,-464.747 431.925,-459.755 431.925,-459.755 431.925,-459.755 431.634,-464.747 436.418,-460.018 431.343,-469.738 431.343,-469.738\" stroke=\"black\" stroke-width=\"0.5\"/>\n",
       "<text font-family=\"Times New Roman,serif\" font-size=\"11.00\" text-anchor=\"middle\" x=\"412.366\" y=\"-442.052\">is-part-of</text>\n",
       "</g>\n",
       "<!-- Branch&#45;02&#45;&#45;Mary&#45;01 -->\n",
       "<g class=\"edge\" id=\"edge40\"><title>Branch-02--Mary-01</title>\n",
       "<path d=\"M461.519,-432.256C468.549,-437.486 476.955,-443.106 485.234,-448.16\" fill=\"none\" stroke=\"black\" stroke-width=\"0.5\"/>\n",
       "<polygon fill=\"black\" points=\"494.097,-453.376 483.196,-452.182 489.788,-450.84 485.479,-448.304 485.479,-448.304 485.479,-448.304 489.788,-450.84 487.761,-444.426 494.097,-453.376 494.097,-453.376\" stroke=\"black\" stroke-width=\"0.5\"/>\n",
       "<text font-family=\"Times New Roman,serif\" font-size=\"11.00\" text-anchor=\"middle\" x=\"497.981\" y=\"-434.485\">is-part-of</text>\n",
       "</g>\n",
       "<!-- Branch&#45;02&#45;&#45;Leaf&#45;01 -->\n",
       "<g class=\"edge\" id=\"edge41\"><title>Branch-02--Leaf-01</title>\n",
       "<path d=\"M453.407,-432.671C458.251,-442.695 464.306,-455.34 469.574,-466.681 476.817,-482.275 484.716,-499.806 491.03,-513.953\" fill=\"none\" stroke=\"black\" stroke-width=\"0.5\"/>\n",
       "<polygon fill=\"black\" points=\"495.121,-523.142 486.943,-515.837 493.088,-518.574 491.054,-514.006 491.054,-514.006 491.054,-514.006 493.088,-518.574 495.165,-512.176 495.121,-523.142 495.121,-523.142\" stroke=\"black\" stroke-width=\"0.5\"/>\n",
       "<text font-family=\"Times New Roman,serif\" font-size=\"11.00\" text-anchor=\"middle\" x=\"474.746\" y=\"-469.096\">has-part</text>\n",
       "</g>\n",
       "<!-- Mary&#45;01&#45;&#45;Branch&#45;01 -->\n",
       "<g class=\"edge\" id=\"edge42\"><title>Mary-01--Branch-01</title>\n",
       "<path d=\"M494.056,-464.844C488.453,-466.061 482.449,-467.565 476.492,-469.232\" fill=\"none\" stroke=\"black\" stroke-width=\"0.5\"/>\n",
       "<polygon fill=\"black\" points=\"466.589,-472.169 474.897,-465.011 471.383,-470.747 476.176,-469.326 476.176,-469.326 476.176,-469.326 471.383,-470.747 477.456,-473.64 466.589,-472.169 466.589,-472.169\" stroke=\"black\" stroke-width=\"0.5\"/>\n",
       "<text font-family=\"Times New Roman,serif\" font-size=\"11.00\" text-anchor=\"middle\" x=\"471.153\" y=\"-459.363\">has-part</text>\n",
       "</g>\n",
       "<!-- Mary&#45;01&#45;&#45;Branch&#45;02 -->\n",
       "<g class=\"edge\" id=\"edge43\"><title>Mary-01--Branch-02</title>\n",
       "<path d=\"M504.727,-445.517C498.777,-441.091 491.842,-436.385 484.832,-431.98\" fill=\"none\" stroke=\"black\" stroke-width=\"0.5\"/>\n",
       "<polygon fill=\"black\" points=\"475.981,-426.604 486.865,-427.95 480.255,-429.2 484.528,-431.796 484.528,-431.796 484.528,-431.796 480.255,-429.2 482.192,-435.642 475.981,-426.604 475.981,-426.604\" stroke=\"black\" stroke-width=\"0.5\"/>\n",
       "<text font-family=\"Times New Roman,serif\" font-size=\"11.00\" text-anchor=\"middle\" x=\"472.208\" y=\"-438.955\">has-part</text>\n",
       "</g>\n",
       "<!-- Mary&#45;01&#45;&#45;Leaf&#45;01 -->\n",
       "<g class=\"edge\" id=\"edge44\"><title>Mary-01--Leaf-01</title>\n",
       "<path d=\"M511.332,-481.812C508.192,-491.201 505.235,-502.844 503.276,-513.342\" fill=\"none\" stroke=\"black\" stroke-width=\"0.5\"/>\n",
       "<polygon fill=\"black\" points=\"501.679,-523.332 498.814,-512.748 502.468,-518.395 503.257,-513.458 503.257,-513.458 503.257,-513.458 502.468,-518.395 507.701,-514.168 501.679,-523.332 501.679,-523.332\" stroke=\"black\" stroke-width=\"0.5\"/>\n",
       "<text font-family=\"Times New Roman,serif\" font-size=\"11.00\" text-anchor=\"middle\" x=\"487.117\" y=\"-505.448\">has-part</text>\n",
       "</g>\n",
       "<!-- Leaf&#45;01&#45;&#45;Branch&#45;01 -->\n",
       "<g class=\"edge\" id=\"edge45\"><title>Leaf-01--Branch-01</title>\n",
       "<path d=\"M489.61,-523.196C485.134,-519.065 479.926,-514.65 474.533,-510.378\" fill=\"none\" stroke=\"black\" stroke-width=\"0.5\"/>\n",
       "<polygon fill=\"black\" points=\"466.563,-504.271 477.238,-506.782 470.532,-507.313 474.501,-510.354 474.501,-510.354 474.501,-510.354 470.532,-507.313 471.764,-513.926 466.563,-504.271 466.563,-504.271\" stroke=\"black\" stroke-width=\"0.5\"/>\n",
       "<text font-family=\"Times New Roman,serif\" font-size=\"11.00\" text-anchor=\"middle\" x=\"498.54\" y=\"-516.398\">is-part-of</text>\n",
       "</g>\n",
       "<!-- Leaf&#45;01&#45;&#45;Branch&#45;02 -->\n",
       "<g class=\"edge\" id=\"edge46\"><title>Leaf-01--Branch-02</title>\n",
       "<path d=\"M498.427,-523.126C493.902,-506.989 486.349,-482.985 476.758,-463.344 473.047,-455.743 468.351,-447.917 463.698,-440.809\" fill=\"none\" stroke=\"black\" stroke-width=\"0.5\"/>\n",
       "<polygon fill=\"black\" points=\"457.905,-432.262 467.24,-438.015 460.71,-436.401 463.515,-440.54 463.515,-440.54 463.515,-440.54 460.71,-436.401 459.79,-443.065 457.905,-432.262 457.905,-432.262\" stroke=\"black\" stroke-width=\"0.5\"/>\n",
       "<text font-family=\"Times New Roman,serif\" font-size=\"11.00\" text-anchor=\"middle\" x=\"461.842\" y=\"-478.95\">is-part-of</text>\n",
       "</g>\n",
       "<!-- Leaf&#45;01&#45;&#45;Mary&#45;01 -->\n",
       "<g class=\"edge\" id=\"edge47\"><title>Leaf-01--Mary-01</title>\n",
       "<path d=\"M513.67,-523.132C516.809,-513.743 519.766,-502.1 521.726,-491.602\" fill=\"none\" stroke=\"black\" stroke-width=\"0.5\"/>\n",
       "<polygon fill=\"black\" points=\"523.322,-481.612 526.188,-492.197 522.533,-486.549 521.744,-491.487 521.744,-491.487 521.744,-491.487 522.533,-486.549 517.3,-490.776 523.322,-481.612 523.322,-481.612\" stroke=\"black\" stroke-width=\"0.5\"/>\n",
       "<text font-family=\"Times New Roman,serif\" font-size=\"11.00\" text-anchor=\"middle\" x=\"539.884\" y=\"-505.896\">is-part-of</text>\n",
       "</g>\n",
       "<!-- Leaf&#45;01&#45;&#45;Sophie&#45;01 -->\n",
       "<g class=\"edge\" id=\"edge48\"><title>Leaf-01--Sophie-01</title>\n",
       "<path d=\"M515.483,-559.408C530.866,-576.388 557.6,-601.777 579.581,-620.639\" fill=\"none\" stroke=\"black\" stroke-width=\"0.5\"/>\n",
       "<polygon fill=\"black\" points=\"587.435,-627.265 576.89,-624.256 583.613,-624.041 579.792,-620.816 579.792,-620.816 579.792,-620.816 583.613,-624.041 582.694,-617.377 587.435,-627.265 587.435,-627.265\" stroke=\"black\" stroke-width=\"0.5\"/>\n",
       "<text font-family=\"Times New Roman,serif\" font-size=\"11.00\" text-anchor=\"middle\" x=\"525.933\" y=\"-597.604\">is-eaten-by</text>\n",
       "</g>\n",
       "<!-- Sophie&#45;01&#45;&#45;Leaf&#45;01 -->\n",
       "<g class=\"edge\" id=\"edge49\"><title>Sophie-01--Leaf-01</title>\n",
       "<path d=\"M603.084,-627.452C587.503,-610.255 560.28,-584.431 538.142,-565.5\" fill=\"none\" stroke=\"black\" stroke-width=\"0.5\"/>\n",
       "<polygon fill=\"black\" points=\"530.248,-558.866 540.799,-561.854 534.076,-562.082 537.904,-565.299 537.904,-565.299 537.904,-565.299 534.076,-562.082 535.009,-568.744 530.248,-558.866 530.248,-558.866\" stroke=\"black\" stroke-width=\"0.5\"/>\n",
       "<text font-family=\"Times New Roman,serif\" font-size=\"11.00\" text-anchor=\"middle\" x=\"558.119\" y=\"-583.174\">eats</text>\n",
       "</g>\n",
       "<!-- Sophie&#45;01&#45;&#45;Leo&#45;01 -->\n",
       "<g class=\"edge\" id=\"edge50\"><title>Sophie-01--Leo-01</title>\n",
       "<path d=\"M645.647,-644.099C671.64,-639.89 709.194,-631.523 736.949,-623.856\" fill=\"none\" stroke=\"black\" stroke-width=\"0.5\"/>\n",
       "<polygon fill=\"black\" points=\"746.691,-621.072 738.313,-628.146 741.884,-622.445 737.076,-623.819 737.076,-623.819 737.076,-623.819 741.884,-622.445 735.84,-619.493 746.691,-621.072 746.691,-621.072\" stroke=\"black\" stroke-width=\"0.5\"/>\n",
       "<text font-family=\"Times New Roman,serif\" font-size=\"11.00\" text-anchor=\"middle\" x=\"671.805\" y=\"-637.2\">is-eaten-by</text>\n",
       "</g>\n",
       "<!-- Leo&#45;01&#45;&#45;Sophie&#45;01 -->\n",
       "<g class=\"edge\" id=\"edge51\"><title>Leo-01--Sophie-01</title>\n",
       "<path d=\"M746.547,-610.353C721.381,-614.25 683.742,-622.524 655.228,-630.262\" fill=\"none\" stroke=\"black\" stroke-width=\"0.5\"/>\n",
       "<polygon fill=\"black\" points=\"645.559,-632.969 653.976,-625.94 650.374,-631.621 655.189,-630.273 655.189,-630.273 655.189,-630.273 650.374,-631.621 656.402,-634.607 645.559,-632.969 645.559,-632.969\" stroke=\"black\" stroke-width=\"0.5\"/>\n",
       "<text font-family=\"Times New Roman,serif\" font-size=\"11.00\" text-anchor=\"middle\" x=\"686.205\" y=\"-623.495\">eats</text>\n",
       "</g>\n",
       "</g>\n",
       "</svg>"
      ],
      "text/plain": [
       "<IPython.core.display.SVG object>"
      ]
     },
     "execution_count": 18,
     "metadata": {},
     "output_type": "execute_result"
    }
   ],
   "source": [
    "onto.draw_graph(layout=\"force directed\")"
   ]
  },
  {
   "cell_type": "code",
   "execution_count": 19,
   "metadata": {},
   "outputs": [
    {
     "data": {
      "application/vnd.jupyter.widget-view+json": {
       "model_id": "b4b43a2382ae41eabc778f52b97125c2",
       "version_major": 2,
       "version_minor": 0
      },
      "text/plain": [
       "VBox(children=(OntoeditWidget(layout=Layout(height='100%', width='90%'), value='eaten by Leo-01'), Output()), …"
      ]
     },
     "metadata": {},
     "output_type": "display_data"
    }
   ],
   "source": [
    "q1_edit = CnlQueryForConcept('query_01.encnl',onto=onto)\n",
    "q1_edit"
   ]
  },
  {
   "cell_type": "code",
   "execution_count": 20,
   "metadata": {},
   "outputs": [
    {
     "data": {
      "text/html": [
       "<div>\n",
       "<style scoped>\n",
       "    .dataframe tbody tr th:only-of-type {\n",
       "        vertical-align: middle;\n",
       "    }\n",
       "\n",
       "    .dataframe tbody tr th {\n",
       "        vertical-align: top;\n",
       "    }\n",
       "\n",
       "    .dataframe thead th {\n",
       "        text-align: right;\n",
       "    }\n",
       "</style>\n",
       "<table border=\"1\" class=\"dataframe\">\n",
       "  <thead>\n",
       "    <tr style=\"text-align: right;\">\n",
       "      <th></th>\n",
       "      <th>Instance</th>\n",
       "      <th>is-eaten-by</th>\n",
       "      <th>eats</th>\n",
       "    </tr>\n",
       "  </thead>\n",
       "  <tbody>\n",
       "    <tr>\n",
       "      <th>0</th>\n",
       "      <td>Sophie-01</td>\n",
       "      <td>Leo-01</td>\n",
       "      <td>Leaf-01</td>\n",
       "    </tr>\n",
       "  </tbody>\n",
       "</table>\n",
       "</div>"
      ],
      "text/plain": [
       "    Instance is-eaten-by     eats\n",
       "0  Sophie-01      Leo-01  Leaf-01"
      ]
     },
     "execution_count": 20,
     "metadata": {},
     "output_type": "execute_result"
    }
   ],
   "source": [
    "onto.select_instances_of(q1_edit.getvalue())"
   ]
  },
  {
   "cell_type": "code",
   "execution_count": 21,
   "metadata": {},
   "outputs": [
    {
     "name": "stdout",
     "output_type": "stream",
     "text": [
      "{\"concluded\":\"Leo-01 is an animal.\",\"by\":[\r\n",
      "    {\"expr\":\"Every lion is an animal.\"},\r\n",
      "    {\"expr\":\"Leo-01 is a lion.\"}]}\r\n",
      "\r\n",
      "\n"
     ]
    }
   ],
   "source": [
    "print(onto.why(\"Leo-01 is an animal?\"))"
   ]
  },
  {
   "cell_type": "code",
   "execution_count": 26,
   "metadata": {},
   "outputs": [
    {
     "data": {
      "text/html": [
       "<div>\n",
       "<style scoped>\n",
       "    .dataframe tbody tr th:only-of-type {\n",
       "        vertical-align: middle;\n",
       "    }\n",
       "\n",
       "    .dataframe tbody tr th {\n",
       "        vertical-align: top;\n",
       "    }\n",
       "\n",
       "    .dataframe thead th {\n",
       "        text-align: right;\n",
       "    }\n",
       "</style>\n",
       "<table border=\"1\" class=\"dataframe\">\n",
       "  <thead>\n",
       "    <tr style=\"text-align: right;\">\n",
       "      <th></th>\n",
       "      <th>a1</th>\n",
       "      <th>a2</th>\n",
       "    </tr>\n",
       "  </thead>\n",
       "  <tbody>\n",
       "    <tr>\n",
       "      <th>0</th>\n",
       "      <td>Leo-01</td>\n",
       "      <td>Sophie-01</td>\n",
       "    </tr>\n",
       "  </tbody>\n",
       "</table>\n",
       "</div>"
      ],
      "text/plain": [
       "       a1         a2\n",
       "0  Leo-01  Sophie-01"
      ]
     },
     "execution_count": 26,
     "metadata": {},
     "output_type": "execute_result"
    }
   ],
   "source": [
    "onto.sparql_query(CQL(\"\"\"select ?a1 ?a2 {\n",
    "                            ?a1 rdf:type <animal>. \n",
    "                            ?a2 rdf:type <animal>. \n",
    "                            ?a1 <eats> ?a2. \n",
    "                        }\"\"\",\"http://cognitum.eu/african_wildlife#\"))"
   ]
  },
  {
   "cell_type": "code",
   "execution_count": 27,
   "metadata": {},
   "outputs": [
    {
     "name": "stdout",
     "output_type": "stream",
     "text": [
      "<?xml version = '1.0' encoding = 'UTF-8'?>\r\n",
      "<rdf:RDF xmlns=\"http://cognitum.eu/african_wildlife#\" xml:base=\"http://cognitum.eu/african_wildlife\" xmlns:owl=\"http://www.w3.org/2002/07/owl#\" xmlns:rdfs=\"http://www.w3.org/2000/01/rdf-schema#\" xmlns:rdf=\"http://www.w3.org/1999/02/22-rdf-syntax-ns#\" xmlns:xsd=\"http://www.w3.org/2001/XMLSchema#\">\r\n",
      "  <owl:Ontology rdf:about=\"http://cognitum.eu/african_wildlife#\" />\r\n",
      "  <!-- \r\n",
      "    ///////////////////////////////////////////////////////////////////////////////////////\r\n",
      "    //\r\n",
      "    // Object Properties\r\n",
      "    //\r\n",
      "    ///////////////////////////////////////////////////////////////////////////////////////\r\n",
      "     -->\r\n",
      "  <!-- http://cognitum.eu/african_wildlife#eats -->\r\n",
      "  <owl:ObjectProperty rdf:about=\"http://cognitum.eu/african_wildlife#eats\">\r\n",
      "    <owl:equivalentProperty>\r\n",
      "      <rdf:Description>\r\n",
      "        <owl:inverseOf rdf:resource=\"http://cognitum.eu/african_wildlife#isEatenBy\" />\r\n",
      "      </rdf:Description>\r\n",
      "    </owl:equivalentProperty>\r\n",
      "  </owl:ObjectProperty>\r\n",
      "  <!-- http://cognitum.eu/african_wildlife#has -->\r\n",
      "  <owl:ObjectProperty rdf:about=\"http://cognitum.eu/african_wildlife#has\" />\r\n",
      "  <!-- http://cognitum.eu/african_wildlife#hasPart -->\r\n",
      "  <owl:ObjectProperty rdf:about=\"http://cognitum.eu/african_wildlife#hasPart\">\r\n",
      "    <rdf:type rdf:resource=\"http://www.w3.org/2002/07/owl#TransitiveProperty\" />\r\n",
      "    <owl:equivalentProperty>\r\n",
      "      <rdf:Description>\r\n",
      "        <owl:inverseOf rdf:resource=\"http://cognitum.eu/african_wildlife#isPartOf\" />\r\n",
      "      </rdf:Description>\r\n",
      "    </owl:equivalentProperty>\r\n",
      "  </owl:ObjectProperty>\r\n",
      "  <!-- http://cognitum.eu/african_wildlife#isEatenBy -->\r\n",
      "  <owl:ObjectProperty rdf:about=\"http://cognitum.eu/african_wildlife#isEatenBy\" />\r\n",
      "  <!-- http://cognitum.eu/african_wildlife#isPartOf -->\r\n",
      "  <owl:ObjectProperty rdf:about=\"http://cognitum.eu/african_wildlife#isPartOf\">\r\n",
      "    <rdf:type rdf:resource=\"http://www.w3.org/2002/07/owl#TransitiveProperty\" />\r\n",
      "    <rdfs:subPropertyOf rdf:resource=\"http://cognitum.eu/african_wildlife#isPartOf\" />\r\n",
      "  </owl:ObjectProperty>\r\n",
      "  <!-- \r\n",
      "    ///////////////////////////////////////////////////////////////////////////////////////\r\n",
      "    //\r\n",
      "    // Classes\r\n",
      "    //\r\n",
      "    ///////////////////////////////////////////////////////////////////////////////////////\r\n",
      "     -->\r\n",
      "  <!-- http://cognitum.eu/african_wildlife#animal -->\r\n",
      "  <owl:Class rdf:about=\"http://cognitum.eu/african_wildlife#animal\">\r\n",
      "    <rdfs:subClassOf>\r\n",
      "      <owl:Restriction>\r\n",
      "        <owl:onProperty rdf:resource=\"http://cognitum.eu/african_wildlife#has\" />\r\n",
      "        <owl:someValuesFrom rdf:resource=\"http://cognitum.eu/african_wildlife#face\" />\r\n",
      "      </owl:Restriction>\r\n",
      "    </rdfs:subClassOf>\r\n",
      "  </owl:Class>\r\n",
      "  <!-- http://cognitum.eu/african_wildlife#apple -->\r\n",
      "  <owl:Class rdf:about=\"http://cognitum.eu/african_wildlife#apple\">\r\n",
      "    <rdfs:subClassOf rdf:resource=\"http://cognitum.eu/african_wildlife#fruitingBody\" />\r\n",
      "  </owl:Class>\r\n",
      "  <!-- http://cognitum.eu/african_wildlife#berry -->\r\n",
      "  <owl:Class rdf:about=\"http://cognitum.eu/african_wildlife#berry\">\r\n",
      "    <rdfs:subClassOf rdf:resource=\"http://cognitum.eu/african_wildlife#fruitingBody\" />\r\n",
      "  </owl:Class>\r\n",
      "  <!-- http://cognitum.eu/african_wildlife#branch -->\r\n",
      "  <owl:Class rdf:about=\"http://cognitum.eu/african_wildlife#branch\">\r\n",
      "    <rdfs:subClassOf rdf:resource=\"http://cognitum.eu/african_wildlife#plantPart\" />\r\n",
      "    <rdfs:subClassOf>\r\n",
      "      <owl:Restriction>\r\n",
      "        <owl:onProperty rdf:resource=\"http://cognitum.eu/african_wildlife#isPartOf\" />\r\n",
      "        <owl:someValuesFrom rdf:resource=\"http://cognitum.eu/african_wildlife#tree\" />\r\n",
      "      </owl:Restriction>\r\n",
      "    </rdfs:subClassOf>\r\n",
      "  </owl:Class>\r\n",
      "  <!-- http://cognitum.eu/african_wildlife#carnivor -->\r\n",
      "  <owl:Class rdf:about=\"http://cognitum.eu/african_wildlife#carnivor\">\r\n",
      "    <rdfs:subClassOf>\r\n",
      "      <owl:Restriction>\r\n",
      "        <owl:onProperty rdf:resource=\"http://cognitum.eu/african_wildlife#eats\" />\r\n",
      "        <owl:someValuesFrom rdf:resource=\"http://cognitum.eu/african_wildlife#animal\" />\r\n",
      "      </owl:Restriction>\r\n",
      "    </rdfs:subClassOf>\r\n",
      "  </owl:Class>\r\n",
      "  <!-- http://cognitum.eu/african_wildlife#carnivore -->\r\n",
      "  <owl:Class rdf:about=\"http://cognitum.eu/african_wildlife#carnivore\">\r\n",
      "    <rdfs:subClassOf rdf:resource=\"http://cognitum.eu/african_wildlife#animal\" />\r\n",
      "    <rdfs:subClassOf>\r\n",
      "      <owl:Restriction>\r\n",
      "        <owl:onProperty rdf:resource=\"http://cognitum.eu/african_wildlife#eats\" />\r\n",
      "        <owl:allValuesFrom rdf:resource=\"http://cognitum.eu/african_wildlife#animal\" />\r\n",
      "      </owl:Restriction>\r\n",
      "    </rdfs:subClassOf>\r\n",
      "  </owl:Class>\r\n",
      "  <!-- http://cognitum.eu/african_wildlife#carnivorousPlant -->\r\n",
      "  <owl:Class rdf:about=\"http://cognitum.eu/african_wildlife#carnivorousPlant\">\r\n",
      "    <rdfs:subClassOf rdf:resource=\"http://cognitum.eu/african_wildlife#plant\" />\r\n",
      "    <rdfs:subClassOf>\r\n",
      "      <owl:Restriction>\r\n",
      "        <owl:onProperty rdf:resource=\"http://cognitum.eu/african_wildlife#eats\" />\r\n",
      "        <owl:someValuesFrom rdf:resource=\"http://cognitum.eu/african_wildlife#animal\" />\r\n",
      "      </owl:Restriction>\r\n",
      "    </rdfs:subClassOf>\r\n",
      "  </owl:Class>\r\n",
      "  <!-- http://cognitum.eu/african_wildlife#elephant -->\r\n",
      "  <owl:Class rdf:about=\"http://cognitum.eu/african_wildlife#elephant\">\r\n",
      "    <rdfs:subClassOf rdf:resource=\"http://cognitum.eu/african_wildlife#herbivore\" />\r\n",
      "  </owl:Class>\r\n",
      "  <!-- http://cognitum.eu/african_wildlife#face -->\r\n",
      "  <owl:Class rdf:about=\"http://cognitum.eu/african_wildlife#face\" />\r\n",
      "  <!-- http://cognitum.eu/african_wildlife#fruitingBody -->\r\n",
      "  <owl:Class rdf:about=\"http://cognitum.eu/african_wildlife#fruitingBody\">\r\n",
      "    <rdfs:subClassOf rdf:resource=\"http://cognitum.eu/african_wildlife#plantPart\" />\r\n",
      "  </owl:Class>\r\n",
      "  <!-- http://cognitum.eu/african_wildlife#giraffe -->\r\n",
      "  <owl:Class rdf:about=\"http://cognitum.eu/african_wildlife#giraffe\">\r\n",
      "    <rdfs:subClassOf rdf:resource=\"http://cognitum.eu/african_wildlife#animal\" />\r\n",
      "    <rdfs:subClassOf>\r\n",
      "      <owl:Class>\r\n",
      "        <owl:complementOf rdf:resource=\"http://cognitum.eu/african_wildlife#lion\" />\r\n",
      "      </owl:Class>\r\n",
      "    </rdfs:subClassOf>\r\n",
      "  </owl:Class>\r\n",
      "  <!-- http://cognitum.eu/african_wildlife#grass -->\r\n",
      "  <owl:Class rdf:about=\"http://cognitum.eu/african_wildlife#grass\">\r\n",
      "    <rdfs:subClassOf rdf:resource=\"http://cognitum.eu/african_wildlife#plant\" />\r\n",
      "  </owl:Class>\r\n",
      "  <!-- http://cognitum.eu/african_wildlife#herb -->\r\n",
      "  <owl:Class rdf:about=\"http://cognitum.eu/african_wildlife#herb\">\r\n",
      "    <rdfs:subClassOf>\r\n",
      "      <owl:Class>\r\n",
      "        <owl:complementOf rdf:resource=\"http://cognitum.eu/african_wildlife#animal\" />\r\n",
      "      </owl:Class>\r\n",
      "    </rdfs:subClassOf>\r\n",
      "  </owl:Class>\r\n",
      "  <!-- http://cognitum.eu/african_wildlife#herbivore -->\r\n",
      "  <owl:Class rdf:about=\"http://cognitum.eu/african_wildlife#herbivore\">\r\n",
      "    <rdfs:subClassOf rdf:resource=\"http://cognitum.eu/african_wildlife#animal\" />\r\n",
      "    <rdfs:subClassOf>\r\n",
      "      <owl:Restriction>\r\n",
      "        <owl:onProperty rdf:resource=\"http://cognitum.eu/african_wildlife#eats\" />\r\n",
      "        <owl:allValuesFrom rdf:resource=\"http://cognitum.eu/african_wildlife#herb\" />\r\n",
      "      </owl:Restriction>\r\n",
      "    </rdfs:subClassOf>\r\n",
      "  </owl:Class>\r\n",
      "  <!-- http://cognitum.eu/african_wildlife#impala -->\r\n",
      "  <owl:Class rdf:about=\"http://cognitum.eu/african_wildlife#impala\">\r\n",
      "    <rdfs:subClassOf rdf:resource=\"http://cognitum.eu/african_wildlife#animal\" />\r\n",
      "  </owl:Class>\r\n",
      "  <!-- http://cognitum.eu/african_wildlife#leaf -->\r\n",
      "  <owl:Class rdf:about=\"http://cognitum.eu/african_wildlife#leaf\">\r\n",
      "    <rdfs:subClassOf rdf:resource=\"http://cognitum.eu/african_wildlife#plantPart\" />\r\n",
      "  </owl:Class>\r\n",
      "  <!-- http://cognitum.eu/african_wildlife#lion -->\r\n",
      "  <owl:Class rdf:about=\"http://cognitum.eu/african_wildlife#lion\">\r\n",
      "    <rdfs:subClassOf rdf:resource=\"http://cognitum.eu/african_wildlife#animal\" />\r\n",
      "    <rdfs:subClassOf rdf:resource=\"http://cognitum.eu/african_wildlife#carnivore\" />\r\n",
      "    <rdfs:subClassOf>\r\n",
      "      <owl:Restriction>\r\n",
      "        <owl:onProperty rdf:resource=\"http://cognitum.eu/african_wildlife#eats\" />\r\n",
      "        <owl:allValuesFrom rdf:resource=\"http://cognitum.eu/african_wildlife#herbivore\" />\r\n",
      "      </owl:Restriction>\r\n",
      "    </rdfs:subClassOf>\r\n",
      "  </owl:Class>\r\n",
      "  <!-- http://cognitum.eu/african_wildlife#man -->\r\n",
      "  <owl:Class rdf:about=\"http://cognitum.eu/african_wildlife#man\">\r\n",
      "    <rdfs:subClassOf>\r\n",
      "      <owl:Restriction>\r\n",
      "        <owl:onProperty rdf:resource=\"http://cognitum.eu/african_wildlife#has\" />\r\n",
      "        <owl:someValuesFrom rdf:resource=\"http://cognitum.eu/african_wildlife#train\" />\r\n",
      "      </owl:Restriction>\r\n",
      "    </rdfs:subClassOf>\r\n",
      "  </owl:Class>\r\n",
      "  <!-- http://cognitum.eu/african_wildlife#omnivore -->\r\n",
      "  <owl:Class rdf:about=\"http://cognitum.eu/african_wildlife#omnivore\">\r\n",
      "    <rdfs:subClassOf rdf:resource=\"http://cognitum.eu/african_wildlife#animal\" />\r\n",
      "    <rdfs:subClassOf>\r\n",
      "      <owl:Restriction>\r\n",
      "        <owl:onProperty rdf:resource=\"http://cognitum.eu/african_wildlife#eats\" />\r\n",
      "        <owl:someValuesFrom rdf:resource=\"http://cognitum.eu/african_wildlife#plant\" />\r\n",
      "      </owl:Restriction>\r\n",
      "    </rdfs:subClassOf>\r\n",
      "  </owl:Class>\r\n",
      "  <!-- http://cognitum.eu/african_wildlife#palmTree -->\r\n",
      "  <owl:Class rdf:about=\"http://cognitum.eu/african_wildlife#palmTree\">\r\n",
      "    <rdfs:subClassOf rdf:resource=\"http://cognitum.eu/african_wildlife#plant\" />\r\n",
      "    <rdfs:subClassOf>\r\n",
      "      <owl:Class>\r\n",
      "        <owl:complementOf rdf:resource=\"http://cognitum.eu/african_wildlife#tree\" />\r\n",
      "      </owl:Class>\r\n",
      "    </rdfs:subClassOf>\r\n",
      "  </owl:Class>\r\n",
      "  <!-- http://cognitum.eu/african_wildlife#parsnip -->\r\n",
      "  <owl:Class rdf:about=\"http://cognitum.eu/african_wildlife#parsnip\">\r\n",
      "    <rdfs:subClassOf rdf:resource=\"http://cognitum.eu/african_wildlife#root\" />\r\n",
      "  </owl:Class>\r\n",
      "  <!-- http://cognitum.eu/african_wildlife#phloem -->\r\n",
      "  <owl:Class rdf:about=\"http://cognitum.eu/african_wildlife#phloem\">\r\n",
      "    <rdfs:subClassOf rdf:resource=\"http://cognitum.eu/african_wildlife#plantPart\" />\r\n",
      "  </owl:Class>\r\n",
      "  <!-- http://cognitum.eu/african_wildlife#plant -->\r\n",
      "  <owl:Class rdf:about=\"http://cognitum.eu/african_wildlife#plant\" />\r\n",
      "  <!-- http://cognitum.eu/african_wildlife#plantPart -->\r\n",
      "  <owl:Class rdf:about=\"http://cognitum.eu/african_wildlife#plantPart\">\r\n",
      "    <rdfs:subClassOf>\r\n",
      "      <owl:Restriction>\r\n",
      "        <owl:onProperty rdf:resource=\"http://cognitum.eu/african_wildlife#isPartOf\" />\r\n",
      "        <owl:someValuesFrom rdf:resource=\"http://cognitum.eu/african_wildlife#plant\" />\r\n",
      "      </owl:Restriction>\r\n",
      "    </rdfs:subClassOf>\r\n",
      "  </owl:Class>\r\n",
      "  <!-- http://cognitum.eu/african_wildlife#rockDassie -->\r\n",
      "  <owl:Class rdf:about=\"http://cognitum.eu/african_wildlife#rockDassie\">\r\n",
      "    <rdfs:subClassOf rdf:resource=\"http://cognitum.eu/african_wildlife#animal\" />\r\n",
      "  </owl:Class>\r\n",
      "  <!-- http://cognitum.eu/african_wildlife#root -->\r\n",
      "  <owl:Class rdf:about=\"http://cognitum.eu/african_wildlife#root\">\r\n",
      "    <rdfs:subClassOf rdf:resource=\"http://cognitum.eu/african_wildlife#plantPart\" />\r\n",
      "  </owl:Class>\r\n",
      "  <!-- http://cognitum.eu/african_wildlife#stem -->\r\n",
      "  <owl:Class rdf:about=\"http://cognitum.eu/african_wildlife#stem\">\r\n",
      "    <rdfs:subClassOf rdf:resource=\"http://cognitum.eu/african_wildlife#plantPart\" />\r\n",
      "  </owl:Class>\r\n",
      "  <!-- http://cognitum.eu/african_wildlife#tastyPlant -->\r\n",
      "  <owl:Class rdf:about=\"http://cognitum.eu/african_wildlife#tastyPlant\">\r\n",
      "    <rdfs:subClassOf rdf:resource=\"http://cognitum.eu/african_wildlife#plant\" />\r\n",
      "  </owl:Class>\r\n",
      "  <!-- http://cognitum.eu/african_wildlife#train -->\r\n",
      "  <owl:Class rdf:about=\"http://cognitum.eu/african_wildlife#train\" />\r\n",
      "  <!-- http://cognitum.eu/african_wildlife#tree -->\r\n",
      "  <owl:Class rdf:about=\"http://cognitum.eu/african_wildlife#tree\">\r\n",
      "    <rdfs:subClassOf rdf:resource=\"http://cognitum.eu/african_wildlife#plant\" />\r\n",
      "  </owl:Class>\r\n",
      "  <!-- http://cognitum.eu/african_wildlife#twig -->\r\n",
      "  <owl:Class rdf:about=\"http://cognitum.eu/african_wildlife#twig\">\r\n",
      "    <rdfs:subClassOf rdf:resource=\"http://cognitum.eu/african_wildlife#plantPart\" />\r\n",
      "  </owl:Class>\r\n",
      "  <!-- http://cognitum.eu/african_wildlife#warthog -->\r\n",
      "  <owl:Class rdf:about=\"http://cognitum.eu/african_wildlife#warthog\">\r\n",
      "    <rdfs:subClassOf rdf:resource=\"http://cognitum.eu/african_wildlife#animal\" />\r\n",
      "  </owl:Class>\r\n",
      "  <!-- http://cognitum.eu/african_wildlife#xylem -->\r\n",
      "  <owl:Class rdf:about=\"http://cognitum.eu/african_wildlife#xylem\">\r\n",
      "    <rdfs:subClassOf rdf:resource=\"http://cognitum.eu/african_wildlife#plantPart\" />\r\n",
      "  </owl:Class>\r\n",
      "  <!-- \r\n",
      "    ///////////////////////////////////////////////////////////////////////////////////////\r\n",
      "    //\r\n",
      "    // Individuals\r\n",
      "    //\r\n",
      "    ///////////////////////////////////////////////////////////////////////////////////////\r\n",
      "     -->\r\n",
      "  <!-- http://cognitum.eu/african_wildlife#Branch01 -->\r\n",
      "  <owl:NamedIndividual rdf:about=\"http://cognitum.eu/african_wildlife#Branch01\">\r\n",
      "    <rdf:type rdf:resource=\"http://cognitum.eu/african_wildlife#branch\" />\r\n",
      "    <isPartOf rdf:resource=\"http://cognitum.eu/african_wildlife#Mary01\" />\r\n",
      "  </owl:NamedIndividual>\r\n",
      "  <!-- http://cognitum.eu/african_wildlife#Branch02 -->\r\n",
      "  <owl:NamedIndividual rdf:about=\"http://cognitum.eu/african_wildlife#Branch02\">\r\n",
      "    <rdf:type rdf:resource=\"http://cognitum.eu/african_wildlife#branch\" />\r\n",
      "    <isPartOf rdf:resource=\"http://cognitum.eu/african_wildlife#Branch01\" />\r\n",
      "  </owl:NamedIndividual>\r\n",
      "  <!-- http://cognitum.eu/african_wildlife#Branch03 -->\r\n",
      "  <owl:NamedIndividual rdf:about=\"http://cognitum.eu/african_wildlife#Branch03\">\r\n",
      "    <rdf:type rdf:resource=\"http://cognitum.eu/african_wildlife#branch\" />\r\n",
      "  </owl:NamedIndividual>\r\n",
      "  <!-- http://cognitum.eu/african_wildlife#Leaf01 -->\r\n",
      "  <owl:NamedIndividual rdf:about=\"http://cognitum.eu/african_wildlife#Leaf01\">\r\n",
      "    <rdf:type rdf:resource=\"http://cognitum.eu/african_wildlife#leaf\" />\r\n",
      "    <isPartOf rdf:resource=\"http://cognitum.eu/african_wildlife#Branch02\" />\r\n",
      "  </owl:NamedIndividual>\r\n",
      "  <!-- http://cognitum.eu/african_wildlife#Leo01 -->\r\n",
      "  <owl:NamedIndividual rdf:about=\"http://cognitum.eu/african_wildlife#Leo01\">\r\n",
      "    <rdf:type rdf:resource=\"http://cognitum.eu/african_wildlife#lion\" />\r\n",
      "    <eats rdf:resource=\"http://cognitum.eu/african_wildlife#Sophie01\" />\r\n",
      "  </owl:NamedIndividual>\r\n",
      "  <!-- http://cognitum.eu/african_wildlife#Mary01 -->\r\n",
      "  <owl:NamedIndividual rdf:about=\"http://cognitum.eu/african_wildlife#Mary01\">\r\n",
      "    <rdf:type rdf:resource=\"http://cognitum.eu/african_wildlife#tree\" />\r\n",
      "  </owl:NamedIndividual>\r\n",
      "  <!-- http://cognitum.eu/african_wildlife#Sophie01 -->\r\n",
      "  <owl:NamedIndividual rdf:about=\"http://cognitum.eu/african_wildlife#Sophie01\">\r\n",
      "    <rdf:type rdf:resource=\"http://cognitum.eu/african_wildlife#giraffe\" />\r\n",
      "    <eats rdf:resource=\"http://cognitum.eu/african_wildlife#Leaf01\" />\r\n",
      "  </owl:NamedIndividual>\r\n",
      "  <!-- \r\n",
      "    ///////////////////////////////////////////////////////////////////////////////////////\r\n",
      "    //\r\n",
      "    // General axioms\r\n",
      "    //\r\n",
      "    ///////////////////////////////////////////////////////////////////////////////////////\r\n",
      "     -->\r\n",
      "  <owl:Class>\r\n",
      "    <rdfs:subClassOf rdf:resource=\"http://cognitum.eu/african_wildlife#herb\" />\r\n",
      "    <owl:unionOf rdf:parseType=\"Collection\">\r\n",
      "      <rdf:Description rdf:about=\"http://cognitum.eu/african_wildlife#plant\" />\r\n",
      "      <rdf:Description rdf:about=\"http://cognitum.eu/african_wildlife#plantPart\" />\r\n",
      "    </owl:unionOf>\r\n",
      "  </owl:Class>\r\n",
      "  <rdf:Description>\r\n",
      "    <rdf:type rdf:resource=\"http://www.w3.org/2002/07/owl#AllDisjointClasses\" />\r\n",
      "    <owl:members rdf:parseType=\"Collection\">\r\n",
      "      <rdf:Description rdf:about=\"http://cognitum.eu/african_wildlife#carnivore\" />\r\n",
      "      <rdf:Description rdf:about=\"http://cognitum.eu/african_wildlife#herbivore\" />\r\n",
      "      <rdf:Description rdf:about=\"http://cognitum.eu/african_wildlife#omnivore\" />\r\n",
      "    </owl:members>\r\n",
      "  </rdf:Description>\r\n",
      "  <rdf:Description>\r\n",
      "    <rdf:type rdf:resource=\"http://www.w3.org/2002/07/owl#AllDisjointClasses\" />\r\n",
      "    <owl:members rdf:parseType=\"Collection\">\r\n",
      "      <rdf:Description rdf:about=\"http://cognitum.eu/african_wildlife#branch\" />\r\n",
      "      <rdf:Description rdf:about=\"http://cognitum.eu/african_wildlife#leaf\" />\r\n",
      "      <rdf:Description rdf:about=\"http://cognitum.eu/african_wildlife#twig\" />\r\n",
      "    </owl:members>\r\n",
      "  </rdf:Description>\r\n",
      "</rdf:RDF>\r\n",
      "<!-- Generated by the OWL API (version 3.5.1.c) http://owlapi.sourceforge.net -->\n"
     ]
    }
   ],
   "source": [
    "print(onto.as_rdf())"
   ]
  },
  {
   "cell_type": "code",
   "execution_count": null,
   "metadata": {},
   "outputs": [],
   "source": []
  }
 ],
 "metadata": {
  "kernelspec": {
   "display_name": "Python 3",
   "language": "python",
   "name": "python3"
  },
  "language_info": {
   "codemirror_mode": {
    "name": "ipython",
    "version": 3
   },
   "file_extension": ".py",
   "mimetype": "text/x-python",
   "name": "python",
   "nbconvert_exporter": "python",
   "pygments_lexer": "ipython3",
   "version": "3.7.4"
  },
  "widgets": {
   "application/vnd.jupyter.widget-state+json": {
    "state": {
     "01732923acd64d0b80804b86a06086a6": {
      "model_module": "@jupyter-widgets/controls",
      "model_module_version": "1.4.0",
      "model_name": "VBoxModel",
      "state": {
       "children": [
        "IPY_MODEL_5143fe6b6b2e4bdbb95db4836c07f69f",
        "IPY_MODEL_c7c7716cd5034ec7a3235e29964fa9d9"
       ],
       "layout": "IPY_MODEL_48a844c1f16d4e0f89888a38f9f871b1"
      }
     },
     "0287b64412d1476fac61df9b498195e0": {
      "model_module": "@jupyter-widgets/base",
      "model_module_version": "1.1.0",
      "model_name": "LayoutModel",
      "state": {}
     },
     "037f1754f4dd4ad58c88763c16de89de": {
      "model_module": "@jupyter-widgets/base",
      "model_module_version": "1.1.0",
      "model_name": "LayoutModel",
      "state": {
       "height": "100%",
       "width": "90%"
      }
     },
     "03b3c5826e9e462fa8102da3a1b543ee": {
      "model_module": "@jupyter-widgets/controls",
      "model_module_version": "1.4.0",
      "model_name": "VBoxModel",
      "state": {
       "children": [
        "IPY_MODEL_0e81ba53de50448cba0d67cc1b204ea3",
        "IPY_MODEL_edfd7c1406474ef8b6008fa01533a9f1"
       ],
       "layout": "IPY_MODEL_0c03d2ee143c402dbf620710558f3c20"
      }
     },
     "0529b65148e34a3f84378822394dbb23": {
      "model_module": "@jupyter-widgets/output",
      "model_module_version": "1.0.0",
      "model_name": "OutputModel",
      "state": {
       "layout": "IPY_MODEL_e87806312d1343ce83bb2bb743ba1b80"
      }
     },
     "075ca95d3ff64fdf8542061a5f907fdc": {
      "model_module": "ontoedit",
      "model_module_version": "1.1.0",
      "model_name": "OntoeditModel",
      "state": {
       "_model_module_version": "1.1.0",
       "_view_module_version": "",
       "layout": "IPY_MODEL_ac2b910f6f714657b031543b3c3820f6",
       "value": "Namespace: 'http://cognitum.eu/african_wildlife'.\n\nComment: 'Lets name our instances'.\nComment: 'Lets specify the hierarchy of beings'. \nComment: 'What is what?'.\nEvery ma\nEvery lion is an animal.\nEvery giraffe is an animal.\n\nComment: 'Moreover'.\nEvery impala is an animal.\nEvery omnivore is an animal. \nEvery rock-dassie is an animal.\nEvery warthog is an animal.\nEvery carnivore is an animal.\nEvery herbivore is an animal.\nEvery elephant is a herbivore.\nEvery lion is carnivore.\n\nComment: 'There are also plants there:'.\nEvery tree is a plant.\nEvery grass is a plant.\nEvery palm-tree is a plant.\n\nEvery branch is a plant-part.\nEvery leaf is a plant-part.\nEvery twig is a plant-part.\n\nEvery phloem is a plant-part.\nEvery root is a plant-part.\nEvery parsnip is a root.\nEvery stem is a plant-part.\nEvery xylem is a plant-part.\nEvery fruiting-body is a plant-part.\nEvery berry is a fruiting-body.\nEvery apple is a fruiting-body.\n\nComment: 'We cannot use adjectives directly. To specify adjectives we need to transform them into sets that have form of buzzy-words'.\nEvery tasty-plant is a plant.\nEvery carnivorous-plant is a plant.\n"
      }
     },
     "08826d1d1e2d4efa9364b5d2bafa3c93": {
      "model_module": "@jupyter-widgets/base",
      "model_module_version": "1.1.0",
      "model_name": "LayoutModel",
      "state": {
       "height": "300px"
      }
     },
     "08a658b923de47b7add2517b8353da1a": {
      "model_module": "@jupyter-widgets/base",
      "model_module_version": "1.1.0",
      "model_name": "LayoutModel",
      "state": {}
     },
     "08c30bf83c284e6ebe21cc3249cd99ba": {
      "model_module": "ontoedit",
      "model_module_version": "1.1.0",
      "model_name": "OntoeditModel",
      "state": {
       "_model_module_version": "1.1.0",
       "_view_module_version": "",
       "cursor": 191,
       "hints": "Every<br/>Every-single-thing<br/>If<br/>Leo-01<br/>Mary-01<br/>No<br/>Nothing<br/>Something<br/>Sophie-01<br/>The<br/>X",
       "hintsX": 191,
       "layout": "IPY_MODEL_951c1fa30fea488a8ae1578cede4b5fe",
       "value": "Every carnivorous-plant must eat an animal.\nEvery carnivor must eat an animal.\nEvery omnivore must eat a plant.\nEvery branch must be-part-of a tree.\nEvery plant-part must be-part-of a plant.\n\nComment: 'Role equivalence and inverted roles'.\nX has-part Y if-and-only-if Y is-part-of X.\nX eats Y if-and-only-if Y is-eaten-by X.\n\nComment: 'Role subsumptions'.\nIf X is-part-of Y then X is-part-of Y.\nIf X has-part something that has-part Y then X has-part Y.\n\nComment: 'Complex role subsumptions'.\nIf X is-part-of something that is-part-of Y then X is-part-of Y.\n"
      }
     },
     "0c03d2ee143c402dbf620710558f3c20": {
      "model_module": "@jupyter-widgets/base",
      "model_module_version": "1.1.0",
      "model_name": "LayoutModel",
      "state": {
       "height": "100px"
      }
     },
     "0cfbf011af6241ebbcc675d701aac5be": {
      "model_module": "@jupyter-widgets/controls",
      "model_module_version": "1.4.0",
      "model_name": "VBoxModel",
      "state": {
       "children": [
        "IPY_MODEL_99075eefb8ad4a5087de5fbfbb2e2a8c",
        "IPY_MODEL_26cf7a97df4f42b6af33ce787196e2da"
       ],
       "layout": "IPY_MODEL_4aafc9319e7743f8985cdc669f22cab5"
      }
     },
     "0e81ba53de50448cba0d67cc1b204ea3": {
      "model_module": "ontoedit",
      "model_module_version": "1.1.0",
      "model_name": "OntoeditModel",
      "state": {
       "_model_module_version": "1.1.0",
       "_view_module_version": "",
       "layout": "IPY_MODEL_a270637c9421471a86a1a5fb0c90358f",
       "value": "eaten by Leo-01"
      }
     },
     "0ee45e2151a74dfeb632f8622dfa620d": {
      "model_module": "@jupyter-widgets/base",
      "model_module_version": "1.1.0",
      "model_name": "LayoutModel",
      "state": {
       "height": "100%",
       "width": "90%"
      }
     },
     "0ee4e8ad62ab43f4b5b438a66a7f42b5": {
      "model_module": "@jupyter-widgets/base",
      "model_module_version": "1.1.0",
      "model_name": "LayoutModel",
      "state": {
       "height": "300px"
      }
     },
     "156d68322d1e4dd3a0fbfab1be1688bf": {
      "model_module": "@jupyter-widgets/output",
      "model_module_version": "1.0.0",
      "model_name": "OutputModel",
      "state": {
       "layout": "IPY_MODEL_585c9fe15e494126a1116a5e5f8e87e4"
      }
     },
     "1786ad24fa9d463aa9ad86dcacd6b971": {
      "model_module": "@jupyter-widgets/base",
      "model_module_version": "1.1.0",
      "model_name": "LayoutModel",
      "state": {}
     },
     "17f3ad9162db4104a65795f20d5f0075": {
      "model_module": "@jupyter-widgets/base",
      "model_module_version": "1.1.0",
      "model_name": "LayoutModel",
      "state": {
       "height": "100%",
       "width": "90%"
      }
     },
     "194e683e49954beab66c82f87eec0560": {
      "model_module": "ontoedit",
      "model_module_version": "1.1.0",
      "model_name": "OntoeditModel",
      "state": {
       "_model_module_version": "1.1.0",
       "_view_module_version": "",
       "cursor": 15,
       "hints": "&lt;natural number&gt;",
       "hintsX": 9,
       "layout": "IPY_MODEL_54500e1db47043b29c2725eaf17f81f6",
       "value": "eaten by Leo-01"
      }
     },
     "197ff87aa0754c10a5bf9d6054ec2664": {
      "model_module": "@jupyter-widgets/controls",
      "model_module_version": "1.4.0",
      "model_name": "VBoxModel",
      "state": {
       "children": [
        "IPY_MODEL_416b7202da814b9095cb90fed53606c3",
        "IPY_MODEL_dd75b77ca52a43a9868c62b289a4e4e1"
       ],
       "layout": "IPY_MODEL_c7fe458b7f814978a92e90b0b53c295c"
      }
     },
     "1a817713ce83451c8259b7b8600da6fb": {
      "model_module": "@jupyter-widgets/base",
      "model_module_version": "1.1.0",
      "model_name": "LayoutModel",
      "state": {
       "height": "100%",
       "width": "90%"
      }
     },
     "1d27dea574734e228e02e981579f0e48": {
      "model_module": "ontoedit",
      "model_module_version": "1.1.0",
      "model_name": "OntoeditModel",
      "state": {
       "_model_module_version": "1.1.0",
       "_view_module_version": "",
       "layout": "IPY_MODEL_037f1754f4dd4ad58c88763c16de89de",
       "value": "Sophie loves Leo.\nLeo loves Sophie."
      }
     },
     "22275249b4964692bbda1b6c7faf7f47": {
      "model_module": "@jupyter-widgets/controls",
      "model_module_version": "1.4.0",
      "model_name": "VBoxModel",
      "state": {
       "children": [
        "IPY_MODEL_670789803c044d699064f4d8d85c169a",
        "IPY_MODEL_b3aca64dc8c740feae0ac17d0679814c"
       ],
       "layout": "IPY_MODEL_9b0f9a23e3574472b084a63a42c18088"
      }
     },
     "2401f4a10a284f68920b1eb13a0ef3f1": {
      "model_module": "@jupyter-widgets/output",
      "model_module_version": "1.0.0",
      "model_name": "OutputModel",
      "state": {
       "layout": "IPY_MODEL_d810833472c54ff1a38f821261445bdb"
      }
     },
     "260916fd573c4e118c8d6fdeed6c1d4d": {
      "model_module": "@jupyter-widgets/base",
      "model_module_version": "1.1.0",
      "model_name": "LayoutModel",
      "state": {
       "height": "300px"
      }
     },
     "26cf7a97df4f42b6af33ce787196e2da": {
      "model_module": "@jupyter-widgets/output",
      "model_module_version": "1.0.0",
      "model_name": "OutputModel",
      "state": {
       "layout": "IPY_MODEL_c370339aafb24857915cb2b2d2ab7980"
      }
     },
     "27ad5c8d383e457a9920d5cb29f64853": {
      "model_module": "@jupyter-widgets/output",
      "model_module_version": "1.0.0",
      "model_name": "OutputModel",
      "state": {
       "layout": "IPY_MODEL_df59fa382ea5464699bf03b221ac05e1"
      }
     },
     "27cf37417f84476da68ac933a85143a5": {
      "model_module": "ontoedit",
      "model_module_version": "1.1.0",
      "model_name": "OntoeditModel",
      "state": {
       "_model_module_version": "1.1.0",
       "_view_module_version": "",
       "layout": "IPY_MODEL_6834615b88754ba992949979ad4896da",
       "value": "eaten by Leo-01"
      }
     },
     "282ed86a1e9f475ab92778daa6256ae2": {
      "model_module": "@jupyter-widgets/base",
      "model_module_version": "1.1.0",
      "model_name": "LayoutModel",
      "state": {
       "height": "300px"
      }
     },
     "2a02773588a34d31a60ab56ea873ef24": {
      "model_module": "@jupyter-widgets/base",
      "model_module_version": "1.1.0",
      "model_name": "LayoutModel",
      "state": {
       "height": "100%",
       "width": "90%"
      }
     },
     "2a57077dcfc6408f910fcdd1069fb533": {
      "model_module": "@jupyter-widgets/base",
      "model_module_version": "1.1.0",
      "model_name": "LayoutModel",
      "state": {
       "height": "100px"
      }
     },
     "2b1178c8982c4d7f8bd00f05c2a0ab9f": {
      "model_module": "@jupyter-widgets/base",
      "model_module_version": "1.1.0",
      "model_name": "LayoutModel",
      "state": {
       "height": "100%",
       "width": "90%"
      }
     },
     "2ee595c943434b3288bd80d13a391707": {
      "model_module": "@jupyter-widgets/output",
      "model_module_version": "1.0.0",
      "model_name": "OutputModel",
      "state": {
       "layout": "IPY_MODEL_6b665fd9cf6b45d0ade1db84533996f4"
      }
     },
     "30b370db0cbd4590a28eeacadd095188": {
      "model_module": "@jupyter-widgets/controls",
      "model_module_version": "1.4.0",
      "model_name": "VBoxModel",
      "state": {
       "children": [
        "IPY_MODEL_540624d791b04c72a5f6de35ef203a09",
        "IPY_MODEL_5b7a7dc340b8488b8d7616e1a0e4e954"
       ],
       "layout": "IPY_MODEL_6b3a1654ff064f0aaf274b3478288a8f"
      }
     },
     "31401dde148b42c6b6dee0ee84db65b2": {
      "model_module": "@jupyter-widgets/base",
      "model_module_version": "1.1.0",
      "model_name": "LayoutModel",
      "state": {
       "height": "100%",
       "width": "90%"
      }
     },
     "31f03381b8af43c8b7b31448e2494891": {
      "model_module": "@jupyter-widgets/controls",
      "model_module_version": "1.4.0",
      "model_name": "VBoxModel",
      "state": {
       "children": [
        "IPY_MODEL_830d5ee0e72742cbb9c50e698f8db857",
        "IPY_MODEL_87dbf123720c4818bdda118bfdbb7cda"
       ],
       "layout": "IPY_MODEL_798ac8c8baa148b68188dc60d84de5fe"
      }
     },
     "34a127ddc9f3425d855562e734e8582e": {
      "model_module": "@jupyter-widgets/base",
      "model_module_version": "1.1.0",
      "model_name": "LayoutModel",
      "state": {
       "height": "100%",
       "width": "90%"
      }
     },
     "355b5ed96daf48f38e261d20f99eb26b": {
      "model_module": "@jupyter-widgets/controls",
      "model_module_version": "1.4.0",
      "model_name": "VBoxModel",
      "state": {
       "children": [
        "IPY_MODEL_8b7f1503cd5d4af7bedb96db2bc9826b",
        "IPY_MODEL_3d934eb24f9b4005b831504a0e4baa3e"
       ],
       "layout": "IPY_MODEL_0ee4e8ad62ab43f4b5b438a66a7f42b5"
      }
     },
     "379b403b772848b184590efb077753db": {
      "model_module": "@jupyter-widgets/base",
      "model_module_version": "1.1.0",
      "model_name": "LayoutModel",
      "state": {}
     },
     "38238e85b5bb4623a8ef8b3af0729a67": {
      "model_module": "@jupyter-widgets/base",
      "model_module_version": "1.1.0",
      "model_name": "LayoutModel",
      "state": {}
     },
     "3d934eb24f9b4005b831504a0e4baa3e": {
      "model_module": "@jupyter-widgets/output",
      "model_module_version": "1.0.0",
      "model_name": "OutputModel",
      "state": {
       "layout": "IPY_MODEL_f2dac51fb55347f2bf9f5f781b9e4558"
      }
     },
     "3e2147d0702741bbb1963715683ba2ff": {
      "model_module": "@jupyter-widgets/output",
      "model_module_version": "1.0.0",
      "model_name": "OutputModel",
      "state": {
       "layout": "IPY_MODEL_55f4f87242224575b52e41afa40e5e2d"
      }
     },
     "4039c44a6b81427881c64dbe368c3771": {
      "model_module": "@jupyter-widgets/controls",
      "model_module_version": "1.4.0",
      "model_name": "VBoxModel",
      "state": {
       "children": [
        "IPY_MODEL_7ffcc5da836a4772ad6190ded79997f7",
        "IPY_MODEL_156d68322d1e4dd3a0fbfab1be1688bf"
       ],
       "layout": "IPY_MODEL_282ed86a1e9f475ab92778daa6256ae2"
      }
     },
     "416b7202da814b9095cb90fed53606c3": {
      "model_module": "ontoedit",
      "model_module_version": "1.1.0",
      "model_name": "OntoeditModel",
      "state": {
       "_model_module_version": "1.1.0",
       "_view_module_version": "",
       "layout": "IPY_MODEL_bfdcdc39eeb04946a97cd9562372bc04",
       "value": "Sophie loves Leo.\nLeo loves Sophie."
      }
     },
     "42805aa70f7945db96a25007c189bac0": {
      "model_module": "ontoedit",
      "model_module_version": "1.1.0",
      "model_name": "OntoeditModel",
      "state": {
       "_model_module_version": "1.1.0",
       "_view_module_version": "",
       "layout": "IPY_MODEL_d8f23781ffc74fb797fe78016d7b58e4",
       "value": "Every-single-thing that is a plant and-or is a plant-part is a herb.\nNo herb is an animal.\n\nEvery carnivore eats nothing-but animals.\nEvery lion eats nothing-but herbivores.\n\nEvery herbivore eats nothing-but herb.\n\nAnything either is a carnivore, is a herbivore or is an omnivore or-something-else.\nAnything either is a branch, is a leaf or is a twig or-something-else.\n\nNo giraffe is a lion.\nEvery palm-tree is not a tree.\n"
      }
     },
     "43ef90ea44f7483cae76acd6a8bf06db": {
      "model_module": "@jupyter-widgets/base",
      "model_module_version": "1.1.0",
      "model_name": "LayoutModel",
      "state": {
       "height": "100px"
      }
     },
     "44f37380178d4fa0a074af10221c17fa": {
      "model_module": "@jupyter-widgets/base",
      "model_module_version": "1.1.0",
      "model_name": "LayoutModel",
      "state": {
       "height": "100%",
       "width": "90%"
      }
     },
     "4636ed4b6a9b4aa29f2b8c9efe57f732": {
      "model_module": "ontoedit",
      "model_module_version": "1.1.0",
      "model_name": "OntoeditModel",
      "state": {
       "_model_module_version": "1.1.0",
       "_view_module_version": "",
       "cursor": 199,
       "hints": "Branch-01<br/>Every<br/>Every-single-thing<br/>If<br/>Leo-01<br/>Mary-01<br/>No<br/>Nothing<br/>Something<br/>Sophie-01<br/>The<br/>X",
       "hintsX": 199,
       "layout": "IPY_MODEL_6bc39517a9044c0d95ed9158711c5ff5",
       "value": "Leo-01 is a lion.\nLeo-01 eats Sophie-01.\nSophie-01 is a giraffe.\nSophie-01 eats Leaf-01.\nMary-01 is a tree.\nLeaf-01 is a leaf and is-part-of Branch-02.\nBranch-02 is a branch and is-part-of Branch-01.\nBranch-01 is a branch and is-part-of Mary-01.\nBranch-03 is a branch."
      }
     },
     "46b6bc391f7d47cb95796e1c5effa3cb": {
      "model_module": "@jupyter-widgets/base",
      "model_module_version": "1.1.0",
      "model_name": "LayoutModel",
      "state": {
       "height": "300px"
      }
     },
     "48a844c1f16d4e0f89888a38f9f871b1": {
      "model_module": "@jupyter-widgets/base",
      "model_module_version": "1.1.0",
      "model_name": "LayoutModel",
      "state": {
       "height": "300px"
      }
     },
     "490fd126b35c4016a45f2265268f5ef0": {
      "model_module": "ontoedit",
      "model_module_version": "1.1.0",
      "model_name": "OntoeditModel",
      "state": {
       "_model_module_version": "1.1.0",
       "_view_module_version": "",
       "layout": "IPY_MODEL_2a02773588a34d31a60ab56ea873ef24",
       "value": "Every carnivorous-plant must eat an animal.\nEvery carnivor must eat an animal.\nEvery omnivore must eat a plant.\nEvery branch must be-part-of a tree.\nEvery plant-part must be-part-of a plant.\n\nComment: 'Role equivalence and inverted roles'.\nX has-part Y if-and-only-if Y is-part-of X.\nX eats Y if-and-only-if Y is-eaten-by X.\n\nComment: 'Role subsumptions'.\nIf X is-part-of Y then X is-part-of Y.\nIf X has-part something that has-part Y then X has-part Y.\n\nComment: 'Complex role subsumptions'.\nIf X is-part-of something that is-part-of Y then X is-part-of Y.\n"
      }
     },
     "4974f63235624cb0950d09b959338aac": {
      "model_module": "@jupyter-widgets/controls",
      "model_module_version": "1.4.0",
      "model_name": "VBoxModel",
      "state": {
       "children": [
        "IPY_MODEL_4636ed4b6a9b4aa29f2b8c9efe57f732",
        "IPY_MODEL_8f2ee93c18ed4583894db21311e14ed9"
       ],
       "layout": "IPY_MODEL_df45bd0d614e4f8dbc1d38058dc993e7"
      }
     },
     "4a322469244d444ca5d1bcb372403f27": {
      "model_module": "@jupyter-widgets/base",
      "model_module_version": "1.1.0",
      "model_name": "LayoutModel",
      "state": {
       "height": "100%",
       "width": "90%"
      }
     },
     "4a569f7988e8471dafe05c22d22bd4ea": {
      "model_module": "ontoedit",
      "model_module_version": "1.1.0",
      "model_name": "OntoeditModel",
      "state": {
       "_model_module_version": "1.1.0",
       "_view_module_version": "",
       "cursor": 173,
       "hints": "&lt;Proper-Name&gt;<br/>Every<br/>Every-single-thing<br/>If<br/>No<br/>Nothing<br/>Something<br/>The<br/>X",
       "hintsX": 173,
       "layout": "IPY_MODEL_4a322469244d444ca5d1bcb372403f27",
       "value": "Every-single-thing that is a plant and-or is a plant-part is a herb.\nNo herb is an animal.\n\nEvery carnivore eats nothing-but animals.\nEvery lion eats nothing-but herbivores.\n\nEvery herbivore eats nothing-but herb.\n\nAnything either is a carnivore, is a herbivore or is an omnivore or-something-else.\nAnything either is a branch, is a leaf or is a twig or-something-else.\n\nNo giraffe is a lion.\nEvery palm-tree is not a tree.\n"
      }
     },
     "4aafc9319e7743f8985cdc669f22cab5": {
      "model_module": "@jupyter-widgets/base",
      "model_module_version": "1.1.0",
      "model_name": "LayoutModel",
      "state": {
       "height": "300px"
      }
     },
     "4d3213ec0b2c4ad69c1a66a3369ab474": {
      "model_module": "@jupyter-widgets/controls",
      "model_module_version": "1.4.0",
      "model_name": "VBoxModel",
      "state": {
       "children": [
        "IPY_MODEL_e736dda042e74aac96c321bed782241e",
        "IPY_MODEL_7cb5ce8716bf4a209b03b4910d97a0e2"
       ],
       "layout": "IPY_MODEL_6dfbc4a9245c453fb126ea93c284477f"
      }
     },
     "4f0a97990f8943818fc14ed4fd385830": {
      "model_module": "@jupyter-widgets/output",
      "model_module_version": "1.0.0",
      "model_name": "OutputModel",
      "state": {
       "layout": "IPY_MODEL_ea50e21fc54b4d97b922faa6337bdfe7"
      }
     },
     "50e4b95344d64a99b4f7543b017bf5a4": {
      "model_module": "@jupyter-widgets/base",
      "model_module_version": "1.1.0",
      "model_name": "LayoutModel",
      "state": {
       "height": "300px"
      }
     },
     "50f1befbf50548f9869037abe911c6c2": {
      "model_module": "@jupyter-widgets/output",
      "model_module_version": "1.0.0",
      "model_name": "OutputModel",
      "state": {
       "layout": "IPY_MODEL_d9c2b88b505b48a4b6c2c57cd93f7776"
      }
     },
     "5143fe6b6b2e4bdbb95db4836c07f69f": {
      "model_module": "ontoedit",
      "model_module_version": "1.1.0",
      "model_name": "OntoeditModel",
      "state": {
       "_model_module_version": "1.1.0",
       "_view_module_version": "",
       "layout": "IPY_MODEL_31401dde148b42c6b6dee0ee84db65b2",
       "value": "Leo-01 is a lion.\nLeo-01 eats Sophie-01.\nSophie-01 is a giraffe.\nLeo-01 eats Mary-01.\nMary-01 is a palm-tree.\n"
      }
     },
     "540624d791b04c72a5f6de35ef203a09": {
      "model_module": "ontoedit",
      "model_module_version": "1.1.0",
      "model_name": "OntoeditModel",
      "state": {
       "_model_module_version": "1.1.0",
       "_view_module_version": "",
       "cursor": 171,
       "hintT": "!!!SYNTAX ERROR!!!",
       "hints": "!!!SYNTAX ERROR!!!",
       "hintsX": 169,
       "layout": "IPY_MODEL_0ee45e2151a74dfeb632f8622dfa620d",
       "value": "Namespace: 'http://cognitum.eu/african_wildlife'.\n\nComment: 'Lets name our instances'.\nComment: 'Lets specify the hierarchy of beings'. \nComment: 'What is what?'.\nEvery ma\nEvery lion is an animal.\nEvery giraffe is an animal.\n\nComment: 'Moreover'.\nEvery impala is an animal.\nEvery omnivore is an animal. \nEvery rock-dassie is an animal.\nEvery warthog is an animal.\nEvery carnivore is an animal.\nEvery herbivore is an animal.\nEvery elephant is a herbivore.\nEvery lion is carnivore.\n\nComment: 'There are also plants there:'.\nEvery tree is a plant.\nEvery grass is a plant.\nEvery palm-tree is a plant.\n\nEvery branch is a plant-part.\nEvery leaf is a plant-part.\nEvery twig is a plant-part.\n\nEvery phloem is a plant-part.\nEvery root is a plant-part.\nEvery parsnip is a root.\nEvery stem is a plant-part.\nEvery xylem is a plant-part.\nEvery fruiting-body is a plant-part.\nEvery berry is a fruiting-body.\nEvery apple is a fruiting-body.\n\nComment: 'We cannot use adjectives directly. To specify adjectives we need to transform them into sets that have form of buzzy-words'.\nEvery tasty-plant is a plant.\nEvery carnivorous-plant is a plant.\n"
      }
     },
     "54500e1db47043b29c2725eaf17f81f6": {
      "model_module": "@jupyter-widgets/base",
      "model_module_version": "1.1.0",
      "model_name": "LayoutModel",
      "state": {
       "height": "100%",
       "width": "90%"
      }
     },
     "54e213dd70db416783e9f4dd9eb8473a": {
      "model_module": "@jupyter-widgets/controls",
      "model_module_version": "1.4.0",
      "model_name": "VBoxModel",
      "state": {
       "children": [
        "IPY_MODEL_68ff3e69ff0948c7b1d6ea2e0727d6f1",
        "IPY_MODEL_cdb640c492eb40d986642b7b0cf89db1"
       ],
       "layout": "IPY_MODEL_43ef90ea44f7483cae76acd6a8bf06db"
      }
     },
     "55bb21d754f845a0b76771e91480da21": {
      "model_module": "@jupyter-widgets/controls",
      "model_module_version": "1.4.0",
      "model_name": "VBoxModel",
      "state": {
       "children": [
        "IPY_MODEL_08c30bf83c284e6ebe21cc3249cd99ba",
        "IPY_MODEL_8e63218be8c84392b59914249922d662"
       ],
       "layout": "IPY_MODEL_e278e56780d1428c826f7d861d407183"
      }
     },
     "55f4f87242224575b52e41afa40e5e2d": {
      "model_module": "@jupyter-widgets/base",
      "model_module_version": "1.1.0",
      "model_name": "LayoutModel",
      "state": {}
     },
     "56a2eb99cf15417e8568cc49848857f1": {
      "model_module": "ontoedit",
      "model_module_version": "1.1.0",
      "model_name": "OntoeditModel",
      "state": {
       "_model_module_version": "1.1.0",
       "_view_module_version": "",
       "layout": "IPY_MODEL_7e5fec00c2ad42f1b02a76e0e2b34c6d",
       "value": "Every carnivorous-plant must eat an animal.\nEvery carnivor must eat an animal.\nEvery omnivore must eat a plant.\nEvery branch must be-part-of a tree.\nEvery plant-part must be-part-of a plant.\n\nComment: 'Role equivalence and inverted roles'.\nX has-part Y if-and-only-if Y is-part-of X.\nX eats Y if-and-only-if Y is-eaten-by X.\n\nComment: 'Role subsumptions'.\nIf X is-part-of Y then X is-part-of Y.\nIf X has-part something that has-part Y then X has-part Y.\n\nComment: 'Complex role subsumptions'.\nIf X is-part-of something that is-part-of Y then X is-part-of Y.\n"
      }
     },
     "585c9fe15e494126a1116a5e5f8e87e4": {
      "model_module": "@jupyter-widgets/base",
      "model_module_version": "1.1.0",
      "model_name": "LayoutModel",
      "state": {}
     },
     "5aea4cc758c6473193e64e8a9da92f28": {
      "model_module": "@jupyter-widgets/base",
      "model_module_version": "1.1.0",
      "model_name": "LayoutModel",
      "state": {}
     },
     "5b7a7dc340b8488b8d7616e1a0e4e954": {
      "model_module": "@jupyter-widgets/output",
      "model_module_version": "1.0.0",
      "model_name": "OutputModel",
      "state": {
       "layout": "IPY_MODEL_72f03a0887ce493bb7e9983353e95041"
      }
     },
     "5ca39e2e45c9445eb22413a85950317f": {
      "model_module": "@jupyter-widgets/base",
      "model_module_version": "1.1.0",
      "model_name": "LayoutModel",
      "state": {
       "height": "100%",
       "width": "90%"
      }
     },
     "5f92d7eda9e4489591fce827af8d659b": {
      "model_module": "@jupyter-widgets/base",
      "model_module_version": "1.1.0",
      "model_name": "LayoutModel",
      "state": {}
     },
     "6140f382320b46d8bf1bbe77cd6ff9d2": {
      "model_module": "@jupyter-widgets/controls",
      "model_module_version": "1.4.0",
      "model_name": "VBoxModel",
      "state": {
       "children": [
        "IPY_MODEL_63c4a550777447f1896522d0db7ab5f5",
        "IPY_MODEL_50f1befbf50548f9869037abe911c6c2"
       ],
       "layout": "IPY_MODEL_50e4b95344d64a99b4f7543b017bf5a4"
      }
     },
     "637bf119d26145cd9b1c74a314f17fb0": {
      "model_module": "@jupyter-widgets/base",
      "model_module_version": "1.1.0",
      "model_name": "LayoutModel",
      "state": {
       "height": "300px"
      }
     },
     "63c4a550777447f1896522d0db7ab5f5": {
      "model_module": "ontoedit",
      "model_module_version": "1.1.0",
      "model_name": "OntoeditModel",
      "state": {
       "_model_module_version": "1.1.0",
       "_view_module_version": "",
       "cursor": 1198,
       "hints": "Every<br/>Every-single-thing<br/>If<br/>Leo<br/>No<br/>Nothing<br/>Something<br/>Sophie<br/>The<br/>X",
       "hintsX": 1198,
       "layout": "IPY_MODEL_f4ea8cdd8b5c4157a727af4af9d67cb3",
       "value": "Title: 'African Wildlife'.\nAuthor: 'PaweĹ‚ KapĹ‚aĹ„ski'.\nBased-On: \n 'A Semantic Web Primer.'\n 'Antoniou, G, van Harmelen, F.'\n 'MIT Press, 2003.'\n 'http://www.csd.uoc.gr/~hy566/SWbook.pdf'\n.\n\nComment:\n////// Examples of Possible Questions  /////////////////////////////   \n//Who-Or-What:\n// * is a carnivore ?                                      \n// * is an herbivore ?                                         \n// * is an animal that eats grass ?                            \n// * is-part-of a tree ?  \n// * is eaten by lion?           \n////////////////////////////////////////////////////////////////////.\n\n\n\nPart-1: 'simple hierarchy of beings'.\n\nComment: 'Lets name our instances'.\nSophie is a giraffe.\nLeo is a lion.\n\nComment: 'Lets specify the hierarchy of beings'. \nComment: 'What is what?'.\nEvery lion is an animal.\nEvery giraffe is an animal.\n\nComment: 'Moreover'.\nEvery impala is an animal.\nEvery omnivore is an animal.\nEvery rock-dassie is an animal.\nEvery warthog is an animal.\nEvery carnivore is an animal.\nEvery herbivore is an animal.\nEvery elephant is a herbivore.\n\nComment: 'There are also plants there:'.\nEvery tree is a plant.\nEvery grass is a plant.\nEvery palm-tree is a plant.\n\nPart-2: adjectives and specifications.\n\nComment: 'We cannot use adjectives directly'.\nComment: 'To specify adjectives we need to transform them into sets that have form of buzzy-words'.\n\nEvery tasty-plant is a plant.\nEvery carnivorous-plant is a plant.\n\nComment: 'Similarly we can do to make something more and more specific'.\nEvery branch is a plant-part.\nEvery phloem is a plant-part.\nEvery root is a plant-part.\nEvery parsnip is a root.\nEvery stem is a plant-part.\nEvery twig is a plant-part.\nEvery xylem is a plant-part.\nEvery leaf is a plant-part.\nEvery fruiting-body is a plant-part.\nEvery berry is a fruiting-body.\nEvery apple is a fruiting-body.\n\nPart-3: Disjointness.\n\nComment: 'We deal with Open World Assumption, therefore we need to specify explicitly if two things are different'.\nComment: 'E.g.: We need to specify explicitly that animal is not a plant'.\nEvery animal is not a plant.\nEvery giraffe is not a lion.\nEvery palm-tree is not a tree.\n\nComment: 'Or we can use it - it means the same'.\nNo animal is a plant.\n\nPart-4: Simple relations.\n\nComment: To specify relation beetween beings.\nEvery lion eats an impala.\nEvery carnivorous-plant eats an animal.\n\nComment: 'I.e. be part of is a part-whole relation'.\nEvery branch is-part-of a tree.\nEvery plant-part is-proper-part-of a plant.\nEvery xylem is-proper-part-of a stem.\nEvery phloem is-proper-part-of a stem.\n\nComment:  'Specifying the range of relation. The difference? One is that lion eats impala. Second that it eats only herbivore' -> impala must be herbivore.\nEvery lion eats nothing-but herbivores.\n\nPart-5: 'Complex relations'.\n\nEvery palm-tree has-part that is not a branch.\nEvery warthog eats an animal and eats a fruiting-body and eats a grass and eats a root.\nEvery giraffe eats nothing-but things that are leaves and-or are twigs.\nEvery leaf is-part-of something that is a branch and-or is a twig.\nEvery tasty-plant is-eaten-by a carnivore and is-eaten-by a herbivore.\nEvery-single-thing eats nothing-but things that are animals and-or are plants and-or are-part-of animals and-or are-part-of plants.\n\nPart-6: 'Reflexion'.\n\nNothing is-proper-part-of itself.\n\nPart-7: Equivalence.\n\nComment: 'What it means to be a carnivore, omnivore or herbivore? We specify exact definitions here.'.\nEvery-single-thing that eats nothing-but animals and-or eats nothing-but things that are-part-of animals is a carnivore.\nSomething is an omnivore if-and-only-if-it eats an animal and eats a plant and eats something that is-part-of an animal and-or is-part-of a plant.\nSomething is a herbivore if-and-only-if-it eats nothing-but plants and-or eats nothing-but things that are-part-of plants.\n\nPart-8: 'Disjointness'.\n\nAnything either is a carnivore, is a herbivore or is an omnivore or-something-else.\nAnything either is a branch, is a leaf or is a twig or-something-else.\n\nPart-9: 'Relations between roles'.\n\nComment: 'Role equivalence and inverted roles'.\nX has-part Y if-and-only-if Y is-part-of X.\nX eats Y if-and-only-if Y is-eaten-by X.\n\nComment: 'Role subsumptions'.\nIf X is-proper-part-of Y then X is-part-of Y.\nIf X has-part something that has-part Y then X has-part Y.\n\nComment: 'Complex role subsumptions'.\nIf X is-part-of something that is-part-of Y then X is-part-of Y."
      }
     },
     "66578ffca1f043118425062dc0b6f067": {
      "model_module": "@jupyter-widgets/controls",
      "model_module_version": "1.4.0",
      "model_name": "VBoxModel",
      "state": {
       "children": [
        "IPY_MODEL_27cf37417f84476da68ac933a85143a5",
        "IPY_MODEL_f81355e7f2a34681bf8ca14e71dbf938"
       ],
       "layout": "IPY_MODEL_f79246661c1941fb8047812a618edbea"
      }
     },
     "66cefaa10ba1472a846b969c45384ec0": {
      "model_module": "@jupyter-widgets/controls",
      "model_module_version": "1.4.0",
      "model_name": "VBoxModel",
      "state": {
       "children": [
        "IPY_MODEL_6c33a33ec84a476ea62d3b987b12a532",
        "IPY_MODEL_85f2cc17df4e4e429f3682d5f1a9d2a5"
       ],
       "layout": "IPY_MODEL_637bf119d26145cd9b1c74a314f17fb0"
      }
     },
     "670789803c044d699064f4d8d85c169a": {
      "model_module": "ontoedit",
      "model_module_version": "1.1.0",
      "model_name": "OntoeditModel",
      "state": {
       "_model_module_version": "1.1.0",
       "_view_module_version": "",
       "layout": "IPY_MODEL_8e2009ebcf134448a2ad52b7cc6c4b26",
       "value": "Every-single-thing that is a plant and-or is a plant-part is a herb.\nNo herb is an animal.\n\nEvery carnivore eats nothing-but animals.\nEvery lion eats nothing-but herbivores.\n\nEvery herbivore eats nothing-but herb.\n\nAnything either is a carnivore, is a herbivore or is an omnivore or-something-else.\nAnything either is a branch, is a leaf or is a twig or-something-else.\n\nNo giraffe is a lion.\nEvery palm-tree is not a tree.\n"
      }
     },
     "6834615b88754ba992949979ad4896da": {
      "model_module": "@jupyter-widgets/base",
      "model_module_version": "1.1.0",
      "model_name": "LayoutModel",
      "state": {
       "height": "100%",
       "width": "90%"
      }
     },
     "687f88667abb40929c0d1ac2acbc9281": {
      "model_module": "ontoedit",
      "model_module_version": "1.1.0",
      "model_name": "OntoeditModel",
      "state": {
       "_model_module_version": "1.1.0",
       "_view_module_version": "",
       "layout": "IPY_MODEL_df07f4cbd3574e08868b7543bb5cb15a",
       "value": "Leo-01 is a lion.\nLeo-01 eats Sophie-01.\nSophie-01 is a giraffe.\nLeo-01 eats Mary-01.\nMary-01 is a palm-tree.\n"
      }
     },
     "68ff3e69ff0948c7b1d6ea2e0727d6f1": {
      "model_module": "ontoedit",
      "model_module_version": "1.1.0",
      "model_name": "OntoeditModel",
      "state": {
       "_model_module_version": "1.1.0",
       "_view_module_version": "",
       "layout": "IPY_MODEL_2b1178c8982c4d7f8bd00f05c2a0ab9f",
       "value": "an animal that loves "
      }
     },
     "69339d07f80c4b42a0ca64e1e93f2940": {
      "model_module": "@jupyter-widgets/output",
      "model_module_version": "1.0.0",
      "model_name": "OutputModel",
      "state": {
       "layout": "IPY_MODEL_db4059a12cb34224934499d5b329f6c6"
      }
     },
     "6b3a1654ff064f0aaf274b3478288a8f": {
      "model_module": "@jupyter-widgets/base",
      "model_module_version": "1.1.0",
      "model_name": "LayoutModel",
      "state": {
       "height": "300px"
      }
     },
     "6b665fd9cf6b45d0ade1db84533996f4": {
      "model_module": "@jupyter-widgets/base",
      "model_module_version": "1.1.0",
      "model_name": "LayoutModel",
      "state": {}
     },
     "6bc39517a9044c0d95ed9158711c5ff5": {
      "model_module": "@jupyter-widgets/base",
      "model_module_version": "1.1.0",
      "model_name": "LayoutModel",
      "state": {
       "height": "100%",
       "width": "90%"
      }
     },
     "6c33a33ec84a476ea62d3b987b12a532": {
      "model_module": "ontoedit",
      "model_module_version": "1.1.0",
      "model_name": "OntoeditModel",
      "state": {
       "_model_module_version": "1.1.0",
       "_view_module_version": "",
       "layout": "IPY_MODEL_5ca39e2e45c9445eb22413a85950317f",
       "value": "Leo-01 is a lion.\nLeo-01 eats Sophie-01.\nSophie-01 is a giraffe.\nLeo-01 eats Mary-01.\nMary-01 is a palm-tree.\n"
      }
     },
     "6dfbc4a9245c453fb126ea93c284477f": {
      "model_module": "@jupyter-widgets/base",
      "model_module_version": "1.1.0",
      "model_name": "LayoutModel",
      "state": {
       "height": "300px"
      }
     },
     "6fa9e122a4ca4267832285e9f3983bba": {
      "model_module": "@jupyter-widgets/base",
      "model_module_version": "1.1.0",
      "model_name": "LayoutModel",
      "state": {}
     },
     "704fa12b89334f67b30097d1c39534c9": {
      "model_module": "@jupyter-widgets/base",
      "model_module_version": "1.1.0",
      "model_name": "LayoutModel",
      "state": {
       "height": "300px"
      }
     },
     "727588c8af22452182710e9c54750d83": {
      "model_module": "@jupyter-widgets/output",
      "model_module_version": "1.0.0",
      "model_name": "OutputModel",
      "state": {
       "layout": "IPY_MODEL_c4809ee837e84bbba2bd1dc44a5cdc69"
      }
     },
     "72b37b61f1ba4540bd4dafa460795b8e": {
      "model_module": "@jupyter-widgets/base",
      "model_module_version": "1.1.0",
      "model_name": "LayoutModel",
      "state": {}
     },
     "72f03a0887ce493bb7e9983353e95041": {
      "model_module": "@jupyter-widgets/base",
      "model_module_version": "1.1.0",
      "model_name": "LayoutModel",
      "state": {}
     },
     "7358c3b0bfc140b7ad1d635020c852a5": {
      "model_module": "@jupyter-widgets/controls",
      "model_module_version": "1.4.0",
      "model_name": "VBoxModel",
      "state": {
       "children": [
        "IPY_MODEL_791a2bc1ba2c4ed98805765076095f71",
        "IPY_MODEL_a551c169f0f44b0d8ed33f34d5a4ea9d"
       ],
       "layout": "IPY_MODEL_2a57077dcfc6408f910fcdd1069fb533"
      }
     },
     "791a2bc1ba2c4ed98805765076095f71": {
      "model_module": "ontoedit",
      "model_module_version": "1.1.0",
      "model_name": "OntoeditModel",
      "state": {
       "_model_module_version": "1.1.0",
       "_view_module_version": "",
       "layout": "IPY_MODEL_99f9f6e0b26a4e73858dfbb6017ccbb8",
       "value": "an animal that loves "
      }
     },
     "798ac8c8baa148b68188dc60d84de5fe": {
      "model_module": "@jupyter-widgets/base",
      "model_module_version": "1.1.0",
      "model_name": "LayoutModel",
      "state": {
       "height": "300px"
      }
     },
     "7cb5ce8716bf4a209b03b4910d97a0e2": {
      "model_module": "@jupyter-widgets/output",
      "model_module_version": "1.0.0",
      "model_name": "OutputModel",
      "state": {
       "layout": "IPY_MODEL_72b37b61f1ba4540bd4dafa460795b8e"
      }
     },
     "7e5fec00c2ad42f1b02a76e0e2b34c6d": {
      "model_module": "@jupyter-widgets/base",
      "model_module_version": "1.1.0",
      "model_name": "LayoutModel",
      "state": {
       "height": "100%",
       "width": "90%"
      }
     },
     "7ffcc5da836a4772ad6190ded79997f7": {
      "model_module": "ontoedit",
      "model_module_version": "1.1.0",
      "model_name": "OntoeditModel",
      "state": {
       "_model_module_version": "1.1.0",
       "_view_module_version": "",
       "cursor": 162,
       "hints": "&lt;Proper-Name&gt;<br/>Every<br/>Every-single-thing<br/>If<br/>No<br/>Nothing<br/>Something<br/>The<br/>X",
       "hintsX": 162,
       "layout": "IPY_MODEL_cb714303465343599e7daddd09b77893",
       "value": "Namespace: 'http://cognitum.eu/african_wildlife'.\n\nComment: 'Lets name our instances'.\nComment: 'Lets specify the hierarchy of beings'. \nComment: 'What is what?'.\nEvery man has a train.\nEvery lion is an animal.\nEvery giraffe is an animal.\n\nComment: 'Moreover'.\nEvery impala is an animal.\nEvery omnivore is an animal. \nEvery rock-dassie is an animal.\nEvery warthog is an animal.\nEvery carnivore is an animal.\nEvery herbivore is an animal.\nEvery elephant is a herbivore.\nEvery lion is carnivore.\n\nComment: 'There are also plants there:'.\nEvery tree is a plant.\nEvery grass is a plant.\nEvery palm-tree is a plant.\n\nEvery branch is a plant-part.\nEvery leaf is a plant-part.\nEvery twig is a plant-part.\n\nEvery phloem is a plant-part.\nEvery root is a plant-part.\nEvery parsnip is a root.\nEvery stem is a plant-part.\nEvery xylem is a plant-part.\nEvery fruiting-body is a plant-part.\nEvery berry is a fruiting-body.\nEvery apple is a fruiting-body.\n\nComment: 'We cannot use adjectives directly. To specify adjectives we need to transform them into sets that have form of buzzy-words'.\nEvery tasty-plant is a plant.\nEvery carnivorous-plant is a plant.\n"
      }
     },
     "8299fafb9989402e9259aa0b848881e2": {
      "model_module": "ontoedit",
      "model_module_version": "1.1.0",
      "model_name": "OntoeditModel",
      "state": {
       "_model_module_version": "1.1.0",
       "_view_module_version": "",
       "layout": "IPY_MODEL_17f3ad9162db4104a65795f20d5f0075",
       "value": "Leo-01 is a lion.\nLeo-01 eats Sophie-01.\nSophie-01 is a giraffe.\nSophie-01 eats Leaf-01.\nMary-01 is a tree.\nLeaf-01 is a leaf and is-part-of Branch-02.\nBranch-02 is a branch and is-part-of Branch-01.\nBranch-01 is a branch and is-part-of Mary-01.\nBranch-03 is a branch."
      }
     },
     "830d5ee0e72742cbb9c50e698f8db857": {
      "model_module": "ontoedit",
      "model_module_version": "1.1.0",
      "model_name": "OntoeditModel",
      "state": {
       "_model_module_version": "1.1.0",
       "_view_module_version": "",
       "cursor": 186,
       "hintT": "!!!SYNTAX ERROR!!!\r\n\r\nEvery ma\r\nEvery lion is an animal.",
       "hints": "!!!SYNTAX ERROR!!!\r\n\r\nEvery ma\r\nEvery lion is an animal.",
       "hintsX": 186,
       "layout": "IPY_MODEL_f7410d5947704d05b636e488c607ec0e",
       "value": "Namespace: 'http://cognitum.eu/african_wildlife'.\n\nComment: 'Lets name our instances'.\nComment: 'Lets specify the hierarchy of beings'. \nComment: 'What is what?'.\nEvery man has a train.\nEvery lion is an animal.\nEvery giraffe is an animal.\n\nComment: 'Moreover'.\nEvery impala is an animal.\nEvery omnivore is an animal. \nEvery rock-dassie is an animal.\nEvery warthog is an animal.\nEvery carnivore is an animal.\nEvery herbivore is an animal.\nEvery elephant is a herbivore.\nEvery lion is carnivore.\n\nComment: 'There are also plants there:'.\nEvery tree is a plant.\nEvery grass is a plant.\nEvery palm-tree is a plant.\n\nEvery branch is a plant-part.\nEvery leaf is a plant-part.\nEvery twig is a plant-part.\n\nEvery phloem is a plant-part.\nEvery root is a plant-part.\nEvery parsnip is a root.\nEvery stem is a plant-part.\nEvery xylem is a plant-part.\nEvery fruiting-body is a plant-part.\nEvery berry is a fruiting-body.\nEvery apple is a fruiting-body.\n\nComment: 'We cannot use adjectives directly. To specify adjectives we need to transform them into sets that have form of buzzy-words'.\nEvery tasty-plant is a plant.\nEvery carnivorous-plant is a plant.\n"
      }
     },
     "85f2cc17df4e4e429f3682d5f1a9d2a5": {
      "model_module": "@jupyter-widgets/output",
      "model_module_version": "1.0.0",
      "model_name": "OutputModel",
      "state": {
       "layout": "IPY_MODEL_379b403b772848b184590efb077753db"
      }
     },
     "865ed95805f44073ac10f4b4757bd1a0": {
      "model_module": "@jupyter-widgets/base",
      "model_module_version": "1.1.0",
      "model_name": "LayoutModel",
      "state": {
       "height": "100%",
       "width": "90%"
      }
     },
     "87dbf123720c4818bdda118bfdbb7cda": {
      "model_module": "@jupyter-widgets/output",
      "model_module_version": "1.0.0",
      "model_name": "OutputModel",
      "state": {
       "layout": "IPY_MODEL_daee7295113f4ab588ec50dacbc01003"
      }
     },
     "88e3f3eb628649cbaa595601364bada4": {
      "model_module": "@jupyter-widgets/base",
      "model_module_version": "1.1.0",
      "model_name": "LayoutModel",
      "state": {
       "height": "300px"
      }
     },
     "89b1bde40ddb4abf9ac1d1cd90dd345a": {
      "model_module": "@jupyter-widgets/base",
      "model_module_version": "1.1.0",
      "model_name": "LayoutModel",
      "state": {
       "height": "100px"
      }
     },
     "8b344392a0d344158becbf95c37546c6": {
      "model_module": "@jupyter-widgets/controls",
      "model_module_version": "1.4.0",
      "model_name": "VBoxModel",
      "state": {
       "children": [
        "IPY_MODEL_56a2eb99cf15417e8568cc49848857f1",
        "IPY_MODEL_f81dc3d2747142f9ac59bd2ccb85dc67"
       ],
       "layout": "IPY_MODEL_f7e95e3d43544ddfb6c69338a006cace"
      }
     },
     "8b52933a93d84df1bc039f960cacf560": {
      "model_module": "@jupyter-widgets/output",
      "model_module_version": "1.0.0",
      "model_name": "OutputModel",
      "state": {
       "layout": "IPY_MODEL_b0bf749d3aa54cb5876f768752e013e2"
      }
     },
     "8b7f1503cd5d4af7bedb96db2bc9826b": {
      "model_module": "ontoedit",
      "model_module_version": "1.1.0",
      "model_name": "OntoeditModel",
      "state": {
       "_model_module_version": "1.1.0",
       "_view_module_version": "",
       "layout": "IPY_MODEL_b18557280c0d4e1b827179460da45136",
       "value": "Leo-01 is a lion.\nLeo-01 eats Sophie-01.\nSophie-01 is a giraffe.\nSophie-01 eats Leaf-01.\nMary-01 is a tree.\nLeaf-01 is a leaf and is-part-of Branch-02.\nBranch-02 is a branch and is-part-of Branch-01.\nBranch-01 is a branch and is-part-of Mary-01.\nBranch-03 is a branch."
      }
     },
     "8e2009ebcf134448a2ad52b7cc6c4b26": {
      "model_module": "@jupyter-widgets/base",
      "model_module_version": "1.1.0",
      "model_name": "LayoutModel",
      "state": {
       "height": "100%",
       "width": "90%"
      }
     },
     "8e63218be8c84392b59914249922d662": {
      "model_module": "@jupyter-widgets/output",
      "model_module_version": "1.0.0",
      "model_name": "OutputModel",
      "state": {
       "layout": "IPY_MODEL_5aea4cc758c6473193e64e8a9da92f28"
      }
     },
     "8f2ee93c18ed4583894db21311e14ed9": {
      "model_module": "@jupyter-widgets/output",
      "model_module_version": "1.0.0",
      "model_name": "OutputModel",
      "state": {
       "layout": "IPY_MODEL_38238e85b5bb4623a8ef8b3af0729a67"
      }
     },
     "91212d33087f4872ab96d1d2adac582a": {
      "model_module": "@jupyter-widgets/output",
      "model_module_version": "1.0.0",
      "model_name": "OutputModel",
      "state": {
       "layout": "IPY_MODEL_6fa9e122a4ca4267832285e9f3983bba"
      }
     },
     "951c1fa30fea488a8ae1578cede4b5fe": {
      "model_module": "@jupyter-widgets/base",
      "model_module_version": "1.1.0",
      "model_name": "LayoutModel",
      "state": {
       "height": "100%",
       "width": "90%"
      }
     },
     "9536c1856e8a487d8c68984e25b441ce": {
      "model_module": "@jupyter-widgets/base",
      "model_module_version": "1.1.0",
      "model_name": "LayoutModel",
      "state": {
       "height": "300px"
      }
     },
     "9767af0ad60a4f4f84f6fffb5b1addb8": {
      "model_module": "@jupyter-widgets/base",
      "model_module_version": "1.1.0",
      "model_name": "LayoutModel",
      "state": {}
     },
     "99075eefb8ad4a5087de5fbfbb2e2a8c": {
      "model_module": "ontoedit",
      "model_module_version": "1.1.0",
      "model_name": "OntoeditModel",
      "state": {
       "_model_module_version": "1.1.0",
       "_view_module_version": "",
       "layout": "IPY_MODEL_9febe76887f34e8e9ea439b3d6a469bc",
       "value": "Comment: 'Lets name our instances'.\nComment: 'Lets specify the hierarchy of beings'. \nComment: 'What is what?'.\n\nEvery lion is an animal.\nEvery giraffe is an animal.\n\nComment: 'Moreover'.\nEvery impala is an animal.\nEvery omnivore is an animal.\nEvery rock-dassie is an animal.\nEvery warthog is an animal.\nEvery carnivore is an animal.\nEvery herbivore is an animal.\nEvery elephant is a herbivore.\nEvery lion is carnivore.\n\nComment: 'There are also plants there:'.\nEvery tree is a plant.\nEvery grass is a plant.\nEvery palm-tree is a plant.\n\nEvery branch is a plant-part.\nEvery leaf is a plant-part.\nEvery twig is a plant-part.\n\nEvery phloem is a plant-part.\nEvery root is a plant-part.\nEvery parsnip is a root.\nEvery stem is a plant-part.\nEvery xylem is a plant-part.\nEvery fruiting-body is a plant-part.\nEvery berry is a fruiting-body.\nEvery apple is a fruiting-body.\n\nComment: 'We cannot use adjectives directly. To specify adjectives we need to transform them into sets that have form of buzzy-words'.\nEvery tasty-plant is a plant.\nEvery carnivorous-plant is a plant.\n"
      }
     },
     "99f9f6e0b26a4e73858dfbb6017ccbb8": {
      "model_module": "@jupyter-widgets/base",
      "model_module_version": "1.1.0",
      "model_name": "LayoutModel",
      "state": {
       "height": "100%",
       "width": "90%"
      }
     },
     "9b0f9a23e3574472b084a63a42c18088": {
      "model_module": "@jupyter-widgets/base",
      "model_module_version": "1.1.0",
      "model_name": "LayoutModel",
      "state": {
       "height": "300px"
      }
     },
     "9d7f76b3359049b99071eba73b8dc427": {
      "model_module": "@jupyter-widgets/controls",
      "model_module_version": "1.4.0",
      "model_name": "VBoxModel",
      "state": {
       "children": [
        "IPY_MODEL_4a569f7988e8471dafe05c22d22bd4ea",
        "IPY_MODEL_727588c8af22452182710e9c54750d83"
       ],
       "layout": "IPY_MODEL_9536c1856e8a487d8c68984e25b441ce"
      }
     },
     "9febe76887f34e8e9ea439b3d6a469bc": {
      "model_module": "@jupyter-widgets/base",
      "model_module_version": "1.1.0",
      "model_name": "LayoutModel",
      "state": {
       "height": "100%",
       "width": "90%"
      }
     },
     "a1d343a6e9ab47b999491d584f4d747b": {
      "model_module": "@jupyter-widgets/controls",
      "model_module_version": "1.4.0",
      "model_name": "VBoxModel",
      "state": {
       "children": [
        "IPY_MODEL_42805aa70f7945db96a25007c189bac0",
        "IPY_MODEL_4f0a97990f8943818fc14ed4fd385830"
       ],
       "layout": "IPY_MODEL_c1e34aeacb524c99a1c32e8cc8c9413a"
      }
     },
     "a23f3db72e844fd38d5d05b950980e06": {
      "model_module": "@jupyter-widgets/base",
      "model_module_version": "1.1.0",
      "model_name": "LayoutModel",
      "state": {
       "height": "100%",
       "width": "90%"
      }
     },
     "a270637c9421471a86a1a5fb0c90358f": {
      "model_module": "@jupyter-widgets/base",
      "model_module_version": "1.1.0",
      "model_name": "LayoutModel",
      "state": {
       "height": "100%",
       "width": "90%"
      }
     },
     "a2c7154564514724af74f1f72cd039df": {
      "model_module": "@jupyter-widgets/controls",
      "model_module_version": "1.4.0",
      "model_name": "VBoxModel",
      "state": {
       "children": [
        "IPY_MODEL_194e683e49954beab66c82f87eec0560",
        "IPY_MODEL_e26922aed1324c3cb824535d8f1eba7a"
       ],
       "layout": "IPY_MODEL_89b1bde40ddb4abf9ac1d1cd90dd345a"
      }
     },
     "a551c169f0f44b0d8ed33f34d5a4ea9d": {
      "model_module": "@jupyter-widgets/output",
      "model_module_version": "1.0.0",
      "model_name": "OutputModel",
      "state": {
       "layout": "IPY_MODEL_9767af0ad60a4f4f84f6fffb5b1addb8"
      }
     },
     "a83fc2b5087147fda70ef91ec71c9636": {
      "model_module": "ontoedit",
      "model_module_version": "1.1.0",
      "model_name": "OntoeditModel",
      "state": {
       "_model_module_version": "1.1.0",
       "_view_module_version": "",
       "layout": "IPY_MODEL_44f37380178d4fa0a074af10221c17fa",
       "value": "Namespace: 'http://cognitum.eu/african_wildlife'.\n\nComment: 'Lets name our instances'.\nComment: 'Lets specify the hierarchy of beings'. \nComment: 'What is what?'.\nEvery ma\nEvery lion is an animal.\nEvery giraffe is an animal.\n\nComment: 'Moreover'.\nEvery impala is an animal.\nEvery omnivore is an animal. \nEvery rock-dassie is an animal.\nEvery warthog is an animal.\nEvery carnivore is an animal.\nEvery herbivore is an animal.\nEvery elephant is a herbivore.\nEvery lion is carnivore.\n\nComment: 'There are also plants there:'.\nEvery tree is a plant.\nEvery grass is a plant.\nEvery palm-tree is a plant.\n\nEvery branch is a plant-part.\nEvery leaf is a plant-part.\nEvery twig is a plant-part.\n\nEvery phloem is a plant-part.\nEvery root is a plant-part.\nEvery parsnip is a root.\nEvery stem is a plant-part.\nEvery xylem is a plant-part.\nEvery fruiting-body is a plant-part.\nEvery berry is a fruiting-body.\nEvery apple is a fruiting-body.\n\nComment: 'We cannot use adjectives directly. To specify adjectives we need to transform them into sets that have form of buzzy-words'.\nEvery tasty-plant is a plant.\nEvery carnivorous-plant is a plant.\n"
      }
     },
     "ac2b910f6f714657b031543b3c3820f6": {
      "model_module": "@jupyter-widgets/base",
      "model_module_version": "1.1.0",
      "model_name": "LayoutModel",
      "state": {
       "height": "100%",
       "width": "90%"
      }
     },
     "acf1c5a99f7843fd8fe8da70d0aac47f": {
      "model_module": "ontoedit",
      "model_module_version": "1.1.0",
      "model_name": "OntoeditModel",
      "state": {
       "_model_module_version": "1.1.0",
       "_view_module_version": "",
       "cursor": 1198,
       "hints": "Every<br/>Every-single-thing<br/>If<br/>Leo<br/>No<br/>Nothing<br/>Something<br/>Sophie<br/>The<br/>X",
       "hintsX": 1198,
       "layout": "IPY_MODEL_1a817713ce83451c8259b7b8600da6fb",
       "value": "Title: 'African Wildlife'.\nAuthor: 'PaweĹ‚ KapĹ‚aĹ„ski'.\nBased-On: \n 'A Semantic Web Primer.'\n 'Antoniou, G, van Harmelen, F.'\n 'MIT Press, 2003.'\n 'http://www.csd.uoc.gr/~hy566/SWbook.pdf'\n.\n\nComment:\n////// Examples of Possible Questions  /////////////////////////////   \n//Who-Or-What:\n// * is a carnivore ?                                      \n// * is an herbivore ?                                         \n// * is an animal that eats grass ?                            \n// * is-part-of a tree ?  \n// * is eaten by lion?           \n////////////////////////////////////////////////////////////////////.\n\n\n\nPart-1: 'simple hierarchy of beings'.\n\nComment: 'Lets name our instances'.\nSophie is a giraffe.\nLeo is a lion.\n\nComment: 'Lets specify the hierarchy of beings'. \nComment: 'What is what?'.\nEvery lion is an animal.\nEvery giraffe is an animal.\n\nComment: 'Moreover'.\nEvery impala is an animal.\nEvery omnivore is an animal.\nEvery rock-dassie is an animal.\nEvery warthog is an animal.\nEvery carnivore is an animal.\nEvery herbivore is an animal.\nEvery elephant is a herbivore.\n\nComment: 'There are also plants there:'.\nEvery tree is a plant.\nEvery grass is a plant.\nEvery palm-tree is a plant.\n\nPart-2: adjectives and specifications.\n\nComment: 'We cannot use adjectives directly'.\nComment: 'To specify adjectives we need to transform them into sets that have form of buzzy-words'.\n\nEvery tasty-plant is a plant.\nEvery carnivorous-plant is a plant.\n\nComment: 'Similarly we can do to make something more and more specific'.\nEvery branch is a plant-part.\nEvery phloem is a plant-part.\nEvery root is a plant-part.\nEvery parsnip is a root.\nEvery stem is a plant-part.\nEvery twig is a plant-part.\nEvery xylem is a plant-part.\nEvery leaf is a plant-part.\nEvery fruiting-body is a plant-part.\nEvery berry is a fruiting-body.\nEvery apple is a fruiting-body.\n\nPart-3: Disjointness.\n\nComment: 'We deal with Open World Assumption, therefore we need to specify explicitly if two things are different'.\nComment: 'E.g.: We need to specify explicitly that animal is not a plant'.\nEvery animal is not a plant.\nEvery giraffe is not a lion.\nEvery palm-tree is not a tree.\n\nComment: 'Or we can use it - it means the same'.\nNo animal is a plant.\n\nPart-4: Simple relations.\n\nComment: To specify relation beetween beings.\nEvery lion eats an impala.\nEvery carnivorous-plant eats an animal.\n\nComment: 'I.e. be part of is a part-whole relation'.\nEvery branch is-part-of a tree.\nEvery plant-part is-proper-part-of a plant.\nEvery xylem is-proper-part-of a stem.\nEvery phloem is-proper-part-of a stem.\n\nComment:  'Specifying the range of relation. The difference? One is that lion eats impala. Second that it eats only herbivore' -> impala must be herbivore.\nEvery lion eats nothing-but herbivores.\n\nPart-5: 'Complex relations'.\n\nEvery palm-tree has-part that is not a branch.\nEvery warthog eats an animal and eats a fruiting-body and eats a grass and eats a root.\nEvery giraffe eats nothing-but things that are leaves and-or are twigs.\nEvery leaf is-part-of something that is a branch and-or is a twig.\nEvery tasty-plant is-eaten-by a carnivore and is-eaten-by a herbivore.\nEvery-single-thing eats nothing-but things that are animals and-or are plants and-or are-part-of animals and-or are-part-of plants.\n\nPart-6: 'Reflexion'.\n\nNothing is-proper-part-of itself.\n\nPart-7: Equivalence.\n\nComment: 'What it means to be a carnivore, omnivore or herbivore? We specify exact definitions here.'.\nEvery-single-thing that eats nothing-but animals and-or eats nothing-but things that are-part-of animals is a carnivore.\nSomething is an omnivore if-and-only-if-it eats an animal and eats a plant and eats something that is-part-of an animal and-or is-part-of a plant.\nSomething is a herbivore if-and-only-if-it eats nothing-but plants and-or eats nothing-but things that are-part-of plants.\n\nPart-8: 'Disjointness'.\n\nAnything either is a carnivore, is a herbivore or is an omnivore or-something-else.\nAnything either is a branch, is a leaf or is a twig or-something-else.\n\nPart-9: 'Relations between roles'.\n\nComment: 'Role equivalence and inverted roles'.\nX has-part Y if-and-only-if Y is-part-of X.\nX eats Y if-and-only-if Y is-eaten-by X.\n\nComment: 'Role subsumptions'.\nIf X is-proper-part-of Y then X is-part-of Y.\nIf X has-part something that has-part Y then X has-part Y.\n\nComment: 'Complex role subsumptions'.\nIf X is-part-of something that is-part-of Y then X is-part-of Y."
      }
     },
     "b0bf749d3aa54cb5876f768752e013e2": {
      "model_module": "@jupyter-widgets/base",
      "model_module_version": "1.1.0",
      "model_name": "LayoutModel",
      "state": {}
     },
     "b18557280c0d4e1b827179460da45136": {
      "model_module": "@jupyter-widgets/base",
      "model_module_version": "1.1.0",
      "model_name": "LayoutModel",
      "state": {
       "height": "100%",
       "width": "90%"
      }
     },
     "b3aca64dc8c740feae0ac17d0679814c": {
      "model_module": "@jupyter-widgets/output",
      "model_module_version": "1.0.0",
      "model_name": "OutputModel",
      "state": {
       "layout": "IPY_MODEL_0287b64412d1476fac61df9b498195e0"
      }
     },
     "b6c1708eb8ab423fbc381678654dde18": {
      "model_module": "ontoedit",
      "model_module_version": "1.1.0",
      "model_name": "OntoeditModel",
      "state": {
       "_model_module_version": "1.1.0",
       "_view_module_version": "",
       "cursor": 166,
       "hints": "&lt;Proper-Name&gt;<br/>Every<br/>Every-single-thing<br/>If<br/>No<br/>Nothing<br/>Something<br/>The<br/>X",
       "hintsX": 166,
       "layout": "IPY_MODEL_865ed95805f44073ac10f4b4757bd1a0",
       "value": "Comment: 'Lets name our instances'.\nComment: 'Lets specify the hierarchy of beings'. \nComment: 'What is what?'.\n\nEvery lion is an animal.\nEvery giraffe is an animal.\n\nComment: 'Moreover'.\nEvery impala is an animal.\nEvery omnivore is an animal.\nEvery rock-dassie is an animal.\nEvery warthog is an animal.\nEvery carnivore is an animal.\nEvery herbivore is an animal.\nEvery elephant is a herbivore.\nEvery lion is carnivore.\n\nComment: 'There are also plants there:'.\nEvery tree is a plant.\nEvery grass is a plant.\nEvery palm-tree is a plant.\n\nEvery branch is a plant-part.\nEvery leaf is a plant-part.\nEvery twig is a plant-part.\n\nEvery phloem is a plant-part.\nEvery root is a plant-part.\nEvery parsnip is a root.\nEvery stem is a plant-part.\nEvery xylem is a plant-part.\nEvery fruiting-body is a plant-part.\nEvery berry is a fruiting-body.\nEvery apple is a fruiting-body.\n\nComment: 'We cannot use adjectives directly. To specify adjectives we need to transform them into sets that have form of buzzy-words'.\nEvery tasty-plant is a plant.\nEvery carnivorous-plant is a plant.\n"
      }
     },
     "ba703b23f64a4ac9bc68ac9552802303": {
      "model_module": "@jupyter-widgets/base",
      "model_module_version": "1.1.0",
      "model_name": "LayoutModel",
      "state": {
       "height": "300px"
      }
     },
     "bb14a3aef3864813a7002faff9fc6b16": {
      "model_module": "ontoedit",
      "model_module_version": "1.1.0",
      "model_name": "OntoeditModel",
      "state": {
       "_model_module_version": "1.1.0",
       "_view_module_version": "",
       "cursor": 89,
       "hints": "&lt;natural number&gt;",
       "hintsX": 80,
       "layout": "IPY_MODEL_c17c106402064e86b728cf51a20e3f93",
       "value": "Leo-01 is a lion.\nLeo-01 eats Sophie-01.\nSophie-01 is a giraffe.\nSophie-01 eats Branch-01.\nMary-01 is a tree.\nBranch-01 is a branch and is-proper-part-of Mary-01.\n"
      }
     },
     "bfdcdc39eeb04946a97cd9562372bc04": {
      "model_module": "@jupyter-widgets/base",
      "model_module_version": "1.1.0",
      "model_name": "LayoutModel",
      "state": {
       "height": "100%",
       "width": "90%"
      }
     },
     "c17c106402064e86b728cf51a20e3f93": {
      "model_module": "@jupyter-widgets/base",
      "model_module_version": "1.1.0",
      "model_name": "LayoutModel",
      "state": {
       "height": "100%",
       "width": "90%"
      }
     },
     "c1e34aeacb524c99a1c32e8cc8c9413a": {
      "model_module": "@jupyter-widgets/base",
      "model_module_version": "1.1.0",
      "model_name": "LayoutModel",
      "state": {
       "height": "300px"
      }
     },
     "c370339aafb24857915cb2b2d2ab7980": {
      "model_module": "@jupyter-widgets/base",
      "model_module_version": "1.1.0",
      "model_name": "LayoutModel",
      "state": {}
     },
     "c3b494913b23455082fcb63616b57646": {
      "model_module": "@jupyter-widgets/controls",
      "model_module_version": "1.4.0",
      "model_name": "VBoxModel",
      "state": {
       "children": [
        "IPY_MODEL_075ca95d3ff64fdf8542061a5f907fdc",
        "IPY_MODEL_69339d07f80c4b42a0ca64e1e93f2940"
       ],
       "layout": "IPY_MODEL_ce2e3b8fdc324d989c349ad9a641ca61"
      }
     },
     "c4809ee837e84bbba2bd1dc44a5cdc69": {
      "model_module": "@jupyter-widgets/base",
      "model_module_version": "1.1.0",
      "model_name": "LayoutModel",
      "state": {}
     },
     "c7c7716cd5034ec7a3235e29964fa9d9": {
      "model_module": "@jupyter-widgets/output",
      "model_module_version": "1.0.0",
      "model_name": "OutputModel",
      "state": {
       "layout": "IPY_MODEL_ec97c88651864e3ca37f08c0e7906155"
      }
     },
     "c7fe458b7f814978a92e90b0b53c295c": {
      "model_module": "@jupyter-widgets/base",
      "model_module_version": "1.1.0",
      "model_name": "LayoutModel",
      "state": {
       "height": "300px"
      }
     },
     "cb714303465343599e7daddd09b77893": {
      "model_module": "@jupyter-widgets/base",
      "model_module_version": "1.1.0",
      "model_name": "LayoutModel",
      "state": {
       "height": "100%",
       "width": "90%"
      }
     },
     "cbb49564f07a44bdb9bdcc6dc6b14644": {
      "model_module": "@jupyter-widgets/base",
      "model_module_version": "1.1.0",
      "model_name": "LayoutModel",
      "state": {}
     },
     "cdb640c492eb40d986642b7b0cf89db1": {
      "model_module": "@jupyter-widgets/output",
      "model_module_version": "1.0.0",
      "model_name": "OutputModel",
      "state": {
       "layout": "IPY_MODEL_cbb49564f07a44bdb9bdcc6dc6b14644"
      }
     },
     "ce2e3b8fdc324d989c349ad9a641ca61": {
      "model_module": "@jupyter-widgets/base",
      "model_module_version": "1.1.0",
      "model_name": "LayoutModel",
      "state": {
       "height": "300px"
      }
     },
     "d66764a2add44d99aa42b9900ec34efa": {
      "model_module": "@jupyter-widgets/controls",
      "model_module_version": "1.4.0",
      "model_name": "VBoxModel",
      "state": {
       "children": [
        "IPY_MODEL_8299fafb9989402e9259aa0b848881e2",
        "IPY_MODEL_2ee595c943434b3288bd80d13a391707"
       ],
       "layout": "IPY_MODEL_260916fd573c4e118c8d6fdeed6c1d4d"
      }
     },
     "d6c24200739c486fa395a2d6f15f4c29": {
      "model_module": "@jupyter-widgets/controls",
      "model_module_version": "1.4.0",
      "model_name": "VBoxModel",
      "state": {
       "children": [
        "IPY_MODEL_b6c1708eb8ab423fbc381678654dde18",
        "IPY_MODEL_91212d33087f4872ab96d1d2adac582a"
       ],
       "layout": "IPY_MODEL_d786ada62a30448b8081a35a036fbf3d"
      }
     },
     "d786ada62a30448b8081a35a036fbf3d": {
      "model_module": "@jupyter-widgets/base",
      "model_module_version": "1.1.0",
      "model_name": "LayoutModel",
      "state": {
       "height": "300px"
      }
     },
     "d810833472c54ff1a38f821261445bdb": {
      "model_module": "@jupyter-widgets/base",
      "model_module_version": "1.1.0",
      "model_name": "LayoutModel",
      "state": {}
     },
     "d8f23781ffc74fb797fe78016d7b58e4": {
      "model_module": "@jupyter-widgets/base",
      "model_module_version": "1.1.0",
      "model_name": "LayoutModel",
      "state": {
       "height": "100%",
       "width": "90%"
      }
     },
     "d9c2b88b505b48a4b6c2c57cd93f7776": {
      "model_module": "@jupyter-widgets/base",
      "model_module_version": "1.1.0",
      "model_name": "LayoutModel",
      "state": {}
     },
     "d9cb1abd82e245e987efdff390856b01": {
      "model_module": "@jupyter-widgets/base",
      "model_module_version": "1.1.0",
      "model_name": "LayoutModel",
      "state": {}
     },
     "daee7295113f4ab588ec50dacbc01003": {
      "model_module": "@jupyter-widgets/base",
      "model_module_version": "1.1.0",
      "model_name": "LayoutModel",
      "state": {}
     },
     "db4059a12cb34224934499d5b329f6c6": {
      "model_module": "@jupyter-widgets/base",
      "model_module_version": "1.1.0",
      "model_name": "LayoutModel",
      "state": {}
     },
     "db6bc8d6d0d54e2484718dee857e30e1": {
      "model_module": "@jupyter-widgets/base",
      "model_module_version": "1.1.0",
      "model_name": "LayoutModel",
      "state": {}
     },
     "dc33986a1b82473796f0e43e7b8960d2": {
      "model_module": "@jupyter-widgets/controls",
      "model_module_version": "1.4.0",
      "model_name": "VBoxModel",
      "state": {
       "children": [
        "IPY_MODEL_490fd126b35c4016a45f2265268f5ef0",
        "IPY_MODEL_27ad5c8d383e457a9920d5cb29f64853"
       ],
       "layout": "IPY_MODEL_f2d6e500963644e1ace9c82d3d895f68"
      }
     },
     "dd75b77ca52a43a9868c62b289a4e4e1": {
      "model_module": "@jupyter-widgets/output",
      "model_module_version": "1.0.0",
      "model_name": "OutputModel",
      "state": {
       "layout": "IPY_MODEL_db6bc8d6d0d54e2484718dee857e30e1"
      }
     },
     "df07f4cbd3574e08868b7543bb5cb15a": {
      "model_module": "@jupyter-widgets/base",
      "model_module_version": "1.1.0",
      "model_name": "LayoutModel",
      "state": {
       "height": "100%",
       "width": "90%"
      }
     },
     "df45bd0d614e4f8dbc1d38058dc993e7": {
      "model_module": "@jupyter-widgets/base",
      "model_module_version": "1.1.0",
      "model_name": "LayoutModel",
      "state": {
       "height": "300px"
      }
     },
     "df59fa382ea5464699bf03b221ac05e1": {
      "model_module": "@jupyter-widgets/base",
      "model_module_version": "1.1.0",
      "model_name": "LayoutModel",
      "state": {}
     },
     "e18af0cea30b4af3a6cf1099f055219c": {
      "model_module": "@jupyter-widgets/controls",
      "model_module_version": "1.4.0",
      "model_name": "VBoxModel",
      "state": {
       "children": [
        "IPY_MODEL_e1d32be0fd784adb901538ecaea234af",
        "IPY_MODEL_e5a39ffce83d482a9bb07ef05f75f0c2"
       ],
       "layout": "IPY_MODEL_ba703b23f64a4ac9bc68ac9552802303"
      }
     },
     "e1d32be0fd784adb901538ecaea234af": {
      "model_module": "ontoedit",
      "model_module_version": "1.1.0",
      "model_name": "OntoeditModel",
      "state": {
       "_model_module_version": "1.1.0",
       "_view_module_version": "",
       "layout": "IPY_MODEL_a23f3db72e844fd38d5d05b950980e06",
       "value": "Every-single-thing that is a plant and-or is a plant-part is a herb.\nNo herb is an animal.\n\nEvery carnivore eats nothing-but animals.\nEvery lion eats nothing-but herbivores.\n\nEvery herbivore eats nothing-but herb.\n\nAnything either is a carnivore, is a herbivore or is an omnivore or-something-else.\nAnything either is a branch, is a leaf or is a twig or-something-else.\n\nNo giraffe is a lion.\nEvery palm-tree is not a tree.\n"
      }
     },
     "e26922aed1324c3cb824535d8f1eba7a": {
      "model_module": "@jupyter-widgets/output",
      "model_module_version": "1.0.0",
      "model_name": "OutputModel",
      "state": {
       "layout": "IPY_MODEL_08a658b923de47b7add2517b8353da1a"
      }
     },
     "e278e56780d1428c826f7d861d407183": {
      "model_module": "@jupyter-widgets/base",
      "model_module_version": "1.1.0",
      "model_name": "LayoutModel",
      "state": {
       "height": "300px"
      }
     },
     "e445e8ca520940b8aa5759ab19428243": {
      "model_module": "@jupyter-widgets/base",
      "model_module_version": "1.1.0",
      "model_name": "LayoutModel",
      "state": {
       "height": "300px"
      }
     },
     "e47665c42c1e462aa1fcecac0816fa09": {
      "model_module": "@jupyter-widgets/controls",
      "model_module_version": "1.4.0",
      "model_name": "VBoxModel",
      "state": {
       "children": [
        "IPY_MODEL_1d27dea574734e228e02e981579f0e48",
        "IPY_MODEL_3e2147d0702741bbb1963715683ba2ff"
       ],
       "layout": "IPY_MODEL_704fa12b89334f67b30097d1c39534c9"
      }
     },
     "e4e340eba47048e182a7727741432dc5": {
      "model_module": "@jupyter-widgets/controls",
      "model_module_version": "1.4.0",
      "model_name": "VBoxModel",
      "state": {
       "children": [
        "IPY_MODEL_a83fc2b5087147fda70ef91ec71c9636",
        "IPY_MODEL_0529b65148e34a3f84378822394dbb23"
       ],
       "layout": "IPY_MODEL_46b6bc391f7d47cb95796e1c5effa3cb"
      }
     },
     "e5a39ffce83d482a9bb07ef05f75f0c2": {
      "model_module": "@jupyter-widgets/output",
      "model_module_version": "1.0.0",
      "model_name": "OutputModel",
      "state": {
       "layout": "IPY_MODEL_efae18bdcab04718b11c37b244e41d0f"
      }
     },
     "e736dda042e74aac96c321bed782241e": {
      "model_module": "ontoedit",
      "model_module_version": "1.1.0",
      "model_name": "OntoeditModel",
      "state": {
       "_model_module_version": "1.1.0",
       "_view_module_version": "",
       "layout": "IPY_MODEL_34a127ddc9f3425d855562e734e8582e"
      }
     },
     "e87806312d1343ce83bb2bb743ba1b80": {
      "model_module": "@jupyter-widgets/base",
      "model_module_version": "1.1.0",
      "model_name": "LayoutModel",
      "state": {}
     },
     "ea50e21fc54b4d97b922faa6337bdfe7": {
      "model_module": "@jupyter-widgets/base",
      "model_module_version": "1.1.0",
      "model_name": "LayoutModel",
      "state": {}
     },
     "ec97c88651864e3ca37f08c0e7906155": {
      "model_module": "@jupyter-widgets/base",
      "model_module_version": "1.1.0",
      "model_name": "LayoutModel",
      "state": {}
     },
     "edb2db2d34c248249a938a00c0f98a07": {
      "model_module": "@jupyter-widgets/base",
      "model_module_version": "1.1.0",
      "model_name": "LayoutModel",
      "state": {}
     },
     "edfd7c1406474ef8b6008fa01533a9f1": {
      "model_module": "@jupyter-widgets/output",
      "model_module_version": "1.0.0",
      "model_name": "OutputModel",
      "state": {
       "layout": "IPY_MODEL_d9cb1abd82e245e987efdff390856b01"
      }
     },
     "ee2dd188cbe048cd98f09aa693d4aae4": {
      "model_module": "@jupyter-widgets/controls",
      "model_module_version": "1.4.0",
      "model_name": "VBoxModel",
      "state": {
       "children": [
        "IPY_MODEL_bb14a3aef3864813a7002faff9fc6b16",
        "IPY_MODEL_ef6cc581fc9c483fa9f40c0299bb4106"
       ],
       "layout": "IPY_MODEL_88e3f3eb628649cbaa595601364bada4"
      }
     },
     "ef6cc581fc9c483fa9f40c0299bb4106": {
      "model_module": "@jupyter-widgets/output",
      "model_module_version": "1.0.0",
      "model_name": "OutputModel",
      "state": {
       "layout": "IPY_MODEL_1786ad24fa9d463aa9ad86dcacd6b971"
      }
     },
     "efae18bdcab04718b11c37b244e41d0f": {
      "model_module": "@jupyter-widgets/base",
      "model_module_version": "1.1.0",
      "model_name": "LayoutModel",
      "state": {}
     },
     "f0f6655efb3d4a67824e88522b093252": {
      "model_module": "@jupyter-widgets/controls",
      "model_module_version": "1.4.0",
      "model_name": "VBoxModel",
      "state": {
       "children": [
        "IPY_MODEL_687f88667abb40929c0d1ac2acbc9281",
        "IPY_MODEL_2401f4a10a284f68920b1eb13a0ef3f1"
       ],
       "layout": "IPY_MODEL_08826d1d1e2d4efa9364b5d2bafa3c93"
      }
     },
     "f1b9951724734f07987cdd4aef154383": {
      "model_module": "@jupyter-widgets/controls",
      "model_module_version": "1.4.0",
      "model_name": "VBoxModel",
      "state": {
       "children": [
        "IPY_MODEL_acf1c5a99f7843fd8fe8da70d0aac47f",
        "IPY_MODEL_8b52933a93d84df1bc039f960cacf560"
       ],
       "layout": "IPY_MODEL_e445e8ca520940b8aa5759ab19428243"
      }
     },
     "f2d6e500963644e1ace9c82d3d895f68": {
      "model_module": "@jupyter-widgets/base",
      "model_module_version": "1.1.0",
      "model_name": "LayoutModel",
      "state": {
       "height": "300px"
      }
     },
     "f2dac51fb55347f2bf9f5f781b9e4558": {
      "model_module": "@jupyter-widgets/base",
      "model_module_version": "1.1.0",
      "model_name": "LayoutModel",
      "state": {}
     },
     "f4ea8cdd8b5c4157a727af4af9d67cb3": {
      "model_module": "@jupyter-widgets/base",
      "model_module_version": "1.1.0",
      "model_name": "LayoutModel",
      "state": {
       "height": "100%",
       "width": "90%"
      }
     },
     "f7410d5947704d05b636e488c607ec0e": {
      "model_module": "@jupyter-widgets/base",
      "model_module_version": "1.1.0",
      "model_name": "LayoutModel",
      "state": {
       "height": "100%",
       "width": "90%"
      }
     },
     "f79246661c1941fb8047812a618edbea": {
      "model_module": "@jupyter-widgets/base",
      "model_module_version": "1.1.0",
      "model_name": "LayoutModel",
      "state": {
       "height": "100px"
      }
     },
     "f7e95e3d43544ddfb6c69338a006cace": {
      "model_module": "@jupyter-widgets/base",
      "model_module_version": "1.1.0",
      "model_name": "LayoutModel",
      "state": {
       "height": "300px"
      }
     },
     "f81355e7f2a34681bf8ca14e71dbf938": {
      "model_module": "@jupyter-widgets/output",
      "model_module_version": "1.0.0",
      "model_name": "OutputModel",
      "state": {
       "layout": "IPY_MODEL_edb2db2d34c248249a938a00c0f98a07"
      }
     },
     "f81dc3d2747142f9ac59bd2ccb85dc67": {
      "model_module": "@jupyter-widgets/output",
      "model_module_version": "1.0.0",
      "model_name": "OutputModel",
      "state": {
       "layout": "IPY_MODEL_5f92d7eda9e4489591fce827af8d659b"
      }
     }
    },
    "version_major": 2,
    "version_minor": 0
   }
  }
 },
 "nbformat": 4,
 "nbformat_minor": 2
}
