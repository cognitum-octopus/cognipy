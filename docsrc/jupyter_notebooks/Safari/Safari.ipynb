{
 "cells": [
  {
   "cell_type": "markdown",
   "metadata": {},
   "source": [
    "# Safari"
   ]
  },
  {
   "cell_type": "markdown",
   "metadata": {},
   "source": [
    "**Setting up the environment**\n",
    "Initialization of the Ontology editor in Jupyter Notebook"
   ]
  },
  {
   "cell_type": "code",
   "execution_count": 1,
   "metadata": {},
   "outputs": [],
   "source": [
    "from cognipy.ontology import Ontology #the ontology processing class\n",
    "from cognipy.ontology import CQL #SPARQL format tailored for Contolled Natural Language\n",
    "from cognipy.edit import CnlEditBox #The pywidget based ontology editor (offspirng of the Fluent Editor)\n",
    "from cognipy.edit import CnlQueryForConcept #The pywidget based ontology quaty widget \n",
    "from cognipy.ontology import encode_string_for_graph_label #complex datatypes encoder for the graph labels in graph visualisation\n",
    "import textwrap\n",
    "\n",
    "def graph_attribute_formatter(val):\n",
    "    if isinstance(val,list) or isinstance(val,set):\n",
    "        return \" | \".join(list(map(lambda i:encode_string_for_graph_label(graph_attribute_formatter(i)),val)))\n",
    "    elif isinstance(val,dict):\n",
    "        return \" | \".join(list(map(lambda i:i[0]+\" : \"+encode_string_for_graph_label(graph_attribute_formatter(i[1])),val.items())))\n",
    "    else:\n",
    "        return encode_string_for_graph_label(textwrap.fill(str(val),40))"
   ]
  },
  {
   "cell_type": "markdown",
   "metadata": {},
   "source": [
    "### African Wildlife.\n",
    "Loading the editor for the basic \"safari\" ontology. The Ontology is inspired by 'A Semantic Web Primer.' by 'Antoniou, G, van Harmelen, F.' 'MIT Press, 2003.' 'http://www.csd.uoc.gr/~hy566/SWbook.pdf', tuned to OWL/RL+SWRL profile."
   ]
  },
  {
   "cell_type": "markdown",
   "metadata": {},
   "source": [
    "### Part-1: 'simple hierarchy of beings'. "
   ]
  },
  {
   "cell_type": "markdown",
   "metadata": {},
   "source": [
    "We will have many editors here and we will store all of them in the dict"
   ]
  },
  {
   "cell_type": "code",
   "execution_count": 2,
   "metadata": {},
   "outputs": [],
   "source": [
    "parts_editors={}"
   ]
  },
  {
   "cell_type": "markdown",
   "metadata": {},
   "source": [
    "Lets setup the fist ontology editor for the general knowledge. The editor allows you to enter the knowledge in text format, and support you with the prdictive editor."
   ]
  },
  {
   "cell_type": "code",
   "execution_count": 3,
   "metadata": {},
   "outputs": [
    {
     "data": {
      "application/javascript": [
       "/* jshint browser: true */\n",
       "\n",
       "(function () {\n",
       "\n",
       "// We'll copy the properties below into the mirror div.\n",
       "// Note that some browsers, such as Firefox, do not concatenate properties\n",
       "// into their shorthand (e.g. padding-top, padding-bottom etc. -> padding),\n",
       "// so we have to list every single property explicitly.\n",
       "var properties = [\n",
       "  'direction',  // RTL support\n",
       "  'boxSizing',\n",
       "  'width',  // on Chrome and IE, exclude the scrollbar, so the mirror div wraps exactly as the textarea does\n",
       "  'height',\n",
       "  'overflowX',\n",
       "  'overflowY',  // copy the scrollbar for IE\n",
       "\n",
       "  'borderTopWidth',\n",
       "  'borderRightWidth',\n",
       "  'borderBottomWidth',\n",
       "  'borderLeftWidth',\n",
       "  'borderStyle',\n",
       "\n",
       "  'paddingTop',\n",
       "  'paddingRight',\n",
       "  'paddingBottom',\n",
       "  'paddingLeft',\n",
       "\n",
       "  // https://developer.mozilla.org/en-US/docs/Web/CSS/font\n",
       "  'fontStyle',\n",
       "  'fontVariant',\n",
       "  'fontWeight',\n",
       "  'fontStretch',\n",
       "  'fontSize',\n",
       "  'fontSizeAdjust',\n",
       "  'lineHeight',\n",
       "  'fontFamily',\n",
       "\n",
       "  'textAlign',\n",
       "  'textTransform',\n",
       "  'textIndent',\n",
       "  'textDecoration',  // might not make a difference, but better be safe\n",
       "\n",
       "  'letterSpacing',\n",
       "  'wordSpacing',\n",
       "\n",
       "  'tabSize',\n",
       "  'MozTabSize'\n",
       "\n",
       "];\n",
       "\n",
       "var isBrowser = (typeof window !== 'undefined');\n",
       "var isFirefox = (isBrowser && window.mozInnerScreenX != null);\n",
       "\n",
       "function getCaretCoordinates(element, position, options) {\n",
       "  if (!isBrowser) {\n",
       "    throw new Error('textarea-caret-position#getCaretCoordinates should only be called in a browser');\n",
       "  }\n",
       "\n",
       "  var debug = options && options.debug || false;\n",
       "  if (debug) {\n",
       "    var el = document.querySelector('#input-textarea-caret-position-mirror-div');\n",
       "    if (el) el.parentNode.removeChild(el);\n",
       "  }\n",
       "\n",
       "  // The mirror div will replicate the textarea's style\n",
       "  var div = document.createElement('div');\n",
       "  div.id = 'input-textarea-caret-position-mirror-div';\n",
       "  document.body.appendChild(div);\n",
       "\n",
       "  var style = div.style;\n",
       "  var computed = window.getComputedStyle ? window.getComputedStyle(element) : element.currentStyle;  // currentStyle for IE < 9\n",
       "  var isInput = element.nodeName === 'INPUT';\n",
       "\n",
       "  // Default textarea styles\n",
       "  style.whiteSpace = 'pre-wrap';\n",
       "  if (!isInput)\n",
       "    style.wordWrap = 'break-word';  // only for textarea-s\n",
       "\n",
       "  // Position off-screen\n",
       "  style.position = 'absolute';  // required to return coordinates properly\n",
       "  if (!debug)\n",
       "    style.visibility = 'hidden';  // not 'display: none' because we want rendering\n",
       "\n",
       "  // Transfer the element's properties to the div\n",
       "  properties.forEach(function (prop) {\n",
       "    if (isInput && prop === 'lineHeight') {\n",
       "      // Special case for <input>s because text is rendered centered and line height may be != height\n",
       "      if (computed.boxSizing === \"border-box\") {\n",
       "        var height = parseInt(computed.height);\n",
       "        var outerHeight =\n",
       "          parseInt(computed.paddingTop) +\n",
       "          parseInt(computed.paddingBottom) +\n",
       "          parseInt(computed.borderTopWidth) +\n",
       "          parseInt(computed.borderBottomWidth);\n",
       "        var targetHeight = outerHeight + parseInt(computed.lineHeight);\n",
       "        if (height > targetHeight) {\n",
       "          style.lineHeight = height - outerHeight + \"px\";\n",
       "        } else if (height === targetHeight) {\n",
       "          style.lineHeight = computed.lineHeight;\n",
       "        } else {\n",
       "          style.lineHeight = 0;\n",
       "        }\n",
       "      } else {\n",
       "        style.lineHeight = computed.height;\n",
       "      }\n",
       "    } else {\n",
       "      style[prop] = computed[prop];\n",
       "    }\n",
       "  });\n",
       "\n",
       "  if (isFirefox) {\n",
       "    // Firefox lies about the overflow property for textareas: https://bugzilla.mozilla.org/show_bug.cgi?id=984275\n",
       "    if (element.scrollHeight > parseInt(computed.height))\n",
       "      style.overflowY = 'scroll';\n",
       "  } else {\n",
       "    style.overflow = 'hidden';  // for Chrome to not render a scrollbar; IE keeps overflowY = 'scroll'\n",
       "  }\n",
       "\n",
       "  div.textContent = element.value.substring(0, position);\n",
       "  // The second special handling for input type=\"text\" vs textarea:\n",
       "  // spaces need to be replaced with non-breaking spaces - http://stackoverflow.com/a/13402035/1269037\n",
       "  if (isInput)\n",
       "    div.textContent = div.textContent.replace(/\\s/g, '\\u00a0');\n",
       "\n",
       "  var span = document.createElement('span');\n",
       "  // Wrapping must be replicated *exactly*, including when a long word gets\n",
       "  // onto the next line, with whitespace at the end of the line before (#7).\n",
       "  // The  *only* reliable way to do that is to copy the *entire* rest of the\n",
       "  // textarea's content into the <span> created at the caret position.\n",
       "  // For inputs, just '.' would be enough, but no need to bother.\n",
       "  span.textContent = element.value.substring(position) || '.';  // || because a completely empty faux span doesn't render at all\n",
       "  div.appendChild(span);\n",
       "\n",
       "  var coordinates = {\n",
       "    top: span.offsetTop + parseInt(computed['borderTopWidth']),\n",
       "    left: span.offsetLeft + parseInt(computed['borderLeftWidth']),\n",
       "    height: parseInt(computed['lineHeight'])\n",
       "  };\n",
       "\n",
       "  if (debug) {\n",
       "    span.style.backgroundColor = '#aaa';\n",
       "  } else {\n",
       "    document.body.removeChild(div);\n",
       "  }\n",
       "\n",
       "  return coordinates;\n",
       "}\n",
       "\n",
       "if (typeof module != 'undefined' && typeof module.exports != 'undefined') {\n",
       "  module.exports = getCaretCoordinates;\n",
       "} else if(isBrowser) {\n",
       "  window.getCaretCoordinates = getCaretCoordinates;\n",
       "}\n",
       "\n",
       "}());\n",
       "\n",
       "require.undef('ontoedit');\n",
       "\n",
       "define('ontoedit', [\"@jupyter-widgets/base\"], function(widgets) {\n",
       "\n",
       "    var OntoeditModel = widgets.TextareaModel.extend({\n",
       "\n",
       "        defaults: $.extend(widgets.TextareaModel.prototype.defaults(), {\n",
       "            _model_name: \"OntoeditModel\",\n",
       "            _view_name: \"OntoeditView\",\n",
       "            _model_module: \"ontoedit\",\n",
       "            _view_module: \"ontoedit\",\n",
       "            rows: null,\n",
       "            continuous_update: true,\n",
       "            cursor: 0,\n",
       "            dot:0,\n",
       "            hints:'',\n",
       "            hintsX:0,\n",
       "            hintT:''\n",
       "        })\n",
       "    });\n",
       "\n",
       "    var OntoeditView = widgets.TextareaView.extend({\n",
       "\n",
       "        render: function() {\n",
       "            OntoeditView.__super__.render.apply(this, arguments);\n",
       "            this.model.on('change:hints', this.hints_changed, this);\n",
       "            this.model.on('change:hintsX', this.hintsX_changed, this);\n",
       "\n",
       "            var model = this.model;\n",
       "            var that = this;\n",
       "\n",
       "            var last_position = 0;\n",
       "\n",
       "            function cursor_changed(element) {\n",
       "                var new_position = getCursorPosition(element);\n",
       "                if (new_position !== last_position) {\n",
       "                    last_position = new_position;\n",
       "                    return true;\n",
       "                }\n",
       "                return false;\n",
       "            }\n",
       "\n",
       "            function getCursorPosition(element) {\n",
       "                var el = $(element).get(0);\n",
       "                var pos = 0;\n",
       "                if ('selectionStart' in el) {\n",
       "                    pos = el.selectionStart;\n",
       "                } else if ('selection' in document) {\n",
       "                    el.focus();\n",
       "                    var Sel = document.selection.createRange();\n",
       "                    var SelLength = document.selection.createRange().text.length;\n",
       "                    Sel.moveStart('character', -el.value.length);\n",
       "                    pos = Sel.text.length - SelLength;\n",
       "                }\n",
       "                return pos;\n",
       "            }\n",
       "\n",
       "            var oldVal = \"\";\n",
       "\n",
       "            this.dd=$('<div style=\"-moz-appearance: textfield-multiline;-webkit-appearance: textarea;font: medium -moz-fixed; font: -webkit-small-control; position: absolute;z-index: 1; background-color:navy;color:white;box-shadow: 0px 8px 16px 0px rgba(0,0,0,0.4); \"/>')\n",
       "\n",
       "            $(this.el).bind(\"click keyup focus\",function(e){\n",
       "                if (that.dd.get(0).style.visibility!=\"visible\")\n",
       "                    return;\n",
       "                \n",
       "                var ele=$($(that.el).children(\"textarea\")[0])\n",
       "\n",
       "                if(cursor_changed(ele)){\n",
       "                   var  cursor = getCursorPosition(ele);\n",
       "//                    console.log(cursor);\n",
       "//                    console.log('(top, left, height) = (%s, %s, %s)', caret.top, caret.left, caret.height);\n",
       "                    model.set('cursor',cursor);\n",
       "//                    console.log(cursor)\n",
       "                    that.touch();\n",
       "                }\n",
       "            });\n",
       "\n",
       "            $($(this.el).children(\"textarea\")[0]).bind(\"blur\",function(e){\n",
       "//                console.log(\"blur\")\n",
       "                  model.set('dot',model.get('dot')+1);\n",
       "                  that.touch();\n",
       "                that.dd.get(0).style.visibility=\"hidden\";\n",
       "            });\n",
       "\n",
       "            $($(this.el).children(\"textarea\")[0]).bind(\"keydown\",function(e){\n",
       "                  if (String.fromCharCode(event.which)=='\\t')\n",
       "                  {\n",
       "                        if (that.dd.get(0).style.visibility!=\"visible\")\n",
       "                        {\n",
       "                            var ele=$($(that.el).children(\"textarea\")[0])\n",
       "\n",
       "                            if(cursor_changed(ele)){\n",
       "                               var  cursor = getCursorPosition(ele);\n",
       "            //                    console.log(cursor);\n",
       "            //                    console.log('(top, left, height) = (%s, %s, %s)', caret.top, caret.left, caret.height);\n",
       "                                model.set('cursor',cursor);\n",
       "            //                    console.log(cursor)\n",
       "                                that.touch();\n",
       "                                that.dd.get(0).style.visibility=\"visible\";\n",
       "                            }\n",
       "                        }\n",
       "//                      console.log(model.get('hintT'));\n",
       "                      var target=$($(that.el).children(\"textarea\")[0])\n",
       "                      var curpos = getCursorPosition(target)\n",
       "                      var off=curpos-model.get('hintsX')\n",
       "                      var data = model.get('hintT').slice(off)\n",
       "//                      console.log(off)\n",
       "\n",
       "                      if (target.setRangeText) {\n",
       "                         //if setRangeText function is supported by current browser\n",
       "                         target.setRangeText(data)\n",
       "                      } else {\n",
       "                        target.focus()\n",
       "                        document.execCommand('insertText', false /*no UI*/, data);\n",
       "                      }\n",
       "                      e.preventDefault();\n",
       "                      return;\n",
       "                  }\n",
       "                  else if (event.key=='.')\n",
       "                  {\n",
       "                      model.set('dot',model.get('dot')+1);\n",
       "                      that.touch();\n",
       "                  }\n",
       "                  else if(event.key== \"Escape\")\n",
       "                  {\n",
       "                    that.dd.get(0).style.visibility=\"hidden\";\n",
       "                  }\n",
       "            });\n",
       "\n",
       "            // this.el represents the widget's DOM\n",
       "            $(this.el)\n",
       "            .append(this.dd)\n",
       "        },\n",
       "\n",
       "        hints_changed: function() {\n",
       "            var that = this;\n",
       "            var model = this.model;\n",
       "            that.dd.get(0).innerHTML=model.get('hints')\n",
       "//            console.log(model.get('hints'))\n",
       "        },\n",
       "        hintsX_changed: function() {\n",
       "            var that = this;\n",
       "            var model = this.model;\n",
       "            var ele=$($(that.el).children(\"textarea\")[0]);\n",
       "            element=ele.get(0);\n",
       "            var caret = getCaretCoordinates(ele.get(0), model.get('hintsX'));\n",
       "            that.dd.get(0).style.top = element.offsetTop - element.scrollTop + caret.top+ caret.height-5 + 'px';\n",
       "            that.dd.get(0).style.left = element.offsetLeft - element.scrollLeft + caret.left + 'px';\n",
       "//            that.dd.get(0).style.width = '20%';\n",
       "//            that.dd.get(0).style.height = '50%';\n",
       "            that.dd.get(0).style.fontFamily=element.style.fontFamily;\n",
       "            that.dd.get(0).style.fontSize=element.style.fontSize;\n",
       "//                        console.log(model.get('hintsX'))\n",
       "        },\n",
       "    });\n",
       "\n",
       "    return {\n",
       "        OntoeditModel : OntoeditModel,\n",
       "        OntoeditView : OntoeditView\n",
       "    };\n",
       "});\n"
      ],
      "text/plain": [
       "<IPython.core.display.Javascript object>"
      ]
     },
     "metadata": {},
     "output_type": "display_data"
    },
    {
     "data": {
      "text/html": [
       "Welcome to CogniPy"
      ],
      "text/plain": [
       "<IPython.core.display.HTML object>"
      ]
     },
     "metadata": {},
     "output_type": "display_data"
    },
    {
     "data": {
      "application/vnd.jupyter.widget-view+json": {
       "model_id": "d57f6e38f7004528888075094f48a5c5",
       "version_major": 2,
       "version_minor": 0
      },
      "text/plain": [
       "VBox(children=(Output(), OntoeditWidget(layout=Layout(height='100%', width='90%'), value=\"Namespace: 'http://c…"
      ]
     },
     "metadata": {},
     "output_type": "display_data"
    }
   ],
   "source": [
    "parts_editors['01']=CnlEditBox('part_01.encnl')\n",
    "parts_editors['01']"
   ]
  },
  {
   "cell_type": "markdown",
   "metadata": {},
   "source": [
    "Lets define the function that will build the ontology based on the dict of ontology editors and the optional additional editor for testing purposes. All it is doing it is concatenaiting the values of all the editors and puts them into the newly created ontology object."
   ]
  },
  {
   "cell_type": "code",
   "execution_count": 4,
   "metadata": {},
   "outputs": [],
   "source": [
    "def buildOntology(parts_editors,test_editor=None):\n",
    "    return Ontology(\"cnl/string\",\n",
    "                    \"\\n\\n\".join(k.getvalue() for k in parts_editors.values())+('' if test_editor is None else test_editor.getvalue()), \n",
    "                    evaluator = lambda e:eval(e,globals(),locals()), \n",
    "                    graph_attribute_formatter = graph_attribute_formatter)"
   ]
  },
  {
   "cell_type": "markdown",
   "metadata": {},
   "source": [
    "The ontology object alows you to draw the materialised graph using several layout algorythms. Lets draw our base ontology."
   ]
  },
  {
   "cell_type": "code",
   "execution_count": 5,
   "metadata": {},
   "outputs": [
    {
     "data": {
      "image/svg+xml": [
       "<svg height=\"191pt\" viewBox=\"0.00 0.00 1526.00 191.00\" width=\"1526pt\" xmlns=\"http://www.w3.org/2000/svg\" xmlns:xlink=\"http://www.w3.org/1999/xlink\">\n",
       "<g class=\"graph\" id=\"graph0\" transform=\"scale(1 1) rotate(0) translate(4 187)\">\n",
       "<title>G</title>\n",
       "<polygon fill=\"white\" points=\"-4,4 -4,-187 1522,-187 1522,4 -4,4\" stroke=\"none\"/>\n",
       "<!-- tasty&#45;plant -->\n",
       "<g class=\"node\" id=\"node1\"><title>tasty-plant</title>\n",
       "<path d=\"M12,-73.5C12,-73.5 50,-73.5 50,-73.5 56,-73.5 62,-79.5 62,-85.5 62,-85.5 62,-97.5 62,-97.5 62,-103.5 56,-109.5 50,-109.5 50,-109.5 12,-109.5 12,-109.5 6,-109.5 0,-103.5 0,-97.5 0,-97.5 0,-85.5 0,-85.5 0,-79.5 6,-73.5 12,-73.5\" fill=\"aliceblue\" stroke=\"black\" stroke-width=\"0.5\"/>\n",
       "<text font-family=\"Times New Roman,serif\" font-size=\"11.00\" text-anchor=\"middle\" x=\"31\" y=\"-88.7\">tasty-plant</text>\n",
       "</g>\n",
       "<!-- plant -->\n",
       "<g class=\"node\" id=\"node2\"><title>plant</title>\n",
       "<path d=\"M205,-146.5C205,-146.5 235,-146.5 235,-146.5 241,-146.5 247,-152.5 247,-158.5 247,-158.5 247,-170.5 247,-170.5 247,-176.5 241,-182.5 235,-182.5 235,-182.5 205,-182.5 205,-182.5 199,-182.5 193,-176.5 193,-170.5 193,-170.5 193,-158.5 193,-158.5 193,-152.5 199,-146.5 205,-146.5\" fill=\"aliceblue\" stroke=\"black\" stroke-width=\"0.5\"/>\n",
       "<text font-family=\"Times New Roman,serif\" font-size=\"11.00\" text-anchor=\"middle\" x=\"220\" y=\"-161.7\">plant</text>\n",
       "</g>\n",
       "<!-- plant&#45;&#45;tasty&#45;plant -->\n",
       "<g class=\"edge\" id=\"edge1\"><title>plant--tasty-plant</title>\n",
       "<path d=\"M183.149,-151.047C152.835,-140.617 108.86,-125.059 71,-110 68.1827,-108.879 65.2692,-107.682 62.3584,-106.458\" fill=\"none\" stroke=\"black\" stroke-width=\"0.5\"/>\n",
       "<polygon fill=\"none\" points=\"182.282,-154.45 192.877,-154.379 184.551,-147.827 182.282,-154.45\" stroke=\"black\" stroke-width=\"0.5\"/>\n",
       "</g>\n",
       "<!-- carnivorous&#45;plant -->\n",
       "<g class=\"node\" id=\"node15\"><title>carnivorous-plant</title>\n",
       "<path d=\"M92,-73.5C92,-73.5 160,-73.5 160,-73.5 166,-73.5 172,-79.5 172,-85.5 172,-85.5 172,-97.5 172,-97.5 172,-103.5 166,-109.5 160,-109.5 160,-109.5 92,-109.5 92,-109.5 86,-109.5 80,-103.5 80,-97.5 80,-97.5 80,-85.5 80,-85.5 80,-79.5 86,-73.5 92,-73.5\" fill=\"aliceblue\" stroke=\"black\" stroke-width=\"0.5\"/>\n",
       "<text font-family=\"Times New Roman,serif\" font-size=\"11.00\" text-anchor=\"middle\" x=\"126\" y=\"-88.7\">carnivorous-plant</text>\n",
       "</g>\n",
       "<!-- plant&#45;&#45;carnivorous&#45;plant -->\n",
       "<g class=\"edge\" id=\"edge12\"><title>plant--carnivorous-plant</title>\n",
       "<path d=\"M188.903,-140.012C175.716,-130.051 160.634,-118.66 148.545,-109.529\" fill=\"none\" stroke=\"black\" stroke-width=\"0.5\"/>\n",
       "<polygon fill=\"none\" points=\"187.156,-143.079 197.245,-146.313 191.375,-137.493 187.156,-143.079\" stroke=\"black\" stroke-width=\"0.5\"/>\n",
       "</g>\n",
       "<!-- palm&#45;tree -->\n",
       "<g class=\"node\" id=\"node20\"><title>palm-tree</title>\n",
       "<path d=\"M202.5,-73.5C202.5,-73.5 237.5,-73.5 237.5,-73.5 243.5,-73.5 249.5,-79.5 249.5,-85.5 249.5,-85.5 249.5,-97.5 249.5,-97.5 249.5,-103.5 243.5,-109.5 237.5,-109.5 237.5,-109.5 202.5,-109.5 202.5,-109.5 196.5,-109.5 190.5,-103.5 190.5,-97.5 190.5,-97.5 190.5,-85.5 190.5,-85.5 190.5,-79.5 196.5,-73.5 202.5,-73.5\" fill=\"aliceblue\" stroke=\"black\" stroke-width=\"0.5\"/>\n",
       "<text font-family=\"Times New Roman,serif\" font-size=\"11.00\" text-anchor=\"middle\" x=\"220\" y=\"-88.7\">palm-tree</text>\n",
       "</g>\n",
       "<!-- plant&#45;&#45;palm&#45;tree -->\n",
       "<g class=\"edge\" id=\"edge17\"><title>plant--palm-tree</title>\n",
       "<path d=\"M220,-136.253C220,-127.265 220,-117.529 220,-109.529\" fill=\"none\" stroke=\"black\" stroke-width=\"0.5\"/>\n",
       "<polygon fill=\"none\" points=\"216.5,-136.313 220,-146.313 223.5,-136.313 216.5,-136.313\" stroke=\"black\" stroke-width=\"0.5\"/>\n",
       "</g>\n",
       "<!-- tree -->\n",
       "<g class=\"node\" id=\"node22\"><title>tree</title>\n",
       "<path d=\"M280,-73.5C280,-73.5 310,-73.5 310,-73.5 316,-73.5 322,-79.5 322,-85.5 322,-85.5 322,-97.5 322,-97.5 322,-103.5 316,-109.5 310,-109.5 310,-109.5 280,-109.5 280,-109.5 274,-109.5 268,-103.5 268,-97.5 268,-97.5 268,-85.5 268,-85.5 268,-79.5 274,-73.5 280,-73.5\" fill=\"aliceblue\" stroke=\"black\" stroke-width=\"0.5\"/>\n",
       "<text font-family=\"Times New Roman,serif\" font-size=\"11.00\" text-anchor=\"middle\" x=\"295\" y=\"-88.7\">tree</text>\n",
       "</g>\n",
       "<!-- plant&#45;&#45;tree -->\n",
       "<g class=\"edge\" id=\"edge19\"><title>plant--tree</title>\n",
       "<path d=\"M245.717,-139.155C256.019,-129.402 267.642,-118.399 277.012,-109.529\" fill=\"none\" stroke=\"black\" stroke-width=\"0.5\"/>\n",
       "<polygon fill=\"none\" points=\"243.011,-136.896 238.155,-146.313 247.824,-141.98 243.011,-136.896\" stroke=\"black\" stroke-width=\"0.5\"/>\n",
       "</g>\n",
       "<!-- grass -->\n",
       "<g class=\"node\" id=\"node26\"><title>grass</title>\n",
       "<path d=\"M352,-73.5C352,-73.5 382,-73.5 382,-73.5 388,-73.5 394,-79.5 394,-85.5 394,-85.5 394,-97.5 394,-97.5 394,-103.5 388,-109.5 382,-109.5 382,-109.5 352,-109.5 352,-109.5 346,-109.5 340,-103.5 340,-97.5 340,-97.5 340,-85.5 340,-85.5 340,-79.5 346,-73.5 352,-73.5\" fill=\"aliceblue\" stroke=\"black\" stroke-width=\"0.5\"/>\n",
       "<text font-family=\"Times New Roman,serif\" font-size=\"11.00\" text-anchor=\"middle\" x=\"367\" y=\"-88.7\">grass</text>\n",
       "</g>\n",
       "<!-- plant&#45;&#45;grass -->\n",
       "<g class=\"edge\" id=\"edge23\"><title>plant--grass</title>\n",
       "<path d=\"M256.549,-145.922C278.203,-135.498 306.176,-122.016 331,-110 333.877,-108.607 336.883,-107.15 339.878,-105.696\" fill=\"none\" stroke=\"black\" stroke-width=\"0.5\"/>\n",
       "<polygon fill=\"none\" points=\"254.875,-142.843 247.382,-150.334 257.911,-149.151 254.875,-142.843\" stroke=\"black\" stroke-width=\"0.5\"/>\n",
       "</g>\n",
       "<!-- apple -->\n",
       "<g class=\"node\" id=\"node3\"><title>apple</title>\n",
       "<path d=\"M397,-0.5C397,-0.5 427,-0.5 427,-0.5 433,-0.5 439,-6.5 439,-12.5 439,-12.5 439,-24.5 439,-24.5 439,-30.5 433,-36.5 427,-36.5 427,-36.5 397,-36.5 397,-36.5 391,-36.5 385,-30.5 385,-24.5 385,-24.5 385,-12.5 385,-12.5 385,-6.5 391,-0.5 397,-0.5\" fill=\"aliceblue\" stroke=\"black\" stroke-width=\"0.5\"/>\n",
       "<text font-family=\"Times New Roman,serif\" font-size=\"11.00\" text-anchor=\"middle\" x=\"412\" y=\"-15.7\">apple</text>\n",
       "</g>\n",
       "<!-- fruiting&#45;body -->\n",
       "<g class=\"node\" id=\"node4\"><title>fruiting-body</title>\n",
       "<path d=\"M424,-73.5C424,-73.5 472,-73.5 472,-73.5 478,-73.5 484,-79.5 484,-85.5 484,-85.5 484,-97.5 484,-97.5 484,-103.5 478,-109.5 472,-109.5 472,-109.5 424,-109.5 424,-109.5 418,-109.5 412,-103.5 412,-97.5 412,-97.5 412,-85.5 412,-85.5 412,-79.5 418,-73.5 424,-73.5\" fill=\"aliceblue\" stroke=\"black\" stroke-width=\"0.5\"/>\n",
       "<text font-family=\"Times New Roman,serif\" font-size=\"11.00\" text-anchor=\"middle\" x=\"448\" y=\"-88.7\">fruiting-body</text>\n",
       "</g>\n",
       "<!-- fruiting&#45;body&#45;&#45;apple -->\n",
       "<g class=\"edge\" id=\"edge2\"><title>fruiting-body--apple</title>\n",
       "<path d=\"M434.629,-64.1302C429.95,-54.9019 424.823,-44.7904 420.634,-36.5288\" fill=\"none\" stroke=\"black\" stroke-width=\"0.5\"/>\n",
       "<polygon fill=\"none\" points=\"431.641,-65.9767 439.285,-73.3129 437.885,-62.811 431.641,-65.9767\" stroke=\"black\" stroke-width=\"0.5\"/>\n",
       "</g>\n",
       "<!-- berry -->\n",
       "<g class=\"node\" id=\"node12\"><title>berry</title>\n",
       "<path d=\"M469,-0.5C469,-0.5 499,-0.5 499,-0.5 505,-0.5 511,-6.5 511,-12.5 511,-12.5 511,-24.5 511,-24.5 511,-30.5 505,-36.5 499,-36.5 499,-36.5 469,-36.5 469,-36.5 463,-36.5 457,-30.5 457,-24.5 457,-24.5 457,-12.5 457,-12.5 457,-6.5 463,-0.5 469,-0.5\" fill=\"aliceblue\" stroke=\"black\" stroke-width=\"0.5\"/>\n",
       "<text font-family=\"Times New Roman,serif\" font-size=\"11.00\" text-anchor=\"middle\" x=\"484\" y=\"-15.7\">berry</text>\n",
       "</g>\n",
       "<!-- fruiting&#45;body&#45;&#45;berry -->\n",
       "<g class=\"edge\" id=\"edge9\"><title>fruiting-body--berry</title>\n",
       "<path d=\"M461.371,-64.1302C466.05,-54.9019 471.177,-44.7904 475.366,-36.5288\" fill=\"none\" stroke=\"black\" stroke-width=\"0.5\"/>\n",
       "<polygon fill=\"none\" points=\"458.115,-62.811 456.715,-73.3129 464.359,-65.9767 458.115,-62.811\" stroke=\"black\" stroke-width=\"0.5\"/>\n",
       "</g>\n",
       "<!-- rock&#45;dassie -->\n",
       "<g class=\"node\" id=\"node5\"><title>rock-dassie</title>\n",
       "<path d=\"M1018.5,-73.5C1018.5,-73.5 1061.5,-73.5 1061.5,-73.5 1067.5,-73.5 1073.5,-79.5 1073.5,-85.5 1073.5,-85.5 1073.5,-97.5 1073.5,-97.5 1073.5,-103.5 1067.5,-109.5 1061.5,-109.5 1061.5,-109.5 1018.5,-109.5 1018.5,-109.5 1012.5,-109.5 1006.5,-103.5 1006.5,-97.5 1006.5,-97.5 1006.5,-85.5 1006.5,-85.5 1006.5,-79.5 1012.5,-73.5 1018.5,-73.5\" fill=\"aliceblue\" stroke=\"black\" stroke-width=\"0.5\"/>\n",
       "<text font-family=\"Times New Roman,serif\" font-size=\"11.00\" text-anchor=\"middle\" x=\"1040\" y=\"-88.7\">rock-dassie</text>\n",
       "</g>\n",
       "<!-- animal -->\n",
       "<g class=\"node\" id=\"node6\"><title>animal</title>\n",
       "<path d=\"M1254,-146.5C1254,-146.5 1284,-146.5 1284,-146.5 1290,-146.5 1296,-152.5 1296,-158.5 1296,-158.5 1296,-170.5 1296,-170.5 1296,-176.5 1290,-182.5 1284,-182.5 1284,-182.5 1254,-182.5 1254,-182.5 1248,-182.5 1242,-176.5 1242,-170.5 1242,-170.5 1242,-158.5 1242,-158.5 1242,-152.5 1248,-146.5 1254,-146.5\" fill=\"aliceblue\" stroke=\"black\" stroke-width=\"0.5\"/>\n",
       "<text font-family=\"Times New Roman,serif\" font-size=\"11.00\" text-anchor=\"middle\" x=\"1269\" y=\"-161.7\">animal</text>\n",
       "</g>\n",
       "<!-- animal&#45;&#45;rock&#45;dassie -->\n",
       "<g class=\"edge\" id=\"edge3\"><title>animal--rock-dassie</title>\n",
       "<path d=\"M1231.88,-154.07C1194.07,-144.176 1133.94,-127.634 1083,-110 1079.95,-108.945 1076.81,-107.793 1073.67,-106.599\" fill=\"none\" stroke=\"black\" stroke-width=\"0.5\"/>\n",
       "<polygon fill=\"none\" points=\"1231.36,-157.552 1241.92,-156.679 1233.12,-150.777 1231.36,-157.552\" stroke=\"black\" stroke-width=\"0.5\"/>\n",
       "</g>\n",
       "<!-- warthog -->\n",
       "<g class=\"node\" id=\"node11\"><title>warthog</title>\n",
       "<path d=\"M1104,-73.5C1104,-73.5 1134,-73.5 1134,-73.5 1140,-73.5 1146,-79.5 1146,-85.5 1146,-85.5 1146,-97.5 1146,-97.5 1146,-103.5 1140,-109.5 1134,-109.5 1134,-109.5 1104,-109.5 1104,-109.5 1098,-109.5 1092,-103.5 1092,-97.5 1092,-97.5 1092,-85.5 1092,-85.5 1092,-79.5 1098,-73.5 1104,-73.5\" fill=\"aliceblue\" stroke=\"black\" stroke-width=\"0.5\"/>\n",
       "<text font-family=\"Times New Roman,serif\" font-size=\"11.00\" text-anchor=\"middle\" x=\"1119\" y=\"-88.7\">warthog</text>\n",
       "</g>\n",
       "<!-- animal&#45;&#45;warthog -->\n",
       "<g class=\"edge\" id=\"edge7\"><title>animal--warthog</title>\n",
       "<path d=\"M1232.62,-146.58C1210.2,-136.117 1180.89,-122.368 1155,-110 1152.12,-108.622 1149.11,-107.174 1146.11,-105.726\" fill=\"none\" stroke=\"black\" stroke-width=\"0.5\"/>\n",
       "<polygon fill=\"none\" points=\"1231.23,-149.794 1241.77,-150.849 1234.19,-143.45 1231.23,-149.794\" stroke=\"black\" stroke-width=\"0.5\"/>\n",
       "</g>\n",
       "<!-- herbivore -->\n",
       "<g class=\"node\" id=\"node13\"><title>herbivore</title>\n",
       "<path d=\"M1176,-73.5C1176,-73.5 1210,-73.5 1210,-73.5 1216,-73.5 1222,-79.5 1222,-85.5 1222,-85.5 1222,-97.5 1222,-97.5 1222,-103.5 1216,-109.5 1210,-109.5 1210,-109.5 1176,-109.5 1176,-109.5 1170,-109.5 1164,-103.5 1164,-97.5 1164,-97.5 1164,-85.5 1164,-85.5 1164,-79.5 1170,-73.5 1176,-73.5\" fill=\"aliceblue\" stroke=\"black\" stroke-width=\"0.5\"/>\n",
       "<text font-family=\"Times New Roman,serif\" font-size=\"11.00\" text-anchor=\"middle\" x=\"1193\" y=\"-88.7\">herbivore</text>\n",
       "</g>\n",
       "<!-- animal&#45;&#45;herbivore -->\n",
       "<g class=\"edge\" id=\"edge10\"><title>animal--herbivore</title>\n",
       "<path d=\"M1243.25,-139.441C1232.73,-129.618 1220.82,-118.486 1211.23,-109.529\" fill=\"none\" stroke=\"black\" stroke-width=\"0.5\"/>\n",
       "<polygon fill=\"none\" points=\"1240.91,-142.044 1250.6,-146.313 1245.68,-136.929 1240.91,-142.044\" stroke=\"black\" stroke-width=\"0.5\"/>\n",
       "</g>\n",
       "<!-- omnivore -->\n",
       "<g class=\"node\" id=\"node14\"><title>omnivore</title>\n",
       "<path d=\"M1252.5,-73.5C1252.5,-73.5 1285.5,-73.5 1285.5,-73.5 1291.5,-73.5 1297.5,-79.5 1297.5,-85.5 1297.5,-85.5 1297.5,-97.5 1297.5,-97.5 1297.5,-103.5 1291.5,-109.5 1285.5,-109.5 1285.5,-109.5 1252.5,-109.5 1252.5,-109.5 1246.5,-109.5 1240.5,-103.5 1240.5,-97.5 1240.5,-97.5 1240.5,-85.5 1240.5,-85.5 1240.5,-79.5 1246.5,-73.5 1252.5,-73.5\" fill=\"aliceblue\" stroke=\"black\" stroke-width=\"0.5\"/>\n",
       "<text font-family=\"Times New Roman,serif\" font-size=\"11.00\" text-anchor=\"middle\" x=\"1269\" y=\"-88.7\">omnivore</text>\n",
       "</g>\n",
       "<!-- animal&#45;&#45;omnivore -->\n",
       "<g class=\"edge\" id=\"edge11\"><title>animal--omnivore</title>\n",
       "<path d=\"M1269,-136.253C1269,-127.265 1269,-117.529 1269,-109.529\" fill=\"none\" stroke=\"black\" stroke-width=\"0.5\"/>\n",
       "<polygon fill=\"none\" points=\"1265.5,-136.313 1269,-146.313 1272.5,-136.313 1265.5,-136.313\" stroke=\"black\" stroke-width=\"0.5\"/>\n",
       "</g>\n",
       "<!-- carnivore -->\n",
       "<g class=\"node\" id=\"node17\"><title>carnivore</title>\n",
       "<path d=\"M1328,-73.5C1328,-73.5 1362,-73.5 1362,-73.5 1368,-73.5 1374,-79.5 1374,-85.5 1374,-85.5 1374,-97.5 1374,-97.5 1374,-103.5 1368,-109.5 1362,-109.5 1362,-109.5 1328,-109.5 1328,-109.5 1322,-109.5 1316,-103.5 1316,-97.5 1316,-97.5 1316,-85.5 1316,-85.5 1316,-79.5 1322,-73.5 1328,-73.5\" fill=\"aliceblue\" stroke=\"black\" stroke-width=\"0.5\"/>\n",
       "<text font-family=\"Times New Roman,serif\" font-size=\"11.00\" text-anchor=\"middle\" x=\"1345\" y=\"-88.7\">carnivore</text>\n",
       "</g>\n",
       "<!-- animal&#45;&#45;carnivore -->\n",
       "<g class=\"edge\" id=\"edge14\"><title>animal--carnivore</title>\n",
       "<path d=\"M1294.75,-139.441C1305.27,-129.618 1317.18,-118.486 1326.77,-109.529\" fill=\"none\" stroke=\"black\" stroke-width=\"0.5\"/>\n",
       "<polygon fill=\"none\" points=\"1292.32,-136.929 1287.4,-146.313 1297.09,-142.044 1292.32,-136.929\" stroke=\"black\" stroke-width=\"0.5\"/>\n",
       "</g>\n",
       "<!-- impala -->\n",
       "<g class=\"node\" id=\"node21\"><title>impala</title>\n",
       "<path d=\"M1404,-73.5C1404,-73.5 1434,-73.5 1434,-73.5 1440,-73.5 1446,-79.5 1446,-85.5 1446,-85.5 1446,-97.5 1446,-97.5 1446,-103.5 1440,-109.5 1434,-109.5 1434,-109.5 1404,-109.5 1404,-109.5 1398,-109.5 1392,-103.5 1392,-97.5 1392,-97.5 1392,-85.5 1392,-85.5 1392,-79.5 1398,-73.5 1404,-73.5\" fill=\"aliceblue\" stroke=\"black\" stroke-width=\"0.5\"/>\n",
       "<text font-family=\"Times New Roman,serif\" font-size=\"11.00\" text-anchor=\"middle\" x=\"1419\" y=\"-88.7\">impala</text>\n",
       "</g>\n",
       "<!-- animal&#45;&#45;impala -->\n",
       "<g class=\"edge\" id=\"edge18\"><title>animal--impala</title>\n",
       "<path d=\"M1305.38,-146.58C1327.8,-136.117 1357.11,-122.368 1383,-110 1385.88,-108.622 1388.89,-107.174 1391.89,-105.726\" fill=\"none\" stroke=\"black\" stroke-width=\"0.5\"/>\n",
       "<polygon fill=\"none\" points=\"1303.81,-143.45 1296.23,-150.849 1306.77,-149.794 1303.81,-143.45\" stroke=\"black\" stroke-width=\"0.5\"/>\n",
       "</g>\n",
       "<!-- giraffe -->\n",
       "<g class=\"node\" id=\"node28\"><title>giraffe</title>\n",
       "<path d=\"M1476,-73.5C1476,-73.5 1506,-73.5 1506,-73.5 1512,-73.5 1518,-79.5 1518,-85.5 1518,-85.5 1518,-97.5 1518,-97.5 1518,-103.5 1512,-109.5 1506,-109.5 1506,-109.5 1476,-109.5 1476,-109.5 1470,-109.5 1464,-103.5 1464,-97.5 1464,-97.5 1464,-85.5 1464,-85.5 1464,-79.5 1470,-73.5 1476,-73.5\" fill=\"aliceblue\" stroke=\"black\" stroke-width=\"0.5\"/>\n",
       "<text font-family=\"Times New Roman,serif\" font-size=\"11.00\" text-anchor=\"middle\" x=\"1491\" y=\"-88.7\">giraffe</text>\n",
       "</g>\n",
       "<!-- animal&#45;&#45;giraffe -->\n",
       "<g class=\"edge\" id=\"edge25\"><title>animal--giraffe</title>\n",
       "<path d=\"M1306.38,-154.768C1344.38,-145.423 1404.67,-129.304 1455,-110 1457.85,-108.905 1460.79,-107.669 1463.7,-106.374\" fill=\"none\" stroke=\"black\" stroke-width=\"0.5\"/>\n",
       "<polygon fill=\"none\" points=\"1305.17,-151.46 1296.28,-157.222 1306.82,-158.263 1305.17,-151.46\" stroke=\"black\" stroke-width=\"0.5\"/>\n",
       "</g>\n",
       "<!-- twig -->\n",
       "<g class=\"node\" id=\"node7\"><title>twig</title>\n",
       "<path d=\"M514,-73.5C514,-73.5 544,-73.5 544,-73.5 550,-73.5 556,-79.5 556,-85.5 556,-85.5 556,-97.5 556,-97.5 556,-103.5 550,-109.5 544,-109.5 544,-109.5 514,-109.5 514,-109.5 508,-109.5 502,-103.5 502,-97.5 502,-97.5 502,-85.5 502,-85.5 502,-79.5 508,-73.5 514,-73.5\" fill=\"aliceblue\" stroke=\"black\" stroke-width=\"0.5\"/>\n",
       "<text font-family=\"Times New Roman,serif\" font-size=\"11.00\" text-anchor=\"middle\" x=\"529\" y=\"-88.7\">twig</text>\n",
       "</g>\n",
       "<!-- plant&#45;part -->\n",
       "<g class=\"node\" id=\"node8\"><title>plant-part</title>\n",
       "<path d=\"M691.5,-146.5C691.5,-146.5 726.5,-146.5 726.5,-146.5 732.5,-146.5 738.5,-152.5 738.5,-158.5 738.5,-158.5 738.5,-170.5 738.5,-170.5 738.5,-176.5 732.5,-182.5 726.5,-182.5 726.5,-182.5 691.5,-182.5 691.5,-182.5 685.5,-182.5 679.5,-176.5 679.5,-170.5 679.5,-170.5 679.5,-158.5 679.5,-158.5 679.5,-152.5 685.5,-146.5 691.5,-146.5\" fill=\"aliceblue\" stroke=\"black\" stroke-width=\"0.5\"/>\n",
       "<text font-family=\"Times New Roman,serif\" font-size=\"11.00\" text-anchor=\"middle\" x=\"709\" y=\"-161.7\">plant-part</text>\n",
       "</g>\n",
       "<!-- plant&#45;part&#45;&#45;fruiting&#45;body -->\n",
       "<g class=\"edge\" id=\"edge8\"><title>plant-part--fruiting-body</title>\n",
       "<path d=\"M669.392,-155.288C625.748,-145.871 553.69,-129.23 493,-110 490.123,-109.088 487.166,-108.087 484.207,-107.04\" fill=\"none\" stroke=\"black\" stroke-width=\"0.5\"/>\n",
       "<polygon fill=\"none\" points=\"668.809,-158.743 679.32,-157.411 670.273,-151.897 668.809,-158.743\" stroke=\"black\" stroke-width=\"0.5\"/>\n",
       "</g>\n",
       "<!-- plant&#45;part&#45;&#45;twig -->\n",
       "<g class=\"edge\" id=\"edge4\"><title>plant-part--twig</title>\n",
       "<path d=\"M669.622,-150.03C640.449,-139.771 599.877,-124.915 565,-110 562.189,-108.798 559.28,-107.492 556.391,-106.153\" fill=\"none\" stroke=\"black\" stroke-width=\"0.5\"/>\n",
       "<polygon fill=\"none\" points=\"668.843,-153.465 679.438,-153.459 671.152,-146.856 668.843,-153.465\" stroke=\"black\" stroke-width=\"0.5\"/>\n",
       "</g>\n",
       "<!-- stem -->\n",
       "<g class=\"node\" id=\"node9\"><title>stem</title>\n",
       "<path d=\"M586,-73.5C586,-73.5 616,-73.5 616,-73.5 622,-73.5 628,-79.5 628,-85.5 628,-85.5 628,-97.5 628,-97.5 628,-103.5 622,-109.5 616,-109.5 616,-109.5 586,-109.5 586,-109.5 580,-109.5 574,-103.5 574,-97.5 574,-97.5 574,-85.5 574,-85.5 574,-79.5 580,-73.5 586,-73.5\" fill=\"aliceblue\" stroke=\"black\" stroke-width=\"0.5\"/>\n",
       "<text font-family=\"Times New Roman,serif\" font-size=\"11.00\" text-anchor=\"middle\" x=\"601\" y=\"-88.7\">stem</text>\n",
       "</g>\n",
       "<!-- plant&#45;part&#45;&#45;stem -->\n",
       "<g class=\"edge\" id=\"edge5\"><title>plant-part--stem</title>\n",
       "<path d=\"M674.407,-140.758C659.037,-130.654 641.248,-118.96 627.032,-109.614\" fill=\"none\" stroke=\"black\" stroke-width=\"0.5\"/>\n",
       "<polygon fill=\"none\" points=\"672.853,-143.925 683.131,-146.494 676.698,-138.076 672.853,-143.925\" stroke=\"black\" stroke-width=\"0.5\"/>\n",
       "</g>\n",
       "<!-- leaf -->\n",
       "<g class=\"node\" id=\"node10\"><title>leaf</title>\n",
       "<path d=\"M658,-73.5C658,-73.5 688,-73.5 688,-73.5 694,-73.5 700,-79.5 700,-85.5 700,-85.5 700,-97.5 700,-97.5 700,-103.5 694,-109.5 688,-109.5 688,-109.5 658,-109.5 658,-109.5 652,-109.5 646,-103.5 646,-97.5 646,-97.5 646,-85.5 646,-85.5 646,-79.5 652,-73.5 658,-73.5\" fill=\"aliceblue\" stroke=\"black\" stroke-width=\"0.5\"/>\n",
       "<text font-family=\"Times New Roman,serif\" font-size=\"11.00\" text-anchor=\"middle\" x=\"673\" y=\"-88.7\">leaf</text>\n",
       "</g>\n",
       "<!-- plant&#45;part&#45;&#45;leaf -->\n",
       "<g class=\"edge\" id=\"edge6\"><title>plant-part--leaf</title>\n",
       "<path d=\"M695.629,-137.13C690.95,-127.902 685.823,-117.79 681.634,-109.529\" fill=\"none\" stroke=\"black\" stroke-width=\"0.5\"/>\n",
       "<polygon fill=\"none\" points=\"692.641,-138.977 700.285,-146.313 698.885,-135.811 692.641,-138.977\" stroke=\"black\" stroke-width=\"0.5\"/>\n",
       "</g>\n",
       "<!-- phloem -->\n",
       "<g class=\"node\" id=\"node16\"><title>phloem</title>\n",
       "<path d=\"M730,-73.5C730,-73.5 760,-73.5 760,-73.5 766,-73.5 772,-79.5 772,-85.5 772,-85.5 772,-97.5 772,-97.5 772,-103.5 766,-109.5 760,-109.5 760,-109.5 730,-109.5 730,-109.5 724,-109.5 718,-103.5 718,-97.5 718,-97.5 718,-85.5 718,-85.5 718,-79.5 724,-73.5 730,-73.5\" fill=\"aliceblue\" stroke=\"black\" stroke-width=\"0.5\"/>\n",
       "<text font-family=\"Times New Roman,serif\" font-size=\"11.00\" text-anchor=\"middle\" x=\"745\" y=\"-88.7\">phloem</text>\n",
       "</g>\n",
       "<!-- plant&#45;part&#45;&#45;phloem -->\n",
       "<g class=\"edge\" id=\"edge13\"><title>plant-part--phloem</title>\n",
       "<path d=\"M722.371,-137.13C727.05,-127.902 732.177,-117.79 736.366,-109.529\" fill=\"none\" stroke=\"black\" stroke-width=\"0.5\"/>\n",
       "<polygon fill=\"none\" points=\"719.115,-135.811 717.715,-146.313 725.359,-138.977 719.115,-135.811\" stroke=\"black\" stroke-width=\"0.5\"/>\n",
       "</g>\n",
       "<!-- branch -->\n",
       "<g class=\"node\" id=\"node18\"><title>branch</title>\n",
       "<path d=\"M802,-73.5C802,-73.5 832,-73.5 832,-73.5 838,-73.5 844,-79.5 844,-85.5 844,-85.5 844,-97.5 844,-97.5 844,-103.5 838,-109.5 832,-109.5 832,-109.5 802,-109.5 802,-109.5 796,-109.5 790,-103.5 790,-97.5 790,-97.5 790,-85.5 790,-85.5 790,-79.5 796,-73.5 802,-73.5\" fill=\"aliceblue\" stroke=\"black\" stroke-width=\"0.5\"/>\n",
       "<text font-family=\"Times New Roman,serif\" font-size=\"11.00\" text-anchor=\"middle\" x=\"817\" y=\"-88.7\">branch</text>\n",
       "</g>\n",
       "<!-- plant&#45;part&#45;&#45;branch -->\n",
       "<g class=\"edge\" id=\"edge15\"><title>plant-part--branch</title>\n",
       "<path d=\"M743.593,-140.758C758.963,-130.654 776.752,-118.96 790.968,-109.614\" fill=\"none\" stroke=\"black\" stroke-width=\"0.5\"/>\n",
       "<polygon fill=\"none\" points=\"741.302,-138.076 734.869,-146.494 745.147,-143.925 741.302,-138.076\" stroke=\"black\" stroke-width=\"0.5\"/>\n",
       "</g>\n",
       "<!-- root -->\n",
       "<g class=\"node\" id=\"node24\"><title>root</title>\n",
       "<path d=\"M874,-73.5C874,-73.5 904,-73.5 904,-73.5 910,-73.5 916,-79.5 916,-85.5 916,-85.5 916,-97.5 916,-97.5 916,-103.5 910,-109.5 904,-109.5 904,-109.5 874,-109.5 874,-109.5 868,-109.5 862,-103.5 862,-97.5 862,-97.5 862,-85.5 862,-85.5 862,-79.5 868,-73.5 874,-73.5\" fill=\"aliceblue\" stroke=\"black\" stroke-width=\"0.5\"/>\n",
       "<text font-family=\"Times New Roman,serif\" font-size=\"11.00\" text-anchor=\"middle\" x=\"889\" y=\"-88.7\">root</text>\n",
       "</g>\n",
       "<!-- plant&#45;part&#45;&#45;root -->\n",
       "<g class=\"edge\" id=\"edge21\"><title>plant-part--root</title>\n",
       "<path d=\"M748.378,-150.03C777.551,-139.771 818.123,-124.915 853,-110 855.811,-108.798 858.72,-107.492 861.609,-106.153\" fill=\"none\" stroke=\"black\" stroke-width=\"0.5\"/>\n",
       "<polygon fill=\"none\" points=\"746.848,-146.856 738.562,-153.459 749.157,-153.465 746.848,-146.856\" stroke=\"black\" stroke-width=\"0.5\"/>\n",
       "</g>\n",
       "<!-- xylem -->\n",
       "<g class=\"node\" id=\"node27\"><title>xylem</title>\n",
       "<path d=\"M946,-73.5C946,-73.5 976,-73.5 976,-73.5 982,-73.5 988,-79.5 988,-85.5 988,-85.5 988,-97.5 988,-97.5 988,-103.5 982,-109.5 976,-109.5 976,-109.5 946,-109.5 946,-109.5 940,-109.5 934,-103.5 934,-97.5 934,-97.5 934,-85.5 934,-85.5 934,-79.5 940,-73.5 946,-73.5\" fill=\"aliceblue\" stroke=\"black\" stroke-width=\"0.5\"/>\n",
       "<text font-family=\"Times New Roman,serif\" font-size=\"11.00\" text-anchor=\"middle\" x=\"961\" y=\"-88.7\">xylem</text>\n",
       "</g>\n",
       "<!-- plant&#45;part&#45;&#45;xylem -->\n",
       "<g class=\"edge\" id=\"edge24\"><title>plant-part--xylem</title>\n",
       "<path d=\"M748.557,-156.297C792.44,-147.713 864.977,-131.75 925,-110 927.875,-108.958 930.825,-107.758 933.739,-106.484\" fill=\"none\" stroke=\"black\" stroke-width=\"0.5\"/>\n",
       "<polygon fill=\"none\" points=\"747.734,-152.891 738.576,-158.219 749.057,-159.765 747.734,-152.891\" stroke=\"black\" stroke-width=\"0.5\"/>\n",
       "</g>\n",
       "<!-- elephant -->\n",
       "<g class=\"node\" id=\"node25\"><title>elephant</title>\n",
       "<path d=\"M1178,-0.5C1178,-0.5 1208,-0.5 1208,-0.5 1214,-0.5 1220,-6.5 1220,-12.5 1220,-12.5 1220,-24.5 1220,-24.5 1220,-30.5 1214,-36.5 1208,-36.5 1208,-36.5 1178,-36.5 1178,-36.5 1172,-36.5 1166,-30.5 1166,-24.5 1166,-24.5 1166,-12.5 1166,-12.5 1166,-6.5 1172,-0.5 1178,-0.5\" fill=\"aliceblue\" stroke=\"black\" stroke-width=\"0.5\"/>\n",
       "<text font-family=\"Times New Roman,serif\" font-size=\"11.00\" text-anchor=\"middle\" x=\"1193\" y=\"-15.7\">elephant</text>\n",
       "</g>\n",
       "<!-- herbivore&#45;&#45;elephant -->\n",
       "<g class=\"edge\" id=\"edge22\"><title>herbivore--elephant</title>\n",
       "<path d=\"M1193,-63.2534C1193,-54.2651 1193,-44.5295 1193,-36.5288\" fill=\"none\" stroke=\"black\" stroke-width=\"0.5\"/>\n",
       "<polygon fill=\"none\" points=\"1189.5,-63.3128 1193,-73.3129 1196.5,-63.3129 1189.5,-63.3128\" stroke=\"black\" stroke-width=\"0.5\"/>\n",
       "</g>\n",
       "<!-- lion -->\n",
       "<g class=\"node\" id=\"node19\"><title>lion</title>\n",
       "<path d=\"M1330,-0.5C1330,-0.5 1360,-0.5 1360,-0.5 1366,-0.5 1372,-6.5 1372,-12.5 1372,-12.5 1372,-24.5 1372,-24.5 1372,-30.5 1366,-36.5 1360,-36.5 1360,-36.5 1330,-36.5 1330,-36.5 1324,-36.5 1318,-30.5 1318,-24.5 1318,-24.5 1318,-12.5 1318,-12.5 1318,-6.5 1324,-0.5 1330,-0.5\" fill=\"aliceblue\" stroke=\"black\" stroke-width=\"0.5\"/>\n",
       "<text font-family=\"Times New Roman,serif\" font-size=\"11.00\" text-anchor=\"middle\" x=\"1345\" y=\"-15.7\">lion</text>\n",
       "</g>\n",
       "<!-- carnivore&#45;&#45;lion -->\n",
       "<g class=\"edge\" id=\"edge16\"><title>carnivore--lion</title>\n",
       "<path d=\"M1345,-63.2534C1345,-54.2651 1345,-44.5295 1345,-36.5288\" fill=\"none\" stroke=\"black\" stroke-width=\"0.5\"/>\n",
       "<polygon fill=\"none\" points=\"1341.5,-63.3128 1345,-73.3129 1348.5,-63.3129 1341.5,-63.3128\" stroke=\"black\" stroke-width=\"0.5\"/>\n",
       "</g>\n",
       "<!-- parsnip -->\n",
       "<g class=\"node\" id=\"node23\"><title>parsnip</title>\n",
       "<path d=\"M874,-0.5C874,-0.5 904,-0.5 904,-0.5 910,-0.5 916,-6.5 916,-12.5 916,-12.5 916,-24.5 916,-24.5 916,-30.5 910,-36.5 904,-36.5 904,-36.5 874,-36.5 874,-36.5 868,-36.5 862,-30.5 862,-24.5 862,-24.5 862,-12.5 862,-12.5 862,-6.5 868,-0.5 874,-0.5\" fill=\"aliceblue\" stroke=\"black\" stroke-width=\"0.5\"/>\n",
       "<text font-family=\"Times New Roman,serif\" font-size=\"11.00\" text-anchor=\"middle\" x=\"889\" y=\"-15.7\">parsnip</text>\n",
       "</g>\n",
       "<!-- root&#45;&#45;parsnip -->\n",
       "<g class=\"edge\" id=\"edge20\"><title>root--parsnip</title>\n",
       "<path d=\"M889,-63.2534C889,-54.2651 889,-44.5295 889,-36.5288\" fill=\"none\" stroke=\"black\" stroke-width=\"0.5\"/>\n",
       "<polygon fill=\"none\" points=\"885.5,-63.3128 889,-73.3129 892.5,-63.3129 885.5,-63.3128\" stroke=\"black\" stroke-width=\"0.5\"/>\n",
       "</g>\n",
       "</g>\n",
       "</svg>"
      ],
      "text/plain": [
       "<IPython.core.display.SVG object>"
      ]
     },
     "execution_count": 5,
     "metadata": {},
     "output_type": "execute_result"
    }
   ],
   "source": [
    "onto=buildOntology(parts_editors)\n",
    "onto.draw_graph(layout='hierarchical')"
   ]
  },
  {
   "cell_type": "markdown",
   "metadata": {},
   "source": [
    "It is fully compatible with OWL/RDF format (via OWLAPI). We can always export it as it is."
   ]
  },
  {
   "cell_type": "markdown",
   "metadata": {},
   "source": [
    "### Part-2: Disjointness\n",
    "In OWL/RL+SWRL profile we deal with Open World Assumption. It means that we need to explicitly specify all the objects that are different from each other. We cannot assume (like e.g. object oriented programming language do) that the different names mean the different things, therefore we need to specify explicitly if two things are different."
   ]
  },
  {
   "cell_type": "code",
   "execution_count": 6,
   "metadata": {
    "scrolled": false
   },
   "outputs": [
    {
     "data": {
      "application/vnd.jupyter.widget-view+json": {
       "model_id": "6aa31e6afab149709b6959eea67ee56c",
       "version_major": 2,
       "version_minor": 0
      },
      "text/plain": [
       "VBox(children=(Output(), OntoeditWidget(layout=Layout(height='100%', width='90%'), value='Every-single-thing t…"
      ]
     },
     "metadata": {},
     "output_type": "display_data"
    }
   ],
   "source": [
    "parts_editors['02']=CnlEditBox('part_02.encnl',onto)\n",
    "parts_editors['02']"
   ]
  },
  {
   "cell_type": "markdown",
   "metadata": {},
   "source": [
    "Lets test how it works on the example. The example will be defining several instances, that aim to break the consistency of the ontology in som not obvious way."
   ]
  },
  {
   "cell_type": "code",
   "execution_count": 7,
   "metadata": {},
   "outputs": [
    {
     "data": {
      "application/vnd.jupyter.widget-view+json": {
       "model_id": "aca02ad5a33a4786af036a02601ea45d",
       "version_major": 2,
       "version_minor": 0
      },
      "text/plain": [
       "VBox(children=(Output(), OntoeditWidget(layout=Layout(height='100%', width='90%'), value='Leo-01 is a lion.\\nL…"
      ]
     },
     "metadata": {},
     "output_type": "display_data"
    }
   ],
   "source": [
    "test_01_edit = CnlEditBox('test_01.encnl',onto)\n",
    "test_01_edit"
   ]
  },
  {
   "cell_type": "markdown",
   "metadata": {},
   "source": [
    "Lets load all the parts ontology ontology togheter with the testing part into the newly created obeject. "
   ]
  },
  {
   "cell_type": "code",
   "execution_count": 8,
   "metadata": {},
   "outputs": [],
   "source": [
    "onto=buildOntology(parts_editors,test_01_edit)"
   ]
  },
  {
   "cell_type": "markdown",
   "metadata": {},
   "source": [
    "We will need also some way to describe what is wrong `printReasoningInfo` and why `printWhy`."
   ]
  },
  {
   "cell_type": "code",
   "execution_count": 9,
   "metadata": {},
   "outputs": [],
   "source": [
    "import json\n",
    "\n",
    "def printReasoningInfo(onto):\n",
    "    info=onto.reasoningInfo()\n",
    "    if info == \"\":\n",
    "        print('all good!')\n",
    "    else:\n",
    "        print(json.dumps(json.loads(info), indent=2, sort_keys=True))\n",
    "\n",
    "def printWhy(onto,fact):\n",
    "    info=json.loads(onto.why(fact))\n",
    "    print(json.dumps(info, indent=2, sort_keys=True))"
   ]
  },
  {
   "cell_type": "markdown",
   "metadata": {},
   "source": [
    "So what is wrong here?"
   ]
  },
  {
   "cell_type": "code",
   "execution_count": 10,
   "metadata": {},
   "outputs": [
    {
     "name": "stdout",
     "output_type": "stream",
     "text": [
      "{\n",
      "  \"errors\": [\n",
      "    {\n",
      "      \"content\": \"Complement classes\",\n",
      "      \"title\": \"inconsistency\",\n",
      "      \"vals\": {\n",
      "        \"concept\": \"animal\",\n",
      "        \"instance\": \"Mary-01\"\n",
      "      }\n",
      "    }\n",
      "  ]\n",
      "}\n"
     ]
    }
   ],
   "source": [
    "printReasoningInfo(onto)"
   ]
  },
  {
   "cell_type": "markdown",
   "metadata": {},
   "source": [
    "Lets draw it on a diagram, this time using force directed layout."
   ]
  },
  {
   "cell_type": "code",
   "execution_count": 11,
   "metadata": {},
   "outputs": [
    {
     "data": {
      "image/svg+xml": [
       "<svg height=\"817pt\" viewBox=\"0.00 0.00 1151.00 817.00\" width=\"1151pt\" xmlns=\"http://www.w3.org/2000/svg\" xmlns:xlink=\"http://www.w3.org/1999/xlink\">\n",
       "<g class=\"graph\" id=\"graph0\" transform=\"scale(1 1) rotate(0) translate(4 813)\">\n",
       "<title>G</title>\n",
       "<polygon fill=\"white\" points=\"-4,4 -4,-813 1147,-813 1147,4 -4,4\" stroke=\"none\"/>\n",
       "<!-- tasty&#45;plant -->\n",
       "<g class=\"node\" id=\"node1\"><title>tasty-plant</title>\n",
       "<path d=\"M148.836,-683.709C148.836,-683.709 186.836,-683.709 186.836,-683.709 192.836,-683.709 198.836,-689.709 198.836,-695.709 198.836,-695.709 198.836,-707.709 198.836,-707.709 198.836,-713.709 192.836,-719.709 186.836,-719.709 186.836,-719.709 148.836,-719.709 148.836,-719.709 142.836,-719.709 136.836,-713.709 136.836,-707.709 136.836,-707.709 136.836,-695.709 136.836,-695.709 136.836,-689.709 142.836,-683.709 148.836,-683.709\" fill=\"aliceblue\" stroke=\"black\" stroke-width=\"0.5\"/>\n",
       "<text font-family=\"Times New Roman,serif\" font-size=\"11.00\" text-anchor=\"middle\" x=\"167.836\" y=\"-698.909\">tasty-plant</text>\n",
       "</g>\n",
       "<!-- plant -->\n",
       "<g class=\"node\" id=\"node2\"><title>plant</title>\n",
       "<path d=\"M274.53,-603.924C274.53,-603.924 304.53,-603.924 304.53,-603.924 310.53,-603.924 316.53,-609.924 316.53,-615.924 316.53,-615.924 316.53,-627.924 316.53,-627.924 316.53,-633.924 310.53,-639.924 304.53,-639.924 304.53,-639.924 274.53,-639.924 274.53,-639.924 268.53,-639.924 262.53,-633.924 262.53,-627.924 262.53,-627.924 262.53,-615.924 262.53,-615.924 262.53,-609.924 268.53,-603.924 274.53,-603.924\" fill=\"aliceblue\" stroke=\"black\" stroke-width=\"0.5\"/>\n",
       "<text font-family=\"Times New Roman,serif\" font-size=\"11.00\" text-anchor=\"middle\" x=\"289.53\" y=\"-619.124\">plant</text>\n",
       "</g>\n",
       "<!-- plant&#45;&#45;tasty&#45;plant -->\n",
       "<g class=\"edge\" id=\"edge1\"><title>plant--tasty-plant</title>\n",
       "<path d=\"M254.005,-645.216C235.393,-657.418 212.934,-672.142 195.612,-683.499\" fill=\"none\" stroke=\"black\" stroke-width=\"0.5\"/>\n",
       "<polygon fill=\"none\" points=\"256.078,-648.041 262.522,-639.631 252.24,-642.187 256.078,-648.041\" stroke=\"black\" stroke-width=\"0.5\"/>\n",
       "</g>\n",
       "<!-- carnivorous&#45;plant -->\n",
       "<g class=\"node\" id=\"node15\"><title>carnivorous-plant</title>\n",
       "<path d=\"M143.354,-750.118C143.354,-750.118 211.354,-750.118 211.354,-750.118 217.354,-750.118 223.354,-756.118 223.354,-762.118 223.354,-762.118 223.354,-774.118 223.354,-774.118 223.354,-780.118 217.354,-786.118 211.354,-786.118 211.354,-786.118 143.354,-786.118 143.354,-786.118 137.354,-786.118 131.354,-780.118 131.354,-774.118 131.354,-774.118 131.354,-762.118 131.354,-762.118 131.354,-756.118 137.354,-750.118 143.354,-750.118\" fill=\"aliceblue\" stroke=\"black\" stroke-width=\"0.5\"/>\n",
       "<text font-family=\"Times New Roman,serif\" font-size=\"11.00\" text-anchor=\"middle\" x=\"177.354\" y=\"-765.318\">carnivorous-plant</text>\n",
       "</g>\n",
       "<!-- plant&#45;&#45;carnivorous&#45;plant -->\n",
       "<g class=\"edge\" id=\"edge12\"><title>plant--carnivorous-plant</title>\n",
       "<path d=\"M269.313,-648.272C246.853,-677.543 211.172,-724.045 191.511,-749.668\" fill=\"none\" stroke=\"black\" stroke-width=\"0.5\"/>\n",
       "<polygon fill=\"none\" points=\"272.239,-650.209 275.55,-640.144 266.686,-645.947 272.239,-650.209\" stroke=\"black\" stroke-width=\"0.5\"/>\n",
       "</g>\n",
       "<!-- palm&#45;tree -->\n",
       "<g class=\"node\" id=\"node20\"><title>palm-tree</title>\n",
       "<path d=\"M461.233,-507.526C461.233,-507.526 496.233,-507.526 496.233,-507.526 502.233,-507.526 508.233,-513.526 508.233,-519.526 508.233,-519.526 508.233,-531.526 508.233,-531.526 508.233,-537.526 502.233,-543.526 496.233,-543.526 496.233,-543.526 461.233,-543.526 461.233,-543.526 455.233,-543.526 449.233,-537.526 449.233,-531.526 449.233,-531.526 449.233,-519.526 449.233,-519.526 449.233,-513.526 455.233,-507.526 461.233,-507.526\" fill=\"aliceblue\" stroke=\"black\" stroke-width=\"0.5\"/>\n",
       "<text font-family=\"Times New Roman,serif\" font-size=\"11.00\" text-anchor=\"middle\" x=\"478.733\" y=\"-522.726\">palm-tree</text>\n",
       "</g>\n",
       "<!-- plant&#45;&#45;palm&#45;tree -->\n",
       "<g class=\"edge\" id=\"edge17\"><title>plant--palm-tree</title>\n",
       "<path d=\"M316.019,-597.047C329.819,-585.138 347.47,-571.454 365.127,-562.026 391.99,-547.681 425.461,-537.776 449.094,-531.941\" fill=\"none\" stroke=\"black\" stroke-width=\"0.5\"/>\n",
       "<polygon fill=\"none\" points=\"313.544,-594.564 308.368,-603.808 318.179,-599.809 313.544,-594.564\" stroke=\"black\" stroke-width=\"0.5\"/>\n",
       "</g>\n",
       "<!-- tree -->\n",
       "<g class=\"node\" id=\"node22\"><title>tree</title>\n",
       "<path d=\"M365.983,-756.383C365.983,-756.383 395.983,-756.383 395.983,-756.383 401.983,-756.383 407.983,-762.383 407.983,-768.383 407.983,-768.383 407.983,-780.383 407.983,-780.383 407.983,-786.383 401.983,-792.383 395.983,-792.383 395.983,-792.383 365.983,-792.383 365.983,-792.383 359.983,-792.383 353.983,-786.383 353.983,-780.383 353.983,-780.383 353.983,-768.383 353.983,-768.383 353.983,-762.383 359.983,-756.383 365.983,-756.383\" fill=\"aliceblue\" stroke=\"black\" stroke-width=\"0.5\"/>\n",
       "<text font-family=\"Times New Roman,serif\" font-size=\"11.00\" text-anchor=\"middle\" x=\"380.983\" y=\"-771.583\">tree</text>\n",
       "</g>\n",
       "<!-- plant&#45;&#45;tree -->\n",
       "<g class=\"edge\" id=\"edge19\"><title>plant--tree</title>\n",
       "<path d=\"M305.75,-648.964C324.315,-679.912 354.205,-729.741 370.147,-756.319\" fill=\"none\" stroke=\"black\" stroke-width=\"0.5\"/>\n",
       "<polygon fill=\"none\" points=\"308.526,-646.787 300.38,-640.012 302.523,-650.388 308.526,-646.787\" stroke=\"black\" stroke-width=\"0.5\"/>\n",
       "</g>\n",
       "<!-- grass -->\n",
       "<g class=\"node\" id=\"node26\"><title>grass</title>\n",
       "<path d=\"M253.504,-772.618C253.504,-772.618 283.504,-772.618 283.504,-772.618 289.504,-772.618 295.504,-778.618 295.504,-784.618 295.504,-784.618 295.504,-796.618 295.504,-796.618 295.504,-802.618 289.504,-808.618 283.504,-808.618 283.504,-808.618 253.504,-808.618 253.504,-808.618 247.504,-808.618 241.504,-802.618 241.504,-796.618 241.504,-796.618 241.504,-784.618 241.504,-784.618 241.504,-778.618 247.504,-772.618 253.504,-772.618\" fill=\"aliceblue\" stroke=\"black\" stroke-width=\"0.5\"/>\n",
       "<text font-family=\"Times New Roman,serif\" font-size=\"11.00\" text-anchor=\"middle\" x=\"268.504\" y=\"-787.818\">grass</text>\n",
       "</g>\n",
       "<!-- plant&#45;&#45;grass -->\n",
       "<g class=\"edge\" id=\"edge23\"><title>plant--grass</title>\n",
       "<path d=\"M286.036,-649.956C281.702,-684.729 274.438,-743.01 270.77,-772.44\" fill=\"none\" stroke=\"black\" stroke-width=\"0.5\"/>\n",
       "<polygon fill=\"none\" points=\"289.516,-650.334 287.28,-639.978 282.57,-649.468 289.516,-650.334\" stroke=\"black\" stroke-width=\"0.5\"/>\n",
       "</g>\n",
       "<!-- apple -->\n",
       "<g class=\"node\" id=\"node3\"><title>apple</title>\n",
       "<path d=\"M278.647,-536.952C278.647,-536.952 308.647,-536.952 308.647,-536.952 314.647,-536.952 320.647,-542.952 320.647,-548.952 320.647,-548.952 320.647,-560.952 320.647,-560.952 320.647,-566.952 314.647,-572.952 308.647,-572.952 308.647,-572.952 278.647,-572.952 278.647,-572.952 272.647,-572.952 266.647,-566.952 266.647,-560.952 266.647,-560.952 266.647,-548.952 266.647,-548.952 266.647,-542.952 272.647,-536.952 278.647,-536.952\" fill=\"aliceblue\" stroke=\"black\" stroke-width=\"0.5\"/>\n",
       "<text font-family=\"Times New Roman,serif\" font-size=\"11.00\" text-anchor=\"middle\" x=\"293.647\" y=\"-552.152\">apple</text>\n",
       "</g>\n",
       "<!-- fruiting&#45;body -->\n",
       "<g class=\"node\" id=\"node4\"><title>fruiting-body</title>\n",
       "<path d=\"M289.697,-459.269C289.697,-459.269 337.697,-459.269 337.697,-459.269 343.697,-459.269 349.697,-465.269 349.697,-471.269 349.697,-471.269 349.697,-483.269 349.697,-483.269 349.697,-489.269 343.697,-495.269 337.697,-495.269 337.697,-495.269 289.697,-495.269 289.697,-495.269 283.697,-495.269 277.697,-489.269 277.697,-483.269 277.697,-483.269 277.697,-471.269 277.697,-471.269 277.697,-465.269 283.697,-459.269 289.697,-459.269\" fill=\"aliceblue\" stroke=\"black\" stroke-width=\"0.5\"/>\n",
       "<text font-family=\"Times New Roman,serif\" font-size=\"11.00\" text-anchor=\"middle\" x=\"313.697\" y=\"-474.469\">fruiting-body</text>\n",
       "</g>\n",
       "<!-- fruiting&#45;body&#45;&#45;apple -->\n",
       "<g class=\"edge\" id=\"edge2\"><title>fruiting-body--apple</title>\n",
       "<path d=\"M306.471,-505.266C303.764,-515.755 300.761,-527.39 298.341,-536.763\" fill=\"none\" stroke=\"black\" stroke-width=\"0.5\"/>\n",
       "<polygon fill=\"none\" points=\"309.936,-505.844 309.047,-495.286 303.158,-504.094 309.936,-505.844\" stroke=\"black\" stroke-width=\"0.5\"/>\n",
       "</g>\n",
       "<!-- berry -->\n",
       "<g class=\"node\" id=\"node12\"><title>berry</title>\n",
       "<path d=\"M380.327,-565.226C380.327,-565.226 410.327,-565.226 410.327,-565.226 416.327,-565.226 422.327,-571.226 422.327,-577.226 422.327,-577.226 422.327,-589.226 422.327,-589.226 422.327,-595.226 416.327,-601.226 410.327,-601.226 410.327,-601.226 380.327,-601.226 380.327,-601.226 374.327,-601.226 368.327,-595.226 368.327,-589.226 368.327,-589.226 368.327,-577.226 368.327,-577.226 368.327,-571.226 374.327,-565.226 380.327,-565.226\" fill=\"aliceblue\" stroke=\"black\" stroke-width=\"0.5\"/>\n",
       "<text font-family=\"Times New Roman,serif\" font-size=\"11.00\" text-anchor=\"middle\" x=\"395.327\" y=\"-580.426\">berry</text>\n",
       "</g>\n",
       "<!-- fruiting&#45;body&#45;&#45;berry -->\n",
       "<g class=\"edge\" id=\"edge9\"><title>fruiting-body--berry</title>\n",
       "<path d=\"M334.095,-503.747C348.803,-522.837 368.273,-548.11 381.271,-564.981\" fill=\"none\" stroke=\"black\" stroke-width=\"0.5\"/>\n",
       "<polygon fill=\"none\" points=\"336.791,-501.511 327.916,-495.726 331.246,-505.783 336.791,-501.511\" stroke=\"black\" stroke-width=\"0.5\"/>\n",
       "</g>\n",
       "<!-- rock&#45;dassie -->\n",
       "<g class=\"node\" id=\"node5\"><title>rock-dassie</title>\n",
       "<path d=\"M1087.51,-368.948C1087.51,-368.948 1130.51,-368.948 1130.51,-368.948 1136.51,-368.948 1142.51,-374.948 1142.51,-380.948 1142.51,-380.948 1142.51,-392.948 1142.51,-392.948 1142.51,-398.948 1136.51,-404.948 1130.51,-404.948 1130.51,-404.948 1087.51,-404.948 1087.51,-404.948 1081.51,-404.948 1075.51,-398.948 1075.51,-392.948 1075.51,-392.948 1075.51,-380.948 1075.51,-380.948 1075.51,-374.948 1081.51,-368.948 1087.51,-368.948\" fill=\"aliceblue\" stroke=\"black\" stroke-width=\"0.5\"/>\n",
       "<text font-family=\"Times New Roman,serif\" font-size=\"11.00\" text-anchor=\"middle\" x=\"1109.01\" y=\"-384.148\">rock-dassie</text>\n",
       "</g>\n",
       "<!-- animal -->\n",
       "<g class=\"node\" id=\"node6\"><title>animal</title>\n",
       "<path d=\"M913.762,-362.885C913.762,-362.885 943.762,-362.885 943.762,-362.885 949.762,-362.885 955.762,-368.885 955.762,-374.885 955.762,-374.885 955.762,-386.885 955.762,-386.885 955.762,-392.885 949.762,-398.885 943.762,-398.885 943.762,-398.885 913.762,-398.885 913.762,-398.885 907.762,-398.885 901.762,-392.885 901.762,-386.885 901.762,-386.885 901.762,-374.885 901.762,-374.885 901.762,-368.885 907.762,-362.885 913.762,-362.885\" fill=\"aliceblue\" stroke=\"black\" stroke-width=\"0.5\"/>\n",
       "<text font-family=\"Times New Roman,serif\" font-size=\"11.00\" text-anchor=\"middle\" x=\"928.762\" y=\"-378.085\">animal</text>\n",
       "</g>\n",
       "<!-- animal&#45;&#45;rock&#45;dassie -->\n",
       "<g class=\"edge\" id=\"edge3\"><title>animal--rock-dassie</title>\n",
       "<path d=\"M966.464,-382.153C998.57,-383.233 1044.28,-384.771 1075.22,-385.812\" fill=\"none\" stroke=\"black\" stroke-width=\"0.5\"/>\n",
       "<polygon fill=\"none\" points=\"966.25,-378.644 956.138,-381.806 966.014,-385.64 966.25,-378.644\" stroke=\"black\" stroke-width=\"0.5\"/>\n",
       "</g>\n",
       "<!-- warthog -->\n",
       "<g class=\"node\" id=\"node11\"><title>warthog</title>\n",
       "<path d=\"M1008.9,-492.758C1008.9,-492.758 1038.9,-492.758 1038.9,-492.758 1044.9,-492.758 1050.9,-498.758 1050.9,-504.758 1050.9,-504.758 1050.9,-516.758 1050.9,-516.758 1050.9,-522.758 1044.9,-528.758 1038.9,-528.758 1038.9,-528.758 1008.9,-528.758 1008.9,-528.758 1002.9,-528.758 996.904,-522.758 996.904,-516.758 996.904,-516.758 996.904,-504.758 996.904,-504.758 996.904,-498.758 1002.9,-492.758 1008.9,-492.758\" fill=\"aliceblue\" stroke=\"black\" stroke-width=\"0.5\"/>\n",
       "<text font-family=\"Times New Roman,serif\" font-size=\"11.00\" text-anchor=\"middle\" x=\"1023.9\" y=\"-507.958\">warthog</text>\n",
       "</g>\n",
       "<!-- animal&#45;&#45;warthog -->\n",
       "<g class=\"edge\" id=\"edge7\"><title>animal--warthog</title>\n",
       "<path d=\"M947.907,-407.019C966.47,-432.357 994.151,-470.143 1010.48,-492.434\" fill=\"none\" stroke=\"black\" stroke-width=\"0.5\"/>\n",
       "<polygon fill=\"none\" points=\"950.724,-404.942 941.991,-398.943 945.078,-409.079 950.724,-404.942\" stroke=\"black\" stroke-width=\"0.5\"/>\n",
       "</g>\n",
       "<!-- herbivore -->\n",
       "<g class=\"node\" id=\"node13\"><title>herbivore</title>\n",
       "<path d=\"M787.356,-354.546C787.356,-354.546 821.356,-354.546 821.356,-354.546 827.356,-354.546 833.356,-360.546 833.356,-366.546 833.356,-366.546 833.356,-378.546 833.356,-378.546 833.356,-384.546 827.356,-390.546 821.356,-390.546 821.356,-390.546 787.356,-390.546 787.356,-390.546 781.356,-390.546 775.356,-384.546 775.356,-378.546 775.356,-378.546 775.356,-366.546 775.356,-366.546 775.356,-360.546 781.356,-354.546 787.356,-354.546\" fill=\"aliceblue\" stroke=\"black\" stroke-width=\"0.5\"/>\n",
       "<text font-family=\"Times New Roman,serif\" font-size=\"11.00\" text-anchor=\"middle\" x=\"804.356\" y=\"-369.746\">herbivore</text>\n",
       "</g>\n",
       "<!-- animal&#45;&#45;herbivore -->\n",
       "<g class=\"edge\" id=\"edge10\"><title>animal--herbivore</title>\n",
       "<path d=\"M891.346,-378.377C872.903,-377.141 850.986,-375.672 833.764,-374.518\" fill=\"none\" stroke=\"black\" stroke-width=\"0.5\"/>\n",
       "<polygon fill=\"none\" points=\"891.249,-381.878 901.461,-379.055 891.717,-374.894 891.249,-381.878\" stroke=\"black\" stroke-width=\"0.5\"/>\n",
       "</g>\n",
       "<!-- omnivore -->\n",
       "<g class=\"node\" id=\"node14\"><title>omnivore</title>\n",
       "<path d=\"M1064.42,-440.825C1064.42,-440.825 1097.42,-440.825 1097.42,-440.825 1103.42,-440.825 1109.42,-446.825 1109.42,-452.825 1109.42,-452.825 1109.42,-464.825 1109.42,-464.825 1109.42,-470.825 1103.42,-476.825 1097.42,-476.825 1097.42,-476.825 1064.42,-476.825 1064.42,-476.825 1058.42,-476.825 1052.42,-470.825 1052.42,-464.825 1052.42,-464.825 1052.42,-452.825 1052.42,-452.825 1052.42,-446.825 1058.42,-440.825 1064.42,-440.825\" fill=\"aliceblue\" stroke=\"black\" stroke-width=\"0.5\"/>\n",
       "<text font-family=\"Times New Roman,serif\" font-size=\"11.00\" text-anchor=\"middle\" x=\"1080.92\" y=\"-456.025\">omnivore</text>\n",
       "</g>\n",
       "<!-- animal&#45;&#45;omnivore -->\n",
       "<g class=\"edge\" id=\"edge11\"><title>animal--omnivore</title>\n",
       "<path d=\"M965.015,-399.454C991.773,-413.16 1027.68,-431.555 1052.41,-444.218\" fill=\"none\" stroke=\"black\" stroke-width=\"0.5\"/>\n",
       "<polygon fill=\"none\" points=\"966.462,-396.263 955.966,-394.819 963.271,-402.493 966.462,-396.263\" stroke=\"black\" stroke-width=\"0.5\"/>\n",
       "</g>\n",
       "<!-- carnivore -->\n",
       "<g class=\"node\" id=\"node17\"><title>carnivore</title>\n",
       "<path d=\"M944.499,-236.415C944.499,-236.415 978.499,-236.415 978.499,-236.415 984.499,-236.415 990.499,-242.415 990.499,-248.415 990.499,-248.415 990.499,-260.415 990.499,-260.415 990.499,-266.415 984.499,-272.415 978.499,-272.415 978.499,-272.415 944.499,-272.415 944.499,-272.415 938.499,-272.415 932.499,-266.415 932.499,-260.415 932.499,-260.415 932.499,-248.415 932.499,-248.415 932.499,-242.415 938.499,-236.415 944.499,-236.415\" fill=\"aliceblue\" stroke=\"black\" stroke-width=\"0.5\"/>\n",
       "<text font-family=\"Times New Roman,serif\" font-size=\"11.00\" text-anchor=\"middle\" x=\"961.499\" y=\"-251.615\">carnivore</text>\n",
       "</g>\n",
       "<!-- animal&#45;&#45;carnivore -->\n",
       "<g class=\"edge\" id=\"edge14\"><title>animal--carnivore</title>\n",
       "<path d=\"M935.988,-352.969C942.333,-328.458 951.376,-293.524 956.817,-272.502\" fill=\"none\" stroke=\"black\" stroke-width=\"0.5\"/>\n",
       "<polygon fill=\"none\" points=\"932.57,-352.207 933.453,-362.765 939.347,-353.961 932.57,-352.207\" stroke=\"black\" stroke-width=\"0.5\"/>\n",
       "</g>\n",
       "<!-- impala -->\n",
       "<g class=\"node\" id=\"node21\"><title>impala</title>\n",
       "<path d=\"M1065.05,-292.553C1065.05,-292.553 1095.05,-292.553 1095.05,-292.553 1101.05,-292.553 1107.05,-298.553 1107.05,-304.553 1107.05,-304.553 1107.05,-316.553 1107.05,-316.553 1107.05,-322.553 1101.05,-328.553 1095.05,-328.553 1095.05,-328.553 1065.05,-328.553 1065.05,-328.553 1059.05,-328.553 1053.05,-322.553 1053.05,-316.553 1053.05,-316.553 1053.05,-304.553 1053.05,-304.553 1053.05,-298.553 1059.05,-292.553 1065.05,-292.553\" fill=\"aliceblue\" stroke=\"black\" stroke-width=\"0.5\"/>\n",
       "<text font-family=\"Times New Roman,serif\" font-size=\"11.00\" text-anchor=\"middle\" x=\"1080.05\" y=\"-307.753\">impala</text>\n",
       "</g>\n",
       "<!-- animal&#45;&#45;impala -->\n",
       "<g class=\"edge\" id=\"edge18\"><title>animal--impala</title>\n",
       "<path d=\"M964.956,-364.059C992.013,-351.481 1028.42,-334.556 1052.98,-323.136\" fill=\"none\" stroke=\"black\" stroke-width=\"0.5\"/>\n",
       "<polygon fill=\"none\" points=\"963.403,-360.921 955.81,-368.311 966.354,-367.269 963.403,-360.921\" stroke=\"black\" stroke-width=\"0.5\"/>\n",
       "</g>\n",
       "<!-- giraffe -->\n",
       "<g class=\"node\" id=\"node28\"><title>giraffe</title>\n",
       "<path d=\"M870.942,-462.609C870.942,-462.609 900.942,-462.609 900.942,-462.609 906.942,-462.609 912.942,-468.609 912.942,-474.609 912.942,-474.609 912.942,-486.609 912.942,-486.609 912.942,-492.609 906.942,-498.609 900.942,-498.609 900.942,-498.609 870.942,-498.609 870.942,-498.609 864.942,-498.609 858.942,-492.609 858.942,-486.609 858.942,-486.609 858.942,-474.609 858.942,-474.609 858.942,-468.609 864.942,-462.609 870.942,-462.609\" fill=\"aliceblue\" stroke=\"black\" stroke-width=\"0.5\"/>\n",
       "<text font-family=\"Times New Roman,serif\" font-size=\"11.00\" text-anchor=\"middle\" x=\"885.942\" y=\"-477.809\">giraffe</text>\n",
       "</g>\n",
       "<!-- animal&#45;&#45;giraffe -->\n",
       "<g class=\"edge\" id=\"edge25\"><title>animal--giraffe</title>\n",
       "<path d=\"M916.818,-408.702C909.443,-425.879 900.191,-447.426 893.746,-462.434\" fill=\"none\" stroke=\"black\" stroke-width=\"0.5\"/>\n",
       "<polygon fill=\"none\" points=\"920.179,-409.745 920.908,-399.176 913.747,-406.984 920.179,-409.745\" stroke=\"black\" stroke-width=\"0.5\"/>\n",
       "</g>\n",
       "<!-- twig -->\n",
       "<g class=\"node\" id=\"node7\"><title>twig</title>\n",
       "<path d=\"M11.8144,-363.835C11.8144,-363.835 41.8144,-363.835 41.8144,-363.835 47.8144,-363.835 53.8144,-369.835 53.8144,-375.835 53.8144,-375.835 53.8144,-387.835 53.8144,-387.835 53.8144,-393.835 47.8144,-399.835 41.8144,-399.835 41.8144,-399.835 11.8144,-399.835 11.8144,-399.835 5.81441,-399.835 -0.185587,-393.835 -0.185587,-387.835 -0.185587,-387.835 -0.185587,-375.835 -0.185587,-375.835 -0.185587,-369.835 5.81441,-363.835 11.8144,-363.835\" fill=\"aliceblue\" stroke=\"black\" stroke-width=\"0.5\"/>\n",
       "<text font-family=\"Times New Roman,serif\" font-size=\"11.00\" text-anchor=\"middle\" x=\"26.8144\" y=\"-379.035\">twig</text>\n",
       "</g>\n",
       "<!-- plant&#45;part -->\n",
       "<g class=\"node\" id=\"node8\"><title>plant-part</title>\n",
       "<path d=\"M139.307,-312.484C139.307,-312.484 174.307,-312.484 174.307,-312.484 180.307,-312.484 186.307,-318.484 186.307,-324.484 186.307,-324.484 186.307,-336.484 186.307,-336.484 186.307,-342.484 180.307,-348.484 174.307,-348.484 174.307,-348.484 139.307,-348.484 139.307,-348.484 133.307,-348.484 127.307,-342.484 127.307,-336.484 127.307,-336.484 127.307,-324.484 127.307,-324.484 127.307,-318.484 133.307,-312.484 139.307,-312.484\" fill=\"aliceblue\" stroke=\"black\" stroke-width=\"0.5\"/>\n",
       "<text font-family=\"Times New Roman,serif\" font-size=\"11.00\" text-anchor=\"middle\" x=\"156.807\" y=\"-327.684\">plant-part</text>\n",
       "</g>\n",
       "<!-- plant&#45;part&#45;&#45;fruiting&#45;body -->\n",
       "<g class=\"edge\" id=\"edge8\"><title>plant-part--fruiting-body</title>\n",
       "<path d=\"M183.922,-355.853C215.439,-385.34 266.662,-433.264 294.39,-459.206\" fill=\"none\" stroke=\"black\" stroke-width=\"0.5\"/>\n",
       "<polygon fill=\"none\" points=\"186.054,-353.054 176.36,-348.778 181.271,-358.166 186.054,-353.054\" stroke=\"black\" stroke-width=\"0.5\"/>\n",
       "</g>\n",
       "<!-- plant&#45;part&#45;&#45;twig -->\n",
       "<g class=\"edge\" id=\"edge4\"><title>plant-part--twig</title>\n",
       "<path d=\"M117.554,-345.99C96.9671,-354.123 72.2709,-363.879 53.844,-371.158\" fill=\"none\" stroke=\"black\" stroke-width=\"0.5\"/>\n",
       "<polygon fill=\"none\" points=\"118.97,-349.194 126.984,-342.265 116.398,-342.684 118.97,-349.194\" stroke=\"black\" stroke-width=\"0.5\"/>\n",
       "</g>\n",
       "<!-- stem -->\n",
       "<g class=\"node\" id=\"node9\"><title>stem</title>\n",
       "<path d=\"M15.938,-302.958C15.938,-302.958 45.938,-302.958 45.938,-302.958 51.938,-302.958 57.938,-308.958 57.938,-314.958 57.938,-314.958 57.938,-326.958 57.938,-326.958 57.938,-332.958 51.938,-338.958 45.938,-338.958 45.938,-338.958 15.938,-338.958 15.938,-338.958 9.93797,-338.958 3.93797,-332.958 3.93797,-326.958 3.93797,-326.958 3.93797,-314.958 3.93797,-314.958 3.93797,-308.958 9.93797,-302.958 15.938,-302.958\" fill=\"aliceblue\" stroke=\"black\" stroke-width=\"0.5\"/>\n",
       "<text font-family=\"Times New Roman,serif\" font-size=\"11.00\" text-anchor=\"middle\" x=\"30.938\" y=\"-318.158\">stem</text>\n",
       "</g>\n",
       "<!-- plant&#45;part&#45;&#45;stem -->\n",
       "<g class=\"edge\" id=\"edge5\"><title>plant-part--stem</title>\n",
       "<path d=\"M117.3,-327.494C98.0511,-326.037 75.3919,-324.322 58.1141,-323.014\" fill=\"none\" stroke=\"black\" stroke-width=\"0.5\"/>\n",
       "<polygon fill=\"none\" points=\"117.061,-330.986 127.297,-328.251 117.589,-324.006 117.061,-330.986\" stroke=\"black\" stroke-width=\"0.5\"/>\n",
       "</g>\n",
       "<!-- leaf -->\n",
       "<g class=\"node\" id=\"node10\"><title>leaf</title>\n",
       "<path d=\"M218.186,-226.768C218.186,-226.768 248.186,-226.768 248.186,-226.768 254.186,-226.768 260.186,-232.768 260.186,-238.768 260.186,-238.768 260.186,-250.768 260.186,-250.768 260.186,-256.768 254.186,-262.768 248.186,-262.768 248.186,-262.768 218.186,-262.768 218.186,-262.768 212.186,-262.768 206.186,-256.768 206.186,-250.768 206.186,-250.768 206.186,-238.768 206.186,-238.768 206.186,-232.768 212.186,-226.768 218.186,-226.768\" fill=\"aliceblue\" stroke=\"black\" stroke-width=\"0.5\"/>\n",
       "<text font-family=\"Times New Roman,serif\" font-size=\"11.00\" text-anchor=\"middle\" x=\"233.186\" y=\"-241.968\">leaf</text>\n",
       "</g>\n",
       "<!-- plant&#45;part&#45;&#45;leaf -->\n",
       "<g class=\"edge\" id=\"edge6\"><title>plant-part--leaf</title>\n",
       "<path d=\"M179.754,-304.733C191.764,-291.254 206.181,-275.074 217.011,-262.92\" fill=\"none\" stroke=\"black\" stroke-width=\"0.5\"/>\n",
       "<polygon fill=\"none\" points=\"177.045,-302.511 173.005,-312.306 182.271,-307.168 177.045,-302.511\" stroke=\"black\" stroke-width=\"0.5\"/>\n",
       "</g>\n",
       "<!-- phloem -->\n",
       "<g class=\"node\" id=\"node16\"><title>phloem</title>\n",
       "<path d=\"M53.4032,-424.739C53.4032,-424.739 83.4032,-424.739 83.4032,-424.739 89.4032,-424.739 95.4032,-430.739 95.4032,-436.739 95.4032,-436.739 95.4032,-448.739 95.4032,-448.739 95.4032,-454.739 89.4032,-460.739 83.4032,-460.739 83.4032,-460.739 53.4032,-460.739 53.4032,-460.739 47.4032,-460.739 41.4032,-454.739 41.4032,-448.739 41.4032,-448.739 41.4032,-436.739 41.4032,-436.739 41.4032,-430.739 47.4032,-424.739 53.4032,-424.739\" fill=\"aliceblue\" stroke=\"black\" stroke-width=\"0.5\"/>\n",
       "<text font-family=\"Times New Roman,serif\" font-size=\"11.00\" text-anchor=\"middle\" x=\"68.4032\" y=\"-439.939\">phloem</text>\n",
       "</g>\n",
       "<!-- plant&#45;part&#45;&#45;phloem -->\n",
       "<g class=\"edge\" id=\"edge13\"><title>plant-part--phloem</title>\n",
       "<path d=\"M136.224,-356.621C119.857,-377.403 97.3745,-405.952 82.8653,-424.375\" fill=\"none\" stroke=\"black\" stroke-width=\"0.5\"/>\n",
       "<polygon fill=\"none\" points=\"139.166,-358.542 142.604,-348.52 133.667,-354.211 139.166,-358.542\" stroke=\"black\" stroke-width=\"0.5\"/>\n",
       "</g>\n",
       "<!-- branch -->\n",
       "<g class=\"node\" id=\"node18\"><title>branch</title>\n",
       "<path d=\"M45.5209,-251.505C45.5209,-251.505 75.5209,-251.505 75.5209,-251.505 81.5209,-251.505 87.5209,-257.505 87.5209,-263.505 87.5209,-263.505 87.5209,-275.505 87.5209,-275.505 87.5209,-281.505 81.5209,-287.505 75.5209,-287.505 75.5209,-287.505 45.5209,-287.505 45.5209,-287.505 39.5209,-287.505 33.5209,-281.505 33.5209,-275.505 33.5209,-275.505 33.5209,-263.505 33.5209,-263.505 33.5209,-257.505 39.5209,-251.505 45.5209,-251.505\" fill=\"aliceblue\" stroke=\"black\" stroke-width=\"0.5\"/>\n",
       "<text font-family=\"Times New Roman,serif\" font-size=\"11.00\" text-anchor=\"middle\" x=\"60.5209\" y=\"-266.705\">branch</text>\n",
       "</g>\n",
       "<!-- plant&#45;part&#45;&#45;branch -->\n",
       "<g class=\"edge\" id=\"edge15\"><title>plant-part--branch</title>\n",
       "<path d=\"M119.467,-306.836C108.829,-300.099 97.4498,-292.892 87.5542,-286.625\" fill=\"none\" stroke=\"black\" stroke-width=\"0.5\"/>\n",
       "<polygon fill=\"none\" points=\"117.858,-309.96 128.179,-312.353 121.603,-304.046 117.858,-309.96\" stroke=\"black\" stroke-width=\"0.5\"/>\n",
       "</g>\n",
       "<!-- root -->\n",
       "<g class=\"node\" id=\"node24\"><title>root</title>\n",
       "<path d=\"M161.967,-166.929C161.967,-166.929 191.967,-166.929 191.967,-166.929 197.967,-166.929 203.967,-172.929 203.967,-178.929 203.967,-178.929 203.967,-190.929 203.967,-190.929 203.967,-196.929 197.967,-202.929 191.967,-202.929 191.967,-202.929 161.967,-202.929 161.967,-202.929 155.967,-202.929 149.967,-196.929 149.967,-190.929 149.967,-190.929 149.967,-178.929 149.967,-178.929 149.967,-172.929 155.967,-166.929 161.967,-166.929\" fill=\"aliceblue\" stroke=\"black\" stroke-width=\"0.5\"/>\n",
       "<text font-family=\"Times New Roman,serif\" font-size=\"11.00\" text-anchor=\"middle\" x=\"176.967\" y=\"-182.129\">root</text>\n",
       "</g>\n",
       "<!-- plant&#45;part&#45;&#45;root -->\n",
       "<g class=\"edge\" id=\"edge21\"><title>plant-part--root</title>\n",
       "<path d=\"M160.704,-302.352C164.751,-273.131 170.965,-228.262 174.423,-203.298\" fill=\"none\" stroke=\"black\" stroke-width=\"0.5\"/>\n",
       "<polygon fill=\"none\" points=\"157.225,-301.958 159.32,-312.344 164.159,-302.919 157.225,-301.958\" stroke=\"black\" stroke-width=\"0.5\"/>\n",
       "</g>\n",
       "<!-- xylem -->\n",
       "<g class=\"node\" id=\"node27\"><title>xylem</title>\n",
       "<path d=\"M110.926,-215.561C110.926,-215.561 140.926,-215.561 140.926,-215.561 146.926,-215.561 152.926,-221.561 152.926,-227.561 152.926,-227.561 152.926,-239.561 152.926,-239.561 152.926,-245.561 146.926,-251.561 140.926,-251.561 140.926,-251.561 110.926,-251.561 110.926,-251.561 104.926,-251.561 98.9264,-245.561 98.9264,-239.561 98.9264,-239.561 98.9264,-227.561 98.9264,-227.561 98.9264,-221.561 104.926,-215.561 110.926,-215.561\" fill=\"aliceblue\" stroke=\"black\" stroke-width=\"0.5\"/>\n",
       "<text font-family=\"Times New Roman,serif\" font-size=\"11.00\" text-anchor=\"middle\" x=\"125.926\" y=\"-230.761\">xylem</text>\n",
       "</g>\n",
       "<!-- plant&#45;part&#45;&#45;xylem -->\n",
       "<g class=\"edge\" id=\"edge24\"><title>plant-part--xylem</title>\n",
       "<path d=\"M147.937,-302.645C142.721,-286.272 136.274,-266.037 131.709,-251.71\" fill=\"none\" stroke=\"black\" stroke-width=\"0.5\"/>\n",
       "<polygon fill=\"none\" points=\"144.628,-303.788 150.999,-312.254 151.298,-301.663 144.628,-303.788\" stroke=\"black\" stroke-width=\"0.5\"/>\n",
       "</g>\n",
       "<!-- elephant -->\n",
       "<g class=\"node\" id=\"node25\"><title>elephant</title>\n",
       "<path d=\"M751.391,-202.055C751.391,-202.055 781.391,-202.055 781.391,-202.055 787.391,-202.055 793.391,-208.055 793.391,-214.055 793.391,-214.055 793.391,-226.055 793.391,-226.055 793.391,-232.055 787.391,-238.055 781.391,-238.055 781.391,-238.055 751.391,-238.055 751.391,-238.055 745.391,-238.055 739.391,-232.055 739.391,-226.055 739.391,-226.055 739.391,-214.055 739.391,-214.055 739.391,-208.055 745.391,-202.055 751.391,-202.055\" fill=\"aliceblue\" stroke=\"black\" stroke-width=\"0.5\"/>\n",
       "<text font-family=\"Times New Roman,serif\" font-size=\"11.00\" text-anchor=\"middle\" x=\"766.391\" y=\"-217.255\">elephant</text>\n",
       "</g>\n",
       "<!-- herbivore&#45;&#45;elephant -->\n",
       "<g class=\"edge\" id=\"edge22\"><title>herbivore--elephant</title>\n",
       "<path d=\"M797.422,-344.696C789.702,-313.688 777.451,-264.477 770.89,-238.123\" fill=\"none\" stroke=\"black\" stroke-width=\"0.5\"/>\n",
       "<polygon fill=\"none\" points=\"794.039,-345.597 799.852,-354.455 800.832,-343.905 794.039,-345.597\" stroke=\"black\" stroke-width=\"0.5\"/>\n",
       "</g>\n",
       "<!-- Mary&#45;01 -->\n",
       "<g class=\"node\" id=\"node30\"><title>Mary-01</title>\n",
       "<path d=\"M597.596,-419.164C597.596,-419.164 628.596,-419.164 628.596,-419.164 634.596,-419.164 640.596,-425.164 640.596,-431.164 640.596,-431.164 640.596,-443.164 640.596,-443.164 640.596,-449.164 634.596,-455.164 628.596,-455.164 628.596,-455.164 597.596,-455.164 597.596,-455.164 591.596,-455.164 585.596,-449.164 585.596,-443.164 585.596,-443.164 585.596,-431.164 585.596,-431.164 585.596,-425.164 591.596,-419.164 597.596,-419.164\" fill=\"whitesmoke\" stroke=\"black\" stroke-width=\"0.5\"/>\n",
       "<text font-family=\"Times New Roman,serif\" font-size=\"11.00\" text-anchor=\"middle\" x=\"613.096\" y=\"-434.364\">Mary-01</text>\n",
       "</g>\n",
       "<!-- herbivore&#45;&#45;Mary&#45;01 -->\n",
       "<g class=\"edge\" id=\"edge29\"><title>herbivore--Mary-01</title>\n",
       "<path d=\"M765.37,-385.718C728.354,-398.224 673.636,-416.711 640.861,-427.784\" fill=\"none\" stroke=\"black\" stroke-dasharray=\"5,2\" stroke-width=\"0.5\"/>\n",
       "<polygon fill=\"none\" points=\"766.954,-388.877 775.308,-382.36 764.713,-382.245 766.954,-388.877\" stroke=\"black\" stroke-width=\"0.5\"/>\n",
       "</g>\n",
       "<!-- Sophie&#45;01 -->\n",
       "<g class=\"node\" id=\"node31\"><title>Sophie-01</title>\n",
       "<path d=\"M782.263,-414.756C782.263,-414.756 818.263,-414.756 818.263,-414.756 824.263,-414.756 830.263,-420.756 830.263,-426.756 830.263,-426.756 830.263,-438.756 830.263,-438.756 830.263,-444.756 824.263,-450.756 818.263,-450.756 818.263,-450.756 782.263,-450.756 782.263,-450.756 776.263,-450.756 770.263,-444.756 770.263,-438.756 770.263,-438.756 770.263,-426.756 770.263,-426.756 770.263,-420.756 776.263,-414.756 782.263,-414.756\" fill=\"whitesmoke\" stroke=\"black\" stroke-width=\"0.5\"/>\n",
       "<text font-family=\"Times New Roman,serif\" font-size=\"11.00\" text-anchor=\"middle\" x=\"800.263\" y=\"-429.956\">Sophie-01</text>\n",
       "</g>\n",
       "<!-- herbivore&#45;&#45;Sophie&#45;01 -->\n",
       "<g class=\"edge\" id=\"edge31\"><title>herbivore--Sophie-01</title>\n",
       "<path d=\"M802.44,-400.729C802.117,-405.482 801.79,-410.299 801.49,-414.704\" fill=\"none\" stroke=\"black\" stroke-dasharray=\"5,2\" stroke-width=\"0.5\"/>\n",
       "<polygon fill=\"none\" points=\"805.942,-400.826 803.128,-390.611 798.958,-400.351 805.942,-400.826\" stroke=\"black\" stroke-width=\"0.5\"/>\n",
       "</g>\n",
       "<!-- lion -->\n",
       "<g class=\"node\" id=\"node19\"><title>lion</title>\n",
       "<path d=\"M823.991,-232.507C823.991,-232.507 853.991,-232.507 853.991,-232.507 859.991,-232.507 865.991,-238.507 865.991,-244.507 865.991,-244.507 865.991,-256.507 865.991,-256.507 865.991,-262.507 859.991,-268.507 853.991,-268.507 853.991,-268.507 823.991,-268.507 823.991,-268.507 817.991,-268.507 811.991,-262.507 811.991,-256.507 811.991,-256.507 811.991,-244.507 811.991,-244.507 811.991,-238.507 817.991,-232.507 823.991,-232.507\" fill=\"aliceblue\" stroke=\"black\" stroke-width=\"0.5\"/>\n",
       "<text font-family=\"Times New Roman,serif\" font-size=\"11.00\" text-anchor=\"middle\" x=\"838.991\" y=\"-247.707\">lion</text>\n",
       "</g>\n",
       "<!-- carnivore&#45;&#45;lion -->\n",
       "<g class=\"edge\" id=\"edge16\"><title>carnivore--lion</title>\n",
       "<path d=\"M922.368,-253.167C904.04,-252.582 882.658,-251.9 866.137,-251.373\" fill=\"none\" stroke=\"black\" stroke-width=\"0.5\"/>\n",
       "<polygon fill=\"none\" points=\"922.36,-256.668 932.466,-253.489 922.583,-249.672 922.36,-256.668\" stroke=\"black\" stroke-width=\"0.5\"/>\n",
       "</g>\n",
       "<!-- Leo&#45;01 -->\n",
       "<g class=\"node\" id=\"node32\"><title>Leo-01</title>\n",
       "<path d=\"M667.902,-288.006C667.902,-288.006 697.902,-288.006 697.902,-288.006 703.902,-288.006 709.902,-294.006 709.902,-300.006 709.902,-300.006 709.902,-312.006 709.902,-312.006 709.902,-318.006 703.902,-324.006 697.902,-324.006 697.902,-324.006 667.902,-324.006 667.902,-324.006 661.902,-324.006 655.902,-318.006 655.902,-312.006 655.902,-312.006 655.902,-300.006 655.902,-300.006 655.902,-294.006 661.902,-288.006 667.902,-288.006\" fill=\"whitesmoke\" stroke=\"black\" stroke-width=\"0.5\"/>\n",
       "<text font-family=\"Times New Roman,serif\" font-size=\"11.00\" text-anchor=\"middle\" x=\"682.902\" y=\"-303.206\">Leo-01</text>\n",
       "</g>\n",
       "<!-- lion&#45;&#45;Leo&#45;01 -->\n",
       "<g class=\"edge\" id=\"edge32\"><title>lion--Leo-01</title>\n",
       "<path d=\"M802.266,-263.565C774,-273.615 735.573,-287.278 710.041,-296.357\" fill=\"none\" stroke=\"black\" stroke-dasharray=\"5,2\" stroke-width=\"0.5\"/>\n",
       "<polygon fill=\"none\" points=\"803.553,-266.822 811.802,-260.174 801.208,-260.227 803.553,-266.822\" stroke=\"black\" stroke-width=\"0.5\"/>\n",
       "</g>\n",
       "<!-- palm&#45;tree&#45;&#45;Mary&#45;01 -->\n",
       "<g class=\"edge\" id=\"edge28\"><title>palm-tree--Mary-01</title>\n",
       "<path d=\"M514.772,-501.825C537.035,-487.184 565.158,-468.69 585.618,-455.234\" fill=\"none\" stroke=\"black\" stroke-dasharray=\"5,2\" stroke-width=\"0.5\"/>\n",
       "<polygon fill=\"none\" points=\"512.679,-499.012 506.247,-507.431 516.526,-504.861 512.679,-499.012\" stroke=\"black\" stroke-width=\"0.5\"/>\n",
       "</g>\n",
       "<!-- parsnip -->\n",
       "<g class=\"node\" id=\"node23\"><title>parsnip</title>\n",
       "<path d=\"M151.479,-0.708794C151.479,-0.708794 181.479,-0.708794 181.479,-0.708794 187.479,-0.708794 193.479,-6.70879 193.479,-12.7088 193.479,-12.7088 193.479,-24.7088 193.479,-24.7088 193.479,-30.7088 187.479,-36.7088 181.479,-36.7088 181.479,-36.7088 151.479,-36.7088 151.479,-36.7088 145.479,-36.7088 139.479,-30.7088 139.479,-24.7088 139.479,-24.7088 139.479,-12.7088 139.479,-12.7088 139.479,-6.70879 145.479,-0.708794 151.479,-0.708794\" fill=\"aliceblue\" stroke=\"black\" stroke-width=\"0.5\"/>\n",
       "<text font-family=\"Times New Roman,serif\" font-size=\"11.00\" text-anchor=\"middle\" x=\"166.479\" y=\"-15.9088\">parsnip</text>\n",
       "</g>\n",
       "<!-- root&#45;&#45;parsnip -->\n",
       "<g class=\"edge\" id=\"edge20\"><title>root--parsnip</title>\n",
       "<path d=\"M175.176,-156.544C173.013,-122.265 169.439,-65.6285 167.62,-36.7914\" fill=\"none\" stroke=\"black\" stroke-width=\"0.5\"/>\n",
       "<polygon fill=\"none\" points=\"171.702,-157.064 175.825,-166.824 178.688,-156.624 171.702,-157.064\" stroke=\"black\" stroke-width=\"0.5\"/>\n",
       "</g>\n",
       "<!-- giraffe&#45;&#45;Sophie&#45;01 -->\n",
       "<g class=\"edge\" id=\"edge30\"><title>giraffe--Sophie-01</title>\n",
       "<path d=\"M849.673,-460.352C843.276,-456.779 836.679,-453.094 830.47,-449.627\" fill=\"none\" stroke=\"black\" stroke-dasharray=\"5,2\" stroke-width=\"0.5\"/>\n",
       "<polygon fill=\"none\" points=\"848.396,-463.647 858.833,-465.468 851.809,-457.536 848.396,-463.647\" stroke=\"black\" stroke-width=\"0.5\"/>\n",
       "</g>\n",
       "<!-- herb -->\n",
       "<g class=\"node\" id=\"node29\"><title>herb</title>\n",
       "<path d=\"M199.819,-495.025C199.819,-495.025 229.819,-495.025 229.819,-495.025 235.819,-495.025 241.819,-501.025 241.819,-507.025 241.819,-507.025 241.819,-519.025 241.819,-519.025 241.819,-525.025 235.819,-531.025 229.819,-531.025 229.819,-531.025 199.819,-531.025 199.819,-531.025 193.819,-531.025 187.819,-525.025 187.819,-519.025 187.819,-519.025 187.819,-507.025 187.819,-507.025 187.819,-501.025 193.819,-495.025 199.819,-495.025\" fill=\"aliceblue\" stroke=\"black\" stroke-width=\"0.5\"/>\n",
       "<text font-family=\"Times New Roman,serif\" font-size=\"11.00\" text-anchor=\"middle\" x=\"214.819\" y=\"-510.225\">herb</text>\n",
       "</g>\n",
       "<!-- herb&#45;&#45;plant -->\n",
       "<g class=\"edge\" id=\"edge26\"><title>herb--plant</title>\n",
       "<path d=\"M233.21,-539.831C246.845,-559.706 265.068,-586.268 277.044,-603.724\" fill=\"none\" stroke=\"black\" stroke-width=\"0.5\"/>\n",
       "<polygon fill=\"none\" points=\"236.036,-537.764 227.493,-531.498 230.264,-541.724 236.036,-537.764\" stroke=\"black\" stroke-width=\"0.5\"/>\n",
       "</g>\n",
       "<!-- herb&#45;&#45;plant&#45;part -->\n",
       "<g class=\"edge\" id=\"edge27\"><title>herb--plant-part</title>\n",
       "<path d=\"M205.903,-484.97C193.852,-447.048 172.706,-380.51 162.558,-348.581\" fill=\"none\" stroke=\"black\" stroke-width=\"0.5\"/>\n",
       "<polygon fill=\"none\" points=\"202.68,-486.384 209.045,-494.855 209.351,-484.264 202.68,-486.384\" stroke=\"black\" stroke-width=\"0.5\"/>\n",
       "</g>\n",
       "<!-- Leo&#45;01&#45;&#45;Mary&#45;01 -->\n",
       "<g class=\"edge\" id=\"edge33\"><title>Leo-01--Mary-01</title>\n",
       "<path d=\"M673.196,-324.243C661.318,-346.56 641.104,-384.541 627.433,-410.227\" fill=\"none\" stroke=\"black\" stroke-width=\"0.5\"/>\n",
       "<polygon fill=\"black\" points=\"622.72,-419.082 623.446,-408.14 625.069,-414.668 627.418,-410.254 627.418,-410.254 627.418,-410.254 625.069,-414.668 631.391,-412.369 622.72,-419.082 622.72,-419.082\" stroke=\"black\" stroke-width=\"0.5\"/>\n",
       "<text font-family=\"Times New Roman,serif\" font-size=\"11.00\" text-anchor=\"middle\" x=\"638.581\" y=\"-374.631\">eats</text>\n",
       "</g>\n",
       "<!-- Leo&#45;01&#45;&#45;Sophie&#45;01 -->\n",
       "<g class=\"edge\" id=\"edge34\"><title>Leo-01--Sophie-01</title>\n",
       "<path d=\"M699.717,-324.166C719.849,-345.908 753.698,-382.465 776.497,-407.088\" fill=\"none\" stroke=\"black\" stroke-width=\"0.5\"/>\n",
       "<polygon fill=\"black\" points=\"783.479,-414.629 773.383,-410.349 780.082,-410.961 776.685,-407.292 776.685,-407.292 776.685,-407.292 780.082,-410.961 779.987,-404.234 783.479,-414.629 783.479,-414.629\" stroke=\"black\" stroke-width=\"0.5\"/>\n",
       "<text font-family=\"Times New Roman,serif\" font-size=\"11.00\" text-anchor=\"middle\" x=\"732.152\" y=\"-372.656\">eats</text>\n",
       "</g>\n",
       "</g>\n",
       "</svg>"
      ],
      "text/plain": [
       "<IPython.core.display.SVG object>"
      ]
     },
     "execution_count": 11,
     "metadata": {},
     "output_type": "execute_result"
    }
   ],
   "source": [
    "onto.draw_graph(layout='force directed')"
   ]
  },
  {
   "cell_type": "code",
   "execution_count": 12,
   "metadata": {},
   "outputs": [
    {
     "name": "stdout",
     "output_type": "stream",
     "text": [
      "{\n",
      "  \"by\": [\n",
      "    {\n",
      "      \"expr\": \"Every carnivore eats nothing-but animals.\"\n",
      "    },\n",
      "    {\n",
      "      \"expr\": \"Every carnivore eats nothing-but animals.\"\n",
      "    },\n",
      "    {\n",
      "      \"expr\": \"Leo-01 eats Mary-01.\"\n",
      "    },\n",
      "    {\n",
      "      \"by\": [\n",
      "        {\n",
      "          \"by\": [\n",
      "            {\n",
      "              \"expr\": \"Every lion is a carnivore.\"\n",
      "            },\n",
      "            {\n",
      "              \"expr\": \"Every carnivore eats nothing-but animals.\"\n",
      "            }\n",
      "          ]\n",
      "        },\n",
      "        {\n",
      "          \"expr\": \"Leo-01 is a lion.\"\n",
      "        }\n",
      "      ]\n",
      "    }\n",
      "  ],\n",
      "  \"concluded\": \"Mary-01 is an animal.\"\n",
      "}\n"
     ]
    }
   ],
   "source": [
    "printWhy(onto,\"Mary-01 is a animal?\")"
   ]
  },
  {
   "cell_type": "markdown",
   "metadata": {},
   "source": [
    "### Part-3: Modal expressions and part-whole relationships."
   ]
  },
  {
   "cell_type": "code",
   "execution_count": 13,
   "metadata": {
    "scrolled": false
   },
   "outputs": [
    {
     "data": {
      "application/vnd.jupyter.widget-view+json": {
       "model_id": "767e327a5f9545d2b9ccc3f617e61e50",
       "version_major": 2,
       "version_minor": 0
      },
      "text/plain": [
       "VBox(children=(Output(), OntoeditWidget(layout=Layout(height='100%', width='90%'), value=\"Every carnivorous-pl…"
      ]
     },
     "metadata": {},
     "output_type": "display_data"
    }
   ],
   "source": [
    "parts_editors['03']=CnlEditBox('part_03.encnl',onto)\n",
    "parts_editors['03']"
   ]
  },
  {
   "cell_type": "code",
   "execution_count": 14,
   "metadata": {},
   "outputs": [
    {
     "data": {
      "application/vnd.jupyter.widget-view+json": {
       "model_id": "3b1a40f830074716a6e231843f57b70b",
       "version_major": 2,
       "version_minor": 0
      },
      "text/plain": [
       "VBox(children=(Output(), OntoeditWidget(layout=Layout(height='100%', width='90%'), value='Leo-01 is a lion.\\nL…"
      ]
     },
     "metadata": {},
     "output_type": "display_data"
    }
   ],
   "source": [
    "test_02_edit = CnlEditBox('test_02.encnl',onto)\n",
    "test_02_edit"
   ]
  },
  {
   "cell_type": "code",
   "execution_count": 15,
   "metadata": {},
   "outputs": [],
   "source": [
    "onto=buildOntology(parts_editors,test_02_edit)"
   ]
  },
  {
   "cell_type": "code",
   "execution_count": 16,
   "metadata": {},
   "outputs": [
    {
     "name": "stdout",
     "output_type": "stream",
     "text": [
      "{\n",
      "  \"modals\": {\n",
      "    \"Every branch must be-part-of a tree.\\r\\n\": [\n",
      "      {\n",
      "        \"?x0\": {\n",
      "          \"instance\": \"Branch-03\"\n",
      "        }\n",
      "      }\n",
      "    ],\n",
      "    \"Every plant-part must be-part-of a plant.\\r\\n\": [\n",
      "      {\n",
      "        \"?x0\": {\n",
      "          \"instance\": \"Branch-03\"\n",
      "        }\n",
      "      }\n",
      "    ]\n",
      "  }\n",
      "}\n"
     ]
    }
   ],
   "source": [
    "printReasoningInfo(onto)"
   ]
  },
  {
   "cell_type": "code",
   "execution_count": 17,
   "metadata": {},
   "outputs": [
    {
     "data": {
      "image/svg+xml": [
       "<svg height=\"989pt\" viewBox=\"0.00 0.00 954.00 989.00\" width=\"954pt\" xmlns=\"http://www.w3.org/2000/svg\" xmlns:xlink=\"http://www.w3.org/1999/xlink\">\n",
       "<g class=\"graph\" id=\"graph0\" transform=\"scale(1 1) rotate(0) translate(4 985)\">\n",
       "<title>G</title>\n",
       "<polygon fill=\"white\" points=\"-4,4 -4,-985 950,-985 950,4 -4,4\" stroke=\"none\"/>\n",
       "<!-- warthog -->\n",
       "<g class=\"node\" id=\"node1\"><title>warthog</title>\n",
       "<path d=\"M644.363,-886.808C644.363,-886.808 674.363,-886.808 674.363,-886.808 680.363,-886.808 686.363,-892.808 686.363,-898.808 686.363,-898.808 686.363,-910.808 686.363,-910.808 686.363,-916.808 680.363,-922.808 674.363,-922.808 674.363,-922.808 644.363,-922.808 644.363,-922.808 638.363,-922.808 632.363,-916.808 632.363,-910.808 632.363,-910.808 632.363,-898.808 632.363,-898.808 632.363,-892.808 638.363,-886.808 644.363,-886.808\" fill=\"aliceblue\" stroke=\"black\" stroke-width=\"0.5\"/>\n",
       "<text font-family=\"Times New Roman,serif\" font-size=\"11.00\" text-anchor=\"middle\" x=\"659.363\" y=\"-902.008\">warthog</text>\n",
       "</g>\n",
       "<!-- animal -->\n",
       "<g class=\"node\" id=\"node2\"><title>animal</title>\n",
       "<path d=\"M802.154,-696.667C802.154,-696.667 832.154,-696.667 832.154,-696.667 838.154,-696.667 844.154,-702.667 844.154,-708.667 844.154,-708.667 844.154,-720.667 844.154,-720.667 844.154,-726.667 838.154,-732.667 832.154,-732.667 832.154,-732.667 802.154,-732.667 802.154,-732.667 796.154,-732.667 790.154,-726.667 790.154,-720.667 790.154,-720.667 790.154,-708.667 790.154,-708.667 790.154,-702.667 796.154,-696.667 802.154,-696.667\" fill=\"aliceblue\" stroke=\"black\" stroke-width=\"0.5\"/>\n",
       "<text font-family=\"Times New Roman,serif\" font-size=\"11.00\" text-anchor=\"middle\" x=\"817.154\" y=\"-711.867\">animal</text>\n",
       "</g>\n",
       "<!-- animal&#45;&#45;warthog -->\n",
       "<g class=\"edge\" id=\"edge1\"><title>animal--warthog</title>\n",
       "<path d=\"M795.546,-740.705C763.09,-779.815 702.569,-852.744 674.447,-886.632\" fill=\"none\" stroke=\"black\" stroke-width=\"0.5\"/>\n",
       "<polygon fill=\"none\" points=\"798.331,-742.829 802.024,-732.899 792.945,-738.359 798.331,-742.829\" stroke=\"black\" stroke-width=\"0.5\"/>\n",
       "</g>\n",
       "<!-- impala -->\n",
       "<g class=\"node\" id=\"node3\"><title>impala</title>\n",
       "<path d=\"M901.094,-662.121C901.094,-662.121 931.094,-662.121 931.094,-662.121 937.094,-662.121 943.094,-668.121 943.094,-674.121 943.094,-674.121 943.094,-686.121 943.094,-686.121 943.094,-692.121 937.094,-698.121 931.094,-698.121 931.094,-698.121 901.094,-698.121 901.094,-698.121 895.094,-698.121 889.094,-692.121 889.094,-686.121 889.094,-686.121 889.094,-674.121 889.094,-674.121 889.094,-668.121 895.094,-662.121 901.094,-662.121\" fill=\"aliceblue\" stroke=\"black\" stroke-width=\"0.5\"/>\n",
       "<text font-family=\"Times New Roman,serif\" font-size=\"11.00\" text-anchor=\"middle\" x=\"916.094\" y=\"-677.321\">impala</text>\n",
       "</g>\n",
       "<!-- animal&#45;&#45;impala -->\n",
       "<g class=\"edge\" id=\"edge2\"><title>animal--impala</title>\n",
       "<path d=\"M853.722,-701.899C865.436,-697.809 878.188,-693.357 889.091,-689.55\" fill=\"none\" stroke=\"black\" stroke-width=\"0.5\"/>\n",
       "<polygon fill=\"none\" points=\"852.477,-698.627 844.19,-705.228 854.784,-705.235 852.477,-698.627\" stroke=\"black\" stroke-width=\"0.5\"/>\n",
       "</g>\n",
       "<!-- rock&#45;dassie -->\n",
       "<g class=\"node\" id=\"node13\"><title>rock-dassie</title>\n",
       "<path d=\"M548.96,-740.578C548.96,-740.578 591.96,-740.578 591.96,-740.578 597.96,-740.578 603.96,-746.578 603.96,-752.578 603.96,-752.578 603.96,-764.578 603.96,-764.578 603.96,-770.578 597.96,-776.578 591.96,-776.578 591.96,-776.578 548.96,-776.578 548.96,-776.578 542.96,-776.578 536.96,-770.578 536.96,-764.578 536.96,-764.578 536.96,-752.578 536.96,-752.578 536.96,-746.578 542.96,-740.578 548.96,-740.578\" fill=\"aliceblue\" stroke=\"black\" stroke-width=\"0.5\"/>\n",
       "<text font-family=\"Times New Roman,serif\" font-size=\"11.00\" text-anchor=\"middle\" x=\"570.46\" y=\"-755.778\">rock-dassie</text>\n",
       "</g>\n",
       "<!-- animal&#45;&#45;rock&#45;dassie -->\n",
       "<g class=\"edge\" id=\"edge9\"><title>animal--rock-dassie</title>\n",
       "<path d=\"M779.888,-721.301C732.172,-729.794 650.177,-744.389 604.216,-752.57\" fill=\"none\" stroke=\"black\" stroke-width=\"0.5\"/>\n",
       "<polygon fill=\"none\" points=\"780.579,-724.733 789.811,-719.535 779.352,-717.841 780.579,-724.733\" stroke=\"black\" stroke-width=\"0.5\"/>\n",
       "</g>\n",
       "<!-- herbivore -->\n",
       "<g class=\"node\" id=\"node15\"><title>herbivore</title>\n",
       "<path d=\"M779.16,-605.808C779.16,-605.808 813.16,-605.808 813.16,-605.808 819.16,-605.808 825.16,-611.808 825.16,-617.808 825.16,-617.808 825.16,-629.808 825.16,-629.808 825.16,-635.808 819.16,-641.808 813.16,-641.808 813.16,-641.808 779.16,-641.808 779.16,-641.808 773.16,-641.808 767.16,-635.808 767.16,-629.808 767.16,-629.808 767.16,-617.808 767.16,-617.808 767.16,-611.808 773.16,-605.808 779.16,-605.808\" fill=\"aliceblue\" stroke=\"black\" stroke-width=\"0.5\"/>\n",
       "<text font-family=\"Times New Roman,serif\" font-size=\"11.00\" text-anchor=\"middle\" x=\"796.16\" y=\"-621.008\">herbivore</text>\n",
       "</g>\n",
       "<!-- animal&#45;&#45;herbivore -->\n",
       "<g class=\"edge\" id=\"edge19\"><title>animal--herbivore</title>\n",
       "<path d=\"M810.598,-686.295C807.244,-671.78 803.262,-654.546 800.33,-641.858\" fill=\"none\" stroke=\"black\" stroke-width=\"0.5\"/>\n",
       "<polygon fill=\"none\" points=\"807.244,-687.326 812.905,-696.281 814.064,-685.75 807.244,-687.326\" stroke=\"black\" stroke-width=\"0.5\"/>\n",
       "</g>\n",
       "<!-- giraffe -->\n",
       "<g class=\"node\" id=\"node21\"><title>giraffe</title>\n",
       "<path d=\"M684.048,-553.857C684.048,-553.857 714.048,-553.857 714.048,-553.857 720.048,-553.857 726.048,-559.857 726.048,-565.857 726.048,-565.857 726.048,-577.857 726.048,-577.857 726.048,-583.857 720.048,-589.857 714.048,-589.857 714.048,-589.857 684.048,-589.857 684.048,-589.857 678.048,-589.857 672.048,-583.857 672.048,-577.857 672.048,-577.857 672.048,-565.857 672.048,-565.857 672.048,-559.857 678.048,-553.857 684.048,-553.857\" fill=\"aliceblue\" stroke=\"black\" stroke-width=\"0.5\"/>\n",
       "<text font-family=\"Times New Roman,serif\" font-size=\"11.00\" text-anchor=\"middle\" x=\"699.048\" y=\"-569.057\">giraffe</text>\n",
       "</g>\n",
       "<!-- animal&#45;&#45;giraffe -->\n",
       "<g class=\"edge\" id=\"edge16\"><title>animal--giraffe</title>\n",
       "<path d=\"M795.65,-688.666C772.107,-660.198 734.956,-615.277 714.258,-590.249\" fill=\"none\" stroke=\"black\" stroke-width=\"0.5\"/>\n",
       "<polygon fill=\"none\" points=\"793.125,-691.105 802.196,-696.581 798.52,-686.644 793.125,-691.105\" stroke=\"black\" stroke-width=\"0.5\"/>\n",
       "</g>\n",
       "<!-- carnivore -->\n",
       "<g class=\"node\" id=\"node23\"><title>carnivore</title>\n",
       "<path d=\"M861.714,-847.702C861.714,-847.702 895.714,-847.702 895.714,-847.702 901.714,-847.702 907.714,-853.702 907.714,-859.702 907.714,-859.702 907.714,-871.702 907.714,-871.702 907.714,-877.702 901.714,-883.702 895.714,-883.702 895.714,-883.702 861.714,-883.702 861.714,-883.702 855.714,-883.702 849.714,-877.702 849.714,-871.702 849.714,-871.702 849.714,-859.702 849.714,-859.702 849.714,-853.702 855.714,-847.702 861.714,-847.702\" fill=\"aliceblue\" stroke=\"black\" stroke-width=\"0.5\"/>\n",
       "<text font-family=\"Times New Roman,serif\" font-size=\"11.00\" text-anchor=\"middle\" x=\"878.714\" y=\"-862.902\">carnivore</text>\n",
       "</g>\n",
       "<!-- animal&#45;&#45;carnivore -->\n",
       "<g class=\"edge\" id=\"edge23\"><title>animal--carnivore</title>\n",
       "<path d=\"M828.507,-742.521C840.969,-773.096 860.617,-821.301 871.262,-847.419\" fill=\"none\" stroke=\"black\" stroke-width=\"0.5\"/>\n",
       "<polygon fill=\"none\" points=\"831.595,-740.825 824.579,-732.886 825.113,-743.467 831.595,-740.825\" stroke=\"black\" stroke-width=\"0.5\"/>\n",
       "</g>\n",
       "<!-- omnivore -->\n",
       "<g class=\"node\" id=\"node28\"><title>omnivore</title>\n",
       "<path d=\"M901.038,-767.921C901.038,-767.921 934.038,-767.921 934.038,-767.921 940.038,-767.921 946.038,-773.921 946.038,-779.921 946.038,-779.921 946.038,-791.921 946.038,-791.921 946.038,-797.921 940.038,-803.921 934.038,-803.921 934.038,-803.921 901.038,-803.921 901.038,-803.921 895.038,-803.921 889.038,-797.921 889.038,-791.921 889.038,-791.921 889.038,-779.921 889.038,-779.921 889.038,-773.921 895.038,-767.921 901.038,-767.921\" fill=\"aliceblue\" stroke=\"black\" stroke-width=\"0.5\"/>\n",
       "<text font-family=\"Times New Roman,serif\" font-size=\"11.00\" text-anchor=\"middle\" x=\"917.538\" y=\"-783.121\">omnivore</text>\n",
       "</g>\n",
       "<!-- animal&#45;&#45;omnivore -->\n",
       "<g class=\"edge\" id=\"edge25\"><title>animal--omnivore</title>\n",
       "<path d=\"M851.223,-738.85C864.567,-748.321 879.611,-759 891.994,-767.789\" fill=\"none\" stroke=\"black\" stroke-width=\"0.5\"/>\n",
       "<polygon fill=\"none\" points=\"852.925,-735.766 842.745,-732.832 848.873,-741.474 852.925,-735.766\" stroke=\"black\" stroke-width=\"0.5\"/>\n",
       "</g>\n",
       "<!-- phloem -->\n",
       "<g class=\"node\" id=\"node4\"><title>phloem</title>\n",
       "<path d=\"M301.729,-622.776C301.729,-622.776 331.729,-622.776 331.729,-622.776 337.729,-622.776 343.729,-628.776 343.729,-634.776 343.729,-634.776 343.729,-646.776 343.729,-646.776 343.729,-652.776 337.729,-658.776 331.729,-658.776 331.729,-658.776 301.729,-658.776 301.729,-658.776 295.729,-658.776 289.729,-652.776 289.729,-646.776 289.729,-646.776 289.729,-634.776 289.729,-634.776 289.729,-628.776 295.729,-622.776 301.729,-622.776\" fill=\"aliceblue\" stroke=\"black\" stroke-width=\"0.5\"/>\n",
       "<text font-family=\"Times New Roman,serif\" font-size=\"11.00\" text-anchor=\"middle\" x=\"316.729\" y=\"-637.976\">phloem</text>\n",
       "</g>\n",
       "<!-- plant&#45;part -->\n",
       "<g class=\"node\" id=\"node5\"><title>plant-part</title>\n",
       "<path d=\"M242.623,-547.804C242.623,-547.804 277.623,-547.804 277.623,-547.804 283.623,-547.804 289.623,-553.804 289.623,-559.804 289.623,-559.804 289.623,-571.804 289.623,-571.804 289.623,-577.804 283.623,-583.804 277.623,-583.804 277.623,-583.804 242.623,-583.804 242.623,-583.804 236.623,-583.804 230.623,-577.804 230.623,-571.804 230.623,-571.804 230.623,-559.804 230.623,-559.804 230.623,-553.804 236.623,-547.804 242.623,-547.804\" fill=\"aliceblue\" stroke=\"black\" stroke-width=\"0.5\"/>\n",
       "<text font-family=\"Times New Roman,serif\" font-size=\"11.00\" text-anchor=\"middle\" x=\"260.123\" y=\"-563.004\">plant-part</text>\n",
       "</g>\n",
       "<!-- plant&#45;part&#45;&#45;phloem -->\n",
       "<g class=\"edge\" id=\"edge3\"><title>plant-part--phloem</title>\n",
       "<path d=\"M279.944,-592.056C287.544,-602.122 296.044,-613.379 302.957,-622.535\" fill=\"none\" stroke=\"black\" stroke-width=\"0.5\"/>\n",
       "<polygon fill=\"none\" points=\"282.645,-589.824 273.826,-583.952 277.058,-594.042 282.645,-589.824\" stroke=\"black\" stroke-width=\"0.5\"/>\n",
       "</g>\n",
       "<!-- stem -->\n",
       "<g class=\"node\" id=\"node6\"><title>stem</title>\n",
       "<path d=\"M193.579,-610.606C193.579,-610.606 223.579,-610.606 223.579,-610.606 229.579,-610.606 235.579,-616.606 235.579,-622.606 235.579,-622.606 235.579,-634.606 235.579,-634.606 235.579,-640.606 229.579,-646.606 223.579,-646.606 223.579,-646.606 193.579,-646.606 193.579,-646.606 187.579,-646.606 181.579,-640.606 181.579,-634.606 181.579,-634.606 181.579,-622.606 181.579,-622.606 181.579,-616.606 187.579,-610.606 193.579,-610.606\" fill=\"aliceblue\" stroke=\"black\" stroke-width=\"0.5\"/>\n",
       "<text font-family=\"Times New Roman,serif\" font-size=\"11.00\" text-anchor=\"middle\" x=\"208.579\" y=\"-625.806\">stem</text>\n",
       "</g>\n",
       "<!-- plant&#45;part&#45;&#45;stem -->\n",
       "<g class=\"edge\" id=\"edge4\"><title>plant-part--stem</title>\n",
       "<path d=\"M238.574,-592.059C233.55,-598.181 228.305,-604.571 223.633,-610.264\" fill=\"none\" stroke=\"black\" stroke-width=\"0.5\"/>\n",
       "<polygon fill=\"none\" points=\"241.576,-593.919 245.214,-583.969 236.165,-589.478 241.576,-593.919\" stroke=\"black\" stroke-width=\"0.5\"/>\n",
       "</g>\n",
       "<!-- branch -->\n",
       "<g class=\"node\" id=\"node7\"><title>branch</title>\n",
       "<path d=\"M332.676,-414.722C332.676,-414.722 362.676,-414.722 362.676,-414.722 368.676,-414.722 374.676,-420.722 374.676,-426.722 374.676,-426.722 374.676,-438.722 374.676,-438.722 374.676,-444.722 368.676,-450.722 362.676,-450.722 362.676,-450.722 332.676,-450.722 332.676,-450.722 326.676,-450.722 320.676,-444.722 320.676,-438.722 320.676,-438.722 320.676,-426.722 320.676,-426.722 320.676,-420.722 326.676,-414.722 332.676,-414.722\" fill=\"aliceblue\" stroke=\"black\" stroke-width=\"0.5\"/>\n",
       "<text font-family=\"Times New Roman,serif\" font-size=\"11.00\" text-anchor=\"middle\" x=\"347.676\" y=\"-429.922\">branch</text>\n",
       "</g>\n",
       "<!-- plant&#45;part&#45;&#45;branch -->\n",
       "<g class=\"edge\" id=\"edge5\"><title>plant-part--branch</title>\n",
       "<path d=\"M277.611,-539.222C294.887,-512.963 320.837,-473.517 335.83,-450.728\" fill=\"none\" stroke=\"black\" stroke-width=\"0.5\"/>\n",
       "<polygon fill=\"none\" points=\"274.685,-537.3 272.113,-547.578 280.533,-541.148 274.685,-537.3\" stroke=\"black\" stroke-width=\"0.5\"/>\n",
       "</g>\n",
       "<!-- root -->\n",
       "<g class=\"node\" id=\"node9\"><title>root</title>\n",
       "<path d=\"M99.1439,-397.429C99.1439,-397.429 129.144,-397.429 129.144,-397.429 135.144,-397.429 141.144,-403.429 141.144,-409.429 141.144,-409.429 141.144,-421.429 141.144,-421.429 141.144,-427.429 135.144,-433.429 129.144,-433.429 129.144,-433.429 99.1439,-433.429 99.1439,-433.429 93.1439,-433.429 87.1439,-427.429 87.1439,-421.429 87.1439,-421.429 87.1439,-409.429 87.1439,-409.429 87.1439,-403.429 93.1439,-397.429 99.1439,-397.429\" fill=\"aliceblue\" stroke=\"black\" stroke-width=\"0.5\"/>\n",
       "<text font-family=\"Times New Roman,serif\" font-size=\"11.00\" text-anchor=\"middle\" x=\"114.144\" y=\"-412.629\">root</text>\n",
       "</g>\n",
       "<!-- plant&#45;part&#45;&#45;root -->\n",
       "<g class=\"edge\" id=\"edge22\"><title>plant-part--root</title>\n",
       "<path d=\"M235.479,-540.417C206.095,-510.149 157.717,-460.314 131.815,-433.632\" fill=\"none\" stroke=\"black\" stroke-width=\"0.5\"/>\n",
       "<polygon fill=\"none\" points=\"233.038,-542.928 242.514,-547.665 238.06,-538.052 233.038,-542.928\" stroke=\"black\" stroke-width=\"0.5\"/>\n",
       "</g>\n",
       "<!-- xylem -->\n",
       "<g class=\"node\" id=\"node10\"><title>xylem</title>\n",
       "<path d=\"M130.531,-546.647C130.531,-546.647 160.531,-546.647 160.531,-546.647 166.531,-546.647 172.531,-552.647 172.531,-558.647 172.531,-558.647 172.531,-570.647 172.531,-570.647 172.531,-576.647 166.531,-582.647 160.531,-582.647 160.531,-582.647 130.531,-582.647 130.531,-582.647 124.531,-582.647 118.531,-576.647 118.531,-570.647 118.531,-570.647 118.531,-558.647 118.531,-558.647 118.531,-552.647 124.531,-546.647 130.531,-546.647\" fill=\"aliceblue\" stroke=\"black\" stroke-width=\"0.5\"/>\n",
       "<text font-family=\"Times New Roman,serif\" font-size=\"11.00\" text-anchor=\"middle\" x=\"145.531\" y=\"-561.847\">xylem</text>\n",
       "</g>\n",
       "<!-- plant&#45;part&#45;&#45;xylem -->\n",
       "<g class=\"edge\" id=\"edge7\"><title>plant-part--xylem</title>\n",
       "<path d=\"M220.556,-565.404C204.726,-565.244 186.893,-565.064 172.586,-564.92\" fill=\"none\" stroke=\"black\" stroke-width=\"0.5\"/>\n",
       "<polygon fill=\"none\" points=\"220.578,-568.904 230.613,-565.506 220.649,-561.905 220.578,-568.904\" stroke=\"black\" stroke-width=\"0.5\"/>\n",
       "</g>\n",
       "<!-- fruiting&#45;body -->\n",
       "<g class=\"node\" id=\"node17\"><title>fruiting-body</title>\n",
       "<path d=\"M243.364,-722.522C243.364,-722.522 291.364,-722.522 291.364,-722.522 297.364,-722.522 303.364,-728.522 303.364,-734.522 303.364,-734.522 303.364,-746.522 303.364,-746.522 303.364,-752.522 297.364,-758.522 291.364,-758.522 291.364,-758.522 243.364,-758.522 243.364,-758.522 237.364,-758.522 231.364,-752.522 231.364,-746.522 231.364,-746.522 231.364,-734.522 231.364,-734.522 231.364,-728.522 237.364,-722.522 243.364,-722.522\" fill=\"aliceblue\" stroke=\"black\" stroke-width=\"0.5\"/>\n",
       "<text font-family=\"Times New Roman,serif\" font-size=\"11.00\" text-anchor=\"middle\" x=\"267.364\" y=\"-737.722\">fruiting-body</text>\n",
       "</g>\n",
       "<!-- plant&#45;part&#45;&#45;fruiting&#45;body -->\n",
       "<g class=\"edge\" id=\"edge12\"><title>plant-part--fruiting-body</title>\n",
       "<path d=\"M261.3,-594.197C262.799,-630.378 265.348,-691.866 266.61,-722.319\" fill=\"none\" stroke=\"black\" stroke-width=\"0.5\"/>\n",
       "<polygon fill=\"none\" points=\"264.782,-593.69 260.871,-583.844 257.788,-593.98 264.782,-593.69\" stroke=\"black\" stroke-width=\"0.5\"/>\n",
       "</g>\n",
       "<!-- twig -->\n",
       "<g class=\"node\" id=\"node24\"><title>twig</title>\n",
       "<path d=\"M77.133,-594.168C77.133,-594.168 107.133,-594.168 107.133,-594.168 113.133,-594.168 119.133,-600.168 119.133,-606.168 119.133,-606.168 119.133,-618.168 119.133,-618.168 119.133,-624.168 113.133,-630.168 107.133,-630.168 107.133,-630.168 77.133,-630.168 77.133,-630.168 71.133,-630.168 65.133,-624.168 65.133,-618.168 65.133,-618.168 65.133,-606.168 65.133,-606.168 65.133,-600.168 71.133,-594.168 77.133,-594.168\" fill=\"aliceblue\" stroke=\"black\" stroke-width=\"0.5\"/>\n",
       "<text font-family=\"Times New Roman,serif\" font-size=\"11.00\" text-anchor=\"middle\" x=\"92.133\" y=\"-609.368\">twig</text>\n",
       "</g>\n",
       "<!-- plant&#45;part&#45;&#45;twig -->\n",
       "<g class=\"edge\" id=\"edge18\"><title>plant-part--twig</title>\n",
       "<path d=\"M220.784,-576.661C189.569,-585.276 146.754,-597.093 119.262,-604.68\" fill=\"none\" stroke=\"black\" stroke-width=\"0.5\"/>\n",
       "<polygon fill=\"none\" points=\"221.768,-580.02 230.476,-573.986 219.906,-573.273 221.768,-580.02\" stroke=\"black\" stroke-width=\"0.5\"/>\n",
       "</g>\n",
       "<!-- leaf -->\n",
       "<g class=\"node\" id=\"node26\"><title>leaf</title>\n",
       "<path d=\"M424.203,-550.567C424.203,-550.567 454.203,-550.567 454.203,-550.567 460.203,-550.567 466.203,-556.567 466.203,-562.567 466.203,-562.567 466.203,-574.567 466.203,-574.567 466.203,-580.567 460.203,-586.567 454.203,-586.567 454.203,-586.567 424.203,-586.567 424.203,-586.567 418.203,-586.567 412.203,-580.567 412.203,-574.567 412.203,-574.567 412.203,-562.567 412.203,-562.567 412.203,-556.567 418.203,-550.567 424.203,-550.567\" fill=\"aliceblue\" stroke=\"black\" stroke-width=\"0.5\"/>\n",
       "<text font-family=\"Times New Roman,serif\" font-size=\"11.00\" text-anchor=\"middle\" x=\"439.203\" y=\"-565.767\">leaf</text>\n",
       "</g>\n",
       "<!-- plant&#45;part&#45;&#45;leaf -->\n",
       "<g class=\"edge\" id=\"edge21\"><title>plant-part--leaf</title>\n",
       "<path d=\"M299.776,-566.416C333.841,-566.941 382.056,-567.685 411.938,-568.146\" fill=\"none\" stroke=\"black\" stroke-width=\"0.5\"/>\n",
       "<polygon fill=\"none\" points=\"299.747,-562.915 289.694,-566.26 299.639,-569.914 299.747,-562.915\" stroke=\"black\" stroke-width=\"0.5\"/>\n",
       "</g>\n",
       "<!-- Branch&#45;03 -->\n",
       "<g class=\"node\" id=\"node30\"><title>Branch-03</title>\n",
       "<path d=\"M191.148,-280.764C191.148,-280.764 230.148,-280.764 230.148,-280.764 236.148,-280.764 242.148,-286.764 242.148,-292.764 242.148,-292.764 242.148,-304.764 242.148,-304.764 242.148,-310.764 236.148,-316.764 230.148,-316.764 230.148,-316.764 191.148,-316.764 191.148,-316.764 185.148,-316.764 179.148,-310.764 179.148,-304.764 179.148,-304.764 179.148,-292.764 179.148,-292.764 179.148,-286.764 185.148,-280.764 191.148,-280.764\" fill=\"whitesmoke\" stroke=\"black\" stroke-width=\"0.5\"/>\n",
       "<text font-family=\"Times New Roman,serif\" font-size=\"11.00\" text-anchor=\"middle\" x=\"210.648\" y=\"-295.964\">Branch-03</text>\n",
       "</g>\n",
       "<!-- branch&#45;&#45;Branch&#45;03 -->\n",
       "<g class=\"edge\" id=\"edge28\"><title>branch--Branch-03</title>\n",
       "<path d=\"M322.007,-407.628C295.03,-381.255 253.25,-340.412 229.273,-316.971\" fill=\"none\" stroke=\"black\" stroke-dasharray=\"5,2\" stroke-width=\"0.5\"/>\n",
       "<polygon fill=\"none\" points=\"319.598,-410.168 329.196,-414.656 324.492,-405.163 319.598,-410.168\" stroke=\"black\" stroke-width=\"0.5\"/>\n",
       "</g>\n",
       "<!-- Branch&#45;01 -->\n",
       "<g class=\"node\" id=\"node31\"><title>Branch-01</title>\n",
       "<path d=\"M444.142,-352.256C444.142,-352.256 483.142,-352.256 483.142,-352.256 489.142,-352.256 495.142,-358.256 495.142,-364.256 495.142,-364.256 495.142,-376.256 495.142,-376.256 495.142,-382.256 489.142,-388.256 483.142,-388.256 483.142,-388.256 444.142,-388.256 444.142,-388.256 438.142,-388.256 432.142,-382.256 432.142,-376.256 432.142,-376.256 432.142,-364.256 432.142,-364.256 432.142,-358.256 438.142,-352.256 444.142,-352.256\" fill=\"whitesmoke\" stroke=\"black\" stroke-width=\"0.5\"/>\n",
       "<text font-family=\"Times New Roman,serif\" font-size=\"11.00\" text-anchor=\"middle\" x=\"463.642\" y=\"-367.456\">Branch-01</text>\n",
       "</g>\n",
       "<!-- branch&#45;&#45;Branch&#45;01 -->\n",
       "<g class=\"edge\" id=\"edge29\"><title>branch--Branch-01</title>\n",
       "<path d=\"M384.102,-413.101C399.506,-404.804 417.275,-395.232 432.107,-387.243\" fill=\"none\" stroke=\"black\" stroke-dasharray=\"5,2\" stroke-width=\"0.5\"/>\n",
       "<polygon fill=\"none\" points=\"382.009,-410.253 374.865,-418.077 385.329,-416.416 382.009,-410.253\" stroke=\"black\" stroke-width=\"0.5\"/>\n",
       "</g>\n",
       "<!-- Branch&#45;02 -->\n",
       "<g class=\"node\" id=\"node32\"><title>Branch-02</title>\n",
       "<path d=\"M443.156,-475.121C443.156,-475.121 482.156,-475.121 482.156,-475.121 488.156,-475.121 494.156,-481.121 494.156,-487.121 494.156,-487.121 494.156,-499.121 494.156,-499.121 494.156,-505.121 488.156,-511.121 482.156,-511.121 482.156,-511.121 443.156,-511.121 443.156,-511.121 437.156,-511.121 431.156,-505.121 431.156,-499.121 431.156,-499.121 431.156,-487.121 431.156,-487.121 431.156,-481.121 437.156,-475.121 443.156,-475.121\" fill=\"whitesmoke\" stroke=\"black\" stroke-width=\"0.5\"/>\n",
       "<text font-family=\"Times New Roman,serif\" font-size=\"11.00\" text-anchor=\"middle\" x=\"462.656\" y=\"-490.321\">Branch-02</text>\n",
       "</g>\n",
       "<!-- branch&#45;&#45;Branch&#45;02 -->\n",
       "<g class=\"edge\" id=\"edge30\"><title>branch--Branch-02</title>\n",
       "<path d=\"M384.007,-451.807C399.138,-459.755 416.542,-468.898 431.125,-476.558\" fill=\"none\" stroke=\"black\" stroke-dasharray=\"5,2\" stroke-width=\"0.5\"/>\n",
       "<polygon fill=\"none\" points=\"385.405,-448.588 374.925,-447.036 382.15,-454.785 385.405,-448.588\" stroke=\"black\" stroke-width=\"0.5\"/>\n",
       "</g>\n",
       "<!-- parsnip -->\n",
       "<g class=\"node\" id=\"node8\"><title>parsnip</title>\n",
       "<path d=\"M11.6851,-377.998C11.6851,-377.998 41.6851,-377.998 41.6851,-377.998 47.6851,-377.998 53.6851,-383.998 53.6851,-389.998 53.6851,-389.998 53.6851,-401.998 53.6851,-401.998 53.6851,-407.998 47.6851,-413.998 41.6851,-413.998 41.6851,-413.998 11.6851,-413.998 11.6851,-413.998 5.6851,-413.998 -0.314903,-407.998 -0.314903,-401.998 -0.314903,-401.998 -0.314903,-389.998 -0.314903,-389.998 -0.314903,-383.998 5.6851,-377.998 11.6851,-377.998\" fill=\"aliceblue\" stroke=\"black\" stroke-width=\"0.5\"/>\n",
       "<text font-family=\"Times New Roman,serif\" font-size=\"11.00\" text-anchor=\"middle\" x=\"26.6851\" y=\"-393.198\">parsnip</text>\n",
       "</g>\n",
       "<!-- root&#45;&#45;parsnip -->\n",
       "<g class=\"edge\" id=\"edge6\"><title>root--parsnip</title>\n",
       "<path d=\"M76.9926,-407.175C69.2289,-405.45 61.1821,-403.662 53.8614,-402.036\" fill=\"none\" stroke=\"black\" stroke-width=\"0.5\"/>\n",
       "<polygon fill=\"none\" points=\"76.4297,-410.635 86.9508,-409.387 77.948,-403.802 76.4297,-410.635\" stroke=\"black\" stroke-width=\"0.5\"/>\n",
       "</g>\n",
       "<!-- palm&#45;tree -->\n",
       "<g class=\"node\" id=\"node11\"><title>palm-tree</title>\n",
       "<path d=\"M533.61,-0.0171556C533.61,-0.0171556 568.61,-0.0171556 568.61,-0.0171556 574.61,-0.0171556 580.61,-6.01716 580.61,-12.0172 580.61,-12.0172 580.61,-24.0172 580.61,-24.0172 580.61,-30.0172 574.61,-36.0172 568.61,-36.0172 568.61,-36.0172 533.61,-36.0172 533.61,-36.0172 527.61,-36.0172 521.61,-30.0172 521.61,-24.0172 521.61,-24.0172 521.61,-12.0172 521.61,-12.0172 521.61,-6.01716 527.61,-0.0171556 533.61,-0.0171556\" fill=\"aliceblue\" stroke=\"black\" stroke-width=\"0.5\"/>\n",
       "<text font-family=\"Times New Roman,serif\" font-size=\"11.00\" text-anchor=\"middle\" x=\"551.11\" y=\"-15.2172\">palm-tree</text>\n",
       "</g>\n",
       "<!-- plant -->\n",
       "<g class=\"node\" id=\"node12\"><title>plant</title>\n",
       "<path d=\"M456.505,-167.738C456.505,-167.738 486.505,-167.738 486.505,-167.738 492.505,-167.738 498.505,-173.738 498.505,-179.738 498.505,-179.738 498.505,-191.738 498.505,-191.738 498.505,-197.738 492.505,-203.738 486.505,-203.738 486.505,-203.738 456.505,-203.738 456.505,-203.738 450.505,-203.738 444.505,-197.738 444.505,-191.738 444.505,-191.738 444.505,-179.738 444.505,-179.738 444.505,-173.738 450.505,-167.738 456.505,-167.738\" fill=\"aliceblue\" stroke=\"black\" stroke-width=\"0.5\"/>\n",
       "<text font-family=\"Times New Roman,serif\" font-size=\"11.00\" text-anchor=\"middle\" x=\"471.505\" y=\"-182.938\">plant</text>\n",
       "</g>\n",
       "<!-- plant&#45;&#45;palm&#45;tree -->\n",
       "<g class=\"edge\" id=\"edge8\"><title>plant--palm-tree</title>\n",
       "<path d=\"M484.465,-158.433C500.809,-123.998 528.461,-65.7383 542.45,-36.263\" fill=\"none\" stroke=\"black\" stroke-width=\"0.5\"/>\n",
       "<polygon fill=\"none\" points=\"481.302,-156.935 480.176,-167.47 487.626,-159.936 481.302,-156.935\" stroke=\"black\" stroke-width=\"0.5\"/>\n",
       "</g>\n",
       "<!-- carnivorous&#45;plant -->\n",
       "<g class=\"node\" id=\"node16\"><title>carnivorous-plant</title>\n",
       "<path d=\"M277.206,-142.285C277.206,-142.285 345.206,-142.285 345.206,-142.285 351.206,-142.285 357.206,-148.285 357.206,-154.285 357.206,-154.285 357.206,-166.285 357.206,-166.285 357.206,-172.285 351.206,-178.285 345.206,-178.285 345.206,-178.285 277.206,-178.285 277.206,-178.285 271.206,-178.285 265.206,-172.285 265.206,-166.285 265.206,-166.285 265.206,-154.285 265.206,-154.285 265.206,-148.285 271.206,-142.285 277.206,-142.285\" fill=\"aliceblue\" stroke=\"black\" stroke-width=\"0.5\"/>\n",
       "<text font-family=\"Times New Roman,serif\" font-size=\"11.00\" text-anchor=\"middle\" x=\"311.206\" y=\"-157.485\">carnivorous-plant</text>\n",
       "</g>\n",
       "<!-- plant&#45;&#45;carnivorous&#45;plant -->\n",
       "<g class=\"edge\" id=\"edge11\"><title>plant--carnivorous-plant</title>\n",
       "<path d=\"M434.293,-179.829C411.377,-176.191 381.815,-171.497 357.407,-167.621\" fill=\"none\" stroke=\"black\" stroke-width=\"0.5\"/>\n",
       "<polygon fill=\"none\" points=\"433.888,-183.309 444.313,-181.42 434.985,-176.395 433.888,-183.309\" stroke=\"black\" stroke-width=\"0.5\"/>\n",
       "</g>\n",
       "<!-- tasty&#45;plant -->\n",
       "<g class=\"node\" id=\"node19\"><title>tasty-plant</title>\n",
       "<path d=\"M576.731,-125.579C576.731,-125.579 614.731,-125.579 614.731,-125.579 620.731,-125.579 626.731,-131.579 626.731,-137.579 626.731,-137.579 626.731,-149.579 626.731,-149.579 626.731,-155.579 620.731,-161.579 614.731,-161.579 614.731,-161.579 576.731,-161.579 576.731,-161.579 570.731,-161.579 564.731,-155.579 564.731,-149.579 564.731,-149.579 564.731,-137.579 564.731,-137.579 564.731,-131.579 570.731,-125.579 576.731,-125.579\" fill=\"aliceblue\" stroke=\"black\" stroke-width=\"0.5\"/>\n",
       "<text font-family=\"Times New Roman,serif\" font-size=\"11.00\" text-anchor=\"middle\" x=\"595.731\" y=\"-140.779\">tasty-plant</text>\n",
       "</g>\n",
       "<!-- plant&#45;&#45;tasty&#45;plant -->\n",
       "<g class=\"edge\" id=\"edge14\"><title>plant--tasty-plant</title>\n",
       "<path d=\"M508.318,-173.245C526.222,-167.168 547.509,-159.944 564.594,-154.146\" fill=\"none\" stroke=\"black\" stroke-width=\"0.5\"/>\n",
       "<polygon fill=\"none\" points=\"507.112,-169.958 498.767,-176.486 509.361,-176.587 507.112,-169.958\" stroke=\"black\" stroke-width=\"0.5\"/>\n",
       "</g>\n",
       "<!-- grass -->\n",
       "<g class=\"node\" id=\"node20\"><title>grass</title>\n",
       "<path d=\"M385.588,-8.63329C385.588,-8.63329 415.588,-8.63329 415.588,-8.63329 421.588,-8.63329 427.588,-14.6333 427.588,-20.6333 427.588,-20.6333 427.588,-32.6333 427.588,-32.6333 427.588,-38.6333 421.588,-44.6333 415.588,-44.6333 415.588,-44.6333 385.588,-44.6333 385.588,-44.6333 379.588,-44.6333 373.588,-38.6333 373.588,-32.6333 373.588,-32.6333 373.588,-20.6333 373.588,-20.6333 373.588,-14.6333 379.588,-8.63329 385.588,-8.63329\" fill=\"aliceblue\" stroke=\"black\" stroke-width=\"0.5\"/>\n",
       "<text font-family=\"Times New Roman,serif\" font-size=\"11.00\" text-anchor=\"middle\" x=\"400.588\" y=\"-23.8333\">grass</text>\n",
       "</g>\n",
       "<!-- plant&#45;&#45;grass -->\n",
       "<g class=\"edge\" id=\"edge15\"><title>plant--grass</title>\n",
       "<path d=\"M459.182,-158.092C444.666,-125.523 420.967,-72.3552 408.628,-44.6718\" fill=\"none\" stroke=\"black\" stroke-width=\"0.5\"/>\n",
       "<polygon fill=\"none\" points=\"456.102,-159.778 463.37,-167.487 462.496,-156.928 456.102,-159.778\" stroke=\"black\" stroke-width=\"0.5\"/>\n",
       "</g>\n",
       "<!-- tree -->\n",
       "<g class=\"node\" id=\"node25\"><title>tree</title>\n",
       "<path d=\"M535.289,-223.059C535.289,-223.059 565.289,-223.059 565.289,-223.059 571.289,-223.059 577.289,-229.059 577.289,-235.059 577.289,-235.059 577.289,-247.059 577.289,-247.059 577.289,-253.059 571.289,-259.059 565.289,-259.059 565.289,-259.059 535.289,-259.059 535.289,-259.059 529.289,-259.059 523.289,-253.059 523.289,-247.059 523.289,-247.059 523.289,-235.059 523.289,-235.059 523.289,-229.059 529.289,-223.059 535.289,-223.059\" fill=\"aliceblue\" stroke=\"black\" stroke-width=\"0.5\"/>\n",
       "<text font-family=\"Times New Roman,serif\" font-size=\"11.00\" text-anchor=\"middle\" x=\"550.289\" y=\"-238.259\">tree</text>\n",
       "</g>\n",
       "<!-- plant&#45;&#45;tree -->\n",
       "<g class=\"edge\" id=\"edge20\"><title>plant--tree</title>\n",
       "<path d=\"M505.698,-209.748C511.982,-214.16 518.446,-218.699 524.434,-222.904\" fill=\"none\" stroke=\"black\" stroke-width=\"0.5\"/>\n",
       "<polygon fill=\"none\" points=\"507.497,-206.734 497.302,-203.852 503.475,-212.463 507.497,-206.734\" stroke=\"black\" stroke-width=\"0.5\"/>\n",
       "</g>\n",
       "<!-- elephant -->\n",
       "<g class=\"node\" id=\"node14\"><title>elephant</title>\n",
       "<path d=\"M881.549,-468.907C881.549,-468.907 911.549,-468.907 911.549,-468.907 917.549,-468.907 923.549,-474.907 923.549,-480.907 923.549,-480.907 923.549,-492.907 923.549,-492.907 923.549,-498.907 917.549,-504.907 911.549,-504.907 911.549,-504.907 881.549,-504.907 881.549,-504.907 875.549,-504.907 869.549,-498.907 869.549,-492.907 869.549,-492.907 869.549,-480.907 869.549,-480.907 869.549,-474.907 875.549,-468.907 881.549,-468.907\" fill=\"aliceblue\" stroke=\"black\" stroke-width=\"0.5\"/>\n",
       "<text font-family=\"Times New Roman,serif\" font-size=\"11.00\" text-anchor=\"middle\" x=\"896.549\" y=\"-484.107\">elephant</text>\n",
       "</g>\n",
       "<!-- herbivore&#45;&#45;elephant -->\n",
       "<g class=\"edge\" id=\"edge10\"><title>herbivore--elephant</title>\n",
       "<path d=\"M815.545,-597.373C835.421,-570.267 865.809,-528.827 883.163,-505.162\" fill=\"none\" stroke=\"black\" stroke-width=\"0.5\"/>\n",
       "<polygon fill=\"none\" points=\"812.581,-595.495 809.49,-605.629 818.226,-599.634 812.581,-595.495\" stroke=\"black\" stroke-width=\"0.5\"/>\n",
       "</g>\n",
       "<!-- Sophie&#45;01 -->\n",
       "<g class=\"node\" id=\"node35\"><title>Sophie-01</title>\n",
       "<path d=\"M637.3,-615.723C637.3,-615.723 673.3,-615.723 673.3,-615.723 679.3,-615.723 685.3,-621.723 685.3,-627.723 685.3,-627.723 685.3,-639.723 685.3,-639.723 685.3,-645.723 679.3,-651.723 673.3,-651.723 673.3,-651.723 637.3,-651.723 637.3,-651.723 631.3,-651.723 625.3,-645.723 625.3,-639.723 625.3,-639.723 625.3,-627.723 625.3,-627.723 625.3,-621.723 631.3,-615.723 637.3,-615.723\" fill=\"whitesmoke\" stroke=\"black\" stroke-width=\"0.5\"/>\n",
       "<text font-family=\"Times New Roman,serif\" font-size=\"11.00\" text-anchor=\"middle\" x=\"655.3\" y=\"-630.923\">Sophie-01</text>\n",
       "</g>\n",
       "<!-- herbivore&#45;&#45;Sophie&#45;01 -->\n",
       "<g class=\"edge\" id=\"edge34\"><title>herbivore--Sophie-01</title>\n",
       "<path d=\"M756.693,-626.586C734.111,-628.176 706.228,-630.138 685.42,-631.603\" fill=\"none\" stroke=\"black\" stroke-dasharray=\"5,2\" stroke-width=\"0.5\"/>\n",
       "<polygon fill=\"none\" points=\"757.244,-630.056 766.973,-625.863 756.752,-623.073 757.244,-630.056\" stroke=\"black\" stroke-width=\"0.5\"/>\n",
       "</g>\n",
       "<!-- berry -->\n",
       "<g class=\"node\" id=\"node18\"><title>berry</title>\n",
       "<path d=\"M128.24,-837.737C128.24,-837.737 158.24,-837.737 158.24,-837.737 164.24,-837.737 170.24,-843.737 170.24,-849.737 170.24,-849.737 170.24,-861.737 170.24,-861.737 170.24,-867.737 164.24,-873.737 158.24,-873.737 158.24,-873.737 128.24,-873.737 128.24,-873.737 122.24,-873.737 116.24,-867.737 116.24,-861.737 116.24,-861.737 116.24,-849.737 116.24,-849.737 116.24,-843.737 122.24,-837.737 128.24,-837.737\" fill=\"aliceblue\" stroke=\"black\" stroke-width=\"0.5\"/>\n",
       "<text font-family=\"Times New Roman,serif\" font-size=\"11.00\" text-anchor=\"middle\" x=\"143.24\" y=\"-852.937\">berry</text>\n",
       "</g>\n",
       "<!-- fruiting&#45;body&#45;&#45;berry -->\n",
       "<g class=\"edge\" id=\"edge13\"><title>fruiting-body--berry</title>\n",
       "<path d=\"M240.462,-765.493C217.109,-787.17 183.844,-818.048 162.908,-837.481\" fill=\"none\" stroke=\"black\" stroke-width=\"0.5\"/>\n",
       "<polygon fill=\"none\" points=\"243.022,-767.893 247.97,-758.525 238.259,-762.763 243.022,-767.893\" stroke=\"black\" stroke-width=\"0.5\"/>\n",
       "</g>\n",
       "<!-- apple -->\n",
       "<g class=\"node\" id=\"node27\"><title>apple</title>\n",
       "<path d=\"M366.465,-850.764C366.465,-850.764 396.465,-850.764 396.465,-850.764 402.465,-850.764 408.465,-856.764 408.465,-862.764 408.465,-862.764 408.465,-874.764 408.465,-874.764 408.465,-880.764 402.465,-886.764 396.465,-886.764 396.465,-886.764 366.465,-886.764 366.465,-886.764 360.465,-886.764 354.465,-880.764 354.465,-874.764 354.465,-874.764 354.465,-862.764 354.465,-862.764 354.465,-856.764 360.465,-850.764 366.465,-850.764\" fill=\"aliceblue\" stroke=\"black\" stroke-width=\"0.5\"/>\n",
       "<text font-family=\"Times New Roman,serif\" font-size=\"11.00\" text-anchor=\"middle\" x=\"381.465\" y=\"-865.964\">apple</text>\n",
       "</g>\n",
       "<!-- fruiting&#45;body&#45;&#45;apple -->\n",
       "<g class=\"edge\" id=\"edge24\"><title>fruiting-body--apple</title>\n",
       "<path d=\"M290.29,-766.289C312.579,-791.341 345.857,-828.743 365.441,-850.754\" fill=\"none\" stroke=\"black\" stroke-width=\"0.5\"/>\n",
       "<polygon fill=\"none\" points=\"292.732,-763.769 283.47,-758.624 287.502,-768.422 292.732,-763.769\" stroke=\"black\" stroke-width=\"0.5\"/>\n",
       "</g>\n",
       "<!-- giraffe&#45;&#45;Sophie&#45;01 -->\n",
       "<g class=\"edge\" id=\"edge33\"><title>giraffe--Sophie-01</title>\n",
       "<path d=\"M680.357,-598.289C676.277,-604.058 672.046,-610.042 668.248,-615.412\" fill=\"none\" stroke=\"black\" stroke-dasharray=\"5,2\" stroke-width=\"0.5\"/>\n",
       "<polygon fill=\"none\" points=\"683.242,-600.27 686.159,-590.084 677.527,-596.228 683.242,-600.27\" stroke=\"black\" stroke-width=\"0.5\"/>\n",
       "</g>\n",
       "<!-- lion -->\n",
       "<g class=\"node\" id=\"node22\"><title>lion</title>\n",
       "<path d=\"M721.394,-944.753C721.394,-944.753 751.394,-944.753 751.394,-944.753 757.394,-944.753 763.394,-950.753 763.394,-956.753 763.394,-956.753 763.394,-968.753 763.394,-968.753 763.394,-974.753 757.394,-980.753 751.394,-980.753 751.394,-980.753 721.394,-980.753 721.394,-980.753 715.394,-980.753 709.394,-974.753 709.394,-968.753 709.394,-968.753 709.394,-956.753 709.394,-956.753 709.394,-950.753 715.394,-944.753 721.394,-944.753\" fill=\"aliceblue\" stroke=\"black\" stroke-width=\"0.5\"/>\n",
       "<text font-family=\"Times New Roman,serif\" font-size=\"11.00\" text-anchor=\"middle\" x=\"736.394\" y=\"-959.953\">lion</text>\n",
       "</g>\n",
       "<!-- Leo&#45;01 -->\n",
       "<g class=\"node\" id=\"node36\"><title>Leo-01</title>\n",
       "<path d=\"M704.537,-751.611C704.537,-751.611 734.537,-751.611 734.537,-751.611 740.537,-751.611 746.537,-757.611 746.537,-763.611 746.537,-763.611 746.537,-775.611 746.537,-775.611 746.537,-781.611 740.537,-787.611 734.537,-787.611 734.537,-787.611 704.537,-787.611 704.537,-787.611 698.537,-787.611 692.537,-781.611 692.537,-775.611 692.537,-775.611 692.537,-763.611 692.537,-763.611 692.537,-757.611 698.537,-751.611 704.537,-751.611\" fill=\"whitesmoke\" stroke=\"black\" stroke-width=\"0.5\"/>\n",
       "<text font-family=\"Times New Roman,serif\" font-size=\"11.00\" text-anchor=\"middle\" x=\"719.537\" y=\"-766.811\">Leo-01</text>\n",
       "</g>\n",
       "<!-- lion&#45;&#45;Leo&#45;01 -->\n",
       "<g class=\"edge\" id=\"edge35\"><title>lion--Leo-01</title>\n",
       "<path d=\"M733.918,-934.385C730.407,-894.154 724.08,-821.664 721.131,-787.874\" fill=\"none\" stroke=\"black\" stroke-dasharray=\"5,2\" stroke-width=\"0.5\"/>\n",
       "<polygon fill=\"none\" points=\"730.452,-934.925 734.808,-944.583 737.425,-934.316 730.452,-934.925\" stroke=\"black\" stroke-width=\"0.5\"/>\n",
       "</g>\n",
       "<!-- carnivore&#45;&#45;lion -->\n",
       "<g class=\"edge\" id=\"edge17\"><title>carnivore--lion</title>\n",
       "<path d=\"M843.844,-889.48C818.962,-906.448 785.996,-928.928 763.171,-944.493\" fill=\"none\" stroke=\"black\" stroke-width=\"0.5\"/>\n",
       "<polygon fill=\"none\" points=\"845.988,-892.255 852.278,-883.729 842.045,-886.471 845.988,-892.255\" stroke=\"black\" stroke-width=\"0.5\"/>\n",
       "</g>\n",
       "<!-- Mary&#45;01 -->\n",
       "<g class=\"node\" id=\"node33\"><title>Mary-01</title>\n",
       "<path d=\"M590.129,-367.94C590.129,-367.94 621.129,-367.94 621.129,-367.94 627.129,-367.94 633.129,-373.94 633.129,-379.94 633.129,-379.94 633.129,-391.94 633.129,-391.94 633.129,-397.94 627.129,-403.94 621.129,-403.94 621.129,-403.94 590.129,-403.94 590.129,-403.94 584.129,-403.94 578.129,-397.94 578.129,-391.94 578.129,-391.94 578.129,-379.94 578.129,-379.94 578.129,-373.94 584.129,-367.94 590.129,-367.94\" fill=\"whitesmoke\" stroke=\"black\" stroke-width=\"0.5\"/>\n",
       "<text font-family=\"Times New Roman,serif\" font-size=\"11.00\" text-anchor=\"middle\" x=\"605.629\" y=\"-383.14\">Mary-01</text>\n",
       "</g>\n",
       "<!-- tree&#45;&#45;Mary&#45;01 -->\n",
       "<g class=\"edge\" id=\"edge31\"><title>tree--Mary-01</title>\n",
       "<path d=\"M560.839,-268.679C571.945,-297.754 589.112,-342.699 598.645,-367.656\" fill=\"none\" stroke=\"black\" stroke-dasharray=\"5,2\" stroke-width=\"0.5\"/>\n",
       "<polygon fill=\"none\" points=\"564.024,-267.208 557.186,-259.115 557.485,-269.706 564.024,-267.208\" stroke=\"black\" stroke-width=\"0.5\"/>\n",
       "</g>\n",
       "<!-- Leaf&#45;01 -->\n",
       "<g class=\"node\" id=\"node34\"><title>Leaf-01</title>\n",
       "<path d=\"M542.727,-537.45C542.727,-537.45 572.727,-537.45 572.727,-537.45 578.727,-537.45 584.727,-543.45 584.727,-549.45 584.727,-549.45 584.727,-561.45 584.727,-561.45 584.727,-567.45 578.727,-573.45 572.727,-573.45 572.727,-573.45 542.727,-573.45 542.727,-573.45 536.727,-573.45 530.727,-567.45 530.727,-561.45 530.727,-561.45 530.727,-549.45 530.727,-549.45 530.727,-543.45 536.727,-537.45 542.727,-537.45\" fill=\"whitesmoke\" stroke=\"black\" stroke-width=\"0.5\"/>\n",
       "<text font-family=\"Times New Roman,serif\" font-size=\"11.00\" text-anchor=\"middle\" x=\"557.727\" y=\"-552.65\">Leaf-01</text>\n",
       "</g>\n",
       "<!-- leaf&#45;&#45;Leaf&#45;01 -->\n",
       "<g class=\"edge\" id=\"edge32\"><title>leaf--Leaf-01</title>\n",
       "<path d=\"M476.347,-564.457C493.942,-562.509 514.575,-560.226 530.662,-558.445\" fill=\"none\" stroke=\"black\" stroke-dasharray=\"5,2\" stroke-width=\"0.5\"/>\n",
       "<polygon fill=\"none\" points=\"475.949,-560.979 466.395,-565.558 476.719,-567.937 475.949,-560.979\" stroke=\"black\" stroke-width=\"0.5\"/>\n",
       "</g>\n",
       "<!-- herb -->\n",
       "<g class=\"node\" id=\"node29\"><title>herb</title>\n",
       "<path d=\"M358.449,-292.024C358.449,-292.024 388.449,-292.024 388.449,-292.024 394.449,-292.024 400.449,-298.024 400.449,-304.024 400.449,-304.024 400.449,-316.024 400.449,-316.024 400.449,-322.024 394.449,-328.024 388.449,-328.024 388.449,-328.024 358.449,-328.024 358.449,-328.024 352.449,-328.024 346.449,-322.024 346.449,-316.024 346.449,-316.024 346.449,-304.024 346.449,-304.024 346.449,-298.024 352.449,-292.024 358.449,-292.024\" fill=\"aliceblue\" stroke=\"black\" stroke-width=\"0.5\"/>\n",
       "<text font-family=\"Times New Roman,serif\" font-size=\"11.00\" text-anchor=\"middle\" x=\"373.449\" y=\"-307.224\">herb</text>\n",
       "</g>\n",
       "<!-- herb&#45;&#45;plant&#45;part -->\n",
       "<g class=\"edge\" id=\"edge27\"><title>herb--plant-part</title>\n",
       "<path d=\"M357.176,-336.935C345.354,-357.073 329.405,-385.508 317.476,-411.522 295.56,-459.317 275.52,-518.109 265.98,-547.399\" fill=\"none\" stroke=\"black\" stroke-width=\"0.5\"/>\n",
       "<polygon fill=\"none\" points=\"360.203,-338.692 362.288,-328.305 354.18,-335.125 360.203,-338.692\" stroke=\"black\" stroke-width=\"0.5\"/>\n",
       "</g>\n",
       "<!-- herb&#45;&#45;plant -->\n",
       "<g class=\"edge\" id=\"edge26\"><title>herb--plant</title>\n",
       "<path d=\"M394.016,-283.955C412.965,-259.937 440.592,-224.92 457.23,-203.832\" fill=\"none\" stroke=\"black\" stroke-width=\"0.5\"/>\n",
       "<polygon fill=\"none\" points=\"391.153,-281.933 387.707,-291.951 396.649,-286.269 391.153,-281.933\" stroke=\"black\" stroke-width=\"0.5\"/>\n",
       "</g>\n",
       "<!-- Branch&#45;01&#45;&#45;Branch&#45;02 -->\n",
       "<g class=\"edge\" id=\"edge36\"><title>Branch-01--Branch-02</title>\n",
       "<path d=\"M458.541,-388.345C456.307,-408.473 455.766,-441.255 457.096,-464.792\" fill=\"none\" stroke=\"black\" stroke-width=\"0.5\"/>\n",
       "<polygon fill=\"black\" points=\"457.839,-474.878 452.616,-465.235 457.471,-469.891 457.104,-464.905 457.104,-464.905 457.104,-464.905 457.471,-469.891 461.592,-464.574 457.839,-474.878 457.839,-474.878\" stroke=\"black\" stroke-width=\"0.5\"/>\n",
       "<text font-family=\"Times New Roman,serif\" font-size=\"11.00\" text-anchor=\"middle\" x=\"437.898\" y=\"-434.911\">has-part</text>\n",
       "</g>\n",
       "<!-- Branch&#45;01&#45;&#45;Mary&#45;01 -->\n",
       "<g class=\"edge\" id=\"edge37\"><title>Branch-01--Mary-01</title>\n",
       "<path d=\"M495.228,-379.541C516.567,-383.126 544.857,-386.342 567.457,-387.793\" fill=\"none\" stroke=\"black\" stroke-width=\"0.5\"/>\n",
       "<polygon fill=\"black\" points=\"577.717,-388.343 567.49,-392.301 572.724,-388.075 567.731,-387.807 567.731,-387.807 567.731,-387.807 572.724,-388.075 567.972,-383.314 577.717,-388.343 577.717,-388.343\" stroke=\"black\" stroke-width=\"0.5\"/>\n",
       "<text font-family=\"Times New Roman,serif\" font-size=\"11.00\" text-anchor=\"middle\" x=\"515.675\" y=\"-388.256\">is-part-of</text>\n",
       "</g>\n",
       "<!-- Branch&#45;01&#45;&#45;Leaf&#45;01 -->\n",
       "<g class=\"edge\" id=\"edge38\"><title>Branch-01--Leaf-01</title>\n",
       "<path d=\"M468.383,-388.524C481.438,-421.317 516.019,-490.152 538.284,-528.414\" fill=\"none\" stroke=\"black\" stroke-width=\"0.5\"/>\n",
       "<polygon fill=\"black\" points=\"543.659,-537.442 534.677,-531.151 541.101,-533.145 538.543,-528.849 538.543,-528.849 538.543,-528.849 541.101,-533.145 542.41,-526.547 543.659,-537.442 543.659,-537.442\" stroke=\"black\" stroke-width=\"0.5\"/>\n",
       "<text font-family=\"Times New Roman,serif\" font-size=\"11.00\" text-anchor=\"middle\" x=\"485.39\" y=\"-455.58\">has-part</text>\n",
       "</g>\n",
       "<!-- Branch&#45;02&#45;&#45;Branch&#45;01 -->\n",
       "<g class=\"edge\" id=\"edge39\"><title>Branch-02--Branch-01</title>\n",
       "<path d=\"M467.756,-475.032C469.991,-454.904 470.531,-422.122 469.202,-398.585\" fill=\"none\" stroke=\"black\" stroke-width=\"0.5\"/>\n",
       "<polygon fill=\"black\" points=\"468.459,-388.499 473.681,-398.142 468.826,-393.486 469.193,-398.472 469.193,-398.472 469.193,-398.472 468.826,-393.486 464.706,-398.803 468.459,-388.499 468.459,-388.499\" stroke=\"black\" stroke-width=\"0.5\"/>\n",
       "<text font-family=\"Times New Roman,serif\" font-size=\"11.00\" text-anchor=\"middle\" x=\"449.399\" y=\"-422.866\">is-part-of</text>\n",
       "</g>\n",
       "<!-- Branch&#45;02&#45;&#45;Mary&#45;01 -->\n",
       "<g class=\"edge\" id=\"edge40\"><title>Branch-02--Mary-01</title>\n",
       "<path d=\"M494.204,-476.349C520.661,-458.625 557.795,-430.754 581.822,-410.565\" fill=\"none\" stroke=\"black\" stroke-width=\"0.5\"/>\n",
       "<polygon fill=\"black\" points=\"589.433,-404.038 584.771,-413.964 585.637,-407.293 581.842,-410.548 581.842,-410.548 581.842,-410.548 585.637,-407.293 578.913,-407.132 589.433,-404.038 589.433,-404.038\" stroke=\"black\" stroke-width=\"0.5\"/>\n",
       "<text font-family=\"Times New Roman,serif\" font-size=\"11.00\" text-anchor=\"middle\" x=\"563.072\" y=\"-444.833\">is-part-of</text>\n",
       "</g>\n",
       "<!-- Branch&#45;02&#45;&#45;Leaf&#45;01 -->\n",
       "<g class=\"edge\" id=\"edge41\"><title>Branch-02--Leaf-01</title>\n",
       "<path d=\"M480.171,-511.394C491.868,-520.382 507.616,-531.007 521.881,-539.641\" fill=\"none\" stroke=\"black\" stroke-width=\"0.5\"/>\n",
       "<polygon fill=\"black\" points=\"530.521,-544.727 519.621,-543.532 526.212,-542.191 521.903,-539.654 521.903,-539.654 521.903,-539.654 526.212,-542.191 524.186,-535.776 530.521,-544.727 530.521,-544.727\" stroke=\"black\" stroke-width=\"0.5\"/>\n",
       "<text font-family=\"Times New Roman,serif\" font-size=\"11.00\" text-anchor=\"middle\" x=\"486.315\" y=\"-532.028\">has-part</text>\n",
       "</g>\n",
       "<!-- Mary&#45;01&#45;&#45;Branch&#45;01 -->\n",
       "<g class=\"edge\" id=\"edge42\"><title>Mary-01--Branch-01</title>\n",
       "<path d=\"M577.844,-377.311C557.198,-373.651 528.686,-370.281 505.316,-368.639\" fill=\"none\" stroke=\"black\" stroke-width=\"0.5\"/>\n",
       "<polygon fill=\"black\" points=\"495.32,-368.028 505.576,-364.146 500.311,-368.333 505.302,-368.638 505.302,-368.638 505.302,-368.638 500.311,-368.333 505.027,-373.129 495.32,-368.028 495.32,-368.028\" stroke=\"black\" stroke-width=\"0.5\"/>\n",
       "<text font-family=\"Times New Roman,serif\" font-size=\"11.00\" text-anchor=\"middle\" x=\"518.162\" y=\"-374.732\">has-part</text>\n",
       "</g>\n",
       "<!-- Mary&#45;01&#45;&#45;Branch&#45;02 -->\n",
       "<g class=\"edge\" id=\"edge43\"><title>Mary-01--Branch-02</title>\n",
       "<path d=\"M577.907,-400.17C551.382,-417.627 511.883,-447.156 486.664,-468.327\" fill=\"none\" stroke=\"black\" stroke-width=\"0.5\"/>\n",
       "<polygon fill=\"black\" points=\"479.013,-474.881 483.68,-464.958 482.81,-471.628 486.608,-468.375 486.608,-468.375 486.608,-468.375 482.81,-471.628 489.535,-471.793 479.013,-474.881 479.013,-474.881\" stroke=\"black\" stroke-width=\"0.5\"/>\n",
       "<text font-family=\"Times New Roman,serif\" font-size=\"11.00\" text-anchor=\"middle\" x=\"509.088\" y=\"-439.212\">has-part</text>\n",
       "</g>\n",
       "<!-- Mary&#45;01&#45;&#45;Leaf&#45;01 -->\n",
       "<g class=\"edge\" id=\"edge44\"><title>Mary-01--Leaf-01</title>\n",
       "<path d=\"M595.809,-404.162C584.543,-433.744 567.773,-492.367 560.396,-527.325\" fill=\"none\" stroke=\"black\" stroke-width=\"0.5\"/>\n",
       "<polygon fill=\"black\" points=\"558.424,-537.355 555.937,-526.675 559.388,-532.449 560.353,-527.543 560.353,-527.543 560.353,-527.543 559.388,-532.449 564.768,-528.411 558.424,-537.355 558.424,-537.355\" stroke=\"black\" stroke-width=\"0.5\"/>\n",
       "<text font-family=\"Times New Roman,serif\" font-size=\"11.00\" text-anchor=\"middle\" x=\"556.324\" y=\"-473.33\">has-part</text>\n",
       "</g>\n",
       "<!-- Leaf&#45;01&#45;&#45;Branch&#45;01 -->\n",
       "<g class=\"edge\" id=\"edge45\"><title>Leaf-01--Branch-01</title>\n",
       "<path d=\"M552.986,-537.182C539.932,-504.389 505.35,-435.554 483.085,-397.293\" fill=\"none\" stroke=\"black\" stroke-width=\"0.5\"/>\n",
       "<polygon fill=\"black\" points=\"477.71,-388.264 486.692,-394.555 480.268,-392.561 482.826,-396.857 482.826,-396.857 482.826,-396.857 480.268,-392.561 478.959,-399.159 477.71,-388.264 477.71,-388.264\" stroke=\"black\" stroke-width=\"0.5\"/>\n",
       "<text font-family=\"Times New Roman,serif\" font-size=\"11.00\" text-anchor=\"middle\" x=\"527.729\" y=\"-452.526\">is-part-of</text>\n",
       "</g>\n",
       "<!-- Leaf&#45;01&#45;&#45;Branch&#45;02 -->\n",
       "<g class=\"edge\" id=\"edge46\"><title>Leaf-01--Branch-02</title>\n",
       "<path d=\"M540.212,-537.177C529.748,-529.137 516.043,-519.787 503.057,-511.724\" fill=\"none\" stroke=\"black\" stroke-width=\"0.5\"/>\n",
       "<polygon fill=\"black\" points=\"494.231,-506.379 505.116,-507.71 498.508,-508.969 502.785,-511.559 502.785,-511.559 502.785,-511.559 498.508,-508.969 500.454,-515.408 494.231,-506.379 494.231,-506.379\" stroke=\"black\" stroke-width=\"0.5\"/>\n",
       "<text font-family=\"Times New Roman,serif\" font-size=\"11.00\" text-anchor=\"middle\" x=\"537.957\" y=\"-524.198\">is-part-of</text>\n",
       "</g>\n",
       "<!-- Leaf&#45;01&#45;&#45;Mary&#45;01 -->\n",
       "<g class=\"edge\" id=\"edge47\"><title>Leaf-01--Mary-01</title>\n",
       "<path d=\"M567.547,-537.227C578.814,-507.646 595.583,-449.023 602.961,-414.065\" fill=\"none\" stroke=\"black\" stroke-width=\"0.5\"/>\n",
       "<polygon fill=\"black\" points=\"604.932,-404.034 607.419,-414.715 603.968,-408.94 603.004,-413.847 603.004,-413.847 603.004,-413.847 603.968,-408.94 598.588,-412.979 604.932,-404.034 604.932,-404.034\" stroke=\"black\" stroke-width=\"0.5\"/>\n",
       "<text font-family=\"Times New Roman,serif\" font-size=\"11.00\" text-anchor=\"middle\" x=\"609.032\" y=\"-474.459\">is-part-of</text>\n",
       "</g>\n",
       "<!-- Leaf&#45;01&#45;&#45;Sophie&#45;01 -->\n",
       "<g class=\"edge\" id=\"edge48\"><title>Leaf-01--Sophie-01</title>\n",
       "<path d=\"M571.845,-573.59C583.684,-584.845 601.049,-599.272 616.898,-611.224\" fill=\"none\" stroke=\"black\" stroke-width=\"0.5\"/>\n",
       "<polygon fill=\"black\" points=\"625.011,-617.219 614.294,-614.895 620.989,-614.247 616.968,-611.276 616.968,-611.276 616.968,-611.276 620.989,-614.247 619.642,-607.657 625.011,-617.219 625.011,-617.219\" stroke=\"black\" stroke-width=\"0.5\"/>\n",
       "<text font-family=\"Times New Roman,serif\" font-size=\"11.00\" text-anchor=\"middle\" x=\"573.177\" y=\"-599.316\">is-eaten-by</text>\n",
       "</g>\n",
       "<!-- Sophie&#45;01&#45;&#45;Leaf&#45;01 -->\n",
       "<g class=\"edge\" id=\"edge49\"><title>Sophie-01--Leaf-01</title>\n",
       "<path d=\"M641.182,-615.582C628.647,-603.666 609.916,-588.192 593.349,-575.866\" fill=\"none\" stroke=\"black\" stroke-width=\"0.5\"/>\n",
       "<polygon fill=\"black\" points=\"584.927,-569.743 595.662,-571.984 588.972,-572.683 593.016,-575.624 593.016,-575.624 593.016,-575.624 588.972,-572.683 590.369,-579.263 584.927,-569.743 584.927,-569.743\" stroke=\"black\" stroke-width=\"0.5\"/>\n",
       "<text font-family=\"Times New Roman,serif\" font-size=\"11.00\" text-anchor=\"middle\" x=\"604.154\" y=\"-582.875\">eats</text>\n",
       "</g>\n",
       "<!-- Sophie&#45;01&#45;&#45;Leo&#45;01 -->\n",
       "<g class=\"edge\" id=\"edge50\"><title>Sophie-01--Leo-01</title>\n",
       "<path d=\"M658.803,-651.791C667.027,-674.987 685.69,-715.356 700.328,-742.3\" fill=\"none\" stroke=\"black\" stroke-width=\"0.5\"/>\n",
       "<polygon fill=\"black\" points=\"705.314,-751.22 696.507,-744.686 702.874,-746.855 700.435,-742.491 700.435,-742.491 700.435,-742.491 702.874,-746.855 704.363,-740.295 705.314,-751.22 705.314,-751.22\" stroke=\"black\" stroke-width=\"0.5\"/>\n",
       "<text font-family=\"Times New Roman,serif\" font-size=\"11.00\" text-anchor=\"middle\" x=\"655.877\" y=\"-705.759\">is-eaten-by</text>\n",
       "</g>\n",
       "<!-- Leo&#45;01&#45;&#45;Sophie&#45;01 -->\n",
       "<g class=\"edge\" id=\"edge51\"><title>Leo-01--Sophie-01</title>\n",
       "<path d=\"M716.034,-751.543C707.81,-728.347 689.147,-687.978 674.509,-661.034\" fill=\"none\" stroke=\"black\" stroke-width=\"0.5\"/>\n",
       "<polygon fill=\"black\" points=\"669.523,-652.114 678.33,-658.647 671.963,-656.478 674.402,-660.843 674.402,-660.843 674.402,-660.843 671.963,-656.478 670.474,-663.038 669.523,-652.114 669.523,-652.114\" stroke=\"black\" stroke-width=\"0.5\"/>\n",
       "<text font-family=\"Times New Roman,serif\" font-size=\"11.00\" text-anchor=\"middle\" x=\"684.96\" y=\"-691.975\">eats</text>\n",
       "</g>\n",
       "</g>\n",
       "</svg>"
      ],
      "text/plain": [
       "<IPython.core.display.SVG object>"
      ]
     },
     "execution_count": 17,
     "metadata": {},
     "output_type": "execute_result"
    }
   ],
   "source": [
    "onto.draw_graph(layout=\"force directed\")"
   ]
  },
  {
   "cell_type": "code",
   "execution_count": 18,
   "metadata": {},
   "outputs": [
    {
     "data": {
      "application/vnd.jupyter.widget-view+json": {
       "model_id": "0d966987252949d4be7543c6fca54e91",
       "version_major": 2,
       "version_minor": 0
      },
      "text/plain": [
       "VBox(children=(OntoeditWidget(layout=Layout(height='100%', width='90%'), value='eaten by Leo-01'), Output()), …"
      ]
     },
     "metadata": {},
     "output_type": "display_data"
    }
   ],
   "source": [
    "q1_edit = CnlQueryForConcept('query_01.encnl',onto=onto)\n",
    "q1_edit"
   ]
  },
  {
   "cell_type": "code",
   "execution_count": 19,
   "metadata": {},
   "outputs": [
    {
     "data": {
      "text/html": [
       "<div>\n",
       "<style scoped>\n",
       "    .dataframe tbody tr th:only-of-type {\n",
       "        vertical-align: middle;\n",
       "    }\n",
       "\n",
       "    .dataframe tbody tr th {\n",
       "        vertical-align: top;\n",
       "    }\n",
       "\n",
       "    .dataframe thead th {\n",
       "        text-align: right;\n",
       "    }\n",
       "</style>\n",
       "<table border=\"1\" class=\"dataframe\">\n",
       "  <thead>\n",
       "    <tr style=\"text-align: right;\">\n",
       "      <th></th>\n",
       "      <th>Instance</th>\n",
       "      <th>is-eaten-by</th>\n",
       "      <th>eats</th>\n",
       "    </tr>\n",
       "  </thead>\n",
       "  <tbody>\n",
       "    <tr>\n",
       "      <th>0</th>\n",
       "      <td>Sophie-01</td>\n",
       "      <td>Leo-01</td>\n",
       "      <td>Leaf-01</td>\n",
       "    </tr>\n",
       "  </tbody>\n",
       "</table>\n",
       "</div>"
      ],
      "text/plain": [
       "    Instance is-eaten-by     eats\n",
       "0  Sophie-01      Leo-01  Leaf-01"
      ]
     },
     "execution_count": 19,
     "metadata": {},
     "output_type": "execute_result"
    }
   ],
   "source": [
    "onto.select_instances_of(q1_edit.getvalue())"
   ]
  },
  {
   "cell_type": "code",
   "execution_count": 20,
   "metadata": {},
   "outputs": [
    {
     "name": "stdout",
     "output_type": "stream",
     "text": [
      "{\"concluded\":\"Leo-01 is an animal.\",\"by\":[\r\n",
      "    {\"expr\":\"Every lion is an animal.\"},\r\n",
      "    {\"expr\":\"Leo-01 is a lion.\"}]}\r\n",
      "\r\n",
      "\n"
     ]
    }
   ],
   "source": [
    "print(onto.why(\"Leo-01 is an animal?\"))"
   ]
  },
  {
   "cell_type": "code",
   "execution_count": 21,
   "metadata": {},
   "outputs": [
    {
     "data": {
      "text/html": [
       "<div>\n",
       "<style scoped>\n",
       "    .dataframe tbody tr th:only-of-type {\n",
       "        vertical-align: middle;\n",
       "    }\n",
       "\n",
       "    .dataframe tbody tr th {\n",
       "        vertical-align: top;\n",
       "    }\n",
       "\n",
       "    .dataframe thead th {\n",
       "        text-align: right;\n",
       "    }\n",
       "</style>\n",
       "<table border=\"1\" class=\"dataframe\">\n",
       "  <thead>\n",
       "    <tr style=\"text-align: right;\">\n",
       "      <th></th>\n",
       "      <th>a1</th>\n",
       "      <th>a2</th>\n",
       "    </tr>\n",
       "  </thead>\n",
       "  <tbody>\n",
       "    <tr>\n",
       "      <th>0</th>\n",
       "      <td>Leo-01</td>\n",
       "      <td>Sophie-01</td>\n",
       "    </tr>\n",
       "  </tbody>\n",
       "</table>\n",
       "</div>"
      ],
      "text/plain": [
       "       a1         a2\n",
       "0  Leo-01  Sophie-01"
      ]
     },
     "execution_count": 21,
     "metadata": {},
     "output_type": "execute_result"
    }
   ],
   "source": [
    "onto.sparql_query(CQL(\"\"\"select ?a1 ?a2 {\n",
    "                            ?a1 rdf:type <animal>. \n",
    "                            ?a2 rdf:type <animal>. \n",
    "                            ?a1 <eats> ?a2. \n",
    "                        }\"\"\",\"http://cognitum.eu/african_wildlife#\"))"
   ]
  },
  {
   "cell_type": "code",
   "execution_count": 22,
   "metadata": {},
   "outputs": [
    {
     "name": "stdout",
     "output_type": "stream",
     "text": [
      "<?xml version = '1.0' encoding = 'UTF-8'?>\r\n",
      "<rdf:RDF xmlns=\"http://cognitum.eu/african_wildlife#\" xml:base=\"http://cognitum.eu/african_wildlife\" xmlns:owl=\"http://www.w3.org/2002/07/owl#\" xmlns:rdfs=\"http://www.w3.org/2000/01/rdf-schema#\" xmlns:rdf=\"http://www.w3.org/1999/02/22-rdf-syntax-ns#\" xmlns:xsd=\"http://www.w3.org/2001/XMLSchema#\">\r\n",
      "  <owl:Ontology rdf:about=\"http://cognitum.eu/african_wildlife#\" />\r\n",
      "  <!-- \r\n",
      "    ///////////////////////////////////////////////////////////////////////////////////////\r\n",
      "    //\r\n",
      "    // Object Properties\r\n",
      "    //\r\n",
      "    ///////////////////////////////////////////////////////////////////////////////////////\r\n",
      "     -->\r\n",
      "  <!-- http://cognitum.eu/african_wildlife#eats -->\r\n",
      "  <owl:ObjectProperty rdf:about=\"http://cognitum.eu/african_wildlife#eats\">\r\n",
      "    <owl:equivalentProperty>\r\n",
      "      <rdf:Description>\r\n",
      "        <owl:inverseOf rdf:resource=\"http://cognitum.eu/african_wildlife#isEatenBy\" />\r\n",
      "      </rdf:Description>\r\n",
      "    </owl:equivalentProperty>\r\n",
      "  </owl:ObjectProperty>\r\n",
      "  <!-- http://cognitum.eu/african_wildlife#has -->\r\n",
      "  <owl:ObjectProperty rdf:about=\"http://cognitum.eu/african_wildlife#has\" />\r\n",
      "  <!-- http://cognitum.eu/african_wildlife#hasPart -->\r\n",
      "  <owl:ObjectProperty rdf:about=\"http://cognitum.eu/african_wildlife#hasPart\">\r\n",
      "    <rdf:type rdf:resource=\"http://www.w3.org/2002/07/owl#TransitiveProperty\" />\r\n",
      "    <owl:equivalentProperty>\r\n",
      "      <rdf:Description>\r\n",
      "        <owl:inverseOf rdf:resource=\"http://cognitum.eu/african_wildlife#isPartOf\" />\r\n",
      "      </rdf:Description>\r\n",
      "    </owl:equivalentProperty>\r\n",
      "  </owl:ObjectProperty>\r\n",
      "  <!-- http://cognitum.eu/african_wildlife#isEatenBy -->\r\n",
      "  <owl:ObjectProperty rdf:about=\"http://cognitum.eu/african_wildlife#isEatenBy\" />\r\n",
      "  <!-- http://cognitum.eu/african_wildlife#isPartOf -->\r\n",
      "  <owl:ObjectProperty rdf:about=\"http://cognitum.eu/african_wildlife#isPartOf\">\r\n",
      "    <rdf:type rdf:resource=\"http://www.w3.org/2002/07/owl#TransitiveProperty\" />\r\n",
      "    <rdfs:subPropertyOf rdf:resource=\"http://cognitum.eu/african_wildlife#isPartOf\" />\r\n",
      "  </owl:ObjectProperty>\r\n",
      "  <!-- \r\n",
      "    ///////////////////////////////////////////////////////////////////////////////////////\r\n",
      "    //\r\n",
      "    // Classes\r\n",
      "    //\r\n",
      "    ///////////////////////////////////////////////////////////////////////////////////////\r\n",
      "     -->\r\n",
      "  <!-- http://cognitum.eu/african_wildlife#animal -->\r\n",
      "  <owl:Class rdf:about=\"http://cognitum.eu/african_wildlife#animal\">\r\n",
      "    <rdfs:subClassOf>\r\n",
      "      <owl:Restriction>\r\n",
      "        <owl:onProperty rdf:resource=\"http://cognitum.eu/african_wildlife#has\" />\r\n",
      "        <owl:someValuesFrom rdf:resource=\"http://cognitum.eu/african_wildlife#face\" />\r\n",
      "      </owl:Restriction>\r\n",
      "    </rdfs:subClassOf>\r\n",
      "  </owl:Class>\r\n",
      "  <!-- http://cognitum.eu/african_wildlife#apple -->\r\n",
      "  <owl:Class rdf:about=\"http://cognitum.eu/african_wildlife#apple\">\r\n",
      "    <rdfs:subClassOf rdf:resource=\"http://cognitum.eu/african_wildlife#fruitingBody\" />\r\n",
      "  </owl:Class>\r\n",
      "  <!-- http://cognitum.eu/african_wildlife#berry -->\r\n",
      "  <owl:Class rdf:about=\"http://cognitum.eu/african_wildlife#berry\">\r\n",
      "    <rdfs:subClassOf rdf:resource=\"http://cognitum.eu/african_wildlife#fruitingBody\" />\r\n",
      "  </owl:Class>\r\n",
      "  <!-- http://cognitum.eu/african_wildlife#branch -->\r\n",
      "  <owl:Class rdf:about=\"http://cognitum.eu/african_wildlife#branch\">\r\n",
      "    <rdfs:subClassOf rdf:resource=\"http://cognitum.eu/african_wildlife#plantPart\" />\r\n",
      "    <rdfs:subClassOf>\r\n",
      "      <owl:Restriction>\r\n",
      "        <owl:onProperty rdf:resource=\"http://cognitum.eu/african_wildlife#isPartOf\" />\r\n",
      "        <owl:someValuesFrom rdf:resource=\"http://cognitum.eu/african_wildlife#tree\" />\r\n",
      "      </owl:Restriction>\r\n",
      "    </rdfs:subClassOf>\r\n",
      "  </owl:Class>\r\n",
      "  <!-- http://cognitum.eu/african_wildlife#carnivor -->\r\n",
      "  <owl:Class rdf:about=\"http://cognitum.eu/african_wildlife#carnivor\">\r\n",
      "    <rdfs:subClassOf>\r\n",
      "      <owl:Restriction>\r\n",
      "        <owl:onProperty rdf:resource=\"http://cognitum.eu/african_wildlife#eats\" />\r\n",
      "        <owl:someValuesFrom rdf:resource=\"http://cognitum.eu/african_wildlife#animal\" />\r\n",
      "      </owl:Restriction>\r\n",
      "    </rdfs:subClassOf>\r\n",
      "  </owl:Class>\r\n",
      "  <!-- http://cognitum.eu/african_wildlife#carnivore -->\r\n",
      "  <owl:Class rdf:about=\"http://cognitum.eu/african_wildlife#carnivore\">\r\n",
      "    <rdfs:subClassOf rdf:resource=\"http://cognitum.eu/african_wildlife#animal\" />\r\n",
      "    <rdfs:subClassOf>\r\n",
      "      <owl:Restriction>\r\n",
      "        <owl:onProperty rdf:resource=\"http://cognitum.eu/african_wildlife#eats\" />\r\n",
      "        <owl:allValuesFrom rdf:resource=\"http://cognitum.eu/african_wildlife#animal\" />\r\n",
      "      </owl:Restriction>\r\n",
      "    </rdfs:subClassOf>\r\n",
      "  </owl:Class>\r\n",
      "  <!-- http://cognitum.eu/african_wildlife#carnivorousPlant -->\r\n",
      "  <owl:Class rdf:about=\"http://cognitum.eu/african_wildlife#carnivorousPlant\">\r\n",
      "    <rdfs:subClassOf rdf:resource=\"http://cognitum.eu/african_wildlife#plant\" />\r\n",
      "    <rdfs:subClassOf>\r\n",
      "      <owl:Restriction>\r\n",
      "        <owl:onProperty rdf:resource=\"http://cognitum.eu/african_wildlife#eats\" />\r\n",
      "        <owl:someValuesFrom rdf:resource=\"http://cognitum.eu/african_wildlife#animal\" />\r\n",
      "      </owl:Restriction>\r\n",
      "    </rdfs:subClassOf>\r\n",
      "  </owl:Class>\r\n",
      "  <!-- http://cognitum.eu/african_wildlife#elephant -->\r\n",
      "  <owl:Class rdf:about=\"http://cognitum.eu/african_wildlife#elephant\">\r\n",
      "    <rdfs:subClassOf rdf:resource=\"http://cognitum.eu/african_wildlife#herbivore\" />\r\n",
      "  </owl:Class>\r\n",
      "  <!-- http://cognitum.eu/african_wildlife#face -->\r\n",
      "  <owl:Class rdf:about=\"http://cognitum.eu/african_wildlife#face\" />\r\n",
      "  <!-- http://cognitum.eu/african_wildlife#fruitingBody -->\r\n",
      "  <owl:Class rdf:about=\"http://cognitum.eu/african_wildlife#fruitingBody\">\r\n",
      "    <rdfs:subClassOf rdf:resource=\"http://cognitum.eu/african_wildlife#plantPart\" />\r\n",
      "  </owl:Class>\r\n",
      "  <!-- http://cognitum.eu/african_wildlife#giraffe -->\r\n",
      "  <owl:Class rdf:about=\"http://cognitum.eu/african_wildlife#giraffe\">\r\n",
      "    <rdfs:subClassOf rdf:resource=\"http://cognitum.eu/african_wildlife#animal\" />\r\n",
      "    <rdfs:subClassOf>\r\n",
      "      <owl:Class>\r\n",
      "        <owl:complementOf rdf:resource=\"http://cognitum.eu/african_wildlife#lion\" />\r\n",
      "      </owl:Class>\r\n",
      "    </rdfs:subClassOf>\r\n",
      "  </owl:Class>\r\n",
      "  <!-- http://cognitum.eu/african_wildlife#grass -->\r\n",
      "  <owl:Class rdf:about=\"http://cognitum.eu/african_wildlife#grass\">\r\n",
      "    <rdfs:subClassOf rdf:resource=\"http://cognitum.eu/african_wildlife#plant\" />\r\n",
      "  </owl:Class>\r\n",
      "  <!-- http://cognitum.eu/african_wildlife#herb -->\r\n",
      "  <owl:Class rdf:about=\"http://cognitum.eu/african_wildlife#herb\">\r\n",
      "    <rdfs:subClassOf>\r\n",
      "      <owl:Class>\r\n",
      "        <owl:complementOf rdf:resource=\"http://cognitum.eu/african_wildlife#animal\" />\r\n",
      "      </owl:Class>\r\n",
      "    </rdfs:subClassOf>\r\n",
      "  </owl:Class>\r\n",
      "  <!-- http://cognitum.eu/african_wildlife#herbivore -->\r\n",
      "  <owl:Class rdf:about=\"http://cognitum.eu/african_wildlife#herbivore\">\r\n",
      "    <rdfs:subClassOf rdf:resource=\"http://cognitum.eu/african_wildlife#animal\" />\r\n",
      "    <rdfs:subClassOf>\r\n",
      "      <owl:Restriction>\r\n",
      "        <owl:onProperty rdf:resource=\"http://cognitum.eu/african_wildlife#eats\" />\r\n",
      "        <owl:allValuesFrom rdf:resource=\"http://cognitum.eu/african_wildlife#herb\" />\r\n",
      "      </owl:Restriction>\r\n",
      "    </rdfs:subClassOf>\r\n",
      "  </owl:Class>\r\n",
      "  <!-- http://cognitum.eu/african_wildlife#impala -->\r\n",
      "  <owl:Class rdf:about=\"http://cognitum.eu/african_wildlife#impala\">\r\n",
      "    <rdfs:subClassOf rdf:resource=\"http://cognitum.eu/african_wildlife#animal\" />\r\n",
      "  </owl:Class>\r\n",
      "  <!-- http://cognitum.eu/african_wildlife#leaf -->\r\n",
      "  <owl:Class rdf:about=\"http://cognitum.eu/african_wildlife#leaf\">\r\n",
      "    <rdfs:subClassOf rdf:resource=\"http://cognitum.eu/african_wildlife#plantPart\" />\r\n",
      "  </owl:Class>\r\n",
      "  <!-- http://cognitum.eu/african_wildlife#lion -->\r\n",
      "  <owl:Class rdf:about=\"http://cognitum.eu/african_wildlife#lion\">\r\n",
      "    <rdfs:subClassOf rdf:resource=\"http://cognitum.eu/african_wildlife#animal\" />\r\n",
      "    <rdfs:subClassOf rdf:resource=\"http://cognitum.eu/african_wildlife#carnivore\" />\r\n",
      "    <rdfs:subClassOf>\r\n",
      "      <owl:Restriction>\r\n",
      "        <owl:onProperty rdf:resource=\"http://cognitum.eu/african_wildlife#eats\" />\r\n",
      "        <owl:allValuesFrom rdf:resource=\"http://cognitum.eu/african_wildlife#herbivore\" />\r\n",
      "      </owl:Restriction>\r\n",
      "    </rdfs:subClassOf>\r\n",
      "  </owl:Class>\r\n",
      "  <!-- http://cognitum.eu/african_wildlife#man -->\r\n",
      "  <owl:Class rdf:about=\"http://cognitum.eu/african_wildlife#man\">\r\n",
      "    <rdfs:subClassOf>\r\n",
      "      <owl:Restriction>\r\n",
      "        <owl:onProperty rdf:resource=\"http://cognitum.eu/african_wildlife#has\" />\r\n",
      "        <owl:someValuesFrom rdf:resource=\"http://cognitum.eu/african_wildlife#train\" />\r\n",
      "      </owl:Restriction>\r\n",
      "    </rdfs:subClassOf>\r\n",
      "  </owl:Class>\r\n",
      "  <!-- http://cognitum.eu/african_wildlife#omnivore -->\r\n",
      "  <owl:Class rdf:about=\"http://cognitum.eu/african_wildlife#omnivore\">\r\n",
      "    <rdfs:subClassOf rdf:resource=\"http://cognitum.eu/african_wildlife#animal\" />\r\n",
      "    <rdfs:subClassOf>\r\n",
      "      <owl:Restriction>\r\n",
      "        <owl:onProperty rdf:resource=\"http://cognitum.eu/african_wildlife#eats\" />\r\n",
      "        <owl:someValuesFrom rdf:resource=\"http://cognitum.eu/african_wildlife#plant\" />\r\n",
      "      </owl:Restriction>\r\n",
      "    </rdfs:subClassOf>\r\n",
      "  </owl:Class>\r\n",
      "  <!-- http://cognitum.eu/african_wildlife#palmTree -->\r\n",
      "  <owl:Class rdf:about=\"http://cognitum.eu/african_wildlife#palmTree\">\r\n",
      "    <rdfs:subClassOf rdf:resource=\"http://cognitum.eu/african_wildlife#plant\" />\r\n",
      "    <rdfs:subClassOf>\r\n",
      "      <owl:Class>\r\n",
      "        <owl:complementOf rdf:resource=\"http://cognitum.eu/african_wildlife#tree\" />\r\n",
      "      </owl:Class>\r\n",
      "    </rdfs:subClassOf>\r\n",
      "  </owl:Class>\r\n",
      "  <!-- http://cognitum.eu/african_wildlife#parsnip -->\r\n",
      "  <owl:Class rdf:about=\"http://cognitum.eu/african_wildlife#parsnip\">\r\n",
      "    <rdfs:subClassOf rdf:resource=\"http://cognitum.eu/african_wildlife#root\" />\r\n",
      "  </owl:Class>\r\n",
      "  <!-- http://cognitum.eu/african_wildlife#phloem -->\r\n",
      "  <owl:Class rdf:about=\"http://cognitum.eu/african_wildlife#phloem\">\r\n",
      "    <rdfs:subClassOf rdf:resource=\"http://cognitum.eu/african_wildlife#plantPart\" />\r\n",
      "  </owl:Class>\r\n",
      "  <!-- http://cognitum.eu/african_wildlife#plant -->\r\n",
      "  <owl:Class rdf:about=\"http://cognitum.eu/african_wildlife#plant\" />\r\n",
      "  <!-- http://cognitum.eu/african_wildlife#plantPart -->\r\n",
      "  <owl:Class rdf:about=\"http://cognitum.eu/african_wildlife#plantPart\">\r\n",
      "    <rdfs:subClassOf>\r\n",
      "      <owl:Restriction>\r\n",
      "        <owl:onProperty rdf:resource=\"http://cognitum.eu/african_wildlife#isPartOf\" />\r\n",
      "        <owl:someValuesFrom rdf:resource=\"http://cognitum.eu/african_wildlife#plant\" />\r\n",
      "      </owl:Restriction>\r\n",
      "    </rdfs:subClassOf>\r\n",
      "  </owl:Class>\r\n",
      "  <!-- http://cognitum.eu/african_wildlife#rockDassie -->\r\n",
      "  <owl:Class rdf:about=\"http://cognitum.eu/african_wildlife#rockDassie\">\r\n",
      "    <rdfs:subClassOf rdf:resource=\"http://cognitum.eu/african_wildlife#animal\" />\r\n",
      "  </owl:Class>\r\n",
      "  <!-- http://cognitum.eu/african_wildlife#root -->\r\n",
      "  <owl:Class rdf:about=\"http://cognitum.eu/african_wildlife#root\">\r\n",
      "    <rdfs:subClassOf rdf:resource=\"http://cognitum.eu/african_wildlife#plantPart\" />\r\n",
      "  </owl:Class>\r\n",
      "  <!-- http://cognitum.eu/african_wildlife#stem -->\r\n",
      "  <owl:Class rdf:about=\"http://cognitum.eu/african_wildlife#stem\">\r\n",
      "    <rdfs:subClassOf rdf:resource=\"http://cognitum.eu/african_wildlife#plantPart\" />\r\n",
      "  </owl:Class>\r\n",
      "  <!-- http://cognitum.eu/african_wildlife#tastyPlant -->\r\n",
      "  <owl:Class rdf:about=\"http://cognitum.eu/african_wildlife#tastyPlant\">\r\n",
      "    <rdfs:subClassOf rdf:resource=\"http://cognitum.eu/african_wildlife#plant\" />\r\n",
      "  </owl:Class>\r\n",
      "  <!-- http://cognitum.eu/african_wildlife#train -->\r\n",
      "  <owl:Class rdf:about=\"http://cognitum.eu/african_wildlife#train\" />\r\n",
      "  <!-- http://cognitum.eu/african_wildlife#tree -->\r\n",
      "  <owl:Class rdf:about=\"http://cognitum.eu/african_wildlife#tree\">\r\n",
      "    <rdfs:subClassOf rdf:resource=\"http://cognitum.eu/african_wildlife#plant\" />\r\n",
      "  </owl:Class>\r\n",
      "  <!-- http://cognitum.eu/african_wildlife#twig -->\r\n",
      "  <owl:Class rdf:about=\"http://cognitum.eu/african_wildlife#twig\">\r\n",
      "    <rdfs:subClassOf rdf:resource=\"http://cognitum.eu/african_wildlife#plantPart\" />\r\n",
      "  </owl:Class>\r\n",
      "  <!-- http://cognitum.eu/african_wildlife#warthog -->\r\n",
      "  <owl:Class rdf:about=\"http://cognitum.eu/african_wildlife#warthog\">\r\n",
      "    <rdfs:subClassOf rdf:resource=\"http://cognitum.eu/african_wildlife#animal\" />\r\n",
      "  </owl:Class>\r\n",
      "  <!-- http://cognitum.eu/african_wildlife#xylem -->\r\n",
      "  <owl:Class rdf:about=\"http://cognitum.eu/african_wildlife#xylem\">\r\n",
      "    <rdfs:subClassOf rdf:resource=\"http://cognitum.eu/african_wildlife#plantPart\" />\r\n",
      "  </owl:Class>\r\n",
      "  <!-- \r\n",
      "    ///////////////////////////////////////////////////////////////////////////////////////\r\n",
      "    //\r\n",
      "    // Individuals\r\n",
      "    //\r\n",
      "    ///////////////////////////////////////////////////////////////////////////////////////\r\n",
      "     -->\r\n",
      "  <!-- http://cognitum.eu/african_wildlife#Branch01 -->\r\n",
      "  <owl:NamedIndividual rdf:about=\"http://cognitum.eu/african_wildlife#Branch01\">\r\n",
      "    <rdf:type rdf:resource=\"http://cognitum.eu/african_wildlife#branch\" />\r\n",
      "    <isPartOf rdf:resource=\"http://cognitum.eu/african_wildlife#Mary01\" />\r\n",
      "  </owl:NamedIndividual>\r\n",
      "  <!-- http://cognitum.eu/african_wildlife#Branch02 -->\r\n",
      "  <owl:NamedIndividual rdf:about=\"http://cognitum.eu/african_wildlife#Branch02\">\r\n",
      "    <rdf:type rdf:resource=\"http://cognitum.eu/african_wildlife#branch\" />\r\n",
      "    <isPartOf rdf:resource=\"http://cognitum.eu/african_wildlife#Branch01\" />\r\n",
      "  </owl:NamedIndividual>\r\n",
      "  <!-- http://cognitum.eu/african_wildlife#Branch03 -->\r\n",
      "  <owl:NamedIndividual rdf:about=\"http://cognitum.eu/african_wildlife#Branch03\">\r\n",
      "    <rdf:type rdf:resource=\"http://cognitum.eu/african_wildlife#branch\" />\r\n",
      "  </owl:NamedIndividual>\r\n",
      "  <!-- http://cognitum.eu/african_wildlife#Leaf01 -->\r\n",
      "  <owl:NamedIndividual rdf:about=\"http://cognitum.eu/african_wildlife#Leaf01\">\r\n",
      "    <rdf:type rdf:resource=\"http://cognitum.eu/african_wildlife#leaf\" />\r\n",
      "    <isPartOf rdf:resource=\"http://cognitum.eu/african_wildlife#Branch02\" />\r\n",
      "  </owl:NamedIndividual>\r\n",
      "  <!-- http://cognitum.eu/african_wildlife#Leo01 -->\r\n",
      "  <owl:NamedIndividual rdf:about=\"http://cognitum.eu/african_wildlife#Leo01\">\r\n",
      "    <rdf:type rdf:resource=\"http://cognitum.eu/african_wildlife#lion\" />\r\n",
      "    <eats rdf:resource=\"http://cognitum.eu/african_wildlife#Sophie01\" />\r\n",
      "  </owl:NamedIndividual>\r\n",
      "  <!-- http://cognitum.eu/african_wildlife#Mary01 -->\r\n",
      "  <owl:NamedIndividual rdf:about=\"http://cognitum.eu/african_wildlife#Mary01\">\r\n",
      "    <rdf:type rdf:resource=\"http://cognitum.eu/african_wildlife#tree\" />\r\n",
      "  </owl:NamedIndividual>\r\n",
      "  <!-- http://cognitum.eu/african_wildlife#Sophie01 -->\r\n",
      "  <owl:NamedIndividual rdf:about=\"http://cognitum.eu/african_wildlife#Sophie01\">\r\n",
      "    <rdf:type rdf:resource=\"http://cognitum.eu/african_wildlife#giraffe\" />\r\n",
      "    <eats rdf:resource=\"http://cognitum.eu/african_wildlife#Leaf01\" />\r\n",
      "  </owl:NamedIndividual>\r\n",
      "  <!-- \r\n",
      "    ///////////////////////////////////////////////////////////////////////////////////////\r\n",
      "    //\r\n",
      "    // General axioms\r\n",
      "    //\r\n",
      "    ///////////////////////////////////////////////////////////////////////////////////////\r\n",
      "     -->\r\n",
      "  <owl:Class>\r\n",
      "    <rdfs:subClassOf rdf:resource=\"http://cognitum.eu/african_wildlife#herb\" />\r\n",
      "    <owl:unionOf rdf:parseType=\"Collection\">\r\n",
      "      <rdf:Description rdf:about=\"http://cognitum.eu/african_wildlife#plant\" />\r\n",
      "      <rdf:Description rdf:about=\"http://cognitum.eu/african_wildlife#plantPart\" />\r\n",
      "    </owl:unionOf>\r\n",
      "  </owl:Class>\r\n",
      "  <rdf:Description>\r\n",
      "    <rdf:type rdf:resource=\"http://www.w3.org/2002/07/owl#AllDisjointClasses\" />\r\n",
      "    <owl:members rdf:parseType=\"Collection\">\r\n",
      "      <rdf:Description rdf:about=\"http://cognitum.eu/african_wildlife#carnivore\" />\r\n",
      "      <rdf:Description rdf:about=\"http://cognitum.eu/african_wildlife#herbivore\" />\r\n",
      "      <rdf:Description rdf:about=\"http://cognitum.eu/african_wildlife#omnivore\" />\r\n",
      "    </owl:members>\r\n",
      "  </rdf:Description>\r\n",
      "  <rdf:Description>\r\n",
      "    <rdf:type rdf:resource=\"http://www.w3.org/2002/07/owl#AllDisjointClasses\" />\r\n",
      "    <owl:members rdf:parseType=\"Collection\">\r\n",
      "      <rdf:Description rdf:about=\"http://cognitum.eu/african_wildlife#branch\" />\r\n",
      "      <rdf:Description rdf:about=\"http://cognitum.eu/african_wildlife#leaf\" />\r\n",
      "      <rdf:Description rdf:about=\"http://cognitum.eu/african_wildlife#twig\" />\r\n",
      "    </owl:members>\r\n",
      "  </rdf:Description>\r\n",
      "</rdf:RDF>\r\n",
      "<!-- Generated by the OWL API (version 3.5.1.c) http://owlapi.sourceforge.net -->\n"
     ]
    }
   ],
   "source": [
    "print(onto.as_rdf())"
   ]
  },
  {
   "cell_type": "code",
   "execution_count": null,
   "metadata": {},
   "outputs": [],
   "source": []
  }
 ],
 "metadata": {
  "kernelspec": {
   "display_name": "Python 3",
   "language": "python",
   "name": "python3"
  },
  "language_info": {
   "codemirror_mode": {
    "name": "ipython",
    "version": 3
   },
   "file_extension": ".py",
   "mimetype": "text/x-python",
   "name": "python",
   "nbconvert_exporter": "python",
   "pygments_lexer": "ipython3",
   "version": "3.7.4"
  },
  "widgets": {
   "application/vnd.jupyter.widget-state+json": {
    "state": {
     "01732923acd64d0b80804b86a06086a6": {
      "model_module": "@jupyter-widgets/controls",
      "model_module_version": "1.4.0",
      "model_name": "VBoxModel",
      "state": {
       "children": [
        "IPY_MODEL_5143fe6b6b2e4bdbb95db4836c07f69f",
        "IPY_MODEL_c7c7716cd5034ec7a3235e29964fa9d9"
       ],
       "layout": "IPY_MODEL_48a844c1f16d4e0f89888a38f9f871b1"
      }
     },
     "0287b64412d1476fac61df9b498195e0": {
      "model_module": "@jupyter-widgets/base",
      "model_module_version": "1.1.0",
      "model_name": "LayoutModel",
      "state": {}
     },
     "037f1754f4dd4ad58c88763c16de89de": {
      "model_module": "@jupyter-widgets/base",
      "model_module_version": "1.1.0",
      "model_name": "LayoutModel",
      "state": {
       "height": "100%",
       "width": "90%"
      }
     },
     "03b3c5826e9e462fa8102da3a1b543ee": {
      "model_module": "@jupyter-widgets/controls",
      "model_module_version": "1.4.0",
      "model_name": "VBoxModel",
      "state": {
       "children": [
        "IPY_MODEL_0e81ba53de50448cba0d67cc1b204ea3",
        "IPY_MODEL_edfd7c1406474ef8b6008fa01533a9f1"
       ],
       "layout": "IPY_MODEL_0c03d2ee143c402dbf620710558f3c20"
      }
     },
     "0529b65148e34a3f84378822394dbb23": {
      "model_module": "@jupyter-widgets/output",
      "model_module_version": "1.0.0",
      "model_name": "OutputModel",
      "state": {
       "layout": "IPY_MODEL_e87806312d1343ce83bb2bb743ba1b80"
      }
     },
     "075ca95d3ff64fdf8542061a5f907fdc": {
      "model_module": "ontoedit",
      "model_module_version": "1.1.0",
      "model_name": "OntoeditModel",
      "state": {
       "_model_module_version": "1.1.0",
       "_view_module_version": "",
       "layout": "IPY_MODEL_ac2b910f6f714657b031543b3c3820f6",
       "value": "Namespace: 'http://cognitum.eu/african_wildlife'.\n\nComment: 'Lets name our instances'.\nComment: 'Lets specify the hierarchy of beings'. \nComment: 'What is what?'.\nEvery ma\nEvery lion is an animal.\nEvery giraffe is an animal.\n\nComment: 'Moreover'.\nEvery impala is an animal.\nEvery omnivore is an animal. \nEvery rock-dassie is an animal.\nEvery warthog is an animal.\nEvery carnivore is an animal.\nEvery herbivore is an animal.\nEvery elephant is a herbivore.\nEvery lion is carnivore.\n\nComment: 'There are also plants there:'.\nEvery tree is a plant.\nEvery grass is a plant.\nEvery palm-tree is a plant.\n\nEvery branch is a plant-part.\nEvery leaf is a plant-part.\nEvery twig is a plant-part.\n\nEvery phloem is a plant-part.\nEvery root is a plant-part.\nEvery parsnip is a root.\nEvery stem is a plant-part.\nEvery xylem is a plant-part.\nEvery fruiting-body is a plant-part.\nEvery berry is a fruiting-body.\nEvery apple is a fruiting-body.\n\nComment: 'We cannot use adjectives directly. To specify adjectives we need to transform them into sets that have form of buzzy-words'.\nEvery tasty-plant is a plant.\nEvery carnivorous-plant is a plant.\n"
      }
     },
     "08826d1d1e2d4efa9364b5d2bafa3c93": {
      "model_module": "@jupyter-widgets/base",
      "model_module_version": "1.1.0",
      "model_name": "LayoutModel",
      "state": {
       "height": "300px"
      }
     },
     "08a658b923de47b7add2517b8353da1a": {
      "model_module": "@jupyter-widgets/base",
      "model_module_version": "1.1.0",
      "model_name": "LayoutModel",
      "state": {}
     },
     "08c30bf83c284e6ebe21cc3249cd99ba": {
      "model_module": "ontoedit",
      "model_module_version": "1.1.0",
      "model_name": "OntoeditModel",
      "state": {
       "_model_module_version": "1.1.0",
       "_view_module_version": "",
       "cursor": 191,
       "hints": "Every<br/>Every-single-thing<br/>If<br/>Leo-01<br/>Mary-01<br/>No<br/>Nothing<br/>Something<br/>Sophie-01<br/>The<br/>X",
       "hintsX": 191,
       "layout": "IPY_MODEL_951c1fa30fea488a8ae1578cede4b5fe",
       "value": "Every carnivorous-plant must eat an animal.\nEvery carnivor must eat an animal.\nEvery omnivore must eat a plant.\nEvery branch must be-part-of a tree.\nEvery plant-part must be-part-of a plant.\n\nComment: 'Role equivalence and inverted roles'.\nX has-part Y if-and-only-if Y is-part-of X.\nX eats Y if-and-only-if Y is-eaten-by X.\n\nComment: 'Role subsumptions'.\nIf X is-part-of Y then X is-part-of Y.\nIf X has-part something that has-part Y then X has-part Y.\n\nComment: 'Complex role subsumptions'.\nIf X is-part-of something that is-part-of Y then X is-part-of Y.\n"
      }
     },
     "0c03d2ee143c402dbf620710558f3c20": {
      "model_module": "@jupyter-widgets/base",
      "model_module_version": "1.1.0",
      "model_name": "LayoutModel",
      "state": {
       "height": "100px"
      }
     },
     "0cfbf011af6241ebbcc675d701aac5be": {
      "model_module": "@jupyter-widgets/controls",
      "model_module_version": "1.4.0",
      "model_name": "VBoxModel",
      "state": {
       "children": [
        "IPY_MODEL_99075eefb8ad4a5087de5fbfbb2e2a8c",
        "IPY_MODEL_26cf7a97df4f42b6af33ce787196e2da"
       ],
       "layout": "IPY_MODEL_4aafc9319e7743f8985cdc669f22cab5"
      }
     },
     "0d966987252949d4be7543c6fca54e91": {
      "model_module": "@jupyter-widgets/controls",
      "model_module_version": "1.4.0",
      "model_name": "VBoxModel",
      "state": {
       "children": [
        "IPY_MODEL_539ad52a012443da82f8fc51ab2f4b6c",
        "IPY_MODEL_a76345918cde4dd4ad4ca081281b94e6"
       ],
       "layout": "IPY_MODEL_5e407b23bfdc4c77a35bf3e583c0e0e6"
      }
     },
     "0e81ba53de50448cba0d67cc1b204ea3": {
      "model_module": "ontoedit",
      "model_module_version": "1.1.0",
      "model_name": "OntoeditModel",
      "state": {
       "_model_module_version": "1.1.0",
       "_view_module_version": "",
       "layout": "IPY_MODEL_a270637c9421471a86a1a5fb0c90358f",
       "value": "eaten by Leo-01"
      }
     },
     "0ee45e2151a74dfeb632f8622dfa620d": {
      "model_module": "@jupyter-widgets/base",
      "model_module_version": "1.1.0",
      "model_name": "LayoutModel",
      "state": {
       "height": "100%",
       "width": "90%"
      }
     },
     "0ee4e8ad62ab43f4b5b438a66a7f42b5": {
      "model_module": "@jupyter-widgets/base",
      "model_module_version": "1.1.0",
      "model_name": "LayoutModel",
      "state": {
       "height": "300px"
      }
     },
     "14a3707b104b4e2eb1eb5423c506f3e0": {
      "model_module": "@jupyter-widgets/output",
      "model_module_version": "1.0.0",
      "model_name": "OutputModel",
      "state": {
       "layout": "IPY_MODEL_39395d43deb54c8e91415baf9aca56b2"
      }
     },
     "156d68322d1e4dd3a0fbfab1be1688bf": {
      "model_module": "@jupyter-widgets/output",
      "model_module_version": "1.0.0",
      "model_name": "OutputModel",
      "state": {
       "layout": "IPY_MODEL_585c9fe15e494126a1116a5e5f8e87e4"
      }
     },
     "1786ad24fa9d463aa9ad86dcacd6b971": {
      "model_module": "@jupyter-widgets/base",
      "model_module_version": "1.1.0",
      "model_name": "LayoutModel",
      "state": {}
     },
     "17f3ad9162db4104a65795f20d5f0075": {
      "model_module": "@jupyter-widgets/base",
      "model_module_version": "1.1.0",
      "model_name": "LayoutModel",
      "state": {
       "height": "100%",
       "width": "90%"
      }
     },
     "194e683e49954beab66c82f87eec0560": {
      "model_module": "ontoedit",
      "model_module_version": "1.1.0",
      "model_name": "OntoeditModel",
      "state": {
       "_model_module_version": "1.1.0",
       "_view_module_version": "",
       "cursor": 15,
       "hints": "&lt;natural number&gt;",
       "hintsX": 9,
       "layout": "IPY_MODEL_54500e1db47043b29c2725eaf17f81f6",
       "value": "eaten by Leo-01"
      }
     },
     "197ff87aa0754c10a5bf9d6054ec2664": {
      "model_module": "@jupyter-widgets/controls",
      "model_module_version": "1.4.0",
      "model_name": "VBoxModel",
      "state": {
       "children": [
        "IPY_MODEL_416b7202da814b9095cb90fed53606c3",
        "IPY_MODEL_dd75b77ca52a43a9868c62b289a4e4e1"
       ],
       "layout": "IPY_MODEL_c7fe458b7f814978a92e90b0b53c295c"
      }
     },
     "1a817713ce83451c8259b7b8600da6fb": {
      "model_module": "@jupyter-widgets/base",
      "model_module_version": "1.1.0",
      "model_name": "LayoutModel",
      "state": {
       "height": "100%",
       "width": "90%"
      }
     },
     "1d27dea574734e228e02e981579f0e48": {
      "model_module": "ontoedit",
      "model_module_version": "1.1.0",
      "model_name": "OntoeditModel",
      "state": {
       "_model_module_version": "1.1.0",
       "_view_module_version": "",
       "layout": "IPY_MODEL_037f1754f4dd4ad58c88763c16de89de",
       "value": "Sophie loves Leo.\nLeo loves Sophie."
      }
     },
     "22275249b4964692bbda1b6c7faf7f47": {
      "model_module": "@jupyter-widgets/controls",
      "model_module_version": "1.4.0",
      "model_name": "VBoxModel",
      "state": {
       "children": [
        "IPY_MODEL_670789803c044d699064f4d8d85c169a",
        "IPY_MODEL_b3aca64dc8c740feae0ac17d0679814c"
       ],
       "layout": "IPY_MODEL_9b0f9a23e3574472b084a63a42c18088"
      }
     },
     "2401f4a10a284f68920b1eb13a0ef3f1": {
      "model_module": "@jupyter-widgets/output",
      "model_module_version": "1.0.0",
      "model_name": "OutputModel",
      "state": {
       "layout": "IPY_MODEL_d810833472c54ff1a38f821261445bdb"
      }
     },
     "260916fd573c4e118c8d6fdeed6c1d4d": {
      "model_module": "@jupyter-widgets/base",
      "model_module_version": "1.1.0",
      "model_name": "LayoutModel",
      "state": {
       "height": "300px"
      }
     },
     "26cf7a97df4f42b6af33ce787196e2da": {
      "model_module": "@jupyter-widgets/output",
      "model_module_version": "1.0.0",
      "model_name": "OutputModel",
      "state": {
       "layout": "IPY_MODEL_c370339aafb24857915cb2b2d2ab7980"
      }
     },
     "27ad5c8d383e457a9920d5cb29f64853": {
      "model_module": "@jupyter-widgets/output",
      "model_module_version": "1.0.0",
      "model_name": "OutputModel",
      "state": {
       "layout": "IPY_MODEL_df59fa382ea5464699bf03b221ac05e1"
      }
     },
     "27cf37417f84476da68ac933a85143a5": {
      "model_module": "ontoedit",
      "model_module_version": "1.1.0",
      "model_name": "OntoeditModel",
      "state": {
       "_model_module_version": "1.1.0",
       "_view_module_version": "",
       "layout": "IPY_MODEL_6834615b88754ba992949979ad4896da",
       "value": "eaten by Leo-01"
      }
     },
     "282ed86a1e9f475ab92778daa6256ae2": {
      "model_module": "@jupyter-widgets/base",
      "model_module_version": "1.1.0",
      "model_name": "LayoutModel",
      "state": {
       "height": "300px"
      }
     },
     "2a02773588a34d31a60ab56ea873ef24": {
      "model_module": "@jupyter-widgets/base",
      "model_module_version": "1.1.0",
      "model_name": "LayoutModel",
      "state": {
       "height": "100%",
       "width": "90%"
      }
     },
     "2a57077dcfc6408f910fcdd1069fb533": {
      "model_module": "@jupyter-widgets/base",
      "model_module_version": "1.1.0",
      "model_name": "LayoutModel",
      "state": {
       "height": "100px"
      }
     },
     "2b1178c8982c4d7f8bd00f05c2a0ab9f": {
      "model_module": "@jupyter-widgets/base",
      "model_module_version": "1.1.0",
      "model_name": "LayoutModel",
      "state": {
       "height": "100%",
       "width": "90%"
      }
     },
     "2ee595c943434b3288bd80d13a391707": {
      "model_module": "@jupyter-widgets/output",
      "model_module_version": "1.0.0",
      "model_name": "OutputModel",
      "state": {
       "layout": "IPY_MODEL_6b665fd9cf6b45d0ade1db84533996f4"
      }
     },
     "30b370db0cbd4590a28eeacadd095188": {
      "model_module": "@jupyter-widgets/controls",
      "model_module_version": "1.4.0",
      "model_name": "VBoxModel",
      "state": {
       "children": [
        "IPY_MODEL_540624d791b04c72a5f6de35ef203a09",
        "IPY_MODEL_5b7a7dc340b8488b8d7616e1a0e4e954"
       ],
       "layout": "IPY_MODEL_6b3a1654ff064f0aaf274b3478288a8f"
      }
     },
     "31026f2d97cf487b9752010b7a2245d8": {
      "model_module": "@jupyter-widgets/base",
      "model_module_version": "1.1.0",
      "model_name": "LayoutModel",
      "state": {
       "height": "300px"
      }
     },
     "31401dde148b42c6b6dee0ee84db65b2": {
      "model_module": "@jupyter-widgets/base",
      "model_module_version": "1.1.0",
      "model_name": "LayoutModel",
      "state": {
       "height": "100%",
       "width": "90%"
      }
     },
     "31f03381b8af43c8b7b31448e2494891": {
      "model_module": "@jupyter-widgets/controls",
      "model_module_version": "1.4.0",
      "model_name": "VBoxModel",
      "state": {
       "children": [
        "IPY_MODEL_830d5ee0e72742cbb9c50e698f8db857",
        "IPY_MODEL_87dbf123720c4818bdda118bfdbb7cda"
       ],
       "layout": "IPY_MODEL_798ac8c8baa148b68188dc60d84de5fe"
      }
     },
     "32c35855b62a47c19571fb460d5624ca": {
      "model_module": "@jupyter-widgets/output",
      "model_module_version": "1.0.0",
      "model_name": "OutputModel",
      "state": {
       "layout": "IPY_MODEL_c2922a5ec6e44f0fa89f7993482f603c"
      }
     },
     "341331d0bde34d979b78eac118690943": {
      "model_module": "@jupyter-widgets/base",
      "model_module_version": "1.1.0",
      "model_name": "LayoutModel",
      "state": {
       "height": "100%",
       "width": "90%"
      }
     },
     "34a127ddc9f3425d855562e734e8582e": {
      "model_module": "@jupyter-widgets/base",
      "model_module_version": "1.1.0",
      "model_name": "LayoutModel",
      "state": {
       "height": "100%",
       "width": "90%"
      }
     },
     "355b5ed96daf48f38e261d20f99eb26b": {
      "model_module": "@jupyter-widgets/controls",
      "model_module_version": "1.4.0",
      "model_name": "VBoxModel",
      "state": {
       "children": [
        "IPY_MODEL_8b7f1503cd5d4af7bedb96db2bc9826b",
        "IPY_MODEL_3d934eb24f9b4005b831504a0e4baa3e"
       ],
       "layout": "IPY_MODEL_0ee4e8ad62ab43f4b5b438a66a7f42b5"
      }
     },
     "379b403b772848b184590efb077753db": {
      "model_module": "@jupyter-widgets/base",
      "model_module_version": "1.1.0",
      "model_name": "LayoutModel",
      "state": {}
     },
     "38238e85b5bb4623a8ef8b3af0729a67": {
      "model_module": "@jupyter-widgets/base",
      "model_module_version": "1.1.0",
      "model_name": "LayoutModel",
      "state": {}
     },
     "39395d43deb54c8e91415baf9aca56b2": {
      "model_module": "@jupyter-widgets/base",
      "model_module_version": "1.1.0",
      "model_name": "LayoutModel",
      "state": {}
     },
     "3b1a40f830074716a6e231843f57b70b": {
      "model_module": "@jupyter-widgets/controls",
      "model_module_version": "1.4.0",
      "model_name": "VBoxModel",
      "state": {
       "children": [
        "IPY_MODEL_913a7e5abd4b49129540cff6ec10a497",
        "IPY_MODEL_c1cc842e2c754beaaa916279adfd386c",
        "IPY_MODEL_7f5f02928259415f96e74be67775d5c4"
       ],
       "layout": "IPY_MODEL_a6c9444b34984cd982b748b663e0080e"
      }
     },
     "3d934eb24f9b4005b831504a0e4baa3e": {
      "model_module": "@jupyter-widgets/output",
      "model_module_version": "1.0.0",
      "model_name": "OutputModel",
      "state": {
       "layout": "IPY_MODEL_f2dac51fb55347f2bf9f5f781b9e4558"
      }
     },
     "3e2147d0702741bbb1963715683ba2ff": {
      "model_module": "@jupyter-widgets/output",
      "model_module_version": "1.0.0",
      "model_name": "OutputModel",
      "state": {
       "layout": "IPY_MODEL_55f4f87242224575b52e41afa40e5e2d"
      }
     },
     "4039c44a6b81427881c64dbe368c3771": {
      "model_module": "@jupyter-widgets/controls",
      "model_module_version": "1.4.0",
      "model_name": "VBoxModel",
      "state": {
       "children": [
        "IPY_MODEL_7ffcc5da836a4772ad6190ded79997f7",
        "IPY_MODEL_156d68322d1e4dd3a0fbfab1be1688bf"
       ],
       "layout": "IPY_MODEL_282ed86a1e9f475ab92778daa6256ae2"
      }
     },
     "416b7202da814b9095cb90fed53606c3": {
      "model_module": "ontoedit",
      "model_module_version": "1.1.0",
      "model_name": "OntoeditModel",
      "state": {
       "_model_module_version": "1.1.0",
       "_view_module_version": "",
       "layout": "IPY_MODEL_bfdcdc39eeb04946a97cd9562372bc04",
       "value": "Sophie loves Leo.\nLeo loves Sophie."
      }
     },
     "42805aa70f7945db96a25007c189bac0": {
      "model_module": "ontoedit",
      "model_module_version": "1.1.0",
      "model_name": "OntoeditModel",
      "state": {
       "_model_module_version": "1.1.0",
       "_view_module_version": "",
       "layout": "IPY_MODEL_d8f23781ffc74fb797fe78016d7b58e4",
       "value": "Every-single-thing that is a plant and-or is a plant-part is a herb.\nNo herb is an animal.\n\nEvery carnivore eats nothing-but animals.\nEvery lion eats nothing-but herbivores.\n\nEvery herbivore eats nothing-but herb.\n\nAnything either is a carnivore, is a herbivore or is an omnivore or-something-else.\nAnything either is a branch, is a leaf or is a twig or-something-else.\n\nNo giraffe is a lion.\nEvery palm-tree is not a tree.\n"
      }
     },
     "43ef90ea44f7483cae76acd6a8bf06db": {
      "model_module": "@jupyter-widgets/base",
      "model_module_version": "1.1.0",
      "model_name": "LayoutModel",
      "state": {
       "height": "100px"
      }
     },
     "44ec82d679cf4ab798e2886850c6b206": {
      "model_module": "@jupyter-widgets/output",
      "model_module_version": "1.0.0",
      "model_name": "OutputModel",
      "state": {
       "layout": "IPY_MODEL_8706eea102804d38bf7ff16d291e3773"
      }
     },
     "44f37380178d4fa0a074af10221c17fa": {
      "model_module": "@jupyter-widgets/base",
      "model_module_version": "1.1.0",
      "model_name": "LayoutModel",
      "state": {
       "height": "100%",
       "width": "90%"
      }
     },
     "45902f4b47f2487fb00f8eafb910887a": {
      "model_module": "@jupyter-widgets/output",
      "model_module_version": "1.0.0",
      "model_name": "OutputModel",
      "state": {
       "layout": "IPY_MODEL_e16c8b4b7cb8450f87b6a37e7c8d2caf"
      }
     },
     "4636ed4b6a9b4aa29f2b8c9efe57f732": {
      "model_module": "ontoedit",
      "model_module_version": "1.1.0",
      "model_name": "OntoeditModel",
      "state": {
       "_model_module_version": "1.1.0",
       "_view_module_version": "",
       "cursor": 199,
       "hints": "Branch-01<br/>Every<br/>Every-single-thing<br/>If<br/>Leo-01<br/>Mary-01<br/>No<br/>Nothing<br/>Something<br/>Sophie-01<br/>The<br/>X",
       "hintsX": 199,
       "layout": "IPY_MODEL_6bc39517a9044c0d95ed9158711c5ff5",
       "value": "Leo-01 is a lion.\nLeo-01 eats Sophie-01.\nSophie-01 is a giraffe.\nSophie-01 eats Leaf-01.\nMary-01 is a tree.\nLeaf-01 is a leaf and is-part-of Branch-02.\nBranch-02 is a branch and is-part-of Branch-01.\nBranch-01 is a branch and is-part-of Mary-01.\nBranch-03 is a branch."
      }
     },
     "46b6bc391f7d47cb95796e1c5effa3cb": {
      "model_module": "@jupyter-widgets/base",
      "model_module_version": "1.1.0",
      "model_name": "LayoutModel",
      "state": {
       "height": "300px"
      }
     },
     "48a844c1f16d4e0f89888a38f9f871b1": {
      "model_module": "@jupyter-widgets/base",
      "model_module_version": "1.1.0",
      "model_name": "LayoutModel",
      "state": {
       "height": "300px"
      }
     },
     "490fd126b35c4016a45f2265268f5ef0": {
      "model_module": "ontoedit",
      "model_module_version": "1.1.0",
      "model_name": "OntoeditModel",
      "state": {
       "_model_module_version": "1.1.0",
       "_view_module_version": "",
       "layout": "IPY_MODEL_2a02773588a34d31a60ab56ea873ef24",
       "value": "Every carnivorous-plant must eat an animal.\nEvery carnivor must eat an animal.\nEvery omnivore must eat a plant.\nEvery branch must be-part-of a tree.\nEvery plant-part must be-part-of a plant.\n\nComment: 'Role equivalence and inverted roles'.\nX has-part Y if-and-only-if Y is-part-of X.\nX eats Y if-and-only-if Y is-eaten-by X.\n\nComment: 'Role subsumptions'.\nIf X is-part-of Y then X is-part-of Y.\nIf X has-part something that has-part Y then X has-part Y.\n\nComment: 'Complex role subsumptions'.\nIf X is-part-of something that is-part-of Y then X is-part-of Y.\n"
      }
     },
     "4974f63235624cb0950d09b959338aac": {
      "model_module": "@jupyter-widgets/controls",
      "model_module_version": "1.4.0",
      "model_name": "VBoxModel",
      "state": {
       "children": [
        "IPY_MODEL_4636ed4b6a9b4aa29f2b8c9efe57f732",
        "IPY_MODEL_8f2ee93c18ed4583894db21311e14ed9"
       ],
       "layout": "IPY_MODEL_df45bd0d614e4f8dbc1d38058dc993e7"
      }
     },
     "4a322469244d444ca5d1bcb372403f27": {
      "model_module": "@jupyter-widgets/base",
      "model_module_version": "1.1.0",
      "model_name": "LayoutModel",
      "state": {
       "height": "100%",
       "width": "90%"
      }
     },
     "4a569f7988e8471dafe05c22d22bd4ea": {
      "model_module": "ontoedit",
      "model_module_version": "1.1.0",
      "model_name": "OntoeditModel",
      "state": {
       "_model_module_version": "1.1.0",
       "_view_module_version": "",
       "cursor": 173,
       "hints": "&lt;Proper-Name&gt;<br/>Every<br/>Every-single-thing<br/>If<br/>No<br/>Nothing<br/>Something<br/>The<br/>X",
       "hintsX": 173,
       "layout": "IPY_MODEL_4a322469244d444ca5d1bcb372403f27",
       "value": "Every-single-thing that is a plant and-or is a plant-part is a herb.\nNo herb is an animal.\n\nEvery carnivore eats nothing-but animals.\nEvery lion eats nothing-but herbivores.\n\nEvery herbivore eats nothing-but herb.\n\nAnything either is a carnivore, is a herbivore or is an omnivore or-something-else.\nAnything either is a branch, is a leaf or is a twig or-something-else.\n\nNo giraffe is a lion.\nEvery palm-tree is not a tree.\n"
      }
     },
     "4aafc9319e7743f8985cdc669f22cab5": {
      "model_module": "@jupyter-widgets/base",
      "model_module_version": "1.1.0",
      "model_name": "LayoutModel",
      "state": {
       "height": "300px"
      }
     },
     "4d3213ec0b2c4ad69c1a66a3369ab474": {
      "model_module": "@jupyter-widgets/controls",
      "model_module_version": "1.4.0",
      "model_name": "VBoxModel",
      "state": {
       "children": [
        "IPY_MODEL_e736dda042e74aac96c321bed782241e",
        "IPY_MODEL_7cb5ce8716bf4a209b03b4910d97a0e2"
       ],
       "layout": "IPY_MODEL_6dfbc4a9245c453fb126ea93c284477f"
      }
     },
     "4d859fd0df3e4b1099684200a4f5ea13": {
      "model_module": "@jupyter-widgets/base",
      "model_module_version": "1.1.0",
      "model_name": "LayoutModel",
      "state": {
       "height": "100%",
       "width": "90%"
      }
     },
     "4f0a97990f8943818fc14ed4fd385830": {
      "model_module": "@jupyter-widgets/output",
      "model_module_version": "1.0.0",
      "model_name": "OutputModel",
      "state": {
       "layout": "IPY_MODEL_ea50e21fc54b4d97b922faa6337bdfe7"
      }
     },
     "5090cbb5c3614e3aa2338670571106e5": {
      "model_module": "@jupyter-widgets/base",
      "model_module_version": "1.1.0",
      "model_name": "LayoutModel",
      "state": {
       "height": "300px"
      }
     },
     "50e4b95344d64a99b4f7543b017bf5a4": {
      "model_module": "@jupyter-widgets/base",
      "model_module_version": "1.1.0",
      "model_name": "LayoutModel",
      "state": {
       "height": "300px"
      }
     },
     "50f1befbf50548f9869037abe911c6c2": {
      "model_module": "@jupyter-widgets/output",
      "model_module_version": "1.0.0",
      "model_name": "OutputModel",
      "state": {
       "layout": "IPY_MODEL_d9c2b88b505b48a4b6c2c57cd93f7776"
      }
     },
     "5143fe6b6b2e4bdbb95db4836c07f69f": {
      "model_module": "ontoedit",
      "model_module_version": "1.1.0",
      "model_name": "OntoeditModel",
      "state": {
       "_model_module_version": "1.1.0",
       "_view_module_version": "",
       "layout": "IPY_MODEL_31401dde148b42c6b6dee0ee84db65b2",
       "value": "Leo-01 is a lion.\nLeo-01 eats Sophie-01.\nSophie-01 is a giraffe.\nLeo-01 eats Mary-01.\nMary-01 is a palm-tree.\n"
      }
     },
     "52741d97d4f0452e8bffb57f6e008c08": {
      "model_module": "ontoedit",
      "model_module_version": "1.1.0",
      "model_name": "OntoeditModel",
      "state": {
       "_model_module_version": "1.1.0",
       "_view_module_version": "",
       "layout": "IPY_MODEL_6533daa061d643ad86927f2662f4d33a",
       "value": "Namespace: 'http://cognitum.eu/african_wildlife'.\n\nComment: 'Let's name our instances'.\nComment: 'Let's specify the hierarchy of beings'. \nComment: 'What is what?'.\nEvery man has a train.\nEvery lion is an animal.\nEvery giraffe is an animal.\n\nEvery animal has a face. \n\nComment: 'Moreover'.\nEvery impala is an animal.\nEvery omnivore is an animal. \nEvery rock-dassie is an animal.\nEvery warthog is an animal.\nEvery carnivore is an animal.\nEvery herbivore is an animal.\nEvery elephant is a herbivore.\nEvery lion is carnivore.\n\nComment: 'There are also plants there:'.\nEvery tree is a plant.\nEvery grass is a plant.\nEvery palm-tree is a plant.\n\nEvery branch is a plant-part.\nEvery leaf is a plant-part.\nEvery twig is a plant-part.\n\nEvery phloem is a plant-part.\nEvery root is a plant-part.\nEvery parsnip is a root.\nEvery stem is a plant-part.\nEvery xylem is a plant-part.\nEvery fruiting-body is a plant-part.\nEvery berry is a fruiting-body.\nEvery apple is a fruiting-body.\n\nComment: 'We cannot use adjectives directly. To specify adjectives we need to transform them into sets that have form of buzzy-words'.\nEvery tasty-plant is a plant.\nEvery carnivorous-plant is a plant.\n"
      }
     },
     "539ad52a012443da82f8fc51ab2f4b6c": {
      "model_module": "ontoedit",
      "model_module_version": "1.1.0",
      "model_name": "OntoeditModel",
      "state": {
       "_model_module_version": "1.1.0",
       "_view_module_version": "",
       "layout": "IPY_MODEL_efcb094f11be4d558dfe247c7614db95",
       "value": "eaten by Leo-01"
      }
     },
     "53d2d5ec4eab4bdf933e894b49974ec1": {
      "model_module": "@jupyter-widgets/base",
      "model_module_version": "1.1.0",
      "model_name": "LayoutModel",
      "state": {
       "height": "100%",
       "width": "90%"
      }
     },
     "540624d791b04c72a5f6de35ef203a09": {
      "model_module": "ontoedit",
      "model_module_version": "1.1.0",
      "model_name": "OntoeditModel",
      "state": {
       "_model_module_version": "1.1.0",
       "_view_module_version": "",
       "cursor": 171,
       "hintT": "!!!SYNTAX ERROR!!!",
       "hints": "!!!SYNTAX ERROR!!!",
       "hintsX": 169,
       "layout": "IPY_MODEL_0ee45e2151a74dfeb632f8622dfa620d",
       "value": "Namespace: 'http://cognitum.eu/african_wildlife'.\n\nComment: 'Lets name our instances'.\nComment: 'Lets specify the hierarchy of beings'. \nComment: 'What is what?'.\nEvery ma\nEvery lion is an animal.\nEvery giraffe is an animal.\n\nComment: 'Moreover'.\nEvery impala is an animal.\nEvery omnivore is an animal. \nEvery rock-dassie is an animal.\nEvery warthog is an animal.\nEvery carnivore is an animal.\nEvery herbivore is an animal.\nEvery elephant is a herbivore.\nEvery lion is carnivore.\n\nComment: 'There are also plants there:'.\nEvery tree is a plant.\nEvery grass is a plant.\nEvery palm-tree is a plant.\n\nEvery branch is a plant-part.\nEvery leaf is a plant-part.\nEvery twig is a plant-part.\n\nEvery phloem is a plant-part.\nEvery root is a plant-part.\nEvery parsnip is a root.\nEvery stem is a plant-part.\nEvery xylem is a plant-part.\nEvery fruiting-body is a plant-part.\nEvery berry is a fruiting-body.\nEvery apple is a fruiting-body.\n\nComment: 'We cannot use adjectives directly. To specify adjectives we need to transform them into sets that have form of buzzy-words'.\nEvery tasty-plant is a plant.\nEvery carnivorous-plant is a plant.\n"
      }
     },
     "54500e1db47043b29c2725eaf17f81f6": {
      "model_module": "@jupyter-widgets/base",
      "model_module_version": "1.1.0",
      "model_name": "LayoutModel",
      "state": {
       "height": "100%",
       "width": "90%"
      }
     },
     "54e213dd70db416783e9f4dd9eb8473a": {
      "model_module": "@jupyter-widgets/controls",
      "model_module_version": "1.4.0",
      "model_name": "VBoxModel",
      "state": {
       "children": [
        "IPY_MODEL_68ff3e69ff0948c7b1d6ea2e0727d6f1",
        "IPY_MODEL_cdb640c492eb40d986642b7b0cf89db1"
       ],
       "layout": "IPY_MODEL_43ef90ea44f7483cae76acd6a8bf06db"
      }
     },
     "55bb21d754f845a0b76771e91480da21": {
      "model_module": "@jupyter-widgets/controls",
      "model_module_version": "1.4.0",
      "model_name": "VBoxModel",
      "state": {
       "children": [
        "IPY_MODEL_08c30bf83c284e6ebe21cc3249cd99ba",
        "IPY_MODEL_8e63218be8c84392b59914249922d662"
       ],
       "layout": "IPY_MODEL_e278e56780d1428c826f7d861d407183"
      }
     },
     "55f4f87242224575b52e41afa40e5e2d": {
      "model_module": "@jupyter-widgets/base",
      "model_module_version": "1.1.0",
      "model_name": "LayoutModel",
      "state": {}
     },
     "56a2eb99cf15417e8568cc49848857f1": {
      "model_module": "ontoedit",
      "model_module_version": "1.1.0",
      "model_name": "OntoeditModel",
      "state": {
       "_model_module_version": "1.1.0",
       "_view_module_version": "",
       "layout": "IPY_MODEL_7e5fec00c2ad42f1b02a76e0e2b34c6d",
       "value": "Every carnivorous-plant must eat an animal.\nEvery carnivor must eat an animal.\nEvery omnivore must eat a plant.\nEvery branch must be-part-of a tree.\nEvery plant-part must be-part-of a plant.\n\nComment: 'Role equivalence and inverted roles'.\nX has-part Y if-and-only-if Y is-part-of X.\nX eats Y if-and-only-if Y is-eaten-by X.\n\nComment: 'Role subsumptions'.\nIf X is-part-of Y then X is-part-of Y.\nIf X has-part something that has-part Y then X has-part Y.\n\nComment: 'Complex role subsumptions'.\nIf X is-part-of something that is-part-of Y then X is-part-of Y.\n"
      }
     },
     "585c9fe15e494126a1116a5e5f8e87e4": {
      "model_module": "@jupyter-widgets/base",
      "model_module_version": "1.1.0",
      "model_name": "LayoutModel",
      "state": {}
     },
     "5aea4cc758c6473193e64e8a9da92f28": {
      "model_module": "@jupyter-widgets/base",
      "model_module_version": "1.1.0",
      "model_name": "LayoutModel",
      "state": {}
     },
     "5b7a7dc340b8488b8d7616e1a0e4e954": {
      "model_module": "@jupyter-widgets/output",
      "model_module_version": "1.0.0",
      "model_name": "OutputModel",
      "state": {
       "layout": "IPY_MODEL_72f03a0887ce493bb7e9983353e95041"
      }
     },
     "5ca39e2e45c9445eb22413a85950317f": {
      "model_module": "@jupyter-widgets/base",
      "model_module_version": "1.1.0",
      "model_name": "LayoutModel",
      "state": {
       "height": "100%",
       "width": "90%"
      }
     },
     "5e407b23bfdc4c77a35bf3e583c0e0e6": {
      "model_module": "@jupyter-widgets/base",
      "model_module_version": "1.1.0",
      "model_name": "LayoutModel",
      "state": {
       "height": "100px"
      }
     },
     "5f92d7eda9e4489591fce827af8d659b": {
      "model_module": "@jupyter-widgets/base",
      "model_module_version": "1.1.0",
      "model_name": "LayoutModel",
      "state": {}
     },
     "6140f382320b46d8bf1bbe77cd6ff9d2": {
      "model_module": "@jupyter-widgets/controls",
      "model_module_version": "1.4.0",
      "model_name": "VBoxModel",
      "state": {
       "children": [
        "IPY_MODEL_63c4a550777447f1896522d0db7ab5f5",
        "IPY_MODEL_50f1befbf50548f9869037abe911c6c2"
       ],
       "layout": "IPY_MODEL_50e4b95344d64a99b4f7543b017bf5a4"
      }
     },
     "637bf119d26145cd9b1c74a314f17fb0": {
      "model_module": "@jupyter-widgets/base",
      "model_module_version": "1.1.0",
      "model_name": "LayoutModel",
      "state": {
       "height": "300px"
      }
     },
     "63c4a550777447f1896522d0db7ab5f5": {
      "model_module": "ontoedit",
      "model_module_version": "1.1.0",
      "model_name": "OntoeditModel",
      "state": {
       "_model_module_version": "1.1.0",
       "_view_module_version": "",
       "cursor": 1198,
       "hints": "Every<br/>Every-single-thing<br/>If<br/>Leo<br/>No<br/>Nothing<br/>Something<br/>Sophie<br/>The<br/>X",
       "hintsX": 1198,
       "layout": "IPY_MODEL_f4ea8cdd8b5c4157a727af4af9d67cb3",
       "value": "Title: 'African Wildlife'.\nAuthor: 'PaweĹ‚ KapĹ‚aĹ„ski'.\nBased-On: \n 'A Semantic Web Primer.'\n 'Antoniou, G, van Harmelen, F.'\n 'MIT Press, 2003.'\n 'http://www.csd.uoc.gr/~hy566/SWbook.pdf'\n.\n\nComment:\n////// Examples of Possible Questions  /////////////////////////////   \n//Who-Or-What:\n// * is a carnivore ?                                      \n// * is an herbivore ?                                         \n// * is an animal that eats grass ?                            \n// * is-part-of a tree ?  \n// * is eaten by lion?           \n////////////////////////////////////////////////////////////////////.\n\n\n\nPart-1: 'simple hierarchy of beings'.\n\nComment: 'Lets name our instances'.\nSophie is a giraffe.\nLeo is a lion.\n\nComment: 'Lets specify the hierarchy of beings'. \nComment: 'What is what?'.\nEvery lion is an animal.\nEvery giraffe is an animal.\n\nComment: 'Moreover'.\nEvery impala is an animal.\nEvery omnivore is an animal.\nEvery rock-dassie is an animal.\nEvery warthog is an animal.\nEvery carnivore is an animal.\nEvery herbivore is an animal.\nEvery elephant is a herbivore.\n\nComment: 'There are also plants there:'.\nEvery tree is a plant.\nEvery grass is a plant.\nEvery palm-tree is a plant.\n\nPart-2: adjectives and specifications.\n\nComment: 'We cannot use adjectives directly'.\nComment: 'To specify adjectives we need to transform them into sets that have form of buzzy-words'.\n\nEvery tasty-plant is a plant.\nEvery carnivorous-plant is a plant.\n\nComment: 'Similarly we can do to make something more and more specific'.\nEvery branch is a plant-part.\nEvery phloem is a plant-part.\nEvery root is a plant-part.\nEvery parsnip is a root.\nEvery stem is a plant-part.\nEvery twig is a plant-part.\nEvery xylem is a plant-part.\nEvery leaf is a plant-part.\nEvery fruiting-body is a plant-part.\nEvery berry is a fruiting-body.\nEvery apple is a fruiting-body.\n\nPart-3: Disjointness.\n\nComment: 'We deal with Open World Assumption, therefore we need to specify explicitly if two things are different'.\nComment: 'E.g.: We need to specify explicitly that animal is not a plant'.\nEvery animal is not a plant.\nEvery giraffe is not a lion.\nEvery palm-tree is not a tree.\n\nComment: 'Or we can use it - it means the same'.\nNo animal is a plant.\n\nPart-4: Simple relations.\n\nComment: To specify relation beetween beings.\nEvery lion eats an impala.\nEvery carnivorous-plant eats an animal.\n\nComment: 'I.e. be part of is a part-whole relation'.\nEvery branch is-part-of a tree.\nEvery plant-part is-proper-part-of a plant.\nEvery xylem is-proper-part-of a stem.\nEvery phloem is-proper-part-of a stem.\n\nComment:  'Specifying the range of relation. The difference? One is that lion eats impala. Second that it eats only herbivore' -> impala must be herbivore.\nEvery lion eats nothing-but herbivores.\n\nPart-5: 'Complex relations'.\n\nEvery palm-tree has-part that is not a branch.\nEvery warthog eats an animal and eats a fruiting-body and eats a grass and eats a root.\nEvery giraffe eats nothing-but things that are leaves and-or are twigs.\nEvery leaf is-part-of something that is a branch and-or is a twig.\nEvery tasty-plant is-eaten-by a carnivore and is-eaten-by a herbivore.\nEvery-single-thing eats nothing-but things that are animals and-or are plants and-or are-part-of animals and-or are-part-of plants.\n\nPart-6: 'Reflexion'.\n\nNothing is-proper-part-of itself.\n\nPart-7: Equivalence.\n\nComment: 'What it means to be a carnivore, omnivore or herbivore? We specify exact definitions here.'.\nEvery-single-thing that eats nothing-but animals and-or eats nothing-but things that are-part-of animals is a carnivore.\nSomething is an omnivore if-and-only-if-it eats an animal and eats a plant and eats something that is-part-of an animal and-or is-part-of a plant.\nSomething is a herbivore if-and-only-if-it eats nothing-but plants and-or eats nothing-but things that are-part-of plants.\n\nPart-8: 'Disjointness'.\n\nAnything either is a carnivore, is a herbivore or is an omnivore or-something-else.\nAnything either is a branch, is a leaf or is a twig or-something-else.\n\nPart-9: 'Relations between roles'.\n\nComment: 'Role equivalence and inverted roles'.\nX has-part Y if-and-only-if Y is-part-of X.\nX eats Y if-and-only-if Y is-eaten-by X.\n\nComment: 'Role subsumptions'.\nIf X is-proper-part-of Y then X is-part-of Y.\nIf X has-part something that has-part Y then X has-part Y.\n\nComment: 'Complex role subsumptions'.\nIf X is-part-of something that is-part-of Y then X is-part-of Y."
      }
     },
     "6533daa061d643ad86927f2662f4d33a": {
      "model_module": "@jupyter-widgets/base",
      "model_module_version": "1.1.0",
      "model_name": "LayoutModel",
      "state": {
       "height": "100%",
       "width": "90%"
      }
     },
     "66578ffca1f043118425062dc0b6f067": {
      "model_module": "@jupyter-widgets/controls",
      "model_module_version": "1.4.0",
      "model_name": "VBoxModel",
      "state": {
       "children": [
        "IPY_MODEL_27cf37417f84476da68ac933a85143a5",
        "IPY_MODEL_f81355e7f2a34681bf8ca14e71dbf938"
       ],
       "layout": "IPY_MODEL_f79246661c1941fb8047812a618edbea"
      }
     },
     "66cefaa10ba1472a846b969c45384ec0": {
      "model_module": "@jupyter-widgets/controls",
      "model_module_version": "1.4.0",
      "model_name": "VBoxModel",
      "state": {
       "children": [
        "IPY_MODEL_6c33a33ec84a476ea62d3b987b12a532",
        "IPY_MODEL_85f2cc17df4e4e429f3682d5f1a9d2a5"
       ],
       "layout": "IPY_MODEL_637bf119d26145cd9b1c74a314f17fb0"
      }
     },
     "670789803c044d699064f4d8d85c169a": {
      "model_module": "ontoedit",
      "model_module_version": "1.1.0",
      "model_name": "OntoeditModel",
      "state": {
       "_model_module_version": "1.1.0",
       "_view_module_version": "",
       "layout": "IPY_MODEL_8e2009ebcf134448a2ad52b7cc6c4b26",
       "value": "Every-single-thing that is a plant and-or is a plant-part is a herb.\nNo herb is an animal.\n\nEvery carnivore eats nothing-but animals.\nEvery lion eats nothing-but herbivores.\n\nEvery herbivore eats nothing-but herb.\n\nAnything either is a carnivore, is a herbivore or is an omnivore or-something-else.\nAnything either is a branch, is a leaf or is a twig or-something-else.\n\nNo giraffe is a lion.\nEvery palm-tree is not a tree.\n"
      }
     },
     "6834615b88754ba992949979ad4896da": {
      "model_module": "@jupyter-widgets/base",
      "model_module_version": "1.1.0",
      "model_name": "LayoutModel",
      "state": {
       "height": "100%",
       "width": "90%"
      }
     },
     "687f88667abb40929c0d1ac2acbc9281": {
      "model_module": "ontoedit",
      "model_module_version": "1.1.0",
      "model_name": "OntoeditModel",
      "state": {
       "_model_module_version": "1.1.0",
       "_view_module_version": "",
       "layout": "IPY_MODEL_df07f4cbd3574e08868b7543bb5cb15a",
       "value": "Leo-01 is a lion.\nLeo-01 eats Sophie-01.\nSophie-01 is a giraffe.\nLeo-01 eats Mary-01.\nMary-01 is a palm-tree.\n"
      }
     },
     "68ff3e69ff0948c7b1d6ea2e0727d6f1": {
      "model_module": "ontoedit",
      "model_module_version": "1.1.0",
      "model_name": "OntoeditModel",
      "state": {
       "_model_module_version": "1.1.0",
       "_view_module_version": "",
       "layout": "IPY_MODEL_2b1178c8982c4d7f8bd00f05c2a0ab9f",
       "value": "an animal that loves "
      }
     },
     "69339d07f80c4b42a0ca64e1e93f2940": {
      "model_module": "@jupyter-widgets/output",
      "model_module_version": "1.0.0",
      "model_name": "OutputModel",
      "state": {
       "layout": "IPY_MODEL_db4059a12cb34224934499d5b329f6c6"
      }
     },
     "6aa31e6afab149709b6959eea67ee56c": {
      "model_module": "@jupyter-widgets/controls",
      "model_module_version": "1.4.0",
      "model_name": "VBoxModel",
      "state": {
       "children": [
        "IPY_MODEL_45902f4b47f2487fb00f8eafb910887a",
        "IPY_MODEL_97e7b2be34da4941b3574d6dcb529205",
        "IPY_MODEL_7cde6c6efb3c4fe7ab570e9500f16346"
       ],
       "layout": "IPY_MODEL_f9ced4f7f8f84c4cbed97f862b03e763"
      }
     },
     "6b3a1654ff064f0aaf274b3478288a8f": {
      "model_module": "@jupyter-widgets/base",
      "model_module_version": "1.1.0",
      "model_name": "LayoutModel",
      "state": {
       "height": "300px"
      }
     },
     "6b665fd9cf6b45d0ade1db84533996f4": {
      "model_module": "@jupyter-widgets/base",
      "model_module_version": "1.1.0",
      "model_name": "LayoutModel",
      "state": {}
     },
     "6bc39517a9044c0d95ed9158711c5ff5": {
      "model_module": "@jupyter-widgets/base",
      "model_module_version": "1.1.0",
      "model_name": "LayoutModel",
      "state": {
       "height": "100%",
       "width": "90%"
      }
     },
     "6c33a33ec84a476ea62d3b987b12a532": {
      "model_module": "ontoedit",
      "model_module_version": "1.1.0",
      "model_name": "OntoeditModel",
      "state": {
       "_model_module_version": "1.1.0",
       "_view_module_version": "",
       "layout": "IPY_MODEL_5ca39e2e45c9445eb22413a85950317f",
       "value": "Leo-01 is a lion.\nLeo-01 eats Sophie-01.\nSophie-01 is a giraffe.\nLeo-01 eats Mary-01.\nMary-01 is a palm-tree.\n"
      }
     },
     "6dfbc4a9245c453fb126ea93c284477f": {
      "model_module": "@jupyter-widgets/base",
      "model_module_version": "1.1.0",
      "model_name": "LayoutModel",
      "state": {
       "height": "300px"
      }
     },
     "6efe96677c81493984458e090777460c": {
      "model_module": "@jupyter-widgets/base",
      "model_module_version": "1.1.0",
      "model_name": "LayoutModel",
      "state": {
       "height": "300px"
      }
     },
     "6fa9e122a4ca4267832285e9f3983bba": {
      "model_module": "@jupyter-widgets/base",
      "model_module_version": "1.1.0",
      "model_name": "LayoutModel",
      "state": {}
     },
     "6ffa4ff23e4f43e1ab1dfa1bec10c4ee": {
      "model_module": "@jupyter-widgets/output",
      "model_module_version": "1.0.0",
      "model_name": "OutputModel",
      "state": {
       "layout": "IPY_MODEL_d54e4a0ee8f44ecbb8074b55bef1cad5"
      }
     },
     "704fa12b89334f67b30097d1c39534c9": {
      "model_module": "@jupyter-widgets/base",
      "model_module_version": "1.1.0",
      "model_name": "LayoutModel",
      "state": {
       "height": "300px"
      }
     },
     "727588c8af22452182710e9c54750d83": {
      "model_module": "@jupyter-widgets/output",
      "model_module_version": "1.0.0",
      "model_name": "OutputModel",
      "state": {
       "layout": "IPY_MODEL_c4809ee837e84bbba2bd1dc44a5cdc69"
      }
     },
     "72b37b61f1ba4540bd4dafa460795b8e": {
      "model_module": "@jupyter-widgets/base",
      "model_module_version": "1.1.0",
      "model_name": "LayoutModel",
      "state": {}
     },
     "72f03a0887ce493bb7e9983353e95041": {
      "model_module": "@jupyter-widgets/base",
      "model_module_version": "1.1.0",
      "model_name": "LayoutModel",
      "state": {}
     },
     "7358c3b0bfc140b7ad1d635020c852a5": {
      "model_module": "@jupyter-widgets/controls",
      "model_module_version": "1.4.0",
      "model_name": "VBoxModel",
      "state": {
       "children": [
        "IPY_MODEL_791a2bc1ba2c4ed98805765076095f71",
        "IPY_MODEL_a551c169f0f44b0d8ed33f34d5a4ea9d"
       ],
       "layout": "IPY_MODEL_2a57077dcfc6408f910fcdd1069fb533"
      }
     },
     "767e327a5f9545d2b9ccc3f617e61e50": {
      "model_module": "@jupyter-widgets/controls",
      "model_module_version": "1.4.0",
      "model_name": "VBoxModel",
      "state": {
       "children": [
        "IPY_MODEL_44ec82d679cf4ab798e2886850c6b206",
        "IPY_MODEL_e65e067cfdfa4e8eabc514464b7e6d79",
        "IPY_MODEL_32c35855b62a47c19571fb460d5624ca"
       ],
       "layout": "IPY_MODEL_6efe96677c81493984458e090777460c"
      }
     },
     "791a2bc1ba2c4ed98805765076095f71": {
      "model_module": "ontoedit",
      "model_module_version": "1.1.0",
      "model_name": "OntoeditModel",
      "state": {
       "_model_module_version": "1.1.0",
       "_view_module_version": "",
       "layout": "IPY_MODEL_99f9f6e0b26a4e73858dfbb6017ccbb8",
       "value": "an animal that loves "
      }
     },
     "798ac8c8baa148b68188dc60d84de5fe": {
      "model_module": "@jupyter-widgets/base",
      "model_module_version": "1.1.0",
      "model_name": "LayoutModel",
      "state": {
       "height": "300px"
      }
     },
     "7cb5ce8716bf4a209b03b4910d97a0e2": {
      "model_module": "@jupyter-widgets/output",
      "model_module_version": "1.0.0",
      "model_name": "OutputModel",
      "state": {
       "layout": "IPY_MODEL_72b37b61f1ba4540bd4dafa460795b8e"
      }
     },
     "7cde6c6efb3c4fe7ab570e9500f16346": {
      "model_module": "@jupyter-widgets/output",
      "model_module_version": "1.0.0",
      "model_name": "OutputModel",
      "state": {
       "layout": "IPY_MODEL_eb7f5c7b600f433dbe22183849e5f30b"
      }
     },
     "7e5fec00c2ad42f1b02a76e0e2b34c6d": {
      "model_module": "@jupyter-widgets/base",
      "model_module_version": "1.1.0",
      "model_name": "LayoutModel",
      "state": {
       "height": "100%",
       "width": "90%"
      }
     },
     "7f5f02928259415f96e74be67775d5c4": {
      "model_module": "@jupyter-widgets/output",
      "model_module_version": "1.0.0",
      "model_name": "OutputModel",
      "state": {
       "layout": "IPY_MODEL_f1e6f830e9f945efb4e325a458679887"
      }
     },
     "7ffcc5da836a4772ad6190ded79997f7": {
      "model_module": "ontoedit",
      "model_module_version": "1.1.0",
      "model_name": "OntoeditModel",
      "state": {
       "_model_module_version": "1.1.0",
       "_view_module_version": "",
       "cursor": 162,
       "hints": "&lt;Proper-Name&gt;<br/>Every<br/>Every-single-thing<br/>If<br/>No<br/>Nothing<br/>Something<br/>The<br/>X",
       "hintsX": 162,
       "layout": "IPY_MODEL_cb714303465343599e7daddd09b77893",
       "value": "Namespace: 'http://cognitum.eu/african_wildlife'.\n\nComment: 'Lets name our instances'.\nComment: 'Lets specify the hierarchy of beings'. \nComment: 'What is what?'.\nEvery man has a train.\nEvery lion is an animal.\nEvery giraffe is an animal.\n\nComment: 'Moreover'.\nEvery impala is an animal.\nEvery omnivore is an animal. \nEvery rock-dassie is an animal.\nEvery warthog is an animal.\nEvery carnivore is an animal.\nEvery herbivore is an animal.\nEvery elephant is a herbivore.\nEvery lion is carnivore.\n\nComment: 'There are also plants there:'.\nEvery tree is a plant.\nEvery grass is a plant.\nEvery palm-tree is a plant.\n\nEvery branch is a plant-part.\nEvery leaf is a plant-part.\nEvery twig is a plant-part.\n\nEvery phloem is a plant-part.\nEvery root is a plant-part.\nEvery parsnip is a root.\nEvery stem is a plant-part.\nEvery xylem is a plant-part.\nEvery fruiting-body is a plant-part.\nEvery berry is a fruiting-body.\nEvery apple is a fruiting-body.\n\nComment: 'We cannot use adjectives directly. To specify adjectives we need to transform them into sets that have form of buzzy-words'.\nEvery tasty-plant is a plant.\nEvery carnivorous-plant is a plant.\n"
      }
     },
     "8299fafb9989402e9259aa0b848881e2": {
      "model_module": "ontoedit",
      "model_module_version": "1.1.0",
      "model_name": "OntoeditModel",
      "state": {
       "_model_module_version": "1.1.0",
       "_view_module_version": "",
       "layout": "IPY_MODEL_17f3ad9162db4104a65795f20d5f0075",
       "value": "Leo-01 is a lion.\nLeo-01 eats Sophie-01.\nSophie-01 is a giraffe.\nSophie-01 eats Leaf-01.\nMary-01 is a tree.\nLeaf-01 is a leaf and is-part-of Branch-02.\nBranch-02 is a branch and is-part-of Branch-01.\nBranch-01 is a branch and is-part-of Mary-01.\nBranch-03 is a branch."
      }
     },
     "830d5ee0e72742cbb9c50e698f8db857": {
      "model_module": "ontoedit",
      "model_module_version": "1.1.0",
      "model_name": "OntoeditModel",
      "state": {
       "_model_module_version": "1.1.0",
       "_view_module_version": "",
       "cursor": 186,
       "hintT": "!!!SYNTAX ERROR!!!\r\n\r\nEvery ma\r\nEvery lion is an animal.",
       "hints": "!!!SYNTAX ERROR!!!\r\n\r\nEvery ma\r\nEvery lion is an animal.",
       "hintsX": 186,
       "layout": "IPY_MODEL_f7410d5947704d05b636e488c607ec0e",
       "value": "Namespace: 'http://cognitum.eu/african_wildlife'.\n\nComment: 'Lets name our instances'.\nComment: 'Lets specify the hierarchy of beings'. \nComment: 'What is what?'.\nEvery man has a train.\nEvery lion is an animal.\nEvery giraffe is an animal.\n\nComment: 'Moreover'.\nEvery impala is an animal.\nEvery omnivore is an animal. \nEvery rock-dassie is an animal.\nEvery warthog is an animal.\nEvery carnivore is an animal.\nEvery herbivore is an animal.\nEvery elephant is a herbivore.\nEvery lion is carnivore.\n\nComment: 'There are also plants there:'.\nEvery tree is a plant.\nEvery grass is a plant.\nEvery palm-tree is a plant.\n\nEvery branch is a plant-part.\nEvery leaf is a plant-part.\nEvery twig is a plant-part.\n\nEvery phloem is a plant-part.\nEvery root is a plant-part.\nEvery parsnip is a root.\nEvery stem is a plant-part.\nEvery xylem is a plant-part.\nEvery fruiting-body is a plant-part.\nEvery berry is a fruiting-body.\nEvery apple is a fruiting-body.\n\nComment: 'We cannot use adjectives directly. To specify adjectives we need to transform them into sets that have form of buzzy-words'.\nEvery tasty-plant is a plant.\nEvery carnivorous-plant is a plant.\n"
      }
     },
     "85f2cc17df4e4e429f3682d5f1a9d2a5": {
      "model_module": "@jupyter-widgets/output",
      "model_module_version": "1.0.0",
      "model_name": "OutputModel",
      "state": {
       "layout": "IPY_MODEL_379b403b772848b184590efb077753db"
      }
     },
     "865ed95805f44073ac10f4b4757bd1a0": {
      "model_module": "@jupyter-widgets/base",
      "model_module_version": "1.1.0",
      "model_name": "LayoutModel",
      "state": {
       "height": "100%",
       "width": "90%"
      }
     },
     "8706eea102804d38bf7ff16d291e3773": {
      "model_module": "@jupyter-widgets/base",
      "model_module_version": "1.1.0",
      "model_name": "LayoutModel",
      "state": {}
     },
     "87dbf123720c4818bdda118bfdbb7cda": {
      "model_module": "@jupyter-widgets/output",
      "model_module_version": "1.0.0",
      "model_name": "OutputModel",
      "state": {
       "layout": "IPY_MODEL_daee7295113f4ab588ec50dacbc01003"
      }
     },
     "88e3f3eb628649cbaa595601364bada4": {
      "model_module": "@jupyter-widgets/base",
      "model_module_version": "1.1.0",
      "model_name": "LayoutModel",
      "state": {
       "height": "300px"
      }
     },
     "89b1bde40ddb4abf9ac1d1cd90dd345a": {
      "model_module": "@jupyter-widgets/base",
      "model_module_version": "1.1.0",
      "model_name": "LayoutModel",
      "state": {
       "height": "100px"
      }
     },
     "8b344392a0d344158becbf95c37546c6": {
      "model_module": "@jupyter-widgets/controls",
      "model_module_version": "1.4.0",
      "model_name": "VBoxModel",
      "state": {
       "children": [
        "IPY_MODEL_56a2eb99cf15417e8568cc49848857f1",
        "IPY_MODEL_f81dc3d2747142f9ac59bd2ccb85dc67"
       ],
       "layout": "IPY_MODEL_f7e95e3d43544ddfb6c69338a006cace"
      }
     },
     "8b52933a93d84df1bc039f960cacf560": {
      "model_module": "@jupyter-widgets/output",
      "model_module_version": "1.0.0",
      "model_name": "OutputModel",
      "state": {
       "layout": "IPY_MODEL_b0bf749d3aa54cb5876f768752e013e2"
      }
     },
     "8b7f1503cd5d4af7bedb96db2bc9826b": {
      "model_module": "ontoedit",
      "model_module_version": "1.1.0",
      "model_name": "OntoeditModel",
      "state": {
       "_model_module_version": "1.1.0",
       "_view_module_version": "",
       "layout": "IPY_MODEL_b18557280c0d4e1b827179460da45136",
       "value": "Leo-01 is a lion.\nLeo-01 eats Sophie-01.\nSophie-01 is a giraffe.\nSophie-01 eats Leaf-01.\nMary-01 is a tree.\nLeaf-01 is a leaf and is-part-of Branch-02.\nBranch-02 is a branch and is-part-of Branch-01.\nBranch-01 is a branch and is-part-of Mary-01.\nBranch-03 is a branch."
      }
     },
     "8e2009ebcf134448a2ad52b7cc6c4b26": {
      "model_module": "@jupyter-widgets/base",
      "model_module_version": "1.1.0",
      "model_name": "LayoutModel",
      "state": {
       "height": "100%",
       "width": "90%"
      }
     },
     "8e63218be8c84392b59914249922d662": {
      "model_module": "@jupyter-widgets/output",
      "model_module_version": "1.0.0",
      "model_name": "OutputModel",
      "state": {
       "layout": "IPY_MODEL_5aea4cc758c6473193e64e8a9da92f28"
      }
     },
     "8f2ee93c18ed4583894db21311e14ed9": {
      "model_module": "@jupyter-widgets/output",
      "model_module_version": "1.0.0",
      "model_name": "OutputModel",
      "state": {
       "layout": "IPY_MODEL_38238e85b5bb4623a8ef8b3af0729a67"
      }
     },
     "91212d33087f4872ab96d1d2adac582a": {
      "model_module": "@jupyter-widgets/output",
      "model_module_version": "1.0.0",
      "model_name": "OutputModel",
      "state": {
       "layout": "IPY_MODEL_6fa9e122a4ca4267832285e9f3983bba"
      }
     },
     "913a7e5abd4b49129540cff6ec10a497": {
      "model_module": "@jupyter-widgets/output",
      "model_module_version": "1.0.0",
      "model_name": "OutputModel",
      "state": {
       "layout": "IPY_MODEL_ab77ec64345341d398b7c723c3d8ea33"
      }
     },
     "951c1fa30fea488a8ae1578cede4b5fe": {
      "model_module": "@jupyter-widgets/base",
      "model_module_version": "1.1.0",
      "model_name": "LayoutModel",
      "state": {
       "height": "100%",
       "width": "90%"
      }
     },
     "9536c1856e8a487d8c68984e25b441ce": {
      "model_module": "@jupyter-widgets/base",
      "model_module_version": "1.1.0",
      "model_name": "LayoutModel",
      "state": {
       "height": "300px"
      }
     },
     "9767af0ad60a4f4f84f6fffb5b1addb8": {
      "model_module": "@jupyter-widgets/base",
      "model_module_version": "1.1.0",
      "model_name": "LayoutModel",
      "state": {}
     },
     "97e7b2be34da4941b3574d6dcb529205": {
      "model_module": "ontoedit",
      "model_module_version": "1.1.0",
      "model_name": "OntoeditModel",
      "state": {
       "_model_module_version": "1.1.0",
       "_view_module_version": "",
       "layout": "IPY_MODEL_53d2d5ec4eab4bdf933e894b49974ec1",
       "value": "Every-single-thing that is a plant and-or is a plant-part is a herb.\nNo herb is an animal.\n\nEvery carnivore eats nothing-but animals.\nEvery lion eats nothing-but herbivores.\n\nEvery herbivore eats nothing-but herb.\n\nAnything either is a carnivore, is a herbivore or is an omnivore or-something-else.\nAnything either is a branch, is a leaf or is a twig or-something-else.\n\nNo giraffe is a lion.\nEvery palm-tree is not a tree.\n"
      }
     },
     "99075eefb8ad4a5087de5fbfbb2e2a8c": {
      "model_module": "ontoedit",
      "model_module_version": "1.1.0",
      "model_name": "OntoeditModel",
      "state": {
       "_model_module_version": "1.1.0",
       "_view_module_version": "",
       "layout": "IPY_MODEL_9febe76887f34e8e9ea439b3d6a469bc",
       "value": "Comment: 'Lets name our instances'.\nComment: 'Lets specify the hierarchy of beings'. \nComment: 'What is what?'.\n\nEvery lion is an animal.\nEvery giraffe is an animal.\n\nComment: 'Moreover'.\nEvery impala is an animal.\nEvery omnivore is an animal.\nEvery rock-dassie is an animal.\nEvery warthog is an animal.\nEvery carnivore is an animal.\nEvery herbivore is an animal.\nEvery elephant is a herbivore.\nEvery lion is carnivore.\n\nComment: 'There are also plants there:'.\nEvery tree is a plant.\nEvery grass is a plant.\nEvery palm-tree is a plant.\n\nEvery branch is a plant-part.\nEvery leaf is a plant-part.\nEvery twig is a plant-part.\n\nEvery phloem is a plant-part.\nEvery root is a plant-part.\nEvery parsnip is a root.\nEvery stem is a plant-part.\nEvery xylem is a plant-part.\nEvery fruiting-body is a plant-part.\nEvery berry is a fruiting-body.\nEvery apple is a fruiting-body.\n\nComment: 'We cannot use adjectives directly. To specify adjectives we need to transform them into sets that have form of buzzy-words'.\nEvery tasty-plant is a plant.\nEvery carnivorous-plant is a plant.\n"
      }
     },
     "99f9f6e0b26a4e73858dfbb6017ccbb8": {
      "model_module": "@jupyter-widgets/base",
      "model_module_version": "1.1.0",
      "model_name": "LayoutModel",
      "state": {
       "height": "100%",
       "width": "90%"
      }
     },
     "9b0f9a23e3574472b084a63a42c18088": {
      "model_module": "@jupyter-widgets/base",
      "model_module_version": "1.1.0",
      "model_name": "LayoutModel",
      "state": {
       "height": "300px"
      }
     },
     "9d7f76b3359049b99071eba73b8dc427": {
      "model_module": "@jupyter-widgets/controls",
      "model_module_version": "1.4.0",
      "model_name": "VBoxModel",
      "state": {
       "children": [
        "IPY_MODEL_4a569f7988e8471dafe05c22d22bd4ea",
        "IPY_MODEL_727588c8af22452182710e9c54750d83"
       ],
       "layout": "IPY_MODEL_9536c1856e8a487d8c68984e25b441ce"
      }
     },
     "9febe76887f34e8e9ea439b3d6a469bc": {
      "model_module": "@jupyter-widgets/base",
      "model_module_version": "1.1.0",
      "model_name": "LayoutModel",
      "state": {
       "height": "100%",
       "width": "90%"
      }
     },
     "a1d343a6e9ab47b999491d584f4d747b": {
      "model_module": "@jupyter-widgets/controls",
      "model_module_version": "1.4.0",
      "model_name": "VBoxModel",
      "state": {
       "children": [
        "IPY_MODEL_42805aa70f7945db96a25007c189bac0",
        "IPY_MODEL_4f0a97990f8943818fc14ed4fd385830"
       ],
       "layout": "IPY_MODEL_c1e34aeacb524c99a1c32e8cc8c9413a"
      }
     },
     "a23f3db72e844fd38d5d05b950980e06": {
      "model_module": "@jupyter-widgets/base",
      "model_module_version": "1.1.0",
      "model_name": "LayoutModel",
      "state": {
       "height": "100%",
       "width": "90%"
      }
     },
     "a270637c9421471a86a1a5fb0c90358f": {
      "model_module": "@jupyter-widgets/base",
      "model_module_version": "1.1.0",
      "model_name": "LayoutModel",
      "state": {
       "height": "100%",
       "width": "90%"
      }
     },
     "a2c7154564514724af74f1f72cd039df": {
      "model_module": "@jupyter-widgets/controls",
      "model_module_version": "1.4.0",
      "model_name": "VBoxModel",
      "state": {
       "children": [
        "IPY_MODEL_194e683e49954beab66c82f87eec0560",
        "IPY_MODEL_e26922aed1324c3cb824535d8f1eba7a"
       ],
       "layout": "IPY_MODEL_89b1bde40ddb4abf9ac1d1cd90dd345a"
      }
     },
     "a551c169f0f44b0d8ed33f34d5a4ea9d": {
      "model_module": "@jupyter-widgets/output",
      "model_module_version": "1.0.0",
      "model_name": "OutputModel",
      "state": {
       "layout": "IPY_MODEL_9767af0ad60a4f4f84f6fffb5b1addb8"
      }
     },
     "a6c9444b34984cd982b748b663e0080e": {
      "model_module": "@jupyter-widgets/base",
      "model_module_version": "1.1.0",
      "model_name": "LayoutModel",
      "state": {
       "height": "300px"
      }
     },
     "a6d8f4abcb594d9c8c0df1d48de451e1": {
      "model_module": "@jupyter-widgets/base",
      "model_module_version": "1.1.0",
      "model_name": "LayoutModel",
      "state": {
       "height": "100%",
       "width": "90%"
      }
     },
     "a76345918cde4dd4ad4ca081281b94e6": {
      "model_module": "@jupyter-widgets/output",
      "model_module_version": "1.0.0",
      "model_name": "OutputModel",
      "state": {
       "layout": "IPY_MODEL_eb60a5c7b71b42e096ca618392a788d4"
      }
     },
     "a83fc2b5087147fda70ef91ec71c9636": {
      "model_module": "ontoedit",
      "model_module_version": "1.1.0",
      "model_name": "OntoeditModel",
      "state": {
       "_model_module_version": "1.1.0",
       "_view_module_version": "",
       "layout": "IPY_MODEL_44f37380178d4fa0a074af10221c17fa",
       "value": "Namespace: 'http://cognitum.eu/african_wildlife'.\n\nComment: 'Lets name our instances'.\nComment: 'Lets specify the hierarchy of beings'. \nComment: 'What is what?'.\nEvery ma\nEvery lion is an animal.\nEvery giraffe is an animal.\n\nComment: 'Moreover'.\nEvery impala is an animal.\nEvery omnivore is an animal. \nEvery rock-dassie is an animal.\nEvery warthog is an animal.\nEvery carnivore is an animal.\nEvery herbivore is an animal.\nEvery elephant is a herbivore.\nEvery lion is carnivore.\n\nComment: 'There are also plants there:'.\nEvery tree is a plant.\nEvery grass is a plant.\nEvery palm-tree is a plant.\n\nEvery branch is a plant-part.\nEvery leaf is a plant-part.\nEvery twig is a plant-part.\n\nEvery phloem is a plant-part.\nEvery root is a plant-part.\nEvery parsnip is a root.\nEvery stem is a plant-part.\nEvery xylem is a plant-part.\nEvery fruiting-body is a plant-part.\nEvery berry is a fruiting-body.\nEvery apple is a fruiting-body.\n\nComment: 'We cannot use adjectives directly. To specify adjectives we need to transform them into sets that have form of buzzy-words'.\nEvery tasty-plant is a plant.\nEvery carnivorous-plant is a plant.\n"
      }
     },
     "ab77ec64345341d398b7c723c3d8ea33": {
      "model_module": "@jupyter-widgets/base",
      "model_module_version": "1.1.0",
      "model_name": "LayoutModel",
      "state": {}
     },
     "ac2b910f6f714657b031543b3c3820f6": {
      "model_module": "@jupyter-widgets/base",
      "model_module_version": "1.1.0",
      "model_name": "LayoutModel",
      "state": {
       "height": "100%",
       "width": "90%"
      }
     },
     "aca02ad5a33a4786af036a02601ea45d": {
      "model_module": "@jupyter-widgets/controls",
      "model_module_version": "1.4.0",
      "model_name": "VBoxModel",
      "state": {
       "children": [
        "IPY_MODEL_6ffa4ff23e4f43e1ab1dfa1bec10c4ee",
        "IPY_MODEL_e95aa04a0587464ba4602b494ff2b472",
        "IPY_MODEL_14a3707b104b4e2eb1eb5423c506f3e0"
       ],
       "layout": "IPY_MODEL_5090cbb5c3614e3aa2338670571106e5"
      }
     },
     "acf1c5a99f7843fd8fe8da70d0aac47f": {
      "model_module": "ontoedit",
      "model_module_version": "1.1.0",
      "model_name": "OntoeditModel",
      "state": {
       "_model_module_version": "1.1.0",
       "_view_module_version": "",
       "cursor": 1198,
       "hints": "Every<br/>Every-single-thing<br/>If<br/>Leo<br/>No<br/>Nothing<br/>Something<br/>Sophie<br/>The<br/>X",
       "hintsX": 1198,
       "layout": "IPY_MODEL_1a817713ce83451c8259b7b8600da6fb",
       "value": "Title: 'African Wildlife'.\nAuthor: 'PaweĹ‚ KapĹ‚aĹ„ski'.\nBased-On: \n 'A Semantic Web Primer.'\n 'Antoniou, G, van Harmelen, F.'\n 'MIT Press, 2003.'\n 'http://www.csd.uoc.gr/~hy566/SWbook.pdf'\n.\n\nComment:\n////// Examples of Possible Questions  /////////////////////////////   \n//Who-Or-What:\n// * is a carnivore ?                                      \n// * is an herbivore ?                                         \n// * is an animal that eats grass ?                            \n// * is-part-of a tree ?  \n// * is eaten by lion?           \n////////////////////////////////////////////////////////////////////.\n\n\n\nPart-1: 'simple hierarchy of beings'.\n\nComment: 'Lets name our instances'.\nSophie is a giraffe.\nLeo is a lion.\n\nComment: 'Lets specify the hierarchy of beings'. \nComment: 'What is what?'.\nEvery lion is an animal.\nEvery giraffe is an animal.\n\nComment: 'Moreover'.\nEvery impala is an animal.\nEvery omnivore is an animal.\nEvery rock-dassie is an animal.\nEvery warthog is an animal.\nEvery carnivore is an animal.\nEvery herbivore is an animal.\nEvery elephant is a herbivore.\n\nComment: 'There are also plants there:'.\nEvery tree is a plant.\nEvery grass is a plant.\nEvery palm-tree is a plant.\n\nPart-2: adjectives and specifications.\n\nComment: 'We cannot use adjectives directly'.\nComment: 'To specify adjectives we need to transform them into sets that have form of buzzy-words'.\n\nEvery tasty-plant is a plant.\nEvery carnivorous-plant is a plant.\n\nComment: 'Similarly we can do to make something more and more specific'.\nEvery branch is a plant-part.\nEvery phloem is a plant-part.\nEvery root is a plant-part.\nEvery parsnip is a root.\nEvery stem is a plant-part.\nEvery twig is a plant-part.\nEvery xylem is a plant-part.\nEvery leaf is a plant-part.\nEvery fruiting-body is a plant-part.\nEvery berry is a fruiting-body.\nEvery apple is a fruiting-body.\n\nPart-3: Disjointness.\n\nComment: 'We deal with Open World Assumption, therefore we need to specify explicitly if two things are different'.\nComment: 'E.g.: We need to specify explicitly that animal is not a plant'.\nEvery animal is not a plant.\nEvery giraffe is not a lion.\nEvery palm-tree is not a tree.\n\nComment: 'Or we can use it - it means the same'.\nNo animal is a plant.\n\nPart-4: Simple relations.\n\nComment: To specify relation beetween beings.\nEvery lion eats an impala.\nEvery carnivorous-plant eats an animal.\n\nComment: 'I.e. be part of is a part-whole relation'.\nEvery branch is-part-of a tree.\nEvery plant-part is-proper-part-of a plant.\nEvery xylem is-proper-part-of a stem.\nEvery phloem is-proper-part-of a stem.\n\nComment:  'Specifying the range of relation. The difference? One is that lion eats impala. Second that it eats only herbivore' -> impala must be herbivore.\nEvery lion eats nothing-but herbivores.\n\nPart-5: 'Complex relations'.\n\nEvery palm-tree has-part that is not a branch.\nEvery warthog eats an animal and eats a fruiting-body and eats a grass and eats a root.\nEvery giraffe eats nothing-but things that are leaves and-or are twigs.\nEvery leaf is-part-of something that is a branch and-or is a twig.\nEvery tasty-plant is-eaten-by a carnivore and is-eaten-by a herbivore.\nEvery-single-thing eats nothing-but things that are animals and-or are plants and-or are-part-of animals and-or are-part-of plants.\n\nPart-6: 'Reflexion'.\n\nNothing is-proper-part-of itself.\n\nPart-7: Equivalence.\n\nComment: 'What it means to be a carnivore, omnivore or herbivore? We specify exact definitions here.'.\nEvery-single-thing that eats nothing-but animals and-or eats nothing-but things that are-part-of animals is a carnivore.\nSomething is an omnivore if-and-only-if-it eats an animal and eats a plant and eats something that is-part-of an animal and-or is-part-of a plant.\nSomething is a herbivore if-and-only-if-it eats nothing-but plants and-or eats nothing-but things that are-part-of plants.\n\nPart-8: 'Disjointness'.\n\nAnything either is a carnivore, is a herbivore or is an omnivore or-something-else.\nAnything either is a branch, is a leaf or is a twig or-something-else.\n\nPart-9: 'Relations between roles'.\n\nComment: 'Role equivalence and inverted roles'.\nX has-part Y if-and-only-if Y is-part-of X.\nX eats Y if-and-only-if Y is-eaten-by X.\n\nComment: 'Role subsumptions'.\nIf X is-proper-part-of Y then X is-part-of Y.\nIf X has-part something that has-part Y then X has-part Y.\n\nComment: 'Complex role subsumptions'.\nIf X is-part-of something that is-part-of Y then X is-part-of Y."
      }
     },
     "b00a9fbb66484f79acacbff96553201c": {
      "model_module": "@jupyter-widgets/output",
      "model_module_version": "1.0.0",
      "model_name": "OutputModel",
      "state": {
       "layout": "IPY_MODEL_da880ed987404926b0e5eef7d96d2e5a"
      }
     },
     "b0bf749d3aa54cb5876f768752e013e2": {
      "model_module": "@jupyter-widgets/base",
      "model_module_version": "1.1.0",
      "model_name": "LayoutModel",
      "state": {}
     },
     "b18557280c0d4e1b827179460da45136": {
      "model_module": "@jupyter-widgets/base",
      "model_module_version": "1.1.0",
      "model_name": "LayoutModel",
      "state": {
       "height": "100%",
       "width": "90%"
      }
     },
     "b3aca64dc8c740feae0ac17d0679814c": {
      "model_module": "@jupyter-widgets/output",
      "model_module_version": "1.0.0",
      "model_name": "OutputModel",
      "state": {
       "layout": "IPY_MODEL_0287b64412d1476fac61df9b498195e0"
      }
     },
     "b6c1708eb8ab423fbc381678654dde18": {
      "model_module": "ontoedit",
      "model_module_version": "1.1.0",
      "model_name": "OntoeditModel",
      "state": {
       "_model_module_version": "1.1.0",
       "_view_module_version": "",
       "cursor": 166,
       "hints": "&lt;Proper-Name&gt;<br/>Every<br/>Every-single-thing<br/>If<br/>No<br/>Nothing<br/>Something<br/>The<br/>X",
       "hintsX": 166,
       "layout": "IPY_MODEL_865ed95805f44073ac10f4b4757bd1a0",
       "value": "Comment: 'Lets name our instances'.\nComment: 'Lets specify the hierarchy of beings'. \nComment: 'What is what?'.\n\nEvery lion is an animal.\nEvery giraffe is an animal.\n\nComment: 'Moreover'.\nEvery impala is an animal.\nEvery omnivore is an animal.\nEvery rock-dassie is an animal.\nEvery warthog is an animal.\nEvery carnivore is an animal.\nEvery herbivore is an animal.\nEvery elephant is a herbivore.\nEvery lion is carnivore.\n\nComment: 'There are also plants there:'.\nEvery tree is a plant.\nEvery grass is a plant.\nEvery palm-tree is a plant.\n\nEvery branch is a plant-part.\nEvery leaf is a plant-part.\nEvery twig is a plant-part.\n\nEvery phloem is a plant-part.\nEvery root is a plant-part.\nEvery parsnip is a root.\nEvery stem is a plant-part.\nEvery xylem is a plant-part.\nEvery fruiting-body is a plant-part.\nEvery berry is a fruiting-body.\nEvery apple is a fruiting-body.\n\nComment: 'We cannot use adjectives directly. To specify adjectives we need to transform them into sets that have form of buzzy-words'.\nEvery tasty-plant is a plant.\nEvery carnivorous-plant is a plant.\n"
      }
     },
     "ba703b23f64a4ac9bc68ac9552802303": {
      "model_module": "@jupyter-widgets/base",
      "model_module_version": "1.1.0",
      "model_name": "LayoutModel",
      "state": {
       "height": "300px"
      }
     },
     "bb14a3aef3864813a7002faff9fc6b16": {
      "model_module": "ontoedit",
      "model_module_version": "1.1.0",
      "model_name": "OntoeditModel",
      "state": {
       "_model_module_version": "1.1.0",
       "_view_module_version": "",
       "cursor": 89,
       "hints": "&lt;natural number&gt;",
       "hintsX": 80,
       "layout": "IPY_MODEL_c17c106402064e86b728cf51a20e3f93",
       "value": "Leo-01 is a lion.\nLeo-01 eats Sophie-01.\nSophie-01 is a giraffe.\nSophie-01 eats Branch-01.\nMary-01 is a tree.\nBranch-01 is a branch and is-proper-part-of Mary-01.\n"
      }
     },
     "bfdcdc39eeb04946a97cd9562372bc04": {
      "model_module": "@jupyter-widgets/base",
      "model_module_version": "1.1.0",
      "model_name": "LayoutModel",
      "state": {
       "height": "100%",
       "width": "90%"
      }
     },
     "c17c106402064e86b728cf51a20e3f93": {
      "model_module": "@jupyter-widgets/base",
      "model_module_version": "1.1.0",
      "model_name": "LayoutModel",
      "state": {
       "height": "100%",
       "width": "90%"
      }
     },
     "c1cc842e2c754beaaa916279adfd386c": {
      "model_module": "ontoedit",
      "model_module_version": "1.1.0",
      "model_name": "OntoeditModel",
      "state": {
       "_model_module_version": "1.1.0",
       "_view_module_version": "",
       "layout": "IPY_MODEL_341331d0bde34d979b78eac118690943",
       "value": "Leo-01 is a lion.\nLeo-01 eats Sophie-01.\nSophie-01 is a giraffe.\nSophie-01 eats Leaf-01.\nMary-01 is a tree.\nLeaf-01 is a leaf and is-part-of Branch-02.\nBranch-02 is a branch and is-part-of Branch-01.\nBranch-01 is a branch and is-part-of Mary-01.\nBranch-03 is a branch."
      }
     },
     "c1e34aeacb524c99a1c32e8cc8c9413a": {
      "model_module": "@jupyter-widgets/base",
      "model_module_version": "1.1.0",
      "model_name": "LayoutModel",
      "state": {
       "height": "300px"
      }
     },
     "c2922a5ec6e44f0fa89f7993482f603c": {
      "model_module": "@jupyter-widgets/base",
      "model_module_version": "1.1.0",
      "model_name": "LayoutModel",
      "state": {}
     },
     "c31ba60b449d4f539dcbf422e55d8814": {
      "model_module": "@jupyter-widgets/base",
      "model_module_version": "1.1.0",
      "model_name": "LayoutModel",
      "state": {}
     },
     "c370339aafb24857915cb2b2d2ab7980": {
      "model_module": "@jupyter-widgets/base",
      "model_module_version": "1.1.0",
      "model_name": "LayoutModel",
      "state": {}
     },
     "c3b494913b23455082fcb63616b57646": {
      "model_module": "@jupyter-widgets/controls",
      "model_module_version": "1.4.0",
      "model_name": "VBoxModel",
      "state": {
       "children": [
        "IPY_MODEL_075ca95d3ff64fdf8542061a5f907fdc",
        "IPY_MODEL_69339d07f80c4b42a0ca64e1e93f2940"
       ],
       "layout": "IPY_MODEL_ce2e3b8fdc324d989c349ad9a641ca61"
      }
     },
     "c4809ee837e84bbba2bd1dc44a5cdc69": {
      "model_module": "@jupyter-widgets/base",
      "model_module_version": "1.1.0",
      "model_name": "LayoutModel",
      "state": {}
     },
     "c7c7716cd5034ec7a3235e29964fa9d9": {
      "model_module": "@jupyter-widgets/output",
      "model_module_version": "1.0.0",
      "model_name": "OutputModel",
      "state": {
       "layout": "IPY_MODEL_ec97c88651864e3ca37f08c0e7906155"
      }
     },
     "c7fe458b7f814978a92e90b0b53c295c": {
      "model_module": "@jupyter-widgets/base",
      "model_module_version": "1.1.0",
      "model_name": "LayoutModel",
      "state": {
       "height": "300px"
      }
     },
     "cb714303465343599e7daddd09b77893": {
      "model_module": "@jupyter-widgets/base",
      "model_module_version": "1.1.0",
      "model_name": "LayoutModel",
      "state": {
       "height": "100%",
       "width": "90%"
      }
     },
     "cbb49564f07a44bdb9bdcc6dc6b14644": {
      "model_module": "@jupyter-widgets/base",
      "model_module_version": "1.1.0",
      "model_name": "LayoutModel",
      "state": {}
     },
     "ccf001a3c0464bea8feb875691549208": {
      "model_module": "@jupyter-widgets/output",
      "model_module_version": "1.0.0",
      "model_name": "OutputModel",
      "state": {
       "layout": "IPY_MODEL_c31ba60b449d4f539dcbf422e55d8814"
      }
     },
     "cdb640c492eb40d986642b7b0cf89db1": {
      "model_module": "@jupyter-widgets/output",
      "model_module_version": "1.0.0",
      "model_name": "OutputModel",
      "state": {
       "layout": "IPY_MODEL_cbb49564f07a44bdb9bdcc6dc6b14644"
      }
     },
     "ce2e3b8fdc324d989c349ad9a641ca61": {
      "model_module": "@jupyter-widgets/base",
      "model_module_version": "1.1.0",
      "model_name": "LayoutModel",
      "state": {
       "height": "300px"
      }
     },
     "d54e4a0ee8f44ecbb8074b55bef1cad5": {
      "model_module": "@jupyter-widgets/base",
      "model_module_version": "1.1.0",
      "model_name": "LayoutModel",
      "state": {}
     },
     "d57f6e38f7004528888075094f48a5c5": {
      "model_module": "@jupyter-widgets/controls",
      "model_module_version": "1.4.0",
      "model_name": "VBoxModel",
      "state": {
       "children": [
        "IPY_MODEL_b00a9fbb66484f79acacbff96553201c",
        "IPY_MODEL_52741d97d4f0452e8bffb57f6e008c08",
        "IPY_MODEL_ccf001a3c0464bea8feb875691549208"
       ],
       "layout": "IPY_MODEL_31026f2d97cf487b9752010b7a2245d8"
      }
     },
     "d66764a2add44d99aa42b9900ec34efa": {
      "model_module": "@jupyter-widgets/controls",
      "model_module_version": "1.4.0",
      "model_name": "VBoxModel",
      "state": {
       "children": [
        "IPY_MODEL_8299fafb9989402e9259aa0b848881e2",
        "IPY_MODEL_2ee595c943434b3288bd80d13a391707"
       ],
       "layout": "IPY_MODEL_260916fd573c4e118c8d6fdeed6c1d4d"
      }
     },
     "d6c24200739c486fa395a2d6f15f4c29": {
      "model_module": "@jupyter-widgets/controls",
      "model_module_version": "1.4.0",
      "model_name": "VBoxModel",
      "state": {
       "children": [
        "IPY_MODEL_b6c1708eb8ab423fbc381678654dde18",
        "IPY_MODEL_91212d33087f4872ab96d1d2adac582a"
       ],
       "layout": "IPY_MODEL_d786ada62a30448b8081a35a036fbf3d"
      }
     },
     "d786ada62a30448b8081a35a036fbf3d": {
      "model_module": "@jupyter-widgets/base",
      "model_module_version": "1.1.0",
      "model_name": "LayoutModel",
      "state": {
       "height": "300px"
      }
     },
     "d810833472c54ff1a38f821261445bdb": {
      "model_module": "@jupyter-widgets/base",
      "model_module_version": "1.1.0",
      "model_name": "LayoutModel",
      "state": {}
     },
     "d8f23781ffc74fb797fe78016d7b58e4": {
      "model_module": "@jupyter-widgets/base",
      "model_module_version": "1.1.0",
      "model_name": "LayoutModel",
      "state": {
       "height": "100%",
       "width": "90%"
      }
     },
     "d9c2b88b505b48a4b6c2c57cd93f7776": {
      "model_module": "@jupyter-widgets/base",
      "model_module_version": "1.1.0",
      "model_name": "LayoutModel",
      "state": {}
     },
     "d9cb1abd82e245e987efdff390856b01": {
      "model_module": "@jupyter-widgets/base",
      "model_module_version": "1.1.0",
      "model_name": "LayoutModel",
      "state": {}
     },
     "da880ed987404926b0e5eef7d96d2e5a": {
      "model_module": "@jupyter-widgets/base",
      "model_module_version": "1.1.0",
      "model_name": "LayoutModel",
      "state": {}
     },
     "daee7295113f4ab588ec50dacbc01003": {
      "model_module": "@jupyter-widgets/base",
      "model_module_version": "1.1.0",
      "model_name": "LayoutModel",
      "state": {}
     },
     "db4059a12cb34224934499d5b329f6c6": {
      "model_module": "@jupyter-widgets/base",
      "model_module_version": "1.1.0",
      "model_name": "LayoutModel",
      "state": {}
     },
     "db6bc8d6d0d54e2484718dee857e30e1": {
      "model_module": "@jupyter-widgets/base",
      "model_module_version": "1.1.0",
      "model_name": "LayoutModel",
      "state": {}
     },
     "dc33986a1b82473796f0e43e7b8960d2": {
      "model_module": "@jupyter-widgets/controls",
      "model_module_version": "1.4.0",
      "model_name": "VBoxModel",
      "state": {
       "children": [
        "IPY_MODEL_490fd126b35c4016a45f2265268f5ef0",
        "IPY_MODEL_27ad5c8d383e457a9920d5cb29f64853"
       ],
       "layout": "IPY_MODEL_f2d6e500963644e1ace9c82d3d895f68"
      }
     },
     "dd75b77ca52a43a9868c62b289a4e4e1": {
      "model_module": "@jupyter-widgets/output",
      "model_module_version": "1.0.0",
      "model_name": "OutputModel",
      "state": {
       "layout": "IPY_MODEL_db6bc8d6d0d54e2484718dee857e30e1"
      }
     },
     "df07f4cbd3574e08868b7543bb5cb15a": {
      "model_module": "@jupyter-widgets/base",
      "model_module_version": "1.1.0",
      "model_name": "LayoutModel",
      "state": {
       "height": "100%",
       "width": "90%"
      }
     },
     "df45bd0d614e4f8dbc1d38058dc993e7": {
      "model_module": "@jupyter-widgets/base",
      "model_module_version": "1.1.0",
      "model_name": "LayoutModel",
      "state": {
       "height": "300px"
      }
     },
     "df59fa382ea5464699bf03b221ac05e1": {
      "model_module": "@jupyter-widgets/base",
      "model_module_version": "1.1.0",
      "model_name": "LayoutModel",
      "state": {}
     },
     "e16c8b4b7cb8450f87b6a37e7c8d2caf": {
      "model_module": "@jupyter-widgets/base",
      "model_module_version": "1.1.0",
      "model_name": "LayoutModel",
      "state": {}
     },
     "e18af0cea30b4af3a6cf1099f055219c": {
      "model_module": "@jupyter-widgets/controls",
      "model_module_version": "1.4.0",
      "model_name": "VBoxModel",
      "state": {
       "children": [
        "IPY_MODEL_e1d32be0fd784adb901538ecaea234af",
        "IPY_MODEL_e5a39ffce83d482a9bb07ef05f75f0c2"
       ],
       "layout": "IPY_MODEL_ba703b23f64a4ac9bc68ac9552802303"
      }
     },
     "e1d32be0fd784adb901538ecaea234af": {
      "model_module": "ontoedit",
      "model_module_version": "1.1.0",
      "model_name": "OntoeditModel",
      "state": {
       "_model_module_version": "1.1.0",
       "_view_module_version": "",
       "layout": "IPY_MODEL_a23f3db72e844fd38d5d05b950980e06",
       "value": "Every-single-thing that is a plant and-or is a plant-part is a herb.\nNo herb is an animal.\n\nEvery carnivore eats nothing-but animals.\nEvery lion eats nothing-but herbivores.\n\nEvery herbivore eats nothing-but herb.\n\nAnything either is a carnivore, is a herbivore or is an omnivore or-something-else.\nAnything either is a branch, is a leaf or is a twig or-something-else.\n\nNo giraffe is a lion.\nEvery palm-tree is not a tree.\n"
      }
     },
     "e26922aed1324c3cb824535d8f1eba7a": {
      "model_module": "@jupyter-widgets/output",
      "model_module_version": "1.0.0",
      "model_name": "OutputModel",
      "state": {
       "layout": "IPY_MODEL_08a658b923de47b7add2517b8353da1a"
      }
     },
     "e278e56780d1428c826f7d861d407183": {
      "model_module": "@jupyter-widgets/base",
      "model_module_version": "1.1.0",
      "model_name": "LayoutModel",
      "state": {
       "height": "300px"
      }
     },
     "e445e8ca520940b8aa5759ab19428243": {
      "model_module": "@jupyter-widgets/base",
      "model_module_version": "1.1.0",
      "model_name": "LayoutModel",
      "state": {
       "height": "300px"
      }
     },
     "e47665c42c1e462aa1fcecac0816fa09": {
      "model_module": "@jupyter-widgets/controls",
      "model_module_version": "1.4.0",
      "model_name": "VBoxModel",
      "state": {
       "children": [
        "IPY_MODEL_1d27dea574734e228e02e981579f0e48",
        "IPY_MODEL_3e2147d0702741bbb1963715683ba2ff"
       ],
       "layout": "IPY_MODEL_704fa12b89334f67b30097d1c39534c9"
      }
     },
     "e4e340eba47048e182a7727741432dc5": {
      "model_module": "@jupyter-widgets/controls",
      "model_module_version": "1.4.0",
      "model_name": "VBoxModel",
      "state": {
       "children": [
        "IPY_MODEL_a83fc2b5087147fda70ef91ec71c9636",
        "IPY_MODEL_0529b65148e34a3f84378822394dbb23"
       ],
       "layout": "IPY_MODEL_46b6bc391f7d47cb95796e1c5effa3cb"
      }
     },
     "e5a39ffce83d482a9bb07ef05f75f0c2": {
      "model_module": "@jupyter-widgets/output",
      "model_module_version": "1.0.0",
      "model_name": "OutputModel",
      "state": {
       "layout": "IPY_MODEL_efae18bdcab04718b11c37b244e41d0f"
      }
     },
     "e65e067cfdfa4e8eabc514464b7e6d79": {
      "model_module": "ontoedit",
      "model_module_version": "1.1.0",
      "model_name": "OntoeditModel",
      "state": {
       "_model_module_version": "1.1.0",
       "_view_module_version": "",
       "layout": "IPY_MODEL_4d859fd0df3e4b1099684200a4f5ea13",
       "value": "Every carnivorous-plant must eat an animal.\nEvery carnivor must eat an animal.\nEvery omnivore must eat a plant.\nEvery branch must be-part-of a tree.\nEvery plant-part must be-part-of a plant.\n\nComment: 'Role equivalence and inverted roles'.\nX has-part Y if-and-only-if Y is-part-of X.\nX eats Y if-and-only-if Y is-eaten-by X.\n\nComment: 'Role subsumptions'.\nIf X is-part-of Y then X is-part-of Y.\nIf X has-part something that has-part Y then X has-part Y.\n\nComment: 'Complex role subsumptions'.\nIf X is-part-of something that is-part-of Y then X is-part-of Y.\n"
      }
     },
     "e736dda042e74aac96c321bed782241e": {
      "model_module": "ontoedit",
      "model_module_version": "1.1.0",
      "model_name": "OntoeditModel",
      "state": {
       "_model_module_version": "1.1.0",
       "_view_module_version": "",
       "layout": "IPY_MODEL_34a127ddc9f3425d855562e734e8582e"
      }
     },
     "e87806312d1343ce83bb2bb743ba1b80": {
      "model_module": "@jupyter-widgets/base",
      "model_module_version": "1.1.0",
      "model_name": "LayoutModel",
      "state": {}
     },
     "e95aa04a0587464ba4602b494ff2b472": {
      "model_module": "ontoedit",
      "model_module_version": "1.1.0",
      "model_name": "OntoeditModel",
      "state": {
       "_model_module_version": "1.1.0",
       "_view_module_version": "",
       "layout": "IPY_MODEL_a6d8f4abcb594d9c8c0df1d48de451e1",
       "value": "Leo-01 is a lion.\nLeo-01 eats Sophie-01.\nSophie-01 is a giraffe.\nLeo-01 eats Mary-01.\nMary-01 is a palm-tree.\n"
      }
     },
     "ea50e21fc54b4d97b922faa6337bdfe7": {
      "model_module": "@jupyter-widgets/base",
      "model_module_version": "1.1.0",
      "model_name": "LayoutModel",
      "state": {}
     },
     "eb60a5c7b71b42e096ca618392a788d4": {
      "model_module": "@jupyter-widgets/base",
      "model_module_version": "1.1.0",
      "model_name": "LayoutModel",
      "state": {}
     },
     "eb7f5c7b600f433dbe22183849e5f30b": {
      "model_module": "@jupyter-widgets/base",
      "model_module_version": "1.1.0",
      "model_name": "LayoutModel",
      "state": {}
     },
     "ec97c88651864e3ca37f08c0e7906155": {
      "model_module": "@jupyter-widgets/base",
      "model_module_version": "1.1.0",
      "model_name": "LayoutModel",
      "state": {}
     },
     "edb2db2d34c248249a938a00c0f98a07": {
      "model_module": "@jupyter-widgets/base",
      "model_module_version": "1.1.0",
      "model_name": "LayoutModel",
      "state": {}
     },
     "edfd7c1406474ef8b6008fa01533a9f1": {
      "model_module": "@jupyter-widgets/output",
      "model_module_version": "1.0.0",
      "model_name": "OutputModel",
      "state": {
       "layout": "IPY_MODEL_d9cb1abd82e245e987efdff390856b01"
      }
     },
     "ee2dd188cbe048cd98f09aa693d4aae4": {
      "model_module": "@jupyter-widgets/controls",
      "model_module_version": "1.4.0",
      "model_name": "VBoxModel",
      "state": {
       "children": [
        "IPY_MODEL_bb14a3aef3864813a7002faff9fc6b16",
        "IPY_MODEL_ef6cc581fc9c483fa9f40c0299bb4106"
       ],
       "layout": "IPY_MODEL_88e3f3eb628649cbaa595601364bada4"
      }
     },
     "ef6cc581fc9c483fa9f40c0299bb4106": {
      "model_module": "@jupyter-widgets/output",
      "model_module_version": "1.0.0",
      "model_name": "OutputModel",
      "state": {
       "layout": "IPY_MODEL_1786ad24fa9d463aa9ad86dcacd6b971"
      }
     },
     "efae18bdcab04718b11c37b244e41d0f": {
      "model_module": "@jupyter-widgets/base",
      "model_module_version": "1.1.0",
      "model_name": "LayoutModel",
      "state": {}
     },
     "efcb094f11be4d558dfe247c7614db95": {
      "model_module": "@jupyter-widgets/base",
      "model_module_version": "1.1.0",
      "model_name": "LayoutModel",
      "state": {
       "height": "100%",
       "width": "90%"
      }
     },
     "f0f6655efb3d4a67824e88522b093252": {
      "model_module": "@jupyter-widgets/controls",
      "model_module_version": "1.4.0",
      "model_name": "VBoxModel",
      "state": {
       "children": [
        "IPY_MODEL_687f88667abb40929c0d1ac2acbc9281",
        "IPY_MODEL_2401f4a10a284f68920b1eb13a0ef3f1"
       ],
       "layout": "IPY_MODEL_08826d1d1e2d4efa9364b5d2bafa3c93"
      }
     },
     "f1b9951724734f07987cdd4aef154383": {
      "model_module": "@jupyter-widgets/controls",
      "model_module_version": "1.4.0",
      "model_name": "VBoxModel",
      "state": {
       "children": [
        "IPY_MODEL_acf1c5a99f7843fd8fe8da70d0aac47f",
        "IPY_MODEL_8b52933a93d84df1bc039f960cacf560"
       ],
       "layout": "IPY_MODEL_e445e8ca520940b8aa5759ab19428243"
      }
     },
     "f1e6f830e9f945efb4e325a458679887": {
      "model_module": "@jupyter-widgets/base",
      "model_module_version": "1.1.0",
      "model_name": "LayoutModel",
      "state": {}
     },
     "f2d6e500963644e1ace9c82d3d895f68": {
      "model_module": "@jupyter-widgets/base",
      "model_module_version": "1.1.0",
      "model_name": "LayoutModel",
      "state": {
       "height": "300px"
      }
     },
     "f2dac51fb55347f2bf9f5f781b9e4558": {
      "model_module": "@jupyter-widgets/base",
      "model_module_version": "1.1.0",
      "model_name": "LayoutModel",
      "state": {}
     },
     "f4ea8cdd8b5c4157a727af4af9d67cb3": {
      "model_module": "@jupyter-widgets/base",
      "model_module_version": "1.1.0",
      "model_name": "LayoutModel",
      "state": {
       "height": "100%",
       "width": "90%"
      }
     },
     "f7410d5947704d05b636e488c607ec0e": {
      "model_module": "@jupyter-widgets/base",
      "model_module_version": "1.1.0",
      "model_name": "LayoutModel",
      "state": {
       "height": "100%",
       "width": "90%"
      }
     },
     "f79246661c1941fb8047812a618edbea": {
      "model_module": "@jupyter-widgets/base",
      "model_module_version": "1.1.0",
      "model_name": "LayoutModel",
      "state": {
       "height": "100px"
      }
     },
     "f7e95e3d43544ddfb6c69338a006cace": {
      "model_module": "@jupyter-widgets/base",
      "model_module_version": "1.1.0",
      "model_name": "LayoutModel",
      "state": {
       "height": "300px"
      }
     },
     "f81355e7f2a34681bf8ca14e71dbf938": {
      "model_module": "@jupyter-widgets/output",
      "model_module_version": "1.0.0",
      "model_name": "OutputModel",
      "state": {
       "layout": "IPY_MODEL_edb2db2d34c248249a938a00c0f98a07"
      }
     },
     "f81dc3d2747142f9ac59bd2ccb85dc67": {
      "model_module": "@jupyter-widgets/output",
      "model_module_version": "1.0.0",
      "model_name": "OutputModel",
      "state": {
       "layout": "IPY_MODEL_5f92d7eda9e4489591fce827af8d659b"
      }
     },
     "f9ced4f7f8f84c4cbed97f862b03e763": {
      "model_module": "@jupyter-widgets/base",
      "model_module_version": "1.1.0",
      "model_name": "LayoutModel",
      "state": {
       "height": "300px"
      }
     }
    },
    "version_major": 2,
    "version_minor": 0
   }
  }
 },
 "nbformat": 4,
 "nbformat_minor": 2
}
